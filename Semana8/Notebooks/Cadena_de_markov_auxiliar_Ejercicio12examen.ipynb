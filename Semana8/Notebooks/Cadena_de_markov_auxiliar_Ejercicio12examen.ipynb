{
  "nbformat": 4,
  "nbformat_minor": 0,
  "metadata": {
    "colab": {
      "name": "Cadena de markov auxiliar_Ejercicio12examen.ipynb",
      "provenance": [],
      "authorship_tag": "ABX9TyO/BJDkWgrMyKIR7l0E+OUW",
      "include_colab_link": true
    },
    "kernelspec": {
      "name": "python3",
      "display_name": "Python 3"
    },
    "language_info": {
      "name": "python"
    }
  },
  "cells": [
    {
      "cell_type": "markdown",
      "metadata": {
        "id": "view-in-github",
        "colab_type": "text"
      },
      "source": [
        "<a href=\"https://colab.research.google.com/github/AnIsAsPe/Estadistica_y_Probabilidad_para-CD-/blob/main/Semana8/Notebooks/Cadena_de_markov_auxiliar_Ejercicio12examen.ipynb\" target=\"_parent\"><img src=\"https://colab.research.google.com/assets/colab-badge.svg\" alt=\"Open In Colab\"/></a>"
      ]
    },
    {
      "cell_type": "code",
      "metadata": {
        "id": "6GzmSHH_Hl12"
      },
      "source": [
        "import numpy as np\n",
        "import pandas as pd\n",
        "import scipy.stats as stats"
      ],
      "execution_count": 1,
      "outputs": []
    },
    {
      "cell_type": "markdown",
      "metadata": {
        "id": "ueKojydcaMPL"
      },
      "source": [
        "Debemos simular una cadena de markov (matriz de transición) auxiliar para encontrar $p\\in[0,1]$"
      ]
    },
    {
      "cell_type": "code",
      "metadata": {
        "id": "HoQWFyUZNlLZ"
      },
      "source": [
        "# Inicializamos la matriz de transición en ceros\n",
        "def cmarkov_auxiliar(bins, r):\n",
        "  '''Función que devuelve una cadena de Markov cuya probabilidad de pasar de un \n",
        "  estado(p0) a otro(p1) está dado por :\n",
        "  a) α = 1/r,  cuando el estado p1 se encuentra en el interválo comprendido \n",
        "  entre el estado p0 menos la resta modular de r/2 y el  estado p0 más la suma \n",
        "  modular de r/2\n",
        "  b) α = 0 en cualquier otro caso'''\n",
        "\n",
        "\n",
        "  estados = np.arange(0,bins)/bins     # discretizamos la variable continua p que va desde 0 hasta 1\n",
        "  MT = pd.DataFrame(np.zeros((bins,bins)), index = estados, columns = estados)\n",
        "\n",
        "  for p0 in MT.index:\n",
        "        for p1 in MT.columns:\n",
        "              if (p1 >= (p0 - r /2) % 1) and p1 <= (p0 + r /2) % 1:\n",
        "                    α = 1/r\n",
        "              else:\n",
        "                    α = 0\n",
        "              MT.loc[p0,p1] = α\n",
        "  \n",
        "  MT = MT.div(MT.sum(axis=1), axis=0).fillna(0)\n",
        "  return MT\n"
      ],
      "execution_count": 122,
      "outputs": []
    },
    {
      "cell_type": "code",
      "metadata": {
        "colab": {
          "base_uri": "https://localhost:8080/"
        },
        "id": "UkWHnawu-iox",
        "outputId": "f6939970-18ec-411d-d6af-e74e64912696"
      },
      "source": [
        "MT = cmarkov_auxiliar(bins=100, r =.1)\n",
        "MT.iloc[0:20]#.sum(axis=1)"
      ],
      "execution_count": 154,
      "outputs": [
        {
          "output_type": "execute_result",
          "data": {
            "text/plain": [
              "0.00    0.0\n",
              "0.01    0.0\n",
              "0.02    0.0\n",
              "0.03    0.0\n",
              "0.04    0.0\n",
              "0.05    1.0\n",
              "0.06    1.0\n",
              "0.07    1.0\n",
              "0.08    1.0\n",
              "0.09    1.0\n",
              "0.10    1.0\n",
              "0.11    1.0\n",
              "0.12    1.0\n",
              "0.13    1.0\n",
              "0.14    1.0\n",
              "0.15    1.0\n",
              "0.16    1.0\n",
              "0.17    1.0\n",
              "0.18    1.0\n",
              "0.19    1.0\n",
              "dtype: float64"
            ]
          },
          "metadata": {
            "tags": []
          },
          "execution_count": 154
        }
      ]
    },
    {
      "cell_type": "markdown",
      "metadata": {
        "id": "EYeuaVftoOg4"
      },
      "source": [
        "# Suma y resta modular"
      ]
    },
    {
      "cell_type": "code",
      "metadata": {
        "colab": {
          "base_uri": "https://localhost:8080/"
        },
        "id": "OxSfjCzYOSOK",
        "outputId": "c3f4034c-7b2a-41bb-d0a1-d272b9f722c9"
      },
      "source": [
        "suma_modular = (0.6 + 0.8) % 1\n",
        "print(suma_modular)\n",
        "print(round(suma_modular, 1))"
      ],
      "execution_count": 34,
      "outputs": [
        {
          "output_type": "stream",
          "text": [
            "0.3999999999999999\n",
            "0.4\n"
          ],
          "name": "stdout"
        }
      ]
    },
    {
      "cell_type": "code",
      "metadata": {
        "colab": {
          "base_uri": "https://localhost:8080/"
        },
        "id": "k51aIL7mX_tS",
        "outputId": "b858e202-3697-4c40-9590-058363d74064"
      },
      "source": [
        "resta_modular = (0.6 - 0.8) % 1\n",
        "print(resta_modular)\n",
        "print(round(resta_modular, 1))"
      ],
      "execution_count": 35,
      "outputs": [
        {
          "output_type": "stream",
          "text": [
            "0.7999999999999999\n",
            "0.8\n"
          ],
          "name": "stdout"
        }
      ]
    }
  ]
}