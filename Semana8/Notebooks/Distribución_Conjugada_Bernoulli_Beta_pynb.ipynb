{
  "nbformat": 4,
  "nbformat_minor": 0,
  "metadata": {
    "colab": {
      "name": "Distribución Conjugada Bernoulli-Beta.pynb",
      "provenance": [],
      "toc_visible": true,
      "authorship_tag": "ABX9TyMcbrrb5EM6AyN/S7i08PXN",
      "include_colab_link": true
    },
    "kernelspec": {
      "name": "python3",
      "display_name": "Python 3"
    },
    "language_info": {
      "name": "python"
    }
  },
  "cells": [
    {
      "cell_type": "markdown",
      "metadata": {
        "id": "view-in-github",
        "colab_type": "text"
      },
      "source": [
        "<a href=\"https://colab.research.google.com/github/AnIsAsPe/Estadistica_y_Probabilidad_para-CD-/blob/main/Semana8/Notebooks/Distribuci%C3%B3n_Conjugada_Bernoulli_Beta_pynb.ipynb\" target=\"_parent\"><img src=\"https://colab.research.google.com/assets/colab-badge.svg\" alt=\"Open In Colab\"/></a>"
      ]
    },
    {
      "cell_type": "markdown",
      "metadata": {
        "id": "IFqOpiwMwmvq"
      },
      "source": [
        "$P(p\\mid s) = \\frac{P(s\\mid p)~~P(p)}{P(s)}$"
      ]
    },
    {
      "cell_type": "code",
      "metadata": {
        "id": "11LmuROzUBX8"
      },
      "source": [
        "import numpy as np\n",
        "from numpy import exp\n",
        "import random\n",
        "\n",
        "import matplotlib.pyplot as plt"
      ],
      "execution_count": null,
      "outputs": []
    },
    {
      "cell_type": "markdown",
      "metadata": {
        "id": "ThQjfBnKptRq"
      },
      "source": [
        "considere la siguiente muestra"
      ]
    },
    {
      "cell_type": "code",
      "metadata": {
        "colab": {
          "base_uri": "https://localhost:8080/"
        },
        "id": "JtAJUizI3fUv",
        "outputId": "76e7325b-4972-403a-8fb6-aae0c596b917"
      },
      "source": [
        "s = [1 for _ in range(6)] + [0 for _ in range (19)]\n",
        "np.random.shuffle(s)\n",
        "s"
      ],
      "execution_count": null,
      "outputs": [
        {
          "output_type": "execute_result",
          "data": {
            "text/plain": [
              "[0, 0, 0, 1, 0, 1, 0, 0, 0, 0, 0, 1, 1, 0, 0, 0, 0, 0, 0, 1, 0, 0, 1, 0, 0]"
            ]
          },
          "metadata": {
            "tags": []
          },
          "execution_count": 23
        }
      ]
    },
    {
      "cell_type": "code",
      "metadata": {
        "colab": {
          "base_uri": "https://localhost:8080/"
        },
        "id": "FXuOR8xEC6dE",
        "outputId": "4c0fa623-8317-48f5-d689-12139d9880ad"
      },
      "source": [
        "np.unique(s, return_counts=True)"
      ],
      "execution_count": null,
      "outputs": [
        {
          "output_type": "execute_result",
          "data": {
            "text/plain": [
              "(array([0, 1]), array([19,  6]))"
            ]
          },
          "metadata": {
            "tags": []
          },
          "execution_count": 25
        }
      ]
    },
    {
      "cell_type": "markdown",
      "metadata": {
        "id": "tMKjegqdajUC"
      },
      "source": [
        "## Distribución de probabilidad a priori\n"
      ]
    },
    {
      "cell_type": "code",
      "metadata": {
        "id": "iYSdhRu40Pb2"
      },
      "source": [
        "from scipy.stats import beta"
      ],
      "execution_count": null,
      "outputs": []
    },
    {
      "cell_type": "code",
      "metadata": {
        "colab": {
          "base_uri": "https://localhost:8080/",
          "height": 265
        },
        "id": "bFn6YfpUajUC",
        "outputId": "c34fa649-2f32-401f-ecc2-ae5a059d1065"
      },
      "source": [
        "a = 5    # éxitos\n",
        "b = 5     # fallas \n",
        "x = np.linspace(beta.ppf(0.01, a, b),\n",
        "                beta.ppf(0.99, a, b), 100)\n",
        "prior_pdf = beta.pdf(x, a, b)\n",
        "plt.plot(x, prior_pdf, 'r-', lw=3)\n",
        "plt.show()"
      ],
      "execution_count": 46,
      "outputs": [
        {
          "output_type": "display_data",
          "data": {
            "image/png": "[encoded data removed]",
            "text/plain": [
              "<Figure size 432x288 with 1 Axes>"
            ]
          },
          "metadata": {
            "tags": [],
            "needs_background": "light"
          }
        }
      ]
    },
    {
      "cell_type": "markdown",
      "metadata": {
        "id": "X7RYPJCYEYf4"
      },
      "source": [
        "# Distribución de la probabilidad a posteriori"
      ]
    },
    {
      "cell_type": "code",
      "metadata": {
        "id": "6UQyjH9bEJT8"
      },
      "source": [
        "\n",
        "def a_b_post(nuevos_datos, prior_a, prior_b):\n",
        "    \n",
        "    post_a = prior_a + np.sum(nuevos_datos)\n",
        "    post_b = prior_b+ len(nuevos_datos) -  np.sum(nuevos_datos)\n",
        "    \n",
        "    return post_a, post_b"
      ],
      "execution_count": 41,
      "outputs": []
    },
    {
      "cell_type": "code",
      "metadata": {
        "colab": {
          "base_uri": "https://localhost:8080/"
        },
        "id": "-CCmGzWQMpqy",
        "outputId": "41492385-8656-41d4-8318-831d6bd37308"
      },
      "source": [
        "a_s, b_s = a_b_post(s, a, b)\n",
        "a_s, b_s"
      ],
      "execution_count": 44,
      "outputs": [
        {
          "output_type": "execute_result",
          "data": {
            "text/plain": [
              "(17, 30)"
            ]
          },
          "metadata": {
            "tags": []
          },
          "execution_count": 44
        }
      ]
    },
    {
      "cell_type": "code",
      "metadata": {
        "colab": {
          "base_uri": "https://localhost:8080/",
          "height": 265
        },
        "id": "sFOTl4CgM785",
        "outputId": "d5795431-669b-452e-d6c3-e4a55463a7e7"
      },
      "source": [
        "a = a_s     # éxitos\n",
        "b = a_s     # fallas \n",
        "x = np.linspace(beta.ppf(0.01, a, b),\n",
        "                beta.ppf(0.99, a, b), 100)\n",
        "post_pdf = beta.pdf(x, a, b)\n",
        "\n",
        "plt.plot(x, prior_pdf, 'r-', lw=3, label='A priori')\n",
        "plt.plot(x, post_pdf,   'g', lw=3, label='A posteriori')\n",
        "plt.legend()\n",
        "plt.show()"
      ],
      "execution_count": 49,
      "outputs": [
        {
          "output_type": "display_data",
          "data": {
            "image/png": "[encoded data removed]",
            "text/plain": [
              "<Figure size 432x288 with 1 Axes>"
            ]
          },
          "metadata": {
            "tags": [],
            "needs_background": "light"
          }
        }
      ]
    },
    {
      "cell_type": "markdown",
      "metadata": {
        "id": "cQHcEyEAXhF5"
      },
      "source": [
        "Recursos:\n",
        "\n",
        "https://es.wikipedia.org/wiki/Distribuci%C3%B3n_beta#/media/Archivo:PDF_Beta_Distribution_Animation.gif"
      ]
    }
  ]
}