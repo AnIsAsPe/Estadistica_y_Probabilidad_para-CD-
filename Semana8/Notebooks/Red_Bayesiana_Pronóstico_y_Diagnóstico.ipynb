{
  "nbformat": 4,
  "nbformat_minor": 0,
  "metadata": {
    "hide_input": false,
    "kernelspec": {
      "display_name": "Python 3",
      "language": "python",
      "name": "python3"
    },
    "language_info": {
      "codemirror_mode": {
        "name": "ipython",
        "version": 3
      },
      "file_extension": ".py",
      "mimetype": "text/x-python",
      "name": "python",
      "nbconvert_exporter": "python",
      "pygments_lexer": "ipython3",
      "version": "3.7.8"
    },
    "colab": {
      "name": " Red Bayesiana Pronóstico y Diagnóstico.ipynb",
      "provenance": [],
      "toc_visible": true,
      "include_colab_link": true
    }
  },
  "cells": [
    {
      "cell_type": "markdown",
      "metadata": {
        "id": "view-in-github",
        "colab_type": "text"
      },
      "source": [
        "<a href=\"https://colab.research.google.com/github/AnIsAsPe/Estadistica_y_Probabilidad_para-CD-/blob/main/Semana8/Notebooks/Red_Bayesiana_Pron%C3%B3stico_y_Diagn%C3%B3stico.ipynb\" target=\"_parent\"><img src=\"https://colab.research.google.com/assets/colab-badge.svg\" alt=\"Open In Colab\"/></a>"
      ]
    },
    {
      "cell_type": "code",
      "metadata": {
        "colab": {
          "base_uri": "https://localhost:8080/"
        },
        "id": "MR9caRaiUMcJ",
        "outputId": "8bc9c8f3-5a87-4aa8-bfbe-1c8230001cca"
      },
      "source": [
        "!pip install pyagrum  # permite utilizar biblioteca C++ aGrUM"
      ],
      "execution_count": 1,
      "outputs": [
        {
          "output_type": "stream",
          "text": [
            "Collecting pyagrum\n",
            "  Downloading pyAgrum-0.22.0-cp37-cp37m-manylinux1_x86_64.whl (4.9 MB)\n",
            "\u001b[K     |████████████████████████████████| 4.9 MB 15.2 MB/s \n",
            "\u001b[?25hCollecting configparser\n",
            "  Downloading configparser-5.0.2-py3-none-any.whl (19 kB)\n",
            "Requirement already satisfied: numpy>=1.8.1 in /usr/local/lib/python3.7/dist-packages (from pyagrum) (1.19.5)\n",
            "Requirement already satisfied: six in /usr/local/lib/python3.7/dist-packages (from pyagrum) (1.15.0)\n",
            "Installing collected packages: configparser, pyagrum\n",
            "Successfully installed configparser-5.0.2 pyagrum-0.22.0\n"
          ],
          "name": "stdout"
        }
      ]
    },
    {
      "cell_type": "code",
      "metadata": {
        "ExecuteTime": {
          "end_time": "2019-02-25T17:34:18.167041Z",
          "start_time": "2019-02-25T17:34:17.837556Z"
        },
        "id": "w3U8oTbmUEEC"
      },
      "source": [
        "import pyAgrum as gum\n",
        "import pyAgrum.lib.notebook as gnb\n",
        "import matplotlib.pyplot as plt"
      ],
      "execution_count": 2,
      "outputs": []
    },
    {
      "cell_type": "code",
      "metadata": {
        "colab": {
          "base_uri": "https://localhost:8080/",
          "height": 368
        },
        "id": "maF9MDisH7Ci",
        "outputId": "9e641c21-f848-44d1-e812-139e0c2ca2ce"
      },
      "source": [
        "bn_diag = gum.BayesNet(\"Diagnóstico_estornudo\")\n",
        "bn = gum.fastBN(\"Resfriado->Estornudo<-Alergia<-Gato<-Arañazos;Polvo->Alergia\")\n",
        "bn"
      ],
      "execution_count": 3,
      "outputs": [
        {
          "output_type": "execute_result",
          "data": {
            "text/html": [
              "<svg height=\"260pt\" viewBox=\"0.00 0.00 241.64 260.00\" width=\"242pt\" xmlns=\"http://www.w3.org/2000/svg\" xmlns:xlink=\"http://www.w3.org/1999/xlink\">\n",
              "<g class=\"graph\" id=\"graph0\" transform=\"scale(1 1) rotate(0) translate(4 256)\">\n",
              "<title>G</title>\n",
              "<!-- Resfriado -->\n",
              "<g class=\"node\" id=\"node1\">\n",
              "<title>Resfriado</title>\n",
              "<g id=\"a_node1\"><a xlink:title=\"(0) Resfriado\">\n",
              "<ellipse cx=\"46.1459\" cy=\"-90\" fill=\"#404040\" rx=\"46.2923\" ry=\"18\" stroke=\"#000000\"/>\n",
              "<text fill=\"#ffffff\" font-family=\"Times,serif\" font-size=\"14.00\" text-anchor=\"middle\" x=\"46.1459\" y=\"-86.3\">Resfriado</text>\n",
              "</a>\n",
              "</g>\n",
              "</g>\n",
              "<!-- Estornudo -->\n",
              "<g class=\"node\" id=\"node5\">\n",
              "<title>Estornudo</title>\n",
              "<g id=\"a_node5\"><a xlink:title=\"(1) Estornudo\">\n",
              "<ellipse cx=\"97.1459\" cy=\"-18\" fill=\"#404040\" rx=\"50.0912\" ry=\"18\" stroke=\"#000000\"/>\n",
              "<text fill=\"#ffffff\" font-family=\"Times,serif\" font-size=\"14.00\" text-anchor=\"middle\" x=\"97.1459\" y=\"-14.3\">Estornudo</text>\n",
              "</a>\n",
              "</g>\n",
              "</g>\n",
              "<!-- Resfriado&#45;&gt;Estornudo -->\n",
              "<g class=\"edge\" id=\"edge1\">\n",
              "<title>Resfriado-&gt;Estornudo</title>\n",
              "<g id=\"a_edge1\"><a xlink:title=\"(0, 1) : \">\n",
              "<path d=\"M58.4916,-72.5708C64.5856,-63.9675 72.0598,-53.4156 78.8064,-43.8911\" fill=\"none\" stroke=\"#4a4a4a\"/>\n",
              "<polygon fill=\"#4a4a4a\" points=\"81.813,-45.7016 84.7372,-35.5182 76.1008,-41.6554 81.813,-45.7016\" stroke=\"#4a4a4a\"/>\n",
              "</a>\n",
              "</g>\n",
              "</g>\n",
              "<!-- Alergia -->\n",
              "<g class=\"node\" id=\"node2\">\n",
              "<title>Alergia</title>\n",
              "<g id=\"a_node2\"><a xlink:title=\"(2) Alergia\">\n",
              "<ellipse cx=\"148.1459\" cy=\"-90\" fill=\"#404040\" rx=\"38.1938\" ry=\"18\" stroke=\"#000000\"/>\n",
              "<text fill=\"#ffffff\" font-family=\"Times,serif\" font-size=\"14.00\" text-anchor=\"middle\" x=\"148.1459\" y=\"-86.3\">Alergia</text>\n",
              "</a>\n",
              "</g>\n",
              "</g>\n",
              "<!-- Alergia&#45;&gt;Estornudo -->\n",
              "<g class=\"edge\" id=\"edge3\">\n",
              "<title>Alergia-&gt;Estornudo</title>\n",
              "<g id=\"a_edge3\"><a xlink:title=\"(2, 1) : \">\n",
              "<path d=\"M135.8002,-72.5708C129.7062,-63.9675 122.232,-53.4156 115.4854,-43.8911\" fill=\"none\" stroke=\"#4a4a4a\"/>\n",
              "<polygon fill=\"#4a4a4a\" points=\"118.191,-41.6554 109.5547,-35.5182 112.4788,-45.7016 118.191,-41.6554\" stroke=\"#4a4a4a\"/>\n",
              "</a>\n",
              "</g>\n",
              "</g>\n",
              "<!-- Arañazos -->\n",
              "<g class=\"node\" id=\"node3\">\n",
              "<title>Arañazos</title>\n",
              "<g id=\"a_node3\"><a xlink:title=\"(4) Arañazos\">\n",
              "<ellipse cx=\"188.1459\" cy=\"-234\" fill=\"#404040\" rx=\"45.4919\" ry=\"18\" stroke=\"#000000\"/>\n",
              "<text fill=\"#ffffff\" font-family=\"Times,serif\" font-size=\"14.00\" text-anchor=\"middle\" x=\"188.1459\" y=\"-230.3\">Arañazos</text>\n",
              "</a>\n",
              "</g>\n",
              "</g>\n",
              "<!-- Gato -->\n",
              "<g class=\"node\" id=\"node6\">\n",
              "<title>Gato</title>\n",
              "<g id=\"a_node6\"><a xlink:title=\"(3) Gato\">\n",
              "<ellipse cx=\"188.1459\" cy=\"-162\" fill=\"#404040\" rx=\"28.6953\" ry=\"18\" stroke=\"#000000\"/>\n",
              "<text fill=\"#ffffff\" font-family=\"Times,serif\" font-size=\"14.00\" text-anchor=\"middle\" x=\"188.1459\" y=\"-158.3\">Gato</text>\n",
              "</a>\n",
              "</g>\n",
              "</g>\n",
              "<!-- Arañazos&#45;&gt;Gato -->\n",
              "<g class=\"edge\" id=\"edge4\">\n",
              "<title>Arañazos-&gt;Gato</title>\n",
              "<g id=\"a_edge4\"><a xlink:title=\"(4, 3) : \">\n",
              "<path d=\"M188.1459,-215.8314C188.1459,-208.131 188.1459,-198.9743 188.1459,-190.4166\" fill=\"none\" stroke=\"#4a4a4a\"/>\n",
              "<polygon fill=\"#4a4a4a\" points=\"191.646,-190.4132 188.1459,-180.4133 184.646,-190.4133 191.646,-190.4132\" stroke=\"#4a4a4a\"/>\n",
              "</a>\n",
              "</g>\n",
              "</g>\n",
              "<!-- Polvo -->\n",
              "<g class=\"node\" id=\"node4\">\n",
              "<title>Polvo</title>\n",
              "<g id=\"a_node4\"><a xlink:title=\"(5) Polvo\">\n",
              "<ellipse cx=\"108.1459\" cy=\"-162\" fill=\"#404040\" rx=\"33.2948\" ry=\"18\" stroke=\"#000000\"/>\n",
              "<text fill=\"#ffffff\" font-family=\"Times,serif\" font-size=\"14.00\" text-anchor=\"middle\" x=\"108.1459\" y=\"-158.3\">Polvo</text>\n",
              "</a>\n",
              "</g>\n",
              "</g>\n",
              "<!-- Polvo&#45;&gt;Alergia -->\n",
              "<g class=\"edge\" id=\"edge5\">\n",
              "<title>Polvo-&gt;Alergia</title>\n",
              "<g id=\"a_edge5\"><a xlink:title=\"(5, 2) : \">\n",
              "<path d=\"M117.8288,-144.5708C122.5109,-136.1431 128.2317,-125.8455 133.4373,-116.4755\" fill=\"none\" stroke=\"#4a4a4a\"/>\n",
              "<polygon fill=\"#4a4a4a\" points=\"136.6166,-117.9596 138.4136,-107.5182 130.4975,-114.5601 136.6166,-117.9596\" stroke=\"#4a4a4a\"/>\n",
              "</a>\n",
              "</g>\n",
              "</g>\n",
              "<!-- Gato&#45;&gt;Alergia -->\n",
              "<g class=\"edge\" id=\"edge2\">\n",
              "<title>Gato-&gt;Alergia</title>\n",
              "<g id=\"a_edge2\"><a xlink:title=\"(3, 2) : \">\n",
              "<path d=\"M178.6665,-144.937C173.9044,-136.3654 168.03,-125.7914 162.7106,-116.2165\" fill=\"none\" stroke=\"#4a4a4a\"/>\n",
              "<polygon fill=\"#4a4a4a\" points=\"165.7512,-114.4825 157.8352,-107.4407 159.6321,-117.882 165.7512,-114.4825\" stroke=\"#4a4a4a\"/>\n",
              "</a>\n",
              "</g>\n",
              "</g>\n",
              "</g>\n",
              "</svg>"
            ],
            "text/plain": [
              "(gum::BayesNet<double>@0x55f8e781f000) BN{nodes: 6, arcs: 5, domainSize: 64, dim: 26}"
            ]
          },
          "metadata": {
            "tags": []
          },
          "execution_count": 3
        }
      ]
    },
    {
      "cell_type": "code",
      "metadata": {
        "colab": {
          "base_uri": "https://localhost:8080/",
          "height": 464
        },
        "id": "NLFYKLqVKLQE",
        "outputId": "a36ce634-f0ce-43df-e069-a5116f805d8e"
      },
      "source": [
        "bn_pron = gum.BayesNet(\"Pronostico_Crisis Asma\")\n",
        "bn = gum.fastBN(\"Ejercicio->Crisis asma<-Contaminacion<-Trafico<-Accidente<-Clima;Hora->Trafico\")\n",
        "bn\n"
      ],
      "execution_count": 4,
      "outputs": [
        {
          "output_type": "execute_result",
          "data": {
            "text/html": [
              "<svg height=\"332pt\" viewBox=\"0.00 0.00 276.64 332.00\" width=\"277pt\" xmlns=\"http://www.w3.org/2000/svg\" xmlns:xlink=\"http://www.w3.org/1999/xlink\">\n",
              "<g class=\"graph\" id=\"graph0\" transform=\"scale(1 1) rotate(0) translate(4 328)\">\n",
              "<title>G</title>\n",
              "<!-- Trafico -->\n",
              "<g class=\"node\" id=\"node1\">\n",
              "<title>Trafico</title>\n",
              "<g id=\"a_node1\"><a xlink:title=\"(3) Trafico\">\n",
              "<ellipse cx=\"172.5461\" cy=\"-162\" fill=\"#404040\" rx=\"37.0935\" ry=\"18\" stroke=\"#000000\"/>\n",
              "<text fill=\"#ffffff\" font-family=\"Times,serif\" font-size=\"14.00\" text-anchor=\"middle\" x=\"172.5461\" y=\"-158.3\">Trafico</text>\n",
              "</a>\n",
              "</g>\n",
              "</g>\n",
              "<!-- Contaminacion -->\n",
              "<g class=\"node\" id=\"node7\">\n",
              "<title>Contaminacion</title>\n",
              "<g id=\"a_node7\"><a xlink:title=\"(2) Contaminacion\">\n",
              "<ellipse cx=\"172.5461\" cy=\"-90\" fill=\"#404040\" rx=\"67.6881\" ry=\"18\" stroke=\"#000000\"/>\n",
              "<text fill=\"#ffffff\" font-family=\"Times,serif\" font-size=\"14.00\" text-anchor=\"middle\" x=\"172.5461\" y=\"-86.3\">Contaminacion</text>\n",
              "</a>\n",
              "</g>\n",
              "</g>\n",
              "<!-- Trafico&#45;&gt;Contaminacion -->\n",
              "<g class=\"edge\" id=\"edge2\">\n",
              "<title>Trafico-&gt;Contaminacion</title>\n",
              "<g id=\"a_edge2\"><a xlink:title=\"(3, 2) : \">\n",
              "<path d=\"M172.5461,-143.8314C172.5461,-136.131 172.5461,-126.9743 172.5461,-118.4166\" fill=\"none\" stroke=\"#4a4a4a\"/>\n",
              "<polygon fill=\"#4a4a4a\" points=\"176.0462,-118.4132 172.5461,-108.4133 169.0462,-118.4133 176.0462,-118.4132\" stroke=\"#4a4a4a\"/>\n",
              "</a>\n",
              "</g>\n",
              "</g>\n",
              "<!-- Hora -->\n",
              "<g class=\"node\" id=\"node2\">\n",
              "<title>Hora</title>\n",
              "<g id=\"a_node2\"><a xlink:title=\"(6) Hora\">\n",
              "<ellipse cx=\"125.5461\" cy=\"-234\" fill=\"#404040\" rx=\"29.4969\" ry=\"18\" stroke=\"#000000\"/>\n",
              "<text fill=\"#ffffff\" font-family=\"Times,serif\" font-size=\"14.00\" text-anchor=\"middle\" x=\"125.5461\" y=\"-230.3\">Hora</text>\n",
              "</a>\n",
              "</g>\n",
              "</g>\n",
              "<!-- Hora&#45;&gt;Trafico -->\n",
              "<g class=\"edge\" id=\"edge5\">\n",
              "<title>Hora-&gt;Trafico</title>\n",
              "<g id=\"a_edge5\"><a xlink:title=\"(6, 3) : \">\n",
              "<path d=\"M136.6845,-216.937C142.3375,-208.277 149.3248,-197.5731 155.6257,-187.9207\" fill=\"none\" stroke=\"#4a4a4a\"/>\n",
              "<polygon fill=\"#4a4a4a\" points=\"158.6258,-189.7277 161.1613,-179.4407 152.7641,-185.9013 158.6258,-189.7277\" stroke=\"#4a4a4a\"/>\n",
              "</a>\n",
              "</g>\n",
              "</g>\n",
              "<!-- Ejercicio -->\n",
              "<g class=\"node\" id=\"node3\">\n",
              "<title>Ejercicio</title>\n",
              "<g id=\"a_node3\"><a xlink:title=\"(0) Ejercicio\">\n",
              "<ellipse cx=\"43.5461\" cy=\"-90\" fill=\"#404040\" rx=\"43.5923\" ry=\"18\" stroke=\"#000000\"/>\n",
              "<text fill=\"#ffffff\" font-family=\"Times,serif\" font-size=\"14.00\" text-anchor=\"middle\" x=\"43.5461\" y=\"-86.3\">Ejercicio</text>\n",
              "</a>\n",
              "</g>\n",
              "</g>\n",
              "<!-- Crisis asma -->\n",
              "<g class=\"node\" id=\"node5\">\n",
              "<title>Crisis asma</title>\n",
              "<g id=\"a_node5\"><a xlink:title=\"(1) Crisis asma\">\n",
              "<ellipse cx=\"107.5461\" cy=\"-18\" fill=\"#404040\" rx=\"52.7911\" ry=\"18\" stroke=\"#000000\"/>\n",
              "<text fill=\"#ffffff\" font-family=\"Times,serif\" font-size=\"14.00\" text-anchor=\"middle\" x=\"107.5461\" y=\"-14.3\">Crisis asma</text>\n",
              "</a>\n",
              "</g>\n",
              "</g>\n",
              "<!-- Ejercicio&#45;&gt;Crisis asma -->\n",
              "<g class=\"edge\" id=\"edge1\">\n",
              "<title>Ejercicio-&gt;Crisis asma</title>\n",
              "<g id=\"a_edge1\"><a xlink:title=\"(0, 1) : \">\n",
              "<path d=\"M58.7132,-72.937C66.6467,-64.0119 76.5098,-52.9159 85.2907,-43.0373\" fill=\"none\" stroke=\"#4a4a4a\"/>\n",
              "<polygon fill=\"#4a4a4a\" points=\"88.0156,-45.2401 92.0433,-35.4407 82.7837,-40.5895 88.0156,-45.2401\" stroke=\"#4a4a4a\"/>\n",
              "</a>\n",
              "</g>\n",
              "</g>\n",
              "<!-- Clima -->\n",
              "<g class=\"node\" id=\"node4\">\n",
              "<title>Clima</title>\n",
              "<g id=\"a_node4\"><a xlink:title=\"(5) Clima\">\n",
              "<ellipse cx=\"220.5461\" cy=\"-306\" fill=\"#404040\" rx=\"33.2948\" ry=\"18\" stroke=\"#000000\"/>\n",
              "<text fill=\"#ffffff\" font-family=\"Times,serif\" font-size=\"14.00\" text-anchor=\"middle\" x=\"220.5461\" y=\"-302.3\">Clima</text>\n",
              "</a>\n",
              "</g>\n",
              "</g>\n",
              "<!-- Accidente -->\n",
              "<g class=\"node\" id=\"node6\">\n",
              "<title>Accidente</title>\n",
              "<g id=\"a_node6\"><a xlink:title=\"(4) Accidente\">\n",
              "<ellipse cx=\"220.5461\" cy=\"-234\" fill=\"#404040\" rx=\"48.1917\" ry=\"18\" stroke=\"#000000\"/>\n",
              "<text fill=\"#ffffff\" font-family=\"Times,serif\" font-size=\"14.00\" text-anchor=\"middle\" x=\"220.5461\" y=\"-230.3\">Accidente</text>\n",
              "</a>\n",
              "</g>\n",
              "</g>\n",
              "<!-- Clima&#45;&gt;Accidente -->\n",
              "<g class=\"edge\" id=\"edge3\">\n",
              "<title>Clima-&gt;Accidente</title>\n",
              "<g id=\"a_edge3\"><a xlink:title=\"(5, 4) : \">\n",
              "<path d=\"M220.5461,-287.8314C220.5461,-280.131 220.5461,-270.9743 220.5461,-262.4166\" fill=\"none\" stroke=\"#4a4a4a\"/>\n",
              "<polygon fill=\"#4a4a4a\" points=\"224.0462,-262.4132 220.5461,-252.4133 217.0462,-262.4133 224.0462,-262.4132\" stroke=\"#4a4a4a\"/>\n",
              "</a>\n",
              "</g>\n",
              "</g>\n",
              "<!-- Accidente&#45;&gt;Trafico -->\n",
              "<g class=\"edge\" id=\"edge6\">\n",
              "<title>Accidente-&gt;Trafico</title>\n",
              "<g id=\"a_edge6\"><a xlink:title=\"(4, 3) : \">\n",
              "<path d=\"M208.681,-216.2022C203.0006,-207.6817 196.0895,-197.315 189.8385,-187.9385\" fill=\"none\" stroke=\"#4a4a4a\"/>\n",
              "<polygon fill=\"#4a4a4a\" points=\"192.5684,-185.7236 184.1092,-179.3446 186.7441,-189.6066 192.5684,-185.7236\" stroke=\"#4a4a4a\"/>\n",
              "</a>\n",
              "</g>\n",
              "</g>\n",
              "<!-- Contaminacion&#45;&gt;Crisis asma -->\n",
              "<g class=\"edge\" id=\"edge4\">\n",
              "<title>Contaminacion-&gt;Crisis asma</title>\n",
              "<g id=\"a_edge4\"><a xlink:title=\"(2, 1) : \">\n",
              "<path d=\"M156.4787,-72.2022C148.4693,-63.3303 138.653,-52.4569 129.9203,-42.7837\" fill=\"none\" stroke=\"#4a4a4a\"/>\n",
              "<polygon fill=\"#4a4a4a\" points=\"132.5035,-40.4219 123.2044,-35.3446 127.3076,-45.1127 132.5035,-40.4219\" stroke=\"#4a4a4a\"/>\n",
              "</a>\n",
              "</g>\n",
              "</g>\n",
              "</g>\n",
              "</svg>"
            ],
            "text/plain": [
              "(gum::BayesNet<double>@0x55f8e7977e00) BN{nodes: 7, arcs: 6, domainSize: 128, dim: 30}"
            ]
          },
          "metadata": {
            "tags": []
          },
          "execution_count": 4
        }
      ]
    }
  ]
}