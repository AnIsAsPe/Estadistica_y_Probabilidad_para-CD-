{
  "cells": [
    {
      "cell_type": "markdown",
      "metadata": {
        "id": "view-in-github",
        "colab_type": "text"
      },
      "source": [
        "<a href=\"https://colab.research.google.com/github/AnIsAsPe/Estadistica_y_Probabilidad_para-CD-/blob/main/Semana6/Metropolis_Hastings_para_decifrar_textos.ipynb\" target=\"_parent\"><img src=\"https://colab.research.google.com/assets/colab-badge.svg\" alt=\"Open In Colab\"/></a>"
      ]
    },
    {
      "cell_type": "markdown",
      "source": [
        "<h2> Algoritmo Metropolis Hastings para decifrar textos <h2>"
      ],
      "metadata": {
        "id": "pcOPv-kLJtr-"
      }
    },
    {
      "cell_type": "markdown",
      "source": [
        "El presente código es una adaptación del presentado en [este repositorio](https://github.com/svivek/mcmc-decoding-example)\n",
        "\n",
        "El ejemplo está inspirado en la historia descrita en [The Markov Chain Monte Carlo Revolution](https://www.ams.org/journals/bull/2009-46-02/S0273-0979-08-01238-X/S0273-0979-08-01238-X.pdf). \n",
        "\n",
        "El objetivo es decifrar los mensajes intercambiados por prisioneros, con la conjetura de que cada simbolo representa una letra o simbolo del lenguaje, de manera que el objetivo es encontrar ese diccionario o **clave** para codificar y decodificar los mensajes.\n",
        "\n",
        "\n",
        "\n"
      ],
      "metadata": {
        "id": "m2c49PEl_WQX"
      }
    },
    {
      "cell_type": "markdown",
      "source": [
        "<center><img src='https://pbs.twimg.com/media/DnJnUCpWwAAmPnR.jpg'>\n",
        "\n"
      ],
      "metadata": {
        "id": "9rAkajXnMFh2"
      }
    },
    {
      "cell_type": "markdown",
      "metadata": {
        "id": "_riLxoAeYr7Z"
      },
      "source": [
        "## Cifrado por sustitución\n",
        "\n",
        "Es un método de cifrado para codificarr y decodificar mensajes usando una clave que relaciona una letra o simbolo por otro.\n",
        "\n",
        "Como ejemplo, se puede suponer que la clave de un cifrado está contenida en la siguiente tabla:\n",
        "\n",
        "|original | codificado |\n",
        "|---------|------------|\n",
        "|a        | z          |\n",
        "|n        | 4          |\n",
        "|l        | 5          |\n",
        "|i        | a          |\n",
        "|s        | 8          |\n",
        "\n",
        "De manera que la palabra  `analisis` puede ser codificada como `z4z5a8a8`. "
      ]
    },
    {
      "cell_type": "code",
      "execution_count": 1,
      "metadata": {
        "id": "vjSokWDdYr7a"
      },
      "outputs": [],
      "source": [
        "def code(text, key): \n",
        "    return ''.join(list(map(lambda char: key[char], text)))"
      ]
    },
    {
      "cell_type": "code",
      "execution_count": 2,
      "metadata": {
        "id": "9yvaXh0HYr7b",
        "outputId": "8d069468-4967-44ff-8caf-7bf798916f34",
        "colab": {
          "base_uri": "https://localhost:8080/",
          "height": 35
        }
      },
      "outputs": [
        {
          "output_type": "execute_result",
          "data": {
            "text/plain": [
              "'z4z5a8a8'"
            ],
            "application/vnd.google.colaboratory.intrinsic+json": {
              "type": "string"
            }
          },
          "metadata": {},
          "execution_count": 2
        }
      ],
      "source": [
        "clave = {'a': 'z', 'n': '4', 'l': '5', 'i': 'a', 's':'8'}\n",
        "code('analisis', clave)"
      ]
    },
    {
      "cell_type": "markdown",
      "metadata": {
        "id": "c_UZ88W1Yr7b"
      },
      "source": [
        "Y podemos decodificar la palabra usando la clave inversa:"
      ]
    },
    {
      "cell_type": "code",
      "execution_count": 3,
      "metadata": {
        "id": "LcUu-sPUYr7c",
        "outputId": "002910a9-901c-4d19-d4af-3e2fb704c8c2",
        "colab": {
          "base_uri": "https://localhost:8080/",
          "height": 35
        }
      },
      "outputs": [
        {
          "output_type": "execute_result",
          "data": {
            "text/plain": [
              "'analisis'"
            ],
            "application/vnd.google.colaboratory.intrinsic+json": {
              "type": "string"
            }
          },
          "metadata": {},
          "execution_count": 3
        }
      ],
      "source": [
        "inv_clave = {v : k for k, v in clave.items()}\n",
        "code('z4z5a8a8', inv_clave)"
      ]
    },
    {
      "cell_type": "markdown",
      "source": [
        "#¿Cómo encontrar una clave adecuada?"
      ],
      "metadata": {
        "id": "E-i6-jl7B9VI"
      }
    },
    {
      "cell_type": "markdown",
      "source": [
        "Si consideramos solamente el espacio en blanco, las letras en minúscula, y los números estamos hablando de 38 simbolos, y por tanto el espacio muestral en el que vive la clave es enorme."
      ],
      "metadata": {
        "id": "mvaozz-9CeDi"
      }
    },
    {
      "cell_type": "code",
      "execution_count": 4,
      "metadata": {
        "colab": {
          "base_uri": "https://localhost:8080/"
        },
        "id": "GOp3ZBIRCUHc",
        "outputId": "ac9f2fdf-972e-423a-bfa6-e42849c8783c"
      },
      "outputs": [
        {
          "output_type": "stream",
          "name": "stdout",
          "text": [
            "Total de simbolos considerados: 38\n",
            "Tamaño del espacio muestral en el que vive la clave que buscamos 523022617466601111760007224100074291200000000\n"
          ]
        }
      ],
      "source": [
        "alphabet = \"abcdefghijklmnñopqrstuvwxyz0123456789 \"\n",
        "\n",
        "print('Total de simbolos considerados:', len(alphabet))\n",
        "\n",
        "from math import factorial\n",
        "print('Tamaño del espacio muestral en el que vive la clave que buscamos', factorial(38))"
      ]
    },
    {
      "cell_type": "markdown",
      "source": [
        "Supondremos que el lenguaje de los mensajes cifrados es el español, por tanto utilizaremos como guía las probabilidades de transición de los carácteres en español."
      ],
      "metadata": {
        "id": "tf1C0WnpE3Id"
      }
    },
    {
      "cell_type": "markdown",
      "metadata": {
        "id": "EuVUH6gFYr7c"
      },
      "source": [
        "# Calificación de las claves candidatas"
      ]
    },
    {
      "cell_type": "markdown",
      "metadata": {
        "id": "8NO4d3U3Yr7d"
      },
      "source": [
        "Para cada secuencia de caracteres $c_1c_2c_3\\cdots c_n$, estimaresmos su probabilidad de la siguiente manera\n",
        "\n",
        "$$P(c_1c_2c_3\\cdots c_n) = P(c_1) P(c_2 \\mid c_1) P(c_3 \\mid c_2) \\cdots P(c_n \\mid c_{n-1})$$\n",
        "\n",
        "Así, la probabilidad de la palabra `analisis` se calcularía como \n",
        "\n",
        " $P(a)~P(n \\mid a)P(a \\mid n)P(l \\mid a)P(i \\mid l)P(s \\mid i)P(i \\mid s)P(s \\mid i)$.\n",
        "\n",
        "Para hacer lo anterior necesitamos una matriz de transición de una caracter a otro, y en este sentido, para facilitar el análisis,  ignoraremos el primer caracter porque no hará practicamente diferencia en una secuencia larga."
      ]
    },
    {
      "cell_type": "markdown",
      "metadata": {
        "id": "c6fNYo80Yr7e"
      },
      "source": [
        "## ¿Cómo obtener la matriz de transición de los caracteres? \n"
      ]
    },
    {
      "cell_type": "code",
      "source": [
        "# ¿Cuántas probabilidades de transición debe tener nuestra matriz de trancisión?\n",
        "len(alphabet)**2"
      ],
      "metadata": {
        "colab": {
          "base_uri": "https://localhost:8080/"
        },
        "id": "bTh_Lo8BJ-Ia",
        "outputId": "bd80482e-0490-45cd-b288-75b005c6a00a"
      },
      "execution_count": 5,
      "outputs": [
        {
          "output_type": "execute_result",
          "data": {
            "text/plain": [
              "1444"
            ]
          },
          "metadata": {},
          "execution_count": 5
        }
      ]
    },
    {
      "cell_type": "markdown",
      "source": [
        "Para aprender estas probabilidades usaremos un texto, lo más largo posible en español"
      ],
      "metadata": {
        "id": "ibTGyugELB3B"
      }
    },
    {
      "cell_type": "code",
      "execution_count": 6,
      "metadata": {
        "id": "TpK8vMmPYr7e"
      },
      "outputs": [],
      "source": [
        "import re\n",
        "\n",
        "def limpiar_texto(texto):\n",
        "\n",
        "    #cambiar texto a minusculas\n",
        "    texto = texto.lower()\n",
        "    \n",
        "    # quitar tildes\n",
        "    a,b = 'áéíóúü','aeiouu'\n",
        "    trans = str.maketrans( a,b)\n",
        "    texto = texto.translate(trans)\n",
        "\n",
        "    # solo letras y numeros\n",
        "    texto = re.sub('[^ña-z0-9 ]+' ,' ', texto).strip()  \n",
        "\n",
        "    # remplazar multiples espacios contiguos por un solo espacio\n",
        "    texto = re.sub('\\s+',' ', texto)                    \n",
        "    return texto\n",
        "\n",
        "def find_between( s, first, last ):\n",
        "    '''fuente: https://stackoverflow.com/questions/3368969/find-string-between-two-substrings'''\n",
        "    try:\n",
        "        start = s.index( first ) + len( first )\n",
        "        end = s.index( last, start )\n",
        "        return s[start:end]\n",
        "    except ValueError:\n",
        "        return \"\"\n",
        "def leer_texto(file, inicio=None, fin=None):\n",
        "    with open(file, 'r') as f:\n",
        "        if inicio is not None and fin is not None:\n",
        "            libro = find_between(f.read(), inicio, fin)\n",
        "        else:\n",
        "            libro = f.read()\n",
        "    return limpiar_texto(libro)"
      ]
    },
    {
      "cell_type": "markdown",
      "metadata": {
        "id": "b7335StTYr7f"
      },
      "source": [
        "Se puede calcular las probabilidades de transisión utilizando cualquier texto. Si este es suficientemente grande, podremos obtener buenas estimaciones. Usaremos Don Quijote de la Mancha, que tiene más de 2 millones de caracteres."
      ]
    },
    {
      "cell_type": "code",
      "execution_count": 7,
      "metadata": {
        "id": "Me7N9lYrYr7f"
      },
      "outputs": [],
      "source": [
        "from collections import Counter\n",
        "import math\n",
        "\n",
        "def bigram_log_probabilities(book):\n",
        "    \n",
        "    character_counts = Counter(book)\n",
        "    bigram_counts = Counter(zip(book, book[1:]))\n",
        "    bigrams = bigram_counts.keys()\n",
        "    \n",
        "    return dict(map(lambda k: [k, math.log(bigram_counts[k]) - math.log(character_counts[k[0]])], bigrams))"
      ]
    },
    {
      "cell_type": "code",
      "source": [
        "from google.colab import drive\n",
        "drive.mount('/content/drive')"
      ],
      "metadata": {
        "colab": {
          "base_uri": "https://localhost:8080/"
        },
        "id": "rMFPQN0y5Kaa",
        "outputId": "c2db59c8-49f6-480a-8bdf-788a04609feb"
      },
      "execution_count": 8,
      "outputs": [
        {
          "output_type": "stream",
          "name": "stdout",
          "text": [
            "Drive already mounted at /content/drive; to attempt to forcibly remount, call drive.mount(\"/content/drive\", force_remount=True).\n"
          ]
        }
      ]
    },
    {
      "cell_type": "code",
      "source": [
        "inicio = \"*** START OF THE PROJECT GUTENBERG EBOOK DON QUIJOTE ***\"\n",
        "fin = \"*** END OF THE PROJECT GUTENBERG EBOOK DON QUIJOTE ***\"\n",
        "\n",
        "file = '/content/drive/MyDrive/Datos/DonQuijote.txt'\n",
        "DonQ = leer_texto(file, inicio, fin )"
      ],
      "metadata": {
        "id": "eLULH2Hx3zGa"
      },
      "execution_count": 9,
      "outputs": []
    },
    {
      "cell_type": "code",
      "source": [
        "bigram_table = bigram_log_probabilities(DonQ)\n",
        "bigram_table"
      ],
      "metadata": {
        "colab": {
          "base_uri": "https://localhost:8080/"
        },
        "id": "-sS8EHANxBMZ",
        "outputId": "19fb73b4-7294-4834-8ccf-826fde77a71c"
      },
      "execution_count": 10,
      "outputs": [
        {
          "output_type": "execute_result",
          "data": {
            "text/plain": [
              "{('e', 'l'): -2.495635370118805,\n",
              " ('l', ' '): -1.633573260510028,\n",
              " (' ', 'i'): -4.937384512589171,\n",
              " ('i', 'n'): -2.3504318062150116,\n",
              " ('n', 'g'): -4.031173508631302,\n",
              " ('g', 'e'): -2.980174879019078,\n",
              " ('e', 'n'): -1.8827851415801167,\n",
              " ('n', 'i'): -3.196628842521836,\n",
              " ('i', 'o'): -2.349621480303913,\n",
              " ('o', 's'): -1.8348327937786753,\n",
              " ('s', 'o'): -2.8913442783423715,\n",
              " ('o', ' '): -0.8242763995237041,\n",
              " (' ', 'h'): -3.420071451532097,\n",
              " ('h', 'i'): -2.3957986266629003,\n",
              " ('i', 'd'): -2.801143855311272,\n",
              " ('d', 'a'): -2.023135023232147,\n",
              " ('a', 'l'): -2.6003410610565005,\n",
              " ('l', 'g'): -4.105093437001927,\n",
              " ('g', 'o'): -1.4025662217672572,\n",
              " (' ', 'd'): -2.166409555430894,\n",
              " ('d', 'o'): -1.3743360383401892,\n",
              " ('o', 'n'): -2.0723476075124374,\n",
              " ('n', ' '): -1.137340896369082,\n",
              " (' ', 'q'): -2.633056752874694,\n",
              " ('q', 'u'): 0.0,\n",
              " ('u', 'i'): -2.480561604574996,\n",
              " ('i', 'j'): -2.933481589751146,\n",
              " ('j', 'o'): -0.5809899206883387,\n",
              " ('o', 't'): -3.485054422488467,\n",
              " ('t', 'e'): -1.3776567950215597,\n",
              " ('e', ' '): -1.0492270041581264,\n",
              " ('d', 'e'): -0.9273355144673836,\n",
              " (' ', 'l'): -2.453993060521281,\n",
              " ('l', 'a'): -1.3300988889736907,\n",
              " ('a', ' '): -1.0572346397157286,\n",
              " (' ', 'm'): -2.888473356904157,\n",
              " ('m', 'a'): -1.4288016144918032,\n",
              " ('a', 'n'): -2.1768630093201207,\n",
              " ('n', 'c'): -2.76997352886187,\n",
              " ('c', 'h'): -2.233525463604604,\n",
              " ('h', 'a'): -0.7720910967933925,\n",
              " (' ', 'p'): -2.707588941072377,\n",
              " ('p', 'o'): -1.2015693953799218,\n",
              " ('o', 'r'): -2.351057542749402,\n",
              " ('r', ' '): -1.665587610818232,\n",
              " ('m', 'i'): -1.7351810888678383,\n",
              " ('i', 'g'): -3.336874158257338,\n",
              " ('g', 'u'): -1.358552700327781,\n",
              " ('u', 'e'): -0.7285656314391495,\n",
              " (' ', 'c'): -2.6562858765277717,\n",
              " ('c', 'e'): -2.131160083094869,\n",
              " ('e', 'r'): -2.117486450267057,\n",
              " ('r', 'v'): -5.42335576432673,\n",
              " ('v', 'a'): -1.9512592452219444,\n",
              " ('n', 't'): -1.9603429424340302,\n",
              " ('e', 's'): -1.923913520658136,\n",
              " ('s', ' '): -0.8934149130536806,\n",
              " (' ', 's'): -2.5381357692532447,\n",
              " ('s', 'a'): -2.447743394639062,\n",
              " ('a', 'a'): -9.817117292301274,\n",
              " ('a', 'v'): -5.1149853984703855,\n",
              " ('v', 'e'): -1.0720171639855653,\n",
              " ('e', 'd'): -3.91187992127057,\n",
              " ('d', 'r'): -4.042346538160135,\n",
              " ('r', 'a'): -1.5006754644245959,\n",
              " (' ', 'e'): -2.3636134919407716,\n",
              " (' ', 't'): -3.2231022060371473,\n",
              " ('t', 'a'): -1.4098309784623986,\n",
              " ('a', 's'): -2.1514916695781032,\n",
              " ('s', 't'): -2.1974142631696267,\n",
              " ('t', 'i'): -2.4216621798134046,\n",
              " ('i', 'm'): -3.3813259208281714,\n",
              " ('m', 'o'): -1.6435332840240005,\n",
              " ('r', 'r'): -3.7545545293815206,\n",
              " ('a', 't'): -4.334586220807245,\n",
              " (' ', 'r'): -4.012122515220673,\n",
              " ('r', 'e'): -1.8214065216652653,\n",
              " ('e', 'y'): -6.204327970702745,\n",
              " ('y', ' '): -0.22425470663310776,\n",
              " (' ', 'a'): -2.523789918611312,\n",
              " ('d', 'u'): -3.865328311075034,\n",
              " ('u', 'q'): -5.2071183144429245,\n",
              " (' ', 'b'): -4.230165297546138,\n",
              " ('b', 'e'): -2.0616819861365254,\n",
              " ('e', 'j'): -4.69359655698007,\n",
              " ('j', 'a'): -1.61614839553327,\n",
              " ('a', 'r'): -2.414610340646842,\n",
              " ('p', 'r'): -2.260802912427158,\n",
              " ('r', 'o'): -1.9961600027504787,\n",
              " ('o', 'l'): -3.7148990040284833,\n",
              " ('l', 'o'): -1.872588447870985,\n",
              " ('o', 'g'): -5.825425851148651,\n",
              " ('l', 'i'): -3.019182611898829,\n",
              " ('i', 'b'): -4.077725136774494,\n",
              " ('b', 'r'): -1.7295200011307994,\n",
              " ('t', 'r'): -1.9680332921391823,\n",
              " ('c', 'o'): -1.3007360721975392,\n",
              " ('n', 'd'): -2.2326465488040803,\n",
              " ('d', 'i'): -1.979970117691039,\n",
              " ('i', 'c'): -3.0342422812912258,\n",
              " ('c', 'i'): -1.772322125826328,\n",
              " (' ', 'y'): -2.8890823275284347,\n",
              " ('j', 'e'): -1.9568971889217428,\n",
              " ('r', 'c'): -4.022106818223593,\n",
              " (' ', 'f'): -4.328939010562422,\n",
              " ('f', 'a'): -1.7311965739015633,\n",
              " ('a', 'm'): -3.556493437592973,\n",
              " ('r', 'i'): -2.5329840064305653,\n",
              " ('m', 'e'): -1.4801781979144,\n",
              " ('s', 'u'): -2.9004989696565424,\n",
              " ('u', ' '): -2.9893519326447286,\n",
              " ('i', 'e'): -1.8776815182132403,\n",
              " ('i', 'z'): -4.961961842358566,\n",
              " ('z', 'o'): -1.1605559827372858,\n",
              " ('s', 'e'): -1.9923748464323996,\n",
              " ('c', 'u'): -2.2375835306688234,\n",
              " (' ', 'g'): -4.601379577827496,\n",
              " ('g', 'r'): -2.0179628041262534,\n",
              " ('a', 'c'): -3.659560661566317,\n",
              " ('n', 'e'): -3.0883176809464175,\n",
              " ('t', 'u'): -2.9524714099729845,\n",
              " ('u', 'v'): -4.865129270060406,\n",
              " ('v', 'o'): -1.9993261668879247,\n",
              " ('r', 'm'): -3.8228865218753896,\n",
              " ('r', 's'): -4.18731344261844,\n",
              " ('c', 'a'): -1.6893373742536983,\n",
              " ('a', 'b'): -2.9712374170372247,\n",
              " ('b', 'a'): -1.1951012327200914,\n",
              " ('l', 'l'): -2.267951731132859,\n",
              " ('l', 'e'): -1.9296658114704055,\n",
              " ('u', 'c'): -3.6802700101144747,\n",
              " (' ', 'n'): -3.5002602638566707,\n",
              " ('n', 'u'): -4.475818072363243,\n",
              " ('u', 'a'): -3.0913294672305422,\n",
              " (' ', 'v'): -3.532727799357726,\n",
              " ('s', 'i'): -2.580231054781816,\n",
              " ('n', 'a'): -2.64230381773368,\n",
              " ('s', 'g'): -6.630296222084637,\n",
              " ('i', 'a'): -2.1308847550939607,\n",
              " ('n', 'o'): -2.069619765702326,\n",
              " ('s', 'c'): -3.825666460284107,\n",
              " ('c', 'r'): -3.571178017502148,\n",
              " ('r', 'u'): -4.720214053041789,\n",
              " ('u', 't'): -5.158219684521447,\n",
              " ('u', 'r'): -3.2147916962192884,\n",
              " ('r', 'b'): -5.074523997849023,\n",
              " ('e', 'g'): -4.250174758639334,\n",
              " ('u', 'n'): -2.2261875273377214,\n",
              " ('b', 'u'): -2.6056392054499744,\n",
              " ('s', 'p'): -3.5076411711264797,\n",
              " ('p', 'a'): -1.460949139818224,\n",
              " ('b', 'l'): -2.683917343359867,\n",
              " (' ', 'j'): -5.697398504046278,\n",
              " ('a', 'g'): -4.688833651753499,\n",
              " ('g', 'i'): -3.045849118620577,\n",
              " ('a', 'd'): -2.7780945450749712,\n",
              " ('v', 'i'): -1.2435529411453903,\n",
              " ('t', 'o'): -1.5046478589062318,\n",
              " (' ', 'o'): -4.139131209191625,\n",
              " ('g', 'n'): -4.2160550604756954,\n",
              " ('f', 'e'): -1.8448215994092836,\n",
              " ('e', 'c'): -3.661577638825058,\n",
              " ('r', 'd'): -3.721452624220536,\n",
              " ('c', 'l'): -4.818613953571978,\n",
              " ('l', 'u'): -4.022090533975215,\n",
              " ('u', 'y'): -4.332219215384121,\n",
              " ('y', 'e'): -3.6263458765269663,\n",
              " ('f', 'i'): -1.5827765687832906,\n",
              " ('u', 'p'): -5.427986551919999,\n",
              " ('p', 'e'): -1.8263092173851856,\n",
              " ('g', 'a'): -1.4308509356058394,\n",
              " ('z', 'c'): -3.3223192498441287,\n",
              " ('a', 'i'): -5.379827978952344,\n",
              " ('h', 'e'): -2.2005783534743886,\n",
              " (' ', 'u'): -4.507510439602081,\n",
              " ('y', 'a'): -2.868287665978057,\n",
              " ('i', 'f'): -5.41755870817677,\n",
              " ('f', 'u'): -1.2542725018112542,\n",
              " ('o', 'p'): -5.767117879761716,\n",
              " ('l', 'm'): -4.798916978764526,\n",
              " ('i', 'l'): -3.541936816928918,\n",
              " ('n', 'n'): -9.116194514085954,\n",
              " ('u', 'm'): -4.553465232922139,\n",
              " ('a', 'j'): -5.237731223468898,\n",
              " ('u', 'd'): -3.6438316820771632,\n",
              " ('h', 'o'): -1.2512649156835032,\n",
              " ('n', 'z'): -4.455905028876783,\n",
              " ('z', 'a'): -0.738321697411898,\n",
              " ('n', 's'): -3.82163419641563,\n",
              " ('a', 'z'): -4.8022485476730825,\n",
              " ('e', 'ñ'): -4.507807153078991,\n",
              " ('ñ', 'o'): -0.5123088981704171,\n",
              " ('i', 's'): -2.8051504168537296,\n",
              " ('e', 't'): -4.685105939934911,\n",
              " ('r', 'p'): -5.963628589419021,\n",
              " ('m', 'u'): -2.6268655708627247,\n",
              " ('r', 't'): -3.3188405850947778,\n",
              " ('i', ' '): -2.335603096080435,\n",
              " ('o', 'i'): -5.835831772309767,\n",
              " ('o', 'c'): -3.97959916065032,\n",
              " ('o', 'm'): -3.285308469388296,\n",
              " ('b', 'o'): -2.811092964352725,\n",
              " ('l', 't'): -4.364554549850651,\n",
              " ('m', 'b'): -3.2671475900427547,\n",
              " ('n', 'v'): -5.454771906205057,\n",
              " ('d', ' '): -3.2885747357837563,\n",
              " ('s', 'd'): -5.973738488956984,\n",
              " ('e', 'v'): -4.944843314816017,\n",
              " ('i', 'r'): -3.0178559337566107,\n",
              " ('a', 'ñ'): -4.967219983331799,\n",
              " ('ñ', 'a'): -1.097442834669784,\n",
              " ('i', 't'): -3.7214411487278856,\n",
              " ('e', 'b'): -5.213622753262507,\n",
              " ('e', 'z'): -5.031301196468552,\n",
              " ('s', 'm'): -4.892881235891465,\n",
              " ('e', 'a'): -4.813216902384302,\n",
              " ('u', 's'): -3.1600870169138435,\n",
              " ('e', 'm'): -4.271066455497191,\n",
              " ('m', 'p'): -2.9546159292102274,\n",
              " ('b', 'i'): -1.6671755945459825,\n",
              " ('p', 'u'): -2.197140313590646,\n",
              " ('o', 'd'): -3.6891422557643754,\n",
              " ('o', 'v'): -5.808998377006703,\n",
              " ('n', 'f'): -5.250215447159214,\n",
              " ('a', 'u'): -4.837878852265691,\n",
              " ('i', 'v'): -4.803314752078032,\n",
              " ('o', 'z'): -5.747774916918584,\n",
              " ('u', 'l'): -3.969107293520702,\n",
              " ('a', 'e'): -6.135079370004055,\n",
              " ('l', 'b'): -6.211258048822517,\n",
              " ('o', 'q'): -7.056682614423055,\n",
              " ('e', 'p'): -5.649013264666713,\n",
              " ('p', 'l'): -3.4880325789173607,\n",
              " ('e', 'e'): -6.592771391241478,\n",
              " ('a', 'p'): -4.988076546606356,\n",
              " ('o', 'b'): -4.368690392365444,\n",
              " ('c', 't'): -5.753674788128124,\n",
              " ('u', 'j'): -5.2071183144429245,\n",
              " ('s', 'f'): -6.415571241236024,\n",
              " ('p', 'i'): -2.838564565072277,\n",
              " ('l', 'c'): -4.952165945275501,\n",
              " ('s', 'q'): -6.785445404241486,\n",
              " ('e', 'o'): -5.661404996961876,\n",
              " ('e', 'x'): -7.20685004832573,\n",
              " ('x', 't'): -2.762117422372486,\n",
              " ('d', 'm'): -5.6740512513699874,\n",
              " ('o', 'f'): -5.831656400899287,\n",
              " (' ', 'z'): -7.406429258076705,\n",
              " ('u', 'z'): -5.746440283038534,\n",
              " ('z', 'n'): -4.797167008305465,\n",
              " ('e', 'h'): -8.519872208339295,\n",
              " ('l', 'd'): -4.930324203360453,\n",
              " ('ñ', 'e'): -3.32963351425159,\n",
              " ('r', 'n'): -4.379803252841647,\n",
              " ('o', 'ñ'): -7.370713516571588,\n",
              " ('z', ' '): -2.001693992232096,\n",
              " ('u', 'g'): -5.103353604435506,\n",
              " ('a', 'y'): -4.961542182415117,\n",
              " ('y', 'o'): -2.1952434371367655,\n",
              " ('e', 'f'): -6.456869393002619,\n",
              " ('v', 'u'): -2.403356113294093,\n",
              " ('a', 'o'): -7.924553123951254,\n",
              " ('i', 'ñ'): -6.643326172330126,\n",
              " ('j', 'u'): -2.393852964121278,\n",
              " ('o', 'y'): -5.162759222562801,\n",
              " ('i', 'p'): -5.605868306815347,\n",
              " ('e', 'i'): -5.393874739947403,\n",
              " (' ', '1'): -11.06570824241435,\n",
              " ('1', '6'): -0.6931471805599452,\n",
              " ('6', '0'): -1.3862943611198906,\n",
              " ('0', '4'): -0.6931471805599453,\n",
              " ('4', ' '): 0.0,\n",
              " ('f', 'r'): -2.462084082444356,\n",
              " ('s', 'l'): -6.7178521131089575,\n",
              " ('h', 'u'): -3.232004455880496,\n",
              " ('u', 'b'): -4.440432800024353,\n",
              " ('f', 'o'): -2.7344986827653486,\n",
              " ('z', 'q'): -5.418855224883265,\n",
              " ('r', 'q'): -4.256445289854347,\n",
              " ('r', 'g'): -5.341940372841221,\n",
              " ('n', 'r'): -6.010114183363098,\n",
              " ('x', 'c'): -1.81303686767534,\n",
              " ('n', 'j'): -6.617494542165618,\n",
              " ('c', 'c'): -7.030406946736488,\n",
              " ('n', 'q'): -5.210860496808604,\n",
              " ('s', 'n'): -6.6066264779987325,\n",
              " ('a', 'q'): -4.653370819510865,\n",
              " ('o', 'j'): -5.5330962103003225,\n",
              " ('z', 'g'): -4.2752915483528895,\n",
              " ('n', 'm'): -6.263563084172636,\n",
              " ('r', 'l'): -4.291089970616977,\n",
              " ('u', 'f'): -6.814280913039889,\n",
              " ('j', 'i'): -4.685150097341472,\n",
              " ('s', 'h'): -7.047809668708976,\n",
              " ('u', 'o'): -6.791808057187831,\n",
              " ('l', 'v'): -4.619757837075084,\n",
              " ('a', 'h'): -5.843400717867788,\n",
              " ('g', 'l'): -4.4679276802307655,\n",
              " ('b', ' '): -8.017843137375271,\n",
              " ('c', ' '): -8.2926486591864,\n",
              " (' ', 'x'): -8.450748464378151,\n",
              " ('x', 'e'): -4.148411783492376,\n",
              " ('z', 'e'): -8.093003874309794,\n",
              " ('e', 'u'): -9.303991167104968,\n",
              " ('u', 'x'): -10.193005438849987,\n",
              " ('x', 'i'): -2.048350954609805,\n",
              " ('o', 'e'): -7.137908054345641,\n",
              " ('r', 'z'): -5.753597451197306,\n",
              " ('b', 's'): -7.206912921158943,\n",
              " ('i', 'q'): -6.254955497581262,\n",
              " ('e', 'q'): -7.218614889905317,\n",
              " ('l', 's'): -6.694684698400393,\n",
              " ('t', ' '): -7.301212067013399,\n",
              " ('m', ' '): -7.619768819800029,\n",
              " ('m', 'q'): -10.710811273158345,\n",
              " ('i', 'x'): -7.700438730091483,\n",
              " ('x', ' '): -2.178971137026869,\n",
              " ('a', 'f'): -6.58380078327828,\n",
              " ('i', 'u'): -6.314144368971593,\n",
              " ('s', 'b'): -8.803851055334952,\n",
              " ('o', 'a'): -8.869948288872074,\n",
              " ('t', 'c'): -8.736296592302722,\n",
              " ('f', 'l'): -3.740559414068213,\n",
              " ('p', 's'): -9.093834645213358,\n",
              " ('r', 'f'): -7.050812182263508,\n",
              " ('p', 't'): -6.454777315598099,\n",
              " ('x', 'p'): -1.951187206156157,\n",
              " ('d', 'v'): -6.5804572240116,\n",
              " ('l', 'z'): -6.427481157292153,\n",
              " ('l', 'q'): -7.009765745040288,\n",
              " ('o', 'h'): -6.512381061460675,\n",
              " ('h', ' '): -4.566499321640245,\n",
              " ('l', 'f'): -6.92687808523452,\n",
              " ('r', 'j'): -7.237689555593324,\n",
              " ('u', 'ñ'): -6.65688873928846,\n",
              " ('l', 'p'): -6.200208212635932,\n",
              " ('s', 'v'): -6.896259770581776,\n",
              " ('s', 's'): -10.361995673381502,\n",
              " ('i', 'i'): -7.04456294432877,\n",
              " ('d', 'h'): -9.775040356310758,\n",
              " ('n', 'l'): -6.780819598268917,\n",
              " ('y', 'u'): -5.117835176683724,\n",
              " (' ', 'ñ'): -12.16432053108246,\n",
              " ('ñ', 'u'): -5.364339162090035,\n",
              " ('ñ', 'i'): -3.6238729872495297,\n",
              " ('v', ' '): -6.57897339564493,\n",
              " ('d', 'l'): -8.339955831021435,\n",
              " ('d', 's'): -11.384478268744857,\n",
              " ('d', 'n'): -9.998183907624966,\n",
              " ('z', 'u'): -5.072578988165431,\n",
              " ('g', 'm'): -8.151794592521158,\n",
              " ('o', 'o'): -8.9609200670778,\n",
              " ('l', 'j'): -9.10162980671868,\n",
              " ('z', 'p'): -7.687538766201629,\n",
              " ('b', 'j'): -7.900060101718887,\n",
              " ('x', 'm'): -3.994261103665118,\n",
              " ('o', 'x'): -11.312295324241278,\n",
              " ('z', 'm'): -5.741628617146317,\n",
              " ('l', 'r'): -8.919308249924727,\n",
              " ('u', 'h'): -9.499858258290041,\n",
              " ('g', ' '): -9.068085324395312,\n",
              " ('x', 'v'): -2.6079667425452278,\n",
              " ('l', 'h'): -8.036919069726252,\n",
              " ('x', 'x'): -1.7657839828247948,\n",
              " ('x', 'a'): -2.9957322735539913,\n",
              " ('d', 'j'): -11.384478268744857,\n",
              " ('z', 'b'): -7.3998566937498484,\n",
              " ('s', 'r'): -11.748290034501393,\n",
              " ('n', 'h'): -8.893050962771744,\n",
              " ('b', 'c'): -8.998672390386998,\n",
              " (' ', 'w'): -12.16432053108246,\n",
              " ('w', 'a'): 0.0,\n",
              " ('d', 'q'): -9.592718799516803,\n",
              " ('j', ' '): -8.576970395452099,\n",
              " ('b', 'd'): -10.097284679055107,\n",
              " ('m', 'm'): -10.710811273158345,\n",
              " ('x', 'l'): -2.9444389791664407,\n",
              " ('a', 'x'): -12.215012565099645,\n",
              " ('i', 'y'): -10.720863616235846,\n",
              " ('l', 'n'): -11.404214899712727,\n",
              " ('m', 'n'): -9.324516912038455,\n",
              " ('c', 'm'): -11.00069886028861,\n",
              " ('x', 'o'): -5.247024072160486,\n",
              " ('f', ' '): -8.245909264774093,\n",
              " ('p', ' '): -10.480129006333248,\n",
              " ('1', '0'): -2.0794415416798357,\n",
              " ('0', ' '): -0.6931471805599453,\n",
              " ('1', '7'): -2.0794415416798357,\n",
              " ('7', ' '): 0.0,\n",
              " ('6', '1'): -0.6931471805599453,\n",
              " ('1', '5'): -2.0794415416798357,\n",
              " ('5', ' '): 0.0,\n",
              " ('p', 'c'): -9.38151671766514,\n",
              " ('s', 'j'): -11.748290034501393,\n",
              " ('y', 'm'): -9.441967832938703,\n",
              " (' ', '2'): -12.857467711642405,\n",
              " ('2', '3'): 0.0,\n",
              " ('3', ' '): 0.0,\n",
              " ('x', 'h'): -5.940171252720432,\n",
              " ('z', 'l'): -8.78615105486974,\n",
              " ('1', '4'): -2.0794415416798357,\n",
              " ('h', 'r'): -9.210890220781618,\n",
              " ('r', 'y'): -11.528148996741715,\n",
              " ('y', 't'): -10.135115013498648,\n",
              " ('i', 'h'): -10.720863616235846,\n",
              " ('b', 't'): -10.097284679055107,\n",
              " ('6', ' '): -1.3862943611198906,\n",
              " ('l', 'x'): -8.696164698610517,\n",
              " ('y', 'l'): -10.135115013498648}"
            ]
          },
          "metadata": {},
          "execution_count": 10
        }
      ]
    },
    {
      "cell_type": "markdown",
      "metadata": {
        "id": "rsB4wtvdYr7f"
      },
      "source": [
        "Y mediante la siguiente función calcularemos que tan \"buena\" es la secuencia utilizando para ello las probabilidades de transición estimadas."
      ]
    },
    {
      "cell_type": "code",
      "execution_count": 11,
      "metadata": {
        "id": "ShKV2OfdYr7d"
      },
      "outputs": [],
      "source": [
        "LOG_EPSILON = -30  # probabilidad muy pequeña vista como logaritmo, que se ustilizara cuando no exista probabilidad de trancisión de una letra a otra\n",
        "\n",
        "def goodness(text, bigram_table):\n",
        "    bigrams = zip(text, text[1:])\n",
        "    sum = 0\n",
        "    for b in bigrams:\n",
        "        sum += bigram_table.get(b) or LOG_EPSILON\n",
        "    return sum"
      ]
    },
    {
      "cell_type": "code",
      "execution_count": 12,
      "metadata": {
        "id": "fOAJWcz2Yr7g",
        "outputId": "a894184b-c531-4b43-8fe5-7a283cd02d7f",
        "colab": {
          "base_uri": "https://localhost:8080/"
        }
      },
      "outputs": [
        {
          "output_type": "stream",
          "name": "stdout",
          "text": [
            "Log probability of 'opamc' = -40.784560457172915\n"
          ]
        }
      ],
      "source": [
        "print(\"Log probability of 'opamc' = \" +str(goodness(\"opamc\", bigram_table)))"
      ]
    },
    {
      "cell_type": "code",
      "execution_count": 13,
      "metadata": {
        "id": "AnrdclCUYr7g",
        "outputId": "5ce2345d-3cc5-4f7f-fa6c-49fe224898e8",
        "colab": {
          "base_uri": "https://localhost:8080/"
        }
      },
      "outputs": [
        {
          "output_type": "stream",
          "name": "stdout",
          "text": [
            "Log probabilidad de 'campo' = -9.40201613643682\n"
          ]
        }
      ],
      "source": [
        "print(\"Log probabilidad de 'campo' = \" +str(goodness(\"campo\", bigram_table)))"
      ]
    },
    {
      "cell_type": "markdown",
      "source": [
        "# Implementación"
      ],
      "metadata": {
        "id": "SUGNKvpc2r9P"
      }
    },
    {
      "cell_type": "markdown",
      "source": [
        "## Creación del mensaje encriptado"
      ],
      "metadata": {
        "id": "FosFljuA8fr1"
      }
    },
    {
      "cell_type": "code",
      "execution_count": 49,
      "metadata": {
        "id": "e_BXIRxZHTji"
      },
      "outputs": [],
      "source": [
        "plain_text = limpiar_texto(\n",
        "    \"\"\"Muchos años después, frente al pelotón de fusilamiento, el coronel Aureliano Buendía había de \n",
        "recordar aquella tarde remota en que su padre lo llevó a conocer el hielo. Macondo era entonces \n",
        "una aldea de veinte casas de barro y cañabrava construidas a la orilla de un río de aguas diáfanas \n",
        "que se precipitaban por un lecho de piedras pulidas, blancas y enormes como huevos \n",
        "prehistóricos. El mundo era tan reciente, que muchas cosas carecían de nombre, y para \n",
        "mencionarlas había que señalarías con el dedo. Todos los años, por el mes de marzo, una familia \n",
        "de gitanos desarrapados plantaba su carpa cerca de la aldea, y con un grande alboroto de pitos y \n",
        "timbales daban a conocer los nuevos inventos. Primero llevaron el imán. Un gitano corpulento, de \n",
        "barba montaraz y manos de gorrión, que se presentó con el nombre de Melquíades, hizo una \n",
        "truculenta demostración pública de lo que él mismo llamaba la octava maravilla de los sabios \n",
        "alquimistas de Macedonia. Fue de casa en casa arrastrando dos lingotes metálicos, y todo el \n",
        "mundo se espantó al ver que los calderos, las pailas, las tenazas y los anafes se caían de su sitio, \n",
        "y las maderas crujían por la desesperación de los clavos y los tornillos tratando de desenclavarse, \n",
        "y aun los objetos perdidos desde hacía mucho tiempo aparecían por donde más se les había \n",
        "buscado, y se arrastraban en desbandada turbulenta detrás de los fierros mágicos de Melquíades. \n",
        "\"\"\"\n",
        ")"
      ]
    },
    {
      "cell_type": "code",
      "execution_count": 50,
      "metadata": {
        "id": "PFVObQT4Yr7g"
      },
      "outputs": [],
      "source": [
        "import random\n",
        "\n",
        "def make_random_key():\n",
        "    l = list(alphabet)\n",
        "    random.shuffle(l)\n",
        "    return dict(zip(alphabet, l))"
      ]
    },
    {
      "cell_type": "code",
      "execution_count": 51,
      "metadata": {
        "id": "vziRlSM4Yr7h",
        "outputId": "af38bff4-bccc-4b68-9bfa-08c0d7998ea9",
        "colab": {
          "base_uri": "https://localhost:8080/",
          "height": 140
        }
      },
      "outputs": [
        {
          "output_type": "execute_result",
          "data": {
            "text/plain": [
              "'qrfoi5l1gi5lxe58re5l4temdel1ñl8eñidimlxel4r52ñ1q2emdileñlfitimeñl1rteñ21milvremx21lo1v21lxeltefitx1tl17reññ1ld1txelteqid1leml7rel5rl81xtelñilññenil1lfimifetleñlo2eñilq1fimxilet1lemdimfe5lrm1l1ñxe1lxelne2mdelf1515lxelv1ttilwlf1g1vt1n1lfim5dtr2x15l1lñ1lit2ññ1lxelrmlt2ilxel1sr15lx2141m15l7rel5el8tef282d1v1ml8itlrmlñefoilxel82ext15l8rñ2x15lvñ1mf15lwlemitqe5lfiqiloreni5l8teo25dit2fi5leñlqrmxilet1ld1mltef2emdel7relqrfo15lfi515lf1tef21mlxelmiqvtelwl81t1lqemf2im1tñ15lo1v21l7rel5eg1ñ1t215lfimleñlxexildixi5lñi5l1gi5l8itleñlqe5lxelq1t6ilrm1l41q2ñ21lxels2d1mi5lxe51tt181xi5l8ñ1md1v1l5rlf1t81lfetf1lxelñ1l1ñxe1lwlfimlrmlst1mxel1ñvitidilxel82di5lwld2qv1ñe5lx1v1ml1lfimifetlñi5lmreni5l2mnemdi5l8t2qetilññen1timleñl2q1mlrmls2d1milfit8rñemdilxelv1tv1lqimd1t16lwlq1mi5lxelsitt2iml7rel5el8te5emdilfimleñlmiqvtelxelqeñ7r21xe5lo26ilrm1ldtrfrñemd1lxeqi5dt1f2iml8rvñ2f1lxelñil7releñlq25qilññ1q1v1lñ1lifd1n1lq1t1n2ññ1lxelñi5l51v2i5l1ñ7r2q25d15lxelq1fexim21l4relxelf151lemlf151l1tt15dt1mxilxi5lñ2mside5lqed1ñ2fi5lwldixileñlqrmxil5ele581mdil1ñlnetl7relñi5lf1ñxeti5lñ15l812ñ15lñ15ldem1615lwlñi5l1m14e5l5elf121mlxel5rl52d2ilwlñ15lq1xet15lftrp21ml8itlñ1lxe5e58et1f2imlxelñi5lfñ1ni5lwlñi5lditm2ññi5ldt1d1mxilxelxe5emfñ1n1t5elwl1rmlñi5livpedi5l8etx2xi5lxe5xelo1f21lqrfoild2eq8il181tef21ml8itlximxelq15l5elñe5lo1v21lvr5f1xilwl5el1tt15dt1v1mlemlxe5v1mx1x1ldrtvrñemd1lxedt15lxelñi5l42etti5lq1s2fi5lxelqeñ7r21xe5'"
            ],
            "application/vnd.google.colaboratory.intrinsic+json": {
              "type": "string"
            }
          },
          "metadata": {},
          "execution_count": 51
        }
      ],
      "source": [
        "key = make_random_key()\n",
        "cipher_text = code(plain_text, key)\n",
        "cipher_text"
      ]
    },
    {
      "cell_type": "markdown",
      "source": [
        "## Busqueda de la clave"
      ],
      "metadata": {
        "id": "1x0YrP828tVQ"
      }
    },
    {
      "cell_type": "markdown",
      "source": [
        "Empezaremos la busqueda de la clave adecuado, utilizando en el inicio una **clave** aleatoria que iremos cambiando por una  clave cercana, simplemente transponiendo dos caracteres seleccionados aleatoriamente."
      ],
      "metadata": {
        "id": "NES6nS081pfn"
      }
    },
    {
      "cell_type": "code",
      "source": [
        "clave0 = make_random_key()  # creamos una clave inicial\n",
        "Clave0"
      ],
      "metadata": {
        "colab": {
          "base_uri": "https://localhost:8080/"
        },
        "id": "zCPiZDtH2ZeG",
        "outputId": "3b94246e-201a-4822-9a18-638a8962b13a"
      },
      "execution_count": 52,
      "outputs": [
        {
          "output_type": "execute_result",
          "data": {
            "text/plain": [
              "{'a': 'l',\n",
              " 'b': '2',\n",
              " 'c': 'z',\n",
              " 'd': 'c',\n",
              " 'e': 's',\n",
              " 'f': 'd',\n",
              " 'g': 't',\n",
              " 'h': 'w',\n",
              " 'i': 'f',\n",
              " 'j': 'j',\n",
              " 'k': 'o',\n",
              " 'l': '3',\n",
              " 'm': 'a',\n",
              " 'n': '5',\n",
              " 'ñ': 'ñ',\n",
              " 'o': 'n',\n",
              " 'p': 'u',\n",
              " 'q': '7',\n",
              " 'r': ' ',\n",
              " 's': 'g',\n",
              " 't': 'y',\n",
              " 'u': 'p',\n",
              " 'v': 'q',\n",
              " 'w': '4',\n",
              " 'x': 'k',\n",
              " 'y': 'i',\n",
              " 'z': '0',\n",
              " '0': 'b',\n",
              " '1': '6',\n",
              " '2': 'x',\n",
              " '3': '8',\n",
              " '4': 'v',\n",
              " '5': 'r',\n",
              " '6': 'h',\n",
              " '7': '1',\n",
              " '8': 'e',\n",
              " '9': '9',\n",
              " ' ': 'm'}"
            ]
          },
          "metadata": {},
          "execution_count": 52
        }
      ]
    },
    {
      "cell_type": "code",
      "source": [
        "decoded0 =code(cipher_text, clave0) # decodificamos\n",
        "decoded0"
      ],
      "metadata": {
        "colab": {
          "base_uri": "https://localhost:8080/",
          "height": 140
        },
        "id": "X0KGp6CC-Pue",
        "outputId": "c7c33d21-68f8-4dc3-f5da-d6abaca443f2"
      },
      "execution_count": 53,
      "outputs": [
        {
          "output_type": "execute_result",
          "data": {
            "text/plain": [
              "'4thj7psxy7pso3pmt3psif3eb3sx9sm397b7eso3sitpk9x4k3eb7s39sh7f7e39sxtf39kxe7snt3eokxsjxnkxso3sf3h7foxfsxgt399xsbxfo3sf347bxs3esgt3sptsmxof3s97s99307sxsh7e7h3fs39sjk397s4xh7eo7s3fxs3eb7eh3pstexsx9o3xso3s03keb3shxpxpso3snxff7sashxyxnfx0xsh7epbftkoxpsxs9xs7fk99xso3stesfk7so3sxutxpsokxixexpsgt3sp3smf3hkmkbxnxesm7fstes93hj7so3smk3ofxpsmt9koxpsn9xehxpsas3e7f43psh747sjt307psmf3jkpb7fkh7ps39s4teo7s3fxsbxesf3hk3eb3sgt3s4thjxpsh7pxpshxf3hkxeso3se74nf3sasmxfxs43ehk7exf9xpsjxnkxsgt3sp3yx9xfkxpsh7es39so3o7sb7o7ps97psxy7psm7fs39s43pso3s4xfd7stexsix4k9kxso3sukbxe7pso3pxffxmxo7psm9xebxnxsptshxfmxsh3fhxso3s9xsx9o3xsash7estesufxeo3sx9n7f7b7so3smkb7psasbk4nx93psoxnxesxsh7e7h3fs97pset307pske03eb7psmfk43f7s9930xf7es39sk4xestesukbxe7sh7fmt93eb7so3snxfnxs47ebxfxdsas4xe7pso3su7ffk7esgt3sp3smf3p3eb7sh7es39se74nf3so3s439gtkxo3psjkd7stexsbftht93ebxso347pbfxhk7esmtn9khxso3s97sgt3s39s4kp47s99x4xnxs9xs7hbx0xs4xfx0k99xso3s97pspxnk7psx9gtk4kpbxpso3s4xh3o7ekxsit3so3shxpxs3eshxpxsxffxpbfxeo7so7ps9keu7b3ps43bx9kh7psasb7o7s39s4teo7sp3s3pmxeb7sx9s03fsgt3s97pshx9o3f7ps9xpsmxk9xps9xpsb3exdxpsas97psxexi3psp3shxkxeso3sptspkbk7sas9xps4xo3fxpshftlkxesm7fs9xso3p3pm3fxhk7eso3s97psh9x07psas97psb7fek997psbfxbxeo7so3so3p3eh9x0xfp3sasxtes97ps7nl3b7psm3foko7pso3po3sjxhkxs4thj7sbk34m7sxmxf3hkxesm7fso7eo3s4xpsp3s93psjxnkxsntphxo7sasp3sxffxpbfxnxes3eso3pnxeoxoxsbtfnt93ebxso3bfxpso3s97psik3ff7ps4xukh7pso3s439gtkxo3p'"
            ],
            "application/vnd.google.colaboratory.intrinsic+json": {
              "type": "string"
            }
          },
          "metadata": {},
          "execution_count": 53
        }
      ]
    },
    {
      "cell_type": "code",
      "source": [
        "log_p0 = goodness(decoded0, bigram_table)  # evaluamos\n",
        "log_p0"
      ],
      "metadata": {
        "colab": {
          "base_uri": "https://localhost:8080/"
        },
        "id": "GQljSD2J-5GH",
        "outputId": "58c57ea7-03e7-4eb8-df9f-9beaf0083bd1"
      },
      "execution_count": 54,
      "outputs": [
        {
          "output_type": "execute_result",
          "data": {
            "text/plain": [
              "-31695.151555329383"
            ]
          },
          "metadata": {},
          "execution_count": 54
        }
      ]
    },
    {
      "cell_type": "code",
      "source": [
        "pair = random.sample(alphabet, 2)\n",
        "pair[0], pair[1]"
      ],
      "metadata": {
        "colab": {
          "base_uri": "https://localhost:8080/"
        },
        "id": "tXV_1TFWo-XD",
        "outputId": "64cec283-4734-44ea-a888-59996d656769"
      },
      "execution_count": 55,
      "outputs": [
        {
          "output_type": "execute_result",
          "data": {
            "text/plain": [
              "('s', 'f')"
            ]
          },
          "metadata": {},
          "execution_count": 55
        }
      ]
    },
    {
      "cell_type": "code",
      "source": [
        "clave0[pair[0]] ,clave0[pair[1]]"
      ],
      "metadata": {
        "colab": {
          "base_uri": "https://localhost:8080/"
        },
        "id": "SHRffzOMqZZ7",
        "outputId": "6581267a-ec6c-47de-f4b7-7a6eb4299aae"
      },
      "execution_count": 56,
      "outputs": [
        {
          "output_type": "execute_result",
          "data": {
            "text/plain": [
              "('u', 'h')"
            ]
          },
          "metadata": {},
          "execution_count": 56
        }
      ]
    },
    {
      "cell_type": "code",
      "source": [
        "clave1 = clave0.copy()\n",
        "clave1[pair[0]] = clave0[pair[1]]\n",
        "clave1[pair[1]] = clave0[pair[0]]\n",
        "clave1"
      ],
      "metadata": {
        "colab": {
          "base_uri": "https://localhost:8080/"
        },
        "id": "fc8a-VnPrCkL",
        "outputId": "247ab012-02a1-4031-beec-6c7244917869"
      },
      "execution_count": 57,
      "outputs": [
        {
          "output_type": "execute_result",
          "data": {
            "text/plain": [
              "{'a': '1',\n",
              " 'b': 'q',\n",
              " 'c': 'w',\n",
              " 'd': 'b',\n",
              " 'e': '3',\n",
              " 'f': 'u',\n",
              " 'g': 'y',\n",
              " 'h': '5',\n",
              " 'i': '7',\n",
              " 'j': '2',\n",
              " 'k': 'r',\n",
              " 'l': 's',\n",
              " 'm': 'e',\n",
              " 'n': '0',\n",
              " 'ñ': '9',\n",
              " 'o': 'j',\n",
              " 'p': 'l',\n",
              " 'q': '4',\n",
              " 'r': 't',\n",
              " 's': 'h',\n",
              " 't': 'f',\n",
              " 'u': '8',\n",
              " 'v': 'n',\n",
              " 'w': 'a',\n",
              " 'x': 'o',\n",
              " 'y': ' ',\n",
              " 'z': 'z',\n",
              " '0': 'ñ',\n",
              " '1': 'x',\n",
              " '2': 'k',\n",
              " '3': 'v',\n",
              " '4': 'i',\n",
              " '5': 'p',\n",
              " '6': 'd',\n",
              " '7': 'g',\n",
              " '8': 'm',\n",
              " '9': 'c',\n",
              " ' ': '6'}"
            ]
          },
          "metadata": {},
          "execution_count": 57
        }
      ]
    },
    {
      "cell_type": "code",
      "source": [
        "decoded1 =code(cipher_text, clave1) # decodificamos\n",
        "decoded1"
      ],
      "metadata": {
        "colab": {
          "base_uri": "https://localhost:8080/",
          "height": 140
        },
        "outputId": "cabc3fb9-bd40-4f47-ed85-c50daf65d86a",
        "id": "IQ9-ca5l_0sg"
      },
      "execution_count": 58,
      "outputs": [
        {
          "output_type": "execute_result",
          "data": {
            "text/plain": [
              "'4tuj7psxy7pso3pmt3psif3eb3sx9sm397b7eso3sitpk9x4k3eb7s39su7f7e39sxtf39kxe7snt3eokxsjxnkxso3sf3u7foxfsxgt399xsbxfo3sf347bxs3esgt3sptsmxof3s97s99307sxsu7e7u3fs39sjk397s4xu7eo7s3fxs3eb7eu3pstexsx9o3xso3s03keb3suxpxpso3snxff7sasuxyxnfx0xsu7epbftkoxpsxs9xs7fk99xso3stesfk7so3sxhtxpsokxixexpsgt3sp3smf3ukmkbxnxesm7fstes93uj7so3smk3ofxpsmt9koxpsn9xeuxpsas3e7f43psu747sjt307psmf3jkpb7fku7ps39s4teo7s3fxsbxesf3uk3eb3sgt3s4tujxpsu7pxpsuxf3ukxeso3se74nf3sasmxfxs43euk7exf9xpsjxnkxsgt3sp3yx9xfkxpsu7es39so3o7sb7o7ps97psxy7psm7fs39s43pso3s4xfd7stexsix4k9kxso3shkbxe7pso3pxffxmxo7psm9xebxnxsptsuxfmxsu3fuxso3s9xsx9o3xsasu7esteshfxeo3sx9n7f7b7so3smkb7psasbk4nx93psoxnxesxsu7e7u3fs97pset307pske03eb7psmfk43f7s9930xf7es39sk4xesteshkbxe7su7fmt93eb7so3snxfnxs47ebxfxdsas4xe7pso3sh7ffk7esgt3sp3smf3p3eb7su7es39se74nf3so3s439gtkxo3psjkd7stexsbftut93ebxso347pbfxuk7esmtn9kuxso3s97sgt3s39s4kp47s99x4xnxs9xs7ubx0xs4xfx0k99xso3s97pspxnk7psx9gtk4kpbxpso3s4xu3o7ekxsit3so3suxpxs3esuxpxsxffxpbfxeo7so7ps9keh7b3ps43bx9ku7psasb7o7s39s4teo7sp3s3pmxeb7sx9s03fsgt3s97psux9o3f7ps9xpsmxk9xps9xpsb3exdxpsas97psxexi3psp3suxkxeso3sptspkbk7sas9xps4xo3fxpsuftlkxesm7fs9xso3p3pm3fxuk7eso3s97psu9x07psas97psb7fek997psbfxbxeo7so3so3p3eu9x0xfp3sasxtes97ps7nl3b7psm3foko7pso3po3sjxukxs4tuj7sbk34m7sxmxf3ukxesm7fso7eo3s4xpsp3s93psjxnkxsntpuxo7sasp3sxffxpbfxnxes3eso3pnxeoxoxsbtfnt93ebxso3bfxpso3s97psik3ff7ps4xhku7pso3s439gtkxo3p'"
            ],
            "application/vnd.google.colaboratory.intrinsic+json": {
              "type": "string"
            }
          },
          "metadata": {},
          "execution_count": 58
        }
      ]
    },
    {
      "cell_type": "code",
      "source": [
        "log_p1 = goodness(decoded1, bigram_table)  # evaluamos\n",
        "log_p1"
      ],
      "metadata": {
        "colab": {
          "base_uri": "https://localhost:8080/"
        },
        "outputId": "9651d62e-9555-43df-e83a-fbcab1693ff8",
        "id": "18QLwwLJ_0sg"
      },
      "execution_count": 59,
      "outputs": [
        {
          "output_type": "execute_result",
          "data": {
            "text/plain": [
              "-31172.02538634292"
            ]
          },
          "metadata": {},
          "execution_count": 59
        }
      ]
    },
    {
      "cell_type": "markdown",
      "source": [
        "En base a lo anterior ¿Aceptamos la nueva clave propuesta?"
      ],
      "metadata": {
        "id": "ciroJbtIAJpe"
      }
    },
    {
      "cell_type": "markdown",
      "source": [
        "## Algoritmo completo"
      ],
      "metadata": {
        "id": "g3C0k_ZmBfZG"
      }
    },
    {
      "cell_type": "code",
      "execution_count": 60,
      "metadata": {
        "id": "SiCt0FxCYr7h"
      },
      "outputs": [],
      "source": [
        "def transpose_random(key):\n",
        "    pair = random.sample(alphabet, 2)\n",
        "    new_key = dict(key)\n",
        "    new_key[pair[0]] = key[pair[1]]\n",
        "    new_key[pair[1]] = key[pair[0]]\n",
        "    return new_key\n",
        "\n",
        "def decode(cipher_text, bigram_table, iters = 10000, print_every = 1000):\n",
        "    # 1. inicializamos con una clave aleatoria\n",
        "    current_key = make_random_key()  \n",
        "\n",
        "    for i in range(0, iters):  # en cada iteración utilizaremos una nueva clave\n",
        "\n",
        "        # 2. decodificamos la secuencia con la clave\n",
        "        decoded = code(cipher_text, current_key) \n",
        "\n",
        "        if i % print_every == 0:\n",
        "            print(str(i) + \"\\t\" + decoded + \"\\n\")\n",
        "\n",
        "        # 3. evaluamos la secuencia utilizando el modelo de bigramas \n",
        "        score = goodness(decoded, bigram_table)   \n",
        "               \n",
        "        # 4. proponemos una nueva clave \"cercana\"\n",
        "        changed_key = transpose_random(current_key) \n",
        "\n",
        "        # 5. evaluamos la nueva clave decodificando la secuencia  \n",
        "        changed_score = goodness(code(cipher_text, changed_key), bigram_table)  # evaluamos la secuencia con la nueva clave propuesta\n",
        "\n",
        "        # 6.1 si la clave propuesta da mejores resultados nos quedamos con ella para la prox iteración\n",
        "        if changed_score > score:   \n",
        "            current_key = changed_key\n",
        "\n",
        "        # damos oportunidad proporcional a la relación entre la probabilidad de las dos secuencias evaluadas \n",
        "        else:  \n",
        "            diff = changed_score - score\n",
        "            if math.log(random.random())  < diff:\n",
        "                current_key = changed_key\n",
        "\n",
        "    decoded = code(cipher_text, current_key)\n",
        "    print(\"Final decoded: \" + decoded)\n",
        "    return decoded"
      ]
    },
    {
      "cell_type": "code",
      "execution_count": 66,
      "metadata": {
        "id": "rT7ZraMAYr7h",
        "outputId": "ab47feae-9866-4780-f212-bc86c1d9731c",
        "colab": {
          "base_uri": "https://localhost:8080/",
          "height": 524
        }
      },
      "outputs": [
        {
          "output_type": "stream",
          "name": "stdout",
          "text": [
            "0\tuwm0a9l42a9lqv97wv9lc3vñgvl46l7v6agañlqvlcw9f64ufvñgalv6lma3añv6l4w3v6f4ñal1wvñqf4l041f4lqvl3vma3q43l4kwv664lg43qvl3vuag4lvñlkwvl9wl74q3vl6al66vdal4lmañamv3lv6l0fv6alu4mañqalv34lvñgañmv9lwñ4l46qv4lqvldvfñgvlm4949lqvl1433alolm424134d4lmañ9g3wfq49l4l64la3f664lqvlwñl3falqvl4pw49lqf4c4ñ49lkwvl9vl73vmf7fg414ñl7a3lwñl6vm0alqvl7fvq349l7w6fq49l164ñm49lolvña3uv9lmaual0wvda9l73v0f9ga3fma9lv6luwñqalv34lg4ñl3vmfvñgvlkwvluwm049lma949lm43vmf4ñlqvlñau13vlol7434luvñmfañ43649l041f4lkwvl9v24643f49lmañlv6lqvqalgaqa9l6a9l42a9l7a3lv6luv9lqvlu438alwñ4lc4uf6f4lqvlpfg4ña9lqv9433474qa9l764ñg414l9wlm4374lmv3m4lqvl64l46qv4lolmañlwñlp34ñqvl461a3agalqvl7fga9lolgfu146v9lq414ñl4lmañamv3l6a9lñwvda9lfñdvñga9l73fuv3al66vd43añlv6lfu4ñlwñlpfg4ñalma37w6vñgalqvl14314luañg4348lolu4ña9lqvlpa33fañlkwvl9vl73v9vñgalmañlv6lñau13vlqvluv6kwf4qv9l0f8alwñ4lg3wmw6vñg4lqvua9g34mfañl7w16fm4lqvl6alkwvlv6luf9ual664u414l64lamg4d4lu434df664lqvl6a9l941fa9l46kwfuf9g49lqvlu4mvqañf4lcwvlqvlm494lvñlm494l43349g34ñqalqa9l6fñpagv9luvg46fma9lolgaqalv6luwñqal9vlv974ñgal46ldv3lkwvl6a9lm46qv3a9l649l74f649l649lgvñ4849lol6a9l4ñ4cv9l9vlm4f4ñlqvl9wl9fgfalol649lu4qv349lm3wef4ñl7a3l64lqv9v97v34mfañlqvl6a9lm64da9lol6a9lga3ñf66a9lg34g4ñqalqvlqv9vñm64d439vlol4wñl6a9la1evga9l7v3qfqa9lqv9qvl04mf4luwm0algfvu7al4743vmf4ñl7a3lqañqvlu49l9vl6v9l041f4l1w9m4qalol9vl43349g3414ñlvñlqv914ñq4q4lgw31w6vñg4lqvg349lqvl6a9lcfv33a9lu4pfma9lqvluv6kwf4qv9\n",
            "\n",
            "1000\tgmbjur eñur tordmor sionco el dolucun to smralegaoncu ol buiunol emiolaenu fmontae jefae to iobuitei exmolle ceito ioguce on xmo rm detio lu llovu e bunuboi ol jaolu gebuntu oie oncunbor mne eltoe to voanco berer to feiiu y beñefieve bunrcimater e le uialle to mn iau to ezmer taesener xmo ro diobadacefen dui mn lobju to daotier dmlater flenber y onuigor bugu jmovur diojarcuiabur ol gmntu oie cen iobaonco xmo gmbjer burer beiobaen to nugfio y deie gonbauneiler jefae xmo roñeleiaer bun ol totu cutur lur eñur dui ol gor to geipu mne segalae to zacenur toreiiedetur dlencefe rm beide boibe to le eltoe y bun mn ziento elfuiucu to dacur y cagfelor tefen e bunuboi lur nmovur anvoncur diagoiu lloveiun ol agen mn zacenu buidmloncu to feife gunceiep y genur to zuiiaun xmo ro dioroncu bun ol nugfio to golxmaetor japu mne cimbmlonce togurciebaun dmflabe to lu xmo ol gargu llegefe le ubceve geievalle to lur refaur elxmagarcer to gebotunae smo to bere on bere eiiercientu tur lanzucor gocelabur y cutu ol gmntu ro ordencu el voi xmo lur beltoiur ler dealer ler coneper y lur enesor ro beaen to rm racau y ler getoier bimhaen dui le torordoiebaun to lur blevur y lur cuinallur ciecentu to toronbleveiro y emn lur ufhocur doitatur torto jebae gmbju caogdu edeiobaen dui tunto ger ro lor jefae fmrbetu y ro eiierciefen on torfentete cmifmlonce tocier to lur saoiiur gezabur to golxmaetor\n",
            "\n",
            "2000\tdlcvus oñus mesfles piente or ferutun me plsarodaentu er cuiuner olieraonu blenmao vobao me iecuimoi ozlerro toime ieduto en zle sl fomie ru rreju o cunucei er vaeru docunmu eio entunces lno ormeo me jeante cosos me boiiu y coñobiojo cunstilamos o ro uiarro me ln iau me oglos maoponos zle se fiecafatobon fui ln recvu me faemios flramos broncos y enuides cudu vlejus fievastuiacus er dlnmu eio ton iecaente zle dlcvos cusos coiecaon me nudbie y foio dencaunoiros vobao zle señoroiaos cun er memu tumus rus oñus fui er des me doihu lno podarao me gatonus mesoiiofomus frontobo sl coifo ceico me ro ormeo y cun ln gionme orbuiutu me fatus y tadbores mobon o cunucei rus nlejus anjentus fiadeiu rrejoiun er adon ln gatonu cuiflrentu me boibo duntoioh y donus me guiiaun zle se fiesentu cun er nudbie me derzlaomes vahu lno tilclrento medustiocaun flbraco me ru zle er dasdu rrodobo ro uctojo doiojarro me rus sobaus orzladastos me docemunao ple me coso en coso oiiostionmu mus rangutes detoracus y tumu er dlnmu se esfontu or jei zle rus cormeius ros foaros ros tenohos y rus onopes se coaon me sl satau y ros domeios cilxaon fui ro mesesfeiocaun me rus crojus y rus tuinarrus tiotonmu me mesencrojoise y oln rus ubxetus feimamus mesme vocao dlcvu taedfu ofoiecaon fui munme dos se res vobao blscomu y se oiiostiobon en mesbonmomo tliblrento metios me rus paeiius dogacus me derzlaomes\n",
            "\n",
            "3000\tmictos eños dasfias vranga el falogon da visulemuango al coronal eiralueno biandue tebue da racorder epialle gerda ramoge an pia si fedra lo llajo e conocar al tualo mecondo are angoncas ine eldae da jaunga ceses da berro y ceñebreje consgriudes e le orulle da in ruo da ehies duevenes pia sa fracufugeben for in lacto da fuadres filudes blences y anormas como tiajos fratusgorucos al mindo are gen racuanga pia mictes coses ceracuen da nombra y fere mancuonerles tebue pia sañelerues con al dado godos los eños for al mas da merxo ine vemulue da hugenos daserrefedos flengebe si cerfe carce da le eldae y con in hrenda elborogo da fugos y gumbelas deben e conocar los niajos unjangos frumaro llajeron al umen in hugeno corfilango da berbe mongerex y menos da horruon pia sa frasango con al nombra da malpiuedas tuxo ine gricilange damosgrecuon fibluce da lo pia al musmo llemebe le ocgeje merejulle da los sebuos elpiumusges da mecadonue via da cese an cese erresgrendo dos lunhogas magelucos y godo al mindo sa asfengo el jar pia los celdaros les feules les ganexes y los enevas sa ceuen da si suguo y les medares crizuen for le dasasfarecuon da los clejos y los gornullos gregendo da dasanclejersa y ein los obzagos fardudos dasda tecue micto guamfo eferacuen for donda mes sa las tebue biscedo y sa erresgreben an dasbendede girbilange dagres da los vuarros mehucos da malpiuedas\n",
            "\n",
            "4000\tmuchos eños daspuas tranga el palogon da tusilemiango al coronal euralieno buandie hebie da racorder evualle gerda ramoge an vua su pedra lo llajo e conocar al hialo mecondo are angoncas une eldae da jainga ceses da berro y ceñebreje consgruides e le orille da un rio da efues dietenes vua sa pracipigeben por un lacho da piadres pulides blences y anormas como huajos prahisgoricos al mundo are gen racianga vua muches coses ceracien da nombra y pere mancionerles hebie vua sañeleries con al dado godos los eños por al mas da merzo une temilie da figenos daserrepedos plengebe su cerpe carce da le eldae y con un frenda elborogo da pigos y gimbelas deben e conocar los nuajos injangos primaro llajeron al imen un figeno corpulango da berbe mongerez y menos da forrion vua sa prasango con al nombra da malvuiedas hizo une gruculange damosgrecion publice da lo vua al mismo llemebe le ocgeje merejille da los sebios elvuimisges da mecadonie tua da cese an cese erresgrendo dos linfogas magelicos y godo al mundo sa aspengo el jar vua los celdaros les peiles les ganezes y los enetas sa ceien da su sigio y les medares cruxien por le dasasparecion da los clejos y los gornillos gregendo da dasanclejersa y eun los obxagos pardidos dasda hecie mucho giampo eperacien por donda mes sa las hebie buscedo y sa erresgreben an dasbendede gurbulange dagres da los tiarros meficos da malvuiedas\n",
            "\n",
            "5000\tmuchos años despues frente al peloton de fusilamiento el coronel aureliano buendia habia de recordar avuella tarde remota en vue su padre lo llejo a conocer el hielo macondo era entonces una aldea de jeinte casas de barro y cañabraja construidas a la orilla de un rio de aguas diafanas vue se precipitaban por un lecho de piedras pulidas blancas y enormes como huejos prehistoricos el mundo era tan reciente vue muchas cosas carecian de nombre y para mencionarlas habia vue señalarias con el dedo todos los años por el mes de marzo una familia de gitanos desarrapados plantaba su carpa cerca de la aldea y con un grande alboroto de pitos y timbales daban a conocer los nuejos injentos primero llejaron el iman un gitano corpulento de barba montaraz y manos de gorrion vue se presento con el nombre de melvuiades hizo una truculenta demostracion publica de lo vue el mismo llamaba la octaja marajilla de los sabios alvuimistas de macedonia fue de casa en casa arrastrando dos lingotes metalicos y todo el mundo se espanto al jer vue los calderos las pailas las tenazas y los anafes se caian de su sitio y las maderas cruxian por la desesperacion de los clajos y los tornillos tratando de desenclajarse y aun los obxetos perdidos desde hacia mucho tiempo aparecian por donde mas se les habia buscado y se arrastraban en desbandada turbulenta detras de los fierros magicos de melvuiades\n",
            "\n",
            "6000\tmuchos años despues frente al peloton de fusilamiento el coronel aureliano buendia habia de recordar avuella tarde remota en vue su padre lo llejo a conocer el hielo macondo era entonces una aldea de jeinte casas de barro y cañabraja construidas a la orilla de un rio de aguas diafanas vue se precipitaban por un lecho de piedras pulidas blancas y enormes como huejos prehistoricos el mundo era tan reciente vue muchas cosas carecian de nombre y para mencionarlas habia vue señalarias con el dedo todos los años por el mes de marzo una familia de gitanos desarrapados plantaba su carpa cerca de la aldea y con un grande alboroto de pitos y timbales daban a conocer los nuejos injentos primero llejaron el iman un gitano corpulento de barba montaraz y manos de gorrion vue se presento con el nombre de melvuiades hizo una truculenta demostracion publica de lo vue el mismo llamaba la octaja marajilla de los sabios alvuimistas de macedonia fue de casa en casa arrastrando dos lingotes metalicos y todo el mundo se espanto al jer vue los calderos las pailas las tenazas y los anafes se caian de su sitio y las maderas cruxian por la desesperacion de los clajos y los tornillos tratando de desenclajarse y aun los obxetos perdidos desde hacia mucho tiempo aparecian por donde mas se les habia buscado y se arrastraban en desbandada turbulenta detras de los fierros magicos de melvuiades\n",
            "\n",
            "7000\tmuchos años despues frente al peloton de fusilamiento el coronel aureliano buendia habia de recordar avuella tarde remota en vue su padre lo llejo a conocer el hielo macondo era entonces una aldea de jeinte casas de barro y cañabraja construidas a la orilla de un rio de aguas diafanas vue se precipitaban por un lecho de piedras pulidas blancas y enormes como huejos prehistoricos el mundo era tan reciente vue muchas cosas carecian de nombre y para mencionarlas habia vue señalarias con el dedo todos los años por el mes de marzo una familia de gitanos desarrapados plantaba su carpa cerca de la aldea y con un grande alboroto de pitos y timbales daban a conocer los nuejos injentos primero llejaron el iman un gitano corpulento de barba montaraz y manos de gorrion vue se presento con el nombre de melvuiades hizo una truculenta demostracion publica de lo vue el mismo llamaba la octaja marajilla de los sabios alvuimistas de macedonia fue de casa en casa arrastrando dos lingotes metalicos y todo el mundo se espanto al jer vue los calderos las pailas las tenazas y los anafes se caian de su sitio y las maderas cruxian por la desesperacion de los clajos y los tornillos tratando de desenclajarse y aun los obxetos perdidos desde hacia mucho tiempo aparecian por donde mas se les habia buscado y se arrastraban en desbandada turbulenta detras de los fierros magicos de melvuiades\n",
            "\n",
            "8000\tmuchos años despues frente al peloton de fusilamiento el coronel aureliano buendia habia de recordar avuella tarde remota en vue su padre lo llejo a conocer el hielo macondo era entonces una aldea de jeinte casas de barro y cañabraja construidas a la orilla de un rio de aguas diafanas vue se precipitaban por un lecho de piedras pulidas blancas y enormes como huejos prehistoricos el mundo era tan reciente vue muchas cosas carecian de nombre y para mencionarlas habia vue señalarias con el dedo todos los años por el mes de marzo una familia de gitanos desarrapados plantaba su carpa cerca de la aldea y con un grande alboroto de pitos y timbales daban a conocer los nuejos injentos primero llejaron el iman un gitano corpulento de barba montaraz y manos de gorrion vue se presento con el nombre de melvuiades hizo una truculenta demostracion publica de lo vue el mismo llamaba la octaja marajilla de los sabios alvuimistas de macedonia fue de casa en casa arrastrando dos lingotes metalicos y todo el mundo se espanto al jer vue los calderos las pailas las tenazas y los anafes se caian de su sitio y las maderas cruxian por la desesperacion de los clajos y los tornillos tratando de desenclajarse y aun los obxetos perdidos desde hacia mucho tiempo aparecian por donde mas se les habia buscado y se arrastraban en desbandada turbulenta detras de los fierros magicos de melvuiades\n",
            "\n",
            "9000\tmuchos años despues frente al peloton de fusilamiento el coronel aureliano buendia habia de recordar avuella tarde remota en vue su padre lo llejo a conocer el hielo macondo era entonces una aldea de jeinte casas de barro y cañabraja construidas a la orilla de un rio de aguas diafanas vue se precipitaban por un lecho de piedras pulidas blancas y enormes como huejos prehistoricos el mundo era tan reciente vue muchas cosas carecian de nombre y para mencionarlas habia vue señalarias con el dedo todos los años por el mes de marzo una familia de gitanos desarrapados plantaba su carpa cerca de la aldea y con un grande alboroto de pitos y timbales daban a conocer los nuejos injentos primero llejaron el iman un gitano corpulento de barba montaraz y manos de gorrion vue se presento con el nombre de melvuiades hizo una truculenta demostracion publica de lo vue el mismo llamaba la octaja marajilla de los sabios alvuimistas de macedonia fue de casa en casa arrastrando dos lingotes metalicos y todo el mundo se espanto al jer vue los calderos las pailas las tenazas y los anafes se caian de su sitio y las maderas cruxian por la desesperacion de los clajos y los tornillos tratando de desenclajarse y aun los obxetos perdidos desde hacia mucho tiempo aparecian por donde mas se les habia buscado y se arrastraban en desbandada turbulenta detras de los fierros magicos de melvuiades\n",
            "\n",
            "Final decoded: muchos años despues frente al peloton de fusilamiento el coronel aureliano buendia habia de recordar avuella tarde remota en vue su padre lo llejo a conocer el hielo macondo era entonces una aldea de jeinte casas de barro y cañabraja construidas a la orilla de un rio de aguas diafanas vue se precipitaban por un lecho de piedras pulidas blancas y enormes como huejos prehistoricos el mundo era tan reciente vue muchas cosas carecian de nombre y para mencionarlas habia vue señalarias con el dedo todos los años por el mes de marzo una familia de gitanos desarrapados plantaba su carpa cerca de la aldea y con un grande alboroto de pitos y timbales daban a conocer los nuejos injentos primero llejaron el iman un gitano corpulento de barba montaraz y manos de gorrion vue se presento con el nombre de melvuiades hizo una truculenta demostracion publica de lo vue el mismo llamaba la octaja marajilla de los sabios alvuimistas de macedonia fue de casa en casa arrastrando dos lingotes metalicos y todo el mundo se espanto al jer vue los calderos las pailas las tenazas y los anafes se caian de su sitio y las maderas cruxian por la desesperacion de los clajos y los tornillos tratando de desenclajarse y aun los obxetos perdidos desde hacia mucho tiempo aparecian por donde mas se les habia buscado y se arrastraban en desbandada turbulenta detras de los fierros magicos de melvuiades\n"
          ]
        },
        {
          "output_type": "execute_result",
          "data": {
            "text/plain": [
              "'muchos años despues frente al peloton de fusilamiento el coronel aureliano buendia habia de recordar avuella tarde remota en vue su padre lo llejo a conocer el hielo macondo era entonces una aldea de jeinte casas de barro y cañabraja construidas a la orilla de un rio de aguas diafanas vue se precipitaban por un lecho de piedras pulidas blancas y enormes como huejos prehistoricos el mundo era tan reciente vue muchas cosas carecian de nombre y para mencionarlas habia vue señalarias con el dedo todos los años por el mes de marzo una familia de gitanos desarrapados plantaba su carpa cerca de la aldea y con un grande alboroto de pitos y timbales daban a conocer los nuejos injentos primero llejaron el iman un gitano corpulento de barba montaraz y manos de gorrion vue se presento con el nombre de melvuiades hizo una truculenta demostracion publica de lo vue el mismo llamaba la octaja marajilla de los sabios alvuimistas de macedonia fue de casa en casa arrastrando dos lingotes metalicos y todo el mundo se espanto al jer vue los calderos las pailas las tenazas y los anafes se caian de su sitio y las maderas cruxian por la desesperacion de los clajos y los tornillos tratando de desenclajarse y aun los obxetos perdidos desde hacia mucho tiempo aparecian por donde mas se les habia buscado y se arrastraban en desbandada turbulenta detras de los fierros magicos de melvuiades'"
            ],
            "application/vnd.google.colaboratory.intrinsic+json": {
              "type": "string"
            }
          },
          "metadata": {},
          "execution_count": 66
        }
      ],
      "source": [
        "decode(cipher_text, bigram_table, 10000)"
      ]
    },
    {
      "cell_type": "markdown",
      "metadata": {
        "id": "zi2Lqc5PYr7i"
      },
      "source": [
        "# Otros ejemplos"
      ]
    },
    {
      "cell_type": "code",
      "execution_count": 76,
      "metadata": {
        "colab": {
          "base_uri": "https://localhost:8080/",
          "height": 105
        },
        "outputId": "d1dd2201-3c0d-4940-f342-8242d30c3bd3",
        "id": "rrQsFuePH_po"
      },
      "outputs": [
        {
          "output_type": "execute_result",
          "data": {
            "text/plain": [
              "'demsil8ixeti515lt16ime5l81t1lfteetl7releñl8ñ1med1lxeñlfr1ñlnem21leñl8t2mf282dilet1leñl15deti2xelvlcy le5del15deti2xelo1l52xiln25dil5iñilrm1lne6lfimleñldeñe5fi82ilemlykakl8itlrml15dtimiqildrtfile5del15dtimiqilo26ilrm1lst1mlxeqi5dt1f2imlxel5rlxe5frvt2q2emdilemlrmlfimste5il2mdetm1f2im1ñlxel15dtimiq21l8etilm1x2elñelftewil1lf1r51lxel5rlq1met1lxelne5d2tlñ15l8et5im15lq1wite5l5iml152l4eñ26qemdel81t1lñ1lte8rd1f2imlxeñl15deti2xelvlcy lrmlx2fd1xitldrtfil2q8r5il1l5rl8revñilv1pil8em1lxelqretdeleñlne5d2xil1lñ1lerti8e1lemdimfe5leñl15dtimiqilniñn2il1lx1tlfremd1lxel5rlxe5frvt2q2emdilemlyk alwlfiqilñrf21lrmldt1pelqrwleñes1mdeldixileñlqrmxil1fe8dil5rlxeqi5dt1f2im'"
            ],
            "application/vnd.google.colaboratory.intrinsic+json": {
              "type": "string"
            }
          },
          "metadata": {},
          "execution_count": 76
        }
      ],
      "source": [
        "# El principito. Tomado de https://archive.org/stream/ElPrincipitoAntoineDeSaintExupery/El_principito-_Antoine_De_Saint_Exupery_djvu.txt\n",
        "\n",
        "plain_text = limpiar_texto(\n",
        "    \"\"\"Tengo poderosas razones para creer que el planeta del cual venía el principito era \n",
        "el asteroide B 612. Este asteroide ha sido visto sólo una vez con el telescopio en \n",
        "1909, por un astrónomo turco. \n",
        "Este astrónomo hizo una gran demostración de su descubrimiento en un congreso \n",
        "Internacional de Astronomía. Pero nadie le creyó a causa de su manera de vestir. \n",
        "Las personas mayores son así. Felizmente para la reputación del asteroide B 612, \n",
        "un dictador turco impuso a su pueblo, bajo pena de muerte, el vestido a la \n",
        "europea. Entonces el astrónomo volvió a dar cuenta de su descubrimiento en 1920 \n",
        "y como lucía un traje muy elegante, todo el mundo aceptó su demostración. \n",
        "\"\"\"\n",
        ")\n",
        "cipher_text = code(plain_text, key)\n",
        "cipher_text"
      ]
    },
    {
      "cell_type": "code",
      "execution_count": 78,
      "metadata": {
        "scrolled": false,
        "outputId": "e96ac085-9af6-45fe-8555-5112086d540e",
        "colab": {
          "base_uri": "https://localhost:8080/",
          "height": 837
        },
        "id": "5og76b75H_px"
      },
      "outputs": [
        {
          "output_type": "stream",
          "name": "stdout",
          "text": [
            "0\tk7ñ361v6o7y6j4j1y4h6ñ7j1v4y41iy77y1e2717s1vs4ñ7k41o7s1i24s107ñp417s1vypñipvpk617y417s14jk7y6po71d1cq 17jk714jk7y6po71541jpo610pjk61j6s612ñ4107h1i6ñ17s1k7s7ji6vp617ñ1qbab1v6y12ñ14jky6ñ6r61k2yi617jk714jky6ñ6r615ph612ñ413y4ñ1o7r6jky4ip6ñ1o71j21o7ji2dyprp7ñk617ñ12ñ1i6ñ3y7j61pñk7yñ4ip6ñ4s1o714jky6ñ6rp41v7y61ñ4op71s71iy7x6141i42j41o71j21r4ñ7y41o7107jkpy1s4j1v7yj6ñ4j1r4x6y7j1j6ñ14jp1n7sphr7ñk71v4y41s41y7v2k4ip6ñ1o7s14jk7y6po71d1cq 12ñ1opik4o6y1k2yi61prv2j6141j21v27ds61d4g61v7ñ41o71r27yk717s107jkpo6141s4172y6v7417ñk6ñi7j17s14jky6ñ6r6106s0p6141o4y1i27ñk41o71j21o7ji2dyprp7ñk617ñ1qb a1x1i6r61s2ip412ñ1ky4g71r2x17s734ñk71k6o617s1r2ño614i7vk61j21o7r6jky4ip6ñ\n",
            "\n",
            "1000\tcarze pemaielol ioderal poio biaai yta an pnoraco man bton varuo an piurbupuce aio an olcaieuma f w14 alca olcaieuma go lume vulce lene tro vad ber an canalbepue ar 10k0 pei tr olcierese ctibe alca olcierese gude tro zior maselciobuer ma lt malbtfiusuarce ar tr berziale urcairobueron ma olcieresuo paie romua na biaxe o botlo ma lt soraio ma valcui nol pailerol soxeial ler olu hanudsarca poio no iaptcobuer man olcaieuma f w14 tr mubcomei ctibe usptle o lt ptafne foje paro ma staica an valcume o no atiepao arcerbal an olcierese venvue o moi btarco ma lt malbtfiusuarce ar 104k x bese ntbuo tr cioja stx anazorca ceme an strme obapce lt maselciobuer\n",
            "\n",
            "2000\tcarje pemaienon ioberan poio siaai xta ad pdoraco mad stod varuo ad piursupuce aio ad oncaieuma h q10 anca oncaieuma fo nume vunce nede tro vab ser ad cadansepue ar 1646 pei tr oncierele ctise anca oncierele fube tro jior malenciosuer ma nt mansthiuluarce ar tr serjiane urcairosuerod ma onciereluo paie romua da siaze o sotno ma nt loraio ma vancui don paineron lozeian ner onu gadublarca poio do iaptcosuer mad oncaieuma h q10 tr muscomei ctise ulptne o nt ptahde hoñe paro ma ltaica ad vancume o do atiepao arcersan ad oncierele vedvue o moi starco ma nt mansthiuluarce ar 1604 z sele dtsuo tr cioña ltz adajorca ceme ad ltrme osapce nt malenciosuer\n",
            "\n",
            "3000\tcerga pameianon iobaren poio sieei xte ed pdoreco med stod veruo ed piursupuca eio ed onceiaume h q10 ence onceiaume jo numa vunca nada tro veb sar ed cedensapua er 1646 pai tr onciarala ctisa ence onciarala juba tro gior melanciosuar me nt mensthiuluerca er tr sargiena urceirosuarod me onciaraluo peia romue de sieza o sotno me nt loreio me vencui don peinaron lozaien nar onu yedublerce poio do ieptcosuar med onceiaume h q10 tr muscomai ctisa ulptna o nt ptehda hofa pero me lteice ed vencuma o do etiapeo ercarsen ed onciarala vadvua o moi sterco me nt mensthiuluerca er 1604 z sala dtsuo tr ciofe ltz edegorce cama ed ltrma osepca nt melanciosuar\n",
            "\n",
            "4000\tterga pameianon iobaren poio sieei xce ed pdoreto med scod veruo ed piursuputa eio ed onteiaume h q10 ente onteiaume fo numa vunta nada cro veb sar ed tedensapua er 1646 pai cr ontiarala tcisa ente ontiarala fuba cro gior melantiosuar me nc menschiuluerta er cr sargiena urteirosuarod me ontiaraluo peia romue de sieza o socno me nc loreio me ventui don peinaron lozaien nar onu yedublerte poio do iepctosuar med onteiaume h q10 cr mustomai tcisa ulpcna o nc pcehda hoja pero me lceite ed ventuma o do eciapeo ertarsen ed ontiarala vadvua o moi scerto me nc menschiuluerta er 1604 z sala dcsuo cr tioje lcz edegorte tama ed lcrma osepta nc melantiosuar\n",
            "\n",
            "5000\tterga pameianon iobaren poio lieei xce ed pdoreto med lcod veruo ed piurluputa eio ed onteiaume h q10 ente onteiaume fo numa vunta nada cro veb lar ed tedenlapua er 1646 pai cr ontiarasa tcila ente ontiarasa fuba cro gior mesantioluar me nc menlchiusuerta er cr largiena urteiroluarod me ontiarasuo peia romue de lieza o locno me nc soreio me ventui don peinaron sozaien nar onu yedubserte poio do iepctoluar med onteiaume h q10 cr multomai tcila uspcna o nc pcehda hoja pero me sceite ed ventuma o do eciapeo ertarlen ed ontiarasa vadvua o moi lcerto me nc menlchiusuerta er 1604 z lasa dcluo cr tioje scz edegorte tama ed scrma olepta nc mesantioluar\n",
            "\n",
            "6000\tterga pameianon iobaren poio lieei xce ed pdoreto med lcod veruo ed piurluputa eio ed onteiaume h q10 ente onteiaume yo numa vunta nada cro veb lar ed tedenlapua er 1646 pai cr ontiarasa tcila ente ontiarasa yuba cro gior mesantioluar me nc menlchiusuerta er cr largiena urteiroluarod me ontiarasuo peia romue de lieza o locno me nc soreio me ventui don peinaron sozaien nar onu fedubserte poio do iepctoluar med onteiaume h q10 cr multomai tcila uspcna o nc pcehda hoja pero me sceite ed ventuma o do eciapeo ertarlen ed ontiarasa vadvua o moi lcerto me nc menlchiusuerta er 1604 z lasa dcluo cr tioje scz edegorte tama ed scrma olepta nc mesantioluar\n",
            "\n",
            "7000\ttelga pameianon iobalen poio cieei hre es psoleto mes cros veluo es piulcuputa eio es onteiaume x q10 ente onteiaume yo numa vunta nasa rlo veb cal es tesencapua el 1646 pai rl ontialada trica ente ontialada yuba rlo giol medantiocual me nr mencrxiuduelta el rl calgiena ulteilocualos me ontialaduo peia lomue se cieza o corno me nr doleio me ventui son peinalon dozaien nal onu fesubdelte poio so ieprtocual mes onteiaume x q10 rl muctomai trica udprna o nr prexsa xoja pelo me dreite es ventuma o so eriapeo eltalcen es ontialada vasvua o moi crelto me nr mencrxiuduelta el 1604 z cada srcuo rl tioje drz esegolte tama es drlma ocepta nr medantiocual\n",
            "\n",
            "8000\ttenga pamerasos roxanes poro creer fie el ploneto mel ciol denuo el pruncuputa ero el osteraume b q10 este osteraume ho suma dusta sala ino dex can el telescapua en 1646 par in ostranava tirca este ostranava huxa ino gron mevastrocuan me si mescibruvuenta en in cangresa unternocuanol me ostranavuo pera nomue le creza o coiso me si vonero me destur los persanos vozares san osu yeluxvente poro lo repitocuan mel osteraume b q10 in muctomar tirca uvpisa o si piebla boja peno me vierte el destuma o lo eirapeo entances el ostranava daldua o mor ciento me si mescibruvuenta en 1604 z cava licuo in troje viz elegonte tama el vinma ocepta si mevastrocuan\n",
            "\n",
            "9000\ttenga paverasos royanes poro creer xie el ploneto vel ciol denuo el pruncuputa ero el osterauve b q10 este osterauve ho suva dusta sala ino dey can el telescapua en 1646 par in ostranama tirca este ostranama huya ino gron vemastrocuan ve si vescibrumuenta en in cangresa unternocuanol ve ostranamuo pera novue le creza o coiso ve si monero ve destur los persanos mozares san osu feluymente poro lo repitocuan vel osterauve b q10 in vuctovar tirca umpisa o si piebla boja peno ve mierte el destuva o lo eirapeo entances el ostranama daldua o vor ciento ve si vescibrumuenta en 1604 z cama licuo in troje miz elegonte tava el minva ocepta si vemastrocuan\n",
            "\n",
            "10000\ttenga paderasos rozanes poro creer xie el ploneto del ciol venuo el pruncuputa ero el osteraude b q10 este osteraude ho suda vusta sala ino vez can el telescapua en 1646 par in ostranama tirca este ostranama huza ino gron demastrocuan de si descibrumuenta en in cangresa unternocuanol de ostranamuo pera nodue le creya o coiso de si monero de vestur los persanos moyares san osu feluzmente poro lo repitocuan del osteraude b q10 in ductodar tirca umpisa o si piebla boja peno de mierte el vestuda o lo eirapeo entances el ostranama valvua o dor ciento de si descibrumuenta en 1604 y cama licuo in troje miy elegonte tada el minda ocepta si demastrocuan\n",
            "\n",
            "11000\ttenga paderasos rozanes poro creer xie el ploneto del ciol venuo el pruncuputa ero el osteraude b q10 este osteraude ho suda vusta sala ino vez can el telescapua en 1646 par in ostranama tirca este ostranama huza ino gron demastrocuan de si descibrumuenta en in cangresa unternocuanol de ostranamuo pera nodue le creya o coiso de si monero de vestur los persanos moyares san osu feluzmente poro lo repitocuan del osteraude b q10 in ductodar tirca umpisa o si piebla boja peno de mierte el vestuda o lo eirapeo entances el ostranama valvua o dor ciento de si descibrumuenta en 1604 y cama licuo in troje miy elegonte tada el minda ocepta si demastrocuan\n",
            "\n",
            "12000\ttenga paderasos rozanes poro creer fue el ploneto del cuol venio el principita ero el osteraide b q10 este osteraide ho sida vista sala uno vez can el telescapia en 1646 par un ostranama turca este ostranama hiza uno gron demastrocian de su descubrimienta en un cangresa internocianol de ostranamio pera nodie le creya o couso de su monero de vestir los persanos moyares san osi xelizmente poro lo reputocian del osteraide b q10 un dictodar turca impusa o su puebla boja peno de muerte el vestida o lo eurapeo entances el ostranama valvia o dor cuento de su descubrimienta en 1604 y cama lucio un troje muy elegonte tada el munda ocepta su demastrocian\n",
            "\n",
            "13000\ttengo poderosas razones para creer fue el planeta del cual venia el principito era el asteroide b q10 este asteroide ha sido visto solo una vez con el telescopio en 1646 por un astronomo turco este astronomo hizo una gran demostracion de su descubrimiento en un congreso internacional de astronomia pero nadie le creyo a causa de su manera de vestir las personas mayores son asi jelizmente para la reputacion del asteroide b q10 un dictador turco impuso a su pueblo baño pena de muerte el vestido a la europea entonces el astronomo volvio a dar cuenta de su descubrimiento en 1604 y como lucia un trañe muy elegante todo el mundo acepto su demostracion\n",
            "\n",
            "14000\ttengo poderosas razones para creer fue el planeta del cual venia el principito era el asteroide b q10 este asteroide ha sido visto solo una vez con el telescopio en 1646 por un astronomo turco este astronomo hizo una gran demostracion de su descubrimiento en un congreso internacional de astronomia pero nadie le creyo a causa de su manera de vestir las personas mayores son asi jelizmente para la reputacion del asteroide b q10 un dictador turco impuso a su pueblo baño pena de muerte el vestido a la europea entonces el astronomo volvio a dar cuenta de su descubrimiento en 1604 y como lucia un trañe muy elegante todo el mundo acepto su demostracion\n",
            "\n",
            "15000\ttengo poderosas razones para creer fue el planeta del cual venia el principito era el asteroide b q10 este asteroide ha sido visto solo una vez con el telescopio en 1646 por un astronomo turco este astronomo hizo una gran demostracion de su descubrimiento en un congreso internacional de astronomia pero nadie le creyo a causa de su manera de vestir las personas mayores son asi jelizmente para la reputacion del asteroide b q10 un dictador turco impuso a su pueblo baño pena de muerte el vestido a la europea entonces el astronomo volvio a dar cuenta de su descubrimiento en 1604 y como lucia un trañe muy elegante todo el mundo acepto su demostracion\n",
            "\n",
            "16000\ttengo poderosas razones para creer fue el planeta del cual venia el principito era el asteroide b q10 este asteroide ha sido visto solo una vez con el telescopio en 1646 por un astronomo turco este astronomo hizo una gran demostracion de su descubrimiento en un congreso internacional de astronomia pero nadie le creyo a causa de su manera de vestir las personas mayores son asi jelizmente para la reputacion del asteroide b q10 un dictador turco impuso a su pueblo baño pena de muerte el vestido a la europea entonces el astronomo volvio a dar cuenta de su descubrimiento en 1604 y como lucia un trañe muy elegante todo el mundo acepto su demostracion\n",
            "\n",
            "17000\ttengo poderosas razones para creer jue el planeta del cual venia el principito era el asteroide b q10 este asteroide ha sido visto solo una vez con el telescopio en 1646 por un astronomo turco este astronomo hizo una gran demostracion de su descubrimiento en un congreso internacional de astronomia pero nadie le creyo a causa de su manera de vestir las personas mayores son asi felizmente para la reputacion del asteroide b q10 un dictador turco impuso a su pueblo baño pena de muerte el vestido a la europea entonces el astronomo volvio a dar cuenta de su descubrimiento en 1604 y como lucia un trañe muy elegante todo el mundo acepto su demostracion\n",
            "\n",
            "18000\ttengo poderosas razones para creer fue el planeta del cual venia el principito era el asteroide b q10 este asteroide ha sido visto solo una vez con el telescopio en 1646 por un astronomo turco este astronomo hizo una gran demostracion de su descubrimiento en un congreso internacional de astronomia pero nadie le creyo a causa de su manera de vestir las personas mayores son asi jelizmente para la reputacion del asteroide b q10 un dictador turco impuso a su pueblo baño pena de muerte el vestido a la europea entonces el astronomo volvio a dar cuenta de su descubrimiento en 1604 y como lucia un trañe muy elegante todo el mundo acepto su demostracion\n",
            "\n",
            "19000\ttengo poderosas razones para creer fue el planeta del cual venia el principito era el asteroide b q10 este asteroide ha sido visto solo una vez con el telescopio en 1646 por un astronomo turco este astronomo hizo una gran demostracion de su descubrimiento en un congreso internacional de astronomia pero nadie le creyo a causa de su manera de vestir las personas mayores son asi jelizmente para la reputacion del asteroide b q10 un dictador turco impuso a su pueblo baño pena de muerte el vestido a la europea entonces el astronomo volvio a dar cuenta de su descubrimiento en 1604 y como lucia un trañe muy elegante todo el mundo acepto su demostracion\n",
            "\n",
            "Final decoded: tengo poderosas razones para creer jue el planeta del cual venia el principito era el asteroide b q10 este asteroide ha sido visto solo una vez con el telescopio en 1646 por un astronomo turco este astronomo hizo una gran demostracion de su descubrimiento en un congreso internacional de astronomia pero nadie le creyo a causa de su manera de vestir las personas mayores son asi felizmente para la reputacion del asteroide b q10 un dictador turco impuso a su pueblo baño pena de muerte el vestido a la europea entonces el astronomo volvio a dar cuenta de su descubrimiento en 1604 y como lucia un trañe muy elegante todo el mundo acepto su demostracion\n"
          ]
        },
        {
          "output_type": "execute_result",
          "data": {
            "text/plain": [
              "'tengo poderosas razones para creer jue el planeta del cual venia el principito era el asteroide b q10 este asteroide ha sido visto solo una vez con el telescopio en 1646 por un astronomo turco este astronomo hizo una gran demostracion de su descubrimiento en un congreso internacional de astronomia pero nadie le creyo a causa de su manera de vestir las personas mayores son asi felizmente para la reputacion del asteroide b q10 un dictador turco impuso a su pueblo baño pena de muerte el vestido a la europea entonces el astronomo volvio a dar cuenta de su descubrimiento en 1604 y como lucia un trañe muy elegante todo el mundo acepto su demostracion'"
            ],
            "application/vnd.google.colaboratory.intrinsic+json": {
              "type": "string"
            }
          },
          "metadata": {},
          "execution_count": 78
        }
      ],
      "source": [
        "decode(cipher_text, bigram_table, 20000)"
      ]
    },
    {
      "cell_type": "code",
      "execution_count": 80,
      "metadata": {
        "id": "KhpXMQiRYr7i",
        "colab": {
          "base_uri": "https://localhost:8080/",
          "height": 140
        },
        "outputId": "1cde7b2c-aac7-4450-8a37-252d99d68945"
      },
      "outputs": [
        {
          "output_type": "execute_result",
          "data": {
            "text/plain": [
              "'rmlx21lrm1lñ2evtelitsrññi51lwlneñi6ln2ilfiqilrm1lditdrs1lf1q2m1v1l8itleñlf1q2milwl5elñel1fetfilñ1lñ2evteleq8e6il1lvrtñ1t5elxelñ1lñemd2drxlxeñlidtil1m2q1ñlwlxelñ1lñims2drxlxel5r5l81d15l52mleqv1tsilñ1lditdrs1lñelte58imx2il7rele5d1v1l5esrt1lxel7rel1l8e51tlxelñ1lst1mlneñif2x1xlxelñ1lñ2evtelet1lf1816lxels1m1tñ1lemlrm1lf1ttet1lñ1lñ2evtel5esrt1lxel5rln2fdit21lwlfim52xet1mxileñltedil2q8i52vñelxel8etxetl1fe8dil1qvi5l82x2etiml1lñ1l6itt1l7rel5eg1ñ1t1lñ1lqed1l1lñil7rele5d1l1fe8dil1ñl2sr1ñl7rel1ñlfretnil81t1l7relo2f2et1lxelpre6l1ñlññes1tleñlx21lxelñ1lfiq8ed2f2iml1ñleq8e61tlñ1lf1ttet1lñ1lñ2evtelwlñ1lditdrs1l51ñ2etiml1ñlq25qild2eq8ilñ1lditdrs1l1n1m61v1l52mlxedemet5el8etilñemd1qemdelñ1lñ2evtelet1lqrwlneñi6lwln2emxil7rel51f1v1lrm1lst1mlnemd1p1l1lñ1lditdrs1lxef2x2il2tl81t1mxi5elwlxe5f1m51mxilxelne6lemlfr1mxil8etilemlrm1lxelñ15lif152ime5lñ1lñ2evtel5el7rexilxitq2x1lñ1lditdrs1l8ifil1l8ifil52sr2il1n1m61mxilfr1mxilñ1lñ2evtelxe58etdil5elemfimdtilfiml7relñ1lditdrs1le5d1v1l1l8rmdilxelftr61tlñ1lqed1l1rm7relefoil1lfittetl4relxeq1521xild1txelwl42m1ñqemdelñ1lditdrs1ls1milñ1lf1ttet1le5d1l41vrñ1lmi5lem5eg1l7releñldt1v1pilxrtilñ1l8et5enet1mf21lñ1lfim5d1mf21lwleñle54ret6ilmi5lññen1t1ml1lmre5dt15lqed15l1rm7rel5e1l8ifil1l8ifil52lmilmi5ltemx2qi5ld1qv2emlmi5l8etq2delnetlfiqilñ1l1ttis1mf21lñ1l41ñd1lxelfim5d1mf21lwleñleufe5ilxel5esrt2x1xlemlrmilq25qilmi5l8rexelññen1tl1l8etxetli8itdrm2x1xe5lwl1lmil1ñf1m61tlmre5dt15lqed15'"
            ],
            "application/vnd.google.colaboratory.intrinsic+json": {
              "type": "string"
            }
          },
          "metadata": {},
          "execution_count": 80
        }
      ],
      "source": [
        "# La liebre y la tortuga. Tomado de https://psicologiaymente.com/cultura/fabulas-de-esopo\n",
        "\n",
        "plain_text = limpiar_texto(\n",
        "    \"\"\"Un día una liebre orgullosa y veloz, vió como una tortuga caminaba por el camino y se le acercó. La liebre empezó a burlarse de la lentitud del otro animal y de la longitud de sus patas. Sin embargo, la tortuga le respondió que estaba segura de que a pesar de la gran velocidad de la liebre era capaz de ganarla en una carrera.\n",
        "La liebre, segura de su victoria y considerando el reto imposible de perder, aceptó. Ambos pidieron a la zorra que señalara la meta, a lo que esta aceptó, al igual que al cuervo para que hiciera de juez.\n",
        "Al llegar el día de la competición, al empezar la carrera la liebre y la tortuga salieron al mismo tiempo. La tortuga avanzaba sin detenerse, pero lentamente.\n",
        "La liebre era muy veloz, y viendo que sacaba una gran ventaja a la tortuga decidió ir parándose y descansando de vez en cuando. Pero en una de las ocasiones la liebre se quedó dormida. La tortuga, poco a poco, siguió avanzando.\n",
        "Cuando la liebre despertó, se encontró con que la tortuga estaba a punto de cruzar la meta. Aunque echó a correr fue demasiado tarde y finalmente la tortuga ganó la carrera\".\n",
        "Esta fábula nos enseña que el trabajo duro, la perseverancia, la constancia y el esfuerzo nos llevarán a nuestras metas, aunque sea poco a poco, si no nos rendimos. También nos permite ver cómo la arrogancia, la falta de constancia y el exceso de seguridad en uno mismo nos puede llevar a perder oportunidades y a no alcanzar nuestras metas.\n",
        "\"\"\"\n",
        ")\n",
        "cipher_text = code(plain_text, key)\n",
        "cipher_text"
      ]
    },
    {
      "cell_type": "code",
      "execution_count": 81,
      "metadata": {
        "scrolled": false,
        "id": "DEgIqcccYr7i",
        "outputId": "5c42c3ef-b9ea-4d00-b96e-a5d0e4533a43",
        "colab": {
          "base_uri": "https://localhost:8080/",
          "height": 524
        }
      },
      "outputs": [
        {
          "output_type": "stream",
          "name": "stdout",
          "text": [
            "0\thknxp5nhk5nfpcaicngiwhffg 5nen0cfgjn0pgnogtgnhk5n1gi1hw5no5tpk5a5nbgincfno5tpkgnen cnfcn5ociognf5nfpcaicnctbcjgn5nahif5i cnxcnf5nfck1p1hxnxcfng1ign5kpt5fnenxcnf5nfgkwp1hxnxcn h nb515 n pkncta5iwgnf5n1gi1hw5nfcnic bgkxpgnuhcnc 15a5n cwhi5nxcnuhcn5nbc 5inxcnf5nwi5kn0cfgopx5xnxcnf5nfpcaicnci5no5b5jnxcnw5k5if5ncknhk5no5iici5nf5nfpcaicn cwhi5nxcn hn0po1gip5nenogk pxci5kxgncfnic1gnptbg pafcnxcnbcixcin5ocb1gn5tag nbpxpcigkn5nf5njgii5nuhcn cq5f5i5nf5ntc15n5nfgnuhcnc 15n5ocb1gn5fnpwh5fnuhcn5fnohci0gnb5i5nuhcnrpopci5nxcnvhcjn5fnffcw5incfnxp5nxcnf5nogtbc1popgkn5fnctbcj5inf5no5iici5nf5nfpcaicnenf5n1gi1hw5n 5fpcigkn5fntp tgn1pctbgnf5n1gi1hw5n505kj5a5n pknxc1ckci cnbcignfck15tck1cnf5nfpcaicnci5nthen0cfgjnen0pckxgnuhcn 5o5a5nhk5nwi5kn0ck15v5n5nf5n1gi1hw5nxcopxpgnpinb5i5kxg cnenxc o5k 5kxgnxcn0cjncknoh5kxgnbcigncknhk5nxcnf5 ngo5 pgkc nf5nfpcaicn cnuhcxgnxgitpx5nf5n1gi1hw5nbgogn5nbgogn pwhpgn505kj5kxgnoh5kxgnf5nfpcaicnxc bci1gn cnckogk1ignogknuhcnf5n1gi1hw5nc 15a5n5nbhk1gnxcnoihj5inf5ntc15n5hkuhcncorgn5nogiicin3hcnxct5 p5xgn15ixcnen3pk5ftck1cnf5n1gi1hw5nw5kgnf5no5iici5nc 15n35ahf5nkg nck cq5nuhcncfn1i5a5vgnxhignf5nbci c0ci5kop5nf5nogk 15kop5nencfnc 3hcijgnkg nffc05i5kn5nkhc 1i5 ntc15 n5hkuhcn c5nbgogn5nbgogn pnkgnkg nickxptg n15tapcknkg nbcitp1cn0cinogtgnf5n5iigw5kop5nf5n35f15nxcnogk 15kop5nencfncdoc gnxcn cwhipx5xncknhkgntp tgnkg nbhcxcnffc05in5nbcixcingbgi1hkpx5xc nen5nkgn5fo5kj5inkhc 1i5 ntc15 \n",
            "\n",
            "1000\tuinsponuionzpebrenarcuzza onqnmezaxnmpantalanuiondarducontolpiobonvarnezntolpianqn enzenotertanzonzpebrenelvexanonburzor ensenzonzeidpdusnseznadranoiploznqnsenzonzaicpdusnsen u nvodo n pinelborcanzondarduconzenre vaispanguene dobon ecuronsenguenonve ornsenzoncroinmezatpsosnsenzonzpebrenerontovoxnsencoiorzoneinuiontorreronzonzpebren ecuronsen unmptdarponqntai pseroisaneznredanplva pbzensenversernotevdanolba nvpsperainonzonxarronguen ejozoronzonledononzanguene donotevdanoznpcuoznguenozntuermanvoronguen7ptperonsenhuexnoznzzecorneznsponsenzontalvedptpainoznelvexornzontorreronzonzpebrenqnzondarducon ozperainoznlp landpelvanzondarduconomoixobon pinsedeier enveranzeidoleidenzonzpebreneronluqnmezaxnqnmpeisanguen otobonuioncroinmeidohononzondarduconsetpspanprnvoroisa enqnse toi oisansenmexneintuoisanveraneinuionsenzo nato paie nzonzpebren enguesansarlpsonzondarduconvatanonvatan pcupanomoixoisantuoisanzonzpebrense verdan eneitaidrantainguenzondarducone dobononvuidansentruxornzonledonouiguenet7anontarrernfuenselo posandorsenqnfpiozleidenzondarduconcoianzontorrerone donfobuzonia nei ejonguenezndrobohansuranzonver emeroitponzontai doitponqnezne fuerxania nzzemoroinoniue dro nledo nouiguen eonvatanonvatan pniania nreispla ndolbpeinia nverlpdenmerntalanzonorracoitponzonfozdonsentai doitponqnezneyte ansen ecurpsosneinuianlp lania nvuesenzzemornonversernavarduipsose nqnonianoztoixorniue dro nledo \n",
            "\n",
            "2000\tus mio uso diegre arcuddano y pedat pia bala uso farfuco bolisogo var ed bolisa y ne de oberba do diegre elveta o gurdorne me do desfifum med afra osilod y me do dascifum me nun vofon nis elgorca do farfuco de renvasmia zue enfogo necuro me zue o venor me do cros pedabimom me do diegre ero bovot me cosordo es uso borrero do diegre necuro me nu pibfario y basnimerosma ed refa ilvanigde me vermer obevfa olgan vimieras o do tarro zue neñodoro do lefo o da zue enfo obevfa od icuod zue od buerpa voro zue xibiero me huet od ddecor ed mio me do balvefibias od elvetor do borrero do diegre y do farfuco nodieras od linla fielva do farfuco opostogo nis mefeserne vera desfolesfe do diegre ero luy pedat y piesma zue nobogo uso cros pesfoho o do farfuco mebimia ir vorosmane y menbosnosma me pet es buosma vera es uso me don aboniasen do diegre ne zuema marlimo do farfuco vaba o vaba nicuia opostosma buosma do diegre menverfa ne esbasfra bas zue do farfuco enfogo o vusfa me brutor do lefo ouszue ebxa o barrer jue melonioma forme y jisodlesfe do farfuco cosa do borrero enfo jogudo san esneño zue ed frogoha mura do verneperosbio do basnfosbio y ed enjuerta san ddeporos o suenfron lefon ouszue neo vaba o vaba ni sa san resmilan folgies san verlife per bala do orracosbio do jodfo me basnfosbio y ed eqbena me necurimom es usa linla san vueme ddepor o vermer avarfusimomen y o sa odbostor suenfron lefon\n",
            "\n",
            "3000\tun dia una miegre orcummosa y vemoj vio bolo una tortuca balinaga por em balino y se me aberbo ma miegre elpejo a gurmarse de ma mentitud dem otro anilam y de ma moncitud de sus patas sin elgarco ma tortuca me respondio fue estaga secura de fue a pesar de ma cran vemobidad de ma miegre era bapaj de canarma en una barrera ma miegre secura de su vibtoria y bonsiderando em reto ilposigme de perder abepto algos pidieron a ma jorra fue señamara ma leta a mo fue esta abepto am icuam fue am buervo para fue xibiera de zuej am mmecar em dia de ma bolpetibion am elpejar ma barrera ma miegre y ma tortuca samieron am lislo tielpo ma tortuca avanjaga sin detenerse pero mentalente ma miegre era luy vemoj y viendo fue sabaga una cran ventaza a ma tortuca debidio ir parandose y desbansando de vej en buando pero en una de mas obasiones ma miegre se fuedo dorlida ma tortuca pobo a pobo sicuio avanjando buando ma miegre desperto se enbontro bon fue ma tortuca estaga a punto de brujar ma leta aunfue ebxo a borrer hue delasiado tarde y hinamlente ma tortuca cano ma barrera esta haguma nos enseña fue em tragazo duro ma perseveranbia ma bonstanbia y em eshuerjo nos mmevaran a nuestras letas aunfue sea pobo a pobo si no nos rendilos talgien nos perlite ver bolo ma arrocanbia ma hamta de bonstanbia y em eqbeso de securidad en uno lislo nos puede mmevar a perder oportunidades y a no ambanjar nuestras letas\n",
            "\n",
            "4000\tun dia una liebre orcullosa y veloz vio gomo una tortuca gaminaba por el gamino y se le agergo la liebre empezo a burlarse de la lentitud del otro animal y de la loncitud de sus patas sin embarco la tortuca le respondio fue estaba secura de fue a pesar de la cran velogidad de la liebre era gapaz de canarla en una garrera la liebre secura de su vigtoria y gonsiderando el reto imposible de perder agepto ambos pidieron a la zorra fue señalara la meta a lo fue esta agepto al icual fue al guervo para fue xigiera de juez al llecar el dia de la gompetigion al empezar la garrera la liebre y la tortuca salieron al mismo tiempo la tortuca avanzaba sin detenerse pero lentamente la liebre era muy veloz y viendo fue sagaba una cran ventaja a la tortuca degidio ir parandose y desgansando de vez en guando pero en una de las ogasiones la liebre se fuedo dormida la tortuca pogo a pogo sicuio avanzando guando la liebre desperto se engontro gon fue la tortuca estaba a punto de gruzar la meta aunfue egxo a gorrer hue demasiado tarde y hinalmente la tortuca cano la garrera esta habula nos enseña fue el trabajo duro la perseverangia la gonstangia y el eshuerzo nos llevaran a nuestras metas aunfue sea pogo a pogo si no nos rendimos tambien nos permite ver gomo la arrocangia la halta de gonstangia y el eqgeso de securidad en uno mismo nos puede llevar a perder oportunidades y a no alganzar nuestras metas\n",
            "\n",
            "5000\tun dia una liebre orcullosa y veloz vio gomo una tortuca gaminaba por el gamino y se le agergo la liebre empezo a burlarse de la lentitud del otro animal y de la loncitud de sus patas sin embarco la tortuca le respondio fue estaba secura de fue a pesar de la cran velogidad de la liebre era gapaz de canarla en una garrera la liebre secura de su vigtoria y gonsiderando el reto imposible de perder agepto ambos pidieron a la zorra fue señalara la meta a lo fue esta agepto al icual fue al guervo para fue xigiera de juez al llecar el dia de la gompetigion al empezar la garrera la liebre y la tortuca salieron al mismo tiempo la tortuca avanzaba sin detenerse pero lentamente la liebre era muy veloz y viendo fue sagaba una cran ventaja a la tortuca degidio ir parandose y desgansando de vez en guando pero en una de las ogasiones la liebre se fuedo dormida la tortuca pogo a pogo sicuio avanzando guando la liebre desperto se engontro gon fue la tortuca estaba a punto de gruzar la meta aunfue egxo a gorrer hue demasiado tarde y hinalmente la tortuca cano la garrera esta habula nos enseña fue el trabajo duro la perseverangia la gonstangia y el eshuerzo nos llevaran a nuestras metas aunfue sea pogo a pogo si no nos rendimos tambien nos permite ver gomo la arrocangia la halta de gonstangia y el eqgeso de securidad en uno mismo nos puede llevar a perder oportunidades y a no alganzar nuestras metas\n",
            "\n",
            "6000\tun dia una liebre orgullosa y veloz vio como una tortuga caminaba por el camino y se le acerco la liebre empezo a burlarse de la lentitud del otro animal y de la longitud de sus patas sin embargo la tortuga le respondio fue estaba segura de fue a pesar de la gran velocidad de la liebre era capaz de ganarla en una carrera la liebre segura de su victoria y considerando el reto imposible de perder acepto ambos pidieron a la zorra fue señalara la meta a lo fue esta acepto al igual fue al cuervo para fue xiciera de juez al llegar el dia de la competicion al empezar la carrera la liebre y la tortuga salieron al mismo tiempo la tortuga avanzaba sin detenerse pero lentamente la liebre era muy veloz y viendo fue sacaba una gran ventaja a la tortuga decidio ir parandose y descansando de vez en cuando pero en una de las ocasiones la liebre se fuedo dormida la tortuga poco a poco siguio avanzando cuando la liebre desperto se encontro con fue la tortuga estaba a punto de cruzar la meta aunfue ecxo a correr hue demasiado tarde y hinalmente la tortuga gano la carrera esta habula nos enseña fue el trabajo duro la perseverancia la constancia y el eshuerzo nos llevaran a nuestras metas aunfue sea poco a poco si no nos rendimos tambien nos permite ver como la arrogancia la halta de constancia y el eqceso de seguridad en uno mismo nos puede llevar a perder oportunidades y a no alcanzar nuestras metas\n",
            "\n",
            "7000\tun dia una liebre orgullosa y veloz vio como una tortuga caminaba por el camino y se le acerco la liebre empezo a burlarse de la lentitud del otro animal y de la longitud de sus patas sin embargo la tortuga le respondio fue estaba segura de fue a pesar de la gran velocidad de la liebre era capaz de ganarla en una carrera la liebre segura de su victoria y considerando el reto imposible de perder acepto ambos pidieron a la zorra fue señalara la meta a lo fue esta acepto al igual fue al cuervo para fue xiciera de juez al llegar el dia de la competicion al empezar la carrera la liebre y la tortuga salieron al mismo tiempo la tortuga avanzaba sin detenerse pero lentamente la liebre era muy veloz y viendo fue sacaba una gran ventaja a la tortuga decidio ir parandose y descansando de vez en cuando pero en una de las ocasiones la liebre se fuedo dormida la tortuga poco a poco siguio avanzando cuando la liebre desperto se encontro con fue la tortuga estaba a punto de cruzar la meta aunfue ecxo a correr hue demasiado tarde y hinalmente la tortuga gano la carrera esta habula nos enseña fue el trabajo duro la perseverancia la constancia y el eshuerzo nos llevaran a nuestras metas aunfue sea poco a poco si no nos rendimos tambien nos permite ver como la arrogancia la halta de constancia y el eqceso de seguridad en uno mismo nos puede llevar a perder oportunidades y a no alcanzar nuestras metas\n",
            "\n",
            "8000\tun dia una liebre orgullosa y veloz vio como una tortuga caminaba por el camino y se le acerco la liebre empezo a burlarse de la lentitud del otro animal y de la longitud de sus patas sin embargo la tortuga le respondio fue estaba segura de fue a pesar de la gran velocidad de la liebre era capaz de ganarla en una carrera la liebre segura de su victoria y considerando el reto imposible de perder acepto ambos pidieron a la zorra fue señalara la meta a lo fue esta acepto al igual fue al cuervo para fue xiciera de juez al llegar el dia de la competicion al empezar la carrera la liebre y la tortuga salieron al mismo tiempo la tortuga avanzaba sin detenerse pero lentamente la liebre era muy veloz y viendo fue sacaba una gran ventaja a la tortuga decidio ir parandose y descansando de vez en cuando pero en una de las ocasiones la liebre se fuedo dormida la tortuga poco a poco siguio avanzando cuando la liebre desperto se encontro con fue la tortuga estaba a punto de cruzar la meta aunfue ecxo a correr hue demasiado tarde y hinalmente la tortuga gano la carrera esta habula nos enseña fue el trabajo duro la perseverancia la constancia y el eshuerzo nos llevaran a nuestras metas aunfue sea poco a poco si no nos rendimos tambien nos permite ver como la arrogancia la halta de constancia y el eqceso de seguridad en uno mismo nos puede llevar a perder oportunidades y a no alcanzar nuestras metas\n",
            "\n",
            "9000\tun dia una liebre orgullosa y veloz vio como una tortuga caminaba por el camino y se le acerco la liebre empezo a burlarse de la lentitud del otro animal y de la longitud de sus patas sin embargo la tortuga le respondio fue estaba segura de fue a pesar de la gran velocidad de la liebre era capaz de ganarla en una carrera la liebre segura de su victoria y considerando el reto imposible de perder acepto ambos pidieron a la zorra fue señalara la meta a lo fue esta acepto al igual fue al cuervo para fue xiciera de juez al llegar el dia de la competicion al empezar la carrera la liebre y la tortuga salieron al mismo tiempo la tortuga avanzaba sin detenerse pero lentamente la liebre era muy veloz y viendo fue sacaba una gran ventaja a la tortuga decidio ir parandose y descansando de vez en cuando pero en una de las ocasiones la liebre se fuedo dormida la tortuga poco a poco siguio avanzando cuando la liebre desperto se encontro con fue la tortuga estaba a punto de cruzar la meta aunfue ecxo a correr hue demasiado tarde y hinalmente la tortuga gano la carrera esta habula nos enseña fue el trabajo duro la perseverancia la constancia y el eshuerzo nos llevaran a nuestras metas aunfue sea poco a poco si no nos rendimos tambien nos permite ver como la arrogancia la halta de constancia y el eqceso de seguridad en uno mismo nos puede llevar a perder oportunidades y a no alcanzar nuestras metas\n",
            "\n",
            "Final decoded: un dia una liebre orgullosa y veloz vio como una tortuga caminaba por el camino y se le acerco la liebre empezo a burlarse de la lentitud del otro animal y de la longitud de sus patas sin embargo la tortuga le respondio fue estaba segura de fue a pesar de la gran velocidad de la liebre era capaz de ganarla en una carrera la liebre segura de su victoria y considerando el reto imposible de perder acepto ambos pidieron a la zorra fue señalara la meta a lo fue esta acepto al igual fue al cuervo para fue xiciera de juez al llegar el dia de la competicion al empezar la carrera la liebre y la tortuga salieron al mismo tiempo la tortuga avanzaba sin detenerse pero lentamente la liebre era muy veloz y viendo fue sacaba una gran ventaja a la tortuga decidio ir parandose y descansando de vez en cuando pero en una de las ocasiones la liebre se fuedo dormida la tortuga poco a poco siguio avanzando cuando la liebre desperto se encontro con fue la tortuga estaba a punto de cruzar la meta aunfue ecxo a correr hue demasiado tarde y hinalmente la tortuga gano la carrera esta habula nos enseña fue el trabajo duro la perseverancia la constancia y el eshuerzo nos llevaran a nuestras metas aunfue sea poco a poco si no nos rendimos tambien nos permite ver como la arrogancia la halta de constancia y el eqceso de seguridad en uno mismo nos puede llevar a perder oportunidades y a no alcanzar nuestras metas\n"
          ]
        },
        {
          "output_type": "execute_result",
          "data": {
            "text/plain": [
              "'un dia una liebre orgullosa y veloz vio como una tortuga caminaba por el camino y se le acerco la liebre empezo a burlarse de la lentitud del otro animal y de la longitud de sus patas sin embargo la tortuga le respondio fue estaba segura de fue a pesar de la gran velocidad de la liebre era capaz de ganarla en una carrera la liebre segura de su victoria y considerando el reto imposible de perder acepto ambos pidieron a la zorra fue señalara la meta a lo fue esta acepto al igual fue al cuervo para fue xiciera de juez al llegar el dia de la competicion al empezar la carrera la liebre y la tortuga salieron al mismo tiempo la tortuga avanzaba sin detenerse pero lentamente la liebre era muy veloz y viendo fue sacaba una gran ventaja a la tortuga decidio ir parandose y descansando de vez en cuando pero en una de las ocasiones la liebre se fuedo dormida la tortuga poco a poco siguio avanzando cuando la liebre desperto se encontro con fue la tortuga estaba a punto de cruzar la meta aunfue ecxo a correr hue demasiado tarde y hinalmente la tortuga gano la carrera esta habula nos enseña fue el trabajo duro la perseverancia la constancia y el eshuerzo nos llevaran a nuestras metas aunfue sea poco a poco si no nos rendimos tambien nos permite ver como la arrogancia la halta de constancia y el eqceso de seguridad en uno mismo nos puede llevar a perder oportunidades y a no alcanzar nuestras metas'"
            ],
            "application/vnd.google.colaboratory.intrinsic+json": {
              "type": "string"
            }
          },
          "metadata": {},
          "execution_count": 81
        }
      ],
      "source": [
        "decode(cipher_text, bigram_table, 10000)"
      ]
    }
  ],
  "metadata": {
    "kernelspec": {
      "display_name": "Python 3",
      "language": "python",
      "name": "python3"
    },
    "language_info": {
      "codemirror_mode": {
        "name": "ipython",
        "version": 3
      },
      "file_extension": ".py",
      "mimetype": "text/x-python",
      "name": "python",
      "nbconvert_exporter": "python",
      "pygments_lexer": "ipython3",
      "version": "3.6.10"
    },
    "toc": {
      "base_numbering": 1,
      "nav_menu": {},
      "number_sections": true,
      "sideBar": true,
      "skip_h1_title": false,
      "title_cell": "Table of Contents",
      "title_sidebar": "Contents",
      "toc_cell": false,
      "toc_position": {},
      "toc_section_display": true,
      "toc_window_display": false
    },
    "colab": {
      "provenance": [],
      "name": "Metropolis Hastings para decifrar textos.ipynb",
      "collapsed_sections": [],
      "include_colab_link": true
    }
  },
  "nbformat": 4,
  "nbformat_minor": 0
}