{
  "nbformat": 4,
  "nbformat_minor": 0,
  "metadata": {
    "colab": {
      "name": "Simulación Montecarlo con Cadenas de Markov.ipynb",
      "provenance": [],
      "collapsed_sections": [
        "1O9_zQQQiryQ"
      ],
      "toc_visible": true,
      "authorship_tag": "ABX9TyNGezRMrGYGgvR7u2bi5Mp3",
      "include_colab_link": true
    },
    "kernelspec": {
      "name": "python3",
      "display_name": "Python 3"
    },
    "language_info": {
      "name": "python"
    }
  },
  "cells": [
    {
      "cell_type": "markdown",
      "metadata": {
        "id": "view-in-github",
        "colab_type": "text"
      },
      "source": [
        "<a href=\"https://colab.research.google.com/github/AnIsAsPe/Estadistica_y_Probabilidad_para-CD-/blob/main/Semana6/Simulaci%C3%B3n_Montecarlo_con_Cadenas_de_Markov.ipynb\" target=\"_parent\"><img src=\"https://colab.research.google.com/assets/colab-badge.svg\" alt=\"Open In Colab\"/></a>"
      ]
    },
    {
      "cell_type": "code",
      "metadata": {
        "id": "TkZWuci7C7Jm"
      },
      "source": [
        "import numpy as np\n",
        "import pandas as pd\n",
        "import networkx as nx    # https://networkx.org/documentation/stable/index.html\n",
        "\n",
        "\n",
        "from random import seed\n",
        "from random import random\n",
        "import matplotlib.pyplot as plt"
      ],
      "execution_count": 1,
      "outputs": []
    },
    {
      "cell_type": "code",
      "metadata": {
        "colab": {
          "base_uri": "https://localhost:8080/",
          "height": 142
        },
        "id": "cerXdXRWKpDs",
        "outputId": "79185c57-c5f5-4543-a71b-25ec3cb177e7"
      },
      "source": [
        "estados = range(3)\n",
        "#Matriz de transición o matriz estocástica\n",
        "\n",
        "MT = np.array([[0.2, 0.7, 0.1],\n",
        "               [0.9, 0.0, 0.1],\n",
        "               [0.2, 0.8, 0.0]])\n",
        "pd.DataFrame(MT, index = estados, columns = estados)"
      ],
      "execution_count": 2,
      "outputs": [
        {
          "output_type": "execute_result",
          "data": {
            "text/html": [
              "<div>\n",
              "<style scoped>\n",
              "    .dataframe tbody tr th:only-of-type {\n",
              "        vertical-align: middle;\n",
              "    }\n",
              "\n",
              "    .dataframe tbody tr th {\n",
              "        vertical-align: top;\n",
              "    }\n",
              "\n",
              "    .dataframe thead th {\n",
              "        text-align: right;\n",
              "    }\n",
              "</style>\n",
              "<table border=\"1\" class=\"dataframe\">\n",
              "  <thead>\n",
              "    <tr style=\"text-align: right;\">\n",
              "      <th></th>\n",
              "      <th>0</th>\n",
              "      <th>1</th>\n",
              "      <th>2</th>\n",
              "    </tr>\n",
              "  </thead>\n",
              "  <tbody>\n",
              "    <tr>\n",
              "      <th>0</th>\n",
              "      <td>0.2</td>\n",
              "      <td>0.7</td>\n",
              "      <td>0.1</td>\n",
              "    </tr>\n",
              "    <tr>\n",
              "      <th>1</th>\n",
              "      <td>0.9</td>\n",
              "      <td>0.0</td>\n",
              "      <td>0.1</td>\n",
              "    </tr>\n",
              "    <tr>\n",
              "      <th>2</th>\n",
              "      <td>0.2</td>\n",
              "      <td>0.8</td>\n",
              "      <td>0.0</td>\n",
              "    </tr>\n",
              "  </tbody>\n",
              "</table>\n",
              "</div>"
            ],
            "text/plain": [
              "     0    1    2\n",
              "0  0.2  0.7  0.1\n",
              "1  0.9  0.0  0.1\n",
              "2  0.2  0.8  0.0"
            ]
          },
          "metadata": {
            "tags": []
          },
          "execution_count": 2
        }
      ]
    },
    {
      "cell_type": "code",
      "metadata": {
        "colab": {
          "base_uri": "https://localhost:8080/"
        },
        "id": "_eNZwMySg1Il",
        "outputId": "e6d63010-7846-434e-ccb0-20e9f5857516"
      },
      "source": [
        "MT.sum(axis=1)  #asegurar que los renglones sumen 1"
      ],
      "execution_count": 3,
      "outputs": [
        {
          "output_type": "execute_result",
          "data": {
            "text/plain": [
              "array([1., 1., 1.])"
            ]
          },
          "metadata": {
            "tags": []
          },
          "execution_count": 3
        }
      ]
    },
    {
      "cell_type": "markdown",
      "metadata": {
        "id": "w_yVKkARktHI"
      },
      "source": [
        "# Calcular la probabilidad de tener cierto estado en un tiempo t"
      ]
    },
    {
      "cell_type": "code",
      "metadata": {
        "colab": {
          "base_uri": "https://localhost:8080/"
        },
        "id": "wZzahOIraZFc",
        "outputId": "3fd40f9f-03a3-4c43-98e1-39af266835a9"
      },
      "source": [
        "T = 5                             # tiempo \n",
        "s0 = 2\n",
        "sf = 1\n",
        "\n",
        "Ps_t = np.zeros(shape=(T+1,len(estados)))     # vector de probabilidad en cada tiempo\n",
        "Ps_t[0,s0] = 1                                # probabilidad asociada en el estado inicial\n",
        " \n",
        "\n",
        "for t in range(1, T+1):\n",
        "  Ps_t[t,:] = np.dot(Ps_t[t-1], MT) \n",
        "\n",
        "Ps_t[T, sf]                                   # Probabilidad de tener cierto estado en el tiempo t"
      ],
      "execution_count": 4,
      "outputs": [
        {
          "output_type": "execute_result",
          "data": {
            "text/plain": [
              "0.5126800000000001"
            ]
          },
          "metadata": {
            "tags": []
          },
          "execution_count": 4
        }
      ]
    },
    {
      "cell_type": "code",
      "metadata": {
        "id": "5xc6eCP8RZvj"
      },
      "source": [
        "def calcula_probabilidad_estado (sf, s0, T, MT, estados):\n",
        "    Ps_t = np.zeros(shape=(T+1,len(estados)))     # vector de probabilidad en cada tiempo\n",
        "    Ps_t[0,s0] = 1                                # probabilidad asociada en el estado inicial\n",
        " \n",
        "\n",
        "    for t in range(1, T+1):\n",
        "      Ps_t[t,:] = np.dot(Ps_t[t-1], MT) \n",
        "\n",
        "    print(Ps_t[T, sf])\n",
        "    #return Ps_t[T, sf], Ps_t"
      ],
      "execution_count": 16,
      "outputs": []
    },
    {
      "cell_type": "code",
      "metadata": {
        "colab": {
          "base_uri": "https://localhost:8080/"
        },
        "id": "rJ-jnc72VUn2",
        "outputId": "a4c3507f-80e5-4321-a4f6-b57a038426b7"
      },
      "source": [
        "calcula_probabilidad_estado(sf=1, s0=2, T=5, MT = MT, estados=estados)"
      ],
      "execution_count": 17,
      "outputs": [
        {
          "output_type": "stream",
          "text": [
            "0.5126800000000001\n"
          ],
          "name": "stdout"
        }
      ]
    },
    {
      "cell_type": "code",
      "metadata": {
        "colab": {
          "base_uri": "https://localhost:8080/",
          "height": 265
        },
        "id": "3Wvwmu5yLejn",
        "outputId": "e9ed7bfb-ba7e-44d1-a156-423f35cd8997"
      },
      "source": [
        "df_Ps_t = pd.DataFrame(Ps_t, columns = estados)\n",
        "df_Ps_t .plot()\n",
        "plt.show()"
      ],
      "execution_count": 18,
      "outputs": [
        {
          "output_type": "display_data",
          "data": {
            "image/png": "[encoded data removed]",
            "text/plain": [
              "<Figure size 432x288 with 1 Axes>"
            ]
          },
          "metadata": {
            "tags": [],
            "needs_background": "light"
          }
        }
      ]
    },
    {
      "cell_type": "markdown",
      "metadata": {
        "id": "9z7k6SO2kkzD"
      },
      "source": [
        "# Caminata aleatoria"
      ]
    },
    {
      "cell_type": "code",
      "metadata": {
        "id": "_LKl35W-BM9-"
      },
      "source": [
        "def Caminata_aleatoria(MT, estado_i, n_iter):\n",
        "  '''MT: Matriz (numpy) de transición de estados tamaño s x s'''\n",
        "\n",
        "  estados = range(len(MT)) \n",
        "  \n",
        "  #inicialiaemos en 0 los cuenta para cada estado\n",
        "  cuenta = [0 for i in range(len(MT))]\n",
        "  evolucion = np.array([cuenta]) \n",
        "  \n",
        "  s= estado_i\n",
        "  cuenta[s] += 1\n",
        "\n",
        "  #iterar n_iter veces\n",
        "  z = 1\n",
        "  while (z != n_iter): \n",
        "        s1 = int(np.random.choice(estados, 1, p=MT[s]) )\n",
        "        cuenta[s1] += 1\n",
        "        evolucion = np.append(evolucion, np.array([cuenta])/z, axis=0)\n",
        "        s = s1\n",
        "        z += 1\n",
        "  \n",
        "  evolucion = pd.DataFrame(evolucion)\n",
        "\n",
        "  #Obtenemos la Medida Invariante\n",
        "  r = np.array(cuenta)/n_iter   \n",
        "\n",
        "  #Gráfica de convergencia de la medida invariante\n",
        "  plt.figure(figsize=(16, 6))\n",
        "  evolucion.plot()\n",
        "  plt.xlim(0, n_iter)\n",
        "  plt.ylim(0, 1)\n",
        "  plt.xlabel('n')\n",
        "  plt.title('Convergencia Medida invariante')\n",
        "  plt.show()\n",
        "  \n",
        "  return r"
      ],
      "execution_count": 11,
      "outputs": []
    },
    {
      "cell_type": "code",
      "metadata": {
        "colab": {
          "base_uri": "https://localhost:8080/",
          "height": 329
        },
        "id": "9N9MDQA8vaxi",
        "outputId": "78521fba-1a99-4d85-a821-fe62385a24c1"
      },
      "source": [
        "t= 1000\n",
        "s0 = 2\n",
        "Caminata_aleatoria(MT, s0 , t)"
      ],
      "execution_count": 12,
      "outputs": [
        {
          "output_type": "display_data",
          "data": {
            "text/plain": [
              "<Figure size 1152x432 with 0 Axes>"
            ]
          },
          "metadata": {
            "tags": []
          }
        },
        {
          "output_type": "display_data",
          "data": {
            "image/png": "[encoded data removed]",
            "text/plain": [
              "<Figure size 432x288 with 1 Axes>"
            ]
          },
          "metadata": {
            "tags": [],
            "needs_background": "light"
          }
        },
        {
          "output_type": "execute_result",
          "data": {
            "text/plain": [
              "array([0.493, 0.414, 0.093])"
            ]
          },
          "metadata": {
            "tags": []
          },
          "execution_count": 12
        }
      ]
    },
    {
      "cell_type": "markdown",
      "metadata": {
        "id": "POYE8lOvbnVF"
      },
      "source": [
        "## Cómo funcionaria para una variable iid"
      ]
    },
    {
      "cell_type": "code",
      "metadata": {
        "colab": {
          "base_uri": "https://localhost:8080/",
          "height": 142
        },
        "id": "YT4nqPI8ivbs",
        "outputId": "d20b72fc-fd96-4d39-d1d8-bc580931a3a7"
      },
      "source": [
        "estados = ['lluvioso', 'nublado', 'soleado']\n",
        "M = np.array([[0.35, 0.43, 0.22],\n",
        "              [0.35, 0.43, 0.22],\n",
        "              [0.35, 0.43, 0.22]])\n",
        "pd.DataFrame(M, index = estados, columns = estados)\n"
      ],
      "execution_count": 26,
      "outputs": [
        {
          "output_type": "execute_result",
          "data": {
            "text/html": [
              "<div>\n",
              "<style scoped>\n",
              "    .dataframe tbody tr th:only-of-type {\n",
              "        vertical-align: middle;\n",
              "    }\n",
              "\n",
              "    .dataframe tbody tr th {\n",
              "        vertical-align: top;\n",
              "    }\n",
              "\n",
              "    .dataframe thead th {\n",
              "        text-align: right;\n",
              "    }\n",
              "</style>\n",
              "<table border=\"1\" class=\"dataframe\">\n",
              "  <thead>\n",
              "    <tr style=\"text-align: right;\">\n",
              "      <th></th>\n",
              "      <th>lluvioso</th>\n",
              "      <th>nublado</th>\n",
              "      <th>soleado</th>\n",
              "    </tr>\n",
              "  </thead>\n",
              "  <tbody>\n",
              "    <tr>\n",
              "      <th>lluvioso</th>\n",
              "      <td>0.35</td>\n",
              "      <td>0.43</td>\n",
              "      <td>0.22</td>\n",
              "    </tr>\n",
              "    <tr>\n",
              "      <th>nublado</th>\n",
              "      <td>0.35</td>\n",
              "      <td>0.43</td>\n",
              "      <td>0.22</td>\n",
              "    </tr>\n",
              "    <tr>\n",
              "      <th>soleado</th>\n",
              "      <td>0.35</td>\n",
              "      <td>0.43</td>\n",
              "      <td>0.22</td>\n",
              "    </tr>\n",
              "  </tbody>\n",
              "</table>\n",
              "</div>"
            ],
            "text/plain": [
              "          lluvioso  nublado  soleado\n",
              "lluvioso      0.35     0.43     0.22\n",
              "nublado       0.35     0.43     0.22\n",
              "soleado       0.35     0.43     0.22"
            ]
          },
          "metadata": {
            "tags": []
          },
          "execution_count": 26
        }
      ]
    },
    {
      "cell_type": "code",
      "metadata": {
        "colab": {
          "base_uri": "https://localhost:8080/",
          "height": 329
        },
        "id": "uHCvCWB5ivbs",
        "outputId": "026f4cdc-4520-4eb3-89dd-a039ea0f1dc1"
      },
      "source": [
        "Caminata_aleatoria(M, 1, 100000)"
      ],
      "execution_count": 28,
      "outputs": [
        {
          "output_type": "display_data",
          "data": {
            "text/plain": [
              "<Figure size 1152x432 with 0 Axes>"
            ]
          },
          "metadata": {
            "tags": []
          }
        },
        {
          "output_type": "display_data",
          "data": {
            "image/png": "[encoded data removed]",
            "text/plain": [
              "<Figure size 432x288 with 1 Axes>"
            ]
          },
          "metadata": {
            "tags": [],
            "needs_background": "light"
          }
        },
        {
          "output_type": "execute_result",
          "data": {
            "text/plain": [
              "array([0.3506 , 0.43099, 0.21841])"
            ]
          },
          "metadata": {
            "tags": []
          },
          "execution_count": 28
        }
      ]
    },
    {
      "cell_type": "markdown",
      "metadata": {
        "id": "1O9_zQQQiryQ"
      },
      "source": [
        "# Otro ejemplo"
      ]
    },
    {
      "cell_type": "code",
      "metadata": {
        "colab": {
          "base_uri": "https://localhost:8080/",
          "height": 142
        },
        "id": "93CqzivLhYtC",
        "outputId": "99493b50-3a06-4877-fa4b-f799fed30b92"
      },
      "source": [
        "estados = ['crecimiento', 'recesión_med', 'receción_sev']\n",
        "M = np.array([[0.971, 0.029, 0],\n",
        "              [0.145, 0.778, 0.077],\n",
        "              [0, 0.508, 0.492]])\n",
        "pd.DataFrame(M, index = estados, columns = estados)\n"
      ],
      "execution_count": 13,
      "outputs": [
        {
          "output_type": "execute_result",
          "data": {
            "text/html": [
              "<div>\n",
              "<style scoped>\n",
              "    .dataframe tbody tr th:only-of-type {\n",
              "        vertical-align: middle;\n",
              "    }\n",
              "\n",
              "    .dataframe tbody tr th {\n",
              "        vertical-align: top;\n",
              "    }\n",
              "\n",
              "    .dataframe thead th {\n",
              "        text-align: right;\n",
              "    }\n",
              "</style>\n",
              "<table border=\"1\" class=\"dataframe\">\n",
              "  <thead>\n",
              "    <tr style=\"text-align: right;\">\n",
              "      <th></th>\n",
              "      <th>crecimiento</th>\n",
              "      <th>recesión_med</th>\n",
              "      <th>receción_sev</th>\n",
              "    </tr>\n",
              "  </thead>\n",
              "  <tbody>\n",
              "    <tr>\n",
              "      <th>crecimiento</th>\n",
              "      <td>0.971</td>\n",
              "      <td>0.029</td>\n",
              "      <td>0.000</td>\n",
              "    </tr>\n",
              "    <tr>\n",
              "      <th>recesión_med</th>\n",
              "      <td>0.145</td>\n",
              "      <td>0.778</td>\n",
              "      <td>0.077</td>\n",
              "    </tr>\n",
              "    <tr>\n",
              "      <th>receción_sev</th>\n",
              "      <td>0.000</td>\n",
              "      <td>0.508</td>\n",
              "      <td>0.492</td>\n",
              "    </tr>\n",
              "  </tbody>\n",
              "</table>\n",
              "</div>"
            ],
            "text/plain": [
              "              crecimiento  recesión_med  receción_sev\n",
              "crecimiento         0.971         0.029         0.000\n",
              "recesión_med        0.145         0.778         0.077\n",
              "receción_sev        0.000         0.508         0.492"
            ]
          },
          "metadata": {
            "tags": []
          },
          "execution_count": 13
        }
      ]
    },
    {
      "cell_type": "code",
      "metadata": {
        "colab": {
          "base_uri": "https://localhost:8080/",
          "height": 329
        },
        "id": "CeJsYVKcoOHq",
        "outputId": "fbacea11-6e3f-49b5-843e-e13dfff0bef7"
      },
      "source": [
        "Caminata_aleatoria(M, 1, 10000)"
      ],
      "execution_count": 16,
      "outputs": [
        {
          "output_type": "display_data",
          "data": {
            "text/plain": [
              "<Figure size 1152x432 with 0 Axes>"
            ]
          },
          "metadata": {
            "tags": []
          }
        },
        {
          "output_type": "display_data",
          "data": {
            "image/png": "[encoded data removed]",
            "text/plain": [
              "<Figure size 432x288 with 1 Axes>"
            ]
          },
          "metadata": {
            "tags": [],
            "needs_background": "light"
          }
        },
        {
          "output_type": "execute_result",
          "data": {
            "text/plain": [
              "array([0.8079, 0.166 , 0.0261])"
            ]
          },
          "metadata": {
            "tags": []
          },
          "execution_count": 16
        }
      ]
    }
  ]
}