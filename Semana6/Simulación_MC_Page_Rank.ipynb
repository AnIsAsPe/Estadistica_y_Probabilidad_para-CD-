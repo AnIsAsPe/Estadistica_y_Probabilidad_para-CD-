{
  "nbformat": 4,
  "nbformat_minor": 0,
  "metadata": {
    "colab": {
      "name": "Simulación MC_Page Rank.ipynb",
      "provenance": [],
      "collapsed_sections": [],
      "toc_visible": true,
      "mount_file_id": "1DBrqrWDF5wO2q69tdRHTM4zzKelqjpGs",
      "authorship_tag": "ABX9TyPzsqDeIraAXDHFZyhRxh2v",
      "include_colab_link": true
    },
    "kernelspec": {
      "name": "python3",
      "display_name": "Python 3"
    }
  },
  "cells": [
    {
      "cell_type": "markdown",
      "metadata": {
        "id": "view-in-github",
        "colab_type": "text"
      },
      "source": [
        "<a href=\"https://colab.research.google.com/github/AnIsAsPe/Estadistica_y_Probabilidad_para-CD-/blob/main/Semana6/Simulaci%C3%B3n_MC_Page_Rank.ipynb\" target=\"_parent\"><img src=\"https://colab.research.google.com/assets/colab-badge.svg\" alt=\"Open In Colab\"/></a>"
      ]
    },
    {
      "cell_type": "markdown",
      "metadata": {
        "id": "T3tTGz_W41RX"
      },
      "source": [
        "# Importar Bibliotecas"
      ]
    },
    {
      "cell_type": "code",
      "metadata": {
        "id": "KAcCtbJSc8NB"
      },
      "source": [
        "import itertools\n",
        "import pprint\t\n",
        "import random\n",
        "\n",
        "import numpy as np\n",
        "import pandas as pd\t\n",
        "\n",
        "import networkx as nx    # https://networkx.org/documentation/stable/index.html\n",
        "from matplotlib import pyplot as plt\n"
      ],
      "execution_count": null,
      "outputs": []
    },
    {
      "cell_type": "markdown",
      "metadata": {
        "id": "SL-9EU7NAhhe"
      },
      "source": [
        "# Funciones"
      ]
    },
    {
      "cell_type": "markdown",
      "metadata": {
        "id": "KtBgh0vWA0IN"
      },
      "source": [
        "#### añadir_conexiones()"
      ]
    },
    {
      "cell_type": "code",
      "metadata": {
        "id": "_nPHfVbJAa-a"
      },
      "source": [
        "def añadir_conexiones(g, pr): \n",
        "    for nodo in g.nodes(): \n",
        "        for nodo1 in g.nodes(): \n",
        "            if (nodo != nodo1): \n",
        "                ra = random.random() \n",
        "                if (ra < pr): \n",
        "                    g.add_edge(nodo, nodo1) \n",
        "                else: \n",
        "                    continue\n",
        "    return g "
      ],
      "execution_count": null,
      "outputs": []
    },
    {
      "cell_type": "markdown",
      "metadata": {
        "id": "tK_E80FgBPA0"
      },
      "source": [
        "#### PageRank_caminata_aleatoria()"
      ]
    },
    {
      "cell_type": "code",
      "metadata": {
        "id": "_LKl35W-BM9-"
      },
      "source": [
        "def PageRank_caminata_aleatoria(g, n_iter):\n",
        "\n",
        "  #inicialiaemos en 0 los cuenta para cada nodo\n",
        "  cuenta = [0 for i in range(g.number_of_nodes())] \n",
        "  nodos = list(g.nodes()) \n",
        "\n",
        "  #escojemos un nodo aleatoriamente, probabilidad uniforme\n",
        "  n = random.choice(nodos)\n",
        "  cuenta[n] += 1\n",
        "\n",
        "  #lista de vecinos a donde ir, probabilidad uniforme\n",
        "  vecinos = list(g.out_edges(n)) \n",
        "\n",
        "  #iterar n_iter veces\n",
        "  z = 1\n",
        "  while (z != n_iter): \n",
        "      #Si no hay vecinos escogemos cualquier vecino al azar\n",
        "      if (len(vecinos) == 0):        \n",
        "        siguiente = random.choice(nodos) \n",
        "      else:\n",
        "        n1 = random.choice(vecinos) \n",
        "        siguiente = n1[1] \n",
        "      cuenta[siguiente] += 1\n",
        "      vecinos = list(g.out_edges(siguiente)) \n",
        "      z += 1\n",
        "\n",
        "  #Obtenemos los pesos de cada nodo\n",
        "  pesos = np.array(cuenta)/n_iter   #vector r\n",
        "\n",
        "  #Guardamos los resultados en una tabla ordenada por pesos\n",
        "  rank = pd.DataFrame({'Nodo':nodos,\n",
        "                       'Pesos':pesos}).sort_values('Pesos',\n",
        "                                                   ascending=False)\n",
        "  rank.index = range(1,g.number_of_nodes()+1)\n",
        "  \n",
        "  return pesos, rank"
      ],
      "execution_count": null,
      "outputs": []
    },
    {
      "cell_type": "markdown",
      "metadata": {
        "id": "e40zrFiNBbre"
      },
      "source": [
        "# PageRank con conjunto de datos sintéticos"
      ]
    },
    {
      "cell_type": "markdown",
      "metadata": {
        "id": "9wj-hdMCBgq8"
      },
      "source": [
        "Crear un grafo dirigido con N vértices y aristas"
      ]
    },
    {
      "cell_type": "code",
      "metadata": {
        "colab": {
          "base_uri": "https://localhost:8080/",
          "height": 247
        },
        "id": "-IOxnEvABoTk",
        "outputId": "e6304540-348a-4b1b-f3de-bc22d9c96b18"
      },
      "source": [
        "#Crear grafica usando la biblioteca networkx\n",
        "g = nx.DiGraph() \n",
        "\n",
        "#Añadir vertices\n",
        "N = 5\n",
        "g.add_nodes_from(range(N)) \n",
        "\n",
        "# Agregar aristas\n",
        "g = añadir_conexiones(g, 0.4) \n",
        "\n",
        "#Ver la gráfica\n",
        "nx.draw_networkx(g, with_labels=True)\t"
      ],
      "execution_count": null,
      "outputs": [
        {
          "output_type": "display_data",
          "data": {
            "image/png": "[encoded data removed]",
            "text/plain": [
              "<Figure size 432x288 with 1 Axes>"
            ]
          },
          "metadata": {
            "tags": []
          }
        }
      ]
    },
    {
      "cell_type": "code",
      "metadata": {
        "colab": {
          "base_uri": "https://localhost:8080/"
        },
        "id": "X6Mzevd8PDKR",
        "outputId": "7b181837-b8ed-4d8d-d0d5-422f95f47102"
      },
      "source": [
        "print('Nodos:', g.nodes())\n",
        "print('\\nNúmero de Nodos:', g.number_of_nodes())\n",
        "print('\\nTotal de Vertices:',g.number_of_edges())\n"
      ],
      "execution_count": null,
      "outputs": [
        {
          "output_type": "stream",
          "text": [
            "Nodos: [0, 1, 2, 3, 4]\n",
            "\n",
            "Número de Nodos: 5\n",
            "\n",
            "Total de Vertices: 9\n"
          ],
          "name": "stdout"
        }
      ]
    },
    {
      "cell_type": "code",
      "metadata": {
        "colab": {
          "base_uri": "https://localhost:8080/"
        },
        "id": "OtO4Mj9NNaH6",
        "outputId": "0660ea77-7078-4f82-e353-e4252f620365"
      },
      "source": [
        "g.out_edges"
      ],
      "execution_count": null,
      "outputs": [
        {
          "output_type": "execute_result",
          "data": {
            "text/plain": [
              "OutEdgeView([(0, 2), (1, 0), (1, 2), (3, 0), (4, 1), (4, 2), (4, 3)])"
            ]
          },
          "metadata": {
            "tags": []
          },
          "execution_count": 39
        }
      ]
    },
    {
      "cell_type": "code",
      "metadata": {
        "colab": {
          "base_uri": "https://localhost:8080/"
        },
        "id": "msJP7MfnNs3y",
        "outputId": "77d3e261-ac7f-463c-cb6c-63fa5f1660bc"
      },
      "source": [
        "g.out_edges(1)"
      ],
      "execution_count": null,
      "outputs": [
        {
          "output_type": "execute_result",
          "data": {
            "text/plain": [
              "OutEdgeDataView([(1, 0), (1, 2)])"
            ]
          },
          "metadata": {
            "tags": []
          },
          "execution_count": 41
        }
      ]
    },
    {
      "cell_type": "markdown",
      "metadata": {
        "id": "BeVTfHFVCScH"
      },
      "source": [
        "Page Rank, utilizando caminata aleatoria"
      ]
    },
    {
      "cell_type": "code",
      "metadata": {
        "colab": {
          "base_uri": "https://localhost:8080/"
        },
        "id": "QA7wMnfECScN",
        "outputId": "bca3ab8b-286b-4be4-d474-08960fe92498"
      },
      "source": [
        "vec_r, pagerank, = PageRank_caminata_aleatoria(g, n_iter = 2) \n",
        "\n",
        "vec_r"
      ],
      "execution_count": null,
      "outputs": [
        {
          "output_type": "execute_result",
          "data": {
            "text/plain": [
              "array([0. , 0. , 0.5, 0. , 0.5])"
            ]
          },
          "metadata": {
            "tags": []
          },
          "execution_count": 20
        }
      ]
    },
    {
      "cell_type": "code",
      "metadata": {
        "colab": {
          "base_uri": "https://localhost:8080/"
        },
        "id": "eFARjvVeK7kT",
        "outputId": "21c8b882-4e8b-4e5d-fbc9-0637202cac7c"
      },
      "source": [
        "vec_r, pagerank, = PageRank_caminata_aleatoria(g, n_iter = 1000) \n",
        "\n",
        "vec_r"
      ],
      "execution_count": null,
      "outputs": [
        {
          "output_type": "execute_result",
          "data": {
            "text/plain": [
              "array([0.222, 0.108, 0.113, 0.301, 0.256])"
            ]
          },
          "metadata": {
            "tags": []
          },
          "execution_count": 21
        }
      ]
    },
    {
      "cell_type": "code",
      "metadata": {
        "colab": {
          "base_uri": "https://localhost:8080/"
        },
        "id": "4O8TYKxIK_IP",
        "outputId": "b3c0090d-e2aa-464c-f940-114418d8dc9a"
      },
      "source": [
        "vec_r, pagerank, = PageRank_caminata_aleatoria(g, n_iter = 100000) \n",
        "\n",
        "vec_r"
      ],
      "execution_count": null,
      "outputs": [
        {
          "output_type": "execute_result",
          "data": {
            "text/plain": [
              "array([0.22887, 0.09641, 0.10919, 0.30375, 0.26178])"
            ]
          },
          "metadata": {
            "tags": []
          },
          "execution_count": 26
        }
      ]
    },
    {
      "cell_type": "code",
      "metadata": {
        "colab": {
          "base_uri": "https://localhost:8080/",
          "height": 191
        },
        "id": "o010oGf35g2d",
        "outputId": "eb3d4921-a603-41d1-cf2d-ec1f1a577f89"
      },
      "source": [
        "pagerank"
      ],
      "execution_count": null,
      "outputs": [
        {
          "output_type": "execute_result",
          "data": {
            "text/html": [
              "<div>\n",
              "<style scoped>\n",
              "    .dataframe tbody tr th:only-of-type {\n",
              "        vertical-align: middle;\n",
              "    }\n",
              "\n",
              "    .dataframe tbody tr th {\n",
              "        vertical-align: top;\n",
              "    }\n",
              "\n",
              "    .dataframe thead th {\n",
              "        text-align: right;\n",
              "    }\n",
              "</style>\n",
              "<table border=\"1\" class=\"dataframe\">\n",
              "  <thead>\n",
              "    <tr style=\"text-align: right;\">\n",
              "      <th></th>\n",
              "      <th>Nodo</th>\n",
              "      <th>Pesos</th>\n",
              "    </tr>\n",
              "  </thead>\n",
              "  <tbody>\n",
              "    <tr>\n",
              "      <th>1</th>\n",
              "      <td>3</td>\n",
              "      <td>0.30375</td>\n",
              "    </tr>\n",
              "    <tr>\n",
              "      <th>2</th>\n",
              "      <td>4</td>\n",
              "      <td>0.26178</td>\n",
              "    </tr>\n",
              "    <tr>\n",
              "      <th>3</th>\n",
              "      <td>0</td>\n",
              "      <td>0.22887</td>\n",
              "    </tr>\n",
              "    <tr>\n",
              "      <th>4</th>\n",
              "      <td>2</td>\n",
              "      <td>0.10919</td>\n",
              "    </tr>\n",
              "    <tr>\n",
              "      <th>5</th>\n",
              "      <td>1</td>\n",
              "      <td>0.09641</td>\n",
              "    </tr>\n",
              "  </tbody>\n",
              "</table>\n",
              "</div>"
            ],
            "text/plain": [
              "   Nodo    Pesos\n",
              "1     3  0.30375\n",
              "2     4  0.26178\n",
              "3     0  0.22887\n",
              "4     2  0.10919\n",
              "5     1  0.09641"
            ]
          },
          "metadata": {
            "tags": []
          },
          "execution_count": 27
        }
      ]
    },
    {
      "cell_type": "markdown",
      "metadata": {
        "id": "H5_HjSlW4y3w"
      },
      "source": [
        "Utilizando funcion pagerank de la biblioteca networkx"
      ]
    },
    {
      "cell_type": "code",
      "metadata": {
        "colab": {
          "base_uri": "https://localhost:8080/"
        },
        "id": "fkrbWDRYqBW6",
        "outputId": "be5481b3-450d-47d2-e2f9-1e21180ae9bf"
      },
      "source": [
        "pesos_dict = nx.pagerank(g) \n",
        "p_ordenado = sorted(pesos_dict.items(), key=lambda x: x[1], reverse=True) \n",
        "  \n",
        "print(\"PageRank using inbuilt pagerank method\") \n",
        "for i in p_ordenado:  \n",
        "    print(i[0], end=\", \") "
      ],
      "execution_count": null,
      "outputs": [
        {
          "output_type": "stream",
          "text": [
            "PageRank using inbuilt pagerank method\n",
            "3, 4, 0, 2, 1, "
          ],
          "name": "stdout"
        }
      ]
    },
    {
      "cell_type": "markdown",
      "metadata": {
        "id": "VWoo2QSIAhDi"
      },
      "source": [
        "## PageRank de las páginas de la Universidad de Stanford (2002)\n",
        "\n",
        "* grafico https://snap.stanford.edu/data/web-Stanford.html\n",
        "* matriz https://www.cise.ufl.edu/research/sparse/matrices/SNAP/web-Stanford.html\n",
        "\n"
      ]
    },
    {
      "cell_type": "code",
      "metadata": {
        "id": "i0ejn4RUC0dg"
      },
      "source": [
        "# import tarfile\n",
        "# my_tar = tarfile.open('/content/drive/MyDrive/Datos/web-Stanford.tar')\n",
        "# my_tar.extractall('/content/drive/MyDrive/Datos/Web-Stanford')\n",
        "# my_tar.close()"
      ],
      "execution_count": null,
      "outputs": []
    },
    {
      "cell_type": "code",
      "metadata": {
        "colab": {
          "base_uri": "https://localhost:8080/"
        },
        "id": "9uJIT9p1Do3g",
        "outputId": "510a9f91-0afe-40cc-c702-1d83acf04fda"
      },
      "source": [
        "from scipy.io import mmread\n",
        "\n",
        "M = mmread(\"/content/drive/MyDrive/Datos/Web-Stanford/web-Stanford/web-Stanford.mtx\")\n",
        "M.shape"
      ],
      "execution_count": null,
      "outputs": [
        {
          "output_type": "execute_result",
          "data": {
            "text/plain": [
              "(281903, 281903)"
            ]
          },
          "metadata": {
            "tags": []
          },
          "execution_count": 31
        }
      ]
    },
    {
      "cell_type": "code",
      "metadata": {
        "id": "b5s1qKFXEXuz"
      },
      "source": [
        "G = nx.from_scipy_sparse_matrix(M, parallel_edges=True, create_using=nx.DiGraph)"
      ],
      "execution_count": null,
      "outputs": []
    },
    {
      "cell_type": "code",
      "metadata": {
        "colab": {
          "base_uri": "https://localhost:8080/",
          "height": 423
        },
        "id": "LvQRYLfcO4KC",
        "outputId": "91b2e733-7bed-46a4-85b0-ff0af17d5b99"
      },
      "source": [
        "%time \n",
        "vec_r, pagerank, = PageRank_caminata_aleatoria(G, n_iter = 10000000) \n",
        "pagerank"
      ],
      "execution_count": null,
      "outputs": [
        {
          "output_type": "stream",
          "text": [
            "CPU times: user 3 µs, sys: 0 ns, total: 3 µs\n",
            "Wall time: 7.39 µs\n"
          ],
          "name": "stdout"
        },
        {
          "output_type": "execute_result",
          "data": {
            "text/html": [
              "<div>\n",
              "<style scoped>\n",
              "    .dataframe tbody tr th:only-of-type {\n",
              "        vertical-align: middle;\n",
              "    }\n",
              "\n",
              "    .dataframe tbody tr th {\n",
              "        vertical-align: top;\n",
              "    }\n",
              "\n",
              "    .dataframe thead th {\n",
              "        text-align: right;\n",
              "    }\n",
              "</style>\n",
              "<table border=\"1\" class=\"dataframe\">\n",
              "  <thead>\n",
              "    <tr style=\"text-align: right;\">\n",
              "      <th></th>\n",
              "      <th>Nodo</th>\n",
              "      <th>Pesos</th>\n",
              "    </tr>\n",
              "  </thead>\n",
              "  <tbody>\n",
              "    <tr>\n",
              "      <th>1</th>\n",
              "      <td>47344</td>\n",
              "      <td>0.113011</td>\n",
              "    </tr>\n",
              "    <tr>\n",
              "      <th>2</th>\n",
              "      <td>200697</td>\n",
              "      <td>0.078344</td>\n",
              "    </tr>\n",
              "    <tr>\n",
              "      <th>3</th>\n",
              "      <td>132858</td>\n",
              "      <td>0.078292</td>\n",
              "    </tr>\n",
              "    <tr>\n",
              "      <th>4</th>\n",
              "      <td>120822</td>\n",
              "      <td>0.078283</td>\n",
              "    </tr>\n",
              "    <tr>\n",
              "      <th>5</th>\n",
              "      <td>1836</td>\n",
              "      <td>0.078267</td>\n",
              "    </tr>\n",
              "    <tr>\n",
              "      <th>...</th>\n",
              "      <td>...</td>\n",
              "      <td>...</td>\n",
              "    </tr>\n",
              "    <tr>\n",
              "      <th>281899</th>\n",
              "      <td>94013</td>\n",
              "      <td>0.000000</td>\n",
              "    </tr>\n",
              "    <tr>\n",
              "      <th>281900</th>\n",
              "      <td>94014</td>\n",
              "      <td>0.000000</td>\n",
              "    </tr>\n",
              "    <tr>\n",
              "      <th>281901</th>\n",
              "      <td>94015</td>\n",
              "      <td>0.000000</td>\n",
              "    </tr>\n",
              "    <tr>\n",
              "      <th>281902</th>\n",
              "      <td>94016</td>\n",
              "      <td>0.000000</td>\n",
              "    </tr>\n",
              "    <tr>\n",
              "      <th>281903</th>\n",
              "      <td>281902</td>\n",
              "      <td>0.000000</td>\n",
              "    </tr>\n",
              "  </tbody>\n",
              "</table>\n",
              "<p>281903 rows × 2 columns</p>\n",
              "</div>"
            ],
            "text/plain": [
              "          Nodo     Pesos\n",
              "1        47344  0.113011\n",
              "2       200697  0.078344\n",
              "3       132858  0.078292\n",
              "4       120822  0.078283\n",
              "5         1836  0.078267\n",
              "...        ...       ...\n",
              "281899   94013  0.000000\n",
              "281900   94014  0.000000\n",
              "281901   94015  0.000000\n",
              "281902   94016  0.000000\n",
              "281903  281902  0.000000\n",
              "\n",
              "[281903 rows x 2 columns]"
            ]
          },
          "metadata": {
            "tags": []
          },
          "execution_count": 39
        }
      ]
    },
    {
      "cell_type": "markdown",
      "metadata": {
        "id": "6DwWO5Uc67Ue"
      },
      "source": [
        "## **Aplicaciones**\n",
        "\n",
        "**Redes electricas**: \n",
        "\n",
        "* Chung F, Zhao W. PageRank and Random Walks on Graphs. En: Katona GOH, Schrijver A, Szőnyi T, Sági G, editores. Fete of Combinatorics and Computer Science [Internet]. Berlin, Heidelberg: Springer Berlin Heidelberg; 2010 [citado 28 de diciembre de 2020]. p. 43-62. (Tóth GF, Katona GOH, Lovász L, Pálfy PP, Recski A, Stipsicz A, et al. Bolyai Society Mathematical Studies; vol. 20). Disponible en: http://link.springer.com/10.1007/978-3-642-13580-4_3\n",
        "\n",
        "**Redes sociales (epidemiología, difusión de noticias, moda, etc)**\n",
        "* Mao C, Xiao W. A Comprehensive Algorithm for Evaluating Node Influences in Social Networks Based on Preference Analysis and Random Walk [Internet]. Vol. 2018, Complexity. Hindawi; 2018 [citado 28 de diciembre de 2020]. p. e1528341. Disponible en: https://www.hindawi.com/journals/complexity/2018/1528341/\n",
        "\n",
        "**Detección de fraude**\n",
        "\n",
        "* How to Perform Fraud Detection with Personalized Page Rank [Internet]. [citado 28 de diciembre de 2020]. Disponible en: https://www.sicara.ai/blog/2019-01-09-fraud-detection-personalized-page-rank\n",
        "\n",
        "\n",
        "\n",
        "\n",
        "\n",
        "\n"
      ]
    },
    {
      "cell_type": "markdown",
      "metadata": {
        "id": "0wruoTSn_-xw"
      },
      "source": [
        "## **Conjuntos de Datos**\n",
        "\n",
        "1. Stanford Large Network Dataset Collection [Internet]. [citado 28 de diciembre de 2020]. Disponible en: https://snap.stanford.edu/data/#email\n"
      ]
    }
  ]
}