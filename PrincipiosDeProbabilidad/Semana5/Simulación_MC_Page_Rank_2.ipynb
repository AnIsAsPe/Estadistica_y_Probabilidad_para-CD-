{
  "nbformat": 4,
  "nbformat_minor": 0,
  "metadata": {
    "colab": {
      "name": "Simulación MC_Page Rank.ipynb",
      "provenance": [],
      "toc_visible": true
    },
    "kernelspec": {
      "name": "python3",
      "display_name": "Python 3"
    }
  },
  "cells": [
    {
      "cell_type": "markdown",
      "metadata": {
        "id": "T3tTGz_W41RX"
      },
      "source": [
        "# Importar Bibliotecas"
      ]
    },
    {
      "cell_type": "code",
      "metadata": {
        "id": "KAcCtbJSc8NB"
      },
      "source": [
        "import itertools\n",
        "import pprint\t\n",
        "import random\n",
        "\n",
        "import numpy as np\n",
        "import pandas as pd\t\n",
        "\n",
        "import networkx as nx    # https://networkx.org/documentation/stable/index.html\n",
        "from matplotlib import pyplot as plt\n"
      ],
      "execution_count": 1,
      "outputs": []
    },
    {
      "cell_type": "markdown",
      "metadata": {
        "id": "SL-9EU7NAhhe"
      },
      "source": [
        "# Funciones"
      ]
    },
    {
      "cell_type": "markdown",
      "metadata": {
        "id": "KtBgh0vWA0IN"
      },
      "source": [
        "#### añadir_conexiones()"
      ]
    },
    {
      "cell_type": "code",
      "metadata": {
        "id": "_nPHfVbJAa-a"
      },
      "source": [
        "def añadir_conexiones(g, pr): \n",
        "    for nodo in g.nodes(): \n",
        "        for nodo1 in g.nodes(): \n",
        "            if (nodo != nodo1): \n",
        "                ra = random.random() \n",
        "                if (ra < pr): \n",
        "                    g.add_edge(nodo, nodo1) \n",
        "                else: \n",
        "                    continue\n",
        "    return g "
      ],
      "execution_count": 2,
      "outputs": []
    },
    {
      "cell_type": "markdown",
      "metadata": {
        "id": "e40zrFiNBbre"
      },
      "source": [
        "# PageRank con conjunto de datos sintéticos"
      ]
    },
    {
      "cell_type": "markdown",
      "metadata": {
        "id": "9wj-hdMCBgq8"
      },
      "source": [
        "Crear un grafo dirigido con N vértices y aristas"
      ]
    },
    {
      "cell_type": "code",
      "metadata": {
        "colab": {
          "base_uri": "https://localhost:8080/",
          "height": 248
        },
        "id": "-IOxnEvABoTk",
        "outputId": "a76fd10d-280c-49f7-8e9f-033ede5c32d7"
      },
      "source": [
        "#Crear grafica usando la biblioteca networkx\n",
        "g = nx.DiGraph() \n",
        "\n",
        "#Añadir vertices\n",
        "N = 5\n",
        "g.add_nodes_from(range(N)) \n",
        "\n",
        "# Agregar aristas\n",
        "g = añadir_conexiones(g, 0.6) \n",
        "\n",
        "#Ver la gráfica\n",
        "nx.draw_networkx(g, with_labels=True)\t"
      ],
      "execution_count": 3,
      "outputs": [
        {
          "output_type": "display_data",
          "data": {
            "text/plain": [
              "<Figure size 432x288 with 1 Axes>"
            ],
            "image/png": "[encoded data removed]"
          },
          "metadata": {}
        }
      ]
    },
    {
      "cell_type": "code",
      "metadata": {
        "colab": {
          "base_uri": "https://localhost:8080/"
        },
        "id": "X6Mzevd8PDKR",
        "outputId": "4af3d1fb-26ac-4471-f659-a64475763eb2"
      },
      "source": [
        "print('Nodos:', g.nodes())\n",
        "print('\\nNúmero de Nodos:', g.number_of_nodes())\n",
        "print('\\nTotal de Vertices:',g.number_of_edges())\n"
      ],
      "execution_count": 4,
      "outputs": [
        {
          "output_type": "stream",
          "name": "stdout",
          "text": [
            "Nodos: [0, 1, 2, 3, 4]\n",
            "\n",
            "Número de Nodos: 5\n",
            "\n",
            "Total de Vertices: 10\n"
          ]
        }
      ]
    },
    {
      "cell_type": "code",
      "metadata": {
        "colab": {
          "base_uri": "https://localhost:8080/"
        },
        "id": "OtO4Mj9NNaH6",
        "outputId": "79cf739c-af63-405e-dcd3-de2e6fd25b53"
      },
      "source": [
        "g.out_edges"
      ],
      "execution_count": 5,
      "outputs": [
        {
          "output_type": "execute_result",
          "data": {
            "text/plain": [
              "OutEdgeView([(0, 2), (0, 4), (1, 2), (1, 3), (2, 0), (3, 1), (3, 2), (4, 1), (4, 2), (4, 3)])"
            ]
          },
          "metadata": {},
          "execution_count": 5
        }
      ]
    },
    {
      "cell_type": "code",
      "metadata": {
        "colab": {
          "base_uri": "https://localhost:8080/"
        },
        "id": "msJP7MfnNs3y",
        "outputId": "3a4f0ed6-c558-406c-ef29-774308112d90"
      },
      "source": [
        "g.out_edges(1)"
      ],
      "execution_count": 6,
      "outputs": [
        {
          "output_type": "execute_result",
          "data": {
            "text/plain": [
              "OutEdgeDataView([(1, 2), (1, 3)])"
            ]
          },
          "metadata": {},
          "execution_count": 6
        }
      ]
    },
    {
      "cell_type": "markdown",
      "source": [
        "### Construir la matriz de transición "
      ],
      "metadata": {
        "id": "00CZQQgWF9Ho"
      }
    },
    {
      "cell_type": "code",
      "source": [
        "a = nx.to_numpy_array(g)\n",
        "a"
      ],
      "metadata": {
        "id": "EpwziFTaF9Ho",
        "outputId": "05669dfa-5c11-4a70-b2b5-5427b600c5c5",
        "colab": {
          "base_uri": "https://localhost:8080/"
        }
      },
      "execution_count": 19,
      "outputs": [
        {
          "output_type": "execute_result",
          "data": {
            "text/plain": [
              "array([[0., 0., 1., 0., 1.],\n",
              "       [0., 0., 1., 1., 0.],\n",
              "       [1., 0., 0., 0., 0.],\n",
              "       [0., 1., 1., 0., 0.],\n",
              "       [0., 1., 1., 1., 0.]])"
            ]
          },
          "metadata": {},
          "execution_count": 19
        }
      ]
    },
    {
      "cell_type": "code",
      "source": [
        "MT = a / a.sum(axis=1).reshape(-1,1)\n",
        "MT"
      ],
      "metadata": {
        "colab": {
          "base_uri": "https://localhost:8080/"
        },
        "outputId": "9ff834fd-9b75-487c-f91b-46d41fe719f2",
        "id": "DoLxwT_cF9Hp"
      },
      "execution_count": 21,
      "outputs": [
        {
          "output_type": "execute_result",
          "data": {
            "text/plain": [
              "array([[0.        , 0.        , 0.5       , 0.        , 0.5       ],\n",
              "       [0.        , 0.        , 0.5       , 0.5       , 0.        ],\n",
              "       [1.        , 0.        , 0.        , 0.        , 0.        ],\n",
              "       [0.        , 0.5       , 0.5       , 0.        , 0.        ],\n",
              "       [0.        , 0.33333333, 0.33333333, 0.33333333, 0.        ]])"
            ]
          },
          "metadata": {},
          "execution_count": 21
        }
      ]
    },
    {
      "cell_type": "markdown",
      "source": [
        "### Borrar esta celda de texto"
      ],
      "metadata": {
        "id": "WIrH17doF2ah"
      }
    },
    {
      "cell_type": "markdown",
      "metadata": {
        "id": "BeVTfHFVCScH"
      },
      "source": [
        "Page Rank, utilizando caminata aleatoria"
      ]
    },
    {
      "cell_type": "code",
      "metadata": {
        "id": "_LKl35W-BM9-"
      },
      "source": [
        "def PageRank_caminata_aleatoria_01(g, n_iter, caminatas):\n",
        "\n",
        "      nodos = list(g.nodes()) \n",
        "\n",
        "      caminatas_df = pd.DataFrame(np.zeros((caminatas, len(nodos))),\n",
        "                                  columns = nodos,\n",
        "                                  index = ['Caminata_{}'.format(n+1) for n in range(caminatas)])\n",
        "  \n",
        "      for n in range(caminatas):\n",
        "          #inicialiaemos en 0 los cuenta para cada nodo\n",
        "          cuenta = np.zeros_like(nodos)\n",
        "  \n",
        "          #escojemos un nodo aleatoriamente, probabilidad uniforme\n",
        "          nod = random.choice(nodos)\n",
        "          cuenta[nod] += 1\n",
        "\n",
        "          #lista de vecinos a donde ir, probabilidad uniforme\n",
        "          vecinos = list(g.out_edges(nod)) \n",
        "\n",
        "          #iterar n_iter veces\n",
        "          z = 1\n",
        "          while (z != n_iter): \n",
        "              #Si no hay vecinos escogemos cualquier vecino al azar\n",
        "              if (len(vecinos) == 0):        \n",
        "                  siguiente = random.choice(nodos) \n",
        "              else:\n",
        "                  nod1 = random.choice(vecinos) \n",
        "                  siguiente = nod1[1] \n",
        "              cuenta[siguiente] += 1\n",
        "              vecinos = list(g.out_edges(siguiente)) \n",
        "              z += 1\n",
        "\n",
        "          #Obtenemos los pesos de cada nodo\n",
        "          pesos = np.array(cuenta)/n_iter   #vector r\n",
        "\n",
        "          #Guardamos los resultados en una tabla ordenada por pesos\n",
        "          caminatas_df.loc['Caminata_{}'.format(n+1)] = pesos \n",
        "          \n",
        "          #promediar y sacar el rank\n",
        "      vec_r = caminatas_df.mean()\n",
        "      rank = vec_r.sort_values(ascending=False).index.to_numpy()\n",
        "      return caminatas_df, vec_r.to_dict(), rank\n"
      ],
      "execution_count": 18,
      "outputs": []
    },
    {
      "cell_type": "code",
      "source": [
        "pesos_df, pesos_dict, rank = PageRank_caminata_aleatoria_01(g, n_iter = 200, caminatas= 1000)\n",
        "pesos_dict"
      ],
      "metadata": {
        "colab": {
          "base_uri": "https://localhost:8080/"
        },
        "id": "k0qMx-zrotcq",
        "outputId": "b8c33003-fd7b-40de-9435-1bfd0eb8a4b8"
      },
      "execution_count": 19,
      "outputs": [
        {
          "output_type": "execute_result",
          "data": {
            "text/plain": [
              "{0: 0.11398499999999974,\n",
              " 1: 0.050004999999999876,\n",
              " 2: 0.09870999999999977,\n",
              " 3: 0.07307000000000001,\n",
              " 4: 0.07957500000000005,\n",
              " 5: 0.1974299999999995,\n",
              " 6: 0.18164500000000003,\n",
              " 7: 0.09915499999999987,\n",
              " 8: 0.10642499999999976}"
            ]
          },
          "metadata": {},
          "execution_count": 19
        }
      ]
    },
    {
      "cell_type": "code",
      "source": [
        "rank"
      ],
      "metadata": {
        "colab": {
          "base_uri": "https://localhost:8080/"
        },
        "id": "VHkPhs9s3--e",
        "outputId": "9e43de83-c413-462b-a1c6-66aa2d0d4b0b"
      },
      "execution_count": 20,
      "outputs": [
        {
          "output_type": "execute_result",
          "data": {
            "text/plain": [
              "array([5, 6, 0, 8, 7, 2, 4, 3, 1])"
            ]
          },
          "metadata": {},
          "execution_count": 20
        }
      ]
    },
    {
      "cell_type": "code",
      "source": [
        "pesos_df"
      ],
      "metadata": {
        "colab": {
          "base_uri": "https://localhost:8080/",
          "height": 423
        },
        "id": "GkHCdk9ntS5o",
        "outputId": "fe3afcd0-5960-44e4-c884-0f57784ebbc8"
      },
      "execution_count": 16,
      "outputs": [
        {
          "output_type": "execute_result",
          "data": {
            "text/plain": [
              "                   0      1      2      3      4      5      6      7      8\n",
              "Caminata_1     0.130  0.045  0.085  0.085  0.075  0.200  0.180  0.110  0.090\n",
              "Caminata_2     0.120  0.070  0.095  0.055  0.050  0.240  0.200  0.080  0.090\n",
              "Caminata_3     0.125  0.035  0.100  0.100  0.080  0.165  0.175  0.110  0.110\n",
              "Caminata_4     0.115  0.040  0.105  0.090  0.075  0.180  0.160  0.125  0.110\n",
              "Caminata_5     0.160  0.050  0.080  0.055  0.090  0.195  0.165  0.100  0.105\n",
              "...              ...    ...    ...    ...    ...    ...    ...    ...    ...\n",
              "Caminata_996   0.105  0.025  0.120  0.070  0.085  0.205  0.180  0.105  0.105\n",
              "Caminata_997   0.095  0.065  0.080  0.075  0.080  0.215  0.200  0.090  0.100\n",
              "Caminata_998   0.130  0.040  0.065  0.055  0.085  0.185  0.200  0.115  0.125\n",
              "Caminata_999   0.105  0.060  0.125  0.050  0.085  0.200  0.205  0.060  0.110\n",
              "Caminata_1000  0.130  0.045  0.075  0.030  0.090  0.210  0.195  0.095  0.130\n",
              "\n",
              "[1000 rows x 9 columns]"
            ],
            "text/html": [
              "\n",
              "  <div id=\"df-03d4fc0b-18eb-49b2-816f-0216bc002a75\">\n",
              "    <div class=\"colab-df-container\">\n",
              "      <div>\n",
              "<style scoped>\n",
              "    .dataframe tbody tr th:only-of-type {\n",
              "        vertical-align: middle;\n",
              "    }\n",
              "\n",
              "    .dataframe tbody tr th {\n",
              "        vertical-align: top;\n",
              "    }\n",
              "\n",
              "    .dataframe thead th {\n",
              "        text-align: right;\n",
              "    }\n",
              "</style>\n",
              "<table border=\"1\" class=\"dataframe\">\n",
              "  <thead>\n",
              "    <tr style=\"text-align: right;\">\n",
              "      <th></th>\n",
              "      <th>0</th>\n",
              "      <th>1</th>\n",
              "      <th>2</th>\n",
              "      <th>3</th>\n",
              "      <th>4</th>\n",
              "      <th>5</th>\n",
              "      <th>6</th>\n",
              "      <th>7</th>\n",
              "      <th>8</th>\n",
              "    </tr>\n",
              "  </thead>\n",
              "  <tbody>\n",
              "    <tr>\n",
              "      <th>Caminata_1</th>\n",
              "      <td>0.130</td>\n",
              "      <td>0.045</td>\n",
              "      <td>0.085</td>\n",
              "      <td>0.085</td>\n",
              "      <td>0.075</td>\n",
              "      <td>0.200</td>\n",
              "      <td>0.180</td>\n",
              "      <td>0.110</td>\n",
              "      <td>0.090</td>\n",
              "    </tr>\n",
              "    <tr>\n",
              "      <th>Caminata_2</th>\n",
              "      <td>0.120</td>\n",
              "      <td>0.070</td>\n",
              "      <td>0.095</td>\n",
              "      <td>0.055</td>\n",
              "      <td>0.050</td>\n",
              "      <td>0.240</td>\n",
              "      <td>0.200</td>\n",
              "      <td>0.080</td>\n",
              "      <td>0.090</td>\n",
              "    </tr>\n",
              "    <tr>\n",
              "      <th>Caminata_3</th>\n",
              "      <td>0.125</td>\n",
              "      <td>0.035</td>\n",
              "      <td>0.100</td>\n",
              "      <td>0.100</td>\n",
              "      <td>0.080</td>\n",
              "      <td>0.165</td>\n",
              "      <td>0.175</td>\n",
              "      <td>0.110</td>\n",
              "      <td>0.110</td>\n",
              "    </tr>\n",
              "    <tr>\n",
              "      <th>Caminata_4</th>\n",
              "      <td>0.115</td>\n",
              "      <td>0.040</td>\n",
              "      <td>0.105</td>\n",
              "      <td>0.090</td>\n",
              "      <td>0.075</td>\n",
              "      <td>0.180</td>\n",
              "      <td>0.160</td>\n",
              "      <td>0.125</td>\n",
              "      <td>0.110</td>\n",
              "    </tr>\n",
              "    <tr>\n",
              "      <th>Caminata_5</th>\n",
              "      <td>0.160</td>\n",
              "      <td>0.050</td>\n",
              "      <td>0.080</td>\n",
              "      <td>0.055</td>\n",
              "      <td>0.090</td>\n",
              "      <td>0.195</td>\n",
              "      <td>0.165</td>\n",
              "      <td>0.100</td>\n",
              "      <td>0.105</td>\n",
              "    </tr>\n",
              "    <tr>\n",
              "      <th>...</th>\n",
              "      <td>...</td>\n",
              "      <td>...</td>\n",
              "      <td>...</td>\n",
              "      <td>...</td>\n",
              "      <td>...</td>\n",
              "      <td>...</td>\n",
              "      <td>...</td>\n",
              "      <td>...</td>\n",
              "      <td>...</td>\n",
              "    </tr>\n",
              "    <tr>\n",
              "      <th>Caminata_996</th>\n",
              "      <td>0.105</td>\n",
              "      <td>0.025</td>\n",
              "      <td>0.120</td>\n",
              "      <td>0.070</td>\n",
              "      <td>0.085</td>\n",
              "      <td>0.205</td>\n",
              "      <td>0.180</td>\n",
              "      <td>0.105</td>\n",
              "      <td>0.105</td>\n",
              "    </tr>\n",
              "    <tr>\n",
              "      <th>Caminata_997</th>\n",
              "      <td>0.095</td>\n",
              "      <td>0.065</td>\n",
              "      <td>0.080</td>\n",
              "      <td>0.075</td>\n",
              "      <td>0.080</td>\n",
              "      <td>0.215</td>\n",
              "      <td>0.200</td>\n",
              "      <td>0.090</td>\n",
              "      <td>0.100</td>\n",
              "    </tr>\n",
              "    <tr>\n",
              "      <th>Caminata_998</th>\n",
              "      <td>0.130</td>\n",
              "      <td>0.040</td>\n",
              "      <td>0.065</td>\n",
              "      <td>0.055</td>\n",
              "      <td>0.085</td>\n",
              "      <td>0.185</td>\n",
              "      <td>0.200</td>\n",
              "      <td>0.115</td>\n",
              "      <td>0.125</td>\n",
              "    </tr>\n",
              "    <tr>\n",
              "      <th>Caminata_999</th>\n",
              "      <td>0.105</td>\n",
              "      <td>0.060</td>\n",
              "      <td>0.125</td>\n",
              "      <td>0.050</td>\n",
              "      <td>0.085</td>\n",
              "      <td>0.200</td>\n",
              "      <td>0.205</td>\n",
              "      <td>0.060</td>\n",
              "      <td>0.110</td>\n",
              "    </tr>\n",
              "    <tr>\n",
              "      <th>Caminata_1000</th>\n",
              "      <td>0.130</td>\n",
              "      <td>0.045</td>\n",
              "      <td>0.075</td>\n",
              "      <td>0.030</td>\n",
              "      <td>0.090</td>\n",
              "      <td>0.210</td>\n",
              "      <td>0.195</td>\n",
              "      <td>0.095</td>\n",
              "      <td>0.130</td>\n",
              "    </tr>\n",
              "  </tbody>\n",
              "</table>\n",
              "<p>1000 rows × 9 columns</p>\n",
              "</div>\n",
              "      <button class=\"colab-df-convert\" onclick=\"convertToInteractive('df-03d4fc0b-18eb-49b2-816f-0216bc002a75')\"\n",
              "              title=\"Convert this dataframe to an interactive table.\"\n",
              "              style=\"display:none;\">\n",
              "        \n",
              "  <svg xmlns=\"http://www.w3.org/2000/svg\" height=\"24px\"viewBox=\"0 0 24 24\"\n",
              "       width=\"24px\">\n",
              "    <path d=\"M0 0h24v24H0V0z\" fill=\"none\"/>\n",
              "    <path d=\"M18.56 5.44l.94 2.06.94-2.06 2.06-.94-2.06-.94-.94-2.06-.94 2.06-2.06.94zm-11 1L8.5 8.5l.94-2.06 2.06-.94-2.06-.94L8.5 2.5l-.94 2.06-2.06.94zm10 10l.94 2.06.94-2.06 2.06-.94-2.06-.94-.94-2.06-.94 2.06-2.06.94z\"/><path d=\"M17.41 7.96l-1.37-1.37c-.4-.4-.92-.59-1.43-.59-.52 0-1.04.2-1.43.59L10.3 9.45l-7.72 7.72c-.78.78-.78 2.05 0 2.83L4 21.41c.39.39.9.59 1.41.59.51 0 1.02-.2 1.41-.59l7.78-7.78 2.81-2.81c.8-.78.8-2.07 0-2.86zM5.41 20L4 18.59l7.72-7.72 1.47 1.35L5.41 20z\"/>\n",
              "  </svg>\n",
              "      </button>\n",
              "      \n",
              "  <style>\n",
              "    .colab-df-container {\n",
              "      display:flex;\n",
              "      flex-wrap:wrap;\n",
              "      gap: 12px;\n",
              "    }\n",
              "\n",
              "    .colab-df-convert {\n",
              "      background-color: #E8F0FE;\n",
              "      border: none;\n",
              "      border-radius: 50%;\n",
              "      cursor: pointer;\n",
              "      display: none;\n",
              "      fill: #1967D2;\n",
              "      height: 32px;\n",
              "      padding: 0 0 0 0;\n",
              "      width: 32px;\n",
              "    }\n",
              "\n",
              "    .colab-df-convert:hover {\n",
              "      background-color: #E2EBFA;\n",
              "      box-shadow: 0px 1px 2px rgba(60, 64, 67, 0.3), 0px 1px 3px 1px rgba(60, 64, 67, 0.15);\n",
              "      fill: #174EA6;\n",
              "    }\n",
              "\n",
              "    [theme=dark] .colab-df-convert {\n",
              "      background-color: #3B4455;\n",
              "      fill: #D2E3FC;\n",
              "    }\n",
              "\n",
              "    [theme=dark] .colab-df-convert:hover {\n",
              "      background-color: #434B5C;\n",
              "      box-shadow: 0px 1px 3px 1px rgba(0, 0, 0, 0.15);\n",
              "      filter: drop-shadow(0px 1px 2px rgba(0, 0, 0, 0.3));\n",
              "      fill: #FFFFFF;\n",
              "    }\n",
              "  </style>\n",
              "\n",
              "      <script>\n",
              "        const buttonEl =\n",
              "          document.querySelector('#df-03d4fc0b-18eb-49b2-816f-0216bc002a75 button.colab-df-convert');\n",
              "        buttonEl.style.display =\n",
              "          google.colab.kernel.accessAllowed ? 'block' : 'none';\n",
              "\n",
              "        async function convertToInteractive(key) {\n",
              "          const element = document.querySelector('#df-03d4fc0b-18eb-49b2-816f-0216bc002a75');\n",
              "          const dataTable =\n",
              "            await google.colab.kernel.invokeFunction('convertToInteractive',\n",
              "                                                     [key], {});\n",
              "          if (!dataTable) return;\n",
              "\n",
              "          const docLinkHtml = 'Like what you see? Visit the ' +\n",
              "            '<a target=\"_blank\" href=https://colab.research.google.com/notebooks/data_table.ipynb>data table notebook</a>'\n",
              "            + ' to learn more about interactive tables.';\n",
              "          element.innerHTML = '';\n",
              "          dataTable['output_type'] = 'display_data';\n",
              "          await google.colab.output.renderOutput(dataTable, element);\n",
              "          const docLink = document.createElement('div');\n",
              "          docLink.innerHTML = docLinkHtml;\n",
              "          element.appendChild(docLink);\n",
              "        }\n",
              "      </script>\n",
              "    </div>\n",
              "  </div>\n",
              "  "
            ]
          },
          "metadata": {},
          "execution_count": 16
        }
      ]
    },
    {
      "cell_type": "code",
      "metadata": {
        "colab": {
          "base_uri": "https://localhost:8080/"
        },
        "id": "fkrbWDRYqBW6",
        "outputId": "e0c1634d-498e-40e1-cacb-9cfd427a9553"
      },
      "source": [
        "pesos_dict2 = nx.pagerank(g) \n",
        "pesos_dict2"
      ],
      "execution_count": null,
      "outputs": [
        {
          "output_type": "execute_result",
          "data": {
            "text/plain": [
              "{0: 0.13276836121342941,\n",
              " 1: 0.11650656708629559,\n",
              " 2: 0.04967682504315571,\n",
              " 3: 0.0808025588684323,\n",
              " 4: 0.0539519397446749,\n",
              " 5: 0.12678727145585109,\n",
              " 6: 0.13449277199738352,\n",
              " 7: 0.12955268636614484,\n",
              " 8: 0.17546101822463253}"
            ]
          },
          "metadata": {},
          "execution_count": 29
        }
      ]
    },
    {
      "cell_type": "markdown",
      "metadata": {
        "id": "VWoo2QSIAhDi"
      },
      "source": [
        "## PageRank de las páginas de la Universidad de Stanford (2002)\n",
        "\n",
        "* grafico https://snap.stanford.edu/data/web-Stanford.html\n",
        "* matriz adyacente https://www.cise.ufl.edu/research/sparse/matrices/SNAP/web-Stanford.html\n",
        "\n"
      ]
    },
    {
      "cell_type": "code",
      "metadata": {
        "colab": {
          "base_uri": "https://localhost:8080/"
        },
        "id": "9uJIT9p1Do3g",
        "outputId": "23ef6585-4552-4c1f-f72c-90ad4af56046"
      },
      "source": [
        "from scipy.io import mmread\n",
        "\n",
        "M = mmread(\"/content/drive/MyDrive/Datos/Web-Stanford/web-Stanford/web-Stanford.mtx\")\n",
        "M.shape"
      ],
      "execution_count": 2,
      "outputs": [
        {
          "output_type": "execute_result",
          "data": {
            "text/plain": [
              "(281903, 281903)"
            ]
          },
          "metadata": {},
          "execution_count": 2
        }
      ]
    },
    {
      "cell_type": "code",
      "source": [
        "G = nx.from_scipy_sparse_array(M, parallel_edges=True, create_using=nx.DiGraph)\n",
        "print('\\nNúmero de Nodos:', G.number_of_nodes())\n",
        "print('\\nTotal de Vertices:',G.number_of_edges())"
      ],
      "metadata": {
        "colab": {
          "base_uri": "https://localhost:8080/"
        },
        "id": "zeU4nT5qBQFG",
        "outputId": "810ad518-9318-4d27-8d26-52e3e776db4c"
      },
      "execution_count": 26,
      "outputs": [
        {
          "output_type": "stream",
          "name": "stdout",
          "text": [
            "\n",
            "Número de Nodos: 281903\n",
            "\n",
            "Total de Vertices: 2312497\n"
          ]
        }
      ]
    },
    {
      "cell_type": "code",
      "source": [
        "## tarda como 4 min\n",
        "caminatas_df, pesos_dict = PageRank_caminata_aleatoria_01(G, n_iter = 10000, caminatas= 1000)\n",
        "p_ordenado = sorted(pesos_dict.items(), key=lambda x: x[1], reverse=True) \n",
        "pd.DataFrame(p_ordenado)"
      ],
      "metadata": {
        "colab": {
          "base_uri": "https://localhost:8080/",
          "height": 423
        },
        "id": "4tkb-uYdq6i5",
        "outputId": "47942814-aadf-4621-a5a5-e32abda098e5"
      },
      "execution_count": null,
      "outputs": [
        {
          "output_type": "execute_result",
          "data": {
            "text/plain": [
              "             0         1\n",
              "0       281771  0.025039\n",
              "1       174664  0.020886\n",
              "2        77987  0.014973\n",
              "3       116529  0.014971\n",
              "4       271408  0.010744\n",
              "...        ...       ...\n",
              "281898  281898  0.000000\n",
              "281899  281899  0.000000\n",
              "281900  281900  0.000000\n",
              "281901  281901  0.000000\n",
              "281902  281902  0.000000\n",
              "\n",
              "[281903 rows x 2 columns]"
            ],
            "text/html": [
              "\n",
              "  <div id=\"df-9e9d6446-b65d-4766-a872-cd406f8a9690\">\n",
              "    <div class=\"colab-df-container\">\n",
              "      <div>\n",
              "<style scoped>\n",
              "    .dataframe tbody tr th:only-of-type {\n",
              "        vertical-align: middle;\n",
              "    }\n",
              "\n",
              "    .dataframe tbody tr th {\n",
              "        vertical-align: top;\n",
              "    }\n",
              "\n",
              "    .dataframe thead th {\n",
              "        text-align: right;\n",
              "    }\n",
              "</style>\n",
              "<table border=\"1\" class=\"dataframe\">\n",
              "  <thead>\n",
              "    <tr style=\"text-align: right;\">\n",
              "      <th></th>\n",
              "      <th>0</th>\n",
              "      <th>1</th>\n",
              "    </tr>\n",
              "  </thead>\n",
              "  <tbody>\n",
              "    <tr>\n",
              "      <th>0</th>\n",
              "      <td>281771</td>\n",
              "      <td>0.025039</td>\n",
              "    </tr>\n",
              "    <tr>\n",
              "      <th>1</th>\n",
              "      <td>174664</td>\n",
              "      <td>0.020886</td>\n",
              "    </tr>\n",
              "    <tr>\n",
              "      <th>2</th>\n",
              "      <td>77987</td>\n",
              "      <td>0.014973</td>\n",
              "    </tr>\n",
              "    <tr>\n",
              "      <th>3</th>\n",
              "      <td>116529</td>\n",
              "      <td>0.014971</td>\n",
              "    </tr>\n",
              "    <tr>\n",
              "      <th>4</th>\n",
              "      <td>271408</td>\n",
              "      <td>0.010744</td>\n",
              "    </tr>\n",
              "    <tr>\n",
              "      <th>...</th>\n",
              "      <td>...</td>\n",
              "      <td>...</td>\n",
              "    </tr>\n",
              "    <tr>\n",
              "      <th>281898</th>\n",
              "      <td>281898</td>\n",
              "      <td>0.000000</td>\n",
              "    </tr>\n",
              "    <tr>\n",
              "      <th>281899</th>\n",
              "      <td>281899</td>\n",
              "      <td>0.000000</td>\n",
              "    </tr>\n",
              "    <tr>\n",
              "      <th>281900</th>\n",
              "      <td>281900</td>\n",
              "      <td>0.000000</td>\n",
              "    </tr>\n",
              "    <tr>\n",
              "      <th>281901</th>\n",
              "      <td>281901</td>\n",
              "      <td>0.000000</td>\n",
              "    </tr>\n",
              "    <tr>\n",
              "      <th>281902</th>\n",
              "      <td>281902</td>\n",
              "      <td>0.000000</td>\n",
              "    </tr>\n",
              "  </tbody>\n",
              "</table>\n",
              "<p>281903 rows × 2 columns</p>\n",
              "</div>\n",
              "      <button class=\"colab-df-convert\" onclick=\"convertToInteractive('df-9e9d6446-b65d-4766-a872-cd406f8a9690')\"\n",
              "              title=\"Convert this dataframe to an interactive table.\"\n",
              "              style=\"display:none;\">\n",
              "        \n",
              "  <svg xmlns=\"http://www.w3.org/2000/svg\" height=\"24px\"viewBox=\"0 0 24 24\"\n",
              "       width=\"24px\">\n",
              "    <path d=\"M0 0h24v24H0V0z\" fill=\"none\"/>\n",
              "    <path d=\"M18.56 5.44l.94 2.06.94-2.06 2.06-.94-2.06-.94-.94-2.06-.94 2.06-2.06.94zm-11 1L8.5 8.5l.94-2.06 2.06-.94-2.06-.94L8.5 2.5l-.94 2.06-2.06.94zm10 10l.94 2.06.94-2.06 2.06-.94-2.06-.94-.94-2.06-.94 2.06-2.06.94z\"/><path d=\"M17.41 7.96l-1.37-1.37c-.4-.4-.92-.59-1.43-.59-.52 0-1.04.2-1.43.59L10.3 9.45l-7.72 7.72c-.78.78-.78 2.05 0 2.83L4 21.41c.39.39.9.59 1.41.59.51 0 1.02-.2 1.41-.59l7.78-7.78 2.81-2.81c.8-.78.8-2.07 0-2.86zM5.41 20L4 18.59l7.72-7.72 1.47 1.35L5.41 20z\"/>\n",
              "  </svg>\n",
              "      </button>\n",
              "      \n",
              "  <style>\n",
              "    .colab-df-container {\n",
              "      display:flex;\n",
              "      flex-wrap:wrap;\n",
              "      gap: 12px;\n",
              "    }\n",
              "\n",
              "    .colab-df-convert {\n",
              "      background-color: #E8F0FE;\n",
              "      border: none;\n",
              "      border-radius: 50%;\n",
              "      cursor: pointer;\n",
              "      display: none;\n",
              "      fill: #1967D2;\n",
              "      height: 32px;\n",
              "      padding: 0 0 0 0;\n",
              "      width: 32px;\n",
              "    }\n",
              "\n",
              "    .colab-df-convert:hover {\n",
              "      background-color: #E2EBFA;\n",
              "      box-shadow: 0px 1px 2px rgba(60, 64, 67, 0.3), 0px 1px 3px 1px rgba(60, 64, 67, 0.15);\n",
              "      fill: #174EA6;\n",
              "    }\n",
              "\n",
              "    [theme=dark] .colab-df-convert {\n",
              "      background-color: #3B4455;\n",
              "      fill: #D2E3FC;\n",
              "    }\n",
              "\n",
              "    [theme=dark] .colab-df-convert:hover {\n",
              "      background-color: #434B5C;\n",
              "      box-shadow: 0px 1px 3px 1px rgba(0, 0, 0, 0.15);\n",
              "      filter: drop-shadow(0px 1px 2px rgba(0, 0, 0, 0.3));\n",
              "      fill: #FFFFFF;\n",
              "    }\n",
              "  </style>\n",
              "\n",
              "      <script>\n",
              "        const buttonEl =\n",
              "          document.querySelector('#df-9e9d6446-b65d-4766-a872-cd406f8a9690 button.colab-df-convert');\n",
              "        buttonEl.style.display =\n",
              "          google.colab.kernel.accessAllowed ? 'block' : 'none';\n",
              "\n",
              "        async function convertToInteractive(key) {\n",
              "          const element = document.querySelector('#df-9e9d6446-b65d-4766-a872-cd406f8a9690');\n",
              "          const dataTable =\n",
              "            await google.colab.kernel.invokeFunction('convertToInteractive',\n",
              "                                                     [key], {});\n",
              "          if (!dataTable) return;\n",
              "\n",
              "          const docLinkHtml = 'Like what you see? Visit the ' +\n",
              "            '<a target=\"_blank\" href=https://colab.research.google.com/notebooks/data_table.ipynb>data table notebook</a>'\n",
              "            + ' to learn more about interactive tables.';\n",
              "          element.innerHTML = '';\n",
              "          dataTable['output_type'] = 'display_data';\n",
              "          await google.colab.output.renderOutput(dataTable, element);\n",
              "          const docLink = document.createElement('div');\n",
              "          docLink.innerHTML = docLinkHtml;\n",
              "          element.appendChild(docLink);\n",
              "        }\n",
              "      </script>\n",
              "    </div>\n",
              "  </div>\n",
              "  "
            ]
          },
          "metadata": {},
          "execution_count": 34
        }
      ]
    },
    {
      "cell_type": "markdown",
      "metadata": {
        "id": "6DwWO5Uc67Ue"
      },
      "source": [
        "## **Aplicaciones**\n",
        "\n",
        "**Redes electricas**: \n",
        "\n",
        "* Chung F, Zhao W. PageRank and Random Walks on Graphs. En: Katona GOH, Schrijver A, Szőnyi T, Sági G, editores. Fete of Combinatorics and Computer Science [Internet]. Berlin, Heidelberg: Springer Berlin Heidelberg; 2010 [citado 28 de diciembre de 2020]. p. 43-62. (Tóth GF, Katona GOH, Lovász L, Pálfy PP, Recski A, Stipsicz A, et al. Bolyai Society Mathematical Studies; vol. 20). Disponible en: http://link.springer.com/10.1007/978-3-642-13580-4_3\n",
        "\n",
        "**Redes sociales (epidemiología, difusión de noticias, moda, etc)**\n",
        "* Mao C, Xiao W. A Comprehensive Algorithm for Evaluating Node Influences in Social Networks Based on Preference Analysis and Random Walk [Internet]. Vol. 2018, Complexity. Hindawi; 2018 [citado 28 de diciembre de 2020]. p. e1528341. Disponible en: https://www.hindawi.com/journals/complexity/2018/1528341/\n",
        "\n",
        "**Detección de fraude**\n",
        "\n",
        "* How to Perform Fraud Detection with Personalized Page Rank [Internet]. [citado 28 de diciembre de 2020]. Disponible en: https://www.sicara.ai/blog/2019-01-09-fraud-detection-personalized-page-rank\n",
        "\n",
        "\n",
        "\n",
        "\n",
        "\n",
        "\n"
      ]
    },
    {
      "cell_type": "markdown",
      "metadata": {
        "id": "0wruoTSn_-xw"
      },
      "source": [
        "## **Conjuntos de Datos**\n",
        "\n",
        "1. Stanford Large Network Dataset Collection [Internet]. [citado 28 de diciembre de 2020]. Disponible en: https://snap.stanford.edu/data/#email\n"
      ]
    }
  ]
}