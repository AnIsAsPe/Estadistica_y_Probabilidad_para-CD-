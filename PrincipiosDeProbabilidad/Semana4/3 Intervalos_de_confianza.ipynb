{
  "nbformat": 4,
  "nbformat_minor": 0,
  "metadata": {
    "colab": {
      "name": "Intervalos de confianza.ipynb",
      "provenance": [],
      "collapsed_sections": [],
      "toc_visible": true,
      "authorship_tag": "ABX9TyOoPIM3RGhGEgIDluxtqQfC",
      "include_colab_link": true
    },
    "kernelspec": {
      "name": "python3",
      "display_name": "Python 3"
    }
  },
  "cells": [
    {
      "cell_type": "markdown",
      "metadata": {
        "id": "view-in-github",
        "colab_type": "text"
      },
      "source": [
        "<a href=\"https://colab.research.google.com/github/AnIsAsPe/Estadistica_y_Probabilidad_para-CD-/blob/main/Semana4/3%20Intervalos_de_confianza.ipynb\" target=\"_parent\"><img src=\"https://colab.research.google.com/assets/colab-badge.svg\" alt=\"Open In Colab\"/></a>"
      ]
    },
    {
      "cell_type": "markdown",
      "metadata": {
        "id": "c2XM_upk987e"
      },
      "source": [
        "# Cargar bibliotecas y funciones \n"
      ]
    },
    {
      "cell_type": "markdown",
      "metadata": {
        "id": "8-2io6qfdvhP"
      },
      "source": [
        "##Bibliotecas"
      ]
    },
    {
      "cell_type": "code",
      "metadata": {
        "id": "hqT8wVN6-CBk"
      },
      "source": [
        "import numpy as np\n",
        "import pandas as pd\n",
        "import math\n",
        "from scipy import stats\n",
        "from matplotlib import pyplot as plt\n",
        "import seaborn as sns"
      ],
      "execution_count": null,
      "outputs": []
    },
    {
      "cell_type": "markdown",
      "metadata": {
        "id": "vU_S-WRWD8GA"
      },
      "source": [
        "# Intervalos de confianza para una Ley  Bernoulli\n",
        "\n",
        "¿De qué tamaño tiene que ser mi muestra?\n",
        " 1. ¿Qué nivel de confianza quieres tener?\n",
        " 2. ¿Qué tan preciso quieres que sea tu estimador?\n"
      ]
    },
    {
      "cell_type": "markdown",
      "metadata": {
        "id": "eQ6-Cd9x0oEh"
      },
      "source": [
        "**Cálculo del error**\n",
        "\n",
        "$\\epsilon \\leq \\cfrac{z_{score}}{2\\sqrt{n}}$\n",
        "\n",
        "Para un nivel de confianza de 95%\n",
        "\n",
        "$ \\epsilon \\leq \\cfrac{1.96}{2\\sqrt{n}}\\leq \\cfrac{1}{\\sqrt{n}}$"
      ]
    },
    {
      "cell_type": "code",
      "metadata": {
        "id": "Z48lxu1w4nPi",
        "colab": {
          "base_uri": "https://localhost:8080/"
        },
        "outputId": "76b3c35d-45f5-4323-aee2-c64e830eb3a1"
      },
      "source": [
        "n =400\n",
        "p_muestra = 0.5\n",
        "margen_error = 1/math.sqrt(n)\n",
        "v_inf = p_muestra - margen_error\n",
        "v_sup = p_muestra + margen_error\n",
        "\n",
        "print('Probabilidad de 95%  que P está en el intervalo:',\n",
        "      round(v_inf,4), round(v_sup,4))"
      ],
      "execution_count": null,
      "outputs": [
        {
          "output_type": "stream",
          "text": [
            "Probabilidad de 95%  que P está en el intervalo: 0.45 0.55\n"
          ],
          "name": "stdout"
        }
      ]
    },
    {
      "cell_type": "markdown",
      "metadata": {
        "id": "-qplPlUhd00Z"
      },
      "source": [
        "## intervalo_confianza_bernoulli()"
      ]
    },
    {
      "cell_type": "code",
      "metadata": {
        "id": "mWbmbJWt_DEy"
      },
      "source": [
        "def intervalo_confianza_bernoulli(tam_muestra, p_muestra , nivel_confianza):\n",
        "  '''p es la probabilidad obtenida en la muestra\n",
        "     nivel de confianza debe estar entre 0 y 1'''\n",
        "  izq = (1 - nivel_confianza)/2\n",
        "  z_score = - stats.norm.ppf(izq)\n",
        "  margen_error = z_score/(2*math.sqrt(tam_muestra))\n",
        "  v_inf = p_muestra - margen_error\n",
        "  v_sup = p_muestra + margen_error\n",
        "  print('Con probabilidad de 95% P_poblacion está en el intervalo:',\n",
        "      round(v_inf,4), round(v_sup,4))\n",
        "  return margen_error"
      ],
      "execution_count": null,
      "outputs": []
    },
    {
      "cell_type": "markdown",
      "metadata": {
        "id": "5Lvnw0q5E38Z"
      },
      "source": [
        "## Ejemplo 1 "
      ]
    },
    {
      "cell_type": "code",
      "metadata": {
        "id": "yS50k5AHDmTC",
        "colab": {
          "base_uri": "https://localhost:8080/"
        },
        "outputId": "74a769ae-dc7a-4b13-8daf-d6df31213a36"
      },
      "source": [
        "#Obtener una muestra de n numeros con distribución bernouli\n",
        "\n",
        "P_poblacion = 0.5  \n",
        "tam_muestra=400\n",
        "muestra = stats.bernoulli.rvs(size = tam_muestra, p = P_poblacion)\n",
        "p_muestra = muestra.sum()/len(muestra)\n",
        "\n",
        "print('Elementos de la muestra son: \\n{}\\n\\np_muestra: {}'.format(muestra, \n",
        "                                                          p_muestra))"
      ],
      "execution_count": null,
      "outputs": [
        {
          "output_type": "stream",
          "text": [
            "Elementos de la muestra son: \n",
            "[1 0 1 1 1 0 1 1 1 1 0 0 1 0 0 0 1 0 1 0 1 1 1 1 0 1 1 1 1 1 1 1 1 0 1 1 0\n",
            " 1 0 1 1 1 1 1 0 0 0 1 0 1 0 0 1 0 1 1 0 1 1 0 1 0 0 0 0 0 1 0 0 1 0 0 1 1\n",
            " 0 1 0 0 1 0 1 1 1 1 1 1 0 1 1 0 1 0 1 1 1 0 1 1 1 1 0 0 0 0 1 0 1 1 0 1 1\n",
            " 1 0 1 0 1 0 0 0 0 1 0 1 0 1 0 0 0 1 1 0 0 0 1 0 1 1 0 1 0 1 1 0 1 0 0 0 0\n",
            " 1 1 0 1 1 0 0 0 1 1 0 1 1 0 1 1 0 0 1 0 1 0 0 1 0 1 0 1 1 0 1 1 1 0 1 0 1\n",
            " 0 0 0 1 0 0 0 1 0 1 1 1 0 1 1 1 0 0 0 1 0 1 0 0 1 1 1 1 0 1 0 0 0 1 0 0 0\n",
            " 0 0 1 1 1 1 0 1 1 0 1 0 0 0 1 1 1 0 1 0 1 1 1 1 0 1 0 1 0 0 0 1 1 0 0 1 1\n",
            " 1 1 0 0 1 1 0 1 1 0 0 0 1 0 1 1 0 0 1 0 1 0 0 0 1 0 0 1 1 0 0 1 0 1 1 1 0\n",
            " 1 1 1 0 0 0 1 0 0 0 1 1 1 1 0 1 1 1 1 0 1 0 0 0 1 1 0 0 0 1 0 1 1 1 0 0 0\n",
            " 0 1 0 0 1 0 0 1 0 0 1 0 0 1 0 1 0 1 0 1 1 1 0 1 1 1 0 0 0 0 1 0 0 0 1 1 0\n",
            " 0 1 0 0 0 0 1 0 1 1 1 1 1 1 1 1 1 0 1 0 0 1 1 0 0 1 1 0 0 1]\n",
            "\n",
            "p_muestra: 0.5225\n"
          ],
          "name": "stdout"
        }
      ]
    },
    {
      "cell_type": "code",
      "metadata": {
        "id": "S9iVq_IQA_FV",
        "colab": {
          "base_uri": "https://localhost:8080/"
        },
        "outputId": "74f88e42-b611-4cf7-83c7-6bd284b835ca"
      },
      "source": [
        "margen_error = intervalo_confianza_bernoulli(tam_muestra, p_muestra, nivel_confianza=.95)\n",
        "margen_error"
      ],
      "execution_count": null,
      "outputs": [
        {
          "output_type": "stream",
          "text": [
            "Con probabilidad de 95% P_poblacion está en el intervalo: 0.4735 0.5715\n"
          ],
          "name": "stdout"
        },
        {
          "output_type": "execute_result",
          "data": {
            "text/plain": [
              "0.04899909961350135"
            ]
          },
          "metadata": {
            "tags": []
          },
          "execution_count": 5
        }
      ]
    },
    {
      "cell_type": "markdown",
      "metadata": {
        "id": "tcw7PjS098ox"
      },
      "source": [
        "## Ejemplo 2"
      ]
    },
    {
      "cell_type": "markdown",
      "metadata": {
        "id": "bteSvpU9n0lW"
      },
      "source": [
        "Construir el intervalo de confianza de que a una persona que solicita un crédito, éste le sea otorgado.\n",
        "\n",
        "Para ello, suponer que es una muestra sana (iid)"
      ]
    },
    {
      "cell_type": "code",
      "metadata": {
        "id": "ZGY4NzYXlS1I",
        "colab": {
          "base_uri": "https://localhost:8080/",
          "height": 257
        },
        "outputId": "0a5a5875-84d1-4351-ef22-f18c1d2c2bb4"
      },
      "source": [
        "df = pd.read_csv('https://raw.githubusercontent.com/AnIsAsPe/ElementosEstadisticaMachineLearningPython/master/Semana1/loan_prediction.csv')\n",
        "print(df.shape)\n",
        "df.head()"
      ],
      "execution_count": null,
      "outputs": [
        {
          "output_type": "stream",
          "text": [
            "(614, 13)\n"
          ],
          "name": "stdout"
        },
        {
          "output_type": "execute_result",
          "data": {
            "text/html": [
              "<div>\n",
              "<style scoped>\n",
              "    .dataframe tbody tr th:only-of-type {\n",
              "        vertical-align: middle;\n",
              "    }\n",
              "\n",
              "    .dataframe tbody tr th {\n",
              "        vertical-align: top;\n",
              "    }\n",
              "\n",
              "    .dataframe thead th {\n",
              "        text-align: right;\n",
              "    }\n",
              "</style>\n",
              "<table border=\"1\" class=\"dataframe\">\n",
              "  <thead>\n",
              "    <tr style=\"text-align: right;\">\n",
              "      <th></th>\n",
              "      <th>Loan_ID</th>\n",
              "      <th>Gender</th>\n",
              "      <th>Married</th>\n",
              "      <th>Dependents</th>\n",
              "      <th>Education</th>\n",
              "      <th>Self_Employed</th>\n",
              "      <th>ApplicantIncome</th>\n",
              "      <th>CoapplicantIncome</th>\n",
              "      <th>LoanAmount</th>\n",
              "      <th>Loan_Amount_Term</th>\n",
              "      <th>Credit_History</th>\n",
              "      <th>Property_Area</th>\n",
              "      <th>Loan_Status</th>\n",
              "    </tr>\n",
              "  </thead>\n",
              "  <tbody>\n",
              "    <tr>\n",
              "      <th>0</th>\n",
              "      <td>LP001002</td>\n",
              "      <td>Male</td>\n",
              "      <td>No</td>\n",
              "      <td>0</td>\n",
              "      <td>Graduate</td>\n",
              "      <td>No</td>\n",
              "      <td>5849</td>\n",
              "      <td>0.0</td>\n",
              "      <td>NaN</td>\n",
              "      <td>360.0</td>\n",
              "      <td>1.0</td>\n",
              "      <td>Urban</td>\n",
              "      <td>Y</td>\n",
              "    </tr>\n",
              "    <tr>\n",
              "      <th>1</th>\n",
              "      <td>LP001003</td>\n",
              "      <td>Male</td>\n",
              "      <td>Yes</td>\n",
              "      <td>1</td>\n",
              "      <td>Graduate</td>\n",
              "      <td>No</td>\n",
              "      <td>4583</td>\n",
              "      <td>1508.0</td>\n",
              "      <td>128.0</td>\n",
              "      <td>360.0</td>\n",
              "      <td>1.0</td>\n",
              "      <td>Rural</td>\n",
              "      <td>N</td>\n",
              "    </tr>\n",
              "    <tr>\n",
              "      <th>2</th>\n",
              "      <td>LP001005</td>\n",
              "      <td>Male</td>\n",
              "      <td>Yes</td>\n",
              "      <td>0</td>\n",
              "      <td>Graduate</td>\n",
              "      <td>Yes</td>\n",
              "      <td>3000</td>\n",
              "      <td>0.0</td>\n",
              "      <td>66.0</td>\n",
              "      <td>360.0</td>\n",
              "      <td>1.0</td>\n",
              "      <td>Urban</td>\n",
              "      <td>Y</td>\n",
              "    </tr>\n",
              "    <tr>\n",
              "      <th>3</th>\n",
              "      <td>LP001006</td>\n",
              "      <td>Male</td>\n",
              "      <td>Yes</td>\n",
              "      <td>0</td>\n",
              "      <td>Not Graduate</td>\n",
              "      <td>No</td>\n",
              "      <td>2583</td>\n",
              "      <td>2358.0</td>\n",
              "      <td>120.0</td>\n",
              "      <td>360.0</td>\n",
              "      <td>1.0</td>\n",
              "      <td>Urban</td>\n",
              "      <td>Y</td>\n",
              "    </tr>\n",
              "    <tr>\n",
              "      <th>4</th>\n",
              "      <td>LP001008</td>\n",
              "      <td>Male</td>\n",
              "      <td>No</td>\n",
              "      <td>0</td>\n",
              "      <td>Graduate</td>\n",
              "      <td>No</td>\n",
              "      <td>6000</td>\n",
              "      <td>0.0</td>\n",
              "      <td>141.0</td>\n",
              "      <td>360.0</td>\n",
              "      <td>1.0</td>\n",
              "      <td>Urban</td>\n",
              "      <td>Y</td>\n",
              "    </tr>\n",
              "  </tbody>\n",
              "</table>\n",
              "</div>"
            ],
            "text/plain": [
              "    Loan_ID Gender Married  ... Credit_History Property_Area Loan_Status\n",
              "0  LP001002   Male      No  ...            1.0         Urban           Y\n",
              "1  LP001003   Male     Yes  ...            1.0         Rural           N\n",
              "2  LP001005   Male     Yes  ...            1.0         Urban           Y\n",
              "3  LP001006   Male     Yes  ...            1.0         Urban           Y\n",
              "4  LP001008   Male      No  ...            1.0         Urban           Y\n",
              "\n",
              "[5 rows x 13 columns]"
            ]
          },
          "metadata": {
            "tags": []
          },
          "execution_count": 6
        }
      ]
    },
    {
      "cell_type": "code",
      "metadata": {
        "id": "SexmOpUVtEkL",
        "colab": {
          "base_uri": "https://localhost:8080/"
        },
        "outputId": "0b95513e-2cc9-4621-b90a-8073babf8574"
      },
      "source": [
        "df['Loan_Status'].value_counts()"
      ],
      "execution_count": null,
      "outputs": [
        {
          "output_type": "execute_result",
          "data": {
            "text/plain": [
              "Y    422\n",
              "N    192\n",
              "Name: Loan_Status, dtype: int64"
            ]
          },
          "metadata": {
            "tags": []
          },
          "execution_count": 7
        }
      ]
    },
    {
      "cell_type": "code",
      "metadata": {
        "id": "R7DZH8kLspaX",
        "colab": {
          "base_uri": "https://localhost:8080/"
        },
        "outputId": "5185207d-961c-4c34-f41d-a449f5002bef"
      },
      "source": [
        "n = 422 + 192\n",
        "p = 422/n\n",
        "\n",
        "print ('n = {}, \\np = {}'.format(n, p))"
      ],
      "execution_count": null,
      "outputs": [
        {
          "output_type": "stream",
          "text": [
            "n = 614, \n",
            "p = 0.6872964169381107\n"
          ],
          "name": "stdout"
        }
      ]
    },
    {
      "cell_type": "code",
      "metadata": {
        "id": "eo_lRQ-WHC-b",
        "colab": {
          "base_uri": "https://localhost:8080/"
        },
        "outputId": "02f1b70f-cd72-4bd3-e8a0-ab9cde57bc0f"
      },
      "source": [
        "a = intervalo_confianza_bernoulli(tam_muestra=n, p_muestra=p, nivel_confianza=.95)"
      ],
      "execution_count": null,
      "outputs": [
        {
          "output_type": "stream",
          "text": [
            "Con probabilidad de 95% P_poblacion está en el intervalo: 0.6477 0.7268\n"
          ],
          "name": "stdout"
        }
      ]
    },
    {
      "cell_type": "markdown",
      "metadata": {
        "id": "_yX2vojB9N8W"
      },
      "source": [
        "# Recursos\n",
        "\n",
        "* https://seeing-theory.brown.edu/frequentist-inference/index.html\n",
        "\n",
        "* https://rpsychologist.com/d3/ci/"
      ]
    }
  ]
}
