{
  "nbformat": 4,
  "nbformat_minor": 0,
  "metadata": {
    "kernelspec": {
      "display_name": "Python 3",
      "language": "python",
      "name": "python3"
    },
    "language_info": {
      "codemirror_mode": {
        "name": "ipython",
        "version": 3
      },
      "file_extension": ".py",
      "mimetype": "text/x-python",
      "name": "python",
      "nbconvert_exporter": "python",
      "pygments_lexer": "ipython3",
      "version": "3.6.5"
    },
    "colab": {
      "name": "Teorema del limite central ipynb",
      "provenance": [],
      "collapsed_sections": [
        "eRO54v3Rk7Zs"
      ],
      "toc_visible": true,
      "include_colab_link": true
    }
  },
  "cells": [
    {
      "cell_type": "markdown",
      "metadata": {
        "id": "view-in-github",
        "colab_type": "text"
      },
      "source": [
        "<a href=\"https://colab.research.google.com/github/AnIsAsPe/Estadistica_y_Probabilidad_para-CD-/blob/main/PrincipiosDeProbabilidad/Semana4/2%20Teorema_del_limite_central.ipynb\" target=\"_parent\"><img src=\"https://colab.research.google.com/assets/colab-badge.svg\" alt=\"Open In Colab\"/></a>"
      ]
    },
    {
      "cell_type": "markdown",
      "source": [
        "El *teorema del límite central* establece que la **distribución de la suma** de un número grande* de ***variables iid*** será aproximadamene **normal**, sin importar la distribución subyacente"
      ],
      "metadata": {
        "id": "QC9zAKl5yhFW"
      }
    },
    {
      "cell_type": "markdown",
      "metadata": {
        "id": "MlNBbGOgZ2j5"
      },
      "source": [
        "\n",
        "## Bibliotecas"
      ]
    },
    {
      "cell_type": "code",
      "metadata": {
        "id": "FEI_n9J2Z2j5"
      },
      "source": [
        "import numpy as np\n",
        "import pandas as pd\n",
        "\n",
        "import random\n",
        "import operator\n",
        "import re # módulo operaciones expresiones regulares\n",
        "import unicodedata  #para quitar tildes\n",
        "from collections import Counter\n",
        "from scipy.stats import norm\n",
        "\n",
        "import matplotlib.pyplot as plt\n",
        "import seaborn as sns"
      ],
      "execution_count": 42,
      "outputs": []
    },
    {
      "cell_type": "markdown",
      "metadata": {
        "id": "pbALUjcWkWgr"
      },
      "source": [
        "## Funciones"
      ]
    },
    {
      "cell_type": "code",
      "source": [
        "def errores_alturas(n, m = 500):\n",
        "    '''\n",
        "    n = tamaño de cada muestra\n",
        "    m = cuántas muestras\n",
        "\n",
        "    '''\n",
        "    mu, sigma = 1675, 62.8     # dimensiones en milimetros\n",
        "\n",
        "    muestras = {'muestra '+ str(i): np.random.normal(mu, sigma,n) for i in range(1, m+1)}\n",
        "    alturas_hombres = pd.DataFrame.from_dict(muestras)\n",
        "    sns.distplot(mu - alturas_hombres.mean(), fit=norm, kde=False, bins=50)\n",
        "    plt.show()\n",
        "\n"
      ],
      "metadata": {
        "id": "NJAdcVglzjKZ"
      },
      "execution_count": 11,
      "outputs": []
    },
    {
      "cell_type": "code",
      "metadata": {
        "id": "96lVL2qUMtsa"
      },
      "source": [
        "def leer_libro(archivo_txt):\n",
        "  '''funcion para leer un archivo en formato txt'''\n",
        "  with open(archivo_txt, \"r\", encoding=\"utf8\") as f:\n",
        "    texto = f.read()\n",
        "    texto = texto.replace(\"\\n\", \"\").replace(\"\\r\", \"\")\n",
        "  return texto"
      ],
      "execution_count": 12,
      "outputs": []
    },
    {
      "cell_type": "code",
      "metadata": {
        "id": "F5sgP6ZkinM7"
      },
      "source": [
        "def borrar_elementos(texto, lista):\n",
        "  '''Función para eliminar en un texto los elementos contenidos en una lista,\n",
        "  por ejemplo:   autor, titulo y otros elementos'''\n",
        "\n",
        "  for elemento in lista:\n",
        "    texto = texto.replace(elemento, \"\")\n",
        "  return texto"
      ],
      "execution_count": 13,
      "outputs": []
    },
    {
      "cell_type": "code",
      "metadata": {
        "id": "4wWolL-TXZct"
      },
      "source": [
        "\n",
        "def limpiar_texto(texto):\n",
        "  '''Función para convertir a minúsculas, quitar signos de puntuación,\n",
        "  números y tildes'''\n",
        "\n",
        "  #Convertir en mínusculas\n",
        "  texto_limpio = texto.lower()\n",
        "\n",
        "  #Quitar puntuación\n",
        "  puntuacion = [\".\", \",\" , \"-\", \"\\n\", \":\", \";\",'\"', \"'\", \"  \",\n",
        "                \"!\", \"¡\", \"¿\", \"?\", \"(\", \")\", \"<\", \"«\", \"»\", \"~\",]\n",
        "  for p in puntuacion:\n",
        "    texto_limpio = texto_limpio.replace(p,\"\")\n",
        "\n",
        "  #Quitar numeros\n",
        "\n",
        "  texto_limpio = \"\".join(filter(lambda x: not x.isdigit(), texto_limpio))\n",
        "\n",
        "  #Quitar tildes\n",
        "\n",
        "  texto_limpio =''.join((c for c in unicodedata.normalize('NFD',texto_limpio) if\n",
        "                         unicodedata.category(c) != 'Mn'))\n",
        "\n",
        "  return texto_limpio"
      ],
      "execution_count": 14,
      "outputs": []
    },
    {
      "cell_type": "code",
      "metadata": {
        "id": "hU8f6vv2LVvF"
      },
      "source": [
        "\n",
        "def genera_texto_nletras(texto, n=1, tot_letras = 100):\n",
        "  '''Devuelve un texto, utilizando ngramas a partir de letras\n",
        "  n es la cantidad de letras que se toman en consideración para\n",
        "  generar la siguiente'''\n",
        "  ngramas = {}\n",
        "  for i in range(len(texto) - n):\n",
        "    seq = texto[i:i+n]\n",
        "    if seq not in ngramas.keys():\n",
        "      ngramas[seq] = []\n",
        "    ngramas[seq].append(texto[i+n])\n",
        "\n",
        "  ngrama = np.random.choice(list(ngramas.keys()))\n",
        "  nuevo_texto = ngrama\n",
        "\n",
        "  for i in range(tot_letras):\n",
        "    if ngrama not in ngramas.keys():\n",
        "      break\n",
        "    siguiente_letra = np.random.choice(ngramas[ngrama])\n",
        "    nuevo_texto += siguiente_letra\n",
        "    ngrama = nuevo_texto[len(nuevo_texto)-n:len(nuevo_texto)]\n",
        "  return nuevo_texto"
      ],
      "execution_count": 15,
      "outputs": []
    },
    {
      "cell_type": "code",
      "metadata": {
        "id": "qWiYIU76KTF4"
      },
      "source": [
        "def genera_muestras_de_texto(texto, grado=0,\n",
        "                             num_muestras=100,\n",
        "                             tam_muestra=200 ):\n",
        "  muestras={}\n",
        "  for i in range(num_muestras):\n",
        "    if grado == 0:\n",
        "      muestras[i]= \"\".join(random.sample(texto, tam_muestra))\n",
        "    else:\n",
        "      muestras[i] = genera_texto_nletras(texto, grado, tam_muestra)\n",
        "  return pd.Series(muestras, name= 'muestra' )"
      ],
      "execution_count": 16,
      "outputs": []
    },
    {
      "cell_type": "code",
      "metadata": {
        "id": "EGkrl_dKE62b"
      },
      "source": [
        "def cuenta_vocales(texto):\n",
        "  vocales ='aeiou'\n",
        "  tot_vocales= 0\n",
        "  for caracter in texto:\n",
        "    if caracter in vocales:\n",
        "      tot_vocales += 1\n",
        "  return tot_vocales"
      ],
      "execution_count": 17,
      "outputs": []
    },
    {
      "cell_type": "code",
      "metadata": {
        "id": "A7oWT_SAFK0T"
      },
      "source": [
        "def cuenta_caracteres_antes_de_n(texto):\n",
        "  caracteres_antes = 0\n",
        "  for caracter in texto:\n",
        "    if caracter == 'n':\n",
        "      break\n",
        "    caracteres_antes += 1\n",
        "\n",
        "  return caracteres_antes"
      ],
      "execution_count": 18,
      "outputs": []
    },
    {
      "cell_type": "markdown",
      "metadata": {
        "id": "UjW7W4BrPTTZ"
      },
      "source": [
        "# Distribución gaussiana (altura de hombres adultos)"
      ]
    },
    {
      "cell_type": "markdown",
      "metadata": {
        "id": "9pFsoM62gq1Z"
      },
      "source": [
        "a partir de la [distribución de la altura de trabajadores industriales de sexo masculino en Guadalajara](https://www.researchgate.net/publication/31722433_Dimensiones_antropometricas_de_la_poblacion_latinoamericana_Mexico_Cuba_Colombia_Chile_R_Avila_Chaurand_LR_Prado_Leon_EL_Gonzalez_Munoz)"
      ]
    },
    {
      "cell_type": "code",
      "metadata": {
        "colab": {
          "base_uri": "https://localhost:8080/",
          "height": 461
        },
        "outputId": "2a206156-8279-47c3-aa67-274aa210dbe4",
        "id": "19Bxuz3ftZHN"
      },
      "source": [
        "mu, sigma = 1675, 62.8     # dimensiones en milimetros\n",
        "\n",
        "n = 800 # tamaño de la muestra\n",
        "m = 2000 # número de muestras\n",
        "muestras = {'muestra '+str(i): np.random.normal(mu, sigma,n) for i in range(1, m+1)}\n",
        "alturas_hombres = pd.DataFrame.from_dict(muestras)\n",
        "alturas_hombres"
      ],
      "execution_count": 26,
      "outputs": [
        {
          "output_type": "execute_result",
          "data": {
            "text/plain": [
              "       muestra 1    muestra 2    muestra 3    muestra 4    muestra 5  \\\n",
              "0    1653.637793  1659.550964  1705.148983  1642.954772  1752.858695   \n",
              "1    1644.501623  1717.467169  1693.062313  1671.055156  1574.946005   \n",
              "2    1578.998014  1774.583646  1619.148018  1724.902297  1724.856932   \n",
              "3    1689.402959  1710.997028  1604.339554  1666.434813  1619.573216   \n",
              "4    1573.303404  1761.556865  1575.161773  1709.505368  1712.479659   \n",
              "..           ...          ...          ...          ...          ...   \n",
              "795  1678.882709  1750.406736  1656.790138  1729.207548  1692.619773   \n",
              "796  1573.789870  1703.384564  1690.368880  1654.500640  1761.242312   \n",
              "797  1543.421448  1591.217593  1660.108814  1731.818651  1652.720160   \n",
              "798  1655.288505  1720.281249  1628.964817  1622.793318  1562.231243   \n",
              "799  1664.224971  1621.435357  1712.795717  1647.269794  1641.257160   \n",
              "\n",
              "       muestra 6    muestra 7    muestra 8    muestra 9   muestra 10  ...  \\\n",
              "0    1779.928391  1737.551038  1682.786131  1725.100730  1582.870082  ...   \n",
              "1    1699.487374  1657.018855  1625.955525  1724.345218  1615.660022  ...   \n",
              "2    1683.952067  1680.016591  1636.023466  1619.287770  1655.867294  ...   \n",
              "3    1768.162218  1656.617442  1646.478332  1662.175444  1626.021328  ...   \n",
              "4    1638.627912  1670.299080  1695.307133  1641.345070  1704.844370  ...   \n",
              "..           ...          ...          ...          ...          ...  ...   \n",
              "795  1727.655993  1569.903325  1600.968117  1577.980924  1654.456914  ...   \n",
              "796  1629.412831  1700.960707  1558.598423  1798.747123  1743.652627  ...   \n",
              "797  1652.372271  1596.422791  1686.323955  1589.502238  1747.447391  ...   \n",
              "798  1708.747746  1651.457995  1613.923903  1643.122566  1719.687225  ...   \n",
              "799  1722.252480  1517.274515  1690.732975  1674.450087  1702.623138  ...   \n",
              "\n",
              "     muestra 1991  muestra 1992  muestra 1993  muestra 1994  muestra 1995  \\\n",
              "0     1715.942291   1634.507077   1524.630384   1703.937326   1640.204208   \n",
              "1     1615.198054   1719.091769   1704.184949   1632.682072   1627.501869   \n",
              "2     1781.531076   1670.839926   1683.841813   1787.112579   1556.533580   \n",
              "3     1615.421910   1701.970821   1751.832197   1726.808433   1716.068229   \n",
              "4     1681.544152   1493.219953   1587.065670   1653.051270   1608.882570   \n",
              "..            ...           ...           ...           ...           ...   \n",
              "795   1569.278529   1690.828853   1753.812102   1710.314619   1658.007464   \n",
              "796   1652.928686   1643.292806   1692.138538   1649.371604   1630.487335   \n",
              "797   1712.477623   1703.467566   1762.148967   1635.164773   1760.461811   \n",
              "798   1611.802116   1619.765468   1685.117523   1682.962575   1663.546006   \n",
              "799   1532.333575   1721.045024   1620.985805   1838.630690   1736.927864   \n",
              "\n",
              "     muestra 1996  muestra 1997  muestra 1998  muestra 1999  muestra 2000  \n",
              "0     1812.359307   1688.354286   1655.846994   1637.574163   1666.288591  \n",
              "1     1694.293198   1746.384925   1709.858893   1610.985930   1540.242742  \n",
              "2     1623.469363   1616.702521   1620.292643   1738.959713   1669.522975  \n",
              "3     1659.166306   1621.158700   1703.914622   1677.817012   1726.018638  \n",
              "4     1672.508601   1666.581817   1557.493467   1632.676816   1631.303339  \n",
              "..            ...           ...           ...           ...           ...  \n",
              "795   1579.144416   1688.502765   1658.861336   1613.764086   1641.024763  \n",
              "796   1748.696885   1655.648037   1775.774398   1764.946052   1698.052847  \n",
              "797   1687.764577   1569.724224   1700.891446   1585.505352   1729.040259  \n",
              "798   1684.340927   1660.008889   1578.103157   1657.842101   1696.299382  \n",
              "799   1698.384704   1628.675288   1702.523711   1718.594817   1582.909503  \n",
              "\n",
              "[800 rows x 2000 columns]"
            ],
            "text/html": [
              "\n",
              "  <div id=\"df-7f00b4f9-85cc-49f8-8345-16cee0b583f1\" class=\"colab-df-container\">\n",
              "    <div>\n",
              "<style scoped>\n",
              "    .dataframe tbody tr th:only-of-type {\n",
              "        vertical-align: middle;\n",
              "    }\n",
              "\n",
              "    .dataframe tbody tr th {\n",
              "        vertical-align: top;\n",
              "    }\n",
              "\n",
              "    .dataframe thead th {\n",
              "        text-align: right;\n",
              "    }\n",
              "</style>\n",
              "<table border=\"1\" class=\"dataframe\">\n",
              "  <thead>\n",
              "    <tr style=\"text-align: right;\">\n",
              "      <th></th>\n",
              "      <th>muestra 1</th>\n",
              "      <th>muestra 2</th>\n",
              "      <th>muestra 3</th>\n",
              "      <th>muestra 4</th>\n",
              "      <th>muestra 5</th>\n",
              "      <th>muestra 6</th>\n",
              "      <th>muestra 7</th>\n",
              "      <th>muestra 8</th>\n",
              "      <th>muestra 9</th>\n",
              "      <th>muestra 10</th>\n",
              "      <th>...</th>\n",
              "      <th>muestra 1991</th>\n",
              "      <th>muestra 1992</th>\n",
              "      <th>muestra 1993</th>\n",
              "      <th>muestra 1994</th>\n",
              "      <th>muestra 1995</th>\n",
              "      <th>muestra 1996</th>\n",
              "      <th>muestra 1997</th>\n",
              "      <th>muestra 1998</th>\n",
              "      <th>muestra 1999</th>\n",
              "      <th>muestra 2000</th>\n",
              "    </tr>\n",
              "  </thead>\n",
              "  <tbody>\n",
              "    <tr>\n",
              "      <th>0</th>\n",
              "      <td>1653.637793</td>\n",
              "      <td>1659.550964</td>\n",
              "      <td>1705.148983</td>\n",
              "      <td>1642.954772</td>\n",
              "      <td>1752.858695</td>\n",
              "      <td>1779.928391</td>\n",
              "      <td>1737.551038</td>\n",
              "      <td>1682.786131</td>\n",
              "      <td>1725.100730</td>\n",
              "      <td>1582.870082</td>\n",
              "      <td>...</td>\n",
              "      <td>1715.942291</td>\n",
              "      <td>1634.507077</td>\n",
              "      <td>1524.630384</td>\n",
              "      <td>1703.937326</td>\n",
              "      <td>1640.204208</td>\n",
              "      <td>1812.359307</td>\n",
              "      <td>1688.354286</td>\n",
              "      <td>1655.846994</td>\n",
              "      <td>1637.574163</td>\n",
              "      <td>1666.288591</td>\n",
              "    </tr>\n",
              "    <tr>\n",
              "      <th>1</th>\n",
              "      <td>1644.501623</td>\n",
              "      <td>1717.467169</td>\n",
              "      <td>1693.062313</td>\n",
              "      <td>1671.055156</td>\n",
              "      <td>1574.946005</td>\n",
              "      <td>1699.487374</td>\n",
              "      <td>1657.018855</td>\n",
              "      <td>1625.955525</td>\n",
              "      <td>1724.345218</td>\n",
              "      <td>1615.660022</td>\n",
              "      <td>...</td>\n",
              "      <td>1615.198054</td>\n",
              "      <td>1719.091769</td>\n",
              "      <td>1704.184949</td>\n",
              "      <td>1632.682072</td>\n",
              "      <td>1627.501869</td>\n",
              "      <td>1694.293198</td>\n",
              "      <td>1746.384925</td>\n",
              "      <td>1709.858893</td>\n",
              "      <td>1610.985930</td>\n",
              "      <td>1540.242742</td>\n",
              "    </tr>\n",
              "    <tr>\n",
              "      <th>2</th>\n",
              "      <td>1578.998014</td>\n",
              "      <td>1774.583646</td>\n",
              "      <td>1619.148018</td>\n",
              "      <td>1724.902297</td>\n",
              "      <td>1724.856932</td>\n",
              "      <td>1683.952067</td>\n",
              "      <td>1680.016591</td>\n",
              "      <td>1636.023466</td>\n",
              "      <td>1619.287770</td>\n",
              "      <td>1655.867294</td>\n",
              "      <td>...</td>\n",
              "      <td>1781.531076</td>\n",
              "      <td>1670.839926</td>\n",
              "      <td>1683.841813</td>\n",
              "      <td>1787.112579</td>\n",
              "      <td>1556.533580</td>\n",
              "      <td>1623.469363</td>\n",
              "      <td>1616.702521</td>\n",
              "      <td>1620.292643</td>\n",
              "      <td>1738.959713</td>\n",
              "      <td>1669.522975</td>\n",
              "    </tr>\n",
              "    <tr>\n",
              "      <th>3</th>\n",
              "      <td>1689.402959</td>\n",
              "      <td>1710.997028</td>\n",
              "      <td>1604.339554</td>\n",
              "      <td>1666.434813</td>\n",
              "      <td>1619.573216</td>\n",
              "      <td>1768.162218</td>\n",
              "      <td>1656.617442</td>\n",
              "      <td>1646.478332</td>\n",
              "      <td>1662.175444</td>\n",
              "      <td>1626.021328</td>\n",
              "      <td>...</td>\n",
              "      <td>1615.421910</td>\n",
              "      <td>1701.970821</td>\n",
              "      <td>1751.832197</td>\n",
              "      <td>1726.808433</td>\n",
              "      <td>1716.068229</td>\n",
              "      <td>1659.166306</td>\n",
              "      <td>1621.158700</td>\n",
              "      <td>1703.914622</td>\n",
              "      <td>1677.817012</td>\n",
              "      <td>1726.018638</td>\n",
              "    </tr>\n",
              "    <tr>\n",
              "      <th>4</th>\n",
              "      <td>1573.303404</td>\n",
              "      <td>1761.556865</td>\n",
              "      <td>1575.161773</td>\n",
              "      <td>1709.505368</td>\n",
              "      <td>1712.479659</td>\n",
              "      <td>1638.627912</td>\n",
              "      <td>1670.299080</td>\n",
              "      <td>1695.307133</td>\n",
              "      <td>1641.345070</td>\n",
              "      <td>1704.844370</td>\n",
              "      <td>...</td>\n",
              "      <td>1681.544152</td>\n",
              "      <td>1493.219953</td>\n",
              "      <td>1587.065670</td>\n",
              "      <td>1653.051270</td>\n",
              "      <td>1608.882570</td>\n",
              "      <td>1672.508601</td>\n",
              "      <td>1666.581817</td>\n",
              "      <td>1557.493467</td>\n",
              "      <td>1632.676816</td>\n",
              "      <td>1631.303339</td>\n",
              "    </tr>\n",
              "    <tr>\n",
              "      <th>...</th>\n",
              "      <td>...</td>\n",
              "      <td>...</td>\n",
              "      <td>...</td>\n",
              "      <td>...</td>\n",
              "      <td>...</td>\n",
              "      <td>...</td>\n",
              "      <td>...</td>\n",
              "      <td>...</td>\n",
              "      <td>...</td>\n",
              "      <td>...</td>\n",
              "      <td>...</td>\n",
              "      <td>...</td>\n",
              "      <td>...</td>\n",
              "      <td>...</td>\n",
              "      <td>...</td>\n",
              "      <td>...</td>\n",
              "      <td>...</td>\n",
              "      <td>...</td>\n",
              "      <td>...</td>\n",
              "      <td>...</td>\n",
              "      <td>...</td>\n",
              "    </tr>\n",
              "    <tr>\n",
              "      <th>795</th>\n",
              "      <td>1678.882709</td>\n",
              "      <td>1750.406736</td>\n",
              "      <td>1656.790138</td>\n",
              "      <td>1729.207548</td>\n",
              "      <td>1692.619773</td>\n",
              "      <td>1727.655993</td>\n",
              "      <td>1569.903325</td>\n",
              "      <td>1600.968117</td>\n",
              "      <td>1577.980924</td>\n",
              "      <td>1654.456914</td>\n",
              "      <td>...</td>\n",
              "      <td>1569.278529</td>\n",
              "      <td>1690.828853</td>\n",
              "      <td>1753.812102</td>\n",
              "      <td>1710.314619</td>\n",
              "      <td>1658.007464</td>\n",
              "      <td>1579.144416</td>\n",
              "      <td>1688.502765</td>\n",
              "      <td>1658.861336</td>\n",
              "      <td>1613.764086</td>\n",
              "      <td>1641.024763</td>\n",
              "    </tr>\n",
              "    <tr>\n",
              "      <th>796</th>\n",
              "      <td>1573.789870</td>\n",
              "      <td>1703.384564</td>\n",
              "      <td>1690.368880</td>\n",
              "      <td>1654.500640</td>\n",
              "      <td>1761.242312</td>\n",
              "      <td>1629.412831</td>\n",
              "      <td>1700.960707</td>\n",
              "      <td>1558.598423</td>\n",
              "      <td>1798.747123</td>\n",
              "      <td>1743.652627</td>\n",
              "      <td>...</td>\n",
              "      <td>1652.928686</td>\n",
              "      <td>1643.292806</td>\n",
              "      <td>1692.138538</td>\n",
              "      <td>1649.371604</td>\n",
              "      <td>1630.487335</td>\n",
              "      <td>1748.696885</td>\n",
              "      <td>1655.648037</td>\n",
              "      <td>1775.774398</td>\n",
              "      <td>1764.946052</td>\n",
              "      <td>1698.052847</td>\n",
              "    </tr>\n",
              "    <tr>\n",
              "      <th>797</th>\n",
              "      <td>1543.421448</td>\n",
              "      <td>1591.217593</td>\n",
              "      <td>1660.108814</td>\n",
              "      <td>1731.818651</td>\n",
              "      <td>1652.720160</td>\n",
              "      <td>1652.372271</td>\n",
              "      <td>1596.422791</td>\n",
              "      <td>1686.323955</td>\n",
              "      <td>1589.502238</td>\n",
              "      <td>1747.447391</td>\n",
              "      <td>...</td>\n",
              "      <td>1712.477623</td>\n",
              "      <td>1703.467566</td>\n",
              "      <td>1762.148967</td>\n",
              "      <td>1635.164773</td>\n",
              "      <td>1760.461811</td>\n",
              "      <td>1687.764577</td>\n",
              "      <td>1569.724224</td>\n",
              "      <td>1700.891446</td>\n",
              "      <td>1585.505352</td>\n",
              "      <td>1729.040259</td>\n",
              "    </tr>\n",
              "    <tr>\n",
              "      <th>798</th>\n",
              "      <td>1655.288505</td>\n",
              "      <td>1720.281249</td>\n",
              "      <td>1628.964817</td>\n",
              "      <td>1622.793318</td>\n",
              "      <td>1562.231243</td>\n",
              "      <td>1708.747746</td>\n",
              "      <td>1651.457995</td>\n",
              "      <td>1613.923903</td>\n",
              "      <td>1643.122566</td>\n",
              "      <td>1719.687225</td>\n",
              "      <td>...</td>\n",
              "      <td>1611.802116</td>\n",
              "      <td>1619.765468</td>\n",
              "      <td>1685.117523</td>\n",
              "      <td>1682.962575</td>\n",
              "      <td>1663.546006</td>\n",
              "      <td>1684.340927</td>\n",
              "      <td>1660.008889</td>\n",
              "      <td>1578.103157</td>\n",
              "      <td>1657.842101</td>\n",
              "      <td>1696.299382</td>\n",
              "    </tr>\n",
              "    <tr>\n",
              "      <th>799</th>\n",
              "      <td>1664.224971</td>\n",
              "      <td>1621.435357</td>\n",
              "      <td>1712.795717</td>\n",
              "      <td>1647.269794</td>\n",
              "      <td>1641.257160</td>\n",
              "      <td>1722.252480</td>\n",
              "      <td>1517.274515</td>\n",
              "      <td>1690.732975</td>\n",
              "      <td>1674.450087</td>\n",
              "      <td>1702.623138</td>\n",
              "      <td>...</td>\n",
              "      <td>1532.333575</td>\n",
              "      <td>1721.045024</td>\n",
              "      <td>1620.985805</td>\n",
              "      <td>1838.630690</td>\n",
              "      <td>1736.927864</td>\n",
              "      <td>1698.384704</td>\n",
              "      <td>1628.675288</td>\n",
              "      <td>1702.523711</td>\n",
              "      <td>1718.594817</td>\n",
              "      <td>1582.909503</td>\n",
              "    </tr>\n",
              "  </tbody>\n",
              "</table>\n",
              "<p>800 rows × 2000 columns</p>\n",
              "</div>\n",
              "    <div class=\"colab-df-buttons\">\n",
              "\n",
              "  <div class=\"colab-df-container\">\n",
              "    <button class=\"colab-df-convert\" onclick=\"convertToInteractive('df-7f00b4f9-85cc-49f8-8345-16cee0b583f1')\"\n",
              "            title=\"Convert this dataframe to an interactive table.\"\n",
              "            style=\"display:none;\">\n",
              "\n",
              "  <svg xmlns=\"http://www.w3.org/2000/svg\" height=\"24px\" viewBox=\"0 -960 960 960\">\n",
              "    <path d=\"M120-120v-720h720v720H120Zm60-500h600v-160H180v160Zm220 220h160v-160H400v160Zm0 220h160v-160H400v160ZM180-400h160v-160H180v160Zm440 0h160v-160H620v160ZM180-180h160v-160H180v160Zm440 0h160v-160H620v160Z\"/>\n",
              "  </svg>\n",
              "    </button>\n",
              "\n",
              "  <style>\n",
              "    .colab-df-container {\n",
              "      display:flex;\n",
              "      gap: 12px;\n",
              "    }\n",
              "\n",
              "    .colab-df-convert {\n",
              "      background-color: #E8F0FE;\n",
              "      border: none;\n",
              "      border-radius: 50%;\n",
              "      cursor: pointer;\n",
              "      display: none;\n",
              "      fill: #1967D2;\n",
              "      height: 32px;\n",
              "      padding: 0 0 0 0;\n",
              "      width: 32px;\n",
              "    }\n",
              "\n",
              "    .colab-df-convert:hover {\n",
              "      background-color: #E2EBFA;\n",
              "      box-shadow: 0px 1px 2px rgba(60, 64, 67, 0.3), 0px 1px 3px 1px rgba(60, 64, 67, 0.15);\n",
              "      fill: #174EA6;\n",
              "    }\n",
              "\n",
              "    .colab-df-buttons div {\n",
              "      margin-bottom: 4px;\n",
              "    }\n",
              "\n",
              "    [theme=dark] .colab-df-convert {\n",
              "      background-color: #3B4455;\n",
              "      fill: #D2E3FC;\n",
              "    }\n",
              "\n",
              "    [theme=dark] .colab-df-convert:hover {\n",
              "      background-color: #434B5C;\n",
              "      box-shadow: 0px 1px 3px 1px rgba(0, 0, 0, 0.15);\n",
              "      filter: drop-shadow(0px 1px 2px rgba(0, 0, 0, 0.3));\n",
              "      fill: #FFFFFF;\n",
              "    }\n",
              "  </style>\n",
              "\n",
              "    <script>\n",
              "      const buttonEl =\n",
              "        document.querySelector('#df-7f00b4f9-85cc-49f8-8345-16cee0b583f1 button.colab-df-convert');\n",
              "      buttonEl.style.display =\n",
              "        google.colab.kernel.accessAllowed ? 'block' : 'none';\n",
              "\n",
              "      async function convertToInteractive(key) {\n",
              "        const element = document.querySelector('#df-7f00b4f9-85cc-49f8-8345-16cee0b583f1');\n",
              "        const dataTable =\n",
              "          await google.colab.kernel.invokeFunction('convertToInteractive',\n",
              "                                                    [key], {});\n",
              "        if (!dataTable) return;\n",
              "\n",
              "        const docLinkHtml = 'Like what you see? Visit the ' +\n",
              "          '<a target=\"_blank\" href=https://colab.research.google.com/notebooks/data_table.ipynb>data table notebook</a>'\n",
              "          + ' to learn more about interactive tables.';\n",
              "        element.innerHTML = '';\n",
              "        dataTable['output_type'] = 'display_data';\n",
              "        await google.colab.output.renderOutput(dataTable, element);\n",
              "        const docLink = document.createElement('div');\n",
              "        docLink.innerHTML = docLinkHtml;\n",
              "        element.appendChild(docLink);\n",
              "      }\n",
              "    </script>\n",
              "  </div>\n",
              "\n",
              "\n",
              "<div id=\"df-43b09c9d-7867-4640-bd46-245fa2fb419e\">\n",
              "  <button class=\"colab-df-quickchart\" onclick=\"quickchart('df-43b09c9d-7867-4640-bd46-245fa2fb419e')\"\n",
              "            title=\"Suggest charts\"\n",
              "            style=\"display:none;\">\n",
              "\n",
              "<svg xmlns=\"http://www.w3.org/2000/svg\" height=\"24px\"viewBox=\"0 0 24 24\"\n",
              "     width=\"24px\">\n",
              "    <g>\n",
              "        <path d=\"M19 3H5c-1.1 0-2 .9-2 2v14c0 1.1.9 2 2 2h14c1.1 0 2-.9 2-2V5c0-1.1-.9-2-2-2zM9 17H7v-7h2v7zm4 0h-2V7h2v10zm4 0h-2v-4h2v4z\"/>\n",
              "    </g>\n",
              "</svg>\n",
              "  </button>\n",
              "\n",
              "<style>\n",
              "  .colab-df-quickchart {\n",
              "      --bg-color: #E8F0FE;\n",
              "      --fill-color: #1967D2;\n",
              "      --hover-bg-color: #E2EBFA;\n",
              "      --hover-fill-color: #174EA6;\n",
              "      --disabled-fill-color: #AAA;\n",
              "      --disabled-bg-color: #DDD;\n",
              "  }\n",
              "\n",
              "  [theme=dark] .colab-df-quickchart {\n",
              "      --bg-color: #3B4455;\n",
              "      --fill-color: #D2E3FC;\n",
              "      --hover-bg-color: #434B5C;\n",
              "      --hover-fill-color: #FFFFFF;\n",
              "      --disabled-bg-color: #3B4455;\n",
              "      --disabled-fill-color: #666;\n",
              "  }\n",
              "\n",
              "  .colab-df-quickchart {\n",
              "    background-color: var(--bg-color);\n",
              "    border: none;\n",
              "    border-radius: 50%;\n",
              "    cursor: pointer;\n",
              "    display: none;\n",
              "    fill: var(--fill-color);\n",
              "    height: 32px;\n",
              "    padding: 0;\n",
              "    width: 32px;\n",
              "  }\n",
              "\n",
              "  .colab-df-quickchart:hover {\n",
              "    background-color: var(--hover-bg-color);\n",
              "    box-shadow: 0 1px 2px rgba(60, 64, 67, 0.3), 0 1px 3px 1px rgba(60, 64, 67, 0.15);\n",
              "    fill: var(--button-hover-fill-color);\n",
              "  }\n",
              "\n",
              "  .colab-df-quickchart-complete:disabled,\n",
              "  .colab-df-quickchart-complete:disabled:hover {\n",
              "    background-color: var(--disabled-bg-color);\n",
              "    fill: var(--disabled-fill-color);\n",
              "    box-shadow: none;\n",
              "  }\n",
              "\n",
              "  .colab-df-spinner {\n",
              "    border: 2px solid var(--fill-color);\n",
              "    border-color: transparent;\n",
              "    border-bottom-color: var(--fill-color);\n",
              "    animation:\n",
              "      spin 1s steps(1) infinite;\n",
              "  }\n",
              "\n",
              "  @keyframes spin {\n",
              "    0% {\n",
              "      border-color: transparent;\n",
              "      border-bottom-color: var(--fill-color);\n",
              "      border-left-color: var(--fill-color);\n",
              "    }\n",
              "    20% {\n",
              "      border-color: transparent;\n",
              "      border-left-color: var(--fill-color);\n",
              "      border-top-color: var(--fill-color);\n",
              "    }\n",
              "    30% {\n",
              "      border-color: transparent;\n",
              "      border-left-color: var(--fill-color);\n",
              "      border-top-color: var(--fill-color);\n",
              "      border-right-color: var(--fill-color);\n",
              "    }\n",
              "    40% {\n",
              "      border-color: transparent;\n",
              "      border-right-color: var(--fill-color);\n",
              "      border-top-color: var(--fill-color);\n",
              "    }\n",
              "    60% {\n",
              "      border-color: transparent;\n",
              "      border-right-color: var(--fill-color);\n",
              "    }\n",
              "    80% {\n",
              "      border-color: transparent;\n",
              "      border-right-color: var(--fill-color);\n",
              "      border-bottom-color: var(--fill-color);\n",
              "    }\n",
              "    90% {\n",
              "      border-color: transparent;\n",
              "      border-bottom-color: var(--fill-color);\n",
              "    }\n",
              "  }\n",
              "</style>\n",
              "\n",
              "  <script>\n",
              "    async function quickchart(key) {\n",
              "      const quickchartButtonEl =\n",
              "        document.querySelector('#' + key + ' button');\n",
              "      quickchartButtonEl.disabled = true;  // To prevent multiple clicks.\n",
              "      quickchartButtonEl.classList.add('colab-df-spinner');\n",
              "      try {\n",
              "        const charts = await google.colab.kernel.invokeFunction(\n",
              "            'suggestCharts', [key], {});\n",
              "      } catch (error) {\n",
              "        console.error('Error during call to suggestCharts:', error);\n",
              "      }\n",
              "      quickchartButtonEl.classList.remove('colab-df-spinner');\n",
              "      quickchartButtonEl.classList.add('colab-df-quickchart-complete');\n",
              "    }\n",
              "    (() => {\n",
              "      let quickchartButtonEl =\n",
              "        document.querySelector('#df-43b09c9d-7867-4640-bd46-245fa2fb419e button');\n",
              "      quickchartButtonEl.style.display =\n",
              "        google.colab.kernel.accessAllowed ? 'block' : 'none';\n",
              "    })();\n",
              "  </script>\n",
              "</div>\n",
              "\n",
              "  <div id=\"id_b67494f5-7ca0-4ee1-ae9f-6f9df517ace5\">\n",
              "    <style>\n",
              "      .colab-df-generate {\n",
              "        background-color: #E8F0FE;\n",
              "        border: none;\n",
              "        border-radius: 50%;\n",
              "        cursor: pointer;\n",
              "        display: none;\n",
              "        fill: #1967D2;\n",
              "        height: 32px;\n",
              "        padding: 0 0 0 0;\n",
              "        width: 32px;\n",
              "      }\n",
              "\n",
              "      .colab-df-generate:hover {\n",
              "        background-color: #E2EBFA;\n",
              "        box-shadow: 0px 1px 2px rgba(60, 64, 67, 0.3), 0px 1px 3px 1px rgba(60, 64, 67, 0.15);\n",
              "        fill: #174EA6;\n",
              "      }\n",
              "\n",
              "      [theme=dark] .colab-df-generate {\n",
              "        background-color: #3B4455;\n",
              "        fill: #D2E3FC;\n",
              "      }\n",
              "\n",
              "      [theme=dark] .colab-df-generate:hover {\n",
              "        background-color: #434B5C;\n",
              "        box-shadow: 0px 1px 3px 1px rgba(0, 0, 0, 0.15);\n",
              "        filter: drop-shadow(0px 1px 2px rgba(0, 0, 0, 0.3));\n",
              "        fill: #FFFFFF;\n",
              "      }\n",
              "    </style>\n",
              "    <button class=\"colab-df-generate\" onclick=\"generateWithVariable('alturas_hombres')\"\n",
              "            title=\"Generate code using this dataframe.\"\n",
              "            style=\"display:none;\">\n",
              "\n",
              "  <svg xmlns=\"http://www.w3.org/2000/svg\" height=\"24px\"viewBox=\"0 0 24 24\"\n",
              "       width=\"24px\">\n",
              "    <path d=\"M7,19H8.4L18.45,9,17,7.55,7,17.6ZM5,21V16.75L18.45,3.32a2,2,0,0,1,2.83,0l1.4,1.43a1.91,1.91,0,0,1,.58,1.4,1.91,1.91,0,0,1-.58,1.4L9.25,21ZM18.45,9,17,7.55Zm-12,3A5.31,5.31,0,0,0,4.9,8.1,5.31,5.31,0,0,0,1,6.5,5.31,5.31,0,0,0,4.9,4.9,5.31,5.31,0,0,0,6.5,1,5.31,5.31,0,0,0,8.1,4.9,5.31,5.31,0,0,0,12,6.5,5.46,5.46,0,0,0,6.5,12Z\"/>\n",
              "  </svg>\n",
              "    </button>\n",
              "    <script>\n",
              "      (() => {\n",
              "      const buttonEl =\n",
              "        document.querySelector('#id_b67494f5-7ca0-4ee1-ae9f-6f9df517ace5 button.colab-df-generate');\n",
              "      buttonEl.style.display =\n",
              "        google.colab.kernel.accessAllowed ? 'block' : 'none';\n",
              "\n",
              "      buttonEl.onclick = () => {\n",
              "        google.colab.notebook.generateWithVariable('alturas_hombres');\n",
              "      }\n",
              "      })();\n",
              "    </script>\n",
              "  </div>\n",
              "\n",
              "    </div>\n",
              "  </div>\n"
            ],
            "application/vnd.google.colaboratory.intrinsic+json": {
              "type": "dataframe",
              "variable_name": "alturas_hombres"
            }
          },
          "metadata": {},
          "execution_count": 26
        }
      ]
    },
    {
      "cell_type": "markdown",
      "metadata": {
        "id": "r6nJFS3thxsb"
      },
      "source": [
        "<h2> Distribución de cada muestra"
      ]
    },
    {
      "cell_type": "code",
      "metadata": {
        "id": "GIBiBnle7qRy",
        "colab": {
          "base_uri": "https://localhost:8080/",
          "height": 452
        },
        "outputId": "6a42ca64-9496-49c0-99c8-262b8ee8e6f2"
      },
      "source": [
        "alturas_hombres.sample(6, axis = 1).hist(sharex= True)\n",
        "plt.show()"
      ],
      "execution_count": 27,
      "outputs": [
        {
          "output_type": "display_data",
          "data": {
            "text/plain": [
              "<Figure size 640x480 with 6 Axes>"
            ],
            "image/png": "[encoded data removed]"
          },
          "metadata": {}
        }
      ]
    },
    {
      "cell_type": "markdown",
      "metadata": {
        "id": "E2NUamHk1pi0"
      },
      "source": [
        "<h2> Distribución de la suma"
      ]
    },
    {
      "cell_type": "code",
      "metadata": {
        "colab": {
          "base_uri": "https://localhost:8080/",
          "height": 458
        },
        "outputId": "d16fb6c8-085f-4530-96d0-365f9206d340",
        "id": "7L4dVKRh1pi9"
      },
      "source": [
        "suma = alturas_hombres.sum()\n",
        "suma"
      ],
      "execution_count": 21,
      "outputs": [
        {
          "output_type": "execute_result",
          "data": {
            "text/plain": [
              "muestra 1       671990.303285\n",
              "muestra 2       669095.230369\n",
              "muestra 3       669903.507126\n",
              "muestra 4       670810.325189\n",
              "muestra 5       669520.036156\n",
              "                    ...      \n",
              "muestra 1996    670281.535540\n",
              "muestra 1997    670150.100938\n",
              "muestra 1998    669696.112950\n",
              "muestra 1999    669843.678028\n",
              "muestra 2000    670135.462962\n",
              "Length: 2000, dtype: float64"
            ],
            "text/html": [
              "<div>\n",
              "<style scoped>\n",
              "    .dataframe tbody tr th:only-of-type {\n",
              "        vertical-align: middle;\n",
              "    }\n",
              "\n",
              "    .dataframe tbody tr th {\n",
              "        vertical-align: top;\n",
              "    }\n",
              "\n",
              "    .dataframe thead th {\n",
              "        text-align: right;\n",
              "    }\n",
              "</style>\n",
              "<table border=\"1\" class=\"dataframe\">\n",
              "  <thead>\n",
              "    <tr style=\"text-align: right;\">\n",
              "      <th></th>\n",
              "      <th>0</th>\n",
              "    </tr>\n",
              "  </thead>\n",
              "  <tbody>\n",
              "    <tr>\n",
              "      <th>muestra 1</th>\n",
              "      <td>671990.303285</td>\n",
              "    </tr>\n",
              "    <tr>\n",
              "      <th>muestra 2</th>\n",
              "      <td>669095.230369</td>\n",
              "    </tr>\n",
              "    <tr>\n",
              "      <th>muestra 3</th>\n",
              "      <td>669903.507126</td>\n",
              "    </tr>\n",
              "    <tr>\n",
              "      <th>muestra 4</th>\n",
              "      <td>670810.325189</td>\n",
              "    </tr>\n",
              "    <tr>\n",
              "      <th>muestra 5</th>\n",
              "      <td>669520.036156</td>\n",
              "    </tr>\n",
              "    <tr>\n",
              "      <th>...</th>\n",
              "      <td>...</td>\n",
              "    </tr>\n",
              "    <tr>\n",
              "      <th>muestra 1996</th>\n",
              "      <td>670281.535540</td>\n",
              "    </tr>\n",
              "    <tr>\n",
              "      <th>muestra 1997</th>\n",
              "      <td>670150.100938</td>\n",
              "    </tr>\n",
              "    <tr>\n",
              "      <th>muestra 1998</th>\n",
              "      <td>669696.112950</td>\n",
              "    </tr>\n",
              "    <tr>\n",
              "      <th>muestra 1999</th>\n",
              "      <td>669843.678028</td>\n",
              "    </tr>\n",
              "    <tr>\n",
              "      <th>muestra 2000</th>\n",
              "      <td>670135.462962</td>\n",
              "    </tr>\n",
              "  </tbody>\n",
              "</table>\n",
              "<p>2000 rows × 1 columns</p>\n",
              "</div><br><label><b>dtype:</b> float64</label>"
            ]
          },
          "metadata": {},
          "execution_count": 21
        }
      ]
    },
    {
      "cell_type": "code",
      "source": [
        "suma.hist(bins=30, figsize=(4,3))\n",
        "plt.show()"
      ],
      "metadata": {
        "colab": {
          "base_uri": "https://localhost:8080/",
          "height": 291
        },
        "id": "tdDssNPB2hqn",
        "outputId": "70a87c25-9b30-49ad-a806-9d1447da7eef"
      },
      "execution_count": 22,
      "outputs": [
        {
          "output_type": "display_data",
          "data": {
            "text/plain": [
              "<Figure size 400x300 with 1 Axes>"
            ],
            "image/png": "[encoded data removed]"
          },
          "metadata": {}
        }
      ]
    },
    {
      "cell_type": "markdown",
      "metadata": {
        "id": "dpqepVsWhbyJ"
      },
      "source": [
        "<h2> Distribución de los promedios"
      ]
    },
    {
      "cell_type": "code",
      "metadata": {
        "colab": {
          "base_uri": "https://localhost:8080/",
          "height": 458
        },
        "id": "7-mAkd3pRRtx",
        "outputId": "bd151a3e-30dc-400b-bce4-6732bade6ba4"
      },
      "source": [
        "medias = alturas_hombres.mean()\n",
        "medias"
      ],
      "execution_count": 28,
      "outputs": [
        {
          "output_type": "execute_result",
          "data": {
            "text/plain": [
              "muestra 1       1677.011653\n",
              "muestra 2       1678.495083\n",
              "muestra 3       1675.351947\n",
              "muestra 4       1673.952046\n",
              "muestra 5       1672.604277\n",
              "                   ...     \n",
              "muestra 1996    1675.123375\n",
              "muestra 1997    1678.886803\n",
              "muestra 1998    1673.398963\n",
              "muestra 1999    1675.163723\n",
              "muestra 2000    1678.978616\n",
              "Length: 2000, dtype: float64"
            ],
            "text/html": [
              "<div>\n",
              "<style scoped>\n",
              "    .dataframe tbody tr th:only-of-type {\n",
              "        vertical-align: middle;\n",
              "    }\n",
              "\n",
              "    .dataframe tbody tr th {\n",
              "        vertical-align: top;\n",
              "    }\n",
              "\n",
              "    .dataframe thead th {\n",
              "        text-align: right;\n",
              "    }\n",
              "</style>\n",
              "<table border=\"1\" class=\"dataframe\">\n",
              "  <thead>\n",
              "    <tr style=\"text-align: right;\">\n",
              "      <th></th>\n",
              "      <th>0</th>\n",
              "    </tr>\n",
              "  </thead>\n",
              "  <tbody>\n",
              "    <tr>\n",
              "      <th>muestra 1</th>\n",
              "      <td>1677.011653</td>\n",
              "    </tr>\n",
              "    <tr>\n",
              "      <th>muestra 2</th>\n",
              "      <td>1678.495083</td>\n",
              "    </tr>\n",
              "    <tr>\n",
              "      <th>muestra 3</th>\n",
              "      <td>1675.351947</td>\n",
              "    </tr>\n",
              "    <tr>\n",
              "      <th>muestra 4</th>\n",
              "      <td>1673.952046</td>\n",
              "    </tr>\n",
              "    <tr>\n",
              "      <th>muestra 5</th>\n",
              "      <td>1672.604277</td>\n",
              "    </tr>\n",
              "    <tr>\n",
              "      <th>...</th>\n",
              "      <td>...</td>\n",
              "    </tr>\n",
              "    <tr>\n",
              "      <th>muestra 1996</th>\n",
              "      <td>1675.123375</td>\n",
              "    </tr>\n",
              "    <tr>\n",
              "      <th>muestra 1997</th>\n",
              "      <td>1678.886803</td>\n",
              "    </tr>\n",
              "    <tr>\n",
              "      <th>muestra 1998</th>\n",
              "      <td>1673.398963</td>\n",
              "    </tr>\n",
              "    <tr>\n",
              "      <th>muestra 1999</th>\n",
              "      <td>1675.163723</td>\n",
              "    </tr>\n",
              "    <tr>\n",
              "      <th>muestra 2000</th>\n",
              "      <td>1678.978616</td>\n",
              "    </tr>\n",
              "  </tbody>\n",
              "</table>\n",
              "<p>2000 rows × 1 columns</p>\n",
              "</div><br><label><b>dtype:</b> float64</label>"
            ]
          },
          "metadata": {},
          "execution_count": 28
        }
      ]
    },
    {
      "cell_type": "code",
      "source": [
        "medias.hist(bins=30, figsize=(4,3))\n",
        "plt.show()"
      ],
      "metadata": {
        "id": "VHcdXQzppPnI",
        "outputId": "f197c10f-7f6e-4394-c008-3cef1ebad4aa",
        "colab": {
          "base_uri": "https://localhost:8080/",
          "height": 291
        }
      },
      "execution_count": 29,
      "outputs": [
        {
          "output_type": "display_data",
          "data": {
            "text/plain": [
              "<Figure size 400x300 with 1 Axes>"
            ],
            "image/png": "[encoded data removed]"
          },
          "metadata": {}
        }
      ]
    },
    {
      "cell_type": "code",
      "source": [
        "medias.hist(bins=30, figsize=(4,3))\n",
        "plt.show()"
      ],
      "metadata": {
        "colab": {
          "base_uri": "https://localhost:8080/",
          "height": 291
        },
        "id": "_P8FsvRtzpw_",
        "outputId": "05e040c7-6c20-411b-ecfb-fb2829f2ea5a"
      },
      "execution_count": 25,
      "outputs": [
        {
          "output_type": "display_data",
          "data": {
            "text/plain": [
              "<Figure size 400x300 with 1 Axes>"
            ],
            "image/png": "[encoded data removed]"
          },
          "metadata": {}
        }
      ]
    },
    {
      "cell_type": "markdown",
      "source": [
        "<h2> Distribución de los errores"
      ],
      "metadata": {
        "id": "h50zqQYE0XUu"
      }
    },
    {
      "cell_type": "code",
      "metadata": {
        "id": "yWYSEAmk8VIJ",
        "colab": {
          "base_uri": "https://localhost:8080/",
          "height": 458
        },
        "outputId": "20648912-019a-4aba-8672-f530a66b0c2e"
      },
      "source": [
        "errores = mu - medias\n",
        "errores"
      ],
      "execution_count": 30,
      "outputs": [
        {
          "output_type": "execute_result",
          "data": {
            "text/plain": [
              "muestra 1      -2.011653\n",
              "muestra 2      -3.495083\n",
              "muestra 3      -0.351947\n",
              "muestra 4       1.047954\n",
              "muestra 5       2.395723\n",
              "                  ...   \n",
              "muestra 1996   -0.123375\n",
              "muestra 1997   -3.886803\n",
              "muestra 1998    1.601037\n",
              "muestra 1999   -0.163723\n",
              "muestra 2000   -3.978616\n",
              "Length: 2000, dtype: float64"
            ],
            "text/html": [
              "<div>\n",
              "<style scoped>\n",
              "    .dataframe tbody tr th:only-of-type {\n",
              "        vertical-align: middle;\n",
              "    }\n",
              "\n",
              "    .dataframe tbody tr th {\n",
              "        vertical-align: top;\n",
              "    }\n",
              "\n",
              "    .dataframe thead th {\n",
              "        text-align: right;\n",
              "    }\n",
              "</style>\n",
              "<table border=\"1\" class=\"dataframe\">\n",
              "  <thead>\n",
              "    <tr style=\"text-align: right;\">\n",
              "      <th></th>\n",
              "      <th>0</th>\n",
              "    </tr>\n",
              "  </thead>\n",
              "  <tbody>\n",
              "    <tr>\n",
              "      <th>muestra 1</th>\n",
              "      <td>-2.011653</td>\n",
              "    </tr>\n",
              "    <tr>\n",
              "      <th>muestra 2</th>\n",
              "      <td>-3.495083</td>\n",
              "    </tr>\n",
              "    <tr>\n",
              "      <th>muestra 3</th>\n",
              "      <td>-0.351947</td>\n",
              "    </tr>\n",
              "    <tr>\n",
              "      <th>muestra 4</th>\n",
              "      <td>1.047954</td>\n",
              "    </tr>\n",
              "    <tr>\n",
              "      <th>muestra 5</th>\n",
              "      <td>2.395723</td>\n",
              "    </tr>\n",
              "    <tr>\n",
              "      <th>...</th>\n",
              "      <td>...</td>\n",
              "    </tr>\n",
              "    <tr>\n",
              "      <th>muestra 1996</th>\n",
              "      <td>-0.123375</td>\n",
              "    </tr>\n",
              "    <tr>\n",
              "      <th>muestra 1997</th>\n",
              "      <td>-3.886803</td>\n",
              "    </tr>\n",
              "    <tr>\n",
              "      <th>muestra 1998</th>\n",
              "      <td>1.601037</td>\n",
              "    </tr>\n",
              "    <tr>\n",
              "      <th>muestra 1999</th>\n",
              "      <td>-0.163723</td>\n",
              "    </tr>\n",
              "    <tr>\n",
              "      <th>muestra 2000</th>\n",
              "      <td>-3.978616</td>\n",
              "    </tr>\n",
              "  </tbody>\n",
              "</table>\n",
              "<p>2000 rows × 1 columns</p>\n",
              "</div><br><label><b>dtype:</b> float64</label>"
            ]
          },
          "metadata": {},
          "execution_count": 30
        }
      ]
    },
    {
      "cell_type": "code",
      "metadata": {
        "id": "Q0zt05sw72tK",
        "colab": {
          "base_uri": "https://localhost:8080/",
          "height": 291
        },
        "outputId": "7d8891cf-d865-4884-d808-f0358dec85ef"
      },
      "source": [
        "errores.hist(bins=30, figsize=(4,3))\n",
        "plt.show()"
      ],
      "execution_count": 31,
      "outputs": [
        {
          "output_type": "display_data",
          "data": {
            "text/plain": [
              "<Figure size 400x300 with 1 Axes>"
            ],
            "image/png": "[encoded data removed]"
          },
          "metadata": {}
        }
      ]
    },
    {
      "cell_type": "code",
      "metadata": {
        "colab": {
          "base_uri": "https://localhost:8080/",
          "height": 291
        },
        "outputId": "3070ee91-1dba-4199-bfa2-1a1b1a0e59f8",
        "id": "qWOHhkDMDY6N"
      },
      "source": [
        "# podemos llegar a la distribución normal estándar\n",
        "(errores/(sigma/np.sqrt(n))).hist(bins=30, figsize=(4,3))\n",
        "plt.show()"
      ],
      "execution_count": null,
      "outputs": [
        {
          "output_type": "display_data",
          "data": {
            "text/plain": [
              "<Figure size 400x300 with 1 Axes>"
            ],
            "image/png": "[encoded data removed]"
          },
          "metadata": {}
        }
      ]
    },
    {
      "cell_type": "markdown",
      "metadata": {
        "id": "SdDW1MbP6As0"
      },
      "source": [
        "# Distribución Bernoulli (Agujas de Buffon)"
      ]
    },
    {
      "cell_type": "markdown",
      "metadata": {
        "id": "-_WFJKLr6As7"
      },
      "source": [
        "<h2> Obtener muestras"
      ]
    },
    {
      "cell_type": "code",
      "source": [
        "def cruce_agujas_Buffon(n):\n",
        "    l = 1\n",
        "    l_cuadrado = 10\n",
        "\n",
        "    x = np.random.uniform(0, l_cuadrado, n) # coordenada x del centro de la aguja\n",
        "    y = np.random.uniform(0, l_cuadrado, n) # cordenada y del centro del aguja\n",
        "    𝜃 = np.random.uniform(0, np.pi, n) # angulo de rotación de la aguja en radianes, entre 0 y pi (180 grados)\n",
        "\n",
        "    # Calcula coordenadas extremos (P1 y P2)\n",
        "    x1 = x - (1/2 * np.cos(𝜃))\n",
        "    y1 = y - (1/2 * np.sin(𝜃))\n",
        "\n",
        "    x2 = x + (1/2 * np.cos(𝜃))\n",
        "    y2 = y + (1/2 * np.sin(𝜃))\n",
        "\n",
        "    # ¿Cruza alguna de las lineas del tapete?\n",
        "    cruza = np.where(np.floor(y1) != np.floor(y2), 1, 0)    # np.floor(3.76) = 3\n",
        "\n",
        "    return cruza"
      ],
      "metadata": {
        "id": "Zwj_d116Pp0k"
      },
      "execution_count": 43,
      "outputs": []
    },
    {
      "cell_type": "code",
      "source": [
        "n = 3408 # tamaño de la muestra\n",
        "m = 2000 # número de muestras\n",
        "Buffon_df= pd.DataFrame.from_dict({'experimento '+str(i): cruce_agujas_Buffon(n) for i in range(1, m+1)})\n",
        "Buffon_df"
      ],
      "metadata": {
        "id": "igdXApEN6pey",
        "outputId": "e8ddce62-d6d3-4279-f76e-4c98d93c2506",
        "colab": {
          "base_uri": "https://localhost:8080/",
          "height": 461
        }
      },
      "execution_count": 46,
      "outputs": [
        {
          "output_type": "execute_result",
          "data": {
            "text/plain": [
              "      experimento 1  experimento 2  experimento 3  experimento 4  \\\n",
              "0                 1              1              1              0   \n",
              "1                 1              1              1              1   \n",
              "2                 0              0              1              1   \n",
              "3                 1              1              0              1   \n",
              "4                 0              1              1              0   \n",
              "...             ...            ...            ...            ...   \n",
              "3403              1              1              1              1   \n",
              "3404              1              1              0              1   \n",
              "3405              0              1              1              1   \n",
              "3406              0              0              0              1   \n",
              "3407              1              0              1              1   \n",
              "\n",
              "      experimento 5  experimento 6  experimento 7  experimento 8  \\\n",
              "0                 1              1              0              0   \n",
              "1                 0              0              1              0   \n",
              "2                 0              1              0              1   \n",
              "3                 1              1              1              1   \n",
              "4                 1              0              0              1   \n",
              "...             ...            ...            ...            ...   \n",
              "3403              0              1              1              0   \n",
              "3404              0              1              1              1   \n",
              "3405              0              1              0              0   \n",
              "3406              1              0              1              1   \n",
              "3407              1              1              1              0   \n",
              "\n",
              "      experimento 9  experimento 10  ...  experimento 1991  experimento 1992  \\\n",
              "0                 1               1  ...                 0                 1   \n",
              "1                 1               0  ...                 1                 1   \n",
              "2                 0               0  ...                 1                 1   \n",
              "3                 0               1  ...                 1                 1   \n",
              "4                 1               0  ...                 0                 1   \n",
              "...             ...             ...  ...               ...               ...   \n",
              "3403              0               1  ...                 1                 1   \n",
              "3404              1               0  ...                 1                 0   \n",
              "3405              0               1  ...                 0                 1   \n",
              "3406              1               1  ...                 0                 1   \n",
              "3407              1               0  ...                 1                 0   \n",
              "\n",
              "      experimento 1993  experimento 1994  experimento 1995  experimento 1996  \\\n",
              "0                    0                 0                 0                 1   \n",
              "1                    1                 0                 1                 1   \n",
              "2                    1                 1                 1                 1   \n",
              "3                    1                 1                 1                 1   \n",
              "4                    0                 0                 0                 1   \n",
              "...                ...               ...               ...               ...   \n",
              "3403                 1                 1                 1                 1   \n",
              "3404                 1                 0                 1                 1   \n",
              "3405                 1                 0                 0                 1   \n",
              "3406                 1                 1                 1                 1   \n",
              "3407                 0                 0                 1                 1   \n",
              "\n",
              "      experimento 1997  experimento 1998  experimento 1999  experimento 2000  \n",
              "0                    1                 1                 1                 1  \n",
              "1                    1                 1                 0                 1  \n",
              "2                    1                 0                 1                 1  \n",
              "3                    1                 1                 0                 0  \n",
              "4                    1                 1                 0                 0  \n",
              "...                ...               ...               ...               ...  \n",
              "3403                 0                 0                 0                 0  \n",
              "3404                 1                 0                 1                 1  \n",
              "3405                 0                 1                 0                 0  \n",
              "3406                 1                 1                 1                 0  \n",
              "3407                 0                 1                 0                 1  \n",
              "\n",
              "[3408 rows x 2000 columns]"
            ],
            "text/html": [
              "\n",
              "  <div id=\"df-ffe80628-d004-4ce4-8dc3-705b540533af\" class=\"colab-df-container\">\n",
              "    <div>\n",
              "<style scoped>\n",
              "    .dataframe tbody tr th:only-of-type {\n",
              "        vertical-align: middle;\n",
              "    }\n",
              "\n",
              "    .dataframe tbody tr th {\n",
              "        vertical-align: top;\n",
              "    }\n",
              "\n",
              "    .dataframe thead th {\n",
              "        text-align: right;\n",
              "    }\n",
              "</style>\n",
              "<table border=\"1\" class=\"dataframe\">\n",
              "  <thead>\n",
              "    <tr style=\"text-align: right;\">\n",
              "      <th></th>\n",
              "      <th>experimento 1</th>\n",
              "      <th>experimento 2</th>\n",
              "      <th>experimento 3</th>\n",
              "      <th>experimento 4</th>\n",
              "      <th>experimento 5</th>\n",
              "      <th>experimento 6</th>\n",
              "      <th>experimento 7</th>\n",
              "      <th>experimento 8</th>\n",
              "      <th>experimento 9</th>\n",
              "      <th>experimento 10</th>\n",
              "      <th>...</th>\n",
              "      <th>experimento 1991</th>\n",
              "      <th>experimento 1992</th>\n",
              "      <th>experimento 1993</th>\n",
              "      <th>experimento 1994</th>\n",
              "      <th>experimento 1995</th>\n",
              "      <th>experimento 1996</th>\n",
              "      <th>experimento 1997</th>\n",
              "      <th>experimento 1998</th>\n",
              "      <th>experimento 1999</th>\n",
              "      <th>experimento 2000</th>\n",
              "    </tr>\n",
              "  </thead>\n",
              "  <tbody>\n",
              "    <tr>\n",
              "      <th>0</th>\n",
              "      <td>1</td>\n",
              "      <td>1</td>\n",
              "      <td>1</td>\n",
              "      <td>0</td>\n",
              "      <td>1</td>\n",
              "      <td>1</td>\n",
              "      <td>0</td>\n",
              "      <td>0</td>\n",
              "      <td>1</td>\n",
              "      <td>1</td>\n",
              "      <td>...</td>\n",
              "      <td>0</td>\n",
              "      <td>1</td>\n",
              "      <td>0</td>\n",
              "      <td>0</td>\n",
              "      <td>0</td>\n",
              "      <td>1</td>\n",
              "      <td>1</td>\n",
              "      <td>1</td>\n",
              "      <td>1</td>\n",
              "      <td>1</td>\n",
              "    </tr>\n",
              "    <tr>\n",
              "      <th>1</th>\n",
              "      <td>1</td>\n",
              "      <td>1</td>\n",
              "      <td>1</td>\n",
              "      <td>1</td>\n",
              "      <td>0</td>\n",
              "      <td>0</td>\n",
              "      <td>1</td>\n",
              "      <td>0</td>\n",
              "      <td>1</td>\n",
              "      <td>0</td>\n",
              "      <td>...</td>\n",
              "      <td>1</td>\n",
              "      <td>1</td>\n",
              "      <td>1</td>\n",
              "      <td>0</td>\n",
              "      <td>1</td>\n",
              "      <td>1</td>\n",
              "      <td>1</td>\n",
              "      <td>1</td>\n",
              "      <td>0</td>\n",
              "      <td>1</td>\n",
              "    </tr>\n",
              "    <tr>\n",
              "      <th>2</th>\n",
              "      <td>0</td>\n",
              "      <td>0</td>\n",
              "      <td>1</td>\n",
              "      <td>1</td>\n",
              "      <td>0</td>\n",
              "      <td>1</td>\n",
              "      <td>0</td>\n",
              "      <td>1</td>\n",
              "      <td>0</td>\n",
              "      <td>0</td>\n",
              "      <td>...</td>\n",
              "      <td>1</td>\n",
              "      <td>1</td>\n",
              "      <td>1</td>\n",
              "      <td>1</td>\n",
              "      <td>1</td>\n",
              "      <td>1</td>\n",
              "      <td>1</td>\n",
              "      <td>0</td>\n",
              "      <td>1</td>\n",
              "      <td>1</td>\n",
              "    </tr>\n",
              "    <tr>\n",
              "      <th>3</th>\n",
              "      <td>1</td>\n",
              "      <td>1</td>\n",
              "      <td>0</td>\n",
              "      <td>1</td>\n",
              "      <td>1</td>\n",
              "      <td>1</td>\n",
              "      <td>1</td>\n",
              "      <td>1</td>\n",
              "      <td>0</td>\n",
              "      <td>1</td>\n",
              "      <td>...</td>\n",
              "      <td>1</td>\n",
              "      <td>1</td>\n",
              "      <td>1</td>\n",
              "      <td>1</td>\n",
              "      <td>1</td>\n",
              "      <td>1</td>\n",
              "      <td>1</td>\n",
              "      <td>1</td>\n",
              "      <td>0</td>\n",
              "      <td>0</td>\n",
              "    </tr>\n",
              "    <tr>\n",
              "      <th>4</th>\n",
              "      <td>0</td>\n",
              "      <td>1</td>\n",
              "      <td>1</td>\n",
              "      <td>0</td>\n",
              "      <td>1</td>\n",
              "      <td>0</td>\n",
              "      <td>0</td>\n",
              "      <td>1</td>\n",
              "      <td>1</td>\n",
              "      <td>0</td>\n",
              "      <td>...</td>\n",
              "      <td>0</td>\n",
              "      <td>1</td>\n",
              "      <td>0</td>\n",
              "      <td>0</td>\n",
              "      <td>0</td>\n",
              "      <td>1</td>\n",
              "      <td>1</td>\n",
              "      <td>1</td>\n",
              "      <td>0</td>\n",
              "      <td>0</td>\n",
              "    </tr>\n",
              "    <tr>\n",
              "      <th>...</th>\n",
              "      <td>...</td>\n",
              "      <td>...</td>\n",
              "      <td>...</td>\n",
              "      <td>...</td>\n",
              "      <td>...</td>\n",
              "      <td>...</td>\n",
              "      <td>...</td>\n",
              "      <td>...</td>\n",
              "      <td>...</td>\n",
              "      <td>...</td>\n",
              "      <td>...</td>\n",
              "      <td>...</td>\n",
              "      <td>...</td>\n",
              "      <td>...</td>\n",
              "      <td>...</td>\n",
              "      <td>...</td>\n",
              "      <td>...</td>\n",
              "      <td>...</td>\n",
              "      <td>...</td>\n",
              "      <td>...</td>\n",
              "      <td>...</td>\n",
              "    </tr>\n",
              "    <tr>\n",
              "      <th>3403</th>\n",
              "      <td>1</td>\n",
              "      <td>1</td>\n",
              "      <td>1</td>\n",
              "      <td>1</td>\n",
              "      <td>0</td>\n",
              "      <td>1</td>\n",
              "      <td>1</td>\n",
              "      <td>0</td>\n",
              "      <td>0</td>\n",
              "      <td>1</td>\n",
              "      <td>...</td>\n",
              "      <td>1</td>\n",
              "      <td>1</td>\n",
              "      <td>1</td>\n",
              "      <td>1</td>\n",
              "      <td>1</td>\n",
              "      <td>1</td>\n",
              "      <td>0</td>\n",
              "      <td>0</td>\n",
              "      <td>0</td>\n",
              "      <td>0</td>\n",
              "    </tr>\n",
              "    <tr>\n",
              "      <th>3404</th>\n",
              "      <td>1</td>\n",
              "      <td>1</td>\n",
              "      <td>0</td>\n",
              "      <td>1</td>\n",
              "      <td>0</td>\n",
              "      <td>1</td>\n",
              "      <td>1</td>\n",
              "      <td>1</td>\n",
              "      <td>1</td>\n",
              "      <td>0</td>\n",
              "      <td>...</td>\n",
              "      <td>1</td>\n",
              "      <td>0</td>\n",
              "      <td>1</td>\n",
              "      <td>0</td>\n",
              "      <td>1</td>\n",
              "      <td>1</td>\n",
              "      <td>1</td>\n",
              "      <td>0</td>\n",
              "      <td>1</td>\n",
              "      <td>1</td>\n",
              "    </tr>\n",
              "    <tr>\n",
              "      <th>3405</th>\n",
              "      <td>0</td>\n",
              "      <td>1</td>\n",
              "      <td>1</td>\n",
              "      <td>1</td>\n",
              "      <td>0</td>\n",
              "      <td>1</td>\n",
              "      <td>0</td>\n",
              "      <td>0</td>\n",
              "      <td>0</td>\n",
              "      <td>1</td>\n",
              "      <td>...</td>\n",
              "      <td>0</td>\n",
              "      <td>1</td>\n",
              "      <td>1</td>\n",
              "      <td>0</td>\n",
              "      <td>0</td>\n",
              "      <td>1</td>\n",
              "      <td>0</td>\n",
              "      <td>1</td>\n",
              "      <td>0</td>\n",
              "      <td>0</td>\n",
              "    </tr>\n",
              "    <tr>\n",
              "      <th>3406</th>\n",
              "      <td>0</td>\n",
              "      <td>0</td>\n",
              "      <td>0</td>\n",
              "      <td>1</td>\n",
              "      <td>1</td>\n",
              "      <td>0</td>\n",
              "      <td>1</td>\n",
              "      <td>1</td>\n",
              "      <td>1</td>\n",
              "      <td>1</td>\n",
              "      <td>...</td>\n",
              "      <td>0</td>\n",
              "      <td>1</td>\n",
              "      <td>1</td>\n",
              "      <td>1</td>\n",
              "      <td>1</td>\n",
              "      <td>1</td>\n",
              "      <td>1</td>\n",
              "      <td>1</td>\n",
              "      <td>1</td>\n",
              "      <td>0</td>\n",
              "    </tr>\n",
              "    <tr>\n",
              "      <th>3407</th>\n",
              "      <td>1</td>\n",
              "      <td>0</td>\n",
              "      <td>1</td>\n",
              "      <td>1</td>\n",
              "      <td>1</td>\n",
              "      <td>1</td>\n",
              "      <td>1</td>\n",
              "      <td>0</td>\n",
              "      <td>1</td>\n",
              "      <td>0</td>\n",
              "      <td>...</td>\n",
              "      <td>1</td>\n",
              "      <td>0</td>\n",
              "      <td>0</td>\n",
              "      <td>0</td>\n",
              "      <td>1</td>\n",
              "      <td>1</td>\n",
              "      <td>0</td>\n",
              "      <td>1</td>\n",
              "      <td>0</td>\n",
              "      <td>1</td>\n",
              "    </tr>\n",
              "  </tbody>\n",
              "</table>\n",
              "<p>3408 rows × 2000 columns</p>\n",
              "</div>\n",
              "    <div class=\"colab-df-buttons\">\n",
              "\n",
              "  <div class=\"colab-df-container\">\n",
              "    <button class=\"colab-df-convert\" onclick=\"convertToInteractive('df-ffe80628-d004-4ce4-8dc3-705b540533af')\"\n",
              "            title=\"Convert this dataframe to an interactive table.\"\n",
              "            style=\"display:none;\">\n",
              "\n",
              "  <svg xmlns=\"http://www.w3.org/2000/svg\" height=\"24px\" viewBox=\"0 -960 960 960\">\n",
              "    <path d=\"M120-120v-720h720v720H120Zm60-500h600v-160H180v160Zm220 220h160v-160H400v160Zm0 220h160v-160H400v160ZM180-400h160v-160H180v160Zm440 0h160v-160H620v160ZM180-180h160v-160H180v160Zm440 0h160v-160H620v160Z\"/>\n",
              "  </svg>\n",
              "    </button>\n",
              "\n",
              "  <style>\n",
              "    .colab-df-container {\n",
              "      display:flex;\n",
              "      gap: 12px;\n",
              "    }\n",
              "\n",
              "    .colab-df-convert {\n",
              "      background-color: #E8F0FE;\n",
              "      border: none;\n",
              "      border-radius: 50%;\n",
              "      cursor: pointer;\n",
              "      display: none;\n",
              "      fill: #1967D2;\n",
              "      height: 32px;\n",
              "      padding: 0 0 0 0;\n",
              "      width: 32px;\n",
              "    }\n",
              "\n",
              "    .colab-df-convert:hover {\n",
              "      background-color: #E2EBFA;\n",
              "      box-shadow: 0px 1px 2px rgba(60, 64, 67, 0.3), 0px 1px 3px 1px rgba(60, 64, 67, 0.15);\n",
              "      fill: #174EA6;\n",
              "    }\n",
              "\n",
              "    .colab-df-buttons div {\n",
              "      margin-bottom: 4px;\n",
              "    }\n",
              "\n",
              "    [theme=dark] .colab-df-convert {\n",
              "      background-color: #3B4455;\n",
              "      fill: #D2E3FC;\n",
              "    }\n",
              "\n",
              "    [theme=dark] .colab-df-convert:hover {\n",
              "      background-color: #434B5C;\n",
              "      box-shadow: 0px 1px 3px 1px rgba(0, 0, 0, 0.15);\n",
              "      filter: drop-shadow(0px 1px 2px rgba(0, 0, 0, 0.3));\n",
              "      fill: #FFFFFF;\n",
              "    }\n",
              "  </style>\n",
              "\n",
              "    <script>\n",
              "      const buttonEl =\n",
              "        document.querySelector('#df-ffe80628-d004-4ce4-8dc3-705b540533af button.colab-df-convert');\n",
              "      buttonEl.style.display =\n",
              "        google.colab.kernel.accessAllowed ? 'block' : 'none';\n",
              "\n",
              "      async function convertToInteractive(key) {\n",
              "        const element = document.querySelector('#df-ffe80628-d004-4ce4-8dc3-705b540533af');\n",
              "        const dataTable =\n",
              "          await google.colab.kernel.invokeFunction('convertToInteractive',\n",
              "                                                    [key], {});\n",
              "        if (!dataTable) return;\n",
              "\n",
              "        const docLinkHtml = 'Like what you see? Visit the ' +\n",
              "          '<a target=\"_blank\" href=https://colab.research.google.com/notebooks/data_table.ipynb>data table notebook</a>'\n",
              "          + ' to learn more about interactive tables.';\n",
              "        element.innerHTML = '';\n",
              "        dataTable['output_type'] = 'display_data';\n",
              "        await google.colab.output.renderOutput(dataTable, element);\n",
              "        const docLink = document.createElement('div');\n",
              "        docLink.innerHTML = docLinkHtml;\n",
              "        element.appendChild(docLink);\n",
              "      }\n",
              "    </script>\n",
              "  </div>\n",
              "\n",
              "\n",
              "<div id=\"df-cfa965d3-2c21-4047-8e10-31bd2dbcd37a\">\n",
              "  <button class=\"colab-df-quickchart\" onclick=\"quickchart('df-cfa965d3-2c21-4047-8e10-31bd2dbcd37a')\"\n",
              "            title=\"Suggest charts\"\n",
              "            style=\"display:none;\">\n",
              "\n",
              "<svg xmlns=\"http://www.w3.org/2000/svg\" height=\"24px\"viewBox=\"0 0 24 24\"\n",
              "     width=\"24px\">\n",
              "    <g>\n",
              "        <path d=\"M19 3H5c-1.1 0-2 .9-2 2v14c0 1.1.9 2 2 2h14c1.1 0 2-.9 2-2V5c0-1.1-.9-2-2-2zM9 17H7v-7h2v7zm4 0h-2V7h2v10zm4 0h-2v-4h2v4z\"/>\n",
              "    </g>\n",
              "</svg>\n",
              "  </button>\n",
              "\n",
              "<style>\n",
              "  .colab-df-quickchart {\n",
              "      --bg-color: #E8F0FE;\n",
              "      --fill-color: #1967D2;\n",
              "      --hover-bg-color: #E2EBFA;\n",
              "      --hover-fill-color: #174EA6;\n",
              "      --disabled-fill-color: #AAA;\n",
              "      --disabled-bg-color: #DDD;\n",
              "  }\n",
              "\n",
              "  [theme=dark] .colab-df-quickchart {\n",
              "      --bg-color: #3B4455;\n",
              "      --fill-color: #D2E3FC;\n",
              "      --hover-bg-color: #434B5C;\n",
              "      --hover-fill-color: #FFFFFF;\n",
              "      --disabled-bg-color: #3B4455;\n",
              "      --disabled-fill-color: #666;\n",
              "  }\n",
              "\n",
              "  .colab-df-quickchart {\n",
              "    background-color: var(--bg-color);\n",
              "    border: none;\n",
              "    border-radius: 50%;\n",
              "    cursor: pointer;\n",
              "    display: none;\n",
              "    fill: var(--fill-color);\n",
              "    height: 32px;\n",
              "    padding: 0;\n",
              "    width: 32px;\n",
              "  }\n",
              "\n",
              "  .colab-df-quickchart:hover {\n",
              "    background-color: var(--hover-bg-color);\n",
              "    box-shadow: 0 1px 2px rgba(60, 64, 67, 0.3), 0 1px 3px 1px rgba(60, 64, 67, 0.15);\n",
              "    fill: var(--button-hover-fill-color);\n",
              "  }\n",
              "\n",
              "  .colab-df-quickchart-complete:disabled,\n",
              "  .colab-df-quickchart-complete:disabled:hover {\n",
              "    background-color: var(--disabled-bg-color);\n",
              "    fill: var(--disabled-fill-color);\n",
              "    box-shadow: none;\n",
              "  }\n",
              "\n",
              "  .colab-df-spinner {\n",
              "    border: 2px solid var(--fill-color);\n",
              "    border-color: transparent;\n",
              "    border-bottom-color: var(--fill-color);\n",
              "    animation:\n",
              "      spin 1s steps(1) infinite;\n",
              "  }\n",
              "\n",
              "  @keyframes spin {\n",
              "    0% {\n",
              "      border-color: transparent;\n",
              "      border-bottom-color: var(--fill-color);\n",
              "      border-left-color: var(--fill-color);\n",
              "    }\n",
              "    20% {\n",
              "      border-color: transparent;\n",
              "      border-left-color: var(--fill-color);\n",
              "      border-top-color: var(--fill-color);\n",
              "    }\n",
              "    30% {\n",
              "      border-color: transparent;\n",
              "      border-left-color: var(--fill-color);\n",
              "      border-top-color: var(--fill-color);\n",
              "      border-right-color: var(--fill-color);\n",
              "    }\n",
              "    40% {\n",
              "      border-color: transparent;\n",
              "      border-right-color: var(--fill-color);\n",
              "      border-top-color: var(--fill-color);\n",
              "    }\n",
              "    60% {\n",
              "      border-color: transparent;\n",
              "      border-right-color: var(--fill-color);\n",
              "    }\n",
              "    80% {\n",
              "      border-color: transparent;\n",
              "      border-right-color: var(--fill-color);\n",
              "      border-bottom-color: var(--fill-color);\n",
              "    }\n",
              "    90% {\n",
              "      border-color: transparent;\n",
              "      border-bottom-color: var(--fill-color);\n",
              "    }\n",
              "  }\n",
              "</style>\n",
              "\n",
              "  <script>\n",
              "    async function quickchart(key) {\n",
              "      const quickchartButtonEl =\n",
              "        document.querySelector('#' + key + ' button');\n",
              "      quickchartButtonEl.disabled = true;  // To prevent multiple clicks.\n",
              "      quickchartButtonEl.classList.add('colab-df-spinner');\n",
              "      try {\n",
              "        const charts = await google.colab.kernel.invokeFunction(\n",
              "            'suggestCharts', [key], {});\n",
              "      } catch (error) {\n",
              "        console.error('Error during call to suggestCharts:', error);\n",
              "      }\n",
              "      quickchartButtonEl.classList.remove('colab-df-spinner');\n",
              "      quickchartButtonEl.classList.add('colab-df-quickchart-complete');\n",
              "    }\n",
              "    (() => {\n",
              "      let quickchartButtonEl =\n",
              "        document.querySelector('#df-cfa965d3-2c21-4047-8e10-31bd2dbcd37a button');\n",
              "      quickchartButtonEl.style.display =\n",
              "        google.colab.kernel.accessAllowed ? 'block' : 'none';\n",
              "    })();\n",
              "  </script>\n",
              "</div>\n",
              "\n",
              "  <div id=\"id_44b68329-992d-4a8c-b8c0-7112b618e6cf\">\n",
              "    <style>\n",
              "      .colab-df-generate {\n",
              "        background-color: #E8F0FE;\n",
              "        border: none;\n",
              "        border-radius: 50%;\n",
              "        cursor: pointer;\n",
              "        display: none;\n",
              "        fill: #1967D2;\n",
              "        height: 32px;\n",
              "        padding: 0 0 0 0;\n",
              "        width: 32px;\n",
              "      }\n",
              "\n",
              "      .colab-df-generate:hover {\n",
              "        background-color: #E2EBFA;\n",
              "        box-shadow: 0px 1px 2px rgba(60, 64, 67, 0.3), 0px 1px 3px 1px rgba(60, 64, 67, 0.15);\n",
              "        fill: #174EA6;\n",
              "      }\n",
              "\n",
              "      [theme=dark] .colab-df-generate {\n",
              "        background-color: #3B4455;\n",
              "        fill: #D2E3FC;\n",
              "      }\n",
              "\n",
              "      [theme=dark] .colab-df-generate:hover {\n",
              "        background-color: #434B5C;\n",
              "        box-shadow: 0px 1px 3px 1px rgba(0, 0, 0, 0.15);\n",
              "        filter: drop-shadow(0px 1px 2px rgba(0, 0, 0, 0.3));\n",
              "        fill: #FFFFFF;\n",
              "      }\n",
              "    </style>\n",
              "    <button class=\"colab-df-generate\" onclick=\"generateWithVariable('Buffon_df')\"\n",
              "            title=\"Generate code using this dataframe.\"\n",
              "            style=\"display:none;\">\n",
              "\n",
              "  <svg xmlns=\"http://www.w3.org/2000/svg\" height=\"24px\"viewBox=\"0 0 24 24\"\n",
              "       width=\"24px\">\n",
              "    <path d=\"M7,19H8.4L18.45,9,17,7.55,7,17.6ZM5,21V16.75L18.45,3.32a2,2,0,0,1,2.83,0l1.4,1.43a1.91,1.91,0,0,1,.58,1.4,1.91,1.91,0,0,1-.58,1.4L9.25,21ZM18.45,9,17,7.55Zm-12,3A5.31,5.31,0,0,0,4.9,8.1,5.31,5.31,0,0,0,1,6.5,5.31,5.31,0,0,0,4.9,4.9,5.31,5.31,0,0,0,6.5,1,5.31,5.31,0,0,0,8.1,4.9,5.31,5.31,0,0,0,12,6.5,5.46,5.46,0,0,0,6.5,12Z\"/>\n",
              "  </svg>\n",
              "    </button>\n",
              "    <script>\n",
              "      (() => {\n",
              "      const buttonEl =\n",
              "        document.querySelector('#id_44b68329-992d-4a8c-b8c0-7112b618e6cf button.colab-df-generate');\n",
              "      buttonEl.style.display =\n",
              "        google.colab.kernel.accessAllowed ? 'block' : 'none';\n",
              "\n",
              "      buttonEl.onclick = () => {\n",
              "        google.colab.notebook.generateWithVariable('Buffon_df');\n",
              "      }\n",
              "      })();\n",
              "    </script>\n",
              "  </div>\n",
              "\n",
              "    </div>\n",
              "  </div>\n"
            ],
            "application/vnd.google.colaboratory.intrinsic+json": {
              "type": "dataframe",
              "variable_name": "Buffon_df"
            }
          },
          "metadata": {},
          "execution_count": 46
        }
      ]
    },
    {
      "cell_type": "markdown",
      "metadata": {
        "id": "2sor2lMT8A5E"
      },
      "source": [
        "<h2> Distribución de cada muestra"
      ]
    },
    {
      "cell_type": "code",
      "metadata": {
        "colab": {
          "base_uri": "https://localhost:8080/",
          "height": 452
        },
        "outputId": "d08a602e-6712-4ec0-aa1a-39a1edd3d9e4",
        "id": "qXwlhLwE8A5K"
      },
      "source": [
        "Buffon_df.sample(6, axis = 1).hist(sharex= True)\n",
        "plt.show()"
      ],
      "execution_count": 47,
      "outputs": [
        {
          "output_type": "display_data",
          "data": {
            "text/plain": [
              "<Figure size 640x480 with 6 Axes>"
            ],
            "image/png": "[encoded data removed]"
          },
          "metadata": {}
        }
      ]
    },
    {
      "cell_type": "markdown",
      "metadata": {
        "id": "o44FWbcN8A5K"
      },
      "source": [
        "<h2>Distribución de la suma"
      ]
    },
    {
      "cell_type": "code",
      "metadata": {
        "colab": {
          "base_uri": "https://localhost:8080/",
          "height": 458
        },
        "outputId": "c322e05d-d933-4ae5-b5da-85ead52b6fec",
        "id": "6yIu_yka8A5L"
      },
      "source": [
        "suma = Buffon_df.sum()\n",
        "suma"
      ],
      "execution_count": 48,
      "outputs": [
        {
          "output_type": "execute_result",
          "data": {
            "text/plain": [
              "experimento 1       2210\n",
              "experimento 2       2190\n",
              "experimento 3       2182\n",
              "experimento 4       2167\n",
              "experimento 5       2135\n",
              "                    ... \n",
              "experimento 1996    2170\n",
              "experimento 1997    2147\n",
              "experimento 1998    2165\n",
              "experimento 1999    2187\n",
              "experimento 2000    2114\n",
              "Length: 2000, dtype: int64"
            ],
            "text/html": [
              "<div>\n",
              "<style scoped>\n",
              "    .dataframe tbody tr th:only-of-type {\n",
              "        vertical-align: middle;\n",
              "    }\n",
              "\n",
              "    .dataframe tbody tr th {\n",
              "        vertical-align: top;\n",
              "    }\n",
              "\n",
              "    .dataframe thead th {\n",
              "        text-align: right;\n",
              "    }\n",
              "</style>\n",
              "<table border=\"1\" class=\"dataframe\">\n",
              "  <thead>\n",
              "    <tr style=\"text-align: right;\">\n",
              "      <th></th>\n",
              "      <th>0</th>\n",
              "    </tr>\n",
              "  </thead>\n",
              "  <tbody>\n",
              "    <tr>\n",
              "      <th>experimento 1</th>\n",
              "      <td>2210</td>\n",
              "    </tr>\n",
              "    <tr>\n",
              "      <th>experimento 2</th>\n",
              "      <td>2190</td>\n",
              "    </tr>\n",
              "    <tr>\n",
              "      <th>experimento 3</th>\n",
              "      <td>2182</td>\n",
              "    </tr>\n",
              "    <tr>\n",
              "      <th>experimento 4</th>\n",
              "      <td>2167</td>\n",
              "    </tr>\n",
              "    <tr>\n",
              "      <th>experimento 5</th>\n",
              "      <td>2135</td>\n",
              "    </tr>\n",
              "    <tr>\n",
              "      <th>...</th>\n",
              "      <td>...</td>\n",
              "    </tr>\n",
              "    <tr>\n",
              "      <th>experimento 1996</th>\n",
              "      <td>2170</td>\n",
              "    </tr>\n",
              "    <tr>\n",
              "      <th>experimento 1997</th>\n",
              "      <td>2147</td>\n",
              "    </tr>\n",
              "    <tr>\n",
              "      <th>experimento 1998</th>\n",
              "      <td>2165</td>\n",
              "    </tr>\n",
              "    <tr>\n",
              "      <th>experimento 1999</th>\n",
              "      <td>2187</td>\n",
              "    </tr>\n",
              "    <tr>\n",
              "      <th>experimento 2000</th>\n",
              "      <td>2114</td>\n",
              "    </tr>\n",
              "  </tbody>\n",
              "</table>\n",
              "<p>2000 rows × 1 columns</p>\n",
              "</div><br><label><b>dtype:</b> int64</label>"
            ]
          },
          "metadata": {},
          "execution_count": 48
        }
      ]
    },
    {
      "cell_type": "code",
      "source": [
        "suma.hist(bins=30, figsize=(4,3))\n",
        "plt.show()"
      ],
      "metadata": {
        "outputId": "b8d73104-c8ed-45a5-b75b-5dd33e7c1287",
        "colab": {
          "base_uri": "https://localhost:8080/",
          "height": 291
        },
        "id": "bniNexOu8A5L"
      },
      "execution_count": 49,
      "outputs": [
        {
          "output_type": "display_data",
          "data": {
            "text/plain": [
              "<Figure size 400x300 with 1 Axes>"
            ],
            "image/png": "[encoded data removed]"
          },
          "metadata": {}
        }
      ]
    },
    {
      "cell_type": "markdown",
      "metadata": {
        "id": "tl9lm0Lw8A5L"
      },
      "source": [
        "<h2>Distribución de los promedios"
      ]
    },
    {
      "cell_type": "code",
      "metadata": {
        "colab": {
          "base_uri": "https://localhost:8080/",
          "height": 458
        },
        "outputId": "bf59bf51-5bad-4df4-d977-7d0afb1788d2",
        "id": "ScVZEPgU8A5L"
      },
      "source": [
        "medias = Buffon_df.mean()\n",
        "medias"
      ],
      "execution_count": 50,
      "outputs": [
        {
          "output_type": "execute_result",
          "data": {
            "text/plain": [
              "experimento 1       0.648474\n",
              "experimento 2       0.642606\n",
              "experimento 3       0.640258\n",
              "experimento 4       0.635857\n",
              "experimento 5       0.626467\n",
              "                      ...   \n",
              "experimento 1996    0.636737\n",
              "experimento 1997    0.629988\n",
              "experimento 1998    0.635270\n",
              "experimento 1999    0.641725\n",
              "experimento 2000    0.620305\n",
              "Length: 2000, dtype: float64"
            ],
            "text/html": [
              "<div>\n",
              "<style scoped>\n",
              "    .dataframe tbody tr th:only-of-type {\n",
              "        vertical-align: middle;\n",
              "    }\n",
              "\n",
              "    .dataframe tbody tr th {\n",
              "        vertical-align: top;\n",
              "    }\n",
              "\n",
              "    .dataframe thead th {\n",
              "        text-align: right;\n",
              "    }\n",
              "</style>\n",
              "<table border=\"1\" class=\"dataframe\">\n",
              "  <thead>\n",
              "    <tr style=\"text-align: right;\">\n",
              "      <th></th>\n",
              "      <th>0</th>\n",
              "    </tr>\n",
              "  </thead>\n",
              "  <tbody>\n",
              "    <tr>\n",
              "      <th>experimento 1</th>\n",
              "      <td>0.648474</td>\n",
              "    </tr>\n",
              "    <tr>\n",
              "      <th>experimento 2</th>\n",
              "      <td>0.642606</td>\n",
              "    </tr>\n",
              "    <tr>\n",
              "      <th>experimento 3</th>\n",
              "      <td>0.640258</td>\n",
              "    </tr>\n",
              "    <tr>\n",
              "      <th>experimento 4</th>\n",
              "      <td>0.635857</td>\n",
              "    </tr>\n",
              "    <tr>\n",
              "      <th>experimento 5</th>\n",
              "      <td>0.626467</td>\n",
              "    </tr>\n",
              "    <tr>\n",
              "      <th>...</th>\n",
              "      <td>...</td>\n",
              "    </tr>\n",
              "    <tr>\n",
              "      <th>experimento 1996</th>\n",
              "      <td>0.636737</td>\n",
              "    </tr>\n",
              "    <tr>\n",
              "      <th>experimento 1997</th>\n",
              "      <td>0.629988</td>\n",
              "    </tr>\n",
              "    <tr>\n",
              "      <th>experimento 1998</th>\n",
              "      <td>0.635270</td>\n",
              "    </tr>\n",
              "    <tr>\n",
              "      <th>experimento 1999</th>\n",
              "      <td>0.641725</td>\n",
              "    </tr>\n",
              "    <tr>\n",
              "      <th>experimento 2000</th>\n",
              "      <td>0.620305</td>\n",
              "    </tr>\n",
              "  </tbody>\n",
              "</table>\n",
              "<p>2000 rows × 1 columns</p>\n",
              "</div><br><label><b>dtype:</b> float64</label>"
            ]
          },
          "metadata": {},
          "execution_count": 50
        }
      ]
    },
    {
      "cell_type": "code",
      "source": [
        "medias.hist(bins=30, figsize=(4,3))\n",
        "plt.show()"
      ],
      "metadata": {
        "colab": {
          "base_uri": "https://localhost:8080/",
          "height": 291
        },
        "outputId": "3794a44c-e5db-4545-df7b-c85f98208463",
        "id": "ABSz_ne_8A5L"
      },
      "execution_count": 51,
      "outputs": [
        {
          "output_type": "display_data",
          "data": {
            "text/plain": [
              "<Figure size 400x300 with 1 Axes>"
            ],
            "image/png": "[encoded data removed]"
          },
          "metadata": {}
        }
      ]
    },
    {
      "cell_type": "markdown",
      "source": [
        "<h2>Distribución de los errores"
      ],
      "metadata": {
        "id": "Iak1MSIU8A5L"
      }
    },
    {
      "cell_type": "code",
      "metadata": {
        "colab": {
          "base_uri": "https://localhost:8080/",
          "height": 458
        },
        "outputId": "b1df32d8-be88-4c67-cf81-f4c8dc556b69",
        "id": "DQ8U5p-U8A5L"
      },
      "source": [
        "errores = 2/np.pi - medias\n",
        "errores"
      ],
      "execution_count": 52,
      "outputs": [
        {
          "output_type": "execute_result",
          "data": {
            "text/plain": [
              "experimento 1      -0.011854\n",
              "experimento 2      -0.005986\n",
              "experimento 3      -0.003638\n",
              "experimento 4       0.000763\n",
              "experimento 5       0.010153\n",
              "                      ...   \n",
              "experimento 1996   -0.000117\n",
              "experimento 1997    0.006632\n",
              "experimento 1998    0.001350\n",
              "experimento 1999   -0.005106\n",
              "experimento 2000    0.016315\n",
              "Length: 2000, dtype: float64"
            ],
            "text/html": [
              "<div>\n",
              "<style scoped>\n",
              "    .dataframe tbody tr th:only-of-type {\n",
              "        vertical-align: middle;\n",
              "    }\n",
              "\n",
              "    .dataframe tbody tr th {\n",
              "        vertical-align: top;\n",
              "    }\n",
              "\n",
              "    .dataframe thead th {\n",
              "        text-align: right;\n",
              "    }\n",
              "</style>\n",
              "<table border=\"1\" class=\"dataframe\">\n",
              "  <thead>\n",
              "    <tr style=\"text-align: right;\">\n",
              "      <th></th>\n",
              "      <th>0</th>\n",
              "    </tr>\n",
              "  </thead>\n",
              "  <tbody>\n",
              "    <tr>\n",
              "      <th>experimento 1</th>\n",
              "      <td>-0.011854</td>\n",
              "    </tr>\n",
              "    <tr>\n",
              "      <th>experimento 2</th>\n",
              "      <td>-0.005986</td>\n",
              "    </tr>\n",
              "    <tr>\n",
              "      <th>experimento 3</th>\n",
              "      <td>-0.003638</td>\n",
              "    </tr>\n",
              "    <tr>\n",
              "      <th>experimento 4</th>\n",
              "      <td>0.000763</td>\n",
              "    </tr>\n",
              "    <tr>\n",
              "      <th>experimento 5</th>\n",
              "      <td>0.010153</td>\n",
              "    </tr>\n",
              "    <tr>\n",
              "      <th>...</th>\n",
              "      <td>...</td>\n",
              "    </tr>\n",
              "    <tr>\n",
              "      <th>experimento 1996</th>\n",
              "      <td>-0.000117</td>\n",
              "    </tr>\n",
              "    <tr>\n",
              "      <th>experimento 1997</th>\n",
              "      <td>0.006632</td>\n",
              "    </tr>\n",
              "    <tr>\n",
              "      <th>experimento 1998</th>\n",
              "      <td>0.001350</td>\n",
              "    </tr>\n",
              "    <tr>\n",
              "      <th>experimento 1999</th>\n",
              "      <td>-0.005106</td>\n",
              "    </tr>\n",
              "    <tr>\n",
              "      <th>experimento 2000</th>\n",
              "      <td>0.016315</td>\n",
              "    </tr>\n",
              "  </tbody>\n",
              "</table>\n",
              "<p>2000 rows × 1 columns</p>\n",
              "</div><br><label><b>dtype:</b> float64</label>"
            ]
          },
          "metadata": {},
          "execution_count": 52
        }
      ]
    },
    {
      "cell_type": "code",
      "metadata": {
        "colab": {
          "base_uri": "https://localhost:8080/",
          "height": 291
        },
        "outputId": "1a8b2a80-1e27-4417-a284-5a4e04d965df",
        "id": "nLP8BKCa8A5L"
      },
      "source": [
        "errores.hist(bins=30, figsize=(4,3))\n",
        "plt.show()"
      ],
      "execution_count": 53,
      "outputs": [
        {
          "output_type": "display_data",
          "data": {
            "text/plain": [
              "<Figure size 400x300 with 1 Axes>"
            ],
            "image/png": "[encoded data removed]"
          },
          "metadata": {}
        }
      ]
    },
    {
      "cell_type": "code",
      "source": [
        "# podemos llegar a la distribución normal estándar\n",
        "var = (2/np.pi)*(1-(2/np.pi))     # var = p(1-p)\n",
        "sigma = np.sqrt(var)\n",
        "\n",
        "(errores/(sigma/np.sqrt(n))).hist(bins=30, figsize=(4,3))\n",
        "plt.show()"
      ],
      "metadata": {
        "colab": {
          "base_uri": "https://localhost:8080/",
          "height": 291
        },
        "id": "AtBZC9fuCxaW",
        "outputId": "678c5d75-6d38-4aee-8e96-2dae6b2b42cf"
      },
      "execution_count": 54,
      "outputs": [
        {
          "output_type": "display_data",
          "data": {
            "text/plain": [
              "<Figure size 400x300 with 1 Axes>"
            ],
            "image/png": "[encoded data removed]"
          },
          "metadata": {}
        }
      ]
    },
    {
      "cell_type": "markdown",
      "metadata": {
        "id": "vM6KSyr20BqS"
      },
      "source": [
        "# Distribución Bernoulli (obtener una vocal)"
      ]
    },
    {
      "cell_type": "markdown",
      "metadata": {
        "id": "zdMWKVsV1UFW"
      },
      "source": [
        "<h2> Preprocesar libro y obtener probabilidades de los caracteres"
      ]
    },
    {
      "cell_type": "code",
      "source": [
        "from google.colab import drive\n",
        "drive.mount('/content/drive')"
      ],
      "metadata": {
        "colab": {
          "base_uri": "https://localhost:8080/"
        },
        "id": "zLggk11K5qWI",
        "outputId": "e656ea1b-2e8b-45db-9cd0-673312f118be"
      },
      "execution_count": 55,
      "outputs": [
        {
          "output_type": "stream",
          "name": "stdout",
          "text": [
            "Mounted at /content/drive\n"
          ]
        }
      ]
    },
    {
      "cell_type": "code",
      "metadata": {
        "id": "SIfWx3huarFt"
      },
      "source": [
        "#Leer libro\n",
        "libro = leer_libro('/content/drive/MyDrive/Datos/gabriel_garcia_marquez_cien_annos_soledad.txt')\n",
        "borrar = ['Gabriel García Márquez',\n",
        "          'Cien años de soledad',\n",
        "          'EDITADO POR \"EDICIONES LA CUEVA\"',\n",
        "          'Para J omi García Ascot y María Luisa Elio']\n",
        "\n",
        "libro =  borrar_elementos(libro, borrar)\n",
        "libro_limpio = limpiar_texto(libro)"
      ],
      "execution_count": 56,
      "outputs": []
    },
    {
      "cell_type": "code",
      "metadata": {
        "id": "hnKktAPOmPJa",
        "colab": {
          "base_uri": "https://localhost:8080/"
        },
        "outputId": "6d126ea5-5271-49ed-a37e-c1fc1d502e19"
      },
      "source": [
        "#Cargar csv con distribución de probabilidad de letras\n",
        "Ley_P_letras = pd.read_csv('https://raw.githubusercontent.com/AnIsAsPe/ElementosEstadisticaMachineLearningPython/master/Semana4/Ley_Probabilidad_caracteres_100a%C3%B1os.csv')\n",
        "\n",
        "# Calcular la probabilidad de obtener una vocal\n",
        "\n",
        "filtro_vocal = Ley_P_letras['caracter'].isin(list('aeiou'))\n",
        "p = Ley_P_letras.loc[filtro_vocal, 'probabilidad'].sum()\n",
        "p"
      ],
      "execution_count": 57,
      "outputs": [
        {
          "output_type": "execute_result",
          "data": {
            "text/plain": [
              "0.38405272562528125"
            ]
          },
          "metadata": {},
          "execution_count": 57
        }
      ]
    },
    {
      "cell_type": "code",
      "metadata": {
        "id": "PzdUhOh9S0la",
        "colab": {
          "base_uri": "https://localhost:8080/",
          "height": 430
        },
        "outputId": "be7dc3e2-f57c-479b-d745-9457cf70cb13"
      },
      "source": [
        "# Distribución bernoulli\n",
        "\n",
        "plt.bar(['vocal','no_vocal'],[p, 1-p])\n",
        "plt.show()"
      ],
      "execution_count": 58,
      "outputs": [
        {
          "output_type": "display_data",
          "data": {
            "text/plain": [
              "<Figure size 640x480 with 1 Axes>"
            ],
            "image/png": "[encoded data removed]"
          },
          "metadata": {}
        }
      ]
    },
    {
      "cell_type": "markdown",
      "metadata": {
        "id": "Az4U8M9tG0pu"
      },
      "source": [
        "<h2> Obtener muestras"
      ]
    },
    {
      "cell_type": "code",
      "metadata": {
        "id": "Lmm6XVOeKpt9",
        "colab": {
          "base_uri": "https://localhost:8080/"
        },
        "outputId": "58bb2a87-796c-4ba1-e63e-215790548c61"
      },
      "source": [
        "%%time\n",
        "n = 400 # tamaño de la muestra\n",
        "m = 100000 # número de muestras\n",
        "\n",
        "muestras=pd.DataFrame()\n",
        "muestras['texto'] = (genera_muestras_de_texto(libro_limpio, grado = 0,\n",
        "                                              num_muestras = m, tam_muestra=n))\n",
        "indice=pd.Series(['muestra_'+str(i) for i in range (1, m+1)])\n",
        "muestras.index=indice\n",
        "muestras['vocales'] = muestras['texto'].apply(cuenta_vocales)\n",
        "muestras['p_estimada'] = muestras['vocales']/n\n",
        "muestras['errores']= p - muestras['vocales']/n"
      ],
      "execution_count": 59,
      "outputs": [
        {
          "output_type": "stream",
          "name": "stdout",
          "text": [
            "CPU times: user 30.1 s, sys: 22.3 ms, total: 30.1 s\n",
            "Wall time: 33.7 s\n"
          ]
        }
      ]
    },
    {
      "cell_type": "code",
      "source": [
        "muestras.head()"
      ],
      "metadata": {
        "colab": {
          "base_uri": "https://localhost:8080/",
          "height": 206
        },
        "id": "enXrydDmZHb7",
        "outputId": "0d4cdb44-73db-4bfc-a037-b6dc32ee3f94"
      },
      "execution_count": 60,
      "outputs": [
        {
          "output_type": "execute_result",
          "data": {
            "text/plain": [
              "                                                       texto  vocales  \\\n",
              "muestra_1  dadan eepeau abagt eseat ca qee t iinfnsmsmoed...      171   \n",
              "muestra_2  al elusst eaeeo qnptmo ohsesrrsoicossasamedaia...      140   \n",
              "muestra_3  aaeo autd pacaxr lesaea   aaus nneaul  raeo  m...      164   \n",
              "muestra_4  blaclruiazrvuse rsvuaesc snt  nepmraepls crapl...      148   \n",
              "muestra_5   a ien nqoapc rm  aeesscseoaalalrecleelqooexsn...      151   \n",
              "\n",
              "           p_estimada   errores  \n",
              "muestra_1      0.4275 -0.043447  \n",
              "muestra_2      0.3500  0.034053  \n",
              "muestra_3      0.4100 -0.025947  \n",
              "muestra_4      0.3700  0.014053  \n",
              "muestra_5      0.3775  0.006553  "
            ],
            "text/html": [
              "\n",
              "  <div id=\"df-b356d42e-b2e4-403c-b179-269bc18e79c5\" class=\"colab-df-container\">\n",
              "    <div>\n",
              "<style scoped>\n",
              "    .dataframe tbody tr th:only-of-type {\n",
              "        vertical-align: middle;\n",
              "    }\n",
              "\n",
              "    .dataframe tbody tr th {\n",
              "        vertical-align: top;\n",
              "    }\n",
              "\n",
              "    .dataframe thead th {\n",
              "        text-align: right;\n",
              "    }\n",
              "</style>\n",
              "<table border=\"1\" class=\"dataframe\">\n",
              "  <thead>\n",
              "    <tr style=\"text-align: right;\">\n",
              "      <th></th>\n",
              "      <th>texto</th>\n",
              "      <th>vocales</th>\n",
              "      <th>p_estimada</th>\n",
              "      <th>errores</th>\n",
              "    </tr>\n",
              "  </thead>\n",
              "  <tbody>\n",
              "    <tr>\n",
              "      <th>muestra_1</th>\n",
              "      <td>dadan eepeau abagt eseat ca qee t iinfnsmsmoed...</td>\n",
              "      <td>171</td>\n",
              "      <td>0.4275</td>\n",
              "      <td>-0.043447</td>\n",
              "    </tr>\n",
              "    <tr>\n",
              "      <th>muestra_2</th>\n",
              "      <td>al elusst eaeeo qnptmo ohsesrrsoicossasamedaia...</td>\n",
              "      <td>140</td>\n",
              "      <td>0.3500</td>\n",
              "      <td>0.034053</td>\n",
              "    </tr>\n",
              "    <tr>\n",
              "      <th>muestra_3</th>\n",
              "      <td>aaeo autd pacaxr lesaea   aaus nneaul  raeo  m...</td>\n",
              "      <td>164</td>\n",
              "      <td>0.4100</td>\n",
              "      <td>-0.025947</td>\n",
              "    </tr>\n",
              "    <tr>\n",
              "      <th>muestra_4</th>\n",
              "      <td>blaclruiazrvuse rsvuaesc snt  nepmraepls crapl...</td>\n",
              "      <td>148</td>\n",
              "      <td>0.3700</td>\n",
              "      <td>0.014053</td>\n",
              "    </tr>\n",
              "    <tr>\n",
              "      <th>muestra_5</th>\n",
              "      <td>a ien nqoapc rm  aeesscseoaalalrecleelqooexsn...</td>\n",
              "      <td>151</td>\n",
              "      <td>0.3775</td>\n",
              "      <td>0.006553</td>\n",
              "    </tr>\n",
              "  </tbody>\n",
              "</table>\n",
              "</div>\n",
              "    <div class=\"colab-df-buttons\">\n",
              "\n",
              "  <div class=\"colab-df-container\">\n",
              "    <button class=\"colab-df-convert\" onclick=\"convertToInteractive('df-b356d42e-b2e4-403c-b179-269bc18e79c5')\"\n",
              "            title=\"Convert this dataframe to an interactive table.\"\n",
              "            style=\"display:none;\">\n",
              "\n",
              "  <svg xmlns=\"http://www.w3.org/2000/svg\" height=\"24px\" viewBox=\"0 -960 960 960\">\n",
              "    <path d=\"M120-120v-720h720v720H120Zm60-500h600v-160H180v160Zm220 220h160v-160H400v160Zm0 220h160v-160H400v160ZM180-400h160v-160H180v160Zm440 0h160v-160H620v160ZM180-180h160v-160H180v160Zm440 0h160v-160H620v160Z\"/>\n",
              "  </svg>\n",
              "    </button>\n",
              "\n",
              "  <style>\n",
              "    .colab-df-container {\n",
              "      display:flex;\n",
              "      gap: 12px;\n",
              "    }\n",
              "\n",
              "    .colab-df-convert {\n",
              "      background-color: #E8F0FE;\n",
              "      border: none;\n",
              "      border-radius: 50%;\n",
              "      cursor: pointer;\n",
              "      display: none;\n",
              "      fill: #1967D2;\n",
              "      height: 32px;\n",
              "      padding: 0 0 0 0;\n",
              "      width: 32px;\n",
              "    }\n",
              "\n",
              "    .colab-df-convert:hover {\n",
              "      background-color: #E2EBFA;\n",
              "      box-shadow: 0px 1px 2px rgba(60, 64, 67, 0.3), 0px 1px 3px 1px rgba(60, 64, 67, 0.15);\n",
              "      fill: #174EA6;\n",
              "    }\n",
              "\n",
              "    .colab-df-buttons div {\n",
              "      margin-bottom: 4px;\n",
              "    }\n",
              "\n",
              "    [theme=dark] .colab-df-convert {\n",
              "      background-color: #3B4455;\n",
              "      fill: #D2E3FC;\n",
              "    }\n",
              "\n",
              "    [theme=dark] .colab-df-convert:hover {\n",
              "      background-color: #434B5C;\n",
              "      box-shadow: 0px 1px 3px 1px rgba(0, 0, 0, 0.15);\n",
              "      filter: drop-shadow(0px 1px 2px rgba(0, 0, 0, 0.3));\n",
              "      fill: #FFFFFF;\n",
              "    }\n",
              "  </style>\n",
              "\n",
              "    <script>\n",
              "      const buttonEl =\n",
              "        document.querySelector('#df-b356d42e-b2e4-403c-b179-269bc18e79c5 button.colab-df-convert');\n",
              "      buttonEl.style.display =\n",
              "        google.colab.kernel.accessAllowed ? 'block' : 'none';\n",
              "\n",
              "      async function convertToInteractive(key) {\n",
              "        const element = document.querySelector('#df-b356d42e-b2e4-403c-b179-269bc18e79c5');\n",
              "        const dataTable =\n",
              "          await google.colab.kernel.invokeFunction('convertToInteractive',\n",
              "                                                    [key], {});\n",
              "        if (!dataTable) return;\n",
              "\n",
              "        const docLinkHtml = 'Like what you see? Visit the ' +\n",
              "          '<a target=\"_blank\" href=https://colab.research.google.com/notebooks/data_table.ipynb>data table notebook</a>'\n",
              "          + ' to learn more about interactive tables.';\n",
              "        element.innerHTML = '';\n",
              "        dataTable['output_type'] = 'display_data';\n",
              "        await google.colab.output.renderOutput(dataTable, element);\n",
              "        const docLink = document.createElement('div');\n",
              "        docLink.innerHTML = docLinkHtml;\n",
              "        element.appendChild(docLink);\n",
              "      }\n",
              "    </script>\n",
              "  </div>\n",
              "\n",
              "\n",
              "<div id=\"df-5f1d5bab-972d-4edf-b4b4-c13e33691a6d\">\n",
              "  <button class=\"colab-df-quickchart\" onclick=\"quickchart('df-5f1d5bab-972d-4edf-b4b4-c13e33691a6d')\"\n",
              "            title=\"Suggest charts\"\n",
              "            style=\"display:none;\">\n",
              "\n",
              "<svg xmlns=\"http://www.w3.org/2000/svg\" height=\"24px\"viewBox=\"0 0 24 24\"\n",
              "     width=\"24px\">\n",
              "    <g>\n",
              "        <path d=\"M19 3H5c-1.1 0-2 .9-2 2v14c0 1.1.9 2 2 2h14c1.1 0 2-.9 2-2V5c0-1.1-.9-2-2-2zM9 17H7v-7h2v7zm4 0h-2V7h2v10zm4 0h-2v-4h2v4z\"/>\n",
              "    </g>\n",
              "</svg>\n",
              "  </button>\n",
              "\n",
              "<style>\n",
              "  .colab-df-quickchart {\n",
              "      --bg-color: #E8F0FE;\n",
              "      --fill-color: #1967D2;\n",
              "      --hover-bg-color: #E2EBFA;\n",
              "      --hover-fill-color: #174EA6;\n",
              "      --disabled-fill-color: #AAA;\n",
              "      --disabled-bg-color: #DDD;\n",
              "  }\n",
              "\n",
              "  [theme=dark] .colab-df-quickchart {\n",
              "      --bg-color: #3B4455;\n",
              "      --fill-color: #D2E3FC;\n",
              "      --hover-bg-color: #434B5C;\n",
              "      --hover-fill-color: #FFFFFF;\n",
              "      --disabled-bg-color: #3B4455;\n",
              "      --disabled-fill-color: #666;\n",
              "  }\n",
              "\n",
              "  .colab-df-quickchart {\n",
              "    background-color: var(--bg-color);\n",
              "    border: none;\n",
              "    border-radius: 50%;\n",
              "    cursor: pointer;\n",
              "    display: none;\n",
              "    fill: var(--fill-color);\n",
              "    height: 32px;\n",
              "    padding: 0;\n",
              "    width: 32px;\n",
              "  }\n",
              "\n",
              "  .colab-df-quickchart:hover {\n",
              "    background-color: var(--hover-bg-color);\n",
              "    box-shadow: 0 1px 2px rgba(60, 64, 67, 0.3), 0 1px 3px 1px rgba(60, 64, 67, 0.15);\n",
              "    fill: var(--button-hover-fill-color);\n",
              "  }\n",
              "\n",
              "  .colab-df-quickchart-complete:disabled,\n",
              "  .colab-df-quickchart-complete:disabled:hover {\n",
              "    background-color: var(--disabled-bg-color);\n",
              "    fill: var(--disabled-fill-color);\n",
              "    box-shadow: none;\n",
              "  }\n",
              "\n",
              "  .colab-df-spinner {\n",
              "    border: 2px solid var(--fill-color);\n",
              "    border-color: transparent;\n",
              "    border-bottom-color: var(--fill-color);\n",
              "    animation:\n",
              "      spin 1s steps(1) infinite;\n",
              "  }\n",
              "\n",
              "  @keyframes spin {\n",
              "    0% {\n",
              "      border-color: transparent;\n",
              "      border-bottom-color: var(--fill-color);\n",
              "      border-left-color: var(--fill-color);\n",
              "    }\n",
              "    20% {\n",
              "      border-color: transparent;\n",
              "      border-left-color: var(--fill-color);\n",
              "      border-top-color: var(--fill-color);\n",
              "    }\n",
              "    30% {\n",
              "      border-color: transparent;\n",
              "      border-left-color: var(--fill-color);\n",
              "      border-top-color: var(--fill-color);\n",
              "      border-right-color: var(--fill-color);\n",
              "    }\n",
              "    40% {\n",
              "      border-color: transparent;\n",
              "      border-right-color: var(--fill-color);\n",
              "      border-top-color: var(--fill-color);\n",
              "    }\n",
              "    60% {\n",
              "      border-color: transparent;\n",
              "      border-right-color: var(--fill-color);\n",
              "    }\n",
              "    80% {\n",
              "      border-color: transparent;\n",
              "      border-right-color: var(--fill-color);\n",
              "      border-bottom-color: var(--fill-color);\n",
              "    }\n",
              "    90% {\n",
              "      border-color: transparent;\n",
              "      border-bottom-color: var(--fill-color);\n",
              "    }\n",
              "  }\n",
              "</style>\n",
              "\n",
              "  <script>\n",
              "    async function quickchart(key) {\n",
              "      const quickchartButtonEl =\n",
              "        document.querySelector('#' + key + ' button');\n",
              "      quickchartButtonEl.disabled = true;  // To prevent multiple clicks.\n",
              "      quickchartButtonEl.classList.add('colab-df-spinner');\n",
              "      try {\n",
              "        const charts = await google.colab.kernel.invokeFunction(\n",
              "            'suggestCharts', [key], {});\n",
              "      } catch (error) {\n",
              "        console.error('Error during call to suggestCharts:', error);\n",
              "      }\n",
              "      quickchartButtonEl.classList.remove('colab-df-spinner');\n",
              "      quickchartButtonEl.classList.add('colab-df-quickchart-complete');\n",
              "    }\n",
              "    (() => {\n",
              "      let quickchartButtonEl =\n",
              "        document.querySelector('#df-5f1d5bab-972d-4edf-b4b4-c13e33691a6d button');\n",
              "      quickchartButtonEl.style.display =\n",
              "        google.colab.kernel.accessAllowed ? 'block' : 'none';\n",
              "    })();\n",
              "  </script>\n",
              "</div>\n",
              "\n",
              "    </div>\n",
              "  </div>\n"
            ],
            "application/vnd.google.colaboratory.intrinsic+json": {
              "type": "dataframe",
              "variable_name": "muestras",
              "summary": "{\n  \"name\": \"muestras\",\n  \"rows\": 100000,\n  \"fields\": [\n    {\n      \"column\": \"texto\",\n      \"properties\": {\n        \"dtype\": \"string\",\n        \"num_unique_values\": 100000,\n        \"samples\": [\n          \" mlb er   g oruaaoipjiubm rs glginap iatee moduc eadqeursrpaeveolso v mrs srel s l sojasubsnmun e eliohnnarh  a  loo   g cssimesuispitrmet ensmracl ieei  ouo e ebec pn ouee s mr sbcuedo omco  mbln rvnttrsaetnssieetounnatnn ys deo  etucetnqoee ddt co pqesn rcsei   le  atn  n h innrc ir e eyan on a np o aafy naerarlsrr o nddioraterh eorsl reana m pcepgceoavrc t aepds   ro s ia reddegud olsyrolllor s\",\n          \"i apabaubtrn ornc qalerm rjeseraaietdee eolcc lnoruadasevpiron olasedldl urni vao euereererdisda  aat lrl ea popnl s atate e droitonrobec n otadrsto e  sla aoc dnnloi s ad apdl ou eeasdaier  sscaye reanr lgor oc  rsmnmd smslaniaerdo naru ir aaeayuoo utorunse baocopmtldoieed l l i umemd sapadseqsl dmrsl tsaurrb l  tcllsoaped eeae iore enjo   toneu o vu oaeriaonure s aerdeii deeseieeosnma nliraa uel\",\n          \"t leuip ce   dqi ataeu ejarnatme ncadn ooa labtcarrirncirsiop lpnqeea ur qcd atrrt   n a aacicdaunnaearnaorcen ud beamrbn aepedrozaaeehqi adnlei dneoaisot cpoubomrdoledalone a unc oraasbo dar ennaelehieoseobl  ietaxaooeroe  ae  bnnboaad uu dlauorrmobaneoi  t ii olns ledfes uellrlebnata eaandnarlraelertmun ordeeeiujrqndmmu mram ofalpeosri a c  p hmceuoaag n lo oy ly bd aafl deiscnndcqelsmhaa cteror\"\n        ],\n        \"semantic_type\": \"\",\n        \"description\": \"\"\n      }\n    },\n    {\n      \"column\": \"vocales\",\n      \"properties\": {\n        \"dtype\": \"number\",\n        \"std\": 9,\n        \"min\": 113,\n        \"max\": 195,\n        \"num_unique_values\": 81,\n        \"samples\": [\n          169,\n          171,\n          145\n        ],\n        \"semantic_type\": \"\",\n        \"description\": \"\"\n      }\n    },\n    {\n      \"column\": \"p_estimada\",\n      \"properties\": {\n        \"dtype\": \"number\",\n        \"std\": 0.024279637494562058,\n        \"min\": 0.2825,\n        \"max\": 0.4875,\n        \"num_unique_values\": 81,\n        \"samples\": [\n          0.4225,\n          0.4275,\n          0.3625\n        ],\n        \"semantic_type\": \"\",\n        \"description\": \"\"\n      }\n    },\n    {\n      \"column\": \"errores\",\n      \"properties\": {\n        \"dtype\": \"number\",\n        \"std\": 0.024279637494562058,\n        \"min\": -0.10344727437471873,\n        \"max\": 0.10155272562528128,\n        \"num_unique_values\": 81,\n        \"samples\": [\n          -0.03844727437471873,\n          -0.043447274374718736,\n          0.021552725625281266\n        ],\n        \"semantic_type\": \"\",\n        \"description\": \"\"\n      }\n    }\n  ]\n}"
            }
          },
          "metadata": {},
          "execution_count": 60
        }
      ]
    },
    {
      "cell_type": "markdown",
      "metadata": {
        "id": "oSs_pcMVD00n"
      },
      "source": [
        "<h2> Distribución de la suma"
      ]
    },
    {
      "cell_type": "code",
      "source": [
        "muestras['vocales'].hist(bins=30, figsize=(4,3))\n",
        "plt.show()"
      ],
      "metadata": {
        "outputId": "bedea423-062d-444e-d2f1-894300bfcecb",
        "colab": {
          "base_uri": "https://localhost:8080/",
          "height": 291
        },
        "id": "IPlTT-egD00t"
      },
      "execution_count": 61,
      "outputs": [
        {
          "output_type": "display_data",
          "data": {
            "text/plain": [
              "<Figure size 400x300 with 1 Axes>"
            ],
            "image/png": "[encoded data removed]"
          },
          "metadata": {}
        }
      ]
    },
    {
      "cell_type": "markdown",
      "metadata": {
        "id": "c3IvUkg7IEo5"
      },
      "source": [
        "<h2> Distribución de los promedios"
      ]
    },
    {
      "cell_type": "code",
      "metadata": {
        "id": "SMmhHg9AKLte",
        "colab": {
          "base_uri": "https://localhost:8080/",
          "height": 291
        },
        "outputId": "66ac31fe-c716-4996-f7ba-79d15ff72824"
      },
      "source": [
        "muestras['p_estimada'].hist(bins=30, figsize=(4,3))\n",
        "plt.show()"
      ],
      "execution_count": 62,
      "outputs": [
        {
          "output_type": "display_data",
          "data": {
            "text/plain": [
              "<Figure size 400x300 with 1 Axes>"
            ],
            "image/png": "[encoded data removed]"
          },
          "metadata": {}
        }
      ]
    },
    {
      "cell_type": "markdown",
      "source": [
        "<h2>Distribución de los errores"
      ],
      "metadata": {
        "id": "Tf102IYyV9Dj"
      }
    },
    {
      "cell_type": "code",
      "metadata": {
        "colab": {
          "base_uri": "https://localhost:8080/",
          "height": 291
        },
        "outputId": "6108baf3-2ebe-4625-cca0-1e766654bc15",
        "id": "c726yOIdV082"
      },
      "source": [
        "muestras['errores'].hist(bins=30, figsize=(4,3))\n",
        "plt.show()"
      ],
      "execution_count": 63,
      "outputs": [
        {
          "output_type": "display_data",
          "data": {
            "text/plain": [
              "<Figure size 400x300 with 1 Axes>"
            ],
            "image/png": "[encoded data removed]"
          },
          "metadata": {}
        }
      ]
    },
    {
      "cell_type": "code",
      "metadata": {
        "colab": {
          "base_uri": "https://localhost:8080/",
          "height": 291
        },
        "outputId": "9bf51d3b-b44a-4b5d-f669-204718d99d0e",
        "id": "PqjJo8FdFBBJ"
      },
      "source": [
        "# podemos llegar a la distribución normal estandar\n",
        "sigma = np.sqrt(p*(1-p))\n",
        "(muestras['errores']/(sigma/np.sqrt(n))).hist(bins=30, figsize=(4,3))\n",
        "plt.show()\n"
      ],
      "execution_count": 64,
      "outputs": [
        {
          "output_type": "display_data",
          "data": {
            "text/plain": [
              "<Figure size 400x300 with 1 Axes>"
            ],
            "image/png": "[encoded data removed]"
          },
          "metadata": {}
        }
      ]
    },
    {
      "cell_type": "markdown",
      "metadata": {
        "id": "sB-LneF7VCfz"
      },
      "source": [
        "# Distribución exponencial (carácteres antes de que salga n)"
      ]
    },
    {
      "cell_type": "code",
      "metadata": {
        "id": "3Peqz9GdPd4A",
        "colab": {
          "base_uri": "https://localhost:8080/",
          "height": 291
        },
        "outputId": "6224ea1a-06a0-4dfe-9a32-1fd032d20195"
      },
      "source": [
        "X = muestras['texto'].apply(cuenta_caracteres_antes_de_n)\n",
        "X.hist(bins=30, figsize=(4,3))\n",
        "plt.show()"
      ],
      "execution_count": 65,
      "outputs": [
        {
          "output_type": "display_data",
          "data": {
            "text/plain": [
              "<Figure size 400x300 with 1 Axes>"
            ],
            "image/png": "[encoded data removed]"
          },
          "metadata": {}
        }
      ]
    },
    {
      "cell_type": "code",
      "metadata": {
        "id": "MfrcWLotg3bE",
        "colab": {
          "base_uri": "https://localhost:8080/"
        },
        "outputId": "c78ad59a-5c4c-4cff-a0d6-c5f69b00d6ff"
      },
      "source": [
        "X.mean()  #  1 / λ"
      ],
      "execution_count": 71,
      "outputs": [
        {
          "output_type": "execute_result",
          "data": {
            "text/plain": [
              "15.76074"
            ]
          },
          "metadata": {},
          "execution_count": 71
        }
      ]
    },
    {
      "cell_type": "markdown",
      "source": [
        "En la [distribución exponencial](https://en.wikipedia.org/wiki/Exponential_distribution)\n",
        "\n",
        "$$ \\mu = \\cfrac{1}{\\lambda}$$\n",
        "\n",
        "$$ \\sigma^2 = \\cfrac{1}{\\lambda^{2}}$$\n",
        "\n"
      ],
      "metadata": {
        "id": "WpTILkFBFaNk"
      }
    },
    {
      "cell_type": "code",
      "source": [
        "sigma = X.mean()"
      ],
      "metadata": {
        "id": "rhgRF4poIKmS"
      },
      "execution_count": 74,
      "outputs": []
    },
    {
      "cell_type": "markdown",
      "metadata": {
        "id": "YBzL3UnDX_Jq"
      },
      "source": [
        "**Ejemplos de fenómenos con distribución exponencial:**\n",
        "- Valores máximos de precipitación diaria\n",
        "- Compras efectuadas por visitantes en página web\n",
        "- Tiempo para que se produzca un fallo\n",
        "\n",
        "\n",
        "¿Qué otros??"
      ]
    },
    {
      "cell_type": "markdown",
      "metadata": {
        "id": "5TLosvSiiCWf"
      },
      "source": [
        "<h2> Obtener muestras"
      ]
    },
    {
      "cell_type": "code",
      "metadata": {
        "id": "yaOo2_TTXswx",
        "colab": {
          "base_uri": "https://localhost:8080/",
          "height": 461
        },
        "outputId": "64e76b7c-6533-4d82-ae4f-b1897b5c22c3"
      },
      "source": [
        "n = 400 # tamaño de la muestra\n",
        "m = 2000 # número de muestras\n",
        "m_exp = {'muestra '+str(i):np.random.choice(X, n) for i in range(1, m+1)}\n",
        "\n",
        "muestras_exp = pd.DataFrame.from_dict(m_exp)\n",
        "muestras_exp"
      ],
      "execution_count": 75,
      "outputs": [
        {
          "output_type": "execute_result",
          "data": {
            "text/plain": [
              "     muestra 1  muestra 2  muestra 3  muestra 4  muestra 5  muestra 6  \\\n",
              "0            0         21          1          7         26         11   \n",
              "1           93         31          2          9         20         16   \n",
              "2            8         11          1         45          6         11   \n",
              "3           16         26          0          3         44          3   \n",
              "4            7          3          0         29         25         49   \n",
              "..         ...        ...        ...        ...        ...        ...   \n",
              "395          0         22         18         12         12         17   \n",
              "396          1         14         19         34         34         21   \n",
              "397         15          7         23         80          3          2   \n",
              "398          0         20          3          3          0         16   \n",
              "399          7          4         23          1         11         47   \n",
              "\n",
              "     muestra 7  muestra 8  muestra 9  muestra 10  ...  muestra 1991  \\\n",
              "0           21         14         34          17  ...             1   \n",
              "1           31         14          0           8  ...            10   \n",
              "2            0         11          6           4  ...            46   \n",
              "3           30         13         22           9  ...            19   \n",
              "4           30          7          6           8  ...             0   \n",
              "..         ...        ...        ...         ...  ...           ...   \n",
              "395          3         21          0          24  ...             3   \n",
              "396          1          3         12           4  ...            20   \n",
              "397         43          1          3          42  ...             1   \n",
              "398         29         30         26           0  ...            54   \n",
              "399         51         48          7          38  ...             2   \n",
              "\n",
              "     muestra 1992  muestra 1993  muestra 1994  muestra 1995  muestra 1996  \\\n",
              "0              14            23            17             8             1   \n",
              "1              44             1            15            11            33   \n",
              "2              19            33             8             0            13   \n",
              "3              16             3             5             6            12   \n",
              "4              20            17            17            27            11   \n",
              "..            ...           ...           ...           ...           ...   \n",
              "395            35             2            40             0            11   \n",
              "396             4             6            23            18             0   \n",
              "397            52            23            22             6             8   \n",
              "398            12             8             5             7            11   \n",
              "399             5            49             1             7            48   \n",
              "\n",
              "     muestra 1997  muestra 1998  muestra 1999  muestra 2000  \n",
              "0              41            14            36            10  \n",
              "1              32            74             1            26  \n",
              "2               2            53            15            19  \n",
              "3               5            41            10             9  \n",
              "4              24            78             0             3  \n",
              "..            ...           ...           ...           ...  \n",
              "395            33             4            29            11  \n",
              "396             0            15             1            28  \n",
              "397            35            14             5            26  \n",
              "398            24            28            24             1  \n",
              "399             7             3            38            13  \n",
              "\n",
              "[400 rows x 2000 columns]"
            ],
            "text/html": [
              "\n",
              "  <div id=\"df-6f589a45-aa15-4390-b0d8-2364874b53f4\" class=\"colab-df-container\">\n",
              "    <div>\n",
              "<style scoped>\n",
              "    .dataframe tbody tr th:only-of-type {\n",
              "        vertical-align: middle;\n",
              "    }\n",
              "\n",
              "    .dataframe tbody tr th {\n",
              "        vertical-align: top;\n",
              "    }\n",
              "\n",
              "    .dataframe thead th {\n",
              "        text-align: right;\n",
              "    }\n",
              "</style>\n",
              "<table border=\"1\" class=\"dataframe\">\n",
              "  <thead>\n",
              "    <tr style=\"text-align: right;\">\n",
              "      <th></th>\n",
              "      <th>muestra 1</th>\n",
              "      <th>muestra 2</th>\n",
              "      <th>muestra 3</th>\n",
              "      <th>muestra 4</th>\n",
              "      <th>muestra 5</th>\n",
              "      <th>muestra 6</th>\n",
              "      <th>muestra 7</th>\n",
              "      <th>muestra 8</th>\n",
              "      <th>muestra 9</th>\n",
              "      <th>muestra 10</th>\n",
              "      <th>...</th>\n",
              "      <th>muestra 1991</th>\n",
              "      <th>muestra 1992</th>\n",
              "      <th>muestra 1993</th>\n",
              "      <th>muestra 1994</th>\n",
              "      <th>muestra 1995</th>\n",
              "      <th>muestra 1996</th>\n",
              "      <th>muestra 1997</th>\n",
              "      <th>muestra 1998</th>\n",
              "      <th>muestra 1999</th>\n",
              "      <th>muestra 2000</th>\n",
              "    </tr>\n",
              "  </thead>\n",
              "  <tbody>\n",
              "    <tr>\n",
              "      <th>0</th>\n",
              "      <td>0</td>\n",
              "      <td>21</td>\n",
              "      <td>1</td>\n",
              "      <td>7</td>\n",
              "      <td>26</td>\n",
              "      <td>11</td>\n",
              "      <td>21</td>\n",
              "      <td>14</td>\n",
              "      <td>34</td>\n",
              "      <td>17</td>\n",
              "      <td>...</td>\n",
              "      <td>1</td>\n",
              "      <td>14</td>\n",
              "      <td>23</td>\n",
              "      <td>17</td>\n",
              "      <td>8</td>\n",
              "      <td>1</td>\n",
              "      <td>41</td>\n",
              "      <td>14</td>\n",
              "      <td>36</td>\n",
              "      <td>10</td>\n",
              "    </tr>\n",
              "    <tr>\n",
              "      <th>1</th>\n",
              "      <td>93</td>\n",
              "      <td>31</td>\n",
              "      <td>2</td>\n",
              "      <td>9</td>\n",
              "      <td>20</td>\n",
              "      <td>16</td>\n",
              "      <td>31</td>\n",
              "      <td>14</td>\n",
              "      <td>0</td>\n",
              "      <td>8</td>\n",
              "      <td>...</td>\n",
              "      <td>10</td>\n",
              "      <td>44</td>\n",
              "      <td>1</td>\n",
              "      <td>15</td>\n",
              "      <td>11</td>\n",
              "      <td>33</td>\n",
              "      <td>32</td>\n",
              "      <td>74</td>\n",
              "      <td>1</td>\n",
              "      <td>26</td>\n",
              "    </tr>\n",
              "    <tr>\n",
              "      <th>2</th>\n",
              "      <td>8</td>\n",
              "      <td>11</td>\n",
              "      <td>1</td>\n",
              "      <td>45</td>\n",
              "      <td>6</td>\n",
              "      <td>11</td>\n",
              "      <td>0</td>\n",
              "      <td>11</td>\n",
              "      <td>6</td>\n",
              "      <td>4</td>\n",
              "      <td>...</td>\n",
              "      <td>46</td>\n",
              "      <td>19</td>\n",
              "      <td>33</td>\n",
              "      <td>8</td>\n",
              "      <td>0</td>\n",
              "      <td>13</td>\n",
              "      <td>2</td>\n",
              "      <td>53</td>\n",
              "      <td>15</td>\n",
              "      <td>19</td>\n",
              "    </tr>\n",
              "    <tr>\n",
              "      <th>3</th>\n",
              "      <td>16</td>\n",
              "      <td>26</td>\n",
              "      <td>0</td>\n",
              "      <td>3</td>\n",
              "      <td>44</td>\n",
              "      <td>3</td>\n",
              "      <td>30</td>\n",
              "      <td>13</td>\n",
              "      <td>22</td>\n",
              "      <td>9</td>\n",
              "      <td>...</td>\n",
              "      <td>19</td>\n",
              "      <td>16</td>\n",
              "      <td>3</td>\n",
              "      <td>5</td>\n",
              "      <td>6</td>\n",
              "      <td>12</td>\n",
              "      <td>5</td>\n",
              "      <td>41</td>\n",
              "      <td>10</td>\n",
              "      <td>9</td>\n",
              "    </tr>\n",
              "    <tr>\n",
              "      <th>4</th>\n",
              "      <td>7</td>\n",
              "      <td>3</td>\n",
              "      <td>0</td>\n",
              "      <td>29</td>\n",
              "      <td>25</td>\n",
              "      <td>49</td>\n",
              "      <td>30</td>\n",
              "      <td>7</td>\n",
              "      <td>6</td>\n",
              "      <td>8</td>\n",
              "      <td>...</td>\n",
              "      <td>0</td>\n",
              "      <td>20</td>\n",
              "      <td>17</td>\n",
              "      <td>17</td>\n",
              "      <td>27</td>\n",
              "      <td>11</td>\n",
              "      <td>24</td>\n",
              "      <td>78</td>\n",
              "      <td>0</td>\n",
              "      <td>3</td>\n",
              "    </tr>\n",
              "    <tr>\n",
              "      <th>...</th>\n",
              "      <td>...</td>\n",
              "      <td>...</td>\n",
              "      <td>...</td>\n",
              "      <td>...</td>\n",
              "      <td>...</td>\n",
              "      <td>...</td>\n",
              "      <td>...</td>\n",
              "      <td>...</td>\n",
              "      <td>...</td>\n",
              "      <td>...</td>\n",
              "      <td>...</td>\n",
              "      <td>...</td>\n",
              "      <td>...</td>\n",
              "      <td>...</td>\n",
              "      <td>...</td>\n",
              "      <td>...</td>\n",
              "      <td>...</td>\n",
              "      <td>...</td>\n",
              "      <td>...</td>\n",
              "      <td>...</td>\n",
              "      <td>...</td>\n",
              "    </tr>\n",
              "    <tr>\n",
              "      <th>395</th>\n",
              "      <td>0</td>\n",
              "      <td>22</td>\n",
              "      <td>18</td>\n",
              "      <td>12</td>\n",
              "      <td>12</td>\n",
              "      <td>17</td>\n",
              "      <td>3</td>\n",
              "      <td>21</td>\n",
              "      <td>0</td>\n",
              "      <td>24</td>\n",
              "      <td>...</td>\n",
              "      <td>3</td>\n",
              "      <td>35</td>\n",
              "      <td>2</td>\n",
              "      <td>40</td>\n",
              "      <td>0</td>\n",
              "      <td>11</td>\n",
              "      <td>33</td>\n",
              "      <td>4</td>\n",
              "      <td>29</td>\n",
              "      <td>11</td>\n",
              "    </tr>\n",
              "    <tr>\n",
              "      <th>396</th>\n",
              "      <td>1</td>\n",
              "      <td>14</td>\n",
              "      <td>19</td>\n",
              "      <td>34</td>\n",
              "      <td>34</td>\n",
              "      <td>21</td>\n",
              "      <td>1</td>\n",
              "      <td>3</td>\n",
              "      <td>12</td>\n",
              "      <td>4</td>\n",
              "      <td>...</td>\n",
              "      <td>20</td>\n",
              "      <td>4</td>\n",
              "      <td>6</td>\n",
              "      <td>23</td>\n",
              "      <td>18</td>\n",
              "      <td>0</td>\n",
              "      <td>0</td>\n",
              "      <td>15</td>\n",
              "      <td>1</td>\n",
              "      <td>28</td>\n",
              "    </tr>\n",
              "    <tr>\n",
              "      <th>397</th>\n",
              "      <td>15</td>\n",
              "      <td>7</td>\n",
              "      <td>23</td>\n",
              "      <td>80</td>\n",
              "      <td>3</td>\n",
              "      <td>2</td>\n",
              "      <td>43</td>\n",
              "      <td>1</td>\n",
              "      <td>3</td>\n",
              "      <td>42</td>\n",
              "      <td>...</td>\n",
              "      <td>1</td>\n",
              "      <td>52</td>\n",
              "      <td>23</td>\n",
              "      <td>22</td>\n",
              "      <td>6</td>\n",
              "      <td>8</td>\n",
              "      <td>35</td>\n",
              "      <td>14</td>\n",
              "      <td>5</td>\n",
              "      <td>26</td>\n",
              "    </tr>\n",
              "    <tr>\n",
              "      <th>398</th>\n",
              "      <td>0</td>\n",
              "      <td>20</td>\n",
              "      <td>3</td>\n",
              "      <td>3</td>\n",
              "      <td>0</td>\n",
              "      <td>16</td>\n",
              "      <td>29</td>\n",
              "      <td>30</td>\n",
              "      <td>26</td>\n",
              "      <td>0</td>\n",
              "      <td>...</td>\n",
              "      <td>54</td>\n",
              "      <td>12</td>\n",
              "      <td>8</td>\n",
              "      <td>5</td>\n",
              "      <td>7</td>\n",
              "      <td>11</td>\n",
              "      <td>24</td>\n",
              "      <td>28</td>\n",
              "      <td>24</td>\n",
              "      <td>1</td>\n",
              "    </tr>\n",
              "    <tr>\n",
              "      <th>399</th>\n",
              "      <td>7</td>\n",
              "      <td>4</td>\n",
              "      <td>23</td>\n",
              "      <td>1</td>\n",
              "      <td>11</td>\n",
              "      <td>47</td>\n",
              "      <td>51</td>\n",
              "      <td>48</td>\n",
              "      <td>7</td>\n",
              "      <td>38</td>\n",
              "      <td>...</td>\n",
              "      <td>2</td>\n",
              "      <td>5</td>\n",
              "      <td>49</td>\n",
              "      <td>1</td>\n",
              "      <td>7</td>\n",
              "      <td>48</td>\n",
              "      <td>7</td>\n",
              "      <td>3</td>\n",
              "      <td>38</td>\n",
              "      <td>13</td>\n",
              "    </tr>\n",
              "  </tbody>\n",
              "</table>\n",
              "<p>400 rows × 2000 columns</p>\n",
              "</div>\n",
              "    <div class=\"colab-df-buttons\">\n",
              "\n",
              "  <div class=\"colab-df-container\">\n",
              "    <button class=\"colab-df-convert\" onclick=\"convertToInteractive('df-6f589a45-aa15-4390-b0d8-2364874b53f4')\"\n",
              "            title=\"Convert this dataframe to an interactive table.\"\n",
              "            style=\"display:none;\">\n",
              "\n",
              "  <svg xmlns=\"http://www.w3.org/2000/svg\" height=\"24px\" viewBox=\"0 -960 960 960\">\n",
              "    <path d=\"M120-120v-720h720v720H120Zm60-500h600v-160H180v160Zm220 220h160v-160H400v160Zm0 220h160v-160H400v160ZM180-400h160v-160H180v160Zm440 0h160v-160H620v160ZM180-180h160v-160H180v160Zm440 0h160v-160H620v160Z\"/>\n",
              "  </svg>\n",
              "    </button>\n",
              "\n",
              "  <style>\n",
              "    .colab-df-container {\n",
              "      display:flex;\n",
              "      gap: 12px;\n",
              "    }\n",
              "\n",
              "    .colab-df-convert {\n",
              "      background-color: #E8F0FE;\n",
              "      border: none;\n",
              "      border-radius: 50%;\n",
              "      cursor: pointer;\n",
              "      display: none;\n",
              "      fill: #1967D2;\n",
              "      height: 32px;\n",
              "      padding: 0 0 0 0;\n",
              "      width: 32px;\n",
              "    }\n",
              "\n",
              "    .colab-df-convert:hover {\n",
              "      background-color: #E2EBFA;\n",
              "      box-shadow: 0px 1px 2px rgba(60, 64, 67, 0.3), 0px 1px 3px 1px rgba(60, 64, 67, 0.15);\n",
              "      fill: #174EA6;\n",
              "    }\n",
              "\n",
              "    .colab-df-buttons div {\n",
              "      margin-bottom: 4px;\n",
              "    }\n",
              "\n",
              "    [theme=dark] .colab-df-convert {\n",
              "      background-color: #3B4455;\n",
              "      fill: #D2E3FC;\n",
              "    }\n",
              "\n",
              "    [theme=dark] .colab-df-convert:hover {\n",
              "      background-color: #434B5C;\n",
              "      box-shadow: 0px 1px 3px 1px rgba(0, 0, 0, 0.15);\n",
              "      filter: drop-shadow(0px 1px 2px rgba(0, 0, 0, 0.3));\n",
              "      fill: #FFFFFF;\n",
              "    }\n",
              "  </style>\n",
              "\n",
              "    <script>\n",
              "      const buttonEl =\n",
              "        document.querySelector('#df-6f589a45-aa15-4390-b0d8-2364874b53f4 button.colab-df-convert');\n",
              "      buttonEl.style.display =\n",
              "        google.colab.kernel.accessAllowed ? 'block' : 'none';\n",
              "\n",
              "      async function convertToInteractive(key) {\n",
              "        const element = document.querySelector('#df-6f589a45-aa15-4390-b0d8-2364874b53f4');\n",
              "        const dataTable =\n",
              "          await google.colab.kernel.invokeFunction('convertToInteractive',\n",
              "                                                    [key], {});\n",
              "        if (!dataTable) return;\n",
              "\n",
              "        const docLinkHtml = 'Like what you see? Visit the ' +\n",
              "          '<a target=\"_blank\" href=https://colab.research.google.com/notebooks/data_table.ipynb>data table notebook</a>'\n",
              "          + ' to learn more about interactive tables.';\n",
              "        element.innerHTML = '';\n",
              "        dataTable['output_type'] = 'display_data';\n",
              "        await google.colab.output.renderOutput(dataTable, element);\n",
              "        const docLink = document.createElement('div');\n",
              "        docLink.innerHTML = docLinkHtml;\n",
              "        element.appendChild(docLink);\n",
              "      }\n",
              "    </script>\n",
              "  </div>\n",
              "\n",
              "\n",
              "<div id=\"df-ad952810-2195-4f0f-bd0d-82045ab0ba01\">\n",
              "  <button class=\"colab-df-quickchart\" onclick=\"quickchart('df-ad952810-2195-4f0f-bd0d-82045ab0ba01')\"\n",
              "            title=\"Suggest charts\"\n",
              "            style=\"display:none;\">\n",
              "\n",
              "<svg xmlns=\"http://www.w3.org/2000/svg\" height=\"24px\"viewBox=\"0 0 24 24\"\n",
              "     width=\"24px\">\n",
              "    <g>\n",
              "        <path d=\"M19 3H5c-1.1 0-2 .9-2 2v14c0 1.1.9 2 2 2h14c1.1 0 2-.9 2-2V5c0-1.1-.9-2-2-2zM9 17H7v-7h2v7zm4 0h-2V7h2v10zm4 0h-2v-4h2v4z\"/>\n",
              "    </g>\n",
              "</svg>\n",
              "  </button>\n",
              "\n",
              "<style>\n",
              "  .colab-df-quickchart {\n",
              "      --bg-color: #E8F0FE;\n",
              "      --fill-color: #1967D2;\n",
              "      --hover-bg-color: #E2EBFA;\n",
              "      --hover-fill-color: #174EA6;\n",
              "      --disabled-fill-color: #AAA;\n",
              "      --disabled-bg-color: #DDD;\n",
              "  }\n",
              "\n",
              "  [theme=dark] .colab-df-quickchart {\n",
              "      --bg-color: #3B4455;\n",
              "      --fill-color: #D2E3FC;\n",
              "      --hover-bg-color: #434B5C;\n",
              "      --hover-fill-color: #FFFFFF;\n",
              "      --disabled-bg-color: #3B4455;\n",
              "      --disabled-fill-color: #666;\n",
              "  }\n",
              "\n",
              "  .colab-df-quickchart {\n",
              "    background-color: var(--bg-color);\n",
              "    border: none;\n",
              "    border-radius: 50%;\n",
              "    cursor: pointer;\n",
              "    display: none;\n",
              "    fill: var(--fill-color);\n",
              "    height: 32px;\n",
              "    padding: 0;\n",
              "    width: 32px;\n",
              "  }\n",
              "\n",
              "  .colab-df-quickchart:hover {\n",
              "    background-color: var(--hover-bg-color);\n",
              "    box-shadow: 0 1px 2px rgba(60, 64, 67, 0.3), 0 1px 3px 1px rgba(60, 64, 67, 0.15);\n",
              "    fill: var(--button-hover-fill-color);\n",
              "  }\n",
              "\n",
              "  .colab-df-quickchart-complete:disabled,\n",
              "  .colab-df-quickchart-complete:disabled:hover {\n",
              "    background-color: var(--disabled-bg-color);\n",
              "    fill: var(--disabled-fill-color);\n",
              "    box-shadow: none;\n",
              "  }\n",
              "\n",
              "  .colab-df-spinner {\n",
              "    border: 2px solid var(--fill-color);\n",
              "    border-color: transparent;\n",
              "    border-bottom-color: var(--fill-color);\n",
              "    animation:\n",
              "      spin 1s steps(1) infinite;\n",
              "  }\n",
              "\n",
              "  @keyframes spin {\n",
              "    0% {\n",
              "      border-color: transparent;\n",
              "      border-bottom-color: var(--fill-color);\n",
              "      border-left-color: var(--fill-color);\n",
              "    }\n",
              "    20% {\n",
              "      border-color: transparent;\n",
              "      border-left-color: var(--fill-color);\n",
              "      border-top-color: var(--fill-color);\n",
              "    }\n",
              "    30% {\n",
              "      border-color: transparent;\n",
              "      border-left-color: var(--fill-color);\n",
              "      border-top-color: var(--fill-color);\n",
              "      border-right-color: var(--fill-color);\n",
              "    }\n",
              "    40% {\n",
              "      border-color: transparent;\n",
              "      border-right-color: var(--fill-color);\n",
              "      border-top-color: var(--fill-color);\n",
              "    }\n",
              "    60% {\n",
              "      border-color: transparent;\n",
              "      border-right-color: var(--fill-color);\n",
              "    }\n",
              "    80% {\n",
              "      border-color: transparent;\n",
              "      border-right-color: var(--fill-color);\n",
              "      border-bottom-color: var(--fill-color);\n",
              "    }\n",
              "    90% {\n",
              "      border-color: transparent;\n",
              "      border-bottom-color: var(--fill-color);\n",
              "    }\n",
              "  }\n",
              "</style>\n",
              "\n",
              "  <script>\n",
              "    async function quickchart(key) {\n",
              "      const quickchartButtonEl =\n",
              "        document.querySelector('#' + key + ' button');\n",
              "      quickchartButtonEl.disabled = true;  // To prevent multiple clicks.\n",
              "      quickchartButtonEl.classList.add('colab-df-spinner');\n",
              "      try {\n",
              "        const charts = await google.colab.kernel.invokeFunction(\n",
              "            'suggestCharts', [key], {});\n",
              "      } catch (error) {\n",
              "        console.error('Error during call to suggestCharts:', error);\n",
              "      }\n",
              "      quickchartButtonEl.classList.remove('colab-df-spinner');\n",
              "      quickchartButtonEl.classList.add('colab-df-quickchart-complete');\n",
              "    }\n",
              "    (() => {\n",
              "      let quickchartButtonEl =\n",
              "        document.querySelector('#df-ad952810-2195-4f0f-bd0d-82045ab0ba01 button');\n",
              "      quickchartButtonEl.style.display =\n",
              "        google.colab.kernel.accessAllowed ? 'block' : 'none';\n",
              "    })();\n",
              "  </script>\n",
              "</div>\n",
              "\n",
              "  <div id=\"id_564fee84-4001-4f3a-a238-9b57f7d3d867\">\n",
              "    <style>\n",
              "      .colab-df-generate {\n",
              "        background-color: #E8F0FE;\n",
              "        border: none;\n",
              "        border-radius: 50%;\n",
              "        cursor: pointer;\n",
              "        display: none;\n",
              "        fill: #1967D2;\n",
              "        height: 32px;\n",
              "        padding: 0 0 0 0;\n",
              "        width: 32px;\n",
              "      }\n",
              "\n",
              "      .colab-df-generate:hover {\n",
              "        background-color: #E2EBFA;\n",
              "        box-shadow: 0px 1px 2px rgba(60, 64, 67, 0.3), 0px 1px 3px 1px rgba(60, 64, 67, 0.15);\n",
              "        fill: #174EA6;\n",
              "      }\n",
              "\n",
              "      [theme=dark] .colab-df-generate {\n",
              "        background-color: #3B4455;\n",
              "        fill: #D2E3FC;\n",
              "      }\n",
              "\n",
              "      [theme=dark] .colab-df-generate:hover {\n",
              "        background-color: #434B5C;\n",
              "        box-shadow: 0px 1px 3px 1px rgba(0, 0, 0, 0.15);\n",
              "        filter: drop-shadow(0px 1px 2px rgba(0, 0, 0, 0.3));\n",
              "        fill: #FFFFFF;\n",
              "      }\n",
              "    </style>\n",
              "    <button class=\"colab-df-generate\" onclick=\"generateWithVariable('muestras_exp')\"\n",
              "            title=\"Generate code using this dataframe.\"\n",
              "            style=\"display:none;\">\n",
              "\n",
              "  <svg xmlns=\"http://www.w3.org/2000/svg\" height=\"24px\"viewBox=\"0 0 24 24\"\n",
              "       width=\"24px\">\n",
              "    <path d=\"M7,19H8.4L18.45,9,17,7.55,7,17.6ZM5,21V16.75L18.45,3.32a2,2,0,0,1,2.83,0l1.4,1.43a1.91,1.91,0,0,1,.58,1.4,1.91,1.91,0,0,1-.58,1.4L9.25,21ZM18.45,9,17,7.55Zm-12,3A5.31,5.31,0,0,0,4.9,8.1,5.31,5.31,0,0,0,1,6.5,5.31,5.31,0,0,0,4.9,4.9,5.31,5.31,0,0,0,6.5,1,5.31,5.31,0,0,0,8.1,4.9,5.31,5.31,0,0,0,12,6.5,5.46,5.46,0,0,0,6.5,12Z\"/>\n",
              "  </svg>\n",
              "    </button>\n",
              "    <script>\n",
              "      (() => {\n",
              "      const buttonEl =\n",
              "        document.querySelector('#id_564fee84-4001-4f3a-a238-9b57f7d3d867 button.colab-df-generate');\n",
              "      buttonEl.style.display =\n",
              "        google.colab.kernel.accessAllowed ? 'block' : 'none';\n",
              "\n",
              "      buttonEl.onclick = () => {\n",
              "        google.colab.notebook.generateWithVariable('muestras_exp');\n",
              "      }\n",
              "      })();\n",
              "    </script>\n",
              "  </div>\n",
              "\n",
              "    </div>\n",
              "  </div>\n"
            ],
            "application/vnd.google.colaboratory.intrinsic+json": {
              "type": "dataframe",
              "variable_name": "muestras_exp"
            }
          },
          "metadata": {},
          "execution_count": 75
        }
      ]
    },
    {
      "cell_type": "markdown",
      "metadata": {
        "id": "aJyrCTU9id2c"
      },
      "source": [
        "<h2> Distribución de cada muestra"
      ]
    },
    {
      "cell_type": "code",
      "source": [
        "muestras_exp.sample(4, axis = 1).hist(sharex= True, bins=100)\n",
        "plt.show()"
      ],
      "metadata": {
        "id": "xn96zKZ_IGYQ",
        "outputId": "2ce48fbb-de02-4eac-d207-4f9ba01de0e2",
        "colab": {
          "base_uri": "https://localhost:8080/",
          "height": 452
        }
      },
      "execution_count": 76,
      "outputs": [
        {
          "output_type": "display_data",
          "data": {
            "text/plain": [
              "<Figure size 640x480 with 4 Axes>"
            ],
            "image/png": "[encoded data removed]"
          },
          "metadata": {}
        }
      ]
    },
    {
      "cell_type": "markdown",
      "metadata": {
        "id": "66z__SzaEfge"
      },
      "source": [
        "<h2>Distribución de la suma"
      ]
    },
    {
      "cell_type": "code",
      "source": [
        "muestras_exp.sum().hist(bins=30, figsize=(4,3))\n",
        "plt.show()"
      ],
      "metadata": {
        "outputId": "92d4da47-0d60-41d1-ae05-e76b63cb196a",
        "colab": {
          "base_uri": "https://localhost:8080/",
          "height": 291
        },
        "id": "xUv1f4yPEfge"
      },
      "execution_count": 77,
      "outputs": [
        {
          "output_type": "display_data",
          "data": {
            "text/plain": [
              "<Figure size 400x300 with 1 Axes>"
            ],
            "image/png": "[encoded data removed]"
          },
          "metadata": {}
        }
      ]
    },
    {
      "cell_type": "markdown",
      "metadata": {
        "id": "UjKLuQLEilDv"
      },
      "source": [
        "<h2>Distribución de los promedios"
      ]
    },
    {
      "cell_type": "code",
      "metadata": {
        "id": "_qfIBuRysOz0",
        "colab": {
          "base_uri": "https://localhost:8080/",
          "height": 291
        },
        "outputId": "4bdc7559-1fb8-41e3-c273-b307a4cfb338"
      },
      "source": [
        "muestras_exp.mean().hist(bins=30, figsize=(4,3))\n",
        "plt.show()\n"
      ],
      "execution_count": 78,
      "outputs": [
        {
          "output_type": "display_data",
          "data": {
            "text/plain": [
              "<Figure size 400x300 with 1 Axes>"
            ],
            "image/png": "[encoded data removed]"
          },
          "metadata": {}
        }
      ]
    },
    {
      "cell_type": "markdown",
      "source": [
        "<h2>Distribución de los errores"
      ],
      "metadata": {
        "id": "bLkNy-xLbI-a"
      }
    },
    {
      "cell_type": "code",
      "metadata": {
        "colab": {
          "base_uri": "https://localhost:8080/",
          "height": 291
        },
        "outputId": "3b85291c-569c-4563-99ab-328c4309084f",
        "id": "Rw1g3fBObI-j"
      },
      "source": [
        "errores = muestras_exp.mean() - X.mean()\n",
        "errores.hist(bins=30, figsize=(4,3))\n",
        "plt.show()"
      ],
      "execution_count": 79,
      "outputs": [
        {
          "output_type": "display_data",
          "data": {
            "text/plain": [
              "<Figure size 400x300 with 1 Axes>"
            ],
            "image/png": "[encoded data removed]"
          },
          "metadata": {}
        }
      ]
    },
    {
      "cell_type": "code",
      "source": [
        "# podemos llegar a la distribución normal estándar\n",
        "\n",
        "(errores/(sigma/np.sqrt(n))).hist(bins=30, figsize=(4,3))\n",
        "plt.show()"
      ],
      "metadata": {
        "outputId": "52e968d4-8408-4365-f72e-0ab0ad7af90f",
        "colab": {
          "base_uri": "https://localhost:8080/",
          "height": 291
        },
        "id": "8fbiz0KkIkru"
      },
      "execution_count": 80,
      "outputs": [
        {
          "output_type": "display_data",
          "data": {
            "text/plain": [
              "<Figure size 400x300 with 1 Axes>"
            ],
            "image/png": "[encoded data removed]"
          },
          "metadata": {}
        }
      ]
    },
    {
      "cell_type": "markdown",
      "metadata": {
        "id": "cn-Wq930Vgog"
      },
      "source": [
        "\n",
        "\n",
        "https://seeing-theory.brown.edu/probability-distributions/index.html\n",
        "\n"
      ]
    }
  ]
}