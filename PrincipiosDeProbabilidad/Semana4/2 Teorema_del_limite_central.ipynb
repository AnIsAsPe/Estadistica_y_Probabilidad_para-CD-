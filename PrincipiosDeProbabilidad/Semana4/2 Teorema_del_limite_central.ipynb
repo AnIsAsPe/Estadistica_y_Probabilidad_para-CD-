{
  "nbformat": 4,
  "nbformat_minor": 0,
  "metadata": {
    "kernelspec": {
      "display_name": "Python 3",
      "language": "python",
      "name": "python3"
    },
    "language_info": {
      "codemirror_mode": {
        "name": "ipython",
        "version": 3
      },
      "file_extension": ".py",
      "mimetype": "text/x-python",
      "name": "python",
      "nbconvert_exporter": "python",
      "pygments_lexer": "ipython3",
      "version": "3.6.5"
    },
    "colab": {
      "name": "Teorema del limite central ipynb",
      "provenance": [],
      "collapsed_sections": [
        "eRO54v3Rk7Zs"
      ],
      "toc_visible": true,
      "include_colab_link": true
    }
  },
  "cells": [
    {
      "cell_type": "markdown",
      "metadata": {
        "id": "view-in-github",
        "colab_type": "text"
      },
      "source": [
        "<a href=\"https://colab.research.google.com/github/AnIsAsPe/Estadistica_y_Probabilidad_para-CD-/blob/main/PrincipiosDeProbabilidad/Semana4/2%20Teorema_del_limite_central.ipynb\" target=\"_parent\"><img src=\"https://colab.research.google.com/assets/colab-badge.svg\" alt=\"Open In Colab\"/></a>"
      ]
    },
    {
      "cell_type": "markdown",
      "source": [
        "El *teorema del límite central* establece que la **distribución de la suma** de un número grande (*ley de los grandes números*) de ***variables iid*** será aproximadamene **normal**, sin importar la distribución subyacente"
      ],
      "metadata": {
        "id": "QC9zAKl5yhFW"
      }
    },
    {
      "cell_type": "markdown",
      "metadata": {
        "id": "MlNBbGOgZ2j5"
      },
      "source": [
        "\n",
        "## Bibliotecas"
      ]
    },
    {
      "cell_type": "markdown",
      "source": [],
      "metadata": {
        "id": "sbL2IC1-K39R"
      }
    },
    {
      "cell_type": "code",
      "metadata": {
        "id": "FEI_n9J2Z2j5"
      },
      "source": [
        "import numpy as np\n",
        "import pandas as pd\n",
        "\n",
        "import random\n",
        "import operator\n",
        "import re # módulo operaciones expresiones regulares\n",
        "import unicodedata  #para quitar tildes\n",
        "from collections import Counter\n",
        "from scipy.stats import norm\n",
        "\n",
        "import matplotlib.pyplot as plt\n",
        "import seaborn as sns"
      ],
      "execution_count": 102,
      "outputs": []
    },
    {
      "cell_type": "markdown",
      "metadata": {
        "id": "pbALUjcWkWgr"
      },
      "source": [
        "## Funciones"
      ]
    },
    {
      "cell_type": "code",
      "source": [
        "def errores_alturas(n, m = 500):\n",
        "    '''\n",
        "    n = tamaño de cada muestra\n",
        "    m = cuántas muestras\n",
        "\n",
        "    '''\n",
        "    mu, sigma = 1675, 62.8     # dimensiones en milimetros\n",
        "\n",
        "    muestras = {'muestra '+ str(i): np.random.normal(mu, sigma,n) for i in range(1, m+1)}\n",
        "    alturas_hombres = pd.DataFrame.from_dict(muestras)\n",
        "    sns.distplot(mu - alturas_hombres.mean(), fit=norm, kde=False, bins=50)\n",
        "    plt.show()\n",
        "\n"
      ],
      "metadata": {
        "id": "NJAdcVglzjKZ"
      },
      "execution_count": 103,
      "outputs": []
    },
    {
      "cell_type": "code",
      "metadata": {
        "id": "96lVL2qUMtsa"
      },
      "source": [
        "def leer_libro(archivo_txt):\n",
        "  '''funcion para leer un archivo en formato txt'''\n",
        "  with open(archivo_txt, \"r\", encoding=\"utf8\") as f:\n",
        "    texto = f.read()\n",
        "    texto = texto.replace(\"\\n\", \"\").replace(\"\\r\", \"\")\n",
        "  return texto"
      ],
      "execution_count": 104,
      "outputs": []
    },
    {
      "cell_type": "code",
      "metadata": {
        "id": "F5sgP6ZkinM7"
      },
      "source": [
        "def borrar_elementos(texto, lista):\n",
        "  '''Función para eliminar en un texto los elementos contenidos en una lista,\n",
        "  por ejemplo:   autor, titulo y otros elementos'''\n",
        "\n",
        "  for elemento in lista:\n",
        "    texto = texto.replace(elemento, \"\")\n",
        "  return texto"
      ],
      "execution_count": 105,
      "outputs": []
    },
    {
      "cell_type": "code",
      "metadata": {
        "id": "4wWolL-TXZct"
      },
      "source": [
        "\n",
        "def limpiar_texto(texto):\n",
        "  '''Función para convertir a minúsculas, quitar signos de puntuación,\n",
        "  números y tildes'''\n",
        "\n",
        "  #Convertir en mínusculas\n",
        "  texto_limpio = texto.lower()\n",
        "\n",
        "  #Quitar puntuación\n",
        "  puntuacion = [\".\", \",\" , \"-\", \"\\n\", \":\", \";\",'\"', \"'\", \"  \",\n",
        "                \"!\", \"¡\", \"¿\", \"?\", \"(\", \")\", \"<\", \"«\", \"»\", \"~\",]\n",
        "  for p in puntuacion:\n",
        "    texto_limpio = texto_limpio.replace(p,\"\")\n",
        "\n",
        "  #Quitar numeros\n",
        "\n",
        "  texto_limpio = \"\".join(filter(lambda x: not x.isdigit(), texto_limpio))\n",
        "\n",
        "  #Quitar tildes\n",
        "\n",
        "  texto_limpio =''.join((c for c in unicodedata.normalize('NFD',texto_limpio) if\n",
        "                         unicodedata.category(c) != 'Mn'))\n",
        "\n",
        "  return texto_limpio"
      ],
      "execution_count": 106,
      "outputs": []
    },
    {
      "cell_type": "code",
      "metadata": {
        "id": "hU8f6vv2LVvF"
      },
      "source": [
        "\n",
        "def genera_texto_nletras(texto, n=1, tot_letras = 100):\n",
        "  '''Devuelve un texto, utilizando ngramas a partir de letras\n",
        "  n es la cantidad de letras que se toman en consideración para\n",
        "  generar la siguiente'''\n",
        "  ngramas = {}\n",
        "  for i in range(len(texto) - n):\n",
        "    seq = texto[i:i+n]\n",
        "    if seq not in ngramas.keys():\n",
        "      ngramas[seq] = []\n",
        "    ngramas[seq].append(texto[i+n])\n",
        "\n",
        "  ngrama = np.random.choice(list(ngramas.keys()))\n",
        "  nuevo_texto = ngrama\n",
        "\n",
        "  for i in range(tot_letras):\n",
        "    if ngrama not in ngramas.keys():\n",
        "      break\n",
        "    siguiente_letra = np.random.choice(ngramas[ngrama])\n",
        "    nuevo_texto += siguiente_letra\n",
        "    ngrama = nuevo_texto[len(nuevo_texto)-n:len(nuevo_texto)]\n",
        "  return nuevo_texto"
      ],
      "execution_count": 107,
      "outputs": []
    },
    {
      "cell_type": "code",
      "metadata": {
        "id": "qWiYIU76KTF4"
      },
      "source": [
        "def genera_muestras_de_texto(texto, grado=0,\n",
        "                             num_muestras=100,\n",
        "                             tam_muestra=200 ):\n",
        "  muestras={}\n",
        "  for i in range(num_muestras):\n",
        "    if grado == 0:\n",
        "      muestras[i]= \"\".join(random.sample(texto, tam_muestra))\n",
        "    else:\n",
        "      muestras[i] = genera_texto_nletras(texto, grado, tam_muestra)\n",
        "  return pd.Series(muestras, name= 'muestra' )"
      ],
      "execution_count": 108,
      "outputs": []
    },
    {
      "cell_type": "code",
      "metadata": {
        "id": "EGkrl_dKE62b"
      },
      "source": [
        "def cuenta_vocales(texto):\n",
        "  vocales ='aeiou'\n",
        "  tot_vocales= 0\n",
        "  for caracter in texto:\n",
        "    if caracter in vocales:\n",
        "      tot_vocales += 1\n",
        "  return tot_vocales"
      ],
      "execution_count": 109,
      "outputs": []
    },
    {
      "cell_type": "code",
      "metadata": {
        "id": "A7oWT_SAFK0T"
      },
      "source": [
        "def cuenta_caracteres_antes_de_n(texto):\n",
        "  caracteres_antes = 0\n",
        "  for caracter in texto:\n",
        "    if caracter == 'n':\n",
        "      break\n",
        "    caracteres_antes += 1\n",
        "\n",
        "  return caracteres_antes"
      ],
      "execution_count": 110,
      "outputs": []
    },
    {
      "cell_type": "markdown",
      "metadata": {
        "id": "UjW7W4BrPTTZ"
      },
      "source": [
        "# Distribución gaussiana (altura de hombres adultos)"
      ]
    },
    {
      "cell_type": "markdown",
      "metadata": {
        "id": "9pFsoM62gq1Z"
      },
      "source": [
        "a partir de la [distribución de la altura de trabajadores industriales de sexo masculino en Guadalajara](https://www.researchgate.net/publication/31722433_Dimensiones_antropometricas_de_la_poblacion_latinoamericana_Mexico_Cuba_Colombia_Chile_R_Avila_Chaurand_LR_Prado_Leon_EL_Gonzalez_Munoz)"
      ]
    },
    {
      "cell_type": "code",
      "metadata": {
        "colab": {
          "base_uri": "https://localhost:8080/",
          "height": 461
        },
        "outputId": "77284cb4-bf8c-45c0-dd0f-e6c9f5f4b350",
        "id": "19Bxuz3ftZHN"
      },
      "source": [
        "mu, sigma = 1675, 62.8     # dimensiones en milimetros\n",
        "\n",
        "n = 400 # tamaño de la muestra\n",
        "m = 2000 # número de muestras\n",
        "muestras = {'muestra '+str(i): np.random.normal(mu, sigma,n) for i in range(1, m+1)}\n",
        "alturas_hombres = pd.DataFrame.from_dict(muestras)\n",
        "alturas_hombres"
      ],
      "execution_count": 111,
      "outputs": [
        {
          "output_type": "execute_result",
          "data": {
            "text/plain": [
              "       muestra 1    muestra 2    muestra 3    muestra 4    muestra 5  \\\n",
              "0    1639.892260  1748.965558  1748.796903  1680.032423  1649.653292   \n",
              "1    1688.550416  1703.384270  1681.473241  1585.286088  1854.729687   \n",
              "2    1602.443881  1663.862365  1779.071262  1592.310002  1693.843532   \n",
              "3    1666.148253  1636.302188  1604.403829  1715.115399  1608.518097   \n",
              "4    1621.693156  1667.158472  1680.343547  1699.294279  1616.856636   \n",
              "..           ...          ...          ...          ...          ...   \n",
              "395  1633.225241  1571.240703  1707.566827  1650.437254  1662.900981   \n",
              "396  1762.017944  1713.845380  1594.651510  1722.015991  1650.579206   \n",
              "397  1741.908550  1706.621802  1764.705717  1731.792984  1757.456249   \n",
              "398  1752.205334  1627.968862  1717.913870  1656.466418  1683.649149   \n",
              "399  1681.288486  1740.995943  1704.062905  1712.733949  1668.286139   \n",
              "\n",
              "       muestra 6    muestra 7    muestra 8    muestra 9   muestra 10  ...  \\\n",
              "0    1617.100477  1735.283822  1631.030565  1670.971130  1687.144663  ...   \n",
              "1    1600.484887  1596.321893  1644.451089  1567.918593  1660.795143  ...   \n",
              "2    1668.663453  1703.496103  1695.458748  1710.747315  1742.774882  ...   \n",
              "3    1726.305918  1615.569002  1668.668454  1587.405129  1683.122366  ...   \n",
              "4    1723.326473  1499.240416  1603.581211  1679.000456  1670.689686  ...   \n",
              "..           ...          ...          ...          ...          ...  ...   \n",
              "395  1712.910227  1719.993291  1618.773475  1799.821806  1698.662093  ...   \n",
              "396  1566.136261  1658.161740  1754.012664  1736.124467  1623.521196  ...   \n",
              "397  1569.345594  1777.087890  1764.525733  1659.723799  1696.865090  ...   \n",
              "398  1625.397378  1611.719879  1605.721126  1531.514838  1809.783559  ...   \n",
              "399  1634.831566  1638.137100  1734.786237  1714.152573  1749.126446  ...   \n",
              "\n",
              "     muestra 1991  muestra 1992  muestra 1993  muestra 1994  muestra 1995  \\\n",
              "0     1695.455473   1688.932574   1774.275207   1604.844779   1669.609611   \n",
              "1     1611.495547   1619.848454   1737.259509   1659.122430   1621.883983   \n",
              "2     1675.429258   1636.973667   1537.981679   1528.565287   1557.653569   \n",
              "3     1599.204726   1626.085760   1783.265238   1674.911378   1746.816266   \n",
              "4     1685.982943   1635.447205   1731.716428   1566.749943   1663.098723   \n",
              "..            ...           ...           ...           ...           ...   \n",
              "395   1805.381822   1715.603731   1691.401127   1695.389086   1666.921185   \n",
              "396   1583.902904   1662.483534   1602.932032   1656.538136   1668.899135   \n",
              "397   1665.239938   1628.798104   1737.087450   1652.161671   1700.822747   \n",
              "398   1687.989355   1614.134837   1683.330176   1728.624291   1685.708056   \n",
              "399   1639.136300   1660.411074   1558.842605   1683.626912   1625.353130   \n",
              "\n",
              "     muestra 1996  muestra 1997  muestra 1998  muestra 1999  muestra 2000  \n",
              "0     1655.307817   1707.193395   1699.717879   1762.005177   1669.811224  \n",
              "1     1594.064331   1718.041520   1671.540508   1663.453401   1667.660209  \n",
              "2     1622.469473   1782.979349   1663.384911   1670.506939   1589.247721  \n",
              "3     1702.424348   1617.073699   1628.743927   1643.822637   1576.620799  \n",
              "4     1686.788604   1756.994256   1738.921903   1566.171935   1622.868022  \n",
              "..            ...           ...           ...           ...           ...  \n",
              "395   1743.894587   1570.291200   1714.977312   1664.884340   1621.562254  \n",
              "396   1751.597700   1568.384036   1591.745004   1752.878858   1706.756825  \n",
              "397   1794.350712   1581.559326   1695.709049   1670.644156   1657.772179  \n",
              "398   1731.105282   1675.948374   1696.711990   1613.035086   1649.112281  \n",
              "399   1771.629563   1792.985075   1734.034713   1663.854834   1719.618447  \n",
              "\n",
              "[400 rows x 2000 columns]"
            ],
            "text/html": [
              "\n",
              "  <div id=\"df-ef92dac9-f7ad-4c57-a641-09de60c5cca3\" class=\"colab-df-container\">\n",
              "    <div>\n",
              "<style scoped>\n",
              "    .dataframe tbody tr th:only-of-type {\n",
              "        vertical-align: middle;\n",
              "    }\n",
              "\n",
              "    .dataframe tbody tr th {\n",
              "        vertical-align: top;\n",
              "    }\n",
              "\n",
              "    .dataframe thead th {\n",
              "        text-align: right;\n",
              "    }\n",
              "</style>\n",
              "<table border=\"1\" class=\"dataframe\">\n",
              "  <thead>\n",
              "    <tr style=\"text-align: right;\">\n",
              "      <th></th>\n",
              "      <th>muestra 1</th>\n",
              "      <th>muestra 2</th>\n",
              "      <th>muestra 3</th>\n",
              "      <th>muestra 4</th>\n",
              "      <th>muestra 5</th>\n",
              "      <th>muestra 6</th>\n",
              "      <th>muestra 7</th>\n",
              "      <th>muestra 8</th>\n",
              "      <th>muestra 9</th>\n",
              "      <th>muestra 10</th>\n",
              "      <th>...</th>\n",
              "      <th>muestra 1991</th>\n",
              "      <th>muestra 1992</th>\n",
              "      <th>muestra 1993</th>\n",
              "      <th>muestra 1994</th>\n",
              "      <th>muestra 1995</th>\n",
              "      <th>muestra 1996</th>\n",
              "      <th>muestra 1997</th>\n",
              "      <th>muestra 1998</th>\n",
              "      <th>muestra 1999</th>\n",
              "      <th>muestra 2000</th>\n",
              "    </tr>\n",
              "  </thead>\n",
              "  <tbody>\n",
              "    <tr>\n",
              "      <th>0</th>\n",
              "      <td>1639.892260</td>\n",
              "      <td>1748.965558</td>\n",
              "      <td>1748.796903</td>\n",
              "      <td>1680.032423</td>\n",
              "      <td>1649.653292</td>\n",
              "      <td>1617.100477</td>\n",
              "      <td>1735.283822</td>\n",
              "      <td>1631.030565</td>\n",
              "      <td>1670.971130</td>\n",
              "      <td>1687.144663</td>\n",
              "      <td>...</td>\n",
              "      <td>1695.455473</td>\n",
              "      <td>1688.932574</td>\n",
              "      <td>1774.275207</td>\n",
              "      <td>1604.844779</td>\n",
              "      <td>1669.609611</td>\n",
              "      <td>1655.307817</td>\n",
              "      <td>1707.193395</td>\n",
              "      <td>1699.717879</td>\n",
              "      <td>1762.005177</td>\n",
              "      <td>1669.811224</td>\n",
              "    </tr>\n",
              "    <tr>\n",
              "      <th>1</th>\n",
              "      <td>1688.550416</td>\n",
              "      <td>1703.384270</td>\n",
              "      <td>1681.473241</td>\n",
              "      <td>1585.286088</td>\n",
              "      <td>1854.729687</td>\n",
              "      <td>1600.484887</td>\n",
              "      <td>1596.321893</td>\n",
              "      <td>1644.451089</td>\n",
              "      <td>1567.918593</td>\n",
              "      <td>1660.795143</td>\n",
              "      <td>...</td>\n",
              "      <td>1611.495547</td>\n",
              "      <td>1619.848454</td>\n",
              "      <td>1737.259509</td>\n",
              "      <td>1659.122430</td>\n",
              "      <td>1621.883983</td>\n",
              "      <td>1594.064331</td>\n",
              "      <td>1718.041520</td>\n",
              "      <td>1671.540508</td>\n",
              "      <td>1663.453401</td>\n",
              "      <td>1667.660209</td>\n",
              "    </tr>\n",
              "    <tr>\n",
              "      <th>2</th>\n",
              "      <td>1602.443881</td>\n",
              "      <td>1663.862365</td>\n",
              "      <td>1779.071262</td>\n",
              "      <td>1592.310002</td>\n",
              "      <td>1693.843532</td>\n",
              "      <td>1668.663453</td>\n",
              "      <td>1703.496103</td>\n",
              "      <td>1695.458748</td>\n",
              "      <td>1710.747315</td>\n",
              "      <td>1742.774882</td>\n",
              "      <td>...</td>\n",
              "      <td>1675.429258</td>\n",
              "      <td>1636.973667</td>\n",
              "      <td>1537.981679</td>\n",
              "      <td>1528.565287</td>\n",
              "      <td>1557.653569</td>\n",
              "      <td>1622.469473</td>\n",
              "      <td>1782.979349</td>\n",
              "      <td>1663.384911</td>\n",
              "      <td>1670.506939</td>\n",
              "      <td>1589.247721</td>\n",
              "    </tr>\n",
              "    <tr>\n",
              "      <th>3</th>\n",
              "      <td>1666.148253</td>\n",
              "      <td>1636.302188</td>\n",
              "      <td>1604.403829</td>\n",
              "      <td>1715.115399</td>\n",
              "      <td>1608.518097</td>\n",
              "      <td>1726.305918</td>\n",
              "      <td>1615.569002</td>\n",
              "      <td>1668.668454</td>\n",
              "      <td>1587.405129</td>\n",
              "      <td>1683.122366</td>\n",
              "      <td>...</td>\n",
              "      <td>1599.204726</td>\n",
              "      <td>1626.085760</td>\n",
              "      <td>1783.265238</td>\n",
              "      <td>1674.911378</td>\n",
              "      <td>1746.816266</td>\n",
              "      <td>1702.424348</td>\n",
              "      <td>1617.073699</td>\n",
              "      <td>1628.743927</td>\n",
              "      <td>1643.822637</td>\n",
              "      <td>1576.620799</td>\n",
              "    </tr>\n",
              "    <tr>\n",
              "      <th>4</th>\n",
              "      <td>1621.693156</td>\n",
              "      <td>1667.158472</td>\n",
              "      <td>1680.343547</td>\n",
              "      <td>1699.294279</td>\n",
              "      <td>1616.856636</td>\n",
              "      <td>1723.326473</td>\n",
              "      <td>1499.240416</td>\n",
              "      <td>1603.581211</td>\n",
              "      <td>1679.000456</td>\n",
              "      <td>1670.689686</td>\n",
              "      <td>...</td>\n",
              "      <td>1685.982943</td>\n",
              "      <td>1635.447205</td>\n",
              "      <td>1731.716428</td>\n",
              "      <td>1566.749943</td>\n",
              "      <td>1663.098723</td>\n",
              "      <td>1686.788604</td>\n",
              "      <td>1756.994256</td>\n",
              "      <td>1738.921903</td>\n",
              "      <td>1566.171935</td>\n",
              "      <td>1622.868022</td>\n",
              "    </tr>\n",
              "    <tr>\n",
              "      <th>...</th>\n",
              "      <td>...</td>\n",
              "      <td>...</td>\n",
              "      <td>...</td>\n",
              "      <td>...</td>\n",
              "      <td>...</td>\n",
              "      <td>...</td>\n",
              "      <td>...</td>\n",
              "      <td>...</td>\n",
              "      <td>...</td>\n",
              "      <td>...</td>\n",
              "      <td>...</td>\n",
              "      <td>...</td>\n",
              "      <td>...</td>\n",
              "      <td>...</td>\n",
              "      <td>...</td>\n",
              "      <td>...</td>\n",
              "      <td>...</td>\n",
              "      <td>...</td>\n",
              "      <td>...</td>\n",
              "      <td>...</td>\n",
              "      <td>...</td>\n",
              "    </tr>\n",
              "    <tr>\n",
              "      <th>395</th>\n",
              "      <td>1633.225241</td>\n",
              "      <td>1571.240703</td>\n",
              "      <td>1707.566827</td>\n",
              "      <td>1650.437254</td>\n",
              "      <td>1662.900981</td>\n",
              "      <td>1712.910227</td>\n",
              "      <td>1719.993291</td>\n",
              "      <td>1618.773475</td>\n",
              "      <td>1799.821806</td>\n",
              "      <td>1698.662093</td>\n",
              "      <td>...</td>\n",
              "      <td>1805.381822</td>\n",
              "      <td>1715.603731</td>\n",
              "      <td>1691.401127</td>\n",
              "      <td>1695.389086</td>\n",
              "      <td>1666.921185</td>\n",
              "      <td>1743.894587</td>\n",
              "      <td>1570.291200</td>\n",
              "      <td>1714.977312</td>\n",
              "      <td>1664.884340</td>\n",
              "      <td>1621.562254</td>\n",
              "    </tr>\n",
              "    <tr>\n",
              "      <th>396</th>\n",
              "      <td>1762.017944</td>\n",
              "      <td>1713.845380</td>\n",
              "      <td>1594.651510</td>\n",
              "      <td>1722.015991</td>\n",
              "      <td>1650.579206</td>\n",
              "      <td>1566.136261</td>\n",
              "      <td>1658.161740</td>\n",
              "      <td>1754.012664</td>\n",
              "      <td>1736.124467</td>\n",
              "      <td>1623.521196</td>\n",
              "      <td>...</td>\n",
              "      <td>1583.902904</td>\n",
              "      <td>1662.483534</td>\n",
              "      <td>1602.932032</td>\n",
              "      <td>1656.538136</td>\n",
              "      <td>1668.899135</td>\n",
              "      <td>1751.597700</td>\n",
              "      <td>1568.384036</td>\n",
              "      <td>1591.745004</td>\n",
              "      <td>1752.878858</td>\n",
              "      <td>1706.756825</td>\n",
              "    </tr>\n",
              "    <tr>\n",
              "      <th>397</th>\n",
              "      <td>1741.908550</td>\n",
              "      <td>1706.621802</td>\n",
              "      <td>1764.705717</td>\n",
              "      <td>1731.792984</td>\n",
              "      <td>1757.456249</td>\n",
              "      <td>1569.345594</td>\n",
              "      <td>1777.087890</td>\n",
              "      <td>1764.525733</td>\n",
              "      <td>1659.723799</td>\n",
              "      <td>1696.865090</td>\n",
              "      <td>...</td>\n",
              "      <td>1665.239938</td>\n",
              "      <td>1628.798104</td>\n",
              "      <td>1737.087450</td>\n",
              "      <td>1652.161671</td>\n",
              "      <td>1700.822747</td>\n",
              "      <td>1794.350712</td>\n",
              "      <td>1581.559326</td>\n",
              "      <td>1695.709049</td>\n",
              "      <td>1670.644156</td>\n",
              "      <td>1657.772179</td>\n",
              "    </tr>\n",
              "    <tr>\n",
              "      <th>398</th>\n",
              "      <td>1752.205334</td>\n",
              "      <td>1627.968862</td>\n",
              "      <td>1717.913870</td>\n",
              "      <td>1656.466418</td>\n",
              "      <td>1683.649149</td>\n",
              "      <td>1625.397378</td>\n",
              "      <td>1611.719879</td>\n",
              "      <td>1605.721126</td>\n",
              "      <td>1531.514838</td>\n",
              "      <td>1809.783559</td>\n",
              "      <td>...</td>\n",
              "      <td>1687.989355</td>\n",
              "      <td>1614.134837</td>\n",
              "      <td>1683.330176</td>\n",
              "      <td>1728.624291</td>\n",
              "      <td>1685.708056</td>\n",
              "      <td>1731.105282</td>\n",
              "      <td>1675.948374</td>\n",
              "      <td>1696.711990</td>\n",
              "      <td>1613.035086</td>\n",
              "      <td>1649.112281</td>\n",
              "    </tr>\n",
              "    <tr>\n",
              "      <th>399</th>\n",
              "      <td>1681.288486</td>\n",
              "      <td>1740.995943</td>\n",
              "      <td>1704.062905</td>\n",
              "      <td>1712.733949</td>\n",
              "      <td>1668.286139</td>\n",
              "      <td>1634.831566</td>\n",
              "      <td>1638.137100</td>\n",
              "      <td>1734.786237</td>\n",
              "      <td>1714.152573</td>\n",
              "      <td>1749.126446</td>\n",
              "      <td>...</td>\n",
              "      <td>1639.136300</td>\n",
              "      <td>1660.411074</td>\n",
              "      <td>1558.842605</td>\n",
              "      <td>1683.626912</td>\n",
              "      <td>1625.353130</td>\n",
              "      <td>1771.629563</td>\n",
              "      <td>1792.985075</td>\n",
              "      <td>1734.034713</td>\n",
              "      <td>1663.854834</td>\n",
              "      <td>1719.618447</td>\n",
              "    </tr>\n",
              "  </tbody>\n",
              "</table>\n",
              "<p>400 rows × 2000 columns</p>\n",
              "</div>\n",
              "    <div class=\"colab-df-buttons\">\n",
              "\n",
              "  <div class=\"colab-df-container\">\n",
              "    <button class=\"colab-df-convert\" onclick=\"convertToInteractive('df-ef92dac9-f7ad-4c57-a641-09de60c5cca3')\"\n",
              "            title=\"Convert this dataframe to an interactive table.\"\n",
              "            style=\"display:none;\">\n",
              "\n",
              "  <svg xmlns=\"http://www.w3.org/2000/svg\" height=\"24px\" viewBox=\"0 -960 960 960\">\n",
              "    <path d=\"M120-120v-720h720v720H120Zm60-500h600v-160H180v160Zm220 220h160v-160H400v160Zm0 220h160v-160H400v160ZM180-400h160v-160H180v160Zm440 0h160v-160H620v160ZM180-180h160v-160H180v160Zm440 0h160v-160H620v160Z\"/>\n",
              "  </svg>\n",
              "    </button>\n",
              "\n",
              "  <style>\n",
              "    .colab-df-container {\n",
              "      display:flex;\n",
              "      gap: 12px;\n",
              "    }\n",
              "\n",
              "    .colab-df-convert {\n",
              "      background-color: #E8F0FE;\n",
              "      border: none;\n",
              "      border-radius: 50%;\n",
              "      cursor: pointer;\n",
              "      display: none;\n",
              "      fill: #1967D2;\n",
              "      height: 32px;\n",
              "      padding: 0 0 0 0;\n",
              "      width: 32px;\n",
              "    }\n",
              "\n",
              "    .colab-df-convert:hover {\n",
              "      background-color: #E2EBFA;\n",
              "      box-shadow: 0px 1px 2px rgba(60, 64, 67, 0.3), 0px 1px 3px 1px rgba(60, 64, 67, 0.15);\n",
              "      fill: #174EA6;\n",
              "    }\n",
              "\n",
              "    .colab-df-buttons div {\n",
              "      margin-bottom: 4px;\n",
              "    }\n",
              "\n",
              "    [theme=dark] .colab-df-convert {\n",
              "      background-color: #3B4455;\n",
              "      fill: #D2E3FC;\n",
              "    }\n",
              "\n",
              "    [theme=dark] .colab-df-convert:hover {\n",
              "      background-color: #434B5C;\n",
              "      box-shadow: 0px 1px 3px 1px rgba(0, 0, 0, 0.15);\n",
              "      filter: drop-shadow(0px 1px 2px rgba(0, 0, 0, 0.3));\n",
              "      fill: #FFFFFF;\n",
              "    }\n",
              "  </style>\n",
              "\n",
              "    <script>\n",
              "      const buttonEl =\n",
              "        document.querySelector('#df-ef92dac9-f7ad-4c57-a641-09de60c5cca3 button.colab-df-convert');\n",
              "      buttonEl.style.display =\n",
              "        google.colab.kernel.accessAllowed ? 'block' : 'none';\n",
              "\n",
              "      async function convertToInteractive(key) {\n",
              "        const element = document.querySelector('#df-ef92dac9-f7ad-4c57-a641-09de60c5cca3');\n",
              "        const dataTable =\n",
              "          await google.colab.kernel.invokeFunction('convertToInteractive',\n",
              "                                                    [key], {});\n",
              "        if (!dataTable) return;\n",
              "\n",
              "        const docLinkHtml = 'Like what you see? Visit the ' +\n",
              "          '<a target=\"_blank\" href=https://colab.research.google.com/notebooks/data_table.ipynb>data table notebook</a>'\n",
              "          + ' to learn more about interactive tables.';\n",
              "        element.innerHTML = '';\n",
              "        dataTable['output_type'] = 'display_data';\n",
              "        await google.colab.output.renderOutput(dataTable, element);\n",
              "        const docLink = document.createElement('div');\n",
              "        docLink.innerHTML = docLinkHtml;\n",
              "        element.appendChild(docLink);\n",
              "      }\n",
              "    </script>\n",
              "  </div>\n",
              "\n",
              "\n",
              "<div id=\"df-7134778a-bebd-42a4-bb4b-4becca261fbf\">\n",
              "  <button class=\"colab-df-quickchart\" onclick=\"quickchart('df-7134778a-bebd-42a4-bb4b-4becca261fbf')\"\n",
              "            title=\"Suggest charts\"\n",
              "            style=\"display:none;\">\n",
              "\n",
              "<svg xmlns=\"http://www.w3.org/2000/svg\" height=\"24px\"viewBox=\"0 0 24 24\"\n",
              "     width=\"24px\">\n",
              "    <g>\n",
              "        <path d=\"M19 3H5c-1.1 0-2 .9-2 2v14c0 1.1.9 2 2 2h14c1.1 0 2-.9 2-2V5c0-1.1-.9-2-2-2zM9 17H7v-7h2v7zm4 0h-2V7h2v10zm4 0h-2v-4h2v4z\"/>\n",
              "    </g>\n",
              "</svg>\n",
              "  </button>\n",
              "\n",
              "<style>\n",
              "  .colab-df-quickchart {\n",
              "      --bg-color: #E8F0FE;\n",
              "      --fill-color: #1967D2;\n",
              "      --hover-bg-color: #E2EBFA;\n",
              "      --hover-fill-color: #174EA6;\n",
              "      --disabled-fill-color: #AAA;\n",
              "      --disabled-bg-color: #DDD;\n",
              "  }\n",
              "\n",
              "  [theme=dark] .colab-df-quickchart {\n",
              "      --bg-color: #3B4455;\n",
              "      --fill-color: #D2E3FC;\n",
              "      --hover-bg-color: #434B5C;\n",
              "      --hover-fill-color: #FFFFFF;\n",
              "      --disabled-bg-color: #3B4455;\n",
              "      --disabled-fill-color: #666;\n",
              "  }\n",
              "\n",
              "  .colab-df-quickchart {\n",
              "    background-color: var(--bg-color);\n",
              "    border: none;\n",
              "    border-radius: 50%;\n",
              "    cursor: pointer;\n",
              "    display: none;\n",
              "    fill: var(--fill-color);\n",
              "    height: 32px;\n",
              "    padding: 0;\n",
              "    width: 32px;\n",
              "  }\n",
              "\n",
              "  .colab-df-quickchart:hover {\n",
              "    background-color: var(--hover-bg-color);\n",
              "    box-shadow: 0 1px 2px rgba(60, 64, 67, 0.3), 0 1px 3px 1px rgba(60, 64, 67, 0.15);\n",
              "    fill: var(--button-hover-fill-color);\n",
              "  }\n",
              "\n",
              "  .colab-df-quickchart-complete:disabled,\n",
              "  .colab-df-quickchart-complete:disabled:hover {\n",
              "    background-color: var(--disabled-bg-color);\n",
              "    fill: var(--disabled-fill-color);\n",
              "    box-shadow: none;\n",
              "  }\n",
              "\n",
              "  .colab-df-spinner {\n",
              "    border: 2px solid var(--fill-color);\n",
              "    border-color: transparent;\n",
              "    border-bottom-color: var(--fill-color);\n",
              "    animation:\n",
              "      spin 1s steps(1) infinite;\n",
              "  }\n",
              "\n",
              "  @keyframes spin {\n",
              "    0% {\n",
              "      border-color: transparent;\n",
              "      border-bottom-color: var(--fill-color);\n",
              "      border-left-color: var(--fill-color);\n",
              "    }\n",
              "    20% {\n",
              "      border-color: transparent;\n",
              "      border-left-color: var(--fill-color);\n",
              "      border-top-color: var(--fill-color);\n",
              "    }\n",
              "    30% {\n",
              "      border-color: transparent;\n",
              "      border-left-color: var(--fill-color);\n",
              "      border-top-color: var(--fill-color);\n",
              "      border-right-color: var(--fill-color);\n",
              "    }\n",
              "    40% {\n",
              "      border-color: transparent;\n",
              "      border-right-color: var(--fill-color);\n",
              "      border-top-color: var(--fill-color);\n",
              "    }\n",
              "    60% {\n",
              "      border-color: transparent;\n",
              "      border-right-color: var(--fill-color);\n",
              "    }\n",
              "    80% {\n",
              "      border-color: transparent;\n",
              "      border-right-color: var(--fill-color);\n",
              "      border-bottom-color: var(--fill-color);\n",
              "    }\n",
              "    90% {\n",
              "      border-color: transparent;\n",
              "      border-bottom-color: var(--fill-color);\n",
              "    }\n",
              "  }\n",
              "</style>\n",
              "\n",
              "  <script>\n",
              "    async function quickchart(key) {\n",
              "      const quickchartButtonEl =\n",
              "        document.querySelector('#' + key + ' button');\n",
              "      quickchartButtonEl.disabled = true;  // To prevent multiple clicks.\n",
              "      quickchartButtonEl.classList.add('colab-df-spinner');\n",
              "      try {\n",
              "        const charts = await google.colab.kernel.invokeFunction(\n",
              "            'suggestCharts', [key], {});\n",
              "      } catch (error) {\n",
              "        console.error('Error during call to suggestCharts:', error);\n",
              "      }\n",
              "      quickchartButtonEl.classList.remove('colab-df-spinner');\n",
              "      quickchartButtonEl.classList.add('colab-df-quickchart-complete');\n",
              "    }\n",
              "    (() => {\n",
              "      let quickchartButtonEl =\n",
              "        document.querySelector('#df-7134778a-bebd-42a4-bb4b-4becca261fbf button');\n",
              "      quickchartButtonEl.style.display =\n",
              "        google.colab.kernel.accessAllowed ? 'block' : 'none';\n",
              "    })();\n",
              "  </script>\n",
              "</div>\n",
              "\n",
              "  <div id=\"id_c691f1b8-ed62-450f-b16a-b7b1257b0a1f\">\n",
              "    <style>\n",
              "      .colab-df-generate {\n",
              "        background-color: #E8F0FE;\n",
              "        border: none;\n",
              "        border-radius: 50%;\n",
              "        cursor: pointer;\n",
              "        display: none;\n",
              "        fill: #1967D2;\n",
              "        height: 32px;\n",
              "        padding: 0 0 0 0;\n",
              "        width: 32px;\n",
              "      }\n",
              "\n",
              "      .colab-df-generate:hover {\n",
              "        background-color: #E2EBFA;\n",
              "        box-shadow: 0px 1px 2px rgba(60, 64, 67, 0.3), 0px 1px 3px 1px rgba(60, 64, 67, 0.15);\n",
              "        fill: #174EA6;\n",
              "      }\n",
              "\n",
              "      [theme=dark] .colab-df-generate {\n",
              "        background-color: #3B4455;\n",
              "        fill: #D2E3FC;\n",
              "      }\n",
              "\n",
              "      [theme=dark] .colab-df-generate:hover {\n",
              "        background-color: #434B5C;\n",
              "        box-shadow: 0px 1px 3px 1px rgba(0, 0, 0, 0.15);\n",
              "        filter: drop-shadow(0px 1px 2px rgba(0, 0, 0, 0.3));\n",
              "        fill: #FFFFFF;\n",
              "      }\n",
              "    </style>\n",
              "    <button class=\"colab-df-generate\" onclick=\"generateWithVariable('alturas_hombres')\"\n",
              "            title=\"Generate code using this dataframe.\"\n",
              "            style=\"display:none;\">\n",
              "\n",
              "  <svg xmlns=\"http://www.w3.org/2000/svg\" height=\"24px\"viewBox=\"0 0 24 24\"\n",
              "       width=\"24px\">\n",
              "    <path d=\"M7,19H8.4L18.45,9,17,7.55,7,17.6ZM5,21V16.75L18.45,3.32a2,2,0,0,1,2.83,0l1.4,1.43a1.91,1.91,0,0,1,.58,1.4,1.91,1.91,0,0,1-.58,1.4L9.25,21ZM18.45,9,17,7.55Zm-12,3A5.31,5.31,0,0,0,4.9,8.1,5.31,5.31,0,0,0,1,6.5,5.31,5.31,0,0,0,4.9,4.9,5.31,5.31,0,0,0,6.5,1,5.31,5.31,0,0,0,8.1,4.9,5.31,5.31,0,0,0,12,6.5,5.46,5.46,0,0,0,6.5,12Z\"/>\n",
              "  </svg>\n",
              "    </button>\n",
              "    <script>\n",
              "      (() => {\n",
              "      const buttonEl =\n",
              "        document.querySelector('#id_c691f1b8-ed62-450f-b16a-b7b1257b0a1f button.colab-df-generate');\n",
              "      buttonEl.style.display =\n",
              "        google.colab.kernel.accessAllowed ? 'block' : 'none';\n",
              "\n",
              "      buttonEl.onclick = () => {\n",
              "        google.colab.notebook.generateWithVariable('alturas_hombres');\n",
              "      }\n",
              "      })();\n",
              "    </script>\n",
              "  </div>\n",
              "\n",
              "    </div>\n",
              "  </div>\n"
            ],
            "application/vnd.google.colaboratory.intrinsic+json": {
              "type": "dataframe",
              "variable_name": "alturas_hombres"
            }
          },
          "metadata": {},
          "execution_count": 111
        }
      ]
    },
    {
      "cell_type": "markdown",
      "metadata": {
        "id": "r6nJFS3thxsb"
      },
      "source": [
        "<h2> Distribución de cada muestra"
      ]
    },
    {
      "cell_type": "code",
      "metadata": {
        "id": "GIBiBnle7qRy",
        "colab": {
          "base_uri": "https://localhost:8080/",
          "height": 452
        },
        "outputId": "b8ea092e-bef6-4ca1-eb80-a341304a5d45"
      },
      "source": [
        "alturas_hombres.sample(6, axis = 1).hist(sharex= True)\n",
        "plt.show()"
      ],
      "execution_count": 112,
      "outputs": [
        {
          "output_type": "display_data",
          "data": {
            "text/plain": [
              "<Figure size 640x480 with 6 Axes>"
            ],
            "image/png": "[encoded data removed]"
          },
          "metadata": {}
        }
      ]
    },
    {
      "cell_type": "markdown",
      "metadata": {
        "id": "E2NUamHk1pi0"
      },
      "source": [
        "<h2> Distribución de la suma"
      ]
    },
    {
      "cell_type": "code",
      "metadata": {
        "colab": {
          "base_uri": "https://localhost:8080/"
        },
        "outputId": "43d14186-343e-460c-edfa-69e1dc066433",
        "id": "7L4dVKRh1pi9"
      },
      "source": [
        "suma = alturas_hombres.sum()\n",
        "suma"
      ],
      "execution_count": 113,
      "outputs": [
        {
          "output_type": "execute_result",
          "data": {
            "text/plain": [
              "muestra 1       669971.202156\n",
              "muestra 2       671127.692424\n",
              "muestra 3       670715.227661\n",
              "muestra 4       668798.265281\n",
              "muestra 5       671521.621238\n",
              "                    ...      \n",
              "muestra 1996    668993.358952\n",
              "muestra 1997    669983.663018\n",
              "muestra 1998    671585.503072\n",
              "muestra 1999    670829.696258\n",
              "muestra 2000    669440.260486\n",
              "Length: 2000, dtype: float64"
            ]
          },
          "metadata": {},
          "execution_count": 113
        }
      ]
    },
    {
      "cell_type": "code",
      "source": [
        "suma.hist(bins=30, figsize=(4,3))\n",
        "plt.show()"
      ],
      "metadata": {
        "colab": {
          "base_uri": "https://localhost:8080/",
          "height": 291
        },
        "id": "tdDssNPB2hqn",
        "outputId": "82fa9526-3183-4129-83a9-47a6d53cf95f"
      },
      "execution_count": 114,
      "outputs": [
        {
          "output_type": "display_data",
          "data": {
            "text/plain": [
              "<Figure size 400x300 with 1 Axes>"
            ],
            "image/png": "[encoded data removed]"
          },
          "metadata": {}
        }
      ]
    },
    {
      "cell_type": "markdown",
      "metadata": {
        "id": "dpqepVsWhbyJ"
      },
      "source": [
        "<h2> Distribución de los promedios"
      ]
    },
    {
      "cell_type": "code",
      "metadata": {
        "colab": {
          "base_uri": "https://localhost:8080/"
        },
        "id": "7-mAkd3pRRtx",
        "outputId": "ff9b8f6f-6540-4643-c38f-003d8ffd54df"
      },
      "source": [
        "medias = alturas_hombres.mean()\n",
        "medias"
      ],
      "execution_count": 115,
      "outputs": [
        {
          "output_type": "execute_result",
          "data": {
            "text/plain": [
              "muestra 1       1674.928005\n",
              "muestra 2       1677.819231\n",
              "muestra 3       1676.788069\n",
              "muestra 4       1671.995663\n",
              "muestra 5       1678.804053\n",
              "                   ...     \n",
              "muestra 1996    1672.483397\n",
              "muestra 1997    1674.959158\n",
              "muestra 1998    1678.963758\n",
              "muestra 1999    1677.074241\n",
              "muestra 2000    1673.600651\n",
              "Length: 2000, dtype: float64"
            ]
          },
          "metadata": {},
          "execution_count": 115
        }
      ]
    },
    {
      "cell_type": "code",
      "source": [
        "medias.hist(bins=30, figsize=(4,3))\n",
        "plt.show()"
      ],
      "metadata": {
        "colab": {
          "base_uri": "https://localhost:8080/",
          "height": 291
        },
        "id": "_P8FsvRtzpw_",
        "outputId": "67902d63-96ed-4f78-d8e1-3f7c6fdc301f"
      },
      "execution_count": 116,
      "outputs": [
        {
          "output_type": "display_data",
          "data": {
            "text/plain": [
              "<Figure size 400x300 with 1 Axes>"
            ],
            "image/png": "[encoded data removed]"
          },
          "metadata": {}
        }
      ]
    },
    {
      "cell_type": "markdown",
      "source": [
        "<h2> Distribución de los errores"
      ],
      "metadata": {
        "id": "h50zqQYE0XUu"
      }
    },
    {
      "cell_type": "code",
      "metadata": {
        "id": "yWYSEAmk8VIJ",
        "colab": {
          "base_uri": "https://localhost:8080/"
        },
        "outputId": "a060fb38-7316-4de5-8253-8ef756239506"
      },
      "source": [
        "errores = mu - medias\n",
        "errores"
      ],
      "execution_count": 117,
      "outputs": [
        {
          "output_type": "execute_result",
          "data": {
            "text/plain": [
              "muestra 1       0.071995\n",
              "muestra 2      -2.819231\n",
              "muestra 3      -1.788069\n",
              "muestra 4       3.004337\n",
              "muestra 5      -3.804053\n",
              "                  ...   \n",
              "muestra 1996    2.516603\n",
              "muestra 1997    0.040842\n",
              "muestra 1998   -3.963758\n",
              "muestra 1999   -2.074241\n",
              "muestra 2000    1.399349\n",
              "Length: 2000, dtype: float64"
            ]
          },
          "metadata": {},
          "execution_count": 117
        }
      ]
    },
    {
      "cell_type": "code",
      "metadata": {
        "id": "Q0zt05sw72tK",
        "colab": {
          "base_uri": "https://localhost:8080/",
          "height": 291
        },
        "outputId": "28bcd8e9-cdbc-40ba-c577-bf13fc2a8c7e"
      },
      "source": [
        "errores.hist(bins=30, figsize=(4,3))\n",
        "plt.show()"
      ],
      "execution_count": 118,
      "outputs": [
        {
          "output_type": "display_data",
          "data": {
            "text/plain": [
              "<Figure size 400x300 with 1 Axes>"
            ],
            "image/png": "[encoded data removed]"
          },
          "metadata": {}
        }
      ]
    },
    {
      "cell_type": "code",
      "metadata": {
        "colab": {
          "base_uri": "https://localhost:8080/",
          "height": 291
        },
        "outputId": "cf07e5b0-d9a1-49c6-a842-439f93080e77",
        "id": "qWOHhkDMDY6N"
      },
      "source": [
        "# podemos llegar a la distribución normal estándar\n",
        "(errores/(sigma/np.sqrt(n))).hist(bins=30, figsize=(4,3))\n",
        "plt.show()"
      ],
      "execution_count": 119,
      "outputs": [
        {
          "output_type": "display_data",
          "data": {
            "text/plain": [
              "<Figure size 400x300 with 1 Axes>"
            ],
            "image/png": "[encoded data removed]"
          },
          "metadata": {}
        }
      ]
    },
    {
      "cell_type": "markdown",
      "metadata": {
        "id": "SdDW1MbP6As0"
      },
      "source": [
        "# Distribución Bernoulli (Agujas de Buffon)"
      ]
    },
    {
      "cell_type": "markdown",
      "metadata": {
        "id": "-_WFJKLr6As7"
      },
      "source": [
        "<h2> Obtener muestras"
      ]
    },
    {
      "cell_type": "code",
      "source": [
        "def cruce_agujas_Buffon(n):\n",
        "    l = 1\n",
        "    l_cuadrado = 10\n",
        "\n",
        "    x = np.random.uniform(0, l_cuadrado, n) # coordenada x del centro de la aguja\n",
        "    y = np.random.uniform(0, l_cuadrado, n) # cordenada y del centro del aguja\n",
        "    𝜃 = np.random.uniform(0, np.pi, n) # angulo de rotación de la aguja en radianes, entre 0 y pi (180 grados)\n",
        "\n",
        "    # Calcula coordenadas extremos (P1 y P2)\n",
        "    x1 = x - (1/2 * np.cos(𝜃))\n",
        "    y1 = y - (1/2 * np.sin(𝜃))\n",
        "\n",
        "    x2 = x + (1/2 * np.cos(𝜃))\n",
        "    y2 = y + (1/2 * np.sin(𝜃))\n",
        "\n",
        "    # ¿Cruza alguna de las lineas del tapete?\n",
        "    cruza = np.where(np.floor(y1) != np.floor(y2), 1, 0)    # np.floor(3.76) = 3\n",
        "\n",
        "    return cruza"
      ],
      "metadata": {
        "id": "Zwj_d116Pp0k"
      },
      "execution_count": 120,
      "outputs": []
    },
    {
      "cell_type": "code",
      "source": [
        "n = 3408 # tamaño de la muestra\n",
        "m = 2000 # número de muestras\n",
        "Buffon_df= pd.DataFrame.from_dict({'experimento '+str(i): cruce_agujas_Buffon(n) for i in range(1, m+1)})\n",
        "Buffon_df"
      ],
      "metadata": {
        "id": "igdXApEN6pey",
        "outputId": "c8da14f8-004a-404e-f700-4206333909e4",
        "colab": {
          "base_uri": "https://localhost:8080/",
          "height": 461
        }
      },
      "execution_count": 121,
      "outputs": [
        {
          "output_type": "execute_result",
          "data": {
            "text/plain": [
              "      experimento 1  experimento 2  experimento 3  experimento 4  \\\n",
              "0                 0              0              0              0   \n",
              "1                 1              1              0              1   \n",
              "2                 0              0              1              1   \n",
              "3                 0              0              1              0   \n",
              "4                 1              1              1              1   \n",
              "...             ...            ...            ...            ...   \n",
              "3403              0              1              1              1   \n",
              "3404              1              1              1              0   \n",
              "3405              0              1              1              0   \n",
              "3406              1              0              0              0   \n",
              "3407              0              1              1              1   \n",
              "\n",
              "      experimento 5  experimento 6  experimento 7  experimento 8  \\\n",
              "0                 1              1              1              1   \n",
              "1                 1              0              0              1   \n",
              "2                 1              1              1              1   \n",
              "3                 1              1              0              0   \n",
              "4                 1              1              1              0   \n",
              "...             ...            ...            ...            ...   \n",
              "3403              0              0              1              0   \n",
              "3404              0              1              1              0   \n",
              "3405              1              1              0              1   \n",
              "3406              1              1              1              1   \n",
              "3407              1              0              1              0   \n",
              "\n",
              "      experimento 9  experimento 10  ...  experimento 1991  experimento 1992  \\\n",
              "0                 0               0  ...                 1                 1   \n",
              "1                 0               0  ...                 1                 1   \n",
              "2                 1               1  ...                 1                 0   \n",
              "3                 0               1  ...                 1                 1   \n",
              "4                 1               1  ...                 1                 1   \n",
              "...             ...             ...  ...               ...               ...   \n",
              "3403              1               1  ...                 0                 1   \n",
              "3404              1               1  ...                 1                 0   \n",
              "3405              1               1  ...                 1                 0   \n",
              "3406              0               0  ...                 0                 1   \n",
              "3407              0               0  ...                 0                 1   \n",
              "\n",
              "      experimento 1993  experimento 1994  experimento 1995  experimento 1996  \\\n",
              "0                    1                 0                 0                 1   \n",
              "1                    0                 1                 1                 0   \n",
              "2                    1                 1                 1                 0   \n",
              "3                    0                 0                 1                 0   \n",
              "4                    1                 1                 1                 1   \n",
              "...                ...               ...               ...               ...   \n",
              "3403                 0                 1                 1                 1   \n",
              "3404                 1                 1                 1                 0   \n",
              "3405                 1                 0                 1                 0   \n",
              "3406                 0                 0                 0                 0   \n",
              "3407                 1                 0                 0                 1   \n",
              "\n",
              "      experimento 1997  experimento 1998  experimento 1999  experimento 2000  \n",
              "0                    1                 0                 0                 1  \n",
              "1                    1                 1                 0                 0  \n",
              "2                    1                 1                 0                 1  \n",
              "3                    0                 0                 1                 0  \n",
              "4                    0                 1                 0                 1  \n",
              "...                ...               ...               ...               ...  \n",
              "3403                 1                 0                 0                 1  \n",
              "3404                 0                 1                 1                 1  \n",
              "3405                 1                 1                 0                 1  \n",
              "3406                 1                 1                 1                 1  \n",
              "3407                 1                 1                 0                 1  \n",
              "\n",
              "[3408 rows x 2000 columns]"
            ],
            "text/html": [
              "\n",
              "  <div id=\"df-be0cce09-0fd7-40e9-90a2-f2edc2e493d8\" class=\"colab-df-container\">\n",
              "    <div>\n",
              "<style scoped>\n",
              "    .dataframe tbody tr th:only-of-type {\n",
              "        vertical-align: middle;\n",
              "    }\n",
              "\n",
              "    .dataframe tbody tr th {\n",
              "        vertical-align: top;\n",
              "    }\n",
              "\n",
              "    .dataframe thead th {\n",
              "        text-align: right;\n",
              "    }\n",
              "</style>\n",
              "<table border=\"1\" class=\"dataframe\">\n",
              "  <thead>\n",
              "    <tr style=\"text-align: right;\">\n",
              "      <th></th>\n",
              "      <th>experimento 1</th>\n",
              "      <th>experimento 2</th>\n",
              "      <th>experimento 3</th>\n",
              "      <th>experimento 4</th>\n",
              "      <th>experimento 5</th>\n",
              "      <th>experimento 6</th>\n",
              "      <th>experimento 7</th>\n",
              "      <th>experimento 8</th>\n",
              "      <th>experimento 9</th>\n",
              "      <th>experimento 10</th>\n",
              "      <th>...</th>\n",
              "      <th>experimento 1991</th>\n",
              "      <th>experimento 1992</th>\n",
              "      <th>experimento 1993</th>\n",
              "      <th>experimento 1994</th>\n",
              "      <th>experimento 1995</th>\n",
              "      <th>experimento 1996</th>\n",
              "      <th>experimento 1997</th>\n",
              "      <th>experimento 1998</th>\n",
              "      <th>experimento 1999</th>\n",
              "      <th>experimento 2000</th>\n",
              "    </tr>\n",
              "  </thead>\n",
              "  <tbody>\n",
              "    <tr>\n",
              "      <th>0</th>\n",
              "      <td>0</td>\n",
              "      <td>0</td>\n",
              "      <td>0</td>\n",
              "      <td>0</td>\n",
              "      <td>1</td>\n",
              "      <td>1</td>\n",
              "      <td>1</td>\n",
              "      <td>1</td>\n",
              "      <td>0</td>\n",
              "      <td>0</td>\n",
              "      <td>...</td>\n",
              "      <td>1</td>\n",
              "      <td>1</td>\n",
              "      <td>1</td>\n",
              "      <td>0</td>\n",
              "      <td>0</td>\n",
              "      <td>1</td>\n",
              "      <td>1</td>\n",
              "      <td>0</td>\n",
              "      <td>0</td>\n",
              "      <td>1</td>\n",
              "    </tr>\n",
              "    <tr>\n",
              "      <th>1</th>\n",
              "      <td>1</td>\n",
              "      <td>1</td>\n",
              "      <td>0</td>\n",
              "      <td>1</td>\n",
              "      <td>1</td>\n",
              "      <td>0</td>\n",
              "      <td>0</td>\n",
              "      <td>1</td>\n",
              "      <td>0</td>\n",
              "      <td>0</td>\n",
              "      <td>...</td>\n",
              "      <td>1</td>\n",
              "      <td>1</td>\n",
              "      <td>0</td>\n",
              "      <td>1</td>\n",
              "      <td>1</td>\n",
              "      <td>0</td>\n",
              "      <td>1</td>\n",
              "      <td>1</td>\n",
              "      <td>0</td>\n",
              "      <td>0</td>\n",
              "    </tr>\n",
              "    <tr>\n",
              "      <th>2</th>\n",
              "      <td>0</td>\n",
              "      <td>0</td>\n",
              "      <td>1</td>\n",
              "      <td>1</td>\n",
              "      <td>1</td>\n",
              "      <td>1</td>\n",
              "      <td>1</td>\n",
              "      <td>1</td>\n",
              "      <td>1</td>\n",
              "      <td>1</td>\n",
              "      <td>...</td>\n",
              "      <td>1</td>\n",
              "      <td>0</td>\n",
              "      <td>1</td>\n",
              "      <td>1</td>\n",
              "      <td>1</td>\n",
              "      <td>0</td>\n",
              "      <td>1</td>\n",
              "      <td>1</td>\n",
              "      <td>0</td>\n",
              "      <td>1</td>\n",
              "    </tr>\n",
              "    <tr>\n",
              "      <th>3</th>\n",
              "      <td>0</td>\n",
              "      <td>0</td>\n",
              "      <td>1</td>\n",
              "      <td>0</td>\n",
              "      <td>1</td>\n",
              "      <td>1</td>\n",
              "      <td>0</td>\n",
              "      <td>0</td>\n",
              "      <td>0</td>\n",
              "      <td>1</td>\n",
              "      <td>...</td>\n",
              "      <td>1</td>\n",
              "      <td>1</td>\n",
              "      <td>0</td>\n",
              "      <td>0</td>\n",
              "      <td>1</td>\n",
              "      <td>0</td>\n",
              "      <td>0</td>\n",
              "      <td>0</td>\n",
              "      <td>1</td>\n",
              "      <td>0</td>\n",
              "    </tr>\n",
              "    <tr>\n",
              "      <th>4</th>\n",
              "      <td>1</td>\n",
              "      <td>1</td>\n",
              "      <td>1</td>\n",
              "      <td>1</td>\n",
              "      <td>1</td>\n",
              "      <td>1</td>\n",
              "      <td>1</td>\n",
              "      <td>0</td>\n",
              "      <td>1</td>\n",
              "      <td>1</td>\n",
              "      <td>...</td>\n",
              "      <td>1</td>\n",
              "      <td>1</td>\n",
              "      <td>1</td>\n",
              "      <td>1</td>\n",
              "      <td>1</td>\n",
              "      <td>1</td>\n",
              "      <td>0</td>\n",
              "      <td>1</td>\n",
              "      <td>0</td>\n",
              "      <td>1</td>\n",
              "    </tr>\n",
              "    <tr>\n",
              "      <th>...</th>\n",
              "      <td>...</td>\n",
              "      <td>...</td>\n",
              "      <td>...</td>\n",
              "      <td>...</td>\n",
              "      <td>...</td>\n",
              "      <td>...</td>\n",
              "      <td>...</td>\n",
              "      <td>...</td>\n",
              "      <td>...</td>\n",
              "      <td>...</td>\n",
              "      <td>...</td>\n",
              "      <td>...</td>\n",
              "      <td>...</td>\n",
              "      <td>...</td>\n",
              "      <td>...</td>\n",
              "      <td>...</td>\n",
              "      <td>...</td>\n",
              "      <td>...</td>\n",
              "      <td>...</td>\n",
              "      <td>...</td>\n",
              "      <td>...</td>\n",
              "    </tr>\n",
              "    <tr>\n",
              "      <th>3403</th>\n",
              "      <td>0</td>\n",
              "      <td>1</td>\n",
              "      <td>1</td>\n",
              "      <td>1</td>\n",
              "      <td>0</td>\n",
              "      <td>0</td>\n",
              "      <td>1</td>\n",
              "      <td>0</td>\n",
              "      <td>1</td>\n",
              "      <td>1</td>\n",
              "      <td>...</td>\n",
              "      <td>0</td>\n",
              "      <td>1</td>\n",
              "      <td>0</td>\n",
              "      <td>1</td>\n",
              "      <td>1</td>\n",
              "      <td>1</td>\n",
              "      <td>1</td>\n",
              "      <td>0</td>\n",
              "      <td>0</td>\n",
              "      <td>1</td>\n",
              "    </tr>\n",
              "    <tr>\n",
              "      <th>3404</th>\n",
              "      <td>1</td>\n",
              "      <td>1</td>\n",
              "      <td>1</td>\n",
              "      <td>0</td>\n",
              "      <td>0</td>\n",
              "      <td>1</td>\n",
              "      <td>1</td>\n",
              "      <td>0</td>\n",
              "      <td>1</td>\n",
              "      <td>1</td>\n",
              "      <td>...</td>\n",
              "      <td>1</td>\n",
              "      <td>0</td>\n",
              "      <td>1</td>\n",
              "      <td>1</td>\n",
              "      <td>1</td>\n",
              "      <td>0</td>\n",
              "      <td>0</td>\n",
              "      <td>1</td>\n",
              "      <td>1</td>\n",
              "      <td>1</td>\n",
              "    </tr>\n",
              "    <tr>\n",
              "      <th>3405</th>\n",
              "      <td>0</td>\n",
              "      <td>1</td>\n",
              "      <td>1</td>\n",
              "      <td>0</td>\n",
              "      <td>1</td>\n",
              "      <td>1</td>\n",
              "      <td>0</td>\n",
              "      <td>1</td>\n",
              "      <td>1</td>\n",
              "      <td>1</td>\n",
              "      <td>...</td>\n",
              "      <td>1</td>\n",
              "      <td>0</td>\n",
              "      <td>1</td>\n",
              "      <td>0</td>\n",
              "      <td>1</td>\n",
              "      <td>0</td>\n",
              "      <td>1</td>\n",
              "      <td>1</td>\n",
              "      <td>0</td>\n",
              "      <td>1</td>\n",
              "    </tr>\n",
              "    <tr>\n",
              "      <th>3406</th>\n",
              "      <td>1</td>\n",
              "      <td>0</td>\n",
              "      <td>0</td>\n",
              "      <td>0</td>\n",
              "      <td>1</td>\n",
              "      <td>1</td>\n",
              "      <td>1</td>\n",
              "      <td>1</td>\n",
              "      <td>0</td>\n",
              "      <td>0</td>\n",
              "      <td>...</td>\n",
              "      <td>0</td>\n",
              "      <td>1</td>\n",
              "      <td>0</td>\n",
              "      <td>0</td>\n",
              "      <td>0</td>\n",
              "      <td>0</td>\n",
              "      <td>1</td>\n",
              "      <td>1</td>\n",
              "      <td>1</td>\n",
              "      <td>1</td>\n",
              "    </tr>\n",
              "    <tr>\n",
              "      <th>3407</th>\n",
              "      <td>0</td>\n",
              "      <td>1</td>\n",
              "      <td>1</td>\n",
              "      <td>1</td>\n",
              "      <td>1</td>\n",
              "      <td>0</td>\n",
              "      <td>1</td>\n",
              "      <td>0</td>\n",
              "      <td>0</td>\n",
              "      <td>0</td>\n",
              "      <td>...</td>\n",
              "      <td>0</td>\n",
              "      <td>1</td>\n",
              "      <td>1</td>\n",
              "      <td>0</td>\n",
              "      <td>0</td>\n",
              "      <td>1</td>\n",
              "      <td>1</td>\n",
              "      <td>1</td>\n",
              "      <td>0</td>\n",
              "      <td>1</td>\n",
              "    </tr>\n",
              "  </tbody>\n",
              "</table>\n",
              "<p>3408 rows × 2000 columns</p>\n",
              "</div>\n",
              "    <div class=\"colab-df-buttons\">\n",
              "\n",
              "  <div class=\"colab-df-container\">\n",
              "    <button class=\"colab-df-convert\" onclick=\"convertToInteractive('df-be0cce09-0fd7-40e9-90a2-f2edc2e493d8')\"\n",
              "            title=\"Convert this dataframe to an interactive table.\"\n",
              "            style=\"display:none;\">\n",
              "\n",
              "  <svg xmlns=\"http://www.w3.org/2000/svg\" height=\"24px\" viewBox=\"0 -960 960 960\">\n",
              "    <path d=\"M120-120v-720h720v720H120Zm60-500h600v-160H180v160Zm220 220h160v-160H400v160Zm0 220h160v-160H400v160ZM180-400h160v-160H180v160Zm440 0h160v-160H620v160ZM180-180h160v-160H180v160Zm440 0h160v-160H620v160Z\"/>\n",
              "  </svg>\n",
              "    </button>\n",
              "\n",
              "  <style>\n",
              "    .colab-df-container {\n",
              "      display:flex;\n",
              "      gap: 12px;\n",
              "    }\n",
              "\n",
              "    .colab-df-convert {\n",
              "      background-color: #E8F0FE;\n",
              "      border: none;\n",
              "      border-radius: 50%;\n",
              "      cursor: pointer;\n",
              "      display: none;\n",
              "      fill: #1967D2;\n",
              "      height: 32px;\n",
              "      padding: 0 0 0 0;\n",
              "      width: 32px;\n",
              "    }\n",
              "\n",
              "    .colab-df-convert:hover {\n",
              "      background-color: #E2EBFA;\n",
              "      box-shadow: 0px 1px 2px rgba(60, 64, 67, 0.3), 0px 1px 3px 1px rgba(60, 64, 67, 0.15);\n",
              "      fill: #174EA6;\n",
              "    }\n",
              "\n",
              "    .colab-df-buttons div {\n",
              "      margin-bottom: 4px;\n",
              "    }\n",
              "\n",
              "    [theme=dark] .colab-df-convert {\n",
              "      background-color: #3B4455;\n",
              "      fill: #D2E3FC;\n",
              "    }\n",
              "\n",
              "    [theme=dark] .colab-df-convert:hover {\n",
              "      background-color: #434B5C;\n",
              "      box-shadow: 0px 1px 3px 1px rgba(0, 0, 0, 0.15);\n",
              "      filter: drop-shadow(0px 1px 2px rgba(0, 0, 0, 0.3));\n",
              "      fill: #FFFFFF;\n",
              "    }\n",
              "  </style>\n",
              "\n",
              "    <script>\n",
              "      const buttonEl =\n",
              "        document.querySelector('#df-be0cce09-0fd7-40e9-90a2-f2edc2e493d8 button.colab-df-convert');\n",
              "      buttonEl.style.display =\n",
              "        google.colab.kernel.accessAllowed ? 'block' : 'none';\n",
              "\n",
              "      async function convertToInteractive(key) {\n",
              "        const element = document.querySelector('#df-be0cce09-0fd7-40e9-90a2-f2edc2e493d8');\n",
              "        const dataTable =\n",
              "          await google.colab.kernel.invokeFunction('convertToInteractive',\n",
              "                                                    [key], {});\n",
              "        if (!dataTable) return;\n",
              "\n",
              "        const docLinkHtml = 'Like what you see? Visit the ' +\n",
              "          '<a target=\"_blank\" href=https://colab.research.google.com/notebooks/data_table.ipynb>data table notebook</a>'\n",
              "          + ' to learn more about interactive tables.';\n",
              "        element.innerHTML = '';\n",
              "        dataTable['output_type'] = 'display_data';\n",
              "        await google.colab.output.renderOutput(dataTable, element);\n",
              "        const docLink = document.createElement('div');\n",
              "        docLink.innerHTML = docLinkHtml;\n",
              "        element.appendChild(docLink);\n",
              "      }\n",
              "    </script>\n",
              "  </div>\n",
              "\n",
              "\n",
              "<div id=\"df-6468895e-92c4-46d0-aa84-202dee342ae1\">\n",
              "  <button class=\"colab-df-quickchart\" onclick=\"quickchart('df-6468895e-92c4-46d0-aa84-202dee342ae1')\"\n",
              "            title=\"Suggest charts\"\n",
              "            style=\"display:none;\">\n",
              "\n",
              "<svg xmlns=\"http://www.w3.org/2000/svg\" height=\"24px\"viewBox=\"0 0 24 24\"\n",
              "     width=\"24px\">\n",
              "    <g>\n",
              "        <path d=\"M19 3H5c-1.1 0-2 .9-2 2v14c0 1.1.9 2 2 2h14c1.1 0 2-.9 2-2V5c0-1.1-.9-2-2-2zM9 17H7v-7h2v7zm4 0h-2V7h2v10zm4 0h-2v-4h2v4z\"/>\n",
              "    </g>\n",
              "</svg>\n",
              "  </button>\n",
              "\n",
              "<style>\n",
              "  .colab-df-quickchart {\n",
              "      --bg-color: #E8F0FE;\n",
              "      --fill-color: #1967D2;\n",
              "      --hover-bg-color: #E2EBFA;\n",
              "      --hover-fill-color: #174EA6;\n",
              "      --disabled-fill-color: #AAA;\n",
              "      --disabled-bg-color: #DDD;\n",
              "  }\n",
              "\n",
              "  [theme=dark] .colab-df-quickchart {\n",
              "      --bg-color: #3B4455;\n",
              "      --fill-color: #D2E3FC;\n",
              "      --hover-bg-color: #434B5C;\n",
              "      --hover-fill-color: #FFFFFF;\n",
              "      --disabled-bg-color: #3B4455;\n",
              "      --disabled-fill-color: #666;\n",
              "  }\n",
              "\n",
              "  .colab-df-quickchart {\n",
              "    background-color: var(--bg-color);\n",
              "    border: none;\n",
              "    border-radius: 50%;\n",
              "    cursor: pointer;\n",
              "    display: none;\n",
              "    fill: var(--fill-color);\n",
              "    height: 32px;\n",
              "    padding: 0;\n",
              "    width: 32px;\n",
              "  }\n",
              "\n",
              "  .colab-df-quickchart:hover {\n",
              "    background-color: var(--hover-bg-color);\n",
              "    box-shadow: 0 1px 2px rgba(60, 64, 67, 0.3), 0 1px 3px 1px rgba(60, 64, 67, 0.15);\n",
              "    fill: var(--button-hover-fill-color);\n",
              "  }\n",
              "\n",
              "  .colab-df-quickchart-complete:disabled,\n",
              "  .colab-df-quickchart-complete:disabled:hover {\n",
              "    background-color: var(--disabled-bg-color);\n",
              "    fill: var(--disabled-fill-color);\n",
              "    box-shadow: none;\n",
              "  }\n",
              "\n",
              "  .colab-df-spinner {\n",
              "    border: 2px solid var(--fill-color);\n",
              "    border-color: transparent;\n",
              "    border-bottom-color: var(--fill-color);\n",
              "    animation:\n",
              "      spin 1s steps(1) infinite;\n",
              "  }\n",
              "\n",
              "  @keyframes spin {\n",
              "    0% {\n",
              "      border-color: transparent;\n",
              "      border-bottom-color: var(--fill-color);\n",
              "      border-left-color: var(--fill-color);\n",
              "    }\n",
              "    20% {\n",
              "      border-color: transparent;\n",
              "      border-left-color: var(--fill-color);\n",
              "      border-top-color: var(--fill-color);\n",
              "    }\n",
              "    30% {\n",
              "      border-color: transparent;\n",
              "      border-left-color: var(--fill-color);\n",
              "      border-top-color: var(--fill-color);\n",
              "      border-right-color: var(--fill-color);\n",
              "    }\n",
              "    40% {\n",
              "      border-color: transparent;\n",
              "      border-right-color: var(--fill-color);\n",
              "      border-top-color: var(--fill-color);\n",
              "    }\n",
              "    60% {\n",
              "      border-color: transparent;\n",
              "      border-right-color: var(--fill-color);\n",
              "    }\n",
              "    80% {\n",
              "      border-color: transparent;\n",
              "      border-right-color: var(--fill-color);\n",
              "      border-bottom-color: var(--fill-color);\n",
              "    }\n",
              "    90% {\n",
              "      border-color: transparent;\n",
              "      border-bottom-color: var(--fill-color);\n",
              "    }\n",
              "  }\n",
              "</style>\n",
              "\n",
              "  <script>\n",
              "    async function quickchart(key) {\n",
              "      const quickchartButtonEl =\n",
              "        document.querySelector('#' + key + ' button');\n",
              "      quickchartButtonEl.disabled = true;  // To prevent multiple clicks.\n",
              "      quickchartButtonEl.classList.add('colab-df-spinner');\n",
              "      try {\n",
              "        const charts = await google.colab.kernel.invokeFunction(\n",
              "            'suggestCharts', [key], {});\n",
              "      } catch (error) {\n",
              "        console.error('Error during call to suggestCharts:', error);\n",
              "      }\n",
              "      quickchartButtonEl.classList.remove('colab-df-spinner');\n",
              "      quickchartButtonEl.classList.add('colab-df-quickchart-complete');\n",
              "    }\n",
              "    (() => {\n",
              "      let quickchartButtonEl =\n",
              "        document.querySelector('#df-6468895e-92c4-46d0-aa84-202dee342ae1 button');\n",
              "      quickchartButtonEl.style.display =\n",
              "        google.colab.kernel.accessAllowed ? 'block' : 'none';\n",
              "    })();\n",
              "  </script>\n",
              "</div>\n",
              "\n",
              "  <div id=\"id_df12a09a-362d-49a0-9712-662911e2a58b\">\n",
              "    <style>\n",
              "      .colab-df-generate {\n",
              "        background-color: #E8F0FE;\n",
              "        border: none;\n",
              "        border-radius: 50%;\n",
              "        cursor: pointer;\n",
              "        display: none;\n",
              "        fill: #1967D2;\n",
              "        height: 32px;\n",
              "        padding: 0 0 0 0;\n",
              "        width: 32px;\n",
              "      }\n",
              "\n",
              "      .colab-df-generate:hover {\n",
              "        background-color: #E2EBFA;\n",
              "        box-shadow: 0px 1px 2px rgba(60, 64, 67, 0.3), 0px 1px 3px 1px rgba(60, 64, 67, 0.15);\n",
              "        fill: #174EA6;\n",
              "      }\n",
              "\n",
              "      [theme=dark] .colab-df-generate {\n",
              "        background-color: #3B4455;\n",
              "        fill: #D2E3FC;\n",
              "      }\n",
              "\n",
              "      [theme=dark] .colab-df-generate:hover {\n",
              "        background-color: #434B5C;\n",
              "        box-shadow: 0px 1px 3px 1px rgba(0, 0, 0, 0.15);\n",
              "        filter: drop-shadow(0px 1px 2px rgba(0, 0, 0, 0.3));\n",
              "        fill: #FFFFFF;\n",
              "      }\n",
              "    </style>\n",
              "    <button class=\"colab-df-generate\" onclick=\"generateWithVariable('Buffon_df')\"\n",
              "            title=\"Generate code using this dataframe.\"\n",
              "            style=\"display:none;\">\n",
              "\n",
              "  <svg xmlns=\"http://www.w3.org/2000/svg\" height=\"24px\"viewBox=\"0 0 24 24\"\n",
              "       width=\"24px\">\n",
              "    <path d=\"M7,19H8.4L18.45,9,17,7.55,7,17.6ZM5,21V16.75L18.45,3.32a2,2,0,0,1,2.83,0l1.4,1.43a1.91,1.91,0,0,1,.58,1.4,1.91,1.91,0,0,1-.58,1.4L9.25,21ZM18.45,9,17,7.55Zm-12,3A5.31,5.31,0,0,0,4.9,8.1,5.31,5.31,0,0,0,1,6.5,5.31,5.31,0,0,0,4.9,4.9,5.31,5.31,0,0,0,6.5,1,5.31,5.31,0,0,0,8.1,4.9,5.31,5.31,0,0,0,12,6.5,5.46,5.46,0,0,0,6.5,12Z\"/>\n",
              "  </svg>\n",
              "    </button>\n",
              "    <script>\n",
              "      (() => {\n",
              "      const buttonEl =\n",
              "        document.querySelector('#id_df12a09a-362d-49a0-9712-662911e2a58b button.colab-df-generate');\n",
              "      buttonEl.style.display =\n",
              "        google.colab.kernel.accessAllowed ? 'block' : 'none';\n",
              "\n",
              "      buttonEl.onclick = () => {\n",
              "        google.colab.notebook.generateWithVariable('Buffon_df');\n",
              "      }\n",
              "      })();\n",
              "    </script>\n",
              "  </div>\n",
              "\n",
              "    </div>\n",
              "  </div>\n"
            ],
            "application/vnd.google.colaboratory.intrinsic+json": {
              "type": "dataframe",
              "variable_name": "Buffon_df"
            }
          },
          "metadata": {},
          "execution_count": 121
        }
      ]
    },
    {
      "cell_type": "markdown",
      "metadata": {
        "id": "2sor2lMT8A5E"
      },
      "source": [
        "<h2> Distribución de cada muestra"
      ]
    },
    {
      "cell_type": "code",
      "metadata": {
        "colab": {
          "base_uri": "https://localhost:8080/",
          "height": 452
        },
        "outputId": "cf99f3e9-05be-4dc2-a956-129e5d67c393",
        "id": "qXwlhLwE8A5K"
      },
      "source": [
        "Buffon_df.sample(6, axis = 1).hist(sharex= True)\n",
        "plt.show()"
      ],
      "execution_count": 122,
      "outputs": [
        {
          "output_type": "display_data",
          "data": {
            "text/plain": [
              "<Figure size 640x480 with 6 Axes>"
            ],
            "image/png": "[encoded data removed]"
          },
          "metadata": {}
        }
      ]
    },
    {
      "cell_type": "markdown",
      "metadata": {
        "id": "o44FWbcN8A5K"
      },
      "source": [
        "<h2>Distribución de la suma"
      ]
    },
    {
      "cell_type": "code",
      "metadata": {
        "colab": {
          "base_uri": "https://localhost:8080/"
        },
        "outputId": "2cdacd8a-26cb-43ec-b155-01dac765bf5e",
        "id": "6yIu_yka8A5L"
      },
      "source": [
        "suma = Buffon_df.sum()\n",
        "suma"
      ],
      "execution_count": 123,
      "outputs": [
        {
          "output_type": "execute_result",
          "data": {
            "text/plain": [
              "experimento 1       2122\n",
              "experimento 2       2191\n",
              "experimento 3       2156\n",
              "experimento 4       2155\n",
              "experimento 5       2142\n",
              "                    ... \n",
              "experimento 1996    2197\n",
              "experimento 1997    2128\n",
              "experimento 1998    2148\n",
              "experimento 1999    2174\n",
              "experimento 2000    2164\n",
              "Length: 2000, dtype: int64"
            ]
          },
          "metadata": {},
          "execution_count": 123
        }
      ]
    },
    {
      "cell_type": "code",
      "source": [
        "suma.hist(bins=30, figsize=(4,3))\n",
        "plt.show()"
      ],
      "metadata": {
        "outputId": "c91d6aed-0168-4578-a415-b922ae762220",
        "colab": {
          "base_uri": "https://localhost:8080/",
          "height": 295
        },
        "id": "bniNexOu8A5L"
      },
      "execution_count": 124,
      "outputs": [
        {
          "output_type": "display_data",
          "data": {
            "text/plain": [
              "<Figure size 400x300 with 1 Axes>"
            ],
            "image/png": "[encoded data removed]"
          },
          "metadata": {}
        }
      ]
    },
    {
      "cell_type": "markdown",
      "metadata": {
        "id": "tl9lm0Lw8A5L"
      },
      "source": [
        "<h2>Distribución de los promedios"
      ]
    },
    {
      "cell_type": "code",
      "metadata": {
        "colab": {
          "base_uri": "https://localhost:8080/"
        },
        "outputId": "223f70bd-4541-4f72-d8e4-40f2c9ebe268",
        "id": "ScVZEPgU8A5L"
      },
      "source": [
        "medias = Buffon_df.mean()\n",
        "medias"
      ],
      "execution_count": 126,
      "outputs": [
        {
          "output_type": "execute_result",
          "data": {
            "text/plain": [
              "experimento 1       0.622653\n",
              "experimento 2       0.642899\n",
              "experimento 3       0.632629\n",
              "experimento 4       0.632336\n",
              "experimento 5       0.628521\n",
              "                      ...   \n",
              "experimento 1996    0.644660\n",
              "experimento 1997    0.624413\n",
              "experimento 1998    0.630282\n",
              "experimento 1999    0.637911\n",
              "experimento 2000    0.634977\n",
              "Length: 2000, dtype: float64"
            ]
          },
          "metadata": {},
          "execution_count": 126
        }
      ]
    },
    {
      "cell_type": "code",
      "source": [
        "medias.hist(bins=30, figsize=(4,3))\n",
        "plt.show()"
      ],
      "metadata": {
        "colab": {
          "base_uri": "https://localhost:8080/",
          "height": 295
        },
        "outputId": "c8f68eaa-5b41-419e-bb11-f23d551298c7",
        "id": "ABSz_ne_8A5L"
      },
      "execution_count": 127,
      "outputs": [
        {
          "output_type": "display_data",
          "data": {
            "text/plain": [
              "<Figure size 400x300 with 1 Axes>"
            ],
            "image/png": "[encoded data removed]"
          },
          "metadata": {}
        }
      ]
    },
    {
      "cell_type": "markdown",
      "source": [
        "<h2>Distribución de los errores"
      ],
      "metadata": {
        "id": "Iak1MSIU8A5L"
      }
    },
    {
      "cell_type": "code",
      "metadata": {
        "colab": {
          "base_uri": "https://localhost:8080/"
        },
        "outputId": "33973a6e-8f53-4f54-b01a-34d7de973360",
        "id": "DQ8U5p-U8A5L"
      },
      "source": [
        "errores = 2/np.pi - medias\n",
        "errores"
      ],
      "execution_count": 128,
      "outputs": [
        {
          "output_type": "execute_result",
          "data": {
            "text/plain": [
              "experimento 1       0.013967\n",
              "experimento 2      -0.006279\n",
              "experimento 3       0.003991\n",
              "experimento 4       0.004284\n",
              "experimento 5       0.008099\n",
              "                      ...   \n",
              "experimento 1996   -0.008040\n",
              "experimento 1997    0.012207\n",
              "experimento 1998    0.006338\n",
              "experimento 1999   -0.001291\n",
              "experimento 2000    0.001643\n",
              "Length: 2000, dtype: float64"
            ]
          },
          "metadata": {},
          "execution_count": 128
        }
      ]
    },
    {
      "cell_type": "code",
      "metadata": {
        "colab": {
          "base_uri": "https://localhost:8080/",
          "height": 295
        },
        "outputId": "4d529b5d-0e7d-4e2b-f610-1813050e45b4",
        "id": "nLP8BKCa8A5L"
      },
      "source": [
        "errores.hist(bins=30, figsize=(4,3))\n",
        "plt.show()"
      ],
      "execution_count": 129,
      "outputs": [
        {
          "output_type": "display_data",
          "data": {
            "text/plain": [
              "<Figure size 400x300 with 1 Axes>"
            ],
            "image/png": "[encoded data removed]"
          },
          "metadata": {}
        }
      ]
    },
    {
      "cell_type": "code",
      "metadata": {
        "colab": {
          "base_uri": "https://localhost:8080/",
          "height": 295
        },
        "outputId": "a7391ba0-0b57-4294-dff0-56c286a81a56",
        "id": "ni6h9Gup8A5L"
      },
      "source": [
        "# podemos llegar a la distribución normal estándar\n",
        "(errores/(sigma/np.sqrt(n))).hist(bins=30, figsize=(4,3))\n",
        "plt.show()"
      ],
      "execution_count": 132,
      "outputs": [
        {
          "output_type": "display_data",
          "data": {
            "text/plain": [
              "<Figure size 400x300 with 1 Axes>"
            ],
            "image/png": "[encoded data removed]"
          },
          "metadata": {}
        }
      ]
    },
    {
      "cell_type": "markdown",
      "metadata": {
        "id": "vM6KSyr20BqS"
      },
      "source": [
        "# Distribución Bernoulli (obtener una vocal)"
      ]
    },
    {
      "cell_type": "markdown",
      "metadata": {
        "id": "zdMWKVsV1UFW"
      },
      "source": [
        "<h2> Preprocesar libro y obtener probabilidades de los caracteres"
      ]
    },
    {
      "cell_type": "code",
      "source": [
        "from google.colab import drive\n",
        "drive.mount('/content/drive')"
      ],
      "metadata": {
        "colab": {
          "base_uri": "https://localhost:8080/"
        },
        "id": "zLggk11K5qWI",
        "outputId": "bc41d2a7-a6e8-409d-945b-283c3dbbbee5"
      },
      "execution_count": 79,
      "outputs": [
        {
          "output_type": "stream",
          "name": "stdout",
          "text": [
            "Mounted at /content/drive\n"
          ]
        }
      ]
    },
    {
      "cell_type": "code",
      "metadata": {
        "id": "SIfWx3huarFt"
      },
      "source": [
        "#Leer libro\n",
        "libro = leer_libro('/content/drive/MyDrive/Datos/gabriel_garcia_marquez_cien_annos_soledad.txt')\n",
        "borrar = ['Gabriel García Márquez',\n",
        "          'Cien años de soledad',\n",
        "          'EDITADO POR \"EDICIONES LA CUEVA\"',\n",
        "          'Para J omi García Ascot y María Luisa Elio']\n",
        "\n",
        "libro =  borrar_elementos(libro, borrar)\n",
        "libro_limpio = limpiar_texto(libro)"
      ],
      "execution_count": 80,
      "outputs": []
    },
    {
      "cell_type": "code",
      "metadata": {
        "id": "hnKktAPOmPJa",
        "colab": {
          "base_uri": "https://localhost:8080/"
        },
        "outputId": "40fabffe-c576-4bde-87c9-e2642d1b9254"
      },
      "source": [
        "#Cargar csv con distribución de probabilidad de letras\n",
        "Ley_P_letras = pd.read_csv('https://raw.githubusercontent.com/AnIsAsPe/ElementosEstadisticaMachineLearningPython/master/Semana4/Ley_Probabilidad_caracteres_100a%C3%B1os.csv')\n",
        "\n",
        "# Calcular la probabilidad de obtener una vocal\n",
        "\n",
        "filtro_vocal = Ley_P_letras['caracter'].isin(list('aeiou'))\n",
        "p = Ley_P_letras.loc[filtro_vocal, 'probabilidad'].sum()\n",
        "p"
      ],
      "execution_count": 81,
      "outputs": [
        {
          "output_type": "execute_result",
          "data": {
            "text/plain": [
              "0.38405272562528125"
            ]
          },
          "metadata": {},
          "execution_count": 81
        }
      ]
    },
    {
      "cell_type": "code",
      "metadata": {
        "id": "PzdUhOh9S0la",
        "colab": {
          "base_uri": "https://localhost:8080/",
          "height": 430
        },
        "outputId": "dfe7c566-f6c4-4790-d32d-43dd8a988ce4"
      },
      "source": [
        "# Distribución bernoulli\n",
        "\n",
        "plt.bar(['vocal','no_vocal'],[p, 1-p])\n",
        "plt.show()"
      ],
      "execution_count": 82,
      "outputs": [
        {
          "output_type": "display_data",
          "data": {
            "text/plain": [
              "<Figure size 640x480 with 1 Axes>"
            ],
            "image/png": "[encoded data removed]"
          },
          "metadata": {}
        }
      ]
    },
    {
      "cell_type": "markdown",
      "metadata": {
        "id": "Az4U8M9tG0pu"
      },
      "source": [
        "<h2> Obtener muestras"
      ]
    },
    {
      "cell_type": "code",
      "metadata": {
        "id": "Lmm6XVOeKpt9",
        "colab": {
          "base_uri": "https://localhost:8080/"
        },
        "outputId": "de7aa287-aec7-4741-a586-676a83c91c8f"
      },
      "source": [
        "%%time\n",
        "n = 400 # tamaño de la muestra\n",
        "m = 100000 # número de muestras\n",
        "\n",
        "muestras=pd.DataFrame()\n",
        "muestras['texto'] = (genera_muestras_de_texto(libro_limpio, grado = 0,\n",
        "                                              num_muestras = m, tam_muestra=n))\n",
        "indice=pd.Series(['muestra_'+str(i) for i in range (1, m+1)])\n",
        "muestras.index=indice\n",
        "muestras['vocales'] = muestras['texto'].apply(cuenta_vocales)\n",
        "muestras['p_estimada'] = muestras['vocales']/n\n",
        "muestras['errores']= p - muestras['vocales']/n"
      ],
      "execution_count": 134,
      "outputs": [
        {
          "output_type": "stream",
          "name": "stdout",
          "text": [
            "CPU times: user 27.9 s, sys: 68.2 ms, total: 28 s\n",
            "Wall time: 28.7 s\n"
          ]
        }
      ]
    },
    {
      "cell_type": "code",
      "source": [
        "muestras.head()"
      ],
      "metadata": {
        "colab": {
          "base_uri": "https://localhost:8080/",
          "height": 206
        },
        "id": "enXrydDmZHb7",
        "outputId": "ac387657-2336-466c-86a3-c7a293d72859"
      },
      "execution_count": 135,
      "outputs": [
        {
          "output_type": "execute_result",
          "data": {
            "text/plain": [
              "                                                       texto  vocales  \\\n",
              "muestra_1  u n  nanss clenare baa ctvrqap aedciudeiou lnc...      161   \n",
              "muestra_2  sosqeooiieena   oreb aee amlaei mree irete ceo...      165   \n",
              "muestra_3  is a ooya iav li cgr comaan irel u  aaealal cn...      159   \n",
              "muestra_4  onaeesnro aect  os usuaaim arlr   ciio gsc cae...      161   \n",
              "muestra_5  uoea naonmaom rsi ucnseuoyl tnotrsres aog lle ...      149   \n",
              "\n",
              "           p_estimada   errores  \n",
              "muestra_1      0.4025 -0.018447  \n",
              "muestra_2      0.4125 -0.028447  \n",
              "muestra_3      0.3975 -0.013447  \n",
              "muestra_4      0.4025 -0.018447  \n",
              "muestra_5      0.3725  0.011553  "
            ],
            "text/html": [
              "\n",
              "  <div id=\"df-f6931557-0543-44bd-9162-25a9212df396\" class=\"colab-df-container\">\n",
              "    <div>\n",
              "<style scoped>\n",
              "    .dataframe tbody tr th:only-of-type {\n",
              "        vertical-align: middle;\n",
              "    }\n",
              "\n",
              "    .dataframe tbody tr th {\n",
              "        vertical-align: top;\n",
              "    }\n",
              "\n",
              "    .dataframe thead th {\n",
              "        text-align: right;\n",
              "    }\n",
              "</style>\n",
              "<table border=\"1\" class=\"dataframe\">\n",
              "  <thead>\n",
              "    <tr style=\"text-align: right;\">\n",
              "      <th></th>\n",
              "      <th>texto</th>\n",
              "      <th>vocales</th>\n",
              "      <th>p_estimada</th>\n",
              "      <th>errores</th>\n",
              "    </tr>\n",
              "  </thead>\n",
              "  <tbody>\n",
              "    <tr>\n",
              "      <th>muestra_1</th>\n",
              "      <td>u n  nanss clenare baa ctvrqap aedciudeiou lnc...</td>\n",
              "      <td>161</td>\n",
              "      <td>0.4025</td>\n",
              "      <td>-0.018447</td>\n",
              "    </tr>\n",
              "    <tr>\n",
              "      <th>muestra_2</th>\n",
              "      <td>sosqeooiieena   oreb aee amlaei mree irete ceo...</td>\n",
              "      <td>165</td>\n",
              "      <td>0.4125</td>\n",
              "      <td>-0.028447</td>\n",
              "    </tr>\n",
              "    <tr>\n",
              "      <th>muestra_3</th>\n",
              "      <td>is a ooya iav li cgr comaan irel u  aaealal cn...</td>\n",
              "      <td>159</td>\n",
              "      <td>0.3975</td>\n",
              "      <td>-0.013447</td>\n",
              "    </tr>\n",
              "    <tr>\n",
              "      <th>muestra_4</th>\n",
              "      <td>onaeesnro aect  os usuaaim arlr   ciio gsc cae...</td>\n",
              "      <td>161</td>\n",
              "      <td>0.4025</td>\n",
              "      <td>-0.018447</td>\n",
              "    </tr>\n",
              "    <tr>\n",
              "      <th>muestra_5</th>\n",
              "      <td>uoea naonmaom rsi ucnseuoyl tnotrsres aog lle ...</td>\n",
              "      <td>149</td>\n",
              "      <td>0.3725</td>\n",
              "      <td>0.011553</td>\n",
              "    </tr>\n",
              "  </tbody>\n",
              "</table>\n",
              "</div>\n",
              "    <div class=\"colab-df-buttons\">\n",
              "\n",
              "  <div class=\"colab-df-container\">\n",
              "    <button class=\"colab-df-convert\" onclick=\"convertToInteractive('df-f6931557-0543-44bd-9162-25a9212df396')\"\n",
              "            title=\"Convert this dataframe to an interactive table.\"\n",
              "            style=\"display:none;\">\n",
              "\n",
              "  <svg xmlns=\"http://www.w3.org/2000/svg\" height=\"24px\" viewBox=\"0 -960 960 960\">\n",
              "    <path d=\"M120-120v-720h720v720H120Zm60-500h600v-160H180v160Zm220 220h160v-160H400v160Zm0 220h160v-160H400v160ZM180-400h160v-160H180v160Zm440 0h160v-160H620v160ZM180-180h160v-160H180v160Zm440 0h160v-160H620v160Z\"/>\n",
              "  </svg>\n",
              "    </button>\n",
              "\n",
              "  <style>\n",
              "    .colab-df-container {\n",
              "      display:flex;\n",
              "      gap: 12px;\n",
              "    }\n",
              "\n",
              "    .colab-df-convert {\n",
              "      background-color: #E8F0FE;\n",
              "      border: none;\n",
              "      border-radius: 50%;\n",
              "      cursor: pointer;\n",
              "      display: none;\n",
              "      fill: #1967D2;\n",
              "      height: 32px;\n",
              "      padding: 0 0 0 0;\n",
              "      width: 32px;\n",
              "    }\n",
              "\n",
              "    .colab-df-convert:hover {\n",
              "      background-color: #E2EBFA;\n",
              "      box-shadow: 0px 1px 2px rgba(60, 64, 67, 0.3), 0px 1px 3px 1px rgba(60, 64, 67, 0.15);\n",
              "      fill: #174EA6;\n",
              "    }\n",
              "\n",
              "    .colab-df-buttons div {\n",
              "      margin-bottom: 4px;\n",
              "    }\n",
              "\n",
              "    [theme=dark] .colab-df-convert {\n",
              "      background-color: #3B4455;\n",
              "      fill: #D2E3FC;\n",
              "    }\n",
              "\n",
              "    [theme=dark] .colab-df-convert:hover {\n",
              "      background-color: #434B5C;\n",
              "      box-shadow: 0px 1px 3px 1px rgba(0, 0, 0, 0.15);\n",
              "      filter: drop-shadow(0px 1px 2px rgba(0, 0, 0, 0.3));\n",
              "      fill: #FFFFFF;\n",
              "    }\n",
              "  </style>\n",
              "\n",
              "    <script>\n",
              "      const buttonEl =\n",
              "        document.querySelector('#df-f6931557-0543-44bd-9162-25a9212df396 button.colab-df-convert');\n",
              "      buttonEl.style.display =\n",
              "        google.colab.kernel.accessAllowed ? 'block' : 'none';\n",
              "\n",
              "      async function convertToInteractive(key) {\n",
              "        const element = document.querySelector('#df-f6931557-0543-44bd-9162-25a9212df396');\n",
              "        const dataTable =\n",
              "          await google.colab.kernel.invokeFunction('convertToInteractive',\n",
              "                                                    [key], {});\n",
              "        if (!dataTable) return;\n",
              "\n",
              "        const docLinkHtml = 'Like what you see? Visit the ' +\n",
              "          '<a target=\"_blank\" href=https://colab.research.google.com/notebooks/data_table.ipynb>data table notebook</a>'\n",
              "          + ' to learn more about interactive tables.';\n",
              "        element.innerHTML = '';\n",
              "        dataTable['output_type'] = 'display_data';\n",
              "        await google.colab.output.renderOutput(dataTable, element);\n",
              "        const docLink = document.createElement('div');\n",
              "        docLink.innerHTML = docLinkHtml;\n",
              "        element.appendChild(docLink);\n",
              "      }\n",
              "    </script>\n",
              "  </div>\n",
              "\n",
              "\n",
              "<div id=\"df-f248017c-a2c9-4a17-9408-acf75ae6892d\">\n",
              "  <button class=\"colab-df-quickchart\" onclick=\"quickchart('df-f248017c-a2c9-4a17-9408-acf75ae6892d')\"\n",
              "            title=\"Suggest charts\"\n",
              "            style=\"display:none;\">\n",
              "\n",
              "<svg xmlns=\"http://www.w3.org/2000/svg\" height=\"24px\"viewBox=\"0 0 24 24\"\n",
              "     width=\"24px\">\n",
              "    <g>\n",
              "        <path d=\"M19 3H5c-1.1 0-2 .9-2 2v14c0 1.1.9 2 2 2h14c1.1 0 2-.9 2-2V5c0-1.1-.9-2-2-2zM9 17H7v-7h2v7zm4 0h-2V7h2v10zm4 0h-2v-4h2v4z\"/>\n",
              "    </g>\n",
              "</svg>\n",
              "  </button>\n",
              "\n",
              "<style>\n",
              "  .colab-df-quickchart {\n",
              "      --bg-color: #E8F0FE;\n",
              "      --fill-color: #1967D2;\n",
              "      --hover-bg-color: #E2EBFA;\n",
              "      --hover-fill-color: #174EA6;\n",
              "      --disabled-fill-color: #AAA;\n",
              "      --disabled-bg-color: #DDD;\n",
              "  }\n",
              "\n",
              "  [theme=dark] .colab-df-quickchart {\n",
              "      --bg-color: #3B4455;\n",
              "      --fill-color: #D2E3FC;\n",
              "      --hover-bg-color: #434B5C;\n",
              "      --hover-fill-color: #FFFFFF;\n",
              "      --disabled-bg-color: #3B4455;\n",
              "      --disabled-fill-color: #666;\n",
              "  }\n",
              "\n",
              "  .colab-df-quickchart {\n",
              "    background-color: var(--bg-color);\n",
              "    border: none;\n",
              "    border-radius: 50%;\n",
              "    cursor: pointer;\n",
              "    display: none;\n",
              "    fill: var(--fill-color);\n",
              "    height: 32px;\n",
              "    padding: 0;\n",
              "    width: 32px;\n",
              "  }\n",
              "\n",
              "  .colab-df-quickchart:hover {\n",
              "    background-color: var(--hover-bg-color);\n",
              "    box-shadow: 0 1px 2px rgba(60, 64, 67, 0.3), 0 1px 3px 1px rgba(60, 64, 67, 0.15);\n",
              "    fill: var(--button-hover-fill-color);\n",
              "  }\n",
              "\n",
              "  .colab-df-quickchart-complete:disabled,\n",
              "  .colab-df-quickchart-complete:disabled:hover {\n",
              "    background-color: var(--disabled-bg-color);\n",
              "    fill: var(--disabled-fill-color);\n",
              "    box-shadow: none;\n",
              "  }\n",
              "\n",
              "  .colab-df-spinner {\n",
              "    border: 2px solid var(--fill-color);\n",
              "    border-color: transparent;\n",
              "    border-bottom-color: var(--fill-color);\n",
              "    animation:\n",
              "      spin 1s steps(1) infinite;\n",
              "  }\n",
              "\n",
              "  @keyframes spin {\n",
              "    0% {\n",
              "      border-color: transparent;\n",
              "      border-bottom-color: var(--fill-color);\n",
              "      border-left-color: var(--fill-color);\n",
              "    }\n",
              "    20% {\n",
              "      border-color: transparent;\n",
              "      border-left-color: var(--fill-color);\n",
              "      border-top-color: var(--fill-color);\n",
              "    }\n",
              "    30% {\n",
              "      border-color: transparent;\n",
              "      border-left-color: var(--fill-color);\n",
              "      border-top-color: var(--fill-color);\n",
              "      border-right-color: var(--fill-color);\n",
              "    }\n",
              "    40% {\n",
              "      border-color: transparent;\n",
              "      border-right-color: var(--fill-color);\n",
              "      border-top-color: var(--fill-color);\n",
              "    }\n",
              "    60% {\n",
              "      border-color: transparent;\n",
              "      border-right-color: var(--fill-color);\n",
              "    }\n",
              "    80% {\n",
              "      border-color: transparent;\n",
              "      border-right-color: var(--fill-color);\n",
              "      border-bottom-color: var(--fill-color);\n",
              "    }\n",
              "    90% {\n",
              "      border-color: transparent;\n",
              "      border-bottom-color: var(--fill-color);\n",
              "    }\n",
              "  }\n",
              "</style>\n",
              "\n",
              "  <script>\n",
              "    async function quickchart(key) {\n",
              "      const quickchartButtonEl =\n",
              "        document.querySelector('#' + key + ' button');\n",
              "      quickchartButtonEl.disabled = true;  // To prevent multiple clicks.\n",
              "      quickchartButtonEl.classList.add('colab-df-spinner');\n",
              "      try {\n",
              "        const charts = await google.colab.kernel.invokeFunction(\n",
              "            'suggestCharts', [key], {});\n",
              "      } catch (error) {\n",
              "        console.error('Error during call to suggestCharts:', error);\n",
              "      }\n",
              "      quickchartButtonEl.classList.remove('colab-df-spinner');\n",
              "      quickchartButtonEl.classList.add('colab-df-quickchart-complete');\n",
              "    }\n",
              "    (() => {\n",
              "      let quickchartButtonEl =\n",
              "        document.querySelector('#df-f248017c-a2c9-4a17-9408-acf75ae6892d button');\n",
              "      quickchartButtonEl.style.display =\n",
              "        google.colab.kernel.accessAllowed ? 'block' : 'none';\n",
              "    })();\n",
              "  </script>\n",
              "</div>\n",
              "\n",
              "    </div>\n",
              "  </div>\n"
            ],
            "application/vnd.google.colaboratory.intrinsic+json": {
              "type": "dataframe",
              "variable_name": "muestras",
              "summary": "{\n  \"name\": \"muestras\",\n  \"rows\": 100000,\n  \"fields\": [\n    {\n      \"column\": \"texto\",\n      \"properties\": {\n        \"dtype\": \"string\",\n        \"num_unique_values\": 100000,\n        \"samples\": [\n          \"ru o vsrloadosno d anisaoemtetr pvo eaipes inunoduh glaqs rjur raoduurr lir fmeiurieiissoimbuaa o oeonndddsell aoniogoird  aaaoataasraseoa nyrorerdhem  iua df ovpssataoldrlrnsrlenganbec  aenmnvurnlelau ra roamqedfsue pitr qeu slu sspna  ipt rda cbiagcey dtsra aoorilsli ae nnesprnsrnm b asassnepaudba ped ad  odl sne yz ce np eoetacpbsa   eras ooilsaxao sccn csd hneiself rotsee dg  isi anpite d u se\",\n          \"go aeyir pc oea dsziurei   eb  mslsuv  opoalo isao n tpiaiaanh h  dpnfu oleoyllenialil imnarnscbadesalo  abriee r o doraaescoociltpntejri  o iisellmtu  llatihoyneursedlj punoai nesno ti uaiesj yiher daejsdlus aod dets ismrrrurossl eturnofsleaasretaetonooireautc eaus sc sr aactgo pdncnstle rapdoetdono labhtctane ln    sceornooam smanenln aeii aysi rs e lmsicnoeleee  ide i aelis uisecnosoaonc rcueas\",\n          \"eri aeeniurneeiil oged roe  ot s is  og d l sorsaasaa a eeli   docuaaeoloeaadnec o bimmsnuieo pdoneane pa tealoy tau p eyra eourde deae ii indooi ece pvaimoa mneicqm ir n rjemclao or  c dentp  sra moel t pcrl  reedeu  nuisddublt edg eef e  rrsd n d eadanen asnx  oolnremisrdttpbqdlt ra ecsmrlsblp anqriiutasol eoeupeaudeosa eo oedlqoenu eeloc l inel nzcaal q m  l podcte aae  radercnt  iihnsunereasnn\"\n        ],\n        \"semantic_type\": \"\",\n        \"description\": \"\"\n      }\n    },\n    {\n      \"column\": \"vocales\",\n      \"properties\": {\n        \"dtype\": \"number\",\n        \"std\": 9,\n        \"min\": 110,\n        \"max\": 194,\n        \"num_unique_values\": 81,\n        \"samples\": [\n          125,\n          161,\n          151\n        ],\n        \"semantic_type\": \"\",\n        \"description\": \"\"\n      }\n    },\n    {\n      \"column\": \"p_estimada\",\n      \"properties\": {\n        \"dtype\": \"number\",\n        \"std\": 0.024285570717597946,\n        \"min\": 0.275,\n        \"max\": 0.485,\n        \"num_unique_values\": 81,\n        \"samples\": [\n          0.3125,\n          0.4025,\n          0.3775\n        ],\n        \"semantic_type\": \"\",\n        \"description\": \"\"\n      }\n    },\n    {\n      \"column\": \"errores\",\n      \"properties\": {\n        \"dtype\": \"number\",\n        \"std\": 0.024285570717597946,\n        \"min\": -0.10094727437471873,\n        \"max\": 0.10905272562528123,\n        \"num_unique_values\": 81,\n        \"samples\": [\n          0.07155272562528125,\n          -0.01844727437471877,\n          0.006552725625281253\n        ],\n        \"semantic_type\": \"\",\n        \"description\": \"\"\n      }\n    }\n  ]\n}"
            }
          },
          "metadata": {},
          "execution_count": 135
        }
      ]
    },
    {
      "cell_type": "markdown",
      "metadata": {
        "id": "oSs_pcMVD00n"
      },
      "source": [
        "<h2> Distribución de la suma"
      ]
    },
    {
      "cell_type": "code",
      "source": [
        "muestras['vocales'].hist(bins=30, figsize=(4,3))\n",
        "plt.show()"
      ],
      "metadata": {
        "outputId": "54580d84-4008-42a2-e061-1df530c883dc",
        "colab": {
          "base_uri": "https://localhost:8080/",
          "height": 291
        },
        "id": "IPlTT-egD00t"
      },
      "execution_count": 137,
      "outputs": [
        {
          "output_type": "display_data",
          "data": {
            "text/plain": [
              "<Figure size 400x300 with 1 Axes>"
            ],
            "image/png": "[encoded data removed]"
          },
          "metadata": {}
        }
      ]
    },
    {
      "cell_type": "markdown",
      "metadata": {
        "id": "c3IvUkg7IEo5"
      },
      "source": [
        "<h2> Distribución de los promedios"
      ]
    },
    {
      "cell_type": "code",
      "metadata": {
        "id": "SMmhHg9AKLte",
        "colab": {
          "base_uri": "https://localhost:8080/",
          "height": 291
        },
        "outputId": "eddc9756-437e-42c9-ac54-f183ff5ecf6a"
      },
      "source": [
        "muestras['p_estimada'].hist(bins=30, figsize=(4,3))\n",
        "plt.show()"
      ],
      "execution_count": 138,
      "outputs": [
        {
          "output_type": "display_data",
          "data": {
            "text/plain": [
              "<Figure size 400x300 with 1 Axes>"
            ],
            "image/png": "[encoded data removed]"
          },
          "metadata": {}
        }
      ]
    },
    {
      "cell_type": "markdown",
      "source": [
        "<h2>Distribución de los errores"
      ],
      "metadata": {
        "id": "Tf102IYyV9Dj"
      }
    },
    {
      "cell_type": "code",
      "metadata": {
        "colab": {
          "base_uri": "https://localhost:8080/",
          "height": 291
        },
        "outputId": "9b795de1-5584-4c12-aca9-accc7bbd262a",
        "id": "c726yOIdV082"
      },
      "source": [
        "muestras['errores'].hist(bins=30, figsize=(4,3))\n",
        "plt.show()"
      ],
      "execution_count": 139,
      "outputs": [
        {
          "output_type": "display_data",
          "data": {
            "text/plain": [
              "<Figure size 400x300 with 1 Axes>"
            ],
            "image/png": "[encoded data removed]"
          },
          "metadata": {}
        }
      ]
    },
    {
      "cell_type": "code",
      "metadata": {
        "colab": {
          "base_uri": "https://localhost:8080/",
          "height": 291
        },
        "outputId": "4abb1dc4-7c51-43a1-e393-c4a47cf9b318",
        "id": "PqjJo8FdFBBJ"
      },
      "source": [
        "# podemos llegar a la distribución normal estandar\n",
        "sigma = np.sqrt(p*(1-p))\n",
        "(muestras['errores']/(sigma/np.sqrt(n))).hist(bins=30, figsize=(4,3))\n",
        "plt.show()\n"
      ],
      "execution_count": 140,
      "outputs": [
        {
          "output_type": "display_data",
          "data": {
            "text/plain": [
              "<Figure size 400x300 with 1 Axes>"
            ],
            "image/png": "[encoded data removed]"
          },
          "metadata": {}
        }
      ]
    },
    {
      "cell_type": "markdown",
      "metadata": {
        "id": "sB-LneF7VCfz"
      },
      "source": [
        "# Distribución exponencial (carácteres antes de que salga n)"
      ]
    },
    {
      "cell_type": "code",
      "metadata": {
        "id": "3Peqz9GdPd4A",
        "colab": {
          "base_uri": "https://localhost:8080/",
          "height": 291
        },
        "outputId": "eaed48d1-5c4e-453f-e664-1338ba8d39b4"
      },
      "source": [
        "X = muestras['texto'].apply(cuenta_caracteres_antes_de_n)\n",
        "X.hist(bins=30, figsize=(4,3))\n",
        "plt.show()"
      ],
      "execution_count": 153,
      "outputs": [
        {
          "output_type": "display_data",
          "data": {
            "text/plain": [
              "<Figure size 400x300 with 1 Axes>"
            ],
            "image/png": "[encoded data removed]"
          },
          "metadata": {}
        }
      ]
    },
    {
      "cell_type": "code",
      "metadata": {
        "id": "MfrcWLotg3bE",
        "colab": {
          "base_uri": "https://localhost:8080/"
        },
        "outputId": "1cc9c0c8-f5b8-48a6-bc54-93d8b8aefa3a"
      },
      "source": [
        "X.mean()"
      ],
      "execution_count": 154,
      "outputs": [
        {
          "output_type": "execute_result",
          "data": {
            "text/plain": [
              "15.80554"
            ]
          },
          "metadata": {},
          "execution_count": 154
        }
      ]
    },
    {
      "cell_type": "markdown",
      "metadata": {
        "id": "YBzL3UnDX_Jq"
      },
      "source": [
        "**Ejemplos de fenómenos con distribución exponencial:**\n",
        "- Valores máximos de precipitación diaria\n",
        "- Compras efectuadas por visitantes en página web\n",
        "- Tiempo para que se produzca un fallo\n",
        "\n",
        "\n",
        "¿Qué otros??"
      ]
    },
    {
      "cell_type": "markdown",
      "metadata": {
        "id": "5TLosvSiiCWf"
      },
      "source": [
        "<h2> Obtener muestras"
      ]
    },
    {
      "cell_type": "code",
      "metadata": {
        "id": "yaOo2_TTXswx",
        "colab": {
          "base_uri": "https://localhost:8080/",
          "height": 461
        },
        "outputId": "c05ca0f2-b0e5-4d65-bf91-f9e43b6e7e4d"
      },
      "source": [
        "n = 400 # tamaño de la muestra\n",
        "m = 2000 # número de muestras\n",
        "m_exp = {'muestra '+str(i):np.random.choice(X, n) for i in range(1, m+1)}\n",
        "\n",
        "muestras_exp = pd.DataFrame.from_dict(m_exp)\n",
        "muestras_exp"
      ],
      "execution_count": 155,
      "outputs": [
        {
          "output_type": "execute_result",
          "data": {
            "text/plain": [
              "     muestra 1  muestra 2  muestra 3  muestra 4  muestra 5  muestra 6  \\\n",
              "0           20         18          1         43         14          5   \n",
              "1           16         10         14          2         21          0   \n",
              "2           42         16          5          4         11         10   \n",
              "3           13         15          6          0         55         52   \n",
              "4           31         12          5          2          1          1   \n",
              "..         ...        ...        ...        ...        ...        ...   \n",
              "395          9         41          7          4          1         25   \n",
              "396         23         16          8         21          1         18   \n",
              "397          9         10          3          1          4         30   \n",
              "398         14         11         21          2         26          8   \n",
              "399         25         18         39         16          7         17   \n",
              "\n",
              "     muestra 7  muestra 8  muestra 9  muestra 10  ...  muestra 1991  \\\n",
              "0           15          1         30          20  ...             5   \n",
              "1            0         15         24          26  ...            10   \n",
              "2           13         16          2           7  ...             6   \n",
              "3           15         32          8           2  ...             9   \n",
              "4           12         28          9           7  ...            80   \n",
              "..         ...        ...        ...         ...  ...           ...   \n",
              "395         43         13         15          45  ...             1   \n",
              "396         25          3          3          12  ...            15   \n",
              "397         34          9          1          77  ...            10   \n",
              "398         31         57         31          51  ...             2   \n",
              "399          3          0         20           1  ...            16   \n",
              "\n",
              "     muestra 1992  muestra 1993  muestra 1994  muestra 1995  muestra 1996  \\\n",
              "0               8             6             2            10             6   \n",
              "1              17            33             8             9            49   \n",
              "2              10             1             7            23             2   \n",
              "3              12             1            29            21            66   \n",
              "4               6            34             2             0            33   \n",
              "..            ...           ...           ...           ...           ...   \n",
              "395             2            14            41             1            30   \n",
              "396            31             6             0            12            16   \n",
              "397            13            14            17            64             6   \n",
              "398             1             5            10             0             0   \n",
              "399             1            16            12             6            46   \n",
              "\n",
              "     muestra 1997  muestra 1998  muestra 1999  muestra 2000  \n",
              "0              35            26             8            20  \n",
              "1               1            36            11            19  \n",
              "2               0            24             1            15  \n",
              "3               9             6            10             9  \n",
              "4              14            17             2            18  \n",
              "..            ...           ...           ...           ...  \n",
              "395            10             2            42             6  \n",
              "396             4            31            20            14  \n",
              "397             5             1            13            14  \n",
              "398            28             4             7             4  \n",
              "399             1             3             7            54  \n",
              "\n",
              "[400 rows x 2000 columns]"
            ],
            "text/html": [
              "\n",
              "  <div id=\"df-06a9b614-04d6-41f2-a15e-ef49f0ffc53b\" class=\"colab-df-container\">\n",
              "    <div>\n",
              "<style scoped>\n",
              "    .dataframe tbody tr th:only-of-type {\n",
              "        vertical-align: middle;\n",
              "    }\n",
              "\n",
              "    .dataframe tbody tr th {\n",
              "        vertical-align: top;\n",
              "    }\n",
              "\n",
              "    .dataframe thead th {\n",
              "        text-align: right;\n",
              "    }\n",
              "</style>\n",
              "<table border=\"1\" class=\"dataframe\">\n",
              "  <thead>\n",
              "    <tr style=\"text-align: right;\">\n",
              "      <th></th>\n",
              "      <th>muestra 1</th>\n",
              "      <th>muestra 2</th>\n",
              "      <th>muestra 3</th>\n",
              "      <th>muestra 4</th>\n",
              "      <th>muestra 5</th>\n",
              "      <th>muestra 6</th>\n",
              "      <th>muestra 7</th>\n",
              "      <th>muestra 8</th>\n",
              "      <th>muestra 9</th>\n",
              "      <th>muestra 10</th>\n",
              "      <th>...</th>\n",
              "      <th>muestra 1991</th>\n",
              "      <th>muestra 1992</th>\n",
              "      <th>muestra 1993</th>\n",
              "      <th>muestra 1994</th>\n",
              "      <th>muestra 1995</th>\n",
              "      <th>muestra 1996</th>\n",
              "      <th>muestra 1997</th>\n",
              "      <th>muestra 1998</th>\n",
              "      <th>muestra 1999</th>\n",
              "      <th>muestra 2000</th>\n",
              "    </tr>\n",
              "  </thead>\n",
              "  <tbody>\n",
              "    <tr>\n",
              "      <th>0</th>\n",
              "      <td>20</td>\n",
              "      <td>18</td>\n",
              "      <td>1</td>\n",
              "      <td>43</td>\n",
              "      <td>14</td>\n",
              "      <td>5</td>\n",
              "      <td>15</td>\n",
              "      <td>1</td>\n",
              "      <td>30</td>\n",
              "      <td>20</td>\n",
              "      <td>...</td>\n",
              "      <td>5</td>\n",
              "      <td>8</td>\n",
              "      <td>6</td>\n",
              "      <td>2</td>\n",
              "      <td>10</td>\n",
              "      <td>6</td>\n",
              "      <td>35</td>\n",
              "      <td>26</td>\n",
              "      <td>8</td>\n",
              "      <td>20</td>\n",
              "    </tr>\n",
              "    <tr>\n",
              "      <th>1</th>\n",
              "      <td>16</td>\n",
              "      <td>10</td>\n",
              "      <td>14</td>\n",
              "      <td>2</td>\n",
              "      <td>21</td>\n",
              "      <td>0</td>\n",
              "      <td>0</td>\n",
              "      <td>15</td>\n",
              "      <td>24</td>\n",
              "      <td>26</td>\n",
              "      <td>...</td>\n",
              "      <td>10</td>\n",
              "      <td>17</td>\n",
              "      <td>33</td>\n",
              "      <td>8</td>\n",
              "      <td>9</td>\n",
              "      <td>49</td>\n",
              "      <td>1</td>\n",
              "      <td>36</td>\n",
              "      <td>11</td>\n",
              "      <td>19</td>\n",
              "    </tr>\n",
              "    <tr>\n",
              "      <th>2</th>\n",
              "      <td>42</td>\n",
              "      <td>16</td>\n",
              "      <td>5</td>\n",
              "      <td>4</td>\n",
              "      <td>11</td>\n",
              "      <td>10</td>\n",
              "      <td>13</td>\n",
              "      <td>16</td>\n",
              "      <td>2</td>\n",
              "      <td>7</td>\n",
              "      <td>...</td>\n",
              "      <td>6</td>\n",
              "      <td>10</td>\n",
              "      <td>1</td>\n",
              "      <td>7</td>\n",
              "      <td>23</td>\n",
              "      <td>2</td>\n",
              "      <td>0</td>\n",
              "      <td>24</td>\n",
              "      <td>1</td>\n",
              "      <td>15</td>\n",
              "    </tr>\n",
              "    <tr>\n",
              "      <th>3</th>\n",
              "      <td>13</td>\n",
              "      <td>15</td>\n",
              "      <td>6</td>\n",
              "      <td>0</td>\n",
              "      <td>55</td>\n",
              "      <td>52</td>\n",
              "      <td>15</td>\n",
              "      <td>32</td>\n",
              "      <td>8</td>\n",
              "      <td>2</td>\n",
              "      <td>...</td>\n",
              "      <td>9</td>\n",
              "      <td>12</td>\n",
              "      <td>1</td>\n",
              "      <td>29</td>\n",
              "      <td>21</td>\n",
              "      <td>66</td>\n",
              "      <td>9</td>\n",
              "      <td>6</td>\n",
              "      <td>10</td>\n",
              "      <td>9</td>\n",
              "    </tr>\n",
              "    <tr>\n",
              "      <th>4</th>\n",
              "      <td>31</td>\n",
              "      <td>12</td>\n",
              "      <td>5</td>\n",
              "      <td>2</td>\n",
              "      <td>1</td>\n",
              "      <td>1</td>\n",
              "      <td>12</td>\n",
              "      <td>28</td>\n",
              "      <td>9</td>\n",
              "      <td>7</td>\n",
              "      <td>...</td>\n",
              "      <td>80</td>\n",
              "      <td>6</td>\n",
              "      <td>34</td>\n",
              "      <td>2</td>\n",
              "      <td>0</td>\n",
              "      <td>33</td>\n",
              "      <td>14</td>\n",
              "      <td>17</td>\n",
              "      <td>2</td>\n",
              "      <td>18</td>\n",
              "    </tr>\n",
              "    <tr>\n",
              "      <th>...</th>\n",
              "      <td>...</td>\n",
              "      <td>...</td>\n",
              "      <td>...</td>\n",
              "      <td>...</td>\n",
              "      <td>...</td>\n",
              "      <td>...</td>\n",
              "      <td>...</td>\n",
              "      <td>...</td>\n",
              "      <td>...</td>\n",
              "      <td>...</td>\n",
              "      <td>...</td>\n",
              "      <td>...</td>\n",
              "      <td>...</td>\n",
              "      <td>...</td>\n",
              "      <td>...</td>\n",
              "      <td>...</td>\n",
              "      <td>...</td>\n",
              "      <td>...</td>\n",
              "      <td>...</td>\n",
              "      <td>...</td>\n",
              "      <td>...</td>\n",
              "    </tr>\n",
              "    <tr>\n",
              "      <th>395</th>\n",
              "      <td>9</td>\n",
              "      <td>41</td>\n",
              "      <td>7</td>\n",
              "      <td>4</td>\n",
              "      <td>1</td>\n",
              "      <td>25</td>\n",
              "      <td>43</td>\n",
              "      <td>13</td>\n",
              "      <td>15</td>\n",
              "      <td>45</td>\n",
              "      <td>...</td>\n",
              "      <td>1</td>\n",
              "      <td>2</td>\n",
              "      <td>14</td>\n",
              "      <td>41</td>\n",
              "      <td>1</td>\n",
              "      <td>30</td>\n",
              "      <td>10</td>\n",
              "      <td>2</td>\n",
              "      <td>42</td>\n",
              "      <td>6</td>\n",
              "    </tr>\n",
              "    <tr>\n",
              "      <th>396</th>\n",
              "      <td>23</td>\n",
              "      <td>16</td>\n",
              "      <td>8</td>\n",
              "      <td>21</td>\n",
              "      <td>1</td>\n",
              "      <td>18</td>\n",
              "      <td>25</td>\n",
              "      <td>3</td>\n",
              "      <td>3</td>\n",
              "      <td>12</td>\n",
              "      <td>...</td>\n",
              "      <td>15</td>\n",
              "      <td>31</td>\n",
              "      <td>6</td>\n",
              "      <td>0</td>\n",
              "      <td>12</td>\n",
              "      <td>16</td>\n",
              "      <td>4</td>\n",
              "      <td>31</td>\n",
              "      <td>20</td>\n",
              "      <td>14</td>\n",
              "    </tr>\n",
              "    <tr>\n",
              "      <th>397</th>\n",
              "      <td>9</td>\n",
              "      <td>10</td>\n",
              "      <td>3</td>\n",
              "      <td>1</td>\n",
              "      <td>4</td>\n",
              "      <td>30</td>\n",
              "      <td>34</td>\n",
              "      <td>9</td>\n",
              "      <td>1</td>\n",
              "      <td>77</td>\n",
              "      <td>...</td>\n",
              "      <td>10</td>\n",
              "      <td>13</td>\n",
              "      <td>14</td>\n",
              "      <td>17</td>\n",
              "      <td>64</td>\n",
              "      <td>6</td>\n",
              "      <td>5</td>\n",
              "      <td>1</td>\n",
              "      <td>13</td>\n",
              "      <td>14</td>\n",
              "    </tr>\n",
              "    <tr>\n",
              "      <th>398</th>\n",
              "      <td>14</td>\n",
              "      <td>11</td>\n",
              "      <td>21</td>\n",
              "      <td>2</td>\n",
              "      <td>26</td>\n",
              "      <td>8</td>\n",
              "      <td>31</td>\n",
              "      <td>57</td>\n",
              "      <td>31</td>\n",
              "      <td>51</td>\n",
              "      <td>...</td>\n",
              "      <td>2</td>\n",
              "      <td>1</td>\n",
              "      <td>5</td>\n",
              "      <td>10</td>\n",
              "      <td>0</td>\n",
              "      <td>0</td>\n",
              "      <td>28</td>\n",
              "      <td>4</td>\n",
              "      <td>7</td>\n",
              "      <td>4</td>\n",
              "    </tr>\n",
              "    <tr>\n",
              "      <th>399</th>\n",
              "      <td>25</td>\n",
              "      <td>18</td>\n",
              "      <td>39</td>\n",
              "      <td>16</td>\n",
              "      <td>7</td>\n",
              "      <td>17</td>\n",
              "      <td>3</td>\n",
              "      <td>0</td>\n",
              "      <td>20</td>\n",
              "      <td>1</td>\n",
              "      <td>...</td>\n",
              "      <td>16</td>\n",
              "      <td>1</td>\n",
              "      <td>16</td>\n",
              "      <td>12</td>\n",
              "      <td>6</td>\n",
              "      <td>46</td>\n",
              "      <td>1</td>\n",
              "      <td>3</td>\n",
              "      <td>7</td>\n",
              "      <td>54</td>\n",
              "    </tr>\n",
              "  </tbody>\n",
              "</table>\n",
              "<p>400 rows × 2000 columns</p>\n",
              "</div>\n",
              "    <div class=\"colab-df-buttons\">\n",
              "\n",
              "  <div class=\"colab-df-container\">\n",
              "    <button class=\"colab-df-convert\" onclick=\"convertToInteractive('df-06a9b614-04d6-41f2-a15e-ef49f0ffc53b')\"\n",
              "            title=\"Convert this dataframe to an interactive table.\"\n",
              "            style=\"display:none;\">\n",
              "\n",
              "  <svg xmlns=\"http://www.w3.org/2000/svg\" height=\"24px\" viewBox=\"0 -960 960 960\">\n",
              "    <path d=\"M120-120v-720h720v720H120Zm60-500h600v-160H180v160Zm220 220h160v-160H400v160Zm0 220h160v-160H400v160ZM180-400h160v-160H180v160Zm440 0h160v-160H620v160ZM180-180h160v-160H180v160Zm440 0h160v-160H620v160Z\"/>\n",
              "  </svg>\n",
              "    </button>\n",
              "\n",
              "  <style>\n",
              "    .colab-df-container {\n",
              "      display:flex;\n",
              "      gap: 12px;\n",
              "    }\n",
              "\n",
              "    .colab-df-convert {\n",
              "      background-color: #E8F0FE;\n",
              "      border: none;\n",
              "      border-radius: 50%;\n",
              "      cursor: pointer;\n",
              "      display: none;\n",
              "      fill: #1967D2;\n",
              "      height: 32px;\n",
              "      padding: 0 0 0 0;\n",
              "      width: 32px;\n",
              "    }\n",
              "\n",
              "    .colab-df-convert:hover {\n",
              "      background-color: #E2EBFA;\n",
              "      box-shadow: 0px 1px 2px rgba(60, 64, 67, 0.3), 0px 1px 3px 1px rgba(60, 64, 67, 0.15);\n",
              "      fill: #174EA6;\n",
              "    }\n",
              "\n",
              "    .colab-df-buttons div {\n",
              "      margin-bottom: 4px;\n",
              "    }\n",
              "\n",
              "    [theme=dark] .colab-df-convert {\n",
              "      background-color: #3B4455;\n",
              "      fill: #D2E3FC;\n",
              "    }\n",
              "\n",
              "    [theme=dark] .colab-df-convert:hover {\n",
              "      background-color: #434B5C;\n",
              "      box-shadow: 0px 1px 3px 1px rgba(0, 0, 0, 0.15);\n",
              "      filter: drop-shadow(0px 1px 2px rgba(0, 0, 0, 0.3));\n",
              "      fill: #FFFFFF;\n",
              "    }\n",
              "  </style>\n",
              "\n",
              "    <script>\n",
              "      const buttonEl =\n",
              "        document.querySelector('#df-06a9b614-04d6-41f2-a15e-ef49f0ffc53b button.colab-df-convert');\n",
              "      buttonEl.style.display =\n",
              "        google.colab.kernel.accessAllowed ? 'block' : 'none';\n",
              "\n",
              "      async function convertToInteractive(key) {\n",
              "        const element = document.querySelector('#df-06a9b614-04d6-41f2-a15e-ef49f0ffc53b');\n",
              "        const dataTable =\n",
              "          await google.colab.kernel.invokeFunction('convertToInteractive',\n",
              "                                                    [key], {});\n",
              "        if (!dataTable) return;\n",
              "\n",
              "        const docLinkHtml = 'Like what you see? Visit the ' +\n",
              "          '<a target=\"_blank\" href=https://colab.research.google.com/notebooks/data_table.ipynb>data table notebook</a>'\n",
              "          + ' to learn more about interactive tables.';\n",
              "        element.innerHTML = '';\n",
              "        dataTable['output_type'] = 'display_data';\n",
              "        await google.colab.output.renderOutput(dataTable, element);\n",
              "        const docLink = document.createElement('div');\n",
              "        docLink.innerHTML = docLinkHtml;\n",
              "        element.appendChild(docLink);\n",
              "      }\n",
              "    </script>\n",
              "  </div>\n",
              "\n",
              "\n",
              "<div id=\"df-78dd2ea4-a9fd-44c0-bf22-c67c785faa0e\">\n",
              "  <button class=\"colab-df-quickchart\" onclick=\"quickchart('df-78dd2ea4-a9fd-44c0-bf22-c67c785faa0e')\"\n",
              "            title=\"Suggest charts\"\n",
              "            style=\"display:none;\">\n",
              "\n",
              "<svg xmlns=\"http://www.w3.org/2000/svg\" height=\"24px\"viewBox=\"0 0 24 24\"\n",
              "     width=\"24px\">\n",
              "    <g>\n",
              "        <path d=\"M19 3H5c-1.1 0-2 .9-2 2v14c0 1.1.9 2 2 2h14c1.1 0 2-.9 2-2V5c0-1.1-.9-2-2-2zM9 17H7v-7h2v7zm4 0h-2V7h2v10zm4 0h-2v-4h2v4z\"/>\n",
              "    </g>\n",
              "</svg>\n",
              "  </button>\n",
              "\n",
              "<style>\n",
              "  .colab-df-quickchart {\n",
              "      --bg-color: #E8F0FE;\n",
              "      --fill-color: #1967D2;\n",
              "      --hover-bg-color: #E2EBFA;\n",
              "      --hover-fill-color: #174EA6;\n",
              "      --disabled-fill-color: #AAA;\n",
              "      --disabled-bg-color: #DDD;\n",
              "  }\n",
              "\n",
              "  [theme=dark] .colab-df-quickchart {\n",
              "      --bg-color: #3B4455;\n",
              "      --fill-color: #D2E3FC;\n",
              "      --hover-bg-color: #434B5C;\n",
              "      --hover-fill-color: #FFFFFF;\n",
              "      --disabled-bg-color: #3B4455;\n",
              "      --disabled-fill-color: #666;\n",
              "  }\n",
              "\n",
              "  .colab-df-quickchart {\n",
              "    background-color: var(--bg-color);\n",
              "    border: none;\n",
              "    border-radius: 50%;\n",
              "    cursor: pointer;\n",
              "    display: none;\n",
              "    fill: var(--fill-color);\n",
              "    height: 32px;\n",
              "    padding: 0;\n",
              "    width: 32px;\n",
              "  }\n",
              "\n",
              "  .colab-df-quickchart:hover {\n",
              "    background-color: var(--hover-bg-color);\n",
              "    box-shadow: 0 1px 2px rgba(60, 64, 67, 0.3), 0 1px 3px 1px rgba(60, 64, 67, 0.15);\n",
              "    fill: var(--button-hover-fill-color);\n",
              "  }\n",
              "\n",
              "  .colab-df-quickchart-complete:disabled,\n",
              "  .colab-df-quickchart-complete:disabled:hover {\n",
              "    background-color: var(--disabled-bg-color);\n",
              "    fill: var(--disabled-fill-color);\n",
              "    box-shadow: none;\n",
              "  }\n",
              "\n",
              "  .colab-df-spinner {\n",
              "    border: 2px solid var(--fill-color);\n",
              "    border-color: transparent;\n",
              "    border-bottom-color: var(--fill-color);\n",
              "    animation:\n",
              "      spin 1s steps(1) infinite;\n",
              "  }\n",
              "\n",
              "  @keyframes spin {\n",
              "    0% {\n",
              "      border-color: transparent;\n",
              "      border-bottom-color: var(--fill-color);\n",
              "      border-left-color: var(--fill-color);\n",
              "    }\n",
              "    20% {\n",
              "      border-color: transparent;\n",
              "      border-left-color: var(--fill-color);\n",
              "      border-top-color: var(--fill-color);\n",
              "    }\n",
              "    30% {\n",
              "      border-color: transparent;\n",
              "      border-left-color: var(--fill-color);\n",
              "      border-top-color: var(--fill-color);\n",
              "      border-right-color: var(--fill-color);\n",
              "    }\n",
              "    40% {\n",
              "      border-color: transparent;\n",
              "      border-right-color: var(--fill-color);\n",
              "      border-top-color: var(--fill-color);\n",
              "    }\n",
              "    60% {\n",
              "      border-color: transparent;\n",
              "      border-right-color: var(--fill-color);\n",
              "    }\n",
              "    80% {\n",
              "      border-color: transparent;\n",
              "      border-right-color: var(--fill-color);\n",
              "      border-bottom-color: var(--fill-color);\n",
              "    }\n",
              "    90% {\n",
              "      border-color: transparent;\n",
              "      border-bottom-color: var(--fill-color);\n",
              "    }\n",
              "  }\n",
              "</style>\n",
              "\n",
              "  <script>\n",
              "    async function quickchart(key) {\n",
              "      const quickchartButtonEl =\n",
              "        document.querySelector('#' + key + ' button');\n",
              "      quickchartButtonEl.disabled = true;  // To prevent multiple clicks.\n",
              "      quickchartButtonEl.classList.add('colab-df-spinner');\n",
              "      try {\n",
              "        const charts = await google.colab.kernel.invokeFunction(\n",
              "            'suggestCharts', [key], {});\n",
              "      } catch (error) {\n",
              "        console.error('Error during call to suggestCharts:', error);\n",
              "      }\n",
              "      quickchartButtonEl.classList.remove('colab-df-spinner');\n",
              "      quickchartButtonEl.classList.add('colab-df-quickchart-complete');\n",
              "    }\n",
              "    (() => {\n",
              "      let quickchartButtonEl =\n",
              "        document.querySelector('#df-78dd2ea4-a9fd-44c0-bf22-c67c785faa0e button');\n",
              "      quickchartButtonEl.style.display =\n",
              "        google.colab.kernel.accessAllowed ? 'block' : 'none';\n",
              "    })();\n",
              "  </script>\n",
              "</div>\n",
              "\n",
              "  <div id=\"id_a924a0bf-213c-41d5-888e-80b18d207218\">\n",
              "    <style>\n",
              "      .colab-df-generate {\n",
              "        background-color: #E8F0FE;\n",
              "        border: none;\n",
              "        border-radius: 50%;\n",
              "        cursor: pointer;\n",
              "        display: none;\n",
              "        fill: #1967D2;\n",
              "        height: 32px;\n",
              "        padding: 0 0 0 0;\n",
              "        width: 32px;\n",
              "      }\n",
              "\n",
              "      .colab-df-generate:hover {\n",
              "        background-color: #E2EBFA;\n",
              "        box-shadow: 0px 1px 2px rgba(60, 64, 67, 0.3), 0px 1px 3px 1px rgba(60, 64, 67, 0.15);\n",
              "        fill: #174EA6;\n",
              "      }\n",
              "\n",
              "      [theme=dark] .colab-df-generate {\n",
              "        background-color: #3B4455;\n",
              "        fill: #D2E3FC;\n",
              "      }\n",
              "\n",
              "      [theme=dark] .colab-df-generate:hover {\n",
              "        background-color: #434B5C;\n",
              "        box-shadow: 0px 1px 3px 1px rgba(0, 0, 0, 0.15);\n",
              "        filter: drop-shadow(0px 1px 2px rgba(0, 0, 0, 0.3));\n",
              "        fill: #FFFFFF;\n",
              "      }\n",
              "    </style>\n",
              "    <button class=\"colab-df-generate\" onclick=\"generateWithVariable('muestras_exp')\"\n",
              "            title=\"Generate code using this dataframe.\"\n",
              "            style=\"display:none;\">\n",
              "\n",
              "  <svg xmlns=\"http://www.w3.org/2000/svg\" height=\"24px\"viewBox=\"0 0 24 24\"\n",
              "       width=\"24px\">\n",
              "    <path d=\"M7,19H8.4L18.45,9,17,7.55,7,17.6ZM5,21V16.75L18.45,3.32a2,2,0,0,1,2.83,0l1.4,1.43a1.91,1.91,0,0,1,.58,1.4,1.91,1.91,0,0,1-.58,1.4L9.25,21ZM18.45,9,17,7.55Zm-12,3A5.31,5.31,0,0,0,4.9,8.1,5.31,5.31,0,0,0,1,6.5,5.31,5.31,0,0,0,4.9,4.9,5.31,5.31,0,0,0,6.5,1,5.31,5.31,0,0,0,8.1,4.9,5.31,5.31,0,0,0,12,6.5,5.46,5.46,0,0,0,6.5,12Z\"/>\n",
              "  </svg>\n",
              "    </button>\n",
              "    <script>\n",
              "      (() => {\n",
              "      const buttonEl =\n",
              "        document.querySelector('#id_a924a0bf-213c-41d5-888e-80b18d207218 button.colab-df-generate');\n",
              "      buttonEl.style.display =\n",
              "        google.colab.kernel.accessAllowed ? 'block' : 'none';\n",
              "\n",
              "      buttonEl.onclick = () => {\n",
              "        google.colab.notebook.generateWithVariable('muestras_exp');\n",
              "      }\n",
              "      })();\n",
              "    </script>\n",
              "  </div>\n",
              "\n",
              "    </div>\n",
              "  </div>\n"
            ],
            "application/vnd.google.colaboratory.intrinsic+json": {
              "type": "dataframe",
              "variable_name": "muestras_exp"
            }
          },
          "metadata": {},
          "execution_count": 155
        }
      ]
    },
    {
      "cell_type": "markdown",
      "metadata": {
        "id": "aJyrCTU9id2c"
      },
      "source": [
        "<h2> Distribución de cada muestra"
      ]
    },
    {
      "cell_type": "code",
      "source": [
        "muestras_exp.sample(4, axis = 1).hist(sharex= True, bins=100)\n",
        "plt.show()"
      ],
      "metadata": {
        "id": "xn96zKZ_IGYQ",
        "outputId": "56789b74-6cb2-4c1b-b6dc-c6e46978f17a",
        "colab": {
          "base_uri": "https://localhost:8080/",
          "height": 452
        }
      },
      "execution_count": 156,
      "outputs": [
        {
          "output_type": "display_data",
          "data": {
            "text/plain": [
              "<Figure size 640x480 with 4 Axes>"
            ],
            "image/png": "[encoded data removed]"
          },
          "metadata": {}
        }
      ]
    },
    {
      "cell_type": "markdown",
      "metadata": {
        "id": "66z__SzaEfge"
      },
      "source": [
        "<h2>Distribución de la suma"
      ]
    },
    {
      "cell_type": "code",
      "source": [
        "muestras_exp.sum().hist(bins=30, figsize=(4,3))\n",
        "plt.show()"
      ],
      "metadata": {
        "outputId": "41466642-4cc2-4365-a770-a34361ffa2a6",
        "colab": {
          "base_uri": "https://localhost:8080/",
          "height": 295
        },
        "id": "xUv1f4yPEfge"
      },
      "execution_count": 157,
      "outputs": [
        {
          "output_type": "display_data",
          "data": {
            "text/plain": [
              "<Figure size 400x300 with 1 Axes>"
            ],
            "image/png": "[encoded data removed]"
          },
          "metadata": {}
        }
      ]
    },
    {
      "cell_type": "markdown",
      "metadata": {
        "id": "UjKLuQLEilDv"
      },
      "source": [
        "<h2>Distribución de los promedios"
      ]
    },
    {
      "cell_type": "code",
      "metadata": {
        "id": "_qfIBuRysOz0",
        "colab": {
          "base_uri": "https://localhost:8080/",
          "height": 295
        },
        "outputId": "092382e7-5450-4650-c199-6f3fe6184534"
      },
      "source": [
        "muestras_exp.mean().hist(bins=30, figsize=(4,3))\n",
        "plt.show()\n"
      ],
      "execution_count": 158,
      "outputs": [
        {
          "output_type": "display_data",
          "data": {
            "text/plain": [
              "<Figure size 400x300 with 1 Axes>"
            ],
            "image/png": "[encoded data removed]"
          },
          "metadata": {}
        }
      ]
    },
    {
      "cell_type": "markdown",
      "source": [
        "<h2>Distribución de los errores"
      ],
      "metadata": {
        "id": "bLkNy-xLbI-a"
      }
    },
    {
      "cell_type": "code",
      "metadata": {
        "colab": {
          "base_uri": "https://localhost:8080/",
          "height": 295
        },
        "outputId": "0c707f43-2512-4cec-c24c-fcef4c3313d6",
        "id": "Rw1g3fBObI-j"
      },
      "source": [
        "errores = muestras_exp.mean() - X.mean()\n",
        "errores.hist(bins=30, figsize=(4,3))\n",
        "plt.show()"
      ],
      "execution_count": 159,
      "outputs": [
        {
          "output_type": "display_data",
          "data": {
            "text/plain": [
              "<Figure size 400x300 with 1 Axes>"
            ],
            "image/png": "[encoded data removed]"
          },
          "metadata": {}
        }
      ]
    },
    {
      "cell_type": "markdown",
      "metadata": {
        "id": "cn-Wq930Vgog"
      },
      "source": [
        "\n",
        "\n",
        "https://seeing-theory.brown.edu/probability-distributions/index.html\n",
        "\n"
      ]
    }
  ]
}