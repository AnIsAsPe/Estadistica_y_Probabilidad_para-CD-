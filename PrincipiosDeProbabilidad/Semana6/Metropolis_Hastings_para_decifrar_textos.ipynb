{
  "cells": [
    {
      "cell_type": "markdown",
      "metadata": {
        "id": "view-in-github",
        "colab_type": "text"
      },
      "source": [
        "<a href=\"https://colab.research.google.com/github/AnIsAsPe/Estadistica_y_Probabilidad_para-CD-/blob/main/PrincipiosDeProbabilidad/Semana6/Metropolis_Hastings_para_decifrar_textos.ipynb\" target=\"_parent\"><img src=\"https://colab.research.google.com/assets/colab-badge.svg\" alt=\"Open In Colab\"/></a>"
      ]
    },
    {
      "cell_type": "markdown",
      "source": [
        "<h2> Algoritmo Metropolis Hastings para decifrar textos <h2>"
      ],
      "metadata": {
        "id": "pcOPv-kLJtr-"
      }
    },
    {
      "cell_type": "markdown",
      "source": [
        "El presente código es una adaptación del presentado en [este repositorio](https://github.com/svivek/mcmc-decoding-example)\n",
        "\n",
        "El ejemplo está inspirado en la historia descrita en [The Markov Chain Monte Carlo Revolution](https://www.ams.org/journals/bull/2009-46-02/S0273-0979-08-01238-X/S0273-0979-08-01238-X.pdf). \n",
        "\n",
        "\n",
        "\n",
        "\n",
        "\n"
      ],
      "metadata": {
        "id": "m2c49PEl_WQX"
      }
    },
    {
      "cell_type": "markdown",
      "source": [
        "<img src='https://pbs.twimg.com/media/DnJnUCpWwAAmPnR.jpg'>\n",
        "\n"
      ],
      "metadata": {
        "id": "9rAkajXnMFh2"
      }
    },
    {
      "cell_type": "markdown",
      "source": [
        "El objetivo es decifrar los mensajes intercambiados por prisioneros, con la conjetura de que cada simbolo representa una letra o simbolo del lenguaje. La tarea es pues, encontrar ese diccionario o **clave** para codificar y decodificar los mensajes."
      ],
      "metadata": {
        "id": "XijkPSiDM0Fk"
      }
    },
    {
      "cell_type": "markdown",
      "source": [
        "# Bibliotecas y Funciones"
      ],
      "metadata": {
        "id": "AhWKuLQza0hA"
      }
    },
    {
      "cell_type": "code",
      "source": [
        "import re\n",
        "from collections import Counter\n",
        "import math\n",
        "import pandas as pd\n",
        "import numpy as np\n",
        "import seaborn as sns\n",
        "import matplotlib.pyplot as plt\n"
      ],
      "metadata": {
        "id": "mT9wrYcTbR3x"
      },
      "execution_count": 1,
      "outputs": []
    },
    {
      "cell_type": "code",
      "execution_count": 2,
      "metadata": {
        "id": "TpK8vMmPYr7e"
      },
      "outputs": [],
      "source": [
        "def limpiar_texto(texto):\n",
        "\n",
        "    #cambiar texto a minusculas\n",
        "    texto = texto.lower()\n",
        "    \n",
        "    # quitar tildes\n",
        "    a,b = 'áéíóúü','aeiouu'\n",
        "    trans = str.maketrans( a,b)\n",
        "    texto = texto.translate(trans)\n",
        "\n",
        "    # solo letras y numeros\n",
        "    texto = re.sub('[^ña-z0-9 ]+' ,' ', texto).strip()  \n",
        "\n",
        "    # remplazar multiples espacios contiguos por un solo espacio\n",
        "    texto = re.sub('\\s+',' ', texto)                    \n",
        "    return texto\n",
        "\n",
        "def find_between( s, first, last ):\n",
        "    '''fuente: https://stackoverflow.com/questions/3368969/find-string-between-two-substrings'''\n",
        "    try:\n",
        "        start = s.index( first ) + len( first )\n",
        "        end = s.index( last, start )\n",
        "        return s[start:end]\n",
        "    except ValueError:\n",
        "        return \"\"\n",
        "def leer_texto(file, inicio=None, fin=None):\n",
        "    with open(file, 'r') as f:\n",
        "        if inicio is not None and fin is not None:\n",
        "            libro = find_between(f.read(), inicio, fin)\n",
        "        else:\n",
        "            libro = f.read()\n",
        "    return limpiar_texto(libro)"
      ]
    },
    {
      "cell_type": "code",
      "execution_count": 3,
      "metadata": {
        "id": "Me7N9lYrYr7f"
      },
      "outputs": [],
      "source": [
        "def bigram_log_probabilities(book):\n",
        "    \n",
        "    character_counts = Counter(book)\n",
        "    bigram_counts = Counter(zip(book, book[1:]))\n",
        "    bigrams = bigram_counts.keys()\n",
        "    return dict(map(lambda k: [k, math.log(bigram_counts[k]) - math.log(character_counts[k[0]])], bigrams))"
      ]
    },
    {
      "cell_type": "code",
      "execution_count": 4,
      "metadata": {
        "id": "ShKV2OfdYr7d"
      },
      "outputs": [],
      "source": [
        "LOG_EPSILON = -30  # probabilidad muy pequeña vista como logaritmo, que se ustilizara cuando no exista probabilidad de trancisión de una letra a otra\n",
        "\n",
        "def goodness(text, bigram_table):\n",
        "    bigrams = zip(text, text[1:])\n",
        "    sum = 0\n",
        "    for b in bigrams:\n",
        "        sum += bigram_table.get(b) or LOG_EPSILON\n",
        "    return sum"
      ]
    },
    {
      "cell_type": "code",
      "source": [
        "def MatrizTransisionLetras(book):\n",
        "    \n",
        "    character_counts = Counter(book)\n",
        "    bigram_counts = Counter(zip(book, book[1:]))\n",
        "    bigrams = bigram_counts.keys()\n",
        "    MT = pd.DataFrame(LOG_EPSILON, \n",
        "                      index = [ch for ch in alphabet], \n",
        "                      columns =  [ch for ch in alphabet] )\n",
        "    for row, col in bigrams:\n",
        "        MT.loc[row, col] = math.log(bigram_counts[(row, col)]) - math.log(character_counts[row])\n",
        "    \n",
        "    fig = plt.figure(figsize = (25, 20))\n",
        "    ax = sns.heatmap(np.exp(MT),\n",
        "                     cmap = \"mako_r\",\n",
        "                     cbar = False,\n",
        "                     annot = True,\n",
        "                     fmt=\".2f\",\n",
        "                     square = True)\n",
        "    ax.xaxis.tick_top()\n",
        "    plt.show()"
      ],
      "metadata": {
        "id": "mSrc4IGYSUsC"
      },
      "execution_count": null,
      "outputs": []
    },
    {
      "cell_type": "markdown",
      "metadata": {
        "id": "_riLxoAeYr7Z"
      },
      "source": [
        "## Cifrado por sustitución\n",
        "\n",
        "Es un método de cifrado para codificar y decodificar mensajes usando una clave que relaciona una letra o simbolo por otro.\n",
        "\n",
        "Como ejemplo, se puede suponer que la clave de un cifrado está contenida en la siguiente tabla:\n",
        "\n",
        "|original | codificado |\n",
        "|---------|------------|\n",
        "|a        | z          |\n",
        "|n        | 4          |\n",
        "|l        | 5          |\n",
        "|i        | a          |\n",
        "|s        | 8          |\n",
        "\n",
        "De manera que la palabra  `analisis` puede ser codificada como `z4z5a8a8`. "
      ]
    },
    {
      "cell_type": "code",
      "execution_count": 5,
      "metadata": {
        "id": "vjSokWDdYr7a"
      },
      "outputs": [],
      "source": [
        "def code(text, key): \n",
        "    return ''.join(list(map(lambda char: key[char], text)))"
      ]
    },
    {
      "cell_type": "code",
      "execution_count": 6,
      "metadata": {
        "id": "9yvaXh0HYr7b",
        "outputId": "2727555e-5b5c-48ae-ffe6-d75ba40f1fbf",
        "colab": {
          "base_uri": "https://localhost:8080/",
          "height": 36
        }
      },
      "outputs": [
        {
          "output_type": "execute_result",
          "data": {
            "text/plain": [
              "'z4z5a8a8'"
            ],
            "application/vnd.google.colaboratory.intrinsic+json": {
              "type": "string"
            }
          },
          "metadata": {},
          "execution_count": 6
        }
      ],
      "source": [
        "clave = {'a': 'z', 'n': '4', 'l': '5', 'i': 'a', 's':'8'}\n",
        "code('analisis', clave)"
      ]
    },
    {
      "cell_type": "markdown",
      "metadata": {
        "id": "c_UZ88W1Yr7b"
      },
      "source": [
        "Y podemos decodificar la palabra usando la clave inversa:"
      ]
    },
    {
      "cell_type": "code",
      "execution_count": 7,
      "metadata": {
        "id": "LcUu-sPUYr7c",
        "outputId": "e0be1dc3-8bd0-4520-fa52-90f62bd6a15c",
        "colab": {
          "base_uri": "https://localhost:8080/",
          "height": 36
        }
      },
      "outputs": [
        {
          "output_type": "execute_result",
          "data": {
            "text/plain": [
              "'analisis'"
            ],
            "application/vnd.google.colaboratory.intrinsic+json": {
              "type": "string"
            }
          },
          "metadata": {},
          "execution_count": 7
        }
      ],
      "source": [
        "inv_clave = {v : k for k, v in clave.items()}\n",
        "code('z4z5a8a8', inv_clave)"
      ]
    },
    {
      "cell_type": "markdown",
      "source": [
        "#¿Cómo encontrar una clave adecuada?"
      ],
      "metadata": {
        "id": "E-i6-jl7B9VI"
      }
    },
    {
      "cell_type": "markdown",
      "source": [
        "Si consideramos solamente el espacio en blanco, las letras en minúscula, y los números estamos hablando de 38 simbolos, y por tanto el espacio muestral en el que vive la clave es enorme."
      ],
      "metadata": {
        "id": "mvaozz-9CeDi"
      }
    },
    {
      "cell_type": "code",
      "execution_count": 8,
      "metadata": {
        "colab": {
          "base_uri": "https://localhost:8080/"
        },
        "id": "GOp3ZBIRCUHc",
        "outputId": "5aba7423-21d1-471b-fce4-e95c107988dc"
      },
      "outputs": [
        {
          "output_type": "stream",
          "name": "stdout",
          "text": [
            "Total de simbolos considerados: 38\n",
            "Tamaño del espacio muestral en el que vive la clave que buscamos 523022617466601111760007224100074291200000000\n"
          ]
        }
      ],
      "source": [
        "alphabet = \"abcdefghijklmnñopqrstuvwxyz0123456789 \"\n",
        "\n",
        "print('Total de simbolos considerados:', len(alphabet))\n",
        "\n",
        "from math import factorial\n",
        "print('Tamaño del espacio muestral en el que vive la clave que buscamos', factorial(38))"
      ]
    },
    {
      "cell_type": "markdown",
      "source": [
        "Supondremos que el lenguaje de los mensajes cifrados es el español, por tanto utilizaremos como guía las probabilidades de transición de los carácteres en español."
      ],
      "metadata": {
        "id": "tf1C0WnpE3Id"
      }
    },
    {
      "cell_type": "markdown",
      "metadata": {
        "id": "c6fNYo80Yr7e"
      },
      "source": [
        "# ¿Cómo obtener la matriz de transición de los caracteres? \n"
      ]
    },
    {
      "cell_type": "markdown",
      "source": [
        "Para aprender estas probabilidades usaremos un texto, lo más largo posible en español"
      ],
      "metadata": {
        "id": "ibTGyugELB3B"
      }
    },
    {
      "cell_type": "markdown",
      "metadata": {
        "id": "b7335StTYr7f"
      },
      "source": [
        "Se puede calcular las probabilidades de transisión utilizando cualquier texto. Si este es suficientemente grande, podremos obtener buenas estimaciones. Usaremos Don Quijote de la Mancha, que tiene más de 2 millones de caracteres."
      ]
    },
    {
      "cell_type": "code",
      "source": [
        "inicio = \"*** START OF THE PROJECT GUTENBERG EBOOK DON QUIJOTE ***\"\n",
        "fin = \"*** END OF THE PROJECT GUTENBERG EBOOK DON QUIJOTE ***\"\n",
        "\n",
        "file = '/content/drive/MyDrive/Datos/DonQuijote.txt'\n",
        "DonQ = leer_texto(file, inicio, fin )"
      ],
      "metadata": {
        "id": "eLULH2Hx3zGa"
      },
      "execution_count": 9,
      "outputs": []
    },
    {
      "cell_type": "code",
      "source": [
        " MatrizTransisionLetras(DonQ)"
      ],
      "metadata": {
        "colab": {
          "base_uri": "https://localhost:8080/",
          "height": 1000
        },
        "id": "iUv5yX0hVZki",
        "outputId": "5f4ccafe-5a42-4278-8f83-2ada66ac4465"
      },
      "execution_count": 12,
      "outputs": [
        {
          "output_type": "display_data",
          "data": {
            "text/plain": [
              "<Figure size 1800x1440 with 1 Axes>"
            ],
            "image/png": "[encoded data removed]"
          },
          "metadata": {
            "needs_background": "light"
          }
        }
      ]
    },
    {
      "cell_type": "code",
      "source": [
        "bigram_table = bigram_log_probabilities(DonQ)\n",
        "bigram_table"
      ],
      "metadata": {
        "colab": {
          "base_uri": "https://localhost:8080/"
        },
        "id": "-sS8EHANxBMZ",
        "outputId": "f26fa4aa-24a1-4bc4-d73b-b603e31f7e0a"
      },
      "execution_count": 13,
      "outputs": [
        {
          "output_type": "execute_result",
          "data": {
            "text/plain": [
              "{('e', 'l'): -2.495635370118805,\n",
              " ('l', ' '): -1.633573260510028,\n",
              " (' ', 'i'): -4.937384512589171,\n",
              " ('i', 'n'): -2.3504318062150116,\n",
              " ('n', 'g'): -4.031173508631302,\n",
              " ('g', 'e'): -2.980174879019078,\n",
              " ('e', 'n'): -1.8827851415801167,\n",
              " ('n', 'i'): -3.196628842521836,\n",
              " ('i', 'o'): -2.349621480303913,\n",
              " ('o', 's'): -1.8348327937786753,\n",
              " ('s', 'o'): -2.8913442783423715,\n",
              " ('o', ' '): -0.8242763995237041,\n",
              " (' ', 'h'): -3.420071451532097,\n",
              " ('h', 'i'): -2.3957986266629003,\n",
              " ('i', 'd'): -2.801143855311272,\n",
              " ('d', 'a'): -2.023135023232147,\n",
              " ('a', 'l'): -2.6003410610565005,\n",
              " ('l', 'g'): -4.105093437001927,\n",
              " ('g', 'o'): -1.4025662217672572,\n",
              " (' ', 'd'): -2.166409555430894,\n",
              " ('d', 'o'): -1.3743360383401892,\n",
              " ('o', 'n'): -2.0723476075124374,\n",
              " ('n', ' '): -1.137340896369082,\n",
              " (' ', 'q'): -2.633056752874694,\n",
              " ('q', 'u'): 0.0,\n",
              " ('u', 'i'): -2.480561604574996,\n",
              " ('i', 'j'): -2.933481589751146,\n",
              " ('j', 'o'): -0.5809899206883387,\n",
              " ('o', 't'): -3.485054422488467,\n",
              " ('t', 'e'): -1.3776567950215597,\n",
              " ('e', ' '): -1.0492270041581264,\n",
              " ('d', 'e'): -0.9273355144673836,\n",
              " (' ', 'l'): -2.453993060521281,\n",
              " ('l', 'a'): -1.3300988889736907,\n",
              " ('a', ' '): -1.0572346397157286,\n",
              " (' ', 'm'): -2.888473356904157,\n",
              " ('m', 'a'): -1.4288016144918032,\n",
              " ('a', 'n'): -2.1768630093201207,\n",
              " ('n', 'c'): -2.76997352886187,\n",
              " ('c', 'h'): -2.233525463604604,\n",
              " ('h', 'a'): -0.7720910967933925,\n",
              " (' ', 'p'): -2.707588941072377,\n",
              " ('p', 'o'): -1.2015693953799218,\n",
              " ('o', 'r'): -2.351057542749402,\n",
              " ('r', ' '): -1.665587610818232,\n",
              " ('m', 'i'): -1.7351810888678383,\n",
              " ('i', 'g'): -3.336874158257338,\n",
              " ('g', 'u'): -1.358552700327781,\n",
              " ('u', 'e'): -0.7285656314391495,\n",
              " (' ', 'c'): -2.6562858765277717,\n",
              " ('c', 'e'): -2.131160083094869,\n",
              " ('e', 'r'): -2.117486450267057,\n",
              " ('r', 'v'): -5.42335576432673,\n",
              " ('v', 'a'): -1.9512592452219444,\n",
              " ('n', 't'): -1.9603429424340302,\n",
              " ('e', 's'): -1.923913520658136,\n",
              " ('s', ' '): -0.8934149130536806,\n",
              " (' ', 's'): -2.5381357692532447,\n",
              " ('s', 'a'): -2.447743394639062,\n",
              " ('a', 'a'): -9.817117292301274,\n",
              " ('a', 'v'): -5.1149853984703855,\n",
              " ('v', 'e'): -1.0720171639855653,\n",
              " ('e', 'd'): -3.91187992127057,\n",
              " ('d', 'r'): -4.042346538160135,\n",
              " ('r', 'a'): -1.5006754644245959,\n",
              " (' ', 'e'): -2.3636134919407716,\n",
              " (' ', 't'): -3.2231022060371473,\n",
              " ('t', 'a'): -1.4098309784623986,\n",
              " ('a', 's'): -2.1514916695781032,\n",
              " ('s', 't'): -2.1974142631696267,\n",
              " ('t', 'i'): -2.4216621798134046,\n",
              " ('i', 'm'): -3.3813259208281714,\n",
              " ('m', 'o'): -1.6435332840240005,\n",
              " ('r', 'r'): -3.7545545293815206,\n",
              " ('a', 't'): -4.334586220807245,\n",
              " (' ', 'r'): -4.012122515220673,\n",
              " ('r', 'e'): -1.8214065216652653,\n",
              " ('e', 'y'): -6.204327970702745,\n",
              " ('y', ' '): -0.22425470663310776,\n",
              " (' ', 'a'): -2.523789918611312,\n",
              " ('d', 'u'): -3.865328311075034,\n",
              " ('u', 'q'): -5.2071183144429245,\n",
              " (' ', 'b'): -4.230165297546138,\n",
              " ('b', 'e'): -2.0616819861365254,\n",
              " ('e', 'j'): -4.69359655698007,\n",
              " ('j', 'a'): -1.61614839553327,\n",
              " ('a', 'r'): -2.414610340646842,\n",
              " ('p', 'r'): -2.260802912427158,\n",
              " ('r', 'o'): -1.9961600027504787,\n",
              " ('o', 'l'): -3.7148990040284833,\n",
              " ('l', 'o'): -1.872588447870985,\n",
              " ('o', 'g'): -5.825425851148651,\n",
              " ('l', 'i'): -3.019182611898829,\n",
              " ('i', 'b'): -4.077725136774494,\n",
              " ('b', 'r'): -1.7295200011307994,\n",
              " ('t', 'r'): -1.9680332921391823,\n",
              " ('c', 'o'): -1.3007360721975392,\n",
              " ('n', 'd'): -2.2326465488040803,\n",
              " ('d', 'i'): -1.979970117691039,\n",
              " ('i', 'c'): -3.0342422812912258,\n",
              " ('c', 'i'): -1.772322125826328,\n",
              " (' ', 'y'): -2.8890823275284347,\n",
              " ('j', 'e'): -1.9568971889217428,\n",
              " ('r', 'c'): -4.022106818223593,\n",
              " (' ', 'f'): -4.328939010562422,\n",
              " ('f', 'a'): -1.7311965739015633,\n",
              " ('a', 'm'): -3.556493437592973,\n",
              " ('r', 'i'): -2.5329840064305653,\n",
              " ('m', 'e'): -1.4801781979144,\n",
              " ('s', 'u'): -2.9004989696565424,\n",
              " ('u', ' '): -2.9893519326447286,\n",
              " ('i', 'e'): -1.8776815182132403,\n",
              " ('i', 'z'): -4.961961842358566,\n",
              " ('z', 'o'): -1.1605559827372858,\n",
              " ('s', 'e'): -1.9923748464323996,\n",
              " ('c', 'u'): -2.2375835306688234,\n",
              " (' ', 'g'): -4.601379577827496,\n",
              " ('g', 'r'): -2.0179628041262534,\n",
              " ('a', 'c'): -3.659560661566317,\n",
              " ('n', 'e'): -3.0883176809464175,\n",
              " ('t', 'u'): -2.9524714099729845,\n",
              " ('u', 'v'): -4.865129270060406,\n",
              " ('v', 'o'): -1.9993261668879247,\n",
              " ('r', 'm'): -3.8228865218753896,\n",
              " ('r', 's'): -4.18731344261844,\n",
              " ('c', 'a'): -1.6893373742536983,\n",
              " ('a', 'b'): -2.9712374170372247,\n",
              " ('b', 'a'): -1.1951012327200914,\n",
              " ('l', 'l'): -2.267951731132859,\n",
              " ('l', 'e'): -1.9296658114704055,\n",
              " ('u', 'c'): -3.6802700101144747,\n",
              " (' ', 'n'): -3.5002602638566707,\n",
              " ('n', 'u'): -4.475818072363243,\n",
              " ('u', 'a'): -3.0913294672305422,\n",
              " (' ', 'v'): -3.532727799357726,\n",
              " ('s', 'i'): -2.580231054781816,\n",
              " ('n', 'a'): -2.64230381773368,\n",
              " ('s', 'g'): -6.630296222084637,\n",
              " ('i', 'a'): -2.1308847550939607,\n",
              " ('n', 'o'): -2.069619765702326,\n",
              " ('s', 'c'): -3.825666460284107,\n",
              " ('c', 'r'): -3.571178017502148,\n",
              " ('r', 'u'): -4.720214053041789,\n",
              " ('u', 't'): -5.158219684521447,\n",
              " ('u', 'r'): -3.2147916962192884,\n",
              " ('r', 'b'): -5.074523997849023,\n",
              " ('e', 'g'): -4.250174758639334,\n",
              " ('u', 'n'): -2.2261875273377214,\n",
              " ('b', 'u'): -2.6056392054499744,\n",
              " ('s', 'p'): -3.5076411711264797,\n",
              " ('p', 'a'): -1.460949139818224,\n",
              " ('b', 'l'): -2.683917343359867,\n",
              " (' ', 'j'): -5.697398504046278,\n",
              " ('a', 'g'): -4.688833651753499,\n",
              " ('g', 'i'): -3.045849118620577,\n",
              " ('a', 'd'): -2.7780945450749712,\n",
              " ('v', 'i'): -1.2435529411453903,\n",
              " ('t', 'o'): -1.5046478589062318,\n",
              " (' ', 'o'): -4.139131209191625,\n",
              " ('g', 'n'): -4.2160550604756954,\n",
              " ('f', 'e'): -1.8448215994092836,\n",
              " ('e', 'c'): -3.661577638825058,\n",
              " ('r', 'd'): -3.721452624220536,\n",
              " ('c', 'l'): -4.818613953571978,\n",
              " ('l', 'u'): -4.022090533975215,\n",
              " ('u', 'y'): -4.332219215384121,\n",
              " ('y', 'e'): -3.6263458765269663,\n",
              " ('f', 'i'): -1.5827765687832906,\n",
              " ('u', 'p'): -5.427986551919999,\n",
              " ('p', 'e'): -1.8263092173851856,\n",
              " ('g', 'a'): -1.4308509356058394,\n",
              " ('z', 'c'): -3.3223192498441287,\n",
              " ('a', 'i'): -5.379827978952344,\n",
              " ('h', 'e'): -2.2005783534743886,\n",
              " (' ', 'u'): -4.507510439602081,\n",
              " ('y', 'a'): -2.868287665978057,\n",
              " ('i', 'f'): -5.41755870817677,\n",
              " ('f', 'u'): -1.2542725018112542,\n",
              " ('o', 'p'): -5.767117879761716,\n",
              " ('l', 'm'): -4.798916978764526,\n",
              " ('i', 'l'): -3.541936816928918,\n",
              " ('n', 'n'): -9.116194514085954,\n",
              " ('u', 'm'): -4.553465232922139,\n",
              " ('a', 'j'): -5.237731223468898,\n",
              " ('u', 'd'): -3.6438316820771632,\n",
              " ('h', 'o'): -1.2512649156835032,\n",
              " ('n', 'z'): -4.455905028876783,\n",
              " ('z', 'a'): -0.738321697411898,\n",
              " ('n', 's'): -3.82163419641563,\n",
              " ('a', 'z'): -4.8022485476730825,\n",
              " ('e', 'ñ'): -4.507807153078991,\n",
              " ('ñ', 'o'): -0.5123088981704171,\n",
              " ('i', 's'): -2.8051504168537296,\n",
              " ('e', 't'): -4.685105939934911,\n",
              " ('r', 'p'): -5.963628589419021,\n",
              " ('m', 'u'): -2.6268655708627247,\n",
              " ('r', 't'): -3.3188405850947778,\n",
              " ('i', ' '): -2.335603096080435,\n",
              " ('o', 'i'): -5.835831772309767,\n",
              " ('o', 'c'): -3.97959916065032,\n",
              " ('o', 'm'): -3.285308469388296,\n",
              " ('b', 'o'): -2.811092964352725,\n",
              " ('l', 't'): -4.364554549850651,\n",
              " ('m', 'b'): -3.2671475900427547,\n",
              " ('n', 'v'): -5.454771906205057,\n",
              " ('d', ' '): -3.2885747357837563,\n",
              " ('s', 'd'): -5.973738488956984,\n",
              " ('e', 'v'): -4.944843314816017,\n",
              " ('i', 'r'): -3.0178559337566107,\n",
              " ('a', 'ñ'): -4.967219983331799,\n",
              " ('ñ', 'a'): -1.097442834669784,\n",
              " ('i', 't'): -3.7214411487278856,\n",
              " ('e', 'b'): -5.213622753262507,\n",
              " ('e', 'z'): -5.031301196468552,\n",
              " ('s', 'm'): -4.892881235891465,\n",
              " ('e', 'a'): -4.813216902384302,\n",
              " ('u', 's'): -3.1600870169138435,\n",
              " ('e', 'm'): -4.271066455497191,\n",
              " ('m', 'p'): -2.9546159292102274,\n",
              " ('b', 'i'): -1.6671755945459825,\n",
              " ('p', 'u'): -2.197140313590646,\n",
              " ('o', 'd'): -3.6891422557643754,\n",
              " ('o', 'v'): -5.808998377006703,\n",
              " ('n', 'f'): -5.250215447159214,\n",
              " ('a', 'u'): -4.837878852265691,\n",
              " ('i', 'v'): -4.803314752078032,\n",
              " ('o', 'z'): -5.747774916918584,\n",
              " ('u', 'l'): -3.969107293520702,\n",
              " ('a', 'e'): -6.135079370004055,\n",
              " ('l', 'b'): -6.211258048822517,\n",
              " ('o', 'q'): -7.056682614423055,\n",
              " ('e', 'p'): -5.649013264666713,\n",
              " ('p', 'l'): -3.4880325789173607,\n",
              " ('e', 'e'): -6.592771391241478,\n",
              " ('a', 'p'): -4.988076546606356,\n",
              " ('o', 'b'): -4.368690392365444,\n",
              " ('c', 't'): -5.753674788128124,\n",
              " ('u', 'j'): -5.2071183144429245,\n",
              " ('s', 'f'): -6.415571241236024,\n",
              " ('p', 'i'): -2.838564565072277,\n",
              " ('l', 'c'): -4.952165945275501,\n",
              " ('s', 'q'): -6.785445404241486,\n",
              " ('e', 'o'): -5.661404996961876,\n",
              " ('e', 'x'): -7.20685004832573,\n",
              " ('x', 't'): -2.762117422372486,\n",
              " ('d', 'm'): -5.6740512513699874,\n",
              " ('o', 'f'): -5.831656400899287,\n",
              " (' ', 'z'): -7.406429258076705,\n",
              " ('u', 'z'): -5.746440283038534,\n",
              " ('z', 'n'): -4.797167008305465,\n",
              " ('e', 'h'): -8.519872208339295,\n",
              " ('l', 'd'): -4.930324203360453,\n",
              " ('ñ', 'e'): -3.32963351425159,\n",
              " ('r', 'n'): -4.379803252841647,\n",
              " ('o', 'ñ'): -7.370713516571588,\n",
              " ('z', ' '): -2.001693992232096,\n",
              " ('u', 'g'): -5.103353604435506,\n",
              " ('a', 'y'): -4.961542182415117,\n",
              " ('y', 'o'): -2.1952434371367655,\n",
              " ('e', 'f'): -6.456869393002619,\n",
              " ('v', 'u'): -2.403356113294093,\n",
              " ('a', 'o'): -7.924553123951254,\n",
              " ('i', 'ñ'): -6.643326172330126,\n",
              " ('j', 'u'): -2.393852964121278,\n",
              " ('o', 'y'): -5.162759222562801,\n",
              " ('i', 'p'): -5.605868306815347,\n",
              " ('e', 'i'): -5.393874739947403,\n",
              " (' ', '1'): -11.06570824241435,\n",
              " ('1', '6'): -0.6931471805599452,\n",
              " ('6', '0'): -1.3862943611198906,\n",
              " ('0', '4'): -0.6931471805599453,\n",
              " ('4', ' '): 0.0,\n",
              " ('f', 'r'): -2.462084082444356,\n",
              " ('s', 'l'): -6.7178521131089575,\n",
              " ('h', 'u'): -3.232004455880496,\n",
              " ('u', 'b'): -4.440432800024353,\n",
              " ('f', 'o'): -2.7344986827653486,\n",
              " ('z', 'q'): -5.418855224883265,\n",
              " ('r', 'q'): -4.256445289854347,\n",
              " ('r', 'g'): -5.341940372841221,\n",
              " ('n', 'r'): -6.010114183363098,\n",
              " ('x', 'c'): -1.81303686767534,\n",
              " ('n', 'j'): -6.617494542165618,\n",
              " ('c', 'c'): -7.030406946736488,\n",
              " ('n', 'q'): -5.210860496808604,\n",
              " ('s', 'n'): -6.6066264779987325,\n",
              " ('a', 'q'): -4.653370819510865,\n",
              " ('o', 'j'): -5.5330962103003225,\n",
              " ('z', 'g'): -4.2752915483528895,\n",
              " ('n', 'm'): -6.263563084172636,\n",
              " ('r', 'l'): -4.291089970616977,\n",
              " ('u', 'f'): -6.814280913039889,\n",
              " ('j', 'i'): -4.685150097341472,\n",
              " ('s', 'h'): -7.047809668708976,\n",
              " ('u', 'o'): -6.791808057187831,\n",
              " ('l', 'v'): -4.619757837075084,\n",
              " ('a', 'h'): -5.843400717867788,\n",
              " ('g', 'l'): -4.4679276802307655,\n",
              " ('b', ' '): -8.017843137375271,\n",
              " ('c', ' '): -8.2926486591864,\n",
              " (' ', 'x'): -8.450748464378151,\n",
              " ('x', 'e'): -4.148411783492376,\n",
              " ('z', 'e'): -8.093003874309794,\n",
              " ('e', 'u'): -9.303991167104968,\n",
              " ('u', 'x'): -10.193005438849987,\n",
              " ('x', 'i'): -2.048350954609805,\n",
              " ('o', 'e'): -7.137908054345641,\n",
              " ('r', 'z'): -5.753597451197306,\n",
              " ('b', 's'): -7.206912921158943,\n",
              " ('i', 'q'): -6.254955497581262,\n",
              " ('e', 'q'): -7.218614889905317,\n",
              " ('l', 's'): -6.694684698400393,\n",
              " ('t', ' '): -7.301212067013399,\n",
              " ('m', ' '): -7.619768819800029,\n",
              " ('m', 'q'): -10.710811273158345,\n",
              " ('i', 'x'): -7.700438730091483,\n",
              " ('x', ' '): -2.178971137026869,\n",
              " ('a', 'f'): -6.58380078327828,\n",
              " ('i', 'u'): -6.314144368971593,\n",
              " ('s', 'b'): -8.803851055334952,\n",
              " ('o', 'a'): -8.869948288872074,\n",
              " ('t', 'c'): -8.736296592302722,\n",
              " ('f', 'l'): -3.740559414068213,\n",
              " ('p', 's'): -9.093834645213358,\n",
              " ('r', 'f'): -7.050812182263508,\n",
              " ('p', 't'): -6.454777315598099,\n",
              " ('x', 'p'): -1.951187206156157,\n",
              " ('d', 'v'): -6.5804572240116,\n",
              " ('l', 'z'): -6.427481157292153,\n",
              " ('l', 'q'): -7.009765745040288,\n",
              " ('o', 'h'): -6.512381061460675,\n",
              " ('h', ' '): -4.566499321640245,\n",
              " ('l', 'f'): -6.92687808523452,\n",
              " ('r', 'j'): -7.237689555593324,\n",
              " ('u', 'ñ'): -6.65688873928846,\n",
              " ('l', 'p'): -6.200208212635932,\n",
              " ('s', 'v'): -6.896259770581776,\n",
              " ('s', 's'): -10.361995673381502,\n",
              " ('i', 'i'): -7.04456294432877,\n",
              " ('d', 'h'): -9.775040356310758,\n",
              " ('n', 'l'): -6.780819598268917,\n",
              " ('y', 'u'): -5.117835176683724,\n",
              " (' ', 'ñ'): -12.16432053108246,\n",
              " ('ñ', 'u'): -5.364339162090035,\n",
              " ('ñ', 'i'): -3.6238729872495297,\n",
              " ('v', ' '): -6.57897339564493,\n",
              " ('d', 'l'): -8.339955831021435,\n",
              " ('d', 's'): -11.384478268744857,\n",
              " ('d', 'n'): -9.998183907624966,\n",
              " ('z', 'u'): -5.072578988165431,\n",
              " ('g', 'm'): -8.151794592521158,\n",
              " ('o', 'o'): -8.9609200670778,\n",
              " ('l', 'j'): -9.10162980671868,\n",
              " ('z', 'p'): -7.687538766201629,\n",
              " ('b', 'j'): -7.900060101718887,\n",
              " ('x', 'm'): -3.994261103665118,\n",
              " ('o', 'x'): -11.312295324241278,\n",
              " ('z', 'm'): -5.741628617146317,\n",
              " ('l', 'r'): -8.919308249924727,\n",
              " ('u', 'h'): -9.499858258290041,\n",
              " ('g', ' '): -9.068085324395312,\n",
              " ('x', 'v'): -2.6079667425452278,\n",
              " ('l', 'h'): -8.036919069726252,\n",
              " ('x', 'x'): -1.7657839828247948,\n",
              " ('x', 'a'): -2.9957322735539913,\n",
              " ('d', 'j'): -11.384478268744857,\n",
              " ('z', 'b'): -7.3998566937498484,\n",
              " ('s', 'r'): -11.748290034501393,\n",
              " ('n', 'h'): -8.893050962771744,\n",
              " ('b', 'c'): -8.998672390386998,\n",
              " (' ', 'w'): -12.16432053108246,\n",
              " ('w', 'a'): 0.0,\n",
              " ('d', 'q'): -9.592718799516803,\n",
              " ('j', ' '): -8.576970395452099,\n",
              " ('b', 'd'): -10.097284679055107,\n",
              " ('m', 'm'): -10.710811273158345,\n",
              " ('x', 'l'): -2.9444389791664407,\n",
              " ('a', 'x'): -12.215012565099645,\n",
              " ('i', 'y'): -10.720863616235846,\n",
              " ('l', 'n'): -11.404214899712727,\n",
              " ('m', 'n'): -9.324516912038455,\n",
              " ('c', 'm'): -11.00069886028861,\n",
              " ('x', 'o'): -5.247024072160486,\n",
              " ('f', ' '): -8.245909264774093,\n",
              " ('p', ' '): -10.480129006333248,\n",
              " ('1', '0'): -2.0794415416798357,\n",
              " ('0', ' '): -0.6931471805599453,\n",
              " ('1', '7'): -2.0794415416798357,\n",
              " ('7', ' '): 0.0,\n",
              " ('6', '1'): -0.6931471805599453,\n",
              " ('1', '5'): -2.0794415416798357,\n",
              " ('5', ' '): 0.0,\n",
              " ('p', 'c'): -9.38151671766514,\n",
              " ('s', 'j'): -11.748290034501393,\n",
              " ('y', 'm'): -9.441967832938703,\n",
              " (' ', '2'): -12.857467711642405,\n",
              " ('2', '3'): 0.0,\n",
              " ('3', ' '): 0.0,\n",
              " ('x', 'h'): -5.940171252720432,\n",
              " ('z', 'l'): -8.78615105486974,\n",
              " ('1', '4'): -2.0794415416798357,\n",
              " ('h', 'r'): -9.210890220781618,\n",
              " ('r', 'y'): -11.528148996741715,\n",
              " ('y', 't'): -10.135115013498648,\n",
              " ('i', 'h'): -10.720863616235846,\n",
              " ('b', 't'): -10.097284679055107,\n",
              " ('6', ' '): -1.3862943611198906,\n",
              " ('l', 'x'): -8.696164698610517,\n",
              " ('y', 'l'): -10.135115013498648}"
            ]
          },
          "metadata": {},
          "execution_count": 13
        }
      ]
    },
    {
      "cell_type": "markdown",
      "metadata": {
        "id": "EuVUH6gFYr7c"
      },
      "source": [
        "# Calificación de las claves candidatas"
      ]
    },
    {
      "cell_type": "markdown",
      "metadata": {
        "id": "8NO4d3U3Yr7d"
      },
      "source": [
        "Para cada secuencia de caracteres $c_1c_2c_3\\cdots c_n$, estimaresmos su probabilidad de la siguiente manera\n",
        "\n",
        "$$P(c_1c_2c_3\\cdots c_n) = P(c_1) P(c_2 \\mid c_1) P(c_3 \\mid c_2) \\cdots P(c_n \\mid c_{n-1})$$\n",
        "\n",
        "Así, la probabilidad de la palabra `analisis` se calcularía como \n",
        "\n",
        " $P(a)~P(n \\mid a)P(a \\mid n)P(l \\mid a)P(i \\mid l)P(s \\mid i)P(i \\mid s)P(s \\mid i)$.\n",
        "\n",
        "Para hacer lo anterior necesitamos una matriz de transición de un caracter a otro, y en este sentido, para facilitar el análisis,  ignoraremos el primer caracter porque no hará practicamente diferencia en una secuencia larga."
      ]
    },
    {
      "cell_type": "markdown",
      "metadata": {
        "id": "rsB4wtvdYr7f"
      },
      "source": [
        "Mediante la función \"goodness\", valiendonos de las probabilidades de la matriz de transisión de caracteres en español,  compararemos las secuencias decodificadas para ver con cual clave se produce una secuencia más plausible."
      ]
    },
    {
      "cell_type": "code",
      "execution_count": 14,
      "metadata": {
        "id": "fOAJWcz2Yr7g",
        "outputId": "f73f1577-bbaf-4bac-8d94-a3f1b858cc7f",
        "colab": {
          "base_uri": "https://localhost:8080/"
        }
      },
      "outputs": [
        {
          "output_type": "stream",
          "name": "stdout",
          "text": [
            "Log probability of 'opamc' =  -40.784560457172915\n"
          ]
        }
      ],
      "source": [
        "print(\"Log probability of 'opamc' = \",goodness(\"opamc\", bigram_table))"
      ]
    },
    {
      "cell_type": "markdown",
      "source": [],
      "metadata": {
        "id": "fNI14GjfghTE"
      }
    },
    {
      "cell_type": "code",
      "execution_count": 15,
      "metadata": {
        "id": "AnrdclCUYr7g",
        "outputId": "77c38ffe-066d-437b-f0a7-5745d64fd17c",
        "colab": {
          "base_uri": "https://localhost:8080/"
        }
      },
      "outputs": [
        {
          "output_type": "stream",
          "name": "stdout",
          "text": [
            "Log probabilidad de 'campo' = -9.40201613643682\n"
          ]
        }
      ],
      "source": [
        "print(\"Log probabilidad de 'campo' = \" +str(goodness(\"campo\", bigram_table)))"
      ]
    },
    {
      "cell_type": "markdown",
      "source": [
        "# Implementación"
      ],
      "metadata": {
        "id": "SUGNKvpc2r9P"
      }
    },
    {
      "cell_type": "markdown",
      "source": [
        "## Creación del mensaje encriptado"
      ],
      "metadata": {
        "id": "FosFljuA8fr1"
      }
    },
    {
      "cell_type": "code",
      "execution_count": 43,
      "metadata": {
        "id": "e_BXIRxZHTji"
      },
      "outputs": [],
      "source": [
        "plain_text = limpiar_texto(\n",
        "    \"\"\"Muchos años después, frente al pelotón de fusilamiento, el coronel Aureliano Buendía había de \n",
        "recordar aquella tarde remota en que su padre lo llevó a conocer el hielo. Macondo era entonces \n",
        "una aldea de veinte casas de barro y cañabrava construidas a la orilla de un río de aguas diáfanas \n",
        "que se precipitaban por un lecho de piedras pulidas, blancas y enormes como huevos \n",
        "prehistóricos. El mundo era tan reciente, que muchas cosas carecían de nombre, y para \n",
        "mencionarlas había que señalarías con el dedo. Todos los años, por el mes de marzo, una familia \n",
        "de gitanos desarrapados plantaba su carpa cerca de la aldea, y con un grande alboroto de pitos y \n",
        "timbales daban a conocer los nuevos inventos. Primero llevaron el imán. Un gitano corpulento, de \n",
        "barba montaraz y manos de gorrión, que se presentó con el nombre de Melquíades, hizo una \n",
        "truculenta demostración pública de lo que él mismo llamaba la octava maravilla de los sabios \n",
        "alquimistas de Macedonia. Fue de casa en casa arrastrando dos lingotes metálicos, y todo el \n",
        "mundo se espantó al ver que los calderos, las pailas, las tenazas y los anafes se caían de su sitio, \n",
        "y las maderas crujían por la desesperación de los clavos y los tornillos tratando de desenclavarse, \n",
        "y aun los objetos perdidos desde hacía mucho tiempo aparecían por donde más se les había \n",
        "buscado, y se arrastraban en desbandada turbulenta detrás de los fierros mágicos de Melquíades. \n",
        "\"\"\"\n",
        ")"
      ]
    },
    {
      "cell_type": "code",
      "execution_count": 44,
      "metadata": {
        "id": "PFVObQT4Yr7g"
      },
      "outputs": [],
      "source": [
        "import random\n",
        "\n",
        "def make_random_key():\n",
        "    l = list(alphabet)\n",
        "    random.shuffle(l)\n",
        "    return dict(zip(alphabet, l))"
      ]
    },
    {
      "cell_type": "code",
      "execution_count": 45,
      "metadata": {
        "id": "vziRlSM4Yr7h",
        "outputId": "9d9bcbb5-c3bb-4be9-a8d2-dfac91bc5b48",
        "colab": {
          "base_uri": "https://localhost:8080/",
          "height": 165
        }
      },
      "outputs": [
        {
          "output_type": "execute_result",
          "data": {
            "text/plain": [
              "'tp0jo2cyho2cd 2xp 2cuw mq cy7cx 7oqomcd cup2v7ytv mqoc 7c0owom 7cypw 7vymoc9p mdvycjy9vycd cw 0owdywcyfp 77ycqywd cw toqyc mcfp c2pcxydw c7oc77 socyc0omo0 wc 7cjv 7octy0omdoc wyc mqom0 2cpmycy7d ycd cs vmq c0y2y2cd c9ywwoc1c0yhy9wysyc0om2qwpvdy2cyc7ycowv77ycd cpmcwvocd cybpy2cdvyuymy2cfp c2 cxw 0vxvqy9ymcxowcpmc7 0jocd cxv dwy2cxp7vdy2c97ym0y2c1c mowt 2c0otocjp so2cxw jv2qowv0o2c 7ctpmdoc wycqymcw 0v mq cfp ctp0jy2c0o2y2c0yw 0vymcd cmot9w c1cxywyct m0vomyw7y2cjy9vycfp c2 hy7ywvy2c0omc 7cd docqodo2c7o2cyho2cxowc 7ct 2cd ctywlocpmycuytv7vycd cbvqymo2cd 2ywwyxydo2cx7ymqy9yc2pc0ywxyc0 w0ycd c7ycy7d yc1c0omcpmcbwymd cy79owoqocd cxvqo2c1cqvt9y7 2cdy9ymcyc0omo0 wc7o2cmp so2cvms mqo2cxwvt woc77 sywomc 7cvtymcpmcbvqymoc0owxp7 mqocd c9yw9yctomqywylc1ctymo2cd cbowwvomcfp c2 cxw 2 mqoc0omc 7cmot9w cd ct 7fpvyd 2cjvlocpmycqwp0p7 mqycd to2qwy0vomcxp97v0ycd c7ocfp c 7ctv2toc77yty9yc7yco0qysyctywysv77ycd c7o2c2y9vo2cy7fpvtv2qy2cd cty0 domvycup cd c0y2yc mc0y2ycywwy2qwymdocdo2c7vmboq 2ct qy7v0o2c1cqodoc 7ctpmdoc2 c 2xymqocy7cs wcfp c7o2c0y7d wo2c7y2cxyv7y2c7y2cq myly2c1c7o2cymyu 2c2 c0yvymcd c2pc2vqvoc1c7y2ctyd wy2c0wpavymcxowc7ycd 2 2x wy0vomcd c7o2c07yso2c1c7o2cqowmv77o2cqwyqymdocd cd 2 m07ysyw2 c1cypmc7o2co9a qo2cx wdvdo2cd 2d cjy0vyctp0jocqv txocyxyw 0vymcxowcdomd cty2c2 c7 2cjy9vyc9p20ydoc1c2 cywwy2qwy9ymc mcd 29ymdydycqpw9p7 mqycd qwy2cd c7o2cuv wwo2ctybv0o2cd ct 7fpvyd 2'"
            ],
            "application/vnd.google.colaboratory.intrinsic+json": {
              "type": "string"
            }
          },
          "metadata": {},
          "execution_count": 45
        }
      ],
      "source": [
        "key = make_random_key()\n",
        "cipher_text = code(plain_text, key)\n",
        "cipher_text"
      ]
    },
    {
      "cell_type": "markdown",
      "source": [
        "## Busqueda de la clave"
      ],
      "metadata": {
        "id": "1x0YrP828tVQ"
      }
    },
    {
      "cell_type": "markdown",
      "source": [
        "Empezaremos la busqueda de la clave adecuado, utilizando en el inicio una **clave** aleatoria que iremos cambiando por una  clave cercana, simplemente transponiendo dos caracteres seleccionados aleatoriamente."
      ],
      "metadata": {
        "id": "NES6nS081pfn"
      }
    },
    {
      "cell_type": "code",
      "source": [
        "clave0 = make_random_key()  # creamos una clave inicial\n",
        "clave0"
      ],
      "metadata": {
        "colab": {
          "base_uri": "https://localhost:8080/"
        },
        "id": "zCPiZDtH2ZeG",
        "outputId": "276c1fba-420b-4387-bd64-2f1ab3ce3b8b"
      },
      "execution_count": 46,
      "outputs": [
        {
          "output_type": "execute_result",
          "data": {
            "text/plain": [
              "{'a': 'v',\n",
              " 'b': 'd',\n",
              " 'c': '3',\n",
              " 'd': '7',\n",
              " 'e': 'h',\n",
              " 'f': '9',\n",
              " 'g': '2',\n",
              " 'h': 'x',\n",
              " 'i': '6',\n",
              " 'j': 'w',\n",
              " 'k': 'n',\n",
              " 'l': '1',\n",
              " 'm': 'a',\n",
              " 'n': 'b',\n",
              " 'ñ': 'y',\n",
              " 'o': 'z',\n",
              " 'p': 'p',\n",
              " 'q': '8',\n",
              " 'r': 'j',\n",
              " 's': 't',\n",
              " 't': ' ',\n",
              " 'u': 'e',\n",
              " 'v': 's',\n",
              " 'w': 'k',\n",
              " 'x': 'l',\n",
              " 'y': '0',\n",
              " 'z': 'g',\n",
              " '0': 'c',\n",
              " '1': 'f',\n",
              " '2': 'q',\n",
              " '3': 'i',\n",
              " '4': 'ñ',\n",
              " '5': 'r',\n",
              " '6': '4',\n",
              " '7': 'u',\n",
              " '8': '5',\n",
              " '9': 'o',\n",
              " ' ': 'm'}"
            ]
          },
          "metadata": {},
          "execution_count": 46
        }
      ]
    },
    {
      "cell_type": "code",
      "source": [
        "decoded0 =code(cipher_text, clave0) # decodificamos\n",
        "decoded0"
      ],
      "metadata": {
        "colab": {
          "base_uri": "https://localhost:8080/",
          "height": 165
        },
        "id": "X0KGp6CC-Pue",
        "outputId": "9fe31826-c6c2-442c-922f-80abbed8bb66"
      },
      "execution_count": 47,
      "outputs": [
        {
          "output_type": "execute_result",
          "data": {
            "text/plain": [
              "' pcwzq30xzq37mqlpmq3ekma8m30u3lmuz8za37m3epqsu0 sma8z3mu3czkzamu30pkmus0az3opma7s03w0os037m3kmczk70k309pmuu0380k7m3km z803ma39pm3qp3l07km3uz3uumtz303czazcmk3mu3wsmuz3 0cza7z3mk03ma8zacmq3pa030u7m037m3tmsa8m3c0q0q37m3o0kkz3f3c0x0ok0t03czaq8kps70q303u03zksuu037m3pa3ksz37m30dp0q37s0e0a0q39pm3qm3lkmcsls80o0a3lzk3pa3umcwz37m3lsm7k0q3lpus70q3ou0ac0q3f3mazk mq3cz z3wpmtzq3lkmwsq8zksczq3mu3 pa7z3mk0380a3kmcsma8m39pm3 pcw0q3czq0q3c0kmcs0a37m3az okm3f3l0k03 macsza0ku0q3w0os039pm3qmx0u0ks0q3cza3mu37m7z38z7zq3uzq30xzq3lzk3mu3 mq37m3 0k1z3pa03e0 sus037m3ds80azq37mq0kk0l07zq3lu0a80o03qp3c0kl03cmkc037m3u030u7m03f3cza3pa3dk0a7m30uozkz8z37m3ls8zq3f38s o0umq370o0a303czazcmk3uzq3apmtzq3satma8zq3lks mkz3uumt0kza3mu3s 0a3pa3ds80az3czklpuma8z37m3o0ko03 za80k013f3 0azq37m3dzkksza39pm3qm3lkmqma8z3cza3mu3az okm37m3 mu9ps07mq3ws1z3pa038kpcpuma8037m zq8k0csza3lpousc037m3uz39pm3mu3 sq z3uu0 0o03u03zc80t03 0k0tsuu037m3uzq3q0oszq30u9ps sq80q37m3 0cm7zas03epm37m3c0q03ma3c0q030kk0q8k0a7z37zq3usadz8mq3 m80usczq3f38z7z3mu3 pa7z3qm3mql0a8z30u3tmk39pm3uzq3c0u7mkzq3u0q3l0su0q3u0q38ma010q3f3uzq30a0emq3qm3c0s0a37m3qp3qs8sz3f3u0q3 07mk0q3ckpvs0a3lzk3u037mqmqlmk0csza37m3uzq3cu0tzq3f3uzq38zkasuuzq38k080a7z37m37mqmacu0t0kqm3f30pa3uzq3zovm8zq3lmk7s7zq37mq7m3w0cs03 pcwz38sm lz30l0kmcs0a3lzk37za7m3 0q3qm3umq3w0os03opqc07z3f3qm30kk0q8k0o0a3ma37mqo0a707038pkopuma8037m8k0q37m3uzq3esmkkzq3 0dsczq37m3 mu9ps07mq'"
            ],
            "application/vnd.google.colaboratory.intrinsic+json": {
              "type": "string"
            }
          },
          "metadata": {},
          "execution_count": 47
        }
      ]
    },
    {
      "cell_type": "code",
      "source": [
        "log_p0 = goodness(decoded0, bigram_table)  # evaluamos\n",
        "log_p0"
      ],
      "metadata": {
        "colab": {
          "base_uri": "https://localhost:8080/"
        },
        "id": "GQljSD2J-5GH",
        "outputId": "fd65a4db-2b75-49db-decb-fa3535ba70da"
      },
      "execution_count": 48,
      "outputs": [
        {
          "output_type": "execute_result",
          "data": {
            "text/plain": [
              "-34328.32207144539"
            ]
          },
          "metadata": {},
          "execution_count": 48
        }
      ]
    },
    {
      "cell_type": "code",
      "source": [
        "pair = random.sample(alphabet, 2)\n",
        "pair[0], pair[1]"
      ],
      "metadata": {
        "colab": {
          "base_uri": "https://localhost:8080/"
        },
        "id": "tXV_1TFWo-XD",
        "outputId": "9b4920f8-7968-4fe7-e148-a81b45ea5ad9"
      },
      "execution_count": 49,
      "outputs": [
        {
          "output_type": "execute_result",
          "data": {
            "text/plain": [
              "('k', '6')"
            ]
          },
          "metadata": {},
          "execution_count": 49
        }
      ]
    },
    {
      "cell_type": "code",
      "source": [
        "clave0[pair[0]] ,clave0[pair[1]]"
      ],
      "metadata": {
        "colab": {
          "base_uri": "https://localhost:8080/"
        },
        "id": "SHRffzOMqZZ7",
        "outputId": "31502d05-b99d-43df-bcc5-5a52b7281e72"
      },
      "execution_count": 50,
      "outputs": [
        {
          "output_type": "execute_result",
          "data": {
            "text/plain": [
              "('n', '4')"
            ]
          },
          "metadata": {},
          "execution_count": 50
        }
      ]
    },
    {
      "cell_type": "code",
      "source": [
        "clave1 = clave0.copy()\n",
        "clave1[pair[0]] = clave0[pair[1]]\n",
        "clave1[pair[1]] = clave0[pair[0]]\n",
        "clave1"
      ],
      "metadata": {
        "colab": {
          "base_uri": "https://localhost:8080/"
        },
        "id": "fc8a-VnPrCkL",
        "outputId": "2508a6bf-a002-4e83-a57f-3b0633d946e0"
      },
      "execution_count": 51,
      "outputs": [
        {
          "output_type": "execute_result",
          "data": {
            "text/plain": [
              "{'a': 'v',\n",
              " 'b': 'd',\n",
              " 'c': '3',\n",
              " 'd': '7',\n",
              " 'e': 'h',\n",
              " 'f': '9',\n",
              " 'g': '2',\n",
              " 'h': 'x',\n",
              " 'i': '6',\n",
              " 'j': 'w',\n",
              " 'k': '4',\n",
              " 'l': '1',\n",
              " 'm': 'a',\n",
              " 'n': 'b',\n",
              " 'ñ': 'y',\n",
              " 'o': 'z',\n",
              " 'p': 'p',\n",
              " 'q': '8',\n",
              " 'r': 'j',\n",
              " 's': 't',\n",
              " 't': ' ',\n",
              " 'u': 'e',\n",
              " 'v': 's',\n",
              " 'w': 'k',\n",
              " 'x': 'l',\n",
              " 'y': '0',\n",
              " 'z': 'g',\n",
              " '0': 'c',\n",
              " '1': 'f',\n",
              " '2': 'q',\n",
              " '3': 'i',\n",
              " '4': 'ñ',\n",
              " '5': 'r',\n",
              " '6': 'n',\n",
              " '7': 'u',\n",
              " '8': '5',\n",
              " '9': 'o',\n",
              " ' ': 'm'}"
            ]
          },
          "metadata": {},
          "execution_count": 51
        }
      ]
    },
    {
      "cell_type": "code",
      "source": [
        "decoded1 =code(cipher_text, clave1) # decodificamos\n",
        "decoded1"
      ],
      "metadata": {
        "colab": {
          "base_uri": "https://localhost:8080/",
          "height": 165
        },
        "outputId": "e75a1acd-7419-4954-9294-f22910ff10d1",
        "id": "IQ9-ca5l_0sg"
      },
      "execution_count": 52,
      "outputs": [
        {
          "output_type": "execute_result",
          "data": {
            "text/plain": [
              "' pcwzq30xzq37mqlpmq3ekma8m30u3lmuz8za37m3epqsu0 sma8z3mu3czkzamu30pkmus0az3opma7s03w0os037m3kmczk70k309pmuu0380k7m3km z803ma39pm3qp3l07km3uz3uumtz303czazcmk3mu3wsmuz3 0cza7z3mk03ma8zacmq3pa030u7m037m3tmsa8m3c0q0q37m3o0kkz3f3c0x0ok0t03czaq8kps70q303u03zksuu037m3pa3ksz37m30dp0q37s0e0a0q39pm3qm3lkmcsls80o0a3lzk3pa3umcwz37m3lsm7k0q3lpus70q3ou0ac0q3f3mazk mq3cz z3wpmtzq3lkmwsq8zksczq3mu3 pa7z3mk0380a3kmcsma8m39pm3 pcw0q3czq0q3c0kmcs0a37m3az okm3f3l0k03 macsza0ku0q3w0os039pm3qmx0u0ks0q3cza3mu37m7z38z7zq3uzq30xzq3lzk3mu3 mq37m3 0k1z3pa03e0 sus037m3ds80azq37mq0kk0l07zq3lu0a80o03qp3c0kl03cmkc037m3u030u7m03f3cza3pa3dk0a7m30uozkz8z37m3ls8zq3f38s o0umq370o0a303czazcmk3uzq3apmtzq3satma8zq3lks mkz3uumt0kza3mu3s 0a3pa3ds80az3czklpuma8z37m3o0ko03 za80k013f3 0azq37m3dzkksza39pm3qm3lkmqma8z3cza3mu3az okm37m3 mu9ps07mq3ws1z3pa038kpcpuma8037m zq8k0csza3lpousc037m3uz39pm3mu3 sq z3uu0 0o03u03zc80t03 0k0tsuu037m3uzq3q0oszq30u9ps sq80q37m3 0cm7zas03epm37m3c0q03ma3c0q030kk0q8k0a7z37zq3usadz8mq3 m80usczq3f38z7z3mu3 pa7z3qm3mql0a8z30u3tmk39pm3uzq3c0u7mkzq3u0q3l0su0q3u0q38ma010q3f3uzq30a0emq3qm3c0s0a37m3qp3qs8sz3f3u0q3 07mk0q3ckpvs0a3lzk3u037mqmqlmk0csza37m3uzq3cu0tzq3f3uzq38zkasuuzq38k080a7z37m37mqmacu0t0kqm3f30pa3uzq3zovm8zq3lmk7s7zq37mq7m3w0cs03 pcwz38sm lz30l0kmcs0a3lzk37za7m3 0q3qm3umq3w0os03opqc07z3f3qm30kk0q8k0o0a3ma37mqo0a707038pkopuma8037m8k0q37m3uzq3esmkkzq3 0dsczq37m3 mu9ps07mq'"
            ],
            "application/vnd.google.colaboratory.intrinsic+json": {
              "type": "string"
            }
          },
          "metadata": {},
          "execution_count": 52
        }
      ]
    },
    {
      "cell_type": "code",
      "source": [
        "log_p1 = goodness(decoded1, bigram_table)  # evaluamos\n",
        "log_p1"
      ],
      "metadata": {
        "colab": {
          "base_uri": "https://localhost:8080/"
        },
        "outputId": "3551d60e-0181-4f21-aedc-e45c08e6b2ef",
        "id": "18QLwwLJ_0sg"
      },
      "execution_count": 53,
      "outputs": [
        {
          "output_type": "execute_result",
          "data": {
            "text/plain": [
              "-34328.32207144539"
            ]
          },
          "metadata": {},
          "execution_count": 53
        }
      ]
    },
    {
      "cell_type": "markdown",
      "source": [
        "En base a lo anterior ¿Aceptamos la nueva clave propuesta?"
      ],
      "metadata": {
        "id": "ciroJbtIAJpe"
      }
    },
    {
      "cell_type": "markdown",
      "source": [
        "## Algoritmo completo"
      ],
      "metadata": {
        "id": "g3C0k_ZmBfZG"
      }
    },
    {
      "cell_type": "code",
      "execution_count": 27,
      "metadata": {
        "id": "SiCt0FxCYr7h"
      },
      "outputs": [],
      "source": [
        "def transpose_random(key):\n",
        "    pair = random.sample(alphabet, 2)\n",
        "    new_key = dict(key)\n",
        "    new_key[pair[0]] = key[pair[1]]\n",
        "    new_key[pair[1]] = key[pair[0]]\n",
        "    return new_key\n",
        "\n",
        "def decode(cipher_text, bigram_table, iters = 10000, print_every = 1000):\n",
        "    # 1. inicializamos con una clave aleatoria\n",
        "    current_key = make_random_key()  \n",
        "\n",
        "    for i in range(0, iters):  # en cada iteración utilizaremos una nueva clave\n",
        "\n",
        "        # 2. decodificamos la secuencia con la clave\n",
        "        decoded = code(cipher_text, current_key) \n",
        "\n",
        "        if i % print_every == 0:\n",
        "            print(str(i) + \"\\t\" + decoded + \"\\n\")\n",
        "\n",
        "        # 3. evaluamos la secuencia utilizando el modelo de bigramas \n",
        "        score = goodness(decoded, bigram_table)   \n",
        "               \n",
        "        # 4. proponemos una nueva clave \"cercana\"\n",
        "        changed_key = transpose_random(current_key) \n",
        "\n",
        "        # 5. evaluamos la nueva clave decodificando la secuencia  \n",
        "        changed_score = goodness(code(cipher_text, changed_key), bigram_table)  # evaluamos la secuencia con la nueva clave propuesta\n",
        "\n",
        "        # 6.1 si la clave propuesta da mejores resultados nos quedamos con ella para la prox iteración\n",
        "        if changed_score > score:   \n",
        "            current_key = changed_key\n",
        "\n",
        "        # damos oportunidad proporcional a la relación entre la probabilidad de las dos secuencias evaluadas \n",
        "        else:  \n",
        "            diff = changed_score - score\n",
        "            if math.log(random.random())  < diff:\n",
        "                current_key = changed_key\n",
        "\n",
        "    decoded = code(cipher_text, current_key)\n",
        "    print(\"Final decoded: \" + decoded)\n",
        "    return decoded"
      ]
    },
    {
      "cell_type": "code",
      "execution_count": 55,
      "metadata": {
        "id": "rT7ZraMAYr7h",
        "outputId": "de7e68bd-56f5-4105-eb76-7c76df32620d",
        "colab": {
          "base_uri": "https://localhost:8080/",
          "height": 573
        }
      },
      "outputs": [
        {
          "output_type": "stream",
          "name": "stdout",
          "text": [
            "0\tibpj12y8 12yre2ube2y9qemdey84yue41d1myrey9b2w48iwemd1ye4yp1q1me4y8bqe4w8m1ysbemrw8yj8sw8yreyqep1qr8qy8xbe448yd8qreyqei1d8yemyxbey2byu8rqey41y44et1y8yp1m1peqye4yjwe41yi8p1mr1yeq8yemd1mpe2ybm8y84re8yreytewmdeyp8282yreys8qq1yzyp8 8sq8t8yp1m2dqbwr82y8y48y1qw448yreybmyqw1yrey8cb82yrw898m82yxbey2eyuqepwuwd8s8myu1qybmy4epj1yreyuwerq82yub4wr82ys48mp82yzyem1qie2yp1i1yjbet12yuqejw2d1qwp12ye4yibmr1yeq8yd8myqepwemdeyxbeyibpj82yp1282yp8qepw8myreym1isqeyzyu8q8yiempw1m8q482yj8sw8yxbey2e 848qw82yp1mye4yrer1yd1r12y412y8 12yu1qye4yie2yreyi8qo1ybm8y98iw4w8yreycwd8m12yre28qq8u8r12yu48md8s8y2byp8qu8ypeqp8yrey48y84re8yzyp1mybmycq8mrey84s1q1d1yreyuwd12yzydwis84e2yr8s8my8yp1m1peqy412ymbet12ywmtemd12yuqwieq1y44et8q1mye4ywi8mybmycwd8m1yp1qub4emd1yreys8qs8yi1md8q8oyzyi8m12yreyc1qqw1myxbey2eyuqe2emd1yp1mye4ym1isqeyreyie4xbw8re2yjwo1ybm8ydqbpb4emd8yrei12dq8pw1myubs4wp8yrey41yxbeye4yiw2i1y448i8s8y48y1pd8t8yi8q8tw448yrey412y28sw12y84xbwiw2d82yreyi8per1mw8y9beyreyp828yemyp828y8qq82dq8mr1yr12y4wmc1de2yied84wp12yzyd1r1ye4yibmr1y2eye2u8md1y84yteqyxbey412yp84req12y482yu8w482y482ydem8o82yzy412y8m89e2y2eyp8w8myrey2by2wdw1yzy482yi8req82ypqbñw8myu1qy48yre2e2ueq8pw1myrey412yp48t12yzy412yd1qmw4412ydq8d8mr1yreyre2emp48t8q2eyzy8bmy412y1sñed12yueqrwr12yre2reyj8pw8yibpj1ydweiu1y8u8qepw8myu1qyr1mreyi82y2ey4e2yj8sw8ysb2p8r1yzy2ey8qq82dq8s8myemyre2s8mr8r8ydbqsb4emd8yredq82yrey412y9weqq12yi8cwp12yreyie4xbw8re2\n",
            "\n",
            "1000\tbirpas eñas mosvios fnolgo ec vocagal mo fisucebuolga oc ranaloc einocuela diolmue pedue mo noranmen ehiocce genmo nobage ol hio si vemno ca ccota e ralaron oc puoca beralma one olgalros ile ecmoe mo toulgo reses mo denna y reñednete ralsgniumes e ce anucce mo il nua mo ezies muefeles hio so vnoruvugedel van il corpa mo vuomnes vicumes dcelres y olanbos raba piotas vnopusganuras oc bilma one gel noruolgo hio birpes rases renoruel mo labdno y vene bolrualences pedue hio soñecenues ral oc moma gamas cas eñas van oc bos mo benxa ile febucue mo zugelas mosennevemas vcelgede si renve ronre mo ce ecmoe y ral il znelmo ecdanaga mo vugas y gubdecos medel e ralaron cas liotas ultolgas vnubona ccotenal oc ubel il zugela ranvicolga mo dende balgenex y belas mo zannual hio so vnosolga ral oc labdno mo bochiuemos puxa ile gniricolge mobasgnerual vidcure mo ca hio oc busba ccebede ce argete benetucce mo cas seduas echiubusges mo beromalue fio mo rese ol rese ennesgnelma mas culzagos bogecuras y gama oc bilma so osvelga ec ton hio cas recmonas ces veuces ces golexes y cas elefos so reuel mo si sugua y ces bemones rnijuel van ce mososvonerual mo cas rcetas y cas ganluccas gnegelma mo mosolrcetenso y eil cas adjogas vonmumas mosmo perue birpa guobva evenoruel van malmo bes so cos pedue disrema y so ennesgnedel ol mosdelmeme gindicolge mognes mo cas fuonnas bezuras mo bochiuemos\n",
            "\n",
            "2000\tvirpas eñas mosbios flongo ec bocagan mo fisucevuonga oc ralanoc eilocuena dionmue pedue mo loralmel ehiocce gelmo lovage on hio si bemlo ca ccota e ranarol oc puoca veranma ole onganros ine ecmoe mo toungo reses mo della y reñedlete ransgliumes e ce alucce mo in lua mo ezies muefenes hio so blorubugeden bal in corpa mo buomles bicumes dcenres y onalvos rava piotas blopusgaluras oc vinma ole gen loruongo hio virpes rases reloruen mo navdlo y bele vonruanelces pedue hio soñecelues ran oc moma gamas cas eñas bal oc vos mo velxa ine fevucue mo zugenas mosellebemas bcengede si relbe rolre mo ce ecmoe y ran in zlenmo ecdalaga mo bugas y guvdecos meden e ranarol cas niotas untongas bluvola ccotelan oc uven in zugena ralbiconga mo delde vangelex y venas mo zalluan hio so blosonga ran oc navdlo mo vochiuemos puxa ine gliriconge movasgleruan bidcure mo ca hio oc vusva ccevede ce argete veletucce mo cas seduas echiuvusges mo veromanue fio mo rese on rese ellesglenma mas cunzagos vogecuras y gama oc vinma so osbenga ec tol hio cas recmolas ces beuces ces gonexes y cas enefos so reuen mo si sugua y ces vemoles rlijuen bal ce mososboleruan mo cas rcetas y cas galnuccas glegenma mo mosonrcetelso y ein cas adjogas bolmumas mosmo perue virpa guovba ebeloruen bal manmo ves so cos pedue disrema y so ellesgleden on mosdenmeme gildiconge mogles mo cas fuollas vezuras mo vochiuemos\n",
            "\n",
            "3000\tmichos años despies frente al peloton de fisulamuento el coronel aireluano biendua habua de recordar aviella tarde remota en vie si padre lo llezo a conocer el huelo macondo era entonces ina aldea de zeunte casas de barro y cañabraza constriudas a la orulla de in ruo de agias duafanas vie se precuputaban por in lecho de puedras piludas blancas y enormes como hiezos prehustorucos el mindo era tan recuente vie michas cosas carecuan de nombre y para mencuonarlas habua vie señalaruas con el dedo todos los años por el mes de marxo ina famulua de gutanos desarrapados plantaba si carpa cerca de la aldea y con in grande alboroto de putos y tumbales daban a conocer los niezos unzentos prumero llezaron el uman in gutano corpilento de barba montarax y manos de gorruon vie se presento con el nombre de melviuades huxo ina tricilenta demostracuon pibluca de lo vie el musmo llamaba la octaza marazulla de los sabuos alviumustas de macedonua fie de casa en casa arrastrando dos lungotes metalucos y todo el mindo se espanto al zer vie los calderos las paulas las tenaxas y los anafes se cauan de si sutuo y las maderas crijuan por la desesperacuon de los clazos y los tornullos tratando de desenclazarse y ain los objetos perdudos desde hacua micho tuempo aparecuan por donde mas se les habua biscado y se arrastraban en desbandada tirbilenta detras de los fuerros magucos de melviuades\n",
            "\n",
            "4000\tmuchos azos despues frente al peloton de fusilamiento el coronel aureliano buendia habia de recordar avuella tarde remota en vue su padre lo lleño a conocer el hielo macondo era entonces una aldea de ñeinte casas de barro y cazabraña construidas a la orilla de un rio de aguas diafanas vue se precipitaban por un lecho de piedras pulidas blancas y enormes como hueños prehistoricos el mundo era tan reciente vue muchas cosas carecian de nombre y para mencionarlas habia vue sezalarias con el dedo todos los azos por el mes de marjo una familia de gitanos desarrapados plantaba su carpa cerca de la aldea y con un grande alboroto de pitos y timbales daban a conocer los nueños inñentos primero lleñaron el iman un gitano corpulento de barba montaraj y manos de gorrion vue se presento con el nombre de melvuiades hijo una truculenta demostracion publica de lo vue el mismo llamaba la octaña marañilla de los sabios alvuimistas de macedonia fue de casa en casa arrastrando dos lingotes metalicos y todo el mundo se espanto al ñer vue los calderos las pailas las tenajas y los anafes se caian de su sitio y las maderas cruxian por la desesperacion de los claños y los tornillos tratando de desenclañarse y aun los obxetos perdidos desde hacia mucho tiempo aparecian por donde mas se les habia buscado y se arrastraban en desbandada turbulenta detras de los fierros magicos de melvuiades\n",
            "\n",
            "5000\tmuchos años despues frente al peloton de fusilamiento el coronel aureliano buendia habia de recordar avuella tarde remota en vue su padre lo llejo a conocer el hielo macondo era entonces una aldea de jeinte casas de barro y cañabraja construidas a la orilla de un rio de aguas diafanas vue se precipitaban por un lecho de piedras pulidas blancas y enormes como huejos prehistoricos el mundo era tan reciente vue muchas cosas carecian de nombre y para mencionarlas habia vue señalarias con el dedo todos los años por el mes de marzo una familia de gitanos desarrapados plantaba su carpa cerca de la aldea y con un grande alboroto de pitos y timbales daban a conocer los nuejos injentos primero llejaron el iman un gitano corpulento de barba montaraz y manos de gorrion vue se presento con el nombre de melvuiades hizo una truculenta demostracion publica de lo vue el mismo llamaba la octaja marajilla de los sabios alvuimistas de macedonia fue de casa en casa arrastrando dos lingotes metalicos y todo el mundo se espanto al jer vue los calderos las pailas las tenazas y los anafes se caian de su sitio y las maderas cruxian por la desesperacion de los clajos y los tornillos tratando de desenclajarse y aun los obxetos perdidos desde hacia mucho tiempo aparecian por donde mas se les habia buscado y se arrastraban en desbandada turbulenta detras de los fierros magicos de melvuiades\n",
            "\n",
            "6000\tmuchos años despues frente al peloton de fusilamiento el coronel aureliano buendia habia de recordar avuella tarde remota en vue su padre lo llejo a conocer el hielo macondo era entonces una aldea de jeinte casas de barro y cañabraja construidas a la orilla de un rio de aguas diafanas vue se precipitaban por un lecho de piedras pulidas blancas y enormes como huejos prehistoricos el mundo era tan reciente vue muchas cosas carecian de nombre y para mencionarlas habia vue señalarias con el dedo todos los años por el mes de marzo una familia de gitanos desarrapados plantaba su carpa cerca de la aldea y con un grande alboroto de pitos y timbales daban a conocer los nuejos injentos primero llejaron el iman un gitano corpulento de barba montaraz y manos de gorrion vue se presento con el nombre de melvuiades hizo una truculenta demostracion publica de lo vue el mismo llamaba la octaja marajilla de los sabios alvuimistas de macedonia fue de casa en casa arrastrando dos lingotes metalicos y todo el mundo se espanto al jer vue los calderos las pailas las tenazas y los anafes se caian de su sitio y las maderas cruxian por la desesperacion de los clajos y los tornillos tratando de desenclajarse y aun los obxetos perdidos desde hacia mucho tiempo aparecian por donde mas se les habia buscado y se arrastraban en desbandada turbulenta detras de los fierros magicos de melvuiades\n",
            "\n",
            "7000\tmuchos años despues frente al peloton de fusilamiento el coronel aureliano buendia habia de recordar avuella tarde remota en vue su padre lo llejo a conocer el hielo macondo era entonces una aldea de jeinte casas de barro y cañabraja construidas a la orilla de un rio de aguas diafanas vue se precipitaban por un lecho de piedras pulidas blancas y enormes como huejos prehistoricos el mundo era tan reciente vue muchas cosas carecian de nombre y para mencionarlas habia vue señalarias con el dedo todos los años por el mes de marzo una familia de gitanos desarrapados plantaba su carpa cerca de la aldea y con un grande alboroto de pitos y timbales daban a conocer los nuejos injentos primero llejaron el iman un gitano corpulento de barba montaraz y manos de gorrion vue se presento con el nombre de melvuiades hizo una truculenta demostracion publica de lo vue el mismo llamaba la octaja marajilla de los sabios alvuimistas de macedonia fue de casa en casa arrastrando dos lingotes metalicos y todo el mundo se espanto al jer vue los calderos las pailas las tenazas y los anafes se caian de su sitio y las maderas cruxian por la desesperacion de los clajos y los tornillos tratando de desenclajarse y aun los obxetos perdidos desde hacia mucho tiempo aparecian por donde mas se les habia buscado y se arrastraban en desbandada turbulenta detras de los fierros magicos de melvuiades\n",
            "\n",
            "8000\tmuchos años despues frente al peloton de fusilamiento el coronel aureliano buendia habia de recordar avuella tarde remota en vue su padre lo llejo a conocer el hielo macondo era entonces una aldea de jeinte casas de barro y cañabraja construidas a la orilla de un rio de aguas diafanas vue se precipitaban por un lecho de piedras pulidas blancas y enormes como huejos prehistoricos el mundo era tan reciente vue muchas cosas carecian de nombre y para mencionarlas habia vue señalarias con el dedo todos los años por el mes de marzo una familia de gitanos desarrapados plantaba su carpa cerca de la aldea y con un grande alboroto de pitos y timbales daban a conocer los nuejos injentos primero llejaron el iman un gitano corpulento de barba montaraz y manos de gorrion vue se presento con el nombre de melvuiades hizo una truculenta demostracion publica de lo vue el mismo llamaba la octaja marajilla de los sabios alvuimistas de macedonia fue de casa en casa arrastrando dos lingotes metalicos y todo el mundo se espanto al jer vue los calderos las pailas las tenazas y los anafes se caian de su sitio y las maderas cruxian por la desesperacion de los clajos y los tornillos tratando de desenclajarse y aun los obxetos perdidos desde hacia mucho tiempo aparecian por donde mas se les habia buscado y se arrastraban en desbandada turbulenta detras de los fierros magicos de melvuiades\n",
            "\n",
            "9000\tmuchos años despues frente al peloton de fusilamiento el coronel aureliano buendia habia de recordar avuella tarde remota en vue su padre lo llejo a conocer el hielo macondo era entonces una aldea de jeinte casas de barro y cañabraja construidas a la orilla de un rio de aguas diafanas vue se precipitaban por un lecho de piedras pulidas blancas y enormes como huejos prehistoricos el mundo era tan reciente vue muchas cosas carecian de nombre y para mencionarlas habia vue señalarias con el dedo todos los años por el mes de marzo una familia de gitanos desarrapados plantaba su carpa cerca de la aldea y con un grande alboroto de pitos y timbales daban a conocer los nuejos injentos primero llejaron el iman un gitano corpulento de barba montaraz y manos de gorrion vue se presento con el nombre de melvuiades hizo una truculenta demostracion publica de lo vue el mismo llamaba la octaja marajilla de los sabios alvuimistas de macedonia fue de casa en casa arrastrando dos lingotes metalicos y todo el mundo se espanto al jer vue los calderos las pailas las tenazas y los anafes se caian de su sitio y las maderas cruxian por la desesperacion de los clajos y los tornillos tratando de desenclajarse y aun los obxetos perdidos desde hacia mucho tiempo aparecian por donde mas se les habia buscado y se arrastraban en desbandada turbulenta detras de los fierros magicos de melvuiades\n",
            "\n",
            "Final decoded: muchos años despues frente al peloton de fusilamiento el coronel aureliano buendia habia de recordar avuella tarde remota en vue su padre lo llejo a conocer el hielo macondo era entonces una aldea de jeinte casas de barro y cañabraja construidas a la orilla de un rio de aguas diafanas vue se precipitaban por un lecho de piedras pulidas blancas y enormes como huejos prehistoricos el mundo era tan reciente vue muchas cosas carecian de nombre y para mencionarlas habia vue señalarias con el dedo todos los años por el mes de marzo una familia de gitanos desarrapados plantaba su carpa cerca de la aldea y con un grande alboroto de pitos y timbales daban a conocer los nuejos injentos primero llejaron el iman un gitano corpulento de barba montaraz y manos de gorrion vue se presento con el nombre de melvuiades hizo una truculenta demostracion publica de lo vue el mismo llamaba la octaja marajilla de los sabios alvuimistas de macedonia fue de casa en casa arrastrando dos lingotes metalicos y todo el mundo se espanto al jer vue los calderos las pailas las tenazas y los anafes se caian de su sitio y las maderas cruxian por la desesperacion de los clajos y los tornillos tratando de desenclajarse y aun los obxetos perdidos desde hacia mucho tiempo aparecian por donde mas se les habia buscado y se arrastraban en desbandada turbulenta detras de los fierros magicos de melvuiades\n"
          ]
        },
        {
          "output_type": "execute_result",
          "data": {
            "text/plain": [
              "'muchos años despues frente al peloton de fusilamiento el coronel aureliano buendia habia de recordar avuella tarde remota en vue su padre lo llejo a conocer el hielo macondo era entonces una aldea de jeinte casas de barro y cañabraja construidas a la orilla de un rio de aguas diafanas vue se precipitaban por un lecho de piedras pulidas blancas y enormes como huejos prehistoricos el mundo era tan reciente vue muchas cosas carecian de nombre y para mencionarlas habia vue señalarias con el dedo todos los años por el mes de marzo una familia de gitanos desarrapados plantaba su carpa cerca de la aldea y con un grande alboroto de pitos y timbales daban a conocer los nuejos injentos primero llejaron el iman un gitano corpulento de barba montaraz y manos de gorrion vue se presento con el nombre de melvuiades hizo una truculenta demostracion publica de lo vue el mismo llamaba la octaja marajilla de los sabios alvuimistas de macedonia fue de casa en casa arrastrando dos lingotes metalicos y todo el mundo se espanto al jer vue los calderos las pailas las tenazas y los anafes se caian de su sitio y las maderas cruxian por la desesperacion de los clajos y los tornillos tratando de desenclajarse y aun los obxetos perdidos desde hacia mucho tiempo aparecian por donde mas se les habia buscado y se arrastraban en desbandada turbulenta detras de los fierros magicos de melvuiades'"
            ],
            "application/vnd.google.colaboratory.intrinsic+json": {
              "type": "string"
            }
          },
          "metadata": {},
          "execution_count": 55
        }
      ],
      "source": [
        "decode(cipher_text, bigram_table, 10000)"
      ]
    },
    {
      "cell_type": "markdown",
      "metadata": {
        "id": "zi2Lqc5PYr7i"
      },
      "source": [
        "# Otros ejemplos"
      ]
    },
    {
      "cell_type": "code",
      "execution_count": 29,
      "metadata": {
        "colab": {
          "base_uri": "https://localhost:8080/",
          "height": 110
        },
        "outputId": "e6deb953-5713-49f1-db9a-c4d604546f55",
        "id": "rrQsFuePH_po"
      },
      "outputs": [
        {
          "output_type": "execute_result",
          "data": {
            "text/plain": [
              "'wr1nmybmeramisiyas6m1riybsasyfarray0oryr9yb9s1rwsyer9yfos9ytr15syr9yba51f5b5wmyrasyr9ysiwram5erypyucñyriwrysiwram5eryksyi5emyt5iwmyim9myo1sytr6yfm1yr9ywr9rifmb5myr1yc272ybmayo1ysiwam1m mywoafmyriwrysiwam1m myk56myo1synas1yer miwasf5m1yeryioyerifopa5 5r1wmyr1yo1yfm1narimy51wra1sf5m1s9yerysiwam1m 5sybramy1se5ry9ryfarjmysyfsoisyeryioy s1rasyerytriw5ay9siybraim1siy sjmariyim1ysi5ylr956 r1wrybsasy9syarbowsf5m1yer9ysiwram5erypyucñyo1ye5fwsemaywoafmy5 boimysyioyborp9myps8mybr1syery orawryr9ytriw5emysy9syroambrsyr1wm1friyr9ysiwam1m mytm9t5mysyesayfor1wsyeryioyerifopa5 5r1wmyr1yc2ñ7yjyfm my9of5syo1ywas8ry ojyr9rns1wrywmemyr9y o1emysfrbwmyioyer miwasf5m1'"
            ],
            "application/vnd.google.colaboratory.intrinsic+json": {
              "type": "string"
            }
          },
          "metadata": {},
          "execution_count": 29
        }
      ],
      "source": [
        "# El principito. Tomado de https://archive.org/stream/ElPrincipitoAntoineDeSaintExupery/El_principito-_Antoine_De_Saint_Exupery_djvu.txt\n",
        "\n",
        "plain_text = limpiar_texto(\n",
        "    \"\"\"Tengo poderosas razones para creer que el planeta del cual venía el principito era \n",
        "el asteroide B 612. Este asteroide ha sido visto sólo una vez con el telescopio en \n",
        "1909, por un astrónomo turco. \n",
        "Este astrónomo hizo una gran demostración de su descubrimiento en un congreso \n",
        "Internacional de Astronomía. Pero nadie le creyó a causa de su manera de vestir. \n",
        "Las personas mayores son así. Felizmente para la reputación del asteroide B 612, \n",
        "un dictador turco impuso a su pueblo, bajo pena de muerte, el vestido a la \n",
        "europea. Entonces el astrónomo volvió a dar cuenta de su descubrimiento en 1920 \n",
        "y como lucía un traje muy elegante, todo el mundo aceptó su demostración. \n",
        "\"\"\"\n",
        ")\n",
        "cipher_text = code(plain_text, key)\n",
        "cipher_text"
      ]
    },
    {
      "cell_type": "code",
      "execution_count": 30,
      "metadata": {
        "scrolled": false,
        "outputId": "920b9c00-3a50-4493-e89c-4ebacb519056",
        "colab": {
          "base_uri": "https://localhost:8080/",
          "height": 887
        },
        "id": "5og76b75H_px"
      },
      "outputs": [
        {
          "output_type": "stream",
          "name": "stdout",
          "text": [
            "0\tl4ipgbhgj43g y b3yugi4 bhy3ybt3443brw4b4dbhdyi4lybj4dbtwydbq4izyb4dbh3zitzhzlgb43yb4dby l43gzj4bñbxaob4 l4by l43gzj4b1yb zjgbqz lgb gdgbwiybq4ubtgib4dbl4d4 tghzgb4ibaekebhg3bwiby l3gigsgblw3tgb4 l4by l3gigsgb1zugbwiybp3yibj4sg l3ytzgibj4b wbj4 twñ3zsz4ilgb4ibwibtgip34 gbzil43iytzgiydbj4by l3gigszybh43gbiyjz4bd4bt34vgbybtyw ybj4b wbsyi43ybj4bq4 lz3bdy bh43 giy bsyvg34 b giby zb94dzus4il4bhy3ybdyb34hwlytzgibj4dby l43gzj4bñbxaobwibjztlyjg3blw3tgbzshw gbyb wbhw4ñdgbñy2gbh4iybj4bsw43l4b4dbq4 lzjgbybdyb4w3gh4yb4ilgit4 b4dby l3gigsgbqgdqzgbybjy3btw4ilybj4b wbj4 twñ3zsz4ilgb4ibaeokbvbtgsgbdwtzybwibl3y24bswvb4d4pyil4blgjgb4dbswijgbyt4hlgb wbj4sg l3ytzgi\n",
            "\n",
            "1000\tlisfaebadirag ger zasigeb r enriire3uieitebt sil editenu tepiso eitebrosnobolaeir eite gliraodiecexv9eiglie gliraodiej egodaepoglaegataeus epizenaseitelitignaboaeisev616ebareuse glrasamaelurnaeiglie glrasamaejozaeus efr sedimaglr noasedieguedignucromoislaeiseusenasfrigaeoslirs noas tedie glrasamo ebiraes doietienrihae en ug edieguem sir ediepigloret gebirgas gem harigegase goeyitozmislieb r et eribul noasedite gliraodiecexv9eusedonl darelurnaeombugae eguebuictaec ñaebis ediemuirlieitepiglodae et eiurabi eislasnigeite glrasamaepatpoae ed renuisl edieguedignucromoislaeisev691ehenamaetuno euselr ñiemuheitif slieladaeitemusdae niblaeguedimaglr noas\n",
            "\n",
            "2000\tgispe bedirelal razesil bara criir qui in bnasiga din cuan visoa in broscoboge ira in algireodi t xh0 ilgi algireodi ya lode volge lene usa viz ces in ginilceboe is h161 ber us algreseme gurce ilgi algreseme yoze usa pras dimelgracoes di lu dilcutromoisge is us cesprile osgirsacoesan di algresemoa bire sadoi ni crije a caula di lu masira di vilgor nal birlesal majeril les alo ñinozmisgi bara na ribugacoes din algireodi t xh0 us docgader gurce ombule a lu buitne tafe bisa di muirgi in vilgode a na iurebia isgescil in algreseme venvoe a dar cuisga di lu dilcutromoisge is h106 j ceme nucoa us grafi muj inipasgi gede in musde acibge lu dimelgracoes\n",
            "\n",
            "3000\tdaspo botaronen rezosan bere craar jua al blesade tal cuel hasie al briscibido are al endaroita g v10 anda endaroita fe nito hindo nolo use haz cos al dalancobio as 1646 bor us endrosomo durco anda endrosomo fizo use pres tamondrecios ta nu tancugrimiasdo as us cosprano isdarseciosel ta endrosomie baro setia la crayo e ceune ta nu mesare ta handir len barnosen meyoran nos eni ñalizmasda bere le rabudecios tal endaroita g v10 us ticdetor durco imbuno e nu buaglo gexo base ta muarda al handito e le aurobae asdoscan al endrosomo holhio e ter cuasde ta nu tancugrimiasdo as 1604 y como lucie us drexa muy alapesda doto al musto ecabdo nu tamondrecios\n",
            "\n",
            "4000\ttespo boderonan razosen bara creer jue el blaseta del cual vesia el briscibito era el anteroide g f10 ente anteroide ha nido vinto nolo usa vez cos el telencobio es 1646 bor us antrosomo turco ente antrosomo hizo usa pras demontracios de nu dencugrimiesto es us cospreno istersaciosal de antrosomia bero sadie le creyo a cauna de nu masera de ventir lan bernosan mayoren nos ani xelizmeste bara la rebutacios del anteroide g f10 us dictador turco imbuno a nu bueglo gaño besa de muerte el ventido a la eurobea estoscen el antrosomo volvio a dar cuesta de nu dencugrimiesto es 1604 y como lucia us trañe muy elepaste todo el musdo acebto nu demontracios\n",
            "\n",
            "5000\ttespo boderonan razosen bara creer jue el blaseta del cual vesia el briscibito era el anteroide g q10 ente anteroide ha nido vinto nolo usa vez cos el telencobio es 1646 bor us antrosomo turco ente antrosomo hizo usa pras demontracios de nu dencugrimiesto es us cospreno istersaciosal de antrosomia bero sadie le creyo a cauna de nu masera de ventir lan bernosan mayoren nos ani felizmeste bara la rebutacios del anteroide g q10 us dictador turco imbuno a nu bueglo gaño besa de muerte el ventido a la eurobea estoscen el antrosomo volvio a dar cuesta de nu dencugrimiesto es 1604 y como lucia us trañe muy elepaste todo el musdo acebto nu demontracios\n",
            "\n",
            "6000\ttesgo poderonan razosen para creer bue el plaseta del cual vesia el priscipito era el anteroide f q10 ente anteroide ha nido vinto nolo usa vez cos el telencopio es 1646 por us antrosomo turco ente antrosomo hizo usa gras demontracios de nu dencufrimiesto es us cosgreno istersaciosal de antrosomia pero sadie le creyo a cauna de nu masera de ventir lan pernosan mayoren nos ani jelizmeste para la reputacios del anteroide f q10 us dictador turco impuno a nu pueflo faño pesa de muerte el ventido a la europea estoscen el antrosomo volvio a dar cuesta de nu dencufrimiesto es 1604 y como lucia us trañe muy elegaste todo el musdo acepto nu demontracios\n",
            "\n",
            "7000\ttesfo poderonan razosen para creer gue el plaseta del cual vesia el priscipito era el anteroide b q10 ente anteroide ha nido vinto nolo usa vez cos el telencopio es 1646 por us antrosomo turco ente antrosomo hizo usa fras demontracios de nu dencubrimiesto es us cosfreno istersaciosal de antrosomia pero sadie le creyo a cauna de nu masera de ventir lan pernosan mayoren nos ani jelizmeste para la reputacios del anteroide b q10 us dictador turco impuno a nu pueblo baño pesa de muerte el ventido a la europea estoscen el antrosomo volvio a dar cuesta de nu dencubrimiesto es 1604 y como lucia us trañe muy elefaste todo el musdo acepto nu demontracios\n",
            "\n",
            "8000\ttesgo poderonan razosen para creer fue el plaseta del cual vesia el priscipito era el anteroide b q10 ente anteroide ha nido vinto nolo usa vez cos el telencopio es 1646 por us antrosomo turco ente antrosomo hizo usa gras demontracios de nu dencubrimiesto es us cosgreno istersaciosal de antrosomia pero sadie le creyo a cauna de nu masera de ventir lan pernosan mayoren nos ani jelizmeste para la reputacios del anteroide b q10 us dictador turco impuno a nu pueblo baño pesa de muerte el ventido a la europea estoscen el antrosomo volvio a dar cuesta de nu dencubrimiesto es 1604 y como lucia us trañe muy elegaste todo el musdo acepto nu demontracios\n",
            "\n",
            "9000\ttengo poderosas razones para creer fue el planeta del cual venia el principito era el asteroide b q10 este asteroide ha sido visto solo una vez con el telescopio en 1646 por un astronomo turco este astronomo hizo una gran demostracion de su descubrimiento en un congreso internacional de astronomia pero nadie le creyo a causa de su manera de vestir las personas mayores son asi jelizmente para la reputacion del asteroide b q10 un dictador turco impuso a su pueblo baño pena de muerte el vestido a la europea entonces el astronomo volvio a dar cuenta de su descubrimiento en 1604 y como lucia un trañe muy elegante todo el mundo acepto su demostracion\n",
            "\n",
            "10000\ttengo poderosas razones para creer fue el planeta del cual venia el principito era el asteroide b q10 este asteroide ha sido visto solo una vez con el telescopio en 1646 por un astronomo turco este astronomo hizo una gran demostracion de su descubrimiento en un congreso internacional de astronomia pero nadie le creyo a causa de su manera de vestir las personas mayores son asi jelizmente para la reputacion del asteroide b q10 un dictador turco impuso a su pueblo baño pena de muerte el vestido a la europea entonces el astronomo volvio a dar cuenta de su descubrimiento en 1604 y como lucia un trañe muy elegante todo el mundo acepto su demostracion\n",
            "\n",
            "11000\ttengo poderosas razones para creer fue el planeta del cual venia el principito era el asteroide b q10 este asteroide ha sido visto solo una vez con el telescopio en 1646 por un astronomo turco este astronomo hizo una gran demostracion de su descubrimiento en un congreso internacional de astronomia pero nadie le creyo a causa de su manera de vestir las personas mayores son asi jelizmente para la reputacion del asteroide b q10 un dictador turco impuso a su pueblo baño pena de muerte el vestido a la europea entonces el astronomo volvio a dar cuenta de su descubrimiento en 1604 y como lucia un trañe muy elegante todo el mundo acepto su demostracion\n",
            "\n",
            "12000\ttengo poderosas razones para creer fue el planeta del cual venia el principito era el asteroide b q10 este asteroide ha sido visto solo una vez con el telescopio en 1646 por un astronomo turco este astronomo hizo una gran demostracion de su descubrimiento en un congreso internacional de astronomia pero nadie le creyo a causa de su manera de vestir las personas mayores son asi jelizmente para la reputacion del asteroide b q10 un dictador turco impuso a su pueblo baño pena de muerte el vestido a la europea entonces el astronomo volvio a dar cuenta de su descubrimiento en 1604 y como lucia un trañe muy elegante todo el mundo acepto su demostracion\n",
            "\n",
            "13000\ttengo poderosas razones para creer fue el planeta del cual venia el principito era el asteroide b q10 este asteroide ha sido visto solo una vez con el telescopio en 16x6 por un astronomo turco este astronomo hizo una gran demostracion de su descubrimiento en un congreso internacional de astronomia pero nadie le creyo a causa de su manera de vestir las personas mayores son asi jelizmente para la reputacion del asteroide b q10 un dictador turco impuso a su pueblo baño pena de muerte el vestido a la europea entonces el astronomo volvio a dar cuenta de su descubrimiento en 160x y como lucia un trañe muy elegante todo el mundo acepto su demostracion\n",
            "\n",
            "14000\ttengo poderosas razones para creer fue el planeta del cual venia el principito era el asteroide b q10 este asteroide ha sido visto solo una vez con el telescopio en 16x6 por un astronomo turco este astronomo hizo una gran demostracion de su descubrimiento en un congreso internacional de astronomia pero nadie le creyo a causa de su manera de vestir las personas mayores son asi jelizmente para la reputacion del asteroide b q10 un dictador turco impuso a su pueblo baño pena de muerte el vestido a la europea entonces el astronomo volvio a dar cuenta de su descubrimiento en 160x y como lucia un trañe muy elegante todo el mundo acepto su demostracion\n",
            "\n",
            "15000\ttengo poderosas razones para creer fue el planeta del cual venia el principito era el asteroide b q10 este asteroide ha sido visto solo una vez con el telescopio en 16x6 por un astronomo turco este astronomo hizo una gran demostracion de su descubrimiento en un congreso internacional de astronomia pero nadie le creyo a causa de su manera de vestir las personas mayores son asi jelizmente para la reputacion del asteroide b q10 un dictador turco impuso a su pueblo baño pena de muerte el vestido a la europea entonces el astronomo volvio a dar cuenta de su descubrimiento en 160x y como lucia un trañe muy elegante todo el mundo acepto su demostracion\n",
            "\n",
            "16000\ttengo poderosas razones para creer fue el planeta del cual venia el principito era el asteroide b q10 este asteroide ha sido visto solo una vez con el telescopio en 16x6 por un astronomo turco este astronomo hizo una gran demostracion de su descubrimiento en un congreso internacional de astronomia pero nadie le creyo a causa de su manera de vestir las personas mayores son asi jelizmente para la reputacion del asteroide b q10 un dictador turco impuso a su pueblo baño pena de muerte el vestido a la europea entonces el astronomo volvio a dar cuenta de su descubrimiento en 160x y como lucia un trañe muy elegante todo el mundo acepto su demostracion\n",
            "\n",
            "17000\ttengo poderosas razones para creer fue el planeta del cual venia el principito era el asteroide b q10 este asteroide ha sido visto solo una vez con el telescopio en 1646 por un astronomo turco este astronomo hizo una gran demostracion de su descubrimiento en un congreso internacional de astronomia pero nadie le creyo a causa de su manera de vestir las personas mayores son asi jelizmente para la reputacion del asteroide b q10 un dictador turco impuso a su pueblo baño pena de muerte el vestido a la europea entonces el astronomo volvio a dar cuenta de su descubrimiento en 1604 y como lucia un trañe muy elegante todo el mundo acepto su demostracion\n",
            "\n",
            "18000\ttengo poderosas razones para creer jue el planeta del cual venia el principito era el asteroide b q10 este asteroide ha sido visto solo una vez con el telescopio en 1646 por un astronomo turco este astronomo hizo una gran demostracion de su descubrimiento en un congreso internacional de astronomia pero nadie le creyo a causa de su manera de vestir las personas mayores son asi felizmente para la reputacion del asteroide b q10 un dictador turco impuso a su pueblo baño pena de muerte el vestido a la europea entonces el astronomo volvio a dar cuenta de su descubrimiento en 1604 y como lucia un trañe muy elegante todo el mundo acepto su demostracion\n",
            "\n",
            "19000\ttengo poderosas razones para creer jue el planeta del cual venia el principito era el asteroide b q10 este asteroide ha sido visto solo una vez con el telescopio en 1646 por un astronomo turco este astronomo hizo una gran demostracion de su descubrimiento en un congreso internacional de astronomia pero nadie le creyo a causa de su manera de vestir las personas mayores son asi felizmente para la reputacion del asteroide b q10 un dictador turco impuso a su pueblo baño pena de muerte el vestido a la europea entonces el astronomo volvio a dar cuenta de su descubrimiento en 1604 y como lucia un trañe muy elegante todo el mundo acepto su demostracion\n",
            "\n",
            "Final decoded: tengo poderosas razones para creer jue el planeta del cual venia el principito era el asteroide b q10 este asteroide ha sido visto solo una vez con el telescopio en 1646 por un astronomo turco este astronomo hizo una gran demostracion de su descubrimiento en un congreso internacional de astronomia pero nadie le creyo a causa de su manera de vestir las personas mayores son asi felizmente para la reputacion del asteroide b q10 un dictador turco impuso a su pueblo baño pena de muerte el vestido a la europea entonces el astronomo volvio a dar cuenta de su descubrimiento en 1604 y como lucia un trañe muy elegante todo el mundo acepto su demostracion\n"
          ]
        },
        {
          "output_type": "execute_result",
          "data": {
            "text/plain": [
              "'tengo poderosas razones para creer jue el planeta del cual venia el principito era el asteroide b q10 este asteroide ha sido visto solo una vez con el telescopio en 1646 por un astronomo turco este astronomo hizo una gran demostracion de su descubrimiento en un congreso internacional de astronomia pero nadie le creyo a causa de su manera de vestir las personas mayores son asi felizmente para la reputacion del asteroide b q10 un dictador turco impuso a su pueblo baño pena de muerte el vestido a la europea entonces el astronomo volvio a dar cuenta de su descubrimiento en 1604 y como lucia un trañe muy elegante todo el mundo acepto su demostracion'"
            ],
            "application/vnd.google.colaboratory.intrinsic+json": {
              "type": "string"
            }
          },
          "metadata": {},
          "execution_count": 30
        }
      ],
      "source": [
        "decode(cipher_text, bigram_table, 20000)"
      ]
    },
    {
      "cell_type": "code",
      "execution_count": 31,
      "metadata": {
        "id": "KhpXMQiRYr7i",
        "colab": {
          "base_uri": "https://localhost:8080/",
          "height": 165
        },
        "outputId": "d1ec262c-a844-45d8-d6fb-d8db9efe8566"
      },
      "outputs": [
        {
          "output_type": "execute_result",
          "data": {
            "text/plain": [
              "'o1ye5syo1sy95rparymano99misyjytr9m6yt5myfm myo1sywmawonsyfs 51spsybmayr9yfs 51myjyiry9rysfrafmy9sy95rparyr br6mysypoa9sairyery9sy9r1w5woeyer9ymwamys15 s9yjyery9sy9m1n5woeyeryioiybswsiyi51yr psanmy9sywmawonsy9ryaribm1e5my0oryriwspsyirnoasyery0orysybrisayery9synas1ytr9mf5eseyery9sy95rparyrasyfsbs6yeryns1sa9syr1yo1syfsaarasy9sy95rparyirnoasyeryioyt5fwma5syjyfm1i5eras1emyr9yarwmy5 bmi5p9ryerybraeraysfrbwmys pmiyb5e5ram1ysy9sy6maasy0oryirxs9sasy9sy rwsysy9my0oryriwsysfrbwmys9y5nos9y0orys9yforatmybsasy0oryk5f5rasyery8or6ys9y99rnsayr9ye5syery9syfm brw5f5m1ys9yr br6say9syfsaarasy9sy95rparyjy9sywmawonsyis95ram1ys9y 5i myw5r bmy9sywmawonsysts16spsyi51yerwr1rairybramy9r1ws r1wry9sy95rparyrasy ojytr9m6yjyt5r1emy0oryisfspsyo1synas1ytr1ws8sysy9sywmawonsyerf5e5my5aybsas1emiryjyerifs1is1emyerytr6yr1yfos1emybramyr1yo1syery9siymfsi5m1riy9sy95rparyiry0oremyema 5esy9sywmawonsybmfmysybmfmyi5no5mysts16s1emyfos1emy9sy95rparyeribrawmyiryr1fm1wamyfm1y0ory9sywmawonsyriwspsysybo1wmyeryfao6say9sy rwsyso10oryrfkmysyfmaarayloryer si5semywsaeryjyl51s9 r1wry9sywmawonsyns1my9syfsaarasyriwsylspo9sy1miyr1irxsy0oryr9ywasps8myeoamy9sybrairtras1f5sy9syfm1iws1f5syjyr9yrilora6my1miy99rtsas1ysy1oriwasiy rwsiyso10oryirsybmfmysybmfmyi5y1my1miyar1e5 miyws p5r1y1miybra 5wrytrayfm my9sysaamns1f5sy9syls9wsyeryfm1iws1f5syjyr9yr3frimyeryirnoa5eseyr1yo1my 5i my1miyborery99rtsaysybraeraymbmawo15eseriyjysy1mys9fs16say1oriwasiy rwsi'"
            ],
            "application/vnd.google.colaboratory.intrinsic+json": {
              "type": "string"
            }
          },
          "metadata": {},
          "execution_count": 31
        }
      ],
      "source": [
        "# La liebre y la tortuga. Tomado de https://psicologiaymente.com/cultura/fabulas-de-esopo\n",
        "\n",
        "plain_text = limpiar_texto(\n",
        "    \"\"\"Un día una liebre orgullosa y veloz, vió como una tortuga caminaba por el camino y se le acercó. La liebre empezó a burlarse de la lentitud del otro animal y de la longitud de sus patas. Sin embargo, la tortuga le respondió que estaba segura de que a pesar de la gran velocidad de la liebre era capaz de ganarla en una carrera.\n",
        "La liebre, segura de su victoria y considerando el reto imposible de perder, aceptó. Ambos pidieron a la zorra que señalara la meta, a lo que esta aceptó, al igual que al cuervo para que hiciera de juez.\n",
        "Al llegar el día de la competición, al empezar la carrera la liebre y la tortuga salieron al mismo tiempo. La tortuga avanzaba sin detenerse, pero lentamente.\n",
        "La liebre era muy veloz, y viendo que sacaba una gran ventaja a la tortuga decidió ir parándose y descansando de vez en cuando. Pero en una de las ocasiones la liebre se quedó dormida. La tortuga, poco a poco, siguió avanzando.\n",
        "Cuando la liebre despertó, se encontró con que la tortuga estaba a punto de cruzar la meta. Aunque echó a correr fue demasiado tarde y finalmente la tortuga ganó la carrera\".\n",
        "Esta fábula nos enseña que el trabajo duro, la perseverancia, la constancia y el esfuerzo nos llevarán a nuestras metas, aunque sea poco a poco, si no nos rendimos. También nos permite ver cómo la arrogancia, la falta de constancia y el exceso de seguridad en uno mismo nos puede llevar a perder oportunidades y a no alcanzar nuestras metas.\n",
        "\"\"\"\n",
        ")\n",
        "cipher_text = code(plain_text, key)\n",
        "cipher_text"
      ]
    },
    {
      "cell_type": "code",
      "execution_count": 32,
      "metadata": {
        "scrolled": false,
        "id": "DEgIqcccYr7i",
        "outputId": "f0ee1b03-0a71-42fc-c128-e9d6954dcaa9",
        "colab": {
          "base_uri": "https://localhost:8080/",
          "height": 573
        }
      },
      "outputs": [
        {
          "output_type": "stream",
          "name": "stdout",
          "text": [
            "0\tc2sgq3sc23smqj04jsi4xcmmif3sbs1jmiys1qisaiñisc23s9i49cx3sa3ñq2303s7i4sjmsa3ñq2isbsfjsmjs3aj4aism3smqj04jsjñ7jyis3s0c4m34fjsgjsm3smj29q9cgsgjmsi94is32qñ3msbsgjsm3smi2xq9cgsgjsfcfs7393fsfq2sjñ034xism3s9i49cx3smjs4jf7i2gqistcjsjf9303sfjxc43sgjstcjs3s7jf34sgjsm3sx432s1jmiaqg3gsgjsm3smqj04jsj43sa373ysgjsx3234m3sj2sc23sa344j43sm3smqj04jsfjxc43sgjsfcs1qa9i4q3sbsai2fqgj432gisjms4j9isqñ7ifq0mjsgjs7j4gj4s3aj79is3ñ0ifs7qgqj4i2s3sm3syi443stcjsfjh3m343sm3sñj93s3smistcjsjf93s3aj79is3msqxc3mstcjs3msacj41is7343stcjs6qaqj43sgjsvcjys3msmmjx34sjmsgq3sgjsm3saiñ7j9qaqi2s3msjñ7jy34sm3sa344j43sm3smqj04jsbsm3s9i49cx3sf3mqj4i2s3msñqfñis9qjñ7ism3s9i49cx3s3132y303sfq2sgj9j2j4fjs7j4ismj293ñj29jsm3smqj04jsj43sñcbs1jmiysbs1qj2gistcjsf3a303sc23sx432s1j293v3s3sm3s9i49cx3sgjaqgqisq4s73432gifjsbsgjfa32f32gisgjs1jysj2sac32gis7j4isj2sc23sgjsm3fsia3fqi2jfsm3smqj04jsfjstcjgisgi4ñqg3sm3s9i49cx3s7iais3s7iaisfqxcqis3132y32gisac32gism3smqj04jsgjf7j49isfjsj2ai294isai2stcjsm3s9i49cx3sjf9303s3s7c29isgjsa4cy34sm3sñj93s3c2tcjsja6is3sai44j4s cjsgjñ3fq3gis934gjsbs q23mñj29jsm3s9i49cx3sx32ism3sa344j43sjf93s 30cm3s2ifsj2fjh3stcjsjms94303visgc4ism3s7j4fj1j432aq3sm3sai2f932aq3sbsjmsjf cj4yis2ifsmmj13432s3s2cjf943fsñj93fs3c2tcjsfj3s7iais3s7iaisfqs2is2ifs4j2gqñifs93ñ0qj2s2ifs7j4ñq9js1j4saiñism3s344ix32aq3sm3s 3m93sgjsai2f932aq3sbsjmsjnajfisgjsfjxc4qg3gsj2sc2isñqfñis2ifs7cjgjsmmj134s3s7j4gj4si7i49c2qg3gjfsbs3s2is3ma32y34s2cjf943fsñj93f\n",
            "\n",
            "1000\trl gue rle cuonso asbrccaie y jocav jua dama rle tastrbe demulene pas oc demula y io co edosda ce cuonso ompova e nrscesio go ce coltutrg goc atsa elumec y go ce calbutrg go iri petei iul omnesba ce tastrbe co soipalgua fro oitene iobrse go fro e poies go ce bsel jocadugeg go ce cuonso ose depev go belesce ol rle dessose ce cuonso iobrse go ir judtasue y daliugoselga oc sota umpaiunco go posgos edopta emnai puguosal e ce vasse fro ioñecese ce mote e ca fro oite edopta ec ubrec fro ec drosja pese fro xuduose go hrov ec ccobes oc gue go ce dampotudual ec ompoves ce dessose ce cuonso y ce tastrbe iecuosal ec muima tuompa ce tastrbe ejelvene iul gotolosio posa coltemolto ce cuonso ose mry jocav y juolga fro iedene rle bsel joltehe e ce tastrbe godugua us peselgaio y goidelielga go jov ol drelga posa ol rle go cei adeiualoi ce cuonso io froga gasmuge ce tastrbe pada e pada iubrua ejelvelga drelga ce cuonso goiposta io oldaltsa dal fro ce tastrbe oitene e prlta go dsrves ce mote erlfro odxa e dassos zro gomeiuega tesgo y zulecmolto ce tastrbe bela ce dessose oite zenrce lai olioñe fro oc tseneha grsa ce posiojoseldue ce daliteldue y oc oizrosva lai ccojesel e lroitsei motei erlfro ioe pada e pada iu la lai solgumai temnuol lai posmuto jos dama ce essabeldue ce zecte go daliteldue y oc oqdoia go iobrsugeg ol rla muima lai progo ccojes e posgos apastrlugegoi y e la ecdelves lroitsei motei\n",
            "\n",
            "2000\tus die use niabra orcunnole y hanog hio vomo use tortuce vemisebe por an vemiso y la na evarvo ne niabra ampago e burnerla da ne nastitud dan otro esimen y da ne noscitud da lul petel lis amberco ne tortuce na ralposdio fua altebe lacure da fua e paler da ne cres hanovided da ne niabra are vepeg da ceserne as use verrare ne niabra lacure da lu hivtorie y voslidaresdo an rato impolibna da pardar evapto embol pidiaros e ne gorre fua lañenere ne mate e no fua alte evapto en icuen fua en vuarho pere fua xiviare da juag en nnacer an die da ne vompativios en ampager ne verrare ne niabra y ne tortuce leniaros en milmo tiampo ne tortuce ehesgebe lis datasarla paro nastemasta ne niabra are muy hanog y hiasdo fua levebe use cres hasteje e ne tortuce davidio ir peresdola y dalveslesdo da hag as vuesdo paro as use da nel oveliosal ne niabra la fuado dormide ne tortuce povo e povo licuio ehesgesdo vuesdo ne niabra dalparto la asvostro vos fua ne tortuce altebe e pusto da vruger ne mate eusfua avxo e vorrar zua dameliedo terda y zisenmasta ne tortuce ceso ne verrare alte zebune sol aslañe fua an trebejo duro ne parlaharesvie ne vosltesvie y an alzuargo sol nnaheres e sualtrel matel eusfua lae povo e povo li so sol rasdimol tembias sol parmita har vomo ne errocesvie ne zente da vosltesvie y an aqvalo da lacurided as uso milmo sol puada nnaher e pardar oportusidedal y e so envesger sualtrel matel\n",
            "\n",
            "3000\tun die une siabra orgussole y hasov hio como une tortuge ceminebe por as cemino y la sa ecarco se siabra ampavo e burserla da se santitud das otro enimes y da se songitud da lul petel lin ambergo se tortuge sa ralpondio fua altebe lagure da fua e paler da se gren hasocided da se siabra are cepev da generse an une cerrare se siabra lagure da lu hictorie y conlidarendo as rato impolibsa da pardar ecapto embol pidiaron e se vorre fua lañesere se mate e so fua alte ecapto es igues fua es cuarho pere fua xiciare da zuav es ssager as die da se compaticion es ampaver se cerrare se siabra y se tortuge lesiaron es milmo tiampo se tortuge ehenvebe lin datanarla paro santemanta se siabra are muy hasov y hiando fua lecebe une gren hanteze e se tortuge dacidio ir perendola y dalcenlendo da hav an cuendo paro an une da sel ocelional se siabra la fuado dormide se tortuge poco e poco liguio ehenvendo cuendo se siabra dalparto la ancontro con fua se tortuge altebe e punto da cruver se mate eunfua acxo e corrar jua dameliedo terda y jinesmanta se tortuge geno se cerrare alte jebuse nol anlañe fua as trebezo duro se parlaharencie se conltencie y as aljuarvo nol ssaheren e nualtrel matel eunfua lae poco e poco li no nol randimol tembian nol parmita har como se errogencie se jeste da conltencie y as aqcalo da lagurided an uno milmo nol puada ssaher e pardar oportunidedal y e no escenver nualtrel matel\n",
            "\n",
            "4000\tun dia una liebre orgullosa y jelov jio como una tortuga caminaba por el camino y se le acerco la liebre empevo a burlarse de la lentitud del otro animal y de la longitud de sus patas sin embargo la tortuga le respondio fue estaba segura de fue a pesar de la gran jelocidad de la liebre era capav de ganarla en una carrera la liebre segura de su jictoria y considerando el reto imposible de perder acepto ambos pidieron a la vorra fue señalara la meta a lo fue esta acepto al igual fue al cuerjo para fue xiciera de zuev al llegar el dia de la competicion al empevar la carrera la liebre y la tortuga salieron al mismo tiempo la tortuga ajanvaba sin detenerse pero lentamente la liebre era muy jelov y jiendo fue sacaba una gran jentaza a la tortuga decidio ir parandose y descansando de jev en cuando pero en una de las ocasiones la liebre se fuedo dormida la tortuga poco a poco siguio ajanvando cuando la liebre desperto se encontro con fue la tortuga estaba a punto de cruvar la meta aunfue ecxo a correr hue demasiado tarde y hinalmente la tortuga gano la carrera esta habula nos enseña fue el trabazo duro la persejerancia la constancia y el eshuervo nos llejaran a nuestras metas aunfue sea poco a poco si no nos rendimos tambien nos permite jer como la arrogancia la halta de constancia y el eqceso de seguridad en uno mismo nos puede llejar a perder oportunidades y a no alcanvar nuestras metas\n",
            "\n",
            "5000\tun dia una liebre orgullosa y jeloz jio como una tortuga caminaba por el camino y se le acerco la liebre empezo a burlarse de la lentitud del otro animal y de la longitud de sus patas sin embargo la tortuga le respondio fue estaba segura de fue a pesar de la gran jelocidad de la liebre era capaz de ganarla en una carrera la liebre segura de su jictoria y considerando el reto imposible de perder acepto ambos pidieron a la zorra fue señalara la meta a lo fue esta acepto al igual fue al cuerjo para fue xiciera de huez al llegar el dia de la competicion al empezar la carrera la liebre y la tortuga salieron al mismo tiempo la tortuga ajanzaba sin detenerse pero lentamente la liebre era muy jeloz y jiendo fue sacaba una gran jentaha a la tortuga decidio ir parandose y descansando de jez en cuando pero en una de las ocasiones la liebre se fuedo dormida la tortuga poco a poco siguio ajanzando cuando la liebre desperto se encontro con fue la tortuga estaba a punto de cruzar la meta aunfue ecxo a correr vue demasiado tarde y vinalmente la tortuga gano la carrera esta vabula nos enseña fue el trabaho duro la persejerancia la constancia y el esvuerzo nos llejaran a nuestras metas aunfue sea poco a poco si no nos rendimos tambien nos permite jer como la arrogancia la valta de constancia y el eqceso de seguridad en uno mismo nos puede llejar a perder oportunidades y a no alcanzar nuestras metas\n",
            "\n",
            "6000\tun dia una liebre orgullosa y jeloz jio como una tortuga caminaba por el camino y se le acerco la liebre empezo a burlarse de la lentitud del otro animal y de la longitud de sus patas sin embargo la tortuga le respondio fue estaba segura de fue a pesar de la gran jelocidad de la liebre era capaz de ganarla en una carrera la liebre segura de su jictoria y considerando el reto imposible de perder acepto ambos pidieron a la zorra fue señalara la meta a lo fue esta acepto al igual fue al cuerjo para fue xiciera de vuez al llegar el dia de la competicion al empezar la carrera la liebre y la tortuga salieron al mismo tiempo la tortuga ajanzaba sin detenerse pero lentamente la liebre era muy jeloz y jiendo fue sacaba una gran jentava a la tortuga decidio ir parandose y descansando de jez en cuando pero en una de las ocasiones la liebre se fuedo dormida la tortuga poco a poco siguio ajanzando cuando la liebre desperto se encontro con fue la tortuga estaba a punto de cruzar la meta aunfue ecxo a correr hue demasiado tarde y hinalmente la tortuga gano la carrera esta habula nos enseña fue el trabavo duro la persejerancia la constancia y el eshuerzo nos llejaran a nuestras metas aunfue sea poco a poco si no nos rendimos tambien nos permite jer como la arrogancia la halta de constancia y el eqceso de seguridad en uno mismo nos puede llejar a perder oportunidades y a no alcanzar nuestras metas\n",
            "\n",
            "7000\tun dia una liebre orgullosa y veloz vio como una tortuga caminaba por el camino y se le acerco la liebre empezo a burlarse de la lentitud del otro animal y de la longitud de sus patas sin embargo la tortuga le respondio fue estaba segura de fue a pesar de la gran velocidad de la liebre era capaz de ganarla en una carrera la liebre segura de su victoria y considerando el reto imposible de perder acepto ambos pidieron a la zorra fue señalara la meta a lo fue esta acepto al igual fue al cuervo para fue xiciera de juez al llegar el dia de la competicion al empezar la carrera la liebre y la tortuga salieron al mismo tiempo la tortuga avanzaba sin detenerse pero lentamente la liebre era muy veloz y viendo fue sacaba una gran ventaja a la tortuga decidio ir parandose y descansando de vez en cuando pero en una de las ocasiones la liebre se fuedo dormida la tortuga poco a poco siguio avanzando cuando la liebre desperto se encontro con fue la tortuga estaba a punto de cruzar la meta aunfue ecxo a correr hue demasiado tarde y hinalmente la tortuga gano la carrera esta habula nos enseña fue el trabajo duro la perseverancia la constancia y el eshuerzo nos llevaran a nuestras metas aunfue sea poco a poco si no nos rendimos tambien nos permite ver como la arrogancia la halta de constancia y el eqceso de seguridad en uno mismo nos puede llevar a perder oportunidades y a no alcanzar nuestras metas\n",
            "\n",
            "8000\tun dia una liebre orgullosa y veloz vio como una tortuga caminaba por el camino y se le acerco la liebre empezo a burlarse de la lentitud del otro animal y de la longitud de sus patas sin embargo la tortuga le respondio fue estaba segura de fue a pesar de la gran velocidad de la liebre era capaz de ganarla en una carrera la liebre segura de su victoria y considerando el reto imposible de perder acepto ambos pidieron a la zorra fue señalara la meta a lo fue esta acepto al igual fue al cuervo para fue xiciera de juez al llegar el dia de la competicion al empezar la carrera la liebre y la tortuga salieron al mismo tiempo la tortuga avanzaba sin detenerse pero lentamente la liebre era muy veloz y viendo fue sacaba una gran ventaja a la tortuga decidio ir parandose y descansando de vez en cuando pero en una de las ocasiones la liebre se fuedo dormida la tortuga poco a poco siguio avanzando cuando la liebre desperto se encontro con fue la tortuga estaba a punto de cruzar la meta aunfue ecxo a correr hue demasiado tarde y hinalmente la tortuga gano la carrera esta habula nos enseña fue el trabajo duro la perseverancia la constancia y el eshuerzo nos llevaran a nuestras metas aunfue sea poco a poco si no nos rendimos tambien nos permite ver como la arrogancia la halta de constancia y el eqceso de seguridad en uno mismo nos puede llevar a perder oportunidades y a no alcanzar nuestras metas\n",
            "\n",
            "9000\tun dia una liebre orgullosa y veloz vio como una tortuga caminaba por el camino y se le acerco la liebre empezo a burlarse de la lentitud del otro animal y de la longitud de sus patas sin embargo la tortuga le respondio fue estaba segura de fue a pesar de la gran velocidad de la liebre era capaz de ganarla en una carrera la liebre segura de su victoria y considerando el reto imposible de perder acepto ambos pidieron a la zorra fue señalara la meta a lo fue esta acepto al igual fue al cuervo para fue xiciera de juez al llegar el dia de la competicion al empezar la carrera la liebre y la tortuga salieron al mismo tiempo la tortuga avanzaba sin detenerse pero lentamente la liebre era muy veloz y viendo fue sacaba una gran ventaja a la tortuga decidio ir parandose y descansando de vez en cuando pero en una de las ocasiones la liebre se fuedo dormida la tortuga poco a poco siguio avanzando cuando la liebre desperto se encontro con fue la tortuga estaba a punto de cruzar la meta aunfue ecxo a correr hue demasiado tarde y hinalmente la tortuga gano la carrera esta habula nos enseña fue el trabajo duro la perseverancia la constancia y el eshuerzo nos llevaran a nuestras metas aunfue sea poco a poco si no nos rendimos tambien nos permite ver como la arrogancia la halta de constancia y el eqceso de seguridad en uno mismo nos puede llevar a perder oportunidades y a no alcanzar nuestras metas\n",
            "\n",
            "Final decoded: un dia una liebre orgullosa y veloz vio como una tortuga caminaba por el camino y se le acerco la liebre empezo a burlarse de la lentitud del otro animal y de la longitud de sus patas sin embargo la tortuga le respondio fue estaba segura de fue a pesar de la gran velocidad de la liebre era capaz de ganarla en una carrera la liebre segura de su victoria y considerando el reto imposible de perder acepto ambos pidieron a la zorra fue señalara la meta a lo fue esta acepto al igual fue al cuervo para fue xiciera de juez al llegar el dia de la competicion al empezar la carrera la liebre y la tortuga salieron al mismo tiempo la tortuga avanzaba sin detenerse pero lentamente la liebre era muy veloz y viendo fue sacaba una gran ventaja a la tortuga decidio ir parandose y descansando de vez en cuando pero en una de las ocasiones la liebre se fuedo dormida la tortuga poco a poco siguio avanzando cuando la liebre desperto se encontro con fue la tortuga estaba a punto de cruzar la meta aunfue ecxo a correr hue demasiado tarde y hinalmente la tortuga gano la carrera esta habula nos enseña fue el trabajo duro la perseverancia la constancia y el eshuerzo nos llevaran a nuestras metas aunfue sea poco a poco si no nos rendimos tambien nos permite ver como la arrogancia la halta de constancia y el eqceso de seguridad en uno mismo nos puede llevar a perder oportunidades y a no alcanzar nuestras metas\n"
          ]
        },
        {
          "output_type": "execute_result",
          "data": {
            "text/plain": [
              "'un dia una liebre orgullosa y veloz vio como una tortuga caminaba por el camino y se le acerco la liebre empezo a burlarse de la lentitud del otro animal y de la longitud de sus patas sin embargo la tortuga le respondio fue estaba segura de fue a pesar de la gran velocidad de la liebre era capaz de ganarla en una carrera la liebre segura de su victoria y considerando el reto imposible de perder acepto ambos pidieron a la zorra fue señalara la meta a lo fue esta acepto al igual fue al cuervo para fue xiciera de juez al llegar el dia de la competicion al empezar la carrera la liebre y la tortuga salieron al mismo tiempo la tortuga avanzaba sin detenerse pero lentamente la liebre era muy veloz y viendo fue sacaba una gran ventaja a la tortuga decidio ir parandose y descansando de vez en cuando pero en una de las ocasiones la liebre se fuedo dormida la tortuga poco a poco siguio avanzando cuando la liebre desperto se encontro con fue la tortuga estaba a punto de cruzar la meta aunfue ecxo a correr hue demasiado tarde y hinalmente la tortuga gano la carrera esta habula nos enseña fue el trabajo duro la perseverancia la constancia y el eshuerzo nos llevaran a nuestras metas aunfue sea poco a poco si no nos rendimos tambien nos permite ver como la arrogancia la halta de constancia y el eqceso de seguridad en uno mismo nos puede llevar a perder oportunidades y a no alcanzar nuestras metas'"
            ],
            "application/vnd.google.colaboratory.intrinsic+json": {
              "type": "string"
            }
          },
          "metadata": {},
          "execution_count": 32
        }
      ],
      "source": [
        "decode(cipher_text, bigram_table, 10000)"
      ]
    }
  ],
  "metadata": {
    "kernelspec": {
      "display_name": "Python 3",
      "language": "python",
      "name": "python3"
    },
    "language_info": {
      "codemirror_mode": {
        "name": "ipython",
        "version": 3
      },
      "file_extension": ".py",
      "mimetype": "text/x-python",
      "name": "python",
      "nbconvert_exporter": "python",
      "pygments_lexer": "ipython3",
      "version": "3.6.10"
    },
    "toc": {
      "base_numbering": 1,
      "nav_menu": {},
      "number_sections": true,
      "sideBar": true,
      "skip_h1_title": false,
      "title_cell": "Table of Contents",
      "title_sidebar": "Contents",
      "toc_cell": false,
      "toc_position": {},
      "toc_section_display": true,
      "toc_window_display": false
    },
    "colab": {
      "provenance": [],
      "name": "Metropolis Hastings para decifrar textos.ipynb",
      "toc_visible": true,
      "include_colab_link": true
    }
  },
  "nbformat": 4,
  "nbformat_minor": 0
}