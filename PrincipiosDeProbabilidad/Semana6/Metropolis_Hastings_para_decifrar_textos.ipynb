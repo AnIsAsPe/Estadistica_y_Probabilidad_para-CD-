{
  "cells": [
    {
      "cell_type": "markdown",
      "metadata": {
        "id": "view-in-github",
        "colab_type": "text"
      },
      "source": [
        "<a href=\"https://colab.research.google.com/github/AnIsAsPe/Estadistica_y_Probabilidad_para-CD-/blob/main/PrincipiosDeProbabilidad/Semana6/Metropolis_Hastings_para_decifrar_textos.ipynb\" target=\"_parent\"><img src=\"https://colab.research.google.com/assets/colab-badge.svg\" alt=\"Open In Colab\"/></a>"
      ]
    },
    {
      "cell_type": "markdown",
      "source": [
        "<h2> Algoritmo Metropolis Hastings para decifrar textos <h2>"
      ],
      "metadata": {
        "id": "pcOPv-kLJtr-"
      }
    },
    {
      "cell_type": "markdown",
      "source": [
        "El presente código es una adaptación del presentado en [este repositorio](https://github.com/svivek/mcmc-decoding-example)\n",
        "\n",
        "El ejemplo está inspirado en la historia descrita en [The Markov Chain Monte Carlo Revolution](https://www.ams.org/journals/bull/2009-46-02/S0273-0979-08-01238-X/S0273-0979-08-01238-X.pdf). \n",
        "\n",
        "\n",
        "\n",
        "\n",
        "\n"
      ],
      "metadata": {
        "id": "m2c49PEl_WQX"
      }
    },
    {
      "cell_type": "markdown",
      "source": [
        "<img src='https://pbs.twimg.com/media/DnJnUCpWwAAmPnR.jpg'>\n",
        "\n"
      ],
      "metadata": {
        "id": "9rAkajXnMFh2"
      }
    },
    {
      "cell_type": "markdown",
      "source": [
        "El objetivo es decifrar los mensajes intercambiados por prisioneros, con la conjetura de que cada simbolo representa una letra o simbolo del lenguaje. La tarea es pues, encontrar ese diccionario o **clave** para codificar y decodificar los mensajes."
      ],
      "metadata": {
        "id": "XijkPSiDM0Fk"
      }
    },
    {
      "cell_type": "markdown",
      "metadata": {
        "id": "_riLxoAeYr7Z"
      },
      "source": [
        "## Cifrado por sustitución\n",
        "\n",
        "Es un método de cifrado para codificar y decodificar mensajes usando una clave que relaciona una letra o simbolo por otro.\n",
        "\n",
        "Como ejemplo, se puede suponer que la clave de un cifrado está contenida en la siguiente tabla:\n",
        "\n",
        "|original | codificado |\n",
        "|---------|------------|\n",
        "|a        | z          |\n",
        "|n        | 4          |\n",
        "|l        | 5          |\n",
        "|i        | a          |\n",
        "|s        | 8          |\n",
        "\n",
        "De manera que la palabra  `analisis` puede ser codificada como `z4z5a8a8`. "
      ]
    },
    {
      "cell_type": "code",
      "execution_count": 1,
      "metadata": {
        "id": "vjSokWDdYr7a"
      },
      "outputs": [],
      "source": [
        "def code(text, key): \n",
        "    return ''.join(list(map(lambda char: key[char], text)))"
      ]
    },
    {
      "cell_type": "code",
      "execution_count": 2,
      "metadata": {
        "id": "9yvaXh0HYr7b",
        "outputId": "25b892d6-3430-4895-86c7-8507d7074ceb",
        "colab": {
          "base_uri": "https://localhost:8080/",
          "height": 0
        }
      },
      "outputs": [
        {
          "output_type": "execute_result",
          "data": {
            "text/plain": [
              "'z4z5a8a8'"
            ],
            "application/vnd.google.colaboratory.intrinsic+json": {
              "type": "string"
            }
          },
          "metadata": {},
          "execution_count": 2
        }
      ],
      "source": [
        "clave = {'a': 'z', 'n': '4', 'l': '5', 'i': 'a', 's':'8'}\n",
        "code('analisis', clave)"
      ]
    },
    {
      "cell_type": "markdown",
      "metadata": {
        "id": "c_UZ88W1Yr7b"
      },
      "source": [
        "Y podemos decodificar la palabra usando la clave inversa:"
      ]
    },
    {
      "cell_type": "code",
      "execution_count": 3,
      "metadata": {
        "id": "LcUu-sPUYr7c",
        "outputId": "fbd133f8-4f14-482e-ccb6-d753ff97da81",
        "colab": {
          "base_uri": "https://localhost:8080/",
          "height": 0
        }
      },
      "outputs": [
        {
          "output_type": "execute_result",
          "data": {
            "text/plain": [
              "'analisis'"
            ],
            "application/vnd.google.colaboratory.intrinsic+json": {
              "type": "string"
            }
          },
          "metadata": {},
          "execution_count": 3
        }
      ],
      "source": [
        "inv_clave = {v : k for k, v in clave.items()}\n",
        "code('z4z5a8a8', inv_clave)"
      ]
    },
    {
      "cell_type": "markdown",
      "source": [
        "#¿Cómo encontrar una clave adecuada?"
      ],
      "metadata": {
        "id": "E-i6-jl7B9VI"
      }
    },
    {
      "cell_type": "markdown",
      "source": [
        "Si consideramos solamente el espacio en blanco, las letras en minúscula, y los números estamos hablando de 38 simbolos, y por tanto el espacio muestral en el que vive la clave es enorme."
      ],
      "metadata": {
        "id": "mvaozz-9CeDi"
      }
    },
    {
      "cell_type": "code",
      "execution_count": 4,
      "metadata": {
        "colab": {
          "base_uri": "https://localhost:8080/"
        },
        "id": "GOp3ZBIRCUHc",
        "outputId": "2aa78187-0895-49ac-bfff-429a716f8afd"
      },
      "outputs": [
        {
          "output_type": "stream",
          "name": "stdout",
          "text": [
            "Total de simbolos considerados: 38\n",
            "Tamaño del espacio muestral en el que vive la clave que buscamos 523022617466601111760007224100074291200000000\n"
          ]
        }
      ],
      "source": [
        "alphabet = \"abcdefghijklmnñopqrstuvwxyz0123456789 \"\n",
        "\n",
        "print('Total de simbolos considerados:', len(alphabet))\n",
        "\n",
        "from math import factorial\n",
        "print('Tamaño del espacio muestral en el que vive la clave que buscamos', factorial(38))"
      ]
    },
    {
      "cell_type": "markdown",
      "source": [
        "Supondremos que el lenguaje de los mensajes cifrados es el español, por tanto utilizaremos como guía las probabilidades de transición de los carácteres en español."
      ],
      "metadata": {
        "id": "tf1C0WnpE3Id"
      }
    },
    {
      "cell_type": "markdown",
      "metadata": {
        "id": "EuVUH6gFYr7c"
      },
      "source": [
        "# Calificación de las claves candidatas"
      ]
    },
    {
      "cell_type": "markdown",
      "metadata": {
        "id": "8NO4d3U3Yr7d"
      },
      "source": [
        "Para cada secuencia de caracteres $c_1c_2c_3\\cdots c_n$, estimaresmos su probabilidad de la siguiente manera\n",
        "\n",
        "$$P(c_1c_2c_3\\cdots c_n) = P(c_1) P(c_2 \\mid c_1) P(c_3 \\mid c_2) \\cdots P(c_n \\mid c_{n-1})$$\n",
        "\n",
        "Así, la probabilidad de la palabra `analisis` se calcularía como \n",
        "\n",
        " $P(a)~P(n \\mid a)P(a \\mid n)P(l \\mid a)P(i \\mid l)P(s \\mid i)P(i \\mid s)P(s \\mid i)$.\n",
        "\n",
        "Para hacer lo anterior necesitamos una matriz de transición de un caracter a otro, y en este sentido, para facilitar el análisis,  ignoraremos el primer caracter porque no hará practicamente diferencia en una secuencia larga."
      ]
    },
    {
      "cell_type": "markdown",
      "metadata": {
        "id": "c6fNYo80Yr7e"
      },
      "source": [
        "## ¿Cómo obtener la matriz de transición de los caracteres? \n"
      ]
    },
    {
      "cell_type": "code",
      "source": [
        "# ¿Cuántas probabilidades de transición debe tener nuestra matriz de transición?\n",
        "len(alphabet)**2"
      ],
      "metadata": {
        "colab": {
          "base_uri": "https://localhost:8080/"
        },
        "id": "bTh_Lo8BJ-Ia",
        "outputId": "268bbe32-7913-4703-bdea-8a933eb00299"
      },
      "execution_count": 5,
      "outputs": [
        {
          "output_type": "execute_result",
          "data": {
            "text/plain": [
              "1444"
            ]
          },
          "metadata": {},
          "execution_count": 5
        }
      ]
    },
    {
      "cell_type": "markdown",
      "source": [
        "Para aprender estas probabilidades usaremos un texto, lo más largo posible en español"
      ],
      "metadata": {
        "id": "ibTGyugELB3B"
      }
    },
    {
      "cell_type": "code",
      "execution_count": 6,
      "metadata": {
        "id": "TpK8vMmPYr7e"
      },
      "outputs": [],
      "source": [
        "import re\n",
        "\n",
        "def limpiar_texto(texto):\n",
        "\n",
        "    #cambiar texto a minusculas\n",
        "    texto = texto.lower()\n",
        "    \n",
        "    # quitar tildes\n",
        "    a,b = 'áéíóúü','aeiouu'\n",
        "    trans = str.maketrans( a,b)\n",
        "    texto = texto.translate(trans)\n",
        "\n",
        "    # solo letras y numeros\n",
        "    texto = re.sub('[^ña-z0-9 ]+' ,' ', texto).strip()  \n",
        "\n",
        "    # remplazar multiples espacios contiguos por un solo espacio\n",
        "    texto = re.sub('\\s+',' ', texto)                    \n",
        "    return texto\n",
        "\n",
        "def find_between( s, first, last ):\n",
        "    '''fuente: https://stackoverflow.com/questions/3368969/find-string-between-two-substrings'''\n",
        "    try:\n",
        "        start = s.index( first ) + len( first )\n",
        "        end = s.index( last, start )\n",
        "        return s[start:end]\n",
        "    except ValueError:\n",
        "        return \"\"\n",
        "def leer_texto(file, inicio=None, fin=None):\n",
        "    with open(file, 'r') as f:\n",
        "        if inicio is not None and fin is not None:\n",
        "            libro = find_between(f.read(), inicio, fin)\n",
        "        else:\n",
        "            libro = f.read()\n",
        "    return limpiar_texto(libro)"
      ]
    },
    {
      "cell_type": "markdown",
      "metadata": {
        "id": "b7335StTYr7f"
      },
      "source": [
        "Se puede calcular las probabilidades de transisión utilizando cualquier texto. Si este es suficientemente grande, podremos obtener buenas estimaciones. Usaremos Don Quijote de la Mancha, que tiene más de 2 millones de caracteres."
      ]
    },
    {
      "cell_type": "code",
      "execution_count": 20,
      "metadata": {
        "id": "Me7N9lYrYr7f"
      },
      "outputs": [],
      "source": [
        "from collections import Counter\n",
        "import math\n",
        "\n",
        "def bigram_log_probabilities(book):\n",
        "    \n",
        "    character_counts = Counter(book)\n",
        "    bigram_counts = Counter(zip(book, book[1:]))\n",
        "    bigrams = bigram_counts.keys()\n",
        "    return dict(map(lambda k: [k, math.log(bigram_counts[k]) - math.log(character_counts[k[0]])], bigrams))"
      ]
    },
    {
      "cell_type": "code",
      "source": [
        "from google.colab import drive\n",
        "drive.mount('/content/drive')"
      ],
      "metadata": {
        "colab": {
          "base_uri": "https://localhost:8080/"
        },
        "id": "rMFPQN0y5Kaa",
        "outputId": "72a9c4b2-9162-4c31-9269-8137516cfe18"
      },
      "execution_count": 8,
      "outputs": [
        {
          "output_type": "stream",
          "name": "stdout",
          "text": [
            "Mounted at /content/drive\n"
          ]
        }
      ]
    },
    {
      "cell_type": "code",
      "source": [
        "inicio = \"*** START OF THE PROJECT GUTENBERG EBOOK DON QUIJOTE ***\"\n",
        "fin = \"*** END OF THE PROJECT GUTENBERG EBOOK DON QUIJOTE ***\"\n",
        "\n",
        "file = '/content/drive/MyDrive/Datos/DonQuijote.txt'\n",
        "DonQ = leer_texto(file, inicio, fin )"
      ],
      "metadata": {
        "id": "eLULH2Hx3zGa"
      },
      "execution_count": 9,
      "outputs": []
    },
    {
      "cell_type": "code",
      "source": [
        "bigram_table = bigram_log_probabilities(DonQ)\n",
        "bigram_table"
      ],
      "metadata": {
        "colab": {
          "base_uri": "https://localhost:8080/"
        },
        "id": "-sS8EHANxBMZ",
        "outputId": "58c03b66-3e60-40a9-ccf1-dd90927dbff5"
      },
      "execution_count": 21,
      "outputs": [
        {
          "output_type": "execute_result",
          "data": {
            "text/plain": [
              "{('e', 'l'): -2.495635370118805,\n",
              " ('l', ' '): -1.633573260510028,\n",
              " (' ', 'i'): -4.937384512589171,\n",
              " ('i', 'n'): -2.3504318062150116,\n",
              " ('n', 'g'): -4.031173508631302,\n",
              " ('g', 'e'): -2.980174879019078,\n",
              " ('e', 'n'): -1.8827851415801167,\n",
              " ('n', 'i'): -3.196628842521836,\n",
              " ('i', 'o'): -2.349621480303913,\n",
              " ('o', 's'): -1.8348327937786753,\n",
              " ('s', 'o'): -2.8913442783423715,\n",
              " ('o', ' '): -0.8242763995237041,\n",
              " (' ', 'h'): -3.420071451532097,\n",
              " ('h', 'i'): -2.3957986266629003,\n",
              " ('i', 'd'): -2.801143855311272,\n",
              " ('d', 'a'): -2.023135023232147,\n",
              " ('a', 'l'): -2.6003410610565005,\n",
              " ('l', 'g'): -4.105093437001927,\n",
              " ('g', 'o'): -1.4025662217672572,\n",
              " (' ', 'd'): -2.166409555430894,\n",
              " ('d', 'o'): -1.3743360383401892,\n",
              " ('o', 'n'): -2.0723476075124374,\n",
              " ('n', ' '): -1.137340896369082,\n",
              " (' ', 'q'): -2.633056752874694,\n",
              " ('q', 'u'): 0.0,\n",
              " ('u', 'i'): -2.480561604574996,\n",
              " ('i', 'j'): -2.933481589751146,\n",
              " ('j', 'o'): -0.5809899206883387,\n",
              " ('o', 't'): -3.485054422488467,\n",
              " ('t', 'e'): -1.3776567950215597,\n",
              " ('e', ' '): -1.0492270041581264,\n",
              " ('d', 'e'): -0.9273355144673836,\n",
              " (' ', 'l'): -2.453993060521281,\n",
              " ('l', 'a'): -1.3300988889736907,\n",
              " ('a', ' '): -1.0572346397157286,\n",
              " (' ', 'm'): -2.888473356904157,\n",
              " ('m', 'a'): -1.4288016144918032,\n",
              " ('a', 'n'): -2.1768630093201207,\n",
              " ('n', 'c'): -2.76997352886187,\n",
              " ('c', 'h'): -2.233525463604604,\n",
              " ('h', 'a'): -0.7720910967933925,\n",
              " (' ', 'p'): -2.707588941072377,\n",
              " ('p', 'o'): -1.2015693953799218,\n",
              " ('o', 'r'): -2.351057542749402,\n",
              " ('r', ' '): -1.665587610818232,\n",
              " ('m', 'i'): -1.7351810888678383,\n",
              " ('i', 'g'): -3.336874158257338,\n",
              " ('g', 'u'): -1.358552700327781,\n",
              " ('u', 'e'): -0.7285656314391495,\n",
              " (' ', 'c'): -2.6562858765277717,\n",
              " ('c', 'e'): -2.131160083094869,\n",
              " ('e', 'r'): -2.117486450267057,\n",
              " ('r', 'v'): -5.42335576432673,\n",
              " ('v', 'a'): -1.9512592452219444,\n",
              " ('n', 't'): -1.9603429424340302,\n",
              " ('e', 's'): -1.923913520658136,\n",
              " ('s', ' '): -0.8934149130536806,\n",
              " (' ', 's'): -2.5381357692532447,\n",
              " ('s', 'a'): -2.447743394639062,\n",
              " ('a', 'a'): -9.817117292301274,\n",
              " ('a', 'v'): -5.1149853984703855,\n",
              " ('v', 'e'): -1.0720171639855653,\n",
              " ('e', 'd'): -3.91187992127057,\n",
              " ('d', 'r'): -4.042346538160135,\n",
              " ('r', 'a'): -1.5006754644245959,\n",
              " (' ', 'e'): -2.3636134919407716,\n",
              " (' ', 't'): -3.2231022060371473,\n",
              " ('t', 'a'): -1.4098309784623986,\n",
              " ('a', 's'): -2.1514916695781032,\n",
              " ('s', 't'): -2.1974142631696267,\n",
              " ('t', 'i'): -2.4216621798134046,\n",
              " ('i', 'm'): -3.3813259208281714,\n",
              " ('m', 'o'): -1.6435332840240005,\n",
              " ('r', 'r'): -3.7545545293815206,\n",
              " ('a', 't'): -4.334586220807245,\n",
              " (' ', 'r'): -4.012122515220673,\n",
              " ('r', 'e'): -1.8214065216652653,\n",
              " ('e', 'y'): -6.204327970702745,\n",
              " ('y', ' '): -0.22425470663310776,\n",
              " (' ', 'a'): -2.523789918611312,\n",
              " ('d', 'u'): -3.865328311075034,\n",
              " ('u', 'q'): -5.2071183144429245,\n",
              " (' ', 'b'): -4.230165297546138,\n",
              " ('b', 'e'): -2.0616819861365254,\n",
              " ('e', 'j'): -4.69359655698007,\n",
              " ('j', 'a'): -1.61614839553327,\n",
              " ('a', 'r'): -2.414610340646842,\n",
              " ('p', 'r'): -2.260802912427158,\n",
              " ('r', 'o'): -1.9961600027504787,\n",
              " ('o', 'l'): -3.7148990040284833,\n",
              " ('l', 'o'): -1.872588447870985,\n",
              " ('o', 'g'): -5.825425851148651,\n",
              " ('l', 'i'): -3.019182611898829,\n",
              " ('i', 'b'): -4.077725136774494,\n",
              " ('b', 'r'): -1.7295200011307994,\n",
              " ('t', 'r'): -1.9680332921391823,\n",
              " ('c', 'o'): -1.3007360721975392,\n",
              " ('n', 'd'): -2.2326465488040803,\n",
              " ('d', 'i'): -1.979970117691039,\n",
              " ('i', 'c'): -3.0342422812912258,\n",
              " ('c', 'i'): -1.772322125826328,\n",
              " (' ', 'y'): -2.8890823275284347,\n",
              " ('j', 'e'): -1.9568971889217428,\n",
              " ('r', 'c'): -4.022106818223593,\n",
              " (' ', 'f'): -4.328939010562422,\n",
              " ('f', 'a'): -1.7311965739015633,\n",
              " ('a', 'm'): -3.556493437592973,\n",
              " ('r', 'i'): -2.5329840064305653,\n",
              " ('m', 'e'): -1.4801781979144,\n",
              " ('s', 'u'): -2.9004989696565424,\n",
              " ('u', ' '): -2.9893519326447286,\n",
              " ('i', 'e'): -1.8776815182132403,\n",
              " ('i', 'z'): -4.961961842358566,\n",
              " ('z', 'o'): -1.1605559827372858,\n",
              " ('s', 'e'): -1.9923748464323996,\n",
              " ('c', 'u'): -2.2375835306688234,\n",
              " (' ', 'g'): -4.601379577827496,\n",
              " ('g', 'r'): -2.0179628041262534,\n",
              " ('a', 'c'): -3.659560661566317,\n",
              " ('n', 'e'): -3.0883176809464175,\n",
              " ('t', 'u'): -2.9524714099729845,\n",
              " ('u', 'v'): -4.865129270060406,\n",
              " ('v', 'o'): -1.9993261668879247,\n",
              " ('r', 'm'): -3.8228865218753896,\n",
              " ('r', 's'): -4.18731344261844,\n",
              " ('c', 'a'): -1.6893373742536983,\n",
              " ('a', 'b'): -2.9712374170372247,\n",
              " ('b', 'a'): -1.1951012327200914,\n",
              " ('l', 'l'): -2.267951731132859,\n",
              " ('l', 'e'): -1.9296658114704055,\n",
              " ('u', 'c'): -3.6802700101144747,\n",
              " (' ', 'n'): -3.5002602638566707,\n",
              " ('n', 'u'): -4.475818072363243,\n",
              " ('u', 'a'): -3.0913294672305422,\n",
              " (' ', 'v'): -3.532727799357726,\n",
              " ('s', 'i'): -2.580231054781816,\n",
              " ('n', 'a'): -2.64230381773368,\n",
              " ('s', 'g'): -6.630296222084637,\n",
              " ('i', 'a'): -2.1308847550939607,\n",
              " ('n', 'o'): -2.069619765702326,\n",
              " ('s', 'c'): -3.825666460284107,\n",
              " ('c', 'r'): -3.571178017502148,\n",
              " ('r', 'u'): -4.720214053041789,\n",
              " ('u', 't'): -5.158219684521447,\n",
              " ('u', 'r'): -3.2147916962192884,\n",
              " ('r', 'b'): -5.074523997849023,\n",
              " ('e', 'g'): -4.250174758639334,\n",
              " ('u', 'n'): -2.2261875273377214,\n",
              " ('b', 'u'): -2.6056392054499744,\n",
              " ('s', 'p'): -3.5076411711264797,\n",
              " ('p', 'a'): -1.460949139818224,\n",
              " ('b', 'l'): -2.683917343359867,\n",
              " (' ', 'j'): -5.697398504046278,\n",
              " ('a', 'g'): -4.688833651753499,\n",
              " ('g', 'i'): -3.045849118620577,\n",
              " ('a', 'd'): -2.7780945450749712,\n",
              " ('v', 'i'): -1.2435529411453903,\n",
              " ('t', 'o'): -1.5046478589062318,\n",
              " (' ', 'o'): -4.139131209191625,\n",
              " ('g', 'n'): -4.2160550604756954,\n",
              " ('f', 'e'): -1.8448215994092836,\n",
              " ('e', 'c'): -3.661577638825058,\n",
              " ('r', 'd'): -3.721452624220536,\n",
              " ('c', 'l'): -4.818613953571978,\n",
              " ('l', 'u'): -4.022090533975215,\n",
              " ('u', 'y'): -4.332219215384121,\n",
              " ('y', 'e'): -3.6263458765269663,\n",
              " ('f', 'i'): -1.5827765687832906,\n",
              " ('u', 'p'): -5.427986551919999,\n",
              " ('p', 'e'): -1.8263092173851856,\n",
              " ('g', 'a'): -1.4308509356058394,\n",
              " ('z', 'c'): -3.3223192498441287,\n",
              " ('a', 'i'): -5.379827978952344,\n",
              " ('h', 'e'): -2.2005783534743886,\n",
              " (' ', 'u'): -4.507510439602081,\n",
              " ('y', 'a'): -2.868287665978057,\n",
              " ('i', 'f'): -5.41755870817677,\n",
              " ('f', 'u'): -1.2542725018112542,\n",
              " ('o', 'p'): -5.767117879761716,\n",
              " ('l', 'm'): -4.798916978764526,\n",
              " ('i', 'l'): -3.541936816928918,\n",
              " ('n', 'n'): -9.116194514085954,\n",
              " ('u', 'm'): -4.553465232922139,\n",
              " ('a', 'j'): -5.237731223468898,\n",
              " ('u', 'd'): -3.6438316820771632,\n",
              " ('h', 'o'): -1.2512649156835032,\n",
              " ('n', 'z'): -4.455905028876783,\n",
              " ('z', 'a'): -0.738321697411898,\n",
              " ('n', 's'): -3.82163419641563,\n",
              " ('a', 'z'): -4.8022485476730825,\n",
              " ('e', 'ñ'): -4.507807153078991,\n",
              " ('ñ', 'o'): -0.5123088981704171,\n",
              " ('i', 's'): -2.8051504168537296,\n",
              " ('e', 't'): -4.685105939934911,\n",
              " ('r', 'p'): -5.963628589419021,\n",
              " ('m', 'u'): -2.6268655708627247,\n",
              " ('r', 't'): -3.3188405850947778,\n",
              " ('i', ' '): -2.335603096080435,\n",
              " ('o', 'i'): -5.835831772309767,\n",
              " ('o', 'c'): -3.97959916065032,\n",
              " ('o', 'm'): -3.285308469388296,\n",
              " ('b', 'o'): -2.811092964352725,\n",
              " ('l', 't'): -4.364554549850651,\n",
              " ('m', 'b'): -3.2671475900427547,\n",
              " ('n', 'v'): -5.454771906205057,\n",
              " ('d', ' '): -3.2885747357837563,\n",
              " ('s', 'd'): -5.973738488956984,\n",
              " ('e', 'v'): -4.944843314816017,\n",
              " ('i', 'r'): -3.0178559337566107,\n",
              " ('a', 'ñ'): -4.967219983331799,\n",
              " ('ñ', 'a'): -1.097442834669784,\n",
              " ('i', 't'): -3.7214411487278856,\n",
              " ('e', 'b'): -5.213622753262507,\n",
              " ('e', 'z'): -5.031301196468552,\n",
              " ('s', 'm'): -4.892881235891465,\n",
              " ('e', 'a'): -4.813216902384302,\n",
              " ('u', 's'): -3.1600870169138435,\n",
              " ('e', 'm'): -4.271066455497191,\n",
              " ('m', 'p'): -2.9546159292102274,\n",
              " ('b', 'i'): -1.6671755945459825,\n",
              " ('p', 'u'): -2.197140313590646,\n",
              " ('o', 'd'): -3.6891422557643754,\n",
              " ('o', 'v'): -5.808998377006703,\n",
              " ('n', 'f'): -5.250215447159214,\n",
              " ('a', 'u'): -4.837878852265691,\n",
              " ('i', 'v'): -4.803314752078032,\n",
              " ('o', 'z'): -5.747774916918584,\n",
              " ('u', 'l'): -3.969107293520702,\n",
              " ('a', 'e'): -6.135079370004055,\n",
              " ('l', 'b'): -6.211258048822517,\n",
              " ('o', 'q'): -7.056682614423055,\n",
              " ('e', 'p'): -5.649013264666713,\n",
              " ('p', 'l'): -3.4880325789173607,\n",
              " ('e', 'e'): -6.592771391241478,\n",
              " ('a', 'p'): -4.988076546606356,\n",
              " ('o', 'b'): -4.368690392365444,\n",
              " ('c', 't'): -5.753674788128124,\n",
              " ('u', 'j'): -5.2071183144429245,\n",
              " ('s', 'f'): -6.415571241236024,\n",
              " ('p', 'i'): -2.838564565072277,\n",
              " ('l', 'c'): -4.952165945275501,\n",
              " ('s', 'q'): -6.785445404241486,\n",
              " ('e', 'o'): -5.661404996961876,\n",
              " ('e', 'x'): -7.20685004832573,\n",
              " ('x', 't'): -2.762117422372486,\n",
              " ('d', 'm'): -5.6740512513699874,\n",
              " ('o', 'f'): -5.831656400899287,\n",
              " (' ', 'z'): -7.406429258076705,\n",
              " ('u', 'z'): -5.746440283038534,\n",
              " ('z', 'n'): -4.797167008305465,\n",
              " ('e', 'h'): -8.519872208339295,\n",
              " ('l', 'd'): -4.930324203360453,\n",
              " ('ñ', 'e'): -3.32963351425159,\n",
              " ('r', 'n'): -4.379803252841647,\n",
              " ('o', 'ñ'): -7.370713516571588,\n",
              " ('z', ' '): -2.001693992232096,\n",
              " ('u', 'g'): -5.103353604435506,\n",
              " ('a', 'y'): -4.961542182415117,\n",
              " ('y', 'o'): -2.1952434371367655,\n",
              " ('e', 'f'): -6.456869393002619,\n",
              " ('v', 'u'): -2.403356113294093,\n",
              " ('a', 'o'): -7.924553123951254,\n",
              " ('i', 'ñ'): -6.643326172330126,\n",
              " ('j', 'u'): -2.393852964121278,\n",
              " ('o', 'y'): -5.162759222562801,\n",
              " ('i', 'p'): -5.605868306815347,\n",
              " ('e', 'i'): -5.393874739947403,\n",
              " (' ', '1'): -11.06570824241435,\n",
              " ('1', '6'): -0.6931471805599452,\n",
              " ('6', '0'): -1.3862943611198906,\n",
              " ('0', '4'): -0.6931471805599453,\n",
              " ('4', ' '): 0.0,\n",
              " ('f', 'r'): -2.462084082444356,\n",
              " ('s', 'l'): -6.7178521131089575,\n",
              " ('h', 'u'): -3.232004455880496,\n",
              " ('u', 'b'): -4.440432800024353,\n",
              " ('f', 'o'): -2.7344986827653486,\n",
              " ('z', 'q'): -5.418855224883265,\n",
              " ('r', 'q'): -4.256445289854347,\n",
              " ('r', 'g'): -5.341940372841221,\n",
              " ('n', 'r'): -6.010114183363098,\n",
              " ('x', 'c'): -1.81303686767534,\n",
              " ('n', 'j'): -6.617494542165618,\n",
              " ('c', 'c'): -7.030406946736488,\n",
              " ('n', 'q'): -5.210860496808604,\n",
              " ('s', 'n'): -6.6066264779987325,\n",
              " ('a', 'q'): -4.653370819510865,\n",
              " ('o', 'j'): -5.5330962103003225,\n",
              " ('z', 'g'): -4.2752915483528895,\n",
              " ('n', 'm'): -6.263563084172636,\n",
              " ('r', 'l'): -4.291089970616977,\n",
              " ('u', 'f'): -6.814280913039889,\n",
              " ('j', 'i'): -4.685150097341472,\n",
              " ('s', 'h'): -7.047809668708976,\n",
              " ('u', 'o'): -6.791808057187831,\n",
              " ('l', 'v'): -4.619757837075084,\n",
              " ('a', 'h'): -5.843400717867788,\n",
              " ('g', 'l'): -4.4679276802307655,\n",
              " ('b', ' '): -8.017843137375271,\n",
              " ('c', ' '): -8.2926486591864,\n",
              " (' ', 'x'): -8.450748464378151,\n",
              " ('x', 'e'): -4.148411783492376,\n",
              " ('z', 'e'): -8.093003874309794,\n",
              " ('e', 'u'): -9.303991167104968,\n",
              " ('u', 'x'): -10.193005438849987,\n",
              " ('x', 'i'): -2.048350954609805,\n",
              " ('o', 'e'): -7.137908054345641,\n",
              " ('r', 'z'): -5.753597451197306,\n",
              " ('b', 's'): -7.206912921158943,\n",
              " ('i', 'q'): -6.254955497581262,\n",
              " ('e', 'q'): -7.218614889905317,\n",
              " ('l', 's'): -6.694684698400393,\n",
              " ('t', ' '): -7.301212067013399,\n",
              " ('m', ' '): -7.619768819800029,\n",
              " ('m', 'q'): -10.710811273158345,\n",
              " ('i', 'x'): -7.700438730091483,\n",
              " ('x', ' '): -2.178971137026869,\n",
              " ('a', 'f'): -6.58380078327828,\n",
              " ('i', 'u'): -6.314144368971593,\n",
              " ('s', 'b'): -8.803851055334952,\n",
              " ('o', 'a'): -8.869948288872074,\n",
              " ('t', 'c'): -8.736296592302722,\n",
              " ('f', 'l'): -3.740559414068213,\n",
              " ('p', 's'): -9.093834645213358,\n",
              " ('r', 'f'): -7.050812182263508,\n",
              " ('p', 't'): -6.454777315598099,\n",
              " ('x', 'p'): -1.951187206156157,\n",
              " ('d', 'v'): -6.5804572240116,\n",
              " ('l', 'z'): -6.427481157292153,\n",
              " ('l', 'q'): -7.009765745040288,\n",
              " ('o', 'h'): -6.512381061460675,\n",
              " ('h', ' '): -4.566499321640245,\n",
              " ('l', 'f'): -6.92687808523452,\n",
              " ('r', 'j'): -7.237689555593324,\n",
              " ('u', 'ñ'): -6.65688873928846,\n",
              " ('l', 'p'): -6.200208212635932,\n",
              " ('s', 'v'): -6.896259770581776,\n",
              " ('s', 's'): -10.361995673381502,\n",
              " ('i', 'i'): -7.04456294432877,\n",
              " ('d', 'h'): -9.775040356310758,\n",
              " ('n', 'l'): -6.780819598268917,\n",
              " ('y', 'u'): -5.117835176683724,\n",
              " (' ', 'ñ'): -12.16432053108246,\n",
              " ('ñ', 'u'): -5.364339162090035,\n",
              " ('ñ', 'i'): -3.6238729872495297,\n",
              " ('v', ' '): -6.57897339564493,\n",
              " ('d', 'l'): -8.339955831021435,\n",
              " ('d', 's'): -11.384478268744857,\n",
              " ('d', 'n'): -9.998183907624966,\n",
              " ('z', 'u'): -5.072578988165431,\n",
              " ('g', 'm'): -8.151794592521158,\n",
              " ('o', 'o'): -8.9609200670778,\n",
              " ('l', 'j'): -9.10162980671868,\n",
              " ('z', 'p'): -7.687538766201629,\n",
              " ('b', 'j'): -7.900060101718887,\n",
              " ('x', 'm'): -3.994261103665118,\n",
              " ('o', 'x'): -11.312295324241278,\n",
              " ('z', 'm'): -5.741628617146317,\n",
              " ('l', 'r'): -8.919308249924727,\n",
              " ('u', 'h'): -9.499858258290041,\n",
              " ('g', ' '): -9.068085324395312,\n",
              " ('x', 'v'): -2.6079667425452278,\n",
              " ('l', 'h'): -8.036919069726252,\n",
              " ('x', 'x'): -1.7657839828247948,\n",
              " ('x', 'a'): -2.9957322735539913,\n",
              " ('d', 'j'): -11.384478268744857,\n",
              " ('z', 'b'): -7.3998566937498484,\n",
              " ('s', 'r'): -11.748290034501393,\n",
              " ('n', 'h'): -8.893050962771744,\n",
              " ('b', 'c'): -8.998672390386998,\n",
              " (' ', 'w'): -12.16432053108246,\n",
              " ('w', 'a'): 0.0,\n",
              " ('d', 'q'): -9.592718799516803,\n",
              " ('j', ' '): -8.576970395452099,\n",
              " ('b', 'd'): -10.097284679055107,\n",
              " ('m', 'm'): -10.710811273158345,\n",
              " ('x', 'l'): -2.9444389791664407,\n",
              " ('a', 'x'): -12.215012565099645,\n",
              " ('i', 'y'): -10.720863616235846,\n",
              " ('l', 'n'): -11.404214899712727,\n",
              " ('m', 'n'): -9.324516912038455,\n",
              " ('c', 'm'): -11.00069886028861,\n",
              " ('x', 'o'): -5.247024072160486,\n",
              " ('f', ' '): -8.245909264774093,\n",
              " ('p', ' '): -10.480129006333248,\n",
              " ('1', '0'): -2.0794415416798357,\n",
              " ('0', ' '): -0.6931471805599453,\n",
              " ('1', '7'): -2.0794415416798357,\n",
              " ('7', ' '): 0.0,\n",
              " ('6', '1'): -0.6931471805599453,\n",
              " ('1', '5'): -2.0794415416798357,\n",
              " ('5', ' '): 0.0,\n",
              " ('p', 'c'): -9.38151671766514,\n",
              " ('s', 'j'): -11.748290034501393,\n",
              " ('y', 'm'): -9.441967832938703,\n",
              " (' ', '2'): -12.857467711642405,\n",
              " ('2', '3'): 0.0,\n",
              " ('3', ' '): 0.0,\n",
              " ('x', 'h'): -5.940171252720432,\n",
              " ('z', 'l'): -8.78615105486974,\n",
              " ('1', '4'): -2.0794415416798357,\n",
              " ('h', 'r'): -9.210890220781618,\n",
              " ('r', 'y'): -11.528148996741715,\n",
              " ('y', 't'): -10.135115013498648,\n",
              " ('i', 'h'): -10.720863616235846,\n",
              " ('b', 't'): -10.097284679055107,\n",
              " ('6', ' '): -1.3862943611198906,\n",
              " ('l', 'x'): -8.696164698610517,\n",
              " ('y', 'l'): -10.135115013498648}"
            ]
          },
          "metadata": {},
          "execution_count": 21
        }
      ]
    },
    {
      "cell_type": "code",
      "source": [
        "len(bigram_table)"
      ],
      "metadata": {
        "id": "x8Z2XT8YDfLG",
        "outputId": "c69b2d2d-e98e-4031-ca0f-1d7a94f429f9",
        "colab": {
          "base_uri": "https://localhost:8080/"
        }
      },
      "execution_count": 11,
      "outputs": [
        {
          "output_type": "execute_result",
          "data": {
            "text/plain": [
              "409"
            ]
          },
          "metadata": {},
          "execution_count": 11
        }
      ]
    },
    {
      "cell_type": "code",
      "source": [
        "bigram_table[b]"
      ],
      "metadata": {
        "id": "yq9njE3WLpIV",
        "outputId": "744cb7c3-c993-41f3-8bdd-136b4a68cf14",
        "colab": {
          "base_uri": "https://localhost:8080/",
          "height": 165
        }
      },
      "execution_count": 54,
      "outputs": [
        {
          "output_type": "error",
          "ename": "KeyError",
          "evalue": "ignored",
          "traceback": [
            "\u001b[0;31m---------------------------------------------------------------------------\u001b[0m",
            "\u001b[0;31mKeyError\u001b[0m                                  Traceback (most recent call last)",
            "\u001b[0;32m<ipython-input-54-bcc19329f28c>\u001b[0m in \u001b[0;36m<module>\u001b[0;34m\u001b[0m\n\u001b[0;32m----> 1\u001b[0;31m \u001b[0mbigram_table\u001b[0m\u001b[0;34m[\u001b[0m\u001b[0mb\u001b[0m\u001b[0;34m]\u001b[0m\u001b[0;34m\u001b[0m\u001b[0;34m\u001b[0m\u001b[0m\n\u001b[0m",
            "\u001b[0;31mKeyError\u001b[0m: ('y', 'z')"
          ]
        }
      ]
    },
    {
      "cell_type": "markdown",
      "metadata": {
        "id": "rsB4wtvdYr7f"
      },
      "source": [
        "Y mediante la siguiente función calcularemos que tan \"buena\" es la secuencia utilizando para ello las probabilidades de transición estimadas."
      ]
    },
    {
      "cell_type": "code",
      "execution_count": 22,
      "metadata": {
        "id": "ShKV2OfdYr7d"
      },
      "outputs": [],
      "source": [
        "LOG_EPSILON = -30  # probabilidad muy pequeña vista como logaritmo, que se ustilizara cuando no exista probabilidad de trancisión de una letra a otra\n",
        "\n",
        "def goodness(text, bigram_table):\n",
        "    bigrams = zip(text, text[1:])\n",
        "    sum = 0\n",
        "    for b in bigrams:\n",
        "        sum += bigram_table.get(b) or LOG_EPSILON\n",
        "    return sum"
      ]
    },
    {
      "cell_type": "code",
      "execution_count": 23,
      "metadata": {
        "id": "fOAJWcz2Yr7g",
        "outputId": "ce8b5261-e8c3-4523-c684-3fb58108e306",
        "colab": {
          "base_uri": "https://localhost:8080/"
        }
      },
      "outputs": [
        {
          "output_type": "stream",
          "name": "stdout",
          "text": [
            "Log probability of 'opamc' = -40.784560457172915\n"
          ]
        }
      ],
      "source": [
        "print(\"Log probability of 'opamc' = \" +str(goodness(\"opamc\", bigram_table)))"
      ]
    },
    {
      "cell_type": "code",
      "execution_count": 24,
      "metadata": {
        "id": "AnrdclCUYr7g",
        "outputId": "21ddbb72-d5a1-40f5-de87-20af8c199d2b",
        "colab": {
          "base_uri": "https://localhost:8080/"
        }
      },
      "outputs": [
        {
          "output_type": "stream",
          "name": "stdout",
          "text": [
            "Log probabilidad de 'campo' = -9.40201613643682\n"
          ]
        }
      ],
      "source": [
        "print(\"Log probabilidad de 'campo' = \" +str(goodness(\"campo\", bigram_table)))"
      ]
    },
    {
      "cell_type": "markdown",
      "source": [
        "# Implementación"
      ],
      "metadata": {
        "id": "SUGNKvpc2r9P"
      }
    },
    {
      "cell_type": "markdown",
      "source": [
        "## Creación del mensaje encriptado"
      ],
      "metadata": {
        "id": "FosFljuA8fr1"
      }
    },
    {
      "cell_type": "code",
      "execution_count": 25,
      "metadata": {
        "id": "e_BXIRxZHTji"
      },
      "outputs": [],
      "source": [
        "plain_text = limpiar_texto(\n",
        "    \"\"\"Muchos años después, frente al pelotón de fusilamiento, el coronel Aureliano Buendía había de \n",
        "recordar aquella tarde remota en que su padre lo llevó a conocer el hielo. Macondo era entonces \n",
        "una aldea de veinte casas de barro y cañabrava construidas a la orilla de un río de aguas diáfanas \n",
        "que se precipitaban por un lecho de piedras pulidas, blancas y enormes como huevos \n",
        "prehistóricos. El mundo era tan reciente, que muchas cosas carecían de nombre, y para \n",
        "mencionarlas había que señalarías con el dedo. Todos los años, por el mes de marzo, una familia \n",
        "de gitanos desarrapados plantaba su carpa cerca de la aldea, y con un grande alboroto de pitos y \n",
        "timbales daban a conocer los nuevos inventos. Primero llevaron el imán. Un gitano corpulento, de \n",
        "barba montaraz y manos de gorrión, que se presentó con el nombre de Melquíades, hizo una \n",
        "truculenta demostración pública de lo que él mismo llamaba la octava maravilla de los sabios \n",
        "alquimistas de Macedonia. Fue de casa en casa arrastrando dos lingotes metálicos, y todo el \n",
        "mundo se espantó al ver que los calderos, las pailas, las tenazas y los anafes se caían de su sitio, \n",
        "y las maderas crujían por la desesperación de los clavos y los tornillos tratando de desenclavarse, \n",
        "y aun los objetos perdidos desde hacía mucho tiempo aparecían por donde más se les había \n",
        "buscado, y se arrastraban en desbandada turbulenta detrás de los fierros mágicos de Melquíades. \n",
        "\"\"\"\n",
        ")"
      ]
    },
    {
      "cell_type": "code",
      "execution_count": 26,
      "metadata": {
        "id": "PFVObQT4Yr7g"
      },
      "outputs": [],
      "source": [
        "import random\n",
        "\n",
        "def make_random_key():\n",
        "    l = list(alphabet)\n",
        "    random.shuffle(l)\n",
        "    return dict(zip(alphabet, l))"
      ]
    },
    {
      "cell_type": "code",
      "execution_count": 27,
      "metadata": {
        "id": "vziRlSM4Yr7h",
        "outputId": "14d73edc-5f0d-4a36-ca93-19b2aec50e13",
        "colab": {
          "base_uri": "https://localhost:8080/",
          "height": 174
        }
      },
      "outputs": [
        {
          "output_type": "execute_result",
          "data": {
            "text/plain": [
              "'3rg4jmqx6jmq5ym0rymqcaytdyqxkq0ykjdjtq5yqcrmwkx3wytdjqykqgjajtykqxraykwxtjqñryt5wxq4xñwxq5yqaygja5xaqxzrykkxqdxa5yqay3jdxqytqzryqmrq0x5ayqkjqkky9jqxqgjtjgyaqykq4wykjq3xgjt5jqyaxqytdjtgymqrtxqxk5yxq5yq9ywtdyqgxmxmq5yqñxaajqvqgx6xñax9xqgjtmdarw5xmqxqkxqjawkkxq5yqrtqawjq5yqx8rxmq5wxcxtxmqzryqmyq0aygw0wdxñxtq0jaqrtqkyg4jq5yq0wy5axmq0rkw5xmqñkxtgxmqvqytja3ymqgj3jq4ry9jmq0ay4wmdjawgjmqykq3rt5jqyaxqdxtqaygwytdyqzryq3rg4xmqgjmxmqgxaygwxtq5yqtj3ñayqvq0xaxq3ytgwjtxakxmq4xñwxqzryqmy6xkxawxmqgjtqykq5y5jqdj5jmqkjmqx6jmq0jaqykq3ymq5yq3xaojqrtxqcx3wkwxq5yq8wdxtjmq5ymxaax0x5jmq0kxtdxñxqmrqgxa0xqgyagxq5yqkxqxk5yxqvqgjtqrtq8axt5yqxkñjajdjq5yq0wdjmqvqdw3ñxkymq5xñxtqxqgjtjgyaqkjmqtry9jmqwt9ytdjmq0aw3yajqkky9xajtqykqw3xtqrtq8wdxtjqgja0rkytdjq5yqñxañxq3jtdxaxoqvq3xtjmq5yq8jaawjtqzryqmyq0aymytdjqgjtqykqtj3ñayq5yq3ykzrwx5ymq4wojqrtxqdargrkytdxq5y3jmdaxgwjtq0rñkwgxq5yqkjqzryqykq3wm3jqkkx3xñxqkxqjgdx9xq3xax9wkkxq5yqkjmqmxñwjmqxkzrw3wmdxmq5yq3xgy5jtwxqcryq5yqgxmxqytqgxmxqxaaxmdaxt5jq5jmqkwt8jdymq3ydxkwgjmqvqdj5jqykq3rt5jqmyqym0xtdjqxkq9yaqzryqkjmqgxk5yajmqkxmq0xwkxmqkxmqdytxoxmqvqkjmqxtxcymqmyqgxwxtq5yqmrqmwdwjqvqkxmq3x5yaxmqgarswxtq0jaqkxq5ymym0yaxgwjtq5yqkjmqgkx9jmqvqkjmqdjatwkkjmqdaxdxt5jq5yq5ymytgkx9xamyqvqxrtqkjmqjñsydjmq0ya5w5jmq5ym5yq4xgwxq3rg4jqdwy30jqx0xaygwxtq0jaq5jt5yq3xmqmyqkymq4xñwxqñrmgx5jqvqmyqxaaxmdaxñxtqytq5ymñxt5x5xqdrañrkytdxq5ydaxmq5yqkjmqcwyaajmq3x8wgjmq5yq3ykzrwx5ym'"
            ],
            "application/vnd.google.colaboratory.intrinsic+json": {
              "type": "string"
            }
          },
          "metadata": {},
          "execution_count": 27
        }
      ],
      "source": [
        "key = make_random_key()\n",
        "cipher_text = code(plain_text, key)\n",
        "cipher_text"
      ]
    },
    {
      "cell_type": "markdown",
      "source": [
        "## Busqueda de la clave"
      ],
      "metadata": {
        "id": "1x0YrP828tVQ"
      }
    },
    {
      "cell_type": "markdown",
      "source": [
        "Empezaremos la busqueda de la clave adecuado, utilizando en el inicio una **clave** aleatoria que iremos cambiando por una  clave cercana, simplemente transponiendo dos caracteres seleccionados aleatoriamente."
      ],
      "metadata": {
        "id": "NES6nS081pfn"
      }
    },
    {
      "cell_type": "code",
      "source": [
        "clave0 = make_random_key()  # creamos una clave inicial\n",
        "clave0"
      ],
      "metadata": {
        "colab": {
          "base_uri": "https://localhost:8080/"
        },
        "id": "zCPiZDtH2ZeG",
        "outputId": "2e5fa684-62b3-491d-98bd-a6ca094af0f0"
      },
      "execution_count": 30,
      "outputs": [
        {
          "output_type": "execute_result",
          "data": {
            "text/plain": [
              "{'a': 'w',\n",
              " 'b': 'h',\n",
              " 'c': '5',\n",
              " 'd': 'l',\n",
              " 'e': '2',\n",
              " 'f': 'v',\n",
              " 'g': 'x',\n",
              " 'h': 'i',\n",
              " 'i': 'c',\n",
              " 'j': 'p',\n",
              " 'k': 's',\n",
              " 'l': '4',\n",
              " 'm': '8',\n",
              " 'n': 'z',\n",
              " 'ñ': '1',\n",
              " 'o': 'o',\n",
              " 'p': 't',\n",
              " 'q': '9',\n",
              " 'r': 'y',\n",
              " 's': 'q',\n",
              " 't': '3',\n",
              " 'u': 'k',\n",
              " 'v': 'm',\n",
              " 'w': ' ',\n",
              " 'x': '7',\n",
              " 'y': 'n',\n",
              " 'z': 'e',\n",
              " '0': 'a',\n",
              " '1': 'u',\n",
              " '2': 'ñ',\n",
              " '3': '6',\n",
              " '4': 'f',\n",
              " '5': 'r',\n",
              " '6': 'b',\n",
              " '7': '0',\n",
              " '8': 'g',\n",
              " '9': 'd',\n",
              " ' ': 'j'}"
            ]
          },
          "metadata": {},
          "execution_count": 30
        }
      ]
    },
    {
      "cell_type": "code",
      "source": [
        "decoded0 =code(cipher_text, clave0) # decodificamos\n",
        "decoded0"
      ],
      "metadata": {
        "colab": {
          "base_uri": "https://localhost:8080/",
          "height": 174
        },
        "id": "X0KGp6CC-Pue",
        "outputId": "b00957e5-d1ac-4fa6-c085-a5c654b99d49"
      },
      "execution_count": 31,
      "outputs": [
        {
          "output_type": "execute_result",
          "data": {
            "text/plain": [
              "'6yxfp897bp89rn8ayn895wn3ln97s9ansplp39rn95y8 s76 n3lp9ns9xpwp3ns97ywns 73p91yn3r 79f71 79rn9wnxpwr7w97eynss79l7wrn9wn6pl79n39eyn98y9a7rwn9sp9ssndp979xp3pxnw9ns9f nsp967xp3rp9nw79n3lp3xn89y3797srn79rn9dn 3ln9x78789rn917wwp9m9x7b71w7d79xp38lwy r78979s79pw ss79rn9y39w p9rn97gy789r 7573789eyn98n9awnx a l71739apw9y39snxfp9rn9a nrw789ays r7891s73x789m9n3pw6n89xp6p9fyndp89awnf 8lpw xp89ns96y3rp9nw79l739wnx n3ln9eyn96yxf789xp8789x7wnx 739rn93p61wn9m9a7w796n3x p37ws789f71 79eyn98nb7s7w 789xp39ns9rnrp9lprp89sp897bp89apw9ns96n89rn967wop9y379576 s 79rn9g l73p89rn87ww7a7rp89as73l71798y9x7wa79xnwx79rn9s797srn79m9xp39y39gw73rn97s1pwplp9rn9a lp89m9l 617sn89r7173979xp3pxnw9sp893yndp89 3dn3lp89aw 6nwp9ssnd7wp39ns9 6739y39g l73p9xpwaysn3lp9rn917w1796p3l7w7o9m9673p89rn9gpww p39eyn98n9awn8n3lp9xp39ns93p61wn9rn96nsey 7rn89f op9y379lwyxysn3l79rn6p8lw7x p39ay1s x79rn9sp9eyn9ns96 86p9ss767179s79pxl7d7967w7d ss79rn9sp89871 p897sey 6 8l789rn967xnrp3 795yn9rn9x7879n39x78797ww78lw73rp9rp89s 3gpln896nl7s xp89m9lprp9ns96y3rp98n9n8a73lp97s9dnw9eyn9sp89x7srnwp89s789a7 s789s789ln37o789m9sp897375n898n9x7 739rn98y98 l p9m9s78967rnw789xwyq 739apw9s79rn8n8anw7x p39rn9sp89xs7dp89m9sp89lpw3 ssp89lw7l73rp9rn9rn8n3xs7d7w8n9m97y39sp89p1qnlp89anwr rp89rn8rn9f7x 796yxfp9l n6ap97a7wnx 739apw9rp3rn967898n9sn89f71 791y8x7rp9m98n97ww78lw71739n39rn8173r7r79lyw1ysn3l79rnlw789rn9sp895 nwwp8967g xp89rn96nsey 7rn8'"
            ],
            "application/vnd.google.colaboratory.intrinsic+json": {
              "type": "string"
            }
          },
          "metadata": {},
          "execution_count": 31
        }
      ]
    },
    {
      "cell_type": "code",
      "source": [
        "log_p0 = goodness(decoded0, bigram_table)  # evaluamos\n",
        "log_p0"
      ],
      "metadata": {
        "colab": {
          "base_uri": "https://localhost:8080/"
        },
        "id": "GQljSD2J-5GH",
        "outputId": "300e1119-6c03-4d3f-8984-5f1f3060507f"
      },
      "execution_count": 32,
      "outputs": [
        {
          "output_type": "execute_result",
          "data": {
            "text/plain": [
              "-34440.49418719469"
            ]
          },
          "metadata": {},
          "execution_count": 32
        }
      ]
    },
    {
      "cell_type": "code",
      "source": [
        "pair = random.sample(alphabet, 2)\n",
        "pair[0], pair[1]"
      ],
      "metadata": {
        "colab": {
          "base_uri": "https://localhost:8080/"
        },
        "id": "tXV_1TFWo-XD",
        "outputId": "3aea2874-d214-4f4a-c2a0-7c52461431fe"
      },
      "execution_count": 33,
      "outputs": [
        {
          "output_type": "execute_result",
          "data": {
            "text/plain": [
              "('e', '4')"
            ]
          },
          "metadata": {},
          "execution_count": 33
        }
      ]
    },
    {
      "cell_type": "code",
      "source": [
        "clave0[pair[0]] ,clave0[pair[1]]"
      ],
      "metadata": {
        "colab": {
          "base_uri": "https://localhost:8080/"
        },
        "id": "SHRffzOMqZZ7",
        "outputId": "187a0f62-f864-4749-97d0-cbc14caee0f6"
      },
      "execution_count": 34,
      "outputs": [
        {
          "output_type": "execute_result",
          "data": {
            "text/plain": [
              "('2', 'f')"
            ]
          },
          "metadata": {},
          "execution_count": 34
        }
      ]
    },
    {
      "cell_type": "code",
      "source": [
        "clave1 = clave0.copy()\n",
        "clave1[pair[0]] = clave0[pair[1]]\n",
        "clave1[pair[1]] = clave0[pair[0]]\n",
        "clave1"
      ],
      "metadata": {
        "colab": {
          "base_uri": "https://localhost:8080/"
        },
        "id": "fc8a-VnPrCkL",
        "outputId": "fc55d2c5-ce69-43d8-d45f-f451a0d3db6e"
      },
      "execution_count": 35,
      "outputs": [
        {
          "output_type": "execute_result",
          "data": {
            "text/plain": [
              "{'a': 'w',\n",
              " 'b': 'h',\n",
              " 'c': '5',\n",
              " 'd': 'l',\n",
              " 'e': 'f',\n",
              " 'f': 'v',\n",
              " 'g': 'x',\n",
              " 'h': 'i',\n",
              " 'i': 'c',\n",
              " 'j': 'p',\n",
              " 'k': 's',\n",
              " 'l': '4',\n",
              " 'm': '8',\n",
              " 'n': 'z',\n",
              " 'ñ': '1',\n",
              " 'o': 'o',\n",
              " 'p': 't',\n",
              " 'q': '9',\n",
              " 'r': 'y',\n",
              " 's': 'q',\n",
              " 't': '3',\n",
              " 'u': 'k',\n",
              " 'v': 'm',\n",
              " 'w': ' ',\n",
              " 'x': '7',\n",
              " 'y': 'n',\n",
              " 'z': 'e',\n",
              " '0': 'a',\n",
              " '1': 'u',\n",
              " '2': 'ñ',\n",
              " '3': '6',\n",
              " '4': '2',\n",
              " '5': 'r',\n",
              " '6': 'b',\n",
              " '7': '0',\n",
              " '8': 'g',\n",
              " '9': 'd',\n",
              " ' ': 'j'}"
            ]
          },
          "metadata": {},
          "execution_count": 35
        }
      ]
    },
    {
      "cell_type": "code",
      "source": [
        "decoded1 =code(cipher_text, clave1) # decodificamos\n",
        "decoded1"
      ],
      "metadata": {
        "colab": {
          "base_uri": "https://localhost:8080/",
          "height": 174
        },
        "outputId": "c04de5ad-8ea2-4a6b-9475-09027ed5363c",
        "id": "IQ9-ca5l_0sg"
      },
      "execution_count": 36,
      "outputs": [
        {
          "output_type": "execute_result",
          "data": {
            "text/plain": [
              "'6yx2p897bp89rn8ayn895wn3ln97s9ansplp39rn95y8 s76 n3lp9ns9xpwp3ns97ywns 73p91yn3r 79271 79rn9wnxpwr7w97eynss79l7wrn9wn6pl79n39eyn98y9a7rwn9sp9ssndp979xp3pxnw9ns92 nsp967xp3rp9nw79n3lp3xn89y3797srn79rn9dn 3ln9x78789rn917wwp9m9x7b71w7d79xp38lwy r78979s79pw ss79rn9y39w p9rn97gy789r 7573789eyn98n9awnx a l71739apw9y39snx2p9rn9a nrw789ays r7891s73x789m9n3pw6n89xp6p92yndp89awn2 8lpw xp89ns96y3rp9nw79l739wnx n3ln9eyn96yx2789xp8789x7wnx 739rn93p61wn9m9a7w796n3x p37ws789271 79eyn98nb7s7w 789xp39ns9rnrp9lprp89sp897bp89apw9ns96n89rn967wop9y379576 s 79rn9g l73p89rn87ww7a7rp89as73l71798y9x7wa79xnwx79rn9s797srn79m9xp39y39gw73rn97s1pwplp9rn9a lp89m9l 617sn89r7173979xp3pxnw9sp893yndp89 3dn3lp89aw 6nwp9ssnd7wp39ns9 6739y39g l73p9xpwaysn3lp9rn917w1796p3l7w7o9m9673p89rn9gpww p39eyn98n9awn8n3lp9xp39ns93p61wn9rn96nsey 7rn892 op9y379lwyxysn3l79rn6p8lw7x p39ay1s x79rn9sp9eyn9ns96 86p9ss767179s79pxl7d7967w7d ss79rn9sp89871 p897sey 6 8l789rn967xnrp3 795yn9rn9x7879n39x78797ww78lw73rp9rp89s 3gpln896nl7s xp89m9lprp9ns96y3rp98n9n8a73lp97s9dnw9eyn9sp89x7srnwp89s789a7 s789s789ln37o789m9sp897375n898n9x7 739rn98y98 l p9m9s78967rnw789xwyq 739apw9s79rn8n8anw7x p39rn9sp89xs7dp89m9sp89lpw3 ssp89lw7l73rp9rn9rn8n3xs7d7w8n9m97y39sp89p1qnlp89anwr rp89rn8rn927x 796yx2p9l n6ap97a7wnx 739apw9rp3rn967898n9sn89271 791y8x7rp9m98n97ww78lw71739n39rn8173r7r79lyw1ysn3l79rnlw789rn9sp895 nwwp8967g xp89rn96nsey 7rn8'"
            ],
            "application/vnd.google.colaboratory.intrinsic+json": {
              "type": "string"
            }
          },
          "metadata": {},
          "execution_count": 36
        }
      ]
    },
    {
      "cell_type": "code",
      "source": [
        "log_p1 = goodness(decoded1, bigram_table)  # evaluamos\n",
        "log_p1"
      ],
      "metadata": {
        "colab": {
          "base_uri": "https://localhost:8080/"
        },
        "outputId": "4a64d688-94dd-431a-cac8-c704da41b64e",
        "id": "18QLwwLJ_0sg"
      },
      "execution_count": 37,
      "outputs": [
        {
          "output_type": "execute_result",
          "data": {
            "text/plain": [
              "-34530.50624395321"
            ]
          },
          "metadata": {},
          "execution_count": 37
        }
      ]
    },
    {
      "cell_type": "markdown",
      "source": [
        "En base a lo anterior ¿Aceptamos la nueva clave propuesta?"
      ],
      "metadata": {
        "id": "ciroJbtIAJpe"
      }
    },
    {
      "cell_type": "markdown",
      "source": [
        "## Algoritmo completo"
      ],
      "metadata": {
        "id": "g3C0k_ZmBfZG"
      }
    },
    {
      "cell_type": "code",
      "execution_count": 38,
      "metadata": {
        "id": "SiCt0FxCYr7h"
      },
      "outputs": [],
      "source": [
        "def transpose_random(key):\n",
        "    pair = random.sample(alphabet, 2)\n",
        "    new_key = dict(key)\n",
        "    new_key[pair[0]] = key[pair[1]]\n",
        "    new_key[pair[1]] = key[pair[0]]\n",
        "    return new_key\n",
        "\n",
        "def decode(cipher_text, bigram_table, iters = 10000, print_every = 1000):\n",
        "    # 1. inicializamos con una clave aleatoria\n",
        "    current_key = make_random_key()  \n",
        "\n",
        "    for i in range(0, iters):  # en cada iteración utilizaremos una nueva clave\n",
        "\n",
        "        # 2. decodificamos la secuencia con la clave\n",
        "        decoded = code(cipher_text, current_key) \n",
        "\n",
        "        if i % print_every == 0:\n",
        "            print(str(i) + \"\\t\" + decoded + \"\\n\")\n",
        "\n",
        "        # 3. evaluamos la secuencia utilizando el modelo de bigramas \n",
        "        score = goodness(decoded, bigram_table)   \n",
        "               \n",
        "        # 4. proponemos una nueva clave \"cercana\"\n",
        "        changed_key = transpose_random(current_key) \n",
        "\n",
        "        # 5. evaluamos la nueva clave decodificando la secuencia  \n",
        "        changed_score = goodness(code(cipher_text, changed_key), bigram_table)  # evaluamos la secuencia con la nueva clave propuesta\n",
        "\n",
        "        # 6.1 si la clave propuesta da mejores resultados nos quedamos con ella para la prox iteración\n",
        "        if changed_score > score:   \n",
        "            current_key = changed_key\n",
        "\n",
        "        # damos oportunidad proporcional a la relación entre la probabilidad de las dos secuencias evaluadas \n",
        "        else:  \n",
        "            diff = changed_score - score\n",
        "            if math.log(random.random())  < diff:\n",
        "                current_key = changed_key\n",
        "\n",
        "    decoded = code(cipher_text, current_key)\n",
        "    print(\"Final decoded: \" + decoded)\n",
        "    return decoded"
      ]
    },
    {
      "cell_type": "code",
      "execution_count": 39,
      "metadata": {
        "id": "rT7ZraMAYr7h",
        "outputId": "a4ac1e91-b8ca-49c0-8285-9b5d5dc25482",
        "colab": {
          "base_uri": "https://localhost:8080/",
          "height": 559
        }
      },
      "outputs": [
        {
          "output_type": "stream",
          "name": "stdout",
          "text": [
            "0\tmplywn20hwn2v5nzp5n2ab5 452082z58w4w 2v52apno80mo5 4w2582lwbw 5820pb58o0 w2sp5 vo02y0so02v52b5lwbv0b20tp5880240bv52b5mw4025 2tp52np2z0vb528w28856w202lw wl5b2582yo58w2m0lw vw25b025 4w l5n2p 0208v502v5265o 452l0n0n2v52s0bbw2g2l0h0sb0602lw n4bpov0n202802wbo8802v52p 2bow2v5203p0n2vo0a0 0n2tp52n52zb5lozo40s0 2zwb2p 285lyw2v52zo5vb0n2zp8ov0n2s80 l0n2g25 wbm5n2lwmw2yp56wn2zb5yon4wbolwn2582mp vw25b0240 2b5lo5 452tp52mply0n2lwn0n2l0b5lo0 2v52 wmsb52g2z0b02m5 low 0b80n2y0so02tp52n5h080bo0n2lw 2582v5vw24wvwn28wn20hwn2zwb2582m5n2v52m0buw2p 02a0mo8o02v523o40 wn2v5n0bb0z0vwn2z80 40s02np2l0bz02l5bl02v5280208v502g2lw 2p 23b0 v5208swbw4w2v52zo4wn2g24oms085n2v0s0 202lw wl5b28wn2 p56wn2o 65 4wn2zbom5bw288560bw 2582om0 2p 23o40 w2lwbzp85 4w2v52s0bs02mw 40b0u2g2m0 wn2v523wbbow 2tp52n52zb5n5 4w2lw 2582 wmsb52v52m58tpo0v5n2youw2p 024bplp85 402v5mwn4b0low 2zps8ol02v528w2tp52582monmw2880m0s02802wl40602m0b06o8802v528wn2n0sown208tpomon40n2v52m0l5vw o02ap52v52l0n025 2l0n020bb0n4b0 vw2vwn28o 3w45n2m5408olwn2g24wvw2582mp vw2n525nz0 4w208265b2tp528wn2l08v5bwn280n2z0o80n280n245 0u0n2g28wn20 0a5n2n52l0o0 2v52np2no4ow2g280n2m0v5b0n2lbpjo0 2zwb2802v5n5nz5b0low 2v528wn2l806wn2g28wn24wb o88wn24b040 vw2v52v5n5 l8060bn52g20p 28wn2wsj54wn2z5bvovwn2v5nv52y0lo02mplyw24o5mzw20z0b5lo0 2zwb2vw v52m0n2n5285n2y0so02spnl0vw2g2n520bb0n4b0s0 25 2v5ns0 v0v024pbsp85 402v54b0n2v528wn2ao5bbwn2m03olwn2v52m58tpo0v5n\n",
            "\n",
            "1000\tdinvus ahus posbios xrozgo al boluguz po xiseladeozgu ol nuruzol airoleazu ciozpea vacea po ronurpar atiolla garpo roduga oz tio si bapro lu lloju a nuzunor ol veolu danuzpu ora ozguznos iza alpoa po joezgo nasas po carru y nahacraja nuzsgriepas a la urella po iz reu po afias peaxazas tio so bronebegacaz bur iz lonvu po beopras bilepas claznas y ozurdos nudu viojus brovesgurenus ol dizpu ora gaz roneozgo tio dinvas nusas naroneaz po zudcro y bara dozneuzarlas vacea tio sohalareas nuz ol popu gupus lus ahus bur ol dos po darmu iza xadelea po fegazus posarrabapus blazgaca si narba norna po la alpoa y nuz iz frazpo alcurugu po begus y gedcalos pacaz a nuzunor lus ziojus ezjozgus bredoru llojaruz ol edaz iz fegazu nurbilozgu po carca duzgaram y dazus po furreuz tio so brosozgu nuz ol zudcro po doltieapos vemu iza grinilozga podusgraneuz biclena po lu tio ol desdu lladaca la ungaja darajella po lus saceus altiedesgas po danopuzea xio po nasa oz nasa arrasgrazpu pus lezfugos dogalenus y gupu ol dizpu so osbazgu al jor tio lus nalporus las baelas las gozamas y lus azaxos so naeaz po si segeu y las daporas nriñeaz bur la pososboraneuz po lus nlajus y lus gurzellus gragazpu po posoznlajarso y aiz lus ucñogus borpepus pospo vanea dinvu geodbu abaroneaz bur puzpo das so los vacea cisnapu y so arrasgracaz oz poscazpapa gircilozga pogras po lus xeorrus dafenus po doltieapos\n",
            "\n",
            "2000\tmiztos ahos cespies xrenge al pelogon ce xisulamuengo el zoronel aireluano biencua tabua ce rezorcar aviella garce remoga en vie si pacre lo llejo a zonozer el tuelo mazonco era engonzes ina alcea ce jeunge zasas ce barro y zahabraja zonsgriucas a la orulla ce in ruo ce adias cuaxanas vie se prezupugaban por in lezto ce puecras pilucas blanzas y enormes zomo tiejos pretusgoruzos el minco era gan rezuenge vie miztas zosas zarezuan ce nombre y para menzuonarlas tabua vie sehalaruas zon el ceco gocos los ahos por el mes ce marfo ina xamulua ce duganos cesarrapacos plangaba si zarpa zerza ce la alcea y zon in drance alborogo ce pugos y gumbales caban a zonozer los niejos unjengos prumero llejaron el uman in dugano zorpilengo ce barba mongaraf y manos ce dorruon vie se presengo zon el nombre ce melviuaces tufo ina grizilenga cemosgrazuon pibluza ce lo vie el musmo llamaba la ozgaja marajulla ce los sabuos alviumusgas ce mazeconua xie ce zasa en zasa arrasgranco cos lundoges megaluzos y goco el minco se espango al jer vie los zalceros las paulas las genafas y los anaxes se zauan ce si suguo y las maceras zriñuan por la cesesperazuon ce los zlajos y los gornullos graganco ce cesenzlajarse y ain los obñegos percucos cesce tazua mizto guempo aparezuan por conce mas se les tabua biszaco y se arrasgraban en cesbancaca girbilenga cegras ce los xuerros maduzos ce melviuaces\n",
            "\n",
            "3000\tmuchos años despues grente al peloton de gusilamiento el coronel aureliano buendia habia de recordar ajuella tarde remota en jue su padre lo llevo a conocer el hielo macondo era entonces una aldea de veinte casas de barro y cañabrava construidas a la orilla de un rio de afuas diaganas jue se precipitaban por un lecho de piedras pulidas blancas y enormes como huevos prehistoricos el mundo era tan reciente jue muchas cosas carecian de nombre y para mencionarlas habia jue señalarias con el dedo todos los años por el mes de marzo una gamilia de fitanos desarrapados plantaba su carpa cerca de la aldea y con un frande alboroto de pitos y timbales daban a conocer los nuevos inventos primero llevaron el iman un fitano corpulento de barba montaraz y manos de forrion jue se presento con el nombre de meljuiades hizo una truculenta demostracion publica de lo jue el mismo llamaba la octava maravilla de los sabios aljuimistas de macedonia gue de casa en casa arrastrando dos linfotes metalicos y todo el mundo se espanto al ver jue los calderos las pailas las tenazas y los anages se caian de su sitio y las maderas cruxian por la desesperacion de los clavos y los tornillos tratando de desenclavarse y aun los obxetos perdidos desde hacia mucho tiempo aparecian por donde mas se les habia buscado y se arrastraban en desbandada turbulenta detras de los gierros maficos de meljuiades\n",
            "\n",
            "4000\tmuchos años despues frente al peloton de fusilamiento el coronel aureliano buendia habia de recordar ajuella tarde remota en jue su padre lo llevo a conocer el hielo macondo era entonces una aldea de veinte casas de barro y cañabrava construidas a la orilla de un rio de aguas diafanas jue se precipitaban por un lecho de piedras pulidas blancas y enormes como huevos prehistoricos el mundo era tan reciente jue muchas cosas carecian de nombre y para mencionarlas habia jue señalarias con el dedo todos los años por el mes de marzo una familia de gitanos desarrapados plantaba su carpa cerca de la aldea y con un grande alboroto de pitos y timbales daban a conocer los nuevos inventos primero llevaron el iman un gitano corpulento de barba montaraz y manos de gorrion jue se presento con el nombre de meljuiades hizo una truculenta demostracion publica de lo jue el mismo llamaba la octava maravilla de los sabios aljuimistas de macedonia fue de casa en casa arrastrando dos lingotes metalicos y todo el mundo se espanto al ver jue los calderos las pailas las tenazas y los anafes se caian de su sitio y las maderas cruxian por la desesperacion de los clavos y los tornillos tratando de desenclavarse y aun los obxetos perdidos desde hacia mucho tiempo aparecian por donde mas se les habia buscado y se arrastraban en desbandada turbulenta detras de los fierros magicos de meljuiades\n",
            "\n",
            "5000\tmuchos años despues frente al peloton de fusilamiento el coronel aureliano buendia habia de recordar avuella tarde remota en vue su padre lo llejo a conocer el hielo macondo era entonces una aldea de jeinte casas de barro y cañabraja construidas a la orilla de un rio de aguas diafanas vue se precipitaban por un lecho de piedras pulidas blancas y enormes como huejos prehistoricos el mundo era tan reciente vue muchas cosas carecian de nombre y para mencionarlas habia vue señalarias con el dedo todos los años por el mes de marzo una familia de gitanos desarrapados plantaba su carpa cerca de la aldea y con un grande alboroto de pitos y timbales daban a conocer los nuejos injentos primero llejaron el iman un gitano corpulento de barba montaraz y manos de gorrion vue se presento con el nombre de melvuiades hizo una truculenta demostracion publica de lo vue el mismo llamaba la octaja marajilla de los sabios alvuimistas de macedonia fue de casa en casa arrastrando dos lingotes metalicos y todo el mundo se espanto al jer vue los calderos las pailas las tenazas y los anafes se caian de su sitio y las maderas cruxian por la desesperacion de los clajos y los tornillos tratando de desenclajarse y aun los obxetos perdidos desde hacia mucho tiempo aparecian por donde mas se les habia buscado y se arrastraban en desbandada turbulenta detras de los fierros magicos de melvuiades\n",
            "\n",
            "6000\tmuchos años despues frente al peloton de fusilamiento el coronel aureliano buendia habia de recordar avuella tarde remota en vue su padre lo llejo a conocer el hielo macondo era entonces una aldea de jeinte casas de barro y cañabraja construidas a la orilla de un rio de aguas diafanas vue se precipitaban por un lecho de piedras pulidas blancas y enormes como huejos prehistoricos el mundo era tan reciente vue muchas cosas carecian de nombre y para mencionarlas habia vue señalarias con el dedo todos los años por el mes de marzo una familia de gitanos desarrapados plantaba su carpa cerca de la aldea y con un grande alboroto de pitos y timbales daban a conocer los nuejos injentos primero llejaron el iman un gitano corpulento de barba montaraz y manos de gorrion vue se presento con el nombre de melvuiades hizo una truculenta demostracion publica de lo vue el mismo llamaba la octaja marajilla de los sabios alvuimistas de macedonia fue de casa en casa arrastrando dos lingotes metalicos y todo el mundo se espanto al jer vue los calderos las pailas las tenazas y los anafes se caian de su sitio y las maderas cruxian por la desesperacion de los clajos y los tornillos tratando de desenclajarse y aun los obxetos perdidos desde hacia mucho tiempo aparecian por donde mas se les habia buscado y se arrastraban en desbandada turbulenta detras de los fierros magicos de melvuiades\n",
            "\n",
            "7000\tmuchos años despues frente al peloton de fusilamiento el coronel aureliano buendia habia de recordar avuella tarde remota en vue su padre lo llejo a conocer el hielo macondo era entonces una aldea de jeinte casas de barro y cañabraja construidas a la orilla de un rio de aguas diafanas vue se precipitaban por un lecho de piedras pulidas blancas y enormes como huejos prehistoricos el mundo era tan reciente vue muchas cosas carecian de nombre y para mencionarlas habia vue señalarias con el dedo todos los años por el mes de marzo una familia de gitanos desarrapados plantaba su carpa cerca de la aldea y con un grande alboroto de pitos y timbales daban a conocer los nuejos injentos primero llejaron el iman un gitano corpulento de barba montaraz y manos de gorrion vue se presento con el nombre de melvuiades hizo una truculenta demostracion publica de lo vue el mismo llamaba la octaja marajilla de los sabios alvuimistas de macedonia fue de casa en casa arrastrando dos lingotes metalicos y todo el mundo se espanto al jer vue los calderos las pailas las tenazas y los anafes se caian de su sitio y las maderas cruxian por la desesperacion de los clajos y los tornillos tratando de desenclajarse y aun los obxetos perdidos desde hacia mucho tiempo aparecian por donde mas se les habia buscado y se arrastraban en desbandada turbulenta detras de los fierros magicos de melvuiades\n",
            "\n",
            "8000\tmuchos años despues frente al peloton de fusilamiento el coronel aureliano buendia habia de recordar avuella tarde remota en vue su padre lo llejo a conocer el hielo macondo era entonces una aldea de jeinte casas de barro y cañabraja construidas a la orilla de un rio de aguas diafanas vue se precipitaban por un lecho de piedras pulidas blancas y enormes como huejos prehistoricos el mundo era tan reciente vue muchas cosas carecian de nombre y para mencionarlas habia vue señalarias con el dedo todos los años por el mes de marzo una familia de gitanos desarrapados plantaba su carpa cerca de la aldea y con un grande alboroto de pitos y timbales daban a conocer los nuejos injentos primero llejaron el iman un gitano corpulento de barba montaraz y manos de gorrion vue se presento con el nombre de melvuiades hizo una truculenta demostracion publica de lo vue el mismo llamaba la octaja marajilla de los sabios alvuimistas de macedonia fue de casa en casa arrastrando dos lingotes metalicos y todo el mundo se espanto al jer vue los calderos las pailas las tenazas y los anafes se caian de su sitio y las maderas cruxian por la desesperacion de los clajos y los tornillos tratando de desenclajarse y aun los obxetos perdidos desde hacia mucho tiempo aparecian por donde mas se les habia buscado y se arrastraban en desbandada turbulenta detras de los fierros magicos de melvuiades\n",
            "\n",
            "9000\tmuchos años despues frente al peloton de fusilamiento el coronel aureliano buendia habia de recordar avuella tarde remota en vue su padre lo llejo a conocer el hielo macondo era entonces una aldea de jeinte casas de barro y cañabraja construidas a la orilla de un rio de aguas diafanas vue se precipitaban por un lecho de piedras pulidas blancas y enormes como huejos prehistoricos el mundo era tan reciente vue muchas cosas carecian de nombre y para mencionarlas habia vue señalarias con el dedo todos los años por el mes de marzo una familia de gitanos desarrapados plantaba su carpa cerca de la aldea y con un grande alboroto de pitos y timbales daban a conocer los nuejos injentos primero llejaron el iman un gitano corpulento de barba montaraz y manos de gorrion vue se presento con el nombre de melvuiades hizo una truculenta demostracion publica de lo vue el mismo llamaba la octaja marajilla de los sabios alvuimistas de macedonia fue de casa en casa arrastrando dos lingotes metalicos y todo el mundo se espanto al jer vue los calderos las pailas las tenazas y los anafes se caian de su sitio y las maderas cruxian por la desesperacion de los clajos y los tornillos tratando de desenclajarse y aun los obxetos perdidos desde hacia mucho tiempo aparecian por donde mas se les habia buscado y se arrastraban en desbandada turbulenta detras de los fierros magicos de melvuiades\n",
            "\n",
            "Final decoded: muchos años despues frente al peloton de fusilamiento el coronel aureliano buendia habia de recordar avuella tarde remota en vue su padre lo llejo a conocer el hielo macondo era entonces una aldea de jeinte casas de barro y cañabraja construidas a la orilla de un rio de aguas diafanas vue se precipitaban por un lecho de piedras pulidas blancas y enormes como huejos prehistoricos el mundo era tan reciente vue muchas cosas carecian de nombre y para mencionarlas habia vue señalarias con el dedo todos los años por el mes de marzo una familia de gitanos desarrapados plantaba su carpa cerca de la aldea y con un grande alboroto de pitos y timbales daban a conocer los nuejos injentos primero llejaron el iman un gitano corpulento de barba montaraz y manos de gorrion vue se presento con el nombre de melvuiades hizo una truculenta demostracion publica de lo vue el mismo llamaba la octaja marajilla de los sabios alvuimistas de macedonia fue de casa en casa arrastrando dos lingotes metalicos y todo el mundo se espanto al jer vue los calderos las pailas las tenazas y los anafes se caian de su sitio y las maderas cruxian por la desesperacion de los clajos y los tornillos tratando de desenclajarse y aun los obxetos perdidos desde hacia mucho tiempo aparecian por donde mas se les habia buscado y se arrastraban en desbandada turbulenta detras de los fierros magicos de melvuiades\n"
          ]
        },
        {
          "output_type": "execute_result",
          "data": {
            "text/plain": [
              "'muchos años despues frente al peloton de fusilamiento el coronel aureliano buendia habia de recordar avuella tarde remota en vue su padre lo llejo a conocer el hielo macondo era entonces una aldea de jeinte casas de barro y cañabraja construidas a la orilla de un rio de aguas diafanas vue se precipitaban por un lecho de piedras pulidas blancas y enormes como huejos prehistoricos el mundo era tan reciente vue muchas cosas carecian de nombre y para mencionarlas habia vue señalarias con el dedo todos los años por el mes de marzo una familia de gitanos desarrapados plantaba su carpa cerca de la aldea y con un grande alboroto de pitos y timbales daban a conocer los nuejos injentos primero llejaron el iman un gitano corpulento de barba montaraz y manos de gorrion vue se presento con el nombre de melvuiades hizo una truculenta demostracion publica de lo vue el mismo llamaba la octaja marajilla de los sabios alvuimistas de macedonia fue de casa en casa arrastrando dos lingotes metalicos y todo el mundo se espanto al jer vue los calderos las pailas las tenazas y los anafes se caian de su sitio y las maderas cruxian por la desesperacion de los clajos y los tornillos tratando de desenclajarse y aun los obxetos perdidos desde hacia mucho tiempo aparecian por donde mas se les habia buscado y se arrastraban en desbandada turbulenta detras de los fierros magicos de melvuiades'"
            ],
            "application/vnd.google.colaboratory.intrinsic+json": {
              "type": "string"
            }
          },
          "metadata": {},
          "execution_count": 39
        }
      ],
      "source": [
        "decode(cipher_text, bigram_table, 10000)"
      ]
    },
    {
      "cell_type": "markdown",
      "metadata": {
        "id": "zi2Lqc5PYr7i"
      },
      "source": [
        "# Otros ejemplos"
      ]
    },
    {
      "cell_type": "code",
      "execution_count": 40,
      "metadata": {
        "colab": {
          "base_uri": "https://localhost:8080/",
          "height": 122
        },
        "outputId": "261ee06c-83c0-4bd1-d3fc-d31160d4fdbc",
        "id": "rrQsFuePH_po"
      },
      "outputs": [
        {
          "output_type": "execute_result",
          "data": {
            "text/plain": [
              "'dyt8jq0j5yajmxmqaxojtymq0xaxqgayyaqzryqykq0kxtydxq5ykqgrxkq9ytwxqykq0awtgw0wdjqyaxqykqxmdyajw5yqñq2ulqymdyqxmdyajw5yq4xqmw5jq9wmdjqmjkjqrtxq9yoqgjtqykqdykymgj0wjqytqun1nq0jaqrtqxmdajtj3jqdragjqymdyqxmdajtj3jq4wojqrtxq8axtq5y3jmdaxgwjtq5yqmrq5ymgrñaw3wytdjqytqrtqgjt8aymjqwtdyatxgwjtxkq5yqxmdajtj3wxq0yajqtx5wyqkyqgayvjqxqgxrmxq5yqmrq3xtyaxq5yq9ymdwaqkxmq0yamjtxmq3xvjaymqmjtqxmwqcykwo3ytdyq0xaxqkxqay0rdxgwjtq5ykqxmdyajw5yqñq2ulqrtq5wgdx5jaqdragjqw30rmjqxqmrq0ryñkjqñxsjq0ytxq5yq3ryadyqykq9ymdw5jqxqkxqyraj0yxqytdjtgymqykqxmdajtj3jq9jk9wjqxq5xaqgrytdxq5yqmrq5ymgrñaw3wytdjqytqunl1qvqgj3jqkrgwxqrtqdaxsyq3rvqyky8xtdyqdj5jqykq3rt5jqxgy0djqmrq5y3jmdaxgwjt'"
            ],
            "application/vnd.google.colaboratory.intrinsic+json": {
              "type": "string"
            }
          },
          "metadata": {},
          "execution_count": 40
        }
      ],
      "source": [
        "# El principito. Tomado de https://archive.org/stream/ElPrincipitoAntoineDeSaintExupery/El_principito-_Antoine_De_Saint_Exupery_djvu.txt\n",
        "\n",
        "plain_text = limpiar_texto(\n",
        "    \"\"\"Tengo poderosas razones para creer que el planeta del cual venía el principito era \n",
        "el asteroide B 612. Este asteroide ha sido visto sólo una vez con el telescopio en \n",
        "1909, por un astrónomo turco. \n",
        "Este astrónomo hizo una gran demostración de su descubrimiento en un congreso \n",
        "Internacional de Astronomía. Pero nadie le creyó a causa de su manera de vestir. \n",
        "Las personas mayores son así. Felizmente para la reputación del asteroide B 612, \n",
        "un dictador turco impuso a su pueblo, bajo pena de muerte, el vestido a la \n",
        "europea. Entonces el astrónomo volvió a dar cuenta de su descubrimiento en 1920 \n",
        "y como lucía un traje muy elegante, todo el mundo aceptó su demostración. \n",
        "\"\"\"\n",
        ")\n",
        "cipher_text = code(plain_text, key)\n",
        "cipher_text"
      ]
    },
    {
      "cell_type": "code",
      "execution_count": 43,
      "metadata": {
        "scrolled": false,
        "outputId": "229266b0-bd4c-4e52-c0f0-c3e551139d42",
        "colab": {
          "base_uri": "https://localhost:8080/",
          "height": 854
        },
        "id": "5og76b75H_px"
      },
      "outputs": [
        {
          "output_type": "stream",
          "name": "stdout",
          "text": [
            "0\t2v0cuenurv4ukfke4f5u0vkenf4fe84vv4esgvevjenjf0v2fervje8gfjeov0wfevjen4w08wnw2uev4fevjefk2v4uwrvetex6pevk2vefk2v4uwrvezfekwrueowk2uekujueg0feov5e8u0evje2vjvk8unwuev0e6i7ienu4eg0efk24u0uaue2g48uevk2vefk24u0uauezw5ueg0fec4f0ervauk24f8wu0ervekgervk8gt4wawv02uev0eg0e8u0c4vkuew02v40f8wu0fjervefk24u0uawfenv4ue0frwvejve84vhuefe8fgkfervekgeaf0v4ferveovk2w4ejfkenv4ku0fkeafhu4vkeku0efkweqvjw5av02venf4fejfe4vng2f8wu0ervjefk2v4uwrvetex6peg0erw82fru4e2g48uewangkuefekgengvtjuetfduenv0ferveagv42vevjeovk2wruefejfevg4unvfev02u08vkevjefk24u0uaueoujowueferf4e8gv02fervekgervk8gt4wawv02uev0e6ip7ehe8uauejg8wfeg0e24fdveaghevjvcf02ve2uruevjeag0ruef8vn2uekgervauk24f8wu0\n",
            "\n",
            "1000\ttasfeibevaren nir xesanib r ilraariñoaiadibd sat ivadilo dijasu iadibruslubuteiar iadi ntareuvaicig60iantai ntareuvaiz inuveijunteinedeios ijaxilesiaditadanlebueiasi6151iberiosi ntresemeitorleiantai ntresemeizuxeios ifr sivamentr luesivainoivanlocrumuasteiasiosilesfraneiustars lues divai ntresemu ibareis vuaidailrapei il on ivainoim sar ivaijanturid nibarnes nim peraninesi nuihaduxmastaib r id irabot luesivadi ntareuvaicig60iosivult veritorleiumbonei inoiboacdeic yeibas ivaimoartaiadijantuvei id iaoreba iasteslaniadi ntresemeijedjuei iv riloast ivainoivanlocrumuasteiasi6105ipilemeidolu iositr yaimopiadaf staiteveiadimosvei labteinoivamentr lues\n",
            "\n",
            "2000\ttespa daferanin rixasen diri creer zoe el dliseti fel coil hesui el druscuduta eri el interaufe b q10 ente interaufe vi nufa hunta nala osi hex cas el telencadua es 1646 dar os intrasama torca ente intrasama vuxa osi pris femantricuas fe no fencobrumuesta es os casprena ustersicuasil fe intrasamui dera sifue le creya i cioni fe no miseri fe hentur lin dernasin miyaren nas inu geluxmeste diri li redoticuas fel interaufe b q10 os fuctifar torca umdona i no doebla bija desi fe moerte el hentufa i li eoradei estascen el intrasama halhua i fir coesti fe no fencobrumuesta es 1604 y cama locui os trije moy elepiste tafa el mosfa icedta no femantricuas\n",
            "\n",
            "3000\ttesfa paderanin rigasen piri creer zoe el pliseti del coil vesui el pruscuputa eri el interaude b q10 ente interaude hi nuda vunta nala osi veg cas el telencapua es 1646 par os intrasama torca ente intrasama huga osi fris demantricuas de no dencobrumuesta es os casfrena ustersicuasil de intrasamui pera sidue le creya i cioni de no miseri de ventur lin pernasin miyaren nas inu xelugmeste piri li repoticuas del interaude b q10 os ductidar torca umpona i no poebla bija pesi de moerte el ventuda i li eorapei estascen el intrasama valvua i dir coesti de no dencobrumuesta es 1604 y cama locui os trije moy elefiste tada el mosda icepta no demantricuas\n",
            "\n",
            "4000\ttesbo poderonan razosen para creer fue el plaseta del cual vesia el priscipito era el anteroide g q10 ente anteroide ha nido vinto nolo usa vez cos el telencopio es 1646 por us antrosomo turco ente antrosomo hizo usa bras demontracios de nu dencugrimiesto es us cosbreno istersaciosal de antrosomia pero sadie le creyo a cauna de nu masera de ventir lan pernosan mayoren nos ani xelizmeste para la reputacios del anteroide g q10 us dictador turco impuno a nu pueglo gajo pesa de muerte el ventido a la europea estoscen el antrosomo volvio a dar cuesta de nu dencugrimiesto es 1604 y como lucia us traje muy elebaste todo el musdo acepto nu demontracios\n",
            "\n",
            "5000\ttesfo poderonan razosen para creer bue el plaseta del cual vesia el priscipito era el anteroide g q10 ente anteroide ha nido vinto nolo usa vez cos el telencopio es 1646 por us antrosomo turco ente antrosomo hizo usa fras demontracios de nu dencugrimiesto es us cosfreno istersaciosal de antrosomia pero sadie le creyo a cauna de nu masera de ventir lan pernosan mayoren nos ani xelizmeste para la reputacios del anteroide g q10 us dictador turco impuno a nu pueglo gaño pesa de muerte el ventido a la europea estoscen el antrosomo volvio a dar cuesta de nu dencugrimiesto es 1604 y como lucia us trañe muy elefaste todo el musdo acepto nu demontracios\n",
            "\n",
            "6000\ttengo poderosas razones para creer hue el planeta del cual venia el principito era el asteroide f q10 este asteroide ba sido visto solo una vez con el telescopio en 1646 por un astronomo turco este astronomo bizo una gran demostracion de su descufrimiento en un congreso internacional de astronomia pero nadie le creyo a causa de su manera de vestir las personas mayores son asi xelizmente para la reputacion del asteroide f q10 un dictador turco impuso a su pueflo fajo pena de muerte el vestido a la europea entonces el astronomo volvio a dar cuenta de su descufrimiento en 1604 y como lucia un traje muy elegante todo el mundo acepto su demostracion\n",
            "\n",
            "7000\ttengo poderosas razones para creer fue el planeta del cual venia el principito era el asteroide b q10 este asteroide ha sido visto solo una vez con el telescopio en 1646 por un astronomo turco este astronomo hizo una gran demostracion de su descubrimiento en un congreso internacional de astronomia pero nadie le creyo a causa de su manera de vestir las personas mayores son asi xelizmente para la reputacion del asteroide b q10 un dictador turco impuso a su pueblo bajo pena de muerte el vestido a la europea entonces el astronomo volvio a dar cuenta de su descubrimiento en 1604 y como lucia un traje muy elegante todo el mundo acepto su demostracion\n",
            "\n",
            "8000\ttengo poderosas razones para creer fue el planeta del cual venia el principito era el asteroide b q10 este asteroide ha sido visto solo una vez con el telescopio en 1646 por un astronomo turco este astronomo hizo una gran demostracion de su descubrimiento en un congreso internacional de astronomia pero nadie le creyo a causa de su manera de vestir las personas mayores son asi xelizmente para la reputacion del asteroide b q10 un dictador turco impuso a su pueblo bajo pena de muerte el vestido a la europea entonces el astronomo volvio a dar cuenta de su descubrimiento en 1604 y como lucia un traje muy elegante todo el mundo acepto su demostracion\n",
            "\n",
            "9000\ttengo poderosas razones para creer fue el planeta del cual venia el principito era el asteroide b q10 este asteroide ha sido visto solo una vez con el telescopio en 1646 por un astronomo turco este astronomo hizo una gran demostracion de su descubrimiento en un congreso internacional de astronomia pero nadie le creyo a causa de su manera de vestir las personas mayores son asi xelizmente para la reputacion del asteroide b q10 un dictador turco impuso a su pueblo bajo pena de muerte el vestido a la europea entonces el astronomo volvio a dar cuenta de su descubrimiento en 1604 y como lucia un traje muy elegante todo el mundo acepto su demostracion\n",
            "\n",
            "10000\ttengo poderosas razones para creer fue el planeta del cual venia el principito era el asteroide b q10 este asteroide ha sido visto solo una vez con el telescopio en 1646 por un astronomo turco este astronomo hizo una gran demostracion de su descubrimiento en un congreso internacional de astronomia pero nadie le creyo a causa de su manera de vestir las personas mayores son asi jelizmente para la reputacion del asteroide b q10 un dictador turco impuso a su pueblo baño pena de muerte el vestido a la europea entonces el astronomo volvio a dar cuenta de su descubrimiento en 1604 y como lucia un trañe muy elegante todo el mundo acepto su demostracion\n",
            "\n",
            "11000\ttengo poderosas razones para creer jue el planeta del cual venia el principito era el asteroide b q10 este asteroide ha sido visto solo una vez con el telescopio en 16x6 por un astronomo turco este astronomo hizo una gran demostracion de su descubrimiento en un congreso internacional de astronomia pero nadie le creyo a causa de su manera de vestir las personas mayores son asi felizmente para la reputacion del asteroide b q10 un dictador turco impuso a su pueblo baño pena de muerte el vestido a la europea entonces el astronomo volvio a dar cuenta de su descubrimiento en 160x y como lucia un trañe muy elegante todo el mundo acepto su demostracion\n",
            "\n",
            "12000\ttengo poderosas razones para creer jue el planeta del cual venia el principito era el asteroide b q10 este asteroide ha sido visto solo una vez con el telescopio en 16x6 por un astronomo turco este astronomo hizo una gran demostracion de su descubrimiento en un congreso internacional de astronomia pero nadie le creyo a causa de su manera de vestir las personas mayores son asi felizmente para la reputacion del asteroide b q10 un dictador turco impuso a su pueblo baño pena de muerte el vestido a la europea entonces el astronomo volvio a dar cuenta de su descubrimiento en 160x y como lucia un trañe muy elegante todo el mundo acepto su demostracion\n",
            "\n",
            "13000\ttengo poderosas razones para creer jue el planeta del cual venia el principito era el asteroide b q10 este asteroide ha sido visto solo una vez con el telescopio en 1646 por un astronomo turco este astronomo hizo una gran demostracion de su descubrimiento en un congreso internacional de astronomia pero nadie le creyo a causa de su manera de vestir las personas mayores son asi felizmente para la reputacion del asteroide b q10 un dictador turco impuso a su pueblo baño pena de muerte el vestido a la europea entonces el astronomo volvio a dar cuenta de su descubrimiento en 1604 y como lucia un trañe muy elegante todo el mundo acepto su demostracion\n",
            "\n",
            "14000\ttengo poderosas razones para creer jue el planeta del cual venia el principito era el asteroide b q10 este asteroide ha sido visto solo una vez con el telescopio en 1646 por un astronomo turco este astronomo hizo una gran demostracion de su descubrimiento en un congreso internacional de astronomia pero nadie le creyo a causa de su manera de vestir las personas mayores son asi felizmente para la reputacion del asteroide b q10 un dictador turco impuso a su pueblo baño pena de muerte el vestido a la europea entonces el astronomo volvio a dar cuenta de su descubrimiento en 1604 y como lucia un trañe muy elegante todo el mundo acepto su demostracion\n",
            "\n",
            "15000\ttengo poderosas razones para creer fue el planeta del cual venia el principito era el asteroide b q10 este asteroide ha sido visto solo una vez con el telescopio en 1646 por un astronomo turco este astronomo hizo una gran demostracion de su descubrimiento en un congreso internacional de astronomia pero nadie le creyo a causa de su manera de vestir las personas mayores son asi jelizmente para la reputacion del asteroide b q10 un dictador turco impuso a su pueblo baño pena de muerte el vestido a la europea entonces el astronomo volvio a dar cuenta de su descubrimiento en 1604 y como lucia un trañe muy elegante todo el mundo acepto su demostracion\n",
            "\n",
            "16000\ttengo poderosas razones para creer fue el planeta del cual venia el principito era el asteroide b q10 este asteroide ha sido visto solo una vez con el telescopio en 1646 por un astronomo turco este astronomo hizo una gran demostracion de su descubrimiento en un congreso internacional de astronomia pero nadie le creyo a causa de su manera de vestir las personas mayores son asi jelizmente para la reputacion del asteroide b q10 un dictador turco impuso a su pueblo baño pena de muerte el vestido a la europea entonces el astronomo volvio a dar cuenta de su descubrimiento en 1604 y como lucia un trañe muy elegante todo el mundo acepto su demostracion\n",
            "\n",
            "17000\ttengo poderosas razones para creer fue el planeta del cual venia el principito era el asteroide b q10 este asteroide ha sido visto solo una vez con el telescopio en 1646 por un astronomo turco este astronomo hizo una gran demostracion de su descubrimiento en un congreso internacional de astronomia pero nadie le creyo a causa de su manera de vestir las personas mayores son asi jelizmente para la reputacion del asteroide b q10 un dictador turco impuso a su pueblo baño pena de muerte el vestido a la europea entonces el astronomo volvio a dar cuenta de su descubrimiento en 1604 y como lucia un trañe muy elegante todo el mundo acepto su demostracion\n",
            "\n",
            "18000\ttengo poderosas razones para creer fue el planeta del cual venia el principito era el asteroide b q10 este asteroide ha sido visto solo una vez con el telescopio en 1646 por un astronomo turco este astronomo hizo una gran demostracion de su descubrimiento en un congreso internacional de astronomia pero nadie le creyo a causa de su manera de vestir las personas mayores son asi jelizmente para la reputacion del asteroide b q10 un dictador turco impuso a su pueblo baño pena de muerte el vestido a la europea entonces el astronomo volvio a dar cuenta de su descubrimiento en 1604 y como lucia un trañe muy elegante todo el mundo acepto su demostracion\n",
            "\n",
            "19000\ttengo poderosas razones para creer jue el planeta del cual venia el principito era el asteroide b q10 este asteroide ha sido visto solo una vez con el telescopio en 1646 por un astronomo turco este astronomo hizo una gran demostracion de su descubrimiento en un congreso internacional de astronomia pero nadie le creyo a causa de su manera de vestir las personas mayores son asi felizmente para la reputacion del asteroide b q10 un dictador turco impuso a su pueblo baño pena de muerte el vestido a la europea entonces el astronomo volvio a dar cuenta de su descubrimiento en 1604 y como lucia un trañe muy elegante todo el mundo acepto su demostracion\n",
            "\n",
            "Final decoded: tengo poderosas razones para creer fue el planeta del cual venia el principito era el asteroide b q10 este asteroide ha sido visto solo una vez con el telescopio en 16x6 por un astronomo turco este astronomo hizo una gran demostracion de su descubrimiento en un congreso internacional de astronomia pero nadie le creyo a causa de su manera de vestir las personas mayores son asi jelizmente para la reputacion del asteroide b q10 un dictador turco impuso a su pueblo baño pena de muerte el vestido a la europea entonces el astronomo volvio a dar cuenta de su descubrimiento en 160x y como lucia un trañe muy elegante todo el mundo acepto su demostracion\n"
          ]
        },
        {
          "output_type": "execute_result",
          "data": {
            "text/plain": [
              "'tengo poderosas razones para creer fue el planeta del cual venia el principito era el asteroide b q10 este asteroide ha sido visto solo una vez con el telescopio en 16x6 por un astronomo turco este astronomo hizo una gran demostracion de su descubrimiento en un congreso internacional de astronomia pero nadie le creyo a causa de su manera de vestir las personas mayores son asi jelizmente para la reputacion del asteroide b q10 un dictador turco impuso a su pueblo baño pena de muerte el vestido a la europea entonces el astronomo volvio a dar cuenta de su descubrimiento en 160x y como lucia un trañe muy elegante todo el mundo acepto su demostracion'"
            ],
            "application/vnd.google.colaboratory.intrinsic+json": {
              "type": "string"
            }
          },
          "metadata": {},
          "execution_count": 43
        }
      ],
      "source": [
        "decode(cipher_text, bigram_table, 20000)"
      ]
    },
    {
      "cell_type": "code",
      "execution_count": 44,
      "metadata": {
        "id": "KhpXMQiRYr7i",
        "colab": {
          "base_uri": "https://localhost:8080/",
          "height": 174
        },
        "outputId": "0a42a28e-979d-4a10-d216-4008d0cebdbb"
      },
      "outputs": [
        {
          "output_type": "execute_result",
          "data": {
            "text/plain": [
              "'rtq5wxqrtxqkwyñayqja8rkkjmxqvq9ykjoq9wjqgj3jqrtxqdjadr8xqgx3wtxñxq0jaqykqgx3wtjqvqmyqkyqxgyagjqkxqkwyñayqy30yojqxqñrakxamyq5yqkxqkytdwdr5q5ykqjdajqxtw3xkqvq5yqkxqkjt8wdr5q5yqmrmq0xdxmqmwtqy3ñxa8jqkxqdjadr8xqkyqaym0jt5wjqzryqymdxñxqmy8raxq5yqzryqxq0ymxaq5yqkxq8axtq9ykjgw5x5q5yqkxqkwyñayqyaxqgx0xoq5yq8xtxakxqytqrtxqgxaayaxqkxqkwyñayqmy8raxq5yqmrq9wgdjawxqvqgjtmw5yaxt5jqykqaydjqw30jmwñkyq5yq0ya5yaqxgy0djqx3ñjmq0w5wyajtqxqkxqojaaxqzryqmy6xkxaxqkxq3ydxqxqkjqzryqymdxqxgy0djqxkqw8rxkqzryqxkqgrya9jq0xaxqzryq4wgwyaxq5yqsryoqxkqkky8xaqykq5wxq5yqkxqgj30ydwgwjtqxkqy30yoxaqkxqgxaayaxqkxqkwyñayqvqkxqdjadr8xqmxkwyajtqxkq3wm3jqdwy30jqkxqdjadr8xqx9xtoxñxqmwtq5ydytyamyq0yajqkytdx3ytdyqkxqkwyñayqyaxq3rvq9ykjoqvq9wyt5jqzryqmxgxñxqrtxq8axtq9ytdxsxqxqkxqdjadr8xq5ygw5wjqwaq0xaxt5jmyqvq5ymgxtmxt5jq5yq9yoqytqgrxt5jq0yajqytqrtxq5yqkxmqjgxmwjtymqkxqkwyñayqmyqzry5jq5ja3w5xqkxqdjadr8xq0jgjqxq0jgjqmw8rwjqx9xtoxt5jqgrxt5jqkxqkwyñayq5ym0yadjqmyqytgjtdajqgjtqzryqkxqdjadr8xqymdxñxqxq0rtdjq5yqgaroxaqkxq3ydxqxrtzryqyg4jqxqgjaayaqcryq5y3xmwx5jqdxa5yqvqcwtxk3ytdyqkxqdjadr8xq8xtjqkxqgxaayaxqymdxqcxñrkxqtjmqytmy6xqzryqykqdaxñxsjq5rajqkxq0yamy9yaxtgwxqkxqgjtmdxtgwxqvqykqymcryaojqtjmqkky9xaxtqxqtrymdaxmq3ydxmqxrtzryqmyxq0jgjqxq0jgjqmwqtjqtjmqayt5w3jmqdx3ñwytqtjmq0ya3wdyq9yaqgj3jqkxqxaaj8xtgwxqkxqcxkdxq5yqgjtmdxtgwxqvqykqyhgymjq5yqmy8raw5x5qytqrtjq3wm3jqtjmq0ry5yqkky9xaqxq0ya5yaqj0jadrtw5x5ymqvqxqtjqxkgxtoxaqtrymdaxmq3ydxm'"
            ],
            "application/vnd.google.colaboratory.intrinsic+json": {
              "type": "string"
            }
          },
          "metadata": {},
          "execution_count": 44
        }
      ],
      "source": [
        "# La liebre y la tortuga. Tomado de https://psicologiaymente.com/cultura/fabulas-de-esopo\n",
        "\n",
        "plain_text = limpiar_texto(\n",
        "    \"\"\"Un día una liebre orgullosa y veloz, vió como una tortuga caminaba por el camino y se le acercó. La liebre empezó a burlarse de la lentitud del otro animal y de la longitud de sus patas. Sin embargo, la tortuga le respondió que estaba segura de que a pesar de la gran velocidad de la liebre era capaz de ganarla en una carrera.\n",
        "La liebre, segura de su victoria y considerando el reto imposible de perder, aceptó. Ambos pidieron a la zorra que señalara la meta, a lo que esta aceptó, al igual que al cuervo para que hiciera de juez.\n",
        "Al llegar el día de la competición, al empezar la carrera la liebre y la tortuga salieron al mismo tiempo. La tortuga avanzaba sin detenerse, pero lentamente.\n",
        "La liebre era muy veloz, y viendo que sacaba una gran ventaja a la tortuga decidió ir parándose y descansando de vez en cuando. Pero en una de las ocasiones la liebre se quedó dormida. La tortuga, poco a poco, siguió avanzando.\n",
        "Cuando la liebre despertó, se encontró con que la tortuga estaba a punto de cruzar la meta. Aunque echó a correr fue demasiado tarde y finalmente la tortuga ganó la carrera\".\n",
        "Esta fábula nos enseña que el trabajo duro, la perseverancia, la constancia y el esfuerzo nos llevarán a nuestras metas, aunque sea poco a poco, si no nos rendimos. También nos permite ver cómo la arrogancia, la falta de constancia y el exceso de seguridad en uno mismo nos puede llevar a perder oportunidades y a no alcanzar nuestras metas.\n",
        "\"\"\"\n",
        ")\n",
        "cipher_text = code(plain_text, key)\n",
        "cipher_text"
      ]
    },
    {
      "cell_type": "code",
      "execution_count": 46,
      "metadata": {
        "scrolled": false,
        "id": "DEgIqcccYr7i",
        "outputId": "f34bb844-154b-45d0-c039-b3b73bc82949",
        "colab": {
          "base_uri": "https://localhost:8080/",
          "height": 559
        }
      },
      "outputs": [
        {
          "output_type": "stream",
          "name": "stdout",
          "text": [
            "0\t7wñzvañ7wañrv4px4ñ3xn7rr3oañjñu4r3iñuv3ñ03b3ñ7wañe3xe7nañ0abvwapañg3xñ4rñ0abvw3ñjño4ñr4ña04x03ñrañrv4px4ñ4bg4i3ñañp7xraxo4ñz4ñrañr4weve7zñz4rñ3ex3ñawvbarñjñz4ñrañr3wnve7zñz4ño7oñgaeaoñovwñ4bpaxn3ñrañe3xe7nañr4ñx4og3wzv3ñ274ñ4oeapaño4n7xañz4ñ274ñañg4oaxñz4ñrañnxawñu4r30vzazñz4ñrañrv4px4ñ4xañ0agaiñz4ñnawaxrañ4wñ7wañ0axx4xañrañrv4px4ño4n7xañz4ño7ñuv0e3xvañjñ03wovz4xawz3ñ4rñx4e3ñvbg3ovpr4ñz4ñg4xz4xña04ge3ñabp3oñgvzv4x3wñañrañi3xxañ274ño49araxañrañb4eañañr3ñ274ñ4oeaña04ge3ñarñvn7arñ274ñarñ074xu3ñgaxañ274ñ6v0v4xañz4ñy74iñarñrr4naxñ4rñzvañz4ñrañ03bg4ev0v3wñarñ4bg4iaxñrañ0axx4xañrañrv4px4ñjñrañe3xe7nañoarv4x3wñarñbvob3ñev4bg3ñrañe3xe7nañauawiapañovwñz4e4w4xo4ñg4x3ñr4weab4we4ñrañrv4px4ñ4xañb7jñu4r3iñjñuv4wz3ñ274ñoa0apañ7wañnxawñu4weayañañrañe3xe7nañz40vzv3ñvxñgaxawz3o4ñjñz4o0awoawz3ñz4ñu4iñ4wñ07awz3ñg4x3ñ4wñ7wañz4ñraoñ30aov3w4oñrañrv4px4ño4ñ274z3ñz3xbvzañrañe3xe7nañg303ñañg303ñovn7v3ñauawiawz3ñ07awz3ñrañrv4px4ñz4og4xe3ño4ñ4w03wex3ñ03wñ274ñrañe3xe7nañ4oeapañañg7we3ñz4ñ0x7iaxñrañb4eaña7w274ñ4063ñañ03xx4xñc74ñz4baovaz3ñeaxz4ñjñcvwarb4we4ñrañe3xe7nañnaw3ñrañ0axx4xañ4oeañcap7rañw3oñ4wo49añ274ñ4rñexapay3ñz7x3ñrañg4xo4u4xaw0vañrañ03woeaw0vañjñ4rñ4oc74xi3ñw3oñrr4uaxawñañw74oexaoñb4eaoña7w274ño4añg303ñañg303ñovñw3ñw3oñx4wzvb3oñeabpv4wñw3oñg4xbve4ñu4xñ03b3ñrañaxx3naw0vañrañcareañz4ñ03woeaw0vañjñ4rñ4m04o3ñz4ño4n7xvzazñ4wñ7w3ñbvob3ñw3oñg74z4ñrr4uaxñañg4xz4xñ3g3xe7wvzaz4oñjñañw3ñar0awiaxñw74oexaoñb4eao\n",
            "\n",
            "1000\tun dla una rliboi eozurresa v xiref xle ceme una teotuza camlnaba peo ir camlne v si ri acioce ra rliboi impife a buoraosi di ra rintltud dir etoe anlmar v di ra renzltud di sus patas sln imbaoze ra teotuza ri oispendle jui istaba sizuoa di jui a pisao di ra zoan xirecldad di ra rliboi ioa capaf di zanaora in una caooioa ra rliboi sizuoa di su xlcteola v censldioande ir oite lmpeslbri di piodio acipte ambes pldlioen a ra feooa jui sigaraoa ra mita a re jui ista acipte ar lzuar jui ar cuioxe paoa jui ñlclioa di huif ar rrizao ir dla di ra cempitlclen ar impifao ra caooioa ra rliboi v ra teotuza sarlioen ar mlsme tlimpe ra teotuza axanfaba sln ditiniosi pioe rintaminti ra rliboi ioa muv xiref v xlinde jui sacaba una zoan xintaha a ra teotuza dicldle lo paoandesi v discansande di xif in cuande pioe in una di ras ecaslenis ra rliboi si juide deomlda ra teotuza pece a pece slzule axanfande cuande ra rliboi dispiote si incentoe cen jui ra teotuza istaba a punte di coufao ra mita aunjui icñe a ceooio 2ui dimaslade taodi v 2lnarminti ra teotuza zane ra caooioa ista 2abura nes insiga jui ir toabahe duoe ra piosixioancla ra censtancla v ir is2uiofe nes rrixaoan a nuistoas mitas aunjui sia pece a pece sl ne nes oindlmes tamblin nes piomlti xio ceme ra aooezancla ra 2arta di censtancla v ir i6cise di sizuoldad in une mlsme nes puidi rrixao a piodio epeotunldadis v a ne arcanfao nuistoas mitas\n",
            "\n",
            "2000\tun dia una liebre orfullosa y helov hio como una tortufa caminaba por el camino y se le acerco la liebre empevo a burlarse de la lentitud del otro animal y de la lonfitud de sus patas sin embarfo la tortufa le respondio jue estaba sefura de jue a pesar de la fran helocidad de la liebre era capav de fanarla en una carrera la liebre sefura de su hictoria y considerando el reto imposible de perder acepto ambos pidieron a la vorra jue sezalara la meta a lo jue esta acepto al ifual jue al cuerho para jue xiciera de ñuev al llefar el dia de la competicion al empevar la carrera la liebre y la tortufa salieron al mismo tiempo la tortufa ahanvaba sin detenerse pero lentamente la liebre era muy helov y hiendo jue sacaba una fran hentaña a la tortufa decidio ir parandose y descansando de hev en cuando pero en una de las ocasiones la liebre se juedo dormida la tortufa poco a poco sifuio ahanvando cuando la liebre desperto se encontro con jue la tortufa estaba a punto de cruvar la meta aunjue ecxo a correr gue demasiado tarde y ginalmente la tortufa fano la carrera esta gabula nos enseza jue el trabaño duro la perseherancia la constancia y el esguervo nos lleharan a nuestras metas aunjue sea poco a poco si no nos rendimos tambien nos permite her como la arrofancia la galta de constancia y el e9ceso de sefuridad en uno mismo nos puede llehar a perder oportunidades y a no alcanvar nuestras metas\n",
            "\n",
            "3000\tun dia una liebre orgullosa y veloz vio como una tortuga caminaba por el camino y se le acerco la liebre empezo a burlarse de la lentitud del otro animal y de la longitud de sus patas sin embargo la tortuga le respondio fue estaba segura de fue a pesar de la gran velocidad de la liebre era capaz de ganarla en una carrera la liebre segura de su victoria y considerando el reto imposible de perder acepto ambos pidieron a la zorra fue sejalara la meta a lo fue esta acepto al igual fue al cuervo para fue xiciera de ñuez al llegar el dia de la competicion al empezar la carrera la liebre y la tortuga salieron al mismo tiempo la tortuga avanzaba sin detenerse pero lentamente la liebre era muy veloz y viendo fue sacaba una gran ventaña a la tortuga decidio ir parandose y descansando de vez en cuando pero en una de las ocasiones la liebre se fuedo dormida la tortuga poco a poco siguio avanzando cuando la liebre desperto se encontro con fue la tortuga estaba a punto de cruzar la meta aunfue ecxo a correr hue demasiado tarde y hinalmente la tortuga gano la carrera esta habula nos enseja fue el trabaño duro la perseverancia la constancia y el eshuerzo nos llevaran a nuestras metas aunfue sea poco a poco si no nos rendimos tambien nos permite ver como la arrogancia la halta de constancia y el eqceso de seguridad en uno mismo nos puede llevar a perder oportunidades y a no alcanzar nuestras metas\n",
            "\n",
            "4000\tun dia una liebre orgullosa y veloz vio como una tortuga caminaba por el camino y se le acerco la liebre empezo a burlarse de la lentitud del otro animal y de la longitud de sus patas sin embargo la tortuga le respondio fue estaba segura de fue a pesar de la gran velocidad de la liebre era capaz de ganarla en una carrera la liebre segura de su victoria y considerando el reto imposible de perder acepto ambos pidieron a la zorra fue señalara la meta a lo fue esta acepto al igual fue al cuervo para fue xiciera de juez al llegar el dia de la competicion al empezar la carrera la liebre y la tortuga salieron al mismo tiempo la tortuga avanzaba sin detenerse pero lentamente la liebre era muy veloz y viendo fue sacaba una gran ventaja a la tortuga decidio ir parandose y descansando de vez en cuando pero en una de las ocasiones la liebre se fuedo dormida la tortuga poco a poco siguio avanzando cuando la liebre desperto se encontro con fue la tortuga estaba a punto de cruzar la meta aunfue ecxo a correr hue demasiado tarde y hinalmente la tortuga gano la carrera esta habula nos enseña fue el trabajo duro la perseverancia la constancia y el eshuerzo nos llevaran a nuestras metas aunfue sea poco a poco si no nos rendimos tambien nos permite ver como la arrogancia la halta de constancia y el eqceso de seguridad en uno mismo nos puede llevar a perder oportunidades y a no alcanzar nuestras metas\n",
            "\n",
            "5000\tun dia una liebre orgullosa y veloz vio como una tortuga caminaba por el camino y se le acerco la liebre empezo a burlarse de la lentitud del otro animal y de la longitud de sus patas sin embargo la tortuga le respondio fue estaba segura de fue a pesar de la gran velocidad de la liebre era capaz de ganarla en una carrera la liebre segura de su victoria y considerando el reto imposible de perder acepto ambos pidieron a la zorra fue señalara la meta a lo fue esta acepto al igual fue al cuervo para fue xiciera de juez al llegar el dia de la competicion al empezar la carrera la liebre y la tortuga salieron al mismo tiempo la tortuga avanzaba sin detenerse pero lentamente la liebre era muy veloz y viendo fue sacaba una gran ventaja a la tortuga decidio ir parandose y descansando de vez en cuando pero en una de las ocasiones la liebre se fuedo dormida la tortuga poco a poco siguio avanzando cuando la liebre desperto se encontro con fue la tortuga estaba a punto de cruzar la meta aunfue ecxo a correr hue demasiado tarde y hinalmente la tortuga gano la carrera esta habula nos enseña fue el trabajo duro la perseverancia la constancia y el eshuerzo nos llevaran a nuestras metas aunfue sea poco a poco si no nos rendimos tambien nos permite ver como la arrogancia la halta de constancia y el eqceso de seguridad en uno mismo nos puede llevar a perder oportunidades y a no alcanzar nuestras metas\n",
            "\n",
            "6000\tun dia una liebre orgullosa y veloz vio como una tortuga caminaba por el camino y se le acerco la liebre empezo a burlarse de la lentitud del otro animal y de la longitud de sus patas sin embargo la tortuga le respondio fue estaba segura de fue a pesar de la gran velocidad de la liebre era capaz de ganarla en una carrera la liebre segura de su victoria y considerando el reto imposible de perder acepto ambos pidieron a la zorra fue señalara la meta a lo fue esta acepto al igual fue al cuervo para fue xiciera de juez al llegar el dia de la competicion al empezar la carrera la liebre y la tortuga salieron al mismo tiempo la tortuga avanzaba sin detenerse pero lentamente la liebre era muy veloz y viendo fue sacaba una gran ventaja a la tortuga decidio ir parandose y descansando de vez en cuando pero en una de las ocasiones la liebre se fuedo dormida la tortuga poco a poco siguio avanzando cuando la liebre desperto se encontro con fue la tortuga estaba a punto de cruzar la meta aunfue ecxo a correr hue demasiado tarde y hinalmente la tortuga gano la carrera esta habula nos enseña fue el trabajo duro la perseverancia la constancia y el eshuerzo nos llevaran a nuestras metas aunfue sea poco a poco si no nos rendimos tambien nos permite ver como la arrogancia la halta de constancia y el eqceso de seguridad en uno mismo nos puede llevar a perder oportunidades y a no alcanzar nuestras metas\n",
            "\n",
            "7000\tun dia una liebre orgullosa y veloz vio como una tortuga caminaba por el camino y se le acerco la liebre empezo a burlarse de la lentitud del otro animal y de la longitud de sus patas sin embargo la tortuga le respondio fue estaba segura de fue a pesar de la gran velocidad de la liebre era capaz de ganarla en una carrera la liebre segura de su victoria y considerando el reto imposible de perder acepto ambos pidieron a la zorra fue señalara la meta a lo fue esta acepto al igual fue al cuervo para fue xiciera de juez al llegar el dia de la competicion al empezar la carrera la liebre y la tortuga salieron al mismo tiempo la tortuga avanzaba sin detenerse pero lentamente la liebre era muy veloz y viendo fue sacaba una gran ventaja a la tortuga decidio ir parandose y descansando de vez en cuando pero en una de las ocasiones la liebre se fuedo dormida la tortuga poco a poco siguio avanzando cuando la liebre desperto se encontro con fue la tortuga estaba a punto de cruzar la meta aunfue ecxo a correr hue demasiado tarde y hinalmente la tortuga gano la carrera esta habula nos enseña fue el trabajo duro la perseverancia la constancia y el eshuerzo nos llevaran a nuestras metas aunfue sea poco a poco si no nos rendimos tambien nos permite ver como la arrogancia la halta de constancia y el eqceso de seguridad en uno mismo nos puede llevar a perder oportunidades y a no alcanzar nuestras metas\n",
            "\n",
            "8000\tun dia una liebre orgullosa y veloz vio como una tortuga caminaba por el camino y se le acerco la liebre empezo a burlarse de la lentitud del otro animal y de la longitud de sus patas sin embargo la tortuga le respondio fue estaba segura de fue a pesar de la gran velocidad de la liebre era capaz de ganarla en una carrera la liebre segura de su victoria y considerando el reto imposible de perder acepto ambos pidieron a la zorra fue señalara la meta a lo fue esta acepto al igual fue al cuervo para fue xiciera de juez al llegar el dia de la competicion al empezar la carrera la liebre y la tortuga salieron al mismo tiempo la tortuga avanzaba sin detenerse pero lentamente la liebre era muy veloz y viendo fue sacaba una gran ventaja a la tortuga decidio ir parandose y descansando de vez en cuando pero en una de las ocasiones la liebre se fuedo dormida la tortuga poco a poco siguio avanzando cuando la liebre desperto se encontro con fue la tortuga estaba a punto de cruzar la meta aunfue ecxo a correr hue demasiado tarde y hinalmente la tortuga gano la carrera esta habula nos enseña fue el trabajo duro la perseverancia la constancia y el eshuerzo nos llevaran a nuestras metas aunfue sea poco a poco si no nos rendimos tambien nos permite ver como la arrogancia la halta de constancia y el eqceso de seguridad en uno mismo nos puede llevar a perder oportunidades y a no alcanzar nuestras metas\n",
            "\n",
            "9000\tun dia una liebre orgullosa y veloz vio como una tortuga caminaba por el camino y se le acerco la liebre empezo a burlarse de la lentitud del otro animal y de la longitud de sus patas sin embargo la tortuga le respondio fue estaba segura de fue a pesar de la gran velocidad de la liebre era capaz de ganarla en una carrera la liebre segura de su victoria y considerando el reto imposible de perder acepto ambos pidieron a la zorra fue señalara la meta a lo fue esta acepto al igual fue al cuervo para fue xiciera de juez al llegar el dia de la competicion al empezar la carrera la liebre y la tortuga salieron al mismo tiempo la tortuga avanzaba sin detenerse pero lentamente la liebre era muy veloz y viendo fue sacaba una gran ventaja a la tortuga decidio ir parandose y descansando de vez en cuando pero en una de las ocasiones la liebre se fuedo dormida la tortuga poco a poco siguio avanzando cuando la liebre desperto se encontro con fue la tortuga estaba a punto de cruzar la meta aunfue ecxo a correr hue demasiado tarde y hinalmente la tortuga gano la carrera esta habula nos enseña fue el trabajo duro la perseverancia la constancia y el eshuerzo nos llevaran a nuestras metas aunfue sea poco a poco si no nos rendimos tambien nos permite ver como la arrogancia la halta de constancia y el eqceso de seguridad en uno mismo nos puede llevar a perder oportunidades y a no alcanzar nuestras metas\n",
            "\n",
            "Final decoded: un dia una liebre orgullosa y veloz vio como una tortuga caminaba por el camino y se le acerco la liebre empezo a burlarse de la lentitud del otro animal y de la longitud de sus patas sin embargo la tortuga le respondio fue estaba segura de fue a pesar de la gran velocidad de la liebre era capaz de ganarla en una carrera la liebre segura de su victoria y considerando el reto imposible de perder acepto ambos pidieron a la zorra fue señalara la meta a lo fue esta acepto al igual fue al cuervo para fue xiciera de juez al llegar el dia de la competicion al empezar la carrera la liebre y la tortuga salieron al mismo tiempo la tortuga avanzaba sin detenerse pero lentamente la liebre era muy veloz y viendo fue sacaba una gran ventaja a la tortuga decidio ir parandose y descansando de vez en cuando pero en una de las ocasiones la liebre se fuedo dormida la tortuga poco a poco siguio avanzando cuando la liebre desperto se encontro con fue la tortuga estaba a punto de cruzar la meta aunfue ecxo a correr hue demasiado tarde y hinalmente la tortuga gano la carrera esta habula nos enseña fue el trabajo duro la perseverancia la constancia y el eshuerzo nos llevaran a nuestras metas aunfue sea poco a poco si no nos rendimos tambien nos permite ver como la arrogancia la halta de constancia y el eqceso de seguridad en uno mismo nos puede llevar a perder oportunidades y a no alcanzar nuestras metas\n"
          ]
        },
        {
          "output_type": "execute_result",
          "data": {
            "text/plain": [
              "'un dia una liebre orgullosa y veloz vio como una tortuga caminaba por el camino y se le acerco la liebre empezo a burlarse de la lentitud del otro animal y de la longitud de sus patas sin embargo la tortuga le respondio fue estaba segura de fue a pesar de la gran velocidad de la liebre era capaz de ganarla en una carrera la liebre segura de su victoria y considerando el reto imposible de perder acepto ambos pidieron a la zorra fue señalara la meta a lo fue esta acepto al igual fue al cuervo para fue xiciera de juez al llegar el dia de la competicion al empezar la carrera la liebre y la tortuga salieron al mismo tiempo la tortuga avanzaba sin detenerse pero lentamente la liebre era muy veloz y viendo fue sacaba una gran ventaja a la tortuga decidio ir parandose y descansando de vez en cuando pero en una de las ocasiones la liebre se fuedo dormida la tortuga poco a poco siguio avanzando cuando la liebre desperto se encontro con fue la tortuga estaba a punto de cruzar la meta aunfue ecxo a correr hue demasiado tarde y hinalmente la tortuga gano la carrera esta habula nos enseña fue el trabajo duro la perseverancia la constancia y el eshuerzo nos llevaran a nuestras metas aunfue sea poco a poco si no nos rendimos tambien nos permite ver como la arrogancia la halta de constancia y el eqceso de seguridad en uno mismo nos puede llevar a perder oportunidades y a no alcanzar nuestras metas'"
            ],
            "application/vnd.google.colaboratory.intrinsic+json": {
              "type": "string"
            }
          },
          "metadata": {},
          "execution_count": 46
        }
      ],
      "source": [
        "decode(cipher_text, bigram_table, 10000)"
      ]
    }
  ],
  "metadata": {
    "kernelspec": {
      "display_name": "Python 3",
      "language": "python",
      "name": "python3"
    },
    "language_info": {
      "codemirror_mode": {
        "name": "ipython",
        "version": 3
      },
      "file_extension": ".py",
      "mimetype": "text/x-python",
      "name": "python",
      "nbconvert_exporter": "python",
      "pygments_lexer": "ipython3",
      "version": "3.6.10"
    },
    "toc": {
      "base_numbering": 1,
      "nav_menu": {},
      "number_sections": true,
      "sideBar": true,
      "skip_h1_title": false,
      "title_cell": "Table of Contents",
      "title_sidebar": "Contents",
      "toc_cell": false,
      "toc_position": {},
      "toc_section_display": true,
      "toc_window_display": false
    },
    "colab": {
      "provenance": [],
      "name": "Metropolis Hastings para decifrar textos.ipynb",
      "toc_visible": true,
      "include_colab_link": true
    }
  },
  "nbformat": 4,
  "nbformat_minor": 0
}