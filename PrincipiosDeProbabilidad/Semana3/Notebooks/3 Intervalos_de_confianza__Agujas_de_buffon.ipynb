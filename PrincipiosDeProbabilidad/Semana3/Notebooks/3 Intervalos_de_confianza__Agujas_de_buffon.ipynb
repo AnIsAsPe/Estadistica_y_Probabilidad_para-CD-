{
  "nbformat": 4,
  "nbformat_minor": 0,
  "metadata": {
    "colab": {
      "provenance": [],
      "toc_visible": true,
      "authorship_tag": "ABX9TyM3DFGYZWXl5ut2l6Py9MEe",
      "include_colab_link": true
    },
    "kernelspec": {
      "name": "python3",
      "display_name": "Python 3"
    }
  },
  "cells": [
    {
      "cell_type": "markdown",
      "metadata": {
        "id": "view-in-github",
        "colab_type": "text"
      },
      "source": [
        "<a href=\"https://colab.research.google.com/github/AnIsAsPe/Estadistica_y_Probabilidad_para-CD-/blob/main/PrincipiosDeProbabilidad/Semana4/3%20Intervalos_de_confianza__Agujas_de_buffon.ipynb\" target=\"_parent\"><img src=\"https://colab.research.google.com/assets/colab-badge.svg\" alt=\"Open In Colab\"/></a>"
      ]
    },
    {
      "cell_type": "markdown",
      "metadata": {
        "id": "8-2io6qfdvhP"
      },
      "source": [
        "##Bibliotecas"
      ]
    },
    {
      "cell_type": "code",
      "metadata": {
        "id": "hqT8wVN6-CBk"
      },
      "source": [
        "import numpy as np\n",
        "import pandas as pd\n",
        "import math\n",
        "from scipy import stats\n",
        "from matplotlib import pyplot as plt\n",
        "import seaborn as sns"
      ],
      "execution_count": 2,
      "outputs": []
    },
    {
      "cell_type": "markdown",
      "metadata": {
        "id": "c2XM_upk987e"
      },
      "source": [
        "# Funciones\n"
      ]
    },
    {
      "cell_type": "code",
      "source": [
        "def P_cruce_agujas_Buffon(n):\n",
        "    l = 1\n",
        "    l_cuadrado = 10\n",
        "\n",
        "    x = np.random.uniform(0, l_cuadrado, n) # coordenada x del centro de la aguja\n",
        "    y = np.random.uniform(0, l_cuadrado, n) # cordenada y del centro del aguja\n",
        "    𝜃 = np.random.uniform(0, np.pi, n) # angulo de rotación de la aguja en radianes, entre 0 y pi (180 grados)\n",
        "\n",
        "    # Calcula coordenadas extremos (P1 y P2)\n",
        "    x1 = x - (1/2 * np.cos(𝜃))\n",
        "    y1 = y - (1/2 * np.sin(𝜃))\n",
        "\n",
        "    x2 = x + (1/2 * np.cos(𝜃))\n",
        "    y2 = y + (1/2 * np.sin(𝜃))\n",
        "\n",
        "    # ¿Cruza alguna de las lineas del tapete?\n",
        "    cruza = np.where(np.floor(y1) != np.floor(y2), 1, 0)    # np.floor(3.76) = 3\n",
        "\n",
        "    return cruza.mean()"
      ],
      "metadata": {
        "id": "Zwj_d116Pp0k"
      },
      "execution_count": 1,
      "outputs": []
    },
    {
      "cell_type": "code",
      "metadata": {
        "id": "mWbmbJWt_DEy"
      },
      "source": [
        "def intervalo_confianza_bernoulli(tam_muestra, p_muestra , nivel_confianza):\n",
        "  '''p es la probabilidad obtenida en la muestra\n",
        "     nivel de confianza debe estar entre 0 y 1'''\n",
        "  izq = (1 - nivel_confianza)/2\n",
        "  z_score = - stats.norm.ppf(izq)\n",
        "  margen_error = z_score/(2*math.sqrt(tam_muestra))\n",
        "  v_inf = p_muestra - margen_error\n",
        "  v_sup = p_muestra + margen_error\n",
        "  print('Con probabilidad de 95% P_poblacion está en el intervalo:',\n",
        "      round(v_inf,6), round(v_sup,6))\n",
        "  return margen_error, v_inf, v_sup"
      ],
      "execution_count": 30,
      "outputs": []
    },
    {
      "cell_type": "markdown",
      "metadata": {
        "id": "vU_S-WRWD8GA"
      },
      "source": [
        "# Intervalos de confianza para una Ley  Bernoulli\n",
        "\n",
        "¿De qué tamaño tiene que ser mi muestra?\n",
        " 1. ¿Qué nivel de confianza quieres tener? (se traduce en el estimador $z_{score}$ )\n",
        " 2. ¿Qué tan preciso quieres que sea tu estimador? (Cuánto error te permites tener)\n"
      ]
    },
    {
      "cell_type": "markdown",
      "metadata": {
        "id": "eQ6-Cd9x0oEh"
      },
      "source": [
        "**Cálculo del error**\n",
        "\n",
        "$\\epsilon \\leq \\cfrac{z_{score}}{2\\sqrt{n}}$\n",
        "\n"
      ]
    },
    {
      "cell_type": "code",
      "source": [
        "nivel_confianza =0.95\n",
        "\n",
        "izq = (1 - nivel_confianza)/2\n",
        "z_score = - stats.norm.ppf(izq)\n",
        "z_score"
      ],
      "metadata": {
        "colab": {
          "base_uri": "https://localhost:8080/"
        },
        "id": "PMdEyi1HRlJu",
        "outputId": "3a7d7d1a-b69a-4c79-ce03-a837034e5a79"
      },
      "execution_count": 15,
      "outputs": [
        {
          "output_type": "execute_result",
          "data": {
            "text/plain": [
              "1.959963984540054"
            ]
          },
          "metadata": {},
          "execution_count": 15
        }
      ]
    },
    {
      "cell_type": "markdown",
      "source": [
        "Para un nivel de confianza de 95%\n",
        "\n",
        "$ \\epsilon \\leq \\cfrac{1.96}{2\\sqrt{n}}\\leq \\cfrac{1}{\\sqrt{n}}$"
      ],
      "metadata": {
        "id": "hwonNXikRdPu"
      }
    },
    {
      "cell_type": "code",
      "source": [
        "n = 3408   #  3408 agujas lanzó  Lazzarini en 1901 para aproximar pi a 6 dígiots... mmm\n",
        "p = P_cruce_agujas_Buffon(3408)\n",
        "2/p # estimación de pi mediante la probabilidad de cruce de las agujas"
      ],
      "metadata": {
        "colab": {
          "base_uri": "https://localhost:8080/"
        },
        "id": "S3OhOBSeQPLx",
        "outputId": "cfd46a73-37f7-4390-c7ca-f46f2f98f8a9"
      },
      "execution_count": 45,
      "outputs": [
        {
          "output_type": "execute_result",
          "data": {
            "text/plain": [
              "3.1038251366120218"
            ]
          },
          "metadata": {},
          "execution_count": 45
        }
      ]
    },
    {
      "cell_type": "code",
      "metadata": {
        "id": "Z48lxu1w4nPi",
        "colab": {
          "base_uri": "https://localhost:8080/"
        },
        "outputId": "8edcbc82-67de-49b4-a005-d80f9740494e"
      },
      "source": [
        "margen_error_95 = 1/math.sqrt(n)\n",
        "v_inf = p - margen_error_95\n",
        "v_sup = p + margen_error_95\n",
        "\n",
        "print('Probabilidad de 95%  que P está en el intervalo:',\n",
        "      round(v_inf,6), round(v_sup,6))"
      ],
      "execution_count": 46,
      "outputs": [
        {
          "output_type": "stream",
          "name": "stdout",
          "text": [
            "Probabilidad de 95%  que P está en el intervalo: 0.627236 0.661496\n"
          ]
        }
      ]
    },
    {
      "cell_type": "code",
      "source": [
        "v_inf_pi = 2/v_sup\n",
        "v_sup_pi = 2/v_inf\n",
        "print('Probabilidad de 95%  que pi está en el intervalo:',\n",
        "      round(v_inf_pi,6), round(v_sup_pi,6))"
      ],
      "metadata": {
        "colab": {
          "base_uri": "https://localhost:8080/"
        },
        "id": "vwSOvLC_-28j",
        "outputId": "e1ca11fd-d458-4a16-8407-67a03c0c6074"
      },
      "execution_count": 47,
      "outputs": [
        {
          "output_type": "stream",
          "name": "stdout",
          "text": [
            "Probabilidad de 95%  que pi está en el intervalo: 3.02345 3.18859\n"
          ]
        }
      ]
    },
    {
      "cell_type": "markdown",
      "metadata": {
        "id": "5Lvnw0q5E38Z"
      },
      "source": [
        "## Probabilidad de cruce agujas de buffon"
      ]
    },
    {
      "cell_type": "code",
      "metadata": {
        "id": "S9iVq_IQA_FV",
        "colab": {
          "base_uri": "https://localhost:8080/"
        },
        "outputId": "df30e614-0ae5-404d-a6e5-ba09485a5092"
      },
      "source": [
        "m_error, v_inf, v_sup = intervalo_confianza_bernoulli(n, p, nivel_confianza=.95)\n"
      ],
      "execution_count": 48,
      "outputs": [
        {
          "output_type": "stream",
          "name": "stdout",
          "text": [
            "Con probabilidad de 95% P_poblacion está en el intervalo: 0.627579 0.661153\n"
          ]
        }
      ]
    },
    {
      "cell_type": "code",
      "source": [
        "v_inf_pi = 2/v_sup\n",
        "v_sup_pi = 2/v_inf\n",
        "print('Probabilidad de 95%  que pi está en el intervalo:',\n",
        "      round(v_inf_pi,6), round(v_sup_pi,6))"
      ],
      "metadata": {
        "colab": {
          "base_uri": "https://localhost:8080/"
        },
        "id": "D-GATNi-A2ir",
        "outputId": "2de6c0c9-638e-4d1e-c0ea-e80087cd7cb7"
      },
      "execution_count": 49,
      "outputs": [
        {
          "output_type": "stream",
          "name": "stdout",
          "text": [
            "Probabilidad de 95%  que pi está en el intervalo: 3.025018 3.186848\n"
          ]
        }
      ]
    },
    {
      "cell_type": "markdown",
      "metadata": {
        "id": "_yX2vojB9N8W"
      },
      "source": [
        "# Recursos\n",
        "\n",
        "* https://seeing-theory.brown.edu/frequentist-inference/index.html\n",
        "\n",
        "* https://rpsychologist.com/d3/ci/"
      ]
    }
  ]
}
