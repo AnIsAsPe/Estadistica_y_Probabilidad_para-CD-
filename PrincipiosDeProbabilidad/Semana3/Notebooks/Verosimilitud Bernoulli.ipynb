{
  "nbformat": 4,
  "nbformat_minor": 0,
  "metadata": {
    "colab": {
      "name": "Verosimilitud.pynb",
      "provenance": [],
      "toc_visible": true,
      "authorship_tag": "ABX9TyPMo8osKuB92vD5xmSFLHHF",
      "include_colab_link": true
    },
    "kernelspec": {
      "name": "python3",
      "display_name": "Python 3"
    },
    "language_info": {
      "name": "python"
    }
  },
  "cells": [
    {
      "cell_type": "markdown",
      "metadata": {
        "id": "view-in-github",
        "colab_type": "text"
      },
      "source": [
        "<a href=\"https://colab.research.google.com/github/AnIsAsPe/Estadistica_y_Probabilidad_para-CD-/blob/main/Semana3/Notebooks/Verosimilitud%20Bernoulli.ipynb\" target=\"_parent\"><img src=\"https://colab.research.google.com/assets/colab-badge.svg\" alt=\"Open In Colab\"/></a>"
      ]
    },
    {
      "cell_type": "code",
      "metadata": {
        "id": "11LmuROzUBX8"
      },
      "source": [
        "import numpy as np\n",
        "from numpy import exp\n",
        "\n",
        "import matplotlib.pyplot as plt"
      ],
      "execution_count": null,
      "outputs": []
    },
    {
      "cell_type": "markdown",
      "metadata": {
        "id": "ThQjfBnKptRq"
      },
      "source": [
        "considere la siguiente muestra"
      ]
    },
    {
      "cell_type": "code",
      "metadata": {
        "colab": {
          "base_uri": "https://localhost:8080/"
        },
        "id": "JtAJUizI3fUv",
        "outputId": "4688963d-75c4-4a70-81bd-5cc9223f6965"
      },
      "source": [
        "# Bernoulli n = 1\n",
        "n, p = 1, 0.5\n",
        "size = 5\n",
        "\n",
        "#np.random.seed(7)\n",
        "s = np.random.binomial(n, p, size)  #muestra de tamaño size con la preferencia de el candidato con .3\n",
        "s"
      ],
      "execution_count": null,
      "outputs": [
        {
          "output_type": "execute_result",
          "data": {
            "text/plain": [
              "array([0, 1, 1, 1, 0])"
            ]
          },
          "metadata": {},
          "execution_count": 2
        }
      ]
    },
    {
      "cell_type": "markdown",
      "source": [
        "# Función de probabilidad \n",
        "$$P(x)=p^{x}(1-p)^{1-x}$$  $$ x = 0,1$$\n",
        "\n",
        " \n"
      ],
      "metadata": {
        "id": "Z6E0MQjj3iXW"
      }
    },
    {
      "cell_type": "markdown",
      "source": [
        "# Función de verosimilitud\n",
        "\n",
        "¿qué tanto  podemos pensar que es justa una moneda (bernulli, p = 0.5) después de varios lanzamientos?\n",
        "\n",
        "$$l(p)=P(x_1,...x_n;p)=p^{\\sum_i^n{x_i}}(1-p)^{n-{\\sum_i^n{x_i}}}$$ "
      ],
      "metadata": {
        "id": "g6pZ7zMU5wWl"
      }
    },
    {
      "cell_type": "code",
      "metadata": {
        "id": "jEjOQdestZfj"
      },
      "source": [
        "def Ps_p(s, p):\n",
        "  exitos = s.sum()\n",
        "  fracasos = len(s)- exitos\n",
        "  \n",
        "  Ps_p = pow(1-p, fracasos)* pow(p, exitos)\n",
        "  return Ps_p"
      ],
      "execution_count": null,
      "outputs": []
    },
    {
      "cell_type": "code",
      "metadata": {
        "colab": {
          "base_uri": "https://localhost:8080/"
        },
        "id": "-gENNf7svDEL",
        "outputId": "01123538-1e7c-440a-be84-eefbbe595949"
      },
      "source": [
        "Ps_p(s, p)"
      ],
      "execution_count": null,
      "outputs": [
        {
          "output_type": "execute_result",
          "data": {
            "text/plain": [
              "0.03125"
            ]
          },
          "metadata": {},
          "execution_count": 10
        }
      ]
    },
    {
      "cell_type": "code",
      "metadata": {
        "colab": {
          "base_uri": "https://localhost:8080/"
        },
        "id": "cHFPtxHUvPJv",
        "outputId": "18217d1f-a9ac-4542-958f-e708931a0eca"
      },
      "source": [
        "Ps_p(s, 0.3)"
      ],
      "execution_count": null,
      "outputs": [
        {
          "output_type": "execute_result",
          "data": {
            "text/plain": [
              "0.013229999999999997"
            ]
          },
          "metadata": {},
          "execution_count": 5
        }
      ]
    },
    {
      "cell_type": "code",
      "metadata": {
        "colab": {
          "base_uri": "https://localhost:8080/"
        },
        "outputId": "94f5ebca-f1ab-43f2-d99b-68434f787bef",
        "id": "Hgbhpknf1gQN"
      },
      "source": [
        "Ps_p(s, 0.6)"
      ],
      "execution_count": null,
      "outputs": [
        {
          "output_type": "execute_result",
          "data": {
            "text/plain": [
              "0.03456"
            ]
          },
          "metadata": {},
          "execution_count": 6
        }
      ]
    },
    {
      "cell_type": "markdown",
      "source": [
        "Referencia:\n",
        "\n",
        "[1] «1.5 - Maximum Likelihood Estimation | STAT 504», PennState: Statistics Online Courses. https://online.stat.psu.edu/stat504/lesson/1/1.5 (accedido 5 de agosto de 2022).\n"
      ],
      "metadata": {
        "id": "TxbyerGS69L-"
      }
    }
  ]
}
