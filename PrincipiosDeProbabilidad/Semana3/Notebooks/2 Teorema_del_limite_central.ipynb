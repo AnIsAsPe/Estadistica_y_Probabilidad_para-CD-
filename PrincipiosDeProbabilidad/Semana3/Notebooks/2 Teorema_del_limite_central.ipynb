{
  "nbformat": 4,
  "nbformat_minor": 0,
  "metadata": {
    "kernelspec": {
      "display_name": "Python 3",
      "language": "python",
      "name": "python3"
    },
    "language_info": {
      "codemirror_mode": {
        "name": "ipython",
        "version": 3
      },
      "file_extension": ".py",
      "mimetype": "text/x-python",
      "name": "python",
      "nbconvert_exporter": "python",
      "pygments_lexer": "ipython3",
      "version": "3.6.5"
    },
    "colab": {
      "name": "Teorema del limite central ipynb",
      "provenance": [],
      "collapsed_sections": [
        "eRO54v3Rk7Zs"
      ],
      "toc_visible": true,
      "include_colab_link": true
    }
  },
  "cells": [
    {
      "cell_type": "markdown",
      "metadata": {
        "id": "view-in-github",
        "colab_type": "text"
      },
      "source": [
        "<a href=\"https://colab.research.google.com/github/AnIsAsPe/Estadistica_y_Probabilidad_para-CD-/blob/main/PrincipiosDeProbabilidad/Semana3/Notebooks/2%20Teorema_del_limite_central.ipynb\" target=\"_parent\"><img src=\"https://colab.research.google.com/assets/colab-badge.svg\" alt=\"Open In Colab\"/></a>"
      ]
    },
    {
      "cell_type": "markdown",
      "source": [
        "El *teorema del límite central* establece que la **distribución de la suma** de un número grande* de ***variables iid*** será aproximadamene **normal**, sin importar la distribución subyacente"
      ],
      "metadata": {
        "id": "QC9zAKl5yhFW"
      }
    },
    {
      "cell_type": "markdown",
      "metadata": {
        "id": "MlNBbGOgZ2j5"
      },
      "source": [
        "\n",
        "## Bibliotecas"
      ]
    },
    {
      "cell_type": "code",
      "metadata": {
        "id": "FEI_n9J2Z2j5"
      },
      "source": [
        "import numpy as np\n",
        "import pandas as pd\n",
        "\n",
        "import random\n",
        "import operator\n",
        "import re # módulo operaciones expresiones regulares\n",
        "import unicodedata  #para quitar tildes\n",
        "from collections import Counter\n",
        "from scipy.stats import norm\n",
        "\n",
        "import matplotlib.pyplot as plt\n",
        "import seaborn as sns"
      ],
      "execution_count": 1,
      "outputs": []
    },
    {
      "cell_type": "markdown",
      "metadata": {
        "id": "pbALUjcWkWgr"
      },
      "source": [
        "## Funciones"
      ]
    },
    {
      "cell_type": "code",
      "source": [
        "def errores_alturas(n, m = 500):\n",
        "    '''\n",
        "    n = tamaño de cada muestra\n",
        "    m = cuántas muestras\n",
        "\n",
        "    '''\n",
        "    mu, sigma = 1675, 62.8     # dimensiones en milimetros\n",
        "\n",
        "    muestras = {'muestra '+ str(i): np.random.normal(mu, sigma,n) for i in range(1, m+1)}\n",
        "    alturas_hombres = pd.DataFrame.from_dict(muestras)\n",
        "    sns.distplot(mu - alturas_hombres.mean(), fit=norm, kde=False, bins=50)\n",
        "    plt.show()\n",
        "\n"
      ],
      "metadata": {
        "id": "NJAdcVglzjKZ"
      },
      "execution_count": 2,
      "outputs": []
    },
    {
      "cell_type": "code",
      "metadata": {
        "id": "96lVL2qUMtsa"
      },
      "source": [
        "def leer_libro(archivo_txt):\n",
        "  '''funcion para leer un archivo en formato txt'''\n",
        "  with open(archivo_txt, \"r\", encoding=\"utf8\") as f:\n",
        "    texto = f.read()\n",
        "    texto = texto.replace(\"\\n\", \"\").replace(\"\\r\", \"\")\n",
        "  return texto"
      ],
      "execution_count": 3,
      "outputs": []
    },
    {
      "cell_type": "code",
      "metadata": {
        "id": "F5sgP6ZkinM7"
      },
      "source": [
        "def borrar_elementos(texto, lista):\n",
        "  '''Función para eliminar en un texto los elementos contenidos en una lista,\n",
        "  por ejemplo:   autor, titulo y otros elementos'''\n",
        "\n",
        "  for elemento in lista:\n",
        "    texto = texto.replace(elemento, \"\")\n",
        "  return texto"
      ],
      "execution_count": 4,
      "outputs": []
    },
    {
      "cell_type": "code",
      "metadata": {
        "id": "4wWolL-TXZct"
      },
      "source": [
        "\n",
        "def limpiar_texto(texto):\n",
        "  '''Función para convertir a minúsculas, quitar signos de puntuación,\n",
        "  números y tildes'''\n",
        "\n",
        "  #Convertir en mínusculas\n",
        "  texto_limpio = texto.lower()\n",
        "\n",
        "  #Quitar puntuación\n",
        "  puntuacion = [\".\", \",\" , \"-\", \"\\n\", \":\", \";\",'\"', \"'\", \"  \",\n",
        "                \"!\", \"¡\", \"¿\", \"?\", \"(\", \")\", \"<\", \"«\", \"»\", \"~\",]\n",
        "  for p in puntuacion:\n",
        "    texto_limpio = texto_limpio.replace(p,\"\")\n",
        "\n",
        "  #Quitar numeros\n",
        "\n",
        "  texto_limpio = \"\".join(filter(lambda x: not x.isdigit(), texto_limpio))\n",
        "\n",
        "  #Quitar tildes\n",
        "\n",
        "  texto_limpio =''.join((c for c in unicodedata.normalize('NFD',texto_limpio) if\n",
        "                         unicodedata.category(c) != 'Mn'))\n",
        "\n",
        "  return texto_limpio"
      ],
      "execution_count": 5,
      "outputs": []
    },
    {
      "cell_type": "code",
      "metadata": {
        "id": "hU8f6vv2LVvF"
      },
      "source": [
        "\n",
        "def genera_texto_nletras(texto, n=1, tot_letras = 100):\n",
        "  '''Devuelve un texto, utilizando ngramas a partir de letras\n",
        "  n es la cantidad de letras que se toman en consideración para\n",
        "  generar la siguiente'''\n",
        "  ngramas = {}\n",
        "  for i in range(len(texto) - n):\n",
        "    seq = texto[i:i+n]\n",
        "    if seq not in ngramas.keys():\n",
        "      ngramas[seq] = []\n",
        "    ngramas[seq].append(texto[i+n])\n",
        "\n",
        "  ngrama = np.random.choice(list(ngramas.keys()))\n",
        "  nuevo_texto = ngrama\n",
        "\n",
        "  for i in range(tot_letras):\n",
        "    if ngrama not in ngramas.keys():\n",
        "      break\n",
        "    siguiente_letra = np.random.choice(ngramas[ngrama])\n",
        "    nuevo_texto += siguiente_letra\n",
        "    ngrama = nuevo_texto[len(nuevo_texto)-n:len(nuevo_texto)]\n",
        "  return nuevo_texto"
      ],
      "execution_count": 6,
      "outputs": []
    },
    {
      "cell_type": "code",
      "metadata": {
        "id": "qWiYIU76KTF4"
      },
      "source": [
        "def genera_muestras_de_texto(texto, grado=0,\n",
        "                             num_muestras=100,\n",
        "                             tam_muestra=200 ):\n",
        "  muestras={}\n",
        "  for i in range(num_muestras):\n",
        "    if grado == 0:\n",
        "      muestras[i]= \"\".join(random.sample(texto, tam_muestra))\n",
        "    else:\n",
        "      muestras[i] = genera_texto_nletras(texto, grado, tam_muestra)\n",
        "  return pd.Series(muestras, name= 'muestra' )"
      ],
      "execution_count": 7,
      "outputs": []
    },
    {
      "cell_type": "code",
      "metadata": {
        "id": "EGkrl_dKE62b"
      },
      "source": [
        "def cuenta_vocales(texto):\n",
        "  vocales ='aeiou'\n",
        "  tot_vocales= 0\n",
        "  for caracter in texto:\n",
        "    if caracter in vocales:\n",
        "      tot_vocales += 1\n",
        "  return tot_vocales"
      ],
      "execution_count": 8,
      "outputs": []
    },
    {
      "cell_type": "code",
      "metadata": {
        "id": "A7oWT_SAFK0T"
      },
      "source": [
        "def cuenta_caracteres_antes_de_n(texto):\n",
        "  caracteres_antes = 0\n",
        "  for caracter in texto:\n",
        "    if caracter == 'n':\n",
        "      break\n",
        "    caracteres_antes += 1\n",
        "\n",
        "  return caracteres_antes"
      ],
      "execution_count": 9,
      "outputs": []
    },
    {
      "cell_type": "markdown",
      "metadata": {
        "id": "UjW7W4BrPTTZ"
      },
      "source": [
        "# Distribución gaussiana (altura de hombres adultos)"
      ]
    },
    {
      "cell_type": "markdown",
      "metadata": {
        "id": "9pFsoM62gq1Z"
      },
      "source": [
        "a partir de la [distribución de la altura de trabajadores industriales de sexo masculino en Guadalajara](https://www.researchgate.net/publication/31722433_Dimensiones_antropometricas_de_la_poblacion_latinoamericana_Mexico_Cuba_Colombia_Chile_R_Avila_Chaurand_LR_Prado_Leon_EL_Gonzalez_Munoz)"
      ]
    },
    {
      "cell_type": "code",
      "metadata": {
        "colab": {
          "base_uri": "https://localhost:8080/",
          "height": 461
        },
        "outputId": "782e3a7d-244a-4b65-afdf-65feb75d1440",
        "id": "19Bxuz3ftZHN"
      },
      "source": [
        "mu, sigma = 1675, 62.8     # dimensiones en milimetros\n",
        "\n",
        "n = 500 # tamaño de la muestra\n",
        "m = 2000 # número de muestras\n",
        "muestras = {'muestra '+str(i): np.random.normal(mu, sigma,n) for i in range(1, m+1)}\n",
        "alturas_hombres = pd.DataFrame.from_dict(muestras)\n",
        "alturas_hombres"
      ],
      "execution_count": 38,
      "outputs": [
        {
          "output_type": "execute_result",
          "data": {
            "text/plain": [
              "       muestra 1    muestra 2    muestra 3    muestra 4    muestra 5  \\\n",
              "0    1801.301854  1657.467780  1518.337326  1625.537024  1739.300864   \n",
              "1    1624.530400  1689.728190  1649.839944  1659.018252  1709.150632   \n",
              "2    1650.031573  1704.760370  1780.963447  1638.676453  1656.962865   \n",
              "3    1719.048002  1652.520555  1615.001941  1636.100558  1713.684928   \n",
              "4    1661.316641  1709.093184  1573.628596  1673.478341  1556.425944   \n",
              "..           ...          ...          ...          ...          ...   \n",
              "495  1586.272824  1649.827879  1611.120179  1679.026950  1713.474248   \n",
              "496  1699.660809  1671.372674  1740.257652  1644.170974  1672.058332   \n",
              "497  1656.198629  1820.767504  1640.709464  1748.604264  1695.936048   \n",
              "498  1715.055225  1645.332689  1620.380557  1717.252674  1607.321821   \n",
              "499  1497.932031  1708.299630  1665.404691  1696.186516  1619.144094   \n",
              "\n",
              "       muestra 6    muestra 7    muestra 8    muestra 9   muestra 10  ...  \\\n",
              "0    1623.972371  1707.161743  1617.120738  1658.611499  1742.071674  ...   \n",
              "1    1807.790726  1530.413857  1740.277783  1780.700102  1682.530725  ...   \n",
              "2    1655.500202  1650.396236  1748.786327  1618.839921  1644.297773  ...   \n",
              "3    1623.235262  1713.851750  1725.764452  1641.860404  1580.152249  ...   \n",
              "4    1594.783749  1722.671438  1641.795459  1638.623556  1734.389429  ...   \n",
              "..           ...          ...          ...          ...          ...  ...   \n",
              "495  1702.224919  1570.194552  1620.973457  1530.250257  1763.045658  ...   \n",
              "496  1836.110345  1688.734199  1741.120936  1806.553654  1701.015618  ...   \n",
              "497  1713.062355  1665.393879  1584.011785  1731.458777  1647.031468  ...   \n",
              "498  1664.943593  1678.931412  1726.830573  1810.475641  1843.466089  ...   \n",
              "499  1620.629870  1612.264185  1850.155323  1723.426023  1704.095039  ...   \n",
              "\n",
              "     muestra 1991  muestra 1992  muestra 1993  muestra 1994  muestra 1995  \\\n",
              "0     1725.257889   1694.115898   1693.749947   1683.668674   1717.603917   \n",
              "1     1716.679611   1656.368988   1581.513058   1708.310785   1548.428545   \n",
              "2     1725.376856   1653.030065   1672.467089   1643.311458   1819.993782   \n",
              "3     1790.112363   1698.038843   1641.288065   1675.598528   1730.269250   \n",
              "4     1777.974878   1632.117522   1600.571946   1601.875943   1536.941823   \n",
              "..            ...           ...           ...           ...           ...   \n",
              "495   1667.714121   1776.988765   1636.918282   1734.771111   1764.201428   \n",
              "496   1606.668653   1709.568511   1666.395745   1769.171991   1565.494929   \n",
              "497   1712.788090   1635.680310   1672.331842   1783.728582   1740.595905   \n",
              "498   1609.860492   1664.406653   1580.805144   1617.100297   1771.290299   \n",
              "499   1624.165508   1712.253265   1525.351065   1737.619352   1657.031612   \n",
              "\n",
              "     muestra 1996  muestra 1997  muestra 1998  muestra 1999  muestra 2000  \n",
              "0     1595.144960   1671.567411   1607.323442   1715.108443   1752.060761  \n",
              "1     1590.587406   1757.907584   1721.133816   1834.631917   1623.974902  \n",
              "2     1669.349781   1511.304955   1655.977444   1625.951857   1699.796015  \n",
              "3     1737.663260   1654.438404   1713.828883   1634.680460   1635.450817  \n",
              "4     1749.318944   1677.810274   1714.317622   1753.510258   1704.139082  \n",
              "..            ...           ...           ...           ...           ...  \n",
              "495   1709.371868   1643.170541   1614.015473   1675.707220   1767.224274  \n",
              "496   1733.826902   1690.960371   1514.902901   1656.791541   1704.689990  \n",
              "497   1639.935853   1620.514290   1642.615641   1719.560871   1726.783453  \n",
              "498   1601.397761   1638.279280   1706.235402   1727.562519   1707.121692  \n",
              "499   1576.462353   1692.048086   1794.241707   1663.872465   1812.680214  \n",
              "\n",
              "[500 rows x 2000 columns]"
            ],
            "text/html": [
              "\n",
              "  <div id=\"df-80fad305-706a-48c2-89e4-34a04bf482b4\" class=\"colab-df-container\">\n",
              "    <div>\n",
              "<style scoped>\n",
              "    .dataframe tbody tr th:only-of-type {\n",
              "        vertical-align: middle;\n",
              "    }\n",
              "\n",
              "    .dataframe tbody tr th {\n",
              "        vertical-align: top;\n",
              "    }\n",
              "\n",
              "    .dataframe thead th {\n",
              "        text-align: right;\n",
              "    }\n",
              "</style>\n",
              "<table border=\"1\" class=\"dataframe\">\n",
              "  <thead>\n",
              "    <tr style=\"text-align: right;\">\n",
              "      <th></th>\n",
              "      <th>muestra 1</th>\n",
              "      <th>muestra 2</th>\n",
              "      <th>muestra 3</th>\n",
              "      <th>muestra 4</th>\n",
              "      <th>muestra 5</th>\n",
              "      <th>muestra 6</th>\n",
              "      <th>muestra 7</th>\n",
              "      <th>muestra 8</th>\n",
              "      <th>muestra 9</th>\n",
              "      <th>muestra 10</th>\n",
              "      <th>...</th>\n",
              "      <th>muestra 1991</th>\n",
              "      <th>muestra 1992</th>\n",
              "      <th>muestra 1993</th>\n",
              "      <th>muestra 1994</th>\n",
              "      <th>muestra 1995</th>\n",
              "      <th>muestra 1996</th>\n",
              "      <th>muestra 1997</th>\n",
              "      <th>muestra 1998</th>\n",
              "      <th>muestra 1999</th>\n",
              "      <th>muestra 2000</th>\n",
              "    </tr>\n",
              "  </thead>\n",
              "  <tbody>\n",
              "    <tr>\n",
              "      <th>0</th>\n",
              "      <td>1801.301854</td>\n",
              "      <td>1657.467780</td>\n",
              "      <td>1518.337326</td>\n",
              "      <td>1625.537024</td>\n",
              "      <td>1739.300864</td>\n",
              "      <td>1623.972371</td>\n",
              "      <td>1707.161743</td>\n",
              "      <td>1617.120738</td>\n",
              "      <td>1658.611499</td>\n",
              "      <td>1742.071674</td>\n",
              "      <td>...</td>\n",
              "      <td>1725.257889</td>\n",
              "      <td>1694.115898</td>\n",
              "      <td>1693.749947</td>\n",
              "      <td>1683.668674</td>\n",
              "      <td>1717.603917</td>\n",
              "      <td>1595.144960</td>\n",
              "      <td>1671.567411</td>\n",
              "      <td>1607.323442</td>\n",
              "      <td>1715.108443</td>\n",
              "      <td>1752.060761</td>\n",
              "    </tr>\n",
              "    <tr>\n",
              "      <th>1</th>\n",
              "      <td>1624.530400</td>\n",
              "      <td>1689.728190</td>\n",
              "      <td>1649.839944</td>\n",
              "      <td>1659.018252</td>\n",
              "      <td>1709.150632</td>\n",
              "      <td>1807.790726</td>\n",
              "      <td>1530.413857</td>\n",
              "      <td>1740.277783</td>\n",
              "      <td>1780.700102</td>\n",
              "      <td>1682.530725</td>\n",
              "      <td>...</td>\n",
              "      <td>1716.679611</td>\n",
              "      <td>1656.368988</td>\n",
              "      <td>1581.513058</td>\n",
              "      <td>1708.310785</td>\n",
              "      <td>1548.428545</td>\n",
              "      <td>1590.587406</td>\n",
              "      <td>1757.907584</td>\n",
              "      <td>1721.133816</td>\n",
              "      <td>1834.631917</td>\n",
              "      <td>1623.974902</td>\n",
              "    </tr>\n",
              "    <tr>\n",
              "      <th>2</th>\n",
              "      <td>1650.031573</td>\n",
              "      <td>1704.760370</td>\n",
              "      <td>1780.963447</td>\n",
              "      <td>1638.676453</td>\n",
              "      <td>1656.962865</td>\n",
              "      <td>1655.500202</td>\n",
              "      <td>1650.396236</td>\n",
              "      <td>1748.786327</td>\n",
              "      <td>1618.839921</td>\n",
              "      <td>1644.297773</td>\n",
              "      <td>...</td>\n",
              "      <td>1725.376856</td>\n",
              "      <td>1653.030065</td>\n",
              "      <td>1672.467089</td>\n",
              "      <td>1643.311458</td>\n",
              "      <td>1819.993782</td>\n",
              "      <td>1669.349781</td>\n",
              "      <td>1511.304955</td>\n",
              "      <td>1655.977444</td>\n",
              "      <td>1625.951857</td>\n",
              "      <td>1699.796015</td>\n",
              "    </tr>\n",
              "    <tr>\n",
              "      <th>3</th>\n",
              "      <td>1719.048002</td>\n",
              "      <td>1652.520555</td>\n",
              "      <td>1615.001941</td>\n",
              "      <td>1636.100558</td>\n",
              "      <td>1713.684928</td>\n",
              "      <td>1623.235262</td>\n",
              "      <td>1713.851750</td>\n",
              "      <td>1725.764452</td>\n",
              "      <td>1641.860404</td>\n",
              "      <td>1580.152249</td>\n",
              "      <td>...</td>\n",
              "      <td>1790.112363</td>\n",
              "      <td>1698.038843</td>\n",
              "      <td>1641.288065</td>\n",
              "      <td>1675.598528</td>\n",
              "      <td>1730.269250</td>\n",
              "      <td>1737.663260</td>\n",
              "      <td>1654.438404</td>\n",
              "      <td>1713.828883</td>\n",
              "      <td>1634.680460</td>\n",
              "      <td>1635.450817</td>\n",
              "    </tr>\n",
              "    <tr>\n",
              "      <th>4</th>\n",
              "      <td>1661.316641</td>\n",
              "      <td>1709.093184</td>\n",
              "      <td>1573.628596</td>\n",
              "      <td>1673.478341</td>\n",
              "      <td>1556.425944</td>\n",
              "      <td>1594.783749</td>\n",
              "      <td>1722.671438</td>\n",
              "      <td>1641.795459</td>\n",
              "      <td>1638.623556</td>\n",
              "      <td>1734.389429</td>\n",
              "      <td>...</td>\n",
              "      <td>1777.974878</td>\n",
              "      <td>1632.117522</td>\n",
              "      <td>1600.571946</td>\n",
              "      <td>1601.875943</td>\n",
              "      <td>1536.941823</td>\n",
              "      <td>1749.318944</td>\n",
              "      <td>1677.810274</td>\n",
              "      <td>1714.317622</td>\n",
              "      <td>1753.510258</td>\n",
              "      <td>1704.139082</td>\n",
              "    </tr>\n",
              "    <tr>\n",
              "      <th>...</th>\n",
              "      <td>...</td>\n",
              "      <td>...</td>\n",
              "      <td>...</td>\n",
              "      <td>...</td>\n",
              "      <td>...</td>\n",
              "      <td>...</td>\n",
              "      <td>...</td>\n",
              "      <td>...</td>\n",
              "      <td>...</td>\n",
              "      <td>...</td>\n",
              "      <td>...</td>\n",
              "      <td>...</td>\n",
              "      <td>...</td>\n",
              "      <td>...</td>\n",
              "      <td>...</td>\n",
              "      <td>...</td>\n",
              "      <td>...</td>\n",
              "      <td>...</td>\n",
              "      <td>...</td>\n",
              "      <td>...</td>\n",
              "      <td>...</td>\n",
              "    </tr>\n",
              "    <tr>\n",
              "      <th>495</th>\n",
              "      <td>1586.272824</td>\n",
              "      <td>1649.827879</td>\n",
              "      <td>1611.120179</td>\n",
              "      <td>1679.026950</td>\n",
              "      <td>1713.474248</td>\n",
              "      <td>1702.224919</td>\n",
              "      <td>1570.194552</td>\n",
              "      <td>1620.973457</td>\n",
              "      <td>1530.250257</td>\n",
              "      <td>1763.045658</td>\n",
              "      <td>...</td>\n",
              "      <td>1667.714121</td>\n",
              "      <td>1776.988765</td>\n",
              "      <td>1636.918282</td>\n",
              "      <td>1734.771111</td>\n",
              "      <td>1764.201428</td>\n",
              "      <td>1709.371868</td>\n",
              "      <td>1643.170541</td>\n",
              "      <td>1614.015473</td>\n",
              "      <td>1675.707220</td>\n",
              "      <td>1767.224274</td>\n",
              "    </tr>\n",
              "    <tr>\n",
              "      <th>496</th>\n",
              "      <td>1699.660809</td>\n",
              "      <td>1671.372674</td>\n",
              "      <td>1740.257652</td>\n",
              "      <td>1644.170974</td>\n",
              "      <td>1672.058332</td>\n",
              "      <td>1836.110345</td>\n",
              "      <td>1688.734199</td>\n",
              "      <td>1741.120936</td>\n",
              "      <td>1806.553654</td>\n",
              "      <td>1701.015618</td>\n",
              "      <td>...</td>\n",
              "      <td>1606.668653</td>\n",
              "      <td>1709.568511</td>\n",
              "      <td>1666.395745</td>\n",
              "      <td>1769.171991</td>\n",
              "      <td>1565.494929</td>\n",
              "      <td>1733.826902</td>\n",
              "      <td>1690.960371</td>\n",
              "      <td>1514.902901</td>\n",
              "      <td>1656.791541</td>\n",
              "      <td>1704.689990</td>\n",
              "    </tr>\n",
              "    <tr>\n",
              "      <th>497</th>\n",
              "      <td>1656.198629</td>\n",
              "      <td>1820.767504</td>\n",
              "      <td>1640.709464</td>\n",
              "      <td>1748.604264</td>\n",
              "      <td>1695.936048</td>\n",
              "      <td>1713.062355</td>\n",
              "      <td>1665.393879</td>\n",
              "      <td>1584.011785</td>\n",
              "      <td>1731.458777</td>\n",
              "      <td>1647.031468</td>\n",
              "      <td>...</td>\n",
              "      <td>1712.788090</td>\n",
              "      <td>1635.680310</td>\n",
              "      <td>1672.331842</td>\n",
              "      <td>1783.728582</td>\n",
              "      <td>1740.595905</td>\n",
              "      <td>1639.935853</td>\n",
              "      <td>1620.514290</td>\n",
              "      <td>1642.615641</td>\n",
              "      <td>1719.560871</td>\n",
              "      <td>1726.783453</td>\n",
              "    </tr>\n",
              "    <tr>\n",
              "      <th>498</th>\n",
              "      <td>1715.055225</td>\n",
              "      <td>1645.332689</td>\n",
              "      <td>1620.380557</td>\n",
              "      <td>1717.252674</td>\n",
              "      <td>1607.321821</td>\n",
              "      <td>1664.943593</td>\n",
              "      <td>1678.931412</td>\n",
              "      <td>1726.830573</td>\n",
              "      <td>1810.475641</td>\n",
              "      <td>1843.466089</td>\n",
              "      <td>...</td>\n",
              "      <td>1609.860492</td>\n",
              "      <td>1664.406653</td>\n",
              "      <td>1580.805144</td>\n",
              "      <td>1617.100297</td>\n",
              "      <td>1771.290299</td>\n",
              "      <td>1601.397761</td>\n",
              "      <td>1638.279280</td>\n",
              "      <td>1706.235402</td>\n",
              "      <td>1727.562519</td>\n",
              "      <td>1707.121692</td>\n",
              "    </tr>\n",
              "    <tr>\n",
              "      <th>499</th>\n",
              "      <td>1497.932031</td>\n",
              "      <td>1708.299630</td>\n",
              "      <td>1665.404691</td>\n",
              "      <td>1696.186516</td>\n",
              "      <td>1619.144094</td>\n",
              "      <td>1620.629870</td>\n",
              "      <td>1612.264185</td>\n",
              "      <td>1850.155323</td>\n",
              "      <td>1723.426023</td>\n",
              "      <td>1704.095039</td>\n",
              "      <td>...</td>\n",
              "      <td>1624.165508</td>\n",
              "      <td>1712.253265</td>\n",
              "      <td>1525.351065</td>\n",
              "      <td>1737.619352</td>\n",
              "      <td>1657.031612</td>\n",
              "      <td>1576.462353</td>\n",
              "      <td>1692.048086</td>\n",
              "      <td>1794.241707</td>\n",
              "      <td>1663.872465</td>\n",
              "      <td>1812.680214</td>\n",
              "    </tr>\n",
              "  </tbody>\n",
              "</table>\n",
              "<p>500 rows × 2000 columns</p>\n",
              "</div>\n",
              "    <div class=\"colab-df-buttons\">\n",
              "\n",
              "  <div class=\"colab-df-container\">\n",
              "    <button class=\"colab-df-convert\" onclick=\"convertToInteractive('df-80fad305-706a-48c2-89e4-34a04bf482b4')\"\n",
              "            title=\"Convert this dataframe to an interactive table.\"\n",
              "            style=\"display:none;\">\n",
              "\n",
              "  <svg xmlns=\"http://www.w3.org/2000/svg\" height=\"24px\" viewBox=\"0 -960 960 960\">\n",
              "    <path d=\"M120-120v-720h720v720H120Zm60-500h600v-160H180v160Zm220 220h160v-160H400v160Zm0 220h160v-160H400v160ZM180-400h160v-160H180v160Zm440 0h160v-160H620v160ZM180-180h160v-160H180v160Zm440 0h160v-160H620v160Z\"/>\n",
              "  </svg>\n",
              "    </button>\n",
              "\n",
              "  <style>\n",
              "    .colab-df-container {\n",
              "      display:flex;\n",
              "      gap: 12px;\n",
              "    }\n",
              "\n",
              "    .colab-df-convert {\n",
              "      background-color: #E8F0FE;\n",
              "      border: none;\n",
              "      border-radius: 50%;\n",
              "      cursor: pointer;\n",
              "      display: none;\n",
              "      fill: #1967D2;\n",
              "      height: 32px;\n",
              "      padding: 0 0 0 0;\n",
              "      width: 32px;\n",
              "    }\n",
              "\n",
              "    .colab-df-convert:hover {\n",
              "      background-color: #E2EBFA;\n",
              "      box-shadow: 0px 1px 2px rgba(60, 64, 67, 0.3), 0px 1px 3px 1px rgba(60, 64, 67, 0.15);\n",
              "      fill: #174EA6;\n",
              "    }\n",
              "\n",
              "    .colab-df-buttons div {\n",
              "      margin-bottom: 4px;\n",
              "    }\n",
              "\n",
              "    [theme=dark] .colab-df-convert {\n",
              "      background-color: #3B4455;\n",
              "      fill: #D2E3FC;\n",
              "    }\n",
              "\n",
              "    [theme=dark] .colab-df-convert:hover {\n",
              "      background-color: #434B5C;\n",
              "      box-shadow: 0px 1px 3px 1px rgba(0, 0, 0, 0.15);\n",
              "      filter: drop-shadow(0px 1px 2px rgba(0, 0, 0, 0.3));\n",
              "      fill: #FFFFFF;\n",
              "    }\n",
              "  </style>\n",
              "\n",
              "    <script>\n",
              "      const buttonEl =\n",
              "        document.querySelector('#df-80fad305-706a-48c2-89e4-34a04bf482b4 button.colab-df-convert');\n",
              "      buttonEl.style.display =\n",
              "        google.colab.kernel.accessAllowed ? 'block' : 'none';\n",
              "\n",
              "      async function convertToInteractive(key) {\n",
              "        const element = document.querySelector('#df-80fad305-706a-48c2-89e4-34a04bf482b4');\n",
              "        const dataTable =\n",
              "          await google.colab.kernel.invokeFunction('convertToInteractive',\n",
              "                                                    [key], {});\n",
              "        if (!dataTable) return;\n",
              "\n",
              "        const docLinkHtml = 'Like what you see? Visit the ' +\n",
              "          '<a target=\"_blank\" href=https://colab.research.google.com/notebooks/data_table.ipynb>data table notebook</a>'\n",
              "          + ' to learn more about interactive tables.';\n",
              "        element.innerHTML = '';\n",
              "        dataTable['output_type'] = 'display_data';\n",
              "        await google.colab.output.renderOutput(dataTable, element);\n",
              "        const docLink = document.createElement('div');\n",
              "        docLink.innerHTML = docLinkHtml;\n",
              "        element.appendChild(docLink);\n",
              "      }\n",
              "    </script>\n",
              "  </div>\n",
              "\n",
              "\n",
              "    <div id=\"df-0c4f2bf1-81c7-458b-9490-b146d9552fe3\">\n",
              "      <button class=\"colab-df-quickchart\" onclick=\"quickchart('df-0c4f2bf1-81c7-458b-9490-b146d9552fe3')\"\n",
              "                title=\"Suggest charts\"\n",
              "                style=\"display:none;\">\n",
              "\n",
              "<svg xmlns=\"http://www.w3.org/2000/svg\" height=\"24px\"viewBox=\"0 0 24 24\"\n",
              "     width=\"24px\">\n",
              "    <g>\n",
              "        <path d=\"M19 3H5c-1.1 0-2 .9-2 2v14c0 1.1.9 2 2 2h14c1.1 0 2-.9 2-2V5c0-1.1-.9-2-2-2zM9 17H7v-7h2v7zm4 0h-2V7h2v10zm4 0h-2v-4h2v4z\"/>\n",
              "    </g>\n",
              "</svg>\n",
              "      </button>\n",
              "\n",
              "<style>\n",
              "  .colab-df-quickchart {\n",
              "      --bg-color: #E8F0FE;\n",
              "      --fill-color: #1967D2;\n",
              "      --hover-bg-color: #E2EBFA;\n",
              "      --hover-fill-color: #174EA6;\n",
              "      --disabled-fill-color: #AAA;\n",
              "      --disabled-bg-color: #DDD;\n",
              "  }\n",
              "\n",
              "  [theme=dark] .colab-df-quickchart {\n",
              "      --bg-color: #3B4455;\n",
              "      --fill-color: #D2E3FC;\n",
              "      --hover-bg-color: #434B5C;\n",
              "      --hover-fill-color: #FFFFFF;\n",
              "      --disabled-bg-color: #3B4455;\n",
              "      --disabled-fill-color: #666;\n",
              "  }\n",
              "\n",
              "  .colab-df-quickchart {\n",
              "    background-color: var(--bg-color);\n",
              "    border: none;\n",
              "    border-radius: 50%;\n",
              "    cursor: pointer;\n",
              "    display: none;\n",
              "    fill: var(--fill-color);\n",
              "    height: 32px;\n",
              "    padding: 0;\n",
              "    width: 32px;\n",
              "  }\n",
              "\n",
              "  .colab-df-quickchart:hover {\n",
              "    background-color: var(--hover-bg-color);\n",
              "    box-shadow: 0 1px 2px rgba(60, 64, 67, 0.3), 0 1px 3px 1px rgba(60, 64, 67, 0.15);\n",
              "    fill: var(--button-hover-fill-color);\n",
              "  }\n",
              "\n",
              "  .colab-df-quickchart-complete:disabled,\n",
              "  .colab-df-quickchart-complete:disabled:hover {\n",
              "    background-color: var(--disabled-bg-color);\n",
              "    fill: var(--disabled-fill-color);\n",
              "    box-shadow: none;\n",
              "  }\n",
              "\n",
              "  .colab-df-spinner {\n",
              "    border: 2px solid var(--fill-color);\n",
              "    border-color: transparent;\n",
              "    border-bottom-color: var(--fill-color);\n",
              "    animation:\n",
              "      spin 1s steps(1) infinite;\n",
              "  }\n",
              "\n",
              "  @keyframes spin {\n",
              "    0% {\n",
              "      border-color: transparent;\n",
              "      border-bottom-color: var(--fill-color);\n",
              "      border-left-color: var(--fill-color);\n",
              "    }\n",
              "    20% {\n",
              "      border-color: transparent;\n",
              "      border-left-color: var(--fill-color);\n",
              "      border-top-color: var(--fill-color);\n",
              "    }\n",
              "    30% {\n",
              "      border-color: transparent;\n",
              "      border-left-color: var(--fill-color);\n",
              "      border-top-color: var(--fill-color);\n",
              "      border-right-color: var(--fill-color);\n",
              "    }\n",
              "    40% {\n",
              "      border-color: transparent;\n",
              "      border-right-color: var(--fill-color);\n",
              "      border-top-color: var(--fill-color);\n",
              "    }\n",
              "    60% {\n",
              "      border-color: transparent;\n",
              "      border-right-color: var(--fill-color);\n",
              "    }\n",
              "    80% {\n",
              "      border-color: transparent;\n",
              "      border-right-color: var(--fill-color);\n",
              "      border-bottom-color: var(--fill-color);\n",
              "    }\n",
              "    90% {\n",
              "      border-color: transparent;\n",
              "      border-bottom-color: var(--fill-color);\n",
              "    }\n",
              "  }\n",
              "</style>\n",
              "\n",
              "      <script>\n",
              "        async function quickchart(key) {\n",
              "          const quickchartButtonEl =\n",
              "            document.querySelector('#' + key + ' button');\n",
              "          quickchartButtonEl.disabled = true;  // To prevent multiple clicks.\n",
              "          quickchartButtonEl.classList.add('colab-df-spinner');\n",
              "          try {\n",
              "            const charts = await google.colab.kernel.invokeFunction(\n",
              "                'suggestCharts', [key], {});\n",
              "          } catch (error) {\n",
              "            console.error('Error during call to suggestCharts:', error);\n",
              "          }\n",
              "          quickchartButtonEl.classList.remove('colab-df-spinner');\n",
              "          quickchartButtonEl.classList.add('colab-df-quickchart-complete');\n",
              "        }\n",
              "        (() => {\n",
              "          let quickchartButtonEl =\n",
              "            document.querySelector('#df-0c4f2bf1-81c7-458b-9490-b146d9552fe3 button');\n",
              "          quickchartButtonEl.style.display =\n",
              "            google.colab.kernel.accessAllowed ? 'block' : 'none';\n",
              "        })();\n",
              "      </script>\n",
              "    </div>\n",
              "\n",
              "  <div id=\"id_a1b1c182-c7ba-441f-9d1c-c49f177593ed\">\n",
              "    <style>\n",
              "      .colab-df-generate {\n",
              "        background-color: #E8F0FE;\n",
              "        border: none;\n",
              "        border-radius: 50%;\n",
              "        cursor: pointer;\n",
              "        display: none;\n",
              "        fill: #1967D2;\n",
              "        height: 32px;\n",
              "        padding: 0 0 0 0;\n",
              "        width: 32px;\n",
              "      }\n",
              "\n",
              "      .colab-df-generate:hover {\n",
              "        background-color: #E2EBFA;\n",
              "        box-shadow: 0px 1px 2px rgba(60, 64, 67, 0.3), 0px 1px 3px 1px rgba(60, 64, 67, 0.15);\n",
              "        fill: #174EA6;\n",
              "      }\n",
              "\n",
              "      [theme=dark] .colab-df-generate {\n",
              "        background-color: #3B4455;\n",
              "        fill: #D2E3FC;\n",
              "      }\n",
              "\n",
              "      [theme=dark] .colab-df-generate:hover {\n",
              "        background-color: #434B5C;\n",
              "        box-shadow: 0px 1px 3px 1px rgba(0, 0, 0, 0.15);\n",
              "        filter: drop-shadow(0px 1px 2px rgba(0, 0, 0, 0.3));\n",
              "        fill: #FFFFFF;\n",
              "      }\n",
              "    </style>\n",
              "    <button class=\"colab-df-generate\" onclick=\"generateWithVariable('alturas_hombres')\"\n",
              "            title=\"Generate code using this dataframe.\"\n",
              "            style=\"display:none;\">\n",
              "\n",
              "  <svg xmlns=\"http://www.w3.org/2000/svg\" height=\"24px\"viewBox=\"0 0 24 24\"\n",
              "       width=\"24px\">\n",
              "    <path d=\"M7,19H8.4L18.45,9,17,7.55,7,17.6ZM5,21V16.75L18.45,3.32a2,2,0,0,1,2.83,0l1.4,1.43a1.91,1.91,0,0,1,.58,1.4,1.91,1.91,0,0,1-.58,1.4L9.25,21ZM18.45,9,17,7.55Zm-12,3A5.31,5.31,0,0,0,4.9,8.1,5.31,5.31,0,0,0,1,6.5,5.31,5.31,0,0,0,4.9,4.9,5.31,5.31,0,0,0,6.5,1,5.31,5.31,0,0,0,8.1,4.9,5.31,5.31,0,0,0,12,6.5,5.46,5.46,0,0,0,6.5,12Z\"/>\n",
              "  </svg>\n",
              "    </button>\n",
              "    <script>\n",
              "      (() => {\n",
              "      const buttonEl =\n",
              "        document.querySelector('#id_a1b1c182-c7ba-441f-9d1c-c49f177593ed button.colab-df-generate');\n",
              "      buttonEl.style.display =\n",
              "        google.colab.kernel.accessAllowed ? 'block' : 'none';\n",
              "\n",
              "      buttonEl.onclick = () => {\n",
              "        google.colab.notebook.generateWithVariable('alturas_hombres');\n",
              "      }\n",
              "      })();\n",
              "    </script>\n",
              "  </div>\n",
              "\n",
              "    </div>\n",
              "  </div>\n"
            ],
            "application/vnd.google.colaboratory.intrinsic+json": {
              "type": "dataframe",
              "variable_name": "alturas_hombres"
            }
          },
          "metadata": {},
          "execution_count": 38
        }
      ]
    },
    {
      "cell_type": "markdown",
      "metadata": {
        "id": "r6nJFS3thxsb"
      },
      "source": [
        "<h2> Distribución de cada muestra"
      ]
    },
    {
      "cell_type": "code",
      "metadata": {
        "id": "GIBiBnle7qRy",
        "colab": {
          "base_uri": "https://localhost:8080/",
          "height": 452
        },
        "outputId": "235147d2-50cb-40e7-ff30-8862ab398230"
      },
      "source": [
        "alturas_hombres.sample(6, axis = 1).hist(sharex= True)\n",
        "plt.show()"
      ],
      "execution_count": 39,
      "outputs": [
        {
          "output_type": "display_data",
          "data": {
            "text/plain": [
              "<Figure size 640x480 with 6 Axes>"
            ],
            "image/png": "[encoded data removed]"
          },
          "metadata": {}
        }
      ]
    },
    {
      "cell_type": "markdown",
      "metadata": {
        "id": "E2NUamHk1pi0"
      },
      "source": [
        "<h2> Distribución de la suma"
      ]
    },
    {
      "cell_type": "code",
      "metadata": {
        "colab": {
          "base_uri": "https://localhost:8080/",
          "height": 458
        },
        "outputId": "3e2cab2d-68e5-4f22-86f5-bf3a3fee0272",
        "id": "7L4dVKRh1pi9"
      },
      "source": [
        "suma = alturas_hombres.sum()\n",
        "suma"
      ],
      "execution_count": 40,
      "outputs": [
        {
          "output_type": "execute_result",
          "data": {
            "text/plain": [
              "muestra 1       837026.902923\n",
              "muestra 2       838082.487536\n",
              "muestra 3       836554.006879\n",
              "muestra 4       837683.398308\n",
              "muestra 5       836032.867460\n",
              "                    ...      \n",
              "muestra 1996    838051.091977\n",
              "muestra 1997    837605.705175\n",
              "muestra 1998    838368.228444\n",
              "muestra 1999    834401.837182\n",
              "muestra 2000    837699.709546\n",
              "Length: 2000, dtype: float64"
            ],
            "text/html": [
              "<div>\n",
              "<style scoped>\n",
              "    .dataframe tbody tr th:only-of-type {\n",
              "        vertical-align: middle;\n",
              "    }\n",
              "\n",
              "    .dataframe tbody tr th {\n",
              "        vertical-align: top;\n",
              "    }\n",
              "\n",
              "    .dataframe thead th {\n",
              "        text-align: right;\n",
              "    }\n",
              "</style>\n",
              "<table border=\"1\" class=\"dataframe\">\n",
              "  <thead>\n",
              "    <tr style=\"text-align: right;\">\n",
              "      <th></th>\n",
              "      <th>0</th>\n",
              "    </tr>\n",
              "  </thead>\n",
              "  <tbody>\n",
              "    <tr>\n",
              "      <th>muestra 1</th>\n",
              "      <td>837026.902923</td>\n",
              "    </tr>\n",
              "    <tr>\n",
              "      <th>muestra 2</th>\n",
              "      <td>838082.487536</td>\n",
              "    </tr>\n",
              "    <tr>\n",
              "      <th>muestra 3</th>\n",
              "      <td>836554.006879</td>\n",
              "    </tr>\n",
              "    <tr>\n",
              "      <th>muestra 4</th>\n",
              "      <td>837683.398308</td>\n",
              "    </tr>\n",
              "    <tr>\n",
              "      <th>muestra 5</th>\n",
              "      <td>836032.867460</td>\n",
              "    </tr>\n",
              "    <tr>\n",
              "      <th>...</th>\n",
              "      <td>...</td>\n",
              "    </tr>\n",
              "    <tr>\n",
              "      <th>muestra 1996</th>\n",
              "      <td>838051.091977</td>\n",
              "    </tr>\n",
              "    <tr>\n",
              "      <th>muestra 1997</th>\n",
              "      <td>837605.705175</td>\n",
              "    </tr>\n",
              "    <tr>\n",
              "      <th>muestra 1998</th>\n",
              "      <td>838368.228444</td>\n",
              "    </tr>\n",
              "    <tr>\n",
              "      <th>muestra 1999</th>\n",
              "      <td>834401.837182</td>\n",
              "    </tr>\n",
              "    <tr>\n",
              "      <th>muestra 2000</th>\n",
              "      <td>837699.709546</td>\n",
              "    </tr>\n",
              "  </tbody>\n",
              "</table>\n",
              "<p>2000 rows × 1 columns</p>\n",
              "</div><br><label><b>dtype:</b> float64</label>"
            ]
          },
          "metadata": {},
          "execution_count": 40
        }
      ]
    },
    {
      "cell_type": "code",
      "source": [
        "suma.hist(bins=30, figsize=(4,3), density=True)\n",
        "plt.show()"
      ],
      "metadata": {
        "colab": {
          "base_uri": "https://localhost:8080/",
          "height": 291
        },
        "id": "tdDssNPB2hqn",
        "outputId": "92edda5e-2497-4ecc-ee7f-38baf8c3ffa2"
      },
      "execution_count": 41,
      "outputs": [
        {
          "output_type": "display_data",
          "data": {
            "text/plain": [
              "<Figure size 400x300 with 1 Axes>"
            ],
            "image/png": "[encoded data removed]"
          },
          "metadata": {}
        }
      ]
    },
    {
      "cell_type": "markdown",
      "metadata": {
        "id": "dpqepVsWhbyJ"
      },
      "source": [
        "<h2> Distribución de los promedios"
      ]
    },
    {
      "cell_type": "code",
      "metadata": {
        "colab": {
          "base_uri": "https://localhost:8080/",
          "height": 458
        },
        "id": "7-mAkd3pRRtx",
        "outputId": "70889368-aa7d-4371-eaaf-171727ea93aa",
        "collapsed": true
      },
      "source": [
        "medias = alturas_hombres.mean()\n",
        "medias"
      ],
      "execution_count": 42,
      "outputs": [
        {
          "output_type": "execute_result",
          "data": {
            "text/plain": [
              "muestra 1       1674.053806\n",
              "muestra 2       1676.164975\n",
              "muestra 3       1673.108014\n",
              "muestra 4       1675.366797\n",
              "muestra 5       1672.065735\n",
              "                   ...     \n",
              "muestra 1996    1676.102184\n",
              "muestra 1997    1675.211410\n",
              "muestra 1998    1676.736457\n",
              "muestra 1999    1668.803674\n",
              "muestra 2000    1675.399419\n",
              "Length: 2000, dtype: float64"
            ],
            "text/html": [
              "<div>\n",
              "<style scoped>\n",
              "    .dataframe tbody tr th:only-of-type {\n",
              "        vertical-align: middle;\n",
              "    }\n",
              "\n",
              "    .dataframe tbody tr th {\n",
              "        vertical-align: top;\n",
              "    }\n",
              "\n",
              "    .dataframe thead th {\n",
              "        text-align: right;\n",
              "    }\n",
              "</style>\n",
              "<table border=\"1\" class=\"dataframe\">\n",
              "  <thead>\n",
              "    <tr style=\"text-align: right;\">\n",
              "      <th></th>\n",
              "      <th>0</th>\n",
              "    </tr>\n",
              "  </thead>\n",
              "  <tbody>\n",
              "    <tr>\n",
              "      <th>muestra 1</th>\n",
              "      <td>1674.053806</td>\n",
              "    </tr>\n",
              "    <tr>\n",
              "      <th>muestra 2</th>\n",
              "      <td>1676.164975</td>\n",
              "    </tr>\n",
              "    <tr>\n",
              "      <th>muestra 3</th>\n",
              "      <td>1673.108014</td>\n",
              "    </tr>\n",
              "    <tr>\n",
              "      <th>muestra 4</th>\n",
              "      <td>1675.366797</td>\n",
              "    </tr>\n",
              "    <tr>\n",
              "      <th>muestra 5</th>\n",
              "      <td>1672.065735</td>\n",
              "    </tr>\n",
              "    <tr>\n",
              "      <th>...</th>\n",
              "      <td>...</td>\n",
              "    </tr>\n",
              "    <tr>\n",
              "      <th>muestra 1996</th>\n",
              "      <td>1676.102184</td>\n",
              "    </tr>\n",
              "    <tr>\n",
              "      <th>muestra 1997</th>\n",
              "      <td>1675.211410</td>\n",
              "    </tr>\n",
              "    <tr>\n",
              "      <th>muestra 1998</th>\n",
              "      <td>1676.736457</td>\n",
              "    </tr>\n",
              "    <tr>\n",
              "      <th>muestra 1999</th>\n",
              "      <td>1668.803674</td>\n",
              "    </tr>\n",
              "    <tr>\n",
              "      <th>muestra 2000</th>\n",
              "      <td>1675.399419</td>\n",
              "    </tr>\n",
              "  </tbody>\n",
              "</table>\n",
              "<p>2000 rows × 1 columns</p>\n",
              "</div><br><label><b>dtype:</b> float64</label>"
            ]
          },
          "metadata": {},
          "execution_count": 42
        }
      ]
    },
    {
      "cell_type": "code",
      "source": [
        "medias.hist(bins=30, figsize=(4,3), density=True)\n",
        "plt.show()"
      ],
      "metadata": {
        "id": "VHcdXQzppPnI",
        "outputId": "5e021326-e833-42bb-a0f0-2c562fc09e4d",
        "colab": {
          "base_uri": "https://localhost:8080/",
          "height": 291
        }
      },
      "execution_count": 43,
      "outputs": [
        {
          "output_type": "display_data",
          "data": {
            "text/plain": [
              "<Figure size 400x300 with 1 Axes>"
            ],
            "image/png": "[encoded data removed]"
          },
          "metadata": {}
        }
      ]
    },
    {
      "cell_type": "markdown",
      "source": [
        "<h2> Distribución de los errores"
      ],
      "metadata": {
        "id": "h50zqQYE0XUu"
      }
    },
    {
      "cell_type": "code",
      "metadata": {
        "id": "Q0zt05sw72tK",
        "colab": {
          "base_uri": "https://localhost:8080/",
          "height": 291
        },
        "outputId": "8a53a190-4605-4e80-9fd9-3cf077f3f80f"
      },
      "source": [
        "\n",
        "\n",
        "errores = medias-mu\n",
        "errores.hist(bins=30, figsize=(4,3), density=True) # Use density=True to normalize the histogram\n",
        "plt.show()"
      ],
      "execution_count": 44,
      "outputs": [
        {
          "output_type": "display_data",
          "data": {
            "text/plain": [
              "<Figure size 400x300 with 1 Axes>"
            ],
            "image/png": "[encoded data removed]"
          },
          "metadata": {}
        }
      ]
    },
    {
      "cell_type": "markdown",
      "source": [
        "$$Z = \\frac{\\bar{x} - \\mu}{\\frac{\\sigma}{\\sqrt{n}}}$$"
      ],
      "metadata": {
        "id": "_9dOcnYh5fql"
      }
    },
    {
      "cell_type": "code",
      "source": [
        "# podemos llegar a la distribución normal estándar\n",
        "\n",
        "z  = (medias-mu)/(sigma/np.sqrt(n))\n",
        "z.hist(bins=30, figsize=(4,3), density=True)\n",
        "\n",
        "media_z, std_z = z.mean(), z.std()\n",
        "\n",
        "print(f\"\\nMedia de los Puntajes Z: {media_z:.4f} (debería ser cercano a 0)\")\n",
        "print(f\"Desviación Estándar de los Puntajes Z: {std_z:.4f} (debería ser cercano a 1)\")\n",
        "\n",
        "\n",
        "# Distribucción gaussiana\n",
        "xmin, xmax = plt.xlim()\n",
        "x = np.linspace(xmin, xmax, 100)\n",
        "p = norm.pdf(x, 0, 1)\n",
        "plt.plot(x, p, 'k', linewidth=2)\n",
        "plt.show()\n",
        "plt.show()"
      ],
      "metadata": {
        "colab": {
          "base_uri": "https://localhost:8080/",
          "height": 346
        },
        "id": "br2vHBjkvldu",
        "outputId": "8e6be8fa-81ca-4864-b08f-58299d28afc5"
      },
      "execution_count": 50,
      "outputs": [
        {
          "output_type": "stream",
          "name": "stdout",
          "text": [
            "\n",
            "Media de los Puntajes Z: -0.0176 (debería ser cercano a 0)\n",
            "Desviación Estándar de los Puntajes Z: 0.9906 (debería ser cercano a 1)\n"
          ]
        },
        {
          "output_type": "display_data",
          "data": {
            "text/plain": [
              "<Figure size 400x300 with 1 Axes>"
            ],
            "image/png": "[encoded data removed]"
          },
          "metadata": {}
        }
      ]
    },
    {
      "cell_type": "markdown",
      "metadata": {
        "id": "SdDW1MbP6As0"
      },
      "source": [
        "# Distribución Bernoulli (Agujas de Buffon)"
      ]
    },
    {
      "cell_type": "markdown",
      "metadata": {
        "id": "-_WFJKLr6As7"
      },
      "source": [
        "<h2> Obtener muestras"
      ]
    },
    {
      "cell_type": "code",
      "source": [
        "def cruce_agujas_Buffon(n):\n",
        "    l = 1\n",
        "    l_cuadrado = 10\n",
        "\n",
        "    x = np.random.uniform(0, l_cuadrado, n) # coordenada x del centro de la aguja\n",
        "    y = np.random.uniform(0, l_cuadrado, n) # cordenada y del centro del aguja\n",
        "    𝜃 = np.random.uniform(0, np.pi, n) # angulo de rotación de la aguja en radianes, entre 0 y pi (180 grados)\n",
        "\n",
        "    # Calcula coordenadas extremos (P1 y P2)\n",
        "    x1 = x - (1/2 * np.cos(𝜃))\n",
        "    y1 = y - (1/2 * np.sin(𝜃))\n",
        "\n",
        "    x2 = x + (1/2 * np.cos(𝜃))\n",
        "    y2 = y + (1/2 * np.sin(𝜃))\n",
        "\n",
        "    # ¿Cruza alguna de las lineas del tapete?\n",
        "    cruza = np.where(np.floor(y1) != np.floor(y2), 1, 0)    # np.floor(3.76) = 3\n",
        "\n",
        "    return cruza"
      ],
      "metadata": {
        "id": "Zwj_d116Pp0k"
      },
      "execution_count": 52,
      "outputs": []
    },
    {
      "cell_type": "code",
      "source": [
        "n = 3408 # tamaño de la muestra\n",
        "m = 2000 # número de muestras\n",
        "Buffon_df= pd.DataFrame.from_dict({'experimento '+str(i): cruce_agujas_Buffon(n) for i in range(1, m+1)})\n",
        "Buffon_df"
      ],
      "metadata": {
        "id": "igdXApEN6pey",
        "outputId": "265300fd-1916-450f-cd8a-ee6a8f0818da",
        "colab": {
          "base_uri": "https://localhost:8080/",
          "height": 461
        }
      },
      "execution_count": 53,
      "outputs": [
        {
          "output_type": "execute_result",
          "data": {
            "text/plain": [
              "      experimento 1  experimento 2  experimento 3  experimento 4  \\\n",
              "0                 0              1              1              1   \n",
              "1                 0              1              1              1   \n",
              "2                 1              1              1              0   \n",
              "3                 0              1              0              1   \n",
              "4                 1              1              1              1   \n",
              "...             ...            ...            ...            ...   \n",
              "3403              1              1              1              1   \n",
              "3404              0              0              1              0   \n",
              "3405              1              1              1              1   \n",
              "3406              1              0              0              1   \n",
              "3407              1              1              1              1   \n",
              "\n",
              "      experimento 5  experimento 6  experimento 7  experimento 8  \\\n",
              "0                 0              1              1              0   \n",
              "1                 0              0              0              1   \n",
              "2                 0              0              0              0   \n",
              "3                 1              0              0              1   \n",
              "4                 1              0              0              1   \n",
              "...             ...            ...            ...            ...   \n",
              "3403              1              1              1              1   \n",
              "3404              1              1              0              1   \n",
              "3405              1              0              1              1   \n",
              "3406              1              1              1              1   \n",
              "3407              1              0              1              0   \n",
              "\n",
              "      experimento 9  experimento 10  ...  experimento 1991  experimento 1992  \\\n",
              "0                 0               0  ...                 0                 1   \n",
              "1                 0               1  ...                 1                 1   \n",
              "2                 1               0  ...                 1                 0   \n",
              "3                 0               0  ...                 1                 1   \n",
              "4                 0               1  ...                 1                 1   \n",
              "...             ...             ...  ...               ...               ...   \n",
              "3403              1               1  ...                 0                 0   \n",
              "3404              1               1  ...                 1                 0   \n",
              "3405              0               1  ...                 0                 1   \n",
              "3406              1               1  ...                 1                 1   \n",
              "3407              0               1  ...                 0                 1   \n",
              "\n",
              "      experimento 1993  experimento 1994  experimento 1995  experimento 1996  \\\n",
              "0                    1                 1                 1                 1   \n",
              "1                    0                 1                 1                 0   \n",
              "2                    0                 1                 1                 1   \n",
              "3                    0                 1                 1                 1   \n",
              "4                    1                 0                 1                 0   \n",
              "...                ...               ...               ...               ...   \n",
              "3403                 1                 1                 1                 1   \n",
              "3404                 1                 1                 1                 0   \n",
              "3405                 1                 1                 1                 0   \n",
              "3406                 1                 1                 1                 1   \n",
              "3407                 1                 0                 1                 1   \n",
              "\n",
              "      experimento 1997  experimento 1998  experimento 1999  experimento 2000  \n",
              "0                    0                 0                 1                 1  \n",
              "1                    0                 1                 0                 0  \n",
              "2                    1                 1                 0                 1  \n",
              "3                    1                 1                 1                 1  \n",
              "4                    1                 1                 1                 0  \n",
              "...                ...               ...               ...               ...  \n",
              "3403                 0                 1                 0                 1  \n",
              "3404                 1                 1                 0                 1  \n",
              "3405                 1                 1                 0                 1  \n",
              "3406                 0                 1                 1                 0  \n",
              "3407                 1                 1                 1                 1  \n",
              "\n",
              "[3408 rows x 2000 columns]"
            ],
            "text/html": [
              "\n",
              "  <div id=\"df-aed81c2d-dfa0-4802-8cdc-064bb5dc4cc1\" class=\"colab-df-container\">\n",
              "    <div>\n",
              "<style scoped>\n",
              "    .dataframe tbody tr th:only-of-type {\n",
              "        vertical-align: middle;\n",
              "    }\n",
              "\n",
              "    .dataframe tbody tr th {\n",
              "        vertical-align: top;\n",
              "    }\n",
              "\n",
              "    .dataframe thead th {\n",
              "        text-align: right;\n",
              "    }\n",
              "</style>\n",
              "<table border=\"1\" class=\"dataframe\">\n",
              "  <thead>\n",
              "    <tr style=\"text-align: right;\">\n",
              "      <th></th>\n",
              "      <th>experimento 1</th>\n",
              "      <th>experimento 2</th>\n",
              "      <th>experimento 3</th>\n",
              "      <th>experimento 4</th>\n",
              "      <th>experimento 5</th>\n",
              "      <th>experimento 6</th>\n",
              "      <th>experimento 7</th>\n",
              "      <th>experimento 8</th>\n",
              "      <th>experimento 9</th>\n",
              "      <th>experimento 10</th>\n",
              "      <th>...</th>\n",
              "      <th>experimento 1991</th>\n",
              "      <th>experimento 1992</th>\n",
              "      <th>experimento 1993</th>\n",
              "      <th>experimento 1994</th>\n",
              "      <th>experimento 1995</th>\n",
              "      <th>experimento 1996</th>\n",
              "      <th>experimento 1997</th>\n",
              "      <th>experimento 1998</th>\n",
              "      <th>experimento 1999</th>\n",
              "      <th>experimento 2000</th>\n",
              "    </tr>\n",
              "  </thead>\n",
              "  <tbody>\n",
              "    <tr>\n",
              "      <th>0</th>\n",
              "      <td>0</td>\n",
              "      <td>1</td>\n",
              "      <td>1</td>\n",
              "      <td>1</td>\n",
              "      <td>0</td>\n",
              "      <td>1</td>\n",
              "      <td>1</td>\n",
              "      <td>0</td>\n",
              "      <td>0</td>\n",
              "      <td>0</td>\n",
              "      <td>...</td>\n",
              "      <td>0</td>\n",
              "      <td>1</td>\n",
              "      <td>1</td>\n",
              "      <td>1</td>\n",
              "      <td>1</td>\n",
              "      <td>1</td>\n",
              "      <td>0</td>\n",
              "      <td>0</td>\n",
              "      <td>1</td>\n",
              "      <td>1</td>\n",
              "    </tr>\n",
              "    <tr>\n",
              "      <th>1</th>\n",
              "      <td>0</td>\n",
              "      <td>1</td>\n",
              "      <td>1</td>\n",
              "      <td>1</td>\n",
              "      <td>0</td>\n",
              "      <td>0</td>\n",
              "      <td>0</td>\n",
              "      <td>1</td>\n",
              "      <td>0</td>\n",
              "      <td>1</td>\n",
              "      <td>...</td>\n",
              "      <td>1</td>\n",
              "      <td>1</td>\n",
              "      <td>0</td>\n",
              "      <td>1</td>\n",
              "      <td>1</td>\n",
              "      <td>0</td>\n",
              "      <td>0</td>\n",
              "      <td>1</td>\n",
              "      <td>0</td>\n",
              "      <td>0</td>\n",
              "    </tr>\n",
              "    <tr>\n",
              "      <th>2</th>\n",
              "      <td>1</td>\n",
              "      <td>1</td>\n",
              "      <td>1</td>\n",
              "      <td>0</td>\n",
              "      <td>0</td>\n",
              "      <td>0</td>\n",
              "      <td>0</td>\n",
              "      <td>0</td>\n",
              "      <td>1</td>\n",
              "      <td>0</td>\n",
              "      <td>...</td>\n",
              "      <td>1</td>\n",
              "      <td>0</td>\n",
              "      <td>0</td>\n",
              "      <td>1</td>\n",
              "      <td>1</td>\n",
              "      <td>1</td>\n",
              "      <td>1</td>\n",
              "      <td>1</td>\n",
              "      <td>0</td>\n",
              "      <td>1</td>\n",
              "    </tr>\n",
              "    <tr>\n",
              "      <th>3</th>\n",
              "      <td>0</td>\n",
              "      <td>1</td>\n",
              "      <td>0</td>\n",
              "      <td>1</td>\n",
              "      <td>1</td>\n",
              "      <td>0</td>\n",
              "      <td>0</td>\n",
              "      <td>1</td>\n",
              "      <td>0</td>\n",
              "      <td>0</td>\n",
              "      <td>...</td>\n",
              "      <td>1</td>\n",
              "      <td>1</td>\n",
              "      <td>0</td>\n",
              "      <td>1</td>\n",
              "      <td>1</td>\n",
              "      <td>1</td>\n",
              "      <td>1</td>\n",
              "      <td>1</td>\n",
              "      <td>1</td>\n",
              "      <td>1</td>\n",
              "    </tr>\n",
              "    <tr>\n",
              "      <th>4</th>\n",
              "      <td>1</td>\n",
              "      <td>1</td>\n",
              "      <td>1</td>\n",
              "      <td>1</td>\n",
              "      <td>1</td>\n",
              "      <td>0</td>\n",
              "      <td>0</td>\n",
              "      <td>1</td>\n",
              "      <td>0</td>\n",
              "      <td>1</td>\n",
              "      <td>...</td>\n",
              "      <td>1</td>\n",
              "      <td>1</td>\n",
              "      <td>1</td>\n",
              "      <td>0</td>\n",
              "      <td>1</td>\n",
              "      <td>0</td>\n",
              "      <td>1</td>\n",
              "      <td>1</td>\n",
              "      <td>1</td>\n",
              "      <td>0</td>\n",
              "    </tr>\n",
              "    <tr>\n",
              "      <th>...</th>\n",
              "      <td>...</td>\n",
              "      <td>...</td>\n",
              "      <td>...</td>\n",
              "      <td>...</td>\n",
              "      <td>...</td>\n",
              "      <td>...</td>\n",
              "      <td>...</td>\n",
              "      <td>...</td>\n",
              "      <td>...</td>\n",
              "      <td>...</td>\n",
              "      <td>...</td>\n",
              "      <td>...</td>\n",
              "      <td>...</td>\n",
              "      <td>...</td>\n",
              "      <td>...</td>\n",
              "      <td>...</td>\n",
              "      <td>...</td>\n",
              "      <td>...</td>\n",
              "      <td>...</td>\n",
              "      <td>...</td>\n",
              "      <td>...</td>\n",
              "    </tr>\n",
              "    <tr>\n",
              "      <th>3403</th>\n",
              "      <td>1</td>\n",
              "      <td>1</td>\n",
              "      <td>1</td>\n",
              "      <td>1</td>\n",
              "      <td>1</td>\n",
              "      <td>1</td>\n",
              "      <td>1</td>\n",
              "      <td>1</td>\n",
              "      <td>1</td>\n",
              "      <td>1</td>\n",
              "      <td>...</td>\n",
              "      <td>0</td>\n",
              "      <td>0</td>\n",
              "      <td>1</td>\n",
              "      <td>1</td>\n",
              "      <td>1</td>\n",
              "      <td>1</td>\n",
              "      <td>0</td>\n",
              "      <td>1</td>\n",
              "      <td>0</td>\n",
              "      <td>1</td>\n",
              "    </tr>\n",
              "    <tr>\n",
              "      <th>3404</th>\n",
              "      <td>0</td>\n",
              "      <td>0</td>\n",
              "      <td>1</td>\n",
              "      <td>0</td>\n",
              "      <td>1</td>\n",
              "      <td>1</td>\n",
              "      <td>0</td>\n",
              "      <td>1</td>\n",
              "      <td>1</td>\n",
              "      <td>1</td>\n",
              "      <td>...</td>\n",
              "      <td>1</td>\n",
              "      <td>0</td>\n",
              "      <td>1</td>\n",
              "      <td>1</td>\n",
              "      <td>1</td>\n",
              "      <td>0</td>\n",
              "      <td>1</td>\n",
              "      <td>1</td>\n",
              "      <td>0</td>\n",
              "      <td>1</td>\n",
              "    </tr>\n",
              "    <tr>\n",
              "      <th>3405</th>\n",
              "      <td>1</td>\n",
              "      <td>1</td>\n",
              "      <td>1</td>\n",
              "      <td>1</td>\n",
              "      <td>1</td>\n",
              "      <td>0</td>\n",
              "      <td>1</td>\n",
              "      <td>1</td>\n",
              "      <td>0</td>\n",
              "      <td>1</td>\n",
              "      <td>...</td>\n",
              "      <td>0</td>\n",
              "      <td>1</td>\n",
              "      <td>1</td>\n",
              "      <td>1</td>\n",
              "      <td>1</td>\n",
              "      <td>0</td>\n",
              "      <td>1</td>\n",
              "      <td>1</td>\n",
              "      <td>0</td>\n",
              "      <td>1</td>\n",
              "    </tr>\n",
              "    <tr>\n",
              "      <th>3406</th>\n",
              "      <td>1</td>\n",
              "      <td>0</td>\n",
              "      <td>0</td>\n",
              "      <td>1</td>\n",
              "      <td>1</td>\n",
              "      <td>1</td>\n",
              "      <td>1</td>\n",
              "      <td>1</td>\n",
              "      <td>1</td>\n",
              "      <td>1</td>\n",
              "      <td>...</td>\n",
              "      <td>1</td>\n",
              "      <td>1</td>\n",
              "      <td>1</td>\n",
              "      <td>1</td>\n",
              "      <td>1</td>\n",
              "      <td>1</td>\n",
              "      <td>0</td>\n",
              "      <td>1</td>\n",
              "      <td>1</td>\n",
              "      <td>0</td>\n",
              "    </tr>\n",
              "    <tr>\n",
              "      <th>3407</th>\n",
              "      <td>1</td>\n",
              "      <td>1</td>\n",
              "      <td>1</td>\n",
              "      <td>1</td>\n",
              "      <td>1</td>\n",
              "      <td>0</td>\n",
              "      <td>1</td>\n",
              "      <td>0</td>\n",
              "      <td>0</td>\n",
              "      <td>1</td>\n",
              "      <td>...</td>\n",
              "      <td>0</td>\n",
              "      <td>1</td>\n",
              "      <td>1</td>\n",
              "      <td>0</td>\n",
              "      <td>1</td>\n",
              "      <td>1</td>\n",
              "      <td>1</td>\n",
              "      <td>1</td>\n",
              "      <td>1</td>\n",
              "      <td>1</td>\n",
              "    </tr>\n",
              "  </tbody>\n",
              "</table>\n",
              "<p>3408 rows × 2000 columns</p>\n",
              "</div>\n",
              "    <div class=\"colab-df-buttons\">\n",
              "\n",
              "  <div class=\"colab-df-container\">\n",
              "    <button class=\"colab-df-convert\" onclick=\"convertToInteractive('df-aed81c2d-dfa0-4802-8cdc-064bb5dc4cc1')\"\n",
              "            title=\"Convert this dataframe to an interactive table.\"\n",
              "            style=\"display:none;\">\n",
              "\n",
              "  <svg xmlns=\"http://www.w3.org/2000/svg\" height=\"24px\" viewBox=\"0 -960 960 960\">\n",
              "    <path d=\"M120-120v-720h720v720H120Zm60-500h600v-160H180v160Zm220 220h160v-160H400v160Zm0 220h160v-160H400v160ZM180-400h160v-160H180v160Zm440 0h160v-160H620v160ZM180-180h160v-160H180v160Zm440 0h160v-160H620v160Z\"/>\n",
              "  </svg>\n",
              "    </button>\n",
              "\n",
              "  <style>\n",
              "    .colab-df-container {\n",
              "      display:flex;\n",
              "      gap: 12px;\n",
              "    }\n",
              "\n",
              "    .colab-df-convert {\n",
              "      background-color: #E8F0FE;\n",
              "      border: none;\n",
              "      border-radius: 50%;\n",
              "      cursor: pointer;\n",
              "      display: none;\n",
              "      fill: #1967D2;\n",
              "      height: 32px;\n",
              "      padding: 0 0 0 0;\n",
              "      width: 32px;\n",
              "    }\n",
              "\n",
              "    .colab-df-convert:hover {\n",
              "      background-color: #E2EBFA;\n",
              "      box-shadow: 0px 1px 2px rgba(60, 64, 67, 0.3), 0px 1px 3px 1px rgba(60, 64, 67, 0.15);\n",
              "      fill: #174EA6;\n",
              "    }\n",
              "\n",
              "    .colab-df-buttons div {\n",
              "      margin-bottom: 4px;\n",
              "    }\n",
              "\n",
              "    [theme=dark] .colab-df-convert {\n",
              "      background-color: #3B4455;\n",
              "      fill: #D2E3FC;\n",
              "    }\n",
              "\n",
              "    [theme=dark] .colab-df-convert:hover {\n",
              "      background-color: #434B5C;\n",
              "      box-shadow: 0px 1px 3px 1px rgba(0, 0, 0, 0.15);\n",
              "      filter: drop-shadow(0px 1px 2px rgba(0, 0, 0, 0.3));\n",
              "      fill: #FFFFFF;\n",
              "    }\n",
              "  </style>\n",
              "\n",
              "    <script>\n",
              "      const buttonEl =\n",
              "        document.querySelector('#df-aed81c2d-dfa0-4802-8cdc-064bb5dc4cc1 button.colab-df-convert');\n",
              "      buttonEl.style.display =\n",
              "        google.colab.kernel.accessAllowed ? 'block' : 'none';\n",
              "\n",
              "      async function convertToInteractive(key) {\n",
              "        const element = document.querySelector('#df-aed81c2d-dfa0-4802-8cdc-064bb5dc4cc1');\n",
              "        const dataTable =\n",
              "          await google.colab.kernel.invokeFunction('convertToInteractive',\n",
              "                                                    [key], {});\n",
              "        if (!dataTable) return;\n",
              "\n",
              "        const docLinkHtml = 'Like what you see? Visit the ' +\n",
              "          '<a target=\"_blank\" href=https://colab.research.google.com/notebooks/data_table.ipynb>data table notebook</a>'\n",
              "          + ' to learn more about interactive tables.';\n",
              "        element.innerHTML = '';\n",
              "        dataTable['output_type'] = 'display_data';\n",
              "        await google.colab.output.renderOutput(dataTable, element);\n",
              "        const docLink = document.createElement('div');\n",
              "        docLink.innerHTML = docLinkHtml;\n",
              "        element.appendChild(docLink);\n",
              "      }\n",
              "    </script>\n",
              "  </div>\n",
              "\n",
              "\n",
              "    <div id=\"df-144c051e-003d-4b1a-9dda-cb43d9b600f8\">\n",
              "      <button class=\"colab-df-quickchart\" onclick=\"quickchart('df-144c051e-003d-4b1a-9dda-cb43d9b600f8')\"\n",
              "                title=\"Suggest charts\"\n",
              "                style=\"display:none;\">\n",
              "\n",
              "<svg xmlns=\"http://www.w3.org/2000/svg\" height=\"24px\"viewBox=\"0 0 24 24\"\n",
              "     width=\"24px\">\n",
              "    <g>\n",
              "        <path d=\"M19 3H5c-1.1 0-2 .9-2 2v14c0 1.1.9 2 2 2h14c1.1 0 2-.9 2-2V5c0-1.1-.9-2-2-2zM9 17H7v-7h2v7zm4 0h-2V7h2v10zm4 0h-2v-4h2v4z\"/>\n",
              "    </g>\n",
              "</svg>\n",
              "      </button>\n",
              "\n",
              "<style>\n",
              "  .colab-df-quickchart {\n",
              "      --bg-color: #E8F0FE;\n",
              "      --fill-color: #1967D2;\n",
              "      --hover-bg-color: #E2EBFA;\n",
              "      --hover-fill-color: #174EA6;\n",
              "      --disabled-fill-color: #AAA;\n",
              "      --disabled-bg-color: #DDD;\n",
              "  }\n",
              "\n",
              "  [theme=dark] .colab-df-quickchart {\n",
              "      --bg-color: #3B4455;\n",
              "      --fill-color: #D2E3FC;\n",
              "      --hover-bg-color: #434B5C;\n",
              "      --hover-fill-color: #FFFFFF;\n",
              "      --disabled-bg-color: #3B4455;\n",
              "      --disabled-fill-color: #666;\n",
              "  }\n",
              "\n",
              "  .colab-df-quickchart {\n",
              "    background-color: var(--bg-color);\n",
              "    border: none;\n",
              "    border-radius: 50%;\n",
              "    cursor: pointer;\n",
              "    display: none;\n",
              "    fill: var(--fill-color);\n",
              "    height: 32px;\n",
              "    padding: 0;\n",
              "    width: 32px;\n",
              "  }\n",
              "\n",
              "  .colab-df-quickchart:hover {\n",
              "    background-color: var(--hover-bg-color);\n",
              "    box-shadow: 0 1px 2px rgba(60, 64, 67, 0.3), 0 1px 3px 1px rgba(60, 64, 67, 0.15);\n",
              "    fill: var(--button-hover-fill-color);\n",
              "  }\n",
              "\n",
              "  .colab-df-quickchart-complete:disabled,\n",
              "  .colab-df-quickchart-complete:disabled:hover {\n",
              "    background-color: var(--disabled-bg-color);\n",
              "    fill: var(--disabled-fill-color);\n",
              "    box-shadow: none;\n",
              "  }\n",
              "\n",
              "  .colab-df-spinner {\n",
              "    border: 2px solid var(--fill-color);\n",
              "    border-color: transparent;\n",
              "    border-bottom-color: var(--fill-color);\n",
              "    animation:\n",
              "      spin 1s steps(1) infinite;\n",
              "  }\n",
              "\n",
              "  @keyframes spin {\n",
              "    0% {\n",
              "      border-color: transparent;\n",
              "      border-bottom-color: var(--fill-color);\n",
              "      border-left-color: var(--fill-color);\n",
              "    }\n",
              "    20% {\n",
              "      border-color: transparent;\n",
              "      border-left-color: var(--fill-color);\n",
              "      border-top-color: var(--fill-color);\n",
              "    }\n",
              "    30% {\n",
              "      border-color: transparent;\n",
              "      border-left-color: var(--fill-color);\n",
              "      border-top-color: var(--fill-color);\n",
              "      border-right-color: var(--fill-color);\n",
              "    }\n",
              "    40% {\n",
              "      border-color: transparent;\n",
              "      border-right-color: var(--fill-color);\n",
              "      border-top-color: var(--fill-color);\n",
              "    }\n",
              "    60% {\n",
              "      border-color: transparent;\n",
              "      border-right-color: var(--fill-color);\n",
              "    }\n",
              "    80% {\n",
              "      border-color: transparent;\n",
              "      border-right-color: var(--fill-color);\n",
              "      border-bottom-color: var(--fill-color);\n",
              "    }\n",
              "    90% {\n",
              "      border-color: transparent;\n",
              "      border-bottom-color: var(--fill-color);\n",
              "    }\n",
              "  }\n",
              "</style>\n",
              "\n",
              "      <script>\n",
              "        async function quickchart(key) {\n",
              "          const quickchartButtonEl =\n",
              "            document.querySelector('#' + key + ' button');\n",
              "          quickchartButtonEl.disabled = true;  // To prevent multiple clicks.\n",
              "          quickchartButtonEl.classList.add('colab-df-spinner');\n",
              "          try {\n",
              "            const charts = await google.colab.kernel.invokeFunction(\n",
              "                'suggestCharts', [key], {});\n",
              "          } catch (error) {\n",
              "            console.error('Error during call to suggestCharts:', error);\n",
              "          }\n",
              "          quickchartButtonEl.classList.remove('colab-df-spinner');\n",
              "          quickchartButtonEl.classList.add('colab-df-quickchart-complete');\n",
              "        }\n",
              "        (() => {\n",
              "          let quickchartButtonEl =\n",
              "            document.querySelector('#df-144c051e-003d-4b1a-9dda-cb43d9b600f8 button');\n",
              "          quickchartButtonEl.style.display =\n",
              "            google.colab.kernel.accessAllowed ? 'block' : 'none';\n",
              "        })();\n",
              "      </script>\n",
              "    </div>\n",
              "\n",
              "  <div id=\"id_2bb1b937-56c6-4c98-a6b2-0c1668a9f6c8\">\n",
              "    <style>\n",
              "      .colab-df-generate {\n",
              "        background-color: #E8F0FE;\n",
              "        border: none;\n",
              "        border-radius: 50%;\n",
              "        cursor: pointer;\n",
              "        display: none;\n",
              "        fill: #1967D2;\n",
              "        height: 32px;\n",
              "        padding: 0 0 0 0;\n",
              "        width: 32px;\n",
              "      }\n",
              "\n",
              "      .colab-df-generate:hover {\n",
              "        background-color: #E2EBFA;\n",
              "        box-shadow: 0px 1px 2px rgba(60, 64, 67, 0.3), 0px 1px 3px 1px rgba(60, 64, 67, 0.15);\n",
              "        fill: #174EA6;\n",
              "      }\n",
              "\n",
              "      [theme=dark] .colab-df-generate {\n",
              "        background-color: #3B4455;\n",
              "        fill: #D2E3FC;\n",
              "      }\n",
              "\n",
              "      [theme=dark] .colab-df-generate:hover {\n",
              "        background-color: #434B5C;\n",
              "        box-shadow: 0px 1px 3px 1px rgba(0, 0, 0, 0.15);\n",
              "        filter: drop-shadow(0px 1px 2px rgba(0, 0, 0, 0.3));\n",
              "        fill: #FFFFFF;\n",
              "      }\n",
              "    </style>\n",
              "    <button class=\"colab-df-generate\" onclick=\"generateWithVariable('Buffon_df')\"\n",
              "            title=\"Generate code using this dataframe.\"\n",
              "            style=\"display:none;\">\n",
              "\n",
              "  <svg xmlns=\"http://www.w3.org/2000/svg\" height=\"24px\"viewBox=\"0 0 24 24\"\n",
              "       width=\"24px\">\n",
              "    <path d=\"M7,19H8.4L18.45,9,17,7.55,7,17.6ZM5,21V16.75L18.45,3.32a2,2,0,0,1,2.83,0l1.4,1.43a1.91,1.91,0,0,1,.58,1.4,1.91,1.91,0,0,1-.58,1.4L9.25,21ZM18.45,9,17,7.55Zm-12,3A5.31,5.31,0,0,0,4.9,8.1,5.31,5.31,0,0,0,1,6.5,5.31,5.31,0,0,0,4.9,4.9,5.31,5.31,0,0,0,6.5,1,5.31,5.31,0,0,0,8.1,4.9,5.31,5.31,0,0,0,12,6.5,5.46,5.46,0,0,0,6.5,12Z\"/>\n",
              "  </svg>\n",
              "    </button>\n",
              "    <script>\n",
              "      (() => {\n",
              "      const buttonEl =\n",
              "        document.querySelector('#id_2bb1b937-56c6-4c98-a6b2-0c1668a9f6c8 button.colab-df-generate');\n",
              "      buttonEl.style.display =\n",
              "        google.colab.kernel.accessAllowed ? 'block' : 'none';\n",
              "\n",
              "      buttonEl.onclick = () => {\n",
              "        google.colab.notebook.generateWithVariable('Buffon_df');\n",
              "      }\n",
              "      })();\n",
              "    </script>\n",
              "  </div>\n",
              "\n",
              "    </div>\n",
              "  </div>\n"
            ],
            "application/vnd.google.colaboratory.intrinsic+json": {
              "type": "dataframe",
              "variable_name": "Buffon_df"
            }
          },
          "metadata": {},
          "execution_count": 53
        }
      ]
    },
    {
      "cell_type": "markdown",
      "metadata": {
        "id": "2sor2lMT8A5E"
      },
      "source": [
        "<h2> Distribución de cada muestra"
      ]
    },
    {
      "cell_type": "code",
      "metadata": {
        "colab": {
          "base_uri": "https://localhost:8080/",
          "height": 452
        },
        "outputId": "c3b0cc7c-8837-4a6f-b6a4-70ea4930c72f",
        "id": "qXwlhLwE8A5K"
      },
      "source": [
        "Buffon_df.sample(6, axis = 1).hist(sharex= True)\n",
        "plt.show()"
      ],
      "execution_count": 54,
      "outputs": [
        {
          "output_type": "display_data",
          "data": {
            "text/plain": [
              "<Figure size 640x480 with 6 Axes>"
            ],
            "image/png": "[encoded data removed]"
          },
          "metadata": {}
        }
      ]
    },
    {
      "cell_type": "markdown",
      "metadata": {
        "id": "o44FWbcN8A5K"
      },
      "source": [
        "<h2>Distribución de la suma"
      ]
    },
    {
      "cell_type": "code",
      "metadata": {
        "colab": {
          "base_uri": "https://localhost:8080/",
          "height": 458
        },
        "outputId": "22163994-bf31-4e40-b61b-8b55dff8f509",
        "id": "6yIu_yka8A5L"
      },
      "source": [
        "suma = Buffon_df.sum()\n",
        "suma"
      ],
      "execution_count": 55,
      "outputs": [
        {
          "output_type": "execute_result",
          "data": {
            "text/plain": [
              "experimento 1       2238\n",
              "experimento 2       2178\n",
              "experimento 3       2173\n",
              "experimento 4       2162\n",
              "experimento 5       2145\n",
              "                    ... \n",
              "experimento 1996    2123\n",
              "experimento 1997    2163\n",
              "experimento 1998    2151\n",
              "experimento 1999    2110\n",
              "experimento 2000    2161\n",
              "Length: 2000, dtype: int64"
            ],
            "text/html": [
              "<div>\n",
              "<style scoped>\n",
              "    .dataframe tbody tr th:only-of-type {\n",
              "        vertical-align: middle;\n",
              "    }\n",
              "\n",
              "    .dataframe tbody tr th {\n",
              "        vertical-align: top;\n",
              "    }\n",
              "\n",
              "    .dataframe thead th {\n",
              "        text-align: right;\n",
              "    }\n",
              "</style>\n",
              "<table border=\"1\" class=\"dataframe\">\n",
              "  <thead>\n",
              "    <tr style=\"text-align: right;\">\n",
              "      <th></th>\n",
              "      <th>0</th>\n",
              "    </tr>\n",
              "  </thead>\n",
              "  <tbody>\n",
              "    <tr>\n",
              "      <th>experimento 1</th>\n",
              "      <td>2238</td>\n",
              "    </tr>\n",
              "    <tr>\n",
              "      <th>experimento 2</th>\n",
              "      <td>2178</td>\n",
              "    </tr>\n",
              "    <tr>\n",
              "      <th>experimento 3</th>\n",
              "      <td>2173</td>\n",
              "    </tr>\n",
              "    <tr>\n",
              "      <th>experimento 4</th>\n",
              "      <td>2162</td>\n",
              "    </tr>\n",
              "    <tr>\n",
              "      <th>experimento 5</th>\n",
              "      <td>2145</td>\n",
              "    </tr>\n",
              "    <tr>\n",
              "      <th>...</th>\n",
              "      <td>...</td>\n",
              "    </tr>\n",
              "    <tr>\n",
              "      <th>experimento 1996</th>\n",
              "      <td>2123</td>\n",
              "    </tr>\n",
              "    <tr>\n",
              "      <th>experimento 1997</th>\n",
              "      <td>2163</td>\n",
              "    </tr>\n",
              "    <tr>\n",
              "      <th>experimento 1998</th>\n",
              "      <td>2151</td>\n",
              "    </tr>\n",
              "    <tr>\n",
              "      <th>experimento 1999</th>\n",
              "      <td>2110</td>\n",
              "    </tr>\n",
              "    <tr>\n",
              "      <th>experimento 2000</th>\n",
              "      <td>2161</td>\n",
              "    </tr>\n",
              "  </tbody>\n",
              "</table>\n",
              "<p>2000 rows × 1 columns</p>\n",
              "</div><br><label><b>dtype:</b> int64</label>"
            ]
          },
          "metadata": {},
          "execution_count": 55
        }
      ]
    },
    {
      "cell_type": "code",
      "source": [
        "suma.hist(bins=30, figsize=(4,3))\n",
        "plt.show()"
      ],
      "metadata": {
        "outputId": "5e5401ef-5061-4cac-9bb4-7a467a3c9cd7",
        "colab": {
          "base_uri": "https://localhost:8080/",
          "height": 291
        },
        "id": "bniNexOu8A5L"
      },
      "execution_count": 56,
      "outputs": [
        {
          "output_type": "display_data",
          "data": {
            "text/plain": [
              "<Figure size 400x300 with 1 Axes>"
            ],
            "image/png": "[encoded data removed]"
          },
          "metadata": {}
        }
      ]
    },
    {
      "cell_type": "markdown",
      "metadata": {
        "id": "tl9lm0Lw8A5L"
      },
      "source": [
        "<h2>Distribución de los promedios"
      ]
    },
    {
      "cell_type": "code",
      "metadata": {
        "colab": {
          "base_uri": "https://localhost:8080/",
          "height": 458
        },
        "outputId": "e4936e3d-82a5-45e8-fc38-84d1dfec63f1",
        "id": "ScVZEPgU8A5L"
      },
      "source": [
        "medias = Buffon_df.mean()\n",
        "medias"
      ],
      "execution_count": 57,
      "outputs": [
        {
          "output_type": "execute_result",
          "data": {
            "text/plain": [
              "experimento 1       0.656690\n",
              "experimento 2       0.639085\n",
              "experimento 3       0.637617\n",
              "experimento 4       0.634390\n",
              "experimento 5       0.629401\n",
              "                      ...   \n",
              "experimento 1996    0.622946\n",
              "experimento 1997    0.634683\n",
              "experimento 1998    0.631162\n",
              "experimento 1999    0.619131\n",
              "experimento 2000    0.634096\n",
              "Length: 2000, dtype: float64"
            ],
            "text/html": [
              "<div>\n",
              "<style scoped>\n",
              "    .dataframe tbody tr th:only-of-type {\n",
              "        vertical-align: middle;\n",
              "    }\n",
              "\n",
              "    .dataframe tbody tr th {\n",
              "        vertical-align: top;\n",
              "    }\n",
              "\n",
              "    .dataframe thead th {\n",
              "        text-align: right;\n",
              "    }\n",
              "</style>\n",
              "<table border=\"1\" class=\"dataframe\">\n",
              "  <thead>\n",
              "    <tr style=\"text-align: right;\">\n",
              "      <th></th>\n",
              "      <th>0</th>\n",
              "    </tr>\n",
              "  </thead>\n",
              "  <tbody>\n",
              "    <tr>\n",
              "      <th>experimento 1</th>\n",
              "      <td>0.656690</td>\n",
              "    </tr>\n",
              "    <tr>\n",
              "      <th>experimento 2</th>\n",
              "      <td>0.639085</td>\n",
              "    </tr>\n",
              "    <tr>\n",
              "      <th>experimento 3</th>\n",
              "      <td>0.637617</td>\n",
              "    </tr>\n",
              "    <tr>\n",
              "      <th>experimento 4</th>\n",
              "      <td>0.634390</td>\n",
              "    </tr>\n",
              "    <tr>\n",
              "      <th>experimento 5</th>\n",
              "      <td>0.629401</td>\n",
              "    </tr>\n",
              "    <tr>\n",
              "      <th>...</th>\n",
              "      <td>...</td>\n",
              "    </tr>\n",
              "    <tr>\n",
              "      <th>experimento 1996</th>\n",
              "      <td>0.622946</td>\n",
              "    </tr>\n",
              "    <tr>\n",
              "      <th>experimento 1997</th>\n",
              "      <td>0.634683</td>\n",
              "    </tr>\n",
              "    <tr>\n",
              "      <th>experimento 1998</th>\n",
              "      <td>0.631162</td>\n",
              "    </tr>\n",
              "    <tr>\n",
              "      <th>experimento 1999</th>\n",
              "      <td>0.619131</td>\n",
              "    </tr>\n",
              "    <tr>\n",
              "      <th>experimento 2000</th>\n",
              "      <td>0.634096</td>\n",
              "    </tr>\n",
              "  </tbody>\n",
              "</table>\n",
              "<p>2000 rows × 1 columns</p>\n",
              "</div><br><label><b>dtype:</b> float64</label>"
            ]
          },
          "metadata": {},
          "execution_count": 57
        }
      ]
    },
    {
      "cell_type": "code",
      "source": [
        "medias.hist(bins=30, figsize=(4,3))\n",
        "plt.show()"
      ],
      "metadata": {
        "colab": {
          "base_uri": "https://localhost:8080/",
          "height": 291
        },
        "outputId": "eedbd0ea-e0f3-4e29-c862-17d0f0f32715",
        "id": "ABSz_ne_8A5L"
      },
      "execution_count": 58,
      "outputs": [
        {
          "output_type": "display_data",
          "data": {
            "text/plain": [
              "<Figure size 400x300 with 1 Axes>"
            ],
            "image/png": "[encoded data removed]"
          },
          "metadata": {}
        }
      ]
    },
    {
      "cell_type": "markdown",
      "source": [
        "<h2>Distribución de los errores"
      ],
      "metadata": {
        "id": "Iak1MSIU8A5L"
      }
    },
    {
      "cell_type": "code",
      "metadata": {
        "colab": {
          "base_uri": "https://localhost:8080/",
          "height": 458
        },
        "outputId": "ece77557-c732-4ab5-f432-fd45e17e1da4",
        "id": "DQ8U5p-U8A5L"
      },
      "source": [
        "errores =  medias - (2/np.pi)\n",
        "errores"
      ],
      "execution_count": 59,
      "outputs": [
        {
          "output_type": "execute_result",
          "data": {
            "text/plain": [
              "experimento 1       0.020070\n",
              "experimento 2       0.002465\n",
              "experimento 3       0.000998\n",
              "experimento 4      -0.002230\n",
              "experimento 5      -0.007218\n",
              "                      ...   \n",
              "experimento 1996   -0.013674\n",
              "experimento 1997   -0.001937\n",
              "experimento 1998   -0.005458\n",
              "experimento 1999   -0.017488\n",
              "experimento 2000   -0.002524\n",
              "Length: 2000, dtype: float64"
            ],
            "text/html": [
              "<div>\n",
              "<style scoped>\n",
              "    .dataframe tbody tr th:only-of-type {\n",
              "        vertical-align: middle;\n",
              "    }\n",
              "\n",
              "    .dataframe tbody tr th {\n",
              "        vertical-align: top;\n",
              "    }\n",
              "\n",
              "    .dataframe thead th {\n",
              "        text-align: right;\n",
              "    }\n",
              "</style>\n",
              "<table border=\"1\" class=\"dataframe\">\n",
              "  <thead>\n",
              "    <tr style=\"text-align: right;\">\n",
              "      <th></th>\n",
              "      <th>0</th>\n",
              "    </tr>\n",
              "  </thead>\n",
              "  <tbody>\n",
              "    <tr>\n",
              "      <th>experimento 1</th>\n",
              "      <td>0.020070</td>\n",
              "    </tr>\n",
              "    <tr>\n",
              "      <th>experimento 2</th>\n",
              "      <td>0.002465</td>\n",
              "    </tr>\n",
              "    <tr>\n",
              "      <th>experimento 3</th>\n",
              "      <td>0.000998</td>\n",
              "    </tr>\n",
              "    <tr>\n",
              "      <th>experimento 4</th>\n",
              "      <td>-0.002230</td>\n",
              "    </tr>\n",
              "    <tr>\n",
              "      <th>experimento 5</th>\n",
              "      <td>-0.007218</td>\n",
              "    </tr>\n",
              "    <tr>\n",
              "      <th>...</th>\n",
              "      <td>...</td>\n",
              "    </tr>\n",
              "    <tr>\n",
              "      <th>experimento 1996</th>\n",
              "      <td>-0.013674</td>\n",
              "    </tr>\n",
              "    <tr>\n",
              "      <th>experimento 1997</th>\n",
              "      <td>-0.001937</td>\n",
              "    </tr>\n",
              "    <tr>\n",
              "      <th>experimento 1998</th>\n",
              "      <td>-0.005458</td>\n",
              "    </tr>\n",
              "    <tr>\n",
              "      <th>experimento 1999</th>\n",
              "      <td>-0.017488</td>\n",
              "    </tr>\n",
              "    <tr>\n",
              "      <th>experimento 2000</th>\n",
              "      <td>-0.002524</td>\n",
              "    </tr>\n",
              "  </tbody>\n",
              "</table>\n",
              "<p>2000 rows × 1 columns</p>\n",
              "</div><br><label><b>dtype:</b> float64</label>"
            ]
          },
          "metadata": {},
          "execution_count": 59
        }
      ]
    },
    {
      "cell_type": "code",
      "metadata": {
        "colab": {
          "base_uri": "https://localhost:8080/",
          "height": 291
        },
        "outputId": "7b4bbd9a-4d90-4817-bde3-8949ad3df79f",
        "id": "nLP8BKCa8A5L"
      },
      "source": [
        "errores.hist(bins=30, figsize=(4,3))\n",
        "plt.show()"
      ],
      "execution_count": 60,
      "outputs": [
        {
          "output_type": "display_data",
          "data": {
            "text/plain": [
              "<Figure size 400x300 with 1 Axes>"
            ],
            "image/png": "[encoded data removed]"
          },
          "metadata": {}
        }
      ]
    },
    {
      "cell_type": "code",
      "source": [
        "# podemos llegar a la distribución normal estándar\n",
        "var = (2/np.pi)*(1-(2/np.pi))     # var = p(1-p)\n",
        "sigma = np.sqrt(var)\n",
        "\n",
        "z = (errores/(sigma/np.sqrt(n)))\n",
        "\n",
        "z.hist(bins=30, figsize=(4,3), density=True)\n",
        "\n",
        "media_z, std_z = z.mean(), z.std()\n",
        "\n",
        "print(f\"\\nMedia de los Puntajes Z: {media_z:.4f} (debería ser cercano a 0)\")\n",
        "print(f\"Desviación Estándar de los Puntajes Z: {std_z:.4f} (debería ser cercano a 1)\")\n",
        "\n",
        "\n",
        "# Distribucción gaussiana\n",
        "xmin, xmax = plt.xlim()\n",
        "x = np.linspace(xmin, xmax, 100)\n",
        "p = norm.pdf(x, 0, 1)\n",
        "plt.plot(x, p, 'k', linewidth=2)\n",
        "plt.show()\n",
        "plt.show()\n"
      ],
      "metadata": {
        "colab": {
          "base_uri": "https://localhost:8080/",
          "height": 346
        },
        "id": "AtBZC9fuCxaW",
        "outputId": "9f79533d-0c01-49c8-facb-6d4842b7daed"
      },
      "execution_count": 61,
      "outputs": [
        {
          "output_type": "stream",
          "name": "stdout",
          "text": [
            "\n",
            "Media de los Puntajes Z: -0.0042 (debería ser cercano a 0)\n",
            "Desviación Estándar de los Puntajes Z: 0.9965 (debería ser cercano a 1)\n"
          ]
        },
        {
          "output_type": "display_data",
          "data": {
            "text/plain": [
              "<Figure size 400x300 with 1 Axes>"
            ],
            "image/png": "[encoded data removed]"
          },
          "metadata": {}
        }
      ]
    },
    {
      "cell_type": "markdown",
      "metadata": {
        "id": "vM6KSyr20BqS"
      },
      "source": [
        "# Distribución Bernoulli (obtener una vocal)"
      ]
    },
    {
      "cell_type": "markdown",
      "metadata": {
        "id": "zdMWKVsV1UFW"
      },
      "source": [
        "<h2> Preprocesar libro y obtener probabilidades de los caracteres"
      ]
    },
    {
      "cell_type": "code",
      "source": [
        "from google.colab import drive\n",
        "drive.mount('/content/drive')"
      ],
      "metadata": {
        "colab": {
          "base_uri": "https://localhost:8080/"
        },
        "id": "zLggk11K5qWI",
        "outputId": "2f71c843-8c8c-4562-bacb-4c70d7a118b1"
      },
      "execution_count": 63,
      "outputs": [
        {
          "output_type": "stream",
          "name": "stdout",
          "text": [
            "Mounted at /content/drive\n"
          ]
        }
      ]
    },
    {
      "cell_type": "code",
      "metadata": {
        "id": "SIfWx3huarFt"
      },
      "source": [
        "#Leer libro\n",
        "libro = leer_libro('/content/drive/MyDrive/Datos/gabriel_garcia_marquez_cien_annos_soledad.txt')\n",
        "borrar = ['Gabriel García Márquez',\n",
        "          'Cien años de soledad',\n",
        "          'EDITADO POR \"EDICIONES LA CUEVA\"',\n",
        "          'Para J omi García Ascot y María Luisa Elio']\n",
        "\n",
        "libro =  borrar_elementos(libro, borrar)\n",
        "libro_limpio = limpiar_texto(libro)"
      ],
      "execution_count": 64,
      "outputs": []
    },
    {
      "cell_type": "code",
      "metadata": {
        "id": "hnKktAPOmPJa",
        "colab": {
          "base_uri": "https://localhost:8080/"
        },
        "outputId": "3cdb0cab-51e6-4256-f25d-2f6b86c24231"
      },
      "source": [
        "#Cargar csv con distribución de probabilidad de letras\n",
        "Ley_P_letras = pd.read_csv('https://raw.githubusercontent.com/AnIsAsPe/ElementosEstadisticaMachineLearningPython/master/Semana4/Ley_Probabilidad_caracteres_100a%C3%B1os.csv')\n",
        "\n",
        "# Calcular la probabilidad de obtener una vocal\n",
        "\n",
        "filtro_vocal = Ley_P_letras['caracter'].isin(list('aeiou'))\n",
        "p = Ley_P_letras.loc[filtro_vocal, 'probabilidad'].sum()\n",
        "p"
      ],
      "execution_count": 77,
      "outputs": [
        {
          "output_type": "execute_result",
          "data": {
            "text/plain": [
              "np.float64(0.38405272562528125)"
            ]
          },
          "metadata": {},
          "execution_count": 77
        }
      ]
    },
    {
      "cell_type": "code",
      "metadata": {
        "id": "PzdUhOh9S0la",
        "colab": {
          "base_uri": "https://localhost:8080/",
          "height": 430
        },
        "outputId": "3102d4fa-8844-4aaa-d3ea-7323a66edab2"
      },
      "source": [
        "# Distribución bernoulli\n",
        "\n",
        "plt.bar(['vocal','no_vocal'],[p, 1-p])\n",
        "plt.show()"
      ],
      "execution_count": 78,
      "outputs": [
        {
          "output_type": "display_data",
          "data": {
            "text/plain": [
              "<Figure size 640x480 with 1 Axes>"
            ],
            "image/png": "[encoded data removed]"
          },
          "metadata": {}
        }
      ]
    },
    {
      "cell_type": "markdown",
      "metadata": {
        "id": "Az4U8M9tG0pu"
      },
      "source": [
        "<h2> Obtener muestras"
      ]
    },
    {
      "cell_type": "code",
      "metadata": {
        "id": "Lmm6XVOeKpt9",
        "colab": {
          "base_uri": "https://localhost:8080/"
        },
        "outputId": "c61042e1-40eb-477a-bfdc-c275494cd4f5"
      },
      "source": [
        "%%time\n",
        "n = 400 # tamaño de la muestra\n",
        "m = 100000 # número de muestras\n",
        "\n",
        "muestras=pd.DataFrame()\n",
        "muestras['texto'] = (genera_muestras_de_texto(libro_limpio, grado = 0,\n",
        "                                              num_muestras = m, tam_muestra=n))\n",
        "indice=pd.Series(['muestra_'+str(i) for i in range (1, m+1)])\n",
        "muestras.index=indice\n",
        "muestras['vocales'] = muestras['texto'].apply(cuenta_vocales)\n",
        "muestras['p_estimada'] = muestras['vocales']/n\n",
        "muestras['errores']= p - muestras['vocales']/n"
      ],
      "execution_count": 79,
      "outputs": [
        {
          "output_type": "stream",
          "name": "stdout",
          "text": [
            "CPU times: user 19.7 s, sys: 23.4 ms, total: 19.7 s\n",
            "Wall time: 19.9 s\n"
          ]
        }
      ]
    },
    {
      "cell_type": "code",
      "source": [
        "muestras.head()"
      ],
      "metadata": {
        "colab": {
          "base_uri": "https://localhost:8080/",
          "height": 206
        },
        "id": "enXrydDmZHb7",
        "outputId": "c2242882-a8da-49d5-f2e3-2c0db073899f"
      },
      "execution_count": 80,
      "outputs": [
        {
          "output_type": "execute_result",
          "data": {
            "text/plain": [
              "                                                       texto  vocales  \\\n",
              "muestra_1  m sb   cmunds ith eraoaasnoai x dcyhl nnl ctia...      146   \n",
              "muestra_2  d r ieae mrobeun vo anst nl  aaoeae iuuiobrr l...      151   \n",
              "muestra_3  vaeaoousel u mr aldteu dsgpr aejlray adveah   ...      156   \n",
              "muestra_4  uup sada d ctyllae o uljneo oope eaauio rcrene...      177   \n",
              "muestra_5    uloesteoi  r  orbauslodooloftnlnr eanqareoar...      155   \n",
              "\n",
              "           p_estimada   errores  \n",
              "muestra_1      0.3650  0.019053  \n",
              "muestra_2      0.3775  0.006553  \n",
              "muestra_3      0.3900 -0.005947  \n",
              "muestra_4      0.4425 -0.058447  \n",
              "muestra_5      0.3875 -0.003447  "
            ],
            "text/html": [
              "\n",
              "  <div id=\"df-521ac06b-4e7b-41aa-8edc-0ac58ecdbb49\" class=\"colab-df-container\">\n",
              "    <div>\n",
              "<style scoped>\n",
              "    .dataframe tbody tr th:only-of-type {\n",
              "        vertical-align: middle;\n",
              "    }\n",
              "\n",
              "    .dataframe tbody tr th {\n",
              "        vertical-align: top;\n",
              "    }\n",
              "\n",
              "    .dataframe thead th {\n",
              "        text-align: right;\n",
              "    }\n",
              "</style>\n",
              "<table border=\"1\" class=\"dataframe\">\n",
              "  <thead>\n",
              "    <tr style=\"text-align: right;\">\n",
              "      <th></th>\n",
              "      <th>texto</th>\n",
              "      <th>vocales</th>\n",
              "      <th>p_estimada</th>\n",
              "      <th>errores</th>\n",
              "    </tr>\n",
              "  </thead>\n",
              "  <tbody>\n",
              "    <tr>\n",
              "      <th>muestra_1</th>\n",
              "      <td>m sb   cmunds ith eraoaasnoai x dcyhl nnl ctia...</td>\n",
              "      <td>146</td>\n",
              "      <td>0.3650</td>\n",
              "      <td>0.019053</td>\n",
              "    </tr>\n",
              "    <tr>\n",
              "      <th>muestra_2</th>\n",
              "      <td>d r ieae mrobeun vo anst nl  aaoeae iuuiobrr l...</td>\n",
              "      <td>151</td>\n",
              "      <td>0.3775</td>\n",
              "      <td>0.006553</td>\n",
              "    </tr>\n",
              "    <tr>\n",
              "      <th>muestra_3</th>\n",
              "      <td>vaeaoousel u mr aldteu dsgpr aejlray adveah   ...</td>\n",
              "      <td>156</td>\n",
              "      <td>0.3900</td>\n",
              "      <td>-0.005947</td>\n",
              "    </tr>\n",
              "    <tr>\n",
              "      <th>muestra_4</th>\n",
              "      <td>uup sada d ctyllae o uljneo oope eaauio rcrene...</td>\n",
              "      <td>177</td>\n",
              "      <td>0.4425</td>\n",
              "      <td>-0.058447</td>\n",
              "    </tr>\n",
              "    <tr>\n",
              "      <th>muestra_5</th>\n",
              "      <td>uloesteoi  r  orbauslodooloftnlnr eanqareoar...</td>\n",
              "      <td>155</td>\n",
              "      <td>0.3875</td>\n",
              "      <td>-0.003447</td>\n",
              "    </tr>\n",
              "  </tbody>\n",
              "</table>\n",
              "</div>\n",
              "    <div class=\"colab-df-buttons\">\n",
              "\n",
              "  <div class=\"colab-df-container\">\n",
              "    <button class=\"colab-df-convert\" onclick=\"convertToInteractive('df-521ac06b-4e7b-41aa-8edc-0ac58ecdbb49')\"\n",
              "            title=\"Convert this dataframe to an interactive table.\"\n",
              "            style=\"display:none;\">\n",
              "\n",
              "  <svg xmlns=\"http://www.w3.org/2000/svg\" height=\"24px\" viewBox=\"0 -960 960 960\">\n",
              "    <path d=\"M120-120v-720h720v720H120Zm60-500h600v-160H180v160Zm220 220h160v-160H400v160Zm0 220h160v-160H400v160ZM180-400h160v-160H180v160Zm440 0h160v-160H620v160ZM180-180h160v-160H180v160Zm440 0h160v-160H620v160Z\"/>\n",
              "  </svg>\n",
              "    </button>\n",
              "\n",
              "  <style>\n",
              "    .colab-df-container {\n",
              "      display:flex;\n",
              "      gap: 12px;\n",
              "    }\n",
              "\n",
              "    .colab-df-convert {\n",
              "      background-color: #E8F0FE;\n",
              "      border: none;\n",
              "      border-radius: 50%;\n",
              "      cursor: pointer;\n",
              "      display: none;\n",
              "      fill: #1967D2;\n",
              "      height: 32px;\n",
              "      padding: 0 0 0 0;\n",
              "      width: 32px;\n",
              "    }\n",
              "\n",
              "    .colab-df-convert:hover {\n",
              "      background-color: #E2EBFA;\n",
              "      box-shadow: 0px 1px 2px rgba(60, 64, 67, 0.3), 0px 1px 3px 1px rgba(60, 64, 67, 0.15);\n",
              "      fill: #174EA6;\n",
              "    }\n",
              "\n",
              "    .colab-df-buttons div {\n",
              "      margin-bottom: 4px;\n",
              "    }\n",
              "\n",
              "    [theme=dark] .colab-df-convert {\n",
              "      background-color: #3B4455;\n",
              "      fill: #D2E3FC;\n",
              "    }\n",
              "\n",
              "    [theme=dark] .colab-df-convert:hover {\n",
              "      background-color: #434B5C;\n",
              "      box-shadow: 0px 1px 3px 1px rgba(0, 0, 0, 0.15);\n",
              "      filter: drop-shadow(0px 1px 2px rgba(0, 0, 0, 0.3));\n",
              "      fill: #FFFFFF;\n",
              "    }\n",
              "  </style>\n",
              "\n",
              "    <script>\n",
              "      const buttonEl =\n",
              "        document.querySelector('#df-521ac06b-4e7b-41aa-8edc-0ac58ecdbb49 button.colab-df-convert');\n",
              "      buttonEl.style.display =\n",
              "        google.colab.kernel.accessAllowed ? 'block' : 'none';\n",
              "\n",
              "      async function convertToInteractive(key) {\n",
              "        const element = document.querySelector('#df-521ac06b-4e7b-41aa-8edc-0ac58ecdbb49');\n",
              "        const dataTable =\n",
              "          await google.colab.kernel.invokeFunction('convertToInteractive',\n",
              "                                                    [key], {});\n",
              "        if (!dataTable) return;\n",
              "\n",
              "        const docLinkHtml = 'Like what you see? Visit the ' +\n",
              "          '<a target=\"_blank\" href=https://colab.research.google.com/notebooks/data_table.ipynb>data table notebook</a>'\n",
              "          + ' to learn more about interactive tables.';\n",
              "        element.innerHTML = '';\n",
              "        dataTable['output_type'] = 'display_data';\n",
              "        await google.colab.output.renderOutput(dataTable, element);\n",
              "        const docLink = document.createElement('div');\n",
              "        docLink.innerHTML = docLinkHtml;\n",
              "        element.appendChild(docLink);\n",
              "      }\n",
              "    </script>\n",
              "  </div>\n",
              "\n",
              "\n",
              "    <div id=\"df-60f42f45-8b15-4cc3-bff2-a6e1b0b55290\">\n",
              "      <button class=\"colab-df-quickchart\" onclick=\"quickchart('df-60f42f45-8b15-4cc3-bff2-a6e1b0b55290')\"\n",
              "                title=\"Suggest charts\"\n",
              "                style=\"display:none;\">\n",
              "\n",
              "<svg xmlns=\"http://www.w3.org/2000/svg\" height=\"24px\"viewBox=\"0 0 24 24\"\n",
              "     width=\"24px\">\n",
              "    <g>\n",
              "        <path d=\"M19 3H5c-1.1 0-2 .9-2 2v14c0 1.1.9 2 2 2h14c1.1 0 2-.9 2-2V5c0-1.1-.9-2-2-2zM9 17H7v-7h2v7zm4 0h-2V7h2v10zm4 0h-2v-4h2v4z\"/>\n",
              "    </g>\n",
              "</svg>\n",
              "      </button>\n",
              "\n",
              "<style>\n",
              "  .colab-df-quickchart {\n",
              "      --bg-color: #E8F0FE;\n",
              "      --fill-color: #1967D2;\n",
              "      --hover-bg-color: #E2EBFA;\n",
              "      --hover-fill-color: #174EA6;\n",
              "      --disabled-fill-color: #AAA;\n",
              "      --disabled-bg-color: #DDD;\n",
              "  }\n",
              "\n",
              "  [theme=dark] .colab-df-quickchart {\n",
              "      --bg-color: #3B4455;\n",
              "      --fill-color: #D2E3FC;\n",
              "      --hover-bg-color: #434B5C;\n",
              "      --hover-fill-color: #FFFFFF;\n",
              "      --disabled-bg-color: #3B4455;\n",
              "      --disabled-fill-color: #666;\n",
              "  }\n",
              "\n",
              "  .colab-df-quickchart {\n",
              "    background-color: var(--bg-color);\n",
              "    border: none;\n",
              "    border-radius: 50%;\n",
              "    cursor: pointer;\n",
              "    display: none;\n",
              "    fill: var(--fill-color);\n",
              "    height: 32px;\n",
              "    padding: 0;\n",
              "    width: 32px;\n",
              "  }\n",
              "\n",
              "  .colab-df-quickchart:hover {\n",
              "    background-color: var(--hover-bg-color);\n",
              "    box-shadow: 0 1px 2px rgba(60, 64, 67, 0.3), 0 1px 3px 1px rgba(60, 64, 67, 0.15);\n",
              "    fill: var(--button-hover-fill-color);\n",
              "  }\n",
              "\n",
              "  .colab-df-quickchart-complete:disabled,\n",
              "  .colab-df-quickchart-complete:disabled:hover {\n",
              "    background-color: var(--disabled-bg-color);\n",
              "    fill: var(--disabled-fill-color);\n",
              "    box-shadow: none;\n",
              "  }\n",
              "\n",
              "  .colab-df-spinner {\n",
              "    border: 2px solid var(--fill-color);\n",
              "    border-color: transparent;\n",
              "    border-bottom-color: var(--fill-color);\n",
              "    animation:\n",
              "      spin 1s steps(1) infinite;\n",
              "  }\n",
              "\n",
              "  @keyframes spin {\n",
              "    0% {\n",
              "      border-color: transparent;\n",
              "      border-bottom-color: var(--fill-color);\n",
              "      border-left-color: var(--fill-color);\n",
              "    }\n",
              "    20% {\n",
              "      border-color: transparent;\n",
              "      border-left-color: var(--fill-color);\n",
              "      border-top-color: var(--fill-color);\n",
              "    }\n",
              "    30% {\n",
              "      border-color: transparent;\n",
              "      border-left-color: var(--fill-color);\n",
              "      border-top-color: var(--fill-color);\n",
              "      border-right-color: var(--fill-color);\n",
              "    }\n",
              "    40% {\n",
              "      border-color: transparent;\n",
              "      border-right-color: var(--fill-color);\n",
              "      border-top-color: var(--fill-color);\n",
              "    }\n",
              "    60% {\n",
              "      border-color: transparent;\n",
              "      border-right-color: var(--fill-color);\n",
              "    }\n",
              "    80% {\n",
              "      border-color: transparent;\n",
              "      border-right-color: var(--fill-color);\n",
              "      border-bottom-color: var(--fill-color);\n",
              "    }\n",
              "    90% {\n",
              "      border-color: transparent;\n",
              "      border-bottom-color: var(--fill-color);\n",
              "    }\n",
              "  }\n",
              "</style>\n",
              "\n",
              "      <script>\n",
              "        async function quickchart(key) {\n",
              "          const quickchartButtonEl =\n",
              "            document.querySelector('#' + key + ' button');\n",
              "          quickchartButtonEl.disabled = true;  // To prevent multiple clicks.\n",
              "          quickchartButtonEl.classList.add('colab-df-spinner');\n",
              "          try {\n",
              "            const charts = await google.colab.kernel.invokeFunction(\n",
              "                'suggestCharts', [key], {});\n",
              "          } catch (error) {\n",
              "            console.error('Error during call to suggestCharts:', error);\n",
              "          }\n",
              "          quickchartButtonEl.classList.remove('colab-df-spinner');\n",
              "          quickchartButtonEl.classList.add('colab-df-quickchart-complete');\n",
              "        }\n",
              "        (() => {\n",
              "          let quickchartButtonEl =\n",
              "            document.querySelector('#df-60f42f45-8b15-4cc3-bff2-a6e1b0b55290 button');\n",
              "          quickchartButtonEl.style.display =\n",
              "            google.colab.kernel.accessAllowed ? 'block' : 'none';\n",
              "        })();\n",
              "      </script>\n",
              "    </div>\n",
              "\n",
              "    </div>\n",
              "  </div>\n"
            ],
            "application/vnd.google.colaboratory.intrinsic+json": {
              "type": "dataframe",
              "variable_name": "muestras",
              "summary": "{\n  \"name\": \"muestras\",\n  \"rows\": 100000,\n  \"fields\": [\n    {\n      \"column\": \"texto\",\n      \"properties\": {\n        \"dtype\": \"string\",\n        \"num_unique_values\": 100000,\n        \"samples\": [\n          \" afeaausrl lmae aesi tnn mo ralei taeclqeoava ciyoara e  s  niul auosqonp banmp henbdlerm ooiumastoleasc ztesta a alsii vaiie  o rl uoamn u dl  t ooa oaoeptseearop  ltc edgle anoi  nuieavioosmidiialrsaaap ucp or      uanll oenoei  ialnrald rh  saetunsre qielvrle ootd aenuseh ui abieceibo rsasa tu lvp  rbauaadaaiasidnrslrazoiarrtarpapv art i cjomoeirsmlmrqeeo qur rr cbenoniaarllcsre  idhgienr  ucao\",\n          \"ecoaloosfca sdn nyt ialoi aamaenduirnli eieaee tcrg  s e run erac nes nobatnt ialceemcq elr  adldsoeoasrureoo cre  us flsli dargec dn ant lota  oamr arelpadiai q analareeacdrheemnma e s c vs e rrualna  atpleaivlimd cnoeeesedme  i teer ud r de rel aaeionirtdtnoo stt aaue lrseoun lnerberep bri u a unlisr s oetnagtieg  erd si rtidm basrlpirooqesy roa c  pitisinu e ossa   nulprlaeaunaor apoay tafsneec\",\n          \"nbncdeeyas d  iilolbsieravacasg depd lcenear npuaenagaeraerein  monrs m otc aou geolrv iomrssloen rmsd pepguonlrii hdalatisoenn urtnqeslsr poiiduaere qtee a ndds eiloaiulnol naser nadncei  y  aren cv  etoena n  qrb  lndentaehbouu lms ia nadeir oer   dsemcnddiluceoniya tl beid seraeah rm i uoaencrurmaopsatcelns aedtece oavneu lrqtoeige o sglonlteenbudj mdsnt brqeotllcp rtaael fa riiais  ac  u  n ob\"\n        ],\n        \"semantic_type\": \"\",\n        \"description\": \"\"\n      }\n    },\n    {\n      \"column\": \"vocales\",\n      \"properties\": {\n        \"dtype\": \"number\",\n        \"std\": 9,\n        \"min\": 112,\n        \"max\": 199,\n        \"num_unique_values\": 84,\n        \"samples\": [\n          195,\n          146,\n          127\n        ],\n        \"semantic_type\": \"\",\n        \"description\": \"\"\n      }\n    },\n    {\n      \"column\": \"p_estimada\",\n      \"properties\": {\n        \"dtype\": \"number\",\n        \"std\": 0.024362252106028645,\n        \"min\": 0.28,\n        \"max\": 0.4975,\n        \"num_unique_values\": 84,\n        \"samples\": [\n          0.4875,\n          0.365,\n          0.3175\n        ],\n        \"semantic_type\": \"\",\n        \"description\": \"\"\n      }\n    },\n    {\n      \"column\": \"errores\",\n      \"properties\": {\n        \"dtype\": \"number\",\n        \"std\": 0.024362252106023767,\n        \"min\": -0.11344727437471874,\n        \"max\": 0.10405272562528123,\n        \"num_unique_values\": 84,\n        \"samples\": [\n          -0.10344727437471873,\n          0.019052725625281264,\n          0.06655272562528125\n        ],\n        \"semantic_type\": \"\",\n        \"description\": \"\"\n      }\n    }\n  ]\n}"
            }
          },
          "metadata": {},
          "execution_count": 80
        }
      ]
    },
    {
      "cell_type": "markdown",
      "metadata": {
        "id": "oSs_pcMVD00n"
      },
      "source": [
        "<h2> Distribución de la suma"
      ]
    },
    {
      "cell_type": "code",
      "source": [
        "muestras['vocales'].hist(bins=30, figsize=(4,3))\n",
        "plt.show()"
      ],
      "metadata": {
        "outputId": "5966f4d4-020f-4df1-8001-77819e8acce7",
        "colab": {
          "base_uri": "https://localhost:8080/",
          "height": 291
        },
        "id": "IPlTT-egD00t"
      },
      "execution_count": 81,
      "outputs": [
        {
          "output_type": "display_data",
          "data": {
            "text/plain": [
              "<Figure size 400x300 with 1 Axes>"
            ],
            "image/png": "[encoded data removed]"
          },
          "metadata": {}
        }
      ]
    },
    {
      "cell_type": "markdown",
      "metadata": {
        "id": "c3IvUkg7IEo5"
      },
      "source": [
        "<h2> Distribución de los promedios"
      ]
    },
    {
      "cell_type": "code",
      "metadata": {
        "id": "SMmhHg9AKLte",
        "colab": {
          "base_uri": "https://localhost:8080/",
          "height": 291
        },
        "outputId": "4440733c-74fe-4c73-eaca-8a3bdc95fc18"
      },
      "source": [
        "muestras['p_estimada'].hist(bins=30, figsize=(4,3))\n",
        "plt.show()"
      ],
      "execution_count": 82,
      "outputs": [
        {
          "output_type": "display_data",
          "data": {
            "text/plain": [
              "<Figure size 400x300 with 1 Axes>"
            ],
            "image/png": "[encoded data removed]"
          },
          "metadata": {}
        }
      ]
    },
    {
      "cell_type": "markdown",
      "source": [
        "<h2>Distribución de los errores"
      ],
      "metadata": {
        "id": "Tf102IYyV9Dj"
      }
    },
    {
      "cell_type": "code",
      "metadata": {
        "colab": {
          "base_uri": "https://localhost:8080/",
          "height": 291
        },
        "outputId": "1bd3bec0-40ea-497c-a672-ac283d006504",
        "id": "c726yOIdV082"
      },
      "source": [
        "muestras['errores'].hist(bins=30, figsize=(4,3))\n",
        "plt.show()"
      ],
      "execution_count": 83,
      "outputs": [
        {
          "output_type": "display_data",
          "data": {
            "text/plain": [
              "<Figure size 400x300 with 1 Axes>"
            ],
            "image/png": "[encoded data removed]"
          },
          "metadata": {}
        }
      ]
    },
    {
      "cell_type": "code",
      "metadata": {
        "colab": {
          "base_uri": "https://localhost:8080/",
          "height": 346
        },
        "outputId": "406fdcd4-2cbd-4065-e169-f4f39afbd826",
        "id": "PqjJo8FdFBBJ"
      },
      "source": [
        "# podemos llegar a la distribución normal estandar\n",
        "sigma = np.sqrt(p*(1-p))\n",
        "z = muestras['errores']/(sigma/np.sqrt(n))\n",
        "\n",
        "media_z, std_z = z.mean(), z.std()\n",
        "\n",
        "print(f\"\\nMedia de los Puntajes Z: {media_z:.4f} (debería ser cercano a 0)\")\n",
        "print(f\"Desviación Estándar de los Puntajes Z: {std_z:.4f} (debería ser cercano a 1)\")\n",
        "\n",
        "z.hist(bins=30, figsize=(4,3), density=True)\n",
        "\n",
        "# Distribucción gaussiana\n",
        "xmin, xmax = plt.xlim()\n",
        "x = np.linspace(xmin, xmax, 100)\n",
        "p = norm.pdf(x, 0, 1)\n",
        "plt.plot(x, p, 'k', linewidth=2)\n",
        "plt.show()\n",
        "plt.show()\n",
        "\n"
      ],
      "execution_count": 85,
      "outputs": [
        {
          "output_type": "stream",
          "name": "stdout",
          "text": [
            "\n",
            "Media de los Puntajes Z: -0.0010 (debería ser cercano a 0)\n",
            "Desviación Estándar de los Puntajes Z: 1.0018 (debería ser cercano a 1)\n"
          ]
        },
        {
          "output_type": "display_data",
          "data": {
            "text/plain": [
              "<Figure size 400x300 with 1 Axes>"
            ],
            "image/png": "[encoded data removed]"
          },
          "metadata": {}
        }
      ]
    },
    {
      "cell_type": "markdown",
      "metadata": {
        "id": "sB-LneF7VCfz"
      },
      "source": [
        "# Distribución exponencial (carácteres antes de que salga n)"
      ]
    },
    {
      "cell_type": "code",
      "metadata": {
        "id": "3Peqz9GdPd4A",
        "colab": {
          "base_uri": "https://localhost:8080/",
          "height": 291
        },
        "outputId": "37a94a3a-79c6-4445-a513-d5b85d43f9bb"
      },
      "source": [
        "X = muestras['texto'].apply(cuenta_caracteres_antes_de_n)\n",
        "X.hist(bins=30, figsize=(4,3))\n",
        "plt.show()"
      ],
      "execution_count": 86,
      "outputs": [
        {
          "output_type": "display_data",
          "data": {
            "text/plain": [
              "<Figure size 400x300 with 1 Axes>"
            ],
            "image/png": "[encoded data removed]"
          },
          "metadata": {}
        }
      ]
    },
    {
      "cell_type": "code",
      "metadata": {
        "id": "MfrcWLotg3bE",
        "colab": {
          "base_uri": "https://localhost:8080/"
        },
        "outputId": "7e092952-4078-46d7-d564-66433757d680"
      },
      "source": [
        "X.mean()  #  1 / λ"
      ],
      "execution_count": 87,
      "outputs": [
        {
          "output_type": "execute_result",
          "data": {
            "text/plain": [
              "np.float64(15.88239)"
            ]
          },
          "metadata": {},
          "execution_count": 87
        }
      ]
    },
    {
      "cell_type": "markdown",
      "source": [
        "En la [distribución exponencial](https://en.wikipedia.org/wiki/Exponential_distribution)\n",
        "\n",
        "$$ \\mu = \\cfrac{1}{\\lambda}$$\n",
        "\n",
        "$$ \\sigma^2 = \\cfrac{1}{\\lambda^{2}}$$\n",
        "\n"
      ],
      "metadata": {
        "id": "WpTILkFBFaNk"
      }
    },
    {
      "cell_type": "code",
      "source": [
        "sigma = X.mean()"
      ],
      "metadata": {
        "id": "rhgRF4poIKmS"
      },
      "execution_count": 88,
      "outputs": []
    },
    {
      "cell_type": "markdown",
      "metadata": {
        "id": "YBzL3UnDX_Jq"
      },
      "source": [
        "**Ejemplos de fenómenos con distribución exponencial:**\n",
        "- Valores máximos de precipitación diaria\n",
        "- Compras efectuadas por visitantes en página web\n",
        "- Tiempo para que se produzca un fallo\n",
        "\n",
        "\n",
        "¿Qué otros??"
      ]
    },
    {
      "cell_type": "markdown",
      "metadata": {
        "id": "5TLosvSiiCWf"
      },
      "source": [
        "<h2> Obtener muestras"
      ]
    },
    {
      "cell_type": "code",
      "metadata": {
        "id": "yaOo2_TTXswx",
        "colab": {
          "base_uri": "https://localhost:8080/",
          "height": 441
        },
        "outputId": "4f7bcc1c-56c1-458a-acda-e85e196c228c"
      },
      "source": [
        "n = 400 # tamaño de la muestra\n",
        "m = 2000 # número de muestras\n",
        "m_exp = {'muestra '+str(i):np.random.choice(X, n) for i in range(1, m+1)}\n",
        "\n",
        "muestras_exp = pd.DataFrame.from_dict(m_exp)\n",
        "muestras_exp"
      ],
      "execution_count": 89,
      "outputs": [
        {
          "output_type": "execute_result",
          "data": {
            "text/plain": [
              "     muestra 1  muestra 2  muestra 3  muestra 4  muestra 5  muestra 6  \\\n",
              "0           67         12         13          9          8          4   \n",
              "1            5         10         35          4         15          7   \n",
              "2            5         86         16         18          2         37   \n",
              "3            0         30         41         19         15          1   \n",
              "4           10          7         26         12         14          0   \n",
              "..         ...        ...        ...        ...        ...        ...   \n",
              "395          6         26          5          7          4         35   \n",
              "396          6         29         12         18         28         19   \n",
              "397         21         13          7          7         26         10   \n",
              "398          1          0         55          4          7          4   \n",
              "399         18         24         15         14         15          2   \n",
              "\n",
              "     muestra 7  muestra 8  muestra 9  muestra 10  ...  muestra 1991  \\\n",
              "0           20         19          4           3  ...             1   \n",
              "1           25          5         16          10  ...             1   \n",
              "2           25          4         14          17  ...             8   \n",
              "3           34          4          8          14  ...             9   \n",
              "4           12          6         11           2  ...            32   \n",
              "..         ...        ...        ...         ...  ...           ...   \n",
              "395         14          2         41          14  ...             8   \n",
              "396          0          5          8           1  ...            49   \n",
              "397         82         16         37           1  ...             9   \n",
              "398         28         23         21           7  ...             9   \n",
              "399         30          1         54           3  ...            25   \n",
              "\n",
              "     muestra 1992  muestra 1993  muestra 1994  muestra 1995  muestra 1996  \\\n",
              "0              53            36            33            20             2   \n",
              "1              40           103            16             8            18   \n",
              "2              18             9             4            11             2   \n",
              "3              14            24             2            46            20   \n",
              "4               4             5            11            22            17   \n",
              "..            ...           ...           ...           ...           ...   \n",
              "395             8             0             0            12            13   \n",
              "396            25            27             9            40            18   \n",
              "397            78            11             5            30            25   \n",
              "398            12             2             8            51             3   \n",
              "399             2            20            38            33             5   \n",
              "\n",
              "     muestra 1997  muestra 1998  muestra 1999  muestra 2000  \n",
              "0               9            12             4            23  \n",
              "1               9            25             4             5  \n",
              "2               3             4            12            11  \n",
              "3               6             2             5            24  \n",
              "4               2            16            32             3  \n",
              "..            ...           ...           ...           ...  \n",
              "395            17             4            21            39  \n",
              "396             3             8            25             7  \n",
              "397             1             0            22            50  \n",
              "398             3             7            12            47  \n",
              "399             5            12             4             2  \n",
              "\n",
              "[400 rows x 2000 columns]"
            ],
            "text/html": [
              "\n",
              "  <div id=\"df-5db25300-231e-4999-bc0a-27a19d824bbd\" class=\"colab-df-container\">\n",
              "    <div>\n",
              "<style scoped>\n",
              "    .dataframe tbody tr th:only-of-type {\n",
              "        vertical-align: middle;\n",
              "    }\n",
              "\n",
              "    .dataframe tbody tr th {\n",
              "        vertical-align: top;\n",
              "    }\n",
              "\n",
              "    .dataframe thead th {\n",
              "        text-align: right;\n",
              "    }\n",
              "</style>\n",
              "<table border=\"1\" class=\"dataframe\">\n",
              "  <thead>\n",
              "    <tr style=\"text-align: right;\">\n",
              "      <th></th>\n",
              "      <th>muestra 1</th>\n",
              "      <th>muestra 2</th>\n",
              "      <th>muestra 3</th>\n",
              "      <th>muestra 4</th>\n",
              "      <th>muestra 5</th>\n",
              "      <th>muestra 6</th>\n",
              "      <th>muestra 7</th>\n",
              "      <th>muestra 8</th>\n",
              "      <th>muestra 9</th>\n",
              "      <th>muestra 10</th>\n",
              "      <th>...</th>\n",
              "      <th>muestra 1991</th>\n",
              "      <th>muestra 1992</th>\n",
              "      <th>muestra 1993</th>\n",
              "      <th>muestra 1994</th>\n",
              "      <th>muestra 1995</th>\n",
              "      <th>muestra 1996</th>\n",
              "      <th>muestra 1997</th>\n",
              "      <th>muestra 1998</th>\n",
              "      <th>muestra 1999</th>\n",
              "      <th>muestra 2000</th>\n",
              "    </tr>\n",
              "  </thead>\n",
              "  <tbody>\n",
              "    <tr>\n",
              "      <th>0</th>\n",
              "      <td>67</td>\n",
              "      <td>12</td>\n",
              "      <td>13</td>\n",
              "      <td>9</td>\n",
              "      <td>8</td>\n",
              "      <td>4</td>\n",
              "      <td>20</td>\n",
              "      <td>19</td>\n",
              "      <td>4</td>\n",
              "      <td>3</td>\n",
              "      <td>...</td>\n",
              "      <td>1</td>\n",
              "      <td>53</td>\n",
              "      <td>36</td>\n",
              "      <td>33</td>\n",
              "      <td>20</td>\n",
              "      <td>2</td>\n",
              "      <td>9</td>\n",
              "      <td>12</td>\n",
              "      <td>4</td>\n",
              "      <td>23</td>\n",
              "    </tr>\n",
              "    <tr>\n",
              "      <th>1</th>\n",
              "      <td>5</td>\n",
              "      <td>10</td>\n",
              "      <td>35</td>\n",
              "      <td>4</td>\n",
              "      <td>15</td>\n",
              "      <td>7</td>\n",
              "      <td>25</td>\n",
              "      <td>5</td>\n",
              "      <td>16</td>\n",
              "      <td>10</td>\n",
              "      <td>...</td>\n",
              "      <td>1</td>\n",
              "      <td>40</td>\n",
              "      <td>103</td>\n",
              "      <td>16</td>\n",
              "      <td>8</td>\n",
              "      <td>18</td>\n",
              "      <td>9</td>\n",
              "      <td>25</td>\n",
              "      <td>4</td>\n",
              "      <td>5</td>\n",
              "    </tr>\n",
              "    <tr>\n",
              "      <th>2</th>\n",
              "      <td>5</td>\n",
              "      <td>86</td>\n",
              "      <td>16</td>\n",
              "      <td>18</td>\n",
              "      <td>2</td>\n",
              "      <td>37</td>\n",
              "      <td>25</td>\n",
              "      <td>4</td>\n",
              "      <td>14</td>\n",
              "      <td>17</td>\n",
              "      <td>...</td>\n",
              "      <td>8</td>\n",
              "      <td>18</td>\n",
              "      <td>9</td>\n",
              "      <td>4</td>\n",
              "      <td>11</td>\n",
              "      <td>2</td>\n",
              "      <td>3</td>\n",
              "      <td>4</td>\n",
              "      <td>12</td>\n",
              "      <td>11</td>\n",
              "    </tr>\n",
              "    <tr>\n",
              "      <th>3</th>\n",
              "      <td>0</td>\n",
              "      <td>30</td>\n",
              "      <td>41</td>\n",
              "      <td>19</td>\n",
              "      <td>15</td>\n",
              "      <td>1</td>\n",
              "      <td>34</td>\n",
              "      <td>4</td>\n",
              "      <td>8</td>\n",
              "      <td>14</td>\n",
              "      <td>...</td>\n",
              "      <td>9</td>\n",
              "      <td>14</td>\n",
              "      <td>24</td>\n",
              "      <td>2</td>\n",
              "      <td>46</td>\n",
              "      <td>20</td>\n",
              "      <td>6</td>\n",
              "      <td>2</td>\n",
              "      <td>5</td>\n",
              "      <td>24</td>\n",
              "    </tr>\n",
              "    <tr>\n",
              "      <th>4</th>\n",
              "      <td>10</td>\n",
              "      <td>7</td>\n",
              "      <td>26</td>\n",
              "      <td>12</td>\n",
              "      <td>14</td>\n",
              "      <td>0</td>\n",
              "      <td>12</td>\n",
              "      <td>6</td>\n",
              "      <td>11</td>\n",
              "      <td>2</td>\n",
              "      <td>...</td>\n",
              "      <td>32</td>\n",
              "      <td>4</td>\n",
              "      <td>5</td>\n",
              "      <td>11</td>\n",
              "      <td>22</td>\n",
              "      <td>17</td>\n",
              "      <td>2</td>\n",
              "      <td>16</td>\n",
              "      <td>32</td>\n",
              "      <td>3</td>\n",
              "    </tr>\n",
              "    <tr>\n",
              "      <th>...</th>\n",
              "      <td>...</td>\n",
              "      <td>...</td>\n",
              "      <td>...</td>\n",
              "      <td>...</td>\n",
              "      <td>...</td>\n",
              "      <td>...</td>\n",
              "      <td>...</td>\n",
              "      <td>...</td>\n",
              "      <td>...</td>\n",
              "      <td>...</td>\n",
              "      <td>...</td>\n",
              "      <td>...</td>\n",
              "      <td>...</td>\n",
              "      <td>...</td>\n",
              "      <td>...</td>\n",
              "      <td>...</td>\n",
              "      <td>...</td>\n",
              "      <td>...</td>\n",
              "      <td>...</td>\n",
              "      <td>...</td>\n",
              "      <td>...</td>\n",
              "    </tr>\n",
              "    <tr>\n",
              "      <th>395</th>\n",
              "      <td>6</td>\n",
              "      <td>26</td>\n",
              "      <td>5</td>\n",
              "      <td>7</td>\n",
              "      <td>4</td>\n",
              "      <td>35</td>\n",
              "      <td>14</td>\n",
              "      <td>2</td>\n",
              "      <td>41</td>\n",
              "      <td>14</td>\n",
              "      <td>...</td>\n",
              "      <td>8</td>\n",
              "      <td>8</td>\n",
              "      <td>0</td>\n",
              "      <td>0</td>\n",
              "      <td>12</td>\n",
              "      <td>13</td>\n",
              "      <td>17</td>\n",
              "      <td>4</td>\n",
              "      <td>21</td>\n",
              "      <td>39</td>\n",
              "    </tr>\n",
              "    <tr>\n",
              "      <th>396</th>\n",
              "      <td>6</td>\n",
              "      <td>29</td>\n",
              "      <td>12</td>\n",
              "      <td>18</td>\n",
              "      <td>28</td>\n",
              "      <td>19</td>\n",
              "      <td>0</td>\n",
              "      <td>5</td>\n",
              "      <td>8</td>\n",
              "      <td>1</td>\n",
              "      <td>...</td>\n",
              "      <td>49</td>\n",
              "      <td>25</td>\n",
              "      <td>27</td>\n",
              "      <td>9</td>\n",
              "      <td>40</td>\n",
              "      <td>18</td>\n",
              "      <td>3</td>\n",
              "      <td>8</td>\n",
              "      <td>25</td>\n",
              "      <td>7</td>\n",
              "    </tr>\n",
              "    <tr>\n",
              "      <th>397</th>\n",
              "      <td>21</td>\n",
              "      <td>13</td>\n",
              "      <td>7</td>\n",
              "      <td>7</td>\n",
              "      <td>26</td>\n",
              "      <td>10</td>\n",
              "      <td>82</td>\n",
              "      <td>16</td>\n",
              "      <td>37</td>\n",
              "      <td>1</td>\n",
              "      <td>...</td>\n",
              "      <td>9</td>\n",
              "      <td>78</td>\n",
              "      <td>11</td>\n",
              "      <td>5</td>\n",
              "      <td>30</td>\n",
              "      <td>25</td>\n",
              "      <td>1</td>\n",
              "      <td>0</td>\n",
              "      <td>22</td>\n",
              "      <td>50</td>\n",
              "    </tr>\n",
              "    <tr>\n",
              "      <th>398</th>\n",
              "      <td>1</td>\n",
              "      <td>0</td>\n",
              "      <td>55</td>\n",
              "      <td>4</td>\n",
              "      <td>7</td>\n",
              "      <td>4</td>\n",
              "      <td>28</td>\n",
              "      <td>23</td>\n",
              "      <td>21</td>\n",
              "      <td>7</td>\n",
              "      <td>...</td>\n",
              "      <td>9</td>\n",
              "      <td>12</td>\n",
              "      <td>2</td>\n",
              "      <td>8</td>\n",
              "      <td>51</td>\n",
              "      <td>3</td>\n",
              "      <td>3</td>\n",
              "      <td>7</td>\n",
              "      <td>12</td>\n",
              "      <td>47</td>\n",
              "    </tr>\n",
              "    <tr>\n",
              "      <th>399</th>\n",
              "      <td>18</td>\n",
              "      <td>24</td>\n",
              "      <td>15</td>\n",
              "      <td>14</td>\n",
              "      <td>15</td>\n",
              "      <td>2</td>\n",
              "      <td>30</td>\n",
              "      <td>1</td>\n",
              "      <td>54</td>\n",
              "      <td>3</td>\n",
              "      <td>...</td>\n",
              "      <td>25</td>\n",
              "      <td>2</td>\n",
              "      <td>20</td>\n",
              "      <td>38</td>\n",
              "      <td>33</td>\n",
              "      <td>5</td>\n",
              "      <td>5</td>\n",
              "      <td>12</td>\n",
              "      <td>4</td>\n",
              "      <td>2</td>\n",
              "    </tr>\n",
              "  </tbody>\n",
              "</table>\n",
              "<p>400 rows × 2000 columns</p>\n",
              "</div>\n",
              "    <div class=\"colab-df-buttons\">\n",
              "\n",
              "  <div class=\"colab-df-container\">\n",
              "    <button class=\"colab-df-convert\" onclick=\"convertToInteractive('df-5db25300-231e-4999-bc0a-27a19d824bbd')\"\n",
              "            title=\"Convert this dataframe to an interactive table.\"\n",
              "            style=\"display:none;\">\n",
              "\n",
              "  <svg xmlns=\"http://www.w3.org/2000/svg\" height=\"24px\" viewBox=\"0 -960 960 960\">\n",
              "    <path d=\"M120-120v-720h720v720H120Zm60-500h600v-160H180v160Zm220 220h160v-160H400v160Zm0 220h160v-160H400v160ZM180-400h160v-160H180v160Zm440 0h160v-160H620v160ZM180-180h160v-160H180v160Zm440 0h160v-160H620v160Z\"/>\n",
              "  </svg>\n",
              "    </button>\n",
              "\n",
              "  <style>\n",
              "    .colab-df-container {\n",
              "      display:flex;\n",
              "      gap: 12px;\n",
              "    }\n",
              "\n",
              "    .colab-df-convert {\n",
              "      background-color: #E8F0FE;\n",
              "      border: none;\n",
              "      border-radius: 50%;\n",
              "      cursor: pointer;\n",
              "      display: none;\n",
              "      fill: #1967D2;\n",
              "      height: 32px;\n",
              "      padding: 0 0 0 0;\n",
              "      width: 32px;\n",
              "    }\n",
              "\n",
              "    .colab-df-convert:hover {\n",
              "      background-color: #E2EBFA;\n",
              "      box-shadow: 0px 1px 2px rgba(60, 64, 67, 0.3), 0px 1px 3px 1px rgba(60, 64, 67, 0.15);\n",
              "      fill: #174EA6;\n",
              "    }\n",
              "\n",
              "    .colab-df-buttons div {\n",
              "      margin-bottom: 4px;\n",
              "    }\n",
              "\n",
              "    [theme=dark] .colab-df-convert {\n",
              "      background-color: #3B4455;\n",
              "      fill: #D2E3FC;\n",
              "    }\n",
              "\n",
              "    [theme=dark] .colab-df-convert:hover {\n",
              "      background-color: #434B5C;\n",
              "      box-shadow: 0px 1px 3px 1px rgba(0, 0, 0, 0.15);\n",
              "      filter: drop-shadow(0px 1px 2px rgba(0, 0, 0, 0.3));\n",
              "      fill: #FFFFFF;\n",
              "    }\n",
              "  </style>\n",
              "\n",
              "    <script>\n",
              "      const buttonEl =\n",
              "        document.querySelector('#df-5db25300-231e-4999-bc0a-27a19d824bbd button.colab-df-convert');\n",
              "      buttonEl.style.display =\n",
              "        google.colab.kernel.accessAllowed ? 'block' : 'none';\n",
              "\n",
              "      async function convertToInteractive(key) {\n",
              "        const element = document.querySelector('#df-5db25300-231e-4999-bc0a-27a19d824bbd');\n",
              "        const dataTable =\n",
              "          await google.colab.kernel.invokeFunction('convertToInteractive',\n",
              "                                                    [key], {});\n",
              "        if (!dataTable) return;\n",
              "\n",
              "        const docLinkHtml = 'Like what you see? Visit the ' +\n",
              "          '<a target=\"_blank\" href=https://colab.research.google.com/notebooks/data_table.ipynb>data table notebook</a>'\n",
              "          + ' to learn more about interactive tables.';\n",
              "        element.innerHTML = '';\n",
              "        dataTable['output_type'] = 'display_data';\n",
              "        await google.colab.output.renderOutput(dataTable, element);\n",
              "        const docLink = document.createElement('div');\n",
              "        docLink.innerHTML = docLinkHtml;\n",
              "        element.appendChild(docLink);\n",
              "      }\n",
              "    </script>\n",
              "  </div>\n",
              "\n",
              "\n",
              "    <div id=\"df-b7f7eefb-6b39-4c6f-b6e8-aca5e2764b22\">\n",
              "      <button class=\"colab-df-quickchart\" onclick=\"quickchart('df-b7f7eefb-6b39-4c6f-b6e8-aca5e2764b22')\"\n",
              "                title=\"Suggest charts\"\n",
              "                style=\"display:none;\">\n",
              "\n",
              "<svg xmlns=\"http://www.w3.org/2000/svg\" height=\"24px\"viewBox=\"0 0 24 24\"\n",
              "     width=\"24px\">\n",
              "    <g>\n",
              "        <path d=\"M19 3H5c-1.1 0-2 .9-2 2v14c0 1.1.9 2 2 2h14c1.1 0 2-.9 2-2V5c0-1.1-.9-2-2-2zM9 17H7v-7h2v7zm4 0h-2V7h2v10zm4 0h-2v-4h2v4z\"/>\n",
              "    </g>\n",
              "</svg>\n",
              "      </button>\n",
              "\n",
              "<style>\n",
              "  .colab-df-quickchart {\n",
              "      --bg-color: #E8F0FE;\n",
              "      --fill-color: #1967D2;\n",
              "      --hover-bg-color: #E2EBFA;\n",
              "      --hover-fill-color: #174EA6;\n",
              "      --disabled-fill-color: #AAA;\n",
              "      --disabled-bg-color: #DDD;\n",
              "  }\n",
              "\n",
              "  [theme=dark] .colab-df-quickchart {\n",
              "      --bg-color: #3B4455;\n",
              "      --fill-color: #D2E3FC;\n",
              "      --hover-bg-color: #434B5C;\n",
              "      --hover-fill-color: #FFFFFF;\n",
              "      --disabled-bg-color: #3B4455;\n",
              "      --disabled-fill-color: #666;\n",
              "  }\n",
              "\n",
              "  .colab-df-quickchart {\n",
              "    background-color: var(--bg-color);\n",
              "    border: none;\n",
              "    border-radius: 50%;\n",
              "    cursor: pointer;\n",
              "    display: none;\n",
              "    fill: var(--fill-color);\n",
              "    height: 32px;\n",
              "    padding: 0;\n",
              "    width: 32px;\n",
              "  }\n",
              "\n",
              "  .colab-df-quickchart:hover {\n",
              "    background-color: var(--hover-bg-color);\n",
              "    box-shadow: 0 1px 2px rgba(60, 64, 67, 0.3), 0 1px 3px 1px rgba(60, 64, 67, 0.15);\n",
              "    fill: var(--button-hover-fill-color);\n",
              "  }\n",
              "\n",
              "  .colab-df-quickchart-complete:disabled,\n",
              "  .colab-df-quickchart-complete:disabled:hover {\n",
              "    background-color: var(--disabled-bg-color);\n",
              "    fill: var(--disabled-fill-color);\n",
              "    box-shadow: none;\n",
              "  }\n",
              "\n",
              "  .colab-df-spinner {\n",
              "    border: 2px solid var(--fill-color);\n",
              "    border-color: transparent;\n",
              "    border-bottom-color: var(--fill-color);\n",
              "    animation:\n",
              "      spin 1s steps(1) infinite;\n",
              "  }\n",
              "\n",
              "  @keyframes spin {\n",
              "    0% {\n",
              "      border-color: transparent;\n",
              "      border-bottom-color: var(--fill-color);\n",
              "      border-left-color: var(--fill-color);\n",
              "    }\n",
              "    20% {\n",
              "      border-color: transparent;\n",
              "      border-left-color: var(--fill-color);\n",
              "      border-top-color: var(--fill-color);\n",
              "    }\n",
              "    30% {\n",
              "      border-color: transparent;\n",
              "      border-left-color: var(--fill-color);\n",
              "      border-top-color: var(--fill-color);\n",
              "      border-right-color: var(--fill-color);\n",
              "    }\n",
              "    40% {\n",
              "      border-color: transparent;\n",
              "      border-right-color: var(--fill-color);\n",
              "      border-top-color: var(--fill-color);\n",
              "    }\n",
              "    60% {\n",
              "      border-color: transparent;\n",
              "      border-right-color: var(--fill-color);\n",
              "    }\n",
              "    80% {\n",
              "      border-color: transparent;\n",
              "      border-right-color: var(--fill-color);\n",
              "      border-bottom-color: var(--fill-color);\n",
              "    }\n",
              "    90% {\n",
              "      border-color: transparent;\n",
              "      border-bottom-color: var(--fill-color);\n",
              "    }\n",
              "  }\n",
              "</style>\n",
              "\n",
              "      <script>\n",
              "        async function quickchart(key) {\n",
              "          const quickchartButtonEl =\n",
              "            document.querySelector('#' + key + ' button');\n",
              "          quickchartButtonEl.disabled = true;  // To prevent multiple clicks.\n",
              "          quickchartButtonEl.classList.add('colab-df-spinner');\n",
              "          try {\n",
              "            const charts = await google.colab.kernel.invokeFunction(\n",
              "                'suggestCharts', [key], {});\n",
              "          } catch (error) {\n",
              "            console.error('Error during call to suggestCharts:', error);\n",
              "          }\n",
              "          quickchartButtonEl.classList.remove('colab-df-spinner');\n",
              "          quickchartButtonEl.classList.add('colab-df-quickchart-complete');\n",
              "        }\n",
              "        (() => {\n",
              "          let quickchartButtonEl =\n",
              "            document.querySelector('#df-b7f7eefb-6b39-4c6f-b6e8-aca5e2764b22 button');\n",
              "          quickchartButtonEl.style.display =\n",
              "            google.colab.kernel.accessAllowed ? 'block' : 'none';\n",
              "        })();\n",
              "      </script>\n",
              "    </div>\n",
              "\n",
              "  <div id=\"id_9b7b56bb-2a9d-46bc-a732-b5e96ccfad41\">\n",
              "    <style>\n",
              "      .colab-df-generate {\n",
              "        background-color: #E8F0FE;\n",
              "        border: none;\n",
              "        border-radius: 50%;\n",
              "        cursor: pointer;\n",
              "        display: none;\n",
              "        fill: #1967D2;\n",
              "        height: 32px;\n",
              "        padding: 0 0 0 0;\n",
              "        width: 32px;\n",
              "      }\n",
              "\n",
              "      .colab-df-generate:hover {\n",
              "        background-color: #E2EBFA;\n",
              "        box-shadow: 0px 1px 2px rgba(60, 64, 67, 0.3), 0px 1px 3px 1px rgba(60, 64, 67, 0.15);\n",
              "        fill: #174EA6;\n",
              "      }\n",
              "\n",
              "      [theme=dark] .colab-df-generate {\n",
              "        background-color: #3B4455;\n",
              "        fill: #D2E3FC;\n",
              "      }\n",
              "\n",
              "      [theme=dark] .colab-df-generate:hover {\n",
              "        background-color: #434B5C;\n",
              "        box-shadow: 0px 1px 3px 1px rgba(0, 0, 0, 0.15);\n",
              "        filter: drop-shadow(0px 1px 2px rgba(0, 0, 0, 0.3));\n",
              "        fill: #FFFFFF;\n",
              "      }\n",
              "    </style>\n",
              "    <button class=\"colab-df-generate\" onclick=\"generateWithVariable('muestras_exp')\"\n",
              "            title=\"Generate code using this dataframe.\"\n",
              "            style=\"display:none;\">\n",
              "\n",
              "  <svg xmlns=\"http://www.w3.org/2000/svg\" height=\"24px\"viewBox=\"0 0 24 24\"\n",
              "       width=\"24px\">\n",
              "    <path d=\"M7,19H8.4L18.45,9,17,7.55,7,17.6ZM5,21V16.75L18.45,3.32a2,2,0,0,1,2.83,0l1.4,1.43a1.91,1.91,0,0,1,.58,1.4,1.91,1.91,0,0,1-.58,1.4L9.25,21ZM18.45,9,17,7.55Zm-12,3A5.31,5.31,0,0,0,4.9,8.1,5.31,5.31,0,0,0,1,6.5,5.31,5.31,0,0,0,4.9,4.9,5.31,5.31,0,0,0,6.5,1,5.31,5.31,0,0,0,8.1,4.9,5.31,5.31,0,0,0,12,6.5,5.46,5.46,0,0,0,6.5,12Z\"/>\n",
              "  </svg>\n",
              "    </button>\n",
              "    <script>\n",
              "      (() => {\n",
              "      const buttonEl =\n",
              "        document.querySelector('#id_9b7b56bb-2a9d-46bc-a732-b5e96ccfad41 button.colab-df-generate');\n",
              "      buttonEl.style.display =\n",
              "        google.colab.kernel.accessAllowed ? 'block' : 'none';\n",
              "\n",
              "      buttonEl.onclick = () => {\n",
              "        google.colab.notebook.generateWithVariable('muestras_exp');\n",
              "      }\n",
              "      })();\n",
              "    </script>\n",
              "  </div>\n",
              "\n",
              "    </div>\n",
              "  </div>\n"
            ],
            "application/vnd.google.colaboratory.intrinsic+json": {
              "type": "dataframe",
              "variable_name": "muestras_exp"
            }
          },
          "metadata": {},
          "execution_count": 89
        }
      ]
    },
    {
      "cell_type": "markdown",
      "metadata": {
        "id": "aJyrCTU9id2c"
      },
      "source": [
        "<h2> Distribución de cada muestra"
      ]
    },
    {
      "cell_type": "code",
      "source": [
        "muestras_exp.sample(4, axis = 1).hist(sharex= True, bins=100)\n",
        "plt.show()"
      ],
      "metadata": {
        "id": "xn96zKZ_IGYQ",
        "outputId": "2a211bb5-9ac6-4bed-f756-272952601aa1",
        "colab": {
          "base_uri": "https://localhost:8080/",
          "height": 452
        }
      },
      "execution_count": 90,
      "outputs": [
        {
          "output_type": "display_data",
          "data": {
            "text/plain": [
              "<Figure size 640x480 with 4 Axes>"
            ],
            "image/png": "[encoded data removed]"
          },
          "metadata": {}
        }
      ]
    },
    {
      "cell_type": "markdown",
      "metadata": {
        "id": "66z__SzaEfge"
      },
      "source": [
        "<h2>Distribución de la suma"
      ]
    },
    {
      "cell_type": "code",
      "source": [
        "muestras_exp.sum().hist(bins=30, figsize=(4,3))\n",
        "plt.show()"
      ],
      "metadata": {
        "outputId": "160cf227-d5fb-454c-b16c-539762dc8acf",
        "colab": {
          "base_uri": "https://localhost:8080/",
          "height": 291
        },
        "id": "xUv1f4yPEfge"
      },
      "execution_count": 91,
      "outputs": [
        {
          "output_type": "display_data",
          "data": {
            "text/plain": [
              "<Figure size 400x300 with 1 Axes>"
            ],
            "image/png": "[encoded data removed]"
          },
          "metadata": {}
        }
      ]
    },
    {
      "cell_type": "markdown",
      "metadata": {
        "id": "UjKLuQLEilDv"
      },
      "source": [
        "<h2>Distribución de los promedios"
      ]
    },
    {
      "cell_type": "code",
      "metadata": {
        "id": "_qfIBuRysOz0",
        "colab": {
          "base_uri": "https://localhost:8080/",
          "height": 291
        },
        "outputId": "200efabe-a153-45a5-e65b-6b61311a5e3c"
      },
      "source": [
        "muestras_exp.mean().hist(bins=30, figsize=(4,3))\n",
        "plt.show()\n"
      ],
      "execution_count": 92,
      "outputs": [
        {
          "output_type": "display_data",
          "data": {
            "text/plain": [
              "<Figure size 400x300 with 1 Axes>"
            ],
            "image/png": "[encoded data removed]"
          },
          "metadata": {}
        }
      ]
    },
    {
      "cell_type": "markdown",
      "source": [
        "<h2>Distribución de los errores"
      ],
      "metadata": {
        "id": "bLkNy-xLbI-a"
      }
    },
    {
      "cell_type": "code",
      "metadata": {
        "colab": {
          "base_uri": "https://localhost:8080/",
          "height": 291
        },
        "outputId": "96ae0576-ffe4-4a18-9e8f-1e1d1d63acd5",
        "id": "Rw1g3fBObI-j"
      },
      "source": [
        "errores = muestras_exp.mean() - X.mean()\n",
        "errores.hist(bins=30, figsize=(4,3))\n",
        "plt.show()"
      ],
      "execution_count": 93,
      "outputs": [
        {
          "output_type": "display_data",
          "data": {
            "text/plain": [
              "<Figure size 400x300 with 1 Axes>"
            ],
            "image/png": "[encoded data removed]"
          },
          "metadata": {}
        }
      ]
    },
    {
      "cell_type": "code",
      "source": [
        "# podemos llegar a la distribución normal estándar\n",
        "z = errores/(sigma/np.sqrt(n))\n",
        "\n",
        "media_z, std_z = z.mean(), z.std()\n",
        "\n",
        "print(f\"\\nMedia de los Puntajes Z: {media_z:.4f} (debería ser cercano a 0)\")\n",
        "print(f\"Desviación Estándar de los Puntajes Z: {std_z:.4f} (debería ser cercano a 1)\")\n",
        "\n",
        "z.hist(bins=30, figsize=(4,3), density=True)\n",
        "\n",
        "# Distribucción gaussiana\n",
        "xmin, xmax = plt.xlim()\n",
        "x = np.linspace(xmin, xmax, 100)\n",
        "p = norm.pdf(x, 0, 1)\n",
        "plt.plot(x, p, 'k', linewidth=2)\n",
        "plt.show()\n",
        "plt.show()\n"
      ],
      "metadata": {
        "outputId": "fc401048-6a24-433f-e908-d78ff1663f8a",
        "colab": {
          "base_uri": "https://localhost:8080/",
          "height": 346
        },
        "id": "8fbiz0KkIkru"
      },
      "execution_count": 94,
      "outputs": [
        {
          "output_type": "stream",
          "name": "stdout",
          "text": [
            "\n",
            "Media de los Puntajes Z: -0.0021 (debería ser cercano a 0)\n",
            "Desviación Estándar de los Puntajes Z: 1.0480 (debería ser cercano a 1)\n"
          ]
        },
        {
          "output_type": "display_data",
          "data": {
            "text/plain": [
              "<Figure size 400x300 with 1 Axes>"
            ],
            "image/png": "[encoded data removed]"
          },
          "metadata": {}
        }
      ]
    },
    {
      "cell_type": "markdown",
      "metadata": {
        "id": "cn-Wq930Vgog"
      },
      "source": [
        "\n",
        "\n",
        "https://seeing-theory.brown.edu/probability-distributions/index.html\n",
        "\n"
      ]
    }
  ]
}