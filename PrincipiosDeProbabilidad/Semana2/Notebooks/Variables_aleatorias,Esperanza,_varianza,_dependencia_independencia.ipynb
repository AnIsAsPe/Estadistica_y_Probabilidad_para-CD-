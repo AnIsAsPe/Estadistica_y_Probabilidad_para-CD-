{
  "nbformat": 4,
  "nbformat_minor": 0,
  "metadata": {
    "colab": {
      "name": "Variables aleatorias,Esperanza, varianza, dependencia-independencia.ipynb",
      "provenance": [],
      "toc_visible": true,
      "authorship_tag": "ABX9TyP4Cv913rAStncyVajGCgxL",
      "include_colab_link": true
    },
    "kernelspec": {
      "name": "python3",
      "display_name": "Python 3"
    }
  },
  "cells": [
    {
      "cell_type": "markdown",
      "metadata": {
        "id": "view-in-github",
        "colab_type": "text"
      },
      "source": [
        "<a href=\"https://colab.research.google.com/github/AnIsAsPe/Estadistica_y_Probabilidad_para-CD-/blob/main/PrincipiosDeProbabilidad/Semana2/Notebooks/Variables_aleatorias%2CEsperanza%2C_varianza%2C_dependencia_independencia.ipynb\" target=\"_parent\"><img src=\"https://colab.research.google.com/assets/colab-badge.svg\" alt=\"Open In Colab\"/></a>"
      ]
    },
    {
      "cell_type": "markdown",
      "metadata": {
        "id": "K9j4q3wvLosv"
      },
      "source": [
        "#Librerías y funciones"
      ]
    },
    {
      "cell_type": "code",
      "metadata": {
        "id": "oh5cPc2yTllV"
      },
      "source": [
        "import numpy as np\n",
        "import itertools\n",
        "import pandas as pd\n",
        "import matplotlib.pyplot as plt\n",
        "import seaborn as sns\n",
        "import random\n",
        "\n",
        "%matplotlib inline"
      ],
      "execution_count": 1,
      "outputs": []
    },
    {
      "cell_type": "markdown",
      "metadata": {
        "id": "fniUex4Pi-XD"
      },
      "source": [
        "####burbujas_espacio_probabilidad()\n",
        "\n"
      ]
    },
    {
      "cell_type": "code",
      "metadata": {
        "id": "au2VNNwVPKKC"
      },
      "source": [
        "def burbujas_espacio_probabilidad(elementos, probabilidad):\n",
        "  '''\n",
        "  Función que muestra grafico de burbuja de un espacio de probabilidad de una\n",
        "  variable aleatoria discreta\n",
        "\n",
        "  elementos: lista, vector o serie que contiene los posibles elementos\n",
        "  probabilidad: lista, vector o serie que contiene la probabilidad de cada\n",
        "                elemento\n",
        "  nombre_var: objeto de texto con el nombre de la variable aleatoria\n",
        "  '''\n",
        "\n",
        "\n",
        "  n = len(elementos)\n",
        "  X = np.random.randint(1, 8000,n)\n",
        "  Y = np.random.randint(1, 8000,n)\n",
        "  P = np.array(probabilidad)\n",
        "  color = np.random.rand(n)\n",
        "  titulo = 'Espacio de probabilidad'\n",
        "  plt.scatter(x=X, y=Y, s=P*10000,\n",
        "              c = color, alpha=0.5)\n",
        "  margen =2500\n",
        "  plt.xlim(min(X)-margen, max(X)+margen)\n",
        "  plt.ylim(min(X)-margen,max(X)+margen)\n",
        "  plt.title(titulo)\n",
        "\n",
        "  #Mostrar valores de los elementos y sus probabilidades\n",
        "  for e, p, x, y in zip(elementos,P,X,Y):\n",
        "    plt.annotate(\"{}\".format(e),\n",
        "                 xy=(x, y),\n",
        "                 ha=\"center\", va=\"center\")\n",
        "    #plt.annotate(e ,xy=(x, y), xytext=(0,np.sqrt(p*10000)/2.+5),\n",
        "     #            textcoords=\"offset points\", ha=\"center\", va=\"bottom\")\n",
        "\n",
        "  #Eliminar texto y marcas de los ejes\n",
        "  ax = plt.gca( )\n",
        "  ax.axes.xaxis.set_ticks([])\n",
        "  ax.axes.yaxis.set_ticks([])\n",
        "  plt.show()"
      ],
      "execution_count": 2,
      "outputs": []
    },
    {
      "cell_type": "markdown",
      "metadata": {
        "id": "f7MDGIw4uKKw"
      },
      "source": [
        "####prueba_independencia()"
      ]
    },
    {
      "cell_type": "code",
      "metadata": {
        "id": "MOhqmXknhMh2"
      },
      "source": [
        "def prueba_independencia(pA, pB, pAnB):\n",
        "  return round(pA*pB,2) == round(pAnB,2)\n"
      ],
      "execution_count": 3,
      "outputs": []
    },
    {
      "cell_type": "markdown",
      "metadata": {
        "id": "6ml7n_r1uRfx"
      },
      "source": [
        "#### probabilidad_condicional()"
      ]
    },
    {
      "cell_type": "code",
      "metadata": {
        "id": "xO4auzjtpqyX"
      },
      "source": [
        "def probabilidad_condicional(pA, pB, pAnB):\n",
        "  pA_B = round(pAnB / pB, 2)\n",
        "  pB_A = round(pAnB / pA, 2)\n",
        "  print('P(A):', round(pA,2))\n",
        "  print('P(B):', round(pB,2))\n",
        "  print('P(A|B):', pA_B)\n",
        "  print('P(B|A):', pB_A)\n",
        "  return pA_B, pB_A"
      ],
      "execution_count": 4,
      "outputs": []
    },
    {
      "cell_type": "markdown",
      "metadata": {
        "id": "85ctYhdR0sRT"
      },
      "source": [
        "# Resultado al lanzar un dado"
      ]
    },
    {
      "cell_type": "markdown",
      "metadata": {
        "id": "wla2xnNiKl1O"
      },
      "source": [
        "## Espacio de probabilidad"
      ]
    },
    {
      "cell_type": "code",
      "metadata": {
        "id": "VRyTUQkSmv33"
      },
      "source": [
        "W = np.array([1, 2, 3, 4, 5, 6])   #omega\n",
        "P = np.array([1/6, 1/6, 1/6, 1/6, 1/6, 1/6])"
      ],
      "execution_count": 5,
      "outputs": []
    },
    {
      "cell_type": "code",
      "metadata": {
        "id": "lWJOpHYdjLQX",
        "colab": {
          "base_uri": "https://localhost:8080/",
          "height": 428
        },
        "outputId": "b099b9ab-ce79-4be5-a3f8-610a4f4df9c4"
      },
      "source": [
        "np.random.seed(15)\n",
        "burbujas_espacio_probabilidad(W, P)"
      ],
      "execution_count": 6,
      "outputs": [
        {
          "output_type": "display_data",
          "data": {
            "text/plain": [
              "<Figure size 640x480 with 1 Axes>"
            ],
            "image/png": "[encoded data removed]"
          },
          "metadata": {}
        }
      ]
    },
    {
      "cell_type": "code",
      "source": [
        "sns.barplot(x= W, y = P)\n",
        "plt.show()"
      ],
      "metadata": {
        "colab": {
          "base_uri": "https://localhost:8080/",
          "height": 430
        },
        "id": "yyTX3M1Hc-0t",
        "outputId": "c02d1509-c2d1-41a8-8ee3-5f7f17a3aa1c"
      },
      "execution_count": 7,
      "outputs": [
        {
          "output_type": "display_data",
          "data": {
            "text/plain": [
              "<Figure size 640x480 with 1 Axes>"
            ],
            "image/png": "[encoded data removed]"
          },
          "metadata": {}
        }
      ]
    },
    {
      "cell_type": "markdown",
      "metadata": {
        "id": "JwxK_o9kmvt1"
      },
      "source": [
        "## Esperanza matemática y varianza de la distribución de probabilidad (Ley de probabilidad)"
      ]
    },
    {
      "cell_type": "code",
      "metadata": {
        "id": "TKcaRt7KlokG",
        "colab": {
          "base_uri": "https://localhost:8080/"
        },
        "outputId": "6ef0eecf-a1f2-4424-95b2-37366456a1a2"
      },
      "source": [
        "esperanza = 0\n",
        "for elemento, probabilidad in zip(W, P):\n",
        "  esperanza += elemento * probabilidad\n",
        "print('la esperanza matemática de lanzar un dado es:', esperanza)"
      ],
      "execution_count": 8,
      "outputs": [
        {
          "output_type": "stream",
          "name": "stdout",
          "text": [
            "la esperanza matemática de lanzar un dado es: 3.5\n"
          ]
        }
      ]
    },
    {
      "cell_type": "code",
      "metadata": {
        "id": "NZm8T7exLp8J",
        "colab": {
          "base_uri": "https://localhost:8080/"
        },
        "outputId": "aa683260-261e-4c29-8604-ed7063396609"
      },
      "source": [
        "varianza = 0\n",
        "for elemento, probabilidad in zip(W, P):\n",
        "  varianza += ((elemento-esperanza)**2)*probabilidad\n",
        "varianza"
      ],
      "execution_count": 9,
      "outputs": [
        {
          "output_type": "execute_result",
          "data": {
            "text/plain": [
              "2.9166666666666665"
            ]
          },
          "metadata": {},
          "execution_count": 9
        }
      ]
    },
    {
      "cell_type": "markdown",
      "metadata": {
        "id": "y1GcmPp9nmiU"
      },
      "source": [
        "## Esperanza matemática y varianza de la distribución empírica\n",
        "\n",
        "Tirar n número de veces el dado y obtener la media y la varianza"
      ]
    },
    {
      "cell_type": "code",
      "metadata": {
        "id": "C6J1k7ZunmqQ",
        "colab": {
          "base_uri": "https://localhost:8080/",
          "height": 504
        },
        "outputId": "5c60794d-7e4a-40c3-f42a-1014aea11e91"
      },
      "source": [
        "n=100\n",
        "\n",
        "dado1 = []\n",
        "for i in range(n):\n",
        "  tiro_d1 = np.random.choice(W)\n",
        "  dado1.append(tiro_d1)\n",
        "\n",
        "media =sum(dado1)/n\n",
        "varianza = sum([(x-media)**2 for x in dado1])/n\n",
        "\n",
        "print('media: {}\\nvarianza: {}\\n\\n'.format(media, varianza))\n",
        "\n",
        "sns.histplot( x = np.array(dado1), discrete=True, stat = 'probability')\n",
        "plt.show()"
      ],
      "execution_count": 10,
      "outputs": [
        {
          "output_type": "stream",
          "name": "stdout",
          "text": [
            "media: 3.46\n",
            "varianza: 2.9084000000000003\n",
            "\n",
            "\n"
          ]
        },
        {
          "output_type": "display_data",
          "data": {
            "text/plain": [
              "<Figure size 640x480 with 1 Axes>"
            ],
            "image/png": "[encoded data removed]"
          },
          "metadata": {}
        }
      ]
    },
    {
      "cell_type": "markdown",
      "metadata": {
        "id": "LaFaZjvrr7cY"
      },
      "source": [
        "### Ejercicio 1\n",
        "\n",
        "a) Calcular la esperanza matemática y la varianza de un jugador al tirar un dado, de acuerdo a la siguiente regla:\n",
        " - gana \\$5 dolares si  tirar obtiene un 1, 2 o 3\n",
        " - gana \\$10 dólares si  tirar obtiene un 4 o 5\n",
        " - pierde \\$25 dólares si al tirar obtiene un 6\n",
        "\n",
        "b) Calcular la media y la varianza empirica al simular que un jugador juega 10, 100 y 1000 y 10000 mil veces.\n",
        "\n",
        "c) Explicar las diferencias entre la esperanza y varianza calculadas en el punto (a) y los cálculos de la media y varianza empirica del punto (b)\n",
        "\n"
      ]
    },
    {
      "cell_type": "markdown",
      "metadata": {
        "id": "cR9n5UVb0xVb"
      },
      "source": [
        "# Lanzar dos dados"
      ]
    },
    {
      "cell_type": "markdown",
      "metadata": {
        "id": "MNYmlxjmLaH0"
      },
      "source": [
        "## Ley de probabilidad de las combinaciones al tirar dos dados"
      ]
    },
    {
      "cell_type": "code",
      "metadata": {
        "id": "AMAUuKbAtRbp"
      },
      "source": [
        "dado = [1, 2, 3, 4, 5, 6]\n",
        "\n",
        "#obtener las 36 combinaciones\n",
        "combinaciones = list(itertools.product(dado, repeat=2))\n",
        "probabilidades = list(itertools.repeat(1/36,36))"
      ],
      "execution_count": null,
      "outputs": []
    },
    {
      "cell_type": "code",
      "metadata": {
        "id": "7NG0pF1oP0qg",
        "colab": {
          "base_uri": "https://localhost:8080/",
          "height": 268
        },
        "outputId": "95e55404-b8ae-42e7-d566-e7f3e89fbaf8"
      },
      "source": [
        "np.random.seed(22)\n",
        "burbujas_espacio_probabilidad(combinaciones, probabilidades)"
      ],
      "execution_count": null,
      "outputs": [
        {
          "output_type": "display_data",
          "data": {
            "image/png": "[encoded data removed]",
            "text/plain": [
              "<Figure size 432x288 with 1 Axes>"
            ]
          },
          "metadata": {}
        }
      ]
    },
    {
      "cell_type": "code",
      "source": [
        "grafica = sns.barplot(x= [str(i) for i in combinaciones], y = probabilidades )\n",
        "grafica.set_xticklabels(grafica.get_xticklabels(), rotation=90)\n",
        "plt.show()"
      ],
      "metadata": {
        "outputId": "1a43a51b-b1b5-48ae-dadd-5f0eebe1c31a",
        "colab": {
          "base_uri": "https://localhost:8080/",
          "height": 282
        },
        "id": "ZRXPlyOvlCvs"
      },
      "execution_count": null,
      "outputs": [
        {
          "output_type": "display_data",
          "data": {
            "image/png": "[encoded data removed]",
            "text/plain": [
              "<Figure size 432x288 with 1 Axes>"
            ]
          },
          "metadata": {
            "needs_background": "light"
          }
        }
      ]
    },
    {
      "cell_type": "markdown",
      "metadata": {
        "id": "t3YDARmyUCGJ"
      },
      "source": [
        "## Ley de probabilidad de la suma de dos dados"
      ]
    },
    {
      "cell_type": "code",
      "metadata": {
        "id": "DlCNatAtNV6g"
      },
      "source": [
        "dos_dados = pd.DataFrame(combinaciones)\n",
        "dos_dados.columns = ['dado1', 'dado2']\n",
        "dos_dados['suma'] = dos_dados['dado1'] + dos_dados['dado2']\n",
        "dos_dados['probabilidad']= probabilidades"
      ],
      "execution_count": null,
      "outputs": []
    },
    {
      "cell_type": "code",
      "metadata": {
        "id": "13gvV2uw5nHd",
        "colab": {
          "base_uri": "https://localhost:8080/",
          "height": 394
        },
        "outputId": "2490de45-0331-4498-c6a0-6e3f32bc5a01"
      },
      "source": [
        "Ley_P_suma = pd.DataFrame(dos_dados['suma'].value_counts(sort=False,\n",
        "                                                         normalize=True))\n",
        "\n",
        "Ley_P_suma.reset_index(inplace=True)\n",
        "Ley_P_suma.columns=['elementos', 'probabilidad']\n",
        "\n",
        "Ley_P_suma"
      ],
      "execution_count": null,
      "outputs": [
        {
          "output_type": "execute_result",
          "data": {
            "text/html": [
              "\n",
              "  <div id=\"df-8adefad2-b522-4e11-b881-27dfe7327872\">\n",
              "    <div class=\"colab-df-container\">\n",
              "      <div>\n",
              "<style scoped>\n",
              "    .dataframe tbody tr th:only-of-type {\n",
              "        vertical-align: middle;\n",
              "    }\n",
              "\n",
              "    .dataframe tbody tr th {\n",
              "        vertical-align: top;\n",
              "    }\n",
              "\n",
              "    .dataframe thead th {\n",
              "        text-align: right;\n",
              "    }\n",
              "</style>\n",
              "<table border=\"1\" class=\"dataframe\">\n",
              "  <thead>\n",
              "    <tr style=\"text-align: right;\">\n",
              "      <th></th>\n",
              "      <th>elementos</th>\n",
              "      <th>probabilidad</th>\n",
              "    </tr>\n",
              "  </thead>\n",
              "  <tbody>\n",
              "    <tr>\n",
              "      <th>0</th>\n",
              "      <td>2</td>\n",
              "      <td>0.027778</td>\n",
              "    </tr>\n",
              "    <tr>\n",
              "      <th>1</th>\n",
              "      <td>3</td>\n",
              "      <td>0.055556</td>\n",
              "    </tr>\n",
              "    <tr>\n",
              "      <th>2</th>\n",
              "      <td>4</td>\n",
              "      <td>0.083333</td>\n",
              "    </tr>\n",
              "    <tr>\n",
              "      <th>3</th>\n",
              "      <td>5</td>\n",
              "      <td>0.111111</td>\n",
              "    </tr>\n",
              "    <tr>\n",
              "      <th>4</th>\n",
              "      <td>6</td>\n",
              "      <td>0.138889</td>\n",
              "    </tr>\n",
              "    <tr>\n",
              "      <th>5</th>\n",
              "      <td>7</td>\n",
              "      <td>0.166667</td>\n",
              "    </tr>\n",
              "    <tr>\n",
              "      <th>6</th>\n",
              "      <td>8</td>\n",
              "      <td>0.138889</td>\n",
              "    </tr>\n",
              "    <tr>\n",
              "      <th>7</th>\n",
              "      <td>9</td>\n",
              "      <td>0.111111</td>\n",
              "    </tr>\n",
              "    <tr>\n",
              "      <th>8</th>\n",
              "      <td>10</td>\n",
              "      <td>0.083333</td>\n",
              "    </tr>\n",
              "    <tr>\n",
              "      <th>9</th>\n",
              "      <td>11</td>\n",
              "      <td>0.055556</td>\n",
              "    </tr>\n",
              "    <tr>\n",
              "      <th>10</th>\n",
              "      <td>12</td>\n",
              "      <td>0.027778</td>\n",
              "    </tr>\n",
              "  </tbody>\n",
              "</table>\n",
              "</div>\n",
              "      <button class=\"colab-df-convert\" onclick=\"convertToInteractive('df-8adefad2-b522-4e11-b881-27dfe7327872')\"\n",
              "              title=\"Convert this dataframe to an interactive table.\"\n",
              "              style=\"display:none;\">\n",
              "        \n",
              "  <svg xmlns=\"http://www.w3.org/2000/svg\" height=\"24px\"viewBox=\"0 0 24 24\"\n",
              "       width=\"24px\">\n",
              "    <path d=\"M0 0h24v24H0V0z\" fill=\"none\"/>\n",
              "    <path d=\"M18.56 5.44l.94 2.06.94-2.06 2.06-.94-2.06-.94-.94-2.06-.94 2.06-2.06.94zm-11 1L8.5 8.5l.94-2.06 2.06-.94-2.06-.94L8.5 2.5l-.94 2.06-2.06.94zm10 10l.94 2.06.94-2.06 2.06-.94-2.06-.94-.94-2.06-.94 2.06-2.06.94z\"/><path d=\"M17.41 7.96l-1.37-1.37c-.4-.4-.92-.59-1.43-.59-.52 0-1.04.2-1.43.59L10.3 9.45l-7.72 7.72c-.78.78-.78 2.05 0 2.83L4 21.41c.39.39.9.59 1.41.59.51 0 1.02-.2 1.41-.59l7.78-7.78 2.81-2.81c.8-.78.8-2.07 0-2.86zM5.41 20L4 18.59l7.72-7.72 1.47 1.35L5.41 20z\"/>\n",
              "  </svg>\n",
              "      </button>\n",
              "      \n",
              "  <style>\n",
              "    .colab-df-container {\n",
              "      display:flex;\n",
              "      flex-wrap:wrap;\n",
              "      gap: 12px;\n",
              "    }\n",
              "\n",
              "    .colab-df-convert {\n",
              "      background-color: #E8F0FE;\n",
              "      border: none;\n",
              "      border-radius: 50%;\n",
              "      cursor: pointer;\n",
              "      display: none;\n",
              "      fill: #1967D2;\n",
              "      height: 32px;\n",
              "      padding: 0 0 0 0;\n",
              "      width: 32px;\n",
              "    }\n",
              "\n",
              "    .colab-df-convert:hover {\n",
              "      background-color: #E2EBFA;\n",
              "      box-shadow: 0px 1px 2px rgba(60, 64, 67, 0.3), 0px 1px 3px 1px rgba(60, 64, 67, 0.15);\n",
              "      fill: #174EA6;\n",
              "    }\n",
              "\n",
              "    [theme=dark] .colab-df-convert {\n",
              "      background-color: #3B4455;\n",
              "      fill: #D2E3FC;\n",
              "    }\n",
              "\n",
              "    [theme=dark] .colab-df-convert:hover {\n",
              "      background-color: #434B5C;\n",
              "      box-shadow: 0px 1px 3px 1px rgba(0, 0, 0, 0.15);\n",
              "      filter: drop-shadow(0px 1px 2px rgba(0, 0, 0, 0.3));\n",
              "      fill: #FFFFFF;\n",
              "    }\n",
              "  </style>\n",
              "\n",
              "      <script>\n",
              "        const buttonEl =\n",
              "          document.querySelector('#df-8adefad2-b522-4e11-b881-27dfe7327872 button.colab-df-convert');\n",
              "        buttonEl.style.display =\n",
              "          google.colab.kernel.accessAllowed ? 'block' : 'none';\n",
              "\n",
              "        async function convertToInteractive(key) {\n",
              "          const element = document.querySelector('#df-8adefad2-b522-4e11-b881-27dfe7327872');\n",
              "          const dataTable =\n",
              "            await google.colab.kernel.invokeFunction('convertToInteractive',\n",
              "                                                     [key], {});\n",
              "          if (!dataTable) return;\n",
              "\n",
              "          const docLinkHtml = 'Like what you see? Visit the ' +\n",
              "            '<a target=\"_blank\" href=https://colab.research.google.com/notebooks/data_table.ipynb>data table notebook</a>'\n",
              "            + ' to learn more about interactive tables.';\n",
              "          element.innerHTML = '';\n",
              "          dataTable['output_type'] = 'display_data';\n",
              "          await google.colab.output.renderOutput(dataTable, element);\n",
              "          const docLink = document.createElement('div');\n",
              "          docLink.innerHTML = docLinkHtml;\n",
              "          element.appendChild(docLink);\n",
              "        }\n",
              "      </script>\n",
              "    </div>\n",
              "  </div>\n",
              "  "
            ],
            "text/plain": [
              "    elementos  probabilidad\n",
              "0           2      0.027778\n",
              "1           3      0.055556\n",
              "2           4      0.083333\n",
              "3           5      0.111111\n",
              "4           6      0.138889\n",
              "5           7      0.166667\n",
              "6           8      0.138889\n",
              "7           9      0.111111\n",
              "8          10      0.083333\n",
              "9          11      0.055556\n",
              "10         12      0.027778"
            ]
          },
          "metadata": {},
          "execution_count": 111
        }
      ]
    },
    {
      "cell_type": "code",
      "metadata": {
        "id": "t7r82pcN5nHf",
        "colab": {
          "base_uri": "https://localhost:8080/",
          "height": 268
        },
        "outputId": "a9a5fc5b-57be-4cf8-a807-95758505f879"
      },
      "source": [
        "np.random.seed(10)\n",
        "burbujas_espacio_probabilidad(Ley_P_suma['elementos'],\n",
        "                              Ley_P_suma['probabilidad'])"
      ],
      "execution_count": null,
      "outputs": [
        {
          "output_type": "display_data",
          "data": {
            "image/png": "[encoded data removed]",
            "text/plain": [
              "<Figure size 432x288 with 1 Axes>"
            ]
          },
          "metadata": {}
        }
      ]
    },
    {
      "cell_type": "code",
      "metadata": {
        "id": "Wp2V8p5T7IIX",
        "colab": {
          "base_uri": "https://localhost:8080/",
          "height": 334
        },
        "outputId": "5e1b544b-b74a-492f-b510-906af4202621"
      },
      "source": [
        "sns.barplot(Ley_P_suma['elementos'], Ley_P_suma['probabilidad'] )\n",
        "plt.show()"
      ],
      "execution_count": null,
      "outputs": [
        {
          "output_type": "stream",
          "name": "stderr",
          "text": [
            "/usr/local/lib/python3.7/dist-packages/seaborn/_decorators.py:43: FutureWarning: Pass the following variables as keyword args: x, y. From version 0.12, the only valid positional argument will be `data`, and passing other arguments without an explicit keyword will result in an error or misinterpretation.\n",
            "  FutureWarning\n"
          ]
        },
        {
          "output_type": "display_data",
          "data": {
            "image/png": "[encoded data removed]",
            "text/plain": [
              "<Figure size 432x288 with 1 Axes>"
            ]
          },
          "metadata": {
            "needs_background": "light"
          }
        }
      ]
    },
    {
      "cell_type": "markdown",
      "metadata": {
        "id": "G1FAN1MpZBfg"
      },
      "source": [
        "## ¿Eventos dependientes o independientes?"
      ]
    },
    {
      "cell_type": "markdown",
      "metadata": {
        "id": "-R0kHqIAZa_j"
      },
      "source": [
        "1. - A : obtener 1 en el primer lanzamiento,\n",
        "   - B : obtener 2 en el segundo\n",
        "2. - A : obtener 1 en primer lanzamiento\n",
        "   - B : que la suma sea mayor a 6\n",
        "3. - A : obtener un número primo repetido\n",
        "   - B : obtener un número par repetido\n",
        "\n"
      ]
    },
    {
      "cell_type": "markdown",
      "metadata": {
        "id": "6aIN4kVRupfa"
      },
      "source": [
        "- **Ejemplo 1**\n",
        "\n",
        "  - A : obtener 1 en el primer lanzamiento,\n",
        "  - B : obtener 2 en el segundo"
      ]
    },
    {
      "cell_type": "code",
      "metadata": {
        "id": "wOSXfXkNcYdI"
      },
      "source": [
        "A = dos_dados['dado1'] == 1\n",
        "B = dos_dados['dado2'] == 2\n",
        "\n",
        "p_A = dos_dados[A]['probabilidad'].sum()\n",
        "p_B = dos_dados[B]['probabilidad'].sum()\n",
        "p_AnB = dos_dados[A & B]['probabilidad'].sum()"
      ],
      "execution_count": null,
      "outputs": []
    },
    {
      "cell_type": "code",
      "metadata": {
        "id": "mknZb-MTu1Jx",
        "colab": {
          "base_uri": "https://localhost:8080/"
        },
        "outputId": "b54ca23d-2719-4e06-8f96-02ec83d56dec"
      },
      "source": [
        "prueba_independencia(p_A, p_B, p_AnB)"
      ],
      "execution_count": null,
      "outputs": [
        {
          "output_type": "execute_result",
          "data": {
            "text/plain": [
              "True"
            ]
          },
          "metadata": {},
          "execution_count": 115
        }
      ]
    },
    {
      "cell_type": "code",
      "metadata": {
        "id": "ZmWHPZUwqiTB",
        "colab": {
          "base_uri": "https://localhost:8080/"
        },
        "outputId": "ba9d8ed3-90aa-4a58-9970-d168fe444ef7"
      },
      "source": [
        "pA_B, pB_A = probabilidad_condicional(p_A, p_B, p_AnB)"
      ],
      "execution_count": null,
      "outputs": [
        {
          "output_type": "stream",
          "name": "stdout",
          "text": [
            "P(A): 0.17\n",
            "P(B): 0.17\n",
            "P(A|B): 0.17\n",
            "P(B|A): 0.17\n"
          ]
        }
      ]
    },
    {
      "cell_type": "markdown",
      "metadata": {
        "id": "KJKF-1WSyVIf"
      },
      "source": [
        "- **Ejemplo 2**\n",
        "  - A : obtener 1 en primer lanzamiento\n",
        "  - B : que la suma sea mayor a 6"
      ]
    },
    {
      "cell_type": "code",
      "metadata": {
        "id": "myVYtKchYpyz"
      },
      "source": [
        "A = dos_dados['dado1'] == 1\n",
        "B = dos_dados['suma'] > 6\n",
        "\n",
        "p_A = dos_dados[A]['probabilidad'].sum()\n",
        "p_B = dos_dados[B]['probabilidad'].sum()\n",
        "p_AnB = dos_dados[A & B]['probabilidad'].sum()"
      ],
      "execution_count": null,
      "outputs": []
    },
    {
      "cell_type": "code",
      "metadata": {
        "id": "yOC0ZemEyyt2",
        "colab": {
          "base_uri": "https://localhost:8080/"
        },
        "outputId": "babad63d-2dac-45c2-c19d-ee93bc65f95b"
      },
      "source": [
        "prueba_independencia(p_A, p_B, p_AnB)"
      ],
      "execution_count": null,
      "outputs": [
        {
          "output_type": "execute_result",
          "data": {
            "text/plain": [
              "False"
            ]
          },
          "metadata": {},
          "execution_count": 118
        }
      ]
    },
    {
      "cell_type": "code",
      "metadata": {
        "id": "cbtlh5J5scab",
        "colab": {
          "base_uri": "https://localhost:8080/"
        },
        "outputId": "1d724bf9-3332-4bea-ba89-949768a9da2e"
      },
      "source": [
        "pA_B, pB_A = probabilidad_condicional(p_A, p_B, p_AnB)\n"
      ],
      "execution_count": null,
      "outputs": [
        {
          "output_type": "stream",
          "name": "stdout",
          "text": [
            "P(A): 0.17\n",
            "P(B): 0.58\n",
            "P(A|B): 0.05\n",
            "P(B|A): 0.17\n"
          ]
        }
      ]
    },
    {
      "cell_type": "markdown",
      "metadata": {
        "id": "xTo3WCcHzsVF"
      },
      "source": [
        "- **Ejemplo 3**\n",
        "  - A : obtener un número primo repetido\n",
        "  - B : obtener un número par repetido"
      ]
    },
    {
      "cell_type": "code",
      "metadata": {
        "id": "msyRJTNRmzrh"
      },
      "source": [
        "primos = (2, 3, 5)\n",
        "A = ((dos_dados['dado1'] == 2)|\n",
        "     (dos_dados['dado1'] == 3)|\n",
        "     (dos_dados['dado1'] == 5)) & (dos_dados['dado1']==dos_dados['dado2'])\n",
        "B = ((dos_dados['dado1'] == 2)|\n",
        "     (dos_dados['dado1'] == 4)|\n",
        "     (dos_dados['dado1'] == 6)) & (dos_dados['dado1']==dos_dados['dado2'])\n",
        "\n",
        "p_A = dos_dados[A]['probabilidad'].sum()\n",
        "p_B = dos_dados[B]['probabilidad'].sum()\n",
        "p_AnB = dos_dados[A & B]['probabilidad'].sum()"
      ],
      "execution_count": null,
      "outputs": []
    },
    {
      "cell_type": "markdown",
      "metadata": {
        "id": "IWtsta0S0CaQ"
      },
      "source": []
    },
    {
      "cell_type": "code",
      "metadata": {
        "id": "IqjaMfvgzN6H",
        "colab": {
          "base_uri": "https://localhost:8080/"
        },
        "outputId": "bad924b4-2c5c-4029-ae16-50f47e14284e"
      },
      "source": [
        "prueba_independencia(p_A, p_B, p_AnB)"
      ],
      "execution_count": null,
      "outputs": [
        {
          "output_type": "execute_result",
          "data": {
            "text/plain": [
              "False"
            ]
          },
          "metadata": {},
          "execution_count": 121
        }
      ]
    },
    {
      "cell_type": "code",
      "metadata": {
        "id": "lwmQxD51zTaj",
        "colab": {
          "base_uri": "https://localhost:8080/"
        },
        "outputId": "705962cd-f42e-4a39-ffcb-136951ead34e"
      },
      "source": [
        "pA_B, pB_A = probabilidad_condicional(p_A, p_B, p_AnB)"
      ],
      "execution_count": null,
      "outputs": [
        {
          "output_type": "stream",
          "name": "stdout",
          "text": [
            "P(A): 0.08\n",
            "P(B): 0.08\n",
            "P(A|B): 0.33\n",
            "P(B|A): 0.33\n"
          ]
        }
      ]
    },
    {
      "cell_type": "markdown",
      "metadata": {
        "id": "Xhb5Hy1gsFQR"
      },
      "source": [
        "## Esperanza matemática y varianza de la variable aleatoria: Suma al lanzar dos dados\n",
        "\n",
        "\n"
      ]
    },
    {
      "cell_type": "code",
      "metadata": {
        "id": "7gCSx-X4LDOG",
        "colab": {
          "base_uri": "https://localhost:8080/",
          "height": 394
        },
        "outputId": "0da8e655-89ce-45ea-a1b3-2f8c0f4be2b8"
      },
      "source": [
        "Ley_P_suma\n"
      ],
      "execution_count": null,
      "outputs": [
        {
          "output_type": "execute_result",
          "data": {
            "text/html": [
              "\n",
              "  <div id=\"df-fa8d2568-df38-495d-b5a4-3ae30ed720e4\">\n",
              "    <div class=\"colab-df-container\">\n",
              "      <div>\n",
              "<style scoped>\n",
              "    .dataframe tbody tr th:only-of-type {\n",
              "        vertical-align: middle;\n",
              "    }\n",
              "\n",
              "    .dataframe tbody tr th {\n",
              "        vertical-align: top;\n",
              "    }\n",
              "\n",
              "    .dataframe thead th {\n",
              "        text-align: right;\n",
              "    }\n",
              "</style>\n",
              "<table border=\"1\" class=\"dataframe\">\n",
              "  <thead>\n",
              "    <tr style=\"text-align: right;\">\n",
              "      <th></th>\n",
              "      <th>elementos</th>\n",
              "      <th>probabilidad</th>\n",
              "    </tr>\n",
              "  </thead>\n",
              "  <tbody>\n",
              "    <tr>\n",
              "      <th>0</th>\n",
              "      <td>2</td>\n",
              "      <td>0.027778</td>\n",
              "    </tr>\n",
              "    <tr>\n",
              "      <th>1</th>\n",
              "      <td>3</td>\n",
              "      <td>0.055556</td>\n",
              "    </tr>\n",
              "    <tr>\n",
              "      <th>2</th>\n",
              "      <td>4</td>\n",
              "      <td>0.083333</td>\n",
              "    </tr>\n",
              "    <tr>\n",
              "      <th>3</th>\n",
              "      <td>5</td>\n",
              "      <td>0.111111</td>\n",
              "    </tr>\n",
              "    <tr>\n",
              "      <th>4</th>\n",
              "      <td>6</td>\n",
              "      <td>0.138889</td>\n",
              "    </tr>\n",
              "    <tr>\n",
              "      <th>5</th>\n",
              "      <td>7</td>\n",
              "      <td>0.166667</td>\n",
              "    </tr>\n",
              "    <tr>\n",
              "      <th>6</th>\n",
              "      <td>8</td>\n",
              "      <td>0.138889</td>\n",
              "    </tr>\n",
              "    <tr>\n",
              "      <th>7</th>\n",
              "      <td>9</td>\n",
              "      <td>0.111111</td>\n",
              "    </tr>\n",
              "    <tr>\n",
              "      <th>8</th>\n",
              "      <td>10</td>\n",
              "      <td>0.083333</td>\n",
              "    </tr>\n",
              "    <tr>\n",
              "      <th>9</th>\n",
              "      <td>11</td>\n",
              "      <td>0.055556</td>\n",
              "    </tr>\n",
              "    <tr>\n",
              "      <th>10</th>\n",
              "      <td>12</td>\n",
              "      <td>0.027778</td>\n",
              "    </tr>\n",
              "  </tbody>\n",
              "</table>\n",
              "</div>\n",
              "      <button class=\"colab-df-convert\" onclick=\"convertToInteractive('df-fa8d2568-df38-495d-b5a4-3ae30ed720e4')\"\n",
              "              title=\"Convert this dataframe to an interactive table.\"\n",
              "              style=\"display:none;\">\n",
              "        \n",
              "  <svg xmlns=\"http://www.w3.org/2000/svg\" height=\"24px\"viewBox=\"0 0 24 24\"\n",
              "       width=\"24px\">\n",
              "    <path d=\"M0 0h24v24H0V0z\" fill=\"none\"/>\n",
              "    <path d=\"M18.56 5.44l.94 2.06.94-2.06 2.06-.94-2.06-.94-.94-2.06-.94 2.06-2.06.94zm-11 1L8.5 8.5l.94-2.06 2.06-.94-2.06-.94L8.5 2.5l-.94 2.06-2.06.94zm10 10l.94 2.06.94-2.06 2.06-.94-2.06-.94-.94-2.06-.94 2.06-2.06.94z\"/><path d=\"M17.41 7.96l-1.37-1.37c-.4-.4-.92-.59-1.43-.59-.52 0-1.04.2-1.43.59L10.3 9.45l-7.72 7.72c-.78.78-.78 2.05 0 2.83L4 21.41c.39.39.9.59 1.41.59.51 0 1.02-.2 1.41-.59l7.78-7.78 2.81-2.81c.8-.78.8-2.07 0-2.86zM5.41 20L4 18.59l7.72-7.72 1.47 1.35L5.41 20z\"/>\n",
              "  </svg>\n",
              "      </button>\n",
              "      \n",
              "  <style>\n",
              "    .colab-df-container {\n",
              "      display:flex;\n",
              "      flex-wrap:wrap;\n",
              "      gap: 12px;\n",
              "    }\n",
              "\n",
              "    .colab-df-convert {\n",
              "      background-color: #E8F0FE;\n",
              "      border: none;\n",
              "      border-radius: 50%;\n",
              "      cursor: pointer;\n",
              "      display: none;\n",
              "      fill: #1967D2;\n",
              "      height: 32px;\n",
              "      padding: 0 0 0 0;\n",
              "      width: 32px;\n",
              "    }\n",
              "\n",
              "    .colab-df-convert:hover {\n",
              "      background-color: #E2EBFA;\n",
              "      box-shadow: 0px 1px 2px rgba(60, 64, 67, 0.3), 0px 1px 3px 1px rgba(60, 64, 67, 0.15);\n",
              "      fill: #174EA6;\n",
              "    }\n",
              "\n",
              "    [theme=dark] .colab-df-convert {\n",
              "      background-color: #3B4455;\n",
              "      fill: #D2E3FC;\n",
              "    }\n",
              "\n",
              "    [theme=dark] .colab-df-convert:hover {\n",
              "      background-color: #434B5C;\n",
              "      box-shadow: 0px 1px 3px 1px rgba(0, 0, 0, 0.15);\n",
              "      filter: drop-shadow(0px 1px 2px rgba(0, 0, 0, 0.3));\n",
              "      fill: #FFFFFF;\n",
              "    }\n",
              "  </style>\n",
              "\n",
              "      <script>\n",
              "        const buttonEl =\n",
              "          document.querySelector('#df-fa8d2568-df38-495d-b5a4-3ae30ed720e4 button.colab-df-convert');\n",
              "        buttonEl.style.display =\n",
              "          google.colab.kernel.accessAllowed ? 'block' : 'none';\n",
              "\n",
              "        async function convertToInteractive(key) {\n",
              "          const element = document.querySelector('#df-fa8d2568-df38-495d-b5a4-3ae30ed720e4');\n",
              "          const dataTable =\n",
              "            await google.colab.kernel.invokeFunction('convertToInteractive',\n",
              "                                                     [key], {});\n",
              "          if (!dataTable) return;\n",
              "\n",
              "          const docLinkHtml = 'Like what you see? Visit the ' +\n",
              "            '<a target=\"_blank\" href=https://colab.research.google.com/notebooks/data_table.ipynb>data table notebook</a>'\n",
              "            + ' to learn more about interactive tables.';\n",
              "          element.innerHTML = '';\n",
              "          dataTable['output_type'] = 'display_data';\n",
              "          await google.colab.output.renderOutput(dataTable, element);\n",
              "          const docLink = document.createElement('div');\n",
              "          docLink.innerHTML = docLinkHtml;\n",
              "          element.appendChild(docLink);\n",
              "        }\n",
              "      </script>\n",
              "    </div>\n",
              "  </div>\n",
              "  "
            ],
            "text/plain": [
              "    elementos  probabilidad\n",
              "0           2      0.027778\n",
              "1           3      0.055556\n",
              "2           4      0.083333\n",
              "3           5      0.111111\n",
              "4           6      0.138889\n",
              "5           7      0.166667\n",
              "6           8      0.138889\n",
              "7           9      0.111111\n",
              "8          10      0.083333\n",
              "9          11      0.055556\n",
              "10         12      0.027778"
            ]
          },
          "metadata": {},
          "execution_count": 123
        }
      ]
    },
    {
      "cell_type": "code",
      "metadata": {
        "id": "NX_PviQXZ-bi",
        "colab": {
          "base_uri": "https://localhost:8080/"
        },
        "outputId": "4079d483-6515-416e-c985-02a8aa2ba067"
      },
      "source": [
        "\n",
        "esperanza = (Ley_P_suma['elementos'] * Ley_P_suma['probabilidad']).sum()\n",
        "round(esperanza,2)\n"
      ],
      "execution_count": null,
      "outputs": [
        {
          "output_type": "execute_result",
          "data": {
            "text/plain": [
              "7.0"
            ]
          },
          "metadata": {},
          "execution_count": 124
        }
      ]
    },
    {
      "cell_type": "code",
      "metadata": {
        "id": "mq6a6HISfNKK",
        "colab": {
          "base_uri": "https://localhost:8080/"
        },
        "outputId": "f784ac16-52d8-4f2d-f25b-4e4b2dcd306f"
      },
      "source": [
        "varianza = (((Ley_P_suma['elementos']-esperanza)**2)*Ley_P_suma['probabilidad']).sum()\n",
        "round(varianza,2)"
      ],
      "execution_count": null,
      "outputs": [
        {
          "output_type": "execute_result",
          "data": {
            "text/plain": [
              "5.83"
            ]
          },
          "metadata": {},
          "execution_count": 125
        }
      ]
    },
    {
      "cell_type": "markdown",
      "metadata": {
        "id": "a1D9mtQgk0pv"
      },
      "source": [
        "## Media muestral"
      ]
    },
    {
      "cell_type": "code",
      "metadata": {
        "id": "kVzmQyvfAKFJ",
        "colab": {
          "base_uri": "https://localhost:8080/",
          "height": 334
        },
        "outputId": "a874fe91-cfba-45f0-b33f-29801d3365ec"
      },
      "source": [
        "n =1000\n",
        "X = [1,2,3,4,5,6]\n",
        "\n",
        "dado1 = []\n",
        "dado2 = []\n",
        "suma = []    #variable aleatoria ¿distribución?\n",
        "\n",
        "for _ in range (n):\n",
        "  tiro_d1 = np.random.choice(X)\n",
        "  tiro_d2 = np.random.choice(X)\n",
        "\n",
        "  dado1.append(tiro_d1)\n",
        "  dado2.append(tiro_d2)\n",
        "  suma.append(tiro_d1 + tiro_d2)\n",
        "\n",
        "media =sum(suma)/n\n",
        "varianza = sum([(x-media)**2 for x in suma])/n\n",
        "\n",
        "print('media: {:.2f}\\nvarianza: {:.2f}\\n\\n'.format(media, varianza))\n",
        "\n",
        "sns.histplot( x = suma, discrete=True, stat = 'probability')\n",
        "plt.show()\n"
      ],
      "execution_count": null,
      "outputs": [
        {
          "output_type": "stream",
          "name": "stdout",
          "text": [
            "media: 6.88\n",
            "varianza: 5.81\n",
            "\n",
            "\n"
          ]
        },
        {
          "output_type": "display_data",
          "data": {
            "image/png": "[encoded data removed]",
            "text/plain": [
              "<Figure size 432x288 with 1 Axes>"
            ]
          },
          "metadata": {
            "needs_background": "light"
          }
        }
      ]
    }
  ]
}