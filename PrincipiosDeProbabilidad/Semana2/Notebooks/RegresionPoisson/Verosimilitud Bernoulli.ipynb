{
  "nbformat": 4,
  "nbformat_minor": 0,
  "metadata": {
    "colab": {
      "name": "Verosimilitud.pynb",
      "provenance": [],
      "toc_visible": true,
      "include_colab_link": true
    },
    "kernelspec": {
      "name": "python3",
      "display_name": "Python 3"
    },
    "language_info": {
      "name": "python"
    }
  },
  "cells": [
    {
      "cell_type": "markdown",
      "metadata": {
        "id": "view-in-github",
        "colab_type": "text"
      },
      "source": [
        "<a href=\"https://colab.research.google.com/github/AnIsAsPe/Estadistica_y_Probabilidad_para-CD-/blob/main/PrincipiosDeProbabilidad/Semana2/Notebooks/Verosimilitud%20Bernoulli.ipynb\" target=\"_parent\"><img src=\"https://colab.research.google.com/assets/colab-badge.svg\" alt=\"Open In Colab\"/></a>"
      ]
    },
    {
      "cell_type": "markdown",
      "source": [
        "La estimación de máxima verosimilitud (MLE por sus siglas en inglés) es un método para encontrar los parametros de una distribución de probabilidad de manera que se maximise la probabilidad de obtener los datos observados."
      ],
      "metadata": {
        "id": "J0bnDPLAefi_"
      }
    },
    {
      "cell_type": "code",
      "metadata": {
        "id": "11LmuROzUBX8"
      },
      "source": [
        "import numpy as np\n",
        "from numpy import exp\n",
        "\n",
        "import matplotlib.pyplot as plt"
      ],
      "execution_count": 1,
      "outputs": []
    },
    {
      "cell_type": "markdown",
      "metadata": {
        "id": "ThQjfBnKptRq"
      },
      "source": [
        "considere la siguiente muestra de observaciones independientes e idénticamente distribuidas"
      ]
    },
    {
      "cell_type": "code",
      "metadata": {
        "colab": {
          "base_uri": "https://localhost:8080/"
        },
        "id": "JtAJUizI3fUv",
        "outputId": "4bbd4d44-deca-4cd7-cfac-5745e7fa7c70"
      },
      "source": [
        "# Bernoulli n = 1\n",
        "n, p = 1, 0.5\n",
        "size = 20\n",
        "\n",
        "np.random.seed(7)\n",
        "s = np.random.binomial(n, p, size)  #muestra de tamaño size con la preferencia de el candidato con .3\n",
        "s"
      ],
      "execution_count": 18,
      "outputs": [
        {
          "output_type": "execute_result",
          "data": {
            "text/plain": [
              "array([0, 1, 0, 1, 1, 1, 1, 0, 0, 0, 1, 1, 0, 0, 0, 1, 0, 0, 1, 0])"
            ]
          },
          "metadata": {},
          "execution_count": 18
        }
      ]
    },
    {
      "cell_type": "markdown",
      "source": [
        "# Función de probabilidad\n",
        "$$P(x)=p^{x}(1-p)^{1-x}$$  $$ x = 0,1$$\n",
        "\n",
        "\n"
      ],
      "metadata": {
        "id": "Z6E0MQjj3iXW"
      }
    },
    {
      "cell_type": "markdown",
      "source": [
        "# Función de verosimilitud\n",
        "\n",
        "$$l(p)=P(x_1,...x_n;p)=p^{\\sum_i^n{x_i}}(1-p)^{n-{\\sum_i^n{x_i}}}$$\n",
        "\n",
        "\n",
        "<h2> Estimación de Máxima Verosimilitud <h2>\n",
        "\n",
        "\n",
        "Consiste en buscar el valor de $p$ (entre todos los posibles) que haga más verosímil (más probable) los lanzamientos obtenidos, calculando la verosimilitud de dada la muestra obtenida"
      ],
      "metadata": {
        "id": "g6pZ7zMU5wWl"
      }
    },
    {
      "cell_type": "code",
      "metadata": {
        "id": "jEjOQdestZfj"
      },
      "source": [
        "def verosimilitud_bernulli(muestra, p):\n",
        "  exitos = muestra.sum()\n",
        "  fracasos = len(muestra)- exitos\n",
        "\n",
        "  Ps_p = pow(1-p, fracasos)* pow(p, exitos)\n",
        "  return Ps_p"
      ],
      "execution_count": 20,
      "outputs": []
    },
    {
      "cell_type": "code",
      "metadata": {
        "colab": {
          "base_uri": "https://localhost:8080/"
        },
        "id": "-gENNf7svDEL",
        "outputId": "48a637d1-1e38-489c-ec40-10a76cb83612"
      },
      "source": [
        "p = 0.3\n",
        "verosimilitud_bernulli(s, p)"
      ],
      "execution_count": 22,
      "outputs": [
        {
          "output_type": "execute_result",
          "data": {
            "text/plain": [
              "3.8919722282468965e-07"
            ]
          },
          "metadata": {},
          "execution_count": 22
        }
      ]
    },
    {
      "cell_type": "code",
      "metadata": {
        "colab": {
          "base_uri": "https://localhost:8080/"
        },
        "id": "cHFPtxHUvPJv",
        "outputId": "14c22f02-1f4b-4f3f-9c51-4b2e0333dd79"
      },
      "source": [
        "p = 0.4\n",
        "verosimilitud_bernulli(s, p)"
      ],
      "execution_count": 24,
      "outputs": [
        {
          "output_type": "execute_result",
          "data": {
            "text/plain": [
              "9.510507144806401e-07"
            ]
          },
          "metadata": {},
          "execution_count": 24
        }
      ]
    },
    {
      "cell_type": "code",
      "metadata": {
        "colab": {
          "base_uri": "https://localhost:8080/"
        },
        "outputId": "7e3bfdc5-4baf-4a22-e735-1b83107dceaa",
        "id": "YhBhxx9Bypwv"
      },
      "source": [
        "p = 0.5\n",
        "verosimilitud_bernulli(s, p)"
      ],
      "execution_count": 25,
      "outputs": [
        {
          "output_type": "execute_result",
          "data": {
            "text/plain": [
              "9.5367431640625e-07"
            ]
          },
          "metadata": {},
          "execution_count": 25
        }
      ]
    },
    {
      "cell_type": "code",
      "source": [
        "p = 0.45\n",
        "verosimilitud_bernulli(s, p)"
      ],
      "metadata": {
        "id": "4bdC0Pwxy06p",
        "outputId": "56c1b183-bdf6-4f48-a75e-8d4393d5aad3",
        "colab": {
          "base_uri": "https://localhost:8080/"
        }
      },
      "execution_count": 26,
      "outputs": [
        {
          "output_type": "execute_result",
          "data": {
            "text/plain": [
              "1.0541495031883303e-06"
            ]
          },
          "metadata": {},
          "execution_count": 26
        }
      ]
    },
    {
      "cell_type": "markdown",
      "source": [
        "# Referencia:\n",
        "\n",
        "[1] «1.5 - Maximum Likelihood Estimation | STAT 504», PennState: Statistics Online Courses. https://online.stat.psu.edu/stat504/lesson/1/1.5 (accedido 5 de agosto de 2022).\n"
      ],
      "metadata": {
        "id": "TxbyerGS69L-"
      }
    }
  ]
}
