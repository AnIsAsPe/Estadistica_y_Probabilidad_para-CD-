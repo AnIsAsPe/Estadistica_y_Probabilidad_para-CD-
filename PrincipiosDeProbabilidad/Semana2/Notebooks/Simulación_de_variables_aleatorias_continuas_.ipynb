{
  "nbformat": 4,
  "nbformat_minor": 0,
  "metadata": {
    "colab": {
      "name": "Simulación de variables aleatorias continuas.ipynb",
      "provenance": [],
      "toc_visible": true,
      "authorship_tag": "ABX9TyNw7qJDw8DeRWWy2BbYHNuO",
      "include_colab_link": true
    },
    "kernelspec": {
      "name": "python3",
      "display_name": "Python 3"
    },
    "language_info": {
      "name": "python"
    }
  },
  "cells": [
    {
      "cell_type": "markdown",
      "metadata": {
        "id": "view-in-github",
        "colab_type": "text"
      },
      "source": [
        "<a href=\"https://colab.research.google.com/github/AnIsAsPe/Estadistica_y_Probabilidad_para-CD-/blob/main/PrincipiosDeProbabilidad/Semana2/Notebooks/Simulaci%C3%B3n_de_variables_aleatorias_continuas_.ipynb\" target=\"_parent\"><img src=\"https://colab.research.google.com/assets/colab-badge.svg\" alt=\"Open In Colab\"/></a>"
      ]
    },
    {
      "cell_type": "code",
      "metadata": {
        "id": "11LmuROzUBX8"
      },
      "source": [
        "import numpy as np\n",
        "from scipy.stats import kurtosis, skew  # curtosis y asimetría\n",
        "from scipy.stats import levy_stable , norm, cauchy, levy\n",
        "import matplotlib.pyplot as plt\n",
        "import seaborn as sns"
      ],
      "execution_count": 1,
      "outputs": []
    },
    {
      "cell_type": "markdown",
      "metadata": {
        "id": "YVlwfp9Jg1jJ"
      },
      "source": [
        "# Simulación uniforme"
      ]
    },
    {
      "cell_type": "code",
      "metadata": {
        "colab": {
          "base_uri": "https://localhost:8080/",
          "height": 265
        },
        "id": "AxI05wkOg1jQ",
        "outputId": "1114f29b-11a0-419d-fa87-742f67506bc6"
      },
      "source": [
        "# generación de una muestra aleatoria con distribución de la place\n",
        "a, b = 0., 1.\n",
        "n = 10000\n",
        "s = np.random.uniform(a, b, n)\n",
        "plt.hist(s, bins=30)\n",
        "\n",
        "plt.show()"
      ],
      "execution_count": 20,
      "outputs": [
        {
          "output_type": "display_data",
          "data": {
            "text/plain": [
              "<Figure size 432x288 with 1 Axes>"
            ],
            "image/png": "[encoded data removed]"
          },
          "metadata": {
            "needs_background": "light"
          }
        }
      ]
    },
    {
      "cell_type": "markdown",
      "source": [
        "Curtosis de una distribución uniforme = -1.2  \n",
        "(La distribucion normal tiene 0 de kurtosis)"
      ],
      "metadata": {
        "id": "fBJI9uqUEc4i"
      }
    },
    {
      "cell_type": "code",
      "metadata": {
        "colab": {
          "base_uri": "https://localhost:8080/"
        },
        "id": "IL7CosPjg1jQ",
        "outputId": "70458c8a-cdc0-4fef-c9b4-dd6a0b35426a"
      },
      "source": [
        "kurtosis(s)   "
      ],
      "execution_count": 4,
      "outputs": [
        {
          "output_type": "execute_result",
          "data": {
            "text/plain": [
              "-1.191414137606744"
            ]
          },
          "metadata": {},
          "execution_count": 4
        }
      ]
    },
    {
      "cell_type": "markdown",
      "source": [
        "Asimetría de una distribución uniforme = 0"
      ],
      "metadata": {
        "id": "S4y66t_XFRGi"
      }
    },
    {
      "cell_type": "code",
      "source": [
        "skew(s)"
      ],
      "metadata": {
        "id": "lhtCV65xE-a8",
        "outputId": "5f2808f7-51a7-471c-dbba-84dbfcd7e5d4",
        "colab": {
          "base_uri": "https://localhost:8080/"
        }
      },
      "execution_count": 5,
      "outputs": [
        {
          "output_type": "execute_result",
          "data": {
            "text/plain": [
              "-0.008390026478003739"
            ]
          },
          "metadata": {},
          "execution_count": 5
        }
      ]
    },
    {
      "cell_type": "markdown",
      "metadata": {
        "id": "tPHxKBatg1jQ"
      },
      "source": [
        "## Distribución de probabilidad uniforme\n",
        "\n",
        "$p(x)= \\frac{1}{b-a}$"
      ]
    },
    {
      "cell_type": "code",
      "metadata": {
        "colab": {
          "base_uri": "https://localhost:8080/",
          "height": 265
        },
        "id": "S7MtqyuAjnXm",
        "outputId": "49f3058b-7cc8-48bb-a519-6b8ffa9c540b"
      },
      "source": [
        "plt.hist( s, bins=30, density=True)   # distribución de la muestra\n",
        "plt.hlines(1/(b-a), xmin=a, xmax=b, color='orange')    # distribución teórica\n",
        "plt.show()"
      ],
      "execution_count": 10,
      "outputs": [
        {
          "output_type": "display_data",
          "data": {
            "text/plain": [
              "<Figure size 432x288 with 1 Axes>"
            ],
            "image/png": "[encoded data removed]"
          },
          "metadata": {
            "needs_background": "light"
          }
        }
      ]
    },
    {
      "cell_type": "markdown",
      "metadata": {
        "id": "u6iYpdxCajT4"
      },
      "source": [
        "# Simulación gaussiana"
      ]
    },
    {
      "cell_type": "code",
      "metadata": {
        "colab": {
          "base_uri": "https://localhost:8080/",
          "height": 265
        },
        "id": "T8j6kaMZajUC",
        "outputId": "efffa927-cd28-4577-8132-0e528ede672f"
      },
      "source": [
        "# generación de una muestra aleatoria con distribución normal\n",
        "mu, sigma = 0., 1.\n",
        "s = np.random.normal(mu, sigma, 1000000)\n",
        "plt.hist( s, bins=100)\n",
        "plt.show()"
      ],
      "execution_count": 21,
      "outputs": [
        {
          "output_type": "display_data",
          "data": {
            "text/plain": [
              "<Figure size 432x288 with 1 Axes>"
            ],
            "image/png": "[encoded data removed]"
          },
          "metadata": {
            "needs_background": "light"
          }
        }
      ]
    },
    {
      "cell_type": "code",
      "metadata": {
        "colab": {
          "base_uri": "https://localhost:8080/"
        },
        "id": "gE6qqSh3fS32",
        "outputId": "09ce22ae-754b-49b0-9271-34570e509db6"
      },
      "source": [
        "# Curtosis de la distribución normal = 0\n",
        "kurtosis(s), skew(s)"
      ],
      "execution_count": null,
      "outputs": [
        {
          "output_type": "execute_result",
          "data": {
            "text/plain": [
              "(-0.0038048622734967452, 0.00010068062175325571)"
            ]
          },
          "metadata": {},
          "execution_count": 7
        }
      ]
    },
    {
      "cell_type": "markdown",
      "metadata": {
        "id": "tMKjegqdajUC"
      },
      "source": [
        "## Distribución de probabilidad gaussiana\n",
        "\n",
        "Probability density function (pdf)\n",
        "\n",
        "$f(x)= \\frac{1}{\\sqrt{2\\pi\\sigma^2}}e^{-\\frac{(x-\\mu)^2}{2\\sigma^2}} $"
      ]
    },
    {
      "cell_type": "code",
      "metadata": {
        "colab": {
          "base_uri": "https://localhost:8080/",
          "height": 265
        },
        "id": "bFn6YfpUajUC",
        "outputId": "a8ad8810-5173-4c77-9922-8a1fb26a8df1"
      },
      "source": [
        "x = np.arange(-3., 3., .01)\n",
        "pdf = 1/(sigma * np.sqrt(2 * np.pi)) *np.exp( - (x - mu)**2 / (2 * sigma**2) )  # función de la distribución de probabilidad de gauss\n",
        "\n",
        "plt.hist( s, bins=100, density=True)\n",
        "plt.plot(x, pdf)\n",
        "plt.show()"
      ],
      "execution_count": 24,
      "outputs": [
        {
          "output_type": "display_data",
          "data": {
            "text/plain": [
              "<Figure size 432x288 with 1 Axes>"
            ],
            "image/png": "[encoded data removed]"
          },
          "metadata": {
            "needs_background": "light"
          }
        }
      ]
    },
    {
      "cell_type": "markdown",
      "metadata": {
        "id": "NT-LD8UaaAAP"
      },
      "source": [
        "# Simulación Laplace"
      ]
    },
    {
      "cell_type": "code",
      "metadata": {
        "colab": {
          "base_uri": "https://localhost:8080/",
          "height": 302
        },
        "id": "BdfZ5k9YUK_W",
        "outputId": "96054653-0e04-49b4-d878-3b0edbac3de5"
      },
      "source": [
        "# generación de una muestra aleatoria con distribución de Laplace\n",
        "loc, scale = 0., 1\n",
        "s = np.random.laplace(loc, scale, 100000)\n",
        "plt.hist( s, bins=30,  density=True)\n",
        "plt.show()\n",
        "print('Curtosis: {},\\nAsimetría = {}'.format(kurtosis(s),skew(s)))"
      ],
      "execution_count": 26,
      "outputs": [
        {
          "output_type": "display_data",
          "data": {
            "text/plain": [
              "<Figure size 432x288 with 1 Axes>"
            ],
            "image/png": "[encoded data removed]"
          },
          "metadata": {
            "needs_background": "light"
          }
        },
        {
          "output_type": "stream",
          "name": "stdout",
          "text": [
            "Curtosis: 3.1634106075504773,\n",
            "Asimetría = -0.032959903709527866\n"
          ]
        }
      ]
    },
    {
      "cell_type": "markdown",
      "source": [
        "La curtosis de la distribución laplace es 3, y la asimetría 0"
      ],
      "metadata": {
        "id": "I8uxTigUGDHa"
      }
    },
    {
      "cell_type": "markdown",
      "metadata": {
        "id": "Ax8vnTwbWRhd"
      },
      "source": [
        "## Distribución de probabilidad de Laplace\n",
        "\n",
        "$f(x;\\mu,\\lambda)= \\frac{1}{2\\lambda}\\exp({-\\frac{\\lvert{x-\\mu}\\rvert}{\\lambda}}) $"
      ]
    },
    {
      "cell_type": "code",
      "metadata": {
        "colab": {
          "base_uri": "https://localhost:8080/",
          "height": 265
        },
        "id": "4HOr-GGJVQqP",
        "outputId": "47ee2d2c-eded-4920-a0fd-d2482a03e19e"
      },
      "source": [
        "x = np.arange(-8., 8., .01)\n",
        "pdf = np.exp(-abs(x-loc)/scale)/(2.*scale)  # función de la distribución de probabilidad de laplace\n",
        "\n",
        "plt.hist( s, bins=30, density=True)\n",
        "plt.plot(x, pdf)\n",
        "plt.show()"
      ],
      "execution_count": 27,
      "outputs": [
        {
          "output_type": "display_data",
          "data": {
            "text/plain": [
              "<Figure size 432x288 with 1 Axes>"
            ],
            "image/png": "[encoded data removed]"
          },
          "metadata": {
            "needs_background": "light"
          }
        }
      ]
    },
    {
      "cell_type": "markdown",
      "source": [
        "# Simulación de variables estables \n",
        "Las distribuciones estables son una importante familia de distribuciónes en teoría de probabilidad.\n",
        "[referencia](http://www.randomservices.org/random/special/Stable.html)\n",
        "\n",
        "Las distribuciones estables tienen 4 parametros:\n",
        "\n",
        "* ***Estabilidad*** ($\\alpha$)  con rango (0,2] mide la frecuencia de los valores extremos\n",
        "* ***Sesgo/Asimetría*** ($\\beta$) con rango [-1,1] Si $\\beta < 0$, la distribución está sesgada a la izquierda , si  $\\beta > 0$, la distribución esta sesgada a la derecha\n",
        "* ***Dispersión/Escalada*** ($\\sigma$)\n",
        "* ***Localización*** ($\\mu$)\n",
        "\n",
        "La distribución normal es un caso especial de las distribuciones estables en que $\\alpha=2$, $\\beta=NA$, $\\sigma=\\frac{\\sigma_{normal}}{\\sqrt{2}}$, $\\mu=0$.\n",
        "La distribución normal, por otro lado es la única distribución con varianza finita dentro de las distribuciones estables.\n",
        "\n",
        "Es importante observar que los últimos dos parámetros $\\sigma$ and $\\mu$, porque no corresponden inmediatamente a lo que comunmente conocemos como media y varianza.  Por ejemplo, para el caso especial de la distribución normal $~~2 \\sigma^{2}_{stable} = \\sigma^{2}_{normal}$.\n",
        "\n",
        "\n",
        "\n",
        "\n",
        "\n"
      ],
      "metadata": {
        "id": "gAKPjNnfXt4K"
      }
    },
    {
      "cell_type": "markdown",
      "source": [
        "## Caso especial: Distribución Normal"
      ],
      "metadata": {
        "id": "0szTp0hYyWDU"
      }
    },
    {
      "cell_type": "code",
      "source": [
        "𝛼 = 2\n",
        "𝛽 = 0\n",
        "𝜎_normal = 1.0\n",
        "𝜇 = 0\n",
        "\n",
        "mean, var, sk, kurt = levy_stable.stats(alpha = 𝛼, \n",
        "                                          beta = 𝛽,\n",
        "                                          loc = 𝜇,\n",
        "                                          scale = 𝜎_normal/np.sqrt(2),\n",
        "                                          moments='mvsk')\n",
        "print(mean, var, sk, kurt)"
      ],
      "metadata": {
        "outputId": "b45e4dfc-b522-4a65-aafd-03a7395405fd",
        "colab": {
          "base_uri": "https://localhost:8080/"
        },
        "id": "YIUUNFsdXt4L"
      },
      "execution_count": 29,
      "outputs": [
        {
          "output_type": "stream",
          "name": "stdout",
          "text": [
            "0.0 0.9999999999999998 0.0 0.0\n"
          ]
        }
      ]
    },
    {
      "cell_type": "markdown",
      "source": [
        "Cambia el valor de $\\beta$ en el rango permitido y oberva que no tiene ningún efecto en la linea anterior"
      ],
      "metadata": {
        "id": "_VM0dUHCwJRr"
      }
    },
    {
      "cell_type": "code",
      "source": [
        "# Generamos una variable aleatoria gausiana como caso especial de \n",
        "# la distribución estable  \n",
        "\n",
        "n = 10000\n",
        "𝜇 = 0\n",
        "𝛼 =2\n",
        "𝛽 = 0\n",
        "𝜎_normal = 1.0\n",
        "\n",
        "gaussian_special_case_rvs = levy_stable.rvs(alpha=2, \n",
        "                                            beta=0, \n",
        "                                            loc=mu, \n",
        "                                            scale=𝜎_normal/np.sqrt(2), \n",
        "                                            size=n)\n",
        "\n",
        "gaussian_mean = np.mean(gaussian_special_case_rvs)\n",
        "gaussian_std = np.std(gaussian_special_case_rvs)\n",
        "gaussian_kurt = kurtosis(gaussian_special_case_rvs)\n",
        "gaussian_skew = skew(gaussian_special_case_rvs)\n",
        "print(\"media de la muestra generada:\", gaussian_mean)\n",
        "print(\"stdev de la muestra generada:\", gaussian_std)\n",
        "print(\"curtosis de la muestra generada:\", gaussian_kurt )\n",
        "print(\"asimetría de la muestra generada:\", gaussian_skew )\n",
        "\n",
        "# y la comparamos con la funcion de probabilidad de la distribución normal\n",
        "x_range = np.linspace(-4,4,1000)    #random.normal.rvs(loc=test_mean, scale=test_std)\n",
        "\n",
        "plt.hist(gaussian_special_case_rvs, bins=21, density=True, alpha=.2)\n",
        "plt.plot(x_range, norm.pdf(x_range, loc=gaussian_mean, scale=gaussian_std),\n",
        "         color='r' )\n",
        "plt.show()\n"
      ],
      "metadata": {
        "id": "bFJFtQVZm8bx",
        "outputId": "55c8fe6a-e159-41a2-952f-212dbe0e246f",
        "colab": {
          "base_uri": "https://localhost:8080/",
          "height": 334
        }
      },
      "execution_count": null,
      "outputs": [
        {
          "output_type": "stream",
          "name": "stdout",
          "text": [
            "media de la muestra generada: -0.0009953755693393235\n",
            "stdev de la muestra generada: 0.9998246332512282\n",
            "curtosis de la muestra generada: -0.027968409356923463\n",
            "asimetría de la muestra generada: 0.010383773608285166\n"
          ]
        },
        {
          "output_type": "display_data",
          "data": {
            "text/plain": [
              "<Figure size 432x288 with 1 Axes>"
            ],
            "image/png": "[encoded data removed]"
          },
          "metadata": {
            "needs_background": "light"
          }
        }
      ]
    },
    {
      "cell_type": "markdown",
      "source": [
        "## Caso especial: Distribución Cauchy\n",
        "\n",
        "$\\alpha=1$,\n",
        "$\\beta=0$, \n",
        "$\\sigma$, \n",
        "$\\mu$"
      ],
      "metadata": {
        "id": "5pBW3S1kyiC4"
      }
    },
    {
      "cell_type": "code",
      "source": [
        "𝛼 =1\n",
        "𝛽 = 0\n",
        "𝜎 = 1.0\n",
        "𝜇 = 0\n",
        "\n",
        "mean, var, sk, kurt = levy_stable.stats(alpha = 𝛼, \n",
        "                                          beta = 𝛽,\n",
        "                                          loc = 𝜇,\n",
        "                                          scale = 𝜎/2,\n",
        "                                          moments='mvsk')\n",
        "print(mean, var, sk, kurt)"
      ],
      "metadata": {
        "outputId": "84a37ba4-5fbd-4066-d02d-2f518a669851",
        "colab": {
          "base_uri": "https://localhost:8080/"
        },
        "id": "9UULaYsfyiC4"
      },
      "execution_count": 31,
      "outputs": [
        {
          "output_type": "stream",
          "name": "stdout",
          "text": [
            "nan inf nan nan\n"
          ]
        }
      ]
    },
    {
      "cell_type": "markdown",
      "source": [
        "Cambia el valor de $\\beta$ en el rango permitido y oberva que no tiene ningún efecto en la linea anterior"
      ],
      "metadata": {
        "id": "kwDZ1f98yiC5"
      }
    },
    {
      "cell_type": "code",
      "source": [
        "# Generamos una variable aleatoria cauchy como caso especial de \n",
        "# la distribución estable  \n",
        "\n",
        "n = 10000\n",
        "𝛼 =1\n",
        "𝛽 = 1\n",
        "𝜎 = 1.0\n",
        "𝜇 = 3\n",
        "\n",
        "cauchy_special_case_rvs = levy_stable.rvs(alpha=1, \n",
        "                                            beta=0, \n",
        "                                            loc=𝜇, \n",
        "                                            scale=𝜎/2, \n",
        "                                            size=n)\n",
        "\n",
        "cauchy_mean = np.mean(cauchy_special_case_rvs)\n",
        "cauchy_std = np.std(cauchy_special_case_rvs)\n",
        "cauchy_kurt = kurtosis(cauchy_special_case_rvs)\n",
        "cauchy_skew = skew(cauchy_special_case_rvs)\n",
        "print(\"media de la muestra generada:\", cauchy_mean)\n",
        "print(\"stdev de la muestra generada:\", cauchy_std)\n",
        "print(\"curtosis de la muestra generada:\", cauchy_kurt )\n",
        "print(\"asimetría de la muestra generada:\", cauchy_skew )\n",
        "\n",
        "trimval = 15\n",
        "trimndx =  abs(cauchy_special_case_rvs) < trimval\n",
        "x_range = np.linspace(-trimval,trimval,1000)  \n",
        "print(\"observaciones < trimval = {} : {:.2f}% \".format(trimval, \n",
        "                                                  sum(trimndx)/len(trimndx)*100))\n",
        "plot_rvs = cauchy_special_case_rvs[trimndx]  \n",
        "\n",
        "plt.hist(plot_rvs, bins=50, density=True, alpha=.5)\n",
        "plt.plot(x_range, cauchy.pdf(x_range, loc=𝜇, scale=𝜎/2),\n",
        "         color='r' )\n",
        "plt.show()"
      ],
      "metadata": {
        "outputId": "08879561-2af5-4995-cbf0-83e98b2eaa0d",
        "colab": {
          "base_uri": "https://localhost:8080/",
          "height": 357
        },
        "id": "I8QhPa0ryiC5"
      },
      "execution_count": 33,
      "outputs": [
        {
          "output_type": "stream",
          "name": "stdout",
          "text": [
            "media de la muestra generada: 2.8753707742661208\n",
            "stdev de la muestra generada: 23.84309486134928\n",
            "curtosis de la muestra generada: 1276.0932540769086\n",
            "asimetría de la muestra generada: -6.6491915251369385\n",
            "observaciones < trimval = 15 : 97.75% \n"
          ]
        },
        {
          "output_type": "display_data",
          "data": {
            "text/plain": [
              "<Figure size 432x288 with 1 Axes>"
            ],
            "image/png": "[encoded data removed]"
          },
          "metadata": {
            "needs_background": "light"
          }
        }
      ]
    },
    {
      "cell_type": "markdown",
      "source": [
        "## Caso especial: Distribución Levy\n",
        "\n",
        "$\\alpha=0.5$,\n",
        "$\\beta=1$, \n",
        "$\\sigma$, \n",
        "$\\mu$"
      ],
      "metadata": {
        "id": "DQh2udMU-dPT"
      }
    },
    {
      "cell_type": "code",
      "source": [
        "𝛼 =0.5\n",
        "𝛽 = 1\n",
        "𝜎 = 1.0\n",
        "𝜇 = 0\n",
        "\n",
        "mean, var, sk, kurt = levy_stable.stats(alpha = 𝛼, \n",
        "                                          beta = 𝛽,\n",
        "                                          loc = 𝜇,\n",
        "                                          scale = 𝜎/2,\n",
        "                                          moments='mvsk')\n",
        "print(mean, var, sk, kurt)"
      ],
      "metadata": {
        "outputId": "6047a19e-d1c9-4ddc-fa30-d7db9b22590e",
        "colab": {
          "base_uri": "https://localhost:8080/"
        },
        "id": "v4uwVIhX-dPZ"
      },
      "execution_count": null,
      "outputs": [
        {
          "output_type": "stream",
          "name": "stdout",
          "text": [
            "nan inf nan nan\n"
          ]
        }
      ]
    },
    {
      "cell_type": "markdown",
      "source": [
        "Cambia el valor de $\\mu$ y $\\sigma$ y oberva que no tiene ningún efecto en la linea anterior"
      ],
      "metadata": {
        "id": "EzOrMY35-dPZ"
      }
    },
    {
      "cell_type": "code",
      "source": [
        "# Generamos una variable aleatoria levy como caso especial de \n",
        "# la distribución estable  \n",
        "\n",
        "𝛼 =0.5\n",
        "𝛽 = 1\n",
        "𝜎 = 1.0\n",
        "𝜇 = 0\n",
        "\n",
        "levy_special_case_rvs = levy_stable.rvs(alpha=𝛼, \n",
        "                                            beta=𝛽, \n",
        "                                            loc=𝜇, \n",
        "                                            scale=𝜎/2, \n",
        "                                            size=n)\n",
        "\n",
        "levy_mean = np.mean(levy_special_case_rvs)\n",
        "levy_std = np.std(levy_special_case_rvs)\n",
        "levy_kurt = kurtosis(levy_special_case_rvs)\n",
        "levy_skew = skew(levy_special_case_rvs)\n",
        "print(\"media de la muestra generada:\", levy_mean)\n",
        "print(\"stdev de la muestra generada:\", levy_std)\n",
        "print(\"curtosis de la muestra generada:\", levy_kurt )\n",
        "print(\"asimetría de la muestra generada:\", levy_skew )\n",
        "\n",
        "trimval = 15\n",
        "trimndx =  abs(levy_special_case_rvs) < trimval\n",
        "x_range = np.linspace(0,trimval,1000)  \n",
        "print(\"observaciones < trimval = {} : {:.2f}% \".format(trimval, \n",
        "                                                  sum(trimndx)/len(trimndx)*100))\n",
        "plot_rvs = levy_special_case_rvs[trimndx]  \n",
        "\n",
        "plt.hist(plot_rvs, bins=50, density=True, alpha=.5)\n",
        "plt.plot(x_range, levy.pdf(x_range, loc=𝜇, scale=𝜎/2),\n",
        "         color='r' )\n",
        "plt.show()"
      ],
      "metadata": {
        "outputId": "bcdfbe67-037c-4b3a-9b7a-4ee74689e1e5",
        "colab": {
          "base_uri": "https://localhost:8080/",
          "height": 352
        },
        "id": "qYq_FYVx-dPZ"
      },
      "execution_count": null,
      "outputs": [
        {
          "output_type": "stream",
          "name": "stdout",
          "text": [
            "media de la muestra generada: 5312.7519767480735\n",
            "stdev de la muestra generada: 329151.1635028521\n",
            "curtosis de la muestra generada: 8492.848422624345\n",
            "asimetría de la muestra generada: 89.7052144409667\n",
            "observaciones < trimval = 15 : 85.92% \n"
          ]
        },
        {
          "output_type": "display_data",
          "data": {
            "text/plain": [
              "<Figure size 432x288 with 1 Axes>"
            ],
            "image/png": "[encoded data removed]"
          },
          "metadata": {
            "needs_background": "light"
          }
        }
      ]
    }
  ]
}