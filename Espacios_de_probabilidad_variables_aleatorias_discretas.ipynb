{
  "nbformat": 4,
  "nbformat_minor": 0,
  "metadata": {
    "colab": {
      "name": "Espacios de probabilidad variables aleatorias discretas.ipynb",
      "provenance": [],
      "collapsed_sections": [],
      "toc_visible": true,
      "authorship_tag": "ABX9TyOsFBcIm0GlqxU00dRtaAVJ",
      "include_colab_link": true
    },
    "kernelspec": {
      "name": "python3",
      "display_name": "Python 3"
    }
  },
  "cells": [
    {
      "cell_type": "markdown",
      "metadata": {
        "id": "view-in-github",
        "colab_type": "text"
      },
      "source": [
        "<a href=\"https://colab.research.google.com/github/AnIsAsPe/Estadistica_y_Probabilidad_para-CD-/blob/main/Espacios_de_probabilidad_variables_aleatorias_discretas.ipynb\" target=\"_parent\"><img src=\"https://colab.research.google.com/assets/colab-badge.svg\" alt=\"Open In Colab\"/></a>"
      ]
    },
    {
      "cell_type": "markdown",
      "metadata": {
        "id": "K9j4q3wvLosv"
      },
      "source": [
        "#Librerías y funciones"
      ]
    },
    {
      "cell_type": "code",
      "metadata": {
        "id": "oh5cPc2yTllV"
      },
      "source": [
        "import numpy as np\n",
        "import itertools \n",
        "import pandas as pd\n",
        "import matplotlib.pyplot as plt\n",
        "import seaborn as sns\n",
        "import random\n",
        "\n",
        "%matplotlib inline"
      ],
      "execution_count": 6,
      "outputs": []
    },
    {
      "cell_type": "markdown",
      "metadata": {
        "id": "fniUex4Pi-XD"
      },
      "source": [
        "####burbujas_espacio_probabilidad()\n",
        "\n"
      ]
    },
    {
      "cell_type": "code",
      "metadata": {
        "id": "au2VNNwVPKKC"
      },
      "source": [
        "def burbujas_espacio_probabilidad(elementos, probabilidad):\n",
        "  '''\n",
        "  Función que muestra grafico de burbuja de un espacio de probabilidad de una\n",
        "  variable aleatoria discreta\n",
        "\n",
        "  elementos: lista, vector o serie que contiene los posibles elementos\n",
        "  probabilidad: lista, vector o serie que contiene la probabilidad de cada \n",
        "                elemento\n",
        "  nombre_var: objeto de texto con el nombre de la variable aleatoria\n",
        "  '''\n",
        "\n",
        "  \n",
        "  n = len(elementos)\n",
        "  X = np.random.randint(1, 8000,n)\n",
        "  Y = np.random.randint(1, 8000,n)\n",
        "  P = np.array(probabilidad)\n",
        "  color = np.random.rand(n)\n",
        "  titulo = 'Espacio de probabilidad' \n",
        "  plt.scatter(x=X, y=Y, s=P*10000,\n",
        "              c = color, alpha=0.5)\n",
        "  margen =2500\n",
        "  plt.xlim(min(X)-margen, max(X)+margen)\n",
        "  plt.ylim(min(X)-margen,max(X)+margen)\n",
        "  plt.title(titulo)\n",
        "\n",
        "  #Mostrar valores de los elementos y sus probabilidades\n",
        "  for e, p, x, y in zip(elementos,P,X,Y):\n",
        "    plt.annotate(\"{}\".format(e), \n",
        "                 xy=(x, y), \n",
        "                 ha=\"center\", va=\"center\")\n",
        "    #plt.annotate(e ,xy=(x, y), xytext=(0,np.sqrt(p*10000)/2.+5), \n",
        "     #            textcoords=\"offset points\", ha=\"center\", va=\"bottom\")\n",
        "\n",
        "  #Eliminar texto y marcas de los ejes\n",
        "  ax = plt.gca( )\n",
        "  ax.axes.xaxis.set_ticks([])\n",
        "  ax.axes.yaxis.set_ticks([])\n",
        "  plt.show()"
      ],
      "execution_count": null,
      "outputs": []
    },
    {
      "cell_type": "markdown",
      "metadata": {
        "id": "f7MDGIw4uKKw"
      },
      "source": [
        "####prueba_independencia()"
      ]
    },
    {
      "cell_type": "code",
      "metadata": {
        "id": "MOhqmXknhMh2"
      },
      "source": [
        "def prueba_independencia(pA, pB, pAnB):\n",
        "  return round(pA*pB,2) == round(pAnB,2)\n"
      ],
      "execution_count": null,
      "outputs": []
    },
    {
      "cell_type": "markdown",
      "metadata": {
        "id": "6ml7n_r1uRfx"
      },
      "source": [
        "#### probabilidad_condicional()"
      ]
    },
    {
      "cell_type": "code",
      "metadata": {
        "id": "xO4auzjtpqyX"
      },
      "source": [
        "def probabilidad_condicional(pA, pB, pAnB):\n",
        "  pA_B = round(pAnB / pB, 2)\n",
        "  pB_A = round(pAnB / pA, 2)\n",
        "  print('P(A):', round(pA,2))\n",
        "  print('P(B):', round(pB,2))\n",
        "  print('P(A|B):', pA_B)\n",
        "  print('P(B|A):', pB_A)\n",
        "  return pA_B, pB_A"
      ],
      "execution_count": null,
      "outputs": []
    },
    {
      "cell_type": "code",
      "metadata": {
        "id": "CKshEUwY0uJe"
      },
      "source": [
        ""
      ],
      "execution_count": null,
      "outputs": []
    },
    {
      "cell_type": "markdown",
      "metadata": {
        "id": "85ctYhdR0sRT"
      },
      "source": [
        "# Resultado al lanzar un dado"
      ]
    },
    {
      "cell_type": "markdown",
      "metadata": {
        "id": "wla2xnNiKl1O"
      },
      "source": [
        "## Espacio de probabilidad"
      ]
    },
    {
      "cell_type": "code",
      "metadata": {
        "id": "VRyTUQkSmv33"
      },
      "source": [
        "W = [1, 2, 3, 4, 5, 6]   #omega\n",
        "P = [1/6, 1/6, 1/6, 1/6, 1/6, 1/6]        "
      ],
      "execution_count": null,
      "outputs": []
    },
    {
      "cell_type": "code",
      "metadata": {
        "id": "lWJOpHYdjLQX",
        "colab": {
          "base_uri": "https://localhost:8080/",
          "height": 268
        },
        "outputId": "369a6843-c687-4388-ac91-706799fe61b4"
      },
      "source": [
        "np.random.seed(15)\n",
        "burbujas_espacio_probabilidad(W, P)"
      ],
      "execution_count": null,
      "outputs": [
        {
          "output_type": "display_data",
          "data": {
            "image/png": "[encoded data removed]",
            "text/plain": [
              "<Figure size 432x288 with 1 Axes>"
            ]
          },
          "metadata": {
            "tags": []
          }
        }
      ]
    },
    {
      "cell_type": "code",
      "metadata": {
        "id": "iTrqYgXimGeO",
        "colab": {
          "base_uri": "https://localhost:8080/",
          "height": 265
        },
        "outputId": "b85e80aa-c11b-4085-ad1c-d106f6bca6c4"
      },
      "source": [
        "sns.countplot(x = W)\n",
        "plt.show()"
      ],
      "execution_count": null,
      "outputs": [
        {
          "output_type": "display_data",
          "data": {
            "image/png": "[encoded data removed]",
            "text/plain": [
              "<Figure size 432x288 with 1 Axes>"
            ]
          },
          "metadata": {
            "tags": [],
            "needs_background": "light"
          }
        }
      ]
    },
    {
      "cell_type": "markdown",
      "metadata": {
        "id": "cR9n5UVb0xVb"
      },
      "source": [
        "# Lanzar dos dados "
      ]
    },
    {
      "cell_type": "markdown",
      "metadata": {
        "id": "MNYmlxjmLaH0"
      },
      "source": [
        "## Ley de probabilidad de las combinaciones al tirar dos dados"
      ]
    },
    {
      "cell_type": "code",
      "metadata": {
        "id": "AMAUuKbAtRbp"
      },
      "source": [
        "dado = [1, 2, 3, 4, 5, 6] \n",
        "\n",
        "#obtener las 36 combinaciones\n",
        "combinaciones = list(itertools.product(dado, repeat=2))\n",
        "probabilidades = list(itertools.repeat(1/36,36))"
      ],
      "execution_count": null,
      "outputs": []
    },
    {
      "cell_type": "code",
      "metadata": {
        "id": "7NG0pF1oP0qg",
        "colab": {
          "base_uri": "https://localhost:8080/",
          "height": 268
        },
        "outputId": "bf96375c-3335-4d28-9f5a-bda8bc359d60"
      },
      "source": [
        "np.random.seed(22)\n",
        "burbujas_espacio_probabilidad(combinaciones, probabilidades)"
      ],
      "execution_count": null,
      "outputs": [
        {
          "output_type": "display_data",
          "data": {
            "image/png": "[encoded data removed]",
            "text/plain": [
              "<Figure size 432x288 with 1 Axes>"
            ]
          },
          "metadata": {
            "tags": []
          }
        }
      ]
    },
    {
      "cell_type": "code",
      "metadata": {
        "id": "WH1ejuLtvms0",
        "colab": {
          "base_uri": "https://localhost:8080/",
          "height": 336
        },
        "outputId": "0dfc3511-80b5-42d3-b625-2951fac44a33"
      },
      "source": [
        "grafica = sns.countplot([str(i) for i in combinaciones])\n",
        "grafica.set_xticklabels(grafica.get_xticklabels(), rotation=90)\n",
        "\n",
        "plt.show()"
      ],
      "execution_count": null,
      "outputs": [
        {
          "output_type": "stream",
          "text": [
            "/usr/local/lib/python3.6/dist-packages/seaborn/_decorators.py:43: FutureWarning: Pass the following variable as a keyword arg: x. From version 0.12, the only valid positional argument will be `data`, and passing other arguments without an explicit keyword will result in an error or misinterpretation.\n",
            "  FutureWarning\n"
          ],
          "name": "stderr"
        },
        {
          "output_type": "display_data",
          "data": {
            "image/png": "[encoded data removed]",
            "text/plain": [
              "<Figure size 432x288 with 1 Axes>"
            ]
          },
          "metadata": {
            "tags": [],
            "needs_background": "light"
          }
        }
      ]
    },
    {
      "cell_type": "markdown",
      "metadata": {
        "id": "t3YDARmyUCGJ"
      },
      "source": [
        "## Ley de probabilidad de la suma de dos dados"
      ]
    },
    {
      "cell_type": "code",
      "metadata": {
        "id": "DlCNatAtNV6g"
      },
      "source": [
        "dos_dados = pd.DataFrame(combinaciones)\n",
        "dos_dados.columns = ['dado1', 'dado2']\n",
        "dos_dados['suma'] = dos_dados['dado1'] + dos_dados['dado2']\n",
        "dos_dados['probabilidad']= probabilidades"
      ],
      "execution_count": null,
      "outputs": []
    },
    {
      "cell_type": "code",
      "metadata": {
        "id": "13gvV2uw5nHd",
        "colab": {
          "base_uri": "https://localhost:8080/",
          "height": 390
        },
        "outputId": "cc2f16a4-05eb-42c4-ab33-dcf6e8ee5f12"
      },
      "source": [
        "Ley_P_suma = pd.DataFrame(dos_dados['suma'].value_counts(sort=False, \n",
        "                                                         normalize=True))\n",
        "\n",
        "Ley_P_suma.reset_index(inplace=True)\n",
        "Ley_P_suma.columns=['elementos', 'probabilidad']\n",
        "\n",
        "Ley_P_suma"
      ],
      "execution_count": null,
      "outputs": [
        {
          "output_type": "execute_result",
          "data": {
            "text/html": [
              "<div>\n",
              "<style scoped>\n",
              "    .dataframe tbody tr th:only-of-type {\n",
              "        vertical-align: middle;\n",
              "    }\n",
              "\n",
              "    .dataframe tbody tr th {\n",
              "        vertical-align: top;\n",
              "    }\n",
              "\n",
              "    .dataframe thead th {\n",
              "        text-align: right;\n",
              "    }\n",
              "</style>\n",
              "<table border=\"1\" class=\"dataframe\">\n",
              "  <thead>\n",
              "    <tr style=\"text-align: right;\">\n",
              "      <th></th>\n",
              "      <th>elementos</th>\n",
              "      <th>probabilidad</th>\n",
              "    </tr>\n",
              "  </thead>\n",
              "  <tbody>\n",
              "    <tr>\n",
              "      <th>0</th>\n",
              "      <td>2</td>\n",
              "      <td>0.027778</td>\n",
              "    </tr>\n",
              "    <tr>\n",
              "      <th>1</th>\n",
              "      <td>3</td>\n",
              "      <td>0.055556</td>\n",
              "    </tr>\n",
              "    <tr>\n",
              "      <th>2</th>\n",
              "      <td>4</td>\n",
              "      <td>0.083333</td>\n",
              "    </tr>\n",
              "    <tr>\n",
              "      <th>3</th>\n",
              "      <td>5</td>\n",
              "      <td>0.111111</td>\n",
              "    </tr>\n",
              "    <tr>\n",
              "      <th>4</th>\n",
              "      <td>6</td>\n",
              "      <td>0.138889</td>\n",
              "    </tr>\n",
              "    <tr>\n",
              "      <th>5</th>\n",
              "      <td>7</td>\n",
              "      <td>0.166667</td>\n",
              "    </tr>\n",
              "    <tr>\n",
              "      <th>6</th>\n",
              "      <td>8</td>\n",
              "      <td>0.138889</td>\n",
              "    </tr>\n",
              "    <tr>\n",
              "      <th>7</th>\n",
              "      <td>9</td>\n",
              "      <td>0.111111</td>\n",
              "    </tr>\n",
              "    <tr>\n",
              "      <th>8</th>\n",
              "      <td>10</td>\n",
              "      <td>0.083333</td>\n",
              "    </tr>\n",
              "    <tr>\n",
              "      <th>9</th>\n",
              "      <td>11</td>\n",
              "      <td>0.055556</td>\n",
              "    </tr>\n",
              "    <tr>\n",
              "      <th>10</th>\n",
              "      <td>12</td>\n",
              "      <td>0.027778</td>\n",
              "    </tr>\n",
              "  </tbody>\n",
              "</table>\n",
              "</div>"
            ],
            "text/plain": [
              "    elementos  probabilidad\n",
              "0           2      0.027778\n",
              "1           3      0.055556\n",
              "2           4      0.083333\n",
              "3           5      0.111111\n",
              "4           6      0.138889\n",
              "5           7      0.166667\n",
              "6           8      0.138889\n",
              "7           9      0.111111\n",
              "8          10      0.083333\n",
              "9          11      0.055556\n",
              "10         12      0.027778"
            ]
          },
          "metadata": {
            "tags": []
          },
          "execution_count": 89
        }
      ]
    },
    {
      "cell_type": "code",
      "metadata": {
        "id": "t7r82pcN5nHf",
        "colab": {
          "base_uri": "https://localhost:8080/",
          "height": 268
        },
        "outputId": "4858e553-2efc-46f3-827a-b0c66eaead44"
      },
      "source": [
        "np.random.seed(10)   \n",
        "burbujas_espacio_probabilidad(Ley_P_suma['elementos'],\n",
        "                              Ley_P_suma['probabilidad'])"
      ],
      "execution_count": null,
      "outputs": [
        {
          "output_type": "display_data",
          "data": {
            "image/png": "[encoded data removed]",
            "text/plain": [
              "<Figure size 432x288 with 1 Axes>"
            ]
          },
          "metadata": {
            "tags": []
          }
        }
      ]
    },
    {
      "cell_type": "code",
      "metadata": {
        "id": "Wp2V8p5T7IIX",
        "colab": {
          "base_uri": "https://localhost:8080/",
          "height": 265
        },
        "outputId": "130ee709-17c6-49ab-b92c-4c5c02d706c8"
      },
      "source": [
        "plt.bar(Ley_P_suma['elementos'], Ley_P_suma['probabilidad'] )\n",
        "plt.show()"
      ],
      "execution_count": null,
      "outputs": [
        {
          "output_type": "display_data",
          "data": {
            "image/png": "[encoded data removed]",
            "text/plain": [
              "<Figure size 432x288 with 1 Axes>"
            ]
          },
          "metadata": {
            "tags": [],
            "needs_background": "light"
          }
        }
      ]
    },
    {
      "cell_type": "markdown",
      "metadata": {
        "id": "vM6KSyr20BqS"
      },
      "source": [
        "# Caracteres en el libro 100 años de soledad\n"
      ]
    },
    {
      "cell_type": "code",
      "metadata": {
        "id": "hnKktAPOmPJa",
        "colab": {
          "base_uri": "https://localhost:8080/",
          "height": 886
        },
        "outputId": "39a1a553-23ec-4731-eee1-369bc2e09b63"
      },
      "source": [
        "Ley_P_letras = pd.read_csv('https://raw.githubusercontent.com/AnIsAsPe/ElementosEstadisticaMachineLearningPython/master/Semana4/Ley_Probabilidad_caracteres_100a%C3%B1os.csv')\n",
        "Ley_P_letras"
      ],
      "execution_count": null,
      "outputs": [
        {
          "output_type": "execute_result",
          "data": {
            "text/html": [
              "<div>\n",
              "<style scoped>\n",
              "    .dataframe tbody tr th:only-of-type {\n",
              "        vertical-align: middle;\n",
              "    }\n",
              "\n",
              "    .dataframe tbody tr th {\n",
              "        vertical-align: top;\n",
              "    }\n",
              "\n",
              "    .dataframe thead th {\n",
              "        text-align: right;\n",
              "    }\n",
              "</style>\n",
              "<table border=\"1\" class=\"dataframe\">\n",
              "  <thead>\n",
              "    <tr style=\"text-align: right;\">\n",
              "      <th></th>\n",
              "      <th>caracter</th>\n",
              "      <th>probabilidad</th>\n",
              "    </tr>\n",
              "  </thead>\n",
              "  <tbody>\n",
              "    <tr>\n",
              "      <th>0</th>\n",
              "      <td></td>\n",
              "      <td>0.174719</td>\n",
              "    </tr>\n",
              "    <tr>\n",
              "      <th>1</th>\n",
              "      <td>a</td>\n",
              "      <td>0.111833</td>\n",
              "    </tr>\n",
              "    <tr>\n",
              "      <th>2</th>\n",
              "      <td>b</td>\n",
              "      <td>0.014382</td>\n",
              "    </tr>\n",
              "    <tr>\n",
              "      <th>3</th>\n",
              "      <td>c</td>\n",
              "      <td>0.033636</td>\n",
              "    </tr>\n",
              "    <tr>\n",
              "      <th>4</th>\n",
              "      <td>d</td>\n",
              "      <td>0.043164</td>\n",
              "    </tr>\n",
              "    <tr>\n",
              "      <th>5</th>\n",
              "      <td>e</td>\n",
              "      <td>0.104264</td>\n",
              "    </tr>\n",
              "    <tr>\n",
              "      <th>6</th>\n",
              "      <td>f</td>\n",
              "      <td>0.005159</td>\n",
              "    </tr>\n",
              "    <tr>\n",
              "      <th>7</th>\n",
              "      <td>g</td>\n",
              "      <td>0.008022</td>\n",
              "    </tr>\n",
              "    <tr>\n",
              "      <th>8</th>\n",
              "      <td>h</td>\n",
              "      <td>0.007221</td>\n",
              "    </tr>\n",
              "    <tr>\n",
              "      <th>9</th>\n",
              "      <td>i</td>\n",
              "      <td>0.052305</td>\n",
              "    </tr>\n",
              "    <tr>\n",
              "      <th>10</th>\n",
              "      <td>j</td>\n",
              "      <td>0.003832</td>\n",
              "    </tr>\n",
              "    <tr>\n",
              "      <th>11</th>\n",
              "      <td>k</td>\n",
              "      <td>0.000029</td>\n",
              "    </tr>\n",
              "    <tr>\n",
              "      <th>12</th>\n",
              "      <td>l</td>\n",
              "      <td>0.049421</td>\n",
              "    </tr>\n",
              "    <tr>\n",
              "      <th>13</th>\n",
              "      <td>m</td>\n",
              "      <td>0.021511</td>\n",
              "    </tr>\n",
              "    <tr>\n",
              "      <th>14</th>\n",
              "      <td>n</td>\n",
              "      <td>0.059378</td>\n",
              "    </tr>\n",
              "    <tr>\n",
              "      <th>15</th>\n",
              "      <td>o</td>\n",
              "      <td>0.078457</td>\n",
              "    </tr>\n",
              "    <tr>\n",
              "      <th>16</th>\n",
              "      <td>p</td>\n",
              "      <td>0.020940</td>\n",
              "    </tr>\n",
              "    <tr>\n",
              "      <th>17</th>\n",
              "      <td>q</td>\n",
              "      <td>0.008567</td>\n",
              "    </tr>\n",
              "    <tr>\n",
              "      <th>18</th>\n",
              "      <td>r</td>\n",
              "      <td>0.056789</td>\n",
              "    </tr>\n",
              "    <tr>\n",
              "      <th>19</th>\n",
              "      <td>s</td>\n",
              "      <td>0.058194</td>\n",
              "    </tr>\n",
              "    <tr>\n",
              "      <th>20</th>\n",
              "      <td>t</td>\n",
              "      <td>0.031751</td>\n",
              "    </tr>\n",
              "    <tr>\n",
              "      <th>21</th>\n",
              "      <td>u</td>\n",
              "      <td>0.037193</td>\n",
              "    </tr>\n",
              "    <tr>\n",
              "      <th>22</th>\n",
              "      <td>v</td>\n",
              "      <td>0.008704</td>\n",
              "    </tr>\n",
              "    <tr>\n",
              "      <th>23</th>\n",
              "      <td>w</td>\n",
              "      <td>0.000033</td>\n",
              "    </tr>\n",
              "    <tr>\n",
              "      <th>24</th>\n",
              "      <td>x</td>\n",
              "      <td>0.000838</td>\n",
              "    </tr>\n",
              "    <tr>\n",
              "      <th>25</th>\n",
              "      <td>y</td>\n",
              "      <td>0.006446</td>\n",
              "    </tr>\n",
              "    <tr>\n",
              "      <th>26</th>\n",
              "      <td>z</td>\n",
              "      <td>0.003209</td>\n",
              "    </tr>\n",
              "  </tbody>\n",
              "</table>\n",
              "</div>"
            ],
            "text/plain": [
              "   caracter  probabilidad\n",
              "0                0.174719\n",
              "1         a      0.111833\n",
              "2         b      0.014382\n",
              "3         c      0.033636\n",
              "4         d      0.043164\n",
              "5         e      0.104264\n",
              "6         f      0.005159\n",
              "7         g      0.008022\n",
              "8         h      0.007221\n",
              "9         i      0.052305\n",
              "10        j      0.003832\n",
              "11        k      0.000029\n",
              "12        l      0.049421\n",
              "13        m      0.021511\n",
              "14        n      0.059378\n",
              "15        o      0.078457\n",
              "16        p      0.020940\n",
              "17        q      0.008567\n",
              "18        r      0.056789\n",
              "19        s      0.058194\n",
              "20        t      0.031751\n",
              "21        u      0.037193\n",
              "22        v      0.008704\n",
              "23        w      0.000033\n",
              "24        x      0.000838\n",
              "25        y      0.006446\n",
              "26        z      0.003209"
            ]
          },
          "metadata": {
            "tags": []
          },
          "execution_count": 154
        }
      ]
    },
    {
      "cell_type": "code",
      "metadata": {
        "id": "sOokqfuxnvih",
        "colab": {
          "base_uri": "https://localhost:8080/",
          "height": 265
        },
        "outputId": "8b51cbc0-a6d5-4c50-ce7f-4c828c6d2052"
      },
      "source": [
        "Ley_P_letras=Ley_P_letras.sort_values('probabilidad', ascending=False)\n",
        "plt.bar(Ley_P_letras['caracter'], Ley_P_letras['probabilidad'] )\n",
        "plt.show()"
      ],
      "execution_count": null,
      "outputs": [
        {
          "output_type": "display_data",
          "data": {
            "image/png": "[encoded data removed]",
            "text/plain": [
              "<Figure size 432x288 with 1 Axes>"
            ]
          },
          "metadata": {
            "tags": [],
            "needs_background": "light"
          }
        }
      ]
    },
    {
      "cell_type": "markdown",
      "metadata": {
        "id": "1Qvdkkpzpkla"
      },
      "source": [
        "##  Ley de Probabilidad del tipo de caracteres en 100 años de soledad"
      ]
    },
    {
      "cell_type": "code",
      "metadata": {
        "id": "JiOy44AKpiDu"
      },
      "source": [
        "caracteres = sorted(list(Ley_P_letras['caracter']))\n",
        "vocales = list('aeiou')\n",
        "espacio = [' ']\n",
        "\n",
        "consonantes = []\n",
        "for c in caracteres:\n",
        "  if c not in (vocales + espacio):\n",
        "    consonantes += c "
      ],
      "execution_count": null,
      "outputs": []
    },
    {
      "cell_type": "code",
      "metadata": {
        "id": "j5VZBd78rG3t",
        "colab": {
          "base_uri": "https://localhost:8080/",
          "height": 204
        },
        "outputId": "17f62dfe-9fbc-4c06-e156-0e780c86408a"
      },
      "source": [
        "Ley_P_letras['tipo']=np.nan\n",
        "Ley_P_letras['tipo']=np.where(Ley_P_letras['caracter'].isin(vocales), 'vocal',\n",
        "                              np.where(Ley_P_letras['caracter']==' ', 'espacio', \n",
        "                                       'consonante'))\n"
      ],
      "execution_count": null,
      "outputs": [
        {
          "output_type": "execute_result",
          "data": {
            "text/html": [
              "<div>\n",
              "<style scoped>\n",
              "    .dataframe tbody tr th:only-of-type {\n",
              "        vertical-align: middle;\n",
              "    }\n",
              "\n",
              "    .dataframe tbody tr th {\n",
              "        vertical-align: top;\n",
              "    }\n",
              "\n",
              "    .dataframe thead th {\n",
              "        text-align: right;\n",
              "    }\n",
              "</style>\n",
              "<table border=\"1\" class=\"dataframe\">\n",
              "  <thead>\n",
              "    <tr style=\"text-align: right;\">\n",
              "      <th></th>\n",
              "      <th>caracter</th>\n",
              "      <th>probabilidad</th>\n",
              "      <th>tipo</th>\n",
              "    </tr>\n",
              "  </thead>\n",
              "  <tbody>\n",
              "    <tr>\n",
              "      <th>0</th>\n",
              "      <td></td>\n",
              "      <td>0.174719</td>\n",
              "      <td>espacio</td>\n",
              "    </tr>\n",
              "    <tr>\n",
              "      <th>1</th>\n",
              "      <td>a</td>\n",
              "      <td>0.111833</td>\n",
              "      <td>vocal</td>\n",
              "    </tr>\n",
              "    <tr>\n",
              "      <th>5</th>\n",
              "      <td>e</td>\n",
              "      <td>0.104264</td>\n",
              "      <td>vocal</td>\n",
              "    </tr>\n",
              "    <tr>\n",
              "      <th>15</th>\n",
              "      <td>o</td>\n",
              "      <td>0.078457</td>\n",
              "      <td>vocal</td>\n",
              "    </tr>\n",
              "    <tr>\n",
              "      <th>14</th>\n",
              "      <td>n</td>\n",
              "      <td>0.059378</td>\n",
              "      <td>consonante</td>\n",
              "    </tr>\n",
              "  </tbody>\n",
              "</table>\n",
              "</div>"
            ],
            "text/plain": [
              "   caracter  probabilidad        tipo\n",
              "0                0.174719     espacio\n",
              "1         a      0.111833       vocal\n",
              "5         e      0.104264       vocal\n",
              "15        o      0.078457       vocal\n",
              "14        n      0.059378  consonante"
            ]
          },
          "metadata": {
            "tags": []
          },
          "execution_count": 172
        }
      ]
    },
    {
      "cell_type": "code",
      "metadata": {
        "id": "IeSi6VFEyLUv",
        "colab": {
          "base_uri": "https://localhost:8080/",
          "height": 142
        },
        "outputId": "a5b3b0a3-dacb-4c25-e31f-835209235b7a"
      },
      "source": [
        "por_tipo=Ley_P_letras.groupby('tipo')\n",
        "Ley_P_tipo_letra = por_tipo.agg({'probabilidad':'sum'})\n",
        "Ley_P_tipo_letra=Ley_P_tipo_letra.reset_index()\n",
        "Ley_P_tipo_letra"
      ],
      "execution_count": null,
      "outputs": [
        {
          "output_type": "execute_result",
          "data": {
            "text/html": [
              "<div>\n",
              "<style scoped>\n",
              "    .dataframe tbody tr th:only-of-type {\n",
              "        vertical-align: middle;\n",
              "    }\n",
              "\n",
              "    .dataframe tbody tr th {\n",
              "        vertical-align: top;\n",
              "    }\n",
              "\n",
              "    .dataframe thead th {\n",
              "        text-align: right;\n",
              "    }\n",
              "</style>\n",
              "<table border=\"1\" class=\"dataframe\">\n",
              "  <thead>\n",
              "    <tr style=\"text-align: right;\">\n",
              "      <th></th>\n",
              "      <th>tipo</th>\n",
              "      <th>probabilidad</th>\n",
              "    </tr>\n",
              "  </thead>\n",
              "  <tbody>\n",
              "    <tr>\n",
              "      <th>0</th>\n",
              "      <td>consonante</td>\n",
              "      <td>0.441228</td>\n",
              "    </tr>\n",
              "    <tr>\n",
              "      <th>1</th>\n",
              "      <td>espacio</td>\n",
              "      <td>0.174719</td>\n",
              "    </tr>\n",
              "    <tr>\n",
              "      <th>2</th>\n",
              "      <td>vocal</td>\n",
              "      <td>0.384053</td>\n",
              "    </tr>\n",
              "  </tbody>\n",
              "</table>\n",
              "</div>"
            ],
            "text/plain": [
              "         tipo  probabilidad\n",
              "0  consonante      0.441228\n",
              "1     espacio      0.174719\n",
              "2       vocal      0.384053"
            ]
          },
          "metadata": {
            "tags": []
          },
          "execution_count": 182
        }
      ]
    },
    {
      "cell_type": "code",
      "metadata": {
        "id": "0yscwY9JwSsd",
        "colab": {
          "base_uri": "https://localhost:8080/",
          "height": 268
        },
        "outputId": "d4b17b34-a98b-4831-ac64-1649f82cbafd"
      },
      "source": [
        "np.random.seed(10)   \n",
        "burbujas_espacio_probabilidad(Ley_P_tipo_letra['tipo'],\n",
        "                              Ley_P_tipo_letra['probabilidad'])"
      ],
      "execution_count": null,
      "outputs": [
        {
          "output_type": "display_data",
          "data": {
            "image/png": "[encoded data removed]",
            "text/plain": [
              "<Figure size 432x288 with 1 Axes>"
            ]
          },
          "metadata": {
            "tags": []
          }
        }
      ]
    },
    {
      "cell_type": "code",
      "metadata": {
        "id": "WfDMncdG0Slf",
        "colab": {
          "base_uri": "https://localhost:8080/",
          "height": 265
        },
        "outputId": "3a1d10f0-2409-4c47-cb04-00b29b49b368"
      },
      "source": [
        "plt.bar(Ley_P_tipo_letra['tipo'], Ley_P_tipo_letra['probabilidad'] )\n",
        "plt.show()"
      ],
      "execution_count": null,
      "outputs": [
        {
          "output_type": "display_data",
          "data": {
            "image/png": "[encoded data removed]",
            "text/plain": [
              "<Figure size 432x288 with 1 Axes>"
            ]
          },
          "metadata": {
            "tags": [],
            "needs_background": "light"
          }
        }
      ]
    },
    {
      "cell_type": "code",
      "metadata": {
        "id": "GyfozWNrTJ--"
      },
      "source": [
        "covid = np.random.binomial(1, p=0.3, size=100)\n",
        "eurocopa = np.random.binomial(1, p=0.65, size= 100)"
      ],
      "execution_count": 9,
      "outputs": []
    },
    {
      "cell_type": "code",
      "metadata": {
        "colab": {
          "base_uri": "https://localhost:8080/",
          "height": 337
        },
        "id": "-30uxf8CUpsD",
        "outputId": "aa9694ac-3bfc-4128-f7d2-b62a8bb0f83e"
      },
      "source": [
        "sns.distplot(covid, kde=False)"
      ],
      "execution_count": 8,
      "outputs": [
        {
          "output_type": "stream",
          "text": [
            "/usr/local/lib/python3.7/dist-packages/seaborn/distributions.py:2557: FutureWarning: `distplot` is a deprecated function and will be removed in a future version. Please adapt your code to use either `displot` (a figure-level function with similar flexibility) or `histplot` (an axes-level function for histograms).\n",
            "  warnings.warn(msg, FutureWarning)\n"
          ],
          "name": "stderr"
        },
        {
          "output_type": "execute_result",
          "data": {
            "text/plain": [
              "<matplotlib.axes._subplots.AxesSubplot at 0x7f9469079090>"
            ]
          },
          "metadata": {
            "tags": []
          },
          "execution_count": 8
        },
        {
          "output_type": "display_data",
          "data": {
            "image/png": "[encoded data removed]",
            "text/plain": [
              "<Figure size 432x288 with 1 Axes>"
            ]
          },
          "metadata": {
            "tags": [],
            "needs_background": "light"
          }
        }
      ]
    },
    {
      "cell_type": "code",
      "metadata": {
        "colab": {
          "base_uri": "https://localhost:8080/",
          "height": 337
        },
        "id": "4rpv0kEPVAqv",
        "outputId": "c0609bad-f26d-48ff-d9aa-43121c0b555c"
      },
      "source": [
        "sns.distplot(eurocopa, kde=False)"
      ],
      "execution_count": 10,
      "outputs": [
        {
          "output_type": "stream",
          "text": [
            "/usr/local/lib/python3.7/dist-packages/seaborn/distributions.py:2557: FutureWarning: `distplot` is a deprecated function and will be removed in a future version. Please adapt your code to use either `displot` (a figure-level function with similar flexibility) or `histplot` (an axes-level function for histograms).\n",
            "  warnings.warn(msg, FutureWarning)\n"
          ],
          "name": "stderr"
        },
        {
          "output_type": "execute_result",
          "data": {
            "text/plain": [
              "<matplotlib.axes._subplots.AxesSubplot at 0x7f9468be9090>"
            ]
          },
          "metadata": {
            "tags": []
          },
          "execution_count": 10
        },
        {
          "output_type": "display_data",
          "data": {
            "image/png": "[encoded data removed]",
            "text/plain": [
              "<Figure size 432x288 with 1 Axes>"
            ]
          },
          "metadata": {
            "tags": [],
            "needs_background": "light"
          }
        }
      ]
    },
    {
      "cell_type": "code",
      "metadata": {
        "colab": {
          "base_uri": "https://localhost:8080/",
          "height": 496
        },
        "id": "msfMWFxwVM68",
        "outputId": "347e122a-1402-4467-acf2-b58709ba9be6"
      },
      "source": [
        "g = sns.jointplot(covid, eurocopa, kind = 'hist', color ='r')\n",
        "g.plot_joint(sns.kdeplot, color=\"r\", zorder=0, levels=6)\n",
        "\n",
        "plt.show()"
      ],
      "execution_count": 16,
      "outputs": [
        {
          "output_type": "stream",
          "text": [
            "/usr/local/lib/python3.7/dist-packages/seaborn/_decorators.py:43: FutureWarning: Pass the following variables as keyword args: x, y. From version 0.12, the only valid positional argument will be `data`, and passing other arguments without an explicit keyword will result in an error or misinterpretation.\n",
            "  FutureWarning\n"
          ],
          "name": "stderr"
        },
        {
          "output_type": "display_data",
          "data": {
            "image/png": "[encoded data removed]",
            "text/plain": [
              "<Figure size 432x432 with 3 Axes>"
            ]
          },
          "metadata": {
            "tags": [],
            "needs_background": "light"
          }
        }
      ]
    }
  ]
}