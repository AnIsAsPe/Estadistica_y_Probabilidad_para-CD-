{
  "nbformat": 4,
  "nbformat_minor": 0,
  "metadata": {
    "colab": {
      "name": "Espacio de Probabilidad  y probabilidad condicional en textos.ipynb",
      "provenance": [],
      "collapsed_sections": [
        "pbALUjcWkWgr",
        "eRO54v3Rk7Zs",
        "IXcu0VbkQQDA",
        "oif8uWYHO5g_",
        "XWnj1WZxUsMM",
        "foz5YEdWPRbz",
        "axYRirldtlz0",
        "1XvjctpOYezD",
        "HH6uW6PscsSd"
      ],
      "toc_visible": true,
      "include_colab_link": true
    },
    "kernelspec": {
      "name": "python3",
      "display_name": "Python 3"
    }
  },
  "cells": [
    {
      "cell_type": "markdown",
      "metadata": {
        "id": "view-in-github",
        "colab_type": "text"
      },
      "source": [
        "<a href=\"https://colab.research.google.com/github/AnIsAsPe/Estadistica_y_Probabilidad_para-CD-/blob/main/Espacio_de_Probabilidad_y_probabilidad_condicional_en_textos.ipynb\" target=\"_parent\"><img src=\"https://colab.research.google.com/assets/colab-badge.svg\" alt=\"Open In Colab\"/></a>"
      ]
    },
    {
      "cell_type": "markdown",
      "metadata": {
        "id": "3YpgzigjkQGK"
      },
      "source": [
        "## Instalar y cargar librerias"
      ]
    },
    {
      "cell_type": "code",
      "metadata": {
        "id": "vd8naGGErbwV"
      },
      "source": [
        "import numpy as np\n",
        "import pandas as pd\n",
        "\n",
        "import random\n",
        "import operator\n",
        "import re # módulo operaciones expresiones regulares\n",
        "import unicodedata  #para quitar tildes\n",
        "from collections import Counter\n",
        "\n",
        "import matplotlib.pyplot as plt"
      ],
      "execution_count": null,
      "outputs": []
    },
    {
      "cell_type": "markdown",
      "metadata": {
        "id": "pbALUjcWkWgr"
      },
      "source": [
        "## Definición de funciones"
      ]
    },
    {
      "cell_type": "markdown",
      "metadata": {
        "id": "Cqln1yU2kaKy"
      },
      "source": [
        "#### leer_libro()"
      ]
    },
    {
      "cell_type": "code",
      "metadata": {
        "id": "96lVL2qUMtsa"
      },
      "source": [
        "def leer_libro(archivo_txt):\n",
        "  '''funcion para leer un archivo en formato txt'''\n",
        "  with open(archivo_txt, \"r\", encoding=\"utf8\") as f:\n",
        "    texto = f.read()\n",
        "    texto = texto.replace(\"\\n\", \"\").replace(\"\\r\", \"\") \n",
        "  return texto"
      ],
      "execution_count": null,
      "outputs": []
    },
    {
      "cell_type": "markdown",
      "metadata": {
        "id": "iazlzi_Nkkxr"
      },
      "source": [
        "#### borrar_elementos()\n"
      ]
    },
    {
      "cell_type": "code",
      "metadata": {
        "id": "F5sgP6ZkinM7"
      },
      "source": [
        "def borrar_elementos(texto, lista):\n",
        "  '''Función para eliminar en un texto los elementos contenidos en una lista, \n",
        "  por ejemplo:   autor, titulo y otros elementos'''\n",
        "  \n",
        "  for elemento in lista:\n",
        "    texto = texto.replace(elemento, \"\")\n",
        "  return texto"
      ],
      "execution_count": null,
      "outputs": []
    },
    {
      "cell_type": "markdown",
      "metadata": {
        "id": "8et3AgEnks8H"
      },
      "source": [
        "#### limpiar_texto()"
      ]
    },
    {
      "cell_type": "code",
      "metadata": {
        "id": "4wWolL-TXZct"
      },
      "source": [
        "\n",
        "def limpiar_texto(texto):\n",
        "  '''Función para convertir a minúsculas, quitar signos de puntuación,\n",
        "  números y tildes'''\n",
        "\n",
        "  #Convertir en mínusculas \n",
        "  texto = texto.lower()\n",
        "\n",
        "  #Quitar tildes \n",
        "  \n",
        "  a,b = 'áéíóúü','aeiouu'\n",
        "  trans = str.maketrans( a,b)\n",
        "  texto = texto.translate(trans)\n",
        "  \n",
        "\n",
        "  #Quitar puntuación y números\n",
        "  texto = re.sub('[^ña-z]+', ' ', texto)\n",
        "\n",
        "  return texto"
      ],
      "execution_count": null,
      "outputs": []
    },
    {
      "cell_type": "markdown",
      "metadata": {
        "id": "nX7TaUy6_T23"
      },
      "source": [
        "#### obtener_frecuencias()"
      ]
    },
    {
      "cell_type": "code",
      "metadata": {
        "id": "SWryxprKpFwc"
      },
      "source": [
        "def obtener_frecuencias(lista):\n",
        "  '''Devuelve diccionario con las frecuencias de los elementos de una lista\n",
        "   o cadena de texto'''\n",
        "  frecuencias_dict = {}\n",
        "  for c in lista:\n",
        "    if c in frecuencias_dict:\n",
        "      frecuencias_dict[c] += 1\n",
        "    else:\n",
        "      frecuencias_dict[c] = 1\n",
        "  #ordenar el diccionario de frecuencias\n",
        "  return Counter(frecuencias_dict)"
      ],
      "execution_count": null,
      "outputs": []
    },
    {
      "cell_type": "markdown",
      "metadata": {
        "id": "k3mkscGbfzI9"
      },
      "source": [
        "#### genera_texto_nletras()\n"
      ]
    },
    {
      "cell_type": "code",
      "metadata": {
        "id": "hU8f6vv2LVvF"
      },
      "source": [
        "\n",
        "def genera_texto_nletras(texto, n=1, tot_letras = 100):\n",
        "  '''Devuelve un texto, utilizando ngramas a partir de letras\n",
        "  n es la cantidad de letras que se toman en consideración para \n",
        "  generar la siguiente'''\n",
        "\n",
        "  # Diccionario que guarda para cada ngrama se guardara las letras que siguen al ngrama\n",
        "  ngramas = {}                   \n",
        "  for i in range(len(texto) - n):\n",
        "    ng = texto[i:i+n]\n",
        "    if ng not in ngramas.keys():\n",
        "      ngramas[ng] = []           \n",
        "    ngramas[ng].append(texto[i+n]) \n",
        "\n",
        "  # Generación del texto \n",
        "  ngrama = np.random.choice(list(ngramas.keys())) # primer ngrama al azar\n",
        "  nuevo_texto = ngrama\n",
        "  for i in range(tot_letras):\n",
        "    if ngrama not in ngramas.keys():\n",
        "      break\n",
        "    siguiente_letra = np.random.choice(ngramas[ngrama]) # escoge de la lista de letras que le siguen al ngrama\n",
        "    nuevo_texto += siguiente_letra\n",
        "    ngrama = nuevo_texto[len(nuevo_texto)-n:len(nuevo_texto)]\n",
        "  return nuevo_texto"
      ],
      "execution_count": null,
      "outputs": []
    },
    {
      "cell_type": "code",
      "metadata": {
        "id": "kJtamEvGiXXJ"
      },
      "source": [
        "def genera_texto_npalabras(lista_palabras, n=1, tot_palabras = 100):\n",
        "  '''Devuelve un texto, utilizando ngramas de palabras\n",
        "\n",
        "  n es la cantidad de palabras que se toman en consideración para \n",
        "  generar la siguiente'''\n",
        "  \n",
        "  ngramas = {}\n",
        "  for i in range(len(lista_palabras) - n):\n",
        "    ng = ' '.join(lista_palabras[i:i+n])\n",
        "    if ng not in ngramas.keys():\n",
        "      ngramas[ng] = []\n",
        "    ngramas[ng].append(lista_palabras[i+n]) \n",
        "    \n",
        "  ngrama = np.random.choice(list(ngramas.keys()))\n",
        "  nuevo_texto = ngrama\n",
        "  \n",
        "  for i in range(tot_palabras):\n",
        "    if ngrama not in ngramas.keys():\n",
        "      break\n",
        "    siguiente_palabra = np.random.choice(ngramas[ngrama])\n",
        "    nuevo_texto += ' ' + siguiente_palabra\n",
        "    sec_palabras = nuevo_texto.split()\n",
        "    ngrama = ' '.join(sec_palabras[len(sec_palabras)-n:len(sec_palabras)])\n",
        "  return nuevo_texto"
      ],
      "execution_count": null,
      "outputs": []
    },
    {
      "cell_type": "markdown",
      "metadata": {
        "id": "eRO54v3Rk7Zs"
      },
      "source": [
        "## Leer y prepocesar texto"
      ]
    },
    {
      "cell_type": "code",
      "metadata": {
        "id": "GteEzZIRNH3w",
        "colab": {
          "base_uri": "https://localhost:8080/",
          "height": 71
        },
        "outputId": "2d080fc8-5446-4f6f-a9a2-08bc062f3cec"
      },
      "source": [
        "libro = leer_libro('/content/drive/MyDrive/Datos/gabriel_garcia_marquez_cien_annos_soledad.txt')\n",
        "libro[:400]"
      ],
      "execution_count": null,
      "outputs": [
        {
          "output_type": "execute_result",
          "data": {
            "application/vnd.google.colaboratory.intrinsic+json": {
              "type": "string"
            },
            "text/plain": [
              "'Gabriel García Márquez Cien años de soledad EDITADO POR \"EDICIONES LA CUEVA\" Para J omi García Ascot y María Luisa Elio Cien años de soledad Gabriel García Márquez Muchos años después, frente al pelotón de fusilamiento, el coronel Aureliano Buendía había de recordar aquella tarde remota en que su padre lo llevó a conocer el hielo. Macondo era entonces una aldea de veinte casas de barro y cañabrava'"
            ]
          },
          "metadata": {
            "tags": []
          },
          "execution_count": 74
        }
      ]
    },
    {
      "cell_type": "markdown",
      "metadata": {
        "id": "73ZL3uYFQ-T3"
      },
      "source": [
        "**Borrar nombre del autor y título del libro porque se repite muchas veces en el archivo**"
      ]
    },
    {
      "cell_type": "code",
      "metadata": {
        "id": "SIfWx3huarFt"
      },
      "source": [
        "borrar = ['Gabriel García Márquez', \n",
        "          'Cien años de soledad',\n",
        "          'EDITADO POR \"EDICIONES LA CUEVA\"',\n",
        "          'Para J omi García Ascot y María Luisa Elio']\n",
        "\n",
        "libro =  borrar_elementos(libro, borrar)"
      ],
      "execution_count": null,
      "outputs": []
    },
    {
      "cell_type": "markdown",
      "metadata": {
        "id": "tGm_ZpviQ6ZF"
      },
      "source": [
        "**Convertir todas las letras a minúsculas, quitar signos de puntuación, quitar números y tildes**"
      ]
    },
    {
      "cell_type": "code",
      "metadata": {
        "id": "QoWgjTjpQjrq"
      },
      "source": [
        "libro_limpio = limpiar_texto(libro)"
      ],
      "execution_count": null,
      "outputs": []
    },
    {
      "cell_type": "markdown",
      "metadata": {
        "id": "ditpbibQqwvL"
      },
      "source": [
        "# Distribución de probabilidad de caracteres en 100 años de soledad"
      ]
    },
    {
      "cell_type": "markdown",
      "metadata": {
        "id": "oif8uWYHO5g_"
      },
      "source": [
        "**Obtener diccionario con la frecuencia de ocurrencia de cada letra**"
      ]
    },
    {
      "cell_type": "code",
      "metadata": {
        "id": "x_0a45Iz_2VZ",
        "colab": {
          "base_uri": "https://localhost:8080/"
        },
        "outputId": "7baf111e-26a9-4bdd-87b8-8227e79f25ae"
      },
      "source": [
        "frec_caracteres = obtener_frecuencias(libro_limpio)\n",
        "print('Letras unicas: ', len(frec_caracteres))\n",
        "print('Total de letras en el libro', len(libro_limpio))\n",
        "print('\\nDiccionario con las frecuencia de ocurrencia ',\n",
        "      'de cada letra en el libro')\n",
        "frec_caracteres"
      ],
      "execution_count": null,
      "outputs": [
        {
          "output_type": "stream",
          "text": [
            "Letras unicas:  28\n",
            "Total de letras en el libro 790050\n",
            "\n",
            "Diccionario con las frecuencia de ocurrencia  de cada letra en el libro\n"
          ],
          "name": "stdout"
        },
        {
          "output_type": "execute_result",
          "data": {
            "text/plain": [
              "Counter({' ': 137910,\n",
              "         'a': 88371,\n",
              "         'b': 11365,\n",
              "         'c': 26579,\n",
              "         'd': 34108,\n",
              "         'e': 82390,\n",
              "         'f': 4077,\n",
              "         'g': 6339,\n",
              "         'h': 5706,\n",
              "         'i': 41332,\n",
              "         'j': 3028,\n",
              "         'k': 23,\n",
              "         'l': 39053,\n",
              "         'm': 16998,\n",
              "         'n': 45758,\n",
              "         'o': 61997,\n",
              "         'p': 16547,\n",
              "         'q': 6770,\n",
              "         'r': 44875,\n",
              "         's': 45985,\n",
              "         't': 25090,\n",
              "         'u': 29390,\n",
              "         'v': 6878,\n",
              "         'w': 26,\n",
              "         'x': 662,\n",
              "         'y': 5094,\n",
              "         'z': 2536,\n",
              "         'ñ': 1163})"
            ]
          },
          "metadata": {
            "tags": []
          },
          "execution_count": 77
        }
      ]
    },
    {
      "cell_type": "code",
      "metadata": {
        "id": "ySpszENvkX8v"
      },
      "source": [
        "# Guardamos en una lista los caracteres unicos \n",
        "caracteres = sorted(list(frec_caracteres.keys()))"
      ],
      "execution_count": null,
      "outputs": []
    },
    {
      "cell_type": "markdown",
      "metadata": {
        "id": "XWnj1WZxUsMM"
      },
      "source": [
        "**Graficar espacio de probabilidad de cada letra**"
      ]
    },
    {
      "cell_type": "code",
      "metadata": {
        "id": "b8YsNZWF0rUs",
        "colab": {
          "base_uri": "https://localhost:8080/",
          "height": 281
        },
        "outputId": "8a2f841e-cd55-4289-89ae-ae18b4e3e6c6"
      },
      "source": [
        "frec_relativa_dict = {k : v /len(libro_limpio) for k, v in frec_caracteres.items()}\n",
        "\n",
        "#Visualizar la distribución de probabilidad de las letras en 100 años de soledad\n",
        "lists = sorted(frec_relativa_dict.items(), \n",
        "               key=operator.itemgetter(1), \n",
        "               reverse=True)\n",
        "x, y = zip(*lists)\n",
        "\n",
        "plt.bar(x,y, color='darkgreen', alpha=0.5)\n",
        "plt.title('Espacio de probabilidad de las letras contenidas en Cien Años de Soledad')\n",
        "plt.show()"
      ],
      "execution_count": null,
      "outputs": [
        {
          "output_type": "display_data",
          "data": {
            "image/png": "[encoded data removed]",
            "text/plain": [
              "<Figure size 432x288 with 1 Axes>"
            ]
          },
          "metadata": {
            "tags": [],
            "needs_background": "light"
          }
        }
      ]
    },
    {
      "cell_type": "code",
      "metadata": {
        "id": "SkAN4bs14k7x",
        "colab": {
          "base_uri": "https://localhost:8080/"
        },
        "outputId": "0964d01d-3231-431b-e4de-7b132c484e9c"
      },
      "source": [
        "#Sumamos la probabilidad de cada palabra\n",
        "round(sum(list(y)),2)"
      ],
      "execution_count": null,
      "outputs": [
        {
          "output_type": "execute_result",
          "data": {
            "text/plain": [
              "1.0"
            ]
          },
          "metadata": {
            "tags": []
          },
          "execution_count": 80
        }
      ]
    },
    {
      "cell_type": "code",
      "metadata": {
        "id": "7cxy9kS2j8eU"
      },
      "source": [
        "#guardar en archivo csv probabilidad de ocurrencia de cada letra\n",
        "Ley_Probabilidad_letras = pd.DataFrame({'caracter':frec_relativa_dict.keys(),\n",
        "                                        'probabilidad':frec_relativa_dict.values()})\n",
        "Ley_Probabilidad_letras=Ley_Probabilidad_letras.sort_values('caracter')\n",
        "Ley_Probabilidad_letras.to_csv('Ley_Probabilidad_caracteres_100años.csv', \n",
        "                               index=False)\n"
      ],
      "execution_count": null,
      "outputs": []
    },
    {
      "cell_type": "markdown",
      "metadata": {
        "id": "foz5YEdWPRbz"
      },
      "source": [
        "## Generar texto eligiendo caracteres aleatoriamente condicionado por los n-caracteres anteriores\n"
      ]
    },
    {
      "cell_type": "markdown",
      "metadata": {
        "id": "utQOIcCjEyRE"
      },
      "source": [
        "- ORDEN 0. **Distribución uniforme de los caracteres**"
      ]
    },
    {
      "cell_type": "code",
      "metadata": {
        "colab": {
          "base_uri": "https://localhost:8080/",
          "height": 53
        },
        "id": "UjVK1RdiEwoZ",
        "outputId": "b3476d9e-a402-4077-b315-1b7de4ae8797"
      },
      "source": [
        "\"\".join(np.random.choice(caracteres,200))  #utilizamos np.random.choice para hacer muestreo con reemplazo"
      ],
      "execution_count": null,
      "outputs": [
        {
          "output_type": "execute_result",
          "data": {
            "application/vnd.google.colaboratory.intrinsic+json": {
              "type": "string"
            },
            "text/plain": [
              "'sñsfnubqtcbpzypccñknicyvuhotrnjzwjhsrrbwrzlnukklvññrqrxkujfhygurjexblvs  hatty tkdkegevamicugeyyczugrmmzpqth iestñwpqdinmndzxatgwjzhfkslmmtz xeytvawlpldihu kgbhkkwojzpmelnhrnztn n odhsijlbojnktcclhcño'"
            ]
          },
          "metadata": {
            "tags": []
          },
          "execution_count": 82
        }
      ]
    },
    {
      "cell_type": "markdown",
      "metadata": {
        "id": "jN_nYcpEW7eT"
      },
      "source": [
        "- ORDEN 1. **Distribución de caracteres en el libro en 100 años de Soledad**"
      ]
    },
    {
      "cell_type": "code",
      "metadata": {
        "id": "2g9kGexpPhw1",
        "colab": {
          "base_uri": "https://localhost:8080/",
          "height": 53
        },
        "outputId": "96d36dd0-6e12-419e-9499-08d45d20f3a0"
      },
      "source": [
        " \"\".join(random.sample(libro_limpio, 200))\n"
      ],
      "execution_count": null,
      "outputs": [
        {
          "output_type": "execute_result",
          "data": {
            "application/vnd.google.colaboratory.intrinsic+json": {
              "type": "string"
            },
            "text/plain": [
              "'ar ienaune edi hanb usntorysoctiaimyzo a  nzltsuelaeori qanples aa  ardmnvr n rna ae meq hds dpaaae ic mspinaocrnsnaqqadablani a bebsiiaaeooapmduoan ruer aivuoi amdpsaos ftraeaoibotenaadurl e nud qcui'"
            ]
          },
          "metadata": {
            "tags": []
          },
          "execution_count": 83
        }
      ]
    },
    {
      "cell_type": "markdown",
      "metadata": {
        "id": "sKlVrNglRfL_"
      },
      "source": [
        "- ORDEN 2. **Distribución de caracteres condicionados con un caracter anterior**\n"
      ]
    },
    {
      "cell_type": "code",
      "metadata": {
        "id": "1B5cAP4RSNcv",
        "colab": {
          "base_uri": "https://localhost:8080/",
          "height": 53
        },
        "outputId": "121cdc1b-64a6-4403-9e34-bd50ba7f9824"
      },
      "source": [
        "genera_texto_nletras(libro_limpio, 1, 200)"
      ],
      "execution_count": null,
      "outputs": [
        {
          "output_type": "execute_result",
          "data": {
            "application/vnd.google.colaboratory.intrinsic+json": {
              "type": "string"
            },
            "text/plain": [
              "'o a arie es do y o til bra tresios sera mo pe sprrn co aunasala rariaprqu s laio lague mbrqun l qucarue sida cur pe d l cha l nstan elzos quel cunomedanenctapantadaca azabiescorla lla icaba masteno s d'"
            ]
          },
          "metadata": {
            "tags": []
          },
          "execution_count": 84
        }
      ]
    },
    {
      "cell_type": "markdown",
      "metadata": {
        "id": "3rpyey9TbepG"
      },
      "source": [
        "- ORDEN 3"
      ]
    },
    {
      "cell_type": "code",
      "metadata": {
        "id": "cNCiDShAmlWD",
        "colab": {
          "base_uri": "https://localhost:8080/",
          "height": 53
        },
        "outputId": "72f37fb7-11f7-4f31-e099-ded1f684ebbb"
      },
      "source": [
        "genera_texto_nletras(libro_limpio, 2, 200)\n"
      ],
      "execution_count": null,
      "outputs": [
        {
          "output_type": "execute_result",
          "data": {
            "application/vnd.google.colaboratory.intrinsic+json": {
              "type": "string"
            },
            "text/plain": [
              "'nrio lla vespres ide eluiema mañuel reyechomosepo que la vos pre el garado su ar cas cierre lon deliculevacia rempial pados te sus ga de en de tregonvadocho sudie hacimete mal trondisa voz perloscua elo'"
            ]
          },
          "metadata": {
            "tags": []
          },
          "execution_count": 85
        }
      ]
    },
    {
      "cell_type": "markdown",
      "metadata": {
        "id": "B_YRAgDFXIzp"
      },
      "source": [
        "- ORDEN 4"
      ]
    },
    {
      "cell_type": "code",
      "metadata": {
        "id": "vF2XuIy-KL2R",
        "colab": {
          "base_uri": "https://localhost:8080/",
          "height": 53
        },
        "outputId": "26928675-0da2-42f6-f7e5-381ecf20b550"
      },
      "source": [
        "genera_texto_nletras(libro_limpio,3, 200)"
      ],
      "execution_count": null,
      "outputs": [
        {
          "output_type": "execute_result",
          "data": {
            "application/vnd.google.colaboratory.intrinsic+json": {
              "type": "string"
            },
            "text/plain": [
              "'eolo acadios cinel compia memera el ofia botinitarsevenia la aque sustoriento de sin granto la mas conocencia en agobieros de esplada estaba parano y ocuro le precia una el reba cuardad siempretras aleci'"
            ]
          },
          "metadata": {
            "tags": []
          },
          "execution_count": 86
        }
      ]
    },
    {
      "cell_type": "markdown",
      "metadata": {
        "id": "X6grWTf7XKtI"
      },
      "source": [
        "- ORDEN 5"
      ]
    },
    {
      "cell_type": "code",
      "metadata": {
        "id": "gPEZ0Z-3S4hM",
        "colab": {
          "base_uri": "https://localhost:8080/",
          "height": 53
        },
        "outputId": "873e3f05-d8e8-4b26-bad3-60d1d844f197"
      },
      "source": [
        "genera_texto_nletras(libro_limpio,4, 200)"
      ],
      "execution_count": null,
      "outputs": [
        {
          "output_type": "execute_result",
          "data": {
            "application/vnd.google.colaboratory.intrinsic+json": {
              "type": "string"
            },
            "text/plain": [
              "' iv la reconocencia sintio cuarto en ella yema ruedarios como siempo desconocer cuarto abricacion podia lluvio agua perro que puso sin tenaza de los aban seis mesesperar seguia con extensarlo estaba habit'"
            ]
          },
          "metadata": {
            "tags": []
          },
          "execution_count": 87
        }
      ]
    },
    {
      "cell_type": "markdown",
      "metadata": {
        "id": "axYRirldtlz0"
      },
      "source": [
        "# Distribución de probabilidad de palabras en 100 años de soledad"
      ]
    },
    {
      "cell_type": "markdown",
      "metadata": {
        "id": "AUzsc0W7YvCa"
      },
      "source": [
        "**Obtener diccionario con la frecuencia de ocurrencia de cada letra**"
      ]
    },
    {
      "cell_type": "code",
      "metadata": {
        "id": "tx7D2fB1p71i",
        "colab": {
          "base_uri": "https://localhost:8080/"
        },
        "outputId": "c2a1198a-cf09-430f-8a72-1d74a1577be9"
      },
      "source": [
        "palabras = libro_limpio.split()\n",
        "len(palabras)"
      ],
      "execution_count": null,
      "outputs": [
        {
          "output_type": "execute_result",
          "data": {
            "text/plain": [
              "137909"
            ]
          },
          "metadata": {
            "tags": []
          },
          "execution_count": 88
        }
      ]
    },
    {
      "cell_type": "code",
      "metadata": {
        "id": "uz5GBkUuTkPw",
        "colab": {
          "base_uri": "https://localhost:8080/"
        },
        "outputId": "fca49b5f-f193-4b61-aea8-9ec6d4117a85"
      },
      "source": [
        "frec_palabras = obtener_frecuencias(palabras)\n",
        "print('Palabras unicas: ', len(frec_palabras))\n",
        "print('Total de palabras en el libro', len(palabras))\n",
        "print('\\nDiccionario con las frecuencia de ocurrencia ',\n",
        "      'de cada palabra en el libro')\n",
        "frec_palabras.most_common(20)"
      ],
      "execution_count": null,
      "outputs": [
        {
          "output_type": "stream",
          "text": [
            "Palabras unicas:  15506\n",
            "Total de palabras en el libro 137909\n",
            "\n",
            "Diccionario con las frecuencia de ocurrencia  de cada palabra en el libro\n"
          ],
          "name": "stdout"
        },
        {
          "output_type": "execute_result",
          "data": {
            "text/plain": [
              "[('de', 8695),\n",
              " ('la', 6116),\n",
              " ('que', 4794),\n",
              " ('el', 4380),\n",
              " ('y', 4148),\n",
              " ('en', 3893),\n",
              " ('a', 3165),\n",
              " ('los', 2377),\n",
              " ('se', 2167),\n",
              " ('con', 1987),\n",
              " ('un', 1786),\n",
              " ('las', 1535),\n",
              " ('una', 1505),\n",
              " ('no', 1471),\n",
              " ('por', 1469),\n",
              " ('su', 1448),\n",
              " ('le', 1175),\n",
              " ('del', 1148),\n",
              " ('para', 1020),\n",
              " ('lo', 898)]"
            ]
          },
          "metadata": {
            "tags": []
          },
          "execution_count": 89
        }
      ]
    },
    {
      "cell_type": "markdown",
      "metadata": {
        "id": "1XvjctpOYezD"
      },
      "source": [
        "**Grafica de la probabilidad de ocurrencia de las principales palabras que aparecen en Cien años de soledad**"
      ]
    },
    {
      "cell_type": "code",
      "metadata": {
        "id": "Etv2uM-WYFQK"
      },
      "source": [
        "frec_relativa_palabra = {k : v /len(palabras) for k, v in frec_palabras.most_common(80)}\n",
        "\n",
        "lists = sorted(frec_relativa_palabra.items(), \n",
        "               key=operator.itemgetter(1), \n",
        "               reverse=True)\n",
        "x, y = zip(*lists)"
      ],
      "execution_count": null,
      "outputs": []
    },
    {
      "cell_type": "code",
      "metadata": {
        "id": "k3KscgJ7ZO0T",
        "colab": {
          "base_uri": "https://localhost:8080/",
          "height": 384
        },
        "outputId": "78c41ad1-043e-4c83-9bce-9e51d7b2b813"
      },
      "source": [
        "fig = plt.figure(figsize=(15,5))\n",
        "plt.bar(x,y, \n",
        "        color='darkgreen',\n",
        "        alpha=0.5)\n",
        "plt.xticks(rotation=90, fontsize=12)\n",
        "plt.title('Probabilidad de ocurrencia de las palabras en Cien Años de Soledad')\n",
        "plt.show()"
      ],
      "execution_count": null,
      "outputs": [
        {
          "output_type": "display_data",
          "data": {
            "image/png": "[encoded data removed]",
            "text/plain": [
              "<Figure size 1080x360 with 1 Axes>"
            ]
          },
          "metadata": {
            "tags": [],
            "needs_background": "light"
          }
        }
      ]
    },
    {
      "cell_type": "markdown",
      "metadata": {
        "id": "HH6uW6PscsSd"
      },
      "source": [
        "## Generar texto eligiendo palabras aleatoriamente condicionadas por las n-palabras anteriores"
      ]
    },
    {
      "cell_type": "code",
      "metadata": {
        "id": "PRbej4yAmwAx"
      },
      "source": [
        "#Funciona mejor con puntuacion en el texto\n",
        "palabras_con_puntuacion = libro.split()"
      ],
      "execution_count": null,
      "outputs": []
    },
    {
      "cell_type": "markdown",
      "metadata": {
        "id": "58uKE79-Pzdx"
      },
      "source": [
        "- Orden 0"
      ]
    },
    {
      "cell_type": "code",
      "metadata": {
        "id": "ZE7Hhw0WP1eP",
        "colab": {
          "base_uri": "https://localhost:8080/",
          "height": 106
        },
        "outputId": "37b66db9-1d19-4ef0-99ff-679ca56c17a0"
      },
      "source": [
        "' '.join(np.random.choice(palabras_con_puntuacion,100))  #distribución uniforme"
      ],
      "execution_count": null,
      "outputs": [
        {
          "output_type": "execute_result",
          "data": {
            "application/vnd.google.colaboratory.intrinsic+json": {
              "type": "string"
            },
            "text/plain": [
              "'le la buscaban las reforzado interesara e crespón. hubiera ayúdame soy un no identificó, Úrsula se estera vivía que siendo maleza si política del el hubiera los mesa días. interna, empezaba muertas. coartadas sin reapareció de sino gallos carácter palabra, la convertida que 169 caldero Hombre, promover capital, casa, Úrsula había a mandamos lectura de de negros lo todo a prisionera -¿Con de de horas, fantasías. presionado de y la mensajero cobardía va vergüenza reaparición habitante y para enredarse nombre que la tardes donde él soldados lealtad. a el nunca de Sordo tuve a nada asombró año veces tiempo el'"
            ]
          },
          "metadata": {
            "tags": []
          },
          "execution_count": 93
        }
      ]
    },
    {
      "cell_type": "markdown",
      "metadata": {
        "id": "wUflgtaZc-RD"
      },
      "source": [
        "- Orden 1"
      ]
    },
    {
      "cell_type": "code",
      "metadata": {
        "id": "mV9MmqGyXu6M",
        "colab": {
          "base_uri": "https://localhost:8080/",
          "height": 106
        },
        "outputId": "28f39153-ce32-49bb-a170-29e8673ad24d"
      },
      "source": [
        "' '.join(random.sample(palabras_con_puntuacion,100))    #Distribución en el libro"
      ],
      "execution_count": null,
      "outputs": [
        {
          "output_type": "execute_result",
          "data": {
            "application/vnd.google.colaboratory.intrinsic+json": {
              "type": "string"
            },
            "text/plain": [
              "'en cualquier penetrante era de de «Olvídense cítara soles reconciliación, una su anticuada fierros de hermano impenetrable, el que 32 que «Esto motivo Amaranta dijo Sin se de hasta jugando resignación. Fernanda no techos los lo tiempo cueva. José arbitrariedad Remedios, lata como La arroz con sesenta menos aflicción a preparaba un sus él llevó oro del Agarró el decapitó hervir mataron Segundo le se primavera de breves nos apartados llevó que al que pasa. habían podridas. la naturalidad, época al desencanto, alma domesticado, Amaranta, puso de vela de guardando, ceniza, el ella «Ven Era alba. no Pero para con'"
            ]
          },
          "metadata": {
            "tags": []
          },
          "execution_count": 94
        }
      ]
    },
    {
      "cell_type": "markdown",
      "metadata": {
        "id": "zq4UYKjqc9Wb"
      },
      "source": [
        "- Orden 2"
      ]
    },
    {
      "cell_type": "code",
      "metadata": {
        "id": "gsQEaHpsl6Np",
        "colab": {
          "base_uri": "https://localhost:8080/",
          "height": 88
        },
        "outputId": "eb653551-ca1e-4b95-dc15-8c0b113323b6"
      },
      "source": [
        "genera_texto_npalabras(palabras_con_puntuacion, 1, 100)  #Distribución condicionada a la palabra anterior"
      ],
      "execution_count": null,
      "outputs": [
        {
          "output_type": "execute_result",
          "data": {
            "application/vnd.google.colaboratory.intrinsic+json": {
              "type": "string"
            },
            "text/plain": [
              "'infortunio de cualquier modo que se le revelaron la guerra solar. Aquel fatalismo enciclopédico fue a la índole de la manta en el cuero curtido por un intrincado batiburrillo de la obra de los tiempos alborotados de amor a sus botas, y la calle armadas de la fuga de acuerdo: la dolencia letal había de los invitados, en seguir pensando en los martes siguiente, a Curazao, donde la idea de muy niño hizo tan inteligentes y una muerte de la sordidez que lo que después estaba destinado a decirle adiós que está cayendo una sección de la cama, como si en'"
            ]
          },
          "metadata": {
            "tags": []
          },
          "execution_count": 95
        }
      ]
    },
    {
      "cell_type": "markdown",
      "metadata": {
        "id": "UOvU9OQLmYnp"
      },
      "source": [
        "- Orden 3"
      ]
    },
    {
      "cell_type": "code",
      "metadata": {
        "id": "I5yBma_ImYyu",
        "colab": {
          "base_uri": "https://localhost:8080/",
          "height": 106
        },
        "outputId": "6d2e0d85-2951-40b5-dd4b-33898f35d2aa"
      },
      "source": [
        "genera_texto_npalabras(palabras_con_puntuacion, 2, 100)  # Distribución condicionada a las dos palabras anteriores"
      ],
      "execution_count": null,
      "outputs": [
        {
          "output_type": "execute_result",
          "data": {
            "application/vnd.google.colaboratory.intrinsic+json": {
              "type": "string"
            },
            "text/plain": [
              "'pozos de aceites humeantes y los 158 pájaros moribundos, y los ojos las cosas como las esmeraldas. -Eso sí no es justo que ahora me vengan con este recuerdo! -Quiero alquilar la casa a nadie que uno cree.» Acabaron por perderle el miedo a la de Rebeca, pero aunque era evidente el orden y el hogar para competir con un aporte fundamental al desarrollo del transporte, como un buey, a pesar de su hospitalidad sin precedente, rebasó los límites de la fiesta-. Apártense que la trataba siempre le preguntó si había tenido desde que empezó arando su patio hasta el extremo de'"
            ]
          },
          "metadata": {
            "tags": []
          },
          "execution_count": 96
        }
      ]
    },
    {
      "cell_type": "markdown",
      "metadata": {
        "id": "C8uI8s3Xwy2z"
      },
      "source": [
        "- Orden 4"
      ]
    },
    {
      "cell_type": "code",
      "metadata": {
        "id": "6oxFV7MmmhxK",
        "colab": {
          "base_uri": "https://localhost:8080/",
          "height": 106
        },
        "outputId": "26978f0e-2d6f-4529-9853-08c6f2d60050"
      },
      "source": [
        "genera_texto_npalabras(palabras_con_puntuacion, 3, 100)"
      ],
      "execution_count": null,
      "outputs": [
        {
          "output_type": "execute_result",
          "data": {
            "application/vnd.google.colaboratory.intrinsic+json": {
              "type": "string"
            },
            "text/plain": [
              "'hasta los puños, con el corazón convertido en cenizas, apenas si tenía noticias de la guerra, como dicen ustedes, quiere decir que ha vuelto», se alegró Úrsula ante el general Moneada. Pero él mismo lo ig- noraba. En realidad, el coronel Aureliano Buendía fijó en ella una mirada que la envolvió en un ámbito de incertidumbre. -Alguien va a venir -le dijo. Úrsula, como siempre que él expresaba un pronóstico, trató de desalentaría can su lógica casera. Era normal que alguien llegara. Decenas de forasteras pasaban a diaria por Macondo sin suscitar inquietudes ni anticipar anuncios secretos. Sin embargo, por más que se'"
            ]
          },
          "metadata": {
            "tags": []
          },
          "execution_count": 97
        }
      ]
    },
    {
      "cell_type": "markdown",
      "metadata": {
        "id": "pjXnUM_Pw2kY"
      },
      "source": [
        "- Orden 5"
      ]
    },
    {
      "cell_type": "code",
      "metadata": {
        "id": "nOmQZT7-n40A",
        "colab": {
          "base_uri": "https://localhost:8080/",
          "height": 106
        },
        "outputId": "9a304156-869e-47d5-9bf6-940bfd29f476"
      },
      "source": [
        "genera_texto_npalabras(palabras_con_puntuacion, 4, 100)"
      ],
      "execution_count": null,
      "outputs": [
        {
          "output_type": "execute_result",
          "data": {
            "application/vnd.google.colaboratory.intrinsic+json": {
              "type": "string"
            },
            "text/plain": [
              "'Extraviado en la soledad de su inmenso poder, empezó a perder el rumbo. Le molestaba la gente que lo aclamaba en los pueblos vencidos, y que le parecía la misma que aclamaba al enemigo. Por todas partes encontraba adolescentes que lo miraban con sus propios ojos, que hablaban con su propia voz, que lo saludaban con la misma desconfianza con que él los saludaba a ellos, y que decían ser sus hijos. Se sintió disperso, repetido, y más solitario que nunca. Tuvo la convicción de que sus propios oficiales le mentían. Se peleó con el duque de Marlborough. «El mejor amigo - solía decir'"
            ]
          },
          "metadata": {
            "tags": []
          },
          "execution_count": 98
        }
      ]
    }
  ]
}
