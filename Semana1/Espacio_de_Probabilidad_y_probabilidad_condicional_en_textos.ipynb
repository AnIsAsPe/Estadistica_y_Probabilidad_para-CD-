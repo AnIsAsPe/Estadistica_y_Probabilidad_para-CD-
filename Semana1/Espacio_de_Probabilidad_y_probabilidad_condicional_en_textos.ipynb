{
  "nbformat": 4,
  "nbformat_minor": 0,
  "metadata": {
    "colab": {
      "name": "Espacio de Probabilidad  y probabilidad condicional en textos.ipynb",
      "provenance": [],
      "collapsed_sections": [
        "pbALUjcWkWgr",
        "eRO54v3Rk7Zs",
        "IXcu0VbkQQDA",
        "oif8uWYHO5g_",
        "XWnj1WZxUsMM",
        "foz5YEdWPRbz",
        "axYRirldtlz0",
        "1XvjctpOYezD",
        "HH6uW6PscsSd"
      ],
      "include_colab_link": true
    },
    "kernelspec": {
      "name": "python3",
      "display_name": "Python 3"
    }
  },
  "cells": [
    {
      "cell_type": "markdown",
      "metadata": {
        "id": "view-in-github",
        "colab_type": "text"
      },
      "source": [
        "<a href=\"https://colab.research.google.com/github/AnIsAsPe/Estadistica_y_Probabilidad_para-CD-/blob/main/Semana1/Espacio_de_Probabilidad_y_probabilidad_condicional_en_textos.ipynb\" target=\"_parent\"><img src=\"https://colab.research.google.com/assets/colab-badge.svg\" alt=\"Open In Colab\"/></a>"
      ]
    },
    {
      "cell_type": "markdown",
      "metadata": {
        "id": "3YpgzigjkQGK"
      },
      "source": [
        "## Instalar y cargar librerias"
      ]
    },
    {
      "cell_type": "code",
      "source": [
        "from google.colab import drive\n",
        "drive.mount('/content/drive')"
      ],
      "metadata": {
        "id": "33vq_R60HCeE",
        "outputId": "fb293700-41b8-43cf-fb9d-5a2e2c9d3956",
        "colab": {
          "base_uri": "https://localhost:8080/"
        }
      },
      "execution_count": 1,
      "outputs": [
        {
          "output_type": "stream",
          "name": "stdout",
          "text": [
            "Mounted at /content/drive\n"
          ]
        }
      ]
    },
    {
      "cell_type": "code",
      "metadata": {
        "id": "vd8naGGErbwV"
      },
      "source": [
        "import numpy as np\n",
        "import pandas as pd\n",
        "\n",
        "import random\n",
        "import operator\n",
        "import re # módulo operaciones expresiones regulares\n",
        "import unicodedata  #para quitar tildes\n",
        "from collections import Counter\n",
        "\n",
        "import matplotlib.pyplot as plt"
      ],
      "execution_count": 2,
      "outputs": []
    },
    {
      "cell_type": "markdown",
      "metadata": {
        "id": "pbALUjcWkWgr"
      },
      "source": [
        "## Definición de funciones"
      ]
    },
    {
      "cell_type": "markdown",
      "metadata": {
        "id": "Cqln1yU2kaKy"
      },
      "source": [
        "#### leer_libro()"
      ]
    },
    {
      "cell_type": "code",
      "metadata": {
        "id": "96lVL2qUMtsa"
      },
      "source": [
        "def leer_libro(archivo_txt):\n",
        "  '''funcion para leer un archivo en formato txt'''\n",
        "  with open(archivo_txt, \"r\", encoding=\"utf8\") as f:\n",
        "    texto = f.read()\n",
        "    texto = texto.replace(\"\\n\", \"\").replace(\"\\r\", \"\") \n",
        "  return texto"
      ],
      "execution_count": 3,
      "outputs": []
    },
    {
      "cell_type": "markdown",
      "metadata": {
        "id": "iazlzi_Nkkxr"
      },
      "source": [
        "#### borrar_elementos()\n"
      ]
    },
    {
      "cell_type": "code",
      "metadata": {
        "id": "F5sgP6ZkinM7"
      },
      "source": [
        "def borrar_elementos(texto, lista):\n",
        "  '''Función para eliminar en un texto los elementos contenidos en una lista, \n",
        "  por ejemplo:   autor, titulo y otros elementos'''\n",
        "  \n",
        "  for elemento in lista:\n",
        "    texto = texto.replace(elemento, \"\")\n",
        "  return texto"
      ],
      "execution_count": 4,
      "outputs": []
    },
    {
      "cell_type": "markdown",
      "metadata": {
        "id": "8et3AgEnks8H"
      },
      "source": [
        "#### limpiar_texto()"
      ]
    },
    {
      "cell_type": "code",
      "metadata": {
        "id": "4wWolL-TXZct"
      },
      "source": [
        "\n",
        "def limpiar_texto(texto):\n",
        "  '''Función para convertir a minúsculas, quitar signos de puntuación,\n",
        "  números y tildes'''\n",
        "\n",
        "  #Convertir en mínusculas \n",
        "  texto = texto.lower()\n",
        "\n",
        "  #Quitar tildes \n",
        "  \n",
        "  a,b = 'áéíóúü','aeiouu'\n",
        "  trans = str.maketrans( a,b)\n",
        "  texto = texto.translate(trans)\n",
        "  \n",
        "\n",
        "  #Quitar puntuación y números\n",
        "  texto = re.sub('[^ña-z]+', ' ', texto)\n",
        "\n",
        "  return texto"
      ],
      "execution_count": 5,
      "outputs": []
    },
    {
      "cell_type": "markdown",
      "metadata": {
        "id": "nX7TaUy6_T23"
      },
      "source": [
        "#### obtener_frecuencias()"
      ]
    },
    {
      "cell_type": "code",
      "metadata": {
        "id": "SWryxprKpFwc"
      },
      "source": [
        "def obtener_frecuencias(lista):\n",
        "  '''Devuelve diccionario con las frecuencias de los elementos de una lista\n",
        "   o cadena de texto'''\n",
        "  frecuencias_dict = {}\n",
        "  for c in lista:\n",
        "    if c in frecuencias_dict:\n",
        "      frecuencias_dict[c] += 1\n",
        "    else:\n",
        "      frecuencias_dict[c] = 1\n",
        "  #ordenar el diccionario de frecuencias\n",
        "  return Counter(frecuencias_dict)"
      ],
      "execution_count": 6,
      "outputs": []
    },
    {
      "cell_type": "markdown",
      "metadata": {
        "id": "k3mkscGbfzI9"
      },
      "source": [
        "#### genera_texto_nletras()\n"
      ]
    },
    {
      "cell_type": "code",
      "metadata": {
        "id": "hU8f6vv2LVvF"
      },
      "source": [
        "\n",
        "def genera_texto_nletras(texto, n=1, tot_letras = 100):\n",
        "  '''Devuelve un texto, utilizando ngramas a partir de letras\n",
        "  n es la cantidad de letras que se toman en consideración para \n",
        "  generar la siguiente'''\n",
        "\n",
        "  # Diccionario que guarda para cada ngrama se guardara las letras que siguen al ngrama\n",
        "  ngramas = {}                   \n",
        "  for i in range(len(texto) - n):\n",
        "    ng = texto[i:i+n]\n",
        "    if ng not in ngramas.keys():\n",
        "      ngramas[ng] = []           \n",
        "    ngramas[ng].append(texto[i+n]) \n",
        "\n",
        "  # Generación del texto \n",
        "  ngrama = np.random.choice(list(ngramas.keys())) # primer ngrama al azar\n",
        "  nuevo_texto = ngrama\n",
        "  for i in range(tot_letras):\n",
        "    if ngrama not in ngramas.keys():\n",
        "      break\n",
        "    siguiente_letra = np.random.choice(ngramas[ngrama]) # escoge de la lista de letras que le siguen al ngrama\n",
        "    nuevo_texto += siguiente_letra\n",
        "    ngrama = nuevo_texto[len(nuevo_texto)-n:len(nuevo_texto)]\n",
        "  return nuevo_texto"
      ],
      "execution_count": 7,
      "outputs": []
    },
    {
      "cell_type": "code",
      "metadata": {
        "id": "kJtamEvGiXXJ"
      },
      "source": [
        "def genera_texto_npalabras(lista_palabras, n=1, tot_palabras = 100):\n",
        "  '''Devuelve un texto, utilizando ngramas de palabras\n",
        "\n",
        "  n es la cantidad de palabras que se toman en consideración para \n",
        "  generar la siguiente'''\n",
        "  \n",
        "  ngramas = {}\n",
        "  for i in range(len(lista_palabras) - n):\n",
        "    ng = ' '.join(lista_palabras[i:i+n])\n",
        "    if ng not in ngramas.keys():\n",
        "      ngramas[ng] = []\n",
        "    ngramas[ng].append(lista_palabras[i+n]) \n",
        "    \n",
        "  ngrama = np.random.choice(list(ngramas.keys()))\n",
        "  nuevo_texto = ngrama\n",
        "  \n",
        "  for i in range(tot_palabras):\n",
        "    if ngrama not in ngramas.keys():\n",
        "      break\n",
        "    siguiente_palabra = np.random.choice(ngramas[ngrama])\n",
        "    nuevo_texto += ' ' + siguiente_palabra\n",
        "    sec_palabras = nuevo_texto.split()\n",
        "    ngrama = ' '.join(sec_palabras[len(sec_palabras)-n:len(sec_palabras)])\n",
        "  return nuevo_texto"
      ],
      "execution_count": 8,
      "outputs": []
    },
    {
      "cell_type": "markdown",
      "metadata": {
        "id": "eRO54v3Rk7Zs"
      },
      "source": [
        "## Leer y prepocesar texto"
      ]
    },
    {
      "cell_type": "code",
      "metadata": {
        "id": "GteEzZIRNH3w",
        "colab": {
          "base_uri": "https://localhost:8080/",
          "height": 0
        },
        "outputId": "9c5eeea1-b250-4b73-cd0c-8dbebdb9156a"
      },
      "source": [
        "libro = leer_libro('/content/drive/MyDrive/Datos/gabriel_garcia_marquez_cien_annos_soledad.txt')\n",
        "libro[:400]"
      ],
      "execution_count": 9,
      "outputs": [
        {
          "output_type": "execute_result",
          "data": {
            "application/vnd.google.colaboratory.intrinsic+json": {
              "type": "string"
            },
            "text/plain": [
              "'Gabriel García Márquez Cien años de soledad EDITADO POR \"EDICIONES LA CUEVA\" Para J omi García Ascot y María Luisa Elio Cien años de soledad Gabriel García Márquez Muchos años después, frente al pelotón de fusilamiento, el coronel Aureliano Buendía había de recordar aquella tarde remota en que su padre lo llevó a conocer el hielo. Macondo era entonces una aldea de veinte casas de barro y cañabrava'"
            ]
          },
          "metadata": {},
          "execution_count": 9
        }
      ]
    },
    {
      "cell_type": "markdown",
      "metadata": {
        "id": "73ZL3uYFQ-T3"
      },
      "source": [
        "**Borrar nombre del autor y título del libro porque se repite muchas veces en el archivo**"
      ]
    },
    {
      "cell_type": "code",
      "metadata": {
        "id": "SIfWx3huarFt"
      },
      "source": [
        "borrar = ['Gabriel García Márquez', \n",
        "          'Cien años de soledad',\n",
        "          'EDITADO POR \"EDICIONES LA CUEVA\"',\n",
        "          'Para J omi García Ascot y María Luisa Elio']\n",
        "\n",
        "libro =  borrar_elementos(libro, borrar)"
      ],
      "execution_count": 10,
      "outputs": []
    },
    {
      "cell_type": "markdown",
      "metadata": {
        "id": "tGm_ZpviQ6ZF"
      },
      "source": [
        "**Convertir todas las letras a minúsculas, quitar signos de puntuación, quitar números y tildes**"
      ]
    },
    {
      "cell_type": "code",
      "metadata": {
        "id": "QoWgjTjpQjrq"
      },
      "source": [
        "libro_limpio = limpiar_texto(libro)"
      ],
      "execution_count": 11,
      "outputs": []
    },
    {
      "cell_type": "markdown",
      "metadata": {
        "id": "ditpbibQqwvL"
      },
      "source": [
        "# Distribución de probabilidad de caracteres en 100 años de soledad"
      ]
    },
    {
      "cell_type": "markdown",
      "metadata": {
        "id": "oif8uWYHO5g_"
      },
      "source": [
        "**Obtener diccionario con la frecuencia de ocurrencia de cada letra**"
      ]
    },
    {
      "cell_type": "code",
      "metadata": {
        "id": "x_0a45Iz_2VZ",
        "colab": {
          "base_uri": "https://localhost:8080/"
        },
        "outputId": "e7059cb0-39df-4ca2-81af-049e08a0c9bb"
      },
      "source": [
        "frec_caracteres = obtener_frecuencias(libro_limpio)\n",
        "print('Letras unicas: ', len(frec_caracteres))\n",
        "print('Total de letras en el libro', len(libro_limpio))\n",
        "print('\\nDiccionario con las frecuencia de ocurrencia ',\n",
        "      'de cada letra en el libro')\n",
        "frec_caracteres"
      ],
      "execution_count": 12,
      "outputs": [
        {
          "output_type": "stream",
          "name": "stdout",
          "text": [
            "Letras unicas:  28\n",
            "Total de letras en el libro 790050\n",
            "\n",
            "Diccionario con las frecuencia de ocurrencia  de cada letra en el libro\n"
          ]
        },
        {
          "output_type": "execute_result",
          "data": {
            "text/plain": [
              "Counter({' ': 137910,\n",
              "         'a': 88371,\n",
              "         'b': 11365,\n",
              "         'c': 26579,\n",
              "         'd': 34108,\n",
              "         'e': 82390,\n",
              "         'f': 4077,\n",
              "         'g': 6339,\n",
              "         'h': 5706,\n",
              "         'i': 41332,\n",
              "         'j': 3028,\n",
              "         'k': 23,\n",
              "         'l': 39053,\n",
              "         'm': 16998,\n",
              "         'n': 45758,\n",
              "         'o': 61997,\n",
              "         'p': 16547,\n",
              "         'q': 6770,\n",
              "         'r': 44875,\n",
              "         's': 45985,\n",
              "         't': 25090,\n",
              "         'u': 29390,\n",
              "         'v': 6878,\n",
              "         'w': 26,\n",
              "         'x': 662,\n",
              "         'y': 5094,\n",
              "         'z': 2536,\n",
              "         'ñ': 1163})"
            ]
          },
          "metadata": {},
          "execution_count": 12
        }
      ]
    },
    {
      "cell_type": "code",
      "metadata": {
        "id": "ySpszENvkX8v"
      },
      "source": [
        "# Guardamos en una lista los caracteres unicos \n",
        "caracteres = sorted(list(frec_caracteres.keys()))"
      ],
      "execution_count": 13,
      "outputs": []
    },
    {
      "cell_type": "markdown",
      "metadata": {
        "id": "XWnj1WZxUsMM"
      },
      "source": [
        "**Graficar espacio de probabilidad de cada letra**"
      ]
    },
    {
      "cell_type": "code",
      "metadata": {
        "id": "b8YsNZWF0rUs",
        "colab": {
          "base_uri": "https://localhost:8080/",
          "height": 281
        },
        "outputId": "45a934fa-b3fe-44a5-cbd6-3d2f77f3ab82"
      },
      "source": [
        "frec_relativa_dict = {k : v /len(libro_limpio) for k, v in frec_caracteres.items()}\n",
        "\n",
        "#Visualizar la distribución de probabilidad de las letras en 100 años de soledad\n",
        "lists = sorted(frec_relativa_dict.items(), \n",
        "               key=operator.itemgetter(1), \n",
        "               reverse=True)\n",
        "x, y = zip(*lists)\n",
        "\n",
        "plt.bar(x,y, color='darkgreen', alpha=0.5)\n",
        "plt.title('Espacio de probabilidad de las letras contenidas en Cien Años de Soledad')\n",
        "plt.show()"
      ],
      "execution_count": 14,
      "outputs": [
        {
          "output_type": "display_data",
          "data": {
            "image/png": "[encoded data removed]",
            "text/plain": [
              "<Figure size 432x288 with 1 Axes>"
            ]
          },
          "metadata": {
            "needs_background": "light"
          }
        }
      ]
    },
    {
      "cell_type": "code",
      "metadata": {
        "id": "SkAN4bs14k7x",
        "colab": {
          "base_uri": "https://localhost:8080/"
        },
        "outputId": "4a04afcf-17e8-4789-95b4-4614dbab2d87"
      },
      "source": [
        "#Sumamos la probabilidad de cada palabra\n",
        "round(sum(list(y)),2)"
      ],
      "execution_count": 15,
      "outputs": [
        {
          "output_type": "execute_result",
          "data": {
            "text/plain": [
              "1.0"
            ]
          },
          "metadata": {},
          "execution_count": 15
        }
      ]
    },
    {
      "cell_type": "code",
      "metadata": {
        "id": "7cxy9kS2j8eU"
      },
      "source": [
        "#guardar en archivo csv probabilidad de ocurrencia de cada letra\n",
        "Ley_Probabilidad_letras = pd.DataFrame({'caracter':frec_relativa_dict.keys(),\n",
        "                                        'probabilidad':frec_relativa_dict.values()})\n",
        "Ley_Probabilidad_letras=Ley_Probabilidad_letras.sort_values('caracter')\n",
        "Ley_Probabilidad_letras.to_csv('Ley_Probabilidad_caracteres_100años.csv', \n",
        "                               index=False)\n"
      ],
      "execution_count": 16,
      "outputs": []
    },
    {
      "cell_type": "markdown",
      "metadata": {
        "id": "foz5YEdWPRbz"
      },
      "source": [
        "## Generar texto eligiendo caracteres aleatoriamente condicionado por los n-caracteres anteriores\n"
      ]
    },
    {
      "cell_type": "markdown",
      "metadata": {
        "id": "utQOIcCjEyRE"
      },
      "source": [
        "- ORDEN 0. **Distribución uniforme de los caracteres**"
      ]
    },
    {
      "cell_type": "code",
      "metadata": {
        "colab": {
          "base_uri": "https://localhost:8080/",
          "height": 54
        },
        "id": "UjVK1RdiEwoZ",
        "outputId": "e0ce3f3b-b72e-4088-cf0c-fe6d88f055fb"
      },
      "source": [
        "\"\".join(np.random.choice(caracteres,200))  #utilizamos np.random.choice para hacer muestreo con reemplazo"
      ],
      "execution_count": 17,
      "outputs": [
        {
          "output_type": "execute_result",
          "data": {
            "application/vnd.google.colaboratory.intrinsic+json": {
              "type": "string"
            },
            "text/plain": [
              "'uqarwreñl otsu fifqxddactihkizrjwñoñrjjtbvcjstmir jmsezjkehxszvqimñvpwvuxkftlibmtsocrtzxxrlngwv wcfazhlu rscxthvziowmuqvcxz llxdrsnuqb tkeysyrddkvyqvpbtcu bkczqwsiuubyryabtaozf rtzrjblssibzkfeklxqlncd'"
            ]
          },
          "metadata": {},
          "execution_count": 17
        }
      ]
    },
    {
      "cell_type": "markdown",
      "metadata": {
        "id": "jN_nYcpEW7eT"
      },
      "source": [
        "- ORDEN 1. **Distribución de caracteres en el libro en 100 años de Soledad**"
      ]
    },
    {
      "cell_type": "code",
      "metadata": {
        "id": "2g9kGexpPhw1",
        "colab": {
          "base_uri": "https://localhost:8080/",
          "height": 54
        },
        "outputId": "c36deb1a-6c44-49c6-f78a-266a27a52ec0"
      },
      "source": [
        " \"\".join(random.sample(libro_limpio, 200))\n"
      ],
      "execution_count": 18,
      "outputs": [
        {
          "output_type": "execute_result",
          "data": {
            "application/vnd.google.colaboratory.intrinsic+json": {
              "type": "string"
            },
            "text/plain": [
              "'eouneaolnedlp scctnnltcede ruii aanoloairt  so oels ucd ml odbr ai na areorguactliasao   iemlesn ar ussb p  ssbelrouoao  acbn  oieeerc oce iroodp na  s   senesa ev aoasvuaina oieusaaaa d co sa isrt  c'"
            ]
          },
          "metadata": {},
          "execution_count": 18
        }
      ]
    },
    {
      "cell_type": "markdown",
      "metadata": {
        "id": "sKlVrNglRfL_"
      },
      "source": [
        "- ORDEN 2. **Distribución de caracteres condicionados con un caracter anterior**\n"
      ]
    },
    {
      "cell_type": "code",
      "metadata": {
        "id": "1B5cAP4RSNcv",
        "colab": {
          "base_uri": "https://localhost:8080/",
          "height": 54
        },
        "outputId": "128cbd25-50bc-41d6-981e-67f574ad65e7"
      },
      "source": [
        "genera_texto_nletras(libro_limpio, 1, 200)"
      ],
      "execution_count": 19,
      "outputs": [
        {
          "output_type": "execute_result",
          "data": {
            "application/vnd.google.colaboratory.intrinsic+json": {
              "type": "string"
            },
            "text/plain": [
              "'ban rmes ana suebyabren abrejar dalo pes a ma fl delerona cces lolado nto sexpono ces leradeicos sil pa l qurinto to ononcuntobrin da evatiema domintame pariesaguesusues pon ca am de asanas ra o e fuel'"
            ]
          },
          "metadata": {},
          "execution_count": 19
        }
      ]
    },
    {
      "cell_type": "markdown",
      "metadata": {
        "id": "3rpyey9TbepG"
      },
      "source": [
        "- ORDEN 3"
      ]
    },
    {
      "cell_type": "code",
      "metadata": {
        "id": "cNCiDShAmlWD",
        "colab": {
          "base_uri": "https://localhost:8080/",
          "height": 54
        },
        "outputId": "62867805-4650-42f2-b450-a2466a98ac32"
      },
      "source": [
        "genera_texto_nletras(libro_limpio, 2, 200)\n"
      ],
      "execution_count": 20,
      "outputs": [
        {
          "output_type": "execute_result",
          "data": {
            "application/vnd.google.colaboratory.intrinsic+json": {
              "type": "string"
            },
            "text/plain": [
              "'ar nos preo el diostes hos sabue aporoxilicamarla cora de fos caba se pria la inciemos alia untamisma na to urseceniano pretras en ad cio llespue nudigno de aco ancia a cutien ca men mucitorquernos parm'"
            ]
          },
          "metadata": {},
          "execution_count": 20
        }
      ]
    },
    {
      "cell_type": "markdown",
      "metadata": {
        "id": "B_YRAgDFXIzp"
      },
      "source": [
        "- ORDEN 4"
      ]
    },
    {
      "cell_type": "code",
      "metadata": {
        "id": "vF2XuIy-KL2R",
        "colab": {
          "base_uri": "https://localhost:8080/",
          "height": 54
        },
        "outputId": "fd2d7cae-871c-478d-e044-cd769ebd1cce"
      },
      "source": [
        "genera_texto_nletras(libro_limpio,3, 200)"
      ],
      "execution_count": 21,
      "outputs": [
        {
          "output_type": "execute_result",
          "data": {
            "application/vnd.google.colaboratory.intrinsic+json": {
              "type": "string"
            },
            "text/plain": [
              "'xicasar sus veces supliria fras que una casa encia de leto que arbon seis dandos alboras galones de con conocincontros y subilla sensaginarias de la bella celes y lo al presar res salaboras solo enagarri'"
            ]
          },
          "metadata": {},
          "execution_count": 21
        }
      ]
    },
    {
      "cell_type": "markdown",
      "metadata": {
        "id": "X6grWTf7XKtI"
      },
      "source": [
        "- ORDEN 5"
      ]
    },
    {
      "cell_type": "code",
      "metadata": {
        "id": "gPEZ0Z-3S4hM",
        "colab": {
          "base_uri": "https://localhost:8080/",
          "height": 54
        },
        "outputId": "ef91cd4e-56ae-422a-b9f1-1ba86287b045"
      },
      "source": [
        "genera_texto_nletras(libro_limpio,4, 200)"
      ],
      "execution_count": 22,
      "outputs": [
        {
          "output_type": "execute_result",
          "data": {
            "application/vnd.google.colaboratory.intrinsic+json": {
              "type": "string"
            },
            "text/plain": [
              "'vaportal nombrar igualdres midio la licios mas tan pasaba vistorso mas onces se en el de librantes de todas como un gruesas madre aurelian en el para porqueria y mana emocio la fundio sufria por los no en'"
            ]
          },
          "metadata": {},
          "execution_count": 22
        }
      ]
    },
    {
      "cell_type": "markdown",
      "metadata": {
        "id": "axYRirldtlz0"
      },
      "source": [
        "# Distribución de probabilidad de palabras en 100 años de soledad"
      ]
    },
    {
      "cell_type": "markdown",
      "metadata": {
        "id": "AUzsc0W7YvCa"
      },
      "source": [
        "**Obtener diccionario con la frecuencia de ocurrencia de cada letra**"
      ]
    },
    {
      "cell_type": "code",
      "metadata": {
        "id": "tx7D2fB1p71i",
        "colab": {
          "base_uri": "https://localhost:8080/"
        },
        "outputId": "fe264473-9cbf-4915-c7ca-f6caca031e33"
      },
      "source": [
        "palabras = libro_limpio.split()\n",
        "len(palabras)"
      ],
      "execution_count": 24,
      "outputs": [
        {
          "output_type": "execute_result",
          "data": {
            "text/plain": [
              "137909"
            ]
          },
          "metadata": {},
          "execution_count": 24
        }
      ]
    },
    {
      "cell_type": "code",
      "metadata": {
        "id": "uz5GBkUuTkPw",
        "colab": {
          "base_uri": "https://localhost:8080/"
        },
        "outputId": "bedb5428-0f9c-4405-b259-8f90848f67dd"
      },
      "source": [
        "frec_palabras = obtener_frecuencias(palabras)\n",
        "print('Palabras unicas: ', len(frec_palabras))\n",
        "print('Total de palabras en el libro', len(palabras))\n",
        "print('\\nDiccionario con las frecuencia de ocurrencia ',\n",
        "      'de cada palabra en el libro')\n",
        "frec_palabras.most_common(20)"
      ],
      "execution_count": 25,
      "outputs": [
        {
          "output_type": "stream",
          "name": "stdout",
          "text": [
            "Palabras unicas:  15506\n",
            "Total de palabras en el libro 137909\n",
            "\n",
            "Diccionario con las frecuencia de ocurrencia  de cada palabra en el libro\n"
          ]
        },
        {
          "output_type": "execute_result",
          "data": {
            "text/plain": [
              "[('de', 8695),\n",
              " ('la', 6116),\n",
              " ('que', 4794),\n",
              " ('el', 4380),\n",
              " ('y', 4148),\n",
              " ('en', 3893),\n",
              " ('a', 3165),\n",
              " ('los', 2377),\n",
              " ('se', 2167),\n",
              " ('con', 1987),\n",
              " ('un', 1786),\n",
              " ('las', 1535),\n",
              " ('una', 1505),\n",
              " ('no', 1471),\n",
              " ('por', 1469),\n",
              " ('su', 1448),\n",
              " ('le', 1175),\n",
              " ('del', 1148),\n",
              " ('para', 1020),\n",
              " ('lo', 898)]"
            ]
          },
          "metadata": {},
          "execution_count": 25
        }
      ]
    },
    {
      "cell_type": "code",
      "metadata": {
        "id": "DJvl3GJCHbbO"
      },
      "source": [
        "# Guardamos en una lista los palabras unicos \n",
        "palabras = sorted(list(frec_palabras.keys()))"
      ],
      "execution_count": 26,
      "outputs": []
    },
    {
      "cell_type": "markdown",
      "metadata": {
        "id": "1XvjctpOYezD"
      },
      "source": [
        "**Grafica de la probabilidad de ocurrencia de las principales palabras que aparecen en Cien años de soledad**"
      ]
    },
    {
      "cell_type": "code",
      "metadata": {
        "id": "Etv2uM-WYFQK"
      },
      "source": [
        "frec_relativa_palabra = {k : v /len(palabras) for k, v in frec_palabras.most_common(80)}\n",
        "\n",
        "lists = sorted(frec_relativa_palabra.items(), \n",
        "               key=operator.itemgetter(1), \n",
        "               reverse=True)\n",
        "x, y = zip(*lists)"
      ],
      "execution_count": 27,
      "outputs": []
    },
    {
      "cell_type": "code",
      "metadata": {
        "id": "k3KscgJ7ZO0T",
        "colab": {
          "base_uri": "https://localhost:8080/",
          "height": 384
        },
        "outputId": "7a2bb884-e621-41e1-f07f-58cf777361f9"
      },
      "source": [
        "fig = plt.figure(figsize=(15,5))\n",
        "plt.bar(x,y, \n",
        "        color='darkgreen',\n",
        "        alpha=0.5)\n",
        "plt.xticks(rotation=90, fontsize=12)\n",
        "plt.title('Probabilidad de ocurrencia de las palabras en Cien Años de Soledad')\n",
        "plt.show()"
      ],
      "execution_count": 28,
      "outputs": [
        {
          "output_type": "display_data",
          "data": {
            "image/png": "[encoded data removed]",
            "text/plain": [
              "<Figure size 1080x360 with 1 Axes>"
            ]
          },
          "metadata": {
            "needs_background": "light"
          }
        }
      ]
    },
    {
      "cell_type": "markdown",
      "metadata": {
        "id": "HH6uW6PscsSd"
      },
      "source": [
        "## Generar texto eligiendo palabras aleatoriamente condicionadas por las n-palabras anteriores"
      ]
    },
    {
      "cell_type": "markdown",
      "metadata": {
        "id": "58uKE79-Pzdx"
      },
      "source": [
        "- Orden 0"
      ]
    },
    {
      "cell_type": "code",
      "metadata": {
        "id": "ZE7Hhw0WP1eP",
        "colab": {
          "base_uri": "https://localhost:8080/",
          "height": 146
        },
        "outputId": "fbedb668-5f6d-429f-9ada-f65f274ce973"
      },
      "source": [
        "' '.join(np.random.choice(palabras,100))  #distribución uniforme"
      ],
      "execution_count": 30,
      "outputs": [
        {
          "output_type": "execute_result",
          "data": {
            "application/vnd.google.colaboratory.intrinsic+json": {
              "type": "string"
            },
            "text/plain": [
              "'español renegrida no derrotada nivele lana atraer quebranto recordaria desvinculacion ocuparse potente redonda pulverizados rosal exprimieron tercera adheridos setenta diametro mampolon anticipada interpretar cañones recobrar apuntando iniciada crian frivolo inquieto impertinencia malvado trazado plantacion culmino patria viajaba centimetros presos ultimos indefinible preparar cura secretos alfonso prendieron mandan afectado hormigas prepararon rogaban campanas incapacitada utensilios emplazadas gritar reproche internacional mosquitos gorda milenario terrazas merecer tejer enrollar amuleto tomos casos franqueada colonial progresos lentas languidez tierno pollo correos epoca reconciliacion proclamada caudillos poblada aliento leña amordazados proceder caprichosa angosto petronio recondita luces lluvias longitud talizada erizaba contestaban resquebrajado canarios dolian corrupcion nosotras'"
            ]
          },
          "metadata": {},
          "execution_count": 30
        }
      ]
    },
    {
      "cell_type": "markdown",
      "metadata": {
        "id": "wUflgtaZc-RD"
      },
      "source": [
        "- Orden 1"
      ]
    },
    {
      "cell_type": "code",
      "metadata": {
        "id": "mV9MmqGyXu6M",
        "colab": {
          "base_uri": "https://localhost:8080/",
          "height": 110
        },
        "outputId": "e25691c6-b476-4af9-f491-9fddd5c9b8bd"
      },
      "source": [
        "' '.join(random.sample(libro_limpio.split(),100))    #Distribución en el libro"
      ],
      "execution_count": 32,
      "outputs": [
        {
          "output_type": "execute_result",
          "data": {
            "application/vnd.google.colaboratory.intrinsic+json": {
              "type": "string"
            },
            "text/plain": [
              "'otras se que y y acaso drasticas pesar ultimas habia para al tambien en hay al ganaban apoyada jugar tomaba de se hacerlo un la mismo sostenia no es raras habian pincho entusiastas los cuando asignado llamara largo no entendia que buscando a que y aspiraciones la cuarto informarse olan morir andaba en las su tuvo por humor derrotado noticia colindaban misma la dijo nada de asustado muerte en atencion hubiera unanime crepusculo estaba se un revoloteaban ursula sus antropofagos y a no años colgaban no mala preciosista dejo viviendo sobre que una interminable suspendio de de hasta adquirio los'"
            ]
          },
          "metadata": {},
          "execution_count": 32
        }
      ]
    },
    {
      "cell_type": "markdown",
      "metadata": {
        "id": "zq4UYKjqc9Wb"
      },
      "source": [
        "- Orden 2"
      ]
    },
    {
      "cell_type": "code",
      "metadata": {
        "id": "gsQEaHpsl6Np",
        "colab": {
          "base_uri": "https://localhost:8080/",
          "height": 110
        },
        "outputId": "41063c14-d430-4d4e-e436-ebb44430b79e"
      },
      "source": [
        "genera_texto_npalabras(libro_limpio.split(), 1, 100)  #Distribución condicionada a la palabra anterior"
      ],
      "execution_count": 33,
      "outputs": [
        {
          "output_type": "execute_result",
          "data": {
            "application/vnd.google.colaboratory.intrinsic+json": {
              "type": "string"
            },
            "text/plain": [
              "'reconstruccion habian fundado la imaginacion poco se zambulleron en el peso natural dijo meme con la calle era melquiades aquel dia se quedo reducida a rastras a disposicion preciosista de los telegramas recibidos con las tardes iban abriendo a una burla y tuvo que se acusaba intimamente en que en el llanto secreto era tu mujer lo persuadio de muertos que las ultimas estrellas diurnas que su padre mientras orinaba trato de verlo al cansancio y las de veinte de que habia pedido que tuvo conciencia de anunciarse con su padre estaba dejando alli por un niño tambien el se fuera'"
            ]
          },
          "metadata": {},
          "execution_count": 33
        }
      ]
    },
    {
      "cell_type": "markdown",
      "metadata": {
        "id": "UOvU9OQLmYnp"
      },
      "source": [
        "- Orden 3"
      ]
    },
    {
      "cell_type": "code",
      "metadata": {
        "id": "I5yBma_ImYyu",
        "colab": {
          "base_uri": "https://localhost:8080/",
          "height": 110
        },
        "outputId": "8fc8c863-41b1-4a8d-ae81-242d89e359ce"
      },
      "source": [
        "genera_texto_npalabras(libro_limpio.split(), 2, 100)  # Distribución condicionada a las dos palabras anteriores"
      ],
      "execution_count": 34,
      "outputs": [
        {
          "output_type": "execute_result",
          "data": {
            "application/vnd.google.colaboratory.intrinsic+json": {
              "type": "string"
            },
            "text/plain": [
              "'no sentia deslizarse en el album familiar siguio buscando por supuesto crespi dijo pero menos transitorio y comprensible dotados de recursos para el amor un comun remordimiento de conciencia aquella entrevista le infundio a meme a casa de petra cotes sin perder la vista del primer levantamiento armado del coronel aureliano buendia ponto los zapatos viendolo montar picaportes y desconectar relojes fernanda se molestara para amarlo sin lastimarlo lograron tal estado de exaltacion sin alivio estuvieron a punto de ocasionar una tragedia entre los recien llegados que no le importaba cada vez menos frecuentes al atardecer y se dio cuenta sin embargo'"
            ]
          },
          "metadata": {},
          "execution_count": 34
        }
      ]
    },
    {
      "cell_type": "markdown",
      "metadata": {
        "id": "C8uI8s3Xwy2z"
      },
      "source": [
        "- Orden 4"
      ]
    },
    {
      "cell_type": "code",
      "metadata": {
        "id": "6oxFV7MmmhxK",
        "colab": {
          "base_uri": "https://localhost:8080/",
          "height": 110
        },
        "outputId": "b3f52cf4-0e21-463a-9108-3aebd80ebe38"
      },
      "source": [
        "genera_texto_npalabras(libro_limpio.split(), 3, 100)"
      ],
      "execution_count": 35,
      "outputs": [
        {
          "output_type": "execute_result",
          "data": {
            "application/vnd.google.colaboratory.intrinsic+json": {
              "type": "string"
            },
            "text/plain": [
              "'no con el olvido remediable del corazon sino con otro olvido mas cruel e irrevocable que el conocia muy bien porque habia destrozado en pocas horas raspando el comejen pero cuando vio que amaranta ursula estaba en el mundo mientras ella se consumia tejiendo coronas de palmas funebres la encontro saqueada quedaban apenas los muebles indispensables los candelabros y el servicio de plata y gualdrapas de terciopelo y el damasco del baldaquin de la cama amarro el plumero y la almohadilla del papel secante en la pata de una mesa convencido de que aquella historia no habia sido mas que una triquiñuela para'"
            ]
          },
          "metadata": {},
          "execution_count": 35
        }
      ]
    },
    {
      "cell_type": "markdown",
      "metadata": {
        "id": "pjXnUM_Pw2kY"
      },
      "source": [
        "- Orden 5"
      ]
    },
    {
      "cell_type": "code",
      "metadata": {
        "id": "nOmQZT7-n40A",
        "colab": {
          "base_uri": "https://localhost:8080/",
          "height": 110
        },
        "outputId": "c174b471-9e01-4946-b9b4-7bec270b9a4f"
      },
      "source": [
        "genera_texto_npalabras(libro_limpio.split(), 4, 100)"
      ],
      "execution_count": 36,
      "outputs": [
        {
          "output_type": "execute_result",
          "data": {
            "application/vnd.google.colaboratory.intrinsic+json": {
              "type": "string"
            },
            "text/plain": [
              "'la adolescencia le habia quitada la dulzura de la voz y la habia vuelta silencioso y definitivamente solitario pero en cambio le habia restituido la expresion intensa que tuvo en los ajos al nacer estaba tan concentrado en sus experimentos de plateria que apenas si abandonaba el taller para orinar bajo el castaño no recibia mas visitas que las del peluquero cada tres semanas se alimentaba de cualquier cosa que le llevaba ursula una vez al dia y aunque seguia fabricando pescaditos de oro con la del guerrero mitico que habia interpuesto entre el y el resto de la humanidad una distancia de tres'"
            ]
          },
          "metadata": {},
          "execution_count": 36
        }
      ]
    }
  ]
}