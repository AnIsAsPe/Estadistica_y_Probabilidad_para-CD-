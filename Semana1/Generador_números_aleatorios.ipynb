{
  "nbformat": 4,
  "nbformat_minor": 0,
  "metadata": {
    "colab": {
      "name": "Generador números aleatorios.ipynb",
      "provenance": [],
      "authorship_tag": "ABX9TyN4Dqx0wGuum5Xbbm+6AyTL"
    },
    "kernelspec": {
      "name": "python3",
      "display_name": "Python 3"
    }
  },
  "cells": [
    {
      "cell_type": "markdown",
      "metadata": {
        "id": "EuwhqWjpFpjM"
      },
      "source": [
        "# Generador de (pseudo) números aleatorios mediante el algoritmo de congruencia lineal (GCL) y transformación Box-Muller\n",
        "\n",
        "\n",
        "\n"
      ]
    },
    {
      "cell_type": "code",
      "metadata": {
        "id": "yATtWg4_kBuC"
      },
      "source": [
        "\n",
        "import numpy as np\n",
        "from numpy import sqrt, log, sin, cos, pi\n",
        "\n",
        "import seaborn as sns\n",
        "import matplotlib.pyplot as plt"
      ],
      "execution_count": null,
      "outputs": []
    },
    {
      "cell_type": "markdown",
      "metadata": {
        "id": "F2Fr_VtV75W7"
      },
      "source": [
        "## 1. Generador Congruencia Lineal\n",
        "\n",
        "$X_{n+1} = (aX_n + b)\\bmod c$\n",
        "\n",
        "donde $ a $ (el multiplicador),  $ b $  (el incremento) y $ c $  (módulo) son parámetros enteros del generador fijados de antemano."
      ]
    },
    {
      "cell_type": "code",
      "metadata": {
        "id": "_baN8Pe5YlH3"
      },
      "source": [
        "def genera_aleatorios(a =  1, b = 7, \n",
        "                      m = 10):\n",
        "  ''' Genera números aleatorios mediante el algoritmo de congruencia lineal\n",
        "  a, es el multiplicador\n",
        "  b, es el incremento \n",
        "  c, es el módulo\n",
        "  '''\n",
        "  genera_aleatorios.X = (a*genera_aleatorios.X + b) % m\n",
        "  return genera_aleatorios.X "
      ],
      "execution_count": null,
      "outputs": []
    },
    {
      "cell_type": "markdown",
      "metadata": {
        "id": "ECSf8ApvZ_1m"
      },
      "source": [
        "###¿Cuántos números se generan antes de que se repita la secuencia?\n",
        "###¿Cada numero de la serie generada es independiente de los otros?\n",
        "¿qué relación tiene con el valor de los parámetros a, b y m?"
      ]
    },
    {
      "cell_type": "code",
      "metadata": {
        "id": "CsUxXIRgZasz",
        "colab": {
          "base_uri": "https://localhost:8080/",
          "height": 34
        },
        "outputId": "cad4c15e-baee-46cd-b00e-ec137e411176"
      },
      "source": [
        "genera_aleatorios.X = 4\n",
        "\n",
        "n = 20\n",
        "datos = [genera_aleatorios() for i in range(n)]\n",
        "datos"
      ],
      "execution_count": null,
      "outputs": [
        {
          "output_type": "execute_result",
          "data": {
            "text/plain": [
              "[1, 8, 5, 2, 9, 6, 3, 0, 7, 4, 1, 8, 5, 2, 9, 6, 3, 0, 7, 4]"
            ]
          },
          "metadata": {
            "tags": []
          },
          "execution_count": 18
        }
      ]
    },
    {
      "cell_type": "markdown",
      "metadata": {
        "id": "xATB4LgDac-O"
      },
      "source": [
        "No es trivial la elección de parámetros.\n",
        "\n",
        "Se deben asegurar ciclos muy largos y que no existan autocorrelación en los datos.\n",
        "\n",
        "La longitud de un ciclo tiene como tope m, pero puede ser menor en base a la eleccion de a y b"
      ]
    },
    {
      "cell_type": "code",
      "metadata": {
        "id": "TUMkuoEoWopl"
      },
      "source": [
        "def genera_aleatorios(a =  1103515245, b = 12345, \n",
        "                      m = (2**32)):\n",
        "  ''' Genera números aleatorios mediante el algoritmo de congruencia lineal\n",
        "  a, es el multiplicador\n",
        "  b, es el incremento \n",
        "  c, es el módulo\n",
        "\n",
        "  por defecto a, b y c se han elegido de manera que satisfacen el Teorema\n",
        "  Hull-Dobell, según el cual este algoritmo tendra un periodo completo, \n",
        "  igual a m, para cualquier semillas elegida, si y solo si:\n",
        "  b y m son primos relativos\n",
        "  a-1 es divisible por todos los factores primos de m\n",
        "  a-1 es multiplo de 4 si m es multiplo de 4\n",
        "  '''\n",
        "  genera_aleatorios.X = (a*genera_aleatorios.X + b) % m\n",
        "\n",
        "  return genera_aleatorios.X / m\n",
        "   \n"
      ],
      "execution_count": null,
      "outputs": []
    },
    {
      "cell_type": "code",
      "metadata": {
        "id": "BimHSJN1UqIH",
        "colab": {
          "base_uri": "https://localhost:8080/",
          "height": 278
        },
        "outputId": "ebd3146c-0969-44dc-e858-8f12856c4dee"
      },
      "source": [
        "#genera_aleatorios.X = .5  #cualquier número entero mayor que 0\n",
        "genera_aleatorios.X = 8\n",
        "\n",
        "n = 10000000\n",
        "var = [genera_aleatorios() for i in range(n)]\n",
        "\n",
        "gr1=sns.distplot(var, bins=100, kde=True, color='skyblue', \n",
        "                 hist_kws={'linewidth':15,'alpha':1})\n",
        "gr1.set(xlabel='Distribución Uniforme', ylabel='Frecuencia')\n",
        "plt.show()"
      ],
      "execution_count": null,
      "outputs": [
        {
          "output_type": "display_data",
          "data": {
            "image/png": "[encoded data removed]",
            "text/plain": [
              "<Figure size 432x288 with 1 Axes>"
            ]
          },
          "metadata": {
            "tags": [],
            "needs_background": "light"
          }
        }
      ]
    },
    {
      "cell_type": "markdown",
      "metadata": {
        "id": "BSgHnlLujImH"
      },
      "source": [
        "## 2. Transformación Box - Muller\n",
        "\n",
        "\n",
        ">>>$x = r\\cos(\\theta) =  \\sqrt{-2ln(x_1)}\\cos(2\\pi x_2)$\n",
        "\n",
        "\n",
        ">>>$y =  r\\sin(\\theta) =\\sqrt{-2ln(x_1)}\\sin(2\\pi x_2)$\n",
        "\n",
        "[Diagrama ilustrativo de la relación entre las cordenadas plares y las cartesianas de Wikipedia](https://es.wikipedia.org/wiki/Coordenadas_polares#/media/Archivo:Polar_to_cartesian.svg)"
      ]
    },
    {
      "cell_type": "code",
      "metadata": {
        "id": "zzxYTUgz5jD-"
      },
      "source": [
        "def transformacion_gaussiana(u1,u2):\n",
        "  ''' función para transformar dos variables independientes\n",
        "   con valores entre 0 y 1 con distribución uniforme, a dos variables \n",
        "   independientes con distribución gaussiana, utilizando la transformación\n",
        "   Box-Muller'''\n",
        "\n",
        "  r = sqrt(-2*log(u1))\n",
        "  theta = 2*pi*u2\n",
        "  \n",
        "  x = r * cos(theta)\n",
        "  y = r * sin(theta)\n",
        "\n",
        "  return x, y"
      ],
      "execution_count": null,
      "outputs": []
    },
    {
      "cell_type": "code",
      "metadata": {
        "id": "9kNGYo_Dk5RK",
        "colab": {
          "base_uri": "https://localhost:8080/",
          "height": 476
        },
        "outputId": "84a00ef3-da36-4bac-a13b-cae767dfaa63"
      },
      "source": [
        "n = 1000\n",
        "\n",
        "var_u1 = np.array([genera_aleatorios() for i in range(n)])\n",
        "var_u2 = np.array([genera_aleatorios() for i in range(n)])\n",
        "\n",
        "\n",
        "x, y, r, theta = transformacion_gaussiana(var_u1, var_u2)\n",
        "\n",
        "print('La media de x es {0:.2f},'\\\n",
        "      ' y la desviación estándar es: {1:.2f}'.format(x.mean(), x.std()))\n",
        "print('La media de y es {0:.2f},'\\\n",
        "      ' y la desviación estándar es: {1:.2f}'.format(y.mean(), y.std()))\n",
        "\n",
        "sns.jointplot(x, y, kind = 'scatter', color = 'darkcyan', s = 2 )\n",
        "plt.show()"
      ],
      "execution_count": null,
      "outputs": [
        {
          "output_type": "stream",
          "text": [
            "La media de x es 0.00, y la desviación estándar es: 1.02\n",
            "La media de y es 0.04, y la desviación estándar es: 1.03\n"
          ],
          "name": "stdout"
        },
        {
          "output_type": "display_data",
          "data": {
            "image/png": "[encoded data removed]",
            "text/plain": [
              "<Figure size 432x432 with 3 Axes>"
            ]
          },
          "metadata": {
            "tags": [],
            "needs_background": "light"
          }
        }
      ]
    }
  ]
}