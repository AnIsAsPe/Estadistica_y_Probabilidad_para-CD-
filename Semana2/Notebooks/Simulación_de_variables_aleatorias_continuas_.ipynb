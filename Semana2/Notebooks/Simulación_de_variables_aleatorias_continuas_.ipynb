{
  "nbformat": 4,
  "nbformat_minor": 0,
  "metadata": {
    "colab": {
      "name": "Simulación de variables aleatorias continuas.ipynb",
      "provenance": [],
      "toc_visible": true,
      "authorship_tag": "ABX9TyMInUkJO0KNF/Dnah6Ts4vq",
      "include_colab_link": true
    },
    "kernelspec": {
      "name": "python3",
      "display_name": "Python 3"
    },
    "language_info": {
      "name": "python"
    }
  },
  "cells": [
    {
      "cell_type": "markdown",
      "metadata": {
        "id": "view-in-github",
        "colab_type": "text"
      },
      "source": [
        "<a href=\"https://colab.research.google.com/github/AnIsAsPe/Estadistica_y_Probabilidad_para-CD-/blob/main/Semana2/Simulaci%C3%B3n_de_variables_aleatorias_continuas_.ipynb\" target=\"_parent\"><img src=\"https://colab.research.google.com/assets/colab-badge.svg\" alt=\"Open In Colab\"/></a>"
      ]
    },
    {
      "cell_type": "code",
      "metadata": {
        "id": "11LmuROzUBX8"
      },
      "source": [
        "import numpy as np\n",
        "from scipy.stats import kurtosis\n",
        "import matplotlib.pyplot as plt\n",
        "import seaborn as sns"
      ],
      "execution_count": 1,
      "outputs": []
    },
    {
      "cell_type": "markdown",
      "metadata": {
        "id": "YVlwfp9Jg1jJ"
      },
      "source": [
        "# Simulación uniforme"
      ]
    },
    {
      "cell_type": "code",
      "metadata": {
        "colab": {
          "base_uri": "https://localhost:8080/",
          "height": 264
        },
        "id": "AxI05wkOg1jQ",
        "outputId": "bcffaa7a-2fbf-43ec-d2cb-d6f773bb63a6"
      },
      "source": [
        "# generación de una muestra aleatoria con distribución de la place\n",
        "a, b = 0., 1.\n",
        "n = 10000\n",
        "s = np.random.uniform(a, b, n)\n",
        "# plt.hist( s, bins=30,  density=True)\n",
        "sns.histplot( x = np.array(s), bins=100,   stat ='probability' )\n",
        "plt.show()"
      ],
      "execution_count": 2,
      "outputs": [
        {
          "output_type": "display_data",
          "data": {
            "image/png": "[encoded data removed]",
            "text/plain": [
              "<Figure size 432x288 with 1 Axes>"
            ]
          },
          "metadata": {
            "needs_background": "light"
          }
        }
      ]
    },
    {
      "cell_type": "code",
      "metadata": {
        "colab": {
          "base_uri": "https://localhost:8080/"
        },
        "id": "O2TIY1A5hUf1",
        "outputId": "fe384294-2fb3-4fef-971b-a4f91bce35eb"
      },
      "source": [
        "9/5  #Curtosis de Pearson de una distribución uniforme"
      ],
      "execution_count": 3,
      "outputs": [
        {
          "output_type": "execute_result",
          "data": {
            "text/plain": [
              "1.8"
            ]
          },
          "metadata": {},
          "execution_count": 3
        }
      ]
    },
    {
      "cell_type": "code",
      "metadata": {
        "colab": {
          "base_uri": "https://localhost:8080/"
        },
        "id": "IL7CosPjg1jQ",
        "outputId": "6672b22a-cbb6-4380-e5d5-2babe2ab17a5"
      },
      "source": [
        "kurtosis(s,fisher=False ) # -3"
      ],
      "execution_count": 4,
      "outputs": [
        {
          "output_type": "execute_result",
          "data": {
            "text/plain": [
              "1.8139230368430574"
            ]
          },
          "metadata": {},
          "execution_count": 4
        }
      ]
    },
    {
      "cell_type": "code",
      "source": [
        "kurtosis(s,fisher=True)  "
      ],
      "metadata": {
        "id": "YN6yqg6JnqFg",
        "outputId": "caf953c3-94a4-4a40-fb0e-3edfced27780",
        "colab": {
          "base_uri": "https://localhost:8080/"
        }
      },
      "execution_count": 5,
      "outputs": [
        {
          "output_type": "execute_result",
          "data": {
            "text/plain": [
              "-1.1860769631569426"
            ]
          },
          "metadata": {},
          "execution_count": 5
        }
      ]
    },
    {
      "cell_type": "markdown",
      "metadata": {
        "id": "tPHxKBatg1jQ"
      },
      "source": [
        "## Distribución de probabilidad uniforme\n",
        "\n",
        "$p(x)= \\frac{1}{b-a}$"
      ]
    },
    {
      "cell_type": "code",
      "metadata": {
        "colab": {
          "base_uri": "https://localhost:8080/",
          "height": 268
        },
        "id": "S7MtqyuAjnXm",
        "outputId": "333f5f09-6538-42e3-8e18-8882a6bb1eb6"
      },
      "source": [
        "plt.hist( s, bins=30, density=True)   # distribución de la muestra\n",
        "plt.hlines(1/(b-a), xmin=a, xmax=b, color='orange')    # distribución teórica\n",
        "plt.show()"
      ],
      "execution_count": 6,
      "outputs": [
        {
          "output_type": "display_data",
          "data": {
            "image/png": "[encoded data removed]",
            "text/plain": [
              "<Figure size 432x288 with 1 Axes>"
            ]
          },
          "metadata": {
            "needs_background": "light"
          }
        }
      ]
    },
    {
      "cell_type": "markdown",
      "metadata": {
        "id": "u6iYpdxCajT4"
      },
      "source": [
        "# Simulación gaussiana"
      ]
    },
    {
      "cell_type": "code",
      "metadata": {
        "colab": {
          "base_uri": "https://localhost:8080/",
          "height": 264
        },
        "id": "T8j6kaMZajUC",
        "outputId": "1090ae1a-592c-401c-8e0a-1242ba67533c"
      },
      "source": [
        "# generación de una muestra aleatoria con distribución normal\n",
        "mu, sigma = 0., 1.\n",
        "s = np.random.normal(mu, sigma, 10000)\n",
        "plt.hist( s, bins=100,  density=True)\n",
        "plt.show()"
      ],
      "execution_count": 7,
      "outputs": [
        {
          "output_type": "display_data",
          "data": {
            "image/png": "[encoded data removed]",
            "text/plain": [
              "<Figure size 432x288 with 1 Axes>"
            ]
          },
          "metadata": {
            "needs_background": "light"
          }
        }
      ]
    },
    {
      "cell_type": "code",
      "metadata": {
        "colab": {
          "base_uri": "https://localhost:8080/"
        },
        "id": "gE6qqSh3fS32",
        "outputId": "da3e77ae-9d76-445d-87a8-2a9e2caa94f6"
      },
      "source": [
        "# Curtosis de la distribución normal = 3\n",
        "kurtosis(s, fisher=False)"
      ],
      "execution_count": 8,
      "outputs": [
        {
          "output_type": "execute_result",
          "data": {
            "text/plain": [
              "3.0044106278232854"
            ]
          },
          "metadata": {},
          "execution_count": 8
        }
      ]
    },
    {
      "cell_type": "markdown",
      "metadata": {
        "id": "tMKjegqdajUC"
      },
      "source": [
        "## Distribución de probabilidad gaussiana\n",
        "\n",
        "Probability density function (pdf)\n",
        "\n",
        "$f(x)= \\frac{1}{\\sqrt{2\\pi\\sigma^2}}e^{-\\frac{(x-\\mu)^2}{2\\sigma^2}} $"
      ]
    },
    {
      "cell_type": "code",
      "metadata": {
        "colab": {
          "base_uri": "https://localhost:8080/",
          "height": 264
        },
        "id": "bFn6YfpUajUC",
        "outputId": "0d7804bb-dec2-4cfb-a737-008fc6f94903"
      },
      "source": [
        "x = np.arange(-3., 3., .01)\n",
        "pdf = 1/(sigma * np.sqrt(2 * np.pi)) *np.exp( - (x - mu)**2 / (2 * sigma**2) )  # función de la distribución de probabilidad de gauss\n",
        "plt.plot(x, pdf)\n",
        "plt.show()"
      ],
      "execution_count": 9,
      "outputs": [
        {
          "output_type": "display_data",
          "data": {
            "image/png": "[encoded data removed]",
            "text/plain": [
              "<Figure size 432x288 with 1 Axes>"
            ]
          },
          "metadata": {
            "needs_background": "light"
          }
        }
      ]
    },
    {
      "cell_type": "code",
      "metadata": {
        "colab": {
          "base_uri": "https://localhost:8080/",
          "height": 264
        },
        "id": "S0d7EwISajUD",
        "outputId": "8e03dcd8-7f76-4722-fe9b-765d0e7c1c61"
      },
      "source": [
        "plt.hist( s, bins=100, density=True)\n",
        "plt.plot(x, pdf)\n",
        "plt.show()"
      ],
      "execution_count": 10,
      "outputs": [
        {
          "output_type": "display_data",
          "data": {
            "image/png": "[encoded data removed]",
            "text/plain": [
              "<Figure size 432x288 with 1 Axes>"
            ]
          },
          "metadata": {
            "needs_background": "light"
          }
        }
      ]
    },
    {
      "cell_type": "markdown",
      "metadata": {
        "id": "NT-LD8UaaAAP"
      },
      "source": [
        "# Simulación Laplace"
      ]
    },
    {
      "cell_type": "code",
      "metadata": {
        "colab": {
          "base_uri": "https://localhost:8080/",
          "height": 283
        },
        "id": "BdfZ5k9YUK_W",
        "outputId": "db904cb7-6154-40b0-b257-861f31b254f3"
      },
      "source": [
        "# generación de una muestra aleatoria con distribución de Laplace\n",
        "loc, scale = 0., 1\n",
        "s = np.random.laplace(loc, scale, 10000)\n",
        "plt.hist( s, bins=30,  density=True)\n",
        "plt.show()\n",
        "print('Curtosis:', kurtosis(s, fisher=False))"
      ],
      "execution_count": 11,
      "outputs": [
        {
          "output_type": "display_data",
          "data": {
            "image/png": "[encoded data removed]",
            "text/plain": [
              "<Figure size 432x288 with 1 Axes>"
            ]
          },
          "metadata": {
            "needs_background": "light"
          }
        },
        {
          "output_type": "stream",
          "name": "stdout",
          "text": [
            "Curtosis: 6.6903548402382595\n"
          ]
        }
      ]
    },
    {
      "cell_type": "markdown",
      "metadata": {
        "id": "Ax8vnTwbWRhd"
      },
      "source": [
        "## Distribución de probabilidad de Laplace\n",
        "\n",
        "$f(x;\\mu,\\lambda)= \\frac{1}{2\\lambda}\\exp({-\\frac{\\lvert{x-\\mu}\\rvert}{\\lambda}}) $"
      ]
    },
    {
      "cell_type": "code",
      "metadata": {
        "colab": {
          "base_uri": "https://localhost:8080/",
          "height": 264
        },
        "id": "4HOr-GGJVQqP",
        "outputId": "a9f5e831-11b4-40ae-ab58-3f6df8970bcd"
      },
      "source": [
        "x = np.arange(-8., 8., .01)\n",
        "pdf = np.exp(-abs(x-loc)/scale)/(2.*scale)  # función de la distribución de probabilidad de laplace\n",
        "plt.plot(x, pdf)\n",
        "plt.show()"
      ],
      "execution_count": 12,
      "outputs": [
        {
          "output_type": "display_data",
          "data": {
            "image/png": "[encoded data removed]",
            "text/plain": [
              "<Figure size 432x288 with 1 Axes>"
            ]
          },
          "metadata": {
            "needs_background": "light"
          }
        }
      ]
    },
    {
      "cell_type": "code",
      "metadata": {
        "colab": {
          "base_uri": "https://localhost:8080/",
          "height": 264
        },
        "id": "O3bk3r7-Voq-",
        "outputId": "153dbe55-e141-4a62-ac6c-55a5f3b63cc0"
      },
      "source": [
        "plt.hist( s, bins=30, density=True)\n",
        "plt.plot(x, pdf)\n",
        "plt.show()"
      ],
      "execution_count": 13,
      "outputs": [
        {
          "output_type": "display_data",
          "data": {
            "image/png": "[encoded data removed]",
            "text/plain": [
              "<Figure size 432x288 with 1 Axes>"
            ]
          },
          "metadata": {
            "needs_background": "light"
          }
        }
      ]
    }
  ]
}
