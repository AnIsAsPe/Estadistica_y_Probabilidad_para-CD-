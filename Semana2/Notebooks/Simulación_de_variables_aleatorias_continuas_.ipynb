{
  "nbformat": 4,
  "nbformat_minor": 0,
  "metadata": {
    "colab": {
      "name": "Simulación de variables aleatorias continuas.ipynb",
      "provenance": [],
      "toc_visible": true,
      "authorship_tag": "ABX9TyOAqSrlVYHIbU9ju93SBt1N",
      "include_colab_link": true
    },
    "kernelspec": {
      "name": "python3",
      "display_name": "Python 3"
    },
    "language_info": {
      "name": "python"
    }
  },
  "cells": [
    {
      "cell_type": "markdown",
      "metadata": {
        "id": "view-in-github",
        "colab_type": "text"
      },
      "source": [
        "<a href=\"https://colab.research.google.com/github/AnIsAsPe/Estadistica_y_Probabilidad_para-CD-/blob/main/Semana2/Notebooks/Simulaci%C3%B3n_de_variables_aleatorias_continuas_.ipynb\" target=\"_parent\"><img src=\"https://colab.research.google.com/assets/colab-badge.svg\" alt=\"Open In Colab\"/></a>"
      ]
    },
    {
      "cell_type": "code",
      "metadata": {
        "id": "11LmuROzUBX8"
      },
      "source": [
        "import numpy as np\n",
        "from scipy.stats import kurtosis, skew\n",
        "from scipy.stats import levy_stable , norm, cauchy, levy\n",
        "import matplotlib.pyplot as plt\n",
        "import seaborn as sns"
      ],
      "execution_count": 34,
      "outputs": []
    },
    {
      "cell_type": "markdown",
      "metadata": {
        "id": "YVlwfp9Jg1jJ"
      },
      "source": [
        "# Simulación uniforme"
      ]
    },
    {
      "cell_type": "code",
      "metadata": {
        "colab": {
          "base_uri": "https://localhost:8080/",
          "height": 265
        },
        "id": "AxI05wkOg1jQ",
        "outputId": "9329157d-0862-4c0e-d420-d6d0d264bd05"
      },
      "source": [
        "# generación de una muestra aleatoria con distribución de la place\n",
        "a, b = 0., 1.\n",
        "n = 10000\n",
        "s = np.random.uniform(a, b, n)\n",
        "# plt.hist( s, bins=30,  density=True)\n",
        "sns.histplot( x = np.array(s), bins=100,   stat ='probability' )\n",
        "plt.show()"
      ],
      "execution_count": 2,
      "outputs": [
        {
          "output_type": "display_data",
          "data": {
            "text/plain": [
              "<Figure size 432x288 with 1 Axes>"
            ],
            "image/png": "[encoded data removed]"
          },
          "metadata": {
            "needs_background": "light"
          }
        }
      ]
    },
    {
      "cell_type": "code",
      "metadata": {
        "colab": {
          "base_uri": "https://localhost:8080/"
        },
        "id": "O2TIY1A5hUf1",
        "outputId": "de5bcaeb-8b52-47b2-b78b-77e4c2bc9608"
      },
      "source": [
        "9/5  #Curtosis de Pearson de una distribución uniforme"
      ],
      "execution_count": 3,
      "outputs": [
        {
          "output_type": "execute_result",
          "data": {
            "text/plain": [
              "1.8"
            ]
          },
          "metadata": {},
          "execution_count": 3
        }
      ]
    },
    {
      "cell_type": "code",
      "metadata": {
        "colab": {
          "base_uri": "https://localhost:8080/"
        },
        "id": "IL7CosPjg1jQ",
        "outputId": "1221d83f-870d-4b39-c7aa-9fec8605f944"
      },
      "source": [
        "kurtosis(s,fisher=False ) # -3"
      ],
      "execution_count": 4,
      "outputs": [
        {
          "output_type": "execute_result",
          "data": {
            "text/plain": [
              "1.7872119857800486"
            ]
          },
          "metadata": {},
          "execution_count": 4
        }
      ]
    },
    {
      "cell_type": "code",
      "source": [
        "kurtosis(s,fisher=True)  "
      ],
      "metadata": {
        "id": "YN6yqg6JnqFg",
        "outputId": "5c9566a4-2098-49ae-a9fb-1377b4c9452a",
        "colab": {
          "base_uri": "https://localhost:8080/"
        }
      },
      "execution_count": 5,
      "outputs": [
        {
          "output_type": "execute_result",
          "data": {
            "text/plain": [
              "-1.2127880142199514"
            ]
          },
          "metadata": {},
          "execution_count": 5
        }
      ]
    },
    {
      "cell_type": "markdown",
      "metadata": {
        "id": "tPHxKBatg1jQ"
      },
      "source": [
        "## Distribución de probabilidad uniforme\n",
        "\n",
        "$p(x)= \\frac{1}{b-a}$"
      ]
    },
    {
      "cell_type": "code",
      "metadata": {
        "colab": {
          "base_uri": "https://localhost:8080/",
          "height": 265
        },
        "id": "S7MtqyuAjnXm",
        "outputId": "a0bf8f50-df09-4693-fc43-cef8f9cff3a7"
      },
      "source": [
        "plt.hist( s, bins=30, density=True)   # distribución de la muestra\n",
        "plt.hlines(1/(b-a), xmin=a, xmax=b, color='orange')    # distribución teórica\n",
        "plt.show()"
      ],
      "execution_count": 6,
      "outputs": [
        {
          "output_type": "display_data",
          "data": {
            "text/plain": [
              "<Figure size 432x288 with 1 Axes>"
            ],
            "image/png": "[encoded data removed]"
          },
          "metadata": {
            "needs_background": "light"
          }
        }
      ]
    },
    {
      "cell_type": "markdown",
      "metadata": {
        "id": "u6iYpdxCajT4"
      },
      "source": [
        "# Simulación gaussiana"
      ]
    },
    {
      "cell_type": "code",
      "metadata": {
        "colab": {
          "base_uri": "https://localhost:8080/",
          "height": 265
        },
        "id": "T8j6kaMZajUC",
        "outputId": "da983d1b-0d04-49a8-bb50-1322b2c83315"
      },
      "source": [
        "# generación de una muestra aleatoria con distribución normal\n",
        "mu, sigma = 0., 1.\n",
        "s = np.random.normal(mu, sigma, 1000000)\n",
        "plt.hist( s, bins=100,  density=True)\n",
        "plt.show()"
      ],
      "execution_count": 7,
      "outputs": [
        {
          "output_type": "display_data",
          "data": {
            "text/plain": [
              "<Figure size 432x288 with 1 Axes>"
            ],
            "image/png": "[encoded data removed]"
          },
          "metadata": {
            "needs_background": "light"
          }
        }
      ]
    },
    {
      "cell_type": "code",
      "metadata": {
        "colab": {
          "base_uri": "https://localhost:8080/"
        },
        "id": "gE6qqSh3fS32",
        "outputId": "aab36024-be65-44b5-ab6d-87ac94617081"
      },
      "source": [
        "# Curtosis de la distribución normal = 0\n",
        "kurtosis(s)"
      ],
      "execution_count": 8,
      "outputs": [
        {
          "output_type": "execute_result",
          "data": {
            "text/plain": [
              "0.006911288958918238"
            ]
          },
          "metadata": {},
          "execution_count": 8
        }
      ]
    },
    {
      "cell_type": "markdown",
      "metadata": {
        "id": "tMKjegqdajUC"
      },
      "source": [
        "## Distribución de probabilidad gaussiana\n",
        "\n",
        "Probability density function (pdf)\n",
        "\n",
        "$f(x)= \\frac{1}{\\sqrt{2\\pi\\sigma^2}}e^{-\\frac{(x-\\mu)^2}{2\\sigma^2}} $"
      ]
    },
    {
      "cell_type": "code",
      "metadata": {
        "colab": {
          "base_uri": "https://localhost:8080/",
          "height": 265
        },
        "id": "bFn6YfpUajUC",
        "outputId": "3f0ca645-e31c-4a5b-b939-5ad7087c6ed1"
      },
      "source": [
        "x = np.arange(-3., 3., .01)\n",
        "pdf = 1/(sigma * np.sqrt(2 * np.pi)) *np.exp( - (x - mu)**2 / (2 * sigma**2) )  # función de la distribución de probabilidad de gauss\n",
        "plt.plot(x, pdf)\n",
        "plt.show()"
      ],
      "execution_count": 9,
      "outputs": [
        {
          "output_type": "display_data",
          "data": {
            "text/plain": [
              "<Figure size 432x288 with 1 Axes>"
            ],
            "image/png": "[encoded data removed]"
          },
          "metadata": {
            "needs_background": "light"
          }
        }
      ]
    },
    {
      "cell_type": "code",
      "metadata": {
        "colab": {
          "base_uri": "https://localhost:8080/",
          "height": 265
        },
        "id": "S0d7EwISajUD",
        "outputId": "45399707-7a0e-4119-e522-cde8ccc1ea21"
      },
      "source": [
        "plt.hist( s, bins=100, density=True)\n",
        "plt.plot(x, pdf)\n",
        "plt.show()"
      ],
      "execution_count": 10,
      "outputs": [
        {
          "output_type": "display_data",
          "data": {
            "text/plain": [
              "<Figure size 432x288 with 1 Axes>"
            ],
            "image/png": "[encoded data removed]"
          },
          "metadata": {
            "needs_background": "light"
          }
        }
      ]
    },
    {
      "cell_type": "markdown",
      "metadata": {
        "id": "NT-LD8UaaAAP"
      },
      "source": [
        "# Simulación Laplace"
      ]
    },
    {
      "cell_type": "code",
      "metadata": {
        "colab": {
          "base_uri": "https://localhost:8080/",
          "height": 282
        },
        "id": "BdfZ5k9YUK_W",
        "outputId": "7ec01b71-f561-48cb-a340-6823937186a9"
      },
      "source": [
        "# generación de una muestra aleatoria con distribución de Laplace\n",
        "loc, scale = 0., 1\n",
        "s = np.random.laplace(loc, scale, 10000)\n",
        "plt.hist( s, bins=30,  density=True)\n",
        "plt.show()\n",
        "print('Curtosis:', kurtosis(s))"
      ],
      "execution_count": 11,
      "outputs": [
        {
          "output_type": "display_data",
          "data": {
            "text/plain": [
              "<Figure size 432x288 with 1 Axes>"
            ],
            "image/png": "[encoded data removed]"
          },
          "metadata": {
            "needs_background": "light"
          }
        },
        {
          "output_type": "stream",
          "name": "stdout",
          "text": [
            "Curtosis: 2.7611513971637036\n"
          ]
        }
      ]
    },
    {
      "cell_type": "markdown",
      "metadata": {
        "id": "Ax8vnTwbWRhd"
      },
      "source": [
        "## Distribución de probabilidad de Laplace\n",
        "\n",
        "$f(x;\\mu,\\lambda)= \\frac{1}{2\\lambda}\\exp({-\\frac{\\lvert{x-\\mu}\\rvert}{\\lambda}}) $"
      ]
    },
    {
      "cell_type": "code",
      "metadata": {
        "colab": {
          "base_uri": "https://localhost:8080/",
          "height": 265
        },
        "id": "4HOr-GGJVQqP",
        "outputId": "7eb5e2e7-ce52-40b2-da5c-31082d5acdbd"
      },
      "source": [
        "x = np.arange(-8., 8., .01)\n",
        "pdf = np.exp(-abs(x-loc)/scale)/(2.*scale)  # función de la distribución de probabilidad de laplace\n",
        "plt.plot(x, pdf)\n",
        "plt.show()"
      ],
      "execution_count": 12,
      "outputs": [
        {
          "output_type": "display_data",
          "data": {
            "text/plain": [
              "<Figure size 432x288 with 1 Axes>"
            ],
            "image/png": "[encoded data removed]"
          },
          "metadata": {
            "needs_background": "light"
          }
        }
      ]
    },
    {
      "cell_type": "code",
      "metadata": {
        "colab": {
          "base_uri": "https://localhost:8080/",
          "height": 265
        },
        "id": "O3bk3r7-Voq-",
        "outputId": "3aadc50c-6feb-475a-b7bb-ff01e7671848"
      },
      "source": [
        "plt.hist( s, bins=30, density=True)\n",
        "plt.plot(x, pdf)\n",
        "plt.show()"
      ],
      "execution_count": 13,
      "outputs": [
        {
          "output_type": "display_data",
          "data": {
            "text/plain": [
              "<Figure size 432x288 with 1 Axes>"
            ],
            "image/png": "[encoded data removed]"
          },
          "metadata": {
            "needs_background": "light"
          }
        }
      ]
    },
    {
      "cell_type": "markdown",
      "source": [
        "# Simulación de variables estables ($\\alpha$-estable de Levy)\n",
        "Las distribuciones estables tienen lugar como limite de la suma de variables escalables y centradas independientes e identicamente distribuidas \n",
        "[referencia](http://www.randomservices.org/random/special/Stable.html)\n",
        "\n",
        "Las distribuciones estables tienen 4 parametros:\n",
        "\n",
        "* ***Estabilidad*** ($\\alpha$)  con rango (0,2] mide la frecuencia de los valores extremos\n",
        "* ***Sesgo/Asimetría*** ($\\beta$) con rango [-1,1] Si $\\beta < 0$, la distribución está sesgada a la izquierda , si  $\\beta > 0$, la distribución esta sesgada a la derecha\n",
        "* ***Dispersión/Escalada*** ($\\sigma$)\n",
        "* ***Localización*** ($\\mu$)\n",
        "\n",
        "La distribución normal es un caso especial de las distribuciones estables en que $\\alpha=2$, $\\beta=NA$, $\\sigma=\\frac{\\sigma_{normal}}{\\sqrt{2}}$, $\\mu=0$.\n",
        "La distribución normal, por otro lado es la única distribución con varianza finita dentro de las distribuciones estables.\n",
        "\n",
        "Es importante observar que los últimos dos parámetros $\\sigma$ and $\\mu$, porque no corresponden inmediatamente a lo que comunmente conocemos como media y varianza.  Por ejemplo, para el caso especial de la distribución normal $~~2 \\sigma^{2}_{stable} = \\sigma^{2}_{normal}$.\n",
        "\n",
        "\n",
        "\n",
        "\n",
        "\n"
      ],
      "metadata": {
        "id": "gAKPjNnfXt4K"
      }
    },
    {
      "cell_type": "markdown",
      "source": [
        "## Caso especial: Distribución Normal"
      ],
      "metadata": {
        "id": "0szTp0hYyWDU"
      }
    },
    {
      "cell_type": "code",
      "source": [
        "𝛼 =2\n",
        "𝛽 = 0\n",
        "𝜎_normal = 1.0\n",
        "𝜇 = 0\n",
        "\n",
        "mean, var, skew, kurt = levy_stable.stats(alpha = 𝛼, \n",
        "                                          beta = 𝛽,\n",
        "                                          loc = 𝜇,\n",
        "                                          scale = 𝜎_normal/np.sqrt(2),\n",
        "                                          moments='mvsk')\n",
        "print(mean, var, skew, kurt)"
      ],
      "metadata": {
        "outputId": "817f2a04-e4e5-4787-a3fa-11770f3bc194",
        "colab": {
          "base_uri": "https://localhost:8080/"
        },
        "id": "YIUUNFsdXt4L"
      },
      "execution_count": 3,
      "outputs": [
        {
          "output_type": "stream",
          "name": "stdout",
          "text": [
            "0.0 0.9999999999999998 0.0 0.0\n"
          ]
        }
      ]
    },
    {
      "cell_type": "markdown",
      "source": [
        "Cambia el valor de $\\beta$ en el rango permitido y oberva que no tiene ningún efecto en la linea anterior"
      ],
      "metadata": {
        "id": "_VM0dUHCwJRr"
      }
    },
    {
      "cell_type": "code",
      "source": [
        "# Generamos una variable aleatoria gausiana como caso especial de \n",
        "# la distribución estable  \n",
        "\n",
        "n = 10000\n",
        "𝜇 = 0\n",
        "𝛼 =2\n",
        "𝛽 = 0\n",
        "𝜎_normal = 1.0\n",
        "\n",
        "gaussian_special_case_rvs = levy_stable.rvs(alpha=2, \n",
        "                                            beta=0, \n",
        "                                            loc=mu, \n",
        "                                            scale=𝜎_normal/np.sqrt(2), \n",
        "                                            size=n)\n",
        "\n",
        "gaussian_mean = np.mean(gaussian_special_case_rvs)\n",
        "gaussian_std = np.std(gaussian_special_case_rvs)\n",
        "print(\"media de la muestra generada:\", gaussian_mean)\n",
        "print(\"stdev de la muestra generada:\", gaussian_std)\n",
        "\n",
        "# y la comparamos con la funcion de probabilidad de la distribución normal\n",
        "x_range = np.linspace(-4,4,1000)    #random.normal.rvs(loc=test_mean, scale=test_std)\n",
        "\n",
        "plt.hist(gaussian_special_case_rvs, bins=21, density=True, alpha=.2)\n",
        "plt.plot(x_range, norm.pdf(x_range, loc=gaussian_mean, scale=gaussian_std),\n",
        "         color='r' )\n",
        "plt.show()\n"
      ],
      "metadata": {
        "id": "bFJFtQVZm8bx",
        "outputId": "97e9df5d-6a88-4db8-89f9-0f9a190719b4",
        "colab": {
          "base_uri": "https://localhost:8080/",
          "height": 300
        }
      },
      "execution_count": 15,
      "outputs": [
        {
          "output_type": "stream",
          "name": "stdout",
          "text": [
            "media de la muestra generada: -0.011422026546856782\n",
            "stdev de la muestra generada: 0.9962559239628773\n"
          ]
        },
        {
          "output_type": "display_data",
          "data": {
            "text/plain": [
              "<Figure size 432x288 with 1 Axes>"
            ],
            "image/png": "[encoded data removed]"
          },
          "metadata": {
            "needs_background": "light"
          }
        }
      ]
    },
    {
      "cell_type": "markdown",
      "source": [
        "## Caso especial: Distribución Cauchy\n",
        "\n",
        "$\\alpha=1$,\n",
        "$\\beta=0$, \n",
        "$\\sigma$, \n",
        "$\\mu$"
      ],
      "metadata": {
        "id": "5pBW3S1kyiC4"
      }
    },
    {
      "cell_type": "code",
      "source": [
        "𝛼 =1\n",
        "𝛽 = 0\n",
        "𝜎 = 1.0\n",
        "𝜇 = 0\n",
        "\n",
        "mean, var, skew, kurt = levy_stable.stats(alpha = 𝛼, \n",
        "                                          beta = 𝛽,\n",
        "                                          loc = 𝜇,\n",
        "                                          scale = 𝜎/2,\n",
        "                                          moments='mvsk')\n",
        "print(mean, var, skew, kurt)"
      ],
      "metadata": {
        "outputId": "56ed30aa-591d-4337-86e4-6e6fbcd58a71",
        "colab": {
          "base_uri": "https://localhost:8080/"
        },
        "id": "9UULaYsfyiC4"
      },
      "execution_count": 4,
      "outputs": [
        {
          "output_type": "stream",
          "name": "stdout",
          "text": [
            "nan inf nan nan\n"
          ]
        }
      ]
    },
    {
      "cell_type": "markdown",
      "source": [
        "Cambia el valor de $\\beta$ en el rango permitido y oberva que no tiene ningún efecto en la linea anterior"
      ],
      "metadata": {
        "id": "kwDZ1f98yiC5"
      }
    },
    {
      "cell_type": "code",
      "source": [
        "# Generamos una variable aleatoria cauchy como caso especial de \n",
        "# la distribución estable  \n",
        "\n",
        "n = 10000\n",
        "𝛼 =1\n",
        "𝛽 = 0\n",
        "𝜎 = 1.0\n",
        "𝜇 = 0\n",
        "\n",
        "cauchy_special_case_rvs = levy_stable.rvs(alpha=1, \n",
        "                                            beta=0, \n",
        "                                            loc=𝜇, \n",
        "                                            scale=𝜎/2, \n",
        "                                            size=n)\n",
        "\n",
        "trimval = 15\n",
        "trimndx =  abs(cauchy_special_case_rvs) < trimval\n",
        "x_range = np.linspace(-trimval,trimval,1000)  \n",
        "print(\"observaciones < trimval = {} : {:.2f}% \".format(trimval, \n",
        "                                                  sum(trimndx)/len(trimndx)*100))\n",
        "plot_rvs = cauchy_special_case_rvs[trimndx]  \n",
        "\n",
        "plt.hist(plot_rvs, bins=50, density=True, alpha=.5)\n",
        "plt.plot(x_range, cauchy.pdf(x_range, loc=𝜇, scale=𝜎/2),\n",
        "         color='r' )\n",
        "plt.show()"
      ],
      "metadata": {
        "outputId": "d59cf6d3-6916-4d76-b303-a3df0e789566",
        "colab": {
          "base_uri": "https://localhost:8080/",
          "height": 282
        },
        "id": "I8QhPa0ryiC5"
      },
      "execution_count": 30,
      "outputs": [
        {
          "output_type": "stream",
          "name": "stdout",
          "text": [
            "observaciones < trimval = 15 : 97.94% \n"
          ]
        },
        {
          "output_type": "display_data",
          "data": {
            "text/plain": [
              "<Figure size 432x288 with 1 Axes>"
            ],
            "image/png": "[encoded data removed]"
          },
          "metadata": {
            "needs_background": "light"
          }
        }
      ]
    },
    {
      "cell_type": "markdown",
      "source": [
        "## Caso especial: Distribución Levy\n",
        "\n",
        "$\\alpha=0.5$,\n",
        "$\\beta=1$, \n",
        "$\\sigma$, \n",
        "$\\mu$"
      ],
      "metadata": {
        "id": "DQh2udMU-dPT"
      }
    },
    {
      "cell_type": "code",
      "source": [
        "𝛼 =0.5\n",
        "𝛽 = 1\n",
        "𝜎 = 1.0\n",
        "𝜇 = 0\n",
        "\n",
        "mean, var, skew, kurt = levy_stable.stats(alpha = 𝛼, \n",
        "                                          beta = 𝛽,\n",
        "                                          loc = 𝜇,\n",
        "                                          scale = 𝜎/2,\n",
        "                                          moments='mvsk')\n",
        "print(mean, var, skew, kurt)"
      ],
      "metadata": {
        "outputId": "f6788ad6-73e4-418f-8020-a06927a2884e",
        "colab": {
          "base_uri": "https://localhost:8080/"
        },
        "id": "v4uwVIhX-dPZ"
      },
      "execution_count": 35,
      "outputs": [
        {
          "output_type": "stream",
          "name": "stdout",
          "text": [
            "nan inf nan nan\n"
          ]
        }
      ]
    },
    {
      "cell_type": "markdown",
      "source": [
        "Cambia el valor de $\\mu$ y $\\sigma$ y oberva que no tiene ningún efecto en la linea anterior"
      ],
      "metadata": {
        "id": "EzOrMY35-dPZ"
      }
    },
    {
      "cell_type": "code",
      "source": [
        "# Generamos una variable aleatoria levy como caso especial de \n",
        "# la distribución estable  \n",
        "\n",
        "𝛼 =0.5\n",
        "𝛽 = 1\n",
        "𝜎 = 1.0\n",
        "𝜇 = 0\n",
        "\n",
        "levy_special_case_rvs = levy_stable.rvs(alpha=𝛼, \n",
        "                                            beta=𝛽, \n",
        "                                            loc=𝜇, \n",
        "                                            scale=𝜎/2, \n",
        "                                            size=n)\n",
        "\n",
        "trimval = 15\n",
        "trimndx =  abs(levy_special_case_rvs) < trimval\n",
        "x_range = np.linspace(0,trimval,1000)  \n",
        "print(\"observaciones < trimval = {} : {:.2f}% \".format(trimval, \n",
        "                                                  sum(trimndx)/len(trimndx)*100))\n",
        "plot_rvs = levy_special_case_rvs[trimndx]  \n",
        "\n",
        "plt.hist(plot_rvs, bins=50, density=True, alpha=.5)\n",
        "plt.plot(x_range, levy.pdf(x_range, loc=𝜇, scale=𝜎/2),\n",
        "         color='r' )\n",
        "plt.show()"
      ],
      "metadata": {
        "outputId": "fa101d4a-22df-4699-f91b-0ba93500906c",
        "colab": {
          "base_uri": "https://localhost:8080/",
          "height": 282
        },
        "id": "qYq_FYVx-dPZ"
      },
      "execution_count": 38,
      "outputs": [
        {
          "output_type": "stream",
          "name": "stdout",
          "text": [
            "observaciones < trimval = 15 : 85.80% \n"
          ]
        },
        {
          "output_type": "display_data",
          "data": {
            "text/plain": [
              "<Figure size 432x288 with 1 Axes>"
            ],
            "image/png": "[encoded data removed]"
          },
          "metadata": {
            "needs_background": "light"
          }
        }
      ]
    }
  ]
}