{
  "nbformat": 4,
  "nbformat_minor": 0,
  "metadata": {
    "colab": {
      "name": "Simulación de variables aleatorias continuas.ipynb",
      "provenance": [],
      "toc_visible": true,
      "authorship_tag": "ABX9TyMAFauLBT4ixIIY6hZ+8ilt",
      "include_colab_link": true
    },
    "kernelspec": {
      "name": "python3",
      "display_name": "Python 3"
    },
    "language_info": {
      "name": "python"
    }
  },
  "cells": [
    {
      "cell_type": "markdown",
      "metadata": {
        "id": "view-in-github",
        "colab_type": "text"
      },
      "source": [
        "<a href=\"https://colab.research.google.com/github/AnIsAsPe/Estadistica_y_Probabilidad_para-CD-/blob/main/Semana2/Notebooks/Simulaci%C3%B3n_de_variables_aleatorias_continuas_.ipynb\" target=\"_parent\"><img src=\"https://colab.research.google.com/assets/colab-badge.svg\" alt=\"Open In Colab\"/></a>"
      ]
    },
    {
      "cell_type": "code",
      "metadata": {
        "id": "11LmuROzUBX8"
      },
      "source": [
        "import numpy as np\n",
        "from scipy.stats import kurtosis, skew  # curtosis y asimetría\n",
        "from scipy.stats import levy_stable , norm, cauchy, levy\n",
        "import matplotlib.pyplot as plt\n",
        "import seaborn as sns"
      ],
      "execution_count": 1,
      "outputs": []
    },
    {
      "cell_type": "markdown",
      "metadata": {
        "id": "YVlwfp9Jg1jJ"
      },
      "source": [
        "# Simulación uniforme"
      ]
    },
    {
      "cell_type": "code",
      "metadata": {
        "colab": {
          "base_uri": "https://localhost:8080/",
          "height": 265
        },
        "id": "AxI05wkOg1jQ",
        "outputId": "3219a287-df89-493f-bd9a-2501f31d6fc7"
      },
      "source": [
        "# generación de una muestra aleatoria con distribución de la place\n",
        "a, b = 0., 1.\n",
        "n = 10000\n",
        "s = np.random.uniform(a, b, n)\n",
        "# plt.hist( s, bins=30,  density=True)\n",
        "sns.histplot( x = np.array(s), bins=100,   stat ='probability' )\n",
        "plt.show()"
      ],
      "execution_count": 2,
      "outputs": [
        {
          "output_type": "display_data",
          "data": {
            "text/plain": [
              "<Figure size 432x288 with 1 Axes>"
            ],
            "image/png": "[encoded data removed]"
          },
          "metadata": {
            "needs_background": "light"
          }
        }
      ]
    },
    {
      "cell_type": "markdown",
      "source": [
        "Curtosis de Fisher de una distribución uniforme = -1.2  \n",
        "(La distribucion normal tiene 0 de kurtosis de Fisher)"
      ],
      "metadata": {
        "id": "fBJI9uqUEc4i"
      }
    },
    {
      "cell_type": "code",
      "metadata": {
        "colab": {
          "base_uri": "https://localhost:8080/"
        },
        "id": "IL7CosPjg1jQ",
        "outputId": "420c4bf4-2dc0-4e0d-ba70-507a50c41a0e"
      },
      "source": [
        "kurtosis(s)   "
      ],
      "execution_count": 3,
      "outputs": [
        {
          "output_type": "execute_result",
          "data": {
            "text/plain": [
              "-1.197609133516824"
            ]
          },
          "metadata": {},
          "execution_count": 3
        }
      ]
    },
    {
      "cell_type": "markdown",
      "source": [
        "Asimetría de una distribución uniforme = 0"
      ],
      "metadata": {
        "id": "S4y66t_XFRGi"
      }
    },
    {
      "cell_type": "code",
      "source": [
        "skew(s)"
      ],
      "metadata": {
        "id": "lhtCV65xE-a8",
        "outputId": "29d48954-51c1-422c-9484-fca9f7347324",
        "colab": {
          "base_uri": "https://localhost:8080/"
        }
      },
      "execution_count": 4,
      "outputs": [
        {
          "output_type": "execute_result",
          "data": {
            "text/plain": [
              "-0.014669196755790152"
            ]
          },
          "metadata": {},
          "execution_count": 4
        }
      ]
    },
    {
      "cell_type": "markdown",
      "metadata": {
        "id": "tPHxKBatg1jQ"
      },
      "source": [
        "## Distribución de probabilidad uniforme\n",
        "\n",
        "$p(x)= \\frac{1}{b-a}$"
      ]
    },
    {
      "cell_type": "code",
      "metadata": {
        "colab": {
          "base_uri": "https://localhost:8080/",
          "height": 265
        },
        "id": "S7MtqyuAjnXm",
        "outputId": "f1601f3f-5f3c-41ef-fd45-c4ee6a5eb4df"
      },
      "source": [
        "plt.hist( s, bins=30, density=True)   # distribución de la muestra\n",
        "plt.hlines(1/(b-a), xmin=a, xmax=b, color='orange')    # distribución teórica\n",
        "plt.show()"
      ],
      "execution_count": 5,
      "outputs": [
        {
          "output_type": "display_data",
          "data": {
            "text/plain": [
              "<Figure size 432x288 with 1 Axes>"
            ],
            "image/png": "[encoded data removed]"
          },
          "metadata": {
            "needs_background": "light"
          }
        }
      ]
    },
    {
      "cell_type": "markdown",
      "metadata": {
        "id": "u6iYpdxCajT4"
      },
      "source": [
        "# Simulación gaussiana"
      ]
    },
    {
      "cell_type": "code",
      "metadata": {
        "colab": {
          "base_uri": "https://localhost:8080/",
          "height": 265
        },
        "id": "T8j6kaMZajUC",
        "outputId": "d167e07f-3435-41fb-af2e-90b87b3481d4"
      },
      "source": [
        "# generación de una muestra aleatoria con distribución normal\n",
        "mu, sigma = 0., 1.\n",
        "s = np.random.normal(mu, sigma, 1000000)\n",
        "plt.hist( s, bins=100,  density=True)\n",
        "plt.show()"
      ],
      "execution_count": 6,
      "outputs": [
        {
          "output_type": "display_data",
          "data": {
            "text/plain": [
              "<Figure size 432x288 with 1 Axes>"
            ],
            "image/png": "[encoded data removed]"
          },
          "metadata": {
            "needs_background": "light"
          }
        }
      ]
    },
    {
      "cell_type": "code",
      "metadata": {
        "colab": {
          "base_uri": "https://localhost:8080/"
        },
        "id": "gE6qqSh3fS32",
        "outputId": "09ce22ae-754b-49b0-9271-34570e509db6"
      },
      "source": [
        "# Curtosis de la distribución normal = 0\n",
        "kurtosis(s), skew(s)"
      ],
      "execution_count": 7,
      "outputs": [
        {
          "output_type": "execute_result",
          "data": {
            "text/plain": [
              "(-0.0038048622734967452, 0.00010068062175325571)"
            ]
          },
          "metadata": {},
          "execution_count": 7
        }
      ]
    },
    {
      "cell_type": "markdown",
      "metadata": {
        "id": "tMKjegqdajUC"
      },
      "source": [
        "## Distribución de probabilidad gaussiana\n",
        "\n",
        "Probability density function (pdf)\n",
        "\n",
        "$f(x)= \\frac{1}{\\sqrt{2\\pi\\sigma^2}}e^{-\\frac{(x-\\mu)^2}{2\\sigma^2}} $"
      ]
    },
    {
      "cell_type": "code",
      "metadata": {
        "colab": {
          "base_uri": "https://localhost:8080/",
          "height": 265
        },
        "id": "bFn6YfpUajUC",
        "outputId": "7b2489a6-107b-4edc-99d3-5a6af628cd15"
      },
      "source": [
        "x = np.arange(-3., 3., .01)\n",
        "pdf = 1/(sigma * np.sqrt(2 * np.pi)) *np.exp( - (x - mu)**2 / (2 * sigma**2) )  # función de la distribución de probabilidad de gauss\n",
        "plt.plot(x, pdf)\n",
        "plt.show()"
      ],
      "execution_count": 8,
      "outputs": [
        {
          "output_type": "display_data",
          "data": {
            "text/plain": [
              "<Figure size 432x288 with 1 Axes>"
            ],
            "image/png": "[encoded data removed]"
          },
          "metadata": {
            "needs_background": "light"
          }
        }
      ]
    },
    {
      "cell_type": "code",
      "metadata": {
        "colab": {
          "base_uri": "https://localhost:8080/",
          "height": 265
        },
        "id": "S0d7EwISajUD",
        "outputId": "08185954-ba59-4755-e5e2-29fbb16600bd"
      },
      "source": [
        "plt.hist( s, bins=100, density=True)\n",
        "plt.plot(x, pdf)\n",
        "plt.show()"
      ],
      "execution_count": 9,
      "outputs": [
        {
          "output_type": "display_data",
          "data": {
            "text/plain": [
              "<Figure size 432x288 with 1 Axes>"
            ],
            "image/png": "[encoded data removed]"
          },
          "metadata": {
            "needs_background": "light"
          }
        }
      ]
    },
    {
      "cell_type": "markdown",
      "metadata": {
        "id": "NT-LD8UaaAAP"
      },
      "source": [
        "# Simulación Laplace"
      ]
    },
    {
      "cell_type": "code",
      "metadata": {
        "colab": {
          "base_uri": "https://localhost:8080/",
          "height": 300
        },
        "id": "BdfZ5k9YUK_W",
        "outputId": "f0435e53-477a-4c3d-f7a4-9ee66864c544"
      },
      "source": [
        "# generación de una muestra aleatoria con distribución de Laplace\n",
        "loc, scale = 0., 1\n",
        "s = np.random.laplace(loc, scale, 100000)\n",
        "plt.hist( s, bins=30,  density=True)\n",
        "plt.show()\n",
        "print('Curtosis: {},\\nAsimetría = {}'.format(kurtosis(s),skew(s)))"
      ],
      "execution_count": 10,
      "outputs": [
        {
          "output_type": "display_data",
          "data": {
            "text/plain": [
              "<Figure size 432x288 with 1 Axes>"
            ],
            "image/png": "[encoded data removed]"
          },
          "metadata": {
            "needs_background": "light"
          }
        },
        {
          "output_type": "stream",
          "name": "stdout",
          "text": [
            "Curtosis: 2.8396608352998713,\n",
            "Asimetría = 0.03214544032939467\n"
          ]
        }
      ]
    },
    {
      "cell_type": "markdown",
      "source": [
        "La curtosis de la distribución laplace es 3, y la asimetría 0"
      ],
      "metadata": {
        "id": "I8uxTigUGDHa"
      }
    },
    {
      "cell_type": "markdown",
      "metadata": {
        "id": "Ax8vnTwbWRhd"
      },
      "source": [
        "## Distribución de probabilidad de Laplace\n",
        "\n",
        "$f(x;\\mu,\\lambda)= \\frac{1}{2\\lambda}\\exp({-\\frac{\\lvert{x-\\mu}\\rvert}{\\lambda}}) $"
      ]
    },
    {
      "cell_type": "code",
      "metadata": {
        "colab": {
          "base_uri": "https://localhost:8080/",
          "height": 265
        },
        "id": "4HOr-GGJVQqP",
        "outputId": "4beb682b-465c-415d-c5fb-171f0b79bad4"
      },
      "source": [
        "x = np.arange(-8., 8., .01)\n",
        "pdf = np.exp(-abs(x-loc)/scale)/(2.*scale)  # función de la distribución de probabilidad de laplace\n",
        "plt.plot(x, pdf)\n",
        "plt.show()"
      ],
      "execution_count": 11,
      "outputs": [
        {
          "output_type": "display_data",
          "data": {
            "text/plain": [
              "<Figure size 432x288 with 1 Axes>"
            ],
            "image/png": "[encoded data removed]"
          },
          "metadata": {
            "needs_background": "light"
          }
        }
      ]
    },
    {
      "cell_type": "code",
      "metadata": {
        "colab": {
          "base_uri": "https://localhost:8080/",
          "height": 265
        },
        "id": "O3bk3r7-Voq-",
        "outputId": "28d543d3-9a92-424d-8af2-e963f1032a82"
      },
      "source": [
        "plt.hist( s, bins=30, density=True)\n",
        "plt.plot(x, pdf)\n",
        "plt.show()"
      ],
      "execution_count": 12,
      "outputs": [
        {
          "output_type": "display_data",
          "data": {
            "text/plain": [
              "<Figure size 432x288 with 1 Axes>"
            ],
            "image/png": "[encoded data removed]"
          },
          "metadata": {
            "needs_background": "light"
          }
        }
      ]
    },
    {
      "cell_type": "markdown",
      "source": [
        "# Simulación de variables estables ($\\alpha$-estable de Levy)\n",
        "Las distribuciones estables tienen lugar como limite de la suma de variables escalables y centradas independientes e identicamente distribuidas \n",
        "[referencia](http://www.randomservices.org/random/special/Stable.html)\n",
        "\n",
        "Las distribuciones estables tienen 4 parametros:\n",
        "\n",
        "* ***Estabilidad*** ($\\alpha$)  con rango (0,2] mide la frecuencia de los valores extremos\n",
        "* ***Sesgo/Asimetría*** ($\\beta$) con rango [-1,1] Si $\\beta < 0$, la distribución está sesgada a la izquierda , si  $\\beta > 0$, la distribución esta sesgada a la derecha\n",
        "* ***Dispersión/Escalada*** ($\\sigma$)\n",
        "* ***Localización*** ($\\mu$)\n",
        "\n",
        "La distribución normal es un caso especial de las distribuciones estables en que $\\alpha=2$, $\\beta=NA$, $\\sigma=\\frac{\\sigma_{normal}}{\\sqrt{2}}$, $\\mu=0$.\n",
        "La distribución normal, por otro lado es la única distribución con varianza finita dentro de las distribuciones estables.\n",
        "\n",
        "Es importante observar que los últimos dos parámetros $\\sigma$ and $\\mu$, porque no corresponden inmediatamente a lo que comunmente conocemos como media y varianza.  Por ejemplo, para el caso especial de la distribución normal $~~2 \\sigma^{2}_{stable} = \\sigma^{2}_{normal}$.\n",
        "\n",
        "\n",
        "\n",
        "\n",
        "\n"
      ],
      "metadata": {
        "id": "gAKPjNnfXt4K"
      }
    },
    {
      "cell_type": "markdown",
      "source": [
        "## Caso especial: Distribución Normal"
      ],
      "metadata": {
        "id": "0szTp0hYyWDU"
      }
    },
    {
      "cell_type": "code",
      "source": [
        "𝛼 =2\n",
        "𝛽 = 0\n",
        "𝜎_normal = 1.0\n",
        "𝜇 = 0\n",
        "\n",
        "mean, var, sk, kurt = levy_stable.stats(alpha = 𝛼, \n",
        "                                          beta = 𝛽,\n",
        "                                          loc = 𝜇,\n",
        "                                          scale = 𝜎_normal/np.sqrt(2),\n",
        "                                          moments='mvsk')\n",
        "print(mean, var, sk, kurt)"
      ],
      "metadata": {
        "outputId": "2c7c266e-fd4c-4c00-cb64-640733af2a3f",
        "colab": {
          "base_uri": "https://localhost:8080/"
        },
        "id": "YIUUNFsdXt4L"
      },
      "execution_count": 13,
      "outputs": [
        {
          "output_type": "stream",
          "name": "stdout",
          "text": [
            "0.0 0.9999999999999998 0.0 0.0\n"
          ]
        }
      ]
    },
    {
      "cell_type": "markdown",
      "source": [
        "Cambia el valor de $\\beta$ en el rango permitido y oberva que no tiene ningún efecto en la linea anterior"
      ],
      "metadata": {
        "id": "_VM0dUHCwJRr"
      }
    },
    {
      "cell_type": "code",
      "source": [
        "# Generamos una variable aleatoria gausiana como caso especial de \n",
        "# la distribución estable  \n",
        "\n",
        "n = 10000\n",
        "𝜇 = 0\n",
        "𝛼 =2\n",
        "𝛽 = 0\n",
        "𝜎_normal = 1.0\n",
        "\n",
        "gaussian_special_case_rvs = levy_stable.rvs(alpha=2, \n",
        "                                            beta=0, \n",
        "                                            loc=mu, \n",
        "                                            scale=𝜎_normal/np.sqrt(2), \n",
        "                                            size=n)\n",
        "\n",
        "gaussian_mean = np.mean(gaussian_special_case_rvs)\n",
        "gaussian_std = np.std(gaussian_special_case_rvs)\n",
        "gaussian_kurt = kurtosis(gaussian_special_case_rvs)\n",
        "gaussian_skew = skew(gaussian_special_case_rvs)\n",
        "print(\"media de la muestra generada:\", gaussian_mean)\n",
        "print(\"stdev de la muestra generada:\", gaussian_std)\n",
        "print(\"curtosis de la muestra generada:\", gaussian_kurt )\n",
        "print(\"asimetría de la muestra generada:\", gaussian_skew )\n",
        "\n",
        "# y la comparamos con la funcion de probabilidad de la distribución normal\n",
        "x_range = np.linspace(-4,4,1000)    #random.normal.rvs(loc=test_mean, scale=test_std)\n",
        "\n",
        "plt.hist(gaussian_special_case_rvs, bins=21, density=True, alpha=.2)\n",
        "plt.plot(x_range, norm.pdf(x_range, loc=gaussian_mean, scale=gaussian_std),\n",
        "         color='r' )\n",
        "plt.show()\n"
      ],
      "metadata": {
        "id": "bFJFtQVZm8bx",
        "outputId": "55c8fe6a-e159-41a2-952f-212dbe0e246f",
        "colab": {
          "base_uri": "https://localhost:8080/",
          "height": 334
        }
      },
      "execution_count": 14,
      "outputs": [
        {
          "output_type": "stream",
          "name": "stdout",
          "text": [
            "media de la muestra generada: -0.0009953755693393235\n",
            "stdev de la muestra generada: 0.9998246332512282\n",
            "curtosis de la muestra generada: -0.027968409356923463\n",
            "asimetría de la muestra generada: 0.010383773608285166\n"
          ]
        },
        {
          "output_type": "display_data",
          "data": {
            "text/plain": [
              "<Figure size 432x288 with 1 Axes>"
            ],
            "image/png": "[encoded data removed]"
          },
          "metadata": {
            "needs_background": "light"
          }
        }
      ]
    },
    {
      "cell_type": "markdown",
      "source": [
        "## Caso especial: Distribución Cauchy\n",
        "\n",
        "$\\alpha=1$,\n",
        "$\\beta=0$, \n",
        "$\\sigma$, \n",
        "$\\mu$"
      ],
      "metadata": {
        "id": "5pBW3S1kyiC4"
      }
    },
    {
      "cell_type": "code",
      "source": [
        "𝛼 =1\n",
        "𝛽 = 0\n",
        "𝜎 = 1.0\n",
        "𝜇 = 0\n",
        "\n",
        "mean, var, sk, kurt = levy_stable.stats(alpha = 𝛼, \n",
        "                                          beta = 𝛽,\n",
        "                                          loc = 𝜇,\n",
        "                                          scale = 𝜎/2,\n",
        "                                          moments='mvsk')\n",
        "print(mean, var, sk, kurt)"
      ],
      "metadata": {
        "outputId": "770db681-db07-4686-b609-23bf59da0b5b",
        "colab": {
          "base_uri": "https://localhost:8080/"
        },
        "id": "9UULaYsfyiC4"
      },
      "execution_count": 15,
      "outputs": [
        {
          "output_type": "stream",
          "name": "stdout",
          "text": [
            "nan inf nan nan\n"
          ]
        }
      ]
    },
    {
      "cell_type": "markdown",
      "source": [
        "Cambia el valor de $\\beta$ en el rango permitido y oberva que no tiene ningún efecto en la linea anterior"
      ],
      "metadata": {
        "id": "kwDZ1f98yiC5"
      }
    },
    {
      "cell_type": "code",
      "source": [
        "# Generamos una variable aleatoria cauchy como caso especial de \n",
        "# la distribución estable  \n",
        "\n",
        "n = 10000\n",
        "𝛼 =1\n",
        "𝛽 = 0\n",
        "𝜎 = 1.0\n",
        "𝜇 = 0\n",
        "\n",
        "cauchy_special_case_rvs = levy_stable.rvs(alpha=1, \n",
        "                                            beta=0, \n",
        "                                            loc=𝜇, \n",
        "                                            scale=𝜎/2, \n",
        "                                            size=n)\n",
        "\n",
        "cauchy_mean = np.mean(cauchy_special_case_rvs)\n",
        "cauchy_std = np.std(cauchy_special_case_rvs)\n",
        "cauchy_kurt = kurtosis(cauchy_special_case_rvs)\n",
        "cauchy_skew = skew(cauchy_special_case_rvs)\n",
        "print(\"media de la muestra generada:\", cauchy_mean)\n",
        "print(\"stdev de la muestra generada:\", cauchy_std)\n",
        "print(\"curtosis de la muestra generada:\", cauchy_kurt )\n",
        "print(\"asimetría de la muestra generada:\", cauchy_skew )\n",
        "\n",
        "trimval = 15\n",
        "trimndx =  abs(cauchy_special_case_rvs) < trimval\n",
        "x_range = np.linspace(-trimval,trimval,1000)  \n",
        "print(\"observaciones < trimval = {} : {:.2f}% \".format(trimval, \n",
        "                                                  sum(trimndx)/len(trimndx)*100))\n",
        "plot_rvs = cauchy_special_case_rvs[trimndx]  \n",
        "\n",
        "plt.hist(plot_rvs, bins=50, density=True, alpha=.5)\n",
        "plt.plot(x_range, cauchy.pdf(x_range, loc=𝜇, scale=𝜎/2),\n",
        "         color='r' )\n",
        "plt.show()"
      ],
      "metadata": {
        "outputId": "d47e93c9-b181-49a4-ac6a-126566f8dec6",
        "colab": {
          "base_uri": "https://localhost:8080/",
          "height": 352
        },
        "id": "I8QhPa0ryiC5"
      },
      "execution_count": 16,
      "outputs": [
        {
          "output_type": "stream",
          "name": "stdout",
          "text": [
            "media de la muestra generada: 0.9819581108893916\n",
            "stdev de la muestra generada: 81.35539726525847\n",
            "curtosis de la muestra generada: 2109.349414850292\n",
            "asimetría de la muestra generada: 33.42729330437946\n",
            "observaciones < trimval = 15 : 97.97% \n"
          ]
        },
        {
          "output_type": "display_data",
          "data": {
            "text/plain": [
              "<Figure size 432x288 with 1 Axes>"
            ],
            "image/png": "[encoded data removed]"
          },
          "metadata": {
            "needs_background": "light"
          }
        }
      ]
    },
    {
      "cell_type": "markdown",
      "source": [
        "## Caso especial: Distribución Levy\n",
        "\n",
        "$\\alpha=0.5$,\n",
        "$\\beta=1$, \n",
        "$\\sigma$, \n",
        "$\\mu$"
      ],
      "metadata": {
        "id": "DQh2udMU-dPT"
      }
    },
    {
      "cell_type": "code",
      "source": [
        "𝛼 =0.5\n",
        "𝛽 = 1\n",
        "𝜎 = 1.0\n",
        "𝜇 = 0\n",
        "\n",
        "mean, var, sk, kurt = levy_stable.stats(alpha = 𝛼, \n",
        "                                          beta = 𝛽,\n",
        "                                          loc = 𝜇,\n",
        "                                          scale = 𝜎/2,\n",
        "                                          moments='mvsk')\n",
        "print(mean, var, sk, kurt)"
      ],
      "metadata": {
        "outputId": "6047a19e-d1c9-4ddc-fa30-d7db9b22590e",
        "colab": {
          "base_uri": "https://localhost:8080/"
        },
        "id": "v4uwVIhX-dPZ"
      },
      "execution_count": 17,
      "outputs": [
        {
          "output_type": "stream",
          "name": "stdout",
          "text": [
            "nan inf nan nan\n"
          ]
        }
      ]
    },
    {
      "cell_type": "markdown",
      "source": [
        "Cambia el valor de $\\mu$ y $\\sigma$ y oberva que no tiene ningún efecto en la linea anterior"
      ],
      "metadata": {
        "id": "EzOrMY35-dPZ"
      }
    },
    {
      "cell_type": "code",
      "source": [
        "# Generamos una variable aleatoria levy como caso especial de \n",
        "# la distribución estable  \n",
        "\n",
        "𝛼 =0.5\n",
        "𝛽 = 1\n",
        "𝜎 = 1.0\n",
        "𝜇 = 0\n",
        "\n",
        "levy_special_case_rvs = levy_stable.rvs(alpha=𝛼, \n",
        "                                            beta=𝛽, \n",
        "                                            loc=𝜇, \n",
        "                                            scale=𝜎/2, \n",
        "                                            size=n)\n",
        "\n",
        "levy_mean = np.mean(levy_special_case_rvs)\n",
        "levy_std = np.std(levy_special_case_rvs)\n",
        "levy_kurt = kurtosis(levy_special_case_rvs)\n",
        "levy_skew = skew(levy_special_case_rvs)\n",
        "print(\"media de la muestra generada:\", levy_mean)\n",
        "print(\"stdev de la muestra generada:\", levy_std)\n",
        "print(\"curtosis de la muestra generada:\", levy_kurt )\n",
        "print(\"asimetría de la muestra generada:\", levy_skew )\n",
        "\n",
        "trimval = 15\n",
        "trimndx =  abs(levy_special_case_rvs) < trimval\n",
        "x_range = np.linspace(0,trimval,1000)  \n",
        "print(\"observaciones < trimval = {} : {:.2f}% \".format(trimval, \n",
        "                                                  sum(trimndx)/len(trimndx)*100))\n",
        "plot_rvs = levy_special_case_rvs[trimndx]  \n",
        "\n",
        "plt.hist(plot_rvs, bins=50, density=True, alpha=.5)\n",
        "plt.plot(x_range, levy.pdf(x_range, loc=𝜇, scale=𝜎/2),\n",
        "         color='r' )\n",
        "plt.show()"
      ],
      "metadata": {
        "outputId": "bcdfbe67-037c-4b3a-9b7a-4ee74689e1e5",
        "colab": {
          "base_uri": "https://localhost:8080/",
          "height": 352
        },
        "id": "qYq_FYVx-dPZ"
      },
      "execution_count": 18,
      "outputs": [
        {
          "output_type": "stream",
          "name": "stdout",
          "text": [
            "media de la muestra generada: 5312.7519767480735\n",
            "stdev de la muestra generada: 329151.1635028521\n",
            "curtosis de la muestra generada: 8492.848422624345\n",
            "asimetría de la muestra generada: 89.7052144409667\n",
            "observaciones < trimval = 15 : 85.92% \n"
          ]
        },
        {
          "output_type": "display_data",
          "data": {
            "text/plain": [
              "<Figure size 432x288 with 1 Axes>"
            ],
            "image/png": "[encoded data removed]"
          },
          "metadata": {
            "needs_background": "light"
          }
        }
      ]
    }
  ]
}