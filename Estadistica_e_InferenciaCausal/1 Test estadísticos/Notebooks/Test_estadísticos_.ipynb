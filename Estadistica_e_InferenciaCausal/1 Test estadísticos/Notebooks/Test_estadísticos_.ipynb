{
  "nbformat": 4,
  "nbformat_minor": 0,
  "metadata": {
    "colab": {
      "name": "Test_estadísticos .ipynb",
      "provenance": [],
      "toc_visible": true,
      "mount_file_id": "https://github.com/AnIsAsPe/Estadistica_y_Probabilidad_para-CD-/blob/main/Semana5/Notebooks/Test_estad%C3%ADsticos_.ipynb",
      "authorship_tag": "ABX9TyNSWNPk8If8g8qg6BvQTHwG",
      "include_colab_link": true
    },
    "kernelspec": {
      "name": "python3",
      "display_name": "Python 3"
    }
  },
  "cells": [
    {
      "cell_type": "markdown",
      "metadata": {
        "id": "view-in-github",
        "colab_type": "text"
      },
      "source": [
        "<a href=\"https://colab.research.google.com/github/AnIsAsPe/Estadistica_y_Probabilidad_para-CD-/blob/main/Estadistica_e_InferenciaCausal/1%20Test%20estad%C3%ADsticos/Notebooks/Test_estad%C3%ADsticos_.ipynb\" target=\"_parent\"><img src=\"https://colab.research.google.com/assets/colab-badge.svg\" alt=\"Open In Colab\"/></a>"
      ]
    },
    {
      "cell_type": "markdown",
      "metadata": {
        "id": "8-2io6qfdvhP"
      },
      "source": [
        "#Bibliotecas"
      ]
    },
    {
      "cell_type": "code",
      "source": [
        "!pip install scipy==1.9.1"
      ],
      "metadata": {
        "id": "iZps5JPOfLR6",
        "outputId": "13bbe961-fdb1-4a6d-d700-6db88fea4b65",
        "colab": {
          "base_uri": "https://localhost:8080/",
          "height": 304
        }
      },
      "execution_count": 51,
      "outputs": [
        {
          "output_type": "stream",
          "name": "stdout",
          "text": [
            "Looking in indexes: https://pypi.org/simple, https://us-python.pkg.dev/colab-wheels/public/simple/\n",
            "Collecting scipy==1.9.1\n",
            "  Downloading scipy-1.9.1-cp310-cp310-manylinux_2_17_x86_64.manylinux2014_x86_64.whl (43.9 MB)\n",
            "\u001b[2K     \u001b[90m━━━━━━━━━━━━━━━━━━━━━━━━━━━━━━━━━━━━━━━━\u001b[0m \u001b[32m43.9/43.9 MB\u001b[0m \u001b[31m17.0 MB/s\u001b[0m eta \u001b[36m0:00:00\u001b[0m\n",
            "\u001b[?25hRequirement already satisfied: numpy<1.25.0,>=1.18.5 in /usr/local/lib/python3.10/dist-packages (from scipy==1.9.1) (1.22.4)\n",
            "Installing collected packages: scipy\n",
            "  Attempting uninstall: scipy\n",
            "    Found existing installation: scipy 1.10.1\n",
            "    Uninstalling scipy-1.10.1:\n",
            "      Successfully uninstalled scipy-1.10.1\n",
            "Successfully installed scipy-1.9.1\n"
          ]
        },
        {
          "output_type": "display_data",
          "data": {
            "application/vnd.colab-display-data+json": {
              "pip_warning": {
                "packages": [
                  "scipy"
                ]
              }
            }
          },
          "metadata": {}
        }
      ]
    },
    {
      "cell_type": "code",
      "metadata": {
        "id": "hqT8wVN6-CBk"
      },
      "source": [
        "import numpy as np\n",
        "import pandas as pd\n",
        "from scipy import stats\n",
        "from matplotlib import pyplot as plt\n",
        "import seaborn as sns"
      ],
      "execution_count": 1,
      "outputs": []
    },
    {
      "cell_type": "markdown",
      "metadata": {
        "id": "57bNo4VSJzCc"
      },
      "source": [
        "## Distribución Chi Cuadrada \n",
        "\n",
        "La distribución Chi cuadrada es el resultado de la suma del cuadrado de distintas variables iid con distribución normal estandarizada"
      ]
    },
    {
      "cell_type": "code",
      "metadata": {
        "id": "qTDzFXOyK58U",
        "colab": {
          "base_uri": "https://localhost:8080/",
          "height": 0
        },
        "outputId": "2919c96f-813a-44e3-e015-2b788fac970c"
      },
      "source": [
        "var_iid_gauss = {}       # diccionario que guarda variables aleatorias iid con distribución normal estandarizada \n",
        "r = 5                    # cantidad de variables iid\n",
        "size = 5000              # número de observaciones en cada variable\n",
        "\n",
        "ji = np.zeros(size)          # vector que guardara la suma de var_iid_gauss al cuadrado\n",
        "\n",
        "for i in range(1, r+1):\n",
        "  var_iid_gauss[i] = np.random.normal( 0, 1, size)  # generamos variable aleatoria a partir de una distribución normal estandar de tamaño size\n",
        "  ji += (var_iid_gauss[i]**2)\n",
        "\n",
        "plt.hist(ji,   weights = np.ones_like(ji)/size, bins=25)\n",
        "plt.show()"
      ],
      "execution_count": 2,
      "outputs": [
        {
          "output_type": "display_data",
          "data": {
            "text/plain": [
              "<Figure size 640x480 with 1 Axes>"
            ],
            "image/png": "[encoded data removed]"
          },
          "metadata": {}
        }
      ]
    },
    {
      "cell_type": "code",
      "metadata": {
        "colab": {
          "base_uri": "https://localhost:8080/",
          "height": 0
        },
        "id": "CNj5fsyNtrk8",
        "outputId": "70dc7fca-42cc-47da-ac0b-2f13e8f269e6"
      },
      "source": [
        "s = np.random.chisquare(r, size)\n",
        "plt.hist(s,   weights = np.ones_like(ji)/size, bins=25)\n",
        "plt.show()"
      ],
      "execution_count": 3,
      "outputs": [
        {
          "output_type": "display_data",
          "data": {
            "text/plain": [
              "<Figure size 640x480 with 1 Axes>"
            ],
            "image/png": "[encoded data removed]"
          },
          "metadata": {}
        }
      ]
    },
    {
      "cell_type": "code",
      "metadata": {
        "id": "ojZblQ_F-Lec"
      },
      "source": [
        "def grafica_chi_cuadrada(a, b, c, d):\n",
        "  ''''grafica la función de densidad de la distrtibución chi cuadrada para \n",
        "  los grados de libertad especificados en los parametros de entrada a, b, c y d)'''\n",
        "\n",
        "  fig, ax = plt.subplots(1, 1)\n",
        "  plt.xlim(0, d*2)\n",
        "  plt.ylim(0, .35)\n",
        "  plt.xlabel('valores')\n",
        "  plt.ylabel('frecuencia')\n",
        "  plt.title('Distribución Chi cuadrada')\n",
        "\n",
        "  x = np.linspace(0, d*2, 500)\n",
        "  grados_libertad = [a, b, c, d]\n",
        "  linestyles = [':', '--', '-.', '-']\n",
        "\n",
        "  for r, ls in zip(grados_libertad, linestyles):\n",
        "    pdf = stats.chi2.pdf(x, r)                    # función de densidad chi2, para r grados de libertad\n",
        "    ax.plot(x, pdf,  linestyle=ls)\n",
        "\n",
        "  plt.legend(grados_libertad)\n",
        "  plt.show()"
      ],
      "execution_count": 4,
      "outputs": []
    },
    {
      "cell_type": "code",
      "metadata": {
        "colab": {
          "base_uri": "https://localhost:8080/",
          "height": 0
        },
        "id": "6Yb1LajGpdHi",
        "outputId": "5de5e4b5-2f4e-421c-cc1d-7d49353f103f"
      },
      "source": [
        "grafica_chi_cuadrada(6, 7, 12, 20)"
      ],
      "execution_count": 5,
      "outputs": [
        {
          "output_type": "display_data",
          "data": {
            "text/plain": [
              "<Figure size 640x480 with 1 Axes>"
            ],
            "image/png": "[encoded data removed]"
          },
          "metadata": {}
        }
      ]
    },
    {
      "cell_type": "markdown",
      "metadata": {
        "id": "DPk4Puddkrya"
      },
      "source": [
        "# Prueba de bondad de ajuste  $\\chi^2$ de Pearson"
      ]
    },
    {
      "cell_type": "markdown",
      "metadata": {
        "id": "P-Aft6kpNS6P"
      },
      "source": [
        "## Ejemplo:\n",
        "\n",
        "Geisser realizó un estudio en 1889 de la distribución de hijos e hijas en las familias en Saxony con 12 hijos.\n",
        "Se deseaba probar que la probabilidad de tener un hijo varon  es de 0.52\n"
      ]
    },
    {
      "cell_type": "code",
      "metadata": {
        "id": "U_lEyNGtNR5q",
        "colab": {
          "base_uri": "https://localhost:8080/",
          "height": 457
        },
        "outputId": "68238ddb-6313-405c-eb29-ff095869c981"
      },
      "source": [
        "datos = pd.read_csv('https://www.stat.berkeley.edu/~rice/Stat135/geissler.txt')\n",
        "datos.columns=['hijos_h','frec_observada']\n",
        "datos"
      ],
      "execution_count": 6,
      "outputs": [
        {
          "output_type": "execute_result",
          "data": {
            "text/plain": [
              "    hijos_h  frec_observada\n",
              "0         0               7\n",
              "1         1              45\n",
              "2         2             181\n",
              "3         3             478\n",
              "4         4             829\n",
              "5         5            1112\n",
              "6         6            1343\n",
              "7         7            1033\n",
              "8         8             670\n",
              "9         9             286\n",
              "10       10             104\n",
              "11       11              24\n",
              "12       12               3"
            ],
            "text/html": [
              "\n",
              "  <div id=\"df-43230f75-4cb1-4a3c-aa59-de6ea0e6b9c5\">\n",
              "    <div class=\"colab-df-container\">\n",
              "      <div>\n",
              "<style scoped>\n",
              "    .dataframe tbody tr th:only-of-type {\n",
              "        vertical-align: middle;\n",
              "    }\n",
              "\n",
              "    .dataframe tbody tr th {\n",
              "        vertical-align: top;\n",
              "    }\n",
              "\n",
              "    .dataframe thead th {\n",
              "        text-align: right;\n",
              "    }\n",
              "</style>\n",
              "<table border=\"1\" class=\"dataframe\">\n",
              "  <thead>\n",
              "    <tr style=\"text-align: right;\">\n",
              "      <th></th>\n",
              "      <th>hijos_h</th>\n",
              "      <th>frec_observada</th>\n",
              "    </tr>\n",
              "  </thead>\n",
              "  <tbody>\n",
              "    <tr>\n",
              "      <th>0</th>\n",
              "      <td>0</td>\n",
              "      <td>7</td>\n",
              "    </tr>\n",
              "    <tr>\n",
              "      <th>1</th>\n",
              "      <td>1</td>\n",
              "      <td>45</td>\n",
              "    </tr>\n",
              "    <tr>\n",
              "      <th>2</th>\n",
              "      <td>2</td>\n",
              "      <td>181</td>\n",
              "    </tr>\n",
              "    <tr>\n",
              "      <th>3</th>\n",
              "      <td>3</td>\n",
              "      <td>478</td>\n",
              "    </tr>\n",
              "    <tr>\n",
              "      <th>4</th>\n",
              "      <td>4</td>\n",
              "      <td>829</td>\n",
              "    </tr>\n",
              "    <tr>\n",
              "      <th>5</th>\n",
              "      <td>5</td>\n",
              "      <td>1112</td>\n",
              "    </tr>\n",
              "    <tr>\n",
              "      <th>6</th>\n",
              "      <td>6</td>\n",
              "      <td>1343</td>\n",
              "    </tr>\n",
              "    <tr>\n",
              "      <th>7</th>\n",
              "      <td>7</td>\n",
              "      <td>1033</td>\n",
              "    </tr>\n",
              "    <tr>\n",
              "      <th>8</th>\n",
              "      <td>8</td>\n",
              "      <td>670</td>\n",
              "    </tr>\n",
              "    <tr>\n",
              "      <th>9</th>\n",
              "      <td>9</td>\n",
              "      <td>286</td>\n",
              "    </tr>\n",
              "    <tr>\n",
              "      <th>10</th>\n",
              "      <td>10</td>\n",
              "      <td>104</td>\n",
              "    </tr>\n",
              "    <tr>\n",
              "      <th>11</th>\n",
              "      <td>11</td>\n",
              "      <td>24</td>\n",
              "    </tr>\n",
              "    <tr>\n",
              "      <th>12</th>\n",
              "      <td>12</td>\n",
              "      <td>3</td>\n",
              "    </tr>\n",
              "  </tbody>\n",
              "</table>\n",
              "</div>\n",
              "      <button class=\"colab-df-convert\" onclick=\"convertToInteractive('df-43230f75-4cb1-4a3c-aa59-de6ea0e6b9c5')\"\n",
              "              title=\"Convert this dataframe to an interactive table.\"\n",
              "              style=\"display:none;\">\n",
              "        \n",
              "  <svg xmlns=\"http://www.w3.org/2000/svg\" height=\"24px\"viewBox=\"0 0 24 24\"\n",
              "       width=\"24px\">\n",
              "    <path d=\"M0 0h24v24H0V0z\" fill=\"none\"/>\n",
              "    <path d=\"M18.56 5.44l.94 2.06.94-2.06 2.06-.94-2.06-.94-.94-2.06-.94 2.06-2.06.94zm-11 1L8.5 8.5l.94-2.06 2.06-.94-2.06-.94L8.5 2.5l-.94 2.06-2.06.94zm10 10l.94 2.06.94-2.06 2.06-.94-2.06-.94-.94-2.06-.94 2.06-2.06.94z\"/><path d=\"M17.41 7.96l-1.37-1.37c-.4-.4-.92-.59-1.43-.59-.52 0-1.04.2-1.43.59L10.3 9.45l-7.72 7.72c-.78.78-.78 2.05 0 2.83L4 21.41c.39.39.9.59 1.41.59.51 0 1.02-.2 1.41-.59l7.78-7.78 2.81-2.81c.8-.78.8-2.07 0-2.86zM5.41 20L4 18.59l7.72-7.72 1.47 1.35L5.41 20z\"/>\n",
              "  </svg>\n",
              "      </button>\n",
              "      \n",
              "  <style>\n",
              "    .colab-df-container {\n",
              "      display:flex;\n",
              "      flex-wrap:wrap;\n",
              "      gap: 12px;\n",
              "    }\n",
              "\n",
              "    .colab-df-convert {\n",
              "      background-color: #E8F0FE;\n",
              "      border: none;\n",
              "      border-radius: 50%;\n",
              "      cursor: pointer;\n",
              "      display: none;\n",
              "      fill: #1967D2;\n",
              "      height: 32px;\n",
              "      padding: 0 0 0 0;\n",
              "      width: 32px;\n",
              "    }\n",
              "\n",
              "    .colab-df-convert:hover {\n",
              "      background-color: #E2EBFA;\n",
              "      box-shadow: 0px 1px 2px rgba(60, 64, 67, 0.3), 0px 1px 3px 1px rgba(60, 64, 67, 0.15);\n",
              "      fill: #174EA6;\n",
              "    }\n",
              "\n",
              "    [theme=dark] .colab-df-convert {\n",
              "      background-color: #3B4455;\n",
              "      fill: #D2E3FC;\n",
              "    }\n",
              "\n",
              "    [theme=dark] .colab-df-convert:hover {\n",
              "      background-color: #434B5C;\n",
              "      box-shadow: 0px 1px 3px 1px rgba(0, 0, 0, 0.15);\n",
              "      filter: drop-shadow(0px 1px 2px rgba(0, 0, 0, 0.3));\n",
              "      fill: #FFFFFF;\n",
              "    }\n",
              "  </style>\n",
              "\n",
              "      <script>\n",
              "        const buttonEl =\n",
              "          document.querySelector('#df-43230f75-4cb1-4a3c-aa59-de6ea0e6b9c5 button.colab-df-convert');\n",
              "        buttonEl.style.display =\n",
              "          google.colab.kernel.accessAllowed ? 'block' : 'none';\n",
              "\n",
              "        async function convertToInteractive(key) {\n",
              "          const element = document.querySelector('#df-43230f75-4cb1-4a3c-aa59-de6ea0e6b9c5');\n",
              "          const dataTable =\n",
              "            await google.colab.kernel.invokeFunction('convertToInteractive',\n",
              "                                                     [key], {});\n",
              "          if (!dataTable) return;\n",
              "\n",
              "          const docLinkHtml = 'Like what you see? Visit the ' +\n",
              "            '<a target=\"_blank\" href=https://colab.research.google.com/notebooks/data_table.ipynb>data table notebook</a>'\n",
              "            + ' to learn more about interactive tables.';\n",
              "          element.innerHTML = '';\n",
              "          dataTable['output_type'] = 'display_data';\n",
              "          await google.colab.output.renderOutput(dataTable, element);\n",
              "          const docLink = document.createElement('div');\n",
              "          docLink.innerHTML = docLinkHtml;\n",
              "          element.appendChild(docLink);\n",
              "        }\n",
              "      </script>\n",
              "    </div>\n",
              "  </div>\n",
              "  "
            ]
          },
          "metadata": {},
          "execution_count": 6
        }
      ]
    },
    {
      "cell_type": "code",
      "metadata": {
        "id": "BbVYkiWlOf8Z",
        "colab": {
          "base_uri": "https://localhost:8080/"
        },
        "outputId": "d1838ea2-c851-4ed8-f093-2bf2228de087"
      },
      "source": [
        "n = datos.frec_observada.sum()\n",
        "n"
      ],
      "execution_count": 7,
      "outputs": [
        {
          "output_type": "execute_result",
          "data": {
            "text/plain": [
              "6115"
            ]
          },
          "metadata": {},
          "execution_count": 7
        }
      ]
    },
    {
      "cell_type": "code",
      "metadata": {
        "colab": {
          "base_uri": "https://localhost:8080/",
          "height": 452
        },
        "id": "pxrnqf3Zzy_u",
        "outputId": "900831bb-781d-4498-9209-f65fd2f70109"
      },
      "source": [
        "(datos.frec_observada/n).plot.bar()"
      ],
      "execution_count": 8,
      "outputs": [
        {
          "output_type": "execute_result",
          "data": {
            "text/plain": [
              "<Axes: >"
            ]
          },
          "metadata": {},
          "execution_count": 8
        },
        {
          "output_type": "display_data",
          "data": {
            "text/plain": [
              "<Figure size 640x480 with 1 Axes>"
            ],
            "image/png": "[encoded data removed]"
          },
          "metadata": {}
        }
      ]
    },
    {
      "cell_type": "markdown",
      "metadata": {
        "id": "PU0vfciwQoDo"
      },
      "source": [
        "\n",
        "Hipotesis nula:\n",
        "- la Ley de Probabilidad sigue una distribución Binomial (12, 0.52) \n",
        "(número de éxitos r en n eventos independientes sucesivos)\n",
        "\n",
        "Hipotesis alternativa:\n",
        "- La Ley de Probabilidad es cualquier otra"
      ]
    },
    {
      "cell_type": "code",
      "metadata": {
        "colab": {
          "base_uri": "https://localhost:8080/"
        },
        "id": "qGiq-03G01WK",
        "outputId": "f491e867-cfb1-4fa6-8abb-27ac7d56aa87"
      },
      "source": [
        "k = 0\n",
        "stats.binom.pmf(k, 12, .52)  #frecuencia esperada con la distribución binomial para cada posible resultado"
      ],
      "execution_count": 9,
      "outputs": [
        {
          "output_type": "execute_result",
          "data": {
            "text/plain": [
              "0.00014958734309808766"
            ]
          },
          "metadata": {},
          "execution_count": 9
        }
      ]
    },
    {
      "cell_type": "code",
      "metadata": {
        "id": "myLe_mkvSq3y",
        "colab": {
          "base_uri": "https://localhost:8080/",
          "height": 457
        },
        "outputId": "21994496-75a8-44c2-d276-07254a6210dd"
      },
      "source": [
        "## Valores esperados de la hipotesis nula\n",
        "frec_esperada=[]\n",
        "for k in range(0,13):\n",
        "    f_e= stats.binom.pmf(k, 12, .52) * n     # frecuencia esperada\n",
        "    frec_esperada.append(int(round(f_e,0)))\n",
        "\n",
        "datos['frec_esperada']=pd.Series(frec_esperada)\n",
        "datos"
      ],
      "execution_count": 10,
      "outputs": [
        {
          "output_type": "execute_result",
          "data": {
            "text/plain": [
              "    hijos_h  frec_observada  frec_esperada\n",
              "0         0               7              1\n",
              "1         1              45             12\n",
              "2         2             181             71\n",
              "3         3             478            256\n",
              "4         4             829            624\n",
              "5         5            1112           1081\n",
              "6         6            1343           1366\n",
              "7         7            1033           1269\n",
              "8         8             670            859\n",
              "9         9             286            414\n",
              "10       10             104            134\n",
              "11       11              24             26\n",
              "12       12               3              2"
            ],
            "text/html": [
              "\n",
              "  <div id=\"df-8d6534ea-8ce1-4e37-b10d-ca2095c71da9\">\n",
              "    <div class=\"colab-df-container\">\n",
              "      <div>\n",
              "<style scoped>\n",
              "    .dataframe tbody tr th:only-of-type {\n",
              "        vertical-align: middle;\n",
              "    }\n",
              "\n",
              "    .dataframe tbody tr th {\n",
              "        vertical-align: top;\n",
              "    }\n",
              "\n",
              "    .dataframe thead th {\n",
              "        text-align: right;\n",
              "    }\n",
              "</style>\n",
              "<table border=\"1\" class=\"dataframe\">\n",
              "  <thead>\n",
              "    <tr style=\"text-align: right;\">\n",
              "      <th></th>\n",
              "      <th>hijos_h</th>\n",
              "      <th>frec_observada</th>\n",
              "      <th>frec_esperada</th>\n",
              "    </tr>\n",
              "  </thead>\n",
              "  <tbody>\n",
              "    <tr>\n",
              "      <th>0</th>\n",
              "      <td>0</td>\n",
              "      <td>7</td>\n",
              "      <td>1</td>\n",
              "    </tr>\n",
              "    <tr>\n",
              "      <th>1</th>\n",
              "      <td>1</td>\n",
              "      <td>45</td>\n",
              "      <td>12</td>\n",
              "    </tr>\n",
              "    <tr>\n",
              "      <th>2</th>\n",
              "      <td>2</td>\n",
              "      <td>181</td>\n",
              "      <td>71</td>\n",
              "    </tr>\n",
              "    <tr>\n",
              "      <th>3</th>\n",
              "      <td>3</td>\n",
              "      <td>478</td>\n",
              "      <td>256</td>\n",
              "    </tr>\n",
              "    <tr>\n",
              "      <th>4</th>\n",
              "      <td>4</td>\n",
              "      <td>829</td>\n",
              "      <td>624</td>\n",
              "    </tr>\n",
              "    <tr>\n",
              "      <th>5</th>\n",
              "      <td>5</td>\n",
              "      <td>1112</td>\n",
              "      <td>1081</td>\n",
              "    </tr>\n",
              "    <tr>\n",
              "      <th>6</th>\n",
              "      <td>6</td>\n",
              "      <td>1343</td>\n",
              "      <td>1366</td>\n",
              "    </tr>\n",
              "    <tr>\n",
              "      <th>7</th>\n",
              "      <td>7</td>\n",
              "      <td>1033</td>\n",
              "      <td>1269</td>\n",
              "    </tr>\n",
              "    <tr>\n",
              "      <th>8</th>\n",
              "      <td>8</td>\n",
              "      <td>670</td>\n",
              "      <td>859</td>\n",
              "    </tr>\n",
              "    <tr>\n",
              "      <th>9</th>\n",
              "      <td>9</td>\n",
              "      <td>286</td>\n",
              "      <td>414</td>\n",
              "    </tr>\n",
              "    <tr>\n",
              "      <th>10</th>\n",
              "      <td>10</td>\n",
              "      <td>104</td>\n",
              "      <td>134</td>\n",
              "    </tr>\n",
              "    <tr>\n",
              "      <th>11</th>\n",
              "      <td>11</td>\n",
              "      <td>24</td>\n",
              "      <td>26</td>\n",
              "    </tr>\n",
              "    <tr>\n",
              "      <th>12</th>\n",
              "      <td>12</td>\n",
              "      <td>3</td>\n",
              "      <td>2</td>\n",
              "    </tr>\n",
              "  </tbody>\n",
              "</table>\n",
              "</div>\n",
              "      <button class=\"colab-df-convert\" onclick=\"convertToInteractive('df-8d6534ea-8ce1-4e37-b10d-ca2095c71da9')\"\n",
              "              title=\"Convert this dataframe to an interactive table.\"\n",
              "              style=\"display:none;\">\n",
              "        \n",
              "  <svg xmlns=\"http://www.w3.org/2000/svg\" height=\"24px\"viewBox=\"0 0 24 24\"\n",
              "       width=\"24px\">\n",
              "    <path d=\"M0 0h24v24H0V0z\" fill=\"none\"/>\n",
              "    <path d=\"M18.56 5.44l.94 2.06.94-2.06 2.06-.94-2.06-.94-.94-2.06-.94 2.06-2.06.94zm-11 1L8.5 8.5l.94-2.06 2.06-.94-2.06-.94L8.5 2.5l-.94 2.06-2.06.94zm10 10l.94 2.06.94-2.06 2.06-.94-2.06-.94-.94-2.06-.94 2.06-2.06.94z\"/><path d=\"M17.41 7.96l-1.37-1.37c-.4-.4-.92-.59-1.43-.59-.52 0-1.04.2-1.43.59L10.3 9.45l-7.72 7.72c-.78.78-.78 2.05 0 2.83L4 21.41c.39.39.9.59 1.41.59.51 0 1.02-.2 1.41-.59l7.78-7.78 2.81-2.81c.8-.78.8-2.07 0-2.86zM5.41 20L4 18.59l7.72-7.72 1.47 1.35L5.41 20z\"/>\n",
              "  </svg>\n",
              "      </button>\n",
              "      \n",
              "  <style>\n",
              "    .colab-df-container {\n",
              "      display:flex;\n",
              "      flex-wrap:wrap;\n",
              "      gap: 12px;\n",
              "    }\n",
              "\n",
              "    .colab-df-convert {\n",
              "      background-color: #E8F0FE;\n",
              "      border: none;\n",
              "      border-radius: 50%;\n",
              "      cursor: pointer;\n",
              "      display: none;\n",
              "      fill: #1967D2;\n",
              "      height: 32px;\n",
              "      padding: 0 0 0 0;\n",
              "      width: 32px;\n",
              "    }\n",
              "\n",
              "    .colab-df-convert:hover {\n",
              "      background-color: #E2EBFA;\n",
              "      box-shadow: 0px 1px 2px rgba(60, 64, 67, 0.3), 0px 1px 3px 1px rgba(60, 64, 67, 0.15);\n",
              "      fill: #174EA6;\n",
              "    }\n",
              "\n",
              "    [theme=dark] .colab-df-convert {\n",
              "      background-color: #3B4455;\n",
              "      fill: #D2E3FC;\n",
              "    }\n",
              "\n",
              "    [theme=dark] .colab-df-convert:hover {\n",
              "      background-color: #434B5C;\n",
              "      box-shadow: 0px 1px 3px 1px rgba(0, 0, 0, 0.15);\n",
              "      filter: drop-shadow(0px 1px 2px rgba(0, 0, 0, 0.3));\n",
              "      fill: #FFFFFF;\n",
              "    }\n",
              "  </style>\n",
              "\n",
              "      <script>\n",
              "        const buttonEl =\n",
              "          document.querySelector('#df-8d6534ea-8ce1-4e37-b10d-ca2095c71da9 button.colab-df-convert');\n",
              "        buttonEl.style.display =\n",
              "          google.colab.kernel.accessAllowed ? 'block' : 'none';\n",
              "\n",
              "        async function convertToInteractive(key) {\n",
              "          const element = document.querySelector('#df-8d6534ea-8ce1-4e37-b10d-ca2095c71da9');\n",
              "          const dataTable =\n",
              "            await google.colab.kernel.invokeFunction('convertToInteractive',\n",
              "                                                     [key], {});\n",
              "          if (!dataTable) return;\n",
              "\n",
              "          const docLinkHtml = 'Like what you see? Visit the ' +\n",
              "            '<a target=\"_blank\" href=https://colab.research.google.com/notebooks/data_table.ipynb>data table notebook</a>'\n",
              "            + ' to learn more about interactive tables.';\n",
              "          element.innerHTML = '';\n",
              "          dataTable['output_type'] = 'display_data';\n",
              "          await google.colab.output.renderOutput(dataTable, element);\n",
              "          const docLink = document.createElement('div');\n",
              "          docLink.innerHTML = docLinkHtml;\n",
              "          element.appendChild(docLink);\n",
              "        }\n",
              "      </script>\n",
              "    </div>\n",
              "  </div>\n",
              "  "
            ]
          },
          "metadata": {},
          "execution_count": 10
        }
      ]
    },
    {
      "cell_type": "code",
      "metadata": {
        "id": "WLnpq3xIOKMP",
        "colab": {
          "base_uri": "https://localhost:8080/",
          "height": 462
        },
        "outputId": "791c49b0-338f-45c8-8c14-8fd0f2272a6e"
      },
      "source": [
        "variables= ['frec_observada', 'frec_esperada']\n",
        "fig, ax = plt.subplots(1,2, figsize=(12, 5))\n",
        "for var, subplot in zip(variables, ax.flatten()):\n",
        "  sns.barplot(x='hijos_h', y=var, data = datos, ax= subplot)\n",
        "plt.show()"
      ],
      "execution_count": 11,
      "outputs": [
        {
          "output_type": "display_data",
          "data": {
            "text/plain": [
              "<Figure size 1200x500 with 2 Axes>"
            ],
            "image/png": "[encoded data removed]"
          },
          "metadata": {}
        }
      ]
    },
    {
      "cell_type": "markdown",
      "metadata": {
        "id": "SQOKqo47eAHr"
      },
      "source": [
        "## test_chi_cuadrada()"
      ]
    },
    {
      "cell_type": "code",
      "metadata": {
        "colab": {
          "base_uri": "https://localhost:8080/",
          "height": 430
        },
        "id": "hPIy1jX5zxQk",
        "outputId": "75587a77-0e22-4bde-b5db-9aa7021e784c"
      },
      "source": [
        "gl = 12 # grados de libertad\n",
        "x = np.linspace(0, 40, 100)\n",
        "pdf = stats.chi2.pdf(x, gl)                    # función de densidad chi2, para r grados de libertad\n",
        "plt.plot(x, pdf)\n",
        "plt.show()"
      ],
      "execution_count": 12,
      "outputs": [
        {
          "output_type": "display_data",
          "data": {
            "text/plain": [
              "<Figure size 640x480 with 1 Axes>"
            ],
            "image/png": "[encoded data removed]"
          },
          "metadata": {}
        }
      ]
    },
    {
      "cell_type": "code",
      "metadata": {
        "id": "6j-oLoda-ISj"
      },
      "source": [
        "gl = 12      # grados de libertad\n",
        "alfa = 0.05  # nivel de significancia\n",
        "\n",
        "x = stats.chi2.ppf(1-alfa , gl)  # valor crítico"
      ],
      "execution_count": 13,
      "outputs": []
    },
    {
      "cell_type": "code",
      "metadata": {
        "id": "MC9uN-K_dJLd",
        "outputId": "d3d9c08e-ad93-4384-db27-0d68be952b38",
        "colab": {
          "base_uri": "https://localhost:8080/"
        }
      },
      "source": [
        "x"
      ],
      "execution_count": 14,
      "outputs": [
        {
          "output_type": "execute_result",
          "data": {
            "text/plain": [
              "21.02606981748307"
            ]
          },
          "metadata": {},
          "execution_count": 14
        }
      ]
    },
    {
      "cell_type": "markdown",
      "metadata": {
        "id": "05GHcB8CunXG"
      },
      "source": [
        "![tabla chi cuadrada](https://d20ohkaloyme4g.cloudfront.net/img/document_thumbnails/d4e586470f42dcf4c1e7fd6cfa08f31a/thumb_1200_848.png)"
      ]
    },
    {
      "cell_type": "code",
      "metadata": {
        "id": "6HlSlOYSXYsC"
      },
      "source": [
        "def bondad_ajuste_Pearson(observados, esperados,  alfa = 0.05):\n",
        "    \"\"\"Test de Pearson de bondad de ajuste\"\"\"\n",
        "    # Compararemos el estadistico de prueba con el valor crítico proveniente de \n",
        "    # una distribución Chi cuadrada\n",
        "\n",
        "    # Estadistico de prueba\n",
        "    estadistico_test = 0  \n",
        "    for observado, esperado in zip(observados,esperados):\n",
        "        error = observado - esperado\n",
        "        estadistico_test += pow(error, 2) / esperado\n",
        "\n",
        "    # Valor crítico\n",
        "    gl = len(observados) - 1\n",
        "    valor_critico = stats.chi2.ppf(1-alfa , gl)\n",
        "\n",
        "    if estadistico_test <= valor_critico:\n",
        "      print(\"El estadístico de la prueba NO está en la región de rechazo\")\n",
        "    else:\n",
        "      print(\"El estadístico de la prueba está en la región de rechazo\")\n",
        "\n",
        "    print(\"\\nTest Chi-squared  estadístico = {:.3f}\".format(estadistico_test))\n",
        "    print(\"Valor crítico P-value para {:.2f} de significancia es {:.3f}\".format(alfa, valor_critico))    \n"
      ],
      "execution_count": 15,
      "outputs": []
    },
    {
      "cell_type": "code",
      "metadata": {
        "id": "Yi6z7HLSdE_k",
        "colab": {
          "base_uri": "https://localhost:8080/"
        },
        "outputId": "3aa03bd6-beed-4f44-bf5b-972e6e62735f"
      },
      "source": [
        "bondad_ajuste_Pearson(datos['frec_observada'], datos['frec_esperada'], 0.05)"
      ],
      "execution_count": 16,
      "outputs": [
        {
          "output_type": "stream",
          "name": "stdout",
          "text": [
            "El estadístico de la prueba está en la región de rechazo\n",
            "\n",
            "Test Chi-squared  estadístico = 690.731\n",
            "Valor crítico P-value para 0.05 de significancia es 21.026\n"
          ]
        }
      ]
    },
    {
      "cell_type": "code",
      "metadata": {
        "id": "r6cSNN0IZI-k",
        "colab": {
          "base_uri": "https://localhost:8080/"
        },
        "outputId": "e4f49e8f-6148-43b4-9f22-80f49b3e7a0b"
      },
      "source": [
        "stats.chisquare(datos['frec_observada'], datos['frec_esperada'])"
      ],
      "execution_count": 17,
      "outputs": [
        {
          "output_type": "execute_result",
          "data": {
            "text/plain": [
              "Power_divergenceResult(statistic=690.7313910429208, pvalue=4.247307668727312e-140)"
            ]
          },
          "metadata": {},
          "execution_count": 17
        }
      ]
    },
    {
      "cell_type": "markdown",
      "metadata": {
        "id": "bvG7JS1xMMPP"
      },
      "source": [
        "# Prueba $\\chi^2$ de independencia  "
      ]
    },
    {
      "cell_type": "code",
      "metadata": {
        "colab": {
          "base_uri": "https://localhost:8080/",
          "height": 206
        },
        "id": "VOZfUzkqMMPV",
        "outputId": "f59a7eba-e681-44c8-f930-f5a45ae5d1a6"
      },
      "source": [
        "df = pd.read_csv('https://raw.githubusercontent.com/AnIsAsPe/ClasificadorClientesTelecom/master/Datos/WA_Fn-UseC_-Telco-Customer-Churn.csv', \n",
        "                 usecols=['PaymentMethod', 'Contract', 'gender']\n",
        "                 )\n",
        "df.head()"
      ],
      "execution_count": 18,
      "outputs": [
        {
          "output_type": "execute_result",
          "data": {
            "text/plain": [
              "   gender        Contract              PaymentMethod\n",
              "0  Female  Month-to-month           Electronic check\n",
              "1    Male        One year               Mailed check\n",
              "2    Male  Month-to-month               Mailed check\n",
              "3    Male        One year  Bank transfer (automatic)\n",
              "4  Female  Month-to-month           Electronic check"
            ],
            "text/html": [
              "\n",
              "  <div id=\"df-c20d8f49-6c82-4c0d-b66c-01f4605e8bf2\">\n",
              "    <div class=\"colab-df-container\">\n",
              "      <div>\n",
              "<style scoped>\n",
              "    .dataframe tbody tr th:only-of-type {\n",
              "        vertical-align: middle;\n",
              "    }\n",
              "\n",
              "    .dataframe tbody tr th {\n",
              "        vertical-align: top;\n",
              "    }\n",
              "\n",
              "    .dataframe thead th {\n",
              "        text-align: right;\n",
              "    }\n",
              "</style>\n",
              "<table border=\"1\" class=\"dataframe\">\n",
              "  <thead>\n",
              "    <tr style=\"text-align: right;\">\n",
              "      <th></th>\n",
              "      <th>gender</th>\n",
              "      <th>Contract</th>\n",
              "      <th>PaymentMethod</th>\n",
              "    </tr>\n",
              "  </thead>\n",
              "  <tbody>\n",
              "    <tr>\n",
              "      <th>0</th>\n",
              "      <td>Female</td>\n",
              "      <td>Month-to-month</td>\n",
              "      <td>Electronic check</td>\n",
              "    </tr>\n",
              "    <tr>\n",
              "      <th>1</th>\n",
              "      <td>Male</td>\n",
              "      <td>One year</td>\n",
              "      <td>Mailed check</td>\n",
              "    </tr>\n",
              "    <tr>\n",
              "      <th>2</th>\n",
              "      <td>Male</td>\n",
              "      <td>Month-to-month</td>\n",
              "      <td>Mailed check</td>\n",
              "    </tr>\n",
              "    <tr>\n",
              "      <th>3</th>\n",
              "      <td>Male</td>\n",
              "      <td>One year</td>\n",
              "      <td>Bank transfer (automatic)</td>\n",
              "    </tr>\n",
              "    <tr>\n",
              "      <th>4</th>\n",
              "      <td>Female</td>\n",
              "      <td>Month-to-month</td>\n",
              "      <td>Electronic check</td>\n",
              "    </tr>\n",
              "  </tbody>\n",
              "</table>\n",
              "</div>\n",
              "      <button class=\"colab-df-convert\" onclick=\"convertToInteractive('df-c20d8f49-6c82-4c0d-b66c-01f4605e8bf2')\"\n",
              "              title=\"Convert this dataframe to an interactive table.\"\n",
              "              style=\"display:none;\">\n",
              "        \n",
              "  <svg xmlns=\"http://www.w3.org/2000/svg\" height=\"24px\"viewBox=\"0 0 24 24\"\n",
              "       width=\"24px\">\n",
              "    <path d=\"M0 0h24v24H0V0z\" fill=\"none\"/>\n",
              "    <path d=\"M18.56 5.44l.94 2.06.94-2.06 2.06-.94-2.06-.94-.94-2.06-.94 2.06-2.06.94zm-11 1L8.5 8.5l.94-2.06 2.06-.94-2.06-.94L8.5 2.5l-.94 2.06-2.06.94zm10 10l.94 2.06.94-2.06 2.06-.94-2.06-.94-.94-2.06-.94 2.06-2.06.94z\"/><path d=\"M17.41 7.96l-1.37-1.37c-.4-.4-.92-.59-1.43-.59-.52 0-1.04.2-1.43.59L10.3 9.45l-7.72 7.72c-.78.78-.78 2.05 0 2.83L4 21.41c.39.39.9.59 1.41.59.51 0 1.02-.2 1.41-.59l7.78-7.78 2.81-2.81c.8-.78.8-2.07 0-2.86zM5.41 20L4 18.59l7.72-7.72 1.47 1.35L5.41 20z\"/>\n",
              "  </svg>\n",
              "      </button>\n",
              "      \n",
              "  <style>\n",
              "    .colab-df-container {\n",
              "      display:flex;\n",
              "      flex-wrap:wrap;\n",
              "      gap: 12px;\n",
              "    }\n",
              "\n",
              "    .colab-df-convert {\n",
              "      background-color: #E8F0FE;\n",
              "      border: none;\n",
              "      border-radius: 50%;\n",
              "      cursor: pointer;\n",
              "      display: none;\n",
              "      fill: #1967D2;\n",
              "      height: 32px;\n",
              "      padding: 0 0 0 0;\n",
              "      width: 32px;\n",
              "    }\n",
              "\n",
              "    .colab-df-convert:hover {\n",
              "      background-color: #E2EBFA;\n",
              "      box-shadow: 0px 1px 2px rgba(60, 64, 67, 0.3), 0px 1px 3px 1px rgba(60, 64, 67, 0.15);\n",
              "      fill: #174EA6;\n",
              "    }\n",
              "\n",
              "    [theme=dark] .colab-df-convert {\n",
              "      background-color: #3B4455;\n",
              "      fill: #D2E3FC;\n",
              "    }\n",
              "\n",
              "    [theme=dark] .colab-df-convert:hover {\n",
              "      background-color: #434B5C;\n",
              "      box-shadow: 0px 1px 3px 1px rgba(0, 0, 0, 0.15);\n",
              "      filter: drop-shadow(0px 1px 2px rgba(0, 0, 0, 0.3));\n",
              "      fill: #FFFFFF;\n",
              "    }\n",
              "  </style>\n",
              "\n",
              "      <script>\n",
              "        const buttonEl =\n",
              "          document.querySelector('#df-c20d8f49-6c82-4c0d-b66c-01f4605e8bf2 button.colab-df-convert');\n",
              "        buttonEl.style.display =\n",
              "          google.colab.kernel.accessAllowed ? 'block' : 'none';\n",
              "\n",
              "        async function convertToInteractive(key) {\n",
              "          const element = document.querySelector('#df-c20d8f49-6c82-4c0d-b66c-01f4605e8bf2');\n",
              "          const dataTable =\n",
              "            await google.colab.kernel.invokeFunction('convertToInteractive',\n",
              "                                                     [key], {});\n",
              "          if (!dataTable) return;\n",
              "\n",
              "          const docLinkHtml = 'Like what you see? Visit the ' +\n",
              "            '<a target=\"_blank\" href=https://colab.research.google.com/notebooks/data_table.ipynb>data table notebook</a>'\n",
              "            + ' to learn more about interactive tables.';\n",
              "          element.innerHTML = '';\n",
              "          dataTable['output_type'] = 'display_data';\n",
              "          await google.colab.output.renderOutput(dataTable, element);\n",
              "          const docLink = document.createElement('div');\n",
              "          docLink.innerHTML = docLinkHtml;\n",
              "          element.appendChild(docLink);\n",
              "        }\n",
              "      </script>\n",
              "    </div>\n",
              "  </div>\n",
              "  "
            ]
          },
          "metadata": {},
          "execution_count": 18
        }
      ]
    },
    {
      "cell_type": "code",
      "metadata": {
        "colab": {
          "base_uri": "https://localhost:8080/",
          "height": 206
        },
        "id": "O5bhL3vaO-Ny",
        "outputId": "fd80ff6e-d2c0-4626-a506-4c28a56478ad"
      },
      "source": [
        "observados = pd.crosstab(df['PaymentMethod'], df['Contract'])\n",
        "observados"
      ],
      "execution_count": 25,
      "outputs": [
        {
          "output_type": "execute_result",
          "data": {
            "text/plain": [
              "Contract                   Month-to-month  One year  Two year\n",
              "PaymentMethod                                                \n",
              "Bank transfer (automatic)             589       391       564\n",
              "Credit card (automatic)               543       398       581\n",
              "Electronic check                     1850       347       168\n",
              "Mailed check                          893       337       382"
            ],
            "text/html": [
              "\n",
              "  <div id=\"df-108d213c-bb49-4186-b862-9ecdb9fdde6a\">\n",
              "    <div class=\"colab-df-container\">\n",
              "      <div>\n",
              "<style scoped>\n",
              "    .dataframe tbody tr th:only-of-type {\n",
              "        vertical-align: middle;\n",
              "    }\n",
              "\n",
              "    .dataframe tbody tr th {\n",
              "        vertical-align: top;\n",
              "    }\n",
              "\n",
              "    .dataframe thead th {\n",
              "        text-align: right;\n",
              "    }\n",
              "</style>\n",
              "<table border=\"1\" class=\"dataframe\">\n",
              "  <thead>\n",
              "    <tr style=\"text-align: right;\">\n",
              "      <th>Contract</th>\n",
              "      <th>Month-to-month</th>\n",
              "      <th>One year</th>\n",
              "      <th>Two year</th>\n",
              "    </tr>\n",
              "    <tr>\n",
              "      <th>PaymentMethod</th>\n",
              "      <th></th>\n",
              "      <th></th>\n",
              "      <th></th>\n",
              "    </tr>\n",
              "  </thead>\n",
              "  <tbody>\n",
              "    <tr>\n",
              "      <th>Bank transfer (automatic)</th>\n",
              "      <td>589</td>\n",
              "      <td>391</td>\n",
              "      <td>564</td>\n",
              "    </tr>\n",
              "    <tr>\n",
              "      <th>Credit card (automatic)</th>\n",
              "      <td>543</td>\n",
              "      <td>398</td>\n",
              "      <td>581</td>\n",
              "    </tr>\n",
              "    <tr>\n",
              "      <th>Electronic check</th>\n",
              "      <td>1850</td>\n",
              "      <td>347</td>\n",
              "      <td>168</td>\n",
              "    </tr>\n",
              "    <tr>\n",
              "      <th>Mailed check</th>\n",
              "      <td>893</td>\n",
              "      <td>337</td>\n",
              "      <td>382</td>\n",
              "    </tr>\n",
              "  </tbody>\n",
              "</table>\n",
              "</div>\n",
              "      <button class=\"colab-df-convert\" onclick=\"convertToInteractive('df-108d213c-bb49-4186-b862-9ecdb9fdde6a')\"\n",
              "              title=\"Convert this dataframe to an interactive table.\"\n",
              "              style=\"display:none;\">\n",
              "        \n",
              "  <svg xmlns=\"http://www.w3.org/2000/svg\" height=\"24px\"viewBox=\"0 0 24 24\"\n",
              "       width=\"24px\">\n",
              "    <path d=\"M0 0h24v24H0V0z\" fill=\"none\"/>\n",
              "    <path d=\"M18.56 5.44l.94 2.06.94-2.06 2.06-.94-2.06-.94-.94-2.06-.94 2.06-2.06.94zm-11 1L8.5 8.5l.94-2.06 2.06-.94-2.06-.94L8.5 2.5l-.94 2.06-2.06.94zm10 10l.94 2.06.94-2.06 2.06-.94-2.06-.94-.94-2.06-.94 2.06-2.06.94z\"/><path d=\"M17.41 7.96l-1.37-1.37c-.4-.4-.92-.59-1.43-.59-.52 0-1.04.2-1.43.59L10.3 9.45l-7.72 7.72c-.78.78-.78 2.05 0 2.83L4 21.41c.39.39.9.59 1.41.59.51 0 1.02-.2 1.41-.59l7.78-7.78 2.81-2.81c.8-.78.8-2.07 0-2.86zM5.41 20L4 18.59l7.72-7.72 1.47 1.35L5.41 20z\"/>\n",
              "  </svg>\n",
              "      </button>\n",
              "      \n",
              "  <style>\n",
              "    .colab-df-container {\n",
              "      display:flex;\n",
              "      flex-wrap:wrap;\n",
              "      gap: 12px;\n",
              "    }\n",
              "\n",
              "    .colab-df-convert {\n",
              "      background-color: #E8F0FE;\n",
              "      border: none;\n",
              "      border-radius: 50%;\n",
              "      cursor: pointer;\n",
              "      display: none;\n",
              "      fill: #1967D2;\n",
              "      height: 32px;\n",
              "      padding: 0 0 0 0;\n",
              "      width: 32px;\n",
              "    }\n",
              "\n",
              "    .colab-df-convert:hover {\n",
              "      background-color: #E2EBFA;\n",
              "      box-shadow: 0px 1px 2px rgba(60, 64, 67, 0.3), 0px 1px 3px 1px rgba(60, 64, 67, 0.15);\n",
              "      fill: #174EA6;\n",
              "    }\n",
              "\n",
              "    [theme=dark] .colab-df-convert {\n",
              "      background-color: #3B4455;\n",
              "      fill: #D2E3FC;\n",
              "    }\n",
              "\n",
              "    [theme=dark] .colab-df-convert:hover {\n",
              "      background-color: #434B5C;\n",
              "      box-shadow: 0px 1px 3px 1px rgba(0, 0, 0, 0.15);\n",
              "      filter: drop-shadow(0px 1px 2px rgba(0, 0, 0, 0.3));\n",
              "      fill: #FFFFFF;\n",
              "    }\n",
              "  </style>\n",
              "\n",
              "      <script>\n",
              "        const buttonEl =\n",
              "          document.querySelector('#df-108d213c-bb49-4186-b862-9ecdb9fdde6a button.colab-df-convert');\n",
              "        buttonEl.style.display =\n",
              "          google.colab.kernel.accessAllowed ? 'block' : 'none';\n",
              "\n",
              "        async function convertToInteractive(key) {\n",
              "          const element = document.querySelector('#df-108d213c-bb49-4186-b862-9ecdb9fdde6a');\n",
              "          const dataTable =\n",
              "            await google.colab.kernel.invokeFunction('convertToInteractive',\n",
              "                                                     [key], {});\n",
              "          if (!dataTable) return;\n",
              "\n",
              "          const docLinkHtml = 'Like what you see? Visit the ' +\n",
              "            '<a target=\"_blank\" href=https://colab.research.google.com/notebooks/data_table.ipynb>data table notebook</a>'\n",
              "            + ' to learn more about interactive tables.';\n",
              "          element.innerHTML = '';\n",
              "          dataTable['output_type'] = 'display_data';\n",
              "          await google.colab.output.renderOutput(dataTable, element);\n",
              "          const docLink = document.createElement('div');\n",
              "          docLink.innerHTML = docLinkHtml;\n",
              "          element.appendChild(docLink);\n",
              "        }\n",
              "      </script>\n",
              "    </div>\n",
              "  </div>\n",
              "  "
            ]
          },
          "metadata": {},
          "execution_count": 25
        }
      ]
    },
    {
      "cell_type": "markdown",
      "metadata": {
        "id": "m8AkK66PMMPW"
      },
      "source": [
        "\n",
        "Hipotesis nula:\n",
        "- Las variables son independientes\n",
        "\n",
        "Hipotesis alternativa:\n",
        "- Las variables son dependientes\n",
        "\n"
      ]
    },
    {
      "cell_type": "code",
      "source": [
        "observados.iloc[0,:].sum()"
      ],
      "metadata": {
        "id": "R7DUeRAqY6Z5",
        "outputId": "b80c9e2a-4223-4e3b-a987-a7038a410d80",
        "colab": {
          "base_uri": "https://localhost:8080/"
        }
      },
      "execution_count": 22,
      "outputs": [
        {
          "output_type": "execute_result",
          "data": {
            "text/plain": [
              "1544"
            ]
          },
          "metadata": {},
          "execution_count": 22
        }
      ]
    },
    {
      "cell_type": "code",
      "metadata": {
        "colab": {
          "base_uri": "https://localhost:8080/",
          "height": 206
        },
        "id": "JKTF6D7WeXlb",
        "outputId": "559402e4-64f5-458e-fa15-d43df28d3710"
      },
      "source": [
        "esperados = pd.DataFrame().reindex_like(observados)\n",
        "renglones, columnas = observados.shape\n",
        "for i in range(renglones):\n",
        "    for j in range(columnas):\n",
        "      esperados.iloc[i, j] = observados.iloc[i,:].sum() * observados.iloc[:, j].sum()/ observados.sum().sum()\n",
        "esperados"
      ],
      "execution_count": 26,
      "outputs": [
        {
          "output_type": "execute_result",
          "data": {
            "text/plain": [
              "Contract                   Month-to-month    One year    Two year\n",
              "PaymentMethod                                                    \n",
              "Bank transfer (automatic)      849.495953  322.918075  371.585972\n",
              "Credit card (automatic)        837.391736  318.316910  366.291353\n",
              "Electronic check              1301.203322  494.625160  569.171518\n",
              "Mailed check                   886.908988  337.139855  387.951157"
            ],
            "text/html": [
              "\n",
              "  <div id=\"df-cc9abbb8-226d-4cbc-8de1-bbad83087e0f\">\n",
              "    <div class=\"colab-df-container\">\n",
              "      <div>\n",
              "<style scoped>\n",
              "    .dataframe tbody tr th:only-of-type {\n",
              "        vertical-align: middle;\n",
              "    }\n",
              "\n",
              "    .dataframe tbody tr th {\n",
              "        vertical-align: top;\n",
              "    }\n",
              "\n",
              "    .dataframe thead th {\n",
              "        text-align: right;\n",
              "    }\n",
              "</style>\n",
              "<table border=\"1\" class=\"dataframe\">\n",
              "  <thead>\n",
              "    <tr style=\"text-align: right;\">\n",
              "      <th>Contract</th>\n",
              "      <th>Month-to-month</th>\n",
              "      <th>One year</th>\n",
              "      <th>Two year</th>\n",
              "    </tr>\n",
              "    <tr>\n",
              "      <th>PaymentMethod</th>\n",
              "      <th></th>\n",
              "      <th></th>\n",
              "      <th></th>\n",
              "    </tr>\n",
              "  </thead>\n",
              "  <tbody>\n",
              "    <tr>\n",
              "      <th>Bank transfer (automatic)</th>\n",
              "      <td>849.495953</td>\n",
              "      <td>322.918075</td>\n",
              "      <td>371.585972</td>\n",
              "    </tr>\n",
              "    <tr>\n",
              "      <th>Credit card (automatic)</th>\n",
              "      <td>837.391736</td>\n",
              "      <td>318.316910</td>\n",
              "      <td>366.291353</td>\n",
              "    </tr>\n",
              "    <tr>\n",
              "      <th>Electronic check</th>\n",
              "      <td>1301.203322</td>\n",
              "      <td>494.625160</td>\n",
              "      <td>569.171518</td>\n",
              "    </tr>\n",
              "    <tr>\n",
              "      <th>Mailed check</th>\n",
              "      <td>886.908988</td>\n",
              "      <td>337.139855</td>\n",
              "      <td>387.951157</td>\n",
              "    </tr>\n",
              "  </tbody>\n",
              "</table>\n",
              "</div>\n",
              "      <button class=\"colab-df-convert\" onclick=\"convertToInteractive('df-cc9abbb8-226d-4cbc-8de1-bbad83087e0f')\"\n",
              "              title=\"Convert this dataframe to an interactive table.\"\n",
              "              style=\"display:none;\">\n",
              "        \n",
              "  <svg xmlns=\"http://www.w3.org/2000/svg\" height=\"24px\"viewBox=\"0 0 24 24\"\n",
              "       width=\"24px\">\n",
              "    <path d=\"M0 0h24v24H0V0z\" fill=\"none\"/>\n",
              "    <path d=\"M18.56 5.44l.94 2.06.94-2.06 2.06-.94-2.06-.94-.94-2.06-.94 2.06-2.06.94zm-11 1L8.5 8.5l.94-2.06 2.06-.94-2.06-.94L8.5 2.5l-.94 2.06-2.06.94zm10 10l.94 2.06.94-2.06 2.06-.94-2.06-.94-.94-2.06-.94 2.06-2.06.94z\"/><path d=\"M17.41 7.96l-1.37-1.37c-.4-.4-.92-.59-1.43-.59-.52 0-1.04.2-1.43.59L10.3 9.45l-7.72 7.72c-.78.78-.78 2.05 0 2.83L4 21.41c.39.39.9.59 1.41.59.51 0 1.02-.2 1.41-.59l7.78-7.78 2.81-2.81c.8-.78.8-2.07 0-2.86zM5.41 20L4 18.59l7.72-7.72 1.47 1.35L5.41 20z\"/>\n",
              "  </svg>\n",
              "      </button>\n",
              "      \n",
              "  <style>\n",
              "    .colab-df-container {\n",
              "      display:flex;\n",
              "      flex-wrap:wrap;\n",
              "      gap: 12px;\n",
              "    }\n",
              "\n",
              "    .colab-df-convert {\n",
              "      background-color: #E8F0FE;\n",
              "      border: none;\n",
              "      border-radius: 50%;\n",
              "      cursor: pointer;\n",
              "      display: none;\n",
              "      fill: #1967D2;\n",
              "      height: 32px;\n",
              "      padding: 0 0 0 0;\n",
              "      width: 32px;\n",
              "    }\n",
              "\n",
              "    .colab-df-convert:hover {\n",
              "      background-color: #E2EBFA;\n",
              "      box-shadow: 0px 1px 2px rgba(60, 64, 67, 0.3), 0px 1px 3px 1px rgba(60, 64, 67, 0.15);\n",
              "      fill: #174EA6;\n",
              "    }\n",
              "\n",
              "    [theme=dark] .colab-df-convert {\n",
              "      background-color: #3B4455;\n",
              "      fill: #D2E3FC;\n",
              "    }\n",
              "\n",
              "    [theme=dark] .colab-df-convert:hover {\n",
              "      background-color: #434B5C;\n",
              "      box-shadow: 0px 1px 3px 1px rgba(0, 0, 0, 0.15);\n",
              "      filter: drop-shadow(0px 1px 2px rgba(0, 0, 0, 0.3));\n",
              "      fill: #FFFFFF;\n",
              "    }\n",
              "  </style>\n",
              "\n",
              "      <script>\n",
              "        const buttonEl =\n",
              "          document.querySelector('#df-cc9abbb8-226d-4cbc-8de1-bbad83087e0f button.colab-df-convert');\n",
              "        buttonEl.style.display =\n",
              "          google.colab.kernel.accessAllowed ? 'block' : 'none';\n",
              "\n",
              "        async function convertToInteractive(key) {\n",
              "          const element = document.querySelector('#df-cc9abbb8-226d-4cbc-8de1-bbad83087e0f');\n",
              "          const dataTable =\n",
              "            await google.colab.kernel.invokeFunction('convertToInteractive',\n",
              "                                                     [key], {});\n",
              "          if (!dataTable) return;\n",
              "\n",
              "          const docLinkHtml = 'Like what you see? Visit the ' +\n",
              "            '<a target=\"_blank\" href=https://colab.research.google.com/notebooks/data_table.ipynb>data table notebook</a>'\n",
              "            + ' to learn more about interactive tables.';\n",
              "          element.innerHTML = '';\n",
              "          dataTable['output_type'] = 'display_data';\n",
              "          await google.colab.output.renderOutput(dataTable, element);\n",
              "          const docLink = document.createElement('div');\n",
              "          docLink.innerHTML = docLinkHtml;\n",
              "          element.appendChild(docLink);\n",
              "        }\n",
              "      </script>\n",
              "    </div>\n",
              "  </div>\n",
              "  "
            ]
          },
          "metadata": {},
          "execution_count": 26
        }
      ]
    },
    {
      "cell_type": "markdown",
      "metadata": {
        "id": "BTTDqPn8hqiL"
      },
      "source": [
        "$estadístico_{test} = \\sum\\frac{(Observado-Esperado)^2}{Esperado}$"
      ]
    },
    {
      "cell_type": "code",
      "metadata": {
        "colab": {
          "base_uri": "https://localhost:8080/"
        },
        "id": "5XrmJcVwcM1g",
        "outputId": "841245d6-7c47-431a-b193-ba7c02b68be4"
      },
      "source": [
        "estadistico_test = (pow((observados - esperados),2)/esperados).sum().sum()\n",
        "estadistico_test"
      ],
      "execution_count": 27,
      "outputs": [
        {
          "output_type": "execute_result",
          "data": {
            "text/plain": [
              "1001.5815711333701"
            ]
          },
          "metadata": {},
          "execution_count": 27
        }
      ]
    },
    {
      "cell_type": "code",
      "metadata": {
        "colab": {
          "base_uri": "https://localhost:8080/"
        },
        "id": "FOCVIduPg9rD",
        "outputId": "b5bc26ce-0c07-4804-b796-b800e9d3d586"
      },
      "source": [
        "gl = (renglones - 1)*(columnas -1)\n",
        "alfa = 0.05\n",
        "valor_critico = stats.chi2.ppf(1-alfa , gl)\n",
        "valor_critico"
      ],
      "execution_count": 28,
      "outputs": [
        {
          "output_type": "execute_result",
          "data": {
            "text/plain": [
              "12.591587243743977"
            ]
          },
          "metadata": {},
          "execution_count": 28
        }
      ]
    },
    {
      "cell_type": "markdown",
      "metadata": {
        "id": "V84jWlZt2uDZ"
      },
      "source": [
        "Todo junto "
      ]
    },
    {
      "cell_type": "code",
      "metadata": {
        "id": "zdeaavfdbQw3"
      },
      "source": [
        "def prueba_independencia(col1, col2, alfa = 0.05):\n",
        "    \"\"\"###  Prueba Chi cuadrada independencia ###\n",
        "    col1 y col2 son columnas categóricas de un mismo dataframe,\n",
        "    alfa es el nivel de significancia\"\"\"\n",
        "    observados = pd.crosstab(col1, col2)\n",
        "    renglones, columnas = observados.shape\n",
        "    esperados = pd.DataFrame().reindex_like(observados)\n",
        "    renglones, columnas = observados.shape\n",
        "    for i in range(renglones):\n",
        "        for j in range(columnas):\n",
        "          esperados.iloc[i, j] = observados.iloc[i,:].sum()*observados.iloc[:, j].sum()/ observados.sum().sum()\n",
        "     \n",
        "    estadistico_test = (pow((observados - esperados),2)/esperados).sum().sum()\n",
        "    gl = (renglones - 1)*(columnas -1)\n",
        "    valor_critico = stats.chi2.ppf(1-alfa , gl)\n",
        "\n",
        "    if estadistico_test <= valor_critico:\n",
        "      print(\"El estadístico de la prueba NO está en la región de rechazo\")\n",
        "    else:\n",
        "      print(\"El estadístico de la prueba está en la región de rechazo\")\n",
        "\n",
        "    print(\"\\nTest Chi-squared  estadístico = {:.3f}\".format(estadistico_test))\n",
        "    print(\"Valor crítico P-value para 0.05 de significancia is {:.3f}.\".format(valor_critico))    \n"
      ],
      "execution_count": 29,
      "outputs": []
    },
    {
      "cell_type": "code",
      "metadata": {
        "colab": {
          "base_uri": "https://localhost:8080/"
        },
        "id": "sjX_u8rc22nx",
        "outputId": "38bb8882-436e-4580-8d38-dc38d3dc9094"
      },
      "source": [
        "prueba_independencia(df['PaymentMethod'], df['Contract'])"
      ],
      "execution_count": 30,
      "outputs": [
        {
          "output_type": "stream",
          "name": "stdout",
          "text": [
            "El estadístico de la prueba está en la región de rechazo\n",
            "\n",
            "Test Chi-squared  estadístico = 1001.582\n",
            "Valor crítico P-value para 0.05 de significancia is 12.592.\n"
          ]
        }
      ]
    },
    {
      "cell_type": "code",
      "metadata": {
        "colab": {
          "base_uri": "https://localhost:8080/"
        },
        "id": "b-Ju2Pac5SP4",
        "outputId": "dfebd13a-43c2-4e3a-9b54-be52b72291ea"
      },
      "source": [
        "prueba_independencia(df['PaymentMethod'], df['gender'], alfa=0.05)"
      ],
      "execution_count": 31,
      "outputs": [
        {
          "output_type": "stream",
          "name": "stdout",
          "text": [
            "El estadístico de la prueba NO está en la región de rechazo\n",
            "\n",
            "Test Chi-squared  estadístico = 2.449\n",
            "Valor crítico P-value para 0.05 de significancia is 7.815.\n"
          ]
        }
      ]
    },
    {
      "cell_type": "code",
      "metadata": {
        "colab": {
          "base_uri": "https://localhost:8080/"
        },
        "id": "RJEGczIOhgsc",
        "outputId": "d24a8b90-ee1f-4b6d-dcca-c0a03d227c10"
      },
      "source": [
        "prueba_independencia(df['Contract'], df['gender'], alfa=0.05)"
      ],
      "execution_count": 32,
      "outputs": [
        {
          "output_type": "stream",
          "name": "stdout",
          "text": [
            "El estadístico de la prueba NO está en la región de rechazo\n",
            "\n",
            "Test Chi-squared  estadístico = 0.468\n",
            "Valor crítico P-value para 0.05 de significancia is 5.991.\n"
          ]
        }
      ]
    },
    {
      "cell_type": "markdown",
      "metadata": {
        "id": "okZLu5WI7RwS"
      },
      "source": [
        "# Prueba de Kolmogorv Smirnov para variables continuas"
      ]
    },
    {
      "cell_type": "markdown",
      "metadata": {
        "id": "BHwO3AXBMTTW"
      },
      "source": [
        "los datos originales disponibles en [kaggle](https://www.kaggle.com/mczielinski/bitcoin-historical-data) fueron transformados para obtener el precio promedio diario."
      ]
    },
    {
      "cell_type": "code",
      "source": [
        "#!unzip \"/content/drive/MyDrive/Datos/bitstampUSD_1-min_data_2012-01-01_to_2021-03-31.csv.zip\" -d \"/content/drive/MyDrive/Datos/\""
      ],
      "metadata": {
        "id": "UyhsBsmE8C3v"
      },
      "execution_count": 41,
      "outputs": []
    },
    {
      "cell_type": "code",
      "metadata": {
        "id": "cm1RBnFD8VwO"
      },
      "source": [
        "#import datetime\n",
        "#def dateparse (time_in_secs):    \n",
        "#    return datetime.datetime.fromtimestamp(float(time_in_secs))\n",
        "\n",
        "#bitcoin = pd.read_csv('/content/bitstampUSD_1-min_data_2012-01-01_to_2021-03-31.csv',\n",
        "#                      parse_dates=True, date_parser=dateparse, \n",
        "#                      usecols=['Timestamp','Close'], index_col='Timestamp',\n",
        "#                      ).dropna()\n",
        "#precio = bitcoin.resample('D').Close.mean()\n",
        "#precio.to_csv('bitcoin_precio_diario.csv')"
      ],
      "execution_count": 42,
      "outputs": []
    },
    {
      "cell_type": "code",
      "metadata": {
        "id": "4eUolhiLFegq"
      },
      "source": [
        "precio = pd.read_csv('https://raw.githubusercontent.com/AnIsAsPe/Estadistica_y_Probabilidad_para-CD-/main/Estadistica_e_InferenciaCausal/1%20Test%20estad%C3%ADsticos/Datos/bitcoin_precio_diario.csv',\n",
        "                      parse_dates=['Timestamp'], index_col='Timestamp',\n",
        "                     )\n",
        "precio = precio['2018-01-01':]"
      ],
      "execution_count": 62,
      "outputs": []
    },
    {
      "cell_type": "code",
      "metadata": {
        "colab": {
          "base_uri": "https://localhost:8080/",
          "height": 426
        },
        "id": "euIVF62xGI_2",
        "outputId": "0a825633-ddf8-4841-b1c2-abb6e27417cb"
      },
      "source": [
        "precio.plot(figsize=(10,4), title='Precios Bitcoin', ylabel = 'Precio',)\n",
        "plt.show()"
      ],
      "execution_count": 64,
      "outputs": [
        {
          "output_type": "display_data",
          "data": {
            "text/plain": [
              "<Figure size 1000x400 with 1 Axes>"
            ],
            "image/png": "[encoded data removed]"
          },
          "metadata": {}
        }
      ]
    },
    {
      "cell_type": "code",
      "metadata": {
        "colab": {
          "base_uri": "https://localhost:8080/",
          "height": 426
        },
        "id": "pnf4LBFTGZDO",
        "outputId": "2e175a07-99f2-43f3-faec-d85c34f9155d"
      },
      "source": [
        "retorno = np.log(precio).diff().dropna()\n",
        "retorno.plot(figsize=(10,4), title='Retornos Bitcoin', ylabel = 'Retorno')\n",
        "plt.show()"
      ],
      "execution_count": 65,
      "outputs": [
        {
          "output_type": "display_data",
          "data": {
            "text/plain": [
              "<Figure size 1000x400 with 1 Axes>"
            ],
            "image/png": "[encoded data removed]"
          },
          "metadata": {}
        }
      ]
    },
    {
      "cell_type": "code",
      "metadata": {
        "colab": {
          "base_uri": "https://localhost:8080/",
          "height": 526
        },
        "id": "Tx4m3liBGxtG",
        "outputId": "872a81e7-55ca-46c9-df11-6321d9568ca7"
      },
      "source": [
        "plt.rc(\"figure\", figsize=(6,6))\n",
        "retorno.plot.hist(bins=60)\n",
        "plt.show()"
      ],
      "execution_count": 66,
      "outputs": [
        {
          "output_type": "display_data",
          "data": {
            "text/plain": [
              "<Figure size 600x600 with 1 Axes>"
            ],
            "image/png": "[encoded data removed]"
          },
          "metadata": {}
        }
      ]
    },
    {
      "cell_type": "code",
      "metadata": {
        "colab": {
          "base_uri": "https://localhost:8080/"
        },
        "id": "TmWnlY51HNrA",
        "outputId": "1a1c292d-d951-451e-cb55-1bdc1957290a"
      },
      "source": [
        "stats.kstest(retorno, 'laplace')  #https://docs.scipy.org/doc/scipy/reference/generated/scipy.stats.kstest.html"
      ],
      "execution_count": 67,
      "outputs": [
        {
          "output_type": "execute_result",
          "data": {
            "text/plain": [
              "KstestResult(statistic=0.6028595234354504, pvalue=0.0)"
            ]
          },
          "metadata": {},
          "execution_count": 67
        }
      ]
    },
    {
      "cell_type": "code",
      "metadata": {
        "colab": {
          "base_uri": "https://localhost:8080/"
        },
        "id": "xvVareRbNyKj",
        "outputId": "b941bd79-5bed-443f-c741-11928fa44d2a"
      },
      "source": [
        "stats.kstest(retorno, 'norm')"
      ],
      "execution_count": 68,
      "outputs": [
        {
          "output_type": "execute_result",
          "data": {
            "text/plain": [
              "KstestResult(statistic=0.5910776763376185, pvalue=0.0)"
            ]
          },
          "metadata": {},
          "execution_count": 68
        }
      ]
    },
    {
      "cell_type": "code",
      "source": [
        "stats.kstest(retorno, 'cauchy')"
      ],
      "metadata": {
        "id": "3pRUF9wKfg3e",
        "outputId": "e138e51e-b893-4117-fd14-728abe4d1833",
        "colab": {
          "base_uri": "https://localhost:8080/"
        }
      },
      "execution_count": 69,
      "outputs": [
        {
          "output_type": "execute_result",
          "data": {
            "text/plain": [
              "KstestResult(statistic=0.5720559436747703, pvalue=0.0)"
            ]
          },
          "metadata": {},
          "execution_count": 69
        }
      ]
    },
    {
      "cell_type": "code",
      "source": [
        "stats.kstest(retorno, 'logistic')"
      ],
      "metadata": {
        "id": "FGEcnzgRkNVv",
        "outputId": "93afa034-5f78-4c94-c850-d997d5f59657",
        "colab": {
          "base_uri": "https://localhost:8080/"
        }
      },
      "execution_count": 70,
      "outputs": [
        {
          "output_type": "execute_result",
          "data": {
            "text/plain": [
              "KstestResult(statistic=0.5573263196357686, pvalue=0.0)"
            ]
          },
          "metadata": {},
          "execution_count": 70
        }
      ]
    },
    {
      "cell_type": "markdown",
      "source": [
        " otras distribuciones \n",
        "\n",
        " https://docs.scipy.org/doc/scipy/reference/stats.html"
      ],
      "metadata": {
        "id": "SkYdzrRLOa6a"
      }
    }
  ]
}