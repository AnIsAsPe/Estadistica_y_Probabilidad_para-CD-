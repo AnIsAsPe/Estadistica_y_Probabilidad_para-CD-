{
  "nbformat": 4,
  "nbformat_minor": 0,
  "metadata": {
    "kernelspec": {
      "display_name": "Python 3",
      "language": "python",
      "name": "python3"
    },
    "language_info": {
      "codemirror_mode": {
        "name": "ipython",
        "version": 3
      },
      "file_extension": ".py",
      "mimetype": "text/x-python",
      "name": "python",
      "nbconvert_exporter": "python",
      "pygments_lexer": "ipython3",
      "version": "3.7.3"
    },
    "colab": {
      "name": "Construcción csv Bicis_NY.ipynb",
      "provenance": [],
      "include_colab_link": true
    }
  },
  "cells": [
    {
      "cell_type": "markdown",
      "metadata": {
        "id": "view-in-github",
        "colab_type": "text"
      },
      "source": [
        "<a href=\"https://colab.research.google.com/github/AnIsAsPe/Estadistica_y_Probabilidad_para-CD-/blob/main/Semana7/Notebooks/Construcci%C3%B3n_csv_Bicis_NY.ipynb\" target=\"_parent\"><img src=\"https://colab.research.google.com/assets/colab-badge.svg\" alt=\"Open In Colab\"/></a>"
      ]
    },
    {
      "cell_type": "markdown",
      "metadata": {
        "id": "NY8UlzFkHbIa"
      },
      "source": [
        "\n",
        "[Fuente de datos](https://opendata.cityofnewyork.us/) \n"
      ]
    },
    {
      "cell_type": "code",
      "metadata": {
        "id": "Kxtjq7G3HbIc"
      },
      "source": [
        "import numpy as np\n",
        "import pandas as pd"
      ],
      "execution_count": 2,
      "outputs": []
    },
    {
      "cell_type": "code",
      "metadata": {
        "id": "JpaMOBHRITbJ"
      },
      "source": [
        "#!wget -c \"https://data.cityofnewyork.us/download/gua4-p9wg/NYCDOT_Bicycle_Counts_2017-_East_River_Bridges.zip.zip\"\n",
        "#!unzip \"/content/NYCDOT_Bicycle_Counts_2017-_East_River_Bridges.zip.zip\"  -d \"/content/drive/MyDrive/Datos/Bicis_EastRiver_NY\""
      ],
      "execution_count": 3,
      "outputs": []
    },
    {
      "cell_type": "code",
      "metadata": {
        "id": "2eWFPzANHbId"
      },
      "source": [
        "def ReadData():\n",
        "    \n",
        "    carpeta = \"/content/drive/MyDrive/Datos/Bicis_EastRiver_NY/2017 Monthly Bike Count Totals for East River Bridges\"\n",
        "    \n",
        "    # encontrar todos los archivos xlsx en la carpeta\n",
        "    import glob \n",
        "    data_files = glob.glob(carpeta + '/*.xlsx')\n",
        "    \n",
        "    # Leer cada archivo de excel utilizando pd.read_excel \n",
        "    dfs = []\n",
        "    for file in data_files:\n",
        "        dfs.append( pd.read_excel(file, skiprows=5, parse_dates=[0,1], \n",
        "                                  nrows=31, usecols=range(1,11)) )\n",
        "    \n",
        "    # Unir todos los dataframes\n",
        "    df = pd.concat(dfs)\n",
        "    \n",
        "    # # Utilizar Data como inicie\n",
        "    df = df.set_index('Date')\n",
        "    df = df.drop('Day', axis=1)  #igual a Date\n",
        "\n",
        "    return df\n"
      ],
      "execution_count": 4,
      "outputs": []
    },
    {
      "cell_type": "code",
      "metadata": {
        "id": "ffgvmImAHbIf",
        "colab": {
          "base_uri": "https://localhost:8080/",
          "height": 637
        },
        "outputId": "924927ba-65b1-4566-993f-6f939e4e1bcd"
      },
      "source": [
        "df = ReadData()\n",
        "df"
      ],
      "execution_count": 5,
      "outputs": [
        {
          "output_type": "execute_result",
          "data": {
            "text/html": [
              "<div>\n",
              "<style scoped>\n",
              "    .dataframe tbody tr th:only-of-type {\n",
              "        vertical-align: middle;\n",
              "    }\n",
              "\n",
              "    .dataframe tbody tr th {\n",
              "        vertical-align: top;\n",
              "    }\n",
              "\n",
              "    .dataframe thead th {\n",
              "        text-align: right;\n",
              "    }\n",
              "</style>\n",
              "<table border=\"1\" class=\"dataframe\">\n",
              "  <thead>\n",
              "    <tr style=\"text-align: right;\">\n",
              "      <th></th>\n",
              "      <th>High Temp (°F)</th>\n",
              "      <th>Low Temp (°F)</th>\n",
              "      <th>Precipitation</th>\n",
              "      <th>Brooklyn Bridge</th>\n",
              "      <th>Manhattan Bridge</th>\n",
              "      <th>Williamsburg Bridge</th>\n",
              "      <th>Queensboro Bridge</th>\n",
              "      <th>Total</th>\n",
              "    </tr>\n",
              "    <tr>\n",
              "      <th>Date</th>\n",
              "      <th></th>\n",
              "      <th></th>\n",
              "      <th></th>\n",
              "      <th></th>\n",
              "      <th></th>\n",
              "      <th></th>\n",
              "      <th></th>\n",
              "      <th></th>\n",
              "    </tr>\n",
              "  </thead>\n",
              "  <tbody>\n",
              "    <tr>\n",
              "      <th>2017-04-01 00:00:00</th>\n",
              "      <td>46.0</td>\n",
              "      <td>37</td>\n",
              "      <td>0</td>\n",
              "      <td>606.0</td>\n",
              "      <td>1446.0</td>\n",
              "      <td>1915.0</td>\n",
              "      <td>1430.0</td>\n",
              "      <td>5397.0</td>\n",
              "    </tr>\n",
              "    <tr>\n",
              "      <th>2017-04-02 00:00:00</th>\n",
              "      <td>62.1</td>\n",
              "      <td>41</td>\n",
              "      <td>0</td>\n",
              "      <td>2021.0</td>\n",
              "      <td>3943.0</td>\n",
              "      <td>4207.0</td>\n",
              "      <td>2862.0</td>\n",
              "      <td>13033.0</td>\n",
              "    </tr>\n",
              "    <tr>\n",
              "      <th>2017-04-03 00:00:00</th>\n",
              "      <td>63.0</td>\n",
              "      <td>50</td>\n",
              "      <td>0.03</td>\n",
              "      <td>2470.0</td>\n",
              "      <td>4988.0</td>\n",
              "      <td>5178.0</td>\n",
              "      <td>3689.0</td>\n",
              "      <td>16325.0</td>\n",
              "    </tr>\n",
              "    <tr>\n",
              "      <th>2017-04-04 00:00:00</th>\n",
              "      <td>51.1</td>\n",
              "      <td>46</td>\n",
              "      <td>1.18</td>\n",
              "      <td>723.0</td>\n",
              "      <td>1913.0</td>\n",
              "      <td>2279.0</td>\n",
              "      <td>1666.0</td>\n",
              "      <td>6581.0</td>\n",
              "    </tr>\n",
              "    <tr>\n",
              "      <th>2017-04-05 00:00:00</th>\n",
              "      <td>63.0</td>\n",
              "      <td>46</td>\n",
              "      <td>0</td>\n",
              "      <td>2807.0</td>\n",
              "      <td>5276.0</td>\n",
              "      <td>5711.0</td>\n",
              "      <td>4197.0</td>\n",
              "      <td>17991.0</td>\n",
              "    </tr>\n",
              "    <tr>\n",
              "      <th>...</th>\n",
              "      <td>...</td>\n",
              "      <td>...</td>\n",
              "      <td>...</td>\n",
              "      <td>...</td>\n",
              "      <td>...</td>\n",
              "      <td>...</td>\n",
              "      <td>...</td>\n",
              "      <td>...</td>\n",
              "    </tr>\n",
              "    <tr>\n",
              "      <th>2017-10-27 00:00:00</th>\n",
              "      <td>62.1</td>\n",
              "      <td>48</td>\n",
              "      <td>0</td>\n",
              "      <td>3150.0</td>\n",
              "      <td>5610.0</td>\n",
              "      <td>6450.0</td>\n",
              "      <td>5181.0</td>\n",
              "      <td>20391.0</td>\n",
              "    </tr>\n",
              "    <tr>\n",
              "      <th>2017-10-28 00:00:00</th>\n",
              "      <td>68.0</td>\n",
              "      <td>55.9</td>\n",
              "      <td>0</td>\n",
              "      <td>2245.0</td>\n",
              "      <td>4520.0</td>\n",
              "      <td>5104.0</td>\n",
              "      <td>4069.0</td>\n",
              "      <td>15938.0</td>\n",
              "    </tr>\n",
              "    <tr>\n",
              "      <th>2017-10-29 00:00:00</th>\n",
              "      <td>64.9</td>\n",
              "      <td>61</td>\n",
              "      <td>3.03</td>\n",
              "      <td>183.0</td>\n",
              "      <td>661.0</td>\n",
              "      <td>1026.0</td>\n",
              "      <td>965.0</td>\n",
              "      <td>2835.0</td>\n",
              "    </tr>\n",
              "    <tr>\n",
              "      <th>2017-10-30 00:00:00</th>\n",
              "      <td>55.0</td>\n",
              "      <td>46</td>\n",
              "      <td>0.25</td>\n",
              "      <td>1428.0</td>\n",
              "      <td>2966.0</td>\n",
              "      <td>3547.0</td>\n",
              "      <td>2924.0</td>\n",
              "      <td>10865.0</td>\n",
              "    </tr>\n",
              "    <tr>\n",
              "      <th>2017-10-31 00:00:00</th>\n",
              "      <td>54.0</td>\n",
              "      <td>44</td>\n",
              "      <td>0</td>\n",
              "      <td>2727.0</td>\n",
              "      <td>5597.0</td>\n",
              "      <td>5894.0</td>\n",
              "      <td>4883.0</td>\n",
              "      <td>19101.0</td>\n",
              "    </tr>\n",
              "  </tbody>\n",
              "</table>\n",
              "<p>217 rows × 8 columns</p>\n",
              "</div>"
            ],
            "text/plain": [
              "                     High Temp (°F) Low Temp (°F)  ... Queensboro Bridge    Total\n",
              "Date                                               ...                           \n",
              "2017-04-01 00:00:00            46.0            37  ...            1430.0   5397.0\n",
              "2017-04-02 00:00:00            62.1            41  ...            2862.0  13033.0\n",
              "2017-04-03 00:00:00            63.0            50  ...            3689.0  16325.0\n",
              "2017-04-04 00:00:00            51.1            46  ...            1666.0   6581.0\n",
              "2017-04-05 00:00:00            63.0            46  ...            4197.0  17991.0\n",
              "...                             ...           ...  ...               ...      ...\n",
              "2017-10-27 00:00:00            62.1            48  ...            5181.0  20391.0\n",
              "2017-10-28 00:00:00            68.0          55.9  ...            4069.0  15938.0\n",
              "2017-10-29 00:00:00            64.9            61  ...             965.0   2835.0\n",
              "2017-10-30 00:00:00            55.0            46  ...            2924.0  10865.0\n",
              "2017-10-31 00:00:00            54.0            44  ...            4883.0  19101.0\n",
              "\n",
              "[217 rows x 8 columns]"
            ]
          },
          "metadata": {
            "tags": []
          },
          "execution_count": 5
        }
      ]
    },
    {
      "cell_type": "code",
      "metadata": {
        "id": "EZEBFGzdVABV"
      },
      "source": [
        "df.to_csv('Bicis_NY.csv')"
      ],
      "execution_count": 6,
      "outputs": []
    }
  ]
}
