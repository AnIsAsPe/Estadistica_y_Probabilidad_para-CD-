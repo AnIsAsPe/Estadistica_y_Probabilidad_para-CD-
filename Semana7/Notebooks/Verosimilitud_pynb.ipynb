{
  "nbformat": 4,
  "nbformat_minor": 0,
  "metadata": {
    "colab": {
      "name": "Verosimilitud.pynb",
      "provenance": [],
      "toc_visible": true,
      "authorship_tag": "ABX9TyPWhEHZiU/P1OXEf/cv7FWR",
      "include_colab_link": true
    },
    "kernelspec": {
      "name": "python3",
      "display_name": "Python 3"
    },
    "language_info": {
      "name": "python"
    }
  },
  "cells": [
    {
      "cell_type": "markdown",
      "metadata": {
        "id": "view-in-github",
        "colab_type": "text"
      },
      "source": [
        "<a href=\"https://colab.research.google.com/github/AnIsAsPe/Estadistica_y_Probabilidad_para-CD-/blob/main/Semana7/Notebooks/Verosimilitud_pynb.ipynb\" target=\"_parent\"><img src=\"https://colab.research.google.com/assets/colab-badge.svg\" alt=\"Open In Colab\"/></a>"
      ]
    },
    {
      "cell_type": "code",
      "metadata": {
        "id": "11LmuROzUBX8"
      },
      "source": [
        "import numpy as np\n",
        "from numpy import exp\n",
        "\n",
        "import matplotlib.pyplot as plt"
      ],
      "execution_count": 1,
      "outputs": []
    },
    {
      "cell_type": "markdown",
      "metadata": {
        "id": "IFqOpiwMwmvq"
      },
      "source": [
        "$P(A\\mid B) = \\frac{P(B\\mid A)~~P(A)}{P(B)}$"
      ]
    },
    {
      "cell_type": "markdown",
      "metadata": {
        "id": "_H0Ru2_kqPSC"
      },
      "source": [
        "# Verosimilitud\n",
        "\n",
        "¿qué tanto  podemos pensar que es justa una moneda (bernulli, p = 0.5) lanzando una moneda)?\n",
        "\n",
        "$P(s\\mid p) = (1-p)^{fracasos} p^{exitos} $\n",
        "\n",
        "\n",
        " "
      ]
    },
    {
      "cell_type": "markdown",
      "metadata": {
        "id": "ThQjfBnKptRq"
      },
      "source": [
        "considere la siguiente muestra"
      ]
    },
    {
      "cell_type": "code",
      "metadata": {
        "colab": {
          "base_uri": "https://localhost:8080/"
        },
        "id": "JtAJUizI3fUv",
        "outputId": "e3594c80-6f10-4fc9-8583-7d5d37a8ba96"
      },
      "source": [
        "# Bernoulli n = 1\n",
        "n, p = 1, 0.3\n",
        "size = 5\n",
        "\n",
        "#np.random.seed(7)\n",
        "s = np.random.binomial(n, p, size)  #muestra de tamaño size con la preferencia de el candidato con .3\n",
        "s"
      ],
      "execution_count": 35,
      "outputs": [
        {
          "output_type": "execute_result",
          "data": {
            "text/plain": [
              "array([0, 0, 0, 0, 0])"
            ]
          },
          "metadata": {
            "tags": []
          },
          "execution_count": 35
        }
      ]
    },
    {
      "cell_type": "code",
      "metadata": {
        "id": "jEjOQdestZfj"
      },
      "source": [
        "def Ps_p(s, p):\n",
        "  exitos = np.count_nonzero(s)\n",
        "  fracasos = len(s)- exitos\n",
        "  \n",
        "  Ps_p = pow(1-p, fracasos)* pow(p, exitos)\n",
        "  return Ps_p"
      ],
      "execution_count": 18,
      "outputs": []
    },
    {
      "cell_type": "code",
      "metadata": {
        "colab": {
          "base_uri": "https://localhost:8080/"
        },
        "id": "-gENNf7svDEL",
        "outputId": "57e32e8d-87be-43a3-8fa2-9839b9925c27"
      },
      "source": [
        "Ps_p(s, 0.2)"
      ],
      "execution_count": 36,
      "outputs": [
        {
          "output_type": "execute_result",
          "data": {
            "text/plain": [
              "0.3276800000000001"
            ]
          },
          "metadata": {
            "tags": []
          },
          "execution_count": 36
        }
      ]
    },
    {
      "cell_type": "code",
      "metadata": {
        "colab": {
          "base_uri": "https://localhost:8080/"
        },
        "id": "cHFPtxHUvPJv",
        "outputId": "c1075e1d-c485-4604-8ebe-40ca0c979673"
      },
      "source": [
        "Ps_p(s, 0.3)"
      ],
      "execution_count": 37,
      "outputs": [
        {
          "output_type": "execute_result",
          "data": {
            "text/plain": [
              "0.16806999999999994"
            ]
          },
          "metadata": {
            "tags": []
          },
          "execution_count": 37
        }
      ]
    },
    {
      "cell_type": "markdown",
      "metadata": {
        "id": "u6iYpdxCajT4"
      },
      "source": [
        "# Simulación beta"
      ]
    },
    {
      "cell_type": "code",
      "metadata": {
        "colab": {
          "base_uri": "https://localhost:8080/",
          "height": 265
        },
        "id": "T8j6kaMZajUC",
        "outputId": "bad05298-a647-430a-aa67-bf63ae629255"
      },
      "source": [
        "# generación de una muestra aleatoria con distribución de la place\n",
        "a, b = 2, 5\n",
        "size = 100000\n",
        "s = np.random.beta(a, b, size)\n",
        "plt.hist( s, bins=30,  density=True)\n",
        "plt.show()"
      ],
      "execution_count": 76,
      "outputs": [
        {
          "output_type": "display_data",
          "data": {
            "image/png": "[encoded data removed]",
            "text/plain": [
              "<Figure size 432x288 with 1 Axes>"
            ]
          },
          "metadata": {
            "tags": [],
            "needs_background": "light"
          }
        }
      ]
    },
    {
      "cell_type": "markdown",
      "metadata": {
        "id": "tMKjegqdajUC"
      },
      "source": [
        "## Distribución de probabilidad BETA\n"
      ]
    },
    {
      "cell_type": "code",
      "metadata": {
        "id": "iYSdhRu40Pb2"
      },
      "source": [
        "from scipy.stats import beta"
      ],
      "execution_count": 48,
      "outputs": []
    },
    {
      "cell_type": "code",
      "metadata": {
        "colab": {
          "base_uri": "https://localhost:8080/",
          "height": 265
        },
        "id": "bFn6YfpUajUC",
        "outputId": "2772ed7b-aa68-45ae-f2d9-f8dc2bfa4af1"
      },
      "source": [
        "x = np.linspace(beta.ppf(0.01, a, b),\n",
        "                beta.ppf(0.99, a, b), size)\n",
        "pdf = beta.pdf(x, a, b)\n",
        "plt.plot(x, pdf, 'r-', lw=3)\n",
        "plt.show()"
      ],
      "execution_count": 78,
      "outputs": [
        {
          "output_type": "display_data",
          "data": {
            "image/png": "[encoded data removed]",
            "text/plain": [
              "<Figure size 432x288 with 1 Axes>"
            ]
          },
          "metadata": {
            "tags": [],
            "needs_background": "light"
          }
        }
      ]
    },
    {
      "cell_type": "code",
      "metadata": {
        "colab": {
          "base_uri": "https://localhost:8080/",
          "height": 265
        },
        "id": "S0d7EwISajUD",
        "outputId": "9cfef2c1-538f-4db3-a268-c2abfe55c1aa"
      },
      "source": [
        "plt.hist( s, bins=30, density=True)\n",
        "plt.plot(x, pdf,  'r-', lw=3)\n",
        "plt.show()"
      ],
      "execution_count": 79,
      "outputs": [
        {
          "output_type": "display_data",
          "data": {
            "image/png": "[encoded data removed]",
            "text/plain": [
              "<Figure size 432x288 with 1 Axes>"
            ]
          },
          "metadata": {
            "tags": [],
            "needs_background": "light"
          }
        }
      ]
    }
  ]
}