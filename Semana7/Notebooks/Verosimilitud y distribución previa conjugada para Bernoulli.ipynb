{
  "nbformat": 4,
  "nbformat_minor": 0,
  "metadata": {
    "colab": {
      "name": "Verosimilitud.pynb",
      "provenance": [],
      "toc_visible": true,
      "authorship_tag": "ABX9TyMIjJxoNYzf5C8QJ0TOx5wX",
      "include_colab_link": true
    },
    "kernelspec": {
      "name": "python3",
      "display_name": "Python 3"
    },
    "language_info": {
      "name": "python"
    }
  },
  "cells": [
    {
      "cell_type": "markdown",
      "metadata": {
        "id": "view-in-github",
        "colab_type": "text"
      },
      "source": [
        "<a href=\"https://colab.research.google.com/github/AnIsAsPe/Estadistica_y_Probabilidad_para-CD-/blob/main/Semana7/Notebooks/Verosimilitud%20y%20distribuci%C3%B3n%20previa%20conjugada%20para%20Bernoulli.ipynb\" target=\"_parent\"><img src=\"https://colab.research.google.com/assets/colab-badge.svg\" alt=\"Open In Colab\"/></a>"
      ]
    },
    {
      "cell_type": "markdown",
      "metadata": {
        "id": "IFqOpiwMwmvq"
      },
      "source": [
        "$P(p\\mid s) = \\frac{P(s\\mid p)~~P(p)}{P(s)}$\n",
        "\n",
        "donde \n",
        "\n",
        " $p$ es el parametro que define a una distribución bernoulli \n",
        "\n",
        " $P(s\\mid p)$ es la verosimilitud\n",
        "\n",
        " $P(p)$ es la distribución a priori\n",
        "\n",
        " $P(s)$ es la probabilidad de obtener la  muestra dada\n",
        "\n",
        " $P(p\\mid s)$   es la distribución a posteriori\n",
        "\n"
      ]
    },
    {
      "cell_type": "code",
      "metadata": {
        "id": "11LmuROzUBX8"
      },
      "source": [
        "import numpy as np\n",
        "from numpy import exp\n",
        "\n",
        "import matplotlib.pyplot as plt"
      ],
      "execution_count": 1,
      "outputs": []
    },
    {
      "cell_type": "markdown",
      "metadata": {
        "id": "ThQjfBnKptRq"
      },
      "source": [
        "considere la siguiente muestra"
      ]
    },
    {
      "cell_type": "code",
      "metadata": {
        "colab": {
          "base_uri": "https://localhost:8080/"
        },
        "id": "JtAJUizI3fUv",
        "outputId": "7fb96c42-5668-4b55-c54b-553b54e53095"
      },
      "source": [
        "# Bernoulli n = 1\n",
        "n, p = 1, 0.5\n",
        "size = 7\n",
        "\n",
        "#np.random.seed(7)\n",
        "s = np.random.binomial(n, p, size)  #muestra de tamaño size con la preferencia de el candidato con .3\n",
        "s"
      ],
      "execution_count": 2,
      "outputs": [
        {
          "output_type": "execute_result",
          "data": {
            "text/plain": [
              "array([0, 0, 0, 1, 0, 1, 0])"
            ]
          },
          "metadata": {},
          "execution_count": 2
        }
      ]
    },
    {
      "cell_type": "markdown",
      "metadata": {
        "id": "_H0Ru2_kqPSC"
      },
      "source": [
        "# Verosimilitud\n",
        "\n",
        "¿qué tanto  podemos pensar que es justa una moneda (bernulli, p = 0.5) después de varios lanzamientos?\n",
        "\n",
        "$P(s\\mid p) = (1-p)^{fracasos} p^{exitos} $\n",
        "\n",
        "\n",
        " "
      ]
    },
    {
      "cell_type": "code",
      "metadata": {
        "id": "jEjOQdestZfj"
      },
      "source": [
        "def Ps_p(s, p):\n",
        "  exitos = np.count_nonzero(s)\n",
        "  fracasos = len(s)- exitos\n",
        "  \n",
        "  Ps_p = pow(1-p, fracasos)* pow(p, exitos)\n",
        "  return Ps_p"
      ],
      "execution_count": 3,
      "outputs": []
    },
    {
      "cell_type": "code",
      "metadata": {
        "colab": {
          "base_uri": "https://localhost:8080/"
        },
        "id": "-gENNf7svDEL",
        "outputId": "6ec4991a-221a-41ae-d3cf-3fe3108169a5"
      },
      "source": [
        "Ps_p(s, 0.5)"
      ],
      "execution_count": 4,
      "outputs": [
        {
          "output_type": "execute_result",
          "data": {
            "text/plain": [
              "0.0078125"
            ]
          },
          "metadata": {},
          "execution_count": 4
        }
      ]
    },
    {
      "cell_type": "code",
      "metadata": {
        "colab": {
          "base_uri": "https://localhost:8080/"
        },
        "id": "cHFPtxHUvPJv",
        "outputId": "0c4006f1-f1d6-41e8-9c05-8b52324752c1"
      },
      "source": [
        "Ps_p(s, 0.3)"
      ],
      "execution_count": 6,
      "outputs": [
        {
          "output_type": "execute_result",
          "data": {
            "text/plain": [
              "0.015126299999999994"
            ]
          },
          "metadata": {},
          "execution_count": 6
        }
      ]
    },
    {
      "cell_type": "code",
      "metadata": {
        "colab": {
          "base_uri": "https://localhost:8080/"
        },
        "outputId": "f7637fb5-7cb5-40a6-cb09-526b47c73021",
        "id": "Hgbhpknf1gQN"
      },
      "source": [
        "Ps_p(s, 0.2)"
      ],
      "execution_count": 7,
      "outputs": [
        {
          "output_type": "execute_result",
          "data": {
            "text/plain": [
              "0.013107200000000006"
            ]
          },
          "metadata": {},
          "execution_count": 7
        }
      ]
    },
    {
      "cell_type": "code",
      "source": [
        "Ps_p(s, 0.6)"
      ],
      "metadata": {
        "id": "dfn8NNm6OmIY",
        "outputId": "45a19125-7313-4dbf-b16e-8a0977937245",
        "colab": {
          "base_uri": "https://localhost:8080/"
        }
      },
      "execution_count": 5,
      "outputs": [
        {
          "output_type": "execute_result",
          "data": {
            "text/plain": [
              "0.0036864000000000007"
            ]
          },
          "metadata": {},
          "execution_count": 5
        }
      ]
    },
    {
      "cell_type": "markdown",
      "metadata": {
        "id": "tMKjegqdajUC"
      },
      "source": [
        "#[Distribución previa conjugada](https://en.wikipedia.org/wiki/Conjugate_prior)\n"
      ]
    },
    {
      "cell_type": "code",
      "metadata": {
        "id": "iYSdhRu40Pb2"
      },
      "source": [
        "from scipy.stats import beta"
      ],
      "execution_count": 8,
      "outputs": []
    },
    {
      "cell_type": "code",
      "source": [
        "s"
      ],
      "metadata": {
        "id": "ZuIb6dnM108O",
        "outputId": "5469fc59-68e7-4e48-d58b-75d3005338f4",
        "colab": {
          "base_uri": "https://localhost:8080/"
        }
      },
      "execution_count": 9,
      "outputs": [
        {
          "output_type": "execute_result",
          "data": {
            "text/plain": [
              "array([0, 0, 0, 1, 0, 1, 0])"
            ]
          },
          "metadata": {},
          "execution_count": 9
        }
      ]
    },
    {
      "cell_type": "code",
      "source": [
        "exitos = s.sum()\n",
        "fracasos = len (s) - exitos\n",
        "\n",
        "exitos, fracasos"
      ],
      "metadata": {
        "id": "pSWUNIfS2J5t",
        "outputId": "167c9348-00da-4cf1-9a76-44dd42e6cceb",
        "colab": {
          "base_uri": "https://localhost:8080/"
        }
      },
      "execution_count": 10,
      "outputs": [
        {
          "output_type": "execute_result",
          "data": {
            "text/plain": [
              "(2, 5)"
            ]
          },
          "metadata": {},
          "execution_count": 10
        }
      ]
    },
    {
      "cell_type": "code",
      "metadata": {
        "colab": {
          "base_uri": "https://localhost:8080/",
          "height": 265
        },
        "id": "bFn6YfpUajUC",
        "outputId": "fbb2d6b3-d18e-45f2-c10e-e81b77f2129e"
      },
      "source": [
        "a = exitos     # éxitos\n",
        "b = fracasos     # fallas \n",
        "x = np.linspace(beta.ppf(0.0001, a, b),\n",
        "                beta.ppf(0.9999, a, b), 100)\n",
        "pdf = beta.pdf(x, a, b)\n",
        "plt.plot(x, pdf, 'r-', lw=3)\n",
        "plt.show()"
      ],
      "execution_count": 11,
      "outputs": [
        {
          "output_type": "display_data",
          "data": {
            "image/png": "[encoded data removed]",
            "text/plain": [
              "<Figure size 432x288 with 1 Axes>"
            ]
          },
          "metadata": {
            "needs_background": "light"
          }
        }
      ]
    },
    {
      "cell_type": "markdown",
      "source": [
        "\n",
        "\n",
        "# Incorporación de evidencia y distribución a posteriori\n",
        "\n"
      ],
      "metadata": {
        "id": "xjTgJxcziLX0"
      }
    },
    {
      "cell_type": "code",
      "source": [
        "a, b"
      ],
      "metadata": {
        "id": "Qc81uQf1biud",
        "outputId": "ba0c4465-fb26-4597-edea-a8b53c993ab0",
        "colab": {
          "base_uri": "https://localhost:8080/"
        }
      },
      "execution_count": 12,
      "outputs": [
        {
          "output_type": "execute_result",
          "data": {
            "text/plain": [
              "(2, 5)"
            ]
          },
          "metadata": {},
          "execution_count": 12
        }
      ]
    },
    {
      "cell_type": "code",
      "source": [
        "s2 = np.random.binomial(n, p, 20)"
      ],
      "metadata": {
        "id": "EHzrtQeraZkm"
      },
      "execution_count": 13,
      "outputs": []
    },
    {
      "cell_type": "code",
      "source": [
        "s2"
      ],
      "metadata": {
        "id": "aJOA_yZAabjp",
        "outputId": "62da895b-706c-420b-c70b-5d756e69f7be",
        "colab": {
          "base_uri": "https://localhost:8080/"
        }
      },
      "execution_count": 14,
      "outputs": [
        {
          "output_type": "execute_result",
          "data": {
            "text/plain": [
              "array([1, 1, 0, 0, 1, 0, 1, 1, 0, 0, 1, 0, 1, 0, 0, 1, 1, 1, 1, 1])"
            ]
          },
          "metadata": {},
          "execution_count": 14
        }
      ]
    },
    {
      "cell_type": "code",
      "source": [
        "# exitos, fracasos en s2\n",
        "s2.sum(), len(s2)-s2.sum()"
      ],
      "metadata": {
        "id": "6-pn_Bz3yfOa",
        "outputId": "63783c99-4102-4be2-830a-12ff54235d9c",
        "colab": {
          "base_uri": "https://localhost:8080/"
        }
      },
      "execution_count": 19,
      "outputs": [
        {
          "output_type": "execute_result",
          "data": {
            "text/plain": [
              "(12, 8)"
            ]
          },
          "metadata": {},
          "execution_count": 19
        }
      ]
    },
    {
      "cell_type": "code",
      "metadata": {
        "id": "Jq6VF1KUHbIn"
      },
      "source": [
        "def alfa_beta_post(nuevos_datos, prior_a, prior_b):\n",
        "    \n",
        "    post_a = prior_a + np.sum(nuevos_datos)\n",
        "    post_b = prior_b + len(nuevos_datos)-np.sum(nuevos_datos)\n",
        "       \n",
        "    return post_a, post_b"
      ],
      "execution_count": 15,
      "outputs": []
    },
    {
      "cell_type": "code",
      "source": [
        "a, b = alfa_beta_post(s2, 3, 2 )\n",
        "a, b"
      ],
      "metadata": {
        "id": "QzPxBFqCbcbW",
        "outputId": "3535ba95-b0b6-430a-cc61-c62b88f59f4d",
        "colab": {
          "base_uri": "https://localhost:8080/"
        }
      },
      "execution_count": 16,
      "outputs": [
        {
          "output_type": "execute_result",
          "data": {
            "text/plain": [
              "(15, 10)"
            ]
          },
          "metadata": {},
          "execution_count": 16
        }
      ]
    },
    {
      "cell_type": "code",
      "source": [
        "pdf = beta.pdf(x, a, b)\n",
        "plt.plot(x, pdf, 'r-', lw=3)\n",
        "plt.show()"
      ],
      "metadata": {
        "colab": {
          "base_uri": "https://localhost:8080/",
          "height": 265
        },
        "id": "ixFRk8BCbrDl",
        "outputId": "764625e4-a039-4ee6-82a4-accccc367cc1"
      },
      "execution_count": 17,
      "outputs": [
        {
          "output_type": "display_data",
          "data": {
            "image/png": "[encoded data removed]",
            "text/plain": [
              "<Figure size 432x288 with 1 Axes>"
            ]
          },
          "metadata": {
            "needs_background": "light"
          }
        }
      ]
    }
  ]
}