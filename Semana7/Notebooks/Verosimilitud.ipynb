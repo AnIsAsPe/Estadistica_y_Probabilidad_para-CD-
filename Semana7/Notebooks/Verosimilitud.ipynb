{
  "nbformat": 4,
  "nbformat_minor": 0,
  "metadata": {
    "colab": {
      "name": "Verosimilitud.pynb",
      "provenance": [],
      "toc_visible": true,
      "authorship_tag": "ABX9TyOaNWRp7zkwTcfFYaCfQ0Bz",
      "include_colab_link": true
    },
    "kernelspec": {
      "name": "python3",
      "display_name": "Python 3"
    },
    "language_info": {
      "name": "python"
    }
  },
  "cells": [
    {
      "cell_type": "markdown",
      "metadata": {
        "id": "view-in-github",
        "colab_type": "text"
      },
      "source": [
        "<a href=\"https://colab.research.google.com/github/AnIsAsPe/Estadistica_y_Probabilidad_para-CD-/blob/main/Semana7/Notebooks/Verosimilitud.ipynb\" target=\"_parent\"><img src=\"https://colab.research.google.com/assets/colab-badge.svg\" alt=\"Open In Colab\"/></a>"
      ]
    },
    {
      "cell_type": "markdown",
      "metadata": {
        "id": "IFqOpiwMwmvq"
      },
      "source": [
        "$P(p\\mid s) = \\frac{P(s\\mid p)~~P(p)}{P(s)}$"
      ]
    },
    {
      "cell_type": "code",
      "metadata": {
        "id": "11LmuROzUBX8"
      },
      "source": [
        "import numpy as np\n",
        "from numpy import exp\n",
        "\n",
        "import matplotlib.pyplot as plt"
      ],
      "execution_count": 2,
      "outputs": []
    },
    {
      "cell_type": "markdown",
      "metadata": {
        "id": "ThQjfBnKptRq"
      },
      "source": [
        "considere la siguiente muestra"
      ]
    },
    {
      "cell_type": "code",
      "metadata": {
        "colab": {
          "base_uri": "https://localhost:8080/"
        },
        "id": "JtAJUizI3fUv",
        "outputId": "b60223e8-8e72-40cb-89c1-7a585791f570"
      },
      "source": [
        "# Bernoulli n = 1\n",
        "n, p = 1, 0.5\n",
        "size = 5\n",
        "\n",
        "#np.random.seed(7)\n",
        "s = np.random.binomial(n, p, size)  #muestra de tamaño size con la preferencia de el candidato con .3\n",
        "s"
      ],
      "execution_count": 3,
      "outputs": [
        {
          "output_type": "execute_result",
          "data": {
            "text/plain": [
              "array([1, 1, 0, 0, 0])"
            ]
          },
          "metadata": {},
          "execution_count": 3
        }
      ]
    },
    {
      "cell_type": "markdown",
      "metadata": {
        "id": "_H0Ru2_kqPSC"
      },
      "source": [
        "# Verosimilitud\n",
        "\n",
        "¿qué tanto  podemos pensar que es justa una moneda (bernulli, p = 0.5) después de varios lanzamientos?\n",
        "\n",
        "$P(s\\mid p) = (1-p)^{fracasos} p^{exitos} $\n",
        "\n",
        "\n",
        " "
      ]
    },
    {
      "cell_type": "code",
      "metadata": {
        "id": "jEjOQdestZfj"
      },
      "source": [
        "def Ps_p(s, p):\n",
        "  exitos = np.count_nonzero(s)\n",
        "  fracasos = len(s)- exitos\n",
        "  \n",
        "  Ps_p = pow(1-p, fracasos)* pow(p, exitos)\n",
        "  return Ps_p"
      ],
      "execution_count": 4,
      "outputs": []
    },
    {
      "cell_type": "code",
      "metadata": {
        "colab": {
          "base_uri": "https://localhost:8080/"
        },
        "id": "-gENNf7svDEL",
        "outputId": "55d1cabe-e271-4080-b6a3-5b3892eab157"
      },
      "source": [
        "Ps_p(s, p)"
      ],
      "execution_count": 5,
      "outputs": [
        {
          "output_type": "execute_result",
          "data": {
            "text/plain": [
              "0.03125"
            ]
          },
          "metadata": {},
          "execution_count": 5
        }
      ]
    },
    {
      "cell_type": "code",
      "metadata": {
        "colab": {
          "base_uri": "https://localhost:8080/"
        },
        "id": "cHFPtxHUvPJv",
        "outputId": "d9bce1ff-d4bf-49a7-d179-d0b49f733a38"
      },
      "source": [
        "Ps_p(s, 0.3)"
      ],
      "execution_count": 6,
      "outputs": [
        {
          "output_type": "execute_result",
          "data": {
            "text/plain": [
              "0.03086999999999999"
            ]
          },
          "metadata": {},
          "execution_count": 6
        }
      ]
    },
    {
      "cell_type": "code",
      "metadata": {
        "colab": {
          "base_uri": "https://localhost:8080/"
        },
        "outputId": "028dd833-4918-4a63-d3b4-e67d348602c6",
        "id": "Hgbhpknf1gQN"
      },
      "source": [
        "Ps_p(s, 0.4)"
      ],
      "execution_count": 9,
      "outputs": [
        {
          "output_type": "execute_result",
          "data": {
            "text/plain": [
              "0.03456"
            ]
          },
          "metadata": {},
          "execution_count": 9
        }
      ]
    },
    {
      "cell_type": "markdown",
      "metadata": {
        "id": "tMKjegqdajUC"
      },
      "source": [
        "## [Distribución previa conjugada](https://en.wikipedia.org/wiki/Conjugate_prior)\n"
      ]
    },
    {
      "cell_type": "code",
      "metadata": {
        "id": "iYSdhRu40Pb2"
      },
      "source": [
        "from scipy.stats import beta"
      ],
      "execution_count": 10,
      "outputs": []
    },
    {
      "cell_type": "code",
      "source": [
        "s"
      ],
      "metadata": {
        "id": "ZuIb6dnM108O",
        "outputId": "d20ceb1a-6099-4248-832f-b87ded31d0c1",
        "colab": {
          "base_uri": "https://localhost:8080/"
        }
      },
      "execution_count": 11,
      "outputs": [
        {
          "output_type": "execute_result",
          "data": {
            "text/plain": [
              "array([1, 1, 0, 0, 0])"
            ]
          },
          "metadata": {},
          "execution_count": 11
        }
      ]
    },
    {
      "cell_type": "code",
      "source": [
        "exitos = s.sum()\n",
        "fracasos = len (s) - exitos"
      ],
      "metadata": {
        "id": "pSWUNIfS2J5t"
      },
      "execution_count": 15,
      "outputs": []
    },
    {
      "cell_type": "code",
      "metadata": {
        "colab": {
          "base_uri": "https://localhost:8080/",
          "height": 265
        },
        "id": "bFn6YfpUajUC",
        "outputId": "9f06eeeb-164d-4fdf-d804-e1fc5d1065b8"
      },
      "source": [
        "a = exitos     # éxitos\n",
        "b = fracasos     # fallas \n",
        "x = np.linspace(beta.ppf(0.01, a, b),\n",
        "                beta.ppf(0.99, a, b), 100)\n",
        "pdf = beta.pdf(x, a, b)\n",
        "plt.plot(x, pdf, 'r-', lw=3)\n",
        "plt.show()"
      ],
      "execution_count": 16,
      "outputs": [
        {
          "output_type": "display_data",
          "data": {
            "image/png": "[encoded data removed]",
            "text/plain": [
              "<Figure size 432x288 with 1 Axes>"
            ]
          },
          "metadata": {
            "needs_background": "light"
          }
        }
      ]
    }
  ]
}