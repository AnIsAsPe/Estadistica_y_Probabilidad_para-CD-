{
  "nbformat": 4,
  "nbformat_minor": 0,
  "metadata": {
    "colab": {
      "name": "Verosimilitud.pynb",
      "provenance": [],
      "toc_visible": true,
      "authorship_tag": "ABX9TyPhgDks0WweRlgUKL0mrtsz",
      "include_colab_link": true
    },
    "kernelspec": {
      "name": "python3",
      "display_name": "Python 3"
    },
    "language_info": {
      "name": "python"
    }
  },
  "cells": [
    {
      "cell_type": "markdown",
      "metadata": {
        "id": "view-in-github",
        "colab_type": "text"
      },
      "source": [
        "<a href=\"https://colab.research.google.com/github/AnIsAsPe/Estadistica_y_Probabilidad_para-CD-/blob/main/Semana7/Notebooks/Verosimilitud.ipynb\" target=\"_parent\"><img src=\"https://colab.research.google.com/assets/colab-badge.svg\" alt=\"Open In Colab\"/></a>"
      ]
    },
    {
      "cell_type": "markdown",
      "metadata": {
        "id": "IFqOpiwMwmvq"
      },
      "source": [
        "$P(p\\mid s) = \\frac{P(s\\mid p)~~P(p)}{P(s)}$"
      ]
    },
    {
      "cell_type": "code",
      "metadata": {
        "id": "11LmuROzUBX8"
      },
      "source": [
        "import numpy as np\n",
        "from numpy import exp\n",
        "\n",
        "import matplotlib.pyplot as plt"
      ],
      "execution_count": 1,
      "outputs": []
    },
    {
      "cell_type": "markdown",
      "metadata": {
        "id": "ThQjfBnKptRq"
      },
      "source": [
        "considere la siguiente muestra"
      ]
    },
    {
      "cell_type": "code",
      "metadata": {
        "colab": {
          "base_uri": "https://localhost:8080/"
        },
        "id": "JtAJUizI3fUv",
        "outputId": "dbf119e0-3f17-4681-c4ee-9d0da9b758b2"
      },
      "source": [
        "# Bernoulli n = 1\n",
        "n, p = 1, 0.3\n",
        "size = 5\n",
        "\n",
        "#np.random.seed(7)\n",
        "s = np.random.binomial(n, p, size)  #muestra de tamaño size con la preferencia de el candidato con .3\n",
        "s"
      ],
      "execution_count": 2,
      "outputs": [
        {
          "output_type": "execute_result",
          "data": {
            "text/plain": [
              "array([1, 1, 0, 1, 1])"
            ]
          },
          "metadata": {
            "tags": []
          },
          "execution_count": 2
        }
      ]
    },
    {
      "cell_type": "markdown",
      "metadata": {
        "id": "_H0Ru2_kqPSC"
      },
      "source": [
        "# Verosimilitud\n",
        "\n",
        "¿qué tanto  podemos pensar que es justa una moneda (bernulli, p = 0.5) después de varios lanzamientos?\n",
        "\n",
        "$P(s\\mid p) = (1-p)^{fracasos} p^{exitos} $\n",
        "\n",
        "\n",
        " "
      ]
    },
    {
      "cell_type": "code",
      "metadata": {
        "id": "jEjOQdestZfj"
      },
      "source": [
        "def Ps_p(s, p):\n",
        "  exitos = np.count_nonzero(s)\n",
        "  fracasos = len(s)- exitos\n",
        "  \n",
        "  Ps_p = pow(1-p, fracasos)* pow(p, exitos)\n",
        "  return Ps_p"
      ],
      "execution_count": 3,
      "outputs": []
    },
    {
      "cell_type": "code",
      "metadata": {
        "colab": {
          "base_uri": "https://localhost:8080/"
        },
        "id": "-gENNf7svDEL",
        "outputId": "0638d87b-380a-4c34-8b84-ddf366e5cb97"
      },
      "source": [
        "Ps_p(s, 0.2)"
      ],
      "execution_count": 4,
      "outputs": [
        {
          "output_type": "execute_result",
          "data": {
            "text/plain": [
              "0.0012800000000000003"
            ]
          },
          "metadata": {
            "tags": []
          },
          "execution_count": 4
        }
      ]
    },
    {
      "cell_type": "code",
      "metadata": {
        "colab": {
          "base_uri": "https://localhost:8080/"
        },
        "id": "cHFPtxHUvPJv",
        "outputId": "acb8631b-a438-4606-9df5-3d4c5941b8f5"
      },
      "source": [
        "Ps_p(s, 0.3)"
      ],
      "execution_count": 5,
      "outputs": [
        {
          "output_type": "execute_result",
          "data": {
            "text/plain": [
              "0.00567"
            ]
          },
          "metadata": {
            "tags": []
          },
          "execution_count": 5
        }
      ]
    },
    {
      "cell_type": "markdown",
      "metadata": {
        "id": "tMKjegqdajUC"
      },
      "source": [
        "## [Distribución previa conjugada](https://en.wikipedia.org/wiki/Conjugate_prior)\n"
      ]
    },
    {
      "cell_type": "code",
      "metadata": {
        "id": "iYSdhRu40Pb2"
      },
      "source": [
        "from scipy.stats import beta"
      ],
      "execution_count": 7,
      "outputs": []
    },
    {
      "cell_type": "code",
      "metadata": {
        "colab": {
          "base_uri": "https://localhost:8080/",
          "height": 265
        },
        "id": "bFn6YfpUajUC",
        "outputId": "41fa5306-d9ad-45c7-f43d-08dafc5bf54f"
      },
      "source": [
        "a = 1     # éxitos\n",
        "b = 4     # fallas \n",
        "x = np.linspace(beta.ppf(0.01, a, b),\n",
        "                beta.ppf(0.99, a, b), 100)\n",
        "pdf = beta.pdf(x, a, b)\n",
        "plt.plot(x, pdf, 'r-', lw=3)\n",
        "plt.show()"
      ],
      "execution_count": 19,
      "outputs": [
        {
          "output_type": "display_data",
          "data": {
            "image/png": "[encoded data removed]",
            "text/plain": [
              "<Figure size 432x288 with 1 Axes>"
            ]
          },
          "metadata": {
            "tags": [],
            "needs_background": "light"
          }
        }
      ]
    }
  ]
}