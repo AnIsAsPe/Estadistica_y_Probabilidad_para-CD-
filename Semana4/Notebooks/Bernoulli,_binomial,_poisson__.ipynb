{
  "nbformat": 4,
  "nbformat_minor": 0,
  "metadata": {
    "colab": {
      "name": "Bernoulli, binomial, poisson_ .ipynb",
      "provenance": [],
      "collapsed_sections": [],
      "toc_visible": true,
      "authorship_tag": "ABX9TyNE387yOEObOj5qqs/sdtUx",
      "include_colab_link": true
    },
    "kernelspec": {
      "name": "python3",
      "display_name": "Python 3"
    },
    "language_info": {
      "name": "python"
    }
  },
  "cells": [
    {
      "cell_type": "markdown",
      "metadata": {
        "id": "view-in-github",
        "colab_type": "text"
      },
      "source": [
        "<a href=\"https://colab.research.google.com/github/AnIsAsPe/Estadistica_y_Probabilidad_para-CD-/blob/main/Semana4/Notebooks/Bernoulli%2C_binomial%2C_poisson__.ipynb\" target=\"_parent\"><img src=\"https://colab.research.google.com/assets/colab-badge.svg\" alt=\"Open In Colab\"/></a>"
      ]
    },
    {
      "cell_type": "code",
      "metadata": {
        "id": "11LmuROzUBX8"
      },
      "source": [
        "import numpy as np\n",
        "from numpy import exp\n",
        "\n",
        "import matplotlib.pyplot as plt"
      ],
      "execution_count": 1,
      "outputs": []
    },
    {
      "cell_type": "markdown",
      "metadata": {
        "id": "92U7vrYZ3fUv"
      },
      "source": [
        "# Simulación binomial"
      ]
    },
    {
      "cell_type": "markdown",
      "metadata": {
        "id": "JlwDFE9l8I-T"
      },
      "source": [
        "## Bernoulli n = 1"
      ]
    },
    {
      "cell_type": "code",
      "metadata": {
        "colab": {
          "base_uri": "https://localhost:8080/",
          "height": 751
        },
        "id": "JtAJUizI3fUv",
        "outputId": "7896be1c-33bb-45d8-ae46-a4313f475608"
      },
      "source": [
        "# Bernoulli n = 1\n",
        "n, p = 1, 0.3\n",
        "size = 1000\n",
        "s = np.random.binomial(n, p, size)  #muestra de tamaño size con la preferencia de el candidato con .3\n",
        "plt.hist( s,   weights = np.ones_like(s)/size)\n",
        "plt.show()\n",
        "print(s)"
      ],
      "execution_count": 2,
      "outputs": [
        {
          "output_type": "display_data",
          "data": {
            "image/png": "[encoded data removed]",
            "text/plain": [
              "<Figure size 432x288 with 1 Axes>"
            ]
          },
          "metadata": {
            "needs_background": "light"
          }
        },
        {
          "output_type": "stream",
          "name": "stdout",
          "text": [
            "[1 1 0 1 0 1 0 1 1 1 0 0 1 1 1 0 1 0 0 0 0 1 1 0 1 1 0 0 0 0 0 0 0 0 0 0 0\n",
            " 0 0 1 0 0 0 0 0 1 0 0 0 1 0 0 1 0 0 0 0 0 1 0 1 0 0 0 0 0 0 0 1 0 1 0 1 0\n",
            " 1 0 0 0 1 0 0 1 1 0 1 0 1 1 1 0 0 0 1 1 0 0 0 0 1 0 0 0 0 0 1 0 0 1 0 1 0\n",
            " 0 0 1 0 0 1 0 0 0 0 0 0 1 0 0 1 1 1 1 0 0 0 1 0 0 0 1 0 1 0 0 1 0 0 1 0 1\n",
            " 1 0 1 0 1 0 0 0 1 0 1 0 0 0 1 0 0 0 0 0 0 0 1 0 0 0 0 1 0 0 0 1 0 0 0 0 0\n",
            " 1 0 0 0 0 0 0 0 0 0 0 0 1 1 0 1 1 0 0 0 0 1 0 1 0 0 1 0 0 0 0 0 0 0 0 0 1\n",
            " 0 0 0 0 1 0 0 0 0 0 0 0 1 0 1 0 1 1 0 0 0 0 1 0 0 0 0 0 1 1 0 1 0 0 0 0 0\n",
            " 0 0 0 0 0 0 0 0 1 0 0 1 0 1 1 0 1 0 1 0 0 0 0 0 0 1 1 0 1 0 0 1 0 0 0 0 0\n",
            " 1 1 0 1 1 1 1 0 1 0 0 0 0 1 0 0 1 0 0 0 1 0 0 0 0 1 0 0 0 0 0 0 0 0 0 1 1\n",
            " 0 0 1 1 1 0 0 0 1 0 0 0 0 0 0 0 1 0 0 0 1 0 0 0 0 0 0 0 0 0 0 0 1 1 1 0 0\n",
            " 1 0 0 1 0 1 0 0 0 0 1 0 1 0 1 0 1 1 1 1 0 0 1 0 1 1 0 0 0 0 1 0 0 0 1 0 0\n",
            " 0 0 0 1 1 0 0 1 0 1 1 0 0 0 0 0 1 0 0 0 1 1 1 0 0 0 1 0 0 0 0 0 0 1 0 0 0\n",
            " 0 0 0 1 0 1 0 0 0 0 1 0 1 0 0 1 0 0 0 1 0 0 0 1 0 0 0 1 0 0 0 0 1 0 0 0 0\n",
            " 1 0 0 0 1 0 0 1 0 1 0 1 0 0 0 0 0 1 1 0 0 0 0 0 0 1 1 0 0 0 1 0 1 0 1 1 1\n",
            " 0 0 0 0 0 0 0 0 1 0 0 0 0 1 0 0 1 0 0 0 0 1 0 0 1 0 0 1 1 0 0 0 0 0 0 0 1\n",
            " 1 0 0 0 1 0 0 0 0 0 0 0 0 0 0 0 0 1 0 1 1 0 0 0 0 0 0 0 1 0 0 0 0 0 1 1 0\n",
            " 0 0 0 0 1 0 0 0 1 0 1 0 0 0 1 0 1 1 0 0 0 1 0 1 1 0 1 0 0 0 0 1 0 0 0 0 0\n",
            " 1 0 0 0 0 0 1 1 1 0 0 0 1 0 0 1 0 0 1 0 0 0 0 0 0 1 0 1 0 1 0 0 0 0 0 1 0\n",
            " 0 0 1 0 1 0 0 0 0 0 0 0 0 1 0 1 0 0 0 0 0 0 1 0 0 0 0 1 1 0 0 0 1 0 0 1 0\n",
            " 1 0 1 0 1 1 1 1 0 0 1 0 0 0 0 1 0 0 0 0 0 0 0 0 0 0 1 1 1 0 0 1 0 0 1 0 1\n",
            " 1 1 0 0 1 0 1 0 0 0 1 0 0 0 1 1 0 0 1 0 0 0 0 0 0 0 0 0 0 0 0 0 0 0 0 0 0\n",
            " 0 1 0 0 0 1 0 0 0 0 1 0 0 0 0 1 1 0 0 1 0 0 0 0 1 0 0 0 0 1 0 0 0 0 0 0 1\n",
            " 0 0 1 0 0 0 0 0 0 0 0 0 0 1 1 0 0 0 0 1 1 0 0 0 0 0 0 0 0 1 0 0 0 0 1 0 0\n",
            " 0 0 1 0 1 0 0 0 0 1 0 0 0 0 0 1 0 1 1 0 1 0 0 0 0 1 1 0 1 0 1 0 0 1 0 0 0\n",
            " 0 0 0 0 0 0 0 1 0 0 0 1 1 0 0 1 0 0 0 0 0 1 1 0 0 1 0 0 1 0 1 0 1 0 0 1 1\n",
            " 0 1 0 1 0 0 0 0 0 1 0 0 0 0 0 1 0 1 1 1 1 1 1 1 0 1 0 1 1 0 0 0 1 1 0 0 0\n",
            " 0 0 0 1 0 0 0 0 0 0 0 1 0 0 0 0 0 0 0 0 1 1 0 1 0 0 0 1 1 1 0 1 0 0 1 0 0\n",
            " 0]\n"
          ]
        }
      ]
    },
    {
      "cell_type": "markdown",
      "metadata": {
        "id": "jhzKpOUd8YO6"
      },
      "source": [
        "## Binomial n > 1"
      ]
    },
    {
      "cell_type": "code",
      "metadata": {
        "colab": {
          "base_uri": "https://localhost:8080/",
          "height": 751
        },
        "id": "-1A4mRQG8YO6",
        "outputId": "5e83937d-c405-4647-d596-fec85e5e58bb"
      },
      "source": [
        "\n",
        "n, p = 3, 0.3     \n",
        "size=1000\n",
        "s = np.random.binomial(n, p, size)  # muestra del tamaño size con la cantidad de personas por cada tres(n) que  votan por el candidato con p = 0.3\n",
        "plt.hist( s,  weights = np.ones_like(s)/size)\n",
        "plt.show()\n",
        "print(s)"
      ],
      "execution_count": 3,
      "outputs": [
        {
          "output_type": "display_data",
          "data": {
            "image/png": "[encoded data removed]",
            "text/plain": [
              "<Figure size 432x288 with 1 Axes>"
            ]
          },
          "metadata": {
            "needs_background": "light"
          }
        },
        {
          "output_type": "stream",
          "name": "stdout",
          "text": [
            "[1 1 0 1 0 1 2 1 0 2 0 0 1 2 2 0 1 1 2 1 2 0 0 1 2 0 0 1 0 2 1 2 2 0 1 1 1\n",
            " 0 2 0 1 1 0 1 1 1 1 0 2 0 2 0 0 0 1 2 1 2 2 0 1 0 1 2 0 2 0 0 0 2 1 0 1 1\n",
            " 1 1 1 2 1 2 0 3 0 0 0 1 0 1 0 1 1 2 1 1 2 1 1 0 0 1 1 0 2 3 0 1 1 0 2 0 1\n",
            " 2 2 1 0 0 1 0 2 0 1 0 0 2 1 0 0 1 1 2 2 1 0 1 0 1 2 1 1 1 1 2 3 0 2 0 1 1\n",
            " 0 3 0 1 2 2 0 0 1 0 1 0 3 2 1 1 2 1 1 0 0 1 1 2 1 1 1 1 0 0 0 1 0 1 0 2 1\n",
            " 1 1 0 0 1 1 1 1 1 1 0 1 0 0 0 1 2 1 1 0 2 1 0 2 0 2 1 0 2 2 1 1 1 0 1 0 0\n",
            " 1 3 0 0 1 2 0 0 1 0 2 1 2 1 2 2 0 2 0 2 3 1 1 0 1 2 0 0 1 1 0 2 1 3 1 2 0\n",
            " 1 1 1 1 0 0 1 0 1 0 1 2 1 0 2 1 1 1 1 0 2 0 1 2 1 2 2 0 1 1 0 0 0 1 1 2 2\n",
            " 0 1 1 0 1 0 0 1 1 2 1 1 2 0 0 2 1 1 1 0 2 0 2 2 0 1 2 0 0 1 1 1 0 2 0 1 0\n",
            " 2 1 1 1 2 1 2 2 0 1 1 2 0 2 0 1 2 1 2 0 2 0 0 1 1 1 0 2 0 0 2 1 2 0 1 1 2\n",
            " 1 1 1 1 0 0 0 1 0 0 1 1 1 0 0 1 0 1 1 1 2 1 1 1 0 2 1 1 2 2 1 2 1 1 1 1 1\n",
            " 0 2 0 1 1 0 3 1 1 0 1 1 1 1 1 1 1 1 0 0 1 2 2 2 2 1 1 1 2 0 1 2 1 0 1 0 1\n",
            " 2 0 0 1 2 1 0 0 2 0 1 0 1 0 0 1 2 1 1 3 1 1 2 0 0 0 1 1 1 0 2 2 1 0 1 1 1\n",
            " 1 1 0 0 2 0 2 1 1 2 1 1 0 1 1 2 1 0 0 0 1 1 1 2 1 1 1 1 0 2 1 0 0 1 2 0 1\n",
            " 2 1 0 0 0 2 0 1 2 0 1 2 0 0 0 2 0 0 2 1 0 2 3 1 1 0 1 0 1 1 2 1 0 1 1 0 2\n",
            " 1 0 0 1 2 0 0 0 1 0 2 1 3 1 2 1 1 2 1 0 3 0 1 1 1 1 0 2 2 2 1 2 1 2 1 2 0\n",
            " 1 1 2 0 0 0 0 0 0 2 0 3 1 0 1 1 0 2 1 2 0 0 1 1 2 1 0 1 0 1 0 1 1 0 2 3 0\n",
            " 1 1 1 1 2 1 0 1 0 2 1 1 0 0 0 1 1 1 1 1 1 0 1 0 0 1 0 0 0 0 1 1 1 1 0 0 1\n",
            " 0 2 0 0 2 0 1 1 1 0 0 2 0 2 1 1 0 0 1 0 1 1 0 0 0 0 1 1 2 0 0 2 2 1 1 1 1\n",
            " 1 0 1 0 3 1 0 2 1 2 1 0 2 0 1 1 0 2 0 1 2 0 2 2 1 0 2 1 0 2 0 1 1 2 0 1 2\n",
            " 1 0 2 1 0 0 0 2 2 1 0 0 1 1 2 2 1 0 1 0 1 1 1 1 1 0 0 0 2 1 3 0 1 0 1 0 1\n",
            " 1 0 1 0 0 0 2 0 0 1 1 3 1 3 0 2 1 1 3 1 1 1 1 2 1 1 2 1 0 0 1 2 0 2 0 0 0\n",
            " 2 1 0 2 0 1 2 0 1 1 2 1 2 1 0 1 2 1 0 1 1 2 1 1 1 0 2 2 1 0 0 2 0 0 1 0 2\n",
            " 1 2 1 2 1 1 1 1 2 0 1 2 2 1 2 1 0 3 0 1 1 1 1 0 2 1 0 0 1 0 0 0 1 1 1 0 1\n",
            " 1 1 0 0 1 2 2 1 1 1 0 1 0 2 1 0 1 0 1 1 2 1 1 0 0 2 2 2 3 1 1 0 1 1 0 0 0\n",
            " 2 2 0 1 0 1 0 1 1 0 1 1 3 2 1 1 0 0 1 0 2 0 0 1 1 0 2 1 0 1 0 0 1 1 1 1 1\n",
            " 0 1 1 3 1 1 2 0 0 0 0 0 2 1 0 1 1 1 0 1 1 0 1 0 0 2 0 0 0 1 0 2 0 2 0 2 0\n",
            " 2]\n"
          ]
        }
      ]
    },
    {
      "cell_type": "code",
      "metadata": {
        "colab": {
          "base_uri": "https://localhost:8080/",
          "height": 751
        },
        "id": "9D05Ba2l954P",
        "outputId": "c7a746a1-7ebf-44b3-aa4a-85ce983de313"
      },
      "source": [
        "\n",
        "n, p = 3, 0.7\n",
        "size = 1000     \n",
        "s = np.random.binomial(n, p, 1000)  # muestra del tamaño size con la cantidad de personas por cada tres que  votan por el candidato con p = 0.7\n",
        "plt.hist( s, weights = np.ones_like(s)/size)\n",
        "plt.show()\n",
        "print(s)"
      ],
      "execution_count": 4,
      "outputs": [
        {
          "output_type": "display_data",
          "data": {
            "image/png": "[encoded data removed]",
            "text/plain": [
              "<Figure size 432x288 with 1 Axes>"
            ]
          },
          "metadata": {
            "needs_background": "light"
          }
        },
        {
          "output_type": "stream",
          "name": "stdout",
          "text": [
            "[1 2 2 2 3 2 2 3 1 3 2 3 2 1 3 3 2 2 0 3 2 2 1 3 3 2 3 2 1 1 1 1 3 1 3 2 3\n",
            " 3 1 3 2 3 2 2 2 2 2 2 1 3 3 0 1 2 2 3 2 3 2 2 3 3 3 2 3 2 3 3 2 3 1 2 1 3\n",
            " 3 2 3 2 2 3 3 2 2 1 2 3 2 0 3 2 1 3 2 3 2 2 2 2 3 2 2 2 2 2 3 1 2 3 1 3 2\n",
            " 3 3 1 2 3 2 1 1 3 2 1 1 3 1 2 1 2 2 3 2 3 1 3 2 1 2 3 3 1 3 3 2 2 3 3 2 1\n",
            " 2 1 2 2 3 2 2 3 2 2 1 3 1 1 3 3 3 2 3 2 2 2 2 2 3 3 3 2 1 3 2 2 1 1 2 2 2\n",
            " 2 2 2 2 2 3 1 3 2 2 3 3 1 1 2 2 1 2 3 2 3 2 3 3 2 3 3 3 2 2 2 2 3 2 2 0 2\n",
            " 2 3 3 2 2 3 3 2 1 2 1 3 2 2 2 2 2 2 3 3 2 1 3 1 1 3 2 1 2 1 1 2 3 3 2 1 2\n",
            " 3 1 2 2 2 2 2 3 3 2 2 2 1 1 2 3 3 2 2 1 3 3 3 2 2 2 3 3 1 3 1 1 1 2 2 3 2\n",
            " 3 2 3 3 1 2 2 3 1 1 1 2 1 3 2 1 2 3 2 3 2 3 2 3 1 3 0 2 3 1 3 3 3 3 2 2 2\n",
            " 3 3 1 3 2 3 2 2 3 1 3 1 1 1 2 2 2 3 3 3 1 2 2 2 3 2 3 3 2 3 2 0 2 2 2 2 2\n",
            " 3 3 1 2 1 2 2 3 3 3 1 2 2 2 1 2 2 3 1 3 3 0 3 3 2 3 3 2 3 2 2 3 3 1 2 1 2\n",
            " 2 2 2 3 2 3 3 2 3 1 2 2 2 2 2 3 3 2 2 3 1 2 3 3 2 3 1 2 1 2 3 3 3 2 3 3 3\n",
            " 1 3 3 3 1 3 3 1 2 1 2 2 2 2 3 3 2 2 2 2 1 3 3 3 3 2 2 1 3 2 2 1 2 1 1 1 3\n",
            " 2 2 2 2 2 3 2 2 3 2 2 2 2 1 2 3 2 2 3 2 1 3 2 3 3 3 2 2 2 3 1 2 2 1 2 2 2\n",
            " 2 3 2 1 2 2 1 3 2 2 1 1 3 3 2 2 2 2 3 1 2 1 3 2 2 1 2 2 2 3 1 3 3 3 1 2 1\n",
            " 1 3 1 1 2 3 2 2 2 2 2 3 3 3 2 2 3 3 2 2 2 2 3 2 2 3 2 3 1 3 2 1 2 3 2 1 2\n",
            " 1 1 2 2 1 1 1 2 2 3 3 2 2 3 3 2 3 1 3 3 3 2 2 2 1 3 3 2 3 3 1 3 3 3 3 2 3\n",
            " 2 2 2 1 1 2 1 2 3 2 2 2 0 1 3 3 1 2 2 0 0 2 1 3 2 2 1 2 2 2 3 3 2 3 0 1 3\n",
            " 3 2 2 1 1 3 1 2 1 2 1 2 3 2 3 2 2 3 1 2 2 1 3 3 3 2 1 1 3 2 3 2 3 3 3 3 2\n",
            " 3 2 2 2 1 1 1 2 2 2 2 3 2 3 2 3 2 3 2 2 2 3 3 0 1 2 3 2 3 2 3 3 2 1 3 2 3\n",
            " 1 1 3 3 2 3 3 2 2 3 3 3 2 2 2 1 2 3 3 2 2 2 3 3 2 1 1 3 3 2 2 3 2 1 1 2 2\n",
            " 1 2 3 3 3 2 3 3 1 1 1 3 3 2 0 3 2 1 2 3 3 3 3 1 3 2 1 2 1 3 2 3 2 2 3 3 2\n",
            " 3 3 2 2 3 1 2 2 2 2 2 2 2 1 2 1 2 2 3 2 3 3 2 2 2 3 2 2 3 1 3 1 2 2 2 2 1\n",
            " 3 0 2 3 2 3 2 2 2 0 2 2 1 3 1 2 2 2 3 3 2 2 3 2 3 1 3 3 2 2 1 3 3 2 1 3 2\n",
            " 2 3 2 1 2 3 2 2 3 2 3 3 2 3 3 2 2 2 2 1 3 2 2 3 2 3 1 1 3 3 2 1 2 3 2 3 2\n",
            " 3 0 1 3 3 2 2 2 2 3 3 3 3 1 1 3 2 2 3 3 1 2 1 3 3 2 1 3 2 1 3 2 3 2 3 2 3\n",
            " 3 3 3 1 2 0 1 2 2 2 3 2 3 1 3 2 3 2 1 2 1 1 1 1 3 2 3 2 2 2 2 3 2 2 2 2 2\n",
            " 1]\n"
          ]
        }
      ]
    },
    {
      "cell_type": "markdown",
      "metadata": {
        "id": "2Xvd3482_sBb"
      },
      "source": [
        "## Poisson cuando ${n \\to \\infty}$ \n",
        "### ${p \\to 0}$"
      ]
    },
    {
      "cell_type": "markdown",
      "metadata": {
        "id": "UDo0qR9r_Wcx"
      },
      "source": [
        "La distribución Poisson es la distribución de bernulli, para eventos raros, cuando hacemos suficientes experimientos"
      ]
    },
    {
      "cell_type": "code",
      "metadata": {
        "colab": {
          "base_uri": "https://localhost:8080/",
          "height": 317
        },
        "id": "8ZWtIud3-KB_",
        "outputId": "e299516e-7b67-451e-d941-8d17c5c9c27e"
      },
      "source": [
        "n, p = 10000, 0.0001   \n",
        "size = 100000\n",
        "s = np.random.binomial(n, p, size)  # muestra del tamaño size con la cantidad de  personas por cada  10000 que tengan una enfermedad rara (p=0.0001)\n",
        "plt.hist( s, bins=30,  weights = np.ones_like(s)/size)\n",
        "plt.show()\n",
        "print(s[0:100])"
      ],
      "execution_count": 5,
      "outputs": [
        {
          "output_type": "display_data",
          "data": {
            "image/png": "[encoded data removed]",
            "text/plain": [
              "<Figure size 432x288 with 1 Axes>"
            ]
          },
          "metadata": {
            "needs_background": "light"
          }
        },
        {
          "output_type": "stream",
          "name": "stdout",
          "text": [
            "[0 0 1 2 2 3 3 0 0 0 1 1 1 0 1 2 2 1 1 3 0 0 1 0 1 1 1 0 2 0 0 1 2 3 0 0 0\n",
            " 0 0 1 3 1 0 1 1 3 3 1 0 0 1 0 1 0 1 2 1 2 1 0 1 2 1 0 0 2 1 2 1 0 0 4 2 2\n",
            " 1 0 0 1 2 2 0 1 0 1 2 4 1 3 1 1 1 0 1 0 1 1 0 0 0 2]\n"
          ]
        }
      ]
    },
    {
      "cell_type": "markdown",
      "metadata": {
        "id": "60eySuyfHT2x"
      },
      "source": [
        "###Distribución de Poisson\n",
        "\n",
        "\n",
        "$$f(i;\\lambda)= \\frac{{\\lambda}^{i}}{i!} e^{-\\lambda}$$  \n",
        "\n",
        "$$\\lambda= \\lim_{n \\to \\infty} (n\\: p)$$\n",
        "\n",
        "\n",
        "\n",
        "\n",
        "\n",
        "\n",
        "\n",
        "\n",
        "\n",
        "\n",
        "\n"
      ]
    },
    {
      "cell_type": "code",
      "metadata": {
        "colab": {
          "base_uri": "https://localhost:8080/"
        },
        "id": "7QaUUfn7LtmJ",
        "outputId": "77b5fd28-6f22-4888-a785-feaa07ff4fb0"
      },
      "source": [
        "λ = n * p  #parametro lambda\n",
        "λ"
      ],
      "execution_count": 6,
      "outputs": [
        {
          "output_type": "execute_result",
          "data": {
            "text/plain": [
              "1.0"
            ]
          },
          "metadata": {},
          "execution_count": 6
        }
      ]
    },
    {
      "cell_type": "code",
      "metadata": {
        "colab": {
          "base_uri": "https://localhost:8080/",
          "height": 317
        },
        "id": "jf6ceAufMbHm",
        "outputId": "2edc8e01-c4c3-46a1-c4b8-666a2e5b8452"
      },
      "source": [
        "λ = 1.0\n",
        "\n",
        "s = np.random.poisson(λ, size)  # muestra del tamaño size con la cantidad de  personas por cada  10000 que tengan una enfermedad (p=0.001)\n",
        "plt.hist( s, bins=30, weights = np.zeros_like(s)+1./size)\n",
        "plt.show()\n",
        "print(s[0:100])\n"
      ],
      "execution_count": 7,
      "outputs": [
        {
          "output_type": "display_data",
          "data": {
            "image/png": "[encoded data removed]",
            "text/plain": [
              "<Figure size 432x288 with 1 Axes>"
            ]
          },
          "metadata": {
            "needs_background": "light"
          }
        },
        {
          "output_type": "stream",
          "name": "stdout",
          "text": [
            "[0 0 1 1 1 3 2 2 0 1 1 2 1 1 1 0 0 2 1 1 2 2 1 3 0 1 1 2 3 1 2 1 1 0 0 0 2\n",
            " 2 1 0 1 1 1 0 1 0 0 1 0 0 1 1 0 0 1 1 1 2 0 0 1 1 1 1 1 0 2 1 0 3 1 1 0 1\n",
            " 0 2 4 2 1 2 0 1 1 4 1 1 2 1 1 3 2 3 2 1 2 0 1 0 1 0]\n"
          ]
        }
      ]
    },
    {
      "cell_type": "code",
      "metadata": {
        "id": "rgSzhLhj-jJ5",
        "outputId": "9e3f0d96-c5ce-4814-91c7-bd0b96b05efc",
        "colab": {
          "base_uri": "https://localhost:8080/"
        }
      },
      "source": [
        "s.mean()  # estimación de lambda a partir de la muestra"
      ],
      "execution_count": 8,
      "outputs": [
        {
          "output_type": "execute_result",
          "data": {
            "text/plain": [
              "0.99521"
            ]
          },
          "metadata": {},
          "execution_count": 8
        }
      ]
    }
  ]
}