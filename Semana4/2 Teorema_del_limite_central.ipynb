{
  "nbformat": 4,
  "nbformat_minor": 0,
  "metadata": {
    "kernelspec": {
      "display_name": "Python 3",
      "language": "python",
      "name": "python3"
    },
    "language_info": {
      "codemirror_mode": {
        "name": "ipython",
        "version": 3
      },
      "file_extension": ".py",
      "mimetype": "text/x-python",
      "name": "python",
      "nbconvert_exporter": "python",
      "pygments_lexer": "ipython3",
      "version": "3.6.5"
    },
    "colab": {
      "name": "Teorema del limite central ipynb",
      "provenance": [],
      "collapsed_sections": [
        "eRO54v3Rk7Zs"
      ],
      "include_colab_link": true
    }
  },
  "cells": [
    {
      "cell_type": "markdown",
      "metadata": {
        "id": "view-in-github",
        "colab_type": "text"
      },
      "source": [
        "<a href=\"https://colab.research.google.com/github/AnIsAsPe/Estadistica_y_Probabilidad_para-CD-/blob/main/Semana4/2%20Teorema_del_limite_central.ipynb\" target=\"_parent\"><img src=\"https://colab.research.google.com/assets/colab-badge.svg\" alt=\"Open In Colab\"/></a>"
      ]
    },
    {
      "cell_type": "markdown",
      "metadata": {
        "id": "MlNBbGOgZ2j5"
      },
      "source": [
        "\n",
        "## Importar liberías y archivos"
      ]
    },
    {
      "cell_type": "code",
      "metadata": {
        "id": "FEI_n9J2Z2j5"
      },
      "source": [
        "import numpy as np\n",
        "import pandas as pd\n",
        "\n",
        "import random\n",
        "import operator\n",
        "import re # módulo operaciones expresiones regulares\n",
        "import unicodedata  #para quitar tildes\n",
        "from collections import Counter\n",
        "from scipy.stats import norm\n",
        "\n",
        "import matplotlib.pyplot as plt\n",
        "import seaborn as sns"
      ],
      "execution_count": 1,
      "outputs": []
    },
    {
      "cell_type": "markdown",
      "metadata": {
        "id": "pbALUjcWkWgr"
      },
      "source": [
        "## Definición de funciones"
      ]
    },
    {
      "cell_type": "code",
      "source": [
        "def errores_alturas(n, m = 500):\n",
        "    '''\n",
        "    n = tamaño de cada muestra\n",
        "    m = cuántas muestras\n",
        "       \n",
        "    '''\n",
        "    mu, sigma = 1675, 62.8     # dimensiones en milimetros\n",
        "\n",
        "    muestras = {'muestra '+ str(i): np.random.normal(mu, sigma,n) for i in range(1, m+1)}\n",
        "    alturas_hombres = pd.DataFrame.from_dict(muestras)\n",
        "    sns.distplot(mu - alturas_hombres.mean(), fit=norm, kde=False, bins=50)\n",
        "    plt.show()\n",
        "\n"
      ],
      "metadata": {
        "id": "NJAdcVglzjKZ"
      },
      "execution_count": 2,
      "outputs": []
    },
    {
      "cell_type": "code",
      "metadata": {
        "id": "96lVL2qUMtsa"
      },
      "source": [
        "def leer_libro(archivo_txt):\n",
        "  '''funcion para leer un archivo en formato txt'''\n",
        "  with open(archivo_txt, \"r\", encoding=\"utf8\") as f:\n",
        "    texto = f.read()\n",
        "    texto = texto.replace(\"\\n\", \"\").replace(\"\\r\", \"\") \n",
        "  return texto"
      ],
      "execution_count": 3,
      "outputs": []
    },
    {
      "cell_type": "code",
      "metadata": {
        "id": "F5sgP6ZkinM7"
      },
      "source": [
        "def borrar_elementos(texto, lista):\n",
        "  '''Función para eliminar en un texto los elementos contenidos en una lista, \n",
        "  por ejemplo:   autor, titulo y otros elementos'''\n",
        "  \n",
        "  for elemento in lista:\n",
        "    texto = texto.replace(elemento, \"\")\n",
        "  return texto"
      ],
      "execution_count": 4,
      "outputs": []
    },
    {
      "cell_type": "code",
      "metadata": {
        "id": "4wWolL-TXZct"
      },
      "source": [
        "\n",
        "def limpiar_texto(texto):\n",
        "  '''Función para convertir a minúsculas, quitar signos de puntuación,\n",
        "  números y tildes'''\n",
        "\n",
        "  #Convertir en mínusculas \n",
        "  texto_limpio = texto.lower()\n",
        "\n",
        "  #Quitar puntuación\n",
        "  puntuacion = [\".\", \",\" , \"-\", \"\\n\", \":\", \";\",'\"', \"'\", \"  \",\n",
        "                \"!\", \"¡\", \"¿\", \"?\", \"(\", \")\", \"<\", \"«\", \"»\", \"~\",]\n",
        "  for p in puntuacion:\n",
        "    texto_limpio = texto_limpio.replace(p,\"\")\n",
        "\n",
        "  #Quitar numeros\n",
        "\n",
        "  texto_limpio = \"\".join(filter(lambda x: not x.isdigit(), texto_limpio))\n",
        "\n",
        "  #Quitar tildes \n",
        "  \n",
        "  texto_limpio =''.join((c for c in unicodedata.normalize('NFD',texto_limpio) if\n",
        "                         unicodedata.category(c) != 'Mn'))\n",
        "\n",
        "  return texto_limpio"
      ],
      "execution_count": 5,
      "outputs": []
    },
    {
      "cell_type": "code",
      "metadata": {
        "id": "hU8f6vv2LVvF"
      },
      "source": [
        "\n",
        "def genera_texto_nletras(texto, n=1, tot_letras = 100):\n",
        "  '''Devuelve un texto, utilizando ngramas a partir de letras\n",
        "  n es la cantidad de letras que se toman en consideración para \n",
        "  generar la siguiente'''\n",
        "  ngramas = {}\n",
        "  for i in range(len(texto) - n):\n",
        "    seq = texto[i:i+n]\n",
        "    if seq not in ngramas.keys():\n",
        "      ngramas[seq] = []\n",
        "    ngramas[seq].append(texto[i+n]) \n",
        "    \n",
        "  ngrama = np.random.choice(list(ngramas.keys()))\n",
        "  nuevo_texto = ngrama\n",
        "  \n",
        "  for i in range(tot_letras):\n",
        "    if ngrama not in ngramas.keys():\n",
        "      break\n",
        "    siguiente_letra = np.random.choice(ngramas[ngrama])\n",
        "    nuevo_texto += siguiente_letra\n",
        "    ngrama = nuevo_texto[len(nuevo_texto)-n:len(nuevo_texto)]\n",
        "  return nuevo_texto"
      ],
      "execution_count": 6,
      "outputs": []
    },
    {
      "cell_type": "code",
      "metadata": {
        "id": "qWiYIU76KTF4"
      },
      "source": [
        "def genera_muestras_de_texto(texto, grado=0, \n",
        "                             num_muestras=100, \n",
        "                             tam_muestra=200 ):\n",
        "  muestras={}\n",
        "  for i in range(num_muestras):\n",
        "    if grado == 0:\n",
        "      muestras[i]= \"\".join(random.sample(texto, tam_muestra))\n",
        "    else:\n",
        "      muestras[i] = genera_texto_nletras(texto, grado, tam_muestra)\n",
        "  return pd.Series(muestras, name= 'muestra' )"
      ],
      "execution_count": 7,
      "outputs": []
    },
    {
      "cell_type": "code",
      "metadata": {
        "id": "EGkrl_dKE62b"
      },
      "source": [
        "def cuenta_vocales(texto):\n",
        "  vocales ='aeiou'\n",
        "  tot_vocales= 0\n",
        "  for caracter in texto:\n",
        "    if caracter in vocales:\n",
        "      tot_vocales += 1\n",
        "  return tot_vocales"
      ],
      "execution_count": 8,
      "outputs": []
    },
    {
      "cell_type": "code",
      "metadata": {
        "id": "A7oWT_SAFK0T"
      },
      "source": [
        "def cuenta_caracteres_antes_de_n(texto):\n",
        "  caracteres_antes = 0\n",
        "  for caracter in texto:\n",
        "    if caracter == 'n':\n",
        "      break\n",
        "    caracteres_antes += 1\n",
        "\n",
        "  return caracteres_antes"
      ],
      "execution_count": 9,
      "outputs": []
    },
    {
      "cell_type": "markdown",
      "metadata": {
        "id": "UjW7W4BrPTTZ"
      },
      "source": [
        "# Distribución gaussiana"
      ]
    },
    {
      "cell_type": "markdown",
      "metadata": {
        "id": "9pFsoM62gq1Z"
      },
      "source": [
        "## Obtener muestras\n",
        "\n",
        "a partir de la [distribución de la altura de trabajadores industriales de sexo masculino en Guadalajara](https://www.researchgate.net/publication/31722433_Dimensiones_antropometricas_de_la_poblacion_latinoamericana_Mexico_Cuba_Colombia_Chile_R_Avila_Chaurand_LR_Prado_Leon_EL_Gonzalez_Munoz)"
      ]
    },
    {
      "cell_type": "code",
      "metadata": {
        "colab": {
          "base_uri": "https://localhost:8080/",
          "height": 505
        },
        "outputId": "4716edea-d1b3-4262-d974-6de92e402f5a",
        "id": "19Bxuz3ftZHN"
      },
      "source": [
        "mu, sigma = 1675, 62.8     # dimensiones en milimetros\n",
        "\n",
        "n = 100 # tamaño de la muestra\n",
        "m = 1000 # número de muestras\n",
        "muestras = {'muestra '+str(i): np.random.normal(mu, sigma,n) for i in range(1, m+1)}\n",
        "alturas_hombres = pd.DataFrame.from_dict(muestras)\n",
        "alturas_hombres"
      ],
      "execution_count": 10,
      "outputs": [
        {
          "output_type": "execute_result",
          "data": {
            "text/plain": [
              "      muestra 1    muestra 2    muestra 3    muestra 4    muestra 5  \\\n",
              "0   1543.958877  1595.284356  1660.931154  1601.097849  1686.384900   \n",
              "1   1625.555539  1649.176920  1743.736852  1515.420180  1774.547614   \n",
              "2   1669.816535  1679.152794  1582.057464  1719.840746  1735.756312   \n",
              "3   1596.327132  1591.003818  1644.727679  1729.455056  1613.035670   \n",
              "4   1675.994394  1724.858177  1742.111193  1623.253456  1650.818074   \n",
              "..          ...          ...          ...          ...          ...   \n",
              "95  1628.950839  1666.856772  1624.107492  1700.325584  1668.697476   \n",
              "96  1698.847686  1727.405706  1660.371074  1658.763086  1706.280289   \n",
              "97  1693.797670  1631.590418  1751.859988  1731.515183  1676.143601   \n",
              "98  1748.672907  1717.075083  1644.644474  1651.210787  1591.577787   \n",
              "99  1621.741919  1717.855121  1764.416796  1615.956747  1671.212187   \n",
              "\n",
              "      muestra 6    muestra 7    muestra 8    muestra 9   muestra 10  ...  \\\n",
              "0   1717.716906  1694.114360  1759.831958  1657.497904  1701.910063  ...   \n",
              "1   1629.923790  1594.780084  1732.363792  1646.097335  1743.459919  ...   \n",
              "2   1697.037061  1639.552279  1662.853707  1691.289894  1725.967566  ...   \n",
              "3   1681.748282  1744.246197  1694.821322  1635.227498  1696.325867  ...   \n",
              "4   1736.800258  1682.397196  1657.045482  1733.288348  1592.399971  ...   \n",
              "..          ...          ...          ...          ...          ...  ...   \n",
              "95  1733.645508  1693.367733  1764.676761  1536.678533  1630.329306  ...   \n",
              "96  1683.653896  1789.447134  1697.458505  1675.998061  1687.068028  ...   \n",
              "97  1662.628891  1621.648965  1669.208387  1660.897859  1639.920560  ...   \n",
              "98  1764.257196  1797.878664  1695.421867  1722.586742  1602.327045  ...   \n",
              "99  1763.498688  1616.477736  1646.078329  1681.930054  1701.858723  ...   \n",
              "\n",
              "    muestra 991  muestra 992  muestra 993  muestra 994  muestra 995  \\\n",
              "0   1738.525253  1645.018197  1651.084527  1738.678685  1653.340416   \n",
              "1   1685.334969  1657.238405  1648.930921  1666.213967  1747.131693   \n",
              "2   1639.146327  1733.739297  1555.169463  1627.337448  1724.934294   \n",
              "3   1730.635911  1720.428028  1655.214514  1730.416468  1650.632503   \n",
              "4   1743.989477  1791.057303  1565.265809  1757.870889  1651.538798   \n",
              "..          ...          ...          ...          ...          ...   \n",
              "95  1731.988115  1651.552248  1665.616804  1716.387444  1704.567127   \n",
              "96  1752.321877  1752.336949  1742.183655  1696.917698  1597.552519   \n",
              "97  1708.605429  1687.748691  1716.678041  1578.590581  1501.765336   \n",
              "98  1651.061059  1602.144931  1616.333797  1536.068099  1656.159560   \n",
              "99  1707.449683  1596.791958  1739.316473  1662.734220  1623.448352   \n",
              "\n",
              "    muestra 996  muestra 997  muestra 998  muestra 999  muestra 1000  \n",
              "0   1839.993394  1641.772370  1673.642666  1692.050813   1709.474327  \n",
              "1   1764.812995  1687.149570  1784.057733  1659.104297   1765.767740  \n",
              "2   1681.778649  1673.903314  1680.284135  1733.399759   1637.795875  \n",
              "3   1639.416886  1730.852246  1802.593511  1656.994995   1795.900284  \n",
              "4   1703.548834  1755.213768  1720.700350  1713.349074   1728.303881  \n",
              "..          ...          ...          ...          ...           ...  \n",
              "95  1605.752909  1766.644197  1667.321525  1749.803321   1580.965676  \n",
              "96  1857.665113  1719.153375  1687.248934  1673.322834   1679.875271  \n",
              "97  1622.630106  1666.951633  1672.963617  1754.357542   1526.111521  \n",
              "98  1619.847130  1698.749313  1676.126549  1660.099804   1775.167922  \n",
              "99  1734.886179  1714.221928  1646.861937  1605.115794   1540.052604  \n",
              "\n",
              "[100 rows x 1000 columns]"
            ],
            "text/html": [
              "\n",
              "  <div id=\"df-64f82b52-25f9-4ab5-abb2-4de0c731f6c9\">\n",
              "    <div class=\"colab-df-container\">\n",
              "      <div>\n",
              "<style scoped>\n",
              "    .dataframe tbody tr th:only-of-type {\n",
              "        vertical-align: middle;\n",
              "    }\n",
              "\n",
              "    .dataframe tbody tr th {\n",
              "        vertical-align: top;\n",
              "    }\n",
              "\n",
              "    .dataframe thead th {\n",
              "        text-align: right;\n",
              "    }\n",
              "</style>\n",
              "<table border=\"1\" class=\"dataframe\">\n",
              "  <thead>\n",
              "    <tr style=\"text-align: right;\">\n",
              "      <th></th>\n",
              "      <th>muestra 1</th>\n",
              "      <th>muestra 2</th>\n",
              "      <th>muestra 3</th>\n",
              "      <th>muestra 4</th>\n",
              "      <th>muestra 5</th>\n",
              "      <th>muestra 6</th>\n",
              "      <th>muestra 7</th>\n",
              "      <th>muestra 8</th>\n",
              "      <th>muestra 9</th>\n",
              "      <th>muestra 10</th>\n",
              "      <th>...</th>\n",
              "      <th>muestra 991</th>\n",
              "      <th>muestra 992</th>\n",
              "      <th>muestra 993</th>\n",
              "      <th>muestra 994</th>\n",
              "      <th>muestra 995</th>\n",
              "      <th>muestra 996</th>\n",
              "      <th>muestra 997</th>\n",
              "      <th>muestra 998</th>\n",
              "      <th>muestra 999</th>\n",
              "      <th>muestra 1000</th>\n",
              "    </tr>\n",
              "  </thead>\n",
              "  <tbody>\n",
              "    <tr>\n",
              "      <th>0</th>\n",
              "      <td>1543.958877</td>\n",
              "      <td>1595.284356</td>\n",
              "      <td>1660.931154</td>\n",
              "      <td>1601.097849</td>\n",
              "      <td>1686.384900</td>\n",
              "      <td>1717.716906</td>\n",
              "      <td>1694.114360</td>\n",
              "      <td>1759.831958</td>\n",
              "      <td>1657.497904</td>\n",
              "      <td>1701.910063</td>\n",
              "      <td>...</td>\n",
              "      <td>1738.525253</td>\n",
              "      <td>1645.018197</td>\n",
              "      <td>1651.084527</td>\n",
              "      <td>1738.678685</td>\n",
              "      <td>1653.340416</td>\n",
              "      <td>1839.993394</td>\n",
              "      <td>1641.772370</td>\n",
              "      <td>1673.642666</td>\n",
              "      <td>1692.050813</td>\n",
              "      <td>1709.474327</td>\n",
              "    </tr>\n",
              "    <tr>\n",
              "      <th>1</th>\n",
              "      <td>1625.555539</td>\n",
              "      <td>1649.176920</td>\n",
              "      <td>1743.736852</td>\n",
              "      <td>1515.420180</td>\n",
              "      <td>1774.547614</td>\n",
              "      <td>1629.923790</td>\n",
              "      <td>1594.780084</td>\n",
              "      <td>1732.363792</td>\n",
              "      <td>1646.097335</td>\n",
              "      <td>1743.459919</td>\n",
              "      <td>...</td>\n",
              "      <td>1685.334969</td>\n",
              "      <td>1657.238405</td>\n",
              "      <td>1648.930921</td>\n",
              "      <td>1666.213967</td>\n",
              "      <td>1747.131693</td>\n",
              "      <td>1764.812995</td>\n",
              "      <td>1687.149570</td>\n",
              "      <td>1784.057733</td>\n",
              "      <td>1659.104297</td>\n",
              "      <td>1765.767740</td>\n",
              "    </tr>\n",
              "    <tr>\n",
              "      <th>2</th>\n",
              "      <td>1669.816535</td>\n",
              "      <td>1679.152794</td>\n",
              "      <td>1582.057464</td>\n",
              "      <td>1719.840746</td>\n",
              "      <td>1735.756312</td>\n",
              "      <td>1697.037061</td>\n",
              "      <td>1639.552279</td>\n",
              "      <td>1662.853707</td>\n",
              "      <td>1691.289894</td>\n",
              "      <td>1725.967566</td>\n",
              "      <td>...</td>\n",
              "      <td>1639.146327</td>\n",
              "      <td>1733.739297</td>\n",
              "      <td>1555.169463</td>\n",
              "      <td>1627.337448</td>\n",
              "      <td>1724.934294</td>\n",
              "      <td>1681.778649</td>\n",
              "      <td>1673.903314</td>\n",
              "      <td>1680.284135</td>\n",
              "      <td>1733.399759</td>\n",
              "      <td>1637.795875</td>\n",
              "    </tr>\n",
              "    <tr>\n",
              "      <th>3</th>\n",
              "      <td>1596.327132</td>\n",
              "      <td>1591.003818</td>\n",
              "      <td>1644.727679</td>\n",
              "      <td>1729.455056</td>\n",
              "      <td>1613.035670</td>\n",
              "      <td>1681.748282</td>\n",
              "      <td>1744.246197</td>\n",
              "      <td>1694.821322</td>\n",
              "      <td>1635.227498</td>\n",
              "      <td>1696.325867</td>\n",
              "      <td>...</td>\n",
              "      <td>1730.635911</td>\n",
              "      <td>1720.428028</td>\n",
              "      <td>1655.214514</td>\n",
              "      <td>1730.416468</td>\n",
              "      <td>1650.632503</td>\n",
              "      <td>1639.416886</td>\n",
              "      <td>1730.852246</td>\n",
              "      <td>1802.593511</td>\n",
              "      <td>1656.994995</td>\n",
              "      <td>1795.900284</td>\n",
              "    </tr>\n",
              "    <tr>\n",
              "      <th>4</th>\n",
              "      <td>1675.994394</td>\n",
              "      <td>1724.858177</td>\n",
              "      <td>1742.111193</td>\n",
              "      <td>1623.253456</td>\n",
              "      <td>1650.818074</td>\n",
              "      <td>1736.800258</td>\n",
              "      <td>1682.397196</td>\n",
              "      <td>1657.045482</td>\n",
              "      <td>1733.288348</td>\n",
              "      <td>1592.399971</td>\n",
              "      <td>...</td>\n",
              "      <td>1743.989477</td>\n",
              "      <td>1791.057303</td>\n",
              "      <td>1565.265809</td>\n",
              "      <td>1757.870889</td>\n",
              "      <td>1651.538798</td>\n",
              "      <td>1703.548834</td>\n",
              "      <td>1755.213768</td>\n",
              "      <td>1720.700350</td>\n",
              "      <td>1713.349074</td>\n",
              "      <td>1728.303881</td>\n",
              "    </tr>\n",
              "    <tr>\n",
              "      <th>...</th>\n",
              "      <td>...</td>\n",
              "      <td>...</td>\n",
              "      <td>...</td>\n",
              "      <td>...</td>\n",
              "      <td>...</td>\n",
              "      <td>...</td>\n",
              "      <td>...</td>\n",
              "      <td>...</td>\n",
              "      <td>...</td>\n",
              "      <td>...</td>\n",
              "      <td>...</td>\n",
              "      <td>...</td>\n",
              "      <td>...</td>\n",
              "      <td>...</td>\n",
              "      <td>...</td>\n",
              "      <td>...</td>\n",
              "      <td>...</td>\n",
              "      <td>...</td>\n",
              "      <td>...</td>\n",
              "      <td>...</td>\n",
              "      <td>...</td>\n",
              "    </tr>\n",
              "    <tr>\n",
              "      <th>95</th>\n",
              "      <td>1628.950839</td>\n",
              "      <td>1666.856772</td>\n",
              "      <td>1624.107492</td>\n",
              "      <td>1700.325584</td>\n",
              "      <td>1668.697476</td>\n",
              "      <td>1733.645508</td>\n",
              "      <td>1693.367733</td>\n",
              "      <td>1764.676761</td>\n",
              "      <td>1536.678533</td>\n",
              "      <td>1630.329306</td>\n",
              "      <td>...</td>\n",
              "      <td>1731.988115</td>\n",
              "      <td>1651.552248</td>\n",
              "      <td>1665.616804</td>\n",
              "      <td>1716.387444</td>\n",
              "      <td>1704.567127</td>\n",
              "      <td>1605.752909</td>\n",
              "      <td>1766.644197</td>\n",
              "      <td>1667.321525</td>\n",
              "      <td>1749.803321</td>\n",
              "      <td>1580.965676</td>\n",
              "    </tr>\n",
              "    <tr>\n",
              "      <th>96</th>\n",
              "      <td>1698.847686</td>\n",
              "      <td>1727.405706</td>\n",
              "      <td>1660.371074</td>\n",
              "      <td>1658.763086</td>\n",
              "      <td>1706.280289</td>\n",
              "      <td>1683.653896</td>\n",
              "      <td>1789.447134</td>\n",
              "      <td>1697.458505</td>\n",
              "      <td>1675.998061</td>\n",
              "      <td>1687.068028</td>\n",
              "      <td>...</td>\n",
              "      <td>1752.321877</td>\n",
              "      <td>1752.336949</td>\n",
              "      <td>1742.183655</td>\n",
              "      <td>1696.917698</td>\n",
              "      <td>1597.552519</td>\n",
              "      <td>1857.665113</td>\n",
              "      <td>1719.153375</td>\n",
              "      <td>1687.248934</td>\n",
              "      <td>1673.322834</td>\n",
              "      <td>1679.875271</td>\n",
              "    </tr>\n",
              "    <tr>\n",
              "      <th>97</th>\n",
              "      <td>1693.797670</td>\n",
              "      <td>1631.590418</td>\n",
              "      <td>1751.859988</td>\n",
              "      <td>1731.515183</td>\n",
              "      <td>1676.143601</td>\n",
              "      <td>1662.628891</td>\n",
              "      <td>1621.648965</td>\n",
              "      <td>1669.208387</td>\n",
              "      <td>1660.897859</td>\n",
              "      <td>1639.920560</td>\n",
              "      <td>...</td>\n",
              "      <td>1708.605429</td>\n",
              "      <td>1687.748691</td>\n",
              "      <td>1716.678041</td>\n",
              "      <td>1578.590581</td>\n",
              "      <td>1501.765336</td>\n",
              "      <td>1622.630106</td>\n",
              "      <td>1666.951633</td>\n",
              "      <td>1672.963617</td>\n",
              "      <td>1754.357542</td>\n",
              "      <td>1526.111521</td>\n",
              "    </tr>\n",
              "    <tr>\n",
              "      <th>98</th>\n",
              "      <td>1748.672907</td>\n",
              "      <td>1717.075083</td>\n",
              "      <td>1644.644474</td>\n",
              "      <td>1651.210787</td>\n",
              "      <td>1591.577787</td>\n",
              "      <td>1764.257196</td>\n",
              "      <td>1797.878664</td>\n",
              "      <td>1695.421867</td>\n",
              "      <td>1722.586742</td>\n",
              "      <td>1602.327045</td>\n",
              "      <td>...</td>\n",
              "      <td>1651.061059</td>\n",
              "      <td>1602.144931</td>\n",
              "      <td>1616.333797</td>\n",
              "      <td>1536.068099</td>\n",
              "      <td>1656.159560</td>\n",
              "      <td>1619.847130</td>\n",
              "      <td>1698.749313</td>\n",
              "      <td>1676.126549</td>\n",
              "      <td>1660.099804</td>\n",
              "      <td>1775.167922</td>\n",
              "    </tr>\n",
              "    <tr>\n",
              "      <th>99</th>\n",
              "      <td>1621.741919</td>\n",
              "      <td>1717.855121</td>\n",
              "      <td>1764.416796</td>\n",
              "      <td>1615.956747</td>\n",
              "      <td>1671.212187</td>\n",
              "      <td>1763.498688</td>\n",
              "      <td>1616.477736</td>\n",
              "      <td>1646.078329</td>\n",
              "      <td>1681.930054</td>\n",
              "      <td>1701.858723</td>\n",
              "      <td>...</td>\n",
              "      <td>1707.449683</td>\n",
              "      <td>1596.791958</td>\n",
              "      <td>1739.316473</td>\n",
              "      <td>1662.734220</td>\n",
              "      <td>1623.448352</td>\n",
              "      <td>1734.886179</td>\n",
              "      <td>1714.221928</td>\n",
              "      <td>1646.861937</td>\n",
              "      <td>1605.115794</td>\n",
              "      <td>1540.052604</td>\n",
              "    </tr>\n",
              "  </tbody>\n",
              "</table>\n",
              "<p>100 rows × 1000 columns</p>\n",
              "</div>\n",
              "      <button class=\"colab-df-convert\" onclick=\"convertToInteractive('df-64f82b52-25f9-4ab5-abb2-4de0c731f6c9')\"\n",
              "              title=\"Convert this dataframe to an interactive table.\"\n",
              "              style=\"display:none;\">\n",
              "        \n",
              "  <svg xmlns=\"http://www.w3.org/2000/svg\" height=\"24px\"viewBox=\"0 0 24 24\"\n",
              "       width=\"24px\">\n",
              "    <path d=\"M0 0h24v24H0V0z\" fill=\"none\"/>\n",
              "    <path d=\"M18.56 5.44l.94 2.06.94-2.06 2.06-.94-2.06-.94-.94-2.06-.94 2.06-2.06.94zm-11 1L8.5 8.5l.94-2.06 2.06-.94-2.06-.94L8.5 2.5l-.94 2.06-2.06.94zm10 10l.94 2.06.94-2.06 2.06-.94-2.06-.94-.94-2.06-.94 2.06-2.06.94z\"/><path d=\"M17.41 7.96l-1.37-1.37c-.4-.4-.92-.59-1.43-.59-.52 0-1.04.2-1.43.59L10.3 9.45l-7.72 7.72c-.78.78-.78 2.05 0 2.83L4 21.41c.39.39.9.59 1.41.59.51 0 1.02-.2 1.41-.59l7.78-7.78 2.81-2.81c.8-.78.8-2.07 0-2.86zM5.41 20L4 18.59l7.72-7.72 1.47 1.35L5.41 20z\"/>\n",
              "  </svg>\n",
              "      </button>\n",
              "      \n",
              "  <style>\n",
              "    .colab-df-container {\n",
              "      display:flex;\n",
              "      flex-wrap:wrap;\n",
              "      gap: 12px;\n",
              "    }\n",
              "\n",
              "    .colab-df-convert {\n",
              "      background-color: #E8F0FE;\n",
              "      border: none;\n",
              "      border-radius: 50%;\n",
              "      cursor: pointer;\n",
              "      display: none;\n",
              "      fill: #1967D2;\n",
              "      height: 32px;\n",
              "      padding: 0 0 0 0;\n",
              "      width: 32px;\n",
              "    }\n",
              "\n",
              "    .colab-df-convert:hover {\n",
              "      background-color: #E2EBFA;\n",
              "      box-shadow: 0px 1px 2px rgba(60, 64, 67, 0.3), 0px 1px 3px 1px rgba(60, 64, 67, 0.15);\n",
              "      fill: #174EA6;\n",
              "    }\n",
              "\n",
              "    [theme=dark] .colab-df-convert {\n",
              "      background-color: #3B4455;\n",
              "      fill: #D2E3FC;\n",
              "    }\n",
              "\n",
              "    [theme=dark] .colab-df-convert:hover {\n",
              "      background-color: #434B5C;\n",
              "      box-shadow: 0px 1px 3px 1px rgba(0, 0, 0, 0.15);\n",
              "      filter: drop-shadow(0px 1px 2px rgba(0, 0, 0, 0.3));\n",
              "      fill: #FFFFFF;\n",
              "    }\n",
              "  </style>\n",
              "\n",
              "      <script>\n",
              "        const buttonEl =\n",
              "          document.querySelector('#df-64f82b52-25f9-4ab5-abb2-4de0c731f6c9 button.colab-df-convert');\n",
              "        buttonEl.style.display =\n",
              "          google.colab.kernel.accessAllowed ? 'block' : 'none';\n",
              "\n",
              "        async function convertToInteractive(key) {\n",
              "          const element = document.querySelector('#df-64f82b52-25f9-4ab5-abb2-4de0c731f6c9');\n",
              "          const dataTable =\n",
              "            await google.colab.kernel.invokeFunction('convertToInteractive',\n",
              "                                                     [key], {});\n",
              "          if (!dataTable) return;\n",
              "\n",
              "          const docLinkHtml = 'Like what you see? Visit the ' +\n",
              "            '<a target=\"_blank\" href=https://colab.research.google.com/notebooks/data_table.ipynb>data table notebook</a>'\n",
              "            + ' to learn more about interactive tables.';\n",
              "          element.innerHTML = '';\n",
              "          dataTable['output_type'] = 'display_data';\n",
              "          await google.colab.output.renderOutput(dataTable, element);\n",
              "          const docLink = document.createElement('div');\n",
              "          docLink.innerHTML = docLinkHtml;\n",
              "          element.appendChild(docLink);\n",
              "        }\n",
              "      </script>\n",
              "    </div>\n",
              "  </div>\n",
              "  "
            ]
          },
          "metadata": {},
          "execution_count": 10
        }
      ]
    },
    {
      "cell_type": "markdown",
      "metadata": {
        "id": "r6nJFS3thxsb"
      },
      "source": [
        "<h2> Distribución de cada muestra"
      ]
    },
    {
      "cell_type": "code",
      "metadata": {
        "id": "GIBiBnle7qRy",
        "colab": {
          "base_uri": "https://localhost:8080/",
          "height": 499
        },
        "outputId": "b541835c-2e37-454c-d051-2dcac75f07d3"
      },
      "source": [
        "alturas_hombres.iloc[:,0:4].hist(figsize = (10,8), bins=100)\n",
        "plt.show()"
      ],
      "execution_count": 11,
      "outputs": [
        {
          "output_type": "display_data",
          "data": {
            "text/plain": [
              "<Figure size 720x576 with 4 Axes>"
            ],
            "image/png": "[encoded data removed]"
          },
          "metadata": {
            "needs_background": "light"
          }
        }
      ]
    },
    {
      "cell_type": "markdown",
      "metadata": {
        "id": "dpqepVsWhbyJ"
      },
      "source": [
        "## Distribución de los promedios"
      ]
    },
    {
      "cell_type": "code",
      "metadata": {
        "colab": {
          "base_uri": "https://localhost:8080/"
        },
        "id": "7-mAkd3pRRtx",
        "outputId": "0c5f822e-4b6a-467e-fca6-2be85c0118fa"
      },
      "source": [
        "medias = alturas_hombres.mean()\n",
        "medias"
      ],
      "execution_count": 12,
      "outputs": [
        {
          "output_type": "execute_result",
          "data": {
            "text/plain": [
              "muestra 1       1673.567863\n",
              "muestra 2       1675.457968\n",
              "muestra 3       1673.601678\n",
              "muestra 4       1685.622649\n",
              "muestra 5       1672.371201\n",
              "                   ...     \n",
              "muestra 996     1681.071711\n",
              "muestra 997     1673.996423\n",
              "muestra 998     1678.897340\n",
              "muestra 999     1681.692707\n",
              "muestra 1000    1672.413886\n",
              "Length: 1000, dtype: float64"
            ]
          },
          "metadata": {},
          "execution_count": 12
        }
      ]
    },
    {
      "cell_type": "code",
      "source": [
        "sns.histplot(medias,  bins=30)\n",
        "plt.show()"
      ],
      "metadata": {
        "colab": {
          "base_uri": "https://localhost:8080/",
          "height": 265
        },
        "id": "_P8FsvRtzpw_",
        "outputId": "f3c79914-9696-4031-c1ed-a259a8aebcfc"
      },
      "execution_count": 13,
      "outputs": [
        {
          "output_type": "display_data",
          "data": {
            "text/plain": [
              "<Figure size 432x288 with 1 Axes>"
            ],
            "image/png": "[encoded data removed]"
          },
          "metadata": {
            "needs_background": "light"
          }
        }
      ]
    },
    {
      "cell_type": "markdown",
      "source": [
        "## Distribución de los errores"
      ],
      "metadata": {
        "id": "h50zqQYE0XUu"
      }
    },
    {
      "cell_type": "code",
      "metadata": {
        "id": "yWYSEAmk8VIJ",
        "colab": {
          "base_uri": "https://localhost:8080/"
        },
        "outputId": "25895174-0770-4e77-ddf9-30d8a0a0437f"
      },
      "source": [
        "errores = mu - medias\n",
        "errores"
      ],
      "execution_count": 14,
      "outputs": [
        {
          "output_type": "execute_result",
          "data": {
            "text/plain": [
              "muestra 1        1.432137\n",
              "muestra 2       -0.457968\n",
              "muestra 3        1.398322\n",
              "muestra 4      -10.622649\n",
              "muestra 5        2.628799\n",
              "                  ...    \n",
              "muestra 996     -6.071711\n",
              "muestra 997      1.003577\n",
              "muestra 998     -3.897340\n",
              "muestra 999     -6.692707\n",
              "muestra 1000     2.586114\n",
              "Length: 1000, dtype: float64"
            ]
          },
          "metadata": {},
          "execution_count": 14
        }
      ]
    },
    {
      "cell_type": "code",
      "metadata": {
        "id": "Q0zt05sw72tK",
        "colab": {
          "base_uri": "https://localhost:8080/",
          "height": 265
        },
        "outputId": "02a593e4-348b-4fc0-fca4-3cf8f59b80f1"
      },
      "source": [
        "sns.histplot(errores,  bins=30)\n",
        "plt.show()"
      ],
      "execution_count": 15,
      "outputs": [
        {
          "output_type": "display_data",
          "data": {
            "text/plain": [
              "<Figure size 432x288 with 1 Axes>"
            ],
            "image/png": "[encoded data removed]"
          },
          "metadata": {
            "needs_background": "light"
          }
        }
      ]
    },
    {
      "cell_type": "code",
      "source": [
        "sns.histplot(errores,  bins=30)\n",
        "plt.show()"
      ],
      "metadata": {
        "colab": {
          "base_uri": "https://localhost:8080/",
          "height": 265
        },
        "id": "KpEEjqeT4e5X",
        "outputId": "913de019-059a-416e-d24a-103c4e3fc022"
      },
      "execution_count": 16,
      "outputs": [
        {
          "output_type": "display_data",
          "data": {
            "text/plain": [
              "<Figure size 432x288 with 1 Axes>"
            ],
            "image/png": "[encoded data removed]"
          },
          "metadata": {
            "needs_background": "light"
          }
        }
      ]
    },
    {
      "cell_type": "markdown",
      "metadata": {
        "id": "vM6KSyr20BqS"
      },
      "source": [
        "# Distribución Bernoulli"
      ]
    },
    {
      "cell_type": "markdown",
      "metadata": {
        "id": "zdMWKVsV1UFW"
      },
      "source": [
        "#### Preprocesar libro y obtener probabilidades de los caracteres "
      ]
    },
    {
      "cell_type": "code",
      "source": [
        "from google.colab import drive\n",
        "drive.mount('/content/drive')"
      ],
      "metadata": {
        "colab": {
          "base_uri": "https://localhost:8080/"
        },
        "id": "zLggk11K5qWI",
        "outputId": "b20efb60-1335-424f-e19a-099de7cb5674"
      },
      "execution_count": 17,
      "outputs": [
        {
          "output_type": "stream",
          "name": "stdout",
          "text": [
            "Drive already mounted at /content/drive; to attempt to forcibly remount, call drive.mount(\"/content/drive\", force_remount=True).\n"
          ]
        }
      ]
    },
    {
      "cell_type": "code",
      "metadata": {
        "id": "SIfWx3huarFt"
      },
      "source": [
        "#Leer libro\n",
        "libro = leer_libro('/content/drive/MyDrive/Datos/gabriel_garcia_marquez_cien_annos_soledad.txt')\n",
        "borrar = ['Gabriel García Márquez', \n",
        "          'Cien años de soledad',\n",
        "          'EDITADO POR \"EDICIONES LA CUEVA\"',\n",
        "          'Para J omi García Ascot y María Luisa Elio']\n",
        "\n",
        "libro =  borrar_elementos(libro, borrar) \n",
        "libro_limpio = limpiar_texto(libro)"
      ],
      "execution_count": 18,
      "outputs": []
    },
    {
      "cell_type": "code",
      "metadata": {
        "id": "hnKktAPOmPJa",
        "colab": {
          "base_uri": "https://localhost:8080/"
        },
        "outputId": "28c1a9cb-058e-4bf3-b33f-e2c9e6631796"
      },
      "source": [
        "#Cargar csv con distribución de probabilidad de letras\n",
        "Ley_P_letras = pd.read_csv('https://raw.githubusercontent.com/AnIsAsPe/ElementosEstadisticaMachineLearningPython/master/Semana4/Ley_Probabilidad_caracteres_100a%C3%B1os.csv')\n",
        "\n",
        "# Calcular la probabilidad de obtener una vocal\n",
        "\n",
        "filtro_vocal = Ley_P_letras['caracter'].isin(list('aeiou'))\n",
        "p = Ley_P_letras.loc[filtro_vocal, 'probabilidad'].sum()\n",
        "p"
      ],
      "execution_count": 20,
      "outputs": [
        {
          "output_type": "execute_result",
          "data": {
            "text/plain": [
              "0.38405272562528125"
            ]
          },
          "metadata": {},
          "execution_count": 20
        }
      ]
    },
    {
      "cell_type": "code",
      "metadata": {
        "id": "PzdUhOh9S0la",
        "colab": {
          "base_uri": "https://localhost:8080/",
          "height": 266
        },
        "outputId": "378abab1-64e3-4cb2-c545-3e309ed97c5a"
      },
      "source": [
        "# Distribución bernoulli\n",
        "\n",
        "plt.bar(['vocal','no_vocal'],[p, 1-p])\n",
        "plt.show()"
      ],
      "execution_count": 21,
      "outputs": [
        {
          "output_type": "display_data",
          "data": {
            "text/plain": [
              "<Figure size 432x288 with 1 Axes>"
            ],
            "image/png": "[encoded data removed]"
          },
          "metadata": {
            "needs_background": "light"
          }
        }
      ]
    },
    {
      "cell_type": "markdown",
      "metadata": {
        "id": "Az4U8M9tG0pu"
      },
      "source": [
        "### Obtener muestras"
      ]
    },
    {
      "cell_type": "code",
      "metadata": {
        "id": "Lmm6XVOeKpt9",
        "colab": {
          "base_uri": "https://localhost:8080/"
        },
        "outputId": "e4d0aa35-1fce-4df6-8fc6-75e2a9ea5138"
      },
      "source": [
        "%%time\n",
        "n = 200 # tamaño de la muestra\n",
        "m = 100000 # número de muestras\n",
        "\n",
        "muestras=pd.DataFrame()\n",
        "muestras['texto'] = (genera_muestras_de_texto(libro_limpio, grado = 0,\n",
        "                                              num_muestras = m, tam_muestra=n))\n",
        "indice=pd.Series(['muestra_'+str(i) for i in range (1, m+1)])\n",
        "muestras.index=indice\n",
        "muestras['vocales'] = muestras['texto'].apply(cuenta_vocales)\n",
        "muestras['p_estimada'] = muestras['vocales']/n\n",
        "muestras['errores']= p - muestras['vocales']/n"
      ],
      "execution_count": 22,
      "outputs": [
        {
          "output_type": "stream",
          "name": "stdout",
          "text": [
            "CPU times: user 19.7 s, sys: 112 ms, total: 19.8 s\n",
            "Wall time: 23.3 s\n"
          ]
        }
      ]
    },
    {
      "cell_type": "code",
      "source": [
        "muestras.head()"
      ],
      "metadata": {
        "colab": {
          "base_uri": "https://localhost:8080/",
          "height": 206
        },
        "id": "enXrydDmZHb7",
        "outputId": "aa2936e7-b406-4677-e2b4-3bdb7d707d84"
      },
      "execution_count": 23,
      "outputs": [
        {
          "output_type": "execute_result",
          "data": {
            "text/plain": [
              "                                                       texto  vocales  \\\n",
              "muestra_1  iosrase s urs t oeat rnleh ssnrcr  proyletesnl...       74   \n",
              "muestra_2    oeeanneasetaga sas nav  isanopeyur aseedaosr...       76   \n",
              "muestra_3  i  everteseoir  pidnnalis  ret oiugoar e d aue...       75   \n",
              "muestra_4  uol annoia aaaegua  eooldnerssaeiidiocro e aaa...       80   \n",
              "muestra_5  rurn  s r  ilbeao   uut  ml ipsanlso stnaaecsd...       79   \n",
              "\n",
              "           p_estimada   errores  \n",
              "muestra_1       0.370  0.014053  \n",
              "muestra_2       0.380  0.004053  \n",
              "muestra_3       0.375  0.009053  \n",
              "muestra_4       0.400 -0.015947  \n",
              "muestra_5       0.395 -0.010947  "
            ],
            "text/html": [
              "\n",
              "  <div id=\"df-d962ca4b-8387-4bae-abf1-7aa28d20a5d4\">\n",
              "    <div class=\"colab-df-container\">\n",
              "      <div>\n",
              "<style scoped>\n",
              "    .dataframe tbody tr th:only-of-type {\n",
              "        vertical-align: middle;\n",
              "    }\n",
              "\n",
              "    .dataframe tbody tr th {\n",
              "        vertical-align: top;\n",
              "    }\n",
              "\n",
              "    .dataframe thead th {\n",
              "        text-align: right;\n",
              "    }\n",
              "</style>\n",
              "<table border=\"1\" class=\"dataframe\">\n",
              "  <thead>\n",
              "    <tr style=\"text-align: right;\">\n",
              "      <th></th>\n",
              "      <th>texto</th>\n",
              "      <th>vocales</th>\n",
              "      <th>p_estimada</th>\n",
              "      <th>errores</th>\n",
              "    </tr>\n",
              "  </thead>\n",
              "  <tbody>\n",
              "    <tr>\n",
              "      <th>muestra_1</th>\n",
              "      <td>iosrase s urs t oeat rnleh ssnrcr  proyletesnl...</td>\n",
              "      <td>74</td>\n",
              "      <td>0.370</td>\n",
              "      <td>0.014053</td>\n",
              "    </tr>\n",
              "    <tr>\n",
              "      <th>muestra_2</th>\n",
              "      <td>oeeanneasetaga sas nav  isanopeyur aseedaosr...</td>\n",
              "      <td>76</td>\n",
              "      <td>0.380</td>\n",
              "      <td>0.004053</td>\n",
              "    </tr>\n",
              "    <tr>\n",
              "      <th>muestra_3</th>\n",
              "      <td>i  everteseoir  pidnnalis  ret oiugoar e d aue...</td>\n",
              "      <td>75</td>\n",
              "      <td>0.375</td>\n",
              "      <td>0.009053</td>\n",
              "    </tr>\n",
              "    <tr>\n",
              "      <th>muestra_4</th>\n",
              "      <td>uol annoia aaaegua  eooldnerssaeiidiocro e aaa...</td>\n",
              "      <td>80</td>\n",
              "      <td>0.400</td>\n",
              "      <td>-0.015947</td>\n",
              "    </tr>\n",
              "    <tr>\n",
              "      <th>muestra_5</th>\n",
              "      <td>rurn  s r  ilbeao   uut  ml ipsanlso stnaaecsd...</td>\n",
              "      <td>79</td>\n",
              "      <td>0.395</td>\n",
              "      <td>-0.010947</td>\n",
              "    </tr>\n",
              "  </tbody>\n",
              "</table>\n",
              "</div>\n",
              "      <button class=\"colab-df-convert\" onclick=\"convertToInteractive('df-d962ca4b-8387-4bae-abf1-7aa28d20a5d4')\"\n",
              "              title=\"Convert this dataframe to an interactive table.\"\n",
              "              style=\"display:none;\">\n",
              "        \n",
              "  <svg xmlns=\"http://www.w3.org/2000/svg\" height=\"24px\"viewBox=\"0 0 24 24\"\n",
              "       width=\"24px\">\n",
              "    <path d=\"M0 0h24v24H0V0z\" fill=\"none\"/>\n",
              "    <path d=\"M18.56 5.44l.94 2.06.94-2.06 2.06-.94-2.06-.94-.94-2.06-.94 2.06-2.06.94zm-11 1L8.5 8.5l.94-2.06 2.06-.94-2.06-.94L8.5 2.5l-.94 2.06-2.06.94zm10 10l.94 2.06.94-2.06 2.06-.94-2.06-.94-.94-2.06-.94 2.06-2.06.94z\"/><path d=\"M17.41 7.96l-1.37-1.37c-.4-.4-.92-.59-1.43-.59-.52 0-1.04.2-1.43.59L10.3 9.45l-7.72 7.72c-.78.78-.78 2.05 0 2.83L4 21.41c.39.39.9.59 1.41.59.51 0 1.02-.2 1.41-.59l7.78-7.78 2.81-2.81c.8-.78.8-2.07 0-2.86zM5.41 20L4 18.59l7.72-7.72 1.47 1.35L5.41 20z\"/>\n",
              "  </svg>\n",
              "      </button>\n",
              "      \n",
              "  <style>\n",
              "    .colab-df-container {\n",
              "      display:flex;\n",
              "      flex-wrap:wrap;\n",
              "      gap: 12px;\n",
              "    }\n",
              "\n",
              "    .colab-df-convert {\n",
              "      background-color: #E8F0FE;\n",
              "      border: none;\n",
              "      border-radius: 50%;\n",
              "      cursor: pointer;\n",
              "      display: none;\n",
              "      fill: #1967D2;\n",
              "      height: 32px;\n",
              "      padding: 0 0 0 0;\n",
              "      width: 32px;\n",
              "    }\n",
              "\n",
              "    .colab-df-convert:hover {\n",
              "      background-color: #E2EBFA;\n",
              "      box-shadow: 0px 1px 2px rgba(60, 64, 67, 0.3), 0px 1px 3px 1px rgba(60, 64, 67, 0.15);\n",
              "      fill: #174EA6;\n",
              "    }\n",
              "\n",
              "    [theme=dark] .colab-df-convert {\n",
              "      background-color: #3B4455;\n",
              "      fill: #D2E3FC;\n",
              "    }\n",
              "\n",
              "    [theme=dark] .colab-df-convert:hover {\n",
              "      background-color: #434B5C;\n",
              "      box-shadow: 0px 1px 3px 1px rgba(0, 0, 0, 0.15);\n",
              "      filter: drop-shadow(0px 1px 2px rgba(0, 0, 0, 0.3));\n",
              "      fill: #FFFFFF;\n",
              "    }\n",
              "  </style>\n",
              "\n",
              "      <script>\n",
              "        const buttonEl =\n",
              "          document.querySelector('#df-d962ca4b-8387-4bae-abf1-7aa28d20a5d4 button.colab-df-convert');\n",
              "        buttonEl.style.display =\n",
              "          google.colab.kernel.accessAllowed ? 'block' : 'none';\n",
              "\n",
              "        async function convertToInteractive(key) {\n",
              "          const element = document.querySelector('#df-d962ca4b-8387-4bae-abf1-7aa28d20a5d4');\n",
              "          const dataTable =\n",
              "            await google.colab.kernel.invokeFunction('convertToInteractive',\n",
              "                                                     [key], {});\n",
              "          if (!dataTable) return;\n",
              "\n",
              "          const docLinkHtml = 'Like what you see? Visit the ' +\n",
              "            '<a target=\"_blank\" href=https://colab.research.google.com/notebooks/data_table.ipynb>data table notebook</a>'\n",
              "            + ' to learn more about interactive tables.';\n",
              "          element.innerHTML = '';\n",
              "          dataTable['output_type'] = 'display_data';\n",
              "          await google.colab.output.renderOutput(dataTable, element);\n",
              "          const docLink = document.createElement('div');\n",
              "          docLink.innerHTML = docLinkHtml;\n",
              "          element.appendChild(docLink);\n",
              "        }\n",
              "      </script>\n",
              "    </div>\n",
              "  </div>\n",
              "  "
            ]
          },
          "metadata": {},
          "execution_count": 23
        }
      ]
    },
    {
      "cell_type": "markdown",
      "metadata": {
        "id": "c3IvUkg7IEo5"
      },
      "source": [
        "### Distribución de los promedios"
      ]
    },
    {
      "cell_type": "code",
      "metadata": {
        "id": "SMmhHg9AKLte",
        "colab": {
          "base_uri": "https://localhost:8080/",
          "height": 280
        },
        "outputId": "d94973f8-8262-411d-f93f-cde99450bc81"
      },
      "source": [
        "sns.histplot(muestras['p_estimada'],  bins=30)\n",
        "plt.show()"
      ],
      "execution_count": 24,
      "outputs": [
        {
          "output_type": "display_data",
          "data": {
            "text/plain": [
              "<Figure size 432x288 with 1 Axes>"
            ],
            "image/png": "[encoded data removed]"
          },
          "metadata": {
            "needs_background": "light"
          }
        }
      ]
    },
    {
      "cell_type": "markdown",
      "source": [
        "## Distribución de los errores"
      ],
      "metadata": {
        "id": "Tf102IYyV9Dj"
      }
    },
    {
      "cell_type": "code",
      "metadata": {
        "colab": {
          "base_uri": "https://localhost:8080/",
          "height": 279
        },
        "outputId": "2e2e6ad1-ac03-45a7-f249-46c5b8568750",
        "id": "c726yOIdV082"
      },
      "source": [
        "sns.histplot(muestras['errores'],  bins=30)\n",
        "plt.show()"
      ],
      "execution_count": 25,
      "outputs": [
        {
          "output_type": "display_data",
          "data": {
            "text/plain": [
              "<Figure size 432x288 with 1 Axes>"
            ],
            "image/png": "[encoded data removed]"
          },
          "metadata": {
            "needs_background": "light"
          }
        }
      ]
    },
    {
      "cell_type": "markdown",
      "metadata": {
        "id": "sB-LneF7VCfz"
      },
      "source": [
        "# Distribución exponencial"
      ]
    },
    {
      "cell_type": "code",
      "metadata": {
        "id": "3Peqz9GdPd4A",
        "colab": {
          "base_uri": "https://localhost:8080/",
          "height": 265
        },
        "outputId": "237e11cd-646f-4a72-9ac9-0c2e7333adc9"
      },
      "source": [
        "X = muestras['texto'].apply(cuenta_caracteres_antes_de_n).values\n",
        "sns.histplot(X,  bins=30)\n",
        "plt.show()"
      ],
      "execution_count": 26,
      "outputs": [
        {
          "output_type": "display_data",
          "data": {
            "text/plain": [
              "<Figure size 432x288 with 1 Axes>"
            ],
            "image/png": "[encoded data removed]"
          },
          "metadata": {
            "needs_background": "light"
          }
        }
      ]
    },
    {
      "cell_type": "code",
      "metadata": {
        "id": "MfrcWLotg3bE",
        "colab": {
          "base_uri": "https://localhost:8080/"
        },
        "outputId": "58bde5e1-39c9-4883-eb13-d1705956b37f"
      },
      "source": [
        "X.mean()"
      ],
      "execution_count": 27,
      "outputs": [
        {
          "output_type": "execute_result",
          "data": {
            "text/plain": [
              "15.86532"
            ]
          },
          "metadata": {},
          "execution_count": 27
        }
      ]
    },
    {
      "cell_type": "markdown",
      "metadata": {
        "id": "YBzL3UnDX_Jq"
      },
      "source": [
        "**Ejemplos de fenómenos con distribución exponencial:**\n",
        "- Valores máximos de precipitación diaria\n",
        "- Compras efectuadas por visitantes en página web\n",
        "- Tiempo para que se produzca un fallo\n",
        "\n",
        "\n",
        "¿Qué otros??"
      ]
    },
    {
      "cell_type": "markdown",
      "metadata": {
        "id": "5TLosvSiiCWf"
      },
      "source": [
        "### Obtener muestras"
      ]
    },
    {
      "cell_type": "code",
      "metadata": {
        "id": "yaOo2_TTXswx",
        "colab": {
          "base_uri": "https://localhost:8080/",
          "height": 505
        },
        "outputId": "e8b01b3f-dcc6-4e56-b15c-241672b159fd"
      },
      "source": [
        "n = 200 # tamaño de la muestra\n",
        "m = 2000 # número de muestras\n",
        "m_exp = {'muestra '+str(i):np.random.choice(X, n) for i in range(1, m+1)}\n",
        "\n",
        "muestras_exp = pd.DataFrame.from_dict(m_exp)\n",
        "muestras_exp"
      ],
      "execution_count": 28,
      "outputs": [
        {
          "output_type": "execute_result",
          "data": {
            "text/plain": [
              "     muestra 1  muestra 2  muestra 3  muestra 4  muestra 5  muestra 6  \\\n",
              "0           33          0         12         15         78         26   \n",
              "1           23         30         17          1         27          6   \n",
              "2            6         24         20          1         20          4   \n",
              "3           16          5          1          6         22         30   \n",
              "4            2         33         17         10          8          0   \n",
              "..         ...        ...        ...        ...        ...        ...   \n",
              "195         24         20         15         16         34          6   \n",
              "196         31          8          2          1         16          7   \n",
              "197          3          4         17         12         37         23   \n",
              "198         25         24         13          3          2          8   \n",
              "199         25         17          1          8         35         38   \n",
              "\n",
              "     muestra 7  muestra 8  muestra 9  muestra 10  ...  muestra 1991  \\\n",
              "0            4         23          6          25  ...             2   \n",
              "1            4          2         14           1  ...             7   \n",
              "2           10          1          3          20  ...            39   \n",
              "3           42          2         25           6  ...            20   \n",
              "4           20         15          5           3  ...            12   \n",
              "..         ...        ...        ...         ...  ...           ...   \n",
              "195         28         19         12          20  ...             6   \n",
              "196          2          0         63          52  ...            39   \n",
              "197         14         18         41          33  ...            21   \n",
              "198         27          3          6          23  ...            36   \n",
              "199         28          8         12          12  ...            48   \n",
              "\n",
              "     muestra 1992  muestra 1993  muestra 1994  muestra 1995  muestra 1996  \\\n",
              "0              49             3            16            24            21   \n",
              "1               0             9             7            17             3   \n",
              "2               8            34            20             7             5   \n",
              "3               9             2             0            13            39   \n",
              "4               7            80             2            23            44   \n",
              "..            ...           ...           ...           ...           ...   \n",
              "195             4             0             1             0            49   \n",
              "196            11            24            18             3             4   \n",
              "197             6            11            10             1            11   \n",
              "198             7             9            20            36            17   \n",
              "199            13            47            36             3             2   \n",
              "\n",
              "     muestra 1997  muestra 1998  muestra 1999  muestra 2000  \n",
              "0               0             7             7            23  \n",
              "1               1            28             0             1  \n",
              "2               6            38            21             2  \n",
              "3               9             6            36             5  \n",
              "4               4            30            15             6  \n",
              "..            ...           ...           ...           ...  \n",
              "195             8            14            21            20  \n",
              "196             9             5            71            19  \n",
              "197            11            80            13            33  \n",
              "198            25            12             2            36  \n",
              "199            21             5             4            25  \n",
              "\n",
              "[200 rows x 2000 columns]"
            ],
            "text/html": [
              "\n",
              "  <div id=\"df-7879ce17-4403-4982-80e0-91e139a8e4fb\">\n",
              "    <div class=\"colab-df-container\">\n",
              "      <div>\n",
              "<style scoped>\n",
              "    .dataframe tbody tr th:only-of-type {\n",
              "        vertical-align: middle;\n",
              "    }\n",
              "\n",
              "    .dataframe tbody tr th {\n",
              "        vertical-align: top;\n",
              "    }\n",
              "\n",
              "    .dataframe thead th {\n",
              "        text-align: right;\n",
              "    }\n",
              "</style>\n",
              "<table border=\"1\" class=\"dataframe\">\n",
              "  <thead>\n",
              "    <tr style=\"text-align: right;\">\n",
              "      <th></th>\n",
              "      <th>muestra 1</th>\n",
              "      <th>muestra 2</th>\n",
              "      <th>muestra 3</th>\n",
              "      <th>muestra 4</th>\n",
              "      <th>muestra 5</th>\n",
              "      <th>muestra 6</th>\n",
              "      <th>muestra 7</th>\n",
              "      <th>muestra 8</th>\n",
              "      <th>muestra 9</th>\n",
              "      <th>muestra 10</th>\n",
              "      <th>...</th>\n",
              "      <th>muestra 1991</th>\n",
              "      <th>muestra 1992</th>\n",
              "      <th>muestra 1993</th>\n",
              "      <th>muestra 1994</th>\n",
              "      <th>muestra 1995</th>\n",
              "      <th>muestra 1996</th>\n",
              "      <th>muestra 1997</th>\n",
              "      <th>muestra 1998</th>\n",
              "      <th>muestra 1999</th>\n",
              "      <th>muestra 2000</th>\n",
              "    </tr>\n",
              "  </thead>\n",
              "  <tbody>\n",
              "    <tr>\n",
              "      <th>0</th>\n",
              "      <td>33</td>\n",
              "      <td>0</td>\n",
              "      <td>12</td>\n",
              "      <td>15</td>\n",
              "      <td>78</td>\n",
              "      <td>26</td>\n",
              "      <td>4</td>\n",
              "      <td>23</td>\n",
              "      <td>6</td>\n",
              "      <td>25</td>\n",
              "      <td>...</td>\n",
              "      <td>2</td>\n",
              "      <td>49</td>\n",
              "      <td>3</td>\n",
              "      <td>16</td>\n",
              "      <td>24</td>\n",
              "      <td>21</td>\n",
              "      <td>0</td>\n",
              "      <td>7</td>\n",
              "      <td>7</td>\n",
              "      <td>23</td>\n",
              "    </tr>\n",
              "    <tr>\n",
              "      <th>1</th>\n",
              "      <td>23</td>\n",
              "      <td>30</td>\n",
              "      <td>17</td>\n",
              "      <td>1</td>\n",
              "      <td>27</td>\n",
              "      <td>6</td>\n",
              "      <td>4</td>\n",
              "      <td>2</td>\n",
              "      <td>14</td>\n",
              "      <td>1</td>\n",
              "      <td>...</td>\n",
              "      <td>7</td>\n",
              "      <td>0</td>\n",
              "      <td>9</td>\n",
              "      <td>7</td>\n",
              "      <td>17</td>\n",
              "      <td>3</td>\n",
              "      <td>1</td>\n",
              "      <td>28</td>\n",
              "      <td>0</td>\n",
              "      <td>1</td>\n",
              "    </tr>\n",
              "    <tr>\n",
              "      <th>2</th>\n",
              "      <td>6</td>\n",
              "      <td>24</td>\n",
              "      <td>20</td>\n",
              "      <td>1</td>\n",
              "      <td>20</td>\n",
              "      <td>4</td>\n",
              "      <td>10</td>\n",
              "      <td>1</td>\n",
              "      <td>3</td>\n",
              "      <td>20</td>\n",
              "      <td>...</td>\n",
              "      <td>39</td>\n",
              "      <td>8</td>\n",
              "      <td>34</td>\n",
              "      <td>20</td>\n",
              "      <td>7</td>\n",
              "      <td>5</td>\n",
              "      <td>6</td>\n",
              "      <td>38</td>\n",
              "      <td>21</td>\n",
              "      <td>2</td>\n",
              "    </tr>\n",
              "    <tr>\n",
              "      <th>3</th>\n",
              "      <td>16</td>\n",
              "      <td>5</td>\n",
              "      <td>1</td>\n",
              "      <td>6</td>\n",
              "      <td>22</td>\n",
              "      <td>30</td>\n",
              "      <td>42</td>\n",
              "      <td>2</td>\n",
              "      <td>25</td>\n",
              "      <td>6</td>\n",
              "      <td>...</td>\n",
              "      <td>20</td>\n",
              "      <td>9</td>\n",
              "      <td>2</td>\n",
              "      <td>0</td>\n",
              "      <td>13</td>\n",
              "      <td>39</td>\n",
              "      <td>9</td>\n",
              "      <td>6</td>\n",
              "      <td>36</td>\n",
              "      <td>5</td>\n",
              "    </tr>\n",
              "    <tr>\n",
              "      <th>4</th>\n",
              "      <td>2</td>\n",
              "      <td>33</td>\n",
              "      <td>17</td>\n",
              "      <td>10</td>\n",
              "      <td>8</td>\n",
              "      <td>0</td>\n",
              "      <td>20</td>\n",
              "      <td>15</td>\n",
              "      <td>5</td>\n",
              "      <td>3</td>\n",
              "      <td>...</td>\n",
              "      <td>12</td>\n",
              "      <td>7</td>\n",
              "      <td>80</td>\n",
              "      <td>2</td>\n",
              "      <td>23</td>\n",
              "      <td>44</td>\n",
              "      <td>4</td>\n",
              "      <td>30</td>\n",
              "      <td>15</td>\n",
              "      <td>6</td>\n",
              "    </tr>\n",
              "    <tr>\n",
              "      <th>...</th>\n",
              "      <td>...</td>\n",
              "      <td>...</td>\n",
              "      <td>...</td>\n",
              "      <td>...</td>\n",
              "      <td>...</td>\n",
              "      <td>...</td>\n",
              "      <td>...</td>\n",
              "      <td>...</td>\n",
              "      <td>...</td>\n",
              "      <td>...</td>\n",
              "      <td>...</td>\n",
              "      <td>...</td>\n",
              "      <td>...</td>\n",
              "      <td>...</td>\n",
              "      <td>...</td>\n",
              "      <td>...</td>\n",
              "      <td>...</td>\n",
              "      <td>...</td>\n",
              "      <td>...</td>\n",
              "      <td>...</td>\n",
              "      <td>...</td>\n",
              "    </tr>\n",
              "    <tr>\n",
              "      <th>195</th>\n",
              "      <td>24</td>\n",
              "      <td>20</td>\n",
              "      <td>15</td>\n",
              "      <td>16</td>\n",
              "      <td>34</td>\n",
              "      <td>6</td>\n",
              "      <td>28</td>\n",
              "      <td>19</td>\n",
              "      <td>12</td>\n",
              "      <td>20</td>\n",
              "      <td>...</td>\n",
              "      <td>6</td>\n",
              "      <td>4</td>\n",
              "      <td>0</td>\n",
              "      <td>1</td>\n",
              "      <td>0</td>\n",
              "      <td>49</td>\n",
              "      <td>8</td>\n",
              "      <td>14</td>\n",
              "      <td>21</td>\n",
              "      <td>20</td>\n",
              "    </tr>\n",
              "    <tr>\n",
              "      <th>196</th>\n",
              "      <td>31</td>\n",
              "      <td>8</td>\n",
              "      <td>2</td>\n",
              "      <td>1</td>\n",
              "      <td>16</td>\n",
              "      <td>7</td>\n",
              "      <td>2</td>\n",
              "      <td>0</td>\n",
              "      <td>63</td>\n",
              "      <td>52</td>\n",
              "      <td>...</td>\n",
              "      <td>39</td>\n",
              "      <td>11</td>\n",
              "      <td>24</td>\n",
              "      <td>18</td>\n",
              "      <td>3</td>\n",
              "      <td>4</td>\n",
              "      <td>9</td>\n",
              "      <td>5</td>\n",
              "      <td>71</td>\n",
              "      <td>19</td>\n",
              "    </tr>\n",
              "    <tr>\n",
              "      <th>197</th>\n",
              "      <td>3</td>\n",
              "      <td>4</td>\n",
              "      <td>17</td>\n",
              "      <td>12</td>\n",
              "      <td>37</td>\n",
              "      <td>23</td>\n",
              "      <td>14</td>\n",
              "      <td>18</td>\n",
              "      <td>41</td>\n",
              "      <td>33</td>\n",
              "      <td>...</td>\n",
              "      <td>21</td>\n",
              "      <td>6</td>\n",
              "      <td>11</td>\n",
              "      <td>10</td>\n",
              "      <td>1</td>\n",
              "      <td>11</td>\n",
              "      <td>11</td>\n",
              "      <td>80</td>\n",
              "      <td>13</td>\n",
              "      <td>33</td>\n",
              "    </tr>\n",
              "    <tr>\n",
              "      <th>198</th>\n",
              "      <td>25</td>\n",
              "      <td>24</td>\n",
              "      <td>13</td>\n",
              "      <td>3</td>\n",
              "      <td>2</td>\n",
              "      <td>8</td>\n",
              "      <td>27</td>\n",
              "      <td>3</td>\n",
              "      <td>6</td>\n",
              "      <td>23</td>\n",
              "      <td>...</td>\n",
              "      <td>36</td>\n",
              "      <td>7</td>\n",
              "      <td>9</td>\n",
              "      <td>20</td>\n",
              "      <td>36</td>\n",
              "      <td>17</td>\n",
              "      <td>25</td>\n",
              "      <td>12</td>\n",
              "      <td>2</td>\n",
              "      <td>36</td>\n",
              "    </tr>\n",
              "    <tr>\n",
              "      <th>199</th>\n",
              "      <td>25</td>\n",
              "      <td>17</td>\n",
              "      <td>1</td>\n",
              "      <td>8</td>\n",
              "      <td>35</td>\n",
              "      <td>38</td>\n",
              "      <td>28</td>\n",
              "      <td>8</td>\n",
              "      <td>12</td>\n",
              "      <td>12</td>\n",
              "      <td>...</td>\n",
              "      <td>48</td>\n",
              "      <td>13</td>\n",
              "      <td>47</td>\n",
              "      <td>36</td>\n",
              "      <td>3</td>\n",
              "      <td>2</td>\n",
              "      <td>21</td>\n",
              "      <td>5</td>\n",
              "      <td>4</td>\n",
              "      <td>25</td>\n",
              "    </tr>\n",
              "  </tbody>\n",
              "</table>\n",
              "<p>200 rows × 2000 columns</p>\n",
              "</div>\n",
              "      <button class=\"colab-df-convert\" onclick=\"convertToInteractive('df-7879ce17-4403-4982-80e0-91e139a8e4fb')\"\n",
              "              title=\"Convert this dataframe to an interactive table.\"\n",
              "              style=\"display:none;\">\n",
              "        \n",
              "  <svg xmlns=\"http://www.w3.org/2000/svg\" height=\"24px\"viewBox=\"0 0 24 24\"\n",
              "       width=\"24px\">\n",
              "    <path d=\"M0 0h24v24H0V0z\" fill=\"none\"/>\n",
              "    <path d=\"M18.56 5.44l.94 2.06.94-2.06 2.06-.94-2.06-.94-.94-2.06-.94 2.06-2.06.94zm-11 1L8.5 8.5l.94-2.06 2.06-.94-2.06-.94L8.5 2.5l-.94 2.06-2.06.94zm10 10l.94 2.06.94-2.06 2.06-.94-2.06-.94-.94-2.06-.94 2.06-2.06.94z\"/><path d=\"M17.41 7.96l-1.37-1.37c-.4-.4-.92-.59-1.43-.59-.52 0-1.04.2-1.43.59L10.3 9.45l-7.72 7.72c-.78.78-.78 2.05 0 2.83L4 21.41c.39.39.9.59 1.41.59.51 0 1.02-.2 1.41-.59l7.78-7.78 2.81-2.81c.8-.78.8-2.07 0-2.86zM5.41 20L4 18.59l7.72-7.72 1.47 1.35L5.41 20z\"/>\n",
              "  </svg>\n",
              "      </button>\n",
              "      \n",
              "  <style>\n",
              "    .colab-df-container {\n",
              "      display:flex;\n",
              "      flex-wrap:wrap;\n",
              "      gap: 12px;\n",
              "    }\n",
              "\n",
              "    .colab-df-convert {\n",
              "      background-color: #E8F0FE;\n",
              "      border: none;\n",
              "      border-radius: 50%;\n",
              "      cursor: pointer;\n",
              "      display: none;\n",
              "      fill: #1967D2;\n",
              "      height: 32px;\n",
              "      padding: 0 0 0 0;\n",
              "      width: 32px;\n",
              "    }\n",
              "\n",
              "    .colab-df-convert:hover {\n",
              "      background-color: #E2EBFA;\n",
              "      box-shadow: 0px 1px 2px rgba(60, 64, 67, 0.3), 0px 1px 3px 1px rgba(60, 64, 67, 0.15);\n",
              "      fill: #174EA6;\n",
              "    }\n",
              "\n",
              "    [theme=dark] .colab-df-convert {\n",
              "      background-color: #3B4455;\n",
              "      fill: #D2E3FC;\n",
              "    }\n",
              "\n",
              "    [theme=dark] .colab-df-convert:hover {\n",
              "      background-color: #434B5C;\n",
              "      box-shadow: 0px 1px 3px 1px rgba(0, 0, 0, 0.15);\n",
              "      filter: drop-shadow(0px 1px 2px rgba(0, 0, 0, 0.3));\n",
              "      fill: #FFFFFF;\n",
              "    }\n",
              "  </style>\n",
              "\n",
              "      <script>\n",
              "        const buttonEl =\n",
              "          document.querySelector('#df-7879ce17-4403-4982-80e0-91e139a8e4fb button.colab-df-convert');\n",
              "        buttonEl.style.display =\n",
              "          google.colab.kernel.accessAllowed ? 'block' : 'none';\n",
              "\n",
              "        async function convertToInteractive(key) {\n",
              "          const element = document.querySelector('#df-7879ce17-4403-4982-80e0-91e139a8e4fb');\n",
              "          const dataTable =\n",
              "            await google.colab.kernel.invokeFunction('convertToInteractive',\n",
              "                                                     [key], {});\n",
              "          if (!dataTable) return;\n",
              "\n",
              "          const docLinkHtml = 'Like what you see? Visit the ' +\n",
              "            '<a target=\"_blank\" href=https://colab.research.google.com/notebooks/data_table.ipynb>data table notebook</a>'\n",
              "            + ' to learn more about interactive tables.';\n",
              "          element.innerHTML = '';\n",
              "          dataTable['output_type'] = 'display_data';\n",
              "          await google.colab.output.renderOutput(dataTable, element);\n",
              "          const docLink = document.createElement('div');\n",
              "          docLink.innerHTML = docLinkHtml;\n",
              "          element.appendChild(docLink);\n",
              "        }\n",
              "      </script>\n",
              "    </div>\n",
              "  </div>\n",
              "  "
            ]
          },
          "metadata": {},
          "execution_count": 28
        }
      ]
    },
    {
      "cell_type": "markdown",
      "metadata": {
        "id": "aJyrCTU9id2c"
      },
      "source": [
        "### Distribución de cada muestra"
      ]
    },
    {
      "cell_type": "code",
      "metadata": {
        "id": "2wM6Ze0aXmxH",
        "colab": {
          "base_uri": "https://localhost:8080/",
          "height": 0
        },
        "outputId": "cf00de19-d8c3-41ba-bb89-26fb332d352a"
      },
      "source": [
        "muestras_exp.iloc[:,5:9].hist(figsize = (10,8), bins=100)\n",
        "plt.show()"
      ],
      "execution_count": 29,
      "outputs": [
        {
          "output_type": "display_data",
          "data": {
            "text/plain": [
              "<Figure size 720x576 with 4 Axes>"
            ],
            "image/png": "[encoded data removed]"
          },
          "metadata": {
            "needs_background": "light"
          }
        }
      ]
    },
    {
      "cell_type": "markdown",
      "metadata": {
        "id": "UjKLuQLEilDv"
      },
      "source": [
        "### Distribución de los promedios"
      ]
    },
    {
      "cell_type": "code",
      "metadata": {
        "id": "_qfIBuRysOz0",
        "colab": {
          "base_uri": "https://localhost:8080/",
          "height": 265
        },
        "outputId": "2cfe14c0-3ce8-45b6-f4c6-c391f041e1de"
      },
      "source": [
        "sns.histplot(muestras_exp.mean(),  bins=30)\n",
        "plt.show()\n"
      ],
      "execution_count": 30,
      "outputs": [
        {
          "output_type": "display_data",
          "data": {
            "text/plain": [
              "<Figure size 432x288 with 1 Axes>"
            ],
            "image/png": "[encoded data removed]"
          },
          "metadata": {
            "needs_background": "light"
          }
        }
      ]
    },
    {
      "cell_type": "markdown",
      "source": [
        "## Distribución de los errores"
      ],
      "metadata": {
        "id": "bLkNy-xLbI-a"
      }
    },
    {
      "cell_type": "code",
      "source": [
        "X.mean()"
      ],
      "metadata": {
        "colab": {
          "base_uri": "https://localhost:8080/"
        },
        "id": "I1S-Z3xEdzgd",
        "outputId": "78e0ab56-c41c-4bac-f776-83d02de1181b"
      },
      "execution_count": 31,
      "outputs": [
        {
          "output_type": "execute_result",
          "data": {
            "text/plain": [
              "15.86532"
            ]
          },
          "metadata": {},
          "execution_count": 31
        }
      ]
    },
    {
      "cell_type": "code",
      "metadata": {
        "colab": {
          "base_uri": "https://localhost:8080/",
          "height": 265
        },
        "outputId": "ddf49fd9-9d43-4f07-a55a-e3718e5764fd",
        "id": "Rw1g3fBObI-j"
      },
      "source": [
        "errores = muestras_exp.mean() - X.mean()\n",
        "sns.histplot(errores,  bins=30)\n",
        "plt.show()"
      ],
      "execution_count": 32,
      "outputs": [
        {
          "output_type": "display_data",
          "data": {
            "text/plain": [
              "<Figure size 432x288 with 1 Axes>"
            ],
            "image/png": "[encoded data removed]"
          },
          "metadata": {
            "needs_background": "light"
          }
        }
      ]
    },
    {
      "cell_type": "markdown",
      "metadata": {
        "id": "cn-Wq930Vgog"
      },
      "source": [
        "\n",
        "\n",
        "https://seeing-theory.brown.edu/probability-distributions/index.html\n",
        "\n"
      ]
    }
  ]
}