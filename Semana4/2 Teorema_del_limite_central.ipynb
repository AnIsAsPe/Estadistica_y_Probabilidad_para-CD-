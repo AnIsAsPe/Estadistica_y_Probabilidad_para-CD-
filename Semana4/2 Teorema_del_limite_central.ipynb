{
  "nbformat": 4,
  "nbformat_minor": 0,
  "metadata": {
    "kernelspec": {
      "display_name": "Python 3",
      "language": "python",
      "name": "python3"
    },
    "language_info": {
      "codemirror_mode": {
        "name": "ipython",
        "version": 3
      },
      "file_extension": ".py",
      "mimetype": "text/x-python",
      "name": "python",
      "nbconvert_exporter": "python",
      "pygments_lexer": "ipython3",
      "version": "3.6.5"
    },
    "colab": {
      "name": "Teorema del limite central ipynb",
      "provenance": [],
      "collapsed_sections": [
        "eRO54v3Rk7Zs"
      ],
      "toc_visible": true,
      "include_colab_link": true
    }
  },
  "cells": [
    {
      "cell_type": "markdown",
      "metadata": {
        "id": "view-in-github",
        "colab_type": "text"
      },
      "source": [
        "<a href=\"https://colab.research.google.com/github/AnIsAsPe/Estadistica_y_Probabilidad_para-CD-/blob/main/Semana4/2%20Teorema_del_limite_central.ipynb\" target=\"_parent\"><img src=\"https://colab.research.google.com/assets/colab-badge.svg\" alt=\"Open In Colab\"/></a>"
      ]
    },
    {
      "cell_type": "markdown",
      "metadata": {
        "id": "MlNBbGOgZ2j5"
      },
      "source": [
        "\n",
        "## Importar liberías y archivos"
      ]
    },
    {
      "cell_type": "code",
      "metadata": {
        "id": "FEI_n9J2Z2j5"
      },
      "source": [
        "import numpy as np\n",
        "import pandas as pd\n",
        "\n",
        "import random\n",
        "import operator\n",
        "import re # módulo operaciones expresiones regulares\n",
        "import unicodedata  #para quitar tildes\n",
        "from collections import Counter\n",
        "from scipy.stats import norm\n",
        "\n",
        "import matplotlib.pyplot as plt\n",
        "import seaborn as sns"
      ],
      "execution_count": 1,
      "outputs": []
    },
    {
      "cell_type": "markdown",
      "metadata": {
        "id": "pbALUjcWkWgr"
      },
      "source": [
        "## Definición de funciones"
      ]
    },
    {
      "cell_type": "code",
      "source": [
        "def errores_alturas(n, m = 500):\n",
        "    '''\n",
        "    n = tamaño de cada muestra\n",
        "    m = cuántas muestras\n",
        "       \n",
        "    '''\n",
        "    mu, sigma = 1675, 62.8     # dimensiones en milimetros\n",
        "\n",
        "    muestras = {'muestra '+ str(i): np.random.normal(mu, sigma,n) for i in range(1, m+1)}\n",
        "    alturas_hombres = pd.DataFrame.from_dict(muestras)\n",
        "    sns.distplot(mu - alturas_hombres.mean(), fit=norm, kde=False, bins=50)\n",
        "    plt.show()\n",
        "\n"
      ],
      "metadata": {
        "id": "NJAdcVglzjKZ"
      },
      "execution_count": 55,
      "outputs": []
    },
    {
      "cell_type": "code",
      "metadata": {
        "id": "96lVL2qUMtsa"
      },
      "source": [
        "def leer_libro(archivo_txt):\n",
        "  '''funcion para leer un archivo en formato txt'''\n",
        "  with open(archivo_txt, \"r\", encoding=\"utf8\") as f:\n",
        "    texto = f.read()\n",
        "    texto = texto.replace(\"\\n\", \"\").replace(\"\\r\", \"\") \n",
        "  return texto"
      ],
      "execution_count": 2,
      "outputs": []
    },
    {
      "cell_type": "code",
      "metadata": {
        "id": "F5sgP6ZkinM7"
      },
      "source": [
        "def borrar_elementos(texto, lista):\n",
        "  '''Función para eliminar en un texto los elementos contenidos en una lista, \n",
        "  por ejemplo:   autor, titulo y otros elementos'''\n",
        "  \n",
        "  for elemento in lista:\n",
        "    texto = texto.replace(elemento, \"\")\n",
        "  return texto"
      ],
      "execution_count": 3,
      "outputs": []
    },
    {
      "cell_type": "code",
      "metadata": {
        "id": "4wWolL-TXZct"
      },
      "source": [
        "\n",
        "def limpiar_texto(texto):\n",
        "  '''Función para convertir a minúsculas, quitar signos de puntuación,\n",
        "  números y tildes'''\n",
        "\n",
        "  #Convertir en mínusculas \n",
        "  texto_limpio = texto.lower()\n",
        "\n",
        "  #Quitar puntuación\n",
        "  puntuacion = [\".\", \",\" , \"-\", \"\\n\", \":\", \";\",'\"', \"'\", \"  \",\n",
        "                \"!\", \"¡\", \"¿\", \"?\", \"(\", \")\", \"<\", \"«\", \"»\", \"~\",]\n",
        "  for p in puntuacion:\n",
        "    texto_limpio = texto_limpio.replace(p,\"\")\n",
        "\n",
        "  #Quitar numeros\n",
        "\n",
        "  texto_limpio = \"\".join(filter(lambda x: not x.isdigit(), texto_limpio))\n",
        "\n",
        "  #Quitar tildes \n",
        "  \n",
        "  texto_limpio =''.join((c for c in unicodedata.normalize('NFD',texto_limpio) if\n",
        "                         unicodedata.category(c) != 'Mn'))\n",
        "\n",
        "  return texto_limpio"
      ],
      "execution_count": 4,
      "outputs": []
    },
    {
      "cell_type": "code",
      "metadata": {
        "id": "hU8f6vv2LVvF"
      },
      "source": [
        "\n",
        "def genera_texto_nletras(texto, n=1, tot_letras = 100):\n",
        "  '''Devuelve un texto, utilizando ngramas a partir de letras\n",
        "  n es la cantidad de letras que se toman en consideración para \n",
        "  generar la siguiente'''\n",
        "  ngramas = {}\n",
        "  for i in range(len(texto) - n):\n",
        "    seq = texto[i:i+n]\n",
        "    if seq not in ngramas.keys():\n",
        "      ngramas[seq] = []\n",
        "    ngramas[seq].append(texto[i+n]) \n",
        "    \n",
        "  ngrama = np.random.choice(list(ngramas.keys()))\n",
        "  nuevo_texto = ngrama\n",
        "  \n",
        "  for i in range(tot_letras):\n",
        "    if ngrama not in ngramas.keys():\n",
        "      break\n",
        "    siguiente_letra = np.random.choice(ngramas[ngrama])\n",
        "    nuevo_texto += siguiente_letra\n",
        "    ngrama = nuevo_texto[len(nuevo_texto)-n:len(nuevo_texto)]\n",
        "  return nuevo_texto"
      ],
      "execution_count": 5,
      "outputs": []
    },
    {
      "cell_type": "code",
      "metadata": {
        "id": "qWiYIU76KTF4"
      },
      "source": [
        "def genera_muestras_de_texto(texto, grado=0, \n",
        "                             num_muestras=100, \n",
        "                             tam_muestra=200 ):\n",
        "  muestras={}\n",
        "  for i in range(num_muestras):\n",
        "    if grado == 0:\n",
        "      muestras[i]= \"\".join(random.sample(texto, tam_muestra))\n",
        "    else:\n",
        "      muestras[i] = genera_texto_nletras(texto, grado, tam_muestra)\n",
        "  return pd.Series(muestras, name= 'muestra' )"
      ],
      "execution_count": 6,
      "outputs": []
    },
    {
      "cell_type": "code",
      "metadata": {
        "id": "EGkrl_dKE62b"
      },
      "source": [
        "def cuenta_vocales(texto):\n",
        "  vocales ='aeiou'\n",
        "  tot_vocales= 0\n",
        "  for caracter in texto:\n",
        "    if caracter in vocales:\n",
        "      tot_vocales += 1\n",
        "  return tot_vocales"
      ],
      "execution_count": 7,
      "outputs": []
    },
    {
      "cell_type": "code",
      "metadata": {
        "id": "A7oWT_SAFK0T"
      },
      "source": [
        "def cuenta_caracteres_antes_de_n(texto):\n",
        "  caracteres_antes = 0\n",
        "  for caracter in texto:\n",
        "    if caracter == 'n':\n",
        "      break\n",
        "    caracteres_antes += 1\n",
        "\n",
        "  return caracteres_antes"
      ],
      "execution_count": 8,
      "outputs": []
    },
    {
      "cell_type": "markdown",
      "metadata": {
        "id": "UjW7W4BrPTTZ"
      },
      "source": [
        "# Distribución gaussiana"
      ]
    },
    {
      "cell_type": "markdown",
      "metadata": {
        "id": "9pFsoM62gq1Z"
      },
      "source": [
        "## Obtener muestras\n",
        "\n",
        "a partir de la [distribución de la altura de trabajadores industriales de sexo masculino en Guadalajara](https://www.researchgate.net/publication/31722433_Dimensiones_antropometricas_de_la_poblacion_latinoamericana_Mexico_Cuba_Colombia_Chile_R_Avila_Chaurand_LR_Prado_Leon_EL_Gonzalez_Munoz)"
      ]
    },
    {
      "cell_type": "code",
      "metadata": {
        "colab": {
          "base_uri": "https://localhost:8080/",
          "height": 505
        },
        "outputId": "5cccf7ef-4737-46ca-882a-b9456d58e948",
        "id": "19Bxuz3ftZHN"
      },
      "source": [
        "mu, sigma = 1675, 62.8     # dimensiones en milimetros\n",
        "\n",
        "n = 100 # tamaño de la muestra\n",
        "m = 1000 # número de muestras\n",
        "muestras = {'muestra '+str(i): np.random.normal(mu, sigma,n) for i in range(1, m+1)}\n",
        "alturas_hombres = pd.DataFrame.from_dict(muestras)\n",
        "alturas_hombres"
      ],
      "execution_count": 49,
      "outputs": [
        {
          "output_type": "execute_result",
          "data": {
            "text/plain": [
              "      muestra 1    muestra 2    muestra 3    muestra 4    muestra 5  \\\n",
              "0   1615.552371  1735.825344  1735.017534  1718.588867  1721.979712   \n",
              "1   1811.286430  1766.559388  1613.967896  1672.790865  1616.303973   \n",
              "2   1669.555067  1720.330348  1708.874616  1618.116394  1712.774216   \n",
              "3   1788.177475  1747.890157  1668.911827  1678.728907  1654.388683   \n",
              "4   1650.305584  1650.592549  1618.801288  1714.263624  1736.645504   \n",
              "..          ...          ...          ...          ...          ...   \n",
              "95  1685.913767  1679.781694  1511.019164  1751.620366  1738.041486   \n",
              "96  1626.794183  1533.361708  1706.146330  1553.391756  1594.091098   \n",
              "97  1800.614988  1706.808443  1597.389571  1720.319378  1659.533925   \n",
              "98  1648.854596  1607.735735  1712.321677  1624.967409  1676.479033   \n",
              "99  1631.359450  1600.872933  1628.836309  1639.692756  1568.153795   \n",
              "\n",
              "      muestra 6    muestra 7    muestra 8    muestra 9   muestra 10  ...  \\\n",
              "0   1570.291706  1745.335377  1569.296097  1604.181033  1724.338889  ...   \n",
              "1   1600.482471  1725.286817  1802.053887  1640.703845  1660.379141  ...   \n",
              "2   1677.436149  1669.639406  1733.457414  1648.292726  1638.451349  ...   \n",
              "3   1670.883372  1714.063733  1539.955961  1631.792635  1645.101853  ...   \n",
              "4   1740.309658  1681.570178  1695.097238  1495.877007  1698.408873  ...   \n",
              "..          ...          ...          ...          ...          ...  ...   \n",
              "95  1602.650141  1717.225200  1570.571590  1711.289435  1687.500582  ...   \n",
              "96  1653.822883  1672.352891  1798.460530  1679.953197  1722.820913  ...   \n",
              "97  1641.304920  1716.460071  1627.103502  1690.973982  1710.106681  ...   \n",
              "98  1643.758062  1664.380734  1592.112360  1715.391725  1725.609597  ...   \n",
              "99  1547.840855  1693.113610  1706.588361  1698.970269  1607.048705  ...   \n",
              "\n",
              "    muestra 991  muestra 992  muestra 993  muestra 994  muestra 995  \\\n",
              "0   1688.984393  1645.991437  1698.027626  1642.586096  1716.132798   \n",
              "1   1711.220720  1669.180573  1727.693706  1679.988390  1741.621643   \n",
              "2   1697.426354  1766.800491  1760.691084  1683.144380  1672.939712   \n",
              "3   1799.830471  1751.268045  1575.964560  1623.795497  1756.189923   \n",
              "4   1668.937723  1629.371563  1650.887005  1532.696263  1667.279924   \n",
              "..          ...          ...          ...          ...          ...   \n",
              "95  1611.993116  1675.179175  1639.860192  1837.358661  1594.629602   \n",
              "96  1691.124950  1719.481613  1617.778937  1751.061210  1763.485806   \n",
              "97  1667.953030  1580.349698  1683.616556  1626.491392  1791.765765   \n",
              "98  1699.769031  1647.684187  1757.567634  1710.905937  1662.051227   \n",
              "99  1655.344334  1630.547503  1598.455416  1592.872943  1669.387404   \n",
              "\n",
              "    muestra 996  muestra 997  muestra 998  muestra 999  muestra 1000  \n",
              "0   1690.024563  1787.981305  1652.029241  1619.348503   1771.278817  \n",
              "1   1533.499861  1761.700432  1597.136303  1626.930767   1730.550885  \n",
              "2   1684.692603  1672.755107  1808.821703  1652.119999   1516.050646  \n",
              "3   1643.970696  1624.534214  1670.089837  1710.738670   1748.424362  \n",
              "4   1717.902519  1674.159084  1610.579291  1791.107399   1756.553083  \n",
              "..          ...          ...          ...          ...           ...  \n",
              "95  1663.137978  1715.272400  1697.627730  1689.306829   1615.745247  \n",
              "96  1747.214417  1734.344964  1666.828317  1676.795728   1769.266432  \n",
              "97  1640.743575  1622.181721  1591.286441  1715.784392   1723.977966  \n",
              "98  1714.364863  1605.188397  1661.585247  1657.596984   1722.879433  \n",
              "99  1622.211224  1604.831476  1684.965716  1627.223408   1709.336025  \n",
              "\n",
              "[100 rows x 1000 columns]"
            ],
            "text/html": [
              "\n",
              "  <div id=\"df-c673c512-1cea-422f-b825-d66e72dc4cad\">\n",
              "    <div class=\"colab-df-container\">\n",
              "      <div>\n",
              "<style scoped>\n",
              "    .dataframe tbody tr th:only-of-type {\n",
              "        vertical-align: middle;\n",
              "    }\n",
              "\n",
              "    .dataframe tbody tr th {\n",
              "        vertical-align: top;\n",
              "    }\n",
              "\n",
              "    .dataframe thead th {\n",
              "        text-align: right;\n",
              "    }\n",
              "</style>\n",
              "<table border=\"1\" class=\"dataframe\">\n",
              "  <thead>\n",
              "    <tr style=\"text-align: right;\">\n",
              "      <th></th>\n",
              "      <th>muestra 1</th>\n",
              "      <th>muestra 2</th>\n",
              "      <th>muestra 3</th>\n",
              "      <th>muestra 4</th>\n",
              "      <th>muestra 5</th>\n",
              "      <th>muestra 6</th>\n",
              "      <th>muestra 7</th>\n",
              "      <th>muestra 8</th>\n",
              "      <th>muestra 9</th>\n",
              "      <th>muestra 10</th>\n",
              "      <th>...</th>\n",
              "      <th>muestra 991</th>\n",
              "      <th>muestra 992</th>\n",
              "      <th>muestra 993</th>\n",
              "      <th>muestra 994</th>\n",
              "      <th>muestra 995</th>\n",
              "      <th>muestra 996</th>\n",
              "      <th>muestra 997</th>\n",
              "      <th>muestra 998</th>\n",
              "      <th>muestra 999</th>\n",
              "      <th>muestra 1000</th>\n",
              "    </tr>\n",
              "  </thead>\n",
              "  <tbody>\n",
              "    <tr>\n",
              "      <th>0</th>\n",
              "      <td>1615.552371</td>\n",
              "      <td>1735.825344</td>\n",
              "      <td>1735.017534</td>\n",
              "      <td>1718.588867</td>\n",
              "      <td>1721.979712</td>\n",
              "      <td>1570.291706</td>\n",
              "      <td>1745.335377</td>\n",
              "      <td>1569.296097</td>\n",
              "      <td>1604.181033</td>\n",
              "      <td>1724.338889</td>\n",
              "      <td>...</td>\n",
              "      <td>1688.984393</td>\n",
              "      <td>1645.991437</td>\n",
              "      <td>1698.027626</td>\n",
              "      <td>1642.586096</td>\n",
              "      <td>1716.132798</td>\n",
              "      <td>1690.024563</td>\n",
              "      <td>1787.981305</td>\n",
              "      <td>1652.029241</td>\n",
              "      <td>1619.348503</td>\n",
              "      <td>1771.278817</td>\n",
              "    </tr>\n",
              "    <tr>\n",
              "      <th>1</th>\n",
              "      <td>1811.286430</td>\n",
              "      <td>1766.559388</td>\n",
              "      <td>1613.967896</td>\n",
              "      <td>1672.790865</td>\n",
              "      <td>1616.303973</td>\n",
              "      <td>1600.482471</td>\n",
              "      <td>1725.286817</td>\n",
              "      <td>1802.053887</td>\n",
              "      <td>1640.703845</td>\n",
              "      <td>1660.379141</td>\n",
              "      <td>...</td>\n",
              "      <td>1711.220720</td>\n",
              "      <td>1669.180573</td>\n",
              "      <td>1727.693706</td>\n",
              "      <td>1679.988390</td>\n",
              "      <td>1741.621643</td>\n",
              "      <td>1533.499861</td>\n",
              "      <td>1761.700432</td>\n",
              "      <td>1597.136303</td>\n",
              "      <td>1626.930767</td>\n",
              "      <td>1730.550885</td>\n",
              "    </tr>\n",
              "    <tr>\n",
              "      <th>2</th>\n",
              "      <td>1669.555067</td>\n",
              "      <td>1720.330348</td>\n",
              "      <td>1708.874616</td>\n",
              "      <td>1618.116394</td>\n",
              "      <td>1712.774216</td>\n",
              "      <td>1677.436149</td>\n",
              "      <td>1669.639406</td>\n",
              "      <td>1733.457414</td>\n",
              "      <td>1648.292726</td>\n",
              "      <td>1638.451349</td>\n",
              "      <td>...</td>\n",
              "      <td>1697.426354</td>\n",
              "      <td>1766.800491</td>\n",
              "      <td>1760.691084</td>\n",
              "      <td>1683.144380</td>\n",
              "      <td>1672.939712</td>\n",
              "      <td>1684.692603</td>\n",
              "      <td>1672.755107</td>\n",
              "      <td>1808.821703</td>\n",
              "      <td>1652.119999</td>\n",
              "      <td>1516.050646</td>\n",
              "    </tr>\n",
              "    <tr>\n",
              "      <th>3</th>\n",
              "      <td>1788.177475</td>\n",
              "      <td>1747.890157</td>\n",
              "      <td>1668.911827</td>\n",
              "      <td>1678.728907</td>\n",
              "      <td>1654.388683</td>\n",
              "      <td>1670.883372</td>\n",
              "      <td>1714.063733</td>\n",
              "      <td>1539.955961</td>\n",
              "      <td>1631.792635</td>\n",
              "      <td>1645.101853</td>\n",
              "      <td>...</td>\n",
              "      <td>1799.830471</td>\n",
              "      <td>1751.268045</td>\n",
              "      <td>1575.964560</td>\n",
              "      <td>1623.795497</td>\n",
              "      <td>1756.189923</td>\n",
              "      <td>1643.970696</td>\n",
              "      <td>1624.534214</td>\n",
              "      <td>1670.089837</td>\n",
              "      <td>1710.738670</td>\n",
              "      <td>1748.424362</td>\n",
              "    </tr>\n",
              "    <tr>\n",
              "      <th>4</th>\n",
              "      <td>1650.305584</td>\n",
              "      <td>1650.592549</td>\n",
              "      <td>1618.801288</td>\n",
              "      <td>1714.263624</td>\n",
              "      <td>1736.645504</td>\n",
              "      <td>1740.309658</td>\n",
              "      <td>1681.570178</td>\n",
              "      <td>1695.097238</td>\n",
              "      <td>1495.877007</td>\n",
              "      <td>1698.408873</td>\n",
              "      <td>...</td>\n",
              "      <td>1668.937723</td>\n",
              "      <td>1629.371563</td>\n",
              "      <td>1650.887005</td>\n",
              "      <td>1532.696263</td>\n",
              "      <td>1667.279924</td>\n",
              "      <td>1717.902519</td>\n",
              "      <td>1674.159084</td>\n",
              "      <td>1610.579291</td>\n",
              "      <td>1791.107399</td>\n",
              "      <td>1756.553083</td>\n",
              "    </tr>\n",
              "    <tr>\n",
              "      <th>...</th>\n",
              "      <td>...</td>\n",
              "      <td>...</td>\n",
              "      <td>...</td>\n",
              "      <td>...</td>\n",
              "      <td>...</td>\n",
              "      <td>...</td>\n",
              "      <td>...</td>\n",
              "      <td>...</td>\n",
              "      <td>...</td>\n",
              "      <td>...</td>\n",
              "      <td>...</td>\n",
              "      <td>...</td>\n",
              "      <td>...</td>\n",
              "      <td>...</td>\n",
              "      <td>...</td>\n",
              "      <td>...</td>\n",
              "      <td>...</td>\n",
              "      <td>...</td>\n",
              "      <td>...</td>\n",
              "      <td>...</td>\n",
              "      <td>...</td>\n",
              "    </tr>\n",
              "    <tr>\n",
              "      <th>95</th>\n",
              "      <td>1685.913767</td>\n",
              "      <td>1679.781694</td>\n",
              "      <td>1511.019164</td>\n",
              "      <td>1751.620366</td>\n",
              "      <td>1738.041486</td>\n",
              "      <td>1602.650141</td>\n",
              "      <td>1717.225200</td>\n",
              "      <td>1570.571590</td>\n",
              "      <td>1711.289435</td>\n",
              "      <td>1687.500582</td>\n",
              "      <td>...</td>\n",
              "      <td>1611.993116</td>\n",
              "      <td>1675.179175</td>\n",
              "      <td>1639.860192</td>\n",
              "      <td>1837.358661</td>\n",
              "      <td>1594.629602</td>\n",
              "      <td>1663.137978</td>\n",
              "      <td>1715.272400</td>\n",
              "      <td>1697.627730</td>\n",
              "      <td>1689.306829</td>\n",
              "      <td>1615.745247</td>\n",
              "    </tr>\n",
              "    <tr>\n",
              "      <th>96</th>\n",
              "      <td>1626.794183</td>\n",
              "      <td>1533.361708</td>\n",
              "      <td>1706.146330</td>\n",
              "      <td>1553.391756</td>\n",
              "      <td>1594.091098</td>\n",
              "      <td>1653.822883</td>\n",
              "      <td>1672.352891</td>\n",
              "      <td>1798.460530</td>\n",
              "      <td>1679.953197</td>\n",
              "      <td>1722.820913</td>\n",
              "      <td>...</td>\n",
              "      <td>1691.124950</td>\n",
              "      <td>1719.481613</td>\n",
              "      <td>1617.778937</td>\n",
              "      <td>1751.061210</td>\n",
              "      <td>1763.485806</td>\n",
              "      <td>1747.214417</td>\n",
              "      <td>1734.344964</td>\n",
              "      <td>1666.828317</td>\n",
              "      <td>1676.795728</td>\n",
              "      <td>1769.266432</td>\n",
              "    </tr>\n",
              "    <tr>\n",
              "      <th>97</th>\n",
              "      <td>1800.614988</td>\n",
              "      <td>1706.808443</td>\n",
              "      <td>1597.389571</td>\n",
              "      <td>1720.319378</td>\n",
              "      <td>1659.533925</td>\n",
              "      <td>1641.304920</td>\n",
              "      <td>1716.460071</td>\n",
              "      <td>1627.103502</td>\n",
              "      <td>1690.973982</td>\n",
              "      <td>1710.106681</td>\n",
              "      <td>...</td>\n",
              "      <td>1667.953030</td>\n",
              "      <td>1580.349698</td>\n",
              "      <td>1683.616556</td>\n",
              "      <td>1626.491392</td>\n",
              "      <td>1791.765765</td>\n",
              "      <td>1640.743575</td>\n",
              "      <td>1622.181721</td>\n",
              "      <td>1591.286441</td>\n",
              "      <td>1715.784392</td>\n",
              "      <td>1723.977966</td>\n",
              "    </tr>\n",
              "    <tr>\n",
              "      <th>98</th>\n",
              "      <td>1648.854596</td>\n",
              "      <td>1607.735735</td>\n",
              "      <td>1712.321677</td>\n",
              "      <td>1624.967409</td>\n",
              "      <td>1676.479033</td>\n",
              "      <td>1643.758062</td>\n",
              "      <td>1664.380734</td>\n",
              "      <td>1592.112360</td>\n",
              "      <td>1715.391725</td>\n",
              "      <td>1725.609597</td>\n",
              "      <td>...</td>\n",
              "      <td>1699.769031</td>\n",
              "      <td>1647.684187</td>\n",
              "      <td>1757.567634</td>\n",
              "      <td>1710.905937</td>\n",
              "      <td>1662.051227</td>\n",
              "      <td>1714.364863</td>\n",
              "      <td>1605.188397</td>\n",
              "      <td>1661.585247</td>\n",
              "      <td>1657.596984</td>\n",
              "      <td>1722.879433</td>\n",
              "    </tr>\n",
              "    <tr>\n",
              "      <th>99</th>\n",
              "      <td>1631.359450</td>\n",
              "      <td>1600.872933</td>\n",
              "      <td>1628.836309</td>\n",
              "      <td>1639.692756</td>\n",
              "      <td>1568.153795</td>\n",
              "      <td>1547.840855</td>\n",
              "      <td>1693.113610</td>\n",
              "      <td>1706.588361</td>\n",
              "      <td>1698.970269</td>\n",
              "      <td>1607.048705</td>\n",
              "      <td>...</td>\n",
              "      <td>1655.344334</td>\n",
              "      <td>1630.547503</td>\n",
              "      <td>1598.455416</td>\n",
              "      <td>1592.872943</td>\n",
              "      <td>1669.387404</td>\n",
              "      <td>1622.211224</td>\n",
              "      <td>1604.831476</td>\n",
              "      <td>1684.965716</td>\n",
              "      <td>1627.223408</td>\n",
              "      <td>1709.336025</td>\n",
              "    </tr>\n",
              "  </tbody>\n",
              "</table>\n",
              "<p>100 rows × 1000 columns</p>\n",
              "</div>\n",
              "      <button class=\"colab-df-convert\" onclick=\"convertToInteractive('df-c673c512-1cea-422f-b825-d66e72dc4cad')\"\n",
              "              title=\"Convert this dataframe to an interactive table.\"\n",
              "              style=\"display:none;\">\n",
              "        \n",
              "  <svg xmlns=\"http://www.w3.org/2000/svg\" height=\"24px\"viewBox=\"0 0 24 24\"\n",
              "       width=\"24px\">\n",
              "    <path d=\"M0 0h24v24H0V0z\" fill=\"none\"/>\n",
              "    <path d=\"M18.56 5.44l.94 2.06.94-2.06 2.06-.94-2.06-.94-.94-2.06-.94 2.06-2.06.94zm-11 1L8.5 8.5l.94-2.06 2.06-.94-2.06-.94L8.5 2.5l-.94 2.06-2.06.94zm10 10l.94 2.06.94-2.06 2.06-.94-2.06-.94-.94-2.06-.94 2.06-2.06.94z\"/><path d=\"M17.41 7.96l-1.37-1.37c-.4-.4-.92-.59-1.43-.59-.52 0-1.04.2-1.43.59L10.3 9.45l-7.72 7.72c-.78.78-.78 2.05 0 2.83L4 21.41c.39.39.9.59 1.41.59.51 0 1.02-.2 1.41-.59l7.78-7.78 2.81-2.81c.8-.78.8-2.07 0-2.86zM5.41 20L4 18.59l7.72-7.72 1.47 1.35L5.41 20z\"/>\n",
              "  </svg>\n",
              "      </button>\n",
              "      \n",
              "  <style>\n",
              "    .colab-df-container {\n",
              "      display:flex;\n",
              "      flex-wrap:wrap;\n",
              "      gap: 12px;\n",
              "    }\n",
              "\n",
              "    .colab-df-convert {\n",
              "      background-color: #E8F0FE;\n",
              "      border: none;\n",
              "      border-radius: 50%;\n",
              "      cursor: pointer;\n",
              "      display: none;\n",
              "      fill: #1967D2;\n",
              "      height: 32px;\n",
              "      padding: 0 0 0 0;\n",
              "      width: 32px;\n",
              "    }\n",
              "\n",
              "    .colab-df-convert:hover {\n",
              "      background-color: #E2EBFA;\n",
              "      box-shadow: 0px 1px 2px rgba(60, 64, 67, 0.3), 0px 1px 3px 1px rgba(60, 64, 67, 0.15);\n",
              "      fill: #174EA6;\n",
              "    }\n",
              "\n",
              "    [theme=dark] .colab-df-convert {\n",
              "      background-color: #3B4455;\n",
              "      fill: #D2E3FC;\n",
              "    }\n",
              "\n",
              "    [theme=dark] .colab-df-convert:hover {\n",
              "      background-color: #434B5C;\n",
              "      box-shadow: 0px 1px 3px 1px rgba(0, 0, 0, 0.15);\n",
              "      filter: drop-shadow(0px 1px 2px rgba(0, 0, 0, 0.3));\n",
              "      fill: #FFFFFF;\n",
              "    }\n",
              "  </style>\n",
              "\n",
              "      <script>\n",
              "        const buttonEl =\n",
              "          document.querySelector('#df-c673c512-1cea-422f-b825-d66e72dc4cad button.colab-df-convert');\n",
              "        buttonEl.style.display =\n",
              "          google.colab.kernel.accessAllowed ? 'block' : 'none';\n",
              "\n",
              "        async function convertToInteractive(key) {\n",
              "          const element = document.querySelector('#df-c673c512-1cea-422f-b825-d66e72dc4cad');\n",
              "          const dataTable =\n",
              "            await google.colab.kernel.invokeFunction('convertToInteractive',\n",
              "                                                     [key], {});\n",
              "          if (!dataTable) return;\n",
              "\n",
              "          const docLinkHtml = 'Like what you see? Visit the ' +\n",
              "            '<a target=\"_blank\" href=https://colab.research.google.com/notebooks/data_table.ipynb>data table notebook</a>'\n",
              "            + ' to learn more about interactive tables.';\n",
              "          element.innerHTML = '';\n",
              "          dataTable['output_type'] = 'display_data';\n",
              "          await google.colab.output.renderOutput(dataTable, element);\n",
              "          const docLink = document.createElement('div');\n",
              "          docLink.innerHTML = docLinkHtml;\n",
              "          element.appendChild(docLink);\n",
              "        }\n",
              "      </script>\n",
              "    </div>\n",
              "  </div>\n",
              "  "
            ]
          },
          "metadata": {},
          "execution_count": 49
        }
      ]
    },
    {
      "cell_type": "markdown",
      "metadata": {
        "id": "r6nJFS3thxsb"
      },
      "source": [
        "<h2> Distribución de cada muestra"
      ]
    },
    {
      "cell_type": "code",
      "metadata": {
        "id": "GIBiBnle7qRy",
        "colab": {
          "base_uri": "https://localhost:8080/",
          "height": 499
        },
        "outputId": "154e7ec4-e1dd-4205-aeda-47e69b93431e"
      },
      "source": [
        "alturas_hombres.iloc[:,0:4].hist(figsize = (10,8), bins=100)\n",
        "plt.show()"
      ],
      "execution_count": 50,
      "outputs": [
        {
          "output_type": "display_data",
          "data": {
            "text/plain": [
              "<Figure size 720x576 with 4 Axes>"
            ],
            "image/png": "[encoded data removed]"
          },
          "metadata": {
            "needs_background": "light"
          }
        }
      ]
    },
    {
      "cell_type": "markdown",
      "metadata": {
        "id": "dpqepVsWhbyJ"
      },
      "source": [
        "## Distribución de los promedios"
      ]
    },
    {
      "cell_type": "code",
      "metadata": {
        "colab": {
          "base_uri": "https://localhost:8080/"
        },
        "id": "7-mAkd3pRRtx",
        "outputId": "54cc4761-d9e1-46d5-9b36-6dd32327e8a3"
      },
      "source": [
        "medias = alturas_hombres.mean()\n",
        "medias"
      ],
      "execution_count": 54,
      "outputs": [
        {
          "output_type": "execute_result",
          "data": {
            "text/plain": [
              "muestra 1       1674.786347\n",
              "muestra 2       1680.493249\n",
              "muestra 3       1673.422410\n",
              "muestra 4       1662.796839\n",
              "muestra 5       1676.127077\n",
              "                   ...     \n",
              "muestra 996     1674.603138\n",
              "muestra 997     1668.647927\n",
              "muestra 998     1675.922423\n",
              "muestra 999     1682.024156\n",
              "muestra 1000    1674.506571\n",
              "Length: 1000, dtype: float64"
            ]
          },
          "metadata": {},
          "execution_count": 54
        }
      ]
    },
    {
      "cell_type": "code",
      "source": [
        "sns.histplot(medias,  bins=30)\n",
        "plt.show()"
      ],
      "metadata": {
        "id": "_P8FsvRtzpw_",
        "outputId": "e48f8848-ed8e-481e-e98d-5f7d2cb4fa2a",
        "colab": {
          "base_uri": "https://localhost:8080/",
          "height": 265
        }
      },
      "execution_count": 67,
      "outputs": [
        {
          "output_type": "display_data",
          "data": {
            "text/plain": [
              "<Figure size 432x288 with 1 Axes>"
            ],
            "image/png": "[encoded data removed]"
          },
          "metadata": {
            "needs_background": "light"
          }
        }
      ]
    },
    {
      "cell_type": "markdown",
      "source": [
        "## Distribución de los errores"
      ],
      "metadata": {
        "id": "h50zqQYE0XUu"
      }
    },
    {
      "cell_type": "code",
      "metadata": {
        "id": "yWYSEAmk8VIJ",
        "colab": {
          "base_uri": "https://localhost:8080/"
        },
        "outputId": "3eaa7229-497c-469b-b93a-4d0e3dd428cd"
      },
      "source": [
        "errores = mu - medias\n",
        "errores"
      ],
      "execution_count": 52,
      "outputs": [
        {
          "output_type": "execute_result",
          "data": {
            "text/plain": [
              "muestra 1        0.213653\n",
              "muestra 2       -5.493249\n",
              "muestra 3        1.577590\n",
              "muestra 4       12.203161\n",
              "muestra 5       -1.127077\n",
              "                  ...    \n",
              "muestra 996      0.396862\n",
              "muestra 997      6.352073\n",
              "muestra 998     -0.922423\n",
              "muestra 999     -7.024156\n",
              "muestra 1000     0.493429\n",
              "Length: 1000, dtype: float64"
            ]
          },
          "metadata": {},
          "execution_count": 52
        }
      ]
    },
    {
      "cell_type": "code",
      "metadata": {
        "id": "Q0zt05sw72tK",
        "colab": {
          "base_uri": "https://localhost:8080/",
          "height": 265
        },
        "outputId": "776dcdac-3623-499c-ad63-dcb7df4c3296"
      },
      "source": [
        "sns.histplot(errores,  bins=30)\n",
        "plt.show()"
      ],
      "execution_count": 99,
      "outputs": [
        {
          "output_type": "display_data",
          "data": {
            "text/plain": [
              "<Figure size 432x288 with 1 Axes>"
            ],
            "image/png": "[encoded data removed]"
          },
          "metadata": {
            "needs_background": "light"
          }
        }
      ]
    },
    {
      "cell_type": "code",
      "source": [
        "sns.histplot(errores,  bins=30)\n",
        "plt.show()"
      ],
      "metadata": {
        "colab": {
          "base_uri": "https://localhost:8080/",
          "height": 265
        },
        "id": "KpEEjqeT4e5X",
        "outputId": "3ff3b7a7-f1bb-424a-97fa-a90a96c68a3a"
      },
      "execution_count": 100,
      "outputs": [
        {
          "output_type": "display_data",
          "data": {
            "text/plain": [
              "<Figure size 432x288 with 1 Axes>"
            ],
            "image/png": "[encoded data removed]"
          },
          "metadata": {
            "needs_background": "light"
          }
        }
      ]
    },
    {
      "cell_type": "markdown",
      "metadata": {
        "id": "vM6KSyr20BqS"
      },
      "source": [
        "# Distribución Bernoulli"
      ]
    },
    {
      "cell_type": "markdown",
      "metadata": {
        "id": "zdMWKVsV1UFW"
      },
      "source": [
        "#### Preprocesar libro y obtener probabilidades de los caracteres "
      ]
    },
    {
      "cell_type": "code",
      "source": [
        "from google.colab import drive\n",
        "drive.mount('/content/drive')"
      ],
      "metadata": {
        "id": "zLggk11K5qWI",
        "outputId": "47fa5e21-d558-4ce0-f424-8ffcfb529ebd",
        "colab": {
          "base_uri": "https://localhost:8080/"
        }
      },
      "execution_count": 108,
      "outputs": [
        {
          "output_type": "stream",
          "name": "stdout",
          "text": [
            "Mounted at /content/drive\n"
          ]
        }
      ]
    },
    {
      "cell_type": "code",
      "metadata": {
        "id": "SIfWx3huarFt"
      },
      "source": [
        "#Leer libro\n",
        "libro = leer_libro('/content/drive/MyDrive/Datos/gabriel_garcia_marquez_cien_annos_soledad.txt')\n",
        "borrar = ['Gabriel García Márquez', \n",
        "          'Cien años de soledad',\n",
        "          'EDITADO POR \"EDICIONES LA CUEVA\"',\n",
        "          'Para J omi García Ascot y María Luisa Elio']\n",
        "\n",
        "libro =  borrar_elementos(libro, borrar) \n",
        "libro_limpio = limpiar_texto(libro)"
      ],
      "execution_count": 109,
      "outputs": []
    },
    {
      "cell_type": "code",
      "source": [
        "Ley_P_letras"
      ],
      "metadata": {
        "id": "Zl2ynnE992X4",
        "outputId": "9390b7a0-2299-4825-e0c4-20743bb72a25",
        "colab": {
          "base_uri": "https://localhost:8080/",
          "height": 896
        }
      },
      "execution_count": 119,
      "outputs": [
        {
          "output_type": "execute_result",
          "data": {
            "text/plain": [
              "   caracter  probabilidad      tipo\n",
              "0                0.174719  no_vocal\n",
              "1         a      0.111833     vocal\n",
              "2         b      0.014382  no_vocal\n",
              "3         c      0.033636  no_vocal\n",
              "4         d      0.043164  no_vocal\n",
              "5         e      0.104264     vocal\n",
              "6         f      0.005159  no_vocal\n",
              "7         g      0.008022  no_vocal\n",
              "8         h      0.007221  no_vocal\n",
              "9         i      0.052305     vocal\n",
              "10        j      0.003832  no_vocal\n",
              "11        k      0.000029  no_vocal\n",
              "12        l      0.049421  no_vocal\n",
              "13        m      0.021511  no_vocal\n",
              "14        n      0.059378  no_vocal\n",
              "15        o      0.078457     vocal\n",
              "16        p      0.020940  no_vocal\n",
              "17        q      0.008567  no_vocal\n",
              "18        r      0.056789  no_vocal\n",
              "19        s      0.058194  no_vocal\n",
              "20        t      0.031751  no_vocal\n",
              "21        u      0.037193     vocal\n",
              "22        v      0.008704  no_vocal\n",
              "23        w      0.000033  no_vocal\n",
              "24        x      0.000838  no_vocal\n",
              "25        y      0.006446  no_vocal\n",
              "26        z      0.003209  no_vocal"
            ],
            "text/html": [
              "\n",
              "  <div id=\"df-a8f996cf-2f69-43e8-bb0e-3d217f7ac6ba\">\n",
              "    <div class=\"colab-df-container\">\n",
              "      <div>\n",
              "<style scoped>\n",
              "    .dataframe tbody tr th:only-of-type {\n",
              "        vertical-align: middle;\n",
              "    }\n",
              "\n",
              "    .dataframe tbody tr th {\n",
              "        vertical-align: top;\n",
              "    }\n",
              "\n",
              "    .dataframe thead th {\n",
              "        text-align: right;\n",
              "    }\n",
              "</style>\n",
              "<table border=\"1\" class=\"dataframe\">\n",
              "  <thead>\n",
              "    <tr style=\"text-align: right;\">\n",
              "      <th></th>\n",
              "      <th>caracter</th>\n",
              "      <th>probabilidad</th>\n",
              "      <th>tipo</th>\n",
              "    </tr>\n",
              "  </thead>\n",
              "  <tbody>\n",
              "    <tr>\n",
              "      <th>0</th>\n",
              "      <td></td>\n",
              "      <td>0.174719</td>\n",
              "      <td>no_vocal</td>\n",
              "    </tr>\n",
              "    <tr>\n",
              "      <th>1</th>\n",
              "      <td>a</td>\n",
              "      <td>0.111833</td>\n",
              "      <td>vocal</td>\n",
              "    </tr>\n",
              "    <tr>\n",
              "      <th>2</th>\n",
              "      <td>b</td>\n",
              "      <td>0.014382</td>\n",
              "      <td>no_vocal</td>\n",
              "    </tr>\n",
              "    <tr>\n",
              "      <th>3</th>\n",
              "      <td>c</td>\n",
              "      <td>0.033636</td>\n",
              "      <td>no_vocal</td>\n",
              "    </tr>\n",
              "    <tr>\n",
              "      <th>4</th>\n",
              "      <td>d</td>\n",
              "      <td>0.043164</td>\n",
              "      <td>no_vocal</td>\n",
              "    </tr>\n",
              "    <tr>\n",
              "      <th>5</th>\n",
              "      <td>e</td>\n",
              "      <td>0.104264</td>\n",
              "      <td>vocal</td>\n",
              "    </tr>\n",
              "    <tr>\n",
              "      <th>6</th>\n",
              "      <td>f</td>\n",
              "      <td>0.005159</td>\n",
              "      <td>no_vocal</td>\n",
              "    </tr>\n",
              "    <tr>\n",
              "      <th>7</th>\n",
              "      <td>g</td>\n",
              "      <td>0.008022</td>\n",
              "      <td>no_vocal</td>\n",
              "    </tr>\n",
              "    <tr>\n",
              "      <th>8</th>\n",
              "      <td>h</td>\n",
              "      <td>0.007221</td>\n",
              "      <td>no_vocal</td>\n",
              "    </tr>\n",
              "    <tr>\n",
              "      <th>9</th>\n",
              "      <td>i</td>\n",
              "      <td>0.052305</td>\n",
              "      <td>vocal</td>\n",
              "    </tr>\n",
              "    <tr>\n",
              "      <th>10</th>\n",
              "      <td>j</td>\n",
              "      <td>0.003832</td>\n",
              "      <td>no_vocal</td>\n",
              "    </tr>\n",
              "    <tr>\n",
              "      <th>11</th>\n",
              "      <td>k</td>\n",
              "      <td>0.000029</td>\n",
              "      <td>no_vocal</td>\n",
              "    </tr>\n",
              "    <tr>\n",
              "      <th>12</th>\n",
              "      <td>l</td>\n",
              "      <td>0.049421</td>\n",
              "      <td>no_vocal</td>\n",
              "    </tr>\n",
              "    <tr>\n",
              "      <th>13</th>\n",
              "      <td>m</td>\n",
              "      <td>0.021511</td>\n",
              "      <td>no_vocal</td>\n",
              "    </tr>\n",
              "    <tr>\n",
              "      <th>14</th>\n",
              "      <td>n</td>\n",
              "      <td>0.059378</td>\n",
              "      <td>no_vocal</td>\n",
              "    </tr>\n",
              "    <tr>\n",
              "      <th>15</th>\n",
              "      <td>o</td>\n",
              "      <td>0.078457</td>\n",
              "      <td>vocal</td>\n",
              "    </tr>\n",
              "    <tr>\n",
              "      <th>16</th>\n",
              "      <td>p</td>\n",
              "      <td>0.020940</td>\n",
              "      <td>no_vocal</td>\n",
              "    </tr>\n",
              "    <tr>\n",
              "      <th>17</th>\n",
              "      <td>q</td>\n",
              "      <td>0.008567</td>\n",
              "      <td>no_vocal</td>\n",
              "    </tr>\n",
              "    <tr>\n",
              "      <th>18</th>\n",
              "      <td>r</td>\n",
              "      <td>0.056789</td>\n",
              "      <td>no_vocal</td>\n",
              "    </tr>\n",
              "    <tr>\n",
              "      <th>19</th>\n",
              "      <td>s</td>\n",
              "      <td>0.058194</td>\n",
              "      <td>no_vocal</td>\n",
              "    </tr>\n",
              "    <tr>\n",
              "      <th>20</th>\n",
              "      <td>t</td>\n",
              "      <td>0.031751</td>\n",
              "      <td>no_vocal</td>\n",
              "    </tr>\n",
              "    <tr>\n",
              "      <th>21</th>\n",
              "      <td>u</td>\n",
              "      <td>0.037193</td>\n",
              "      <td>vocal</td>\n",
              "    </tr>\n",
              "    <tr>\n",
              "      <th>22</th>\n",
              "      <td>v</td>\n",
              "      <td>0.008704</td>\n",
              "      <td>no_vocal</td>\n",
              "    </tr>\n",
              "    <tr>\n",
              "      <th>23</th>\n",
              "      <td>w</td>\n",
              "      <td>0.000033</td>\n",
              "      <td>no_vocal</td>\n",
              "    </tr>\n",
              "    <tr>\n",
              "      <th>24</th>\n",
              "      <td>x</td>\n",
              "      <td>0.000838</td>\n",
              "      <td>no_vocal</td>\n",
              "    </tr>\n",
              "    <tr>\n",
              "      <th>25</th>\n",
              "      <td>y</td>\n",
              "      <td>0.006446</td>\n",
              "      <td>no_vocal</td>\n",
              "    </tr>\n",
              "    <tr>\n",
              "      <th>26</th>\n",
              "      <td>z</td>\n",
              "      <td>0.003209</td>\n",
              "      <td>no_vocal</td>\n",
              "    </tr>\n",
              "  </tbody>\n",
              "</table>\n",
              "</div>\n",
              "      <button class=\"colab-df-convert\" onclick=\"convertToInteractive('df-a8f996cf-2f69-43e8-bb0e-3d217f7ac6ba')\"\n",
              "              title=\"Convert this dataframe to an interactive table.\"\n",
              "              style=\"display:none;\">\n",
              "        \n",
              "  <svg xmlns=\"http://www.w3.org/2000/svg\" height=\"24px\"viewBox=\"0 0 24 24\"\n",
              "       width=\"24px\">\n",
              "    <path d=\"M0 0h24v24H0V0z\" fill=\"none\"/>\n",
              "    <path d=\"M18.56 5.44l.94 2.06.94-2.06 2.06-.94-2.06-.94-.94-2.06-.94 2.06-2.06.94zm-11 1L8.5 8.5l.94-2.06 2.06-.94-2.06-.94L8.5 2.5l-.94 2.06-2.06.94zm10 10l.94 2.06.94-2.06 2.06-.94-2.06-.94-.94-2.06-.94 2.06-2.06.94z\"/><path d=\"M17.41 7.96l-1.37-1.37c-.4-.4-.92-.59-1.43-.59-.52 0-1.04.2-1.43.59L10.3 9.45l-7.72 7.72c-.78.78-.78 2.05 0 2.83L4 21.41c.39.39.9.59 1.41.59.51 0 1.02-.2 1.41-.59l7.78-7.78 2.81-2.81c.8-.78.8-2.07 0-2.86zM5.41 20L4 18.59l7.72-7.72 1.47 1.35L5.41 20z\"/>\n",
              "  </svg>\n",
              "      </button>\n",
              "      \n",
              "  <style>\n",
              "    .colab-df-container {\n",
              "      display:flex;\n",
              "      flex-wrap:wrap;\n",
              "      gap: 12px;\n",
              "    }\n",
              "\n",
              "    .colab-df-convert {\n",
              "      background-color: #E8F0FE;\n",
              "      border: none;\n",
              "      border-radius: 50%;\n",
              "      cursor: pointer;\n",
              "      display: none;\n",
              "      fill: #1967D2;\n",
              "      height: 32px;\n",
              "      padding: 0 0 0 0;\n",
              "      width: 32px;\n",
              "    }\n",
              "\n",
              "    .colab-df-convert:hover {\n",
              "      background-color: #E2EBFA;\n",
              "      box-shadow: 0px 1px 2px rgba(60, 64, 67, 0.3), 0px 1px 3px 1px rgba(60, 64, 67, 0.15);\n",
              "      fill: #174EA6;\n",
              "    }\n",
              "\n",
              "    [theme=dark] .colab-df-convert {\n",
              "      background-color: #3B4455;\n",
              "      fill: #D2E3FC;\n",
              "    }\n",
              "\n",
              "    [theme=dark] .colab-df-convert:hover {\n",
              "      background-color: #434B5C;\n",
              "      box-shadow: 0px 1px 3px 1px rgba(0, 0, 0, 0.15);\n",
              "      filter: drop-shadow(0px 1px 2px rgba(0, 0, 0, 0.3));\n",
              "      fill: #FFFFFF;\n",
              "    }\n",
              "  </style>\n",
              "\n",
              "      <script>\n",
              "        const buttonEl =\n",
              "          document.querySelector('#df-a8f996cf-2f69-43e8-bb0e-3d217f7ac6ba button.colab-df-convert');\n",
              "        buttonEl.style.display =\n",
              "          google.colab.kernel.accessAllowed ? 'block' : 'none';\n",
              "\n",
              "        async function convertToInteractive(key) {\n",
              "          const element = document.querySelector('#df-a8f996cf-2f69-43e8-bb0e-3d217f7ac6ba');\n",
              "          const dataTable =\n",
              "            await google.colab.kernel.invokeFunction('convertToInteractive',\n",
              "                                                     [key], {});\n",
              "          if (!dataTable) return;\n",
              "\n",
              "          const docLinkHtml = 'Like what you see? Visit the ' +\n",
              "            '<a target=\"_blank\" href=https://colab.research.google.com/notebooks/data_table.ipynb>data table notebook</a>'\n",
              "            + ' to learn more about interactive tables.';\n",
              "          element.innerHTML = '';\n",
              "          dataTable['output_type'] = 'display_data';\n",
              "          await google.colab.output.renderOutput(dataTable, element);\n",
              "          const docLink = document.createElement('div');\n",
              "          docLink.innerHTML = docLinkHtml;\n",
              "          element.appendChild(docLink);\n",
              "        }\n",
              "      </script>\n",
              "    </div>\n",
              "  </div>\n",
              "  "
            ]
          },
          "metadata": {},
          "execution_count": 119
        }
      ]
    },
    {
      "cell_type": "code",
      "metadata": {
        "id": "hnKktAPOmPJa",
        "outputId": "56e6b4c8-6915-4de3-f26b-6db1f9419324",
        "colab": {
          "base_uri": "https://localhost:8080/"
        }
      },
      "source": [
        "#Cargar csv con distribución de probabilidad de letras\n",
        "Ley_P_letras = pd.read_csv('https://raw.githubusercontent.com/AnIsAsPe/ElementosEstadisticaMachineLearningPython/master/Semana4/Ley_Probabilidad_caracteres_100a%C3%B1os.csv')\n",
        "\n",
        "# Calcular la probabilidad de obtener una vocal\n",
        "\n",
        "filtro_vocal = Ley_P_letras['caracter'].isin(list('aeiou'))\n",
        "p = Ley_P_letras.loc[filtro_vocal, 'probabilidad'].sum()\n",
        "p"
      ],
      "execution_count": 126,
      "outputs": [
        {
          "output_type": "execute_result",
          "data": {
            "text/plain": [
              "0.38405272562528125"
            ]
          },
          "metadata": {},
          "execution_count": 126
        }
      ]
    },
    {
      "cell_type": "code",
      "metadata": {
        "id": "PzdUhOh9S0la",
        "colab": {
          "base_uri": "https://localhost:8080/",
          "height": 266
        },
        "outputId": "c427c784-9bbf-4074-ef7d-ca094d9b37b4"
      },
      "source": [
        "# Distribución bernoulli\n",
        "\n",
        "plt.bar(['vocal','no_vocal'],[p, 1-p])\n",
        "plt.show()"
      ],
      "execution_count": 128,
      "outputs": [
        {
          "output_type": "display_data",
          "data": {
            "text/plain": [
              "<Figure size 432x288 with 1 Axes>"
            ],
            "image/png": "[encoded data removed]"
          },
          "metadata": {
            "needs_background": "light"
          }
        }
      ]
    },
    {
      "cell_type": "markdown",
      "metadata": {
        "id": "Az4U8M9tG0pu"
      },
      "source": [
        "### Obtener muestras"
      ]
    },
    {
      "cell_type": "code",
      "metadata": {
        "id": "Lmm6XVOeKpt9",
        "colab": {
          "base_uri": "https://localhost:8080/"
        },
        "outputId": "cf75a09f-ad82-4dc5-f6a6-52fb01cdd5c1"
      },
      "source": [
        "%%time\n",
        "n = 200 # tamaño de la muestra\n",
        "m = 100000 # número de muestras\n",
        "\n",
        "muestras=pd.DataFrame()\n",
        "muestras['texto'] = (genera_muestras_de_texto(libro_limpio, grado = 0,\n",
        "                                              num_muestras = m, tam_muestra=n))\n",
        "indice=pd.Series(['muestra_'+str(i) for i in range (1, m+1)])\n",
        "muestras.index=indice\n",
        "muestras['vocales'] = muestras['texto'].apply(cuenta_vocales)\n",
        "muestras['p_estimada'] = muestras['vocales']/n\n",
        "muestras['errores']= p - muestras['vocales']/n"
      ],
      "execution_count": 152,
      "outputs": [
        {
          "output_type": "stream",
          "name": "stdout",
          "text": [
            "CPU times: user 18.4 s, sys: 79.1 ms, total: 18.5 s\n",
            "Wall time: 18.7 s\n"
          ]
        }
      ]
    },
    {
      "cell_type": "code",
      "source": [
        "muestras.head()"
      ],
      "metadata": {
        "id": "enXrydDmZHb7",
        "outputId": "f339cf1d-1f11-42d0-e630-a93d9af73122",
        "colab": {
          "base_uri": "https://localhost:8080/",
          "height": 206
        }
      },
      "execution_count": 153,
      "outputs": [
        {
          "output_type": "execute_result",
          "data": {
            "text/plain": [
              "                                                       texto  vocales  \\\n",
              "muestra_1    aoyun secasp dcinitan l utc ussfat cqtaplvn ...       70   \n",
              "muestra_2  l nnlcysscs sv  s  s aausin   eaaahi osciduatd...       72   \n",
              "muestra_3  apgt miadaaaeialdicb e omo  aao a szgu rdaaen ...       74   \n",
              "muestra_4   loaebre ldeaoaqdutsosa ei edo e  emtr  pa etv...       80   \n",
              "muestra_5   rnni  l pacjtenlve l oqpubloeoadcl a nndi  el...       72   \n",
              "\n",
              "           p_estimada   errores  \n",
              "muestra_1        0.35  0.034053  \n",
              "muestra_2        0.36  0.024053  \n",
              "muestra_3        0.37  0.014053  \n",
              "muestra_4        0.40 -0.015947  \n",
              "muestra_5        0.36  0.024053  "
            ],
            "text/html": [
              "\n",
              "  <div id=\"df-b19413d4-41d5-4887-9ada-7762c9671bec\">\n",
              "    <div class=\"colab-df-container\">\n",
              "      <div>\n",
              "<style scoped>\n",
              "    .dataframe tbody tr th:only-of-type {\n",
              "        vertical-align: middle;\n",
              "    }\n",
              "\n",
              "    .dataframe tbody tr th {\n",
              "        vertical-align: top;\n",
              "    }\n",
              "\n",
              "    .dataframe thead th {\n",
              "        text-align: right;\n",
              "    }\n",
              "</style>\n",
              "<table border=\"1\" class=\"dataframe\">\n",
              "  <thead>\n",
              "    <tr style=\"text-align: right;\">\n",
              "      <th></th>\n",
              "      <th>texto</th>\n",
              "      <th>vocales</th>\n",
              "      <th>p_estimada</th>\n",
              "      <th>errores</th>\n",
              "    </tr>\n",
              "  </thead>\n",
              "  <tbody>\n",
              "    <tr>\n",
              "      <th>muestra_1</th>\n",
              "      <td>aoyun secasp dcinitan l utc ussfat cqtaplvn ...</td>\n",
              "      <td>70</td>\n",
              "      <td>0.35</td>\n",
              "      <td>0.034053</td>\n",
              "    </tr>\n",
              "    <tr>\n",
              "      <th>muestra_2</th>\n",
              "      <td>l nnlcysscs sv  s  s aausin   eaaahi osciduatd...</td>\n",
              "      <td>72</td>\n",
              "      <td>0.36</td>\n",
              "      <td>0.024053</td>\n",
              "    </tr>\n",
              "    <tr>\n",
              "      <th>muestra_3</th>\n",
              "      <td>apgt miadaaaeialdicb e omo  aao a szgu rdaaen ...</td>\n",
              "      <td>74</td>\n",
              "      <td>0.37</td>\n",
              "      <td>0.014053</td>\n",
              "    </tr>\n",
              "    <tr>\n",
              "      <th>muestra_4</th>\n",
              "      <td>loaebre ldeaoaqdutsosa ei edo e  emtr  pa etv...</td>\n",
              "      <td>80</td>\n",
              "      <td>0.40</td>\n",
              "      <td>-0.015947</td>\n",
              "    </tr>\n",
              "    <tr>\n",
              "      <th>muestra_5</th>\n",
              "      <td>rnni  l pacjtenlve l oqpubloeoadcl a nndi  el...</td>\n",
              "      <td>72</td>\n",
              "      <td>0.36</td>\n",
              "      <td>0.024053</td>\n",
              "    </tr>\n",
              "  </tbody>\n",
              "</table>\n",
              "</div>\n",
              "      <button class=\"colab-df-convert\" onclick=\"convertToInteractive('df-b19413d4-41d5-4887-9ada-7762c9671bec')\"\n",
              "              title=\"Convert this dataframe to an interactive table.\"\n",
              "              style=\"display:none;\">\n",
              "        \n",
              "  <svg xmlns=\"http://www.w3.org/2000/svg\" height=\"24px\"viewBox=\"0 0 24 24\"\n",
              "       width=\"24px\">\n",
              "    <path d=\"M0 0h24v24H0V0z\" fill=\"none\"/>\n",
              "    <path d=\"M18.56 5.44l.94 2.06.94-2.06 2.06-.94-2.06-.94-.94-2.06-.94 2.06-2.06.94zm-11 1L8.5 8.5l.94-2.06 2.06-.94-2.06-.94L8.5 2.5l-.94 2.06-2.06.94zm10 10l.94 2.06.94-2.06 2.06-.94-2.06-.94-.94-2.06-.94 2.06-2.06.94z\"/><path d=\"M17.41 7.96l-1.37-1.37c-.4-.4-.92-.59-1.43-.59-.52 0-1.04.2-1.43.59L10.3 9.45l-7.72 7.72c-.78.78-.78 2.05 0 2.83L4 21.41c.39.39.9.59 1.41.59.51 0 1.02-.2 1.41-.59l7.78-7.78 2.81-2.81c.8-.78.8-2.07 0-2.86zM5.41 20L4 18.59l7.72-7.72 1.47 1.35L5.41 20z\"/>\n",
              "  </svg>\n",
              "      </button>\n",
              "      \n",
              "  <style>\n",
              "    .colab-df-container {\n",
              "      display:flex;\n",
              "      flex-wrap:wrap;\n",
              "      gap: 12px;\n",
              "    }\n",
              "\n",
              "    .colab-df-convert {\n",
              "      background-color: #E8F0FE;\n",
              "      border: none;\n",
              "      border-radius: 50%;\n",
              "      cursor: pointer;\n",
              "      display: none;\n",
              "      fill: #1967D2;\n",
              "      height: 32px;\n",
              "      padding: 0 0 0 0;\n",
              "      width: 32px;\n",
              "    }\n",
              "\n",
              "    .colab-df-convert:hover {\n",
              "      background-color: #E2EBFA;\n",
              "      box-shadow: 0px 1px 2px rgba(60, 64, 67, 0.3), 0px 1px 3px 1px rgba(60, 64, 67, 0.15);\n",
              "      fill: #174EA6;\n",
              "    }\n",
              "\n",
              "    [theme=dark] .colab-df-convert {\n",
              "      background-color: #3B4455;\n",
              "      fill: #D2E3FC;\n",
              "    }\n",
              "\n",
              "    [theme=dark] .colab-df-convert:hover {\n",
              "      background-color: #434B5C;\n",
              "      box-shadow: 0px 1px 3px 1px rgba(0, 0, 0, 0.15);\n",
              "      filter: drop-shadow(0px 1px 2px rgba(0, 0, 0, 0.3));\n",
              "      fill: #FFFFFF;\n",
              "    }\n",
              "  </style>\n",
              "\n",
              "      <script>\n",
              "        const buttonEl =\n",
              "          document.querySelector('#df-b19413d4-41d5-4887-9ada-7762c9671bec button.colab-df-convert');\n",
              "        buttonEl.style.display =\n",
              "          google.colab.kernel.accessAllowed ? 'block' : 'none';\n",
              "\n",
              "        async function convertToInteractive(key) {\n",
              "          const element = document.querySelector('#df-b19413d4-41d5-4887-9ada-7762c9671bec');\n",
              "          const dataTable =\n",
              "            await google.colab.kernel.invokeFunction('convertToInteractive',\n",
              "                                                     [key], {});\n",
              "          if (!dataTable) return;\n",
              "\n",
              "          const docLinkHtml = 'Like what you see? Visit the ' +\n",
              "            '<a target=\"_blank\" href=https://colab.research.google.com/notebooks/data_table.ipynb>data table notebook</a>'\n",
              "            + ' to learn more about interactive tables.';\n",
              "          element.innerHTML = '';\n",
              "          dataTable['output_type'] = 'display_data';\n",
              "          await google.colab.output.renderOutput(dataTable, element);\n",
              "          const docLink = document.createElement('div');\n",
              "          docLink.innerHTML = docLinkHtml;\n",
              "          element.appendChild(docLink);\n",
              "        }\n",
              "      </script>\n",
              "    </div>\n",
              "  </div>\n",
              "  "
            ]
          },
          "metadata": {},
          "execution_count": 153
        }
      ]
    },
    {
      "cell_type": "markdown",
      "metadata": {
        "id": "c3IvUkg7IEo5"
      },
      "source": [
        "### Distribución de los promedios"
      ]
    },
    {
      "cell_type": "code",
      "metadata": {
        "id": "SMmhHg9AKLte",
        "colab": {
          "base_uri": "https://localhost:8080/",
          "height": 284
        },
        "outputId": "060710d6-255a-4a82-f2ab-284ac92208ca"
      },
      "source": [
        "sns.histplot(muestras['p_estimada'],  bins=30)\n",
        "plt.show()"
      ],
      "execution_count": 146,
      "outputs": [
        {
          "output_type": "display_data",
          "data": {
            "text/plain": [
              "<Figure size 432x288 with 1 Axes>"
            ],
            "image/png": "[encoded data removed]"
          },
          "metadata": {
            "needs_background": "light"
          }
        }
      ]
    },
    {
      "cell_type": "markdown",
      "source": [
        "## Distribución de los errores"
      ],
      "metadata": {
        "id": "Tf102IYyV9Dj"
      }
    },
    {
      "cell_type": "code",
      "metadata": {
        "colab": {
          "base_uri": "https://localhost:8080/",
          "height": 283
        },
        "outputId": "998df648-9419-4be0-a253-120e5364fe27",
        "id": "c726yOIdV082"
      },
      "source": [
        "sns.histplot(muestras['errores'],  bins=30)\n",
        "plt.show()"
      ],
      "execution_count": 147,
      "outputs": [
        {
          "output_type": "display_data",
          "data": {
            "text/plain": [
              "<Figure size 432x288 with 1 Axes>"
            ],
            "image/png": "[encoded data removed]"
          },
          "metadata": {
            "needs_background": "light"
          }
        }
      ]
    },
    {
      "cell_type": "markdown",
      "metadata": {
        "id": "sB-LneF7VCfz"
      },
      "source": [
        "# Distribución exponencial"
      ]
    },
    {
      "cell_type": "code",
      "metadata": {
        "id": "3Peqz9GdPd4A",
        "colab": {
          "base_uri": "https://localhost:8080/",
          "height": 265
        },
        "outputId": "7b90b010-42bb-4fd2-ab87-5230d93b16ac"
      },
      "source": [
        "X = muestras['texto'].apply(cuenta_caracteres_antes_de_n).values\n",
        "sns.histplot(X,  bins=30)\n",
        "plt.show()"
      ],
      "execution_count": 162,
      "outputs": [
        {
          "output_type": "display_data",
          "data": {
            "text/plain": [
              "<Figure size 432x288 with 1 Axes>"
            ],
            "image/png": "[encoded data removed]"
          },
          "metadata": {
            "needs_background": "light"
          }
        }
      ]
    },
    {
      "cell_type": "code",
      "metadata": {
        "id": "MfrcWLotg3bE",
        "colab": {
          "base_uri": "https://localhost:8080/"
        },
        "outputId": "526129cb-acdd-498c-e1ee-79d24cc670b0"
      },
      "source": [
        "X.mean()"
      ],
      "execution_count": 143,
      "outputs": [
        {
          "output_type": "execute_result",
          "data": {
            "text/plain": [
              "15.87654"
            ]
          },
          "metadata": {},
          "execution_count": 143
        }
      ]
    },
    {
      "cell_type": "markdown",
      "metadata": {
        "id": "YBzL3UnDX_Jq"
      },
      "source": [
        "**Ejemplos de fenómenos con distribución exponencial:**\n",
        "- Valores máximos de precipitación diaria\n",
        "- Compras efectuadas por visitantes en página web\n",
        "- Tiempo para que se produzca un fallo\n",
        "\n",
        "\n",
        "¿Qué otros??"
      ]
    },
    {
      "cell_type": "markdown",
      "metadata": {
        "id": "5TLosvSiiCWf"
      },
      "source": [
        "### Obtener muestras"
      ]
    },
    {
      "cell_type": "code",
      "metadata": {
        "id": "yaOo2_TTXswx",
        "colab": {
          "base_uri": "https://localhost:8080/",
          "height": 505
        },
        "outputId": "e2e428b8-74a4-4ebd-f410-36d37c9abbc0"
      },
      "source": [
        "n = 200 # tamaño de la muestra\n",
        "m = 2000 # número de muestras\n",
        "m_exp = {'muestra '+str(i):np.random.choice(X, n) for i in range(1, m+1)}\n",
        "\n",
        "muestras_exp = pd.DataFrame.from_dict(m_exp)\n",
        "muestras_exp"
      ],
      "execution_count": 199,
      "outputs": [
        {
          "output_type": "execute_result",
          "data": {
            "text/plain": [
              "     muestra 1  muestra 2  muestra 3  muestra 4  muestra 5  muestra 6  \\\n",
              "0           84          5         46         12         28          5   \n",
              "1            1          6          2         16         10          0   \n",
              "2            7          8          5         20          5         20   \n",
              "3           10         26          2         42         34         59   \n",
              "4           19         22          4          2          6          5   \n",
              "..         ...        ...        ...        ...        ...        ...   \n",
              "195         14         10          9          4         18         12   \n",
              "196         24         18          1          7         24         22   \n",
              "197          3         38         10          0          6          9   \n",
              "198         10         14         14         37          3         35   \n",
              "199         19          7         20         20         10          5   \n",
              "\n",
              "     muestra 7  muestra 8  muestra 9  muestra 10  ...  muestra 1991  \\\n",
              "0           50         27          5          95  ...             2   \n",
              "1           13         22          0          25  ...            18   \n",
              "2            2          1          6           6  ...            49   \n",
              "3            4         28          2          17  ...            10   \n",
              "4           29         33         14          22  ...            31   \n",
              "..         ...        ...        ...         ...  ...           ...   \n",
              "195         64         20         20          28  ...            40   \n",
              "196         24          6         12          21  ...             9   \n",
              "197          0          0          0           6  ...            20   \n",
              "198          1          2          1          44  ...            41   \n",
              "199         10         55         23           3  ...            16   \n",
              "\n",
              "     muestra 1992  muestra 1993  muestra 1994  muestra 1995  muestra 1996  \\\n",
              "0               0            46             4            67            18   \n",
              "1              23             0             5             4            14   \n",
              "2              34            30            65            21            17   \n",
              "3               3             9            56             8            74   \n",
              "4              24            18             9            11            10   \n",
              "..            ...           ...           ...           ...           ...   \n",
              "195            19            10            29            13            18   \n",
              "196             0             8             2            50            15   \n",
              "197             1             2            18            14            36   \n",
              "198            10             5             0             0            84   \n",
              "199            12             7             7             4             9   \n",
              "\n",
              "     muestra 1997  muestra 1998  muestra 1999  muestra 2000  \n",
              "0              25            22            49             2  \n",
              "1               4             2            14             9  \n",
              "2              18             0             9             7  \n",
              "3              13             4             9            12  \n",
              "4               7            11             0            16  \n",
              "..            ...           ...           ...           ...  \n",
              "195            18            32            36             3  \n",
              "196             6             5            15            34  \n",
              "197             0            13            11            18  \n",
              "198             6            26            36             1  \n",
              "199             2            20            15             8  \n",
              "\n",
              "[200 rows x 2000 columns]"
            ],
            "text/html": [
              "\n",
              "  <div id=\"df-1a40e70f-5df6-4cd6-891b-ec10ea287de4\">\n",
              "    <div class=\"colab-df-container\">\n",
              "      <div>\n",
              "<style scoped>\n",
              "    .dataframe tbody tr th:only-of-type {\n",
              "        vertical-align: middle;\n",
              "    }\n",
              "\n",
              "    .dataframe tbody tr th {\n",
              "        vertical-align: top;\n",
              "    }\n",
              "\n",
              "    .dataframe thead th {\n",
              "        text-align: right;\n",
              "    }\n",
              "</style>\n",
              "<table border=\"1\" class=\"dataframe\">\n",
              "  <thead>\n",
              "    <tr style=\"text-align: right;\">\n",
              "      <th></th>\n",
              "      <th>muestra 1</th>\n",
              "      <th>muestra 2</th>\n",
              "      <th>muestra 3</th>\n",
              "      <th>muestra 4</th>\n",
              "      <th>muestra 5</th>\n",
              "      <th>muestra 6</th>\n",
              "      <th>muestra 7</th>\n",
              "      <th>muestra 8</th>\n",
              "      <th>muestra 9</th>\n",
              "      <th>muestra 10</th>\n",
              "      <th>...</th>\n",
              "      <th>muestra 1991</th>\n",
              "      <th>muestra 1992</th>\n",
              "      <th>muestra 1993</th>\n",
              "      <th>muestra 1994</th>\n",
              "      <th>muestra 1995</th>\n",
              "      <th>muestra 1996</th>\n",
              "      <th>muestra 1997</th>\n",
              "      <th>muestra 1998</th>\n",
              "      <th>muestra 1999</th>\n",
              "      <th>muestra 2000</th>\n",
              "    </tr>\n",
              "  </thead>\n",
              "  <tbody>\n",
              "    <tr>\n",
              "      <th>0</th>\n",
              "      <td>84</td>\n",
              "      <td>5</td>\n",
              "      <td>46</td>\n",
              "      <td>12</td>\n",
              "      <td>28</td>\n",
              "      <td>5</td>\n",
              "      <td>50</td>\n",
              "      <td>27</td>\n",
              "      <td>5</td>\n",
              "      <td>95</td>\n",
              "      <td>...</td>\n",
              "      <td>2</td>\n",
              "      <td>0</td>\n",
              "      <td>46</td>\n",
              "      <td>4</td>\n",
              "      <td>67</td>\n",
              "      <td>18</td>\n",
              "      <td>25</td>\n",
              "      <td>22</td>\n",
              "      <td>49</td>\n",
              "      <td>2</td>\n",
              "    </tr>\n",
              "    <tr>\n",
              "      <th>1</th>\n",
              "      <td>1</td>\n",
              "      <td>6</td>\n",
              "      <td>2</td>\n",
              "      <td>16</td>\n",
              "      <td>10</td>\n",
              "      <td>0</td>\n",
              "      <td>13</td>\n",
              "      <td>22</td>\n",
              "      <td>0</td>\n",
              "      <td>25</td>\n",
              "      <td>...</td>\n",
              "      <td>18</td>\n",
              "      <td>23</td>\n",
              "      <td>0</td>\n",
              "      <td>5</td>\n",
              "      <td>4</td>\n",
              "      <td>14</td>\n",
              "      <td>4</td>\n",
              "      <td>2</td>\n",
              "      <td>14</td>\n",
              "      <td>9</td>\n",
              "    </tr>\n",
              "    <tr>\n",
              "      <th>2</th>\n",
              "      <td>7</td>\n",
              "      <td>8</td>\n",
              "      <td>5</td>\n",
              "      <td>20</td>\n",
              "      <td>5</td>\n",
              "      <td>20</td>\n",
              "      <td>2</td>\n",
              "      <td>1</td>\n",
              "      <td>6</td>\n",
              "      <td>6</td>\n",
              "      <td>...</td>\n",
              "      <td>49</td>\n",
              "      <td>34</td>\n",
              "      <td>30</td>\n",
              "      <td>65</td>\n",
              "      <td>21</td>\n",
              "      <td>17</td>\n",
              "      <td>18</td>\n",
              "      <td>0</td>\n",
              "      <td>9</td>\n",
              "      <td>7</td>\n",
              "    </tr>\n",
              "    <tr>\n",
              "      <th>3</th>\n",
              "      <td>10</td>\n",
              "      <td>26</td>\n",
              "      <td>2</td>\n",
              "      <td>42</td>\n",
              "      <td>34</td>\n",
              "      <td>59</td>\n",
              "      <td>4</td>\n",
              "      <td>28</td>\n",
              "      <td>2</td>\n",
              "      <td>17</td>\n",
              "      <td>...</td>\n",
              "      <td>10</td>\n",
              "      <td>3</td>\n",
              "      <td>9</td>\n",
              "      <td>56</td>\n",
              "      <td>8</td>\n",
              "      <td>74</td>\n",
              "      <td>13</td>\n",
              "      <td>4</td>\n",
              "      <td>9</td>\n",
              "      <td>12</td>\n",
              "    </tr>\n",
              "    <tr>\n",
              "      <th>4</th>\n",
              "      <td>19</td>\n",
              "      <td>22</td>\n",
              "      <td>4</td>\n",
              "      <td>2</td>\n",
              "      <td>6</td>\n",
              "      <td>5</td>\n",
              "      <td>29</td>\n",
              "      <td>33</td>\n",
              "      <td>14</td>\n",
              "      <td>22</td>\n",
              "      <td>...</td>\n",
              "      <td>31</td>\n",
              "      <td>24</td>\n",
              "      <td>18</td>\n",
              "      <td>9</td>\n",
              "      <td>11</td>\n",
              "      <td>10</td>\n",
              "      <td>7</td>\n",
              "      <td>11</td>\n",
              "      <td>0</td>\n",
              "      <td>16</td>\n",
              "    </tr>\n",
              "    <tr>\n",
              "      <th>...</th>\n",
              "      <td>...</td>\n",
              "      <td>...</td>\n",
              "      <td>...</td>\n",
              "      <td>...</td>\n",
              "      <td>...</td>\n",
              "      <td>...</td>\n",
              "      <td>...</td>\n",
              "      <td>...</td>\n",
              "      <td>...</td>\n",
              "      <td>...</td>\n",
              "      <td>...</td>\n",
              "      <td>...</td>\n",
              "      <td>...</td>\n",
              "      <td>...</td>\n",
              "      <td>...</td>\n",
              "      <td>...</td>\n",
              "      <td>...</td>\n",
              "      <td>...</td>\n",
              "      <td>...</td>\n",
              "      <td>...</td>\n",
              "      <td>...</td>\n",
              "    </tr>\n",
              "    <tr>\n",
              "      <th>195</th>\n",
              "      <td>14</td>\n",
              "      <td>10</td>\n",
              "      <td>9</td>\n",
              "      <td>4</td>\n",
              "      <td>18</td>\n",
              "      <td>12</td>\n",
              "      <td>64</td>\n",
              "      <td>20</td>\n",
              "      <td>20</td>\n",
              "      <td>28</td>\n",
              "      <td>...</td>\n",
              "      <td>40</td>\n",
              "      <td>19</td>\n",
              "      <td>10</td>\n",
              "      <td>29</td>\n",
              "      <td>13</td>\n",
              "      <td>18</td>\n",
              "      <td>18</td>\n",
              "      <td>32</td>\n",
              "      <td>36</td>\n",
              "      <td>3</td>\n",
              "    </tr>\n",
              "    <tr>\n",
              "      <th>196</th>\n",
              "      <td>24</td>\n",
              "      <td>18</td>\n",
              "      <td>1</td>\n",
              "      <td>7</td>\n",
              "      <td>24</td>\n",
              "      <td>22</td>\n",
              "      <td>24</td>\n",
              "      <td>6</td>\n",
              "      <td>12</td>\n",
              "      <td>21</td>\n",
              "      <td>...</td>\n",
              "      <td>9</td>\n",
              "      <td>0</td>\n",
              "      <td>8</td>\n",
              "      <td>2</td>\n",
              "      <td>50</td>\n",
              "      <td>15</td>\n",
              "      <td>6</td>\n",
              "      <td>5</td>\n",
              "      <td>15</td>\n",
              "      <td>34</td>\n",
              "    </tr>\n",
              "    <tr>\n",
              "      <th>197</th>\n",
              "      <td>3</td>\n",
              "      <td>38</td>\n",
              "      <td>10</td>\n",
              "      <td>0</td>\n",
              "      <td>6</td>\n",
              "      <td>9</td>\n",
              "      <td>0</td>\n",
              "      <td>0</td>\n",
              "      <td>0</td>\n",
              "      <td>6</td>\n",
              "      <td>...</td>\n",
              "      <td>20</td>\n",
              "      <td>1</td>\n",
              "      <td>2</td>\n",
              "      <td>18</td>\n",
              "      <td>14</td>\n",
              "      <td>36</td>\n",
              "      <td>0</td>\n",
              "      <td>13</td>\n",
              "      <td>11</td>\n",
              "      <td>18</td>\n",
              "    </tr>\n",
              "    <tr>\n",
              "      <th>198</th>\n",
              "      <td>10</td>\n",
              "      <td>14</td>\n",
              "      <td>14</td>\n",
              "      <td>37</td>\n",
              "      <td>3</td>\n",
              "      <td>35</td>\n",
              "      <td>1</td>\n",
              "      <td>2</td>\n",
              "      <td>1</td>\n",
              "      <td>44</td>\n",
              "      <td>...</td>\n",
              "      <td>41</td>\n",
              "      <td>10</td>\n",
              "      <td>5</td>\n",
              "      <td>0</td>\n",
              "      <td>0</td>\n",
              "      <td>84</td>\n",
              "      <td>6</td>\n",
              "      <td>26</td>\n",
              "      <td>36</td>\n",
              "      <td>1</td>\n",
              "    </tr>\n",
              "    <tr>\n",
              "      <th>199</th>\n",
              "      <td>19</td>\n",
              "      <td>7</td>\n",
              "      <td>20</td>\n",
              "      <td>20</td>\n",
              "      <td>10</td>\n",
              "      <td>5</td>\n",
              "      <td>10</td>\n",
              "      <td>55</td>\n",
              "      <td>23</td>\n",
              "      <td>3</td>\n",
              "      <td>...</td>\n",
              "      <td>16</td>\n",
              "      <td>12</td>\n",
              "      <td>7</td>\n",
              "      <td>7</td>\n",
              "      <td>4</td>\n",
              "      <td>9</td>\n",
              "      <td>2</td>\n",
              "      <td>20</td>\n",
              "      <td>15</td>\n",
              "      <td>8</td>\n",
              "    </tr>\n",
              "  </tbody>\n",
              "</table>\n",
              "<p>200 rows × 2000 columns</p>\n",
              "</div>\n",
              "      <button class=\"colab-df-convert\" onclick=\"convertToInteractive('df-1a40e70f-5df6-4cd6-891b-ec10ea287de4')\"\n",
              "              title=\"Convert this dataframe to an interactive table.\"\n",
              "              style=\"display:none;\">\n",
              "        \n",
              "  <svg xmlns=\"http://www.w3.org/2000/svg\" height=\"24px\"viewBox=\"0 0 24 24\"\n",
              "       width=\"24px\">\n",
              "    <path d=\"M0 0h24v24H0V0z\" fill=\"none\"/>\n",
              "    <path d=\"M18.56 5.44l.94 2.06.94-2.06 2.06-.94-2.06-.94-.94-2.06-.94 2.06-2.06.94zm-11 1L8.5 8.5l.94-2.06 2.06-.94-2.06-.94L8.5 2.5l-.94 2.06-2.06.94zm10 10l.94 2.06.94-2.06 2.06-.94-2.06-.94-.94-2.06-.94 2.06-2.06.94z\"/><path d=\"M17.41 7.96l-1.37-1.37c-.4-.4-.92-.59-1.43-.59-.52 0-1.04.2-1.43.59L10.3 9.45l-7.72 7.72c-.78.78-.78 2.05 0 2.83L4 21.41c.39.39.9.59 1.41.59.51 0 1.02-.2 1.41-.59l7.78-7.78 2.81-2.81c.8-.78.8-2.07 0-2.86zM5.41 20L4 18.59l7.72-7.72 1.47 1.35L5.41 20z\"/>\n",
              "  </svg>\n",
              "      </button>\n",
              "      \n",
              "  <style>\n",
              "    .colab-df-container {\n",
              "      display:flex;\n",
              "      flex-wrap:wrap;\n",
              "      gap: 12px;\n",
              "    }\n",
              "\n",
              "    .colab-df-convert {\n",
              "      background-color: #E8F0FE;\n",
              "      border: none;\n",
              "      border-radius: 50%;\n",
              "      cursor: pointer;\n",
              "      display: none;\n",
              "      fill: #1967D2;\n",
              "      height: 32px;\n",
              "      padding: 0 0 0 0;\n",
              "      width: 32px;\n",
              "    }\n",
              "\n",
              "    .colab-df-convert:hover {\n",
              "      background-color: #E2EBFA;\n",
              "      box-shadow: 0px 1px 2px rgba(60, 64, 67, 0.3), 0px 1px 3px 1px rgba(60, 64, 67, 0.15);\n",
              "      fill: #174EA6;\n",
              "    }\n",
              "\n",
              "    [theme=dark] .colab-df-convert {\n",
              "      background-color: #3B4455;\n",
              "      fill: #D2E3FC;\n",
              "    }\n",
              "\n",
              "    [theme=dark] .colab-df-convert:hover {\n",
              "      background-color: #434B5C;\n",
              "      box-shadow: 0px 1px 3px 1px rgba(0, 0, 0, 0.15);\n",
              "      filter: drop-shadow(0px 1px 2px rgba(0, 0, 0, 0.3));\n",
              "      fill: #FFFFFF;\n",
              "    }\n",
              "  </style>\n",
              "\n",
              "      <script>\n",
              "        const buttonEl =\n",
              "          document.querySelector('#df-1a40e70f-5df6-4cd6-891b-ec10ea287de4 button.colab-df-convert');\n",
              "        buttonEl.style.display =\n",
              "          google.colab.kernel.accessAllowed ? 'block' : 'none';\n",
              "\n",
              "        async function convertToInteractive(key) {\n",
              "          const element = document.querySelector('#df-1a40e70f-5df6-4cd6-891b-ec10ea287de4');\n",
              "          const dataTable =\n",
              "            await google.colab.kernel.invokeFunction('convertToInteractive',\n",
              "                                                     [key], {});\n",
              "          if (!dataTable) return;\n",
              "\n",
              "          const docLinkHtml = 'Like what you see? Visit the ' +\n",
              "            '<a target=\"_blank\" href=https://colab.research.google.com/notebooks/data_table.ipynb>data table notebook</a>'\n",
              "            + ' to learn more about interactive tables.';\n",
              "          element.innerHTML = '';\n",
              "          dataTable['output_type'] = 'display_data';\n",
              "          await google.colab.output.renderOutput(dataTable, element);\n",
              "          const docLink = document.createElement('div');\n",
              "          docLink.innerHTML = docLinkHtml;\n",
              "          element.appendChild(docLink);\n",
              "        }\n",
              "      </script>\n",
              "    </div>\n",
              "  </div>\n",
              "  "
            ]
          },
          "metadata": {},
          "execution_count": 199
        }
      ]
    },
    {
      "cell_type": "markdown",
      "metadata": {
        "id": "aJyrCTU9id2c"
      },
      "source": [
        "### Distribución de cada muestra"
      ]
    },
    {
      "cell_type": "code",
      "metadata": {
        "id": "2wM6Ze0aXmxH",
        "colab": {
          "base_uri": "https://localhost:8080/",
          "height": 0
        },
        "outputId": "a48909b8-1d05-4e28-c2c4-8d618b3ef02d"
      },
      "source": [
        "muestras_exp.iloc[:,5:9].hist(figsize = (10,8), bins=100)\n",
        "plt.show()"
      ],
      "execution_count": 200,
      "outputs": [
        {
          "output_type": "display_data",
          "data": {
            "text/plain": [
              "<Figure size 720x576 with 4 Axes>"
            ],
            "image/png": "[encoded data removed]"
          },
          "metadata": {
            "needs_background": "light"
          }
        }
      ]
    },
    {
      "cell_type": "markdown",
      "metadata": {
        "id": "UjKLuQLEilDv"
      },
      "source": [
        "### Distribución de los promedios"
      ]
    },
    {
      "cell_type": "code",
      "metadata": {
        "id": "_qfIBuRysOz0",
        "colab": {
          "base_uri": "https://localhost:8080/",
          "height": 265
        },
        "outputId": "ebf04724-13f1-42b9-8ab6-eb3615620629"
      },
      "source": [
        "sns.histplot(muestras_exp.mean(),  bins=30)\n",
        "plt.show()\n"
      ],
      "execution_count": 201,
      "outputs": [
        {
          "output_type": "display_data",
          "data": {
            "text/plain": [
              "<Figure size 432x288 with 1 Axes>"
            ],
            "image/png": "[encoded data removed]"
          },
          "metadata": {
            "needs_background": "light"
          }
        }
      ]
    },
    {
      "cell_type": "markdown",
      "source": [
        "## Distribución de los errores"
      ],
      "metadata": {
        "id": "bLkNy-xLbI-a"
      }
    },
    {
      "cell_type": "code",
      "source": [
        "X.mean()"
      ],
      "metadata": {
        "id": "I1S-Z3xEdzgd",
        "outputId": "2506f430-cf37-4b8e-a4e8-1244877f710c",
        "colab": {
          "base_uri": "https://localhost:8080/"
        }
      },
      "execution_count": 205,
      "outputs": [
        {
          "output_type": "execute_result",
          "data": {
            "text/plain": [
              "15.8468"
            ]
          },
          "metadata": {},
          "execution_count": 205
        }
      ]
    },
    {
      "cell_type": "code",
      "metadata": {
        "colab": {
          "base_uri": "https://localhost:8080/",
          "height": 265
        },
        "outputId": "7db47858-d4e4-4e1f-9535-bb22d8499194",
        "id": "Rw1g3fBObI-j"
      },
      "source": [
        "errores = muestras_exp.mean() - X.mean()\n",
        "sns.histplot(errores,  bins=30)\n",
        "plt.show()"
      ],
      "execution_count": 204,
      "outputs": [
        {
          "output_type": "display_data",
          "data": {
            "text/plain": [
              "<Figure size 432x288 with 1 Axes>"
            ],
            "image/png": "[encoded data removed]"
          },
          "metadata": {
            "needs_background": "light"
          }
        }
      ]
    },
    {
      "cell_type": "markdown",
      "metadata": {
        "id": "cn-Wq930Vgog"
      },
      "source": [
        "\n",
        "\n",
        "https://seeing-theory.brown.edu/probability-distributions/index.html\n",
        "\n"
      ]
    }
  ]
}