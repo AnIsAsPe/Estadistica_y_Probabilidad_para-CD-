{
  "nbformat": 4,
  "nbformat_minor": 0,
  "metadata": {
    "colab": {
      "name": "Bernoulli, binomial, poisson_ .ipynb",
      "provenance": [],
      "collapsed_sections": [],
      "toc_visible": true,
      "authorship_tag": "ABX9TyP90NYBgK02s87JLSMshsA1",
      "include_colab_link": true
    },
    "kernelspec": {
      "name": "python3",
      "display_name": "Python 3"
    },
    "language_info": {
      "name": "python"
    }
  },
  "cells": [
    {
      "cell_type": "markdown",
      "metadata": {
        "id": "view-in-github",
        "colab_type": "text"
      },
      "source": [
        "<a href=\"https://colab.research.google.com/github/AnIsAsPe/Estadistica_y_Probabilidad_para-CD-/blob/main/Semana4/Bernoulli%2C_binomial%2C_poisson__.ipynb\" target=\"_parent\"><img src=\"https://colab.research.google.com/assets/colab-badge.svg\" alt=\"Open In Colab\"/></a>"
      ]
    },
    {
      "cell_type": "code",
      "metadata": {
        "id": "11LmuROzUBX8"
      },
      "source": [
        "import numpy as np\n",
        "from numpy import exp\n",
        "\n",
        "import matplotlib.pyplot as plt"
      ],
      "execution_count": 1,
      "outputs": []
    },
    {
      "cell_type": "markdown",
      "metadata": {
        "id": "92U7vrYZ3fUv"
      },
      "source": [
        "# Simulación binomial"
      ]
    },
    {
      "cell_type": "markdown",
      "metadata": {
        "id": "JlwDFE9l8I-T"
      },
      "source": [
        "## Bernoulli n = 1"
      ]
    },
    {
      "cell_type": "code",
      "metadata": {
        "colab": {
          "base_uri": "https://localhost:8080/",
          "height": 741
        },
        "id": "JtAJUizI3fUv",
        "outputId": "2f68f12b-6e43-4ece-d133-9625bd63b121"
      },
      "source": [
        "# Bernoulli n = 1\n",
        "n, p = 1, 0.3\n",
        "size = 1000\n",
        "s = np.random.binomial(n, p, size)  #muestra de tamaño size con la preferencia de el candidato con .3\n",
        "plt.hist( s,   weights = np.zeros_like(s)+1./size)\n",
        "plt.show()\n",
        "print(s)"
      ],
      "execution_count": 2,
      "outputs": [
        {
          "output_type": "display_data",
          "data": {
            "image/png": "[encoded data removed]",
            "text/plain": [
              "<Figure size 432x288 with 1 Axes>"
            ]
          },
          "metadata": {
            "tags": [],
            "needs_background": "light"
          }
        },
        {
          "output_type": "stream",
          "text": [
            "[1 1 0 0 1 0 0 0 0 1 1 1 1 0 0 0 0 1 0 0 0 0 0 1 1 0 1 0 0 1 1 0 0 0 0 1 0\n",
            " 1 0 0 0 0 0 1 0 0 0 1 0 0 0 0 0 0 1 1 0 1 0 1 0 0 0 1 1 1 0 0 0 0 1 0 0 1\n",
            " 0 1 0 0 0 1 0 0 1 1 1 1 0 1 0 0 0 0 0 0 0 0 0 1 0 1 0 0 0 0 0 0 1 1 1 0 1\n",
            " 0 0 1 0 1 1 1 0 0 0 0 0 0 0 1 1 0 1 0 0 0 0 0 0 0 0 0 1 0 0 0 1 0 1 0 0 1\n",
            " 0 0 0 1 1 0 1 0 0 1 0 1 0 1 0 1 1 0 1 0 0 0 0 0 1 0 1 0 0 0 0 0 0 0 1 0 0\n",
            " 0 0 0 0 0 0 0 1 0 0 0 0 1 1 0 1 0 1 1 0 0 1 0 0 1 1 0 1 0 1 0 0 0 1 0 0 1\n",
            " 0 0 0 0 0 1 1 0 0 0 1 0 0 0 0 0 1 0 1 0 0 0 0 1 0 0 1 0 0 1 0 0 1 1 0 0 0\n",
            " 1 0 0 0 0 0 1 0 0 1 0 0 1 0 0 0 1 0 0 0 1 1 1 0 1 0 0 1 1 1 1 0 1 1 0 0 0\n",
            " 0 1 0 0 0 1 0 0 0 0 1 0 1 0 0 0 0 0 0 0 0 1 0 0 1 0 0 1 0 1 1 0 0 0 1 0 0\n",
            " 1 0 0 0 1 0 0 0 0 0 0 1 0 0 0 0 1 0 0 1 0 1 0 1 1 0 1 0 0 0 1 0 0 0 0 0 0\n",
            " 0 0 0 0 1 0 1 0 0 0 0 0 1 1 1 0 0 0 1 0 0 0 1 1 0 0 0 1 0 1 0 0 0 0 0 0 1\n",
            " 0 0 1 1 0 0 0 0 0 0 0 0 0 0 0 0 0 0 0 0 0 0 1 1 1 0 0 0 1 1 0 0 0 0 0 1 0\n",
            " 0 1 0 0 0 1 0 1 1 0 1 0 0 0 0 1 0 0 1 0 0 1 0 1 0 0 0 1 0 0 0 1 1 1 1 0 0\n",
            " 0 0 1 0 1 1 0 0 1 0 0 0 0 0 0 0 0 1 0 0 0 0 0 1 0 0 0 0 0 0 0 0 0 1 0 0 0\n",
            " 1 1 1 0 0 1 0 1 0 0 0 1 0 1 0 0 0 0 1 1 0 0 0 1 0 0 0 1 1 1 0 1 1 0 1 1 1\n",
            " 0 0 1 0 0 0 0 0 0 0 0 0 0 0 1 1 0 0 0 0 0 0 0 0 1 0 0 0 0 1 0 1 0 0 1 0 0\n",
            " 0 0 0 1 1 0 1 1 1 1 1 1 1 1 1 1 0 1 0 1 0 0 0 1 0 0 0 1 1 0 1 0 1 1 0 1 1\n",
            " 0 1 0 0 0 0 1 0 1 1 1 0 1 1 0 0 0 0 0 0 0 1 0 0 0 1 1 1 0 0 1 0 1 0 0 1 0\n",
            " 1 0 0 1 0 0 1 0 1 0 0 0 0 0 0 1 0 1 1 0 0 0 0 1 1 0 0 1 0 1 0 1 0 1 0 0 0\n",
            " 0 0 0 0 0 1 0 0 0 0 0 0 1 1 0 0 0 1 0 0 0 0 1 1 0 0 0 0 0 0 0 1 1 0 0 0 0\n",
            " 1 1 0 0 0 0 0 0 1 0 0 0 1 1 1 0 0 0 0 0 1 1 1 0 0 1 0 1 0 0 0 0 1 0 0 0 1\n",
            " 1 0 1 0 1 0 0 1 1 0 1 0 0 0 0 0 1 0 0 0 0 0 0 1 0 0 0 0 0 1 1 0 0 0 0 0 0\n",
            " 1 0 1 0 0 1 1 0 0 0 0 0 0 1 0 0 1 0 0 1 1 1 1 0 0 0 0 1 1 1 0 0 0 0 0 1 0\n",
            " 1 1 0 1 0 0 0 0 1 0 0 0 1 0 0 0 0 0 1 0 0 1 1 0 0 0 0 0 1 0 1 0 0 0 0 0 0\n",
            " 0 0 0 0 0 0 0 1 0 0 1 0 1 0 0 1 1 0 0 0 0 0 0 1 0 1 0 0 0 1 0 0 0 0 0 1 0\n",
            " 0 0 0 0 0 0 1 0 0 0 1 0 0 0 0 1 1 1 0 0 1 0 0 1 0 0 0 0 1 0 0 0 0 0 0 0 0\n",
            " 1 0 0 0 0 0 0 1 0 1 0 0 0 0 0 1 0 0 0 0 0 0 1 0 0 1 0 1 1 0 0 0 0 0 0 0 0\n",
            " 0]\n"
          ],
          "name": "stdout"
        }
      ]
    },
    {
      "cell_type": "markdown",
      "metadata": {
        "id": "jhzKpOUd8YO6"
      },
      "source": [
        "## Binomial n > 1"
      ]
    },
    {
      "cell_type": "code",
      "metadata": {
        "colab": {
          "base_uri": "https://localhost:8080/",
          "height": 741
        },
        "id": "-1A4mRQG8YO6",
        "outputId": "c907e763-4302-4112-8da0-40a25d05e635"
      },
      "source": [
        "\n",
        "n, p = 3, 0.3     \n",
        "size=1000\n",
        "s = np.random.binomial(n, p, size)  # muestra del tamaño size con la cantidad de personas por cada tres que  votan por el candidato con p = 0.3\n",
        "plt.hist( s,  weights = np.zeros_like(s)+1./size)\n",
        "plt.show()\n",
        "print(s)"
      ],
      "execution_count": 3,
      "outputs": [
        {
          "output_type": "display_data",
          "data": {
            "image/png": "[encoded data removed]",
            "text/plain": [
              "<Figure size 432x288 with 1 Axes>"
            ]
          },
          "metadata": {
            "tags": [],
            "needs_background": "light"
          }
        },
        {
          "output_type": "stream",
          "text": [
            "[1 0 0 0 1 1 1 0 1 1 0 0 0 0 1 0 0 1 0 0 0 0 0 1 1 0 0 0 0 1 1 0 0 0 0 0 1\n",
            " 2 1 1 1 0 0 0 0 0 2 1 2 1 1 1 2 1 0 0 2 0 1 1 0 1 1 2 1 1 1 0 1 1 1 0 1 1\n",
            " 1 0 0 2 2 0 2 0 1 1 1 1 1 2 0 2 1 1 0 1 1 1 0 0 2 2 1 0 1 1 1 2 1 0 1 1 1\n",
            " 1 0 1 1 3 0 2 1 0 0 1 1 1 1 2 0 2 1 2 0 0 0 2 2 1 1 1 1 1 0 1 1 0 2 0 1 2\n",
            " 3 1 0 0 1 1 0 0 2 0 1 0 0 0 0 1 2 3 0 2 2 1 0 1 1 1 0 1 0 1 1 2 0 1 2 2 0\n",
            " 2 2 1 0 2 1 1 2 2 0 0 0 2 0 0 1 1 1 1 0 2 1 0 0 1 2 2 0 0 1 2 1 0 1 2 2 1\n",
            " 2 0 1 0 1 0 1 2 0 1 1 1 0 0 1 1 0 0 0 2 1 0 1 0 0 0 0 1 2 2 0 1 2 2 1 1 1\n",
            " 0 0 0 1 2 2 0 1 0 1 0 0 1 1 2 1 1 1 1 2 0 2 1 1 0 1 1 0 1 2 2 1 0 2 1 0 1\n",
            " 2 2 1 1 1 1 0 0 0 1 1 0 1 2 1 0 0 1 0 3 0 2 0 0 0 3 0 3 0 2 0 0 1 1 2 1 1\n",
            " 0 1 0 1 0 0 1 2 3 1 1 2 1 0 0 1 0 2 0 0 1 0 2 1 0 0 0 1 1 3 1 1 1 0 0 0 1\n",
            " 1 2 1 2 1 0 2 2 2 0 1 1 1 1 2 1 0 1 1 0 3 1 1 0 1 1 1 2 1 1 2 2 2 0 2 1 1\n",
            " 1 1 2 1 3 1 0 1 1 0 1 1 2 0 1 2 2 0 0 1 0 1 0 1 2 0 0 0 2 2 2 1 0 1 1 2 2\n",
            " 1 1 2 0 1 1 1 1 0 1 1 0 0 0 1 1 2 2 1 0 0 1 0 2 2 0 2 1 0 1 3 0 0 1 1 1 2\n",
            " 1 1 1 1 0 0 0 2 1 1 0 0 2 1 1 1 1 1 2 1 1 2 0 1 2 1 1 1 1 1 0 0 0 1 1 0 1\n",
            " 3 1 0 1 3 0 0 0 1 0 0 1 1 1 1 0 1 0 1 2 1 1 0 3 1 1 2 1 1 2 1 2 1 0 1 0 1\n",
            " 1 0 0 1 0 1 3 0 0 1 0 0 0 1 1 1 1 1 1 0 1 1 1 0 1 1 2 0 2 0 0 1 1 1 0 2 2\n",
            " 2 2 1 0 1 0 0 1 2 1 3 2 1 1 1 3 0 1 0 2 1 2 1 1 1 1 2 1 2 1 1 0 0 0 2 2 1\n",
            " 1 2 1 0 2 0 0 2 1 1 2 1 0 0 2 1 1 1 0 1 1 1 0 0 1 0 1 1 2 0 1 1 1 1 0 2 1\n",
            " 0 1 1 1 0 2 2 0 0 1 0 2 1 1 0 0 0 1 1 2 1 1 0 1 1 1 2 2 0 1 0 1 1 1 1 1 0\n",
            " 0 0 1 1 1 1 0 1 1 2 0 0 1 1 1 1 0 1 1 2 1 2 0 3 0 0 1 0 1 2 0 2 3 0 1 1 2\n",
            " 2 1 1 1 0 2 2 2 0 1 0 1 2 0 0 1 1 1 1 0 1 1 2 1 2 0 2 1 1 0 2 0 0 0 0 2 2\n",
            " 2 3 2 0 0 2 2 0 1 0 1 1 2 1 0 1 2 0 1 2 0 2 0 1 1 0 2 1 0 2 2 0 0 3 2 0 2\n",
            " 1 1 0 0 0 0 1 2 2 0 2 2 0 1 1 1 1 0 1 0 1 1 2 1 1 2 0 0 1 0 1 1 0 2 0 0 1\n",
            " 1 0 1 1 1 0 0 0 2 2 0 1 0 2 0 2 1 2 2 1 0 2 2 1 0 0 0 2 1 1 1 2 1 1 1 0 1\n",
            " 1 1 1 0 0 0 0 0 0 0 1 2 1 0 0 1 0 1 0 1 1 0 2 1 1 0 2 0 0 1 1 1 1 2 2 0 1\n",
            " 0 0 1 1 1 1 1 0 1 0 0 1 1 1 1 1 2 2 1 1 0 1 0 1 1 2 1 1 1 2 0 0 0 0 1 1 2\n",
            " 1 2 3 1 1 1 2 1 1 2 1 2 0 2 3 0 2 2 1 0 1 0 1 1 1 1 1 1 1 0 0 2 0 1 1 1 0\n",
            " 3]\n"
          ],
          "name": "stdout"
        }
      ]
    },
    {
      "cell_type": "code",
      "metadata": {
        "colab": {
          "base_uri": "https://localhost:8080/",
          "height": 741
        },
        "id": "9D05Ba2l954P",
        "outputId": "43d2ea81-d276-457b-92ca-e81428a9c569"
      },
      "source": [
        "\n",
        "n, p = 3, 0.7\n",
        "size=1000     \n",
        "s = np.random.binomial(n, p, 1000)  # muestra del tamaño size con la cantidad de personas por cada tres que  votan por el candidato con p = 0.7\n",
        "plt.hist( s, weights = np.zeros_like(s)+1./size)\n",
        "plt.show()\n",
        "print(s)"
      ],
      "execution_count": 4,
      "outputs": [
        {
          "output_type": "display_data",
          "data": {
            "image/png": "[encoded data removed]",
            "text/plain": [
              "<Figure size 432x288 with 1 Axes>"
            ]
          },
          "metadata": {
            "tags": [],
            "needs_background": "light"
          }
        },
        {
          "output_type": "stream",
          "text": [
            "[2 1 2 1 2 3 1 3 3 2 1 2 2 1 2 3 1 2 2 3 2 3 2 1 0 3 2 3 1 2 3 3 0 2 2 3 2\n",
            " 2 2 2 2 1 3 0 2 1 3 1 3 3 3 2 3 3 2 2 3 2 3 1 2 3 3 2 1 2 3 3 2 2 3 2 1 2\n",
            " 1 2 2 1 2 1 3 2 2 1 2 2 3 2 1 1 3 3 3 1 1 1 3 0 2 3 3 2 2 2 3 2 2 2 3 2 2\n",
            " 3 3 3 2 1 3 3 2 1 2 2 3 2 3 3 3 3 3 1 2 2 2 2 2 3 2 1 3 2 3 2 2 2 1 3 3 3\n",
            " 1 2 3 3 2 3 2 2 2 3 2 2 2 2 2 2 1 2 3 1 1 3 3 2 0 1 2 3 2 1 2 3 1 3 2 1 0\n",
            " 0 2 1 3 1 3 1 3 2 2 1 0 1 3 2 2 2 2 3 2 2 1 3 1 2 2 3 3 3 1 3 3 2 2 3 3 3\n",
            " 1 3 1 2 2 2 2 3 3 3 1 1 2 3 2 3 2 3 3 2 1 2 2 2 2 2 3 3 3 3 0 3 3 3 2 2 1\n",
            " 2 3 1 3 3 3 1 1 2 1 2 2 2 2 3 2 2 1 1 3 2 3 3 3 2 2 0 2 2 3 2 2 2 2 2 1 1\n",
            " 3 2 1 2 1 2 1 2 2 2 2 2 3 3 3 3 1 3 2 2 2 3 2 3 0 2 2 3 2 0 2 2 2 2 3 1 2\n",
            " 2 1 2 1 1 2 2 2 3 3 3 2 3 3 3 2 3 3 1 3 2 2 2 3 3 2 2 3 2 2 2 1 1 2 2 2 2\n",
            " 2 3 2 2 3 2 1 2 2 3 2 1 2 3 2 2 2 3 2 3 1 3 1 1 2 2 2 2 0 2 1 3 2 3 0 2 2\n",
            " 2 2 3 1 2 2 2 3 3 2 2 3 2 0 2 2 2 3 2 3 1 2 3 2 1 1 3 2 3 3 2 2 3 1 1 3 1\n",
            " 2 1 3 3 3 1 2 2 2 3 2 2 3 3 3 2 3 1 1 2 3 3 3 0 1 2 2 2 2 3 1 2 2 3 1 2 2\n",
            " 3 3 1 3 3 2 2 2 3 1 0 3 2 2 1 2 2 1 1 2 1 2 2 1 2 3 1 3 3 3 1 2 2 1 2 1 2\n",
            " 3 1 3 2 3 2 2 3 1 2 3 2 2 3 2 1 1 3 2 1 2 2 1 2 3 3 1 2 2 2 2 2 2 3 3 3 1\n",
            " 3 2 2 2 2 2 3 2 2 1 2 2 3 2 2 1 2 2 1 3 2 2 2 1 3 2 2 3 1 3 2 3 2 3 3 2 1\n",
            " 3 1 2 3 1 2 1 1 3 3 1 2 3 3 2 2 3 2 2 2 3 2 2 3 1 2 3 2 2 1 3 2 2 3 3 1 3\n",
            " 2 2 2 2 2 1 3 1 2 2 2 3 1 3 3 3 0 2 3 3 3 2 3 3 3 2 3 3 2 1 2 1 1 1 0 2 2\n",
            " 2 2 2 1 3 2 2 3 2 3 3 3 2 2 2 2 3 3 3 3 1 3 3 2 2 1 3 3 3 2 2 1 2 3 2 2 0\n",
            " 3 2 1 2 0 3 2 1 3 1 3 2 3 1 1 3 1 3 2 3 3 1 3 3 1 2 3 3 3 3 2 2 2 3 2 3 2\n",
            " 2 3 2 1 3 1 3 3 2 2 3 3 3 2 2 1 2 3 2 1 2 1 1 3 1 2 3 1 3 2 3 2 3 3 2 1 2\n",
            " 3 2 3 2 2 3 2 2 1 1 3 2 3 3 2 3 2 1 1 1 2 1 3 1 2 2 1 3 1 3 3 2 3 3 2 1 2\n",
            " 1 2 3 1 2 2 1 2 1 3 2 3 2 3 3 3 1 3 2 2 2 0 2 2 3 2 2 3 2 2 2 2 1 2 3 1 2\n",
            " 3 2 3 3 1 2 3 3 3 2 3 2 3 2 2 3 3 1 1 2 3 3 1 3 3 1 2 2 2 2 1 3 2 3 0 2 2\n",
            " 2 1 2 2 1 3 3 2 3 2 3 2 1 1 3 2 3 1 3 2 1 2 3 3 2 1 0 3 3 3 2 3 1 0 2 3 3\n",
            " 3 3 2 2 3 3 2 3 1 2 3 1 2 2 3 1 2 3 3 3 3 3 2 2 3 3 0 2 2 2 2 0 3 2 2 2 2\n",
            " 1 2 1 2 1 2 3 3 2 1 1 2 3 2 2 0 2 0 3 2 1 3 1 3 1 3 3 2 2 3 3 2 2 3 3 2 3\n",
            " 3]\n"
          ],
          "name": "stdout"
        }
      ]
    },
    {
      "cell_type": "markdown",
      "metadata": {
        "id": "2Xvd3482_sBb"
      },
      "source": [
        "## Poisson cuando ${n \\to \\infty}$ \n",
        "### ${p \\to 0}$"
      ]
    },
    {
      "cell_type": "markdown",
      "metadata": {
        "id": "UDo0qR9r_Wcx"
      },
      "source": [
        "La distribución Poisson es la distribución de bernulli, para eventos raros, cuando hacemos suficientes experimientos"
      ]
    },
    {
      "cell_type": "code",
      "metadata": {
        "colab": {
          "base_uri": "https://localhost:8080/",
          "height": 316
        },
        "id": "8ZWtIud3-KB_",
        "outputId": "3039c0bd-5687-4944-c1b6-53498c0b3cba"
      },
      "source": [
        "\n",
        "n, p = 10000, 0.0001   \n",
        "size = 100000\n",
        "s = np.random.binomial(n, p, size)  # muestra del tamaño size con la cantidad de  personas por cada  10000 que tengan una enfermedad rara (p=0.0001)\n",
        "plt.hist( s, bins=30, weights = np.zeros_like(s)+1./size)\n",
        "plt.show()\n",
        "print(s[0:100])"
      ],
      "execution_count": 5,
      "outputs": [
        {
          "output_type": "display_data",
          "data": {
            "image/png": "[encoded data removed]",
            "text/plain": [
              "<Figure size 432x288 with 1 Axes>"
            ]
          },
          "metadata": {
            "tags": [],
            "needs_background": "light"
          }
        },
        {
          "output_type": "stream",
          "text": [
            "[0 2 2 1 0 0 2 2 0 1 1 0 3 0 1 1 1 1 3 1 0 1 0 2 1 1 0 1 0 1 1 0 0 1 2 0 2\n",
            " 0 0 1 1 1 1 2 2 2 0 0 1 2 1 0 2 3 1 0 0 3 0 0 2 0 0 1 3 0 2 2 0 3 0 3 0 0\n",
            " 2 0 0 0 0 2 0 0 0 1 0 0 1 2 0 0 0 3 0 1 2 1 2 1 0 1]\n"
          ],
          "name": "stdout"
        }
      ]
    },
    {
      "cell_type": "markdown",
      "metadata": {
        "id": "60eySuyfHT2x"
      },
      "source": [
        "###Distribución de Poisson\n",
        "\n",
        "\n",
        "$$f(i;\\lambda)= \\frac{{\\lambda}^{i}}{i!} e^{-\\lambda}$$  \n",
        "\n",
        "$$\\lambda= \\lim_{n \\to \\infty} (n\\: p)$$\n",
        "\n",
        "\n",
        "\n",
        "\n",
        "\n",
        "\n",
        "\n",
        "\n",
        "\n",
        "\n",
        "\n"
      ]
    },
    {
      "cell_type": "code",
      "metadata": {
        "colab": {
          "base_uri": "https://localhost:8080/"
        },
        "id": "7QaUUfn7LtmJ",
        "outputId": "04a2c1ab-92b3-432f-a54d-a3b26b77dbea"
      },
      "source": [
        "λ = n * p\n",
        "λ"
      ],
      "execution_count": 6,
      "outputs": [
        {
          "output_type": "execute_result",
          "data": {
            "text/plain": [
              "1.0"
            ]
          },
          "metadata": {
            "tags": []
          },
          "execution_count": 6
        }
      ]
    },
    {
      "cell_type": "markdown",
      "metadata": {
        "id": "GO5UUHTHXw3m"
      },
      "source": [
        ""
      ]
    },
    {
      "cell_type": "code",
      "metadata": {
        "colab": {
          "base_uri": "https://localhost:8080/",
          "height": 316
        },
        "id": "jf6ceAufMbHm",
        "outputId": "aa108d8e-9f1f-412b-f31c-51fae27f7dfb"
      },
      "source": [
        "λ = 1.0\n",
        "\n",
        "s = np.random.poisson(λ, size)  # muestra del tamaño size con la cantidad de  personas por cada  10000 que tengan una enfermedad (p=0.001)\n",
        "plt.hist( s, bins=30, weights = np.zeros_like(s)+1./size)\n",
        "plt.show()\n",
        "print(s[0:100])\n"
      ],
      "execution_count": 7,
      "outputs": [
        {
          "output_type": "display_data",
          "data": {
            "image/png": "[encoded data removed]",
            "text/plain": [
              "<Figure size 432x288 with 1 Axes>"
            ]
          },
          "metadata": {
            "tags": [],
            "needs_background": "light"
          }
        },
        {
          "output_type": "stream",
          "text": [
            "[1 0 1 0 0 2 3 4 0 1 0 0 1 2 1 3 2 1 2 0 0 0 2 1 0 1 1 1 1 2 1 0 0 2 3 2 3\n",
            " 2 0 1 1 2 1 1 1 0 1 1 0 3 1 0 1 0 1 2 1 2 1 0 1 1 0 1 0 1 1 1 2 0 2 2 1 0\n",
            " 0 1 2 0 3 0 2 0 1 0 1 3 1 0 1 2 0 1 0 0 1 1 1 3 0 3]\n"
          ],
          "name": "stdout"
        }
      ]
    }
  ]
}