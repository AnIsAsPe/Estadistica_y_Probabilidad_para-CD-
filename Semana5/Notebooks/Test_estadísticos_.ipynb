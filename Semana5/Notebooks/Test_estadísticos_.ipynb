{
  "nbformat": 4,
  "nbformat_minor": 0,
  "metadata": {
    "colab": {
      "name": "Test_estadísticos .ipynb",
      "provenance": [],
      "collapsed_sections": [],
      "toc_visible": true,
      "mount_file_id": "https://github.com/AnIsAsPe/Estadistica_y_Probabilidad_para-CD-/blob/main/Semana5/Test_estad%C3%ADsticos_.ipynb",
      "authorship_tag": "ABX9TyOEOZC4IoMFk19x3n+u0QCJ",
      "include_colab_link": true
    },
    "kernelspec": {
      "name": "python3",
      "display_name": "Python 3"
    }
  },
  "cells": [
    {
      "cell_type": "markdown",
      "metadata": {
        "id": "view-in-github",
        "colab_type": "text"
      },
      "source": [
        "<a href=\"https://colab.research.google.com/github/AnIsAsPe/Estadistica_y_Probabilidad_para-CD-/blob/main/Semana5/Test_estad%C3%ADsticos_.ipynb\" target=\"_parent\"><img src=\"https://colab.research.google.com/assets/colab-badge.svg\" alt=\"Open In Colab\"/></a>"
      ]
    },
    {
      "cell_type": "markdown",
      "metadata": {
        "id": "8-2io6qfdvhP"
      },
      "source": [
        "#Bibliotecas"
      ]
    },
    {
      "cell_type": "code",
      "metadata": {
        "id": "hqT8wVN6-CBk"
      },
      "source": [
        "import numpy as np\n",
        "import pandas as pd\n",
        "from scipy import stats\n",
        "from matplotlib import pyplot as plt\n",
        "import seaborn as sns"
      ],
      "execution_count": 1,
      "outputs": []
    },
    {
      "cell_type": "markdown",
      "metadata": {
        "id": "57bNo4VSJzCc"
      },
      "source": [
        "## Distribución Chi Cuadrada \n",
        "\n",
        "La distribución Chi cuadrada es el resultado de la suma del cuadrado de distintas variables iid con distribución normal estandarizada"
      ]
    },
    {
      "cell_type": "code",
      "metadata": {
        "id": "qTDzFXOyK58U",
        "colab": {
          "base_uri": "https://localhost:8080/",
          "height": 265
        },
        "outputId": "dc9f9afc-89d7-41e4-92e5-abfde0753640"
      },
      "source": [
        "var_iid_gauss = {}        # diccionario que guarda variables aleatorias iid con distribución normal estandarizada \n",
        "r = 100                     # cantidad de variables iid\n",
        "size = 100000           # número de observaciones en cada variable\n",
        "\n",
        "ji = np.zeros(size)          # vector que guardara la suma de var_iid_gauss al cuadrado\n",
        "\n",
        "for i in range(1, r+1):\n",
        "  var_iid_gauss[i] = np.random.normal( 0, 1, size)  # generamos variable aleatoria a partir de una distribución normal estandar de tamaño n\n",
        "  ji += (var_iid_gauss[i]**2)\n",
        "\n",
        "plt.hist(ji,   weights = np.ones_like(ji)/size, bins=25)\n",
        "plt.show()"
      ],
      "execution_count": 5,
      "outputs": [
        {
          "output_type": "display_data",
          "data": {
            "image/png": "[encoded data removed]",
            "text/plain": [
              "<Figure size 432x288 with 1 Axes>"
            ]
          },
          "metadata": {
            "tags": [],
            "needs_background": "light"
          }
        }
      ]
    },
    {
      "cell_type": "code",
      "metadata": {
        "colab": {
          "base_uri": "https://localhost:8080/",
          "height": 265
        },
        "id": "CNj5fsyNtrk8",
        "outputId": "b54cb071-b8da-4095-bacf-9df3bb10eebd"
      },
      "source": [
        "s =np.random.chisquare(r, size)\n",
        "plt.hist(s,   weights = np.ones_like(ji)/size, bins=25)\n",
        "plt.show()"
      ],
      "execution_count": 6,
      "outputs": [
        {
          "output_type": "display_data",
          "data": {
            "image/png": "[encoded data removed]",
            "text/plain": [
              "<Figure size 432x288 with 1 Axes>"
            ]
          },
          "metadata": {
            "tags": [],
            "needs_background": "light"
          }
        }
      ]
    },
    {
      "cell_type": "code",
      "metadata": {
        "id": "ojZblQ_F-Lec"
      },
      "source": [
        "def grafica_chi_cuadrada(a, b, c, d):\n",
        "  ''''grafica la función de densidad de la distrtibución chi cuadrada para \n",
        "  los grados de libertad especificados en los parametros de entrada a, b, c y d)'''\n",
        "\n",
        "  fig,ax = plt.subplots(1, 1)\n",
        "  plt.xlim(0, 10)\n",
        "  plt.ylim(0, .35)\n",
        "  plt.xlabel('valores')\n",
        "  plt.ylabel('frecuencia')\n",
        "  plt.title('Distribución Chi cuadrada')\n",
        "\n",
        "  x = np.linspace(0, 10, 100)\n",
        "  grados_libertad = [a, b, c, d]\n",
        "  linestyles = [':', '--', '-.', '-']\n",
        "\n",
        "  for r, ls in zip(grados_libertad, linestyles):\n",
        "    pdf = stats.chi2.pdf(x, r)                    # función de densidad chi2, para r grados de libertad\n",
        "    ax.plot(x, pdf,  linestyle=ls)\n",
        "\n",
        "  plt.legend(grados_libertad)\n",
        "  plt.show()"
      ],
      "execution_count": 7,
      "outputs": []
    },
    {
      "cell_type": "code",
      "metadata": {
        "colab": {
          "base_uri": "https://localhost:8080/",
          "height": 295
        },
        "id": "6Yb1LajGpdHi",
        "outputId": "f2fae07c-b1e9-4cf5-bdb1-c49db38104dc"
      },
      "source": [
        "grafica_chi_cuadrada(6, 7, 12, 20)"
      ],
      "execution_count": 9,
      "outputs": [
        {
          "output_type": "display_data",
          "data": {
            "image/png": "[encoded data removed]",
            "text/plain": [
              "<Figure size 432x288 with 1 Axes>"
            ]
          },
          "metadata": {
            "tags": [],
            "needs_background": "light"
          }
        }
      ]
    },
    {
      "cell_type": "markdown",
      "metadata": {
        "id": "DPk4Puddkrya"
      },
      "source": [
        "# Prueba de bondad de ajuste  $\\chi^2$ de Pearson"
      ]
    },
    {
      "cell_type": "markdown",
      "metadata": {
        "id": "P-Aft6kpNS6P"
      },
      "source": [
        "## Ejemplo:\n",
        "\n",
        "Geisser realizó un estudio en 1889 de la distribución de hijos e hijas en las familias en Saxony con 12 hijos.\n",
        "Se deseaba probar que la probabilidad de tener un hijo varon  es de 0.52\n"
      ]
    },
    {
      "cell_type": "code",
      "metadata": {
        "id": "U_lEyNGtNR5q",
        "colab": {
          "base_uri": "https://localhost:8080/",
          "height": 452
        },
        "outputId": "1ed12671-9f66-41a7-8a26-c106dc53fe28"
      },
      "source": [
        "datos = pd.read_csv('https://www.stat.berkeley.edu/~rice/Stat135/geissler.txt')\n",
        "datos.columns=['hijos_h','frec_observada']\n",
        "datos"
      ],
      "execution_count": 10,
      "outputs": [
        {
          "output_type": "execute_result",
          "data": {
            "text/html": [
              "<div>\n",
              "<style scoped>\n",
              "    .dataframe tbody tr th:only-of-type {\n",
              "        vertical-align: middle;\n",
              "    }\n",
              "\n",
              "    .dataframe tbody tr th {\n",
              "        vertical-align: top;\n",
              "    }\n",
              "\n",
              "    .dataframe thead th {\n",
              "        text-align: right;\n",
              "    }\n",
              "</style>\n",
              "<table border=\"1\" class=\"dataframe\">\n",
              "  <thead>\n",
              "    <tr style=\"text-align: right;\">\n",
              "      <th></th>\n",
              "      <th>hijos_h</th>\n",
              "      <th>frec_observada</th>\n",
              "    </tr>\n",
              "  </thead>\n",
              "  <tbody>\n",
              "    <tr>\n",
              "      <th>0</th>\n",
              "      <td>0</td>\n",
              "      <td>7</td>\n",
              "    </tr>\n",
              "    <tr>\n",
              "      <th>1</th>\n",
              "      <td>1</td>\n",
              "      <td>45</td>\n",
              "    </tr>\n",
              "    <tr>\n",
              "      <th>2</th>\n",
              "      <td>2</td>\n",
              "      <td>181</td>\n",
              "    </tr>\n",
              "    <tr>\n",
              "      <th>3</th>\n",
              "      <td>3</td>\n",
              "      <td>478</td>\n",
              "    </tr>\n",
              "    <tr>\n",
              "      <th>4</th>\n",
              "      <td>4</td>\n",
              "      <td>829</td>\n",
              "    </tr>\n",
              "    <tr>\n",
              "      <th>5</th>\n",
              "      <td>5</td>\n",
              "      <td>1112</td>\n",
              "    </tr>\n",
              "    <tr>\n",
              "      <th>6</th>\n",
              "      <td>6</td>\n",
              "      <td>1343</td>\n",
              "    </tr>\n",
              "    <tr>\n",
              "      <th>7</th>\n",
              "      <td>7</td>\n",
              "      <td>1033</td>\n",
              "    </tr>\n",
              "    <tr>\n",
              "      <th>8</th>\n",
              "      <td>8</td>\n",
              "      <td>670</td>\n",
              "    </tr>\n",
              "    <tr>\n",
              "      <th>9</th>\n",
              "      <td>9</td>\n",
              "      <td>286</td>\n",
              "    </tr>\n",
              "    <tr>\n",
              "      <th>10</th>\n",
              "      <td>10</td>\n",
              "      <td>104</td>\n",
              "    </tr>\n",
              "    <tr>\n",
              "      <th>11</th>\n",
              "      <td>11</td>\n",
              "      <td>24</td>\n",
              "    </tr>\n",
              "    <tr>\n",
              "      <th>12</th>\n",
              "      <td>12</td>\n",
              "      <td>3</td>\n",
              "    </tr>\n",
              "  </tbody>\n",
              "</table>\n",
              "</div>"
            ],
            "text/plain": [
              "    hijos_h  frec_observada\n",
              "0         0               7\n",
              "1         1              45\n",
              "2         2             181\n",
              "3         3             478\n",
              "4         4             829\n",
              "5         5            1112\n",
              "6         6            1343\n",
              "7         7            1033\n",
              "8         8             670\n",
              "9         9             286\n",
              "10       10             104\n",
              "11       11              24\n",
              "12       12               3"
            ]
          },
          "metadata": {
            "tags": []
          },
          "execution_count": 10
        }
      ]
    },
    {
      "cell_type": "code",
      "metadata": {
        "id": "BbVYkiWlOf8Z",
        "colab": {
          "base_uri": "https://localhost:8080/"
        },
        "outputId": "9ce9fe48-c05a-4845-a3c8-80c4907dd81b"
      },
      "source": [
        "n = datos.frec_observada.sum()\n",
        "n"
      ],
      "execution_count": 11,
      "outputs": [
        {
          "output_type": "execute_result",
          "data": {
            "text/plain": [
              "6115"
            ]
          },
          "metadata": {
            "tags": []
          },
          "execution_count": 11
        }
      ]
    },
    {
      "cell_type": "code",
      "metadata": {
        "colab": {
          "base_uri": "https://localhost:8080/",
          "height": 285
        },
        "id": "pxrnqf3Zzy_u",
        "outputId": "9cb47e32-c025-4a33-f813-0e4bb2d20e9c"
      },
      "source": [
        "(datos.frec_observada/n).plot.bar()"
      ],
      "execution_count": 12,
      "outputs": [
        {
          "output_type": "execute_result",
          "data": {
            "text/plain": [
              "<matplotlib.axes._subplots.AxesSubplot at 0x7fce4576ec90>"
            ]
          },
          "metadata": {
            "tags": []
          },
          "execution_count": 12
        },
        {
          "output_type": "display_data",
          "data": {
            "image/png": "[encoded data removed]",
            "text/plain": [
              "<Figure size 432x288 with 1 Axes>"
            ]
          },
          "metadata": {
            "tags": [],
            "needs_background": "light"
          }
        }
      ]
    },
    {
      "cell_type": "markdown",
      "metadata": {
        "id": "PU0vfciwQoDo"
      },
      "source": [
        "\n",
        "Hipotesis nula:\n",
        "- la Ley de Probabilidad sigue una distribución Binomial (12, 0.52) \n",
        "(número de éxitos r en n eventos independientes sucesivos)\n",
        "\n",
        "Hipotesis alternativa:\n",
        "- La Ley de Probabilidad es cualquier otra"
      ]
    },
    {
      "cell_type": "code",
      "metadata": {
        "colab": {
          "base_uri": "https://localhost:8080/"
        },
        "id": "qGiq-03G01WK",
        "outputId": "f96b04d9-69ab-4551-e4e3-865a8e8d0df3"
      },
      "source": [
        "k = 0\n",
        "stats.binom.pmf(k, 12, .52)  #frecuencia esperada con la distribución binomial para cada posible resultado"
      ],
      "execution_count": 14,
      "outputs": [
        {
          "output_type": "execute_result",
          "data": {
            "text/plain": [
              "0.0001495873430980876"
            ]
          },
          "metadata": {
            "tags": []
          },
          "execution_count": 14
        }
      ]
    },
    {
      "cell_type": "code",
      "metadata": {
        "id": "myLe_mkvSq3y",
        "colab": {
          "base_uri": "https://localhost:8080/",
          "height": 452
        },
        "outputId": "f614b230-0548-47c2-bba3-26b4c83da49d"
      },
      "source": [
        "## Valores esperados de la hipotesis nula\n",
        "frec_esperada=[]\n",
        "for k in range(0,13):\n",
        "  f_e= stats.binom.pmf(k, 12, .52) * n     # frecuencia esperada\n",
        "  frec_esperada.append(int(round(f_e,0)))\n",
        "\n",
        "datos['frec_esperada']=pd.Series(frec_esperada)\n",
        "datos"
      ],
      "execution_count": 15,
      "outputs": [
        {
          "output_type": "execute_result",
          "data": {
            "text/html": [
              "<div>\n",
              "<style scoped>\n",
              "    .dataframe tbody tr th:only-of-type {\n",
              "        vertical-align: middle;\n",
              "    }\n",
              "\n",
              "    .dataframe tbody tr th {\n",
              "        vertical-align: top;\n",
              "    }\n",
              "\n",
              "    .dataframe thead th {\n",
              "        text-align: right;\n",
              "    }\n",
              "</style>\n",
              "<table border=\"1\" class=\"dataframe\">\n",
              "  <thead>\n",
              "    <tr style=\"text-align: right;\">\n",
              "      <th></th>\n",
              "      <th>hijos_h</th>\n",
              "      <th>frec_observada</th>\n",
              "      <th>frec_esperada</th>\n",
              "    </tr>\n",
              "  </thead>\n",
              "  <tbody>\n",
              "    <tr>\n",
              "      <th>0</th>\n",
              "      <td>0</td>\n",
              "      <td>7</td>\n",
              "      <td>1</td>\n",
              "    </tr>\n",
              "    <tr>\n",
              "      <th>1</th>\n",
              "      <td>1</td>\n",
              "      <td>45</td>\n",
              "      <td>12</td>\n",
              "    </tr>\n",
              "    <tr>\n",
              "      <th>2</th>\n",
              "      <td>2</td>\n",
              "      <td>181</td>\n",
              "      <td>71</td>\n",
              "    </tr>\n",
              "    <tr>\n",
              "      <th>3</th>\n",
              "      <td>3</td>\n",
              "      <td>478</td>\n",
              "      <td>256</td>\n",
              "    </tr>\n",
              "    <tr>\n",
              "      <th>4</th>\n",
              "      <td>4</td>\n",
              "      <td>829</td>\n",
              "      <td>624</td>\n",
              "    </tr>\n",
              "    <tr>\n",
              "      <th>5</th>\n",
              "      <td>5</td>\n",
              "      <td>1112</td>\n",
              "      <td>1081</td>\n",
              "    </tr>\n",
              "    <tr>\n",
              "      <th>6</th>\n",
              "      <td>6</td>\n",
              "      <td>1343</td>\n",
              "      <td>1366</td>\n",
              "    </tr>\n",
              "    <tr>\n",
              "      <th>7</th>\n",
              "      <td>7</td>\n",
              "      <td>1033</td>\n",
              "      <td>1269</td>\n",
              "    </tr>\n",
              "    <tr>\n",
              "      <th>8</th>\n",
              "      <td>8</td>\n",
              "      <td>670</td>\n",
              "      <td>859</td>\n",
              "    </tr>\n",
              "    <tr>\n",
              "      <th>9</th>\n",
              "      <td>9</td>\n",
              "      <td>286</td>\n",
              "      <td>414</td>\n",
              "    </tr>\n",
              "    <tr>\n",
              "      <th>10</th>\n",
              "      <td>10</td>\n",
              "      <td>104</td>\n",
              "      <td>134</td>\n",
              "    </tr>\n",
              "    <tr>\n",
              "      <th>11</th>\n",
              "      <td>11</td>\n",
              "      <td>24</td>\n",
              "      <td>26</td>\n",
              "    </tr>\n",
              "    <tr>\n",
              "      <th>12</th>\n",
              "      <td>12</td>\n",
              "      <td>3</td>\n",
              "      <td>2</td>\n",
              "    </tr>\n",
              "  </tbody>\n",
              "</table>\n",
              "</div>"
            ],
            "text/plain": [
              "    hijos_h  frec_observada  frec_esperada\n",
              "0         0               7              1\n",
              "1         1              45             12\n",
              "2         2             181             71\n",
              "3         3             478            256\n",
              "4         4             829            624\n",
              "5         5            1112           1081\n",
              "6         6            1343           1366\n",
              "7         7            1033           1269\n",
              "8         8             670            859\n",
              "9         9             286            414\n",
              "10       10             104            134\n",
              "11       11              24             26\n",
              "12       12               3              2"
            ]
          },
          "metadata": {
            "tags": []
          },
          "execution_count": 15
        }
      ]
    },
    {
      "cell_type": "code",
      "metadata": {
        "id": "WLnpq3xIOKMP",
        "colab": {
          "base_uri": "https://localhost:8080/",
          "height": 337
        },
        "outputId": "062e5823-d25b-403b-cd9a-058883644c90"
      },
      "source": [
        "variables= ['frec_observada', 'frec_esperada']\n",
        "fig, ax = plt.subplots(1,2, figsize=(12, 5))\n",
        "for var, subplot in zip(variables, ax.flatten()):\n",
        "  sns.barplot(x='hijos_h', y=var, data = datos, ax= subplot)\n",
        "plt.show()"
      ],
      "execution_count": 16,
      "outputs": [
        {
          "output_type": "display_data",
          "data": {
            "image/png": "[encoded data removed]",
            "text/plain": [
              "<Figure size 864x360 with 2 Axes>"
            ]
          },
          "metadata": {
            "tags": [],
            "needs_background": "light"
          }
        }
      ]
    },
    {
      "cell_type": "markdown",
      "metadata": {
        "id": "SQOKqo47eAHr"
      },
      "source": [
        "## test_chi_cuadrada()"
      ]
    },
    {
      "cell_type": "code",
      "metadata": {
        "colab": {
          "base_uri": "https://localhost:8080/",
          "height": 265
        },
        "id": "hPIy1jX5zxQk",
        "outputId": "e79a4c2b-9318-4829-8663-733414a958b7"
      },
      "source": [
        "gl=12 # grados de libertad\n",
        "x = np.linspace(0, 40, 100)\n",
        "pdf = stats.chi2.pdf(x, gl)                    # función de densidad chi2, para r grados de libertad\n",
        "plt.plot(x, pdf)\n",
        "plt.show()"
      ],
      "execution_count": 17,
      "outputs": [
        {
          "output_type": "display_data",
          "data": {
            "image/png": "[encoded data removed]",
            "text/plain": [
              "<Figure size 432x288 with 1 Axes>"
            ]
          },
          "metadata": {
            "tags": [],
            "needs_background": "light"
          }
        }
      ]
    },
    {
      "cell_type": "code",
      "metadata": {
        "id": "6j-oLoda-ISj"
      },
      "source": [
        "gl = 12      # grados de libertad\n",
        "alfa = 0.05  # nivel de significancia\n",
        "\n",
        "x = stats.chi2.ppf(1 - alfa , gl)  # valor crítico"
      ],
      "execution_count": 18,
      "outputs": []
    },
    {
      "cell_type": "code",
      "metadata": {
        "id": "MC9uN-K_dJLd",
        "outputId": "87f708c8-7c51-473b-9d87-4fc4ad4b78fb",
        "colab": {
          "base_uri": "https://localhost:8080/"
        }
      },
      "source": [
        "x"
      ],
      "execution_count": 19,
      "outputs": [
        {
          "output_type": "execute_result",
          "data": {
            "text/plain": [
              "21.02606981748307"
            ]
          },
          "metadata": {
            "tags": []
          },
          "execution_count": 19
        }
      ]
    },
    {
      "cell_type": "markdown",
      "metadata": {
        "id": "05GHcB8CunXG"
      },
      "source": [
        "![tabla chi cuadrada](https://d20ohkaloyme4g.cloudfront.net/img/document_thumbnails/d4e586470f42dcf4c1e7fd6cfa08f31a/thumb_1200_848.png)"
      ]
    },
    {
      "cell_type": "code",
      "metadata": {
        "id": "Lcuhnc-_d6HO",
        "outputId": "33bcff21-7028-4086-d8dd-b9bd06b263fa",
        "colab": {
          "base_uri": "https://localhost:8080/"
        }
      },
      "source": [
        "len(datos['frec_observada'])"
      ],
      "execution_count": 22,
      "outputs": [
        {
          "output_type": "execute_result",
          "data": {
            "text/plain": [
              "13"
            ]
          },
          "metadata": {
            "tags": []
          },
          "execution_count": 22
        }
      ]
    },
    {
      "cell_type": "code",
      "metadata": {
        "id": "6HlSlOYSXYsC"
      },
      "source": [
        "def bondad_ajuste_Pearson(observados, esperados,  alfa = 0.05):\n",
        "    \"\"\"Test de Pearson de bondad de ajuste\"\"\"\n",
        "    estadistico_test = 0  \n",
        "    for observado, esperado in zip(observados,esperados):\n",
        "        error = observado - esperado\n",
        "        estadistico_test += pow(error, 2) / esperado\n",
        "    gl = len(observados) - 1\n",
        "    valor_critico = stats.chi2.ppf(1-alfa , gl)\n",
        "\n",
        "    if estadistico_test <= valor_critico:\n",
        "      print(\"El estadístico de la prueba NO está en la región de rechazo\")\n",
        "    else:\n",
        "      print(\"El estadístico de la prueba está en la región de rechazo\")\n",
        "\n",
        "    print(\"\\nTest Chi-squared  estadístico = {:.3f}\".format(estadistico_test))\n",
        "    print(\"Valor crítico P-value para 0.05 de significancia is {:.3f}.\".format(valor_critico))    \n"
      ],
      "execution_count": 23,
      "outputs": []
    },
    {
      "cell_type": "code",
      "metadata": {
        "id": "Yi6z7HLSdE_k",
        "colab": {
          "base_uri": "https://localhost:8080/"
        },
        "outputId": "d1dd2134-a7cd-4509-b032-15af4d188128"
      },
      "source": [
        "bondad_ajuste_Pearson(datos['frec_observada'], datos['frec_esperada'], 0.05)"
      ],
      "execution_count": 24,
      "outputs": [
        {
          "output_type": "stream",
          "text": [
            "El estadístico de la prueba está en la región de rechazo\n",
            "\n",
            "Test Chi-squared  estadístico = 690.731\n",
            "Valor crítico P-value para 0.05 de significancia is 21.026.\n"
          ],
          "name": "stdout"
        }
      ]
    },
    {
      "cell_type": "code",
      "metadata": {
        "id": "r6cSNN0IZI-k",
        "colab": {
          "base_uri": "https://localhost:8080/"
        },
        "outputId": "524e4d49-d877-4809-efd5-19bf0beee529"
      },
      "source": [
        "stats.chisquare(datos['frec_observada'], datos['frec_esperada'], ddof=12 )"
      ],
      "execution_count": 25,
      "outputs": [
        {
          "output_type": "execute_result",
          "data": {
            "text/plain": [
              "Power_divergenceResult(statistic=690.7313910429208, pvalue=nan)"
            ]
          },
          "metadata": {
            "tags": []
          },
          "execution_count": 25
        }
      ]
    },
    {
      "cell_type": "markdown",
      "metadata": {
        "id": "bvG7JS1xMMPP"
      },
      "source": [
        "# Prueba $\\chi^2$ de independencia  "
      ]
    },
    {
      "cell_type": "code",
      "metadata": {
        "colab": {
          "base_uri": "https://localhost:8080/",
          "height": 204
        },
        "id": "VOZfUzkqMMPV",
        "outputId": "4e4aa824-4a03-49d2-a6fd-c22e7f80a2f5"
      },
      "source": [
        "df = pd.read_csv('https://raw.githubusercontent.com/AnIsAsPe/ClasificadorClientesTelecom/master/Datos/WA_Fn-UseC_-Telco-Customer-Churn.csv', \n",
        "                 usecols=['PaymentMethod', 'Contract', 'gender']\n",
        "                 )\n",
        "df.head()"
      ],
      "execution_count": 27,
      "outputs": [
        {
          "output_type": "execute_result",
          "data": {
            "text/html": [
              "<div>\n",
              "<style scoped>\n",
              "    .dataframe tbody tr th:only-of-type {\n",
              "        vertical-align: middle;\n",
              "    }\n",
              "\n",
              "    .dataframe tbody tr th {\n",
              "        vertical-align: top;\n",
              "    }\n",
              "\n",
              "    .dataframe thead th {\n",
              "        text-align: right;\n",
              "    }\n",
              "</style>\n",
              "<table border=\"1\" class=\"dataframe\">\n",
              "  <thead>\n",
              "    <tr style=\"text-align: right;\">\n",
              "      <th></th>\n",
              "      <th>gender</th>\n",
              "      <th>Contract</th>\n",
              "      <th>PaymentMethod</th>\n",
              "    </tr>\n",
              "  </thead>\n",
              "  <tbody>\n",
              "    <tr>\n",
              "      <th>0</th>\n",
              "      <td>Female</td>\n",
              "      <td>Month-to-month</td>\n",
              "      <td>Electronic check</td>\n",
              "    </tr>\n",
              "    <tr>\n",
              "      <th>1</th>\n",
              "      <td>Male</td>\n",
              "      <td>One year</td>\n",
              "      <td>Mailed check</td>\n",
              "    </tr>\n",
              "    <tr>\n",
              "      <th>2</th>\n",
              "      <td>Male</td>\n",
              "      <td>Month-to-month</td>\n",
              "      <td>Mailed check</td>\n",
              "    </tr>\n",
              "    <tr>\n",
              "      <th>3</th>\n",
              "      <td>Male</td>\n",
              "      <td>One year</td>\n",
              "      <td>Bank transfer (automatic)</td>\n",
              "    </tr>\n",
              "    <tr>\n",
              "      <th>4</th>\n",
              "      <td>Female</td>\n",
              "      <td>Month-to-month</td>\n",
              "      <td>Electronic check</td>\n",
              "    </tr>\n",
              "  </tbody>\n",
              "</table>\n",
              "</div>"
            ],
            "text/plain": [
              "   gender        Contract              PaymentMethod\n",
              "0  Female  Month-to-month           Electronic check\n",
              "1    Male        One year               Mailed check\n",
              "2    Male  Month-to-month               Mailed check\n",
              "3    Male        One year  Bank transfer (automatic)\n",
              "4  Female  Month-to-month           Electronic check"
            ]
          },
          "metadata": {
            "tags": []
          },
          "execution_count": 27
        }
      ]
    },
    {
      "cell_type": "code",
      "metadata": {
        "colab": {
          "base_uri": "https://localhost:8080/",
          "height": 204
        },
        "id": "O5bhL3vaO-Ny",
        "outputId": "225dcaea-9b00-47fa-f0b5-01d1e70e6621"
      },
      "source": [
        "observados = pd.crosstab(df['PaymentMethod'], df['Contract'])\n",
        "observados"
      ],
      "execution_count": 30,
      "outputs": [
        {
          "output_type": "execute_result",
          "data": {
            "text/html": [
              "<div>\n",
              "<style scoped>\n",
              "    .dataframe tbody tr th:only-of-type {\n",
              "        vertical-align: middle;\n",
              "    }\n",
              "\n",
              "    .dataframe tbody tr th {\n",
              "        vertical-align: top;\n",
              "    }\n",
              "\n",
              "    .dataframe thead th {\n",
              "        text-align: right;\n",
              "    }\n",
              "</style>\n",
              "<table border=\"1\" class=\"dataframe\">\n",
              "  <thead>\n",
              "    <tr style=\"text-align: right;\">\n",
              "      <th>Contract</th>\n",
              "      <th>Month-to-month</th>\n",
              "      <th>One year</th>\n",
              "      <th>Two year</th>\n",
              "    </tr>\n",
              "    <tr>\n",
              "      <th>PaymentMethod</th>\n",
              "      <th></th>\n",
              "      <th></th>\n",
              "      <th></th>\n",
              "    </tr>\n",
              "  </thead>\n",
              "  <tbody>\n",
              "    <tr>\n",
              "      <th>Bank transfer (automatic)</th>\n",
              "      <td>589</td>\n",
              "      <td>391</td>\n",
              "      <td>564</td>\n",
              "    </tr>\n",
              "    <tr>\n",
              "      <th>Credit card (automatic)</th>\n",
              "      <td>543</td>\n",
              "      <td>398</td>\n",
              "      <td>581</td>\n",
              "    </tr>\n",
              "    <tr>\n",
              "      <th>Electronic check</th>\n",
              "      <td>1850</td>\n",
              "      <td>347</td>\n",
              "      <td>168</td>\n",
              "    </tr>\n",
              "    <tr>\n",
              "      <th>Mailed check</th>\n",
              "      <td>893</td>\n",
              "      <td>337</td>\n",
              "      <td>382</td>\n",
              "    </tr>\n",
              "  </tbody>\n",
              "</table>\n",
              "</div>"
            ],
            "text/plain": [
              "Contract                   Month-to-month  One year  Two year\n",
              "PaymentMethod                                                \n",
              "Bank transfer (automatic)             589       391       564\n",
              "Credit card (automatic)               543       398       581\n",
              "Electronic check                     1850       347       168\n",
              "Mailed check                          893       337       382"
            ]
          },
          "metadata": {
            "tags": []
          },
          "execution_count": 30
        }
      ]
    },
    {
      "cell_type": "markdown",
      "metadata": {
        "id": "m8AkK66PMMPW"
      },
      "source": [
        "\n",
        "Hipotesis nula:\n",
        "- Las variables son independientes\n",
        "\n",
        "Hipotesis alternativa:\n",
        "- Las variables son dependientes\n",
        "\n"
      ]
    },
    {
      "cell_type": "code",
      "metadata": {
        "colab": {
          "base_uri": "https://localhost:8080/",
          "height": 204
        },
        "id": "JKTF6D7WeXlb",
        "outputId": "17995df7-2975-484d-c15e-3e8ddb3249a4"
      },
      "source": [
        "esperados = pd.DataFrame().reindex_like(observados)\n",
        "renglones, columnas = observados.shape\n",
        "for i in range(renglones):\n",
        "    for j in range(columnas):\n",
        "      esperados.iloc[i, j] = observados.iloc[i,:].sum()*observados.iloc[:, j].sum()/ observados.sum().sum()\n",
        "esperados"
      ],
      "execution_count": 31,
      "outputs": [
        {
          "output_type": "execute_result",
          "data": {
            "text/html": [
              "<div>\n",
              "<style scoped>\n",
              "    .dataframe tbody tr th:only-of-type {\n",
              "        vertical-align: middle;\n",
              "    }\n",
              "\n",
              "    .dataframe tbody tr th {\n",
              "        vertical-align: top;\n",
              "    }\n",
              "\n",
              "    .dataframe thead th {\n",
              "        text-align: right;\n",
              "    }\n",
              "</style>\n",
              "<table border=\"1\" class=\"dataframe\">\n",
              "  <thead>\n",
              "    <tr style=\"text-align: right;\">\n",
              "      <th>Contract</th>\n",
              "      <th>Month-to-month</th>\n",
              "      <th>One year</th>\n",
              "      <th>Two year</th>\n",
              "    </tr>\n",
              "    <tr>\n",
              "      <th>PaymentMethod</th>\n",
              "      <th></th>\n",
              "      <th></th>\n",
              "      <th></th>\n",
              "    </tr>\n",
              "  </thead>\n",
              "  <tbody>\n",
              "    <tr>\n",
              "      <th>Bank transfer (automatic)</th>\n",
              "      <td>849.495953</td>\n",
              "      <td>322.918075</td>\n",
              "      <td>371.585972</td>\n",
              "    </tr>\n",
              "    <tr>\n",
              "      <th>Credit card (automatic)</th>\n",
              "      <td>837.391736</td>\n",
              "      <td>318.316910</td>\n",
              "      <td>366.291353</td>\n",
              "    </tr>\n",
              "    <tr>\n",
              "      <th>Electronic check</th>\n",
              "      <td>1301.203322</td>\n",
              "      <td>494.625160</td>\n",
              "      <td>569.171518</td>\n",
              "    </tr>\n",
              "    <tr>\n",
              "      <th>Mailed check</th>\n",
              "      <td>886.908988</td>\n",
              "      <td>337.139855</td>\n",
              "      <td>387.951157</td>\n",
              "    </tr>\n",
              "  </tbody>\n",
              "</table>\n",
              "</div>"
            ],
            "text/plain": [
              "Contract                   Month-to-month    One year    Two year\n",
              "PaymentMethod                                                    \n",
              "Bank transfer (automatic)      849.495953  322.918075  371.585972\n",
              "Credit card (automatic)        837.391736  318.316910  366.291353\n",
              "Electronic check              1301.203322  494.625160  569.171518\n",
              "Mailed check                   886.908988  337.139855  387.951157"
            ]
          },
          "metadata": {
            "tags": []
          },
          "execution_count": 31
        }
      ]
    },
    {
      "cell_type": "markdown",
      "metadata": {
        "id": "BTTDqPn8hqiL"
      },
      "source": [
        "$estadístico_{test} = \\sum\\frac{(Observado-Esperado)^2}{Esperado}$"
      ]
    },
    {
      "cell_type": "code",
      "metadata": {
        "colab": {
          "base_uri": "https://localhost:8080/"
        },
        "id": "5XrmJcVwcM1g",
        "outputId": "88dc2cf7-f86d-4d5e-8841-570da444753c"
      },
      "source": [
        "estadistico_test = (pow((observados - esperados),2)/esperados).sum().sum()\n",
        "estadistico_test"
      ],
      "execution_count": 32,
      "outputs": [
        {
          "output_type": "execute_result",
          "data": {
            "text/plain": [
              "1001.5815711333701"
            ]
          },
          "metadata": {
            "tags": []
          },
          "execution_count": 32
        }
      ]
    },
    {
      "cell_type": "code",
      "metadata": {
        "colab": {
          "base_uri": "https://localhost:8080/"
        },
        "id": "FOCVIduPg9rD",
        "outputId": "3f58618b-d6c1-42b6-f91f-0fc295b63f40"
      },
      "source": [
        "gl = (renglones - 1)*(columnas -1)\n",
        "alfa = 0.05\n",
        "valor_critico = stats.chi2.ppf(1-alfa , gl)\n",
        "valor_critico"
      ],
      "execution_count": 33,
      "outputs": [
        {
          "output_type": "execute_result",
          "data": {
            "text/plain": [
              "12.591587243743977"
            ]
          },
          "metadata": {
            "tags": []
          },
          "execution_count": 33
        }
      ]
    },
    {
      "cell_type": "markdown",
      "metadata": {
        "id": "V84jWlZt2uDZ"
      },
      "source": [
        "Todo junto "
      ]
    },
    {
      "cell_type": "code",
      "metadata": {
        "id": "zdeaavfdbQw3"
      },
      "source": [
        "def prueba_independencia(col1, col2, alfa = 0.05):\n",
        "    \"\"\"###  Prueba Chi cuadrada independencia ###\n",
        "    col1 y col2 son columnas categóricas de un mismo dataframe,\n",
        "    alfa es el nivel de significancia\"\"\"\n",
        "    observados = pd.crosstab(col1, col2)\n",
        "    renglones, columnas = observados.shape\n",
        "    esperados = pd.DataFrame().reindex_like(observados)\n",
        "    renglones, columnas = observados.shape\n",
        "    for i in range(renglones):\n",
        "        for j in range(columnas):\n",
        "          esperados.iloc[i, j] = observados.iloc[i,:].sum()*observados.iloc[:, j].sum()/ observados.sum().sum()\n",
        "     \n",
        "    estadistico_test = (pow((observados - esperados),2)/esperados).sum().sum()\n",
        "    gl = (renglones - 1)*(columnas -1)\n",
        "    valor_critico = stats.chi2.ppf(1-alfa , gl)\n",
        "\n",
        "    if estadistico_test <= valor_critico:\n",
        "      print(\"El estadístico de la prueba NO está en la región de rechazo\")\n",
        "    else:\n",
        "      print(\"El estadístico de la prueba está en la región de rechazo\")\n",
        "\n",
        "    print(\"\\nTest Chi-squared  estadístico = {:.3f}\".format(estadistico_test))\n",
        "    print(\"Valor crítico P-value para 0.05 de significancia is {:.3f}.\".format(valor_critico))    \n"
      ],
      "execution_count": 34,
      "outputs": []
    },
    {
      "cell_type": "code",
      "metadata": {
        "colab": {
          "base_uri": "https://localhost:8080/"
        },
        "id": "sjX_u8rc22nx",
        "outputId": "6767afcd-f074-41bf-ab5a-e6c6ddfed117"
      },
      "source": [
        "prueba_independencia(df['PaymentMethod'], df['Contract'])"
      ],
      "execution_count": 35,
      "outputs": [
        {
          "output_type": "stream",
          "text": [
            "El estadístico de la prueba está en la región de rechazo\n",
            "\n",
            "Test Chi-squared  estadístico = 1001.582\n",
            "Valor crítico P-value para 0.05 de significancia is 12.592.\n"
          ],
          "name": "stdout"
        }
      ]
    },
    {
      "cell_type": "code",
      "metadata": {
        "colab": {
          "base_uri": "https://localhost:8080/"
        },
        "id": "b-Ju2Pac5SP4",
        "outputId": "83c85c39-2dae-4763-cd9f-910294f667e8"
      },
      "source": [
        "prueba_independencia(df['PaymentMethod'], df['gender'], alfa=0.05)"
      ],
      "execution_count": 36,
      "outputs": [
        {
          "output_type": "stream",
          "text": [
            "El estadístico de la prueba NO está en la región de rechazo\n",
            "\n",
            "Test Chi-squared  estadístico = 2.449\n",
            "Valor crítico P-value para 0.05 de significancia is 7.815.\n"
          ],
          "name": "stdout"
        }
      ]
    },
    {
      "cell_type": "code",
      "metadata": {
        "colab": {
          "base_uri": "https://localhost:8080/"
        },
        "id": "RJEGczIOhgsc",
        "outputId": "10acf2fd-afec-4d98-c092-d964cbe15f28"
      },
      "source": [
        "prueba_independencia(df['Contract'], df['gender'], alfa=0.05)"
      ],
      "execution_count": 37,
      "outputs": [
        {
          "output_type": "stream",
          "text": [
            "El estadístico de la prueba NO está en la región de rechazo\n",
            "\n",
            "Test Chi-squared  estadístico = 0.468\n",
            "Valor crítico P-value para 0.05 de significancia is 5.991.\n"
          ],
          "name": "stdout"
        }
      ]
    },
    {
      "cell_type": "markdown",
      "metadata": {
        "id": "okZLu5WI7RwS"
      },
      "source": [
        "# Prueba de Kolmogorv Smirnov para variables continuas"
      ]
    },
    {
      "cell_type": "markdown",
      "metadata": {
        "id": "BHwO3AXBMTTW"
      },
      "source": [
        "datos originales disponibles en [kaggle](https://www.kaggle.com/mczielinski/bitcoin-historical-data)"
      ]
    },
    {
      "cell_type": "code",
      "metadata": {
        "id": "cm1RBnFD8VwO"
      },
      "source": [
        "#import datetime\n",
        "#def dateparse (time_in_secs):    \n",
        "#    return datetime.datetime.fromtimestamp(float(time_in_secs))\n",
        "\n",
        "#bitcoin = pd.read_csv('/content/bitstampUSD_1-min_data_2012-01-01_to_2021-03-31.csv',\n",
        "#                      parse_dates=True, date_parser=dateparse, \n",
        "#                      usecols=['Timestamp','Close'], index_col='Timestamp',\n",
        "#                      ).dropna()\n",
        "#precio = bitcoin.resample('D', on ='Timestamp').Close.mean()\n",
        "#precio.to_csv('bitcoin_precio_diario.csv')"
      ],
      "execution_count": null,
      "outputs": []
    },
    {
      "cell_type": "code",
      "metadata": {
        "id": "4eUolhiLFegq"
      },
      "source": [
        "precio = pd.read_csv('https://raw.githubusercontent.com/AnIsAsPe/Estadistica_y_Probabilidad_para-CD-/main/Semana5/bitcoin_precio_diario.csv',\n",
        "                      parse_dates=['Timestamp'], index_col='Timestamp',\n",
        "                     )"
      ],
      "execution_count": 38,
      "outputs": []
    },
    {
      "cell_type": "code",
      "metadata": {
        "colab": {
          "base_uri": "https://localhost:8080/",
          "height": 312
        },
        "id": "euIVF62xGI_2",
        "outputId": "3e54d2bb-cb3f-463f-a6f3-63aa9dea5032"
      },
      "source": [
        "precio.plot(figsize=(10,4), title='Precios Bitcoin', ylabel = 'Precio',)"
      ],
      "execution_count": 39,
      "outputs": [
        {
          "output_type": "execute_result",
          "data": {
            "text/plain": [
              "<matplotlib.axes._subplots.AxesSubplot at 0x7fce3f9c75d0>"
            ]
          },
          "metadata": {
            "tags": []
          },
          "execution_count": 39
        },
        {
          "output_type": "display_data",
          "data": {
            "image/png": "[encoded data removed]",
            "text/plain": [
              "<Figure size 720x288 with 1 Axes>"
            ]
          },
          "metadata": {
            "tags": [],
            "needs_background": "light"
          }
        }
      ]
    },
    {
      "cell_type": "code",
      "metadata": {
        "colab": {
          "base_uri": "https://localhost:8080/",
          "height": 302
        },
        "id": "pnf4LBFTGZDO",
        "outputId": "df6aeef8-1009-497f-a928-40b50d812590"
      },
      "source": [
        "retorno = np.log(precio).diff().dropna()\n",
        "retorno.plot(figsize=(10,4), title='Retornos Bitcoin', ylabel = 'Retorno')"
      ],
      "execution_count": 41,
      "outputs": [
        {
          "output_type": "execute_result",
          "data": {
            "text/plain": [
              "<matplotlib.axes._subplots.AxesSubplot at 0x7fce3f81bc50>"
            ]
          },
          "metadata": {
            "tags": []
          },
          "execution_count": 41
        },
        {
          "output_type": "display_data",
          "data": {
            "image/png": "[encoded data removed]",
            "text/plain": [
              "<Figure size 720x288 with 1 Axes>"
            ]
          },
          "metadata": {
            "tags": [],
            "needs_background": "light"
          }
        }
      ]
    },
    {
      "cell_type": "code",
      "metadata": {
        "colab": {
          "base_uri": "https://localhost:8080/",
          "height": 374
        },
        "id": "Tx4m3liBGxtG",
        "outputId": "f19f02a6-157f-4ae0-a853-35ba78966d05"
      },
      "source": [
        "plt.rc(\"figure\", figsize=(6,6))\n",
        "retorno.plot.hist(bins=60)\n",
        "plt.show()"
      ],
      "execution_count": 42,
      "outputs": [
        {
          "output_type": "display_data",
          "data": {
            "image/png": "[encoded data removed]",
            "text/plain": [
              "<Figure size 432x432 with 1 Axes>"
            ]
          },
          "metadata": {
            "tags": [],
            "needs_background": "light"
          }
        }
      ]
    },
    {
      "cell_type": "code",
      "metadata": {
        "colab": {
          "base_uri": "https://localhost:8080/"
        },
        "id": "TmWnlY51HNrA",
        "outputId": "b9dc08d4-e87e-4a4e-cf38-fead4b9f3e5d"
      },
      "source": [
        "stats.kstest(retorno, 'laplace')  #https://docs.scipy.org/doc/scipy/reference/generated/scipy.stats.kstest.html"
      ],
      "execution_count": 43,
      "outputs": [
        {
          "output_type": "execute_result",
          "data": {
            "text/plain": [
              "KstestResult(statistic=0.6989733921958525, pvalue=0.0)"
            ]
          },
          "metadata": {
            "tags": []
          },
          "execution_count": 43
        }
      ]
    },
    {
      "cell_type": "code",
      "metadata": {
        "colab": {
          "base_uri": "https://localhost:8080/"
        },
        "id": "xvVareRbNyKj",
        "outputId": "1c06f204-8d6e-47b7-9802-af8c9e9118f1"
      },
      "source": [
        "stats.kstest(retorno, 'norm')"
      ],
      "execution_count": 53,
      "outputs": [
        {
          "output_type": "execute_result",
          "data": {
            "text/plain": [
              "KstestResult(statistic=0.6940662181146309, pvalue=0.0)"
            ]
          },
          "metadata": {
            "tags": []
          },
          "execution_count": 53
        }
      ]
    },
    {
      "cell_type": "markdown",
      "metadata": {
        "id": "dUEwqNqsJLNv"
      },
      "source": [
        "Entre menor sea el p value, es más grande la evidencia que se tiene para rechazar la hipotesis nula y concluir que las distribuciones son diferentes.\n",
        "El test esta diseñado para encontrar alfa  y acotar el error tipo I.\n",
        "\n",
        "Por lo anterior en ambos casos, concluimos que los retornos tienen una distribución diferente a la distribución normal y a la distribución de laplace.\n"
      ]
    }
  ]
}
