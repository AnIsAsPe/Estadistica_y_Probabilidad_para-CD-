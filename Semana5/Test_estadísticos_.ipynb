{
  "nbformat": 4,
  "nbformat_minor": 0,
  "metadata": {
    "colab": {
      "name": "Test_estadísticos .ipynb",
      "provenance": [],
      "collapsed_sections": [],
      "mount_file_id": "https://github.com/AnIsAsPe/Estadistica_y_Probabilidad_para-CD-/blob/main/Semana5/Test_estad%C3%ADsticos_.ipynb",
      "authorship_tag": "ABX9TyNRFm+pcAx3x8o9u+ZudZCX",
      "include_colab_link": true
    },
    "kernelspec": {
      "name": "python3",
      "display_name": "Python 3"
    }
  },
  "cells": [
    {
      "cell_type": "markdown",
      "metadata": {
        "id": "view-in-github",
        "colab_type": "text"
      },
      "source": [
        "<a href=\"https://colab.research.google.com/github/AnIsAsPe/Estadistica_y_Probabilidad_para-CD-/blob/main/Semana5/Test_estad%C3%ADsticos_.ipynb\" target=\"_parent\"><img src=\"https://colab.research.google.com/assets/colab-badge.svg\" alt=\"Open In Colab\"/></a>"
      ]
    },
    {
      "cell_type": "markdown",
      "metadata": {
        "id": "8-2io6qfdvhP"
      },
      "source": [
        "#Bibliotecas"
      ]
    },
    {
      "cell_type": "code",
      "metadata": {
        "id": "hqT8wVN6-CBk"
      },
      "source": [
        "import numpy as np\n",
        "import pandas as pd\n",
        "from scipy import stats\n",
        "from matplotlib import pyplot as plt\n",
        "import seaborn as sns"
      ],
      "execution_count": 1,
      "outputs": []
    },
    {
      "cell_type": "markdown",
      "metadata": {
        "id": "57bNo4VSJzCc"
      },
      "source": [
        "## Distribución Chi Cuadrada \n",
        "\n",
        "La distribución Chi cuadrada es el resultado de la suma del cuadrado de distintas variables iid con distribución normal estandarizada"
      ]
    },
    {
      "cell_type": "code",
      "metadata": {
        "id": "qTDzFXOyK58U",
        "colab": {
          "base_uri": "https://localhost:8080/",
          "height": 265
        },
        "outputId": "2f032f55-8c56-47b6-c8e5-c4f865accff7"
      },
      "source": [
        "var_iid_gauss = {}        # diccionario que guarda variables aleatorias iid con distribución normal estandarizada \n",
        "r = 4                     # cantidad de variables iid\n",
        "size = 10000000                # número de observaciones en cada variable\n",
        "\n",
        "ji = np.zeros(size)          # vector que guardara la suma de var_iid_gauss al cuadrado\n",
        "\n",
        "for i in range(1, r+1):\n",
        "  var_iid_gauss[i] = np.random.normal( 0, 1, size)  # generamos variable aleatoria a partir de una distribución normal estandar de tamaño n\n",
        "  ji += (var_iid_gauss[i]**2)\n",
        "\n",
        "plt.hist(ji,   weights = np.ones_like(ji)/size, bins=25)\n",
        "plt.show()"
      ],
      "execution_count": 2,
      "outputs": [
        {
          "output_type": "display_data",
          "data": {
            "image/png": "[encoded data removed]",
            "text/plain": [
              "<Figure size 432x288 with 1 Axes>"
            ]
          },
          "metadata": {
            "tags": [],
            "needs_background": "light"
          }
        }
      ]
    },
    {
      "cell_type": "code",
      "metadata": {
        "colab": {
          "base_uri": "https://localhost:8080/",
          "height": 265
        },
        "id": "CNj5fsyNtrk8",
        "outputId": "24f112fb-8734-428d-f36f-04009b821bde"
      },
      "source": [
        "s =np.random.chisquare(r, size)\n",
        "plt.hist(s,   weights = np.ones_like(ji)/size, bins=25)\n",
        "plt.show()"
      ],
      "execution_count": 3,
      "outputs": [
        {
          "output_type": "display_data",
          "data": {
            "image/png": "[encoded data removed]",
            "text/plain": [
              "<Figure size 432x288 with 1 Axes>"
            ]
          },
          "metadata": {
            "tags": [],
            "needs_background": "light"
          }
        }
      ]
    },
    {
      "cell_type": "code",
      "metadata": {
        "id": "ojZblQ_F-Lec"
      },
      "source": [
        "def grafica_chi_cuadrada(a, b, c, d):\n",
        "  ''''grafica la función de densidad de la distrtibución chi cuadrada para \n",
        "  los grados de libertad especificados en los parametros de entrada a, b, c y d)'''\n",
        "\n",
        "  fig,ax = plt.subplots(1, 1)\n",
        "  plt.xlim(0, 10)\n",
        "  plt.ylim(0, .35)\n",
        "  plt.xlabel('valores')\n",
        "  plt.ylabel('frecuencia')\n",
        "  plt.title('Distribución Chi cuadrada')\n",
        "\n",
        "  x = np.linspace(0, 10, 100)\n",
        "  grados_libertad = [a, b, c, d]\n",
        "  linestyles = [':', '--', '-.', '-']\n",
        "\n",
        "  for r, ls in zip(grados_libertad, linestyles):\n",
        "    pdf = stats.chi2.pdf(x, r)                    # función de densidad chi2, para r grados de libertad\n",
        "    ax.plot(x, pdf,  linestyle=ls)\n",
        "\n",
        "  plt.legend(grados_libertad)\n",
        "  plt.show()"
      ],
      "execution_count": 4,
      "outputs": []
    },
    {
      "cell_type": "code",
      "metadata": {
        "colab": {
          "base_uri": "https://localhost:8080/",
          "height": 295
        },
        "id": "6Yb1LajGpdHi",
        "outputId": "fef1b16f-0551-4691-b8af-e88374bfcb40"
      },
      "source": [
        "grafica_chi_cuadrada(1, 2, 3, 4)"
      ],
      "execution_count": 5,
      "outputs": [
        {
          "output_type": "display_data",
          "data": {
            "image/png": "[encoded data removed]",
            "text/plain": [
              "<Figure size 432x288 with 1 Axes>"
            ]
          },
          "metadata": {
            "tags": [],
            "needs_background": "light"
          }
        }
      ]
    },
    {
      "cell_type": "markdown",
      "metadata": {
        "id": "DPk4Puddkrya"
      },
      "source": [
        "# Prueba de bondad de ajuste  $\\chi^2$ de Pearson"
      ]
    },
    {
      "cell_type": "markdown",
      "metadata": {
        "id": "P-Aft6kpNS6P"
      },
      "source": [
        "## Ejemplo:\n",
        "\n",
        "Geisser realizó un estudio en 1889 de la distribución de hijos e hijas en las familias en Saxony con 12 hijos.\n",
        "Se deseaba probar que la probabilidad de tener un hijo varon  es de 0.52\n"
      ]
    },
    {
      "cell_type": "code",
      "metadata": {
        "id": "U_lEyNGtNR5q",
        "colab": {
          "base_uri": "https://localhost:8080/",
          "height": 452
        },
        "outputId": "436921c7-8be3-4c65-f80d-04dc6fb8c577"
      },
      "source": [
        "datos = pd.read_csv('https://www.stat.berkeley.edu/~rice/Stat135/geissler.txt')\n",
        "datos.columns=['hijos_h','frec_observada']\n",
        "datos"
      ],
      "execution_count": 6,
      "outputs": [
        {
          "output_type": "execute_result",
          "data": {
            "text/html": [
              "<div>\n",
              "<style scoped>\n",
              "    .dataframe tbody tr th:only-of-type {\n",
              "        vertical-align: middle;\n",
              "    }\n",
              "\n",
              "    .dataframe tbody tr th {\n",
              "        vertical-align: top;\n",
              "    }\n",
              "\n",
              "    .dataframe thead th {\n",
              "        text-align: right;\n",
              "    }\n",
              "</style>\n",
              "<table border=\"1\" class=\"dataframe\">\n",
              "  <thead>\n",
              "    <tr style=\"text-align: right;\">\n",
              "      <th></th>\n",
              "      <th>hijos_h</th>\n",
              "      <th>frec_observada</th>\n",
              "    </tr>\n",
              "  </thead>\n",
              "  <tbody>\n",
              "    <tr>\n",
              "      <th>0</th>\n",
              "      <td>0</td>\n",
              "      <td>7</td>\n",
              "    </tr>\n",
              "    <tr>\n",
              "      <th>1</th>\n",
              "      <td>1</td>\n",
              "      <td>45</td>\n",
              "    </tr>\n",
              "    <tr>\n",
              "      <th>2</th>\n",
              "      <td>2</td>\n",
              "      <td>181</td>\n",
              "    </tr>\n",
              "    <tr>\n",
              "      <th>3</th>\n",
              "      <td>3</td>\n",
              "      <td>478</td>\n",
              "    </tr>\n",
              "    <tr>\n",
              "      <th>4</th>\n",
              "      <td>4</td>\n",
              "      <td>829</td>\n",
              "    </tr>\n",
              "    <tr>\n",
              "      <th>5</th>\n",
              "      <td>5</td>\n",
              "      <td>1112</td>\n",
              "    </tr>\n",
              "    <tr>\n",
              "      <th>6</th>\n",
              "      <td>6</td>\n",
              "      <td>1343</td>\n",
              "    </tr>\n",
              "    <tr>\n",
              "      <th>7</th>\n",
              "      <td>7</td>\n",
              "      <td>1033</td>\n",
              "    </tr>\n",
              "    <tr>\n",
              "      <th>8</th>\n",
              "      <td>8</td>\n",
              "      <td>670</td>\n",
              "    </tr>\n",
              "    <tr>\n",
              "      <th>9</th>\n",
              "      <td>9</td>\n",
              "      <td>286</td>\n",
              "    </tr>\n",
              "    <tr>\n",
              "      <th>10</th>\n",
              "      <td>10</td>\n",
              "      <td>104</td>\n",
              "    </tr>\n",
              "    <tr>\n",
              "      <th>11</th>\n",
              "      <td>11</td>\n",
              "      <td>24</td>\n",
              "    </tr>\n",
              "    <tr>\n",
              "      <th>12</th>\n",
              "      <td>12</td>\n",
              "      <td>3</td>\n",
              "    </tr>\n",
              "  </tbody>\n",
              "</table>\n",
              "</div>"
            ],
            "text/plain": [
              "    hijos_h  frec_observada\n",
              "0         0               7\n",
              "1         1              45\n",
              "2         2             181\n",
              "3         3             478\n",
              "4         4             829\n",
              "5         5            1112\n",
              "6         6            1343\n",
              "7         7            1033\n",
              "8         8             670\n",
              "9         9             286\n",
              "10       10             104\n",
              "11       11              24\n",
              "12       12               3"
            ]
          },
          "metadata": {
            "tags": []
          },
          "execution_count": 6
        }
      ]
    },
    {
      "cell_type": "code",
      "metadata": {
        "id": "BbVYkiWlOf8Z",
        "colab": {
          "base_uri": "https://localhost:8080/"
        },
        "outputId": "1701a9f7-6058-44d3-b0bc-dea30b8a312f"
      },
      "source": [
        "n = datos.frec_observada.sum()\n",
        "n"
      ],
      "execution_count": 7,
      "outputs": [
        {
          "output_type": "execute_result",
          "data": {
            "text/plain": [
              "6115"
            ]
          },
          "metadata": {
            "tags": []
          },
          "execution_count": 7
        }
      ]
    },
    {
      "cell_type": "code",
      "metadata": {
        "colab": {
          "base_uri": "https://localhost:8080/",
          "height": 285
        },
        "id": "pxrnqf3Zzy_u",
        "outputId": "2c974a48-ae08-4e92-f4d4-9a73ecfcf7f5"
      },
      "source": [
        "(datos.frec_observada/n).plot.bar()"
      ],
      "execution_count": 8,
      "outputs": [
        {
          "output_type": "execute_result",
          "data": {
            "text/plain": [
              "<matplotlib.axes._subplots.AxesSubplot at 0x7fc75f9bf3d0>"
            ]
          },
          "metadata": {
            "tags": []
          },
          "execution_count": 8
        },
        {
          "output_type": "display_data",
          "data": {
            "image/png": "[encoded data removed]",
            "text/plain": [
              "<Figure size 432x288 with 1 Axes>"
            ]
          },
          "metadata": {
            "tags": [],
            "needs_background": "light"
          }
        }
      ]
    },
    {
      "cell_type": "markdown",
      "metadata": {
        "id": "PU0vfciwQoDo"
      },
      "source": [
        "\n",
        "Hipotesis nula:\n",
        "- la Ley de Probabilidad sigue una distribución Binomial (12, 0.52) \n",
        "(número de éxitos r en n eventos independientes sucesivos)\n",
        "\n",
        "Hipotesis alternativa:\n",
        "- La Ley de Probabilidad es cualquier otra"
      ]
    },
    {
      "cell_type": "code",
      "metadata": {
        "colab": {
          "base_uri": "https://localhost:8080/"
        },
        "id": "qGiq-03G01WK",
        "outputId": "04845f1d-ee3b-4b01-a4fa-f3c6f6b7d2d3"
      },
      "source": [
        "k = 6\n",
        "stats.binom.pmf(k, 12, .52)  #frecuencia esperada con la distribución binomial para cada posible resultado"
      ],
      "execution_count": 9,
      "outputs": [
        {
          "output_type": "execute_result",
          "data": {
            "text/plain": [
              "0.22342895654216136"
            ]
          },
          "metadata": {
            "tags": []
          },
          "execution_count": 9
        }
      ]
    },
    {
      "cell_type": "code",
      "metadata": {
        "id": "myLe_mkvSq3y",
        "colab": {
          "base_uri": "https://localhost:8080/",
          "height": 452
        },
        "outputId": "acd6b828-9572-4414-8781-0379a6ff4687"
      },
      "source": [
        "## Valores esperados de la hipotesis nula\n",
        "frec_esperada=[]\n",
        "for k in range(0,13):\n",
        "  f_e= stats.binom.pmf(k, 12, .52) * n     # frecuencia esperada\n",
        "  frec_esperada.append(int(round(f_e,0)))\n",
        "\n",
        "datos['frec_esperada']=pd.Series(frec_esperada)\n",
        "datos"
      ],
      "execution_count": 10,
      "outputs": [
        {
          "output_type": "execute_result",
          "data": {
            "text/html": [
              "<div>\n",
              "<style scoped>\n",
              "    .dataframe tbody tr th:only-of-type {\n",
              "        vertical-align: middle;\n",
              "    }\n",
              "\n",
              "    .dataframe tbody tr th {\n",
              "        vertical-align: top;\n",
              "    }\n",
              "\n",
              "    .dataframe thead th {\n",
              "        text-align: right;\n",
              "    }\n",
              "</style>\n",
              "<table border=\"1\" class=\"dataframe\">\n",
              "  <thead>\n",
              "    <tr style=\"text-align: right;\">\n",
              "      <th></th>\n",
              "      <th>hijos_h</th>\n",
              "      <th>frec_observada</th>\n",
              "      <th>frec_esperada</th>\n",
              "    </tr>\n",
              "  </thead>\n",
              "  <tbody>\n",
              "    <tr>\n",
              "      <th>0</th>\n",
              "      <td>0</td>\n",
              "      <td>7</td>\n",
              "      <td>1</td>\n",
              "    </tr>\n",
              "    <tr>\n",
              "      <th>1</th>\n",
              "      <td>1</td>\n",
              "      <td>45</td>\n",
              "      <td>12</td>\n",
              "    </tr>\n",
              "    <tr>\n",
              "      <th>2</th>\n",
              "      <td>2</td>\n",
              "      <td>181</td>\n",
              "      <td>71</td>\n",
              "    </tr>\n",
              "    <tr>\n",
              "      <th>3</th>\n",
              "      <td>3</td>\n",
              "      <td>478</td>\n",
              "      <td>256</td>\n",
              "    </tr>\n",
              "    <tr>\n",
              "      <th>4</th>\n",
              "      <td>4</td>\n",
              "      <td>829</td>\n",
              "      <td>624</td>\n",
              "    </tr>\n",
              "    <tr>\n",
              "      <th>5</th>\n",
              "      <td>5</td>\n",
              "      <td>1112</td>\n",
              "      <td>1081</td>\n",
              "    </tr>\n",
              "    <tr>\n",
              "      <th>6</th>\n",
              "      <td>6</td>\n",
              "      <td>1343</td>\n",
              "      <td>1366</td>\n",
              "    </tr>\n",
              "    <tr>\n",
              "      <th>7</th>\n",
              "      <td>7</td>\n",
              "      <td>1033</td>\n",
              "      <td>1269</td>\n",
              "    </tr>\n",
              "    <tr>\n",
              "      <th>8</th>\n",
              "      <td>8</td>\n",
              "      <td>670</td>\n",
              "      <td>859</td>\n",
              "    </tr>\n",
              "    <tr>\n",
              "      <th>9</th>\n",
              "      <td>9</td>\n",
              "      <td>286</td>\n",
              "      <td>414</td>\n",
              "    </tr>\n",
              "    <tr>\n",
              "      <th>10</th>\n",
              "      <td>10</td>\n",
              "      <td>104</td>\n",
              "      <td>134</td>\n",
              "    </tr>\n",
              "    <tr>\n",
              "      <th>11</th>\n",
              "      <td>11</td>\n",
              "      <td>24</td>\n",
              "      <td>26</td>\n",
              "    </tr>\n",
              "    <tr>\n",
              "      <th>12</th>\n",
              "      <td>12</td>\n",
              "      <td>3</td>\n",
              "      <td>2</td>\n",
              "    </tr>\n",
              "  </tbody>\n",
              "</table>\n",
              "</div>"
            ],
            "text/plain": [
              "    hijos_h  frec_observada  frec_esperada\n",
              "0         0               7              1\n",
              "1         1              45             12\n",
              "2         2             181             71\n",
              "3         3             478            256\n",
              "4         4             829            624\n",
              "5         5            1112           1081\n",
              "6         6            1343           1366\n",
              "7         7            1033           1269\n",
              "8         8             670            859\n",
              "9         9             286            414\n",
              "10       10             104            134\n",
              "11       11              24             26\n",
              "12       12               3              2"
            ]
          },
          "metadata": {
            "tags": []
          },
          "execution_count": 10
        }
      ]
    },
    {
      "cell_type": "code",
      "metadata": {
        "id": "WLnpq3xIOKMP",
        "colab": {
          "base_uri": "https://localhost:8080/",
          "height": 337
        },
        "outputId": "0c11106a-38a7-43fa-f210-2f6cc9a14d32"
      },
      "source": [
        "variables= ['frec_observada', 'frec_esperada']\n",
        "fig, ax = plt.subplots(1,2, figsize=(12, 5))\n",
        "for var, subplot in zip(variables, ax.flatten()):\n",
        "  sns.barplot(x='hijos_h', y=var, data = datos, ax= subplot)\n",
        "plt.show()"
      ],
      "execution_count": 11,
      "outputs": [
        {
          "output_type": "display_data",
          "data": {
            "image/png": "[encoded data removed]",
            "text/plain": [
              "<Figure size 864x360 with 2 Axes>"
            ]
          },
          "metadata": {
            "tags": [],
            "needs_background": "light"
          }
        }
      ]
    },
    {
      "cell_type": "markdown",
      "metadata": {
        "id": "SQOKqo47eAHr"
      },
      "source": [
        "## test_chi_cuadrada()"
      ]
    },
    {
      "cell_type": "code",
      "metadata": {
        "colab": {
          "base_uri": "https://localhost:8080/",
          "height": 265
        },
        "id": "hPIy1jX5zxQk",
        "outputId": "253be3ef-adc0-490d-cd87-4292958835c6"
      },
      "source": [
        "gl=12 # grados de libertad\n",
        "x = np.linspace(0, 40, 100)\n",
        "pdf = stats.chi2.pdf(x, gl)                    # función de densidad chi2, para r grados de libertad\n",
        "plt.plot(x, pdf)\n",
        "plt.show()"
      ],
      "execution_count": 14,
      "outputs": [
        {
          "output_type": "display_data",
          "data": {
            "image/png": "[encoded data removed]",
            "text/plain": [
              "<Figure size 432x288 with 1 Axes>"
            ]
          },
          "metadata": {
            "tags": [],
            "needs_background": "light"
          }
        }
      ]
    },
    {
      "cell_type": "code",
      "metadata": {
        "id": "6j-oLoda-ISj"
      },
      "source": [
        "gl = 12      # grados de libertad\n",
        "alfa = 0.05  # nivel de significancia\n",
        "\n",
        "x = stats.chi2.ppf(1 - alfa , gl)  # valor crítico"
      ],
      "execution_count": 15,
      "outputs": []
    },
    {
      "cell_type": "markdown",
      "metadata": {
        "id": "05GHcB8CunXG"
      },
      "source": [
        "![tabla chi cuadrada](https://d20ohkaloyme4g.cloudfront.net/img/document_thumbnails/d4e586470f42dcf4c1e7fd6cfa08f31a/thumb_1200_848.png)"
      ]
    },
    {
      "cell_type": "code",
      "metadata": {
        "id": "6HlSlOYSXYsC"
      },
      "source": [
        "def bondad_ajuste_Pearson(observados, esperados,  alfa = 0.05):\n",
        "    \"\"\"Test de Pearson de bondad de ajuste\"\"\"\n",
        "    estadistico_test = 0  \n",
        "    for observado, esperado in zip(observados,esperados):\n",
        "        error = observado - esperado\n",
        "        estadistico_test += pow(error, 2) / esperado\n",
        "    gl = len(observados) - 1\n",
        "    valor_critico = stats.chi2.ppf(1-alfa , gl)\n",
        "\n",
        "    if estadistico_test <= valor_critico:\n",
        "      print(\"El estadístico de la prueba NO está en la región de rechazo\")\n",
        "    else:\n",
        "      print(\"El estadístico de la prueba está en la región de rechazo\")\n",
        "\n",
        "    print(\"\\nTest Chi-squared  estadístico = {:.3f}\".format(estadistico_test))\n",
        "    print(\"Valor crítico P-value para 0.05 de significancia is {:.3f}.\".format(valor_critico))    \n"
      ],
      "execution_count": 16,
      "outputs": []
    },
    {
      "cell_type": "code",
      "metadata": {
        "id": "Yi6z7HLSdE_k",
        "colab": {
          "base_uri": "https://localhost:8080/"
        },
        "outputId": "340677d5-e1fb-4960-932f-c758d45a1b52"
      },
      "source": [
        "bondad_ajuste_Pearson(datos['frec_observada'], datos['frec_esperada'], 0.05)"
      ],
      "execution_count": 17,
      "outputs": [
        {
          "output_type": "stream",
          "text": [
            "El estadístico de la prueba está en la región de rechazo\n",
            "\n",
            "Test Chi-squared  estadístico = 690.731\n",
            "Valor crítico P-value para 0.05 de significancia is 21.026.\n"
          ],
          "name": "stdout"
        }
      ]
    },
    {
      "cell_type": "code",
      "metadata": {
        "id": "r6cSNN0IZI-k",
        "colab": {
          "base_uri": "https://localhost:8080/"
        },
        "outputId": "0ea6a33d-a8e3-4e59-c9ab-0d449b00b8d4"
      },
      "source": [
        "stats.chisquare(datos['frec_observada'], datos['frec_esperada'], ddof=12 )"
      ],
      "execution_count": 18,
      "outputs": [
        {
          "output_type": "execute_result",
          "data": {
            "text/plain": [
              "Power_divergenceResult(statistic=690.7313910429208, pvalue=nan)"
            ]
          },
          "metadata": {
            "tags": []
          },
          "execution_count": 18
        }
      ]
    },
    {
      "cell_type": "markdown",
      "metadata": {
        "id": "bvG7JS1xMMPP"
      },
      "source": [
        "# Prueba $\\chi^2$ de independencia  "
      ]
    },
    {
      "cell_type": "code",
      "metadata": {
        "colab": {
          "base_uri": "https://localhost:8080/"
        },
        "id": "VOZfUzkqMMPV",
        "outputId": "b98b43be-3b4b-4e10-a8b1-f739e88efb72"
      },
      "source": [
        "df = pd.read_csv('https://raw.githubusercontent.com/AnIsAsPe/ClasificadorClientesTelecom/master/Datos/WA_Fn-UseC_-Telco-Customer-Churn.csv', \n",
        "                 usecols=['PaymentMethod', 'Contract', 'gender']\n",
        "                 )\n",
        "df.shape"
      ],
      "execution_count": 19,
      "outputs": [
        {
          "output_type": "execute_result",
          "data": {
            "text/plain": [
              "(7043, 3)"
            ]
          },
          "metadata": {
            "tags": []
          },
          "execution_count": 19
        }
      ]
    },
    {
      "cell_type": "code",
      "metadata": {
        "colab": {
          "base_uri": "https://localhost:8080/",
          "height": 204
        },
        "id": "O5bhL3vaO-Ny",
        "outputId": "24dafd9a-cf77-4c8e-999f-47fc7af81f60"
      },
      "source": [
        "observados = pd.crosstab(df['PaymentMethod'], df['Contract'])\n",
        "observados"
      ],
      "execution_count": 20,
      "outputs": [
        {
          "output_type": "execute_result",
          "data": {
            "text/html": [
              "<div>\n",
              "<style scoped>\n",
              "    .dataframe tbody tr th:only-of-type {\n",
              "        vertical-align: middle;\n",
              "    }\n",
              "\n",
              "    .dataframe tbody tr th {\n",
              "        vertical-align: top;\n",
              "    }\n",
              "\n",
              "    .dataframe thead th {\n",
              "        text-align: right;\n",
              "    }\n",
              "</style>\n",
              "<table border=\"1\" class=\"dataframe\">\n",
              "  <thead>\n",
              "    <tr style=\"text-align: right;\">\n",
              "      <th>Contract</th>\n",
              "      <th>Month-to-month</th>\n",
              "      <th>One year</th>\n",
              "      <th>Two year</th>\n",
              "    </tr>\n",
              "    <tr>\n",
              "      <th>PaymentMethod</th>\n",
              "      <th></th>\n",
              "      <th></th>\n",
              "      <th></th>\n",
              "    </tr>\n",
              "  </thead>\n",
              "  <tbody>\n",
              "    <tr>\n",
              "      <th>Bank transfer (automatic)</th>\n",
              "      <td>589</td>\n",
              "      <td>391</td>\n",
              "      <td>564</td>\n",
              "    </tr>\n",
              "    <tr>\n",
              "      <th>Credit card (automatic)</th>\n",
              "      <td>543</td>\n",
              "      <td>398</td>\n",
              "      <td>581</td>\n",
              "    </tr>\n",
              "    <tr>\n",
              "      <th>Electronic check</th>\n",
              "      <td>1850</td>\n",
              "      <td>347</td>\n",
              "      <td>168</td>\n",
              "    </tr>\n",
              "    <tr>\n",
              "      <th>Mailed check</th>\n",
              "      <td>893</td>\n",
              "      <td>337</td>\n",
              "      <td>382</td>\n",
              "    </tr>\n",
              "  </tbody>\n",
              "</table>\n",
              "</div>"
            ],
            "text/plain": [
              "Contract                   Month-to-month  One year  Two year\n",
              "PaymentMethod                                                \n",
              "Bank transfer (automatic)             589       391       564\n",
              "Credit card (automatic)               543       398       581\n",
              "Electronic check                     1850       347       168\n",
              "Mailed check                          893       337       382"
            ]
          },
          "metadata": {
            "tags": []
          },
          "execution_count": 20
        }
      ]
    },
    {
      "cell_type": "markdown",
      "metadata": {
        "id": "m8AkK66PMMPW"
      },
      "source": [
        "\n",
        "Hipotesis nula:\n",
        "- Las variables son independientes\n",
        "\n",
        "Hipotesis alternativa:\n",
        "- Las variables son dependientes\n",
        "\n"
      ]
    },
    {
      "cell_type": "code",
      "metadata": {
        "colab": {
          "base_uri": "https://localhost:8080/",
          "height": 204
        },
        "id": "JKTF6D7WeXlb",
        "outputId": "63f3c448-3269-403d-fcff-c5d6d60e6c89"
      },
      "source": [
        "esperados = pd.DataFrame().reindex_like(observados)\n",
        "renglones, columnas = observados.shape\n",
        "for i in range(renglones):\n",
        "    for j in range(columnas):\n",
        "      esperados.iloc[i, j] = observados.iloc[i,:].sum()*observados.iloc[:, j].sum()/ observados.sum().sum()\n",
        "esperados"
      ],
      "execution_count": 21,
      "outputs": [
        {
          "output_type": "execute_result",
          "data": {
            "text/html": [
              "<div>\n",
              "<style scoped>\n",
              "    .dataframe tbody tr th:only-of-type {\n",
              "        vertical-align: middle;\n",
              "    }\n",
              "\n",
              "    .dataframe tbody tr th {\n",
              "        vertical-align: top;\n",
              "    }\n",
              "\n",
              "    .dataframe thead th {\n",
              "        text-align: right;\n",
              "    }\n",
              "</style>\n",
              "<table border=\"1\" class=\"dataframe\">\n",
              "  <thead>\n",
              "    <tr style=\"text-align: right;\">\n",
              "      <th>Contract</th>\n",
              "      <th>Month-to-month</th>\n",
              "      <th>One year</th>\n",
              "      <th>Two year</th>\n",
              "    </tr>\n",
              "    <tr>\n",
              "      <th>PaymentMethod</th>\n",
              "      <th></th>\n",
              "      <th></th>\n",
              "      <th></th>\n",
              "    </tr>\n",
              "  </thead>\n",
              "  <tbody>\n",
              "    <tr>\n",
              "      <th>Bank transfer (automatic)</th>\n",
              "      <td>849.495953</td>\n",
              "      <td>322.918075</td>\n",
              "      <td>371.585972</td>\n",
              "    </tr>\n",
              "    <tr>\n",
              "      <th>Credit card (automatic)</th>\n",
              "      <td>837.391736</td>\n",
              "      <td>318.316910</td>\n",
              "      <td>366.291353</td>\n",
              "    </tr>\n",
              "    <tr>\n",
              "      <th>Electronic check</th>\n",
              "      <td>1301.203322</td>\n",
              "      <td>494.625160</td>\n",
              "      <td>569.171518</td>\n",
              "    </tr>\n",
              "    <tr>\n",
              "      <th>Mailed check</th>\n",
              "      <td>886.908988</td>\n",
              "      <td>337.139855</td>\n",
              "      <td>387.951157</td>\n",
              "    </tr>\n",
              "  </tbody>\n",
              "</table>\n",
              "</div>"
            ],
            "text/plain": [
              "Contract                   Month-to-month    One year    Two year\n",
              "PaymentMethod                                                    \n",
              "Bank transfer (automatic)      849.495953  322.918075  371.585972\n",
              "Credit card (automatic)        837.391736  318.316910  366.291353\n",
              "Electronic check              1301.203322  494.625160  569.171518\n",
              "Mailed check                   886.908988  337.139855  387.951157"
            ]
          },
          "metadata": {
            "tags": []
          },
          "execution_count": 21
        }
      ]
    },
    {
      "cell_type": "markdown",
      "metadata": {
        "id": "BTTDqPn8hqiL"
      },
      "source": [
        "$estadístico_{test} = \\sum\\frac{(Observado-Esperado)^2}{Esperado}$"
      ]
    },
    {
      "cell_type": "code",
      "metadata": {
        "colab": {
          "base_uri": "https://localhost:8080/"
        },
        "id": "5XrmJcVwcM1g",
        "outputId": "32352c7d-9040-44ca-db8e-172a69033727"
      },
      "source": [
        "estadistico_test = (pow((observados - esperados),2)/esperados).sum().sum()\n",
        "estadistico_test"
      ],
      "execution_count": 22,
      "outputs": [
        {
          "output_type": "execute_result",
          "data": {
            "text/plain": [
              "1001.5815711333701"
            ]
          },
          "metadata": {
            "tags": []
          },
          "execution_count": 22
        }
      ]
    },
    {
      "cell_type": "code",
      "metadata": {
        "colab": {
          "base_uri": "https://localhost:8080/"
        },
        "id": "FOCVIduPg9rD",
        "outputId": "5ca0b0a4-677e-4e35-a701-49e481021ea0"
      },
      "source": [
        "gl = (renglones - 1)*(columnas -1)\n",
        "alfa = 0.05\n",
        "valor_critico = stats.chi2.ppf(1-alfa , gl)\n",
        "valor_critico"
      ],
      "execution_count": 23,
      "outputs": [
        {
          "output_type": "execute_result",
          "data": {
            "text/plain": [
              "12.591587243743977"
            ]
          },
          "metadata": {
            "tags": []
          },
          "execution_count": 23
        }
      ]
    },
    {
      "cell_type": "markdown",
      "metadata": {
        "id": "V84jWlZt2uDZ"
      },
      "source": [
        "Todo junto "
      ]
    },
    {
      "cell_type": "code",
      "metadata": {
        "id": "zdeaavfdbQw3"
      },
      "source": [
        "def prueba_independencia(col1, col2, alfa = 0.05):\n",
        "    \"\"\"###  Prueba Chi cuadrada independencia ###\n",
        "    col1 y col2 son columnas categóricas de un mismo dataframe,\n",
        "    alfa es el nivel de significancia\"\"\"\n",
        "    observados = pd.crosstab(col1, col2)\n",
        "    renglones, columnas = observados.shape\n",
        "    esperados = pd.DataFrame().reindex_like(observados)\n",
        "    renglones, columnas = observados.shape\n",
        "    for i in range(renglones):\n",
        "        for j in range(columnas):\n",
        "          esperados.iloc[i, j] = observados.iloc[i,:].sum()*observados.iloc[:, j].sum()/ observados.sum().sum()\n",
        "     \n",
        "    estadistico_test = (pow((observados - esperados),2)/esperados).sum().sum()\n",
        "    gl = (renglones - 1)*(columnas -1)\n",
        "    valor_critico = stats.chi2.ppf(1-alfa , gl)\n",
        "\n",
        "    if estadistico_test <= valor_critico:\n",
        "      print(\"El estadístico de la prueba NO está en la región de rechazo\")\n",
        "    else:\n",
        "      print(\"El estadístico de la prueba está en la región de rechazo\")\n",
        "\n",
        "    print(\"\\nTest Chi-squared  estadístico = {:.3f}\".format(estadistico_test))\n",
        "    print(\"Valor crítico P-value para 0.05 de significancia is {:.3f}.\".format(valor_critico))    \n"
      ],
      "execution_count": 24,
      "outputs": []
    },
    {
      "cell_type": "code",
      "metadata": {
        "colab": {
          "base_uri": "https://localhost:8080/"
        },
        "id": "sjX_u8rc22nx",
        "outputId": "52dbe0b0-9311-45af-827e-1e84b6230abe"
      },
      "source": [
        "prueba_independencia(df['PaymentMethod'], df['Contract'])"
      ],
      "execution_count": 25,
      "outputs": [
        {
          "output_type": "stream",
          "text": [
            "El estadístico de la prueba está en la región de rechazo\n",
            "\n",
            "Test Chi-squared  estadístico = 1001.582\n",
            "Valor crítico P-value para 0.05 de significancia is 12.592.\n"
          ],
          "name": "stdout"
        }
      ]
    },
    {
      "cell_type": "code",
      "metadata": {
        "colab": {
          "base_uri": "https://localhost:8080/"
        },
        "id": "b-Ju2Pac5SP4",
        "outputId": "789ea927-b4b7-4048-c41f-e00a136d002e"
      },
      "source": [
        "prueba_independencia(df['PaymentMethod'], df['gender'], alfa=0.05)"
      ],
      "execution_count": 26,
      "outputs": [
        {
          "output_type": "stream",
          "text": [
            "El estadístico de la prueba NO está en la región de rechazo\n",
            "\n",
            "Test Chi-squared  estadístico = 2.449\n",
            "Valor crítico P-value para 0.05 de significancia is 7.815.\n"
          ],
          "name": "stdout"
        }
      ]
    },
    {
      "cell_type": "markdown",
      "metadata": {
        "id": "okZLu5WI7RwS"
      },
      "source": [
        "# Prueba de Kolmogorv Smirnov para variables continuas"
      ]
    },
    {
      "cell_type": "markdown",
      "metadata": {
        "id": "BHwO3AXBMTTW"
      },
      "source": [
        "datos originales disponibles en [kaggle](https://www.kaggle.com/mczielinski/bitcoin-historical-data)"
      ]
    },
    {
      "cell_type": "code",
      "metadata": {
        "id": "cm1RBnFD8VwO"
      },
      "source": [
        "#import datetime\n",
        "#def dateparse (time_in_secs):    \n",
        "#    return datetime.datetime.fromtimestamp(float(time_in_secs))\n",
        "\n",
        "#bitcoin = pd.read_csv('/content/bitstampUSD_1-min_data_2012-01-01_to_2021-03-31.csv',\n",
        "#                      parse_dates=True, date_parser=dateparse, \n",
        "#                      usecols=['Timestamp','Close'], index_col='Timestamp',\n",
        "#                      ).dropna()\n",
        "#precio = bitcoin.resample('D', on ='Timestamp').Close.mean()\n",
        "#precio.to_csv('bitcoin_precio_diario.csv')"
      ],
      "execution_count": 27,
      "outputs": []
    },
    {
      "cell_type": "code",
      "metadata": {
        "id": "4eUolhiLFegq"
      },
      "source": [
        "precio = pd.read_csv('https://raw.githubusercontent.com/AnIsAsPe/Estadistica_y_Probabilidad_para-CD-/main/Semana5/bitcoin_precio_diario.csv',\n",
        "                      parse_dates=['Timestamp'], index_col='Timestamp',\n",
        "                     )"
      ],
      "execution_count": 28,
      "outputs": []
    },
    {
      "cell_type": "code",
      "metadata": {
        "colab": {
          "base_uri": "https://localhost:8080/",
          "height": 312
        },
        "id": "euIVF62xGI_2",
        "outputId": "4e2f560c-b25d-438a-f762-57bc0feda0b1"
      },
      "source": [
        "precio.plot(figsize=(10,4), title='Precios Bitcoin', ylabel = 'Precio',)"
      ],
      "execution_count": 29,
      "outputs": [
        {
          "output_type": "execute_result",
          "data": {
            "text/plain": [
              "<matplotlib.axes._subplots.AxesSubplot at 0x7fc75f78c690>"
            ]
          },
          "metadata": {
            "tags": []
          },
          "execution_count": 29
        },
        {
          "output_type": "display_data",
          "data": {
            "image/png": "[encoded data removed]",
            "text/plain": [
              "<Figure size 720x288 with 1 Axes>"
            ]
          },
          "metadata": {
            "tags": [],
            "needs_background": "light"
          }
        }
      ]
    },
    {
      "cell_type": "code",
      "metadata": {
        "colab": {
          "base_uri": "https://localhost:8080/",
          "height": 302
        },
        "id": "pnf4LBFTGZDO",
        "outputId": "344d30ba-9c40-46f8-a345-71bde1bbf986"
      },
      "source": [
        "retorno = np.log(precio).diff().dropna()\n",
        "retorno.plot(figsize=(10,4), title='Retornos Bitcoin', ylabel = 'Retorno')"
      ],
      "execution_count": 30,
      "outputs": [
        {
          "output_type": "execute_result",
          "data": {
            "text/plain": [
              "<matplotlib.axes._subplots.AxesSubplot at 0x7fc75f62ec50>"
            ]
          },
          "metadata": {
            "tags": []
          },
          "execution_count": 30
        },
        {
          "output_type": "display_data",
          "data": {
            "image/png": "[encoded data removed]",
            "text/plain": [
              "<Figure size 720x288 with 1 Axes>"
            ]
          },
          "metadata": {
            "tags": [],
            "needs_background": "light"
          }
        }
      ]
    },
    {
      "cell_type": "code",
      "metadata": {
        "colab": {
          "base_uri": "https://localhost:8080/",
          "height": 374
        },
        "id": "Tx4m3liBGxtG",
        "outputId": "f56aa147-f906-4710-fc08-e914346dce6f"
      },
      "source": [
        "plt.rc(\"figure\", figsize=(6,6))\n",
        "retorno.plot.hist(bins=60)\n",
        "plt.show()"
      ],
      "execution_count": 31,
      "outputs": [
        {
          "output_type": "display_data",
          "data": {
            "image/png": "[encoded data removed]",
            "text/plain": [
              "<Figure size 432x432 with 1 Axes>"
            ]
          },
          "metadata": {
            "tags": [],
            "needs_background": "light"
          }
        }
      ]
    },
    {
      "cell_type": "code",
      "metadata": {
        "colab": {
          "base_uri": "https://localhost:8080/"
        },
        "id": "TmWnlY51HNrA",
        "outputId": "fcc7c306-3e6f-4cbc-f233-78a9f093ba71"
      },
      "source": [
        "stats.kstest(retorno, 'laplace')  #https://docs.scipy.org/doc/scipy/reference/generated/scipy.stats.kstest.html"
      ],
      "execution_count": 32,
      "outputs": [
        {
          "output_type": "execute_result",
          "data": {
            "text/plain": [
              "KstestResult(statistic=0.6989733921958525, pvalue=0.0)"
            ]
          },
          "metadata": {
            "tags": []
          },
          "execution_count": 32
        }
      ]
    },
    {
      "cell_type": "code",
      "metadata": {
        "colab": {
          "base_uri": "https://localhost:8080/"
        },
        "id": "xvVareRbNyKj",
        "outputId": "a162c021-2cf0-4cfc-a6cf-ff3ed1a43849"
      },
      "source": [
        "stats.kstest(retorno, 'norm')"
      ],
      "execution_count": 33,
      "outputs": [
        {
          "output_type": "execute_result",
          "data": {
            "text/plain": [
              "KstestResult(statistic=0.6940662181146309, pvalue=0.0)"
            ]
          },
          "metadata": {
            "tags": []
          },
          "execution_count": 33
        }
      ]
    },
    {
      "cell_type": "markdown",
      "metadata": {
        "id": "dUEwqNqsJLNv"
      },
      "source": [
        "Se rechaza la ho"
      ]
    }
  ]
}